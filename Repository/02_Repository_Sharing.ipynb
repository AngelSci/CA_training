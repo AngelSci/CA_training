{
 "cells": [
  {
   "cell_type": "markdown",
   "metadata": {},
   "source": [
    "<img src='../img/anaconda-logo.png' align='left' style=\"padding:10px\">\n",
    "<br>\n",
    "*Copyright Continuum 2012-2016 All Rights Reserved.*"
   ]
  },
  {
   "cell_type": "markdown",
   "metadata": {},
   "source": [
    "# Anaconda Repository: Sharing"
   ]
  },
  {
   "cell_type": "markdown",
   "metadata": {},
   "source": [
    "Anaconda Repository makes it easy to share notebooks, environments, conda packages, and even data files."
   ]
  },
  {
   "cell_type": "markdown",
   "metadata": {},
   "source": [
    "## Table of Contents\n",
    "* [Anaconda Repository: Sharing](#Anaconda-Repository:-Sharing)\n",
    "* [Sharing Data Science Assets](#Sharing-Data-Science-Assets)\n",
    "* [Configuration and Login](#Configuration-and-Login)\n",
    "* [Sharing Notebooks](#Sharing-Notebooks)\n",
    "\t* [Uploading a File](#Uploading-a-File)\n",
    "\t* [Viewing a File](#Viewing-a-File)\n",
    "\t* [Downloading a File](#Downloading-a-File)\n",
    "\t* [Removing a File](#Removing-a-File)\n",
    "* [Sharing Data Files](#Sharing-Data-Files)\n",
    "* [Sharing Environments](#Sharing-Environments)\n",
    "* [Sharing Packages](#Sharing-Packages)\n",
    "\t* [Search for a public package](#Search-for-a-public-package)\n",
    "\t* [Exercise: Search for the public package `numba`](#Exercise:-Search-for-the-public-package-numba)\n",
    "\t* [Exercise: Refine your search results](#Exercise:-Refine-your-search-results)\n",
    "\t* [Exercise: Search for a package on Anaconda Repository](#Exercise:-Search-for-a-package-on-Anaconda-Repository)\n",
    "\t* [Exercise: Specify a channel to download and install a package from Anaconda Repository](#Exercise:-Specify-a-channel-to-download-and-install-a-package-from-Anaconda-Repository)\n",
    "\t* [Exercise: Add channel to search path and install a package from Anaconda Repository](#Exercise:-Add-channel-to-search-path-and-install-a-package-from-Anaconda-Repository)\n"
   ]
  },
  {
   "cell_type": "markdown",
   "metadata": {},
   "source": [
    "# Sharing Data Science Assets"
   ]
  },
  {
   "cell_type": "markdown",
   "metadata": {},
   "source": [
    "In addition to uploading conda packages, you can also upload other types of files to Anaconda Repository. For example:\n",
    "\n",
    "* jupyter notebooks\n",
    "* data files\n",
    "* conda environment files\n",
    "* conda packages\n",
    "\n",
    "*Note: Anaconda Repository refers to portions of the file namespaces as \"packages\", so both a conda package and a data file could be contained within something called a  \"package\", which looks like a directory, used to access the file on Anaconda Repository*"
   ]
  },
  {
   "cell_type": "markdown",
   "metadata": {},
   "source": [
    "# Configuration and Login"
   ]
  },
  {
   "cell_type": "markdown",
   "metadata": {},
   "source": [
    "Before sharing files, it's good to check your configuration and login.\n",
    "\n",
    "To check your default configuration:\n",
    "\n",
    "```\n",
    "anaconda config --show\n",
    "```"
   ]
  },
  {
   "cell_type": "markdown",
   "metadata": {},
   "source": [
    "To login to Anaconda Repository:\n",
    "\n",
    "```\n",
    "anaconda login\n",
    "```"
   ]
  },
  {
   "cell_type": "markdown",
   "metadata": {},
   "source": [
    "If you are already logged in, you will get a warning message."
   ]
  },
  {
   "cell_type": "markdown",
   "metadata": {},
   "source": [
    "# Sharing Notebooks"
   ]
  },
  {
   "cell_type": "markdown",
   "metadata": {},
   "source": [
    "The demonstration in the first lesson uploaded a notebook, but let's take a closer look at the process, and then see additional examples."
   ]
  },
  {
   "cell_type": "markdown",
   "metadata": {},
   "source": [
    "## Uploading a File"
   ]
  },
  {
   "cell_type": "markdown",
   "metadata": {},
   "source": [
    "To upload a local file, you must specify it's local file path:\n",
    "\n",
    "```bash\n",
    "anaconda upload data/my_notebook.ipynb\n",
    "```"
   ]
  },
  {
   "cell_type": "markdown",
   "metadata": {},
   "source": [
    "## Viewing a File"
   ]
  },
  {
   "cell_type": "markdown",
   "metadata": {},
   "source": [
    "An HTML version of the notebook will be viewable at a web address of the following form:\n",
    "\n",
    "```\n",
    "http://<HOSTNAME>/<USERNAME>/my_notebook\n",
    "```"
   ]
  },
  {
   "cell_type": "markdown",
   "metadata": {},
   "source": [
    "Use a web browser to navigate to the file URL on the Anaconda Repository host for this specific example:\n",
    "\n",
    "```\n",
    "http://ec2-107-23-5-12.compute-1.amazonaws.com/juser/my_notebook\n",
    "```"
   ]
  },
  {
   "cell_type": "markdown",
   "metadata": {},
   "source": [
    "## Downloading a File"
   ]
  },
  {
   "cell_type": "markdown",
   "metadata": {},
   "source": [
    "To download a file with the anaconda client, you must specify the \"file path\" or \"namespace\" where it is stored on the Anaconda Repository. \n",
    "\n",
    "In general, anyone will be able to download the file with a command of the form:\n",
    "\n",
    "```bash\n",
    "anaconda download <USERNAME>/my_notebook\n",
    "```"
   ]
  },
  {
   "cell_type": "markdown",
   "metadata": {},
   "source": [
    "In this specific case, it is simply the username of the person that uploaded the file:\n",
    "\n",
    "```bash\n",
    "anaconda download juser/my_notebook\n",
    "```"
   ]
  },
  {
   "cell_type": "markdown",
   "metadata": {},
   "source": [
    "## Removing a File"
   ]
  },
  {
   "cell_type": "markdown",
   "metadata": {},
   "source": [
    "To remove a file from Anaconda Repository, use the `remove` command and specify the file's location on Anaconda Repository:\n",
    "\n",
    "```bash\n",
    "anaconda remove juser/my_notebook\n",
    "```"
   ]
  },
  {
   "cell_type": "markdown",
   "metadata": {},
   "source": [
    "Confirm that you indeed want to remove the file from Anaconda Repository:\n",
    "\n",
    "```\n",
    "Using Anaconda Cloud api site http://ec2-107-23-5-12.compute-1.amazonaws.com:8080/api\n",
    "Are you sure you want to remove the package juser/my_notebook ? (and all data with it?) [y|N]: y\n",
    "```"
   ]
  },
  {
   "cell_type": "markdown",
   "metadata": {},
   "source": [
    "# Sharing Data Files"
   ]
  },
  {
   "cell_type": "markdown",
   "metadata": {},
   "source": [
    "In the example above, the Anaconda client automatically created a \"namespace\" that matched part of the file name of the notebook uploaded. With other files, the namespace may be different.\n",
    "\n",
    "In this example we will upload a data file named `data/iris_data.csv`, which is simply a spreadsheet stored as text in comma separated value (CSV) format. \n",
    "\n",
    "Any type of file can be uploaded with the Anaconda client, however when uploading anything other than a notebook or conda package, we will have to create a namespace directory to store the file on Anaconda Repository.\n",
    "\n",
    "1. Use the `anaconda-client` command line interface to create a new namespace called ``project_data` to hold your file on Anaconda Repository:\n",
    "\n",
    "```bash\n",
    "anaconda login\n",
    "anaconda package --create <USERNAME>/project_data\n",
    "```"
   ]
  },
  {
   "cell_type": "markdown",
   "metadata": {},
   "source": [
    "2. Now you can upload the file to your new \"namespace\". Unlike uploading packages or notebooks, there is no auto-detect for other types of files. You must explicitly specify the ‘package’, 'package-type' and 'version' fields.\n",
    "\n",
    "In this example the package namespace is `project_data`, the package type is a file, this is the first version that we are uploading, and the full filename is `iris_data.csv`:\n",
    "\n",
    "```bash\n",
    "anaconda upload --package project_data --package-type file --version 1 iris_data.csv\n",
    "```"
   ]
  },
  {
   "cell_type": "markdown",
   "metadata": {},
   "source": [
    "Your file is available at\n",
    "\n",
    "``https://<HOSTNAME>/<USERNAME>/project_data``\n",
    "\n",
    "Your file can also be downloaded by anyone using the Anaconda CLI:\n",
    "\n",
    "```bash\n",
    "anaconda download <USERNAME>/project_data\n",
    "```"
   ]
  },
  {
   "cell_type": "markdown",
   "metadata": {},
   "source": [
    "# Sharing Environments"
   ]
  },
  {
   "cell_type": "markdown",
   "metadata": {},
   "source": [
    "In this example, we wish to share a conda environment. First we have to create an environment to share:\n",
    "\n",
    "```bash\n",
    "conda create -n py34 python=3.4\n",
    "```"
   ]
  },
  {
   "cell_type": "markdown",
   "metadata": {},
   "source": [
    "Now we'll use `conda export` to save a conda environment to a file, and then `anaconda upload` to upload it to Anaconda Repository:\n",
    "\n",
    "```bash\n",
    "conda env export -n py34 -f environment_py34.yml\n",
    "anaconda upload -p py34 environment_py34.yml\n",
    "```"
   ]
  },
  {
   "cell_type": "markdown",
   "metadata": {},
   "source": [
    "Notice here that the \"namespace\" name, specified with `-p` is also referred to as a \"package\", and it must match the environment name listed inside the environment file.\n",
    "\n",
    "Your uploaded environment is available at:\n",
    "\n",
    "```\n",
    "http://<HOSTNAME>/<USERNAME>/py34/\n",
    "```"
   ]
  },
  {
   "cell_type": "markdown",
   "metadata": {},
   "source": [
    "Notice that the URL matches the name of the environment, not the name of the file.\n",
    "\n",
    "Anyone can download your environment file from Anaconda Repository:\n",
    "\n",
    "```bash\n",
    "anaconda download <USERNAME>/py34/environment_py34.yml\n",
    "```"
   ]
  },
  {
   "cell_type": "markdown",
   "metadata": {},
   "source": [
    "They can then recreate your environment using conda and the downloaded environment file:\n",
    "\n",
    "```bash\n",
    "conda env create -f environment_py34.yml\n",
    "```"
   ]
  },
  {
   "cell_type": "markdown",
   "metadata": {},
   "source": [
    "*Note: use `conda env create` when creating from an environment file, but just use `conda create` when not using and environment file.*\n",
    "\n",
    "Finally, to use that environment, it must be activated:\n",
    "\n",
    "```bash\n",
    "# Linux, macOS\n",
    "source activate py34\n",
    "```"
   ]
  },
  {
   "cell_type": "markdown",
   "metadata": {},
   "source": [
    "```bash\n",
    "# Windows\n",
    "activate py34\n",
    "```"
   ]
  },
  {
   "cell_type": "markdown",
   "metadata": {},
   "source": [
    "# Sharing Packages"
   ]
  },
  {
   "cell_type": "markdown",
   "metadata": {},
   "source": [
    "[Anaconda Cloud](http://www.anaconda.org) serves as a useful demonstration platform for Anaconda Repository.\n",
    "\n",
    "Also, before you share a package, it's a good idea to search to check whether someone else has already shared the same package."
   ]
  },
  {
   "cell_type": "markdown",
   "metadata": {},
   "source": [
    "## Search for a public package"
   ]
  },
  {
   "cell_type": "markdown",
   "metadata": {},
   "source": [
    "* [Anaconda Cloud](http://www.anaconda.org) is a public instance of Anaconda Repository that hosts hundreds of useful\n",
    "Python packages for a wide variety of applications. \n",
    "\n",
    "* You do **not** need an Anaconda Cloud account, or to be logged in, to search for public packages, download and install them. \n",
    "\n",
    "* You do need an account to access [private packages](user/using.md#PrivatePackages) without a [token](user/using.md#Tokens), or to build and share your packages with others."
   ]
  },
  {
   "cell_type": "markdown",
   "metadata": {},
   "source": [
    "## Exercise: Search for the public package `numba`"
   ]
  },
  {
   "cell_type": "markdown",
   "metadata": {},
   "source": [
    "* Use a web browser to navigate to the site [Anaconda Cloud](http://www.anaconda.org).\n",
    "\n",
    "* In the top search box, type part or all of the name of a program, and hit <return> or <enter> to initiate the search. Packages that match your search string are displayed. \n",
    "\n",
    "* Click the package name to see more information.\n",
    "\n",
    "* As a specific exercise, try finding details on the package `numba`."
   ]
  },
  {
   "cell_type": "markdown",
   "metadata": {},
   "source": [
    "## Exercise: Refine your search results"
   ]
  },
  {
   "cell_type": "markdown",
   "metadata": {},
   "source": [
    "You can filter search results using three filter controls:\n",
    "\n",
    "-  All packages, conda only or PyPI only\n",
    "-  All types, Public and/or Private (only available if you are logged in)\n",
    "-  Platforms: All, Source, Linux-32, Linux-64, Noarch, OSX-64, Win-32, Win-64.\n",
    "\n",
    "\"Source\" packages are source code only, not yet built for any specific platform.\n",
    "\n",
    "\"Noarch\" packages are built to work on all platforms."
   ]
  },
  {
   "cell_type": "markdown",
   "metadata": {},
   "source": [
    "## Exercise: Search for a package on Anaconda Repository"
   ]
  },
  {
   "cell_type": "markdown",
   "metadata": {},
   "source": [
    "Use a web browser to sign in to the Anaconda Repository:\n",
    "\n",
    "```\n",
    "http://ec2-107-23-5-12.compute-1.amazonaws.com\n",
    "```"
   ]
  },
  {
   "cell_type": "markdown",
   "metadata": {},
   "source": [
    "Search for a package indicated by the instructor.\n",
    "\n",
    "After you have located a package and clicked on the name, the detail\n",
    "page displays specific install instructions for the current operating\n",
    "system. Copy and paste the full command into your terminal window."
   ]
  },
  {
   "cell_type": "markdown",
   "metadata": {},
   "source": [
    "## Exercise: Specify a channel to download and install a package from Anaconda Repository"
   ]
  },
  {
   "cell_type": "markdown",
   "metadata": {},
   "source": [
    "Download and install a package from a user account on Anaconda Repository using conda:\n",
    "\n",
    "```bash\n",
    "conda install -c <USERNAME> <PACKAGE>\n",
    "```"
   ]
  },
  {
   "cell_type": "markdown",
   "metadata": {},
   "source": [
    "Download and install a package from an organization account on Anaconda Repository using conda:\n",
    "\n",
    "```bash\n",
    "conda install -c <ORGANIZATION> <PACKAGE>\n",
    "```"
   ]
  },
  {
   "cell_type": "markdown",
   "metadata": {},
   "source": [
    "## Exercise: Add channel to search path and install a package from Anaconda Repository"
   ]
  },
  {
   "cell_type": "markdown",
   "metadata": {},
   "source": [
    "Conda knows how to interact with Anaconda Repository. Specifying the channel ``sharedpackages`` translates to `https://<HOSTNAME>/sharedpackages`:\n",
    "\n",
    "```bash\n",
    "conda config --add channels sharedpackages\n",
    "```"
   ]
  },
  {
   "cell_type": "markdown",
   "metadata": {},
   "source": [
    "Now you can install conda packages from \"sharepackages\", which happens to be an organization that was created on the instance of Anaconda Repository we are using for training.\n",
    "\n",
    "Now, try installing a package from \"sharedpackages\" as specified by the trainer:\n",
    "\n",
    "```bash\n",
    "conda install <PACKAGE-NAME>\n",
    "```"
   ]
  },
  {
   "cell_type": "markdown",
   "metadata": {},
   "source": [
    "---\n",
    "*Copyright Continuum 2012-2016 All Rights Reserved.*"
   ]
  }
 ],
 "metadata": {
  "anaconda-cloud": {},
  "kernelspec": {
   "display_name": "Python [conda root]",
   "language": "python",
   "name": "conda-root-py"
  },
  "language_info": {
   "codemirror_mode": {
    "name": "ipython",
    "version": 3
   },
   "file_extension": ".py",
   "mimetype": "text/x-python",
   "name": "python",
   "nbconvert_exporter": "python",
   "pygments_lexer": "ipython3",
   "version": "3.5.2"
  }
 },
 "nbformat": 4,
 "nbformat_minor": 0
}
