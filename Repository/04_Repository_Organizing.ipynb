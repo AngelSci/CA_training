{
 "cells": [
  {
   "cell_type": "markdown",
   "metadata": {},
   "source": [
    "<img src='../img/anaconda-logo.png' align='left' style=\"padding:10px\">\n",
    "<br>\n",
    "*Copyright Continuum 2012-2016 All Rights Reserved.*"
   ]
  },
  {
   "cell_type": "markdown",
   "metadata": {},
   "source": [
    "# Anaconda Repository: Organizing"
   ]
  },
  {
   "cell_type": "markdown",
   "metadata": {},
   "source": [
    "Anaconda repository provides many ways to organize and control access to your files.\n",
    "\n",
    "* File Labels\n",
    "* File Tokens\n",
    "* Organizations\n",
    "* Groups"
   ]
  },
  {
   "cell_type": "markdown",
   "metadata": {},
   "source": [
    "## Table of Contents\n",
    "* [Anaconda Repository: Organizing](#Anaconda-Repository:-Organizing)\n",
    "* [Labels](#Labels)\n",
    "\t* [Organizing Files with Labels](#Organizing-Files-with-Labels)\n",
    "\t* [Example: Using Labels in a Development Cycle](#Example:-Using-Labels-in-a-Development-Cycle)\n",
    "* [Access Control](#Access-Control)\n",
    "\t* [Private packages](#Private-packages)\n",
    "\t* [Package privacy settings](#Package-privacy-settings)\n",
    "\t* [Tokens](#Tokens)\n",
    "\t* [Generating tokens](#Generating-tokens)\n",
    "* [Organizations](#Organizations)\n",
    "\t* [What is an Organization?](#What-is-an-Organization?)\n",
    "\t* [Create organization](#Create-organization)\n",
    "\t* [Managing organizations](#Managing-organizations)\n",
    "\t* [Adding another owner to your organization](#Adding-another-owner-to-your-organization)\n",
    "\t* [Uploading packages to an organization](#Uploading-packages-to-an-organization)\n",
    "\t* [Delete an organization](#Delete-an-organization)\n",
    "* [Organization Access Control](#Organization-Access-Control)\n",
    "\t* [Customizable groups for differing access levels](#Customizable-groups-for-differing-access-levels)\n",
    "\t* [Customize per-package access by group](#Customize-per-package-access-by-group)\n",
    "\t* [Add a collaborator to a package](#Add-a-collaborator-to-a-package)\n",
    "\t* [Remove a collaborator from a package](#Remove-a-collaborator-from-a-package)\n",
    "\t* [Transfer a package to a new owner](#Transfer-a-package-to-a-new-owner)\n"
   ]
  },
  {
   "cell_type": "markdown",
   "metadata": {},
   "source": [
    "# Labels"
   ]
  },
  {
   "cell_type": "markdown",
   "metadata": {},
   "source": [
    "## Organizing Files with Labels"
   ]
  },
  {
   "cell_type": "markdown",
   "metadata": {},
   "source": [
    "* Labels can be used to facilitate a development cycle and organize the code that is in development, in testing, and in production.\n",
    "\n",
    "* Anaconda Repository labels allow you to upload files to your packages and control how they are accessed.\n",
    "\n",
    "* With Anaconda Repository labels you can upload a file to a specific label, so only users who put that label in the URL they search will be able to install it. \n",
    "\n",
    "* This is particularly useful for moving a package through a\n",
    "development and testing flow."
   ]
  },
  {
   "cell_type": "markdown",
   "metadata": {},
   "source": [
    "## Example: Using Labels in a Development Cycle"
   ]
  },
  {
   "cell_type": "markdown",
   "metadata": {},
   "source": [
    "In this example we will show you how to use a ``test`` label, so that you can upload files without affecting your production quality packages. \n",
    "\n",
    "Without a ``--label`` argument the default label is ``main``.\n",
    "\n",
    "Let's start with a conda package. \n",
    "\n",
    "If you don't have one, use our example conda package. Before you build the package edit the version in the ``meta.yaml`` file in ``anaconda-client/example-packages/conda/`` to be 2.0.\n",
    "\n",
    "First, get the source code that will serve as the ingredients poured into our recipe for building the package:\n",
    "\n",
    "```bash\n",
    "git clone https://github.com/Anaconda-Server/anaconda-client\n",
    "cd anaconda-client/example-packages/conda/\n",
    "```"
   ]
  },
  {
   "cell_type": "markdown",
   "metadata": {},
   "source": [
    "Use a text editor to modify the \"recipe\":\n",
    "\n",
    "```bash\n",
    "vim meta.yaml # Bump version to 2.0\n",
    "```"
   ]
  },
  {
   "cell_type": "markdown",
   "metadata": {},
   "source": [
    "Now build the package, but preface the build with a configuration step to prevent any automated upload -- we want to label the package before it is stored into our repository:\n",
    "\n",
    "```\n",
    "conda config --set anaconda_upload no\n",
    "conda build .\n",
    "```"
   ]
  },
  {
   "cell_type": "markdown",
   "metadata": {},
   "source": [
    "Now, we will upload the test package to Anaconda Repository using the `anaconda-client upload` command, but with a label.\n",
    "\n",
    "Adding the ``--label`` option tells Anaconda Repository to make the upload visible only to users who specify that label.\n",
    "\n",
    "```bash\n",
    "anaconda upload /path/to/conda-package-2.0.tar.bz2 --label test\n",
    "```"
   ]
  },
  {
   "cell_type": "markdown",
   "metadata": {},
   "source": [
    "You will notice now that even when you search conda ``main``, you won't see the ``2.0`` version of the test package. This is because you have to tell conda to look for your new ``test`` label.\n",
    "\n",
    "The ``--override`` argument tells conda not to use any channels in your ``~/.condarc`` file.\n",
    "\n",
    "No 2.0 results:\n",
    "\n",
    "```bash\n",
    "conda search --override -c <USERNAME> conda-package\n",
    "```"
   ]
  },
  {
   "cell_type": "markdown",
   "metadata": {},
   "source": [
    "Your 2.0 package is here:\n",
    "\n",
    "```bash\n",
    "conda search --override -c <USERNAME>/label/test conda-package\n",
    "```"
   ]
  },
  {
   "cell_type": "markdown",
   "metadata": {},
   "source": [
    "You can give the label ``<USERNAME>/label/test`` to your testers. Once they finish testing, you may then want to copy the ``test`` packages back to your ``main`` label.\n",
    "\n",
    "You can also manage your package labels from your dashboard: ``https://<HOSTNAME>/<USERNAME>/conda-package``\n",
    "\n",
    "```bash\n",
    "anaconda label --copy test main\n",
    "```"
   ]
  },
  {
   "cell_type": "markdown",
   "metadata": {},
   "source": [
    "Now your version 2.0 is in main:\n",
    "\n",
    "```bash\n",
    "conda search --override -c <USERNAME> conda-package\n",
    "```"
   ]
  },
  {
   "cell_type": "markdown",
   "metadata": {},
   "source": [
    "# Access Control"
   ]
  },
  {
   "cell_type": "markdown",
   "metadata": {},
   "source": [
    "You can limit file access within Anaconda Repository."
   ]
  },
  {
   "cell_type": "markdown",
   "metadata": {},
   "source": [
    "## Private packages"
   ]
  },
  {
   "cell_type": "markdown",
   "metadata": {},
   "source": [
    "Packages may be private. This means that a user must explicitly have access to view the package. To view and install private packages, you must identify yourself to Anaconda Repository. This is done with [access tokens](user/using.html#Tokens) Once you have generated a token\n",
    "(``<TOKEN>``), you may prefix any repository url with ``/t/<TOKEN>``\n",
    "\n",
    "Note: This is just an example. You will not see any extra private packages in the travis **user namespace**.\n",
    "\n",
    "-  To install **private conda** packages from the user travis, use the repository url `https://\\ **conda**.anaconda.org/t/<TOKEN>/travis`\n",
    "-  To install **private pypi** packages from the user travis, use the repository url\n",
    "   `https://\\ **pypi**.anaconda.org/t/<TOKEN>/travis`"
   ]
  },
  {
   "cell_type": "markdown",
   "metadata": {},
   "source": [
    "## Package privacy settings"
   ]
  },
  {
   "cell_type": "markdown",
   "metadata": {},
   "source": [
    "You will be prompted with two options:\n",
    "\n",
    "1. **Personal**: The new package will be hosted on your personal repository. This package will be viewable and installable by anonymous users. Users must add your unique repository url to their package manager's configuration.\n",
    "2. **Private**: The new package will be hosted on your personal repository; however, you control the list of authorized users that will be able to access or modify this package."
   ]
  },
  {
   "cell_type": "markdown",
   "metadata": {},
   "source": [
    "## Tokens"
   ]
  },
  {
   "cell_type": "markdown",
   "metadata": {},
   "source": [
    "You can use tokens to control access to private repositories, collections, or packages on Anaconda Repository. \n",
    "\n",
    "Additionally, the degree of access a token grants is completely configurable at the time of generation."
   ]
  },
  {
   "cell_type": "markdown",
   "metadata": {},
   "source": [
    "## Generating tokens"
   ]
  },
  {
   "cell_type": "markdown",
   "metadata": {},
   "source": [
    "Tokens are generated with the Anaconda client:\n",
    "\n",
    "```\n",
    "      anaconda auth --create --name YOUR-TOKEN-NAME --scopes 'repos conda:download'\n",
    "```"
   ]
  },
  {
   "cell_type": "markdown",
   "metadata": {},
   "source": [
    "This generates a random alphanumeric token string, which you can then distribute to fellow Anaconda Repository users to enable them to download a package that you have marked private. The token produced in this example provides access to download any of your private conda repositories. It can be enabled with the ``conda config`` command:\n",
    "\n",
    "```\n",
    "      conda config --add channels https://conda.anaconda.org/t/TOKEN/USERNAME\n",
    "```"
   ]
  },
  {
   "cell_type": "markdown",
   "metadata": {},
   "source": [
    "# Organizations"
   ]
  },
  {
   "cell_type": "markdown",
   "metadata": {},
   "source": [
    "## What is an Organization?"
   ]
  },
  {
   "cell_type": "markdown",
   "metadata": {},
   "source": [
    "Within Anaconda Repository, an \"Organization\" allow you to:\n",
    "\n",
    "-  Share packages, environments or notebooks under an organization's account rather than your personal account\n",
    "-  Assign multiple account administrators\n",
    "-  Assign different access permissions to groups of users and customize per-package access by group"
   ]
  },
  {
   "cell_type": "markdown",
   "metadata": {},
   "source": [
    "## Create organization"
   ]
  },
  {
   "cell_type": "markdown",
   "metadata": {},
   "source": [
    "To create an organization:\n",
    "\n",
    "-  Sign in to Anaconda Repository.\n",
    "-  Click the User Settings (gear) icon in the User Toolbar.\n",
    "-  Select the Organizations option. The system displays Organizations\n",
    "   settings.\n",
    "-  Click the Create a new organization button. The system displays the\n",
    "   Create a New Organization screen.\n",
    "-  Supply an organization name. \n",
    "    -  *NOTE: Organization names cannot include spaces or special characters.*\n",
    "-  Supply an email address\n",
    "-  Click the Create Organization button.\n",
    "\n",
    "The system displays the dashboard for the new organization.\n",
    "\n",
    "As the creator, you are also owner of an organization -- you have automatic administrative access to this organization and any packages associated with the organization.\n",
    "\n",
    "The Organization Settings screen shows a list of all organizations to\n",
    "which you belong.\n",
    "\n",
    "*NOTE: The Organization Settings screen only lists organizations for\n",
    "which you are an administrator, and will not display organizations for\n",
    "which you are a user but not an administrator.*"
   ]
  },
  {
   "cell_type": "markdown",
   "metadata": {},
   "source": [
    "## Managing organizations"
   ]
  },
  {
   "cell_type": "markdown",
   "metadata": {},
   "source": [
    "You can view your organizations by navigating to your organizations\n",
    "dashboard:\n",
    "\n",
    "```\n",
    "https://<HOSTNAME>/<ORGANIZATION>\n",
    "```"
   ]
  },
  {
   "cell_type": "markdown",
   "metadata": {},
   "source": [
    "Or by navigating to the `https://<HOSTNAME>` of your Anaconda Repository and selecting the organization dropdown on the upper right.\n",
    "\n",
    "You can manage your organization's settings by navigating to:\n",
    "\n",
    "```\n",
    "https://<HOSTNAME>/<ORGANIZATION>/settings/profile\n",
    "```"
   ]
  },
  {
   "cell_type": "markdown",
   "metadata": {},
   "source": [
    "Or by navigating to `https://<HOSTNAME>/settings` and selecting the organization dropdown on the upper right."
   ]
  },
  {
   "cell_type": "markdown",
   "metadata": {},
   "source": [
    "## Adding another owner to your organization"
   ]
  },
  {
   "cell_type": "markdown",
   "metadata": {},
   "source": [
    "All organization owners have full access to the organization settings and all packages.\n",
    "\n",
    "To give other users ownership, navigate to the groups settings page, choose \"owners\", type their names into the text box, and choose \"add\":\n",
    "\n",
    "```\n",
    "https://<HOSTNAME>/<ORGANIZATION>/groups\n",
    "```"
   ]
  },
  {
   "cell_type": "markdown",
   "metadata": {},
   "source": [
    "<img src='img/groups.png'>"
   ]
  },
  {
   "cell_type": "markdown",
   "metadata": {},
   "source": [
    "## Uploading packages to an organization"
   ]
  },
  {
   "cell_type": "markdown",
   "metadata": {},
   "source": [
    "To upload a package to an organization, use the `-u` (or `--user`) option and specify the organization name instead of a user:\n",
    "\n",
    "```bash\n",
    "anaconda upload --user <ORGANIZATION> package.tar.bz2\n",
    "```"
   ]
  },
  {
   "cell_type": "markdown",
   "metadata": {},
   "source": [
    "## Delete an organization"
   ]
  },
  {
   "cell_type": "markdown",
   "metadata": {},
   "source": [
    "To delete an organization you administer and erase all data associated\n",
    "with it:\n",
    "\n",
    "-  Select User Settings in the toolbar.\n",
    "-  Click the Account option. The system displays the Account Settings\n",
    "   screen.\n",
    "-  Select the appropriate organization from the dropdown menu on the\n",
    "   right.\n",
    "-  Under the Delete Account? section, click the Delete button. The\n",
    "   system displays a confirmation screen."
   ]
  },
  {
   "cell_type": "markdown",
   "metadata": {},
   "source": [
    "# Organization Access Control"
   ]
  },
  {
   "cell_type": "markdown",
   "metadata": {},
   "source": [
    "Administrators may add, remove or edit group and user access. To access\n",
    "these features, choose User Settings from the toolbar, then click the\n",
    "Groups option. The system displays the Groups Settings:\n",
    "\n",
    "You can also navigate directly to the settings for an organization you\n",
    "manage from the drop-down menu on the right.\n",
    "\n",
    "After switching from your user view to an organization view, you can\n",
    "review and edit the current group and user access for an organization,\n",
    "as well as add new groups and users. :\n",
    "\n",
    "```\n",
    "https://<HOSTNAME>/<ORGANIZATION>/groups/\n",
    "```"
   ]
  },
  {
   "cell_type": "markdown",
   "metadata": {},
   "source": [
    "Users will receive a dashboard notification when you add them to an\n",
    "organization."
   ]
  },
  {
   "cell_type": "markdown",
   "metadata": {},
   "source": [
    "## Customizable groups for differing access levels"
   ]
  },
  {
   "cell_type": "markdown",
   "metadata": {},
   "source": [
    "Within an organization, you can create a group to customize access for a group of users:\n",
    "\n",
    "-  From your dashboard, choose the User Settings (gear icon) from the\n",
    "   toolbar.\n",
    "-  Select the Organizations option.\n",
    "-  Select the Settings link next to the organization's name.\n",
    "-  Select the Groups option.\n",
    "-  Click the +New Group button. Give the group a name, and assign the\n",
    "   desired permissions (Read-Only, Read-Write, or Administration).\n",
    "-  Click the Save Group button."
   ]
  },
  {
   "cell_type": "markdown",
   "metadata": {},
   "source": [
    "## Customize per-package access by group"
   ]
  },
  {
   "cell_type": "markdown",
   "metadata": {},
   "source": [
    "Organization administrators can give groups access to a package.\n",
    "\n",
    "-  From your dashboard, choose the User Settings (gear icon) from the toolbar.\n",
    "-  Select the Organizations option. NOTE: The Groups function is only available under an Organization profile settings, and is not available under an individual's profile settings.\n",
    "-  Select an organization you administer by clicking on the organization name. The system shows packages associated with that organization.\n",
    "-  Select the package you want to share with the group by clicking on the package name. The system shows options for managing that package.\n",
    "-  Click Settings to access Package Settings.\n",
    "-  Click the Collaborators option. The system displays any groups that have access to the package.\n",
    "-  Click Add Group to create a new group, or enter the existing Group's name and click the Add button."
   ]
  },
  {
   "cell_type": "markdown",
   "metadata": {},
   "source": [
    "## Add a collaborator to a package"
   ]
  },
  {
   "cell_type": "markdown",
   "metadata": {},
   "source": [
    "You can add other users to collaborate on your packages. You'll need to\n",
    "know the username of the other user(s).\n",
    "\n",
    "-  From your dashboard (or the dashboard of an organization you administer), select the package for which you want to add a collaborator by clicking on its name.\n",
    "-  Click the Settings option. The system displays package settings.\n",
    "-  Click the Collaborators option.\n",
    "-  Enter the username of the person you want to add as a collaborator and Click the Add button."
   ]
  },
  {
   "cell_type": "markdown",
   "metadata": {},
   "source": [
    "## Remove a collaborator from a package"
   ]
  },
  {
   "cell_type": "markdown",
   "metadata": {},
   "source": [
    "To revoke package access previously granted to a collaborator:\n",
    "\n",
    "-  From your dashboard (or the dashboard of an organization you administer), select the package for which you want to add a collaborator by clicking on its name.\n",
    "-  Click the Settings option. The system displays package settings.\n",
    "-  Click the Collaborators option. The system shows current collaborators.\n",
    "-  Click the red X button next to a collaborator to revoke their access."
   ]
  },
  {
   "cell_type": "markdown",
   "metadata": {},
   "source": [
    "## Transfer a package to a new owner"
   ]
  },
  {
   "cell_type": "markdown",
   "metadata": {},
   "source": [
    "By default, when you create or add packages, they are attached to your\n",
    "individual user account. You can transfer ownership to another owner account you control; for example, to an Organization profile you manage. \n",
    "\n",
    "To transfer a package to a new owner:\n",
    "\n",
    "-  From your dashboard (or the dashboard of an organization you\n",
    "   administer), select the package for which you want to transfer\n",
    "   ownership. The system displays options for that package.\n",
    "-  Click the Settings option. The system displays package settings.\n",
    "-  Click the Admin option.\n",
    "-  Under Transfer this package to a new owner, click the Transfer\n",
    "   button.\n",
    "-  Select the organization name for the new owner and click the Transfer\n",
    "   Ownership button."
   ]
  },
  {
   "cell_type": "markdown",
   "metadata": {},
   "source": [
    "---\n",
    "*Copyright Continuum 2012-2016 All Rights Reserved.*"
   ]
  }
 ],
 "metadata": {
  "anaconda-cloud": {},
  "kernelspec": {
   "display_name": "Python [conda root]",
   "language": "python",
   "name": "conda-root-py"
  },
  "language_info": {
   "codemirror_mode": {
    "name": "ipython",
    "version": 3
   },
   "file_extension": ".py",
   "mimetype": "text/x-python",
   "name": "python",
   "nbconvert_exporter": "python",
   "pygments_lexer": "ipython3",
   "version": "3.5.2"
  }
 },
 "nbformat": 4,
 "nbformat_minor": 0
}
