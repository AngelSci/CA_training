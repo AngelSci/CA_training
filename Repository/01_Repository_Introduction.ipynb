{
 "cells": [
  {
   "cell_type": "markdown",
   "metadata": {},
   "source": [
    "<img src='../img/anaconda-logo.png' align='left' style=\"padding:10px\">\n",
    "<br>\n",
    "*Copyright Continuum 2012-2016 All Rights Reserved.*"
   ]
  },
  {
   "cell_type": "markdown",
   "metadata": {},
   "source": [
    "# Anaconda Repository: Introduction"
   ]
  },
  {
   "cell_type": "markdown",
   "metadata": {},
   "source": [
    "* Share your data science assets with colleagues privately, within your organization.\n",
    "* Runs as a service on your enterprise server, on your network, inside your firewall.\n",
    "* Store, retrieve, share, and govern access to packages, environments, and notebooks.\n",
    "* Integrates with Anaconda Enterprise Notebooks, for notebook uploads, downloads.\n",
    "* Integrates with conda, building environments entirely from packages stored on your private repository.\n",
    "* Both web-browser and CLI interfaces, for full team inclusion, and automation."
   ]
  },
  {
   "cell_type": "markdown",
   "metadata": {},
   "source": [
    "## Table of Contents\n",
    "* [Anaconda Repository: Introduction](#Anaconda-Repository:-Introduction)\n",
    "* [Overview of Anaconda Repository](#Overview-of-Anaconda-Repository)\n",
    "\t* [Use Cases](#Use-Cases)\n",
    "* [Command Line Interface](#Command-Line-Interface)\n",
    "\t* [Exercise: Install and/or test `anaconda-client`](#Exercise:-Install-and/or-test-anaconda-client)\n",
    "\t* [Exercise: Check you Anaconda Config](#Exercise:-Check-you-Anaconda-Config)\n",
    "* [Web Interface](#Web-Interface)\n",
    "\t* [Sign In](#Sign-In)\n",
    "\t* [Landscape](#Landscape)\n",
    "\t* [Navigating with the User Toolbar](#Navigating-with-the-User-Toolbar)\n",
    "\t\t* [Menu Options](#Menu-Options)\n",
    "\t\t* [User Account Settings](#User-Account-Settings)\n",
    "* [Using Anaconda Cloud](#Using-Anaconda-Cloud)\n",
    "\t* [Exercise: Create an account](#Exercise:-Create-an-account)\n",
    "\t* [Exercise: Use Web Client to Download a Notebook](#Exercise:-Use-Web-Client-to-Download-a-Notebook)\n",
    "\t* [Exercise: Use Terminal to Download a Notebook](#Exercise:-Use-Terminal-to-Download-a-Notebook)\n",
    "\t* [Exercise: Upload a Notebook](#Exercise:-Upload-a-Notebook)\n",
    "* [Changing the Default Repository](#Changing-the-Default-Repository)\n",
    "* [Configuring Multiple Repositories](#Configuring-Multiple-Repositories)\n",
    "* [Using Anaconda Repository](#Using-Anaconda-Repository)\n",
    "\t* [Repository Sign up using a Web Browser](#Repository-Sign-up-using-a-Web-Browser)\n",
    "\t* [Upload a Notebook](#Upload-a-Notebook)\n",
    "\t* [View the Uploaded Notebook](#View-the-Uploaded-Notebook)\n"
   ]
  },
  {
   "cell_type": "markdown",
   "metadata": {},
   "source": [
    "# Overview of Anaconda Repository"
   ]
  },
  {
   "cell_type": "markdown",
   "metadata": {},
   "source": [
    "## Use Cases"
   ]
  },
  {
   "cell_type": "markdown",
   "metadata": {},
   "source": [
    "* Publishing, archiving, and sharing project work\n",
    "* Hosting of production and deploy-quality code\n",
    "* Hosting custom packages on internal package channels\n",
    "* Installing packages from internal channels\n",
    "* Sharing your work in-progress with other teams\n",
    "* Inspecting and reviewing work progress of other teams\n",
    "* Hosting data set in a central location for many to use\n",
    "* Running other teams code against your alternate data set "
   ]
  },
  {
   "cell_type": "markdown",
   "metadata": {},
   "source": [
    "# Command Line Interface"
   ]
  },
  {
   "cell_type": "markdown",
   "metadata": {},
   "source": [
    "The `anaconda-client` is a ***local*** command line interface (CLI) tool used to connect to and manage your ***remote*** Anaconda Repository account.\n",
    "\n",
    "With it, you can upload packages you have created, download packages created by others, and generate access tokens to limit access to private packages. "
   ]
  },
  {
   "cell_type": "markdown",
   "metadata": {},
   "source": [
    "## Exercise: Install and/or test `anaconda-client`"
   ]
  },
  {
   "cell_type": "markdown",
   "metadata": {},
   "source": [
    "Test your install of the anaconda client by using the help.\n",
    "View the complete list of tasks available after installing:"
   ]
  },
  {
   "cell_type": "code",
   "execution_count": null,
   "metadata": {
    "collapsed": false
   },
   "outputs": [],
   "source": [
    "!anaconda --help"
   ]
  },
  {
   "cell_type": "markdown",
   "metadata": {},
   "source": [
    "If the help command indicates that the anaconda client is not installed, then run the following to install it into your conda environment:"
   ]
  },
  {
   "cell_type": "code",
   "execution_count": null,
   "metadata": {
    "collapsed": true
   },
   "outputs": [],
   "source": [
    "#### Uncomment and install if needed:\n",
    "#  !conda install anaconda-client"
   ]
  },
  {
   "cell_type": "markdown",
   "metadata": {},
   "source": [
    "## Exercise: Check you Anaconda Config"
   ]
  },
  {
   "cell_type": "markdown",
   "metadata": {},
   "source": [
    "Open a system shell and run the following command. Look for the section `User Config:` and the key name   \n",
    "`default_site:`. What is `default_site:` set to?"
   ]
  },
  {
   "cell_type": "code",
   "execution_count": null,
   "metadata": {
    "collapsed": false
   },
   "outputs": [],
   "source": [
    "!anaconda config --show"
   ]
  },
  {
   "cell_type": "markdown",
   "metadata": {},
   "source": [
    "# Web Interface"
   ]
  },
  {
   "cell_type": "markdown",
   "metadata": {},
   "source": [
    "The web interface of Anaconda Cloud and Anaconda Repository are the same."
   ]
  },
  {
   "cell_type": "markdown",
   "metadata": {},
   "source": [
    "## Sign In"
   ]
  },
  {
   "cell_type": "markdown",
   "metadata": {},
   "source": [
    "The first step is to sign in to your account, or if you do not have an account, create a new account with \"sign up\":\n",
    "\n",
    "![toolbar](img/00_signin.png)"
   ]
  },
  {
   "cell_type": "markdown",
   "metadata": {},
   "source": [
    "## Landscape"
   ]
  },
  {
   "cell_type": "markdown",
   "metadata": {},
   "source": [
    "The first page you see once you sign in will be your Anaconda Landscape.\n",
    "\n",
    "This page will serves as your account \"home page\", \"landing page\", and \"dashboard\". From here, you can keep track of and navigate to all of your work from one centralize location.\n",
    "\n",
    "On this landing page, you will see the following sections:\n",
    "\n",
    "* Packages\n",
    "* Notebooks\n",
    "* Environments\n",
    "* Favorites\n",
    "* Activities\n",
    "\n",
    "Along the top, you will also see the User Toolbar, used for navigation.\n",
    "\n",
    "![toolbar](img/06_landscape.png)"
   ]
  },
  {
   "cell_type": "markdown",
   "metadata": {},
   "source": [
    "## Navigating with the User Toolbar"
   ]
  },
  {
   "cell_type": "markdown",
   "metadata": {},
   "source": [
    "Once you’re signed in, you will find the User Toolbar at the top of each page in Anaconda Repository:  \n",
    "\n",
    "![toolbar](img/01_toolbar.png)\n",
    "\n",
    "If your web browser window is too narrow, you may see an alternate, narrow version of the toolbar. Simply expand your browser window to view the full toolbar.\n",
    "\n",
    "For the full User Toolbar, the interface elements, from left to right, are as follows:\n",
    "\n",
    "* **Menu** (3x3 square icon, a drop-down menu)\n",
    "\n",
    "    ![menu button](img/02_menu_button.png)\n",
    "* **Docs** (a link to documentation)\n",
    "* **Contact** (a drop-down menu to reporting bugs or contact support)\n",
    "* **User Settings** (user-name and icon, a drop-down menu to manage your user account)"
   ]
  },
  {
   "cell_type": "markdown",
   "metadata": {},
   "source": [
    "### Menu Options  "
   ]
  },
  {
   "cell_type": "markdown",
   "metadata": {},
   "source": [
    "The **Menu** dropdown contains links to quickly navigate to other areas in your account. \n",
    "\n",
    "![](img/03_menu_dropdown.png)\n",
    "\n",
    "A description of each area is provided below:\n",
    "\n",
    "| Menu Option | Action |\n",
    "| ----------- | ------ |\n",
    "| Landscape | Take you back to your \"landscape\" page, which serves as your dashboard, home, and landing page |\n",
    "| View All | Shows all your packages, notebooks, and files |\n",
    "| Packages | Shows all the packages you have in your Account |\n",
    "| Notebooks | Shows all the notebooks you have uploaded |\n",
    "| Environments | Shows all the environments you have uploaded |\n",
    "| Favorits | |\n",
    "| Organizations | Take you to the page to add a new organization |\n",
    "| Group Membership | Shows all the groups that you belong to. Clicking on a group name will take you to that group's main page |\n",
    "| Labels | Takes you to a list of all the labels in your account. Clicking on a label will show you all the packages in the account that have that label. |\n",
    "| Build Queues | Only available in *Anaconda Cloud* |"
   ]
  },
  {
   "cell_type": "markdown",
   "metadata": {},
   "source": [
    "### User Account Settings"
   ]
  },
  {
   "cell_type": "markdown",
   "metadata": {},
   "source": [
    "Clicking on the **User Settings Button** will expose a multi-level dropdown.\n",
    "\n",
    "![](img/04_user_menu.png)  \n",
    "\n",
    "A description of each user settings menu option is provided below:\n",
    "\n",
    "| Option | Action |\n",
    "| ------ | ------ |\n",
    "| << Switch to... | Shows the organizations you belong to. The one you are currently \"viewing\" has a checkmark next to it. Clicking on another organization will take you to that organization. |\n",
    "| My Profile | Take you to a page that show you summary information for your account, including packages and notebooks that you have uploaded along with icons for the organizations you belong to. |\n",
    "| My Settings | Take you to your settings pages. | \n",
    "| Logout | Logs you out of Anaconda Repository |"
   ]
  },
  {
   "cell_type": "markdown",
   "metadata": {},
   "source": [
    "# Using Anaconda Cloud"
   ]
  },
  {
   "cell_type": "markdown",
   "metadata": {},
   "source": [
    "Anaconda Cloud is a free public variant of Anaconda Repsitory used by a large community to share packages, environments, and notebooks.\n",
    "\n",
    "Let's practice with Anaconda Cloud before moving on to Anaconda repository."
   ]
  },
  {
   "cell_type": "markdown",
   "metadata": {},
   "source": [
    "## Exercise: Create an account"
   ]
  },
  {
   "cell_type": "markdown",
   "metadata": {},
   "source": [
    "* Go to [Anaconda Cloud](https://anaconda.org/)\n",
    "* Sign-up for a new account on Anaconda Cloud: this is a \"throw-away\" just for this class.\n",
    "   * Ask instructor for templated user-name: `training-20160801-student-01`\n",
    "   * To create a new account, you'll be asked for an email account. \n",
    "   * For the class, you can use a free [throw-away account](http://www.throwawaymail.com/)\n",
    "* Visit the [Anaconda Cloud Documentation](https://docs.continuum.io/anaconda-cloud/)"
   ]
  },
  {
   "cell_type": "markdown",
   "metadata": {},
   "source": [
    "## Exercise: Use Web Client to Download a Notebook"
   ]
  },
  {
   "cell_type": "markdown",
   "metadata": {},
   "source": [
    "* visit https://anaconda.org\n",
    "* sign-in to your Anaconda Cloud account\n",
    "* search for user `vestuto`\n",
    "* find and download the notebook `training_repository_demo`"
   ]
  },
  {
   "cell_type": "markdown",
   "metadata": {},
   "source": [
    "## Exercise: Use Terminal to Download a Notebook"
   ]
  },
  {
   "cell_type": "markdown",
   "metadata": {},
   "source": [
    "Manually downloading files with a web GUI is fine for a few files. Many analysis projects use 100s or thousands of files. Downloads like that should be automated with a system shell script. Here we see how to use the shell to download a single file."
   ]
  },
  {
   "cell_type": "markdown",
   "metadata": {},
   "source": [
    "Log into your anaconda cloud account using the command line interface:"
   ]
  },
  {
   "cell_type": "code",
   "execution_count": null,
   "metadata": {
    "collapsed": true
   },
   "outputs": [],
   "source": [
    "#!anaconda login --help"
   ]
  },
  {
   "cell_type": "markdown",
   "metadata": {},
   "source": [
    "Use the command-line-interface to download a single file:"
   ]
  },
  {
   "cell_type": "markdown",
   "metadata": {},
   "source": [
    "* Read the help output from `anaconda download --help`\n",
    "* Use the help to figure out how to construct the command\n",
    "    * The owner on Anaconda Cloud has an account named `vestuto`\n",
    "    * The file is named `training_repository_demo.ipynb` but the command reuiqres you **drops the extension**\n",
    "    * the full file name includes the owner name and the file root, separated by a forward slash\n",
    "    * The download options allow you to rename using `-o` flag: rename it to `test_download.ipynb`"
   ]
  },
  {
   "cell_type": "code",
   "execution_count": null,
   "metadata": {
    "collapsed": true
   },
   "outputs": [],
   "source": [
    "# ! anaconda download --help"
   ]
  },
  {
   "cell_type": "markdown",
   "metadata": {},
   "source": [
    "## Exercise: Upload a Notebook"
   ]
  },
  {
   "cell_type": "markdown",
   "metadata": {},
   "source": [
    "Make a change to the notebook you downloaded, and then upload it to your Anaconda Cloud account:\n",
    "\n",
    "```bash\n",
    "$ anaconda upload training_repository_demo.ipynb\n",
    "```"
   ]
  },
  {
   "cell_type": "code",
   "execution_count": null,
   "metadata": {
    "collapsed": true
   },
   "outputs": [],
   "source": [
    "#!anaconda upload --help"
   ]
  },
  {
   "cell_type": "markdown",
   "metadata": {},
   "source": [
    "The result on screen should look like the following:\n",
    "\n",
    "```\n",
    "Using Anaconda API: https://api.anaconda.org\n",
    "detecting package type ...\n",
    "ipynb\n",
    "extracting package attributes for upload ...\n",
    "done\n",
    "\n",
    "Uploading file vestuto/training_repository_demo/2016.08.08.1734/training_repository_demo.ipynb ...\n",
    " uploaded 6 of 6Kb: 100.00% ETA: 0.0 minutes\n",
    "\n",
    "\n",
    "Upload(s) Complete\n",
    "\n",
    "Package located at:\n",
    "https://anaconda.org/vestuto/training_repository_demo\n",
    "```"
   ]
  },
  {
   "cell_type": "markdown",
   "metadata": {},
   "source": [
    "# Changing the Default Repository"
   ]
  },
  {
   "cell_type": "markdown",
   "metadata": {},
   "source": [
    "By default, `anaconda-client` points to Anaconda Cloud. All uploads and downloads are assumed to be associate with this public site."
   ]
  },
  {
   "cell_type": "markdown",
   "metadata": {},
   "source": [
    "To change the **default configuration**, so that the `anaconda-client` uses your private Anaconda Repository for all uploads and downloads, run the `--set url` command as follows:\n",
    "\n",
    "```bash\n",
    "anaconda config --set url <HOSTNAME>:<PORT>/api\n",
    "```"
   ]
  },
  {
   "cell_type": "markdown",
   "metadata": {},
   "source": [
    "For this specific lesson demonstration:\n",
    "* `<HOSTNAME>` = `http://ec2-107-23-5-12.compute-1.amazonaws.com`\n",
    "* `<PORT>` = `8080`\n",
    "\n",
    "```bash\n",
    "anaconda config --set url http://ec2-107-23-5-12.compute-1.amazonaws.com:8080/api\n",
    "```"
   ]
  },
  {
   "cell_type": "markdown",
   "metadata": {},
   "source": [
    "To view and confirm that your Anaconda configuration has been set as intended, run the following command:\n",
    "\n",
    "```bash\n",
    "anaconda config --show\n",
    "```"
   ]
  },
  {
   "cell_type": "markdown",
   "metadata": {},
   "source": [
    "# Configuring Multiple Repositories"
   ]
  },
  {
   "cell_type": "markdown",
   "metadata": {},
   "source": [
    "You can store multiple repository sites in your Anaconda configuration, including Anaconda Cloud.\n",
    "\n",
    "For example, to add a reference to the site of your private Anaconda Repository:\n",
    "\n",
    "```bash\n",
    "anaconda config --set sites.aws.url \"http://ec2-107-23-5-12.compute-1.amazonaws.com:8080/api\"                   \n",
    "```"
   ]
  },
  {
   "cell_type": "markdown",
   "metadata": {},
   "source": [
    "Now you can \"toggle\" between this site and others, in telling Anaconda which site to use with uploading, downloading, and installing.\n",
    "\n",
    "```bash\n",
    "anaconda config --set default_site aws\n",
    "```"
   ]
  },
  {
   "cell_type": "markdown",
   "metadata": {},
   "source": [
    "Login to the repository\n",
    "\n",
    "```bash\n",
    "anaconda login\n",
    "```"
   ]
  },
  {
   "cell_type": "markdown",
   "metadata": {},
   "source": [
    "Before changing configuration, log out of your Anaconda Repository:\n",
    "\n",
    "```bash\n",
    "anaconda logout\n",
    "```"
   ]
  },
  {
   "cell_type": "markdown",
   "metadata": {},
   "source": [
    "Revert your anaconda config default to use the public Anaconda Cloud:\n",
    "\n",
    "```bash\n",
    "anaconda --set default_site binstar\n",
    "```"
   ]
  },
  {
   "cell_type": "markdown",
   "metadata": {},
   "source": [
    "Login to Anaconda Cloud\n",
    "\n",
    "```bash\n",
    "anaconda login\n",
    "```"
   ]
  },
  {
   "cell_type": "markdown",
   "metadata": {},
   "source": [
    "# Using Anaconda Repository"
   ]
  },
  {
   "cell_type": "markdown",
   "metadata": {},
   "source": [
    "In this demonstration, we will see how to:\n",
    "* use the web interface and the command line interface together.\n",
    "* sign in to an instance of Anaconda Repository.\n",
    "* upload a notebook to share with your colleagues."
   ]
  },
  {
   "cell_type": "markdown",
   "metadata": {},
   "source": [
    "## Repository Sign up using a Web Browser"
   ]
  },
  {
   "cell_type": "markdown",
   "metadata": {},
   "source": [
    "First you need to verify that you have an account on the Anaconda Repository by either signing in or creating a new account.\n",
    "\n",
    "For example, for this demonstration, we have set up an instance of Anaconda Repository on the following AWS host:\n",
    "\n",
    "```bash\n",
    "http://ec2-107-23-5-12.compute-1.amazonaws.com\n",
    "```"
   ]
  },
  {
   "cell_type": "markdown",
   "metadata": {},
   "source": [
    "Please go to this site and create a new account using your company email address:\n",
    "\n",
    "```bash\n",
    "user name = juser\n",
    "email address = juser@continuum.io\n",
    "```"
   ]
  },
  {
   "cell_type": "markdown",
   "metadata": {},
   "source": [
    "## Upload a Notebook"
   ]
  },
  {
   "cell_type": "markdown",
   "metadata": {},
   "source": [
    "To initiate a file upload to Anaconda Repository, run the following command from your system shell (terminal or command prompt):\n",
    "\n",
    "```bash\n",
    "anaconda upload test_notebook.ipynb\n",
    "```"
   ]
  },
  {
   "cell_type": "markdown",
   "metadata": {},
   "source": [
    "You should see the following output in your shell:\n",
    "\n",
    "```\n",
    "Using Anaconda Cloud api site http://ec2-107-23-5-12.compute-1.amazonaws.com:8080/api\n",
    "The action you are performing requires authentication, please sign in:\n",
    "Using Anaconda Cloud api site http://ec2-107-23-5-12.compute-1.amazonaws.com:8080/api\n",
    "Username: juser\n",
    "juser's Password: ********\n",
    "```"
   ]
  },
  {
   "cell_type": "markdown",
   "metadata": {},
   "source": [
    "Notice that you will be prompted for your Anaconda Repository account sign in credentials. \n",
    "\n",
    "Enter the same details you used to create an account on the Anaconda Repository sign up webpage:\n",
    "\n",
    "```\n",
    "Username: juser\n",
    "juser's Password: ********\n",
    "```"
   ]
  },
  {
   "cell_type": "markdown",
   "metadata": {},
   "source": [
    "After doing so, you should then see the following output:\n",
    "\n",
    "```\n",
    "login successful\n",
    "Using Anaconda Cloud api site http://ec2-107-23-5-12.compute-1.amazonaws.com:8080/api\n",
    "detecting package type ...\n",
    "ipynb\n",
    "extracting package attributes for upload ...\n",
    "done\n",
    "\n",
    "Uploading file juser/test_notebook/2016.06.22.1029/test_notebook.ipynb ...\n",
    " uploaded 17 of 17Kb: 100.00% ETA: 0.0 minutes\n",
    "\n",
    "\n",
    "Upload(s) Complete\n",
    "\n",
    "Package located at:\n",
    "http://ec2-107-23-5-12.compute-1.amazonaws.com:8080/juser/test_notebook\n",
    "```"
   ]
  },
  {
   "cell_type": "markdown",
   "metadata": {},
   "source": [
    "Notice a few special values that may not be the same for you during this demonstration or when you interact with another instance of Anaconda Repository:\n",
    "\n",
    "* Host name: `ec2-107-23-5-12.compute-1.amazonaws.com`\n",
    "* Time stamp: `2016.06.22.1029`\n",
    "* User name: `juser`"
   ]
  },
  {
   "cell_type": "markdown",
   "metadata": {},
   "source": [
    "## View the Uploaded Notebook"
   ]
  },
  {
   "cell_type": "markdown",
   "metadata": {},
   "source": [
    "Now to confirm, use you web browser to visit the webpage listed above to view your uploaded notebook:\n",
    "\n",
    "```bash\n",
    "http://ec2-107-23-5-12.compute-1.amazonaws.com/juser/test_notebook\n",
    "```"
   ]
  },
  {
   "cell_type": "markdown",
   "metadata": {},
   "source": [
    "***That's it! You've just archived and shared your first analysis notebook.***\n",
    "\n",
    "You can now share this URL with others, or, as we'll see later, add their Anaconda Repository user name to the list of contributors to allow them to view it on Anaconda Repository."
   ]
  },
  {
   "cell_type": "markdown",
   "metadata": {},
   "source": [
    "---\n",
    "*Copyright Continuum 2012-2016 All Rights Reserved.*"
   ]
  }
 ],
 "metadata": {
  "anaconda-cloud": {},
  "kernelspec": {
   "display_name": "Python [Root]",
   "language": "python",
   "name": "Python [Root]"
  },
  "language_info": {
   "codemirror_mode": {
    "name": "ipython",
    "version": 3
   },
   "file_extension": ".py",
   "mimetype": "text/x-python",
   "name": "python",
   "nbconvert_exporter": "python",
   "pygments_lexer": "ipython3",
   "version": "3.5.2"
  }
 },
 "nbformat": 4,
 "nbformat_minor": 0
}
