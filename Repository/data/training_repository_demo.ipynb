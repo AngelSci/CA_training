{
 "cells": [
  {
   "cell_type": "markdown",
   "metadata": {},
   "source": [
    "# Training Demo"
   ]
  },
  {
   "cell_type": "markdown",
   "metadata": {},
   "source": [
    "## Set-Up"
   ]
  },
  {
   "cell_type": "markdown",
   "metadata": {},
   "source": [
    "### Import Modules"
   ]
  },
  {
   "cell_type": "code",
   "execution_count": null,
   "metadata": {
    "collapsed": true
   },
   "outputs": [],
   "source": [
    "import numpy as np\n",
    "import matplotlib.pyplot as plt"
   ]
  },
  {
   "cell_type": "markdown",
   "metadata": {},
   "source": [
    "### Keep Plots inside Notebook"
   ]
  },
  {
   "cell_type": "code",
   "execution_count": null,
   "metadata": {
    "collapsed": true
   },
   "outputs": [],
   "source": [
    "%matplotlib inline"
   ]
  },
  {
   "cell_type": "markdown",
   "metadata": {},
   "source": [
    "## Script"
   ]
  },
  {
   "cell_type": "code",
   "execution_count": null,
   "metadata": {
    "collapsed": false
   },
   "outputs": [],
   "source": [
    "Npts  = 1001\n",
    "PI    = np.pi\n",
    "x_min = -2*PI\n",
    "x_max = +2*PI\n",
    "x     = np.linspace(x_min,x_max,Npts)\n",
    "y     = np.sin(x)\n",
    "fig,ax = plt.subplots()\n",
    "ax.plot(x,y)\n",
    "ax.set_xlim([x_min,x_max])\n",
    "ax.set_xticks([-2*PI, -PI, 0, PI, 2*PI])\n",
    "ax.set_xticklabels([\"$-2\\pi$\", \"$-\\pi$\", \"0\", \"$+\\pi$\", \"$+2\\pi$\"])\n",
    "ax.grid()"
   ]
  },
  {
   "cell_type": "markdown",
   "metadata": {},
   "source": [
    "## Break into Functions"
   ]
  },
  {
   "cell_type": "code",
   "execution_count": null,
   "metadata": {
    "collapsed": true
   },
   "outputs": [],
   "source": [
    "def my_data(Npts=1001):\n",
    "    PI    = np.pi\n",
    "    x_min = -2*PI\n",
    "    x_max = +2*PI\n",
    "    x     = np.linspace(x_min,x_max,Npts)\n",
    "    y     = np.sin(x)\n",
    "    return x,y"
   ]
  },
  {
   "cell_type": "code",
   "execution_count": null,
   "metadata": {
    "collapsed": true
   },
   "outputs": [],
   "source": [
    "def my_plot(x,y):\n",
    "    fig,ax = plt.subplots()\n",
    "    line,  = ax.plot(x,y)\n",
    "    ax.set_xlim([x_min,x_max])\n",
    "    ax.set_xticks([-2*PI, -PI, 0, PI, 2*PI])\n",
    "    ax.set_xticklabels([\"$-2\\pi$\", \"$-\\pi$\", \"0\", \"$+\\pi$\", \"$+2\\pi$\"])\n",
    "    ax.grid()\n",
    "    return fig,ax,line"
   ]
  },
  {
   "cell_type": "code",
   "execution_count": null,
   "metadata": {
    "collapsed": true
   },
   "outputs": [],
   "source": [
    "x, y = my_data(101)\n",
    "my_plot(x, y)"
   ]
  },
  {
   "cell_type": "markdown",
   "metadata": {},
   "source": [
    "## Make Plots Interactive"
   ]
  },
  {
   "cell_type": "code",
   "execution_count": null,
   "metadata": {
    "collapsed": true
   },
   "outputs": [],
   "source": [
    "%matplotlib notebook"
   ]
  },
  {
   "cell_type": "code",
   "execution_count": null,
   "metadata": {
    "collapsed": false
   },
   "outputs": [],
   "source": [
    "x, y = my_data(101)\n",
    "f, a, l = my_plot(x, y)"
   ]
  },
  {
   "cell_type": "markdown",
   "metadata": {},
   "source": [
    "## Dyanamically Update Figure"
   ]
  },
  {
   "cell_type": "code",
   "execution_count": null,
   "metadata": {
    "collapsed": false
   },
   "outputs": [],
   "source": [
    "l.set_color('red')"
   ]
  }
 ],
 "metadata": {
  "anaconda-cloud": {},
  "kernelspec": {
   "display_name": "Python [Root]",
   "language": "python",
   "name": "Python [Root]"
  },
  "language_info": {
   "codemirror_mode": {
    "name": "ipython",
    "version": 3
   },
   "file_extension": ".py",
   "mimetype": "text/x-python",
   "name": "python",
   "nbconvert_exporter": "python",
   "pygments_lexer": "ipython3",
   "version": "3.5.2"
  }
 },
 "nbformat": 4,
 "nbformat_minor": 0
}
