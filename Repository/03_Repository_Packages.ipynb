{
 "cells": [
  {
   "cell_type": "markdown",
   "metadata": {},
   "source": [
    "<img src='../img/anaconda-logo.png' align='left' style=\"padding:10px\">\n",
    "<br>\n",
    "*Copyright Continuum 2012-2016 All Rights Reserved.*"
   ]
  },
  {
   "cell_type": "markdown",
   "metadata": {},
   "source": [
    "# Anaconda Repository: Packages"
   ]
  },
  {
   "cell_type": "markdown",
   "metadata": {},
   "source": [
    "* One of the most common uses of Anaconda Repository is to maintain an internal package distribution, on your internal network, with custom packages that differ than those available to the public on `http://anaconda.org`.\n",
    "\n",
    "* With Anaconda Repository, you can create, upload, and install custom packages.\n",
    "\n",
    "* The primary tool for managing packages within Anaconda Repository is the `anaconda-client` command line interface (CLI)."
   ]
  },
  {
   "cell_type": "markdown",
   "metadata": {},
   "source": [
    "## Table of Contents\n",
    "* [Anaconda Repository: Packages](#Anaconda-Repository:-Packages)\n",
    "* [Conda Packages](#Conda-Packages)\n",
    "\t* [Package Capabilities](#Package-Capabilities)\n",
    "\t* [Uploading Packages](#Uploading-Packages)\n",
    "\t* [Namespaces](#Namespaces)\n",
    "\t* [Remove a past version of a package](#Remove-a-past-version-of-a-package)\n",
    "\t* [Deleting Packages](#Deleting-Packages)\n",
    "\t* [Installing Packages](#Installing-Packages)\n",
    "\t* [Defining Channels](#Defining-Channels)\n",
    "\t* [Labeling Packages](#Labeling-Packages)\n",
    "* [Exercise: Building and Uploading Packages](#Exercise:-Building-and-Uploading-Packages)\n",
    "* [PyPI Packages](#PyPI-Packages)\n",
    "\t* [Uploading PyPI packages](#Uploading-PyPI-packages)\n",
    "\t* [Installing PyPI packages](#Installing-PyPI-packages)\n",
    "\t* [Installing private PyPI packages](#Installing-private-PyPI-packages)\n"
   ]
  },
  {
   "cell_type": "markdown",
   "metadata": {},
   "source": [
    "# Conda Packages"
   ]
  },
  {
   "cell_type": "markdown",
   "metadata": {},
   "source": [
    "## Package Capabilities"
   ]
  },
  {
   "cell_type": "markdown",
   "metadata": {},
   "source": [
    "* You can create a conda environment composed entirely of packages from a private instance of Anaconda Repository.\n",
    "* Anaconda Repository has a self-contained **internal mirror of packages**, can install securely **behind an enterprise firewall**.\n",
    "\n",
    "* Anaconda Repository **supports many repositories** including PyPI, CRAN, conda, and the Anaconda repository.\n",
    "\n",
    "* You can **build packages using the Anaconda client** command line interface (CLI), then manually or **automatically upload the packages** to Anaconda Repository to quickly share with others or access yourself.\n",
    "\n",
    "* For developers, Anaconda Repository is designed to make **software development, release, and maintenance** easy by providing broad package management support. \n",
    "\n",
    "* Anaconda Repository facilitates **organizing package repositories and package channels**, providing a flexible and scalable service for groups and organizations of all sizes. \n",
    "\n",
    "* Many enterprises have customized local instances of Anaconda repository,\n",
    "and Continuum also makes an instance of Anaconda repository available\n",
    "for public use at [Anaconda Cloud](http://anaconda.org)."
   ]
  },
  {
   "cell_type": "markdown",
   "metadata": {},
   "source": [
    "## Uploading Packages"
   ]
  },
  {
   "cell_type": "markdown",
   "metadata": {},
   "source": [
    "To upload package files to Anaconda Repository use the\n",
    "[`anaconda-client`](cli.html) command line interface and the\n",
    "[`upload`](cli.html#Upload) command.\n",
    "\n",
    "First, login to your Anaconda Repository account using the command line:\n",
    "\n",
    "```bash\n",
    "anaconda login\n",
    "```"
   ]
  },
  {
   "cell_type": "markdown",
   "metadata": {},
   "source": [
    "Next, upload your package:\n",
    "\n",
    "```bash\n",
    "anaconda upload PACKAGENAME\n",
    "```"
   ]
  },
  {
   "cell_type": "markdown",
   "metadata": {},
   "source": [
    "Anaconda Repository automatically detects packages and (ipynb) notebooks, package or notebook types, and their versions.\n",
    "\n",
    "After uploading your package, it is available for viewing and download:\n",
    "\n",
    "```\n",
    "https://<HOSTNAME>/<USERNAME>/<PACKAGENAME>\n",
    "```"
   ]
  },
  {
   "cell_type": "markdown",
   "metadata": {},
   "source": [
    "Your package can be downloaded by anyone using the Anaconda client CLI:\n",
    "\n",
    "```bash\n",
    "anaconda download USERNAME/PACKAGENAME\n",
    "```"
   ]
  },
  {
   "cell_type": "markdown",
   "metadata": {},
   "source": [
    "## Namespaces  "
   ]
  },
  {
   "cell_type": "markdown",
   "metadata": {},
   "source": [
    "When you upload packages to Anaconda Repository, they are stored in file location dependent upon the account you logged into using `anaconda login`.\n",
    "\n",
    "Each user and organization has their own location called a **user namespace** where they may host packages. \n",
    "\n",
    "You can view the public packages in the namespace of a specific user or organization by navigating to their user page on the Anaconda Repository host.\n",
    "\n",
    "EXAMPLE: The [travis](https://anaconda.org/travis) user namespace located at the public repository `https://anaconda.org/travis` and contains packages that were uploaded and shared by the user whose account is named Travis."
   ]
  },
  {
   "cell_type": "markdown",
   "metadata": {},
   "source": [
    "## Remove a past version of a package"
   ]
  },
  {
   "cell_type": "markdown",
   "metadata": {},
   "source": [
    "To remove a past version of one of your packages from Anaconda Repository:\n",
    "\n",
    "1. Click the package name.\n",
    "2. Click the tab \"Files\".\n",
    "3. Click the checkbox to the left of the version you wish to remove.\n",
    "4. Click the \"Actions\" menu and then \"Remove\".\n",
    "\n",
    "You may instead use the `command line interface`:\n",
    "\n",
    "      anaconda remove jsmith/testpack/0.2\n",
    "\n",
    "NOTE: Replace ``jsmith``, ``testpack``, and ``0.2`` with your actual\n",
    "user name, package name, and version.\n",
    "\n",
    "The change can now be seen on your profile page:\n",
    "``https://<HOSTNAME>/<USERNAME>/<PACKAGE>``"
   ]
  },
  {
   "cell_type": "markdown",
   "metadata": {},
   "source": [
    "## Deleting Packages"
   ]
  },
  {
   "cell_type": "markdown",
   "metadata": {},
   "source": [
    "To delete one of your packages from Anaconda Repository, including all of its versions:\n",
    "\n",
    "1. Click the package name.\n",
    "2. Click the tab \"Settings\".\n",
    "3. Click \"Admin\" on the left side menu.\n",
    "4 . Click \"Delete\".\n",
    "\n",
    "You may instead use the `command line interface`:\n",
    "\n",
    "```bash\n",
    "      anaconda remove jsmith/testpak\n",
    "```"
   ]
  },
  {
   "cell_type": "markdown",
   "metadata": {},
   "source": [
    "NOTE: Replace ``jsmith`` and ``testpak`` with your actual user name and package name.\n",
    "\n",
    "The change can now be seen on your profile page:\n",
    "``https://<HOSTNAME>/<USERNAME>``"
   ]
  },
  {
   "cell_type": "markdown",
   "metadata": {},
   "source": [
    "## Installing Packages"
   ]
  },
  {
   "cell_type": "markdown",
   "metadata": {},
   "source": [
    "Conda packages are installed from channels. You may have already used a default channel from `anaconda.org` to install packages without realizing it.\n",
    "\n",
    "Conda knows how to interact with Anaconda Repository. To install conda packages from Anaconda Repository, one can simply rely on the anaconda client configuration \n",
    "\n",
    "```\n",
    "conda install PACKAGENAME\n",
    "```"
   ]
  },
  {
   "cell_type": "markdown",
   "metadata": {},
   "source": [
    "Another method is to specify a username or organization name as a channel:\n",
    "\n",
    "```\n",
    "conda install -c USERNAME PACKAGENAME\n",
    "```"
   ]
  },
  {
   "cell_type": "markdown",
   "metadata": {},
   "source": [
    "This relies on that specific user having uploaded a package to their Anaconda Repository account."
   ]
  },
  {
   "cell_type": "markdown",
   "metadata": {},
   "source": [
    "## Defining Channels"
   ]
  },
  {
   "cell_type": "markdown",
   "metadata": {},
   "source": [
    "Another method is to define a channel within your conda configuration.\n",
    "\n",
    "EXAMPLE: Specifying the channel ``sean`` tells anaconda client to look for packages in the following location:\n",
    "\n",
    "`https://<HOSTNAME>/sean`\n",
    "\n",
    "Where <HOSTNAME> can be one of many repositories listed in your Anaconda configuration. For this example, we'll use `anaconda.org`.\n",
    "\n",
    "The command to add a channel to your conda configuration is:\n",
    "\n",
    "```bash\n",
    "conda config --add channels sean\n",
    "```"
   ]
  },
  {
   "cell_type": "markdown",
   "metadata": {},
   "source": [
    "Now you can install public conda packages from sean's Anaconda Repository\n",
    "account. Try installing the `testci` package stored at `https://anaconda.org/sean/testci`.\n",
    "\n",
    "```bash\n",
    "conda install testci\n",
    "```"
   ]
  },
  {
   "cell_type": "markdown",
   "metadata": {},
   "source": [
    "## Labeling Packages"
   ]
  },
  {
   "cell_type": "markdown",
   "metadata": {},
   "source": [
    "Each file within a package may be tagged with one or more labels, or not tagged at all. \n",
    "\n",
    "The use of labels allows package authors distinguish between different types of packages, for example, to upload files for development or testing purposes without affecting the \"production\" quality packages used by non-development users.\n",
    "\n",
    "Entering a url with the following pattern will show all public packages for that particular user or organization:\n",
    "\n",
    "* `https://<HOSTNAME>/<USERNAME>`\n",
    "* `https://<HOSTNAME>/<ORGNAME>`\n",
    "\n",
    "A dropdown menu lists all the available labels.\n",
    "\n",
    "For example, all of the conda packages labeled as \"dev\" can be shown\n",
    "here:\n",
    "\n",
    "-  [https://conda.anaconda.org/sean/label/dev](https://conda.anaconda.org/sean/label/dev)\n",
    "\n",
    "The default label is **main**, so packages that are uploaded without\n",
    "specifying a label are automatically labeled \"main\". The version labeled\n",
    "main is also delivered by default unless a user specifies a different\n",
    "label. So, if a file is labeled as **main** then the label name may be\n",
    "omitted from the URL. For example the following repositories are\n",
    "equivalent:\n",
    "\n",
    "-  [https://conda.anaconda.org/sean/label/main](https://conda.anaconda.org/sean/label/main)\n",
    "-  [https://conda.anaconda.org/sean](https://conda.anaconda.org/sean)\n",
    "\n",
    "Commands such as ``conda install`` can be used with a channel or used\n",
    "with a channel and a label:\n",
    "\n",
    "```bash\n",
    "conda install —-channel sean selenium\n",
    "conda install —-channel sean/label/dev selenium    \n",
    "```"
   ]
  },
  {
   "cell_type": "markdown",
   "metadata": {},
   "source": [
    "# Exercise: Building and Uploading Packages"
   ]
  },
  {
   "cell_type": "markdown",
   "metadata": {},
   "source": [
    "In this exercise, we will build and upload a [conda](http://conda.pydata.org/) package to your Anaconda Repository.\n",
    "\n",
    "If you do not already use conda, follow the miniconda [quick\n",
    "install](http://conda.pydata.org/docs/install/quick.html)\n",
    "instructions.\n",
    "\n",
    "Verify that you have Anaconda client and the conda build tool installed:\n",
    "\n",
    "```bash\n",
    "conda list\n",
    "```"
   ]
  },
  {
   "cell_type": "markdown",
   "metadata": {},
   "source": [
    "Inspect the list of packages installed in your current conda environment. If you do not already have `anaconda-client` and `conda-build` you will need to install them as follows:\n",
    "\n",
    "```bash\n",
    "conda install anaconda-client conda-build\n",
    "```"
   ]
  },
  {
   "cell_type": "markdown",
   "metadata": {},
   "source": [
    "Now we need a source code repository from which to build a conda package. In this example we'll use a simple [conda test\n",
    "package](https://github.com/Anaconda-Server/anaconda-client/tree/master/example-packages/conda):\n",
    "\n",
    "Download and inspect the source code using `git`:\n",
    "\n",
    "```bash\n",
    "git clone https://github.com/Anaconda-Server/anaconda-client\n",
    "```"
   ]
  },
  {
   "cell_type": "markdown",
   "metadata": {},
   "source": [
    "If you do not have git, you can use a web browser to download the files directly by using the `Clone or Download` button found at the following web address:\n",
    "\n",
    "```\n",
    "https://github.com/Anaconda-Platform/anaconda-client\n",
    "```"
   ]
  },
  {
   "cell_type": "markdown",
   "metadata": {},
   "source": [
    "Once you have the collection of files, inspect one of the subdirectories for the build files: use a file browser, terminal, or command prompt:\n",
    "\n",
    "```bash\n",
    "cd anaconda-client/example-packages/conda/\n",
    "```"
   ]
  },
  {
   "cell_type": "markdown",
   "metadata": {},
   "source": [
    "In this directory we can see two files required for building a conda package:\n",
    "[meta.yaml](https://github.com/Anaconda-Server/anaconda-client/blob/master/example-packages/conda/meta.yaml)\n",
    "and\n",
    "[build.sh](https://github.com/Anaconda-Server/anaconda-client/blob/master/example-packages/conda/build.sh)\n",
    "(for Linux or Mac) or `bld.bat` (for Windows). \n",
    "\n",
    "To build the package, turn off automatic `anaconda-client` uploading and then run the `conda build` command:\n",
    "\n",
    "```bash\n",
    "conda config --set anaconda_upload no\n",
    "conda build .\n",
    "```"
   ]
  },
  {
   "cell_type": "markdown",
   "metadata": {},
   "source": [
    "All packages built in this way are placed in a subdirectory of\n",
    "[Anaconda's](http://docs.continuum.io/anaconda/index) *conda-bld*\n",
    "directory. You can check where the resulting file was placed with the\n",
    "``--output`` option:\n",
    "\n",
    "```bash\n",
    "conda build . --output\n",
    "```"
   ]
  },
  {
   "cell_type": "markdown",
   "metadata": {},
   "source": [
    "Now upload the test package to Anaconda Repository with the [anaconda\n",
    "upload](cli.html#Upload) command:\n",
    "\n",
    "```bash\n",
    "anaconda login\n",
    "anaconda upload /local/output/path/to/conda-package.tar.bz2\n",
    "```"
   ]
  },
  {
   "cell_type": "markdown",
   "metadata": {},
   "source": [
    "For more information on the build framework of conda, please read the following articles:\n",
    "\n",
    "* [Building conda\n",
    "packages](http://conda.pydata.org/docs/building/bpp.html)\n",
    "* [Tutorials on conda build](http://conda.pydata.org/docs/build_tutorials.html)"
   ]
  },
  {
   "cell_type": "markdown",
   "metadata": {},
   "source": [
    "# PyPI Packages"
   ]
  },
  {
   "cell_type": "markdown",
   "metadata": {},
   "source": [
    "While there are conda packages for all of the most popular data science packages, there may be some less well know that nonetheless you need. \n",
    "\n",
    "Often these are found on the Python Package Index (\"PyPI\"). \n",
    "\n",
    "You can use PyPI packages with Anaconda Repository."
   ]
  },
  {
   "cell_type": "markdown",
   "metadata": {},
   "source": [
    "## Uploading PyPI packages"
   ]
  },
  {
   "cell_type": "markdown",
   "metadata": {},
   "source": [
    "We can test PyPI package uploading with a small example package saved in the [anaconda-client repository](https://github.com/Anaconda-Server/anaconda-client/tree/master/example-packages/pypi)\n",
    "Begin by cloning the repository from the command line:\n",
    "\n",
    "```bash\n",
    "      git clone git@github.com:Anaconda-Server/conda-server.git\n",
    "      cd conda-server/example-packages/pypi/\n",
    "```"
   ]
  },
  {
   "cell_type": "markdown",
   "metadata": {},
   "source": [
    "Now you can create your PyPI package with the ``setup.py`` script.\n",
    "\n",
    "```bash\n",
    "      python setup.py sdist\n",
    "```"
   ]
  },
  {
   "cell_type": "markdown",
   "metadata": {},
   "source": [
    "The package has now been built as a source tarball and is ready to be\n",
    "uploaded:\n",
    "\n",
    "```bash\n",
    "      anaconda upload dist/*.tar.gz\n",
    "```"
   ]
  },
  {
   "cell_type": "markdown",
   "metadata": {},
   "source": [
    "Your package is now available at ``http://anaconda.org/USERNAME/PACKAGE``."
   ]
  },
  {
   "cell_type": "markdown",
   "metadata": {},
   "source": [
    "## Installing PyPI packages"
   ]
  },
  {
   "cell_type": "markdown",
   "metadata": {},
   "source": [
    "The best way to install a PyPI package is using pip. For the following,\n",
    "we will use the package we authored in the examples above.\n",
    "\n",
    "```bash\n",
    "      pip install --extra-index-url https://pypi.anaconda.org/USERNAME/simple pypi-test-package\n",
    "```"
   ]
  },
  {
   "cell_type": "markdown",
   "metadata": {},
   "source": [
    "## Installing private PyPI packages"
   ]
  },
  {
   "cell_type": "markdown",
   "metadata": {},
   "source": [
    "All Anaconda Cloud urls can be prefixed with ``/t/$TOKEN`` to access\n",
    "private packages:\n",
    "\n",
    "```bash\n",
    "      TOKEN=$(anaconda auth --create --name YOUR-TOKEN-NAME)\n",
    "      pip install --index-url https://pypi.anaconda.org/t/$TOKEN/USERNAME/simple test-package\n",
    "```"
   ]
  },
  {
   "cell_type": "markdown",
   "metadata": {
    "collapsed": true
   },
   "source": [
    "---\n",
    "*Copyright Continuum 2012-2016 All Rights Reserved.*"
   ]
  }
 ],
 "metadata": {
  "anaconda-cloud": {},
  "kernelspec": {
   "display_name": "Python [conda root]",
   "language": "python",
   "name": "conda-root-py"
  },
  "language_info": {
   "codemirror_mode": {
    "name": "ipython",
    "version": 3
   },
   "file_extension": ".py",
   "mimetype": "text/x-python",
   "name": "python",
   "nbconvert_exporter": "python",
   "pygments_lexer": "ipython3",
   "version": "3.5.2"
  }
 },
 "nbformat": 4,
 "nbformat_minor": 0
}
