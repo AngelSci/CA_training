{
 "cells": [
  {
   "cell_type": "markdown",
   "metadata": {},
   "source": [
    "<img src='../img/anaconda-logo.png' align='left' style=\"padding:10px\">\n",
    "<br>\n",
    "*Copyright Continuum 2012-2016 All Rights Reserved.*"
   ]
  },
  {
   "cell_type": "markdown",
   "metadata": {},
   "source": [
    "# Anaconda Enterprise Notebooks: Jupyter"
   ]
  },
  {
   "cell_type": "markdown",
   "metadata": {},
   "source": [
    "The Jupyter in AEN is a modifeid version of the open-source Jupyter, which provides additional features:\n",
    "* Notebook Extensions\n",
    "* Revision Control\n",
    "* Edit Locking\n",
    "* Sharing with the public Anaconda Cloud\n",
    "* Sharing with a provate Anaconda Repository"
   ]
  },
  {
   "cell_type": "markdown",
   "metadata": {},
   "source": [
    "## Table of Contents\n",
    "* [Anaconda Enterprise Notebooks: Jupyter](#Anaconda-Enterprise-Notebooks:-Jupyter)\n",
    "* [Jupyter Notebook Application](#Jupyter-Notebook-Application)\n",
    "\t* [Overview](#Overview)\n",
    "\t* [Launching the Notebook App](#Launching-the-Notebook-App)\n",
    "\t* [Exercise: Launch the `notebook` app](#Exercise:-Launch-the-notebook-app)\n",
    "\t* [Creating Notebooks](#Creating-Notebooks)\n",
    "\t* [Exercise: Create a New Notebook](#Exercise:-Create-a-New-Notebook)\n",
    "\t* [Viewing Notebook Files](#Viewing-Notebook-Files)\n",
    "\t* [Exercise: Use the Terminal app to Find your Notebook](#Exercise:-Use-the-Terminal-app-to-Find-your-Notebook)\n",
    "\t* [Exercise: Use the Workbench App to find your Notebook](#Exercise:-Use-the-Workbench-App-to-find-your-Notebook)\n",
    "* [Notebook Extensions](#Notebook-Extensions)\n",
    "\t* [Synchronize your environments.](#Synchronize-your-environments.)\n",
    "\t* [Locking](#Locking)\n",
    "\t* [Revision Control Mechamism (RCM)](#Revision-Control-Mechamism-%28RCM%29)\n",
    "\t\t* [Set-Up](#Set-Up)\n",
    "\t\t* [Toolbar Interface](#Toolbar-Interface)\n",
    "\t\t* [Status](#Status)\n",
    "\t\t* [Checkout](#Checkout)\n",
    "\t\t* [Commit](#Commit)\n",
    "* [Conda integration](#Conda-integration)\n",
    "\t* [Conda tab in the Jupyter file browser](#Conda-tab-in-the-Jupyter-file-browser)\n",
    "\t* [Creating New Environments](#Creating-New-Environments)\n",
    "\t* [Conda in the Notebook view](#Conda-in-the-Notebook-view)\n",
    "* [Anaconda Cloud integration](#Anaconda-Cloud-integration)\n"
   ]
  },
  {
   "cell_type": "markdown",
   "metadata": {},
   "source": [
    "# Jupyter Notebook Application"
   ]
  },
  {
   "cell_type": "markdown",
   "metadata": {},
   "source": [
    "## Overview"
   ]
  },
  {
   "cell_type": "markdown",
   "metadata": {},
   "source": [
    "The Jupyter Notebook application allows the creation and editing of documents that include both the input and output of a Python script.\n",
    "\n",
    "* Once created, these documents may be easily shared with others.\n",
    "* Documents are also discoverable within the Terminal and Workbench apps.\n",
    "* By default, Jupyter Notebooks are saved in the project directory and not your home directory.\n",
    "\n",
    "_Note: Anaconda Enterprise Notebooks uses Jupyter notebook version 4.1.  Jupyter's documentation can be found <a href=\"http://jupyter.readthedocs.org/en/latest/\">here</a>._"
   ]
  },
  {
   "cell_type": "markdown",
   "metadata": {},
   "source": [
    "## Launching the Notebook App"
   ]
  },
  {
   "cell_type": "markdown",
   "metadata": {},
   "source": [
    "The Jupyter Notebook can be accessed from your project's main page, in the list of applications.\n",
    "\n",
    "![wakariui](img/finding_ipython.png)"
   ]
  },
  {
   "cell_type": "markdown",
   "metadata": {},
   "source": [
    "## Exercise: Launch the `notebook` app"
   ]
  },
  {
   "cell_type": "markdown",
   "metadata": {},
   "source": [
    "You should see the Jupyter Notebook file browser, as follows:\n",
    "\n",
    "\n",
    "![wakariui](img/jupyter_main.png)"
   ]
  },
  {
   "cell_type": "markdown",
   "metadata": {},
   "source": [
    "## Creating Notebooks"
   ]
  },
  {
   "cell_type": "markdown",
   "metadata": {},
   "source": [
    "New notebook documents are created using the New Notebook button at the top right of the page.\n",
    "\n",
    "Notebooks act as an in-browser Python environment, with syntax highlighting and output within the document.\n",
    "\n",
    "Code written in each cell can be run by pressing shift and enter simultaneously.  Output will appear immediately below the code, and a new cell will appear below that.\n",
    "\n",
    "![wakariui](img/sample_notebook.png)"
   ]
  },
  {
   "cell_type": "markdown",
   "metadata": {},
   "source": [
    "## Exercise: Create a New Notebook"
   ]
  },
  {
   "cell_type": "markdown",
   "metadata": {},
   "source": [
    "* Give it a new name\n",
    "* Test the project environment you created by importing numpy, pandas, and matplotlib"
   ]
  },
  {
   "cell_type": "markdown",
   "metadata": {},
   "source": [
    "## Viewing Notebook Files"
   ]
  },
  {
   "cell_type": "markdown",
   "metadata": {},
   "source": [
    "Once created, notebooks will appear on the dashboard.  If you don't see it, use the Refresh button in the top right.\n",
    "\n",
    "![wakariui](img/dashboard.png)"
   ]
  },
  {
   "cell_type": "markdown",
   "metadata": {},
   "source": [
    "## Exercise: Use the Terminal app to Find your Notebook"
   ]
  },
  {
   "cell_type": "markdown",
   "metadata": {},
   "source": [
    "Opening the Terminal app, your created notebook will appear in the project directory.\n",
    "\n",
    "![wakariui](img/terminal_notebook.png)"
   ]
  },
  {
   "cell_type": "markdown",
   "metadata": {},
   "source": [
    "## Exercise: Use the Workbench App to find your Notebook"
   ]
  },
  {
   "cell_type": "markdown",
   "metadata": {},
   "source": [
    "Finding your notebook is much the same in the Workbench.\n",
    "\n",
    "![wakariui](img/workbench_notebook.png)"
   ]
  },
  {
   "cell_type": "markdown",
   "metadata": {},
   "source": [
    "# Notebook Extensions"
   ]
  },
  {
   "cell_type": "markdown",
   "metadata": {},
   "source": [
    "Anaconda Enterprise Notebooks goes beyond what is found in normal Jupyter Notebooks.\n",
    "\n",
    "AEN Notebok extensions help the Jupyter notebook users to:\n",
    "* auto synchronize their environments\n",
    "* lock the content of their notebooks\n",
    "* revision control their work\n",
    "* interact with the conda and Anaconda ecosystem"
   ]
  },
  {
   "cell_type": "markdown",
   "metadata": {},
   "source": [
    "## Synchronize your environments."
   ]
  },
  {
   "cell_type": "markdown",
   "metadata": {},
   "source": [
    "AEN detects your project environments at the notebook initialization and synchronize\n",
    "those with the Jupyter machinery, offering you all these environments as \"kernel\"-like options. \n",
    "\n",
    "In this way, you can change environments inside a unique notebook session without the need to fire several instances using each of your selected environments. \n",
    "\n",
    "You can also now trigger `R-kernels` if your project environment have `R` installed.\n",
    "\n",
    "![wakariui](img/extensions_kernels.png)\n",
    "\n",
    "In AEN the \"auto\" kernel points to the new environment named `default`."
   ]
  },
  {
   "cell_type": "markdown",
   "metadata": {},
   "source": [
    "## Locking"
   ]
  },
  {
   "cell_type": "markdown",
   "metadata": {},
   "source": [
    "Multi-user access to the same file is enabled via a locking mechanic. \n",
    "* Jupyter notebook does not have real-time collaboration yet\n",
    "* AEN adds a file-based locking mechanism to avoid overwriting between multiple users. \n",
    "\n",
    "In this way, a user can \"lock\" the notebook which is working on and if some other users try to save the notebook with their own changes, the save capability will be disable, and they can not overwrite the locked notebook. \n",
    "\n",
    "They have to \"steal\" the lock by using a button in to notebook toolbar.\n",
    "\n",
    "![wakariui](img/extensions_locker.png)\n",
    "\n",
    "**Note**: This is a \"soft locking model\", so everyone can take the lock and save their work."
   ]
  },
  {
   "cell_type": "markdown",
   "metadata": {},
   "source": [
    "## Revision Control Mechamism (RCM)"
   ]
  },
  {
   "cell_type": "markdown",
   "metadata": {},
   "source": [
    "The revision control extension in AEN leverages the population open-source RCS tool `git`. It is implemented as a nbextension (js-based extension) using the internal Jupyter machinery to perform its tasks."
   ]
  },
  {
   "cell_type": "markdown",
   "metadata": {},
   "source": [
    "### Set-Up"
   ]
  },
  {
   "cell_type": "markdown",
   "metadata": {},
   "source": [
    "Before using notebook revision control, you need to do some set-up.\n",
    "\n",
    "Form the project applications, open the terminal app, and run the following commands:\n",
    "\n",
    "```\n",
    "git config --global user.email \"you@example.com\" \n",
    "git config --global user.name \"Your Name”\n",
    "```"
   ]
  },
  {
   "cell_type": "markdown",
   "metadata": {},
   "source": [
    "The model behind the extension is a simple \"linear\" model on the surface but a more complex git-based branched model under the hood. \n",
    "\n",
    "The \"latest wins\" strategy is used so there is no merging conflict by design."
   ]
  },
  {
   "cell_type": "markdown",
   "metadata": {},
   "source": [
    "### Toolbar Interface"
   ]
  },
  {
   "cell_type": "markdown",
   "metadata": {},
   "source": [
    "The RCM nbextension provides essentially 3 buttons to perform 3 actions:\n",
    "* Status (\"i\" character)\n",
    "* Checkout (\"branch/fork\" icon)\n",
    "* Commit (\"star\" icon)\n",
    "\n",
    "![wakariui](img/extensions_rcm.png)"
   ]
  },
  {
   "cell_type": "markdown",
   "metadata": {},
   "source": [
    "### Status"
   ]
  },
  {
   "cell_type": "markdown",
   "metadata": {},
   "source": [
    "This option let you know the revision point where you are now. Also, it lets you see a diff between the current revision point and the latest changes introduced by you, but not yet commited.\n",
    "\n",
    "![wakariui](img/extensions_rcm_status.png)"
   ]
  },
  {
   "cell_type": "markdown",
   "metadata": {},
   "source": [
    "### Checkout"
   ]
  },
  {
   "cell_type": "markdown",
   "metadata": {},
   "source": [
    "This option triggers a modal view presenting you a tree-based view of the previous revision points (representing the evolution of your history) and give you 3 option:\n",
    "\n",
    "1. **Checkout a previous revision point.** To do this, you have to select the desired revision point a press the \"OK\" button. That action will load the Jupyter notebook webapp with a \"new\" notebook file which is actually the \"state\" of that notebook in the selected revision point.\n",
    "2. **Make a diff comparison.** If you select two previous revision points in the current modal view, you can make a diff using the selected points and the result will be presented as a diff view, after you press the \"View diff\" button.\n",
    "3. **Cancel**, to close the current modal view.\n",
    "\n",
    "![wakariui](img/extensions_rcm_checkout.png)"
   ]
  },
  {
   "cell_type": "markdown",
   "metadata": {},
   "source": [
    "### Commit"
   ]
  },
  {
   "cell_type": "markdown",
   "metadata": {},
   "source": [
    "This option lets you \"commit\" the current changes (I mean persist the changes in the current VCS supporting the extension, `git` in this case). \n",
    "\n",
    "In this way, you keep a permanent record of the changes introduced and you don't have to be worried about data/information lost. \n",
    "\n",
    "You have a new modal view asking for a commit message. After writing the message, you commit actually pressing the \"OK\" button.\n",
    "\n",
    "![wakariui](img/extensions_rcm_commit.png)"
   ]
  },
  {
   "cell_type": "markdown",
   "metadata": {},
   "source": [
    "**Note**: The diff functionality: it is actually difficult to diff the ipynb content because of the reason exposed above, but to partially avoid that problem the ipynb notebook  is \"flattened\" to get rid of some of the metadata information and be able to efficiently diff the actual cell content, keeping\n",
    "some additional contextual info still present, ie. the cell prompt number. Then we use the python diff library to actual get the diff content and present the result to the user in a codemirror instance."
   ]
  },
  {
   "cell_type": "markdown",
   "metadata": {},
   "source": [
    "# Conda integration"
   ]
  },
  {
   "cell_type": "markdown",
   "metadata": {},
   "source": [
    "We now provide a new extension called `nb_conda` provides Conda environment and package access extension from within Jupyter.\n",
    "\n",
    "![wakariui](img/extensions_conda.png)"
   ]
  },
  {
   "cell_type": "markdown",
   "metadata": {},
   "source": [
    "## Conda tab in the Jupyter file browser"
   ]
  },
  {
   "cell_type": "markdown",
   "metadata": {},
   "source": [
    "This extensions adds a Conda tab to the Jupyter file browser. Selecting the Conda tab will display:\n",
    "\n",
    "* A list of the Conda environments that current exist\n",
    "* The list of Conda packages available in currently configured channels (http://conda.pydata.org/docs/config.html#channel-locations-channels)\n",
    "* The list of packages installed in the selected environment.\n",
    "\n",
    "You can click on the name of an environment to select it. That will allow you to:\n",
    "\n",
    "* see the packages installed in the environment\n",
    "* install new packages from the available package list\n",
    "* check for updates on selected (or all) packages\n",
    "* update selected (or all) packages in the environment."
   ]
  },
  {
   "cell_type": "markdown",
   "metadata": {},
   "source": [
    "## Creating New Environments"
   ]
  },
  {
   "cell_type": "markdown",
   "metadata": {},
   "source": [
    "There are two ways to create an environment:\n",
    "\n",
    "* Create a new environment Use the New Environment button at the top of the page, and select Python 2, Python 3, or R to create a base environment with the corresponding packages.\n",
    "**Note**: if you want to run a Jupyter python kernel in the new environment, you must also install the ipykernel package in the environment.\n",
    "\n",
    "* Clone an existing environment Click the clone button next to an environment in the list, and enter the desired name of the new environment."
   ]
  },
  {
   "cell_type": "markdown",
   "metadata": {},
   "source": [
    "## Conda in the Notebook view"
   ]
  },
  {
   "cell_type": "markdown",
   "metadata": {},
   "source": [
    "This extension adds a Conda Packages item to the Kernel menu. Selecting this item displays the list of Conda packages in the environment associated with the running kernel, and the list of available packages. You can perform the same actions as in the Conda tab, but only against the current environment."
   ]
  },
  {
   "cell_type": "markdown",
   "metadata": {},
   "source": [
    "# Anaconda Cloud integration"
   ]
  },
  {
   "cell_type": "markdown",
   "metadata": {},
   "source": [
    "You can now easily upload your notebook to Anaconda Cloud with a simple button at the notebook UI\n",
    "\n",
    "![wakariui](img/extensions_anacondacloud.png)\n",
    "\n",
    "Your AEN can be configured to upload to your Anaconda Enterprise Repository instead of Anaconda Cloud."
   ]
  },
  {
   "cell_type": "markdown",
   "metadata": {},
   "source": [
    "---\n",
    "*Copyright Continuum 2012-2016 All Rights Reserved.*"
   ]
  }
 ],
 "metadata": {
  "anaconda-cloud": {},
  "kernelspec": {
   "display_name": "Python [conda root]",
   "language": "python",
   "name": "conda-root-py"
  },
  "language_info": {
   "codemirror_mode": {
    "name": "ipython",
    "version": 3
   },
   "file_extension": ".py",
   "mimetype": "text/x-python",
   "name": "python",
   "nbconvert_exporter": "python",
   "pygments_lexer": "ipython3",
   "version": "3.5.2"
  }
 },
 "nbformat": 4,
 "nbformat_minor": 0
}
