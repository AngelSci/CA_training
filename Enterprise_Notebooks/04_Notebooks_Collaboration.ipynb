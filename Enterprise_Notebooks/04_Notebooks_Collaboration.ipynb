{
 "cells": [
  {
   "cell_type": "markdown",
   "metadata": {},
   "source": [
    "<img src='../img/anaconda-logo.png' align='left' style=\"padding:10px\">\n",
    "<br>\n",
    "*Copyright Continuum 2012-2016 All Rights Reserved.*"
   ]
  },
  {
   "cell_type": "markdown",
   "metadata": {},
   "source": [
    "# Anaconda Enterprise Notebooks: Collaboration"
   ]
  },
  {
   "cell_type": "markdown",
   "metadata": {},
   "source": [
    "AEN enables collaboration within and across teams."
   ]
  },
  {
   "cell_type": "markdown",
   "metadata": {},
   "source": [
    "## Table of Contents\n",
    "* [Anaconda Enterprise Notebooks: Collaboration](#Anaconda-Enterprise-Notebooks:-Collaboration)\n",
    "* [Overview](#Overview)\n",
    "* [Team Collaboration](#Team-Collaboration)\n",
    "\t* [Team Members](#Team-Members)\n",
    "\t* [Teams and Projects](#Teams-and-Projects)\n",
    "\t* [Exercise: Add other users to a project you own](#Exercise:-Add-other-users-to-a-project-you-own)\n",
    "\t* [Project Collaboration](#Project-Collaboration)\n",
    "\t* [Top Collaborators](#Top-Collaborators)\n",
    "\t* [Exercise: Remove one Collaborator from a Project](#Exercise:-Remove-one-Collaborator-from-a-Project)\n",
    "\t* [Exercise: Try to Become the Top Collaborator](#Exercise:-Try-to-Become-the-Top-Collaborator)\n",
    "* [Tagging](#Tagging)\n",
    "\t* [Adding Tags](#Adding-Tags)\n",
    "\t* [Top Tags](#Top-Tags)\n",
    "\t* [Exercise: Add a Tag to your Project useful for searches](#Exercise:-Add-a-Tag-to-your-Project-useful-for-searches)\n",
    "\t* [Remove Tags](#Remove-Tags)\n",
    "\t* [List Projects by Tag](#List-Projects-by-Tag)\n",
    "\t* [Exercise: Use Tags to Find a Project](#Exercise:-Use-Tags-to-Find-a-Project)\n",
    "* [Search](#Search)\n",
    "\t* [Creating a Search](#Creating-a-Search)\n",
    "\t* [Saving a Search](#Saving-a-Search)\n",
    "\t* [Listing and Removing Searches](#Listing-and-Removing-Searches)\n",
    "\t* [Additional Search Information](#Additional-Search-Information)\n",
    "\t* [Exercise: Search by Project Tags](#Exercise:-Search-by-Project-Tags)\n",
    "\t* [Exercise: Search by Project Content](#Exercise:-Search-by-Project-Content)\n",
    "* [Recommendations](#Recommendations)\n",
    "* [Stars](#Stars)\n",
    "\t* [Top Rated](#Top-Rated)\n",
    "\t* [Adding Stars](#Adding-Stars)\n",
    "\t* [Exercise: Star the Projects of Your Classmates.](#Exercise:-Star-the-Projects-of-Your-Classmates.)\n"
   ]
  },
  {
   "cell_type": "markdown",
   "metadata": {},
   "source": [
    "# Overview"
   ]
  },
  {
   "cell_type": "markdown",
   "metadata": {},
   "source": [
    "* You can create team projects and use them to share analysis code and results with your team\n",
    "* You can add any Anaconda Enterprise Notebooks user to your project as a team member.\n",
    "* There is no limit on the number of team members you can have on a project.\n",
    "* Team members have full access to the project applications, files and services.\n",
    "* All projects have a project drive that team members share.\n",
    "* Team members also have full access to their Anaconda Enterprise Notebooks home directory."
   ]
  },
  {
   "cell_type": "markdown",
   "metadata": {},
   "source": [
    "# Team Collaboration"
   ]
  },
  {
   "cell_type": "markdown",
   "metadata": {},
   "source": [
    "## Team Members"
   ]
  },
  {
   "cell_type": "markdown",
   "metadata": {},
   "source": [
    "* Team members have full access to the project applications, files and services.\n",
    "* When a team member is added, their home directory is mounted to the project. \n",
    "* There is no need to download and email data or scripts\n",
    "* your team members can work on the same files in the same environment as you!"
   ]
  },
  {
   "cell_type": "markdown",
   "metadata": {},
   "source": [
    "## Teams and Projects"
   ]
  },
  {
   "cell_type": "markdown",
   "metadata": {},
   "source": [
    "Team members may be added or removed easily here.  Simply type in the username of someone you would like to include, then click the 'Add' button to the right of the entry box.\n",
    "\n",
    "![wakariui](img/manage_team_members.png)\n",
    "\n",
    "Removing team members is just as simple.  Click the red 'remove' link next to the name of the user you would like to remove."
   ]
  },
  {
   "cell_type": "markdown",
   "metadata": {},
   "source": [
    "## Exercise: Add other users to a project you own"
   ]
  },
  {
   "cell_type": "markdown",
   "metadata": {},
   "source": [
    "* Add the instructor\n",
    "* Add the person to your right\n",
    "* Add the person to your left"
   ]
  },
  {
   "cell_type": "markdown",
   "metadata": {},
   "source": [
    "## Project Collaboration"
   ]
  },
  {
   "cell_type": "markdown",
   "metadata": {},
   "source": [
    "Teams collaborate in Anaconda Enterprise Notebooks via _Projects_. Projects allow a team to be easily combined with the resources, apps, and environments they need to come together and effectively collaborate.\n",
    "\n",
    "The project owner and team members of a Anaconda Enterprise Notebooks project have:\n",
    "\n",
    "\t- Shared files and home directories\n",
    "\t- Shared Python environment\n",
    "\t- Shared nodes / hardware\n",
    "\t- Common apps\n",
    "\t- Web UI"
   ]
  },
  {
   "cell_type": "markdown",
   "metadata": {},
   "source": [
    "You can see all the team members on a project and view the profile of each team member and the projects they have created.\n",
    "\n",
    "In each project home page, you can see a list of \"related projects\" that use code libraries and functions similar to the ones used in the current project.\n",
    "You will only see projects that you have access to, either public projects or ones on which you are a team member."
   ]
  },
  {
   "cell_type": "markdown",
   "metadata": {},
   "source": [
    "## Top Collaborators"
   ]
  },
  {
   "cell_type": "markdown",
   "metadata": {},
   "source": [
    "The home page has a section that lists your top collaborators. This list is composed of those collaborators that share the most projects in common with you. \n",
    "\n",
    "If you click on one of the collaborators you will be taken to a view of their home page where you can see those projects\n",
    "that they are contributors on that you also have access to view, including all public projects they are contributors on.\n",
    "\n",
    "<center>\n",
    "![top_collaborators](img/top_collaborators.png)\n",
    "</center>"
   ]
  },
  {
   "cell_type": "markdown",
   "metadata": {},
   "source": [
    "## Exercise: Remove one Collaborator from a Project"
   ]
  },
  {
   "cell_type": "markdown",
   "metadata": {},
   "source": [
    "* Remove the person on your left.\n",
    "* Challenge them to find and view that project now."
   ]
  },
  {
   "cell_type": "markdown",
   "metadata": {},
   "source": [
    "## Exercise: Try to Become the Top Collaborator"
   ]
  },
  {
   "cell_type": "markdown",
   "metadata": {},
   "source": [
    "* Create 2 new projects\n",
    "* Add a few others in the class to your projects\n",
    "* Ask others to add you as a collaborator to theirs.\n",
    "* Check the results in the `Top Collaborators` to see the results.\n",
    "* Reload often."
   ]
  },
  {
   "cell_type": "markdown",
   "metadata": {},
   "source": [
    "# Tagging"
   ]
  },
  {
   "cell_type": "markdown",
   "metadata": {},
   "source": [
    "**Tags** can be used as \n",
    "* a way to group like projects, \n",
    "* as a way to identify a project so that it is easier to find at a later date, and \n",
    "* as a way to let others know about a project. \n",
    "\n",
    "On any project you have access to you can create, and remove, *tags* to that are associated with that project."
   ]
  },
  {
   "cell_type": "markdown",
   "metadata": {},
   "source": [
    "## Adding Tags"
   ]
  },
  {
   "cell_type": "markdown",
   "metadata": {},
   "source": [
    "To add a *tag* go to the projects main page. In the \"Tags\" box on the right of page enter the name of *tag* you wish at add and click the \"Add\" button.\n",
    "\n",
    "<center>\n",
    "![tag_add](img/tag_add.png)\n",
    "\n",
    "![tag_added](img/tag_added.png)\n",
    "</center>"
   ]
  },
  {
   "cell_type": "markdown",
   "metadata": {},
   "source": [
    "## Top Tags"
   ]
  },
  {
   "cell_type": "markdown",
   "metadata": {},
   "source": [
    "The new *tag* will be added and show up in the \"Tags\" list. "
   ]
  },
  {
   "cell_type": "markdown",
   "metadata": {},
   "source": [
    "![tag_on_dashboard](img/tag_on_dashboard.png)"
   ]
  },
  {
   "cell_type": "markdown",
   "metadata": {},
   "source": [
    "## Exercise: Add a Tag to your Project useful for searches"
   ]
  },
  {
   "cell_type": "markdown",
   "metadata": {},
   "source": [
    "Add a tag that you think will help other users find your project when using the search tool (which we will use below!)"
   ]
  },
  {
   "cell_type": "markdown",
   "metadata": {},
   "source": [
    "## Remove Tags"
   ]
  },
  {
   "cell_type": "markdown",
   "metadata": {},
   "source": [
    "To remove a *tag* from a project click on the \"x\" next to the *tag's* name.\n",
    "\n",
    "If the *tag* was not already visible from your main home page in the \"Tag\" list it will be added. If the *tag* already was showing because another project had the *tag*, then the number next to the *tag* name will be incremented.\n"
   ]
  },
  {
   "cell_type": "markdown",
   "metadata": {},
   "source": [
    "## List Projects by Tag"
   ]
  },
  {
   "cell_type": "markdown",
   "metadata": {},
   "source": [
    "Just click on a *tag* name and a list of projects with that *tag* will be shown. \n",
    "\n",
    "The results list will show those public projects and private projects\n",
    "that you have access to which also have that *tag*. Clicking on a project will take you to that project's home page.\n",
    "\n",
    "<center>\n",
    "![tag_click](img/tag_click.png)\n",
    "\n",
    "![tag_results](img/tag_results.png)\n",
    "</center>"
   ]
  },
  {
   "cell_type": "markdown",
   "metadata": {},
   "source": [
    "## Exercise: Use Tags to Find a Project"
   ]
  },
  {
   "cell_type": "markdown",
   "metadata": {},
   "source": [
    "* Ask you classmate to the right what tag they've added\n",
    "* Look for that tag on the tags list.\n",
    "* If you find it, select it to list the projects\n",
    "* If you don't see the tag, ask your classmate to add you as a collaborator to the associate project and try again"
   ]
  },
  {
   "cell_type": "markdown",
   "metadata": {},
   "source": [
    "# Search"
   ]
  },
  {
   "cell_type": "markdown",
   "metadata": {},
   "source": [
    "You can search for projects and files using the Search box at the top of the screen. \n",
    "\n",
    "When you are viewing a project home page, the Search box will search for files within the current project. Otherwise, it will search for projects containing files that match your search criteria. \n",
    "\n",
    "Note that your search results will only include files and projects which you have permissions to view. "
   ]
  },
  {
   "cell_type": "markdown",
   "metadata": {},
   "source": [
    "## Creating a Search"
   ]
  },
  {
   "cell_type": "markdown",
   "metadata": {},
   "source": [
    "To search just enter a string to use and press enter.\n",
    "<center>\n",
    "![search_box](img/search_box.png)\n",
    "</center>\n",
    "\n",
    "After pressing enter you will see the results. Clicking on the plus (\"+\") icon will show the files that the search returned for the given project.\n",
    "\n",
    "The results are limited to public projects and those private projects to which you have at least view access. If you click on a file the file will open for you to view.\n",
    "\n",
    "<center>\n",
    "![search_results_expansion](img/search_results_expansion_icon.png)\n",
    "\n",
    "![search_results_detail](img/search_results_details.png)\n",
    "</center>\n",
    "\n",
    "Clicking on the project name instead of the plus (\"+\") sign will take you to the project."
   ]
  },
  {
   "cell_type": "markdown",
   "metadata": {},
   "source": [
    "## Saving a Search"
   ]
  },
  {
   "cell_type": "markdown",
   "metadata": {},
   "source": [
    "You can save a search for future use. At the top of the search results clicking on the \"save this search\" text will save the search."
   ]
  },
  {
   "cell_type": "markdown",
   "metadata": {},
   "source": [
    "<center>\n",
    "![save_search](img/save_search.png)\n",
    "</center>"
   ]
  },
  {
   "cell_type": "markdown",
   "metadata": {},
   "source": [
    "The \"save this search\" text will change to read \"stored\"."
   ]
  },
  {
   "cell_type": "markdown",
   "metadata": {},
   "source": [
    "<center>\n",
    "![save_search_saved](img/save_search_saved.png)\n",
    "</center>"
   ]
  },
  {
   "cell_type": "markdown",
   "metadata": {},
   "source": [
    "## Listing and Removing Searches"
   ]
  },
  {
   "cell_type": "markdown",
   "metadata": {},
   "source": [
    "The saved search can then be found in the \"Saved Searches\" box on your Dashboard.\n",
    "\n",
    "<center>\n",
    "![saved_searches](img/saved_searches.png)\n",
    "</center>"
   ]
  },
  {
   "cell_type": "markdown",
   "metadata": {},
   "source": [
    "To remove the saved search click the \"x\" next to the name of the search."
   ]
  },
  {
   "cell_type": "markdown",
   "metadata": {},
   "source": [
    "## Additional Search Information"
   ]
  },
  {
   "cell_type": "markdown",
   "metadata": {},
   "source": [
    "Currently these types of files are included in search results:\n",
    "\n",
    "* **files.py**: Python source files\n",
    "* **files.ipynb**: IPython/Jupyter notebooks\n",
    "* **files.txt**: plain text files\n",
    "* **files.md**: Markdown files\n",
    "\n",
    "You can use any of the following search constructs:\n",
    "\n",
    "* Ordinary words will match the full-text contents of any file\n",
    "* Wildcards are permitted (`John*` will match `John` and `Johnny`)\n",
    "* Combine queries using `AND` or `OR`, and group them using parentheses.\n",
    "\n",
    "You can also search in specific metadata fields:\n",
    "\n",
    "* `imports:name` will match files that import the module 'name'\n",
    "* `uses:name` will match files that reference the identifier 'name'. Referenced names include functions and globals imported from other modules, as well as the names of methods invoked on any object.\n",
    "* `defines:name` will match files that define the identifier 'name'. Defined names include functions defined at global scope, class names, and method names within classes.\n",
    "* `acl:user` will match files that the user named 'user' has read access to.\n",
    "\n",
    "\n",
    "Files that are modified while a project is running will automatically be re-indexed. Normally, this will occur shortly after the files are modified. If you create or update a large number of files (for example, cloning a git repository or copying a directory), the search results may take several minutes to update.\n",
    "\n",
    "If files are modified while the project is not running, they will be re-indexed once the project is started."
   ]
  },
  {
   "cell_type": "markdown",
   "metadata": {},
   "source": [
    "## Exercise: Search by Project Tags"
   ]
  },
  {
   "cell_type": "markdown",
   "metadata": {},
   "source": [
    "* Search using a tag name to find a project"
   ]
  },
  {
   "cell_type": "markdown",
   "metadata": {},
   "source": [
    "## Exercise: Search by Project Content"
   ]
  },
  {
   "cell_type": "markdown",
   "metadata": {},
   "source": [
    "* Search for a filename, a key-word from a project description, or any other content contained within a Project, but not in the Project name nor one of it's tags."
   ]
  },
  {
   "cell_type": "markdown",
   "metadata": {},
   "source": [
    "# Recommendations"
   ]
  },
  {
   "cell_type": "markdown",
   "metadata": {},
   "source": [
    "On a project's home page there is a \"Related Projects\" list on the right side of the page below the Team list. \n",
    "\n",
    "The projects listed in this section are automatically based on how similar their files are to the project being viewed.\n",
    "\n",
    "<center>\n",
    "![recommended_projects](img/recommended_projects.png)\n",
    "</center>"
   ]
  },
  {
   "cell_type": "markdown",
   "metadata": {},
   "source": [
    "The recommendation engine leverages the search functionality to locate similar files and projects. \n",
    "* In determining what should be listed in the *Related Projects* lists the recommendation engine gets the existing files in the project. \n",
    "* The terms found in those documents are weighted to determine which ones are to be used for the \"likeness\" search. \n",
    "* A search is then performed, with extra weighting given to the *uses* and *imports* keywords,\n",
    "find the files, and the related projects, that are most similar to the current project's files. \n",
    "* The results are scored and the top scoring matches are displayed for public projects and those private projects to which you have access. \n",
    "* The recommendation is driven by the how similar the files are between the projects."
   ]
  },
  {
   "cell_type": "markdown",
   "metadata": {},
   "source": [
    "# Stars"
   ]
  },
  {
   "cell_type": "markdown",
   "metadata": {},
   "source": [
    "When you star a project it makes it more likely that the project will appear in the **Top Rated** project list on the Dashboard home page."
   ]
  },
  {
   "cell_type": "markdown",
   "metadata": {},
   "source": [
    "## Top Rated"
   ]
  },
  {
   "cell_type": "markdown",
   "metadata": {},
   "source": [
    "The number next to the project in the Top Rated list is the number of stars that have been given to that project. Clicking on a project\n",
    "in the list will take you to a view of that project's home page.\n",
    "\n",
    "![star_list](img/star_list.png)"
   ]
  },
  {
   "cell_type": "markdown",
   "metadata": {},
   "source": [
    "## Adding Stars"
   ]
  },
  {
   "cell_type": "markdown",
   "metadata": {},
   "source": [
    "If you see a project you can **star** the project. To star a project just click the *star* icon at the upper right on the project page.\n",
    "\n",
    "To unstar a project just click the *star* again. Adding and removing stars on a project does not affect anyone else's stars that they may have added.\n",
    "\n",
    "![star](img/star.png)"
   ]
  },
  {
   "cell_type": "markdown",
   "metadata": {},
   "source": [
    "## Exercise: Star the Projects of Your Classmates."
   ]
  },
  {
   "cell_type": "markdown",
   "metadata": {},
   "source": [
    "* Star some, but not all of the projects of your classmates.\n",
    "* After a few minutes, check the `Top Rated` section of your Dashboard to see which projects \"win\"."
   ]
  },
  {
   "cell_type": "markdown",
   "metadata": {},
   "source": [
    "---\n",
    "*Copyright Continuum 2012-2016 All Rights Reserved.*"
   ]
  }
 ],
 "metadata": {
  "anaconda-cloud": {},
  "kernelspec": {
   "display_name": "Python [conda root]",
   "language": "python",
   "name": "conda-root-py"
  },
  "language_info": {
   "codemirror_mode": {
    "name": "ipython",
    "version": 3
   },
   "file_extension": ".py",
   "mimetype": "text/x-python",
   "name": "python",
   "nbconvert_exporter": "python",
   "pygments_lexer": "ipython3",
   "version": "3.5.2"
  }
 },
 "nbformat": 4,
 "nbformat_minor": 0
}
