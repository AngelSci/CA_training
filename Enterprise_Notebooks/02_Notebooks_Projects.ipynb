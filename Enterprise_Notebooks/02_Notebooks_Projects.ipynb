{
 "cells": [
  {
   "cell_type": "markdown",
   "metadata": {},
   "source": [
    "<img src='../img/anaconda-logo.png' align='left' style=\"padding:10px\">\n",
    "<br>\n",
    "*Copyright Continuum 2012-2016 All Rights Reserved.*"
   ]
  },
  {
   "cell_type": "markdown",
   "metadata": {},
   "source": [
    "# Anaconda Enterprise Notebooks: Projects"
   ]
  },
  {
   "cell_type": "markdown",
   "metadata": {},
   "source": [
    "Anaconda Enterprise Notebooks projects are a powerful way to collaborate. In this lesson, we see how to create a project and adjust it's settings. In a future lesson, we will see more on project collaborations."
   ]
  },
  {
   "cell_type": "markdown",
   "metadata": {},
   "source": [
    "## Table of Contents\n",
    "* [Anaconda Enterprise Notebooks: Projects](#Anaconda-Enterprise-Notebooks:-Projects)\n",
    "* [Projects Overview](#Projects-Overview)\n",
    "\t* [Project Applications](#Project-Applications)\n",
    "\t* [Project Team Members](#Project-Team-Members)\n",
    "* [Creating a New Project](#Creating-a-New-Project)\n",
    "\t* [Initiate Project Creation](#Initiate-Project-Creation)\n",
    "\t* [Enter Project Information](#Enter-Project-Information)\n",
    "\t* [Exercise: Create a New Project](#Exercise:-Create-a-New-Project)\n",
    "* [Project Home Page](#Project-Home-Page)\n",
    "\t* [Exercise: Add the Instructor as Collaborator](#Exercise:-Add-the-Instructor-as-Collaborator)\n",
    "* [Project Start/Stop](#Project-Start/Stop)\n",
    "\t* [Project Status Icons (red, orange, green)](#Project-Status-Icons-%28red,-orange,-green%29)\n",
    "\t* [Exercise: Start Your Project](#Exercise:-Start-Your-Project)\n",
    "* [Project Settings](#Project-Settings)\n",
    "\t* [Accessing Settings](#Accessing-Settings)\n",
    "\t* [Project Status](#Project-Status)\n",
    "\t* [Project Tab: Summary](#Project-Tab:-Summary)\n",
    "\t* [Team Tab: Adding Collaborators](#Team-Tab:-Adding-Collaborators)\n",
    "\t* [Admin Tab: Access Control](#Admin-Tab:-Access-Control)\n",
    "\t* [Info Tab: Overview](#Info-Tab:-Overview)\n",
    "\t* [Exercise: Make your Project Public](#Exercise:-Make-your-Project-Public)\n",
    "* [Project Drive and Directory](#Project-Drive-and-Directory)\n",
    "* [Project Environment](#Project-Environment)\n",
    "\t* [Project Default Environment](#Project-Default-Environment)\n",
    "\t* [Project Custom Environments](#Project-Custom-Environments)\n",
    "\t* [Environment Locations](#Environment-Locations)\n",
    "\t* [Project Environment](#Project-Environment)\n",
    "\t* [Python 3 Environments](#Python-3-Environments)\n",
    "\t* [Exercise: Create a Custom Environment](#Exercise:-Create-a-Custom-Environment)\n"
   ]
  },
  {
   "cell_type": "markdown",
   "metadata": {},
   "source": [
    "# Projects Overview"
   ]
  },
  {
   "cell_type": "markdown",
   "metadata": {},
   "source": [
    "Anaconda Enterprise Notebooks projects support teams working on a shared node with a shared drive and a common python environment.\n",
    "\n",
    "![projects](img/index_project_overview.png)\n",
    "\n",
    "After you create a Anaconda Enterprise Notebooks account, you can create as many projects as you'd like.\n",
    "\n",
    "Your Anaconda Enterprise Notebooks home directory is mounted to all your projects."
   ]
  },
  {
   "cell_type": "markdown",
   "metadata": {},
   "source": [
    "## Project Applications"
   ]
  },
  {
   "cell_type": "markdown",
   "metadata": {},
   "source": [
    "Each project has a set of associate applications with which to create environments and notebooks:\n",
    "\n",
    "*  **Workbench** (file manager)\n",
    "*  **Viewer** (view jupyter notebooks)\n",
    "*  **Notebook** (create and edit jupyter notebooks)\n",
    "*  **Terminal** (e.g. to use the conda command to create environments)\n",
    "\n",
    "![project applications](img/index_app_icons.png)\n",
    "\n",
    "All applications within a project have simultaneous access to your home directory and project drive. "
   ]
  },
  {
   "cell_type": "markdown",
   "metadata": {},
   "source": [
    "## Project Team Members"
   ]
  },
  {
   "cell_type": "markdown",
   "metadata": {},
   "source": [
    "* You could work on a project alone, without any other users.\n",
    "* To collaborate, you must add other users as a Team member of the project./\n",
    "* Each project has a unique team member list that manage, you as project creator and owner.\n",
    "* There is no limit on the number of team members you can add to a project.\n",
    "* Each new project comes with a shared project drive that team members can easily and securely access.\n",
    "* Team members have full access to the project applications, files and services.\n",
    "* When a team member is added, their home directory is mounted to the project. \n",
    "* There is no need to download and email data or scripts\n",
    "* Your team members work on the same files in the same environment as you!"
   ]
  },
  {
   "cell_type": "markdown",
   "metadata": {},
   "source": [
    "# Creating a New Project"
   ]
  },
  {
   "cell_type": "markdown",
   "metadata": {},
   "source": [
    "## Initiate Project Creation"
   ]
  },
  {
   "cell_type": "markdown",
   "metadata": {},
   "source": [
    "To create a new project, there are two methods:\n",
    "\n",
    "Click on the `New Project` icon on the right hand side of the upper Anaconda Enterprise Notebooks.\n",
    "\n",
    "![menu_bar](img/02_a_new_project_button_1.png)"
   ]
  },
  {
   "cell_type": "markdown",
   "metadata": {},
   "source": [
    "...or click the new projects icon on the toolbar at the top"
   ]
  },
  {
   "cell_type": "markdown",
   "metadata": {},
   "source": [
    "![menu_bar](img/02_b_new_project_button_2.png)"
   ]
  },
  {
   "cell_type": "markdown",
   "metadata": {},
   "source": [
    "## Enter Project Information"
   ]
  },
  {
   "cell_type": "markdown",
   "metadata": {},
   "source": [
    "Enter the project name in the create project dialog that appears. The\n",
    "project defaults to being private. You can change the project to be public at creation or at a later time."
   ]
  },
  {
   "cell_type": "markdown",
   "metadata": {},
   "source": [
    "![new_project_create](img/02_c_new_project_create_box.png)"
   ]
  },
  {
   "cell_type": "markdown",
   "metadata": {},
   "source": [
    "## Exercise: Create a New Project"
   ]
  },
  {
   "cell_type": "markdown",
   "metadata": {},
   "source": [
    "Give it a unique name. Do not add any collaborators yet."
   ]
  },
  {
   "cell_type": "markdown",
   "metadata": {},
   "source": [
    "# Project Home Page"
   ]
  },
  {
   "cell_type": "markdown",
   "metadata": {},
   "source": [
    "Once you are satisfied with your choices/entries, click the *Next* button at the bottom right hand side of the window.\n",
    "\n",
    "You will be taken to the home screen for your new project.  \n",
    "![new_project_create](img/02_d_new_project_home.png)"
   ]
  },
  {
   "cell_type": "markdown",
   "metadata": {},
   "source": [
    "## Exercise: Add the Instructor as Collaborator"
   ]
  },
  {
   "cell_type": "markdown",
   "metadata": {},
   "source": [
    "In the \"Team\" section to add a collaborator. Add the instructor. This is to verify that you created a project. Team Collaboration will come in the next lessons."
   ]
  },
  {
   "cell_type": "markdown",
   "metadata": {},
   "source": [
    "# Project Start/Stop"
   ]
  },
  {
   "cell_type": "markdown",
   "metadata": {},
   "source": [
    "To use your project, and to make it visible to team members which you will add, you need to \"Start\" the project.\n",
    "\n",
    "Newly created projects are **Stopped** by default. Notice the red square icon to the left of the project name. To start a project click on the **Projects Settings** gear icon.  \n",
    "![new_project_create](img/02_e_project_settings_icon.png)"
   ]
  },
  {
   "cell_type": "markdown",
   "metadata": {},
   "source": [
    "Clicking on this icon will open the project settings page. \n",
    "\n",
    "> Click on the **Start** button.\n",
    "\n",
    "\n",
    "You will need to refresh the page to see the button change from \"Starting\" to \"Pause\". When the button has changed to \"Pause\" and the project status icon has changed to a green circle the project has started."
   ]
  },
  {
   "cell_type": "markdown",
   "metadata": {},
   "source": [
    "## Project Status Icons (red, orange, green)"
   ]
  },
  {
   "cell_type": "markdown",
   "metadata": {},
   "source": [
    "A stopped project:\n",
    "![new_project_create](img/02_f_project_start.png)"
   ]
  },
  {
   "cell_type": "markdown",
   "metadata": {},
   "source": [
    "A project starting up:\n",
    "![new_project_create](img/02_g_project_starting_up.png)"
   ]
  },
  {
   "cell_type": "markdown",
   "metadata": {},
   "source": [
    "A project that has been started and is running:\n",
    "![new_project_create](img/02_h_project_started.png)"
   ]
  },
  {
   "cell_type": "markdown",
   "metadata": {},
   "source": [
    "If the button changes to \"Reset\" and the project status icon is a \"Yellow Triangle\" then the project has encountered a problem and did not start.    \n",
    "![new_project_create](img/02_i_project_start_problem.png)"
   ]
  },
  {
   "cell_type": "markdown",
   "metadata": {},
   "source": [
    "Try clicking the \"Reset\" button. This will sometimes allow the project to start. If this does not work contact your administrator."
   ]
  },
  {
   "cell_type": "markdown",
   "metadata": {},
   "source": [
    "**Note**: The project status icon also appears next to the project name on the project homepage and the main Projects page.  \n",
    "**Note**: Launching any of the apps will also start the project."
   ]
  },
  {
   "cell_type": "markdown",
   "metadata": {},
   "source": [
    "## Exercise: Start Your Project"
   ]
  },
  {
   "cell_type": "markdown",
   "metadata": {},
   "source": [
    "Start your project, ask the instructor if they can see it now on their dashboard."
   ]
  },
  {
   "cell_type": "markdown",
   "metadata": {},
   "source": [
    "# Project Settings"
   ]
  },
  {
   "cell_type": "markdown",
   "metadata": {},
   "source": [
    "## Accessing Settings"
   ]
  },
  {
   "cell_type": "markdown",
   "metadata": {},
   "source": [
    "Project settings can be accessed through the icon next to your project's name on the project page.\n",
    "\n",
    "![wakariui](img/project_settings.png)"
   ]
  },
  {
   "cell_type": "markdown",
   "metadata": {},
   "source": [
    "## Project Status"
   ]
  },
  {
   "cell_type": "markdown",
   "metadata": {},
   "source": [
    "You'll find the current status of your project at the top. You can start or pause your project.  It is a good practice to pause your project whenever you're not using it, so you are not using resources others might need."
   ]
  },
  {
   "cell_type": "markdown",
   "metadata": {},
   "source": [
    "## Project Tab: Summary"
   ]
  },
  {
   "cell_type": "markdown",
   "metadata": {},
   "source": [
    "You'll also find the ability to update the project summary and description.  The Summary box accepts plain text. The Description Write tab accepts markdown syntax and you can see a preview of your description under the Preview tab of the Description section.  You'll need to hit the _Submit_ button at the bottom of the screen for your changes to the summary and description to take effect.\n",
    "\n",
    "![wakariui](img/projects_project.png)"
   ]
  },
  {
   "cell_type": "markdown",
   "metadata": {},
   "source": [
    "## Team Tab: Adding Collaborators"
   ]
  },
  {
   "cell_type": "markdown",
   "metadata": {},
   "source": [
    "Team members may be added or removed easily here.  Simply type in the username of someone you would like to include, then click the 'Add' button to the right of the entry box.\n",
    "\n",
    "![wakariui](img/manage_team_members.png)\n",
    "\n",
    "Removing team members is just as simple.  Click the red 'remove' link next to the name of the user you would like to remove."
   ]
  },
  {
   "cell_type": "markdown",
   "metadata": {},
   "source": [
    "## Admin Tab: Access Control"
   ]
  },
  {
   "cell_type": "markdown",
   "metadata": {},
   "source": [
    "Projects can be made private or public or deleted permanently from the Admin section of project settings.\n",
    "\n",
    "![wakariui](img/project_admin.png)"
   ]
  },
  {
   "cell_type": "markdown",
   "metadata": {},
   "source": [
    "## Info Tab: Overview"
   ]
  },
  {
   "cell_type": "markdown",
   "metadata": {},
   "source": [
    "Info provides details about your project and the Datacenter it is running in.\n",
    "\n",
    "![wakariui](img/project_info.png)"
   ]
  },
  {
   "cell_type": "markdown",
   "metadata": {},
   "source": [
    "## Exercise: Make your Project Public"
   ]
  },
  {
   "cell_type": "markdown",
   "metadata": {},
   "source": [
    "Ask you classmates to refresh their dashboards, and then ask them to search for your project by project name."
   ]
  },
  {
   "cell_type": "markdown",
   "metadata": {},
   "source": [
    "# Project Drive and Directory"
   ]
  },
  {
   "cell_type": "markdown",
   "metadata": {},
   "source": [
    "Projects have a project drive attached that all team members can access.  At this time, the size of the project drive is not limited by Anaconda Enterprise Notebooks.  Please contact your system administrator if you find you do not have sufficent space.\n",
    "\n",
    "Each project has a separate project directory on the project drive.  The project directory is a separate space from the owner's and team members' home directories for project files and data that team members share and have equal access to.\n",
    "\n",
    "\tNote: The path to your project directory is /projects/<project owner>/<project_name>"
   ]
  },
  {
   "cell_type": "markdown",
   "metadata": {},
   "source": [
    "# Project Environment"
   ]
  },
  {
   "cell_type": "markdown",
   "metadata": {},
   "source": [
    "## Project Default Environment"
   ]
  },
  {
   "cell_type": "markdown",
   "metadata": {},
   "source": [
    "Python Environments are at the heart of each Anaconda Enterprise Notebooks project.  \n",
    "\n",
    "* When Anaconda Enterprise Notebooks is installed a `default` environment is created.\n",
    "* This default is used as the default enviroment for all new projects.  \n",
    "* The root environment is created and owned by an administrator so it cannot be changed by individual users.  \n",
    "* When a user needs a custom environment that is different than the root env they must create a new env and set their project to use it."
   ]
  },
  {
   "cell_type": "markdown",
   "metadata": {},
   "source": [
    "## Project Custom Environments"
   ]
  },
  {
   "cell_type": "markdown",
   "metadata": {},
   "source": [
    "When you create a new Project, a new environment named `default` is created for the project.\n",
    "\n",
    "The default environment is a clone of the root environment that is writable by members of the project team.\n",
    "\n",
    "If needed, your administrator can create a customized default project environment. \n",
    "\n",
    "If the directory `/opt/wakari/anaconda/envs/default` exists, it will be cloned instead of the root environment. For example, the administrator can use the command\n",
    "\n",
    "```\n",
    "conda create -p /opt/wakari/anaconda/envs/default python=3.4 numpy scipy pandas\n",
    "```"
   ]
  },
  {
   "cell_type": "markdown",
   "metadata": {},
   "source": [
    "to create a new default environment with those packages. Subsequently created projects would use a copy of that environment instead of a copy of the root environment."
   ]
  },
  {
   "cell_type": "markdown",
   "metadata": {},
   "source": [
    "## Environment Locations"
   ]
  },
  {
   "cell_type": "markdown",
   "metadata": {},
   "source": [
    "Environments may exist in various locations:\n",
    "\n",
    "  * root (/opt/wakari/anaconda)\n",
    "  * root envs (/opt/wakari/anaconda/envs)\n",
    "  * home directory\n",
    "  * project envs directory\n",
    "  * any arbitrary path"
   ]
  },
  {
   "cell_type": "markdown",
   "metadata": {},
   "source": [
    "## Project Environment"
   ]
  },
  {
   "cell_type": "markdown",
   "metadata": {},
   "source": [
    "The ability to have a custom environment for your project is one of the most powerful features that Anaconda Enterprise Notebooks Projects provide.\n",
    "\n",
    "A project environment is like any Python environment you would create except it is integrated with the project so all project apps are aware of it and all project members have access to it.\n",
    "\n",
    "By default a project uses a copy of either the root Anaconda environment or an administrator-defined custom environment.\n",
    "\n",
    "Follow these steps to create a project environment:\n",
    "\n",
    "\t1> From the Project apps, Open the terminal app\n",
    "\t2> conda create -n <env name> <list of packages to include in the env...>\n",
    "\n",
    "**By default all environments created this way will be created under the project directory in the envs sub-directory.**\n",
    "\n",
    "Use conda to add or changes the packages in your envs at any time.  See [conda docs](http://conda.pydata.org/docs) for more information.\n",
    "\n",
    "You can create as many project envs as you need but only one env can be actively associated with the project at a time.\n",
    "\n",
    "Now that the project env is created, use the Compute Config app on the project dashboard to assign it to the project and make it active. Note: you must specify the full path to the environment directory when assigning it to the project."
   ]
  },
  {
   "cell_type": "markdown",
   "metadata": {},
   "source": [
    "## Python 3 Environments"
   ]
  },
  {
   "cell_type": "markdown",
   "metadata": {},
   "source": [
    "Anaconda Enterprise Notebooks will create python 2.7 environments by default, but it is easy to override the default behavior and create a python 3 environment.\n",
    "\n",
    "You can specify the python version when using conda to create the environment.\n",
    "\n",
    "\tconda create -n <env name> python=3 <list of packages to include in the env...>\n",
    "\n",
    "Example:\n",
    "\n",
    "\tconda create -n py3 python=3 numpy scipy\n",
    "\n",
    "All subsequent packages added to this environment will be the python 3 compatible versions."
   ]
  },
  {
   "cell_type": "markdown",
   "metadata": {},
   "source": [
    "## Exercise: Create a Custom Environment"
   ]
  },
  {
   "cell_type": "markdown",
   "metadata": {},
   "source": [
    "Open the terminal app on the project home page.\n",
    "Then use conda to create a new python=3.5 environment with at least numpy, pandas, and matplotlib."
   ]
  },
  {
   "cell_type": "markdown",
   "metadata": {},
   "source": [
    "---\n",
    "*Copyright Continuum 2012-2016 All Rights Reserved.*"
   ]
  }
 ],
 "metadata": {
  "anaconda-cloud": {},
  "kernelspec": {
   "display_name": "Python 3",
   "language": "python",
   "name": "python3"
  },
  "language_info": {
   "codemirror_mode": {
    "name": "ipython",
    "version": 3
   },
   "file_extension": ".py",
   "mimetype": "text/x-python",
   "name": "python",
   "nbconvert_exporter": "python",
   "pygments_lexer": "ipython3",
   "version": "3.4.5"
  }
 },
 "nbformat": 4,
 "nbformat_minor": 0
}
