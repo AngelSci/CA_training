{
 "cells": [
  {
   "cell_type": "markdown",
   "metadata": {},
   "source": [
    "<img src='../img/anaconda-logo.png' align='left' style=\"padding:10px\">\n",
    "<br>\n",
    "*Copyright Continuum 2012-2016 All Rights Reserved.*"
   ]
  },
  {
   "cell_type": "markdown",
   "metadata": {},
   "source": [
    "# Anaconda Enterprise Notebooks: Introduction"
   ]
  },
  {
   "cell_type": "markdown",
   "metadata": {},
   "source": [
    "AEN enables programmers, scientists, and analysts to:\n",
    "\n",
    "* spend more time spent on collaborative data analysis\n",
    "* spend less time on configuring a system.\n",
    "\n",
    "AEN was created with the following in mind:\n",
    "\n",
    "* Data should be shareable\n",
    "* Analysis should be repeatable.\n",
    "* Reproducibility should extend beyond just code to include\n",
    "    * runtime environment\n",
    "    * configuration\n",
    "    * input data."
   ]
  },
  {
   "cell_type": "markdown",
   "metadata": {},
   "source": [
    "## Table of Contents\n",
    "* [Anaconda Enterprise Notebooks: Introduction](#Anaconda-Enterprise-Notebooks:-Introduction)\n",
    "* [Overview](#Overview)\n",
    "\t* [Team Focus](#Team-Focus)\n",
    "* [Exercise: Create an AEN Account](#Exercise:-Create-an-AEN-Account)\n",
    "* [User Dashboard](#User-Dashboard)\n",
    "\t* [User Toolbar and Profile](#User-Toolbar-and-Profile)\n",
    "\t* [Project Summaries](#Project-Summaries)\n",
    "\t\t* [User-owner Project](#User-owner-Project)\n",
    "\t\t* [Contributing Projects](#Contributing-Projects)\n",
    "\t* [Project and Collaboration Metrics](#Project-and-Collaboration-Metrics)\n",
    "\t\t* [Top Rated](#Top-Rated)\n",
    "\t\t* [Top Tags](#Top-Tags)\n",
    "\t\t* [Top Collaborators](#Top-Collaborators)\n",
    "* [Exercise: Create a New Project](#Exercise:-Create-a-New-Project)\n"
   ]
  },
  {
   "cell_type": "markdown",
   "metadata": {},
   "source": [
    "# Overview"
   ]
  },
  {
   "cell_type": "markdown",
   "metadata": {},
   "source": [
    "## Team Focus"
   ]
  },
  {
   "cell_type": "markdown",
   "metadata": {},
   "source": [
    "* **Projects:** \n",
    "    * You can create team projects and use them to share analysis code and results with your team\n",
    "* **Collaboration:** \n",
    "    * You can add any AEN user to your project as a team member.\n",
    "    * There is no limit on the number of team members you can have on a project.\n",
    "* **Access Control**:\n",
    "    * Team members have full access to the project applications, files and services.\n",
    "    * All projects have a project drive that team members share.\n",
    "    * Team members also have full access to their Anaconda Enterprise Notebooks home directory."
   ]
  },
  {
   "cell_type": "markdown",
   "metadata": {},
   "source": [
    "# Exercise: Create an AEN Account"
   ]
  },
  {
   "cell_type": "markdown",
   "metadata": {},
   "source": [
    "Open a new tab in your web-browser, and visit the following page:\n",
    "    \n",
    "http://ec2-54-236-245-201.compute-1.amazonaws.com"
   ]
  },
  {
   "cell_type": "markdown",
   "metadata": {},
   "source": [
    "* Sign-up for a new account: this is a \"throw-away\" just for this class.\n",
    "   * Ask instructor for templated user-name: `training-20160801-student-01`\n",
    "   * To create a new account, you'll be asked for an email account. \n",
    "   * For the class, you can use a free [throw-away account](http://www.throwawaymail.com/)"
   ]
  },
  {
   "cell_type": "markdown",
   "metadata": {},
   "source": [
    "# User Dashboard"
   ]
  },
  {
   "cell_type": "markdown",
   "metadata": {},
   "source": [
    "## User Toolbar and Profile"
   ]
  },
  {
   "cell_type": "markdown",
   "metadata": {},
   "source": [
    "![user-profile](img/aen-user-profile.png)"
   ]
  },
  {
   "cell_type": "markdown",
   "metadata": {},
   "source": [
    "## Project Summaries"
   ]
  },
  {
   "cell_type": "markdown",
   "metadata": {},
   "source": [
    "You can see a summary of all the projects you own and contribute to from your AEN user daskboard."
   ]
  },
  {
   "cell_type": "markdown",
   "metadata": {},
   "source": [
    "The User Dashboard has two lists of projects:\n",
    "* Projects you own\n",
    "* Project another user owns, which you have been added as a Team Member"
   ]
  },
  {
   "cell_type": "markdown",
   "metadata": {},
   "source": [
    "### User-owner Project"
   ]
  },
  {
   "cell_type": "markdown",
   "metadata": {},
   "source": [
    "This is a list of all project which you have created and own:\n",
    "\n",
    "<img src='img/aen-projects-user-owned.png' align='left' width=\"70%\">"
   ]
  },
  {
   "cell_type": "markdown",
   "metadata": {},
   "source": [
    "### Contributing Projects"
   ]
  },
  {
   "cell_type": "markdown",
   "metadata": {},
   "source": [
    "If another user has added you as a Team Member to their project, that project will appear in this list:\n",
    "\n",
    "<img src='img/aen-projects-contributing.png' align='left' width=\"70%\">"
   ]
  },
  {
   "cell_type": "markdown",
   "metadata": {},
   "source": [
    "## Project and Collaboration Metrics"
   ]
  },
  {
   "cell_type": "markdown",
   "metadata": {},
   "source": [
    "Notice that on the user dashboard, there is a collection of sections on the right:\n",
    "(right column)\n",
    "* top (most common) tags\n",
    "* top collaborators (users you work with the most)\n",
    "* top rated projects (using the star feature)\n",
    "* saved searches.\n",
    "\n",
    "All of these are related to Project, and so are mentioned here again."
   ]
  },
  {
   "cell_type": "markdown",
   "metadata": {},
   "source": [
    "### Top Rated"
   ]
  },
  {
   "cell_type": "markdown",
   "metadata": {},
   "source": [
    "These projects have been starred by the most users:\n",
    "\n",
    "<img src='img/aen-top-rated.png' align='left' width=\"30%\">"
   ]
  },
  {
   "cell_type": "markdown",
   "metadata": {},
   "source": [
    "### Top Tags"
   ]
  },
  {
   "cell_type": "markdown",
   "metadata": {},
   "source": [
    "These tags have been added to the most number of projects you work on:\n",
    "\n",
    "<img src='img/aen-top-tags.png' align='left' width=\"30%\">"
   ]
  },
  {
   "cell_type": "markdown",
   "metadata": {},
   "source": [
    "### Top Collaborators"
   ]
  },
  {
   "cell_type": "markdown",
   "metadata": {},
   "source": [
    "These are users that have the most overlap with you on projects:\n",
    "\n",
    "<img src='img/aen-top-collaborators.png' align='left' width=\"30%\">"
   ]
  },
  {
   "cell_type": "markdown",
   "metadata": {},
   "source": [
    "# Exercise: Create a New Project"
   ]
  },
  {
   "cell_type": "markdown",
   "metadata": {},
   "source": [
    "Create a project. We will see more on Projects in the next lesson."
   ]
  },
  {
   "cell_type": "markdown",
   "metadata": {},
   "source": [
    "---\n",
    "*Copyright Continuum 2012-2016 All Rights Reserved.*"
   ]
  }
 ],
 "metadata": {
  "anaconda-cloud": {},
  "kernelspec": {
   "display_name": "Python [conda root]",
   "language": "python",
   "name": "conda-root-py"
  },
  "language_info": {
   "codemirror_mode": {
    "name": "ipython",
    "version": 3
   },
   "file_extension": ".py",
   "mimetype": "text/x-python",
   "name": "python",
   "nbconvert_exporter": "python",
   "pygments_lexer": "ipython3",
   "version": "3.5.2"
  }
 },
 "nbformat": 4,
 "nbformat_minor": 0
}
