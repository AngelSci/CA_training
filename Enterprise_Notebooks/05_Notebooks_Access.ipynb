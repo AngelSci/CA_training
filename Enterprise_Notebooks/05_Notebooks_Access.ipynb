{
 "cells": [
  {
   "cell_type": "markdown",
   "metadata": {},
   "source": [
    "<img src='../img/anaconda-logo.png' align='left' style=\"padding:10px\">\n",
    "<br>\n",
    "*Copyright Continuum 2012-2016 All Rights Reserved.*"
   ]
  },
  {
   "cell_type": "markdown",
   "metadata": {},
   "source": [
    "# Anaconda Enterprise Notebooks: Access"
   ]
  },
  {
   "cell_type": "markdown",
   "metadata": {},
   "source": [
    "Control who can discover, view, and edit your data science assets withint AEN."
   ]
  },
  {
   "cell_type": "markdown",
   "metadata": {},
   "source": [
    "## Table of Contents\n",
    "* [Anaconda Enterprise Notebooks: Access](#Anaconda-Enterprise-Notebooks:-Access)\n",
    "* [Project Access](#Project-Access)\n",
    "\t* [Admin Settings](#Admin-Settings)\n",
    "* [File Access](#File-Access)\n",
    "\t* [Limiting Access](#Limiting-Access)\n",
    "\t* [Give Team Member Access](#Give-Team-Member-Access)\n",
    "\t* [Protected Sharing - Sharing Outside of Team](#Protected-Sharing---Sharing-Outside-of-Team)\n",
    "\t\t* [Copy or move the file to your home directory.](#Copy-or-move-the-file-to-your-home-directory.)\n",
    "\t\t* [Give user Read & Execute access to your home directory](#Give-user-Read-&-Execute-access-to-your-home-directory)\n",
    "\t\t* [Add the user to the files permissions](#Add-the-user-to-the-files-permissions)\n",
    "\t\t* [Have user add directory to their workbench](#Have-user-add-directory-to-their-workbench)\n",
    "* [Sharing and Publishing](#Sharing-and-Publishing)\n",
    "\t* [Public and Private Access](#Public-and-Private-Access)\n",
    "\t* [Publishing Notebooks to Repository](#Publishing-Notebooks-to-Repository)\n"
   ]
  },
  {
   "cell_type": "markdown",
   "metadata": {},
   "source": [
    "# Project Access"
   ]
  },
  {
   "cell_type": "markdown",
   "metadata": {},
   "source": [
    "* Projects can be public or private, for access control.\n",
    "* On the *Dashboard* main page you can see all your projects and the projects for which you are a contributor.\n",
    "\n",
    "![dashboard](img/dashboard_main.png)\n",
    "\n",
    "It addition to listing projects, there are lists of popular tags, those you collaborate the most with, top rated projects, and your list of saved searches.\n",
    "\n",
    "More information about these sections can be found in the documentation on Projects."
   ]
  },
  {
   "cell_type": "markdown",
   "metadata": {},
   "source": [
    "## Admin Settings"
   ]
  },
  {
   "cell_type": "markdown",
   "metadata": {},
   "source": [
    "Projects can be made private or public or deleted permanently from the Admin section of project settings.\n",
    "\n",
    "![wakariui](img/project_admin.png)"
   ]
  },
  {
   "cell_type": "markdown",
   "metadata": {},
   "source": [
    "# Access within a Project"
   ]
  },
  {
   "cell_type": "markdown",
   "metadata": {},
   "source": [
    "## Limiting Access"
   ]
  },
  {
   "cell_type": "markdown",
   "metadata": {},
   "source": [
    "Within a project you can limit access to folders and files to subsets of the project team. Controlling access is done from the Workbench application. In the Workbench application, <right-click> on the file or folder you wish to limit access. A window will be presented. Select \"Permissions\".\n",
    "\n",
    "![wakariui](img/permissions_menu.png)\n",
    "\n",
    "In the window that is displayed, uncheck the permissions you wish to remove. The available permissions are Read, Write, and Execute. If you remove all permissions the individual will not be able to access the file. After making the changes you want click <Submit> to make the changes permanent.\n",
    "\n",
    "![wakariui](img/permissions_setting.png)\n",
    "\n",
    "\n",
    "You should receive a window informing you that the change was made.\n",
    "![wakariui](img/permissions_success.png)"
   ]
  },
  {
   "cell_type": "markdown",
   "metadata": {},
   "source": [
    "## Give Team Member Access"
   ]
  },
  {
   "cell_type": "markdown",
   "metadata": {},
   "source": [
    "If a folder or file is protected you can give users on the project access to the file/folder. To give the user permissions to read, write, and/or execute a file you use the same permissions window used to remove access. To give a user access you click the \"Add\" button first.\n",
    "\n",
    "![wakariui](img/permissions_add.png)\n",
    "\n",
    "A new line will be added to the window with a default username of \"new\".\n",
    "\n",
    "![wakariui](img/permissions_add_line.png)\n",
    "\n",
    "Change the username to the username of the team member you want to grant access and select the access you wish them to have and then click the \"submit\" buton.\n",
    "\n",
    "![wakariui](img/permissions_add_filled_out.png)\n",
    "\n",
    "Note: If the user is in the Workbench application they may need to refresh the view to see the newly added access."
   ]
  },
  {
   "cell_type": "markdown",
   "metadata": {},
   "source": [
    "# Access for other Teams"
   ]
  },
  {
   "cell_type": "markdown",
   "metadata": {},
   "source": [
    "## Protected Sharing - Sharing Outside of Team"
   ]
  },
  {
   "cell_type": "markdown",
   "metadata": {},
   "source": [
    "It is possible to share with individuals who are not part of the team in a controlled manner. To be able to share with an individual they need to have a user id that you can add using the permissions process [above](#limitingaccess). Sharing with individuals outside the team is a four step process performed from the **Workbench** application.\n",
    "\n",
    "1. Copy or move the file to your home directory.\n",
    "2. Give user Read & Execute access to your home directory.\n",
    "3. Add the user to the file's permissions.\n",
    "4. Have user add directory to their workbench."
   ]
  },
  {
   "cell_type": "markdown",
   "metadata": {},
   "source": [
    "### Copy or move the file to your home directory."
   ]
  },
  {
   "cell_type": "markdown",
   "metadata": {},
   "source": [
    "You can find your home directory in the Workbench by looking at the file tree. Your home folder is the one with your username at the bottom. Move or copy the file to this folder. People outside the team will not be able to see the file."
   ]
  },
  {
   "cell_type": "markdown",
   "metadata": {},
   "source": [
    "### Give user Read & Execute access to your home directory"
   ]
  },
  {
   "cell_type": "markdown",
   "metadata": {},
   "source": [
    "Using the [steps above](#addaccess), give the user Read and Execute access to your home folder. In this case the individual is not on the team but the same steps apply. This will allow the user to see files in your home folder but not access them. You only have to do this the first time you share anything with this specific user. If you want to have files the user cannot see place them inside a folder within your home folder and do not give access to the subfolder."
   ]
  },
  {
   "cell_type": "markdown",
   "metadata": {},
   "source": [
    "### Add the user to the files permissions"
   ]
  },
  {
   "cell_type": "markdown",
   "metadata": {},
   "source": [
    "You need to add the user to the files permissions using the steps found above in the [Give Team Member Access](#addaccess) section. Once you do this the user will, depending on the access you grant, be able to see, read, change, and execute the file. If it is a folder the user will be able to see and access the folder."
   ]
  },
  {
   "cell_type": "markdown",
   "metadata": {},
   "source": [
    "### Have user add directory to their workbench"
   ]
  },
  {
   "cell_type": "markdown",
   "metadata": {},
   "source": [
    "The user can now add your home directory to their workbench file browser. To do this have the user click on the show directory button at the top of the file tree in the workbench.\n",
    "\n",
    "![wakariui](img/workbench_add_shared_folder_1.png)\n",
    "\n",
    "In the window that pops up the user should add the string **/home/yourusername** in the text box and <click> the **Add** button.\n",
    "\n",
    "![wakariui](img/workbench_add_shared_folder_2.png)\n",
    "\n",
    "After clicking add the added folder will appear below the text field. The user can now close the window by clicking on the \"x\" in the upper right or by clicking outside the window.\n",
    "\n",
    "![wakariui](img/workbench_add_shared_folder_3.png)\n",
    "\n",
    "Once the user refreshes the workbench using the refresh button, ![wakariui](img/refresh_button.png)  \n",
    "they will see the shared file.\n",
    "\n",
    "![wakariui](img/workbench_add_shared_folder_4.png)"
   ]
  },
  {
   "cell_type": "markdown",
   "metadata": {},
   "source": [
    "# Sharing Outside of AEN"
   ]
  },
  {
   "cell_type": "markdown",
   "metadata": {},
   "source": [
    "## Public vs Private Access"
   ]
  },
  {
   "cell_type": "markdown",
   "metadata": {},
   "source": [
    "Anaconda Enterprise Notebooks supports both public and private sharing.\n",
    "\n",
    "Any content placed in the \"public\" folder in a project will be publicly accessible via its URL.\n",
    "\n",
    "Additionally, a project can be made \"public\" which means anyone with access to the system will have a\n",
    "read-only view of all the project assets.\n",
    "\n",
    "Team members within a project have read-and-write access to all project assets by default.  It is, however,\n",
    "possible to make use of file system access controls to limit who can access which files.  This can be done\n",
    "either from the command line or using the Workbench, by right clicking on a file."
   ]
  },
  {
   "cell_type": "markdown",
   "metadata": {},
   "source": [
    "## Publishing Notebooks to Repository"
   ]
  },
  {
   "cell_type": "markdown",
   "metadata": {},
   "source": [
    "Jupyter Notebooks can also be published to Anaconda Repository.  \n",
    "\n",
    "* This will automatically version the notebook and allow you to set access controls on\n",
    "who can view the notebook.\n",
    "\n",
    "* The cloud icon with an arrow in it will allow you to do this, provided you have\n",
    "already logged in to Anaconda Repository.\n",
    "\n",
    "* This can be done from the command line by executing <tt>anaconda login</tt>\n",
    "or, alternatively, you can use the login UI provided by the nbextension, althought if you are not in a secure connection, we strongly recommend to use the command line approach."
   ]
  },
  {
   "cell_type": "markdown",
   "metadata": {},
   "source": [
    "---\n",
    "*Copyright Continuum 2012-2016 All Rights Reserved.*"
   ]
  }
 ],
 "metadata": {
  "anaconda-cloud": {},
  "kernelspec": {
   "display_name": "Python [conda root]",
   "language": "python",
   "name": "conda-root-py"
  },
  "language_info": {
   "codemirror_mode": {
    "name": "ipython",
    "version": 3
   },
   "file_extension": ".py",
   "mimetype": "text/x-python",
   "name": "python",
   "nbconvert_exporter": "python",
   "pygments_lexer": "ipython3",
   "version": "3.5.2"
  }
 },
 "nbformat": 4,
 "nbformat_minor": 0
}
