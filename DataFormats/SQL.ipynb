{
 "cells": [
  {
   "cell_type": "markdown",
   "metadata": {},
   "source": [
    "# Table of Contents\n",
    "* [Learning Objectives](#Learning-Objectives)\n",
    "\t* [Preamble](#Preamble)\n",
    "* [Sqlite3](#Sqlite3)\n",
    "* [PostgreSQL (and DBAPI generally)](#PostgreSQL-%28and-DBAPI-generally%29)\n"
   ]
  },
  {
   "cell_type": "markdown",
   "metadata": {},
   "source": [
    "# Learning Objectives"
   ]
  },
  {
   "cell_type": "markdown",
   "metadata": {},
   "source": [
    "* Work with SQLite3 single-file databases\n",
    "* Work with RDBMS's using the DBAPI standard"
   ]
  },
  {
   "cell_type": "code",
   "execution_count": 30,
   "metadata": {
    "collapsed": true
   },
   "outputs": [],
   "source": [
    "import sys\n",
    "sys.path.insert(0, '../src')"
   ]
  },
  {
   "cell_type": "code",
   "execution_count": null,
   "metadata": {
    "collapsed": false
   },
   "outputs": [],
   "source": []
  },
  {
   "cell_type": "markdown",
   "metadata": {},
   "source": [
    "## Preamble"
   ]
  },
  {
   "cell_type": "code",
   "execution_count": null,
   "metadata": {
    "collapsed": false
   },
   "outputs": [],
   "source": []
  },
  {
   "cell_type": "code",
   "execution_count": 33,
   "metadata": {
    "collapsed": false
   },
   "outputs": [
    {
     "name": "stdout",
     "output_type": "stream",
     "text": [
      "11118 rows of data\n",
      "----------\n",
      "Row(agency_cd='USGS', site_no='14226500', datetime='1985-01-01', N_01_00060_00003='577', N_01_00060_00003_cd='A')\n",
      "Row(agency_cd='USGS', site_no='14226500', datetime='1985-01-02', N_01_00060_00003='568', N_01_00060_00003_cd='A')\n",
      "Row(agency_cd='USGS', site_no='14226500', datetime='1985-01-03', N_01_00060_00003='557', N_01_00060_00003_cd='A')\n"
     ]
    }
   ],
   "source": [
    "# Load some data we'll use for later examples\n",
    "import rdb\n",
    "cowlitz_file = '../notebooks/data/cowlitz_river_wa_usgs_flow_data.rdb'\n",
    "comment, header, cowlitz_data = rdb.read_rdb(cowlitz_file)\n",
    "\n",
    "# Notice the form of this data is a list of namedtuples\n",
    "print(\"%d rows of data\" % len(cowlitz_data), end='\\n----------\\n')\n",
    "for row in cowlitz_data[:3]:\n",
    "    print(row)"
   ]
  },
  {
   "cell_type": "code",
   "execution_count": 34,
   "metadata": {
    "collapsed": false
   },
   "outputs": [
    {
     "name": "stdout",
     "output_type": "stream",
     "text": [
      "8514 rows of data\n",
      "----------\n"
     ]
    },
    {
     "data": {
      "text/html": [
       "<div>\n",
       "<table border=\"1\" class=\"dataframe\">\n",
       "  <thead>\n",
       "    <tr style=\"text-align: right;\">\n",
       "      <th></th>\n",
       "      <th>Open</th>\n",
       "      <th>High</th>\n",
       "      <th>Low</th>\n",
       "      <th>Close</th>\n",
       "      <th>Volume</th>\n",
       "      <th>Adj Close</th>\n",
       "    </tr>\n",
       "    <tr>\n",
       "      <th>Date</th>\n",
       "      <th></th>\n",
       "      <th></th>\n",
       "      <th></th>\n",
       "      <th></th>\n",
       "      <th></th>\n",
       "      <th></th>\n",
       "    </tr>\n",
       "  </thead>\n",
       "  <tbody>\n",
       "    <tr>\n",
       "      <th>2014-09-16</th>\n",
       "      <td>99.80</td>\n",
       "      <td>101.26</td>\n",
       "      <td>98.89</td>\n",
       "      <td>100.86</td>\n",
       "      <td>66818200</td>\n",
       "      <td>100.86</td>\n",
       "    </tr>\n",
       "    <tr>\n",
       "      <th>2014-09-15</th>\n",
       "      <td>102.81</td>\n",
       "      <td>103.05</td>\n",
       "      <td>101.44</td>\n",
       "      <td>101.63</td>\n",
       "      <td>61216500</td>\n",
       "      <td>101.63</td>\n",
       "    </tr>\n",
       "    <tr>\n",
       "      <th>2014-09-12</th>\n",
       "      <td>101.21</td>\n",
       "      <td>102.19</td>\n",
       "      <td>101.08</td>\n",
       "      <td>101.66</td>\n",
       "      <td>62626100</td>\n",
       "      <td>101.66</td>\n",
       "    </tr>\n",
       "  </tbody>\n",
       "</table>\n",
       "</div>"
      ],
      "text/plain": [
       "              Open    High     Low   Close    Volume  Adj Close\n",
       "Date                                                           \n",
       "2014-09-16   99.80  101.26   98.89  100.86  66818200     100.86\n",
       "2014-09-15  102.81  103.05  101.44  101.63  61216500     101.63\n",
       "2014-09-12  101.21  102.19  101.08  101.66  62626100     101.66"
      ]
     },
     "execution_count": 34,
     "metadata": {},
     "output_type": "execute_result"
    }
   ],
   "source": [
    "# Load some data we'll use for later examples\n",
    "# Note the form of this data is a Pandas DataFrame\n",
    "import pandas as pd\n",
    "aapl = pd.read_csv('../notebooks/data/AAPL.csv', index_col='Date')\n",
    "print(\"%d rows of data\" % len(aapl), end='\\n----------\\n')\n",
    "aapl[:3]"
   ]
  },
  {
   "cell_type": "markdown",
   "metadata": {
    "collapsed": true
   },
   "source": [
    "# Sqlite3"
   ]
  },
  {
   "cell_type": "code",
   "execution_count": 35,
   "metadata": {
    "collapsed": false
   },
   "outputs": [
    {
     "name": "stdout",
     "output_type": "stream",
     "text": [
      "File already not there\n"
     ]
    }
   ],
   "source": [
    "import os\n",
    "try:\n",
    "    os.remove('tmp/test-db')\n",
    "except OSError:\n",
    "    print(\"File already not there\")\n",
    "#!rm tmp/test-db"
   ]
  },
  {
   "cell_type": "code",
   "execution_count": 39,
   "metadata": {
    "collapsed": false
   },
   "outputs": [
    {
     "ename": "OperationalError",
     "evalue": "unable to open database file",
     "output_type": "error",
     "traceback": [
      "\u001b[0;31m---------------------------------------------------------------------------\u001b[0m",
      "\u001b[0;31mOperationalError\u001b[0m                          Traceback (most recent call last)",
      "\u001b[0;32m<ipython-input-39-a18e9db9647b>\u001b[0m in \u001b[0;36m<module>\u001b[0;34m()\u001b[0m\n\u001b[1;32m      1\u001b[0m \u001b[1;32mimport\u001b[0m \u001b[0msqlite3\u001b[0m\u001b[1;33m\u001b[0m\u001b[0m\n\u001b[0;32m----> 2\u001b[0;31m \u001b[0mdb\u001b[0m \u001b[1;33m=\u001b[0m \u001b[0msqlite3\u001b[0m\u001b[1;33m.\u001b[0m\u001b[0mconnect\u001b[0m\u001b[1;33m(\u001b[0m\u001b[1;34m\"tmp/test-db\"\u001b[0m\u001b[1;33m)\u001b[0m\u001b[1;33m\u001b[0m\u001b[0m\n\u001b[0m\u001b[1;32m      3\u001b[0m db.execute(\"create table stocks \"\n\u001b[1;32m      4\u001b[0m            \u001b[1;34m\"(symbol text, shares integer, price real, \"\u001b[0m\u001b[1;33m\u001b[0m\u001b[0m\n\u001b[1;32m      5\u001b[0m            \" primary key (symbol))\")\n",
      "\u001b[0;31mOperationalError\u001b[0m: unable to open database file"
     ]
    }
   ],
   "source": [
    "import sqlite3\n",
    "db = sqlite3.connect(\"tmp/test-db\")\n",
    "db.execute(\"create table stocks \"\n",
    "           \"(symbol text, shares integer, price real, \"\n",
    "           \" primary key (symbol))\")\n",
    "db.commit()"
   ]
  },
  {
   "cell_type": "code",
   "execution_count": null,
   "metadata": {
    "collapsed": true
   },
   "outputs": [],
   "source": [
    "db.execute(\"insert into stocks values (?, ?, ?)\", ('IBM', 50, 91.10))\n",
    "db.execute(\"insert into stocks values (?, ?, ?)\", ('AAPL', 100, 123.45))\n",
    "db.commit()"
   ]
  },
  {
   "cell_type": "code",
   "execution_count": null,
   "metadata": {
    "collapsed": false
   },
   "outputs": [],
   "source": [
    "for row in db.execute(\"select * from stocks\"):\n",
    "    print(row)"
   ]
  },
  {
   "cell_type": "code",
   "execution_count": null,
   "metadata": {
    "collapsed": true
   },
   "outputs": [],
   "source": [
    "stocks = [('GOOG', 75, 380.13), ('AA', 100, 14.20), ('AIG', 124, 0.99)]\n",
    "db.executemany(\"insert into stocks values (?, ?, ?)\", stocks)\n",
    "db.commit()"
   ]
  },
  {
   "cell_type": "code",
   "execution_count": null,
   "metadata": {
    "collapsed": false
   },
   "outputs": [],
   "source": [
    "list(db.execute(\"select * from stocks\"))"
   ]
  },
  {
   "cell_type": "code",
   "execution_count": null,
   "metadata": {
    "collapsed": false
   },
   "outputs": [],
   "source": [
    "list(db.execute(\"select symbol, price from stocks where shares >= 100\"))"
   ]
  },
  {
   "cell_type": "code",
   "execution_count": null,
   "metadata": {
    "collapsed": false,
    "raises": "IntegrityError"
   },
   "outputs": [],
   "source": [
    "db.execute(\"insert into stocks values (?, ?, ?)\", ('IBM', 100, 124.5))\n",
    "db.commit()"
   ]
  },
  {
   "cell_type": "code",
   "execution_count": 37,
   "metadata": {
    "collapsed": false
   },
   "outputs": [
    {
     "name": "stderr",
     "output_type": "stream",
     "text": [
      "Parameter format not correct - \"est-db\".\n"
     ]
    }
   ],
   "source": [
    "%ls -l tmp/test-db"
   ]
  },
  {
   "cell_type": "code",
   "execution_count": null,
   "metadata": {
    "collapsed": false
   },
   "outputs": [],
   "source": [
    "db.execute(\"CREATE TABLE cowlitz \"\n",
    "           \"(agency_cd TEXT, site_no INTEGER, date DATE, \"\n",
    "           \" discharge REAL, status TEXT, PRIMARY KEY (date))\")\n",
    "for row in cowlitz_data:\n",
    "    db.execute(\"INSERT INTO cowlitz VALUES (?, ?, ?, ?, ?)\", row)\n",
    "db.commit()"
   ]
  },
  {
   "cell_type": "code",
   "execution_count": null,
   "metadata": {
    "collapsed": false
   },
   "outputs": [],
   "source": [
    "est = db.execute('SELECT COUNT(*) FROM cowlitz WHERE status=\"A:e\"')\n",
    "list(est)"
   ]
  },
  {
   "cell_type": "code",
   "execution_count": null,
   "metadata": {
    "collapsed": false
   },
   "outputs": [],
   "source": [
    "for d in db.execute('SELECT * FROM cowlitz WHERE '\n",
    "                    'date >= \"1988-01-01\" AND date < \"1988-01-10\"'):\n",
    "    print(d)"
   ]
  },
  {
   "cell_type": "code",
   "execution_count": null,
   "metadata": {
    "collapsed": false
   },
   "outputs": [],
   "source": [
    "%ls -l tmp/test-db\n",
    "%ls -l $cowlitz_file"
   ]
  },
  {
   "cell_type": "code",
   "execution_count": null,
   "metadata": {
    "collapsed": false
   },
   "outputs": [],
   "source": [
    "# Need Pandas column names to be valid SQL column names\n",
    "aapl['Adj_Close'] = aapl['Adj Close']\n",
    "del aapl['Adj Close']\n",
    "aapl[:3]"
   ]
  },
  {
   "cell_type": "code",
   "execution_count": null,
   "metadata": {
    "collapsed": false
   },
   "outputs": [],
   "source": [
    "aapl.to_sql('AAPL', db)"
   ]
  },
  {
   "cell_type": "code",
   "execution_count": null,
   "metadata": {
    "collapsed": false
   },
   "outputs": [],
   "source": [
    "for row in db.execute(\"SELECT * FROM AAPL LIMIT 10\"):\n",
    "    print(row)"
   ]
  },
  {
   "cell_type": "markdown",
   "metadata": {},
   "source": [
    "# PostgreSQL (and DBAPI generally)"
   ]
  },
  {
   "cell_type": "code",
   "execution_count": 38,
   "metadata": {
    "collapsed": false,
    "skip_test": true
   },
   "outputs": [
    {
     "ename": "ImportError",
     "evalue": "No module named 'psycopg2'",
     "output_type": "error",
     "traceback": [
      "\u001b[0;31m---------------------------------------------------------------------------\u001b[0m",
      "\u001b[0;31mImportError\u001b[0m                               Traceback (most recent call last)",
      "\u001b[0;32m<ipython-input-38-7cf6bf08ae87>\u001b[0m in \u001b[0;36m<module>\u001b[0;34m()\u001b[0m\n\u001b[0;32m----> 1\u001b[0;31m \u001b[1;32mimport\u001b[0m \u001b[0mpsycopg2\u001b[0m \u001b[1;31m# maybe import oracledb, mysql, db2\u001b[0m\u001b[1;33m\u001b[0m\u001b[0m\n\u001b[0m\u001b[1;32m      2\u001b[0m \u001b[0mconn\u001b[0m \u001b[1;33m=\u001b[0m \u001b[0mpsycopg2\u001b[0m\u001b[1;33m.\u001b[0m\u001b[0mconnect\u001b[0m\u001b[1;33m(\u001b[0m\u001b[0mdatabase\u001b[0m\u001b[1;33m=\u001b[0m\u001b[1;34m'test'\u001b[0m\u001b[1;33m,\u001b[0m \u001b[0muser\u001b[0m\u001b[1;33m=\u001b[0m\u001b[1;34m'dmertz'\u001b[0m\u001b[1;33m)\u001b[0m\u001b[1;33m\u001b[0m\u001b[0m\n\u001b[1;32m      3\u001b[0m \u001b[0mcursor\u001b[0m \u001b[1;33m=\u001b[0m \u001b[0mconn\u001b[0m\u001b[1;33m.\u001b[0m\u001b[0mcursor\u001b[0m\u001b[1;33m(\u001b[0m\u001b[1;33m)\u001b[0m\u001b[1;33m\u001b[0m\u001b[0m\n\u001b[1;32m      4\u001b[0m \u001b[0mcursor\u001b[0m\u001b[1;33m.\u001b[0m\u001b[0mexecute\u001b[0m\u001b[1;33m(\u001b[0m\u001b[1;34m'SELECT version()'\u001b[0m\u001b[1;33m)\u001b[0m\u001b[1;33m\u001b[0m\u001b[0m\n\u001b[1;32m      5\u001b[0m \u001b[0mversion\u001b[0m \u001b[1;33m=\u001b[0m \u001b[0mcursor\u001b[0m\u001b[1;33m.\u001b[0m\u001b[0mfetchone\u001b[0m\u001b[1;33m(\u001b[0m\u001b[1;33m)\u001b[0m\u001b[1;33m\u001b[0m\u001b[0m\n",
      "\u001b[0;31mImportError\u001b[0m: No module named 'psycopg2'"
     ]
    }
   ],
   "source": [
    "import psycopg2 # maybe import oracledb, mysql, db2\n",
    "conn = psycopg2.connect(database='test', user='dmertz')\n",
    "cursor = conn.cursor()\n",
    "cursor.execute('SELECT version()')\n",
    "version = cursor.fetchone()\n",
    "print(version)"
   ]
  },
  {
   "cell_type": "code",
   "execution_count": null,
   "metadata": {
    "collapsed": false,
    "skip_test": true
   },
   "outputs": [],
   "source": [
    "cursor.execute(\"drop table stocks\")\n",
    "conn.commit()"
   ]
  },
  {
   "cell_type": "code",
   "execution_count": null,
   "metadata": {
    "collapsed": false,
    "skip_test": true
   },
   "outputs": [],
   "source": [
    "cursor.execute(\"create table stocks \"\n",
    "               \"(symbol text, shares integer, price real, \"\n",
    "               \"primary key (symbol))\")\n",
    "conn.commit()"
   ]
  },
  {
   "cell_type": "code",
   "execution_count": null,
   "metadata": {
    "collapsed": false,
    "skip_test": true
   },
   "outputs": [],
   "source": [
    "cursor.execute(\"insert into stocks values (%s, %s, %s)\", \n",
    "               ('IBM', 50, 91.10))\n",
    "cursor.execute(\"insert into stocks values (%s, %s, %s)\", \n",
    "               ('AAPL', 100, 123.45))\n",
    "conn.commit()"
   ]
  },
  {
   "cell_type": "code",
   "execution_count": null,
   "metadata": {
    "collapsed": false,
    "skip_test": true
   },
   "outputs": [],
   "source": [
    "cursor.execute(\"select * from stocks;\")\n",
    "for row in cursor:\n",
    "    print(row)"
   ]
  },
  {
   "cell_type": "code",
   "execution_count": null,
   "metadata": {
    "collapsed": true,
    "skip_test": true
   },
   "outputs": [],
   "source": [
    "stocks = [('GOOG', 75, 380.13), ('AA', 100, 14.20), ('AIG', 124, 0.99)]\n",
    "cursor.executemany(\"insert into stocks values (%s, %s, %s)\", stocks)\n",
    "conn.commit()"
   ]
  },
  {
   "cell_type": "code",
   "execution_count": null,
   "metadata": {
    "collapsed": false,
    "skip_test": true
   },
   "outputs": [],
   "source": [
    "cursor.execute(\"select * from stocks\")\n",
    "list(cursor)"
   ]
  },
  {
   "cell_type": "code",
   "execution_count": null,
   "metadata": {
    "collapsed": false,
    "skip_test": true
   },
   "outputs": [],
   "source": [
    "cursor.execute(\"select column_name, data_type, character_maximum_length \"\n",
    "               \"from INFORMATION_SCHEMA.COLUMNS \"\n",
    "               \"where table_name = 'stocks'\")\n",
    "list(cursor)"
   ]
  },
  {
   "cell_type": "code",
   "execution_count": null,
   "metadata": {
    "collapsed": false,
    "skip_test": true
   },
   "outputs": [],
   "source": [
    "cursor.execute(\"select symbol, price from stocks where shares >= 100\")\n",
    "lots_of_shares = cursor.fetchall()\n",
    "lots_of_shares"
   ]
  },
  {
   "cell_type": "code",
   "execution_count": null,
   "metadata": {
    "collapsed": false,
    "skip_test": true
   },
   "outputs": [],
   "source": [
    "try:\n",
    "    cursor.execute(\"insert into stocks values (%s, %s, %s)\", \n",
    "                   ('IBM', 100, 124.5))\n",
    "finally:\n",
    "    conn.rollback()"
   ]
  },
  {
   "cell_type": "code",
   "execution_count": null,
   "metadata": {
    "collapsed": false,
    "skip_test": true
   },
   "outputs": [],
   "source": [
    "try:\n",
    "    cursor.execute(\"drop table cowlitz\")\n",
    "except psycopg2.ProgrammingError:\n",
    "    print(\"Table does not exist... create below\")\n",
    "finally:\n",
    "    conn.commit()\n",
    "cursor.execute(\"CREATE TABLE cowlitz \"\n",
    "               \"(agency_cd TEXT, site_no INTEGER, date DATE, \"\n",
    "               \" discharge REAL, status TEXT, PRIMARY KEY (date))\")\n",
    "cursor.executemany(\"INSERT INTO cowlitz VALUES (%s, %s, %s, %s, %s)\", \n",
    "                   cowlitz_data)\n",
    "conn.commit()"
   ]
  },
  {
   "cell_type": "code",
   "execution_count": null,
   "metadata": {
    "collapsed": false,
    "skip_test": true
   },
   "outputs": [],
   "source": [
    "cursor.execute(\"SELECT COUNT(*) FROM cowlitz WHERE status = 'A:e'\")\n",
    "cursor.fetchall()"
   ]
  },
  {
   "cell_type": "code",
   "execution_count": null,
   "metadata": {
    "collapsed": false,
    "skip_test": true
   },
   "outputs": [],
   "source": [
    "cursor.execute(\"SELECT * FROM cowlitz WHERE \"\n",
    "               \"date >= '1988-01-01' AND date < '1988-01-10'\")\n",
    "cursor.fetchall()"
   ]
  }
 ],
 "metadata": {
  "celltoolbar": "Edit Metadata",
  "continuum": {
   "depends": [
    "ip_containers"
   ],
   "requires": [
    "data/cowlitz_river_wa_usgs_flow_data.rdb",
    "src/rdb.py",
    "data/AAPL.csv"
   ],
   "tag": "data_sql"
  },
  "kernelspec": {
   "display_name": "Python 3",
   "language": "python",
   "name": "python3"
  },
  "language_info": {
   "codemirror_mode": {
    "name": "ipython",
    "version": 3
   },
   "file_extension": ".py",
   "mimetype": "text/x-python",
   "name": "python",
   "nbconvert_exporter": "python",
   "pygments_lexer": "ipython3",
   "version": "3.4.5"
  }
 },
 "nbformat": 4,
 "nbformat_minor": 0
}
