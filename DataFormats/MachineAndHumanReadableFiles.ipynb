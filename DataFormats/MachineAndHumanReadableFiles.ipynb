{
 "cells": [
  {
   "cell_type": "markdown",
   "metadata": {},
   "source": [
    "# Table of Contents\n",
    "* [Machine and Human Readable Formats](#Machine-and-Human-Readable-Formats)\n",
    "* [Learning Objectives:](#Learning-Objectives:)\n",
    "\t* [Scale of difficulty](#Scale-of-difficulty)\n",
    "\t* [Common uses](#Common-uses)\n",
    "\t* [Terms](#Terms)\n",
    "\t* [JSON : JavaScript Object Notation](#JSON-:-JavaScript-Object-Notation)\n",
    "\t\t* [Why JSON?](#Why-JSON?)\n",
    "\t\t* [Why not JSON?](#Why-not-JSON?)\n",
    "\t* [YAML: YAML Ain't Markup Language](#YAML:-YAML-Ain't-Markup-Language)\n",
    "\t\t* [Why YAML?](#Why-YAML?)\n",
    "\t\t* [Why not YAML?](#Why-not-YAML?)\n",
    "\t* [XML: eXtensible Markup Language](#XML:-eXtensible-Markup-Language)\n",
    "\t\t* [Why (should you use) XML?](#Why-%28should-you-use%29-XML?)\n",
    "\t\t* [Why (should you) not (use) XML?](#Why-%28should-you%29-not-%28use%29-XML?)\n"
   ]
  },
  {
   "cell_type": "markdown",
   "metadata": {},
   "source": [
    "# Machine and Human Readable Formats"
   ]
  },
  {
   "cell_type": "markdown",
   "metadata": {},
   "source": [
    "# Learning Objectives:"
   ]
  },
  {
   "cell_type": "markdown",
   "metadata": {},
   "source": [
    "* Learn what JSON, YAML, and XML are\n",
    "* Learn when and why to use them\n",
    "* Learn how to manipulate and construct each type\n",
    "* Learn the limitations and risks associated with each"
   ]
  },
  {
   "cell_type": "markdown",
   "metadata": {},
   "source": [
    "## Scale of difficulty"
   ]
  },
  {
   "cell_type": "markdown",
   "metadata": {},
   "source": [
    "1. JSON (easiest)\n",
    "2. YAML\n",
    "3. XML"
   ]
  },
  {
   "cell_type": "markdown",
   "metadata": {},
   "source": [
    "## Common uses"
   ]
  },
  {
   "cell_type": "markdown",
   "metadata": {},
   "source": [
    "* JSON is used to great success in programmatic web design (REST APIs for example)\n",
    "* XML is used for heavyweight \n",
    "* YAML for config files"
   ]
  },
  {
   "cell_type": "markdown",
   "metadata": {},
   "source": [
    "## Terms"
   ]
  },
  {
   "cell_type": "markdown",
   "metadata": {},
   "source": [
    "1. Serialization\n",
    "  * Serialization is the process of translating data structures or object state into a format that can be stored for later reconstruction and use. [Wikipedia](https://en.wikipedia.org/wiki/Serialization)\n",
    "2. Markup Language\n",
    "  * A markup language is a system for annotating a document in a way that is syntactically distinguishable from the text. [Wikipedia](https://en.wikipedia.org/wiki/Markup_language)"
   ]
  },
  {
   "cell_type": "markdown",
   "metadata": {},
   "source": [
    "## JSON : JavaScript Object Notation   "
   ]
  },
  {
   "cell_type": "markdown",
   "metadata": {},
   "source": [
    "What is [JSON](http://json.org/)? \n",
    "JSON is a lightweight data-interchange format. It is easy for humans to read and write. It is easy for machines to parse and generate."
   ]
  },
  {
   "cell_type": "markdown",
   "metadata": {},
   "source": [
    "### Why JSON?"
   ]
  },
  {
   "cell_type": "markdown",
   "metadata": {},
   "source": [
    "* It has a 5 page specification\n",
    "  * Easy to parse, and therefore very fast to parse\n",
    "* It is cross-language (i.e. every major and lots of minor ones has a json encoder and decoder)\n",
    "* Simple structure, and easy to understand"
   ]
  },
  {
   "cell_type": "markdown",
   "metadata": {},
   "source": [
    "### Why not JSON?"
   ]
  },
  {
   "cell_type": "markdown",
   "metadata": {},
   "source": [
    "* No NaN\n",
    "* Everything is a string (which means that information will be lost when converting to JSON)\n",
    "  * You need to keep data types sometimes\n",
    "* The kind of information that can be \"JSONified\" is more limited\n",
    "* Simple structure, can be difficult to represent complex or interdependent structure\n",
    "*"
   ]
  },
  {
   "cell_type": "markdown",
   "metadata": {},
   "source": [
    "## YAML: YAML Ain't Markup Language"
   ]
  },
  {
   "cell_type": "markdown",
   "metadata": {},
   "source": [
    "What is [YAML](http://www.yaml.org/spec/1.2/spec.html)?\n",
    "YAML is a **data serialization** language, **not** a markup language"
   ]
  },
  {
   "cell_type": "markdown",
   "metadata": {},
   "source": [
    "### Why YAML?"
   ]
  },
  {
   "cell_type": "markdown",
   "metadata": {},
   "source": [
    "* YAML is a superset of JSON\n",
    "  * YAML imposes additional constraints on input data that JSON doesn't, like the uniqueness of keys.\n",
    "* YAML is easy for a human to read\n",
    "* Indentation matters (just like in Python)\n",
    "* It has datatypes"
   ]
  },
  {
   "cell_type": "markdown",
   "metadata": {},
   "source": [
    "### Why not YAML?"
   ]
  },
  {
   "cell_type": "markdown",
   "metadata": {},
   "source": [
    "* Not nearly as widely adopted as JSON or XML\n",
    "*"
   ]
  },
  {
   "cell_type": "markdown",
   "metadata": {},
   "source": [
    "## XML: eXtensible Markup Language"
   ]
  },
  {
   "cell_type": "markdown",
   "metadata": {},
   "source": [
    "What is [XML](http://www.w3.org/TR/2008/REC-xml-20081126/#sec-intro)?"
   ]
  },
  {
   "cell_type": "markdown",
   "metadata": {},
   "source": [
    "### Why (should you use) XML?"
   ]
  },
  {
   "cell_type": "markdown",
   "metadata": {},
   "source": [
    "* Very stable and capable\n",
    "* Wide adoption\n",
    "* Structure can be pre-defined and enforce with DTDs (Document Type Definitions)"
   ]
  },
  {
   "cell_type": "markdown",
   "metadata": {},
   "source": [
    "### Why (should you) not (use) XML?"
   ]
  },
  {
   "cell_type": "markdown",
   "metadata": {},
   "source": [
    "Examples:\n",
    "* OOXML (Microsoft Office)\n",
    "* ODT\n",
    "* RSS\n",
    "* XHTML\n",
    "* SVG (Scalable Vector Graphics)"
   ]
  },
  {
   "cell_type": "markdown",
   "metadata": {},
   "source": [
    "If you do not have lxml installed in your conda environment run\n",
    "```\n",
    "% conda install -y lxml\n",
    "```"
   ]
  },
  {
   "cell_type": "code",
   "execution_count": null,
   "metadata": {
    "collapsed": false
   },
   "outputs": [],
   "source": [
    "import json\n",
    "import yaml\n",
    "import lxml.etree\n",
    "\n",
    "json_first = '''{\"libraries\":[\"numpy\", \"scipy\"], \n",
    "               \"dependencies\": [\"fftw\", \"mkl\"], \n",
    "               \"name\":\"my_new_module\"}'''\n",
    "                \n",
    "#What is the difference between json_first and json_second?\n",
    "json_second = {\"libraries\":[\"numpy\", \"scipy\"], \n",
    "               \"dependencies\": [\"fftw\", \"mkl\"], \n",
    "               \"name\":\"my_new_module\"}\n",
    "\n",
    "my_dict = {\"libraries\":[\"numpy\", \"scipy\"], \n",
    "           \"dependencies\": [\"fftw\", \"mkl\"], \n",
    "           \"name\":\"my_new_module\"}\n",
    "\n",
    "yamlized = yaml.dump(my_dict)\n",
    "jsonized = json.dumps(my_dict)\n",
    "\n",
    "xml = lxml.etree.Element(\"module\")\n",
    "xml.append(lxml.etree.Element(\"name\"))\n",
    "xml[-1].text=\"my_new_module\"\n",
    "\n",
    "xml.append(lxml.etree.Element(\"libraries\"))\n",
    "xml[-1].text = \"numpy\"\n",
    "xml.append(lxml.etree.Element(\"libraries\"))\n",
    "xml[-1].text = \"scipy\"\n",
    "\n",
    "xml.append(lxml.etree.Element(\"dependencies\"))\n",
    "xml[-1].text = \"fftw\"\n",
    "xml.append(lxml.etree.Element(\"dependencies\"))\n",
    "xml[-1].text = \"mkl\"\n",
    "\n",
    "xmlized = lxml.etree.tostring(xml)"
   ]
  },
  {
   "cell_type": "code",
   "execution_count": null,
   "metadata": {
    "collapsed": true
   },
   "outputs": [],
   "source": []
  }
 ],
 "metadata": {
  "continuum": {
   "depends": [
    "ip_containers"
   ],
   "tag": "data_machine"
  },
  "kernelspec": {
   "display_name": "Python 3",
   "language": "python",
   "name": "python3"
  },
  "language_info": {
   "codemirror_mode": {
    "name": "ipython",
    "version": 3
   },
   "file_extension": ".py",
   "mimetype": "text/x-python",
   "name": "python",
   "nbconvert_exporter": "python",
   "pygments_lexer": "ipython3",
   "version": "3.5.1"
  }
 },
 "nbformat": 4,
 "nbformat_minor": 0
}
