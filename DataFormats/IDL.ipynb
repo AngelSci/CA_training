{
 "cells": [
  {
   "cell_type": "markdown",
   "metadata": {},
   "source": [
    "# Table of Contents\n",
    "* [Learning Objectives:](#Learning-Objectives:)\n",
    "* [IDL .sav files](#IDL-.sav-files)\n"
   ]
  },
  {
   "cell_type": "markdown",
   "metadata": {},
   "source": [
    "# Learning Objectives:"
   ]
  },
  {
   "cell_type": "markdown",
   "metadata": {},
   "source": [
    "* Work with data stored in fast, hierarchical scientific data formats:\n",
    "  * IDL .sav files"
   ]
  },
  {
   "cell_type": "markdown",
   "metadata": {},
   "source": [
    "# IDL .sav files"
   ]
  },
  {
   "cell_type": "code",
   "execution_count": null,
   "metadata": {
    "collapsed": false
   },
   "outputs": [],
   "source": [
    "import pandas as pd\n",
    "from scipy.io import readsav\n",
    "datafile = \"data/1985_2010_Cedar_Creek_Resident_Fish_Data_for_Analysis.bin\""
   ]
  },
  {
   "cell_type": "code",
   "execution_count": null,
   "metadata": {
    "collapsed": false
   },
   "outputs": [],
   "source": [
    "def idl2df(fname, key='o', verbose=True):\n",
    "    \"Read a data frame from IDL; default key is one used by QEA\"\n",
    "    data = readsav(datafile, verbose=verbose)\n",
    "    top = data[key]\n",
    "    columns = top.dtype.names\n",
    "    df = pd.DataFrame(list(zip(*top[0])), columns=columns)\n",
    "    return df\n",
    "\n",
    "def df_bytes2str(df, columns=None, encoding='utf-8'):\n",
    "    columns = columns or df.columns\n",
    "    for col in columns:\n",
    "        if type(df[col][0]) == bytes:\n",
    "            df[col] = df[col].str.decode(encoding)   "
   ]
  },
  {
   "cell_type": "code",
   "execution_count": null,
   "metadata": {
    "collapsed": false
   },
   "outputs": [],
   "source": [
    "df = idl2df(datafile, verbose=False)\n",
    "df_bytes2str(df)\n",
    "df[df.SPECIES == 'Carp']"
   ]
  },
  {
   "cell_type": "code",
   "execution_count": null,
   "metadata": {
    "collapsed": true
   },
   "outputs": [],
   "source": []
  }
 ],
 "metadata": {
  "continuum": {
   "depends": [
    "ip_containers",
    "ip_functions"
   ],
   "requires": [
    "data/1985_2010_Cedar_Creek_Resident_Fish_Data_for_Analysis.bin"
   ],
   "tag": "data_sav"
  },
  "kernelspec": {
   "display_name": "Python 3",
   "language": "python",
   "name": "python3"
  },
  "language_info": {
   "codemirror_mode": {
    "name": "ipython",
    "version": 3
   },
   "file_extension": ".py",
   "mimetype": "text/x-python",
   "name": "python",
   "nbconvert_exporter": "python",
   "pygments_lexer": "ipython3",
   "version": "3.4.4"
  }
 },
 "nbformat": 4,
 "nbformat_minor": 0
}
