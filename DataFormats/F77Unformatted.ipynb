{
 "cells": [
  {
   "cell_type": "markdown",
   "metadata": {},
   "source": [
    "# Table of Contents\n",
    "* [Learning Objectives:](#Learning-Objectives:)\n",
    "\t* [Fortran 77 Unformatted](#Fortran-77-Unformatted)\n"
   ]
  },
  {
   "cell_type": "markdown",
   "metadata": {},
   "source": [
    "# Learning Objectives:"
   ]
  },
  {
   "cell_type": "markdown",
   "metadata": {},
   "source": [
    "* Work with data stored in fast, hierarchical scientific data formats:\n",
    "  * Fortran 77 Unformatted"
   ]
  },
  {
   "cell_type": "markdown",
   "metadata": {},
   "source": [
    "## Fortran 77 Unformatted"
   ]
  },
  {
   "cell_type": "code",
   "execution_count": null,
   "metadata": {
    "collapsed": true
   },
   "outputs": [],
   "source": [
    "import numpy as np\n",
    "from scipy.io import FortranFile\n",
    "fortran_raw = \"data/gratsr-fortran.bin\""
   ]
  },
  {
   "cell_type": "code",
   "execution_count": null,
   "metadata": {
    "collapsed": false
   },
   "outputs": [],
   "source": [
    "ff = FortranFile(fortran_raw, 'r')\n",
    "print(ff.read_reals(dtype=np.float16))\n",
    "print(ff.read_record(dtype=[('X', np.float32)]))\n",
    "#ff.read_record(dtype=[('BT', '<f4')])\n",
    "print(ff.read_record(dtype=[('X', '<a1')]))\n",
    "print(ff.read_record(dtype=[('X', '<f4')]))"
   ]
  }
 ],
 "metadata": {
  "continuum": {
   "depends": [
    "np_intro",
    "np_records"
   ],
   "requires": [
    "data/gratsr-fortran.bin"
   ],
   "tag": "data_fortran"
  },
  "kernelspec": {
   "display_name": "Python 3",
   "language": "python",
   "name": "python3"
  },
  "language_info": {
   "codemirror_mode": {
    "name": "ipython",
    "version": 3
   },
   "file_extension": ".py",
   "mimetype": "text/x-python",
   "name": "python",
   "nbconvert_exporter": "python",
   "pygments_lexer": "ipython3",
   "version": "3.4.3"
  }
 },
 "nbformat": 4,
 "nbformat_minor": 0
}
