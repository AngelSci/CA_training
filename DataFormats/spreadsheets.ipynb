{
 "cells": [
  {
   "cell_type": "markdown",
   "metadata": {},
   "source": [
    "# Table of Contents\n",
    "* [Working with Spreadsheets](#Working-with-Spreadsheets)\n",
    "* [Learning Objectives:](#Learning-Objectives:)\n",
    "\t* [What are Spreadsheets?](#What-are-Spreadsheets?)\n",
    "\t\t* [What are spreadsheets good for?](#What-are-spreadsheets-good-for?)\n",
    "\t* [Structure of Excel files](#Structure-of-Excel-files)\n",
    "\t\t* [New XML-based hotness: .xlsx](#New-XML-based-hotness:-.xlsx)\n",
    "\t\t* [Old binary-format-based, but not busted: .xls](#Old-binary-format-based,-but-not-busted:-.xls)\n",
    "\t* [Structure of ODT (and ODS) files](#Structure-of-ODT-%28and-ODS%29-files)\n",
    "\t\t* [XML-based .odt and .ods](#XML-based-.odt-and-.ods)\n",
    "\t\t* [Picking one to use:](#Picking-one-to-use:)\n",
    "\t* [Basic Steps for Programmatically Working with Excel](#Basic-Steps-for-Programmatically-Working-with-Excel)\n",
    "\t* [Notes and Gotchas](#Notes-and-Gotchas)\n",
    "\t* [Exercises](#Exercises)\n",
    "\t* [Optional Exercises](#Optional-Exercises)\n",
    "\t\t* [What is a cell?](#What-is-a-cell?)\n"
   ]
  },
  {
   "cell_type": "markdown",
   "metadata": {},
   "source": [
    "# Working with Spreadsheets"
   ]
  },
  {
   "cell_type": "markdown",
   "metadata": {},
   "source": [
    "# Learning Objectives:"
   ]
  },
  {
   "cell_type": "markdown",
   "metadata": {},
   "source": [
    "* Understand the structure of Excel .xlsx files\n",
    "* Read data from Excel files\n",
    "* Write data to Excel files"
   ]
  },
  {
   "cell_type": "markdown",
   "metadata": {},
   "source": [
    "## What are Spreadsheets?"
   ]
  },
  {
   "cell_type": "markdown",
   "metadata": {},
   "source": [
    "* Spreadsheets are files that can only be modified via lots of mouse-clicking. (Or is that true?)\n",
    "* Databases\n",
    "* Todo Lists\n",
    "* Complex Programs\n",
    "* A catchall for data for people who don't/can't know any better. (This is not true, but it often feels true.)"
   ]
  },
  {
   "cell_type": "markdown",
   "metadata": {},
   "source": [
    "### What are spreadsheets good for?"
   ]
  },
  {
   "cell_type": "markdown",
   "metadata": {},
   "source": [
    "* Rapid prototyping\n",
    "* Easy to share understanding between technical and non-technical people\n",
    "* Concrete structure makes it easy for non-programmers (and it makes it dangerous)\n",
    "\n",
    "\n",
    "Microsoft Excel is the dominant spreadsheet program, so we'll focus on that, but give some examples with the ODT (Open DocumenT) championed by the Free Software community (specifically OASIS)."
   ]
  },
  {
   "cell_type": "markdown",
   "metadata": {},
   "source": [
    "## Structure of Excel files"
   ]
  },
  {
   "cell_type": "markdown",
   "metadata": {},
   "source": [
    "### New XML-based hotness: .xlsx "
   ]
  },
  {
   "cell_type": "markdown",
   "metadata": {},
   "source": [
    "* xlsx defines the structure of Excel spreadsheets that fit into the [OOXML framework](http://www.officeopenxml.com/anatomyofOOXML-xlsx.php). \n",
    "* One .xlsx file contains only one workbook (but worksheets in that workbook may refer to other workbooks in other files).\n",
    "* A .xlsx file is actually a zip file (aka package) containing a number of parts. Some are required, some are not.\n",
    "  * [Content_Types].xml is required\n",
    "  * relationships between different things are required (between worksheets, styles, external resources, etc.)\n",
    "* A workbook may contain one or more worksheets\n",
    "* Each worksheet is kept in a different XML file"
   ]
  },
  {
   "cell_type": "markdown",
   "metadata": {},
   "source": [
    "### Old binary-format-based, but not busted: .xls"
   ]
  },
  {
   "cell_type": "markdown",
   "metadata": {},
   "source": [
    "* xls is a binary-format specification that defines the structure of Excel spreadsheets.\n",
    "* An xls file is \"... an OLE compound file. A compound file contains storages, streams, and substreams. Each stream or substream contains a series of binary records. Each binary record contains zero or more structured fields that contain the workbook data. (This brief excerpt taken from [MSDN](https://msdn.microsoft.com/en-us/library/office/cc313154%28v=office.12%29.aspx)\n",
    "* The basic building block of xls files is the binary record. Each record is a variable-length sequence of bytes, and is composed of three things: record type, record size, and data.\n",
    "\n",
    "In other words, xls is a complex format. (I hate this format now. But in truth, it is actually pretty amazing. Backwards compatible to the beginning of time, made to be fast on old computers (like the kind from 10+ years ago), and designed to solve the problems of the day while still being able to handle the future)"
   ]
  },
  {
   "cell_type": "markdown",
   "metadata": {},
   "source": [
    "## Structure of ODT (and ODS) files"
   ]
  },
  {
   "cell_type": "markdown",
   "metadata": {},
   "source": [
    "### XML-based .odt and .ods"
   ]
  },
  {
   "cell_type": "markdown",
   "metadata": {},
   "source": [
    "* odt defines the structure of ODS spreadsheets that fit into the [ISO/IEC 26300-1:2015 specification](http://www.iso.org/iso/home/store/catalogue_ics/catalogue_detail_ics.htm?csnumber=66363) \n",
    "* odt files are composed of many XML elements (spreadsheets, charts, images, text, drawings, etc.)\n",
    "* ods files are simply odt files that use the \"ods\" extension to tell what program should open the file.\n",
    "  * In other words, there is absolutely NOTHING special about .ods\n",
    "* Each spreadsheet element can contain table elements, calculation elements, and lots of other XML elements"
   ]
  },
  {
   "cell_type": "markdown",
   "metadata": {},
   "source": [
    "### Picking one to use:"
   ]
  },
  {
   "cell_type": "markdown",
   "metadata": {},
   "source": [
    "1. Should you use a spreadsheet in the first place?\n",
    "  1. How is the data intended to be used?\n",
    "  2. How much data is there?\n",
    "  3. Who knows what logic and calculations have to be encoded? A business analyst or accountant?\n",
    "  4. \n",
    "2. If so...\n",
    "  3. Is backwards compatibility to Excel 2005 required? (Excel 2007 was one of the first versions to actually support OOXML, according to my \"Google archaeology\")"
   ]
  },
  {
   "cell_type": "markdown",
   "metadata": {},
   "source": [
    "## Basic Steps for Programmatically Working with Excel"
   ]
  },
  {
   "cell_type": "markdown",
   "metadata": {},
   "source": [
    "1. Look at a small sample of your data\n",
    "2. Test on a small sample of the data\n",
    "3. Robustify the code\n",
    "4. Test on a larger sample of the data\n",
    "5. Iterate"
   ]
  },
  {
   "cell_type": "markdown",
   "metadata": {},
   "source": [
    "## Notes and Gotchas"
   ]
  },
  {
   "cell_type": "markdown",
   "metadata": {},
   "source": [
    "* Python indexing is 0-based\n",
    "* Excel indexing is 1-based\n",
    "* This makes for a WEIRD mismash of indexing techniques\n",
    "  * worksheet.cell(row=1, column=1) == worksheet.rows[0][0]\n",
    "* openpyxl requires a LOT of memory, even for smallish spreadsheets"
   ]
  },
  {
   "cell_type": "code",
   "execution_count": null,
   "metadata": {
    "collapsed": true
   },
   "outputs": [],
   "source": [
    "#conda install openpyxl xlrd xlwt\n",
    "#This won't work: \"conda install xlutils\". It is apparently incompatible with python 3.4 (as of 2015-06-25)\n",
    "import openpyxl\n",
    "import xlrd\n",
    "import xlwt\n",
    "\n",
    "from openpyxl import load_workbook, Workbook\n",
    "\n",
    "from pprint import pprint\n",
    "\n",
    "aapl_xlsx = \"data/AAPL01.xlsx\""
   ]
  },
  {
   "cell_type": "code",
   "execution_count": null,
   "metadata": {
    "collapsed": false
   },
   "outputs": [],
   "source": [
    "wb = load_workbook(aapl_xlsx)\n",
    "#A workbook should have one or more worksheets.\n",
    "#Let's see\n",
    "pprint(wb.worksheets)\n",
    "AAPL_ws = wb['AAPL']\n",
    "pprint(AAPL_ws)\n",
    "\n",
    "#for row in AAPL_ws.rows[1:10]:\n",
    "#    for cell in row[:7]:\n",
    "#        print (cell.value)\n",
    "\n",
    "#What is the difference bewteen that loop and this one?\n",
    "for row in AAPL_ws['A2':'F11']:\n",
    "    for cell in row:\n",
    "        print (cell.value)\n",
    "\n",
    "#The top loop is loading ALL columns (from A-ZZZZZZ whatever)\n",
    "#This is fine if you can wait a while and have lots o' RAM"
   ]
  },
  {
   "cell_type": "code",
   "execution_count": null,
   "metadata": {
    "collapsed": false
   },
   "outputs": [],
   "source": [
    "#Iterate over the opening prices and find and print the maximum\n",
    "\n",
    "#Why use \"maximum\" instead of easier to write \"max\"?\n",
    "maximum = float(\"-inf\")\n",
    "for cell in AAPL_ws.columns[1][1:]:\n",
    "    if maximum < float(cell.value):\n",
    "        maximum = float(cell.value)\n",
    "print(\"The highest opening price is {}\".format(maximum))\n",
    "        "
   ]
  },
  {
   "cell_type": "code",
   "execution_count": null,
   "metadata": {
    "collapsed": true
   },
   "outputs": [],
   "source": []
  },
  {
   "cell_type": "markdown",
   "metadata": {},
   "source": [
    "## Exercises"
   ]
  },
  {
   "cell_type": "markdown",
   "metadata": {},
   "source": [
    "1. Find and print the maximum volume\n",
    "2. Sum and print the volume over all time\n",
    "3. Find and print any differences between the closing price and adjusted closing prices"
   ]
  },
  {
   "cell_type": "markdown",
   "metadata": {},
   "source": [
    "## Optional Exercises"
   ]
  },
  {
   "cell_type": "markdown",
   "metadata": {},
   "source": [
    "1. Find and print the maximum volume per year\n",
    "2. Find and print the maximum and minimum opening price per year\n",
    "3. Sum and print the volume over each year"
   ]
  },
  {
   "cell_type": "code",
   "execution_count": null,
   "metadata": {
    "collapsed": false
   },
   "outputs": [],
   "source": [
    "my_first_workbook = \"data/my_first_spreadsheet.xlsx\"\n",
    "new_wb = Workbook()\n",
    "\n",
    "#Each workbook has at least one worksheet\n",
    "ws = new_wb.active\n",
    "ws.title = \"Test1\"\n",
    "\n",
    "\n",
    "ws.cell('A1').value = \"Header1\"\n",
    "ws.cell('B1').value = \"Header2\"\n",
    "ws.cell('C1').value = \"Header3\"\n",
    "ws.cell('D1').value = \"Header4\"\n",
    "\n",
    "for col in range(1,5):\n",
    "    for row in range(2,10):\n",
    "        c = ws.cell(column=col, row=row)\n",
    "        c.value = col*100 + row\n",
    "        \n",
    "new_wb.save(my_first_workbook)"
   ]
  },
  {
   "cell_type": "markdown",
   "metadata": {},
   "source": [
    "### What is a cell?"
   ]
  },
  {
   "cell_type": "markdown",
   "metadata": {},
   "source": [
    "A cell is a distinct collection of attributes and properties at a particular location (identified by a row and column) inside a worksheet. If that definition is too generic, try this:\n",
    "\n",
    "\"The cell is the primary place in which data is stored and operated on. A cell can have a number of characteristics,\n",
    "such as numeric, text, date, or time formatting; alignment; font; color; and a border. Each cell is identified by a\n",
    "cell reference, a combination of its column and row headings.\" ([ECMA OOXML Part 1](http://www.ecma-international.org/publications/standards/Ecma-376.htm))"
   ]
  },
  {
   "cell_type": "code",
   "execution_count": null,
   "metadata": {
    "collapsed": false
   },
   "outputs": [],
   "source": []
  },
  {
   "cell_type": "code",
   "execution_count": null,
   "metadata": {
    "collapsed": false
   },
   "outputs": [],
   "source": [
    "#Boss says \"You did great getting that Apple stock data, but I need one worksheet per year.\"\n",
    "#What do?\n",
    "#We could go in and manually separate each year into a different worksheet (from 2014 to 1980). Yuck!\n",
    "#We could do it automatically. Yay!\n",
    "\n",
    "\n",
    "#Basic scheme for the new workbook:\n",
    "# for each year encountered, make a new worksheet\n",
    "# populate that worksheet with the data for that year.\n",
    "aapl_wb = load_workbook(aapl_xlsx)\n",
    "aapl_ws = aapl_wb.active\n",
    "\n",
    "headers = list(aapl_ws['A1': 'G1'])[0]\n",
    "first_data_cell = 'a2'\n",
    "last_data_cell = 'g%s' % (aapl_ws.max_row)\n",
    "#last_data_cell = 'g1000'\n",
    "year = aapl_ws.cell(row=2, column=1).value[:4]\n",
    "\n",
    "aapl_separated_file = \"data/AAPL_separated.xlsx\"\n",
    "aapl_separated_wb = Workbook()\n",
    "\n",
    "ws = aapl_separated_wb.active\n",
    "ws.title = year\n",
    "ws.append([cell.value for cell in headers])\n",
    "\n",
    "new_worksheets = {year: ws}\n",
    "\n",
    "for row in aapl_ws[first_data_cell:last_data_cell]:\n",
    "    #Each of these things is an individual cell\n",
    "    date, p_open, p_high, p_low, p_close, p_vol, p_adj_close = row\n",
    "    year = date.value[:4]\n",
    "    if year not in new_worksheets:\n",
    "        ws = aapl_separated_wb.create_sheet(title=year)\n",
    "        new_worksheets[year] = ws\n",
    "        ws.append([cell.value for cell in headers])\n",
    "        \n",
    "    else:\n",
    "        ws = new_worksheets[year]\n",
    "        \n",
    "    ws.append([cell.value for cell in row])\n",
    "    \n",
    "aapl_separated_wb.save(aapl_separated_file)"
   ]
  },
  {
   "cell_type": "code",
   "execution_count": null,
   "metadata": {
    "collapsed": true
   },
   "outputs": [],
   "source": [
    "\n"
   ]
  }
 ],
 "metadata": {
  "continuum": {
   "depends": [
    "ip_containers"
   ],
   "requires": [
    "data/AAPL01.xlsx",
    "data/AAPL_separated.xlsx",
    "data/my_first_spreadsheet.xlsx"
   ],
   "tag": "data_xls"
  },
  "kernelspec": {
   "display_name": "Python 3",
   "language": "python",
   "name": "python3"
  },
  "language_info": {
   "codemirror_mode": {
    "name": "ipython",
    "version": 3
   },
   "file_extension": ".py",
   "mimetype": "text/x-python",
   "name": "python",
   "nbconvert_exporter": "python",
   "pygments_lexer": "ipython3",
   "version": "3.4.4"
  }
 },
 "nbformat": 4,
 "nbformat_minor": 0
}
