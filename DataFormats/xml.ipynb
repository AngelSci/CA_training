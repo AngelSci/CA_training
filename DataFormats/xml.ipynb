{
 "cells": [
  {
   "cell_type": "markdown",
   "metadata": {},
   "source": [
    "# Table of Contents\n",
    "* [Learning Objectives:](#Learning-Objectives:)\n",
    "\t* [XML](#XML)\n",
    "\t\t* [expat](#expat)\n",
    "\t\t* [ElementTree](#ElementTree)\n",
    "\t\t* [SAX (Simple API for XML)](#SAX-%28Simple-API-for-XML%29)\n",
    "\t\t* [DOM (Document Object Model)](#DOM-%28Document-Object-Model%29)\n",
    "\t* [Exercise (representing and processing XML)](#Exercise-%28representing-and-processing-XML%29)\n"
   ]
  },
  {
   "cell_type": "markdown",
   "metadata": {},
   "source": [
    "# Learning Objectives:"
   ]
  },
  {
   "cell_type": "markdown",
   "metadata": {},
   "source": [
    "* Work with XML data using several APIs:\n",
    "  * expat\n",
    "  * ElementTree\n",
    "  * SAX (Simple API for XML)\n",
    "  * DOM (Document Object Model  "
   ]
  },
  {
   "cell_type": "markdown",
   "metadata": {},
   "source": [
    "## XML"
   ]
  },
  {
   "cell_type": "code",
   "execution_count": null,
   "metadata": {
    "collapsed": true
   },
   "outputs": [],
   "source": [
    "# Some XML files from the HDF5 descriptions info\n",
    "metadata = \"data/Granule_Metadata.xml\"\n",
    "collection = \"data/GES_DISC_GPM_3GPROFF16SSMIS_DAY_V03_dif.xml\""
   ]
  },
  {
   "cell_type": "markdown",
   "metadata": {},
   "source": [
    "### expat"
   ]
  },
  {
   "cell_type": "markdown",
   "metadata": {},
   "source": [
    "More details at https://docs.python.org/3/library/pyexpat.html#module-xml.parsers.expat"
   ]
  },
  {
   "cell_type": "code",
   "execution_count": null,
   "metadata": {
    "collapsed": false,
    "scrolled": true
   },
   "outputs": [],
   "source": [
    "import xml.parsers.expat as expat\n",
    "indent = 0  # global variable quick-and-dirty\n",
    "\n",
    "# 3 handler functions\n",
    "def start_element(name, attrs):\n",
    "    global indent\n",
    "    print(\"  \"*indent + 'Start element:', name, attrs)\n",
    "    indent += 1\n",
    "def end_element(name):\n",
    "    global indent\n",
    "    indent -= 1\n",
    "    print(\"  \"*indent + 'End element:', name)\n",
    "def char_data(data):\n",
    "    global indent\n",
    "    print(\"  \"*(indent-1) + 'Character data:', repr(data))\n",
    "\n",
    "p = expat.ParserCreate()\n",
    "p.StartElementHandler = start_element\n",
    "p.EndElementHandler = end_element\n",
    "p.CharacterDataHandler = char_data\n",
    "p.ParseFile(open(metadata, 'rb'))"
   ]
  },
  {
   "cell_type": "markdown",
   "metadata": {},
   "source": [
    "### ElementTree"
   ]
  },
  {
   "cell_type": "markdown",
   "metadata": {},
   "source": [
    "More details at https://docs.python.org/3/library/xml.etree.elementtree.html#module-xml.etree.ElementTree"
   ]
  },
  {
   "cell_type": "code",
   "execution_count": null,
   "metadata": {
    "collapsed": false,
    "scrolled": true
   },
   "outputs": [],
   "source": [
    "import xml.etree.ElementTree as ET\n",
    "\n",
    "def print_element(elem, indent=0):\n",
    "    print(\"  \"*indent + \"Start element:\", elem.tag, elem.attrib)\n",
    "    print(\"  \"*indent + \"Character data:\", repr(elem.text))\n",
    "    for child in elem:\n",
    "        print_element(child, indent+1)\n",
    "    if elem.tail:\n",
    "        print(\"  \"*indent + \"Character data:\", repr(elem.tail))\n",
    "    print(\"  \"*indent + \"End element:\", elem.tag)\n",
    "\n",
    "tree = ET.parse(metadata)\n",
    "root = tree.getroot()\n",
    "print_element(root)"
   ]
  },
  {
   "cell_type": "code",
   "execution_count": null,
   "metadata": {
    "collapsed": false
   },
   "outputs": [],
   "source": [
    "for shortname in root.iter(\"ShortName\"):\n",
    "    print(shortname.text)"
   ]
  },
  {
   "cell_type": "markdown",
   "metadata": {},
   "source": [
    "### SAX (Simple API for XML)"
   ]
  },
  {
   "cell_type": "markdown",
   "metadata": {},
   "source": [
    "More details at https://docs.python.org/3/library/xml.sax.html#module-xml.sax"
   ]
  },
  {
   "cell_type": "code",
   "execution_count": null,
   "metadata": {
    "collapsed": true
   },
   "outputs": [],
   "source": [
    "import xml.sax as sax\n",
    "\n",
    "# Similar pull-based style as expat, slightly higher level."
   ]
  },
  {
   "cell_type": "markdown",
   "metadata": {},
   "source": [
    "### DOM (Document Object Model)"
   ]
  },
  {
   "cell_type": "markdown",
   "metadata": {},
   "source": [
    "More details at https://docs.python.org/3/library/xml.dom.html#module-xml.dom\n",
    "\n",
    "Really only use this if you need compatibility in programming style with older code, or with code in other programming languages like Java.  For the Pythonic high-level approach, use `ElementTree`"
   ]
  },
  {
   "cell_type": "code",
   "execution_count": null,
   "metadata": {
    "collapsed": false,
    "scrolled": true
   },
   "outputs": [],
   "source": [
    "import xml.dom.minidom as DOM\n",
    "dom = DOM.parse(metadata)\n",
    "print(dom.childNodes)\n",
    "root = dom.childNodes[2]\n",
    "print(root.tagName, root.attributes.items())\n",
    "# ... etc ..."
   ]
  },
  {
   "cell_type": "markdown",
   "metadata": {},
   "source": [
    "## Exercise (representing and processing XML)"
   ]
  },
  {
   "cell_type": "markdown",
   "metadata": {},
   "source": [
    "Remember the YAML file we looked at from a conda package?  See on your local system:\n",
    "\n",
    "```\n",
    "data/graphviz-meta.yaml\n",
    "```"
   ]
  },
  {
   "cell_type": "markdown",
   "metadata": {},
   "source": [
    "Many of your conda packages installed on your system have a similar file (i.e. called `meta.yaml` in a package directory).  For this exercise, imagine that Continuum Analytics were transported back in time to the early 2000s, and wanted to change the storage of all this package metadata into an XML format.\n",
    "\n",
    "* Develop the XML dialect to be used to represent the data in this (and similar) YAML files.\n",
    "  * You may define this dialect purely informally.  If you have way too much time, feel free to write a DTD (Document Type Definition), W3C XML Schema, or ISO RELAX NG, formal definitions of the dialect.\n",
    "* Write the content of the mentioned data file as XML in the dialect you developed.\n",
    "* Read the XML you have written out using one of the Python XML parsing libraries discussed.\n",
    "* Write a utility function `get_requirements(meta, type_='build')` that will pull out a list of requirements for a package (either `build`, `conflicts`, or `run`) from your parsed representation of the XML.\n",
    "  * If you have time, write a couple other utility functions that seem useful for working with your format."
   ]
  }
 ],
 "metadata": {
  "continuum": {
   "depends": [
    "ip_containers"
   ],
   "requires": [
    "data/Granule_Metadata.xml",
    "data/GES_DISC_GPM_3GPROFF16SSMIS_DAY_V03_dif.xml",
    "data/graphviz-meta.yaml"
   ],
   "tag": "data_xml"
  },
  "kernelspec": {
   "display_name": "Python 3",
   "language": "python",
   "name": "python3"
  },
  "language_info": {
   "codemirror_mode": {
    "name": "ipython",
    "version": 3
   },
   "file_extension": ".py",
   "mimetype": "text/x-python",
   "name": "python",
   "nbconvert_exporter": "python",
   "pygments_lexer": "ipython3",
   "version": "3.4.4"
  }
 },
 "nbformat": 4,
 "nbformat_minor": 0
}
