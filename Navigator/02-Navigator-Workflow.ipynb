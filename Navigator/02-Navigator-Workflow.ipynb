{
 "cells": [
  {
   "cell_type": "markdown",
   "metadata": {},
   "source": [
    "![toolbar](img/anaconda-logo.png)"
   ]
  },
  {
   "cell_type": "markdown",
   "metadata": {},
   "source": [
    "# Anaconda Navigator Workflow"
   ]
  },
  {
   "cell_type": "markdown",
   "metadata": {},
   "source": [
    "## Table of Contents\n",
    "* [Anaconda Navigator Workflow](#Anaconda-Navigator-Workflow)\n",
    "* [Navigator Workflow Summary](#Navigator-Workflow-Summary)\n",
    "* [Navigator Workflow, Step by Step](#Navigator-Workflow,-Step-by-Step)\n",
    "\t* [Step 1: Create and activate a new environment for the package you want to use.](#Step-1:-Create-and-activate-a-new-environment-for-the-package-you-want-to-use.)\n",
    "\t* [Step 2: Search for and install the package you want.](#Step-2:-Search-for-and-install-the-package-you-want.)\n",
    "\t* [Step 3: Open and use the package.](#Step-3:-Open-and-use-the-package.)\n"
   ]
  },
  {
   "cell_type": "markdown",
   "metadata": {},
   "source": [
    "# Navigator Workflow Summary"
   ]
  },
  {
   "cell_type": "markdown",
   "metadata": {},
   "source": [
    "* Create and activate a new environment for the package you want to use.\n",
    "* Search for and install the package you want.\n",
    "* Open and use the package."
   ]
  },
  {
   "cell_type": "markdown",
   "metadata": {},
   "source": [
    "# Navigator Workflow, Step by Step"
   ]
  },
  {
   "cell_type": "markdown",
   "metadata": {},
   "source": [
    "## Step 1: Create and activate a new environment for the package you want to use."
   ]
  },
  {
   "cell_type": "markdown",
   "metadata": {},
   "source": [
    "* Let's say your professor told you to get BioPython, a popular library\n",
    "for biologists. \n",
    "* A quick online search reveals that, like most packages written in Python, it's available for Windows, OS X and Linux, 32-bit and 64-bit, and all versions of Python back to 2.6. \n",
    "* We'll create an environment using the newest version of Python, 3.5."
   ]
  },
  {
   "cell_type": "markdown",
   "metadata": {},
   "source": [
    "**NOTE:** Why choose Python 3.5? It's the latest and recommended version\n",
    "of Python to use."
   ]
  },
  {
   "cell_type": "markdown",
   "metadata": {},
   "source": [
    "In Anaconda Navigator...\n",
    "\n",
    "* go to the Environments side tab\n",
    "* then click the bottom *Create* Button.\n",
    "* The \"Create new environment\" dialog box appears:"
   ]
  },
  {
   "cell_type": "markdown",
   "metadata": {},
   "source": [
    "![image](img/navigator-tutorial01.png)"
   ]
  },
  {
   "cell_type": "markdown",
   "metadata": {},
   "source": [
    "* Give your environment a memorable name, here we called ours \"biopy\"\n",
    "* Select Python 3.5\n",
    "* Click the *OK* Button. \n",
    "* Navigator creates the new environment and activates (switches to) it, as shown by the highlighted green bar:"
   ]
  },
  {
   "cell_type": "markdown",
   "metadata": {},
   "source": [
    "![image](img/navigator-tutorial02.png)"
   ]
  },
  {
   "cell_type": "markdown",
   "metadata": {},
   "source": [
    "**NOTE:** All actions take place in the active environment, shown by the\n",
    "highlighted green bar. In the above image the \"biopy\" environment is\n",
    "active."
   ]
  },
  {
   "cell_type": "markdown",
   "metadata": {},
   "source": [
    "## Step 2: Search for and install the package you want."
   ]
  },
  {
   "cell_type": "markdown",
   "metadata": {},
   "source": [
    "Let's now search for the `biopython` package:\n",
    "\n",
    "* Select *ALL* to search for all possible packages\n",
    "* Then type the name of the package you want in the search box. \n",
    "* In the search results list, put a check next to the package you want to install:"
   ]
  },
  {
   "cell_type": "markdown",
   "metadata": {},
   "source": [
    "![image](img/navigator-tutorial03.png)"
   ]
  },
  {
   "cell_type": "markdown",
   "metadata": {},
   "source": [
    "From the drop-down menu that appears, select *Mark for installation*:"
   ]
  },
  {
   "cell_type": "markdown",
   "metadata": {},
   "source": [
    "![image](img/navigator-tutorial04.png)"
   ]
  },
  {
   "cell_type": "markdown",
   "metadata": {},
   "source": [
    "To begin installing, click the *APPLY* Button on the bottom right:"
   ]
  },
  {
   "cell_type": "markdown",
   "metadata": {},
   "source": [
    "![image](img/navigator-tutorial04b.png)"
   ]
  },
  {
   "cell_type": "markdown",
   "metadata": {},
   "source": [
    "When it asks you if you want to proceed, click the *OK* Button."
   ]
  },
  {
   "cell_type": "markdown",
   "metadata": {},
   "source": [
    "Anaconda Navigator gets all the dependent files you need and installs\n",
    "them in your new environment."
   ]
  },
  {
   "cell_type": "markdown",
   "metadata": {},
   "source": [
    "## Step 3: Open and use the package."
   ]
  },
  {
   "cell_type": "markdown",
   "metadata": {},
   "source": [
    "Now let's use the package we've installed:\n",
    "\n",
    "* On your \"biopy\" environment name which is still highlighted (if not,\n",
    "click to highlight it)\n",
    "* Click the arrow to bring up the menu of choices to open your package:"
   ]
  },
  {
   "cell_type": "markdown",
   "metadata": {},
   "source": [
    "![image](img/navigator-tutorial05.png)"
   ]
  },
  {
   "cell_type": "markdown",
   "metadata": {},
   "source": [
    "* Here we have selected *Open Terminal*.\n",
    "* A terminal window will appear, type jupyter-notebook to open Jupyter Notebook in a new browser window or tab."
   ]
  },
  {
   "cell_type": "markdown",
   "metadata": {},
   "source": [
    "* To exit Jupyter Notebook...\n",
    "    * close all notebook-related tabs or windows in your web browser\n",
    "    * in the terminal displaying notebook messages, press **ctrl-c** and answer \"Y\" \\[for \"yes\"\\] to stop the\n",
    "notebook process\n",
    "    * then type exit and press \"Enter\" to exit the terminal."
   ]
  },
  {
   "cell_type": "markdown",
   "metadata": {},
   "source": [
    "---"
   ]
  }
 ],
 "metadata": {
  "anaconda-cloud": {},
  "kernelspec": {
   "display_name": "Python [conda root]",
   "language": "python",
   "name": "conda-root-py"
  },
  "language_info": {
   "codemirror_mode": {
    "name": "ipython",
    "version": 3
   },
   "file_extension": ".py",
   "mimetype": "text/x-python",
   "name": "python",
   "nbconvert_exporter": "python",
   "pygments_lexer": "ipython3",
   "version": "3.5.2"
  }
 },
 "nbformat": 4,
 "nbformat_minor": 0
}
