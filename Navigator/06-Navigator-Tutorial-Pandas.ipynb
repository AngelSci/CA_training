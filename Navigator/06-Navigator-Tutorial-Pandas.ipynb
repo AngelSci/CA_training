{
 "cells": [
  {
   "cell_type": "markdown",
   "metadata": {},
   "source": [
    "![toolbar](img/anaconda-logo.png)"
   ]
  },
  {
   "cell_type": "markdown",
   "metadata": {},
   "source": [
    "# Using Anaconda Navigator with Pandas"
   ]
  },
  {
   "cell_type": "markdown",
   "metadata": {},
   "source": [
    "## Table of Contents\n",
    "* [Using Anaconda Navigator with Pandas](#Using-Anaconda-Navigator-with-Pandas)\n",
    "\t* [Who is this for?](#Who-is-this-for?)\n",
    "\t* [Before you start](#Before-you-start)\n",
    "\t* [Summary of steps](#Summary-of-steps)\n",
    "* [Instructions](#Instructions)\n",
    "* [Learn More about Pandas](#Learn-More-about-Pandas)\n",
    "* [Additional help](#Additional-help)\n",
    "\t* [Anaconda Navigator documentation](#Anaconda-Navigator-documentation)\n",
    "\t* [Bug reports](#Bug-reports)\n"
   ]
  },
  {
   "cell_type": "markdown",
   "metadata": {},
   "source": [
    "Pandas is a common data science tool in Python for data manipulation and\n",
    "analysis. In this how-to we'll show you how to use Anaconda Navigator to\n",
    "set up and begin working with Pandas in your choice of Terminal, Python,\n",
    "IPython, or Jupyter Notebook. The steps are similar for installing and\n",
    "opening nearly any package."
   ]
  },
  {
   "cell_type": "markdown",
   "metadata": {},
   "source": [
    "## Who is this for?"
   ]
  },
  {
   "cell_type": "markdown",
   "metadata": {},
   "source": [
    "Anyone who wants to easily install and configure collections of python\n",
    "packages for analytics using a simple GUI tool, Anaconda Navigator."
   ]
  },
  {
   "cell_type": "markdown",
   "metadata": {},
   "source": [
    "## Before you start"
   ]
  },
  {
   "cell_type": "markdown",
   "metadata": {},
   "source": [
    "You should already have Anaconda installed. Navigator is\n",
    "automatically installed when you install or update Anaconda. If you have\n",
    "an older version of Anaconda, update with the command\n",
    "`conda update anaconda`."
   ]
  },
  {
   "cell_type": "markdown",
   "metadata": {},
   "source": [
    "## Summary of steps"
   ]
  },
  {
   "cell_type": "markdown",
   "metadata": {},
   "source": [
    "1.  Open Navigator and go to the Environments tab.\n",
    "2.  Create a new environment.\n",
    "3.  Install Pandas in the new environment.\n",
    "4.  Begin working with Pandas in your choice of Terminal, Python,\n",
    "    IPython, or Jupyter Notebook."
   ]
  },
  {
   "cell_type": "markdown",
   "metadata": {},
   "source": [
    "# Instructions"
   ]
  },
  {
   "cell_type": "markdown",
   "metadata": {},
   "source": [
    "## Step 1.  Open Anaconda Navigator. "
   ]
  },
  {
   "cell_type": "markdown",
   "metadata": {},
   "source": [
    "* Look on your desktop or your programs menu for “Navigator” and click it to open.\n",
    "* You will see Navigator has four left tabs: \n",
    "    * Home\n",
    "    * Environments\n",
    "    * Learning\n",
    "    * Community\n",
    "* Click Environments to open that tab."
   ]
  },
  {
   "cell_type": "markdown",
   "metadata": {},
   "source": [
    "## Step 2.  Create a new environment. "
   ]
  },
  {
   "cell_type": "markdown",
   "metadata": {},
   "source": [
    "* In your list of Anaconda environments\n",
    "* select “Create”\n",
    "    * *Note: If this is your first time creating an Anaconda\n",
    "    environment, you will see only root in your environment list as\n",
    "    shown in the screenshot below.*"
   ]
  },
  {
   "cell_type": "markdown",
   "metadata": {},
   "source": [
    "![image](img/navigator-pandas1.png)"
   ]
  },
  {
   "cell_type": "markdown",
   "metadata": {},
   "source": [
    "* When prompted, give the environment a descriptive name like Pandas\n",
    "* Select a Python version to run it. \n",
    "    * *Note: In this screenshot we have selected\n",
    "Python 2.7.*"
   ]
  },
  {
   "cell_type": "markdown",
   "metadata": {},
   "source": [
    "![image](img/navigator-pandas2.png)"
   ]
  },
  {
   "cell_type": "markdown",
   "metadata": {},
   "source": [
    "* Now your new environment named Pandas appears in the list below the `root` environment.\n",
    "* To begin managing your new environment, select it by clicking the name so that it is highlighted with a green background."
   ]
  },
  {
   "cell_type": "markdown",
   "metadata": {},
   "source": [
    "* Now that you have selected your environment\n",
    "    * In the right-hand pane you can see a list of all packages installed in that environment.\n",
    "    * As shown at the bottom of the screenshot below, there are currently 59 packages in the Pandas environment."
   ]
  },
  {
   "cell_type": "markdown",
   "metadata": {},
   "source": [
    "![image](img/navigator-pandas3.png)"
   ]
  },
  {
   "cell_type": "markdown",
   "metadata": {},
   "source": [
    "## Step 3. Install Pandas in the new environment."
   ]
  },
  {
   "cell_type": "markdown",
   "metadata": {},
   "source": [
    "* If you were to search this new environment for the Pandas Python package in the “Search” box in the upper right, it would return no results.\n",
    "* Try it if you like."
   ]
  },
  {
   "cell_type": "markdown",
   "metadata": {},
   "source": [
    "* To install Pandas into this environment...\n",
    "    * from the drop down menu above the Packages pane\n",
    "    * select “ALL” to search for it in all channels.\n",
    "    * See the screenshot below."
   ]
  },
  {
   "cell_type": "markdown",
   "metadata": {},
   "source": [
    "![image](img/navigator-pandas4.png)"
   ]
  },
  {
   "cell_type": "markdown",
   "metadata": {},
   "source": [
    "Now when you type Pandas in the search box, it will appear as a package\n",
    "available for installation."
   ]
  },
  {
   "cell_type": "markdown",
   "metadata": {},
   "source": [
    "![image](img/navigator-pandas5.png)"
   ]
  },
  {
   "cell_type": "markdown",
   "metadata": {},
   "source": [
    "* Select this package by clicking on the package name\n",
    "* put a check next to the name \"pandas\" to mark it for installation.\n",
    "* Next you select the version.\n",
    "    * *Note: For the purposes of this example, let’s install a specific\n",
    "version, 0.17.1 (optional).*"
   ]
  },
  {
   "cell_type": "markdown",
   "metadata": {},
   "source": [
    "![image](img/navigator-pandas6.png)"
   ]
  },
  {
   "cell_type": "markdown",
   "metadata": {},
   "source": [
    "* Now that you have selected the version, two buttons appear below the\n",
    "Packages pane: \n",
    "    * Apply\n",
    "    * Clear\n",
    "* To finish the installation, click the Apply button."
   ]
  },
  {
   "cell_type": "markdown",
   "metadata": {},
   "source": [
    "![image](img/navigator-pandas7.png)"
   ]
  },
  {
   "cell_type": "markdown",
   "metadata": {},
   "source": [
    "* As Navigator begins installing Pandas and all of its dependencies, a\n",
    "progress bar appears at the bottom below the Packages pane. \n",
    "* This can take a moment as it locates and installs these dependencies.\n",
    "* After the installation process is complete, your new environment is\n",
    "immediately ready for your use."
   ]
  },
  {
   "cell_type": "markdown",
   "metadata": {},
   "source": [
    "## Step 4.  Begin working with Pandas."
   ]
  },
  {
   "cell_type": "markdown",
   "metadata": {},
   "source": [
    "To begin using your new environment,\n",
    "* click the left Environments tab to go back to the Environments pane\n",
    "* then click on the small button next to the environment name.\n",
    "* This allows you to begin working with Pandas in your choice of...\n",
    "    * System shell (e.g. using Terminal or Command Prompt to execute `$ python my_script.py`)\n",
    "    * Python shell\n",
    "    * IPython shell\n",
    "    * or Jupyter Notebook.\n",
    "* Refer to the documentation for each of those programs for more help."
   ]
  },
  {
   "cell_type": "markdown",
   "metadata": {},
   "source": [
    "![image](img/navigator-pandas8.png)"
   ]
  },
  {
   "cell_type": "markdown",
   "metadata": {},
   "source": [
    "# Learn More about Pandas"
   ]
  },
  {
   "cell_type": "markdown",
   "metadata": {},
   "source": [
    "-   10 Minutes to Pandas:\n",
    "    <http://pandas.pydata.org/pandas-docs/stable/10min.html>\n",
    "-   Pandas Cookbook:\n",
    "    <http://pandas.pydata.org/pandas-docs/stable/cookbook.html>"
   ]
  },
  {
   "cell_type": "markdown",
   "metadata": {},
   "source": [
    "# Additional help"
   ]
  },
  {
   "cell_type": "markdown",
   "metadata": {},
   "source": [
    "If you have any problems, please feel free to reach out for help from\n",
    "the community on the [Anaconda mailing\n",
    "list](https://groups.google.com/a/continuum.io/forum/#!forum/anaconda)."
   ]
  },
  {
   "cell_type": "markdown",
   "metadata": {},
   "source": [
    "## Anaconda Navigator documentation"
   ]
  },
  {
   "cell_type": "markdown",
   "metadata": {},
   "source": [
    "See the complete [Anaconda Navigator documentation](navigator) for\n",
    "detailed instructions and tutorials."
   ]
  },
  {
   "cell_type": "markdown",
   "metadata": {},
   "source": [
    "## Bug reports"
   ]
  },
  {
   "cell_type": "markdown",
   "metadata": {},
   "source": [
    "If at any point you think you have found a bug, feel free to create an\n",
    "issue in the [Anaconda Issues repository](https://github.com/ContinuumIO/anaconda-issues)."
   ]
  },
  {
   "cell_type": "markdown",
   "metadata": {},
   "source": [
    "---"
   ]
  }
 ],
 "metadata": {
  "anaconda-cloud": {},
  "kernelspec": {
   "display_name": "Python [conda root]",
   "language": "python",
   "name": "conda-root-py"
  },
  "language_info": {
   "codemirror_mode": {
    "name": "ipython",
    "version": 3
   },
   "file_extension": ".py",
   "mimetype": "text/x-python",
   "name": "python",
   "nbconvert_exporter": "python",
   "pygments_lexer": "ipython3",
   "version": "3.5.2"
  }
 },
 "nbformat": 4,
 "nbformat_minor": 0
}
