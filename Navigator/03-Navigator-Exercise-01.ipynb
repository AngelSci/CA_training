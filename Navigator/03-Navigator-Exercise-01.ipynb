{
 "cells": [
  {
   "cell_type": "markdown",
   "metadata": {},
   "source": [
    "![toolbar](img/anaconda-logo.png)"
   ]
  },
  {
   "cell_type": "markdown",
   "metadata": {},
   "source": [
    "# Navigator Exercise \\#1: Import BioPython and display the help."
   ]
  },
  {
   "cell_type": "markdown",
   "metadata": {},
   "source": [
    "* You've already installed and opened BioPython in a previous notebook. But for practice, create a new notebook and both import and display the package/module help."
   ]
  },
  {
   "cell_type": "markdown",
   "metadata": {},
   "source": [
    "* To verify that the installation is working...\n",
    "    * Open a Jupyter Notebook\n",
    "    * chose ***New -&gt; Python 3***\n",
    "        * *Note: you may have a different Python version depending on your installation*."
   ]
  },
  {
   "cell_type": "markdown",
   "metadata": {},
   "source": [
    "![image](img/navigator-tutorial08.png)"
   ]
  },
  {
   "cell_type": "markdown",
   "metadata": {},
   "source": [
    "Name the new file the same as this present one, but add `_soln` to the end of the name (before the file extension)"
   ]
  },
  {
   "cell_type": "markdown",
   "metadata": {},
   "source": [
    "Now paste the following code into the first (code) cell:"
   ]
  },
  {
   "cell_type": "markdown",
   "metadata": {},
   "source": [
    "```python\n",
    "import Bio\n",
    "help(Bio)\n",
    "```"
   ]
  },
  {
   "cell_type": "markdown",
   "metadata": {},
   "source": [
    "To run the code...\n",
    "\n",
    "* click ***Cell -&gt; Run*** Cells from the menu bar\n",
    "* or use the keyboard shortcut ***Ctrl-Enter***. \n",
    "* When executed, this code block displays the help information for the biopython package."
   ]
  }
 ],
 "metadata": {
  "anaconda-cloud": {},
  "kernelspec": {
   "display_name": "Python [conda root]",
   "language": "python",
   "name": "conda-root-py"
  },
  "language_info": {
   "codemirror_mode": {
    "name": "ipython",
    "version": 3
   },
   "file_extension": ".py",
   "mimetype": "text/x-python",
   "name": "python",
   "nbconvert_exporter": "python",
   "pygments_lexer": "ipython3",
   "version": "3.5.2"
  }
 },
 "nbformat": 4,
 "nbformat_minor": 0
}
