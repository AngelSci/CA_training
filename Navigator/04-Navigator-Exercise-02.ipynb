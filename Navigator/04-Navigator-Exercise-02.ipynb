{
 "cells": [
  {
   "cell_type": "markdown",
   "metadata": {},
   "source": [
    "![toolbar](img/anaconda-logo.png)"
   ]
  },
  {
   "cell_type": "markdown",
   "metadata": {},
   "source": [
    "# Navigator Exercise \\#2: Use QGrid with Yahoo S&P 500 data"
   ]
  },
  {
   "cell_type": "markdown",
   "metadata": {},
   "source": [
    "QGrid is a dataframe viewer for Jupyter notebook. To test your\n",
    "installation, use QGrid to display S&P 500 stock market data."
   ]
  },
  {
   "cell_type": "markdown",
   "metadata": {},
   "source": [
    "To install QGrid follow the instructions on how to install a package above, but install \"qgrid\" instead of \"biopython\"."
   ]
  },
  {
   "cell_type": "markdown",
   "metadata": {},
   "source": [
    "Open a Jupyter Notebook and paste the following Python code into the three separate cells and execute each in order"
   ]
  },
  {
   "cell_type": "markdown",
   "metadata": {},
   "source": [
    "```python\n",
    "# Import needed modules\n",
    "import qgrid\n",
    "import pandas as pd\n",
    "from pandas.io.data import get_data_yahoo\n",
    "```"
   ]
  },
  {
   "cell_type": "markdown",
   "metadata": {},
   "source": [
    "```python\n",
    "# Prevents the grid from being too large\n",
    "pd.set_option('display.max_rows', 8)\n",
    "```"
   ]
  },
  {
   "cell_type": "markdown",
   "metadata": {},
   "source": [
    "```python\n",
    "# Retrieve data from Yahoo\n",
    "spy = get_data_yahoo(symbols='SPY', start=pd.Timestamp('2011-01-01'), \n",
    "                     end=pd.Timestamp('2014-01-01'), adjust_price=True) \n",
    "# Display data\n",
    "spy\n",
    "```"
   ]
  },
  {
   "cell_type": "markdown",
   "metadata": {},
   "source": [
    "To run the code click *Cell -&gt; Run Cells* from the menu bar or use\n",
    "the keyboard shortcut *Ctrl + Enter*."
   ]
  },
  {
   "cell_type": "markdown",
   "metadata": {},
   "source": [
    "This returns a Pandas `DataFrame` containing the daily prices for the S&P 500 for the dates `1/1/2011 - 1/1/2014` and displays the first and last four rows of\n",
    "the DataFrame.\n",
    "\n",
    "The output should appear as follows:"
   ]
  },
  {
   "cell_type": "markdown",
   "metadata": {},
   "source": [
    "![image](img/navigator-tutorial06.png)"
   ]
  },
  {
   "cell_type": "markdown",
   "metadata": {},
   "source": [
    "Thanks to <https://github.com/quantopian/qgrid> and\n",
    "<http://nbviewer.jupyter.org/gist/TimShawver/b4bc80d1128407c56c9aifor>\n",
    "example code."
   ]
  },
  {
   "cell_type": "markdown",
   "metadata": {},
   "source": [
    "---"
   ]
  }
 ],
 "metadata": {
  "anaconda-cloud": {},
  "kernelspec": {
   "display_name": "Python [conda root]",
   "language": "python",
   "name": "conda-root-py"
  },
  "language_info": {
   "codemirror_mode": {
    "name": "ipython",
    "version": 3
   },
   "file_extension": ".py",
   "mimetype": "text/x-python",
   "name": "python",
   "nbconvert_exporter": "python",
   "pygments_lexer": "ipython3",
   "version": "3.5.2"
  }
 },
 "nbformat": 4,
 "nbformat_minor": 0
}
