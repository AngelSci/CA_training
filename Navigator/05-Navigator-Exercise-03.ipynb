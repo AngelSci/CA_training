{
 "cells": [
  {
   "cell_type": "markdown",
   "metadata": {},
   "source": [
    "![toolbar](img/anaconda-logo.png)"
   ]
  },
  {
   "cell_type": "markdown",
   "metadata": {},
   "source": [
    "# Navigator Exercise \\#3: Use R in a Jupyter Notebook"
   ]
  },
  {
   "cell_type": "markdown",
   "metadata": {},
   "source": [
    "## Table of Contents\n",
    "* [Navigator Exercise \\#3: Use R in a Jupyter Notebook](#Navigator-Exercise-\\#3:-Use-R-in-a-Jupyter-Notebook)\n",
    "\t* [1\\. Create and activate a new environment for the package you want to](#1\\.-Create-and-activate-a-new-environment-for-the-package-you-want-to)\n",
    "\t* [2\\. Search for and install the packages you want.](#2\\.-Search-for-and-install-the-packages-you-want.)\n",
    "\t* [3\\. Open and use the new R language package.](#3\\.-Open-and-use-the-new-R-language-package.)\n"
   ]
  },
  {
   "cell_type": "markdown",
   "metadata": {},
   "source": [
    "It is possible to use R, the popular programing language for statistics,\n",
    "in a Jupyter Notebook. To do so, we'll follow the exact\n",
    "navigator-basic-workflow shown above."
   ]
  },
  {
   "cell_type": "markdown",
   "metadata": {},
   "source": [
    "## 1\\. Create and activate a new environment for the package you want to"
   ]
  },
  {
   "cell_type": "markdown",
   "metadata": {},
   "source": [
    "use."
   ]
  },
  {
   "cell_type": "markdown",
   "metadata": {},
   "source": [
    "* Go to the Environments tab\n",
    "* Click the \"Create\" button at the bottom left\n",
    "* Give your new environment a descriptive name like \"R essentials\".\n",
    "* After it has finished installing, highlight your new environment name to activate it."
   ]
  },
  {
   "cell_type": "markdown",
   "metadata": {},
   "source": [
    "## 2\\. Search for and install the packages you want. "
   ]
  },
  {
   "cell_type": "markdown",
   "metadata": {},
   "source": [
    "* You want both R language and R essentials, which are available in the channel named MRO.\n",
    "* Show uninstalled packages by selecting \"All\" from the drop-down menu.\n",
    "* Then add the MRO channel to your channel list\n",
    "    * click \"Channels\",\n",
    "    * clicking \"Add\"\n",
    "    * select the white box that appears and typing \"mro\" and the enter key\n",
    "    * click \"Update channels\"."
   ]
  },
  {
   "cell_type": "markdown",
   "metadata": {},
   "source": [
    "* Now in the search box when you type \"r\" or \"r-es\" the package name \"r-essentials\" appears in your search results.\n",
    "* Check the box and from the drop-down menu that appears, select \"Mark for installation\". \n",
    "* Repeat for the \"r\" package and any other packages you wish to install.\n",
    "* Click the Apply button that appears at the bottom right. \n",
    "* A dialog box appears asking you to confirm, so click the \"Ok\" button to install R language and R Essentials."
   ]
  },
  {
   "cell_type": "markdown",
   "metadata": {},
   "source": [
    "## 3\\. Open and use the new R language package. "
   ]
  },
  {
   "cell_type": "markdown",
   "metadata": {},
   "source": [
    "Note that Jupyter supports languages other than Python, including R:"
   ]
  },
  {
   "cell_type": "markdown",
   "metadata": {},
   "source": [
    "* Open Jupyter Notebook...\n",
    "    * From the Environments tab, \n",
    "    * Highlight your new environment name\n",
    "    * Click the Open icon\n",
    "    * Select \"Open with Jupyter Notebook.\" "
   ]
  },
  {
   "cell_type": "markdown",
   "metadata": {},
   "source": [
    "* Create a new notebook with the R language\n",
    "    * From the Jupyter Notebook top menu, \n",
    "    * choose *New -&gt; R*. "
   ]
  },
  {
   "cell_type": "markdown",
   "metadata": {},
   "source": [
    "* To execute R code, paste the following code into the first cell:"
   ]
  },
  {
   "cell_type": "markdown",
   "metadata": {},
   "source": [
    "```r\n",
    "library(dplyr) \n",
    "iris\n",
    "```"
   ]
  },
  {
   "cell_type": "markdown",
   "metadata": {},
   "source": [
    "* Click *Cell -&gt; Run Cells* from the menu bar or press *Ctrl-Enter*.\n",
    "* This will show the iris data table.\n",
    "* To plot the data, click *+* to open a second cell, then paste the following code into the cell:"
   ]
  },
  {
   "cell_type": "markdown",
   "metadata": {},
   "source": [
    "```r\n",
    "library(ggplot2) \n",
    "ggplot(data=iris, aes(x=Sepal.Length, y=Sepal.Width, color=Species)) + geom_point(size=3)\n",
    "```"
   ]
  },
  {
   "cell_type": "markdown",
   "metadata": {},
   "source": [
    "* Again, click *Cell -&gt; Run Cells* from the menu bar or press *Ctrl-Enter*"
   ]
  },
  {
   "cell_type": "markdown",
   "metadata": {},
   "source": [
    "---"
   ]
  }
 ],
 "metadata": {
  "anaconda-cloud": {},
  "kernelspec": {
   "display_name": "Python [conda root]",
   "language": "python",
   "name": "conda-root-py"
  },
  "language_info": {
   "codemirror_mode": {
    "name": "ipython",
    "version": 3
   },
   "file_extension": ".py",
   "mimetype": "text/x-python",
   "name": "python",
   "nbconvert_exporter": "python",
   "pygments_lexer": "ipython3",
   "version": "3.5.2"
  }
 },
 "nbformat": 4,
 "nbformat_minor": 0
}
