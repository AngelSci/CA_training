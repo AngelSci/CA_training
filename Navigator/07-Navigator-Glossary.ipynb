{
 "cells": [
  {
   "cell_type": "markdown",
   "metadata": {},
   "source": [
    "![toolbar](img/anaconda-logo.png)"
   ]
  },
  {
   "cell_type": "markdown",
   "metadata": {},
   "source": [
    "# Anaconda Navigator Glossary"
   ]
  },
  {
   "cell_type": "markdown",
   "metadata": {},
   "source": [
    "## Table of Contents\n",
    "* [Navigator Glossary](#Navigator-Glossary)\n",
    "\t* [Anaconda](#Anaconda)\n",
    "\t* [Anaconda Cloud](#Anaconda-Cloud)\n",
    "\t* [Anaconda Navigator](#Anaconda-Navigator)\n",
    "\t* [Anaconda Pro, Enterprise and Workgroup](#Anaconda-Pro,-Enterprise-and-Workgroup)\n",
    "\t* [Channels](#Channels)\n",
    "\t* [Command Line Interface (CLI)](#Command-Line-Interface-%28CLI%29)\n",
    "\t* [Conda](#Conda)\n",
    "\t* [Conda configuration file `.condarc`](#Conda-configuration-file-.condarc)\n",
    "\t* [Conda environment](#Conda-environment)\n",
    "\t* [Conda package](#Conda-package)\n",
    "\t* [Conda repository](#Conda-repository)\n",
    "\t* [Graphical User Interface (GUI)](#Graphical-User-Interface-%28GUI%29)\n",
    "\t* [Miniconda](#Miniconda)\n",
    "\t* [Repository](#Repository)\n"
   ]
  },
  {
   "cell_type": "markdown",
   "metadata": {},
   "source": [
    "## Anaconda"
   ]
  },
  {
   "cell_type": "markdown",
   "metadata": {},
   "source": [
    "A downloadable free, open source, high performance, optimized Python and\n",
    "R distribution with 100+ packages plus access to easily installing an\n",
    "additional 620+ popular open source packages for data science including\n",
    "advanced and scientific analytics. \n",
    "\n",
    "It also includes conda, an open source package, dependency and environment manager. Thousands more open source packages can be installed with the **conda** command. Available for Windows, OS X and Linux, all versions are supported by the community."
   ]
  },
  {
   "cell_type": "markdown",
   "metadata": {},
   "source": [
    "## Anaconda Cloud"
   ]
  },
  {
   "cell_type": "markdown",
   "metadata": {},
   "source": [
    "A web-based repository hosting service in the cloud. Packages created\n",
    "locally can be published to the cloud to be shared with others. Free\n",
    "accounts on Anaconda Cloud can publish packages to be shared publicly.\n",
    "Paid subscriptions to Anaconda Cloud can designate packages as private\n",
    "to be shared with authorized users."
   ]
  },
  {
   "cell_type": "markdown",
   "metadata": {},
   "source": [
    "## Anaconda Navigator"
   ]
  },
  {
   "cell_type": "markdown",
   "metadata": {},
   "source": [
    "A desktop graphical user interface (GUI) included in all versions of\n",
    "Anaconda that allows you to easily manage conda packages, environments,\n",
    "channels and notebooks without the need to use the command line\n",
    "interface (CLI)."
   ]
  },
  {
   "cell_type": "markdown",
   "metadata": {},
   "source": [
    "## Anaconda Pro, Enterprise and Workgroup"
   ]
  },
  {
   "cell_type": "markdown",
   "metadata": {},
   "source": [
    "Anaconda that includes enterprise technical support for a specific\n",
    "number of users, and indemnification for a select number of open source\n",
    "packages. \n",
    "\n",
    "Anaconda Enterprise and Workgroup include collaborative notebooks, high performance scalability, Hadoop, interactive visualization, governance and security. See the [product comparison](https://www.continuum.io/anaconda-subscriptions)."
   ]
  },
  {
   "cell_type": "markdown",
   "metadata": {},
   "source": [
    "## Channels"
   ]
  },
  {
   "cell_type": "markdown",
   "metadata": {},
   "source": [
    "The locations of the repositories where conda looks for packages. Channels may point to an Anaconda Cloud repository, a private location on a remote or local repository that you or your organization created. \n",
    "\n",
    "The conda [channel](http://conda.pydata.org/docs/custom-channels.html) command has a default set of channels to search beginning with <https://repo.continuum.io/pkgs/> which users may override, for example, to maintain a private or internal channel. These default channels are referred to in conda commands and in the `.condarc` file by the channel name 'defaults'."
   ]
  },
  {
   "cell_type": "markdown",
   "metadata": {},
   "source": [
    "## Command Line Interface (CLI)"
   ]
  },
  {
   "cell_type": "markdown",
   "metadata": {},
   "source": [
    "A program in which commands are entered as text, one line at a time, for a computer to execute. Sometimes referred to as a terminal program. Contrast with Graphical User Interface (GUI)."
   ]
  },
  {
   "cell_type": "markdown",
   "metadata": {},
   "source": [
    "## Conda"
   ]
  },
  {
   "cell_type": "markdown",
   "metadata": {},
   "source": [
    "A package and environment manager program bundled with Anaconda that installs and updates conda packages and their dependencies. Also lets you easily switch between conda environments on your local computer."
   ]
  },
  {
   "cell_type": "markdown",
   "metadata": {},
   "source": [
    "## Conda configuration file `.condarc`"
   ]
  },
  {
   "cell_type": "markdown",
   "metadata": {},
   "source": [
    "A conda configuration file or `.condarc` file is an ***optional*** runtime\n",
    "configuration file which allows advanced users to configure various\n",
    "aspects of conda, such as which channels it searches for packages, proxy\n",
    "settings, environment directories, etc."
   ]
  },
  {
   "cell_type": "markdown",
   "metadata": {},
   "source": [
    "## Conda environment"
   ]
  },
  {
   "cell_type": "markdown",
   "metadata": {},
   "source": [
    "A folder or directory that contains a specific collection of conda packages and their dependencies, so they can be maintained and run separately without interference from each other. \n",
    "\n",
    "For example, you may use one conda environment for only Python 2 and Python 2 packages, and maintain another conda environment with only Python 3 and Python 3 packages. \n",
    "\n",
    "Environments can be specified via the command line or via an environment specification file with the name `your-environment-name.yml`."
   ]
  },
  {
   "cell_type": "markdown",
   "metadata": {},
   "source": [
    "## Conda package"
   ]
  },
  {
   "cell_type": "markdown",
   "metadata": {},
   "source": [
    "A compressed file that contains everything that a software program needs in order to be installed and run (including system-level libraries, Python modules, executable programs, and/or other components) so you do not have to manually find and install each dependency separately. Managed with conda."
   ]
  },
  {
   "cell_type": "markdown",
   "metadata": {},
   "source": [
    "## Conda repository"
   ]
  },
  {
   "cell_type": "markdown",
   "metadata": {},
   "source": [
    "A cloud-based repository that contains 720+ open source certified packages that are easily installed locally via the `conda install` command. Can be accessed by anyone using conda commands, or viewed directly at <https://repo.continuum.io/pkgs/>"
   ]
  },
  {
   "cell_type": "markdown",
   "metadata": {},
   "source": [
    "## Graphical User Interface (GUI)"
   ]
  },
  {
   "cell_type": "markdown",
   "metadata": {},
   "source": [
    "A program with graphic images, icons and menus in which commands are\n",
    "entered by clicking with a mouse and/or entering text in form boxes. It\n",
    "is a pretty and easy to use overlay to the same program that is run\n",
    "using a command line interface or CLI. Examples are\n",
    "Anaconda Navigator and Anaconda Mosaic."
   ]
  },
  {
   "cell_type": "markdown",
   "metadata": {},
   "source": [
    "## Miniconda"
   ]
  },
  {
   "cell_type": "markdown",
   "metadata": {},
   "source": [
    "A minimal installer for conda. Like Anaconda, Miniconda is a free software package that includes the Anaconda distribution and the conda ; package and environment manager, but Miniconda does not include any packages other than those dependencies needed to install it. \n",
    "\n",
    "After Miniconda is installed, additional conda packages may be installed directly from the command line with `conda install`. See also Anaconda and\n",
    "conda."
   ]
  },
  {
   "cell_type": "markdown",
   "metadata": {},
   "source": [
    "## Repository"
   ]
  },
  {
   "cell_type": "markdown",
   "metadata": {},
   "source": [
    "Any storage location from which software software assets may be\n",
    "retrieved and installed on a local computer. See also\n",
    "Anaconda Repository and conda repository."
   ]
  }
 ],
 "metadata": {
  "anaconda-cloud": {},
  "kernelspec": {
   "display_name": "Python [conda root]",
   "language": "python",
   "name": "conda-root-py"
  },
  "language_info": {
   "codemirror_mode": {
    "name": "ipython",
    "version": 3
   },
   "file_extension": ".py",
   "mimetype": "text/x-python",
   "name": "python",
   "nbconvert_exporter": "python",
   "pygments_lexer": "ipython3",
   "version": "3.5.2"
  }
 },
 "nbformat": 4,
 "nbformat_minor": 0
}
