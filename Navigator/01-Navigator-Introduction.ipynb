{
 "cells": [
  {
   "cell_type": "markdown",
   "metadata": {},
   "source": [
    "![toolbar](img/anaconda-logo.png)"
   ]
  },
  {
   "cell_type": "markdown",
   "metadata": {},
   "source": [
    "# Anaconda Navigator: Introduction"
   ]
  },
  {
   "cell_type": "markdown",
   "metadata": {},
   "source": [
    "## Table of Contents\n",
    "* [Anaconda Navigator: Introduction](#Anaconda-Navigator:-Introduction)\n",
    "\t* [What is Navigator?](#What-is-Navigator?)\n",
    "\t* [System Requirements](#System-Requirements)\n",
    "\t* [How to get Anaconda Navigator](#How-to-get-Anaconda-Navigator)\n",
    "* [Using Anaconda Navigator](#Using-Anaconda-Navigator)\n",
    "\t* [Starting Navigator](#Starting-Navigator)\n",
    "\t* [Updating Navigator](#Updating-Navigator)\n",
    "\t* [Navigator Interface](#Navigator-Interface)\n",
    "\t* [Home](#Home)\n",
    "\t* [Environments](#Environments)\n",
    "\t* [Learning](#Learning)\n",
    "\t* [Community](#Community)\n",
    "\t* [Anaconda Navigator Menu](#Anaconda-Navigator-Menu)\n",
    "\t* [Sign in to Anaconda Cloud](#Sign-in-to-Anaconda-Cloud)\n",
    "* [Next Steps](#Next-Steps)\n",
    "\t* [Navigator Workflow](#Navigator-Workflow)\n",
    "\t* [Navigator Exercises](#Navigator-Exercises)\n",
    "\t* [Navigator with Pandas](#Navigator-with-Pandas)\n",
    "\t* [Navigator Glossary](#Navigator-Glossary)\n"
   ]
  },
  {
   "cell_type": "markdown",
   "metadata": {},
   "source": [
    "## What is Navigator?"
   ]
  },
  {
   "cell_type": "markdown",
   "metadata": {},
   "source": [
    "**Anaconda Navigator** is a desktop graphical user interface included in Anaconda that allows you to easily manage **conda packages, environments and channels** without the need to use the command line."
   ]
  },
  {
   "cell_type": "markdown",
   "metadata": {},
   "source": [
    "A **conda package** is a compressed file that contains system-level\n",
    "libraries, Python or other modules, executable programs, or other\n",
    "components. Examples of conda packages pre-installed in Navigator\n",
    "include Jupyter Notebook, QTConsole, and Spyder. Hundreds more can be\n",
    "installed following the instructions below."
   ]
  },
  {
   "cell_type": "markdown",
   "metadata": {},
   "source": [
    "A **conda environment** is a directory that contains a specific\n",
    "collection of conda packages that you have installed. For example, you\n",
    "may have one environment with NumPy 1.11 and its dependencies, and\n",
    "another environment with NumPy 1.10 for testing. If you change one\n",
    "environment, your other environments are not affected."
   ]
  },
  {
   "cell_type": "markdown",
   "metadata": {},
   "source": [
    "A **conda channel** is a URL to directories containing conda\n",
    "packages. The same package with the same version number from two separate channels need not be the same: custom binaries may have been compiled in a unique way that differs from how a conda package of the same name was built in another. Be mindful of which channel you are installing from!"
   ]
  },
  {
   "cell_type": "markdown",
   "metadata": {},
   "source": [
    "## What problem does Navigator solve?"
   ]
  },
  {
   "cell_type": "markdown",
   "metadata": {},
   "source": [
    "* Many scientific packages require specific versions of programs in order\n",
    "to run. \n",
    "* These other programs are called *dependencies*. \n",
    "* The Conda Package Management System, and now Anaconda Navigator, allow you to create isolated *environments* so the programs will not interfere with other programs you have created, and you can install the exact programs needed."
   ]
  },
  {
   "cell_type": "markdown",
   "metadata": {},
   "source": [
    "## Why use Navigator?"
   ]
  },
  {
   "cell_type": "markdown",
   "metadata": {},
   "source": [
    "* For those who may prefer Graphical User Interface (GUI) over a Command Line Interface (CLI), Anaconda Navigator serves as an alternative to conda. \n",
    "* Anaconda Navigator is an easy, point-and-click way to use packages and\n",
    "environments so you don't have to use Conda commands in a terminal\n",
    "window. \n",
    "* You can use it to find the packages you want, install them in an\n",
    "environment, and run the packages and update them, all inside Navigator."
   ]
  },
  {
   "cell_type": "markdown",
   "metadata": {},
   "source": [
    "## System Requirements"
   ]
  },
  {
   "cell_type": "markdown",
   "metadata": {},
   "source": [
    "-   Navigator supports the same platforms that the Anaconda Distribution\n",
    "    supports, including Windows XP and newer 32 or 64-bit, Ubuntu or\n",
    "    Kubuntu 14.04 32-or 64-bit, or OS X 64-bit\n",
    "-   Python 2.7, 3.4 or 3.5"
   ]
  },
  {
   "cell_type": "markdown",
   "metadata": {},
   "source": [
    "```bash\n",
    "# Check your Python version:\n",
    "import sys\n",
    "sys.version\n",
    "```"
   ]
  },
  {
   "cell_type": "markdown",
   "metadata": {},
   "source": [
    "## How to get Anaconda Navigator"
   ]
  },
  {
   "cell_type": "markdown",
   "metadata": {},
   "source": [
    "Anaconda Navigator is automatically installed when users download and\n",
    "install Anaconda."
   ]
  },
  {
   "cell_type": "markdown",
   "metadata": {},
   "source": [
    "If you already have Anaconda or Miniconda running on your system, you\n",
    "can install Anaconda Navigator with the following command:"
   ]
  },
  {
   "cell_type": "markdown",
   "metadata": {},
   "source": [
    "```bash\n",
    "# Installing Navigator\n",
    "conda install anaconda-navigator\n",
    "```"
   ]
  },
  {
   "cell_type": "markdown",
   "metadata": {},
   "source": [
    "# Using Anaconda Navigator"
   ]
  },
  {
   "cell_type": "markdown",
   "metadata": {},
   "source": [
    "## Starting Navigator"
   ]
  },
  {
   "cell_type": "markdown",
   "metadata": {},
   "source": [
    "When you install Anaconda, an **icon to launch Anaconda Navigator** is automatically added to your programs menu and/or your Desktop."
   ]
  },
  {
   "cell_type": "markdown",
   "metadata": {},
   "source": [
    "It is also possible to launch it from a **terminal or command prompt** with\n",
    "the following command:"
   ]
  },
  {
   "cell_type": "markdown",
   "metadata": {},
   "source": [
    "```bash\n",
    "# Launching Navigator\n",
    "anaconda-navigator\n",
    "```"
   ]
  },
  {
   "cell_type": "markdown",
   "metadata": {},
   "source": [
    "## Updating Navigator"
   ]
  },
  {
   "cell_type": "markdown",
   "metadata": {},
   "source": [
    "Every time Anaconda Navigator starts it checks if a new version is\n",
    "available. If it finds a new one a dialog box will pop up where you can\n",
    "chose to update or keep your current version."
   ]
  },
  {
   "cell_type": "markdown",
   "metadata": {},
   "source": [
    "## Navigator Interface"
   ]
  },
  {
   "cell_type": "markdown",
   "metadata": {},
   "source": [
    "When you first start Navigator, you will see the **Home**, but there are other components. Each one can be selected by clicking the corresponding tab on the left-hand column:"
   ]
  },
  {
   "cell_type": "markdown",
   "metadata": {},
   "source": [
    "-   **Home** where you can install, upgrade, and launch applications.\n",
    "-   **Environments** allows you to manage channels, environments\n",
    "    and packages.\n",
    "-   **Learning** shows a long list of learning resources in several\n",
    "    categories: webinars, documentation, videos and training.\n",
    "-   **Community** where you can connect to other users through events,\n",
    "    forums and social media"
   ]
  },
  {
   "cell_type": "markdown",
   "metadata": {},
   "source": [
    "## Home"
   ]
  },
  {
   "cell_type": "markdown",
   "metadata": {},
   "source": [
    "The **Home** page displays a grid of applications that are available to\n",
    "manage with Navigator. Each has a gear icon in the top right corner to\n",
    "**Update**, **Remove**, or **Install a specific version** of that\n",
    "application."
   ]
  },
  {
   "cell_type": "markdown",
   "metadata": {},
   "source": [
    "The first time you open Navigator, three popular Python apps are already\n",
    "installed: [Jupyter\n",
    "notebook](https://jupyter.readthedocs.org/en/latest/),\n",
    "[qtconsole](https://ipython.org/ipython-doc/3/interactive/qtconsole.html),\n",
    "and [Sypder](https://pythonhosted.org/spyder/)."
   ]
  },
  {
   "cell_type": "markdown",
   "metadata": {},
   "source": [
    "![image](img/navigator-home.png)"
   ]
  },
  {
   "cell_type": "markdown",
   "metadata": {},
   "source": [
    "**NOTE:** Applications installed and launched from the Home tab are\n",
    "installed into the environment named \"root\"."
   ]
  },
  {
   "cell_type": "markdown",
   "metadata": {},
   "source": [
    "With conda you can create, export, list, remove, and update environments\n",
    "that have different versions of Python and/or packages installed in\n",
    "them. Switching or moving between environments is called **activating**\n",
    "the environment."
   ]
  },
  {
   "cell_type": "markdown",
   "metadata": {},
   "source": [
    "## Environments"
   ]
  },
  {
   "cell_type": "markdown",
   "metadata": {},
   "source": [
    "The **Environments** tab allows you to manage installed environments,\n",
    "packages and channels. The left column lists the environments. The right\n",
    "column lists packages for the current environment; depending on the\n",
    "selected option it can show \n",
    "\n",
    "* *Installed* packages.\n",
    "* *Not Installed* packages.\n",
    "* *Upgradable* packages.\n",
    "* *Downgradable* packages.\n",
    "* *All* packages."
   ]
  },
  {
   "cell_type": "markdown",
   "metadata": {},
   "source": [
    "![image](img/navigator-environments.png)"
   ]
  },
  {
   "cell_type": "markdown",
   "metadata": {},
   "source": [
    "-   **Activate** or start up an environment. First you have to select it\n",
    "    by clicking its name from the left column list of environments then\n",
    "    click its \"Start\" icon. From the drop-down box that appears, choose\n",
    "    whether to Open the environment in a Terminal window, Open in a\n",
    "    Python interpreter, Open with a Jupyter Console or Open with a\n",
    "    Jupyter Notebook; this will activate the environment and run the\n",
    "    selected option.\n",
    "-   **Search** environments on your computer by typing its name in the\n",
    "    *Search Environments* box. Incremental search will show those whose\n",
    "    name partially matches the current text in the search box.\n",
    "-   **Create** a new environment by clicking the *Create* button, then\n",
    "    give it a descriptive name, optionally select a version of Python,\n",
    "    and click the *Ok* button.\n",
    "-   **Clone** a copy of an existing environment by selecting its name,\n",
    "    giving the new environment a descriptive name, then clicking the\n",
    "    *Clone* button.\n",
    "-   **Remove** an environment by selecting it, then clicking the\n",
    "    *Remove* button.\n",
    "-   **Manage Packages** using the filtering options. *Installed* and\n",
    "    *Search Packages* filter the list so only those packages already\n",
    "    installed which match the text in the search box will show up. A\n",
    "    different set of packages will appear depending on the option\n",
    "    selected from the drop-down box: *Not Installed*, *Upgradable*,\n",
    "    *Downgradable* or *All*. A partial incremental search is performed\n",
    "    on the package names and the package descriptions. The tick box to\n",
    "    the left of each package can be used to mark it for installation,\n",
    "    removal, or reinstallation to another specific version. After\n",
    "    marking the packages to be modified click *Apply* to make the\n",
    "    changes or *Clear* to reset all marks.\n",
    "-   **Channels** See a list of channels. From the dialog you can *Add*\n",
    "    or *Remove* and *Update channels*. **NOTE:** The changes here affect\n",
    "    the whole conda installation and not just the selected environment.\n",
    "-   **Update package index...** updates the list of all packages which\n",
    "    are available in any of the enabled channels. Each of these packages\n",
    "    may be installed into any environment."
   ]
  },
  {
   "cell_type": "markdown",
   "metadata": {},
   "source": [
    "To learn more about advanced package, environment and channel management\n",
    "from a terminal see their corresponding documentation:\n",
    "[packages](http://conda.pydata.org/docs/using/pkgs.html),\n",
    "[environments](http://conda.pydata.org/docs/using/envs.html)."
   ]
  },
  {
   "cell_type": "markdown",
   "metadata": {},
   "source": [
    "***TIP:*** If there are misaligned elements or if after installing a new\n",
    "application or package it doesn't appear select the Home tab and click\n",
    "the ***Refresh*** button on the top right to reload the interface."
   ]
  },
  {
   "cell_type": "markdown",
   "metadata": {},
   "source": [
    "## Learning"
   ]
  },
  {
   "cell_type": "markdown",
   "metadata": {},
   "source": [
    "Learn more about Anaconda Navigator, the Anaconda platform, and open\n",
    "data science. Select *Webinars*, *Documentation*, *Video*, and/or\n",
    "*Training*, then click any item to have it open in a browser window."
   ]
  },
  {
   "cell_type": "markdown",
   "metadata": {},
   "source": [
    "![image](img/navigator-learning.png)"
   ]
  },
  {
   "cell_type": "markdown",
   "metadata": {},
   "source": [
    "## Community"
   ]
  },
  {
   "cell_type": "markdown",
   "metadata": {},
   "source": [
    "Learn more about the events, forums and social networking relating to\n",
    "Anaconda Navigator. Select *Events*, *Forum* and/or *Social*, then click\n",
    "any item to have it open in a browser window."
   ]
  },
  {
   "cell_type": "markdown",
   "metadata": {},
   "source": [
    "***TIP:*** Join the Anaconda forum to get help from the community in\n",
    "learning Anaconda and Anaconda Navigator."
   ]
  },
  {
   "cell_type": "markdown",
   "metadata": {},
   "source": [
    "![image](img/navigator-learning.png)"
   ]
  },
  {
   "cell_type": "markdown",
   "metadata": {},
   "source": [
    "For free community support, please considering joinning the [Anaconda Mailing List](https://groups.google.com/a/continuum.io/forum/?fromgroups#!forum/anaconda)."
   ]
  },
  {
   "cell_type": "markdown",
   "metadata": {},
   "source": [
    "Please report bugs on the [Anaconda GitHub issue\n",
    "tracker](https://github.com/ContinuumIO/anaconda-issues/issues)."
   ]
  },
  {
   "cell_type": "markdown",
   "metadata": {},
   "source": [
    "## Anaconda Navigator Menu"
   ]
  },
  {
   "cell_type": "markdown",
   "metadata": {},
   "source": [
    "Additional controls are available through your system menu bar for the application.\n",
    "\n",
    "-   Depending on your system (Windows, OS X, Linux) and version of Anaconda, the additional controls may appear under a Menubar labeled either **File** or **Navigator**.\n",
    "-   **File -&gt; Preferences** (or e.g. **Navigator -&gt; Preferences** on OS X) allows you to reset the Anaconda API\n",
    "    domain and conda domain, allows you to select or deselect whether to\n",
    "    provide personally non-identifiable information to help improve the\n",
    "    product, and to select or deselect whether to show\n",
    "    application environments. These preferences may all be reset back to\n",
    "    defaults by clicking the *Reset to defaults* button.\n",
    "-   **File -&gt; Quit** to exit Navigator. A confirmation dialog box\n",
    "    will appear, there you can tick the *Don't show again* box to exit\n",
    "    without confirmation the next time.\n",
    "-   **Help -&gt; Online Documentation** Links to this documentation,\n",
    "    which can be accessed from any web browser. Help -&gt; About\n",
    "    Displays information about Anaconda Navigator, including a link for\n",
    "    bug reports and feature requests. Help -&gt; Logs Viewer allows you\n",
    "    to review the logs of everything you have done in Anaconda Navigator\n",
    "    since you started this session. There are two or more files that can\n",
    "    be selected from the drop-down list: *navigator.log* that refers to\n",
    "    the actual application logs and *condamanager.log* which refers to\n",
    "    logs on the specific conda-manager component. As the application is\n",
    "    used more log files are created with a number appended to the name.\n",
    "    More recent log files have a higher number.\n",
    "-   **Services** (OS X Only) Links to your computer’s system\n",
    "    preferences menu.\n",
    "-   **Hide Python** (OS X Only) Hides your Anaconda Navigator window.\n",
    "-   **Hide Others** (OS X Only) Hides all windows except your Anaconda\n",
    "    Navigator window.\n",
    "-   **Show All** (OS X Only) Brings back all windows including your\n",
    "    Anaconda Navigator window"
   ]
  },
  {
   "cell_type": "markdown",
   "metadata": {},
   "source": [
    "## Sign in to Anaconda Cloud"
   ]
  },
  {
   "cell_type": "markdown",
   "metadata": {},
   "source": [
    "For your convenience in locating packages and channels available only on Anaconda Cloud, sign in for seamless transition between your computer and Anaconda Cloud. "
   ]
  },
  {
   "cell_type": "markdown",
   "metadata": {},
   "source": [
    "![image](img/navigator-signin.png)"
   ]
  },
  {
   "cell_type": "markdown",
   "metadata": {},
   "source": [
    "If you are already logged into Anaconda Cloud this appears as, “signed in as \\[username\\]”."
   ]
  },
  {
   "cell_type": "markdown",
   "metadata": {},
   "source": [
    "# Next Steps"
   ]
  },
  {
   "cell_type": "markdown",
   "metadata": {},
   "source": [
    "The follow content is found in additional files within this lesson."
   ]
  },
  {
   "cell_type": "markdown",
   "metadata": {},
   "source": [
    "## Navigator Workflow"
   ]
  },
  {
   "cell_type": "markdown",
   "metadata": {},
   "source": [
    "Learn the general steps of a Navigator workflow for creating environments, installing packages, and using them."
   ]
  },
  {
   "cell_type": "markdown",
   "metadata": {},
   "source": [
    "## Navigator Exercises"
   ]
  },
  {
   "cell_type": "markdown",
   "metadata": {},
   "source": [
    "These are specific examples that demonstrate how Navigator can be used in a variety of analysis work flows."
   ]
  },
  {
   "cell_type": "markdown",
   "metadata": {},
   "source": [
    "## Navigator with Pandas"
   ]
  },
  {
   "cell_type": "markdown",
   "metadata": {},
   "source": [
    "This is a specific demonstration of using Anaconda Navigator with the Pandas module for data analysis."
   ]
  },
  {
   "cell_type": "markdown",
   "metadata": {},
   "source": [
    "## Navigator Glossary"
   ]
  },
  {
   "cell_type": "markdown",
   "metadata": {},
   "source": [
    "This glossary provides definitions and descriptions for all the terms used throughout this lesson."
   ]
  },
  {
   "cell_type": "markdown",
   "metadata": {},
   "source": [
    "---"
   ]
  },
  {
   "cell_type": "markdown",
   "metadata": {},
   "source": [
    "***Anaconda Navigator is copyright 2016 Continuum Analytics, Inc. May be\n",
    "copied and distributed freely only as part of an Anaconda or Miniconda\n",
    "installation.***"
   ]
  }
 ],
 "metadata": {
  "anaconda-cloud": {},
  "kernelspec": {
   "display_name": "Python [conda root]",
   "language": "python",
   "name": "conda-root-py"
  },
  "language_info": {
   "codemirror_mode": {
    "name": "ipython",
    "version": 3
   },
   "file_extension": ".py",
   "mimetype": "text/x-python",
   "name": "python",
   "nbconvert_exporter": "python",
   "pygments_lexer": "ipython3",
   "version": "3.5.2"
  }
 },
 "nbformat": 4,
 "nbformat_minor": 0
}
