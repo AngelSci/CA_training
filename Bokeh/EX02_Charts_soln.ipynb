{
 "cells": [
  {
   "cell_type": "markdown",
   "metadata": {},
   "source": [
    "# Table of Contents\n",
    "* [Learning Objectives:](#Learning-Objectives:)\n",
    "* [Charts Exercises](#Charts-Exercises)\n",
    "\t* [Box Plots](#Box-Plots)\n"
   ]
  },
  {
   "cell_type": "markdown",
   "metadata": {},
   "source": [
    "# Learning Objectives:"
   ]
  },
  {
   "cell_type": "markdown",
   "metadata": {},
   "source": [
    "After completion of this module, learners should be able to:\n",
    "\n",
    "* manipulate Pandas DataFrames to plot a stacked bar Chart\n",
    "* manipulate TimeSeries data to plot with other Charts"
   ]
  },
  {
   "cell_type": "code",
   "execution_count": null,
   "metadata": {
    "collapsed": false
   },
   "outputs": [],
   "source": [
    "from bokeh.io import output_notebook, show\n",
    "output_notebook()"
   ]
  },
  {
   "cell_type": "markdown",
   "metadata": {},
   "source": [
    "# Charts Exercises"
   ]
  },
  {
   "cell_type": "markdown",
   "metadata": {},
   "source": [
    "## Box Plots"
   ]
  },
  {
   "cell_type": "markdown",
   "metadata": {},
   "source": [
    "The file `data/Top5000Population.csv` lists the populations of each of the top 5000 most populated cities in the US. Each state has at least one city in this file. For the states Maine, South Dakota and Rhode Island make a box plot of the statistical distribution of the population for these three states."
   ]
  },
  {
   "cell_type": "code",
   "execution_count": null,
   "metadata": {
    "collapsed": false,
    "scrolled": true
   },
   "outputs": [],
   "source": [
    "import pandas as pd\n",
    "cities = pd.read_csv('data/Top5000Population.csv', thousands=',', encoding='iso-8859-1')"
   ]
  },
  {
   "cell_type": "code",
   "execution_count": null,
   "metadata": {
    "collapsed": false
   },
   "outputs": [],
   "source": [
    "states = cities['state'].isin(['SD','ME','RI'])\n",
    "\n",
    "from bokeh.charts import BoxPlot\n",
    "plot = BoxPlot(cities.loc[states], 'state', 'population', color='state')\n",
    "show(plot)"
   ]
  }
 ],
 "metadata": {
  "continuum": {
   "depends": [
    "bo_charts"
   ],
   "requires": [
    "data/bokeh/*",
    "data/__init__.py",
    "data/Top5000Population.csv"
   ],
   "tag": "bo_ex_charts_soln"
  },
  "kernelspec": {
   "display_name": "Python 3",
   "language": "python",
   "name": "python3"
  },
  "language_info": {
   "codemirror_mode": {
    "name": "ipython",
    "version": 3
   },
   "file_extension": ".py",
   "mimetype": "text/x-python",
   "name": "python",
   "nbconvert_exporter": "python",
   "pygments_lexer": "ipython3",
   "version": "3.4.4"
  }
 },
 "nbformat": 4,
 "nbformat_minor": 0
}
