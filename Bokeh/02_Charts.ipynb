{
 "cells": [
  {
   "cell_type": "markdown",
   "metadata": {},
   "source": [
    "# Table of Contents\n",
    "* [Learning Objectives:](#Learning-Objectives:)\n",
    "* [Bokeh Charts](#Bokeh-Charts)\n",
    "\t* [Scatter](#Scatter)\n",
    "\t* [BoxPlot](#BoxPlot)\n",
    "\t* [Bar](#Bar)\n",
    "\t* [Histogram](#Histogram)\n",
    "\t* [Legacy Charts](#Legacy-Charts)\n"
   ]
  },
  {
   "cell_type": "markdown",
   "metadata": {},
   "source": [
    "# Learning Objectives:"
   ]
  },
  {
   "cell_type": "markdown",
   "metadata": {},
   "source": [
    "After completion of this module, learners should be able to:\n",
    "\n",
    "* generate statistical plots using the high-level Charts interface\n",
    "* explain the mapping between Pandas DataFrames and Chart options\n",
    "* plot TimeSeries data"
   ]
  },
  {
   "cell_type": "code",
   "execution_count": null,
   "metadata": {
    "collapsed": false
   },
   "outputs": [],
   "source": [
    "from bokeh.io import output_notebook, show\n",
    "output_notebook()"
   ]
  },
  {
   "cell_type": "markdown",
   "metadata": {},
   "source": [
    "# Bokeh Charts"
   ]
  },
  {
   "cell_type": "markdown",
   "metadata": {},
   "source": [
    "Charts provide a high-level interface to basic statistical plotting. Charts can simplify the generation of figures and provide more powerful data manipulation automatically through the use of Pandas DataFrames.\n",
    "\n",
    "There are serveral Charts available with Bokeh version 0.11. Here, we'll cover\n",
    "* `Scatter`\n",
    "* `Bar`\n",
    "* `Histogram`\n",
    "* `Box`\n",
    "* `Timeseries`\n",
    "\n",
    "See the [reference documentation](http://bokeh.pydata.org/en/latest/docs/reference/charts.html) for the complete list of Charts available in version 0.11."
   ]
  },
  {
   "cell_type": "markdown",
   "metadata": {},
   "source": [
    "## Scatter"
   ]
  },
  {
   "cell_type": "markdown",
   "metadata": {},
   "source": [
    "In this example we are going to import flower morphology data and search for correlations. The `flowers` data set is a Pandas DataFrame. To plot as many dimensions as possible we are going to let Bokeh assign the color of the glyph based on the species."
   ]
  },
  {
   "cell_type": "code",
   "execution_count": null,
   "metadata": {
    "collapsed": false,
    "scrolled": true
   },
   "outputs": [],
   "source": [
    "from data.bokeh.iris import flowers\n",
    "flowers.head()"
   ]
  },
  {
   "cell_type": "code",
   "execution_count": null,
   "metadata": {
    "collapsed": false
   },
   "outputs": [],
   "source": [
    "from bokeh.charts import Scatter\n",
    "\n",
    "plot = Scatter(flowers, x='petal_length', y='petal_width',\n",
    "               color='species',\n",
    "               legend='top_left', title='Flower Morphology')\n",
    "show(plot)"
   ]
  },
  {
   "cell_type": "markdown",
   "metadata": {},
   "source": [
    "The glyph in a Scatter chart can be changed with the `marker` keyword. The full list of available markers for Scatter plots is available through the `bokeh.models.markers` module."
   ]
  },
  {
   "cell_type": "code",
   "execution_count": null,
   "metadata": {
    "collapsed": false
   },
   "outputs": [],
   "source": [
    "plot = Scatter(flowers, x='petal_length', y='petal_width', \n",
    "               color='species', marker='triangle',\n",
    "               legend='top_left', title='Flower Morphology')\n",
    "show(plot)"
   ]
  },
  {
   "cell_type": "markdown",
   "metadata": {},
   "source": [
    "Because everything in Bokeh is an object changes to the style can be made by first selecting the object you want through the special `select` member function and passing the class name of the objects you want to select. `select` returns a list.\n",
    "\n",
    "In this example the Scatter chart method did the work of adding three separate Triangle glyphs to the low-level `Plot` object.\n",
    "\n",
    "* WARNING: In this example there is no easy way to distinguish between the three triangle objects. If more control is required it is best to use the Plotting or Model interfaces."
   ]
  },
  {
   "cell_type": "code",
   "execution_count": null,
   "metadata": {
    "collapsed": false
   },
   "outputs": [],
   "source": [
    "from bokeh.models.markers import Triangle\n",
    "m_select = plot.select(Triangle)\n",
    "m_select"
   ]
  },
  {
   "cell_type": "code",
   "execution_count": null,
   "metadata": {
    "collapsed": false
   },
   "outputs": [],
   "source": [
    "t1=m_select[0]\n",
    "t1.size = 30\n",
    "t1.line_color='black'\n",
    "show(plot)"
   ]
  },
  {
   "cell_type": "markdown",
   "metadata": {},
   "source": [
    "## BoxPlot"
   ]
  },
  {
   "cell_type": "markdown",
   "metadata": {},
   "source": [
    "Box plots are used to represent a statistical summary of data in 5 dimensions: minimum, first quartile, median, third quartile, and maximum. The red dots are the outliers. The `BoxPlot` chart does the work of determining the quantiles, mean and outliers.\n",
    "\n",
    "Nice example on the [autompg dataset](http://bokeh.pydata.org/en/latest/docs/gallery/boxplot_chart.html)"
   ]
  },
  {
   "cell_type": "code",
   "execution_count": null,
   "metadata": {
    "collapsed": false,
    "scrolled": false
   },
   "outputs": [],
   "source": [
    "from data.bokeh.iris import flowers\n",
    "\n",
    "from bokeh.charts import BoxPlot\n",
    "p = BoxPlot(\n",
    "    flowers, label='species', values='petal_width',\n",
    "    xlabel='', ylabel='petal width, mm', title='Distribution of petal widths',\n",
    "    color='aqua',\n",
    ")\n",
    "show(p)"
   ]
  },
  {
   "cell_type": "markdown",
   "metadata": {},
   "source": [
    "## Bar"
   ]
  },
  {
   "cell_type": "markdown",
   "metadata": {},
   "source": [
    "By using a Bar chart we can aggregate data across columns in a DataFrame. We will use the Miles-per-Gallon data set, which has data from several models of cars made from 1970 to 1982.\n",
    "\n",
    "`origin` refers to the region where the model was manufactured.\n",
    "\n",
    "* `1` is US\n",
    "* `2` is Europe\n",
    "* `3` is Asia\n",
    "\n",
    "In the call to Bar below `agg` is the aggregation algorightm. The possible algorightms are\n",
    "\n",
    "* `sum`  (default)\n",
    "* `mean`\n",
    "* `count`\n",
    "* `nunique`\n",
    "* `median`\n",
    "* `min`\n",
    "* `max`"
   ]
  },
  {
   "cell_type": "code",
   "execution_count": null,
   "metadata": {
    "collapsed": false
   },
   "outputs": [],
   "source": [
    "from data.bokeh.autompg import data as autompg\n",
    "originStr = {1:'US', 2:'Europe', 3:'Asia'}\n",
    "autompg['origin']=autompg['origin'].map(lambda x:originStr[x])\n",
    "autompg.head()"
   ]
  },
  {
   "cell_type": "code",
   "execution_count": null,
   "metadata": {
    "collapsed": false,
    "scrolled": false
   },
   "outputs": [],
   "source": [
    "from bokeh.charts import Bar\n",
    "p = Bar(\n",
    "    autompg, label='yr', values='mpg', agg='median', \n",
    "    group='origin', # Use the Pandas groupby method\n",
    "    title=\"Median MPG by YR, grouped by ORIGIN\", legend='top_left'\n",
    ")\n",
    "show(p)"
   ]
  },
  {
   "cell_type": "markdown",
   "metadata": {},
   "source": [
    "This graph is a little easier to read as a `stacked` Bar graph."
   ]
  },
  {
   "cell_type": "code",
   "execution_count": null,
   "metadata": {
    "collapsed": false,
    "scrolled": true
   },
   "outputs": [],
   "source": [
    "from bokeh.charts import Bar\n",
    "p = Bar(\n",
    "    autompg, label='yr', values='mpg', agg='mean', \n",
    "    stack='origin', # Use the stack feature\n",
    "    title=\"Mean MPG by YR, stacked by ORIGIN\", legend='top_left'\n",
    ")\n",
    "show(p)"
   ]
  },
  {
   "cell_type": "markdown",
   "metadata": {},
   "source": [
    "## Histogram"
   ]
  },
  {
   "cell_type": "markdown",
   "metadata": {},
   "source": [
    "In Histograms the `color` keyword provides group-by functionality for color. Data will be binned separately for each unique entry in the chosen `color` column.\n",
    "\n",
    "Nice example on the [autompg dataset](http://bokeh.pydata.org/en/latest/docs/gallery/histograms_chart.html)"
   ]
  },
  {
   "cell_type": "code",
   "execution_count": null,
   "metadata": {
    "collapsed": false
   },
   "outputs": [],
   "source": [
    "import pandas as pd\n",
    "import numpy as np\n",
    "\n",
    "# build some distributions\n",
    "mu, sigma = 0, 0.5\n",
    "normal = pd.DataFrame({'value': np.random.normal(mu, sigma, 1000), 'type': 'normal'})\n",
    "lognormal = pd.DataFrame({'value': np.random.lognormal(mu, sigma, 1000), 'type': 'lognormal'})\n",
    "\n",
    "# create a pandas data frame\n",
    "df = pd.concat([normal, lognormal])\n",
    "df[995:1005]"
   ]
  },
  {
   "cell_type": "code",
   "execution_count": null,
   "metadata": {
    "collapsed": false
   },
   "outputs": [],
   "source": [
    "from bokeh.charts import Histogram\n",
    "hist = Histogram(df, values='value', color='type', bins=50, legend=True)\n",
    "show(hist)"
   ]
  },
  {
   "cell_type": "code",
   "execution_count": null,
   "metadata": {
    "collapsed": false,
    "scrolled": false
   },
   "outputs": [],
   "source": [
    "from data.bokeh.autompg import data as autompg\n",
    "\n",
    "plot = Histogram(autompg, values='hp', color='cyl',\n",
    "              title=\"HP Distribution (color grouped by CYL)\",\n",
    "              legend='top_right')\n",
    "\n",
    "show(plot)"
   ]
  },
  {
   "cell_type": "markdown",
   "metadata": {},
   "source": [
    "## Time Series"
   ]
  },
  {
   "cell_type": "markdown",
   "metadata": {},
   "source": [
    "Time series plots require that a DataFrame be provided with at least one column of dtype `datetime64`.\n",
    "\n",
    "A TimeSeries plot will be generated from stock data from Apple, Microsoft and IBM with support for DateTime indexes."
   ]
  },
  {
   "cell_type": "code",
   "execution_count": null,
   "metadata": {
    "collapsed": false
   },
   "outputs": [],
   "source": [
    "from data.bokeh.stocks import aapl,msft,ibm\n",
    "from bokeh.charts import TimeSeries\n",
    "import pandas as pd\n",
    "\n",
    "\n",
    "stocks = pd.DataFrame( {'AAPL':aapl['Adj Close'],\n",
    "                          'MSFT':msft['Adj Close'],\n",
    "                          'IBM':ibm['Adj Close'],\n",
    "                          'Date':aapl['Date']})\n",
    "\n",
    "stocks.head()"
   ]
  },
  {
   "cell_type": "code",
   "execution_count": null,
   "metadata": {
    "collapsed": false,
    "scrolled": true
   },
   "outputs": [],
   "source": [
    "plot = TimeSeries(stocks,\n",
    "    x='Date', y=['AAPL','IBM','MSFT'],\n",
    "    legend=True,\n",
    "    title='Stocks', ylabel='Close Price')\n",
    "\n",
    "show(plot)"
   ]
  },
  {
   "cell_type": "code",
   "execution_count": null,
   "metadata": {
    "collapsed": true
   },
   "outputs": [],
   "source": []
  }
 ],
 "metadata": {
  "continuum": {
   "depends": [
    "bo_intro"
   ],
   "requires": [
    "data/bokeh/*",
    "data/__init__.py"
   ],
   "tag": "bo_charts"
  },
  "kernelspec": {
   "display_name": "Python 3",
   "language": "python",
   "name": "python3"
  },
  "language_info": {
   "codemirror_mode": {
    "name": "ipython",
    "version": 3
   },
   "file_extension": ".py",
   "mimetype": "text/x-python",
   "name": "python",
   "nbconvert_exporter": "python",
   "pygments_lexer": "ipython3",
   "version": "3.5.1"
  }
 },
 "nbformat": 4,
 "nbformat_minor": 0
}
