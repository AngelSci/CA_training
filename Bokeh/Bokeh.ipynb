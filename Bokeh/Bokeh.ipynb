{
 "cells": [
  {
   "cell_type": "markdown",
   "metadata": {},
   "source": [
    "<img src='../img/anaconda-logo.png' align='left' style=\"padding:10px\">\n",
    "<br>\n",
    "*Copyright Continuum 2012-2016 All Rights Reserved.*"
   ]
  },
  {
   "cell_type": "markdown",
   "metadata": {},
   "source": [
    "# Bokeh"
   ]
  },
  {
   "cell_type": "markdown",
   "metadata": {},
   "source": [
    "> Bokeh is a Python interactive visualization library that targets modern web browsers for presentation. Its goal is to provide elegant, concise construction of novel graphics in the style of D3.js, and to extend this capability with high-performance interactivity over very large or streaming datasets. Bokeh can help anyone who would like to quickly and easily create interactive plots, dashboards, and data applications."
   ]
  },
  {
   "cell_type": "markdown",
   "metadata": {},
   "source": [
    "<img src='notebooks/img/bokeh.png'>"
   ]
  },
  {
   "cell_type": "markdown",
   "metadata": {},
   "source": [
    "# Table of Contents\n",
    "* [Bokeh](#Bokeh)\n",
    "* [Conventions](#Conventions)\n",
    "\t* [Links](#Links)\n",
    "* [Overview](#Overview)\n",
    "\t* [Key Concepts](#Key-Concepts)\n",
    "\t\t* [BokehJS](#BokehJS)\n",
    "\t\t* [Embedding](#Embedding)\n",
    "\t\t* [Interfaces](#Interfaces)\n",
    "\t* [Sample Data](#Sample-Data)\n",
    "* [Statistical Charts](#Statistical-Charts)\n",
    "* [Plotting](#Plotting)\n",
    "* [Plot layouts](#Plot-layouts)\n",
    "* [Interactive Tools](#Interactive-Tools)\n",
    "* [Map overlays](#Map-overlays)\n",
    "* [Dashboards](#Dashboards)\n"
   ]
  },
  {
   "cell_type": "markdown",
   "metadata": {},
   "source": [
    "# Conventions"
   ]
  },
  {
   "cell_type": "markdown",
   "metadata": {},
   "source": [
    "The following conventions will be used throughout this lecture."
   ]
  },
  {
   "cell_type": "markdown",
   "metadata": {},
   "source": [
    "<img src='notebooks/img/topics/Essential-Concept.png' align='left' style='padding:10x'>\n",
    "<br>\n",
    "<big><big><b>Essential Concept</b></big></big>"
   ]
  },
  {
   "cell_type": "markdown",
   "metadata": {},
   "source": [
    "<img src='notebooks/img/topics/Best-Practice.png' align='left' style='padding:10x'>\n",
    "<br>\n",
    "<big><big><b>Best Practice</b></big></big>"
   ]
  },
  {
   "cell_type": "markdown",
   "metadata": {},
   "source": [
    "<img src='notebooks/img/topics/Advanced-Concept.png' align='left' style='padding:10x'>\n",
    "<br>\n",
    "<big><big><b>Advanced Concept</b></big></big>"
   ]
  },
  {
   "cell_type": "markdown",
   "metadata": {},
   "source": [
    "<img src='notebooks/img/topics/Exercise.png' align='left' style='padding:10x'>\n",
    "<br>\n",
    "<big><big><b>Exercise</b></big></big>"
   ]
  },
  {
   "cell_type": "markdown",
   "metadata": {},
   "source": [
    "## Links"
   ]
  },
  {
   "cell_type": "markdown",
   "metadata": {},
   "source": [
    "<div class='btn btn-primary btn-lg'><u>Launch Jupyter Notebook</u></div>"
   ]
  },
  {
   "cell_type": "markdown",
   "metadata": {},
   "source": [
    "<font color='blue'><u><big><big><b>Link out to website</b></big></big></u></font>"
   ]
  },
  {
   "cell_type": "markdown",
   "metadata": {},
   "source": [
    "# Overview"
   ]
  },
  {
   "cell_type": "markdown",
   "metadata": {},
   "source": [
    "<div class='alert alert-warning'>\n",
    "<big>\n",
    "Warning: The notebooks in this course are expected to run with Bokeh version 0.11.1 or greater\n",
    "</big>\n",
    "</div>"
   ]
  },
  {
   "cell_type": "markdown",
   "metadata": {},
   "source": [
    "Bokeh is designed to create highly interactive web-based visualizations that can be served as static HTML pages or connect to a *Bokeh server* process for live data manipulation."
   ]
  },
  {
   "cell_type": "markdown",
   "metadata": {},
   "source": [
    "## Key Concepts"
   ]
  },
  {
   "cell_type": "markdown",
   "metadata": {},
   "source": [
    "### BokehJS"
   ]
  },
  {
   "cell_type": "markdown",
   "metadata": {},
   "source": [
    "<img src=\"notebooks/img/bokeh_with_tentacles_2.svg\" style=\"height: 50%; width: 50%;\">"
   ]
  },
  {
   "cell_type": "markdown",
   "metadata": {},
   "source": [
    "`bokehjs` is the Java Script rendering library that handles UI interactions in the browser.\n",
    "\n",
    "The raw input to `bokehjs` is a `json` file specifying all of the plotting elements along with the data.\n",
    "\n",
    "A number of independent APIs are currently being developed."
   ]
  },
  {
   "cell_type": "markdown",
   "metadata": {},
   "source": [
    "### Embedding"
   ]
  },
  {
   "cell_type": "markdown",
   "metadata": {},
   "source": [
    "<div class='alert alert-info'>\n",
    "<img src='notebooks/img/topics/Essential-Concept.png' align='left' style='padding:10px'>\n",
    "<br><big><big>\n",
    "Bokeh plots can be output as HTML files or displayed directly in Jupyter notebooks.\n",
    "</big></big>\n",
    "<br><br>\n",
    "</div>"
   ]
  },
  {
   "cell_type": "markdown",
   "metadata": {},
   "source": [
    "Two output methods are provided by the `bokeh.io` module.\n",
    "\n",
    "* The `output_notebook()` method works with `show()` to display the plot within an Jupyter notebook.\n",
    "\n",
    "\n",
    "* The `output_file()` method works with `save()` to generate a static HTML file. The data is saved with the plot to the HTML file.\n",
    "\n",
    "\n",
    "```python\n",
    "from bokeh.io import output_file, save\n",
    "\n",
    "# generate plot\n",
    "\n",
    "output_file('plot.html', 'Bokeh Plot')\n",
    "save(plot)\n",
    "```"
   ]
  },
  {
   "cell_type": "markdown",
   "metadata": {},
   "source": [
    "### Interfaces"
   ]
  },
  {
   "cell_type": "markdown",
   "metadata": {},
   "source": [
    "The Bokeh Python API provides three interfaces for generating figures.\n",
    "\n",
    "These notebooks will focus on using the Charts and Plotting interfaces."
   ]
  },
  {
   "cell_type": "markdown",
   "metadata": {},
   "source": [
    "Charts\n",
    "------"
   ]
  },
  {
   "cell_type": "markdown",
   "metadata": {},
   "source": [
    "<div class='alert alert-info'>\n",
    "<img src='notebooks/img/topics/Essential-Concept.png' align='left' style='padding:10px'>\n",
    "<br><big><big>\n",
    "Charts are high-level plotting functions that generate statistical plots using Pandas DataFrames.\n",
    "</big></big>\n",
    "<br><br>\n",
    "</div>\n",
    "\n",
    "Plot types such as bar charts, horizon plots, time series, etc. that may include faceting, grouping, or stacking based on the structure of the data. \n",
    "\n"
   ]
  },
  {
   "cell_type": "markdown",
   "metadata": {},
   "source": [
    "Plotting\n",
    "--------"
   ]
  },
  {
   "cell_type": "markdown",
   "metadata": {},
   "source": [
    "<div class='alert alert-info'>\n",
    "<img src='notebooks/img/topics/Essential-Concept.png' align='left' style='padding:10px'>\n",
    "<br><big><big>\n",
    "Plotting with <i>glyphs</i> and interactive tools is best achieved with <tt>ColumnDataSource</tt> objects\n",
    "</big></big>\n",
    "<br><br>\n",
    "</div>"
   ]
  },
  {
   "cell_type": "markdown",
   "metadata": {},
   "source": [
    "Models\n",
    "------"
   ]
  },
  {
   "cell_type": "markdown",
   "metadata": {},
   "source": [
    "<div class='alert alert-success'>\n",
    "<img src='notebooks/img/topics/Advanced-Concept.png' align='left' style='padding:10px'>\n",
    "<br><big><big>\n",
    "Models are the low-level methods to build *scenegraphs* from scratch. Very few options are default.\n",
    "</big></big>\n",
    "<br><br>\n",
    "</div>"
   ]
  },
  {
   "cell_type": "markdown",
   "metadata": {},
   "source": [
    "Bokeh Server\n",
    "------------"
   ]
  },
  {
   "cell_type": "markdown",
   "metadata": {},
   "source": [
    "<div class='alert alert-info'>\n",
    "<img src='notebooks/img/topics/Essential-Concept.png' align='left' style='padding:10px'>\n",
    "<br><big><big>\n",
    "<tt>bokeh serve</tt> is a command-line tool to allow back-end processing capabilities to a Bokeh plot.\n",
    "</big></big>\n",
    "<br><br>\n",
    "</div>"
   ]
  },
  {
   "cell_type": "markdown",
   "metadata": {},
   "source": [
    "Interacting with the PyData Stack\n",
    "---------------------------------"
   ]
  },
  {
   "cell_type": "markdown",
   "metadata": {},
   "source": [
    "<div class='alert alert-success'>\n",
    "<img src='notebooks/img/topics/Advanced-Concept.png' align='left' style='padding:10px'>\n",
    "<br><big>\n",
    "Bokeh can be used with the rest of the PyData Stack very easily.<br>\n",
    "See [using a seaborn plot](http://bokeh.pydata.org/en/latest/docs/gallery/sinerror.html)\n",
    "</big></big>\n",
    "<br><br>\n",
    "</div>"
   ]
  },
  {
   "cell_type": "markdown",
   "metadata": {},
   "source": [
    "## Sample Data"
   ]
  },
  {
   "cell_type": "markdown",
   "metadata": {},
   "source": [
    "<div class='alert alert-success'>\n",
    "<img src='notebooks/img/topics/Best-Practice.png' align='left' style='padding:10px'>\n",
    "<br><big>\n",
    "The Bokeh sample data will be very useful, espeically the maps.\n",
    "</big></big>\n",
    "<br><br>\n",
    "</div>"
   ]
  },
  {
   "cell_type": "code",
   "execution_count": 1,
   "metadata": {
    "collapsed": false
   },
   "outputs": [
    {
     "name": "stdout",
     "output_type": "stream",
     "text": [
      "Using data directory: C:\\Users\\AngelSparkles\\.bokeh\\data\n",
      "Downloading: CGM.csv (1589982 bytes)\n",
      "   1589982 [100.00%]\n",
      "Downloading: US_Counties.zip (3182088 bytes)\n",
      "   3182088 [100.00%]\n",
      "Unpacking: US_Counties.csv\n",
      "Downloading: us_cities.json (713565 bytes)\n",
      "    713565 [100.00%]\n",
      "Downloading: unemployment09.csv (253301 bytes)\n",
      "    253301 [100.00%]\n",
      "Downloading: AAPL.csv (166698 bytes)\n",
      "    166698 [100.00%]\n",
      "Downloading: FB.csv (9706 bytes)\n",
      "      9706 [100.00%]\n",
      "Downloading: GOOG.csv (113894 bytes)\n",
      "    113894 [100.00%]\n",
      "Downloading: IBM.csv (165625 bytes)\n",
      "    165625 [100.00%]\n",
      "Downloading: MSFT.csv (161614 bytes)\n",
      "    161614 [100.00%]\n",
      "Downloading: WPP2012_SA_DB03_POPULATION_QUINQUENNIAL.zip (5148539 bytes)\n",
      "   5148539 [100.00%]\n",
      "Unpacking: WPP2012_SA_DB03_POPULATION_QUINQUENNIAL.csv\n",
      "Downloading: gapminder_fertility.csv (64346 bytes)\n",
      "     64346 [100.00%]\n",
      "Downloading: gapminder_population.csv (94509 bytes)\n",
      "     94509 [100.00%]\n",
      "Downloading: gapminder_life_expectancy.csv (73243 bytes)\n",
      "     73243 [100.00%]\n",
      "Downloading: gapminder_regions.csv (7781 bytes)\n",
      "      7781 [100.00%]\n",
      "Downloading: world_cities.zip (646858 bytes)\n",
      "    646858 [100.00%]\n",
      "Unpacking: world_cities.csv\n",
      "Downloading: airports.json (6373 bytes)\n",
      "      6373 [100.00%]\n",
      "Downloading: movies.db.zip (5067833 bytes)\n",
      "   5067833 [100.00%]\n",
      "Unpacking: movies.db\n"
     ]
    }
   ],
   "source": [
    "import bokeh.sampledata\n",
    "bokeh.sampledata.download()"
   ]
  },
  {
   "cell_type": "markdown",
   "metadata": {},
   "source": [
    "# Statistical Charts"
   ]
  },
  {
   "cell_type": "markdown",
   "metadata": {},
   "source": [
    "Bokeh is very well integrated with Pandas and will perform groupy-like operations over *tidy data*.\n",
    "\n",
    "These plots are generated with one-line commands that can be displayed in the notebook or served as static HTML.\n",
    "\n",
    "<a href='./notebooks/Bokeh_charts.ipynb' class='btn btn-primary btn-lg'>Charts with Pandas</a>\n",
    "<a href='./notebooks/Bokeh_ex_charts.ipynb' class='btn btn-primary'>Exercise</a>"
   ]
  },
  {
   "cell_type": "markdown",
   "metadata": {},
   "source": [
    "# Plotting"
   ]
  },
  {
   "cell_type": "markdown",
   "metadata": {},
   "source": [
    "Bokeh is designed to create highly interactive web-based visualizations that can be served as static HTML pages or connect to a *Bokeh server* process for live data manipulation"
   ]
  },
  {
   "cell_type": "markdown",
   "metadata": {},
   "source": [
    "<a href='./notebooks/Bokeh_plotting.ipynb' class='btn btn-primary btn-lg'>Bokeh Plotting</a>\n",
    "<a href='./notebooks/Bokeh_plotting_styles.ipynb' class='btn btn-primary'>Plotting styles</a>\n",
    "<a href='./notebooks/Bokeh_ex_plotting.ipynb' class='btn btn-primary'>Exercise</a>"
   ]
  },
  {
   "cell_type": "markdown",
   "metadata": {},
   "source": [
    "# Plot layouts"
   ]
  },
  {
   "cell_type": "markdown",
   "metadata": {},
   "source": [
    "Layout functions allow multiple plot objects to placed within a single HTML output.\n",
    "\n",
    "This will be important for building dashboards.\n",
    "\n",
    "<a href='./notebooks/Bokeh_layout.ipynb' class='btn btn-primary btn-lg'>Layout functions</a>\n",
    "<a href='./notebooks/Bokeh_ex_layout.ipynb' class='btn btn-primary btn'>Exercise</a>"
   ]
  },
  {
   "cell_type": "markdown",
   "metadata": {},
   "source": [
    "# Interactive Tools"
   ]
  },
  {
   "cell_type": "markdown",
   "metadata": {},
   "source": [
    "Setting up tools is the first step to creating rich interactive visualizations.\n",
    "\n",
    "The mid-level plotting interface provides full style adjustments with reasonable defaults.\n",
    "\n",
    "<a href='./notebooks/Bokeh_interactive.ipynb' class='btn btn-primary btn-lg'>Interactive tools</a>\n",
    "<a href='./notebooks/Bokeh_ex_interactive.ipynb' class='btn btn-primary'>Exercise</a>"
   ]
  },
  {
   "cell_type": "markdown",
   "metadata": {},
   "source": [
    "# Map overlays"
   ]
  },
  {
   "cell_type": "markdown",
   "metadata": {},
   "source": [
    "Bokeh can connect with *tile providers* to overlay plots on images provided over the web.\n",
    "\n",
    "The most common use of this feature is to plot directly on top of map images.\n",
    "\n",
    "<a href='./notebooks/Bokeh_maps.ipynb' class='btn btn-primary btn-lg'>Map Overlays</a>\n",
    "<a href='./notebooks/Bokeh_taxi.ipynb' class='btn btn-primary'>NYC Taxi Maps</a>"
   ]
  },
  {
   "cell_type": "markdown",
   "metadata": {},
   "source": [
    "# Dashboards"
   ]
  },
  {
   "cell_type": "markdown",
   "metadata": {},
   "source": [
    "Interactive dashboards connect to a running *Bokeh Server* process that allows for \n",
    "* back-end Python processing\n",
    "* live streaming of data\n",
    "\n",
    "<a href='./notebooks/Bokeh_dashboards.ipynb' class='btn btn-primary btn-lg'>Interactive Dashboards</a>"
   ]
  },
  {
   "cell_type": "markdown",
   "metadata": {},
   "source": [
    "<div class='alert alert-success'>\n",
    "<img src='notebooks/img/topics/Advanced-Concept.png' align='left' style='padding:10x'>\n",
    "<br>\n",
    "<big>\n",
    "Bokeh plots and dashboards can be [embedded](http://bokeh.pydata.org/en/latest/docs/user_guide/embed.html) and [deployed](http://bokeh.pydata.org/en/latest/docs/user_guide/server.html#deployment-scenarios) along side open-source technologies.\n",
    "</big>\n",
    "<br><br>\n",
    "</div>"
   ]
  },
  {
   "cell_type": "markdown",
   "metadata": {},
   "source": [
    "# Further Information"
   ]
  },
  {
   "cell_type": "markdown",
   "metadata": {},
   "source": [
    "* See the [Bokeh Gallery](http://bokeh.pydata.org/en/latest/docs/gallery.html) for example plots and dashboards\n",
    "* See the [Bokeh Notebooks](https://github.com/bokeh/bokeh-notebooks) repository for more tutorials"
   ]
  },
  {
   "cell_type": "markdown",
   "metadata": {},
   "source": [
    "----\n",
    "\n",
    "<font color='grey'><i>Copyright Continuum 2012-2016 All Rights Reserved.</i></font>"
   ]
  }
 ],
 "metadata": {
  "anaconda-cloud": {},
  "kernelspec": {
   "display_name": "Python [conda env:Python 34]",
   "language": "python",
   "name": "conda-env-Python 34-py"
  },
  "language_info": {
   "codemirror_mode": {
    "name": "ipython",
    "version": 3
   },
   "file_extension": ".py",
   "mimetype": "text/x-python",
   "name": "python",
   "nbconvert_exporter": "python",
   "pygments_lexer": "ipython3",
   "version": "3.4.5"
  }
 },
 "nbformat": 4,
 "nbformat_minor": 0
}
