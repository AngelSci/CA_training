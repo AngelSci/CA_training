{
 "cells": [
  {
   "cell_type": "markdown",
   "metadata": {},
   "source": [
    "# Table of Contents\n",
    "* [Learning Objectives:](#Learning-Objectives:)\n",
    "* [Building Figures](#Building-Figures)\n",
    "\t* [Basic Properties](#Basic-Properties)\n",
    "\t* [Dimensions](#Dimensions)\n",
    "\t* [Background](#Background)\n",
    "\t* [Title Text](#Title-Text)\n",
    "\t* [Border](#Border)\n",
    "\t* [Outline](#Outline)\n",
    "\t* [Axes](#Axes)\n",
    "\t\t* [Types](#Types)\n",
    "\t\t* [Ranges](#Ranges)\n",
    "\t\t* [Categorical Ranges](#Categorical-Ranges)\n",
    "\t\t* [Twin Axes](#Twin-Axes)\n",
    "\t\t* [Grid lines and Bands](#Grid-lines-and-Bands)\n",
    "\t\t* [Labels and Properties](#Labels-and-Properties)\n",
    "\t\t* [Tick Label Orientation](#Tick-Label-Orientation)\n",
    "\t* [Legends](#Legends)\n",
    "* [Selecting objects](#Selecting-objects)\n"
   ]
  },
  {
   "cell_type": "markdown",
   "metadata": {},
   "source": [
    "# Learning Objectives:"
   ]
  },
  {
   "cell_type": "markdown",
   "metadata": {},
   "source": [
    "After completion of this module, learners should be able to:\n",
    "\n",
    "* explain & use the components of the `bokeh` Figure plotting interface\n",
    "* generate basic plots using the `bokeh` Figure interface & glyphs methods\n",
    "* adjust the visual appearance of `bokeh` Figures"
   ]
  },
  {
   "cell_type": "markdown",
   "metadata": {},
   "source": [
    "The raw data sets used in this noteook are stored in the `data/bokeh/*` folder in this repository along with importable Python scripts to read the CSV or JSON files into Pandas DataFrames."
   ]
  },
  {
   "cell_type": "code",
   "execution_count": null,
   "metadata": {
    "collapsed": false
   },
   "outputs": [],
   "source": [
    "from bokeh.io import output_notebook, show\n",
    "output_notebook()"
   ]
  },
  {
   "cell_type": "markdown",
   "metadata": {},
   "source": [
    "# Building Figures"
   ]
  },
  {
   "cell_type": "markdown",
   "metadata": {},
   "source": [
    "The previous section described several high-level Chart methods that are available to easily generate statistical plots from raw data in Pandas DataFrames. The Chart methods do the hard work of performing statistical operations, setting the style of the plot and configuring the glyphs.\n",
    "\n",
    "Bokeh plots can also be built by using the mid-level Plotting interface that were introduced in the [plotting](#Basic-Plotting-and-Interactivity) section. In many cases the high-level charts can be reproduced with separate plotting and data manipulation steps.\n",
    "\n",
    "We'll start by describing the available style properties that can be passed as kewyord arguments when the Figure object is created or by directly setting member attributes.\n",
    "\n",
    "A more complete description of all styling options is available in the [Bokeh User Guide](#http://bokeh.pydata.org/en/latest/docs/user_guide/styling.html)."
   ]
  },
  {
   "cell_type": "code",
   "execution_count": null,
   "metadata": {
    "collapsed": false,
    "scrolled": true
   },
   "outputs": [],
   "source": [
    "# The best source for ALOT of information is bokeh.plotting\n",
    "import bokeh.plotting\n",
    "help(bokeh.plotting)"
   ]
  },
  {
   "cell_type": "markdown",
   "metadata": {},
   "source": [
    "To begin with the Figure class has many default properties like axes, ranges and tools to simplify generation of a plot using this interface."
   ]
  },
  {
   "cell_type": "markdown",
   "metadata": {},
   "source": [
    "## Basic Properties"
   ]
  },
  {
   "cell_type": "markdown",
   "metadata": {},
   "source": [
    "The two basic properties can be applied to many of the elements of a figure are `text` and `line`.\n",
    "\n",
    "For any text-based property such as `axis_label` or `title_text` the following properties can be adjusted by appending the style to the text property.\n",
    "* `_text_font`\n",
    "* `_text_font_size`\n",
    "* `_text_font_style`\n",
    "* `_text_color`\n",
    "* `_text_alpha`\n",
    "* `_text_baseline`\n",
    "\n",
    "For any line-based property such as the `line` glyph, axis and grid lines the following properties can be adjusted by append the style to the line property\n",
    "* `_line_width`\n",
    "* `_line_color`\n",
    "* `_line_alpha`\n",
    "* `_line_dash`"
   ]
  },
  {
   "cell_type": "code",
   "execution_count": null,
   "metadata": {
    "collapsed": true
   },
   "outputs": [],
   "source": [
    "import numpy as np\n",
    "\n",
    "x = np.linspace(0, 4*np.pi, 100)\n",
    "y = np.sin(x)"
   ]
  },
  {
   "cell_type": "markdown",
   "metadata": {},
   "source": [
    "## Dimensions"
   ]
  },
  {
   "cell_type": "code",
   "execution_count": null,
   "metadata": {
    "collapsed": false,
    "scrolled": true
   },
   "outputs": [],
   "source": [
    "from bokeh.plotting import figure\n",
    "\n",
    "plot = figure(plot_height=200)\n",
    "plot.plot_width=1000\n",
    "plot.line(x,y,line_width=2)\n",
    "show(plot)"
   ]
  },
  {
   "cell_type": "markdown",
   "metadata": {},
   "source": [
    "New in Bokeh 0.10 is the ability to make a `responsive` plot that will resize based on the browser. Try changing the the width and height of the plot below. The plot will always be drawn a the full width of the IPython notebook but the ratio between width and height will be respected."
   ]
  },
  {
   "cell_type": "code",
   "execution_count": null,
   "metadata": {
    "collapsed": false
   },
   "outputs": [],
   "source": [
    "plot = figure(responsive=True)\n",
    "plot.plot_width=1000\n",
    "plot.plot_height=200\n",
    "plot.line(x,y,line_width=2)\n",
    "show(plot)"
   ]
  },
  {
   "cell_type": "markdown",
   "metadata": {},
   "source": [
    "## Background"
   ]
  },
  {
   "cell_type": "code",
   "execution_count": null,
   "metadata": {
    "collapsed": false
   },
   "outputs": [],
   "source": [
    "plot = figure()\n",
    "plot.background_fill='azure'\n",
    "plot.line(x,y,line_width=2)\n",
    "show(plot)"
   ]
  },
  {
   "cell_type": "markdown",
   "metadata": {},
   "source": [
    "## Title Text"
   ]
  },
  {
   "cell_type": "code",
   "execution_count": null,
   "metadata": {
    "collapsed": false
   },
   "outputs": [],
   "source": [
    "plot = figure( title_text_font_size='50pt',\n",
    "               title_text_font_style='italic'\n",
    "             )\n",
    "plot.title_text_color='olive'\n",
    "plot.title='Sine Function'\n",
    "plot.line(x,y,line_width=2)\n",
    "show(plot)"
   ]
  },
  {
   "cell_type": "markdown",
   "metadata": {},
   "source": [
    "## Border"
   ]
  },
  {
   "cell_type": "code",
   "execution_count": null,
   "metadata": {
    "collapsed": false
   },
   "outputs": [],
   "source": [
    "plot = figure()\n",
    "plot.border_fill='darkgray'\n",
    "plot.min_border_bottom=20\n",
    "plot.min_border_left=100\n",
    "plot.min_border_top=0\n",
    "plot.min_border_right=0\n",
    "plot.line(x,y,line_width=2)\n",
    "show(plot)"
   ]
  },
  {
   "cell_type": "markdown",
   "metadata": {},
   "source": [
    "## Outline"
   ]
  },
  {
   "cell_type": "code",
   "execution_count": null,
   "metadata": {
    "collapsed": false
   },
   "outputs": [],
   "source": [
    "plot = figure(outline_line_width=6,\n",
    "             outline_line_alpha=0.3,\n",
    "             outline_line_color='firebrick')\n",
    "plot.line(x,y,line_width=2)\n",
    "show(plot)"
   ]
  },
  {
   "cell_type": "markdown",
   "metadata": {},
   "source": [
    "## Axes"
   ]
  },
  {
   "cell_type": "markdown",
   "metadata": {},
   "source": [
    "Plot axes are separate objects that can be associated with one or more figures. The `figure` method automatically creates `xaxis` and `yaxis` objects."
   ]
  },
  {
   "cell_type": "markdown",
   "metadata": {},
   "source": [
    "### Types"
   ]
  },
  {
   "cell_type": "markdown",
   "metadata": {},
   "source": [
    "The axis type can be changed using `x_axis_type` and `y_axis_type` keyword arguments to `figure()`.\n",
    "* `linear` (default)\n",
    "* `log`\n",
    "* `datetime`"
   ]
  },
  {
   "cell_type": "code",
   "execution_count": null,
   "metadata": {
    "collapsed": false,
    "scrolled": false
   },
   "outputs": [],
   "source": [
    "logX = 10**x\n",
    "\n",
    "plot = figure(y_axis_type='log')\n",
    "plot.line(x,logX,line_width=2)\n",
    "show(plot)"
   ]
  },
  {
   "cell_type": "markdown",
   "metadata": {},
   "source": [
    "The axes can also be modified by accessing the individual classes. `plot.yaxis` (and `plot.xaxis`) returns a *splattable* list of objects defined on the xaxis. Notice that LogAxis is a subclass of `axes` and the object would have to be replaced to change the axis to a LinearAxis. It is best to decide the axis type when the figure object is created."
   ]
  },
  {
   "cell_type": "code",
   "execution_count": null,
   "metadata": {
    "collapsed": false
   },
   "outputs": [],
   "source": [
    "plot.xaxis,plot.yaxis"
   ]
  },
  {
   "cell_type": "markdown",
   "metadata": {},
   "source": [
    "### Ranges"
   ]
  },
  {
   "cell_type": "markdown",
   "metadata": {},
   "source": [
    "Ranges can be set in the figure using the `x_range` and `y_range` properties where the start and end points are given in a tuple.\n",
    "\n",
    "By default `x_range` and `y_range` are `DataRange1d` objects that auto-fit the view to the input data.\n",
    "\n",
    "We're going to replace `y_range` with a `Range1d` object, which takes start and end points as arguments to set the default view. As we'll see later it is useful to know that we can control the `x_range` and `y_range` objects. "
   ]
  },
  {
   "cell_type": "code",
   "execution_count": null,
   "metadata": {
    "collapsed": false,
    "scrolled": true
   },
   "outputs": [],
   "source": [
    "from bokeh.models import Range1d\n",
    "\n",
    "logX = 10**x\n",
    "\n",
    "plot = figure(y_axis_type='log',  x_range=(-10,20))\n",
    "plot.y_range=Range1d(1,1000)\n",
    "plot.line(x,logX,line_width=2)\n",
    "show(plot)"
   ]
  },
  {
   "cell_type": "markdown",
   "metadata": {},
   "source": [
    "### Categorical Ranges"
   ]
  },
  {
   "cell_type": "markdown",
   "metadata": {},
   "source": [
    "By providing a list of 'factors' to the `y_range` parameter the yxais tic labels can easily be changed to arbitrary strings.\n",
    "\n",
    "When using Pandas DataFrames this process can be simplified. (see below)"
   ]
  },
  {
   "cell_type": "code",
   "execution_count": null,
   "metadata": {
    "collapsed": false
   },
   "outputs": [],
   "source": [
    "x2 = [50, 40, 65, 10, 25, 37, 80, 60]\n",
    "factors = [\"a\", \"b\", \"c\", \"d\", \"e\", \"f\", \"g\", \"h\"]\n",
    "\n",
    "plot = figure(y_range=factors)\n",
    "\n",
    "plot.circle(x2, factors, size=15, fill_color=\"orange\", line_color=\"green\", line_width=3)\n",
    "show(plot)"
   ]
  },
  {
   "cell_type": "code",
   "execution_count": null,
   "metadata": {
    "collapsed": false
   },
   "outputs": [],
   "source": [
    "plot.y_range"
   ]
  },
  {
   "cell_type": "markdown",
   "metadata": {},
   "source": [
    "### Twin Axes"
   ]
  },
  {
   "cell_type": "markdown",
   "metadata": {},
   "source": [
    "Extra axes can be added as dictionary associations using the `extra_y_ranges` and `extra_x_ranges` member functions of the Figure object. The range is set in the dictionary using `Range1d`. The dictionary keys are arbitrary associations.\n",
    "\n",
    "The new axis is rendered using the `add_layout` function."
   ]
  },
  {
   "cell_type": "code",
   "execution_count": null,
   "metadata": {
    "collapsed": false,
    "scrolled": false
   },
   "outputs": [],
   "source": [
    "from bokeh.models import LinearAxis, Range1d\n",
    "\n",
    "plot = figure( y_range=(-1.2, 1.2) )\n",
    "plot.line(x,y,line_width=2)\n",
    "\n",
    "y2 = x**2\n",
    "\n",
    "plot.extra_y_ranges = {\"xSqRange\": Range1d(start=0, end=100)}\n",
    "plot.circle(x,y2, y_range_name='xSqRange', color='red')\n",
    "plot.add_layout(LinearAxis(y_range_name=\"xSqRange\"), 'left')\n",
    "\n",
    "show(plot)"
   ]
  },
  {
   "cell_type": "markdown",
   "metadata": {},
   "source": [
    "### Grid lines and Bands"
   ]
  },
  {
   "cell_type": "markdown",
   "metadata": {},
   "source": [
    "Like axes grid lines are also controlled by `grid`, `xgrid` and `ygrid` members of Figure. Again they return a *splattable* list.\n",
    "\n",
    "All of the [text properties](#Basic-Properties) apply. To operate on minor grid lines prepend `minor_` to the property attributes."
   ]
  },
  {
   "cell_type": "code",
   "execution_count": null,
   "metadata": {
    "collapsed": false
   },
   "outputs": [],
   "source": [
    "plot = figure( y_range=(-1.2, 1.2) )\n",
    "plot.line(x,y,line_width=2)\n",
    "\n",
    "plot.grid.grid_line_width=1.5\n",
    "\n",
    "plot.ygrid.grid_line_color='blue'\n",
    "\n",
    "#remove grid lines intersecting the x axis\n",
    "plot.xgrid.grid_line_color = None\n",
    "\n",
    "plot.ygrid.minor_grid_line_color='gray'\n",
    "plot.ygrid.minor_grid_line_width=1\n",
    "\n",
    "show(plot)"
   ]
  },
  {
   "cell_type": "code",
   "execution_count": null,
   "metadata": {
    "collapsed": false
   },
   "outputs": [],
   "source": [
    "plot = figure( y_range=(-1.2, 1.2) )\n",
    "plot.line(x,y,line_width=2)\n",
    "\n",
    "#remove all grid lines\n",
    "plot.grid.grid_line_color = None\n",
    "\n",
    "plot.ygrid.band_fill_alpha = 0.1\n",
    "plot.ygrid.band_fill_color = \"navy\"\n",
    "\n",
    "show(plot)"
   ]
  },
  {
   "cell_type": "markdown",
   "metadata": {},
   "source": [
    "### Labels and Properties"
   ]
  },
  {
   "cell_type": "markdown",
   "metadata": {},
   "source": [
    "Axis objects are available as through the `xaxis`, `yaxis` and `axis` member objects of a Figure. Each of these return a *splattable* list of axis objects.\n",
    "\n",
    "The line properties can be changed with\n",
    "* `axis_line_width`\n",
    "* `axis_line_color`\n",
    "* `axis_line_alpha`\n",
    "\n",
    "and similiarly for text properties."
   ]
  },
  {
   "cell_type": "code",
   "execution_count": null,
   "metadata": {
    "collapsed": false,
    "scrolled": false
   },
   "outputs": [],
   "source": [
    "plot = figure( y_range=(-1.2, 1.2) )\n",
    "plot.line(x,y,line_width=2)\n",
    "\n",
    "plot.extra_y_ranges = {\"linear\": Range1d(start=0, end=100)}\n",
    "plot.circle(x,y2, y_range_name='linear', color='red')\n",
    "plot.add_layout(LinearAxis(y_range_name=\"linear\"), 'left')\n",
    "\n",
    "#use bold fonts for all axis labels\n",
    "plot.axis.axis_label_text_font_style='bold'\n",
    "\n",
    "#label the x axis\n",
    "plot.xaxis.axis_label='x'\n",
    "plot.xaxis.axis_line_width=4\n",
    "\n",
    "#the first y axis\n",
    "plot.yaxis[0].axis_label='sin(x)'\n",
    "plot.yaxis[0].axis_label_text_color='blue'\n",
    "\n",
    "#the second yaxis\n",
    "plot.yaxis[1].axis_label='x^2'\n",
    "plot.yaxis[1].axis_label_text_color='red'\n",
    "\n",
    "show(plot)"
   ]
  },
  {
   "cell_type": "markdown",
   "metadata": {},
   "source": [
    "### Tick Label Orientation"
   ]
  },
  {
   "cell_type": "markdown",
   "metadata": {},
   "source": [
    "The orientation of the major labels can be changed with `major_label_orentation`. The possible values are \n",
    "* `horizontal`\n",
    "* `vertical`\n",
    "* Degrees in radians\n",
    "    "
   ]
  },
  {
   "cell_type": "code",
   "execution_count": null,
   "metadata": {
    "collapsed": false,
    "scrolled": false
   },
   "outputs": [],
   "source": [
    "from data.bokeh.glucose import data as glucose\n",
    "import numpy as np\n",
    "\n",
    "#reduce data size\n",
    "glucose = glucose.ix['2010-10-06':'2010-10-13']\n",
    "\n",
    "plot = figure(x_axis_type=\"datetime\")\n",
    "plot.line(glucose.index.to_series(), glucose['glucose'], line_color='gray')\n",
    "\n",
    "plot.xaxis.major_label_orientation=np.pi/4\n",
    "\n",
    "show(plot)"
   ]
  },
  {
   "cell_type": "markdown",
   "metadata": {},
   "source": [
    "## Legends"
   ]
  },
  {
   "cell_type": "markdown",
   "metadata": {},
   "source": [
    "Legends are automatically added to figures when the `legend` parameter is passed to a glyph. By default the legend appears at the top-right of the Figure.\n",
    "\n",
    "The `legend` member object (*splattable* list) is used to set legend position and properties.\n",
    "\n",
    "* What happens when the order of the calls to glyph methods is changed?"
   ]
  },
  {
   "cell_type": "code",
   "execution_count": null,
   "metadata": {
    "collapsed": false
   },
   "outputs": [],
   "source": [
    "plot = figure()\n",
    "\n",
    "plot.line(x,y, line_color='blue', legend='sin(x)')\n",
    "plot.circle(x,y, line_color='blue', fill_color='blue',size=5, legend='sin(x)')\n",
    "\n",
    "plot.line(x,2*y,line_dash=[4,4], line_color='darkorchid', legend='2sin(x)')\n",
    "\n",
    "plot.line(x,3*y, line_color='green', legend='3sin(x)')\n",
    "plot.circle(x,3*y, line_color='green', fill_color='white', legend='3sin(x)')\n",
    "\n",
    "plot.legend.orientation='bottom_left'\n",
    "plot.legend.border_line_width = 3\n",
    "\n",
    "show(plot)"
   ]
  },
  {
   "cell_type": "markdown",
   "metadata": {},
   "source": [
    "# Selecting objects"
   ]
  },
  {
   "cell_type": "markdown",
   "metadata": {},
   "source": [
    "Since everything in a Bokeh plot is an object a special `select()` method has been provided to switch between objects within a plot to apply styling properties.\n",
    "\n",
    "Many methods in the `plotting` interface take the `name` paramter that is very useful when using the `select` tool.\n",
    "\n",
    "NOTE: Not all glyphs have the same parameters.\n",
    "\n"
   ]
  },
  {
   "cell_type": "code",
   "execution_count": null,
   "metadata": {
    "collapsed": false
   },
   "outputs": [],
   "source": [
    "plot = figure()\n",
    "\n",
    "plot.line(x,y, name='SineLine')\n",
    "plot.circle(x,y, name='SineCircle')\n",
    "\n",
    "plot.line(x,2*y, name='2SineLine')\n",
    "\n",
    "plot.line(x,3*y, name='3SineLine')\n",
    "plot.circle(x,3*y, name='3SineCircle')\n",
    "\n",
    "for m_name in ['SineLine', 'SineCircle']:\n",
    "    obj = plot.select(name=m_name)[0].glyph\n",
    "    try:\n",
    "        obj.fill_color='green'\n",
    "    except AttributeError:\n",
    "        #line objects don't have fill colors\n",
    "        obj.line_color='green'\n",
    "\n",
    "\n",
    "show(plot)"
   ]
  },
  {
   "cell_type": "markdown",
   "metadata": {},
   "source": [
    "The class itself can be used to return a list of all objects of that type"
   ]
  },
  {
   "cell_type": "code",
   "execution_count": null,
   "metadata": {
    "collapsed": true
   },
   "outputs": [],
   "source": []
  }
 ],
 "metadata": {
  "continuum": {
   "depends": [
    "bo_charts"
   ],
   "requires": [
    "data/bokeh/*",
    "data/__init__.py"
   ],
   "tag": "bo_figures"
  },
  "kernelspec": {
   "display_name": "Python 3",
   "language": "python",
   "name": "python3"
  },
  "language_info": {
   "codemirror_mode": {
    "name": "ipython",
    "version": 3
   },
   "file_extension": ".py",
   "mimetype": "text/x-python",
   "name": "python",
   "nbconvert_exporter": "python",
   "pygments_lexer": "ipython3",
   "version": "3.4.4"
  }
 },
 "nbformat": 4,
 "nbformat_minor": 0
}
