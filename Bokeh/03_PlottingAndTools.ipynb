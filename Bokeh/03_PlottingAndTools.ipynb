{
 "cells": [
  {
   "cell_type": "markdown",
   "metadata": {},
   "source": [
    "# Table of Contents\n",
    "* [Bokeh Plotting and Custom Tools](#Bokeh-Plotting-and-Custom-Tools)\n",
    "\t* [Building Plots](#Building-Plots)\n",
    "\t* [ColumnDataSource](#ColumnDataSource)\n",
    "\t* [Custom Tools](#Custom-Tools)\n"
   ]
  },
  {
   "cell_type": "markdown",
   "metadata": {},
   "source": [
    "# Bokeh Plotting and Custom Tools"
   ]
  },
  {
   "cell_type": "code",
   "execution_count": null,
   "metadata": {
    "collapsed": true
   },
   "outputs": [],
   "source": [
    "import pandas as pd\n",
    "import numpy as np"
   ]
  },
  {
   "cell_type": "code",
   "execution_count": null,
   "metadata": {
    "collapsed": false
   },
   "outputs": [],
   "source": [
    "import bokeh.sampledata\n",
    "bokeh.sampledata.download()"
   ]
  },
  {
   "cell_type": "code",
   "execution_count": null,
   "metadata": {
    "collapsed": false
   },
   "outputs": [],
   "source": [
    "from bokeh.io import output_notebook, show\n",
    "output_notebook()"
   ]
  },
  {
   "cell_type": "markdown",
   "metadata": {},
   "source": [
    "## Building Plots"
   ]
  },
  {
   "cell_type": "code",
   "execution_count": null,
   "metadata": {
    "collapsed": false
   },
   "outputs": [],
   "source": [
    "from bokeh.sampledata.iris import flowers\n",
    "flowers.head()"
   ]
  },
  {
   "cell_type": "code",
   "execution_count": null,
   "metadata": {
    "collapsed": false
   },
   "outputs": [],
   "source": [
    "from bokeh.plotting import figure\n",
    "\n",
    "plot = figure()\n",
    "plot.circle(flowers['petal_width'],flowers['petal_length'])\n",
    "show(plot)"
   ]
  },
  {
   "cell_type": "markdown",
   "metadata": {},
   "source": [
    "While the Scatter chart will automatically color the circle according to the species column, with the plotting interface this operation has to be done manually."
   ]
  },
  {
   "cell_type": "code",
   "execution_count": null,
   "metadata": {
    "collapsed": false
   },
   "outputs": [],
   "source": [
    "plot = figure()\n",
    "    \n",
    "colors = ['gold','maroon','olivedrab']\n",
    "for species,color in zip(flowers['species'].unique(),colors):\n",
    "    idx=flowers['species']==species\n",
    "    plot.circle(flowers.loc[idx,'petal_width'],flowers.loc[idx,'petal_length'],\n",
    "                color=color, legend=species, size=10)\n",
    "\n",
    "plot.legend.location='top_left'\n",
    "show(plot)"
   ]
  },
  {
   "cell_type": "code",
   "execution_count": null,
   "metadata": {
    "collapsed": false
   },
   "outputs": [],
   "source": [
    "# add labels\n",
    "plot.xaxis.axis_label='Petal Width'\n",
    "plot.yaxis.axis_label='Petal Length'\n",
    "show(plot)"
   ]
  },
  {
   "cell_type": "markdown",
   "metadata": {},
   "source": [
    "## ColumnDataSource"
   ]
  },
  {
   "cell_type": "markdown",
   "metadata": {},
   "source": [
    "In this section I wish to make a plot of the counties in PA and color the county either red or blue based on the results of the 2012 Presidential Election. Blue will be used to color a county where a majority of votes were cast for Barak Obama and red for counties where Mit Romney gained the majority. These data sets are stored in separate CSV files and we must do some Pandas operations to bring the data together. The goal here is to make a single data frame that stores all of the data, including the color value, that I wish to use in my plot."
   ]
  },
  {
   "cell_type": "markdown",
   "metadata": {},
   "source": [
    "First, get the latitude and longitude borders for every county in PA"
   ]
  },
  {
   "cell_type": "code",
   "execution_count": null,
   "metadata": {
    "collapsed": false
   },
   "outputs": [],
   "source": [
    "from bokeh.sampledata.us_counties import data\n",
    "\n",
    "us_counties = pd.DataFrame(data).T\n",
    "pennsylvania=us_counties.loc[us_counties['state']=='pa']\n",
    "pennsylvania.head()"
   ]
  },
  {
   "cell_type": "markdown",
   "metadata": {},
   "source": [
    "Secondly, I'll load election results from every county in the US and create a data frame of the results from Pennsylvania. This data is in the same order as the previous data frame."
   ]
  },
  {
   "cell_type": "code",
   "execution_count": null,
   "metadata": {
    "collapsed": false
   },
   "outputs": [],
   "source": [
    "election_2012 = pd.read_csv('data/2012Election.csv')\n",
    "pa_results = election_2012.loc[election_2012['state']=='PA',['Obama','Romney']]\n",
    "pa_results.head()"
   ]
  },
  {
   "cell_type": "code",
   "execution_count": null,
   "metadata": {
    "collapsed": false
   },
   "outputs": [],
   "source": [
    "# counties were already listed alphabetically in both data sets\n",
    "pa_results=pa_results.set_index(pennsylvania.index)\n",
    "pennsylvania=pennsylvania.join(pa_results,how='left')\n",
    "pennsylvania['Other']=100-(pennsylvania['Romney']+pennsylvania['Obama'])\n",
    "pennsylvania.head(1)"
   ]
  },
  {
   "cell_type": "markdown",
   "metadata": {},
   "source": [
    "Now I create a color column that I will use to color each county in my plot."
   ]
  },
  {
   "cell_type": "code",
   "execution_count": null,
   "metadata": {
    "collapsed": true
   },
   "outputs": [],
   "source": [
    "def blue_or_red(x):\n",
    "    if x['Romney'] > x['Obama']:\n",
    "        return 'red'\n",
    "    elif x['Obama'] > x['Romney']:\n",
    "        return 'blue'\n",
    "    else:\n",
    "        return 'purple'"
   ]
  },
  {
   "cell_type": "code",
   "execution_count": null,
   "metadata": {
    "collapsed": false
   },
   "outputs": [],
   "source": [
    "pennsylvania['color'] = pennsylvania.apply(blue_or_red, axis=1)\n",
    "pennsylvania.head()"
   ]
  },
  {
   "cell_type": "markdown",
   "metadata": {},
   "source": [
    "In order to integrate deeper with Bokeh I need to make a ColumnDataSource object. There is a direct mapping from a Pandas DataFrame to a Bokeh ColumnDataSource."
   ]
  },
  {
   "cell_type": "code",
   "execution_count": null,
   "metadata": {
    "collapsed": true
   },
   "outputs": [],
   "source": [
    "# cast the data frame to ColumnDataSource\n",
    "from bokeh.charts import ColumnDataSource\n",
    "source = ColumnDataSource(pennsylvania)"
   ]
  },
  {
   "cell_type": "markdown",
   "metadata": {},
   "source": [
    "The ColumnDataSource is passed to the plotting function with `source=` and I can now access the columns by strings."
   ]
  },
  {
   "cell_type": "code",
   "execution_count": null,
   "metadata": {
    "collapsed": false
   },
   "outputs": [],
   "source": [
    "plot = figure(width=850)\n",
    "plot.patches('lons', 'lats', color='color', line_color='white', source=source)\n",
    "show(plot)"
   ]
  },
  {
   "cell_type": "markdown",
   "metadata": {},
   "source": [
    "## Custom Tools"
   ]
  },
  {
   "cell_type": "markdown",
   "metadata": {},
   "source": [
    "Now that I have a ColumnDataSource object I can use it's information to prepare a custom hover tool that will show the county name and the percentage of votes cast for each candidate."
   ]
  },
  {
   "cell_type": "markdown",
   "metadata": {},
   "source": [
    "I'm going to import all of the tool classes I need to use."
   ]
  },
  {
   "cell_type": "code",
   "execution_count": null,
   "metadata": {
    "collapsed": true
   },
   "outputs": [],
   "source": [
    "from bokeh.models import PanTool,WheelZoomTool,ResetTool,HoverTool"
   ]
  },
  {
   "cell_type": "code",
   "execution_count": null,
   "metadata": {
    "collapsed": false
   },
   "outputs": [],
   "source": [
    "hover = HoverTool(\n",
    "  tooltips = [\n",
    "        #dispay_text,column_name\n",
    "        ('County'   ,'@name'),\n",
    "        ('% Obama'  ,'@Obama'),\n",
    "        ('% Romeny' ,'@Romney'),\n",
    "        ('% Other'  ,'@Other')\n",
    "    ]\n",
    ")\n",
    "\n",
    "tools=[PanTool(), WheelZoomTool(), hover, ResetTool()]\n",
    "\n",
    "plot = figure(tools=tools, width=850)\n",
    "plot.patches('lons', 'lats', color='color', line_color='white', source=source)\n",
    "show(plot)"
   ]
  },
  {
   "cell_type": "code",
   "execution_count": null,
   "metadata": {
    "collapsed": true
   },
   "outputs": [],
   "source": []
  }
 ],
 "metadata": {
  "continuum": {
   "depends": [],
   "requires": [
    "data/2012Election.csv"
   ],
   "tag": "bo_plot_tools"
  },
  "kernelspec": {
   "display_name": "Python 3",
   "language": "python",
   "name": "python3"
  },
  "language_info": {
   "codemirror_mode": {
    "name": "ipython",
    "version": 3
   },
   "file_extension": ".py",
   "mimetype": "text/x-python",
   "name": "python",
   "nbconvert_exporter": "python",
   "pygments_lexer": "ipython3",
   "version": "3.4.4"
  }
 },
 "nbformat": 4,
 "nbformat_minor": 0
}
