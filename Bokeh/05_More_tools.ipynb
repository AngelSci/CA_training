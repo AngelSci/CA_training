{
 "cells": [
  {
   "cell_type": "markdown",
   "metadata": {},
   "source": [
    "# Table of Contents\n",
    "* [Learning Objectives:](#Learning-Objectives:)\n",
    "* [Plot Tools](#Plot-Tools)\n",
    "\t* [Selection Tools](#Selection-Tools)\n",
    "\t* [Custom Plot Tools](#Custom-Plot-Tools)\n",
    "\t* [HoverTool](#HoverTool)\n",
    "\t\t* [DataFrame](#DataFrame)\n",
    "\t\t* [ColumnDataSource](#ColumnDataSource)\n",
    "\t* [Taptool](#Taptool)\n"
   ]
  },
  {
   "cell_type": "markdown",
   "metadata": {},
   "source": [
    "# Learning Objectives:"
   ]
  },
  {
   "cell_type": "markdown",
   "metadata": {},
   "source": [
    "After completion of this module, learners should be able to:\n",
    "\n",
    "* customize `bokeh` interactivity tools in Figures\n",
    "* plot data in Pandas DataFrames and ColumnDataSource objects"
   ]
  },
  {
   "cell_type": "markdown",
   "metadata": {},
   "source": [
    "The raw data sets used in this noteook are stored in the `data/bokeh/*` folder in this repository along with importable Python scripts to read the CSV or JSON files into Pandas DataFrames.\n",
    "\n",
    "Other topics not covered here\n",
    "* [Widgets](http://bokeh.pydata.org/en/latest/docs/user_guide/interaction.html#adding-widgets)    \n",
    "* [Javascript Callbacks](http://bokeh.pydata.org/en/latest/docs/user_guide/interaction.html#defining-callbacks)\n",
    "    * [Callback example](http://nbviewer.ipython.org/github/bokeh/bokeh-notebooks/blob/master/tutorial/A1%20-%20Building%20gapminder.ipynb)"
   ]
  },
  {
   "cell_type": "code",
   "execution_count": null,
   "metadata": {
    "collapsed": false
   },
   "outputs": [],
   "source": [
    "from bokeh.io import output_notebook, show\n",
    "output_notebook()"
   ]
  },
  {
   "cell_type": "markdown",
   "metadata": {},
   "source": [
    "# Plot Tools"
   ]
  },
  {
   "cell_type": "markdown",
   "metadata": {},
   "source": [
    "A number of Plot Tools are available that allow gesture-based interactivity with Bokeh plots.\n",
    "\n",
    "By default all plots have the following Tools enabled\n",
    "* Pan / Drag\n",
    "* Box Zoom\n",
    "* Resize\n",
    "* Wheel Zoom\n",
    "* Preview / Save\n",
    "* Reset\n",
    "* Help\n",
    "\n",
    "In the `figure` method the default `tools` argument is `'pan,wheel_zoom,box_zoom,save,resize,reset,help'`\n",
    "\n",
    "Custom tool selctions can be provided as a comma separated list of string to the `tools` keyword argument to figure() and chart functions.\n",
    "\n",
    "The [Bokeh User Guide](http://bokeh.pydata.org/en/latest/docs/user_guide/tools.html) is very thorough on the usage of Tools in figures and charts.\n",
    "\n",
    "Here's a list of other tools that can be configured in a plot\n",
    "\n",
    "* Pan / Drag Tools\n",
    "    * `box_select`\n",
    "    * `box_zoom`\n",
    "    * `lasso_select`\n",
    "    * `pan`\n",
    "    * `resize`\n",
    "* Click / Tap Tools\n",
    "    * `poly_select`\n",
    "    * `tap_select`\n",
    "* Scroll / Pinch Tools\n",
    "    * `wheel_zoom`\n",
    "* Actions\n",
    "    * `reset`\n",
    "    * `save`\n",
    "* Inspectors\n",
    "    * `crosshair`\n",
    "    * `hover`"
   ]
  },
  {
   "cell_type": "code",
   "execution_count": null,
   "metadata": {
    "collapsed": true
   },
   "outputs": [],
   "source": [
    "import numpy as np\n",
    "\n",
    "x = np.linspace(0, 4*np.pi, 100)\n",
    "y = np.sin(x)"
   ]
  },
  {
   "cell_type": "markdown",
   "metadata": {},
   "source": [
    "## Selection Tools"
   ]
  },
  {
   "cell_type": "markdown",
   "metadata": {},
   "source": [
    "Two selection tools are available `box_select` and `lasso_select`. When using a glpyh other than `line` the selection tools are automatically set to dim unselected data points. Selecting a region without data points will reset the selection."
   ]
  },
  {
   "cell_type": "code",
   "execution_count": null,
   "metadata": {
    "collapsed": false
   },
   "outputs": [],
   "source": [
    "from bokeh.plotting import figure\n",
    "\n",
    "plot = figure(tools='reset,box_select,lasso_select,help')\n",
    "plot.circle(x, y, color='blue')\n",
    "show(plot)"
   ]
  },
  {
   "cell_type": "markdown",
   "metadata": {},
   "source": [
    "## Custom Plot Tools"
   ]
  },
  {
   "cell_type": "markdown",
   "metadata": {},
   "source": [
    "Plot Tools are their own classes (CamelCase naming convention with 'Tool' at the end) and can be customized by importing the tools from `bokeh.models`, creating new objects using the `add_tools` to associate them with the figure."
   ]
  },
  {
   "cell_type": "code",
   "execution_count": null,
   "metadata": {
    "collapsed": false,
    "scrolled": false
   },
   "outputs": [],
   "source": [
    "from bokeh.models import BoxZoomTool,ResetTool\n",
    "plot = figure(tools='')\n",
    "plot.line(x, y, color='blue', line_width=2)\n",
    "plot.add_tools(BoxZoomTool(dimensions=[\"width\"]))\n",
    "plot.add_tools(ResetTool())\n",
    "show(plot)"
   ]
  },
  {
   "cell_type": "markdown",
   "metadata": {},
   "source": [
    "## HoverTool"
   ]
  },
  {
   "cell_type": "markdown",
   "metadata": {},
   "source": [
    "### DataFrame"
   ]
  },
  {
   "cell_type": "markdown",
   "metadata": {},
   "source": [
    "The default hover tool will display the index of the nearest data point along with the position of the curser in Data (x,y) space and Canvas space.\n",
    "\n",
    "In this example we will import the flower morphology DataFrame and use the lower-level plotting interface.\n",
    "\n",
    "Notice that creating a legend is not automatic as it was with the Chart interface."
   ]
  },
  {
   "cell_type": "code",
   "execution_count": null,
   "metadata": {
    "collapsed": false,
    "scrolled": true
   },
   "outputs": [],
   "source": [
    "from data.bokeh.iris import flowers\n",
    "flowers"
   ]
  },
  {
   "cell_type": "code",
   "execution_count": null,
   "metadata": {
    "collapsed": false,
    "scrolled": true
   },
   "outputs": [],
   "source": [
    "from bokeh.models import BoxZoomTool,ResetTool,HoverTool\n",
    "\n",
    "## Add a new Series mapping the species to a color\n",
    "colormap = {'setosa': 'red', 'versicolor': 'green', 'virginica': 'blue'}\n",
    "flowers['color'] = flowers['species'].map(lambda x: colormap[x])\n",
    "\n",
    "tools = [BoxZoomTool(),ResetTool(),HoverTool()]\n",
    "\n",
    "plot = figure(title = \"Iris Morphology\", tools=tools)\n",
    "plot.xaxis.axis_label = 'Petal Length'\n",
    "plot.yaxis.axis_label = 'Petal Width'\n",
    "\n",
    "plot.circle(\n",
    "    flowers[\"petal_length\"], \n",
    "    flowers[\"petal_width\"],\n",
    "    color=flowers[\"color\"], #assign the color to each circle\n",
    "    fill_alpha=0.2, size=10 )\n",
    "\n",
    "show(plot)"
   ]
  },
  {
   "cell_type": "markdown",
   "metadata": {},
   "source": [
    "### ColumnDataSource"
   ]
  },
  {
   "cell_type": "markdown",
   "metadata": {},
   "source": [
    "To provide more control over what information can be presented in a hover tooltip we introduce `ColumnDataSource` from `bokeh.plotting`. This special dictionary interacts with the `source` keyword argument in the glyph methods to provide efficient key-based access for the arguments. In addition the `source` data structure is accessible in the `HoverTool`."
   ]
  },
  {
   "cell_type": "code",
   "execution_count": null,
   "metadata": {
    "collapsed": false
   },
   "outputs": [],
   "source": [
    "from bokeh.plotting import ColumnDataSource\n",
    "\n",
    "#generate the source data from the DataFrame\n",
    "sourceData = ColumnDataSource(\n",
    "  data = dict(\n",
    "      x=flowers['petal_length'],\n",
    "      y=flowers['petal_width'],\n",
    "      color=flowers['color'],\n",
    "      species=flowers['species'],\n",
    "      swidth=flowers['sepal_width'],\n",
    "      slength=flowers['sepal_length']\n",
    "    )\n",
    ")\n",
    "\n",
    "#specify what to display in the tooltip\n",
    "hover = HoverTool(\n",
    "  tooltips = [\n",
    "        ('species','@species'),\n",
    "        ('sepal width','@swidth'),\n",
    "        ('sepal length','@slength')\n",
    "    ]\n",
    ")\n",
    "\n",
    "tools = [BoxZoomTool(),ResetTool(),hover]\n",
    "\n",
    "plot = figure(title = \"Iris Morphology\", tools=tools)\n",
    "plot.xaxis.axis_label = 'Petal Length'\n",
    "plot.yaxis.axis_label = 'Petal Width'\n",
    "\n",
    "plot.circle(\n",
    "    x='x',\n",
    "    y='y',\n",
    "    color='color',\n",
    "    source=sourceData,\n",
    "    fill_alpha=0.2, size=10 )\n",
    "\n",
    "show(plot)"
   ]
  },
  {
   "cell_type": "markdown",
   "metadata": {},
   "source": [
    "## Taptool"
   ]
  },
  {
   "cell_type": "markdown",
   "metadata": {},
   "source": [
    "Sometimes we may want a tap event on a figure to open browser at a given URL\n",
    "TapTool uses the same @ notation to form a URL that is specific to the data being touched"
   ]
  },
  {
   "cell_type": "code",
   "execution_count": null,
   "metadata": {
    "collapsed": false
   },
   "outputs": [],
   "source": [
    "from bokeh.models import ColumnDataSource, OpenURL, TapTool\n",
    "from bokeh.plotting import figure, output_file, show\n",
    "\n",
    "output_file(\"tmp/openurl.html\")\n",
    "\n",
    "p = figure(plot_width=400, plot_height=400,\n",
    "           tools=\"tap\", title=\"Click the Dots\")\n",
    "\n",
    "source = ColumnDataSource(data=dict(\n",
    "    x=[1, 2, 3, 4, 5],\n",
    "    y=[2, 5, 8, 2, 7],\n",
    "    color=[\"navy\", \"orange\", \"olive\", \"firebrick\", \"gold\"]\n",
    "    ))\n",
    "\n",
    "p.circle('x', 'y', color='color', size=20, source=source)\n",
    "\n",
    "url = \"http://www.colors.commutercreative.com/@color/\"\n",
    "taptool = p.select(type=TapTool)\n",
    "taptool.callback = OpenURL(url=url)\n",
    "\n",
    "show(p)"
   ]
  }
 ],
 "metadata": {
  "continuum": {
   "depends": [
    "bo_figures"
   ],
   "requires": [
    "data/bokeh/*",
    "data/__init__.py"
   ],
   "tag": "bo_tools"
  },
  "kernelspec": {
   "display_name": "Python 3",
   "language": "python",
   "name": "python3"
  },
  "language_info": {
   "codemirror_mode": {
    "name": "ipython",
    "version": 3
   },
   "file_extension": ".py",
   "mimetype": "text/x-python",
   "name": "python",
   "nbconvert_exporter": "python",
   "pygments_lexer": "ipython3",
   "version": "3.4.4"
  }
 },
 "nbformat": 4,
 "nbformat_minor": 0
}
