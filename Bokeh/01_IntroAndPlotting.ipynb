{
 "cells": [
  {
   "cell_type": "markdown",
   "metadata": {},
   "source": [
    "# Table of Contents\n",
    "* [Learning Objectives:](#Learning-Objectives:)\n",
    "* [What is Bokeh?](#What-is-Bokeh?)\n",
    "\t* [Install Bokeh](#Install-Bokeh)\n",
    "\t* [Importing Bokeh modules](#Importing-Bokeh-modules)\n",
    "* [Key Concepts](#Key-Concepts)\n",
    "\t* [BokehJS](#BokehJS)\n",
    "\t* [Embedding](#Embedding)\n",
    "\t* [Interfaces](#Interfaces)\n",
    "\t\t* [Charts](#Charts)\n",
    "\t\t* [Plotting](#Plotting)\n",
    "\t\t* [Models](#Models)\n",
    "\t* [Bokeh Server](#Bokeh-Server)\n",
    "    * [Interacting with the PyData Stack](#Interacting-with-the-PyData-Stack)\n",
    "* [Plotting and Interactivity](#Plotting-and-Interactivity)\n",
    "\t* [Styling and Appearance](#Styling-and-Appearance)\n"
   ]
  },
  {
   "cell_type": "markdown",
   "metadata": {},
   "source": [
    "# Learning Objectives:"
   ]
  },
  {
   "cell_type": "markdown",
   "metadata": {},
   "source": [
    "After completion of this module, learners should be able to:\n",
    "\n",
    "* install and verify that Bokeh works in ipython notebooks"
   ]
  },
  {
   "cell_type": "markdown",
   "metadata": {},
   "source": [
    "The raw data sets used in this noteook are stored in the `data/bokeh/*` folder in this repository along with Python scripts to read the CSV or JSON files into appropriate data structures, such as Pandas DataFrames.\n",
    "\n",
    "Other topics not covered here\n",
    "* [Widgets](http://bokeh.pydata.org/en/latest/docs/user_guide/interaction.html#adding-widgets)    \n",
    "* [Javascript Callbacks](http://bokeh.pydata.org/en/latest/docs/user_guide/interaction.html#defining-callbacks)\n",
    "    * [Callback example](http://nbviewer.ipython.org/github/bokeh/bokeh-notebooks/blob/master/tutorial/A1%20-%20Building%20gapminder.ipynb)\n",
    "* [Bokeh Sever](http://bokeh.pydata.org/en/latest/docs/user_guide/server.html)\n",
    "    * [Sliders](http://bokeh.pydata.org/en/latest/docs/server_gallery/sliders_server.html)\n",
    "    * [Selections](http://bokeh.pydata.org/en/latest/docs/server_gallery/stocks_server.html)"
   ]
  },
  {
   "cell_type": "markdown",
   "metadata": {},
   "source": [
    "# What is Bokeh?"
   ]
  },
  {
   "cell_type": "markdown",
   "metadata": {},
   "source": [
    ">Bokeh is a Python interactive visualization library that targets modern web browsers for presentation. Its goal is to provide elegant, concise construction of novel graphics in the style of D3.js, but also deliver this capability with high-performance interactivity over very large or streaming datasets. Bokeh can help anyone who would like to quickly and easily create interactive plots, dashboards, and data applications.\n",
    "\n",
    "http://bokeh.pydata.org\n",
    "\n",
    "Caution: At the present time Bokeh is designed to generate web-based interactive plots. It may not be able to provide provide high resolution plot images in the way Matplotlib can."
   ]
  },
  {
   "cell_type": "markdown",
   "metadata": {},
   "source": [
    "<img src=\"img/bokeh_basic.svg\">"
   ]
  },
  {
   "cell_type": "markdown",
   "metadata": {},
   "source": [
    "<img src=\"img/bokeh_with_tentacles_2.svg\">"
   ]
  },
  {
   "cell_type": "markdown",
   "metadata": {},
   "source": [
    "## Install Bokeh"
   ]
  },
  {
   "cell_type": "markdown",
   "metadata": {},
   "source": [
    "On the command line run\n",
    "\n",
    "```bash\n",
    "% conda install bokeh=0.11\n",
    "% conda install pandas\n",
    "```"
   ]
  },
  {
   "cell_type": "markdown",
   "metadata": {},
   "source": [
    "This notebook is expected to run with Bokeh version 0.11 or greater"
   ]
  },
  {
   "cell_type": "markdown",
   "metadata": {},
   "source": [
    "## Importing Bokeh modules"
   ]
  },
  {
   "cell_type": "markdown",
   "metadata": {},
   "source": [
    "It is not recommended to import all of `bokeh` like we have done for other packages because the bokeh name space can be quite long. This notebook will import bokeh elements as needed."
   ]
  },
  {
   "cell_type": "markdown",
   "metadata": {},
   "source": [
    "Documentation is available from the [Bokeh reference guide](http://bokeh.pydata.org/en/latest/docs/reference.html)"
   ]
  },
  {
   "cell_type": "markdown",
   "metadata": {},
   "source": [
    "# Key Concepts"
   ]
  },
  {
   "cell_type": "markdown",
   "metadata": {},
   "source": [
    "## BokehJS"
   ]
  },
  {
   "cell_type": "markdown",
   "metadata": {},
   "source": [
    "The JavaScript client library that actually renders the visuals and handles the UI interactions for Bokeh plots and widgets in the browser."
   ]
  },
  {
   "cell_type": "markdown",
   "metadata": {},
   "source": [
    "## Embedding"
   ]
  },
  {
   "cell_type": "markdown",
   "metadata": {},
   "source": [
    "Various methods of including Bokeh plots and widgets into web apps and pages, or the IPython notebook. These methods are avialable in the `bokeh.io` module. The two most common methods are `output_file()` and `output_notebook()`.\n",
    "\n",
    "* The `output_notebook()` method works with `show()` to display the plot within an IPython notebook.\n",
    "\n",
    "\n",
    "* The `output_file()` method works with `save()` to generate a static HTML file. The data is saved with the plot to the HTML file.\n",
    "\n",
    "```\n",
    "from bokeh.io import output_file, save\n",
    "\n",
    "output_file('plot.html', 'Bokeh Plot')\n",
    "save(plot)\n",
    "```"
   ]
  },
  {
   "cell_type": "markdown",
   "metadata": {},
   "source": [
    "## Interfaces"
   ]
  },
  {
   "cell_type": "markdown",
   "metadata": {},
   "source": [
    "Bokeh provides three interfaces that alter how much data preparation has to be done and how automated the generation of Plot can be.\n",
    "\n",
    "It is important to remember that *everything* in Bokeh is an object. The rendered image will be referred to as a Plot. Bokeh plots comprise graphs of objects that represent all the different parts of the plot.\n",
    "\n",
    "This notebook will focus on using the Charts and Plotting interfaces."
   ]
  },
  {
   "cell_type": "markdown",
   "metadata": {},
   "source": [
    "### Charts"
   ]
  },
  {
   "cell_type": "markdown",
   "metadata": {},
   "source": [
    "A high-level interface called `bokeh.charts` to generate schematic statistical plots such as bar charts, horizon plots, time series, etc. that may include faceting, grouping, or stacking based on the structure of the data. \n",
    "\n",
    "Wherever possible, the interface is geared to be extremely simple to use in conjunction with Pandas, by accepting a DataFrame and names of columns directly to specify data."
   ]
  },
  {
   "cell_type": "markdown",
   "metadata": {},
   "source": [
    "### Plotting"
   ]
  },
  {
   "cell_type": "markdown",
   "metadata": {},
   "source": [
    "Glyphs are the basic visual building blocks of Bokeh plots, e.g. lines, rectangles, squares, wedges, patches, etc. provided in the `bokeh.plotting` interface. For more information about individual glyphs see the `bokeh._glyph_functions` member methods.\n",
    "\n",
    "The plotting interface can use Pandas objects as data sources, but Bokeh-specific `ColumnDataSource` object provides more interoperablity with Bokeh methods."
   ]
  },
  {
   "cell_type": "markdown",
   "metadata": {},
   "source": [
    "### Models"
   ]
  },
  {
   "cell_type": "markdown",
   "metadata": {},
   "source": [
    "The lowest-level objects that comprise Bokeh “scenegraphs”. Ultimately all Bokeh plots consist of collections of models."
   ]
  },
  {
   "cell_type": "markdown",
   "metadata": {},
   "source": [
    "## Bokeh Server"
   ]
  },
  {
   "cell_type": "markdown",
   "metadata": {},
   "source": [
    "The bokeh-server is an optional component that can be used for sharing and publishing Bokeh plots and apps, for handling streaming of large data sets, or for enabling sophisticated user interactions based off of widgets and selections."
   ]
  },
  {
   "cell_type": "markdown",
   "metadata": {},
   "source": [
    "## Interacting with the PyData Stack"
   ]
  },
  {
   "cell_type": "markdown",
   "metadata": {},
   "source": [
    "Bokeh can be used with the rest of the PyData Stack very easily. \n",
    "See [using a seaborn plot](http://bokeh.pydata.org/en/latest/docs/gallery/sinerror.html)"
   ]
  },
  {
   "cell_type": "markdown",
   "metadata": {},
   "source": [
    "# Plotting and Interactivity"
   ]
  },
  {
   "cell_type": "markdown",
   "metadata": {},
   "source": [
    "Even though plotting is considered a mid-level interface it provides a nice introduction to many of the concepts of Bokeh that we'll see in the high-level Charts interface in the next section."
   ]
  },
  {
   "cell_type": "code",
   "execution_count": null,
   "metadata": {
    "collapsed": false
   },
   "outputs": [],
   "source": [
    "from bokeh.io import output_notebook, show\n",
    "output_notebook()"
   ]
  },
  {
   "cell_type": "markdown",
   "metadata": {},
   "source": [
    "In the first example we are using `bokeh.plotting.figure` to make a Bokeh Plot and adding a `line` to the plot. The `line` function is called a glyph takes list of x and y coordiantes as input.\n",
    "\n",
    "* Bokeh uses [CSS Color Names](http://www.w3schools.com/cssref/css_colornames.asp)\n",
    "* A json file with color names and codes is provided at `bokdehData/colors.json`"
   ]
  },
  {
   "cell_type": "code",
   "execution_count": null,
   "metadata": {
    "collapsed": false,
    "scrolled": true
   },
   "outputs": [],
   "source": [
    "# set up some data\n",
    "import numpy as np\n",
    "\n",
    "x = np.linspace(0, 4*np.pi, 100)\n",
    "y = np.sin(x)\n",
    "\n",
    "#plot a line\n",
    "from bokeh.plotting import figure\n",
    "plot = figure()\n",
    "plot.line(x, y)\n",
    "show(plot)"
   ]
  },
  {
   "cell_type": "markdown",
   "metadata": {},
   "source": [
    "## Styling and Appearance"
   ]
  },
  {
   "cell_type": "markdown",
   "metadata": {},
   "source": [
    "Glpyhs are made of 'lines' and 'filled-areas'. Style arguments can be passed to any glyph as keywords. Here are the most common poperties.\n",
    "* Line properties: `line_color`, `line_alpha`, `line_width` and `line_dash`.\n",
    "* Fill properties: `fill_color` and `fill_alpha`\n",
    "\n",
    "The `line` and `circle` objects are called Glyphs (or markers) and several of them can be added to a figure.\n",
    "\n",
    "Axis labels are available using `xaxis` and `yaxis` members of the Figure object.\n",
    "\n",
    "Here's a few *essential* styling parameters to get started. More styling options will be present later."
   ]
  },
  {
   "cell_type": "code",
   "execution_count": null,
   "metadata": {
    "collapsed": false
   },
   "outputs": [],
   "source": [
    "from bokeh.plotting import figure\n",
    "import numpy as np\n",
    "\n",
    "x = np.linspace(0, 4*np.pi, 100)\n",
    "y = np.sin(x)\n",
    "\n",
    "\n",
    "plot = figure(title=\"Sine Function\")\n",
    "plot.xaxis.axis_label='x'\n",
    "plot.yaxis.axis_label='amplitude'\n",
    "\n",
    "\n",
    "plot.line(x, y, \n",
    "  line_color='blue',\n",
    "  line_width=2,\n",
    "  legend='sin(x)')\n",
    "\n",
    "plot.circle(x, 2*y, \n",
    "  fill_color='red',\n",
    "  line_color='black',\n",
    "  fill_alpha=0.2,\n",
    "  size=10,\n",
    "  legend='2sin(x)')\n",
    "\n",
    "#line_dash is an aribrary length list of lengths\n",
    "#alternating in [color, blank, color, ...]\n",
    "plot.line(x, np.sin(2*x),\n",
    "  line_color='green',\n",
    "  line_dash=[10,5,2,5], \n",
    "  line_width=2,\n",
    "  legend='sin(2x)')\n",
    "\n",
    "show(plot)"
   ]
  }
 ],
 "metadata": {
  "continuum": {
   "depends": [],
   "requires": [
    "img/bokeh_basic.svg",
    "img/bokeh_with_tentacles_2.svg",
    "data/bokeh/*"
   ],
   "tag": "bo_intro"
  },
  "kernelspec": {
   "display_name": "Python 3",
   "language": "python",
   "name": "python3"
  },
  "language_info": {
   "codemirror_mode": {
    "name": "ipython",
    "version": 3
   },
   "file_extension": ".py",
   "mimetype": "text/x-python",
   "name": "python",
   "nbconvert_exporter": "python",
   "pygments_lexer": "ipython3",
   "version": "3.5.1"
  }
 },
 "nbformat": 4,
 "nbformat_minor": 0
}
