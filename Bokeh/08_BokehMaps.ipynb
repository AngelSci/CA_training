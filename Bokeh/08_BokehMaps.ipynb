{
 "cells": [
  {
   "cell_type": "markdown",
   "metadata": {},
   "source": [
    "# Table of Contents\n",
    "* [This Bokeh maps example writes a script that can be used for making a standalone HTML file Google map](#This-Bokeh-maps-example-writes-a-script-that-can-be-used-for-making-a-standalone-HTML-file-Google-map)\n"
   ]
  },
  {
   "cell_type": "markdown",
   "metadata": {},
   "source": [
    "# This Bokeh maps example writes a script that can be used for making a standalone HTML file Google map"
   ]
  },
  {
   "cell_type": "markdown",
   "metadata": {},
   "source": [
    "```MapPlot``` has the plot options we have seen so far, as well as a ```map_options``` keyword argument that is used to:\n",
    "  * center the map, \n",
    "  * show the correct zoom level by default, \n",
    "  * and style the map."
   ]
  },
  {
   "cell_type": "code",
   "execution_count": null,
   "metadata": {
    "collapsed": false
   },
   "outputs": [],
   "source": [
    "%%file build_austin_map.py\n",
    "from __future__ import print_function\n",
    "\n",
    "from bokeh.browserlib import view\n",
    "from bokeh.document import Document\n",
    "from bokeh.embed import file_html\n",
    "from bokeh.models.glyphs import Circle\n",
    "from bokeh.models import (\n",
    "    GMapPlot, Range1d, ColumnDataSource,\n",
    "    PanTool, WheelZoomTool, BoxSelectTool,\n",
    "    BoxSelectionOverlay, GMapOptions)\n",
    "from bokeh.resources import INLINE\n",
    "\n",
    "x_range = Range1d()\n",
    "y_range = Range1d()\n",
    "\n",
    "# JSON style string taken from: https://snazzymaps.com/style/1/pale-dawn\n",
    "map_options = GMapOptions(lat=30.2861, lng=-97.7394, map_type=\"roadmap\", zoom=13, styles=\"\"\"\n",
    "[{\"featureType\":\"administrative\",\"elementType\":\"all\",\"stylers\":[{\"visibility\":\"on\"},{\"lightness\":33}]},{\"featureType\":\"landscape\",\"elementType\":\"all\",\"stylers\":[{\"color\":\"#f2e5d4\"}]},{\"featureType\":\"poi.park\",\"elementType\":\"geometry\",\"stylers\":[{\"color\":\"#c5dac6\"}]},{\"featureType\":\"poi.park\",\"elementType\":\"labels\",\"stylers\":[{\"visibility\":\"on\"},{\"lightness\":20}]},{\"featureType\":\"road\",\"elementType\":\"all\",\"stylers\":[{\"lightness\":20}]},{\"featureType\":\"road.highway\",\"elementType\":\"geometry\",\"stylers\":[{\"color\":\"#c5c6c6\"}]},{\"featureType\":\"road.arterial\",\"elementType\":\"geometry\",\"stylers\":[{\"color\":\"#e4d7c6\"}]},{\"featureType\":\"road.local\",\"elementType\":\"geometry\",\"stylers\":[{\"color\":\"#fbfaf7\"}]},{\"featureType\":\"water\",\"elementType\":\"all\",\"stylers\":[{\"visibility\":\"on\"},{\"color\":\"#acbcc9\"}]}]\n",
    "\"\"\")\n",
    "\n",
    "plot = GMapPlot(\n",
    "    x_range=x_range, y_range=y_range,\n",
    "    map_options=map_options,\n",
    "    title=\"Austin\"\n",
    ")\n",
    "\n",
    "source = ColumnDataSource(\n",
    "    data=dict(\n",
    "        lat=[30.2861, 30.2855, 30.2869],\n",
    "        lon=[-97.7394, -97.7390, -97.7405],\n",
    "        fill=['orange', 'blue', 'green']\n",
    "    )\n",
    ")\n",
    "\n",
    "circle = Circle(x=\"lon\", y=\"lat\", size=15, fill_color=\"fill\", line_color=\"black\")\n",
    "plot.add_glyph(source, circle)\n",
    "\n",
    "pan = PanTool()\n",
    "wheel_zoom = WheelZoomTool()\n",
    "box_select = BoxSelectTool()\n",
    "\n",
    "plot.add_tools(pan, wheel_zoom, box_select)\n",
    "overlay = BoxSelectionOverlay(tool=box_select)\n",
    "plot.add_layout(overlay)\n",
    "\n",
    "doc = Document()\n",
    "doc.add(plot)\n",
    "\n",
    "if __name__ == \"__main__\":\n",
    "    filename = \"maps.html\"\n",
    "    with open(filename, \"w\") as f:\n",
    "        f.write(file_html(doc, INLINE, \"Google Maps Example\"))\n",
    "    print(\"Wrote %s\" % filename)\n",
    "    view(filename)\n"
   ]
  },
  {
   "cell_type": "code",
   "execution_count": null,
   "metadata": {
    "collapsed": false
   },
   "outputs": [],
   "source": [
    "!python build_austin_map.py"
   ]
  }
 ],
 "metadata": {
  "continuum": {
   "depends": [
    "bo_models",
    "bo_layout"
   ],
   "requires": [
    "data/bokeh/*",
    "data/__init__.py"
   ],
   "tag": "bo_maps"
  },
  "kernelspec": {
   "display_name": "Python 3",
   "language": "python",
   "name": "python3"
  },
  "language_info": {
   "codemirror_mode": {
    "name": "ipython",
    "version": 3
   },
   "file_extension": ".py",
   "mimetype": "text/x-python",
   "name": "python",
   "nbconvert_exporter": "python",
   "pygments_lexer": "ipython3",
   "version": "3.4.3"
  }
 },
 "nbformat": 4,
 "nbformat_minor": 0
}
