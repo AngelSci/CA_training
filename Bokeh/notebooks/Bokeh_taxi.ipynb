{
 "cells": [
  {
   "cell_type": "markdown",
   "metadata": {},
   "source": [
    "# Table of Contents\n",
    "* [Taxi data](#Taxi-data)\n",
    "\t* [colorbar](#colorbar)\n"
   ]
  },
  {
   "cell_type": "markdown",
   "metadata": {},
   "source": [
    "# Taxi data"
   ]
  },
  {
   "cell_type": "code",
   "execution_count": null,
   "metadata": {
    "collapsed": false
   },
   "outputs": [],
   "source": [
    "import pandas as pd\n",
    "import numpy as np\n",
    "from bokeh.io import output_notebook, show\n",
    "output_notebook()"
   ]
  },
  {
   "cell_type": "code",
   "execution_count": null,
   "metadata": {
    "collapsed": false
   },
   "outputs": [],
   "source": [
    "taxi = pd.read_csv('data/April1.csv')\n",
    "\n",
    "# taxi = pd.read_csv('../../data/Datashader/nyc_taxi.csv')\n",
    "\n",
    "taxi.head()"
   ]
  },
  {
   "cell_type": "code",
   "execution_count": null,
   "metadata": {
    "collapsed": false
   },
   "outputs": [],
   "source": [
    "taxi.shape"
   ]
  },
  {
   "cell_type": "markdown",
   "metadata": {},
   "source": [
    "What is the distribution of rides per passenger count?"
   ]
  },
  {
   "cell_type": "code",
   "execution_count": null,
   "metadata": {
    "collapsed": false
   },
   "outputs": [],
   "source": [
    "taxi['passenger_count'].value_counts()"
   ]
  },
  {
   "cell_type": "markdown",
   "metadata": {},
   "source": [
    "Let's plot the pickup location for all taxi rides on a Stamen Terrain"
   ]
  },
  {
   "cell_type": "code",
   "execution_count": null,
   "metadata": {
    "collapsed": false
   },
   "outputs": [],
   "source": [
    "from pyproj import Proj, transform\n",
    "input_proj = Proj(init='EPSG:4326')\n",
    "output_proj = Proj(init='EPSG:3857')\n",
    "taxi['pickup_x'], taxi['pickup_y'] = transform(input_proj, output_proj, taxi.pickup_longitude.values, taxi.pickup_latitude.values)"
   ]
  },
  {
   "cell_type": "markdown",
   "metadata": {},
   "source": [
    "And color the glyphs by the number of passengers."
   ]
  },
  {
   "cell_type": "code",
   "execution_count": null,
   "metadata": {
    "collapsed": true
   },
   "outputs": [],
   "source": [
    "ranges = {\n",
    "    'x_range':(-8236013,-8234013),\n",
    "    'y_range':(4971883,4981883)\n",
    "}"
   ]
  },
  {
   "cell_type": "markdown",
   "metadata": {},
   "source": [
    "The whole data set is too large to plot with Bokeh."
   ]
  },
  {
   "cell_type": "code",
   "execution_count": null,
   "metadata": {
    "collapsed": true
   },
   "outputs": [],
   "source": [
    "from bokeh.models import ColumnDataSource\n",
    "source = ColumnDataSource(taxi.sample(2000, random_state=1981))"
   ]
  },
  {
   "cell_type": "code",
   "execution_count": null,
   "metadata": {
    "collapsed": false
   },
   "outputs": [],
   "source": [
    "from bokeh.plotting import figure\n",
    "from bokeh.tile_providers import STAMEN_TONER\n",
    "\n",
    "plot = figure(**ranges, plot_width=900)\n",
    "plot.background_fill_color = 'black'\n",
    "# plot.grid.visible = False\n",
    "plot.grid.grid_line_alpha = 0\n",
    "plot.axis.visible = False\n",
    "plot.add_tile(STAMEN_TONER, alpha=.3)\n",
    "plot.circle(x='pickup_x', y='pickup_y', alpha=0.2, size=7, color='aqua', source=source)\n",
    "\n",
    "show(plot)"
   ]
  },
  {
   "cell_type": "markdown",
   "metadata": {},
   "source": [
    "## colorbar"
   ]
  },
  {
   "cell_type": "markdown",
   "metadata": {},
   "source": [
    "<div class='alert alert-success'>\n",
    "<img src='img/topics/Advanced-Concept.png' align='left' style='padding:10x'>\n",
    "<br>\n",
    "<big>\n",
    "Color each circle by the number of passengers and add a color bar.\n",
    "</big>\n",
    "<br><br>\n",
    "</div>"
   ]
  },
  {
   "cell_type": "code",
   "execution_count": null,
   "metadata": {
    "collapsed": false
   },
   "outputs": [],
   "source": [
    "from bokeh.palettes import RdYlBu8\n",
    "taxi['color'] = taxi['passenger_count'].map({i:c for i,c in enumerate(RdYlBu8)})\n",
    "source = ColumnDataSource(taxi.sample(2000, random_state=1981))"
   ]
  },
  {
   "cell_type": "code",
   "execution_count": null,
   "metadata": {
    "collapsed": false
   },
   "outputs": [],
   "source": [
    "from bokeh.layouts import column\n",
    "\n",
    "plot = figure(**ranges, plot_width=900)\n",
    "\n",
    "plot.add_tile(STAMEN_TONER, alpha=.5)\n",
    "plot.background_fill_color = 'black'\n",
    "plot.circle(x='pickup_x', y='pickup_y', alpha=0.6, size=7, color='color', source=source)\n",
    "# plot.grid.visible = False\n",
    "plot.grid.grid_line_alpha = 0\n",
    "plot.axis.visible = False\n",
    "\n",
    "# include a color bar\n",
    "legend = figure(plot_height=120, plot_width=900)\n",
    "legend.title.text = 'Passenger count'\n",
    "legend.toolbar_location=None\n",
    "legend.rect(y=0.5,\n",
    "            x='passenger_count',\n",
    "            width=1, height=1,\n",
    "            fill_color='color',\n",
    "            source=source)\n",
    "\n",
    "legend.xgrid.grid_line_color = None\n",
    "legend.ygrid.grid_line_color = None\n",
    "legend.yaxis.major_label_text_font_size = '0pt'\n",
    "legend.yaxis.major_tick_line_color = None\n",
    "legend.yaxis.minor_tick_line_color = None\n",
    "legend.xaxis.minor_tick_line_color = None\n",
    "layout = column(plot, legend)\n",
    "\n",
    "show(layout)"
   ]
  },
  {
   "cell_type": "markdown",
   "metadata": {},
   "source": [
    "----\n",
    "<a href='./Bokeh_layout.ipynb' class='btn btn-primary'>Layout</a>"
   ]
  }
 ],
 "metadata": {
  "anaconda-cloud": {},
  "continuum": {
   "depends": [],
   "requires": [
    "data/April1.csv"
   ],
   "tag": "bo_taxi"
  },
  "kernelspec": {
   "display_name": "Python [conda env:iqt]",
   "language": "python",
   "name": "conda-env-iqt-py"
  },
  "language_info": {
   "codemirror_mode": {
    "name": "ipython",
    "version": 3
   },
   "file_extension": ".py",
   "mimetype": "text/x-python",
   "name": "python",
   "nbconvert_exporter": "python",
   "pygments_lexer": "ipython3",
   "version": "3.5.2"
  }
 },
 "nbformat": 4,
 "nbformat_minor": 0
}
