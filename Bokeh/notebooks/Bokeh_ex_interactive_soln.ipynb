{
 "cells": [
  {
   "cell_type": "markdown",
   "metadata": {},
   "source": [
    "<img src='../../img/anaconda-logo.png' align='left' style=\"padding:10px\">\n",
    "<br>\n",
    "*Copyright Continuum 2012-2016 All Rights Reserved.*"
   ]
  },
  {
   "cell_type": "markdown",
   "metadata": {},
   "source": [
    "# Bokeh Exercise: tools"
   ]
  },
  {
   "cell_type": "markdown",
   "metadata": {},
   "source": [
    "## Table of Contents\n",
    "* [Bokeh Exercise: tools](#Bokeh-Exercise:-tools)\n",
    "\t* [Set-Up](#Set-Up)\n",
    "* [Exercise](#Exercise)\n",
    "* [Solution](#Solution)\n",
    "\t* [colors](#colors)\n",
    "\t* [tools](#tools)\n",
    "\t* [plot](#plot)\n"
   ]
  },
  {
   "cell_type": "markdown",
   "metadata": {},
   "source": [
    "## Set-Up"
   ]
  },
  {
   "cell_type": "code",
   "execution_count": null,
   "metadata": {
    "collapsed": true
   },
   "outputs": [],
   "source": [
    "import pandas as pd\n",
    "import numpy as np\n",
    "from bokeh.sampledata.sprint import sprint"
   ]
  },
  {
   "cell_type": "markdown",
   "metadata": {},
   "source": [
    "# Exercise"
   ]
  },
  {
   "cell_type": "markdown",
   "metadata": {},
   "source": [
    "Using the 100 meter sprint data set from the Bokeh sample data plot\n",
    "* the *year vs time* for each olympic sprinter \n",
    "* color each glyph by the medal awarded\n",
    "* include a Hover Tool to display the name, year, time and medal awarded for each sprinter\n",
    "* add appropriate axes labels and figure title\n",
    "\n",
    "**Challenge**\n",
    "* Restrict the Pan and Zoom tools to only zoom along the X axis. See [tools documentation](http://bokeh.pydata.org/en/latest/docs/user_guide/tools.html#specifying-tools)\n",
    "* Use the [FixedTicker](http://bokeh.pydata.org/en/latest/docs/user_guide/styling.html#fixedticker) function to display years that align with Olympic games"
   ]
  },
  {
   "cell_type": "code",
   "execution_count": null,
   "metadata": {
    "collapsed": false
   },
   "outputs": [],
   "source": [
    "sprint.head()"
   ]
  },
  {
   "cell_type": "markdown",
   "metadata": {},
   "source": [
    "# Solution"
   ]
  },
  {
   "cell_type": "code",
   "execution_count": null,
   "metadata": {
    "collapsed": false
   },
   "outputs": [],
   "source": [
    "from bokeh.io import output_notebook, show\n",
    "output_notebook()"
   ]
  },
  {
   "cell_type": "markdown",
   "metadata": {},
   "source": [
    "## colors"
   ]
  },
  {
   "cell_type": "code",
   "execution_count": null,
   "metadata": {
    "collapsed": true
   },
   "outputs": [],
   "source": [
    "from bokeh.plotting import figure\n",
    "from bokeh.models import ColumnDataSource"
   ]
  },
  {
   "cell_type": "code",
   "execution_count": null,
   "metadata": {
    "collapsed": false
   },
   "outputs": [],
   "source": [
    "sprint['color'] = sprint['Medal'].map({'GOLD':'goldenrod', 'SILVER':'silver', 'BRONZE':'saddlebrown'})\n",
    "source = ColumnDataSource(sprint)"
   ]
  },
  {
   "cell_type": "markdown",
   "metadata": {},
   "source": [
    "## tools"
   ]
  },
  {
   "cell_type": "code",
   "execution_count": null,
   "metadata": {
    "collapsed": true
   },
   "outputs": [],
   "source": [
    "from bokeh.models import HoverTool, WheelZoomTool, ResetTool, PanTool\n",
    "from bokeh.models import FixedTicker"
   ]
  },
  {
   "cell_type": "code",
   "execution_count": null,
   "metadata": {
    "collapsed": true
   },
   "outputs": [],
   "source": [
    "hover = HoverTool(tooltips=\n",
    "                 [\n",
    "        ('Name', '@Name'),\n",
    "        ('Year', '@Year'),\n",
    "        ('Time', '@Time'),\n",
    "        ('Medal', '@Medal')\n",
    "    ])\n",
    "\n",
    "tools=[hover, PanTool(dimensions=['width']), WheelZoomTool(dimensions=['width']), ResetTool()]"
   ]
  },
  {
   "cell_type": "markdown",
   "metadata": {},
   "source": [
    "## plot"
   ]
  },
  {
   "cell_type": "code",
   "execution_count": null,
   "metadata": {
    "collapsed": false
   },
   "outputs": [],
   "source": [
    "plot = figure(tools=tools)\n",
    "plot.circle('Time', 'Year', size=10, alpha=0.3, fill_color='color', line_color=None, source=source)\n",
    "plot.circle('Time', 'Year', size=10, alpha=0.7, fill_color=None,    line_color='color', source=source)\n",
    "\n",
    "plot.title.text = '100 Meter Sprint'\n",
    "plot.xaxis.axis_label = 'Time (seconds)'\n",
    "plot.yaxis.axis_label = 'Year'\n",
    "\n",
    "plot.yaxis.ticker = FixedTicker(ticks=np.arange(1896, 2018, 8))\n",
    "\n",
    "show(plot)"
   ]
  },
  {
   "cell_type": "markdown",
   "metadata": {},
   "source": [
    "---\n",
    "*Copyright Continuum 2012-2016 All Rights Reserved.*"
   ]
  }
 ],
 "metadata": {
  "anaconda-cloud": {},
  "kernelspec": {
   "display_name": "Python [conda env:iqt]",
   "language": "python",
   "name": "conda-env-iqt-py"
  },
  "language_info": {
   "codemirror_mode": {
    "name": "ipython",
    "version": 3
   },
   "file_extension": ".py",
   "mimetype": "text/x-python",
   "name": "python",
   "nbconvert_exporter": "python",
   "pygments_lexer": "ipython3",
   "version": "3.5.2"
  }
 },
 "nbformat": 4,
 "nbformat_minor": 0
}
