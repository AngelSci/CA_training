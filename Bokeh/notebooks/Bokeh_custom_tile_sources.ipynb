{
 "cells": [
  {
   "cell_type": "markdown",
   "metadata": {},
   "source": [
    "<img src='../../img/anaconda-logo.png' align='left' style=\"padding:10px\">\n",
    "<br>\n",
    "*Copyright Continuum 2012-2016 All Rights Reserved.*"
   ]
  },
  {
   "cell_type": "markdown",
   "metadata": {},
   "source": [
    "# Map Tile Sources"
   ]
  },
  {
   "cell_type": "markdown",
   "metadata": {},
   "source": [
    "When creating interactive visualizations involving plotting data on maps, it can be extremely useful to use tiled maps. There are trade-offs in using tiles that are important to consider:\n",
    "\n",
    "* Bringing down multiple tiles from a web-service can be slow\n",
    "* Panning allows you to bring down only a small number of tiles can make things fast"
   ]
  },
  {
   "cell_type": "markdown",
   "metadata": {},
   "source": [
    "Online sources of such map tiles are called [tiled map services](https://en.wikipedia.org/wiki/Tile_Map_Service)"
   ]
  },
  {
   "cell_type": "markdown",
   "metadata": {},
   "source": [
    "> *\"A [tiled web map](https://en.wikipedia.org/wiki/Tiled_web_map), or raster tile map, is a map displayed in a browser by seamlessly joining dozens of individually requested image files over the internet.\"*"
   ]
  },
  {
   "cell_type": "markdown",
   "metadata": {},
   "source": [
    "In this lesson, we look at consuming map tiles from several popular tiled map services, all of which use the [Web Mercator](https://en.wikipedia.org/wiki/Web_Mercator) map projection. "
   ]
  },
  {
   "cell_type": "markdown",
   "metadata": {},
   "source": [
    "> *\"**Web Mercator, Google Web Mercator, Spherical Mercator, WGS 84 Web Mercator[1] or WGS 84/Pseudo-Mercator** is a variation of the Mercator projection and is the **de facto standard for Web mapping applications.** It rose to prominence when used in the first Google Maps in 2005. It is used by virtually all major online map providers, including Google Maps, Bing Maps, OpenStreetMap, Mapquest, Esri, Mapbox, and many others.[2] Its official [EPSG identifier is EPSG:3857](https://en.wikipedia.org/wiki/International_Association_of_Oil_%26_Gas_Producers#European_Petroleum_Survey_Group), although others have been used historically.\"*"
   ]
  },
  {
   "cell_type": "markdown",
   "metadata": {},
   "source": [
    "Map Tile Service terms:\n",
    "\n",
    "* [WMTS](https://en.wikipedia.org/wiki/Web_Map_Tile_Service) = Web Map Tile Service specification (y-origin upper left)\n",
    "* TMS = Tile Map Service specification (y-origin bottom left)\n",
    "* OGC = Open Geospatial Consortium, defines standards\n",
    "* EPSG = European Petroleum Survey Group\n",
    "* [SRID]( https://en.wikipedia.org/wiki/Spatial_reference_system#Identifier) = Spatial Reference System Identifier\n",
    "* [WGS84](https://en.wikipedia.org/wiki/World_Geodetic_System) = World Geodetic System, revision 1984, also designated by SRID \"EPSG:4326\" "
   ]
  },
  {
   "cell_type": "markdown",
   "metadata": {},
   "source": [
    "## Table of Contents\n",
    "* [Map Tile Sources](#Map-Tile-Sources)\n",
    "\t* [Set-Up](#Set-Up)\n",
    "* [Map Tile Service Examples](#Map-Tile-Service-Examples)\n",
    "\t* [Open Street Map](#Open-Street-Map)\n",
    "\t* [ArcGIS Server / ArcGIS Online](#ArcGIS-Server-/-ArcGIS-Online)\n",
    "\t* [Google Maps](#Google-Maps)\n",
    "\t* [Microsoft Bing Maps](#Microsoft-Bing-Maps)\n",
    "\t* [Yandex Maps Example](#Yandex-Maps-Example)\n",
    "\t* [GeoServer WMS Service Example](#GeoServer-WMS-Service-Example)\n",
    "* [Using Multiple Tiles](#Using-Multiple-Tiles)\n",
    "\t* [Map Sandwich](#Map-Sandwich)\n"
   ]
  },
  {
   "cell_type": "markdown",
   "metadata": {},
   "source": [
    "## Set-Up"
   ]
  },
  {
   "cell_type": "code",
   "execution_count": 1,
   "metadata": {
    "collapsed": false
   },
   "outputs": [
    {
     "data": {
      "text/html": [
       "\n",
       "    <div class=\"bk-root\">\n",
       "        <a href=\"http://bokeh.pydata.org\" target=\"_blank\" class=\"bk-logo bk-logo-small bk-logo-notebook\"></a>\n",
       "        <span id=\"ee23252d-f91d-4509-967d-df4bde27be51\">Loading BokehJS ...</span>\n",
       "    </div>"
      ]
     },
     "metadata": {},
     "output_type": "display_data"
    },
    {
     "data": {
      "application/javascript": [
       "\n",
       "(function(global) {\n",
       "  function now() {\n",
       "    return new Date();\n",
       "  }\n",
       "\n",
       "  var force = \"1\";\n",
       "\n",
       "  if (typeof (window._bokeh_onload_callbacks) === \"undefined\" || force !== \"\") {\n",
       "    window._bokeh_onload_callbacks = [];\n",
       "    window._bokeh_is_loading = undefined;\n",
       "  }\n",
       "\n",
       "  function run_callbacks() {\n",
       "    window._bokeh_onload_callbacks.forEach(function(callback) { callback() });\n",
       "    delete window._bokeh_onload_callbacks\n",
       "    console.info(\"Bokeh: all callbacks have finished\");\n",
       "  }\n",
       "\n",
       "  function load_libs(js_urls, callback) {\n",
       "    window._bokeh_onload_callbacks.push(callback);\n",
       "    if (window._bokeh_is_loading > 0) {\n",
       "      console.log(\"Bokeh: BokehJS is being loaded, scheduling callback at\", now());\n",
       "      return null;\n",
       "    }\n",
       "    if (js_urls == null || js_urls.length === 0) {\n",
       "      run_callbacks();\n",
       "      return null;\n",
       "    }\n",
       "    console.log(\"Bokeh: BokehJS not loaded, scheduling load and callback at\", now());\n",
       "    window._bokeh_is_loading = js_urls.length;\n",
       "    for (var i = 0; i < js_urls.length; i++) {\n",
       "      var url = js_urls[i];\n",
       "      var s = document.createElement('script');\n",
       "      s.src = url;\n",
       "      s.async = false;\n",
       "      s.onreadystatechange = s.onload = function() {\n",
       "        window._bokeh_is_loading--;\n",
       "        if (window._bokeh_is_loading === 0) {\n",
       "          console.log(\"Bokeh: all BokehJS libraries loaded\");\n",
       "          run_callbacks()\n",
       "        }\n",
       "      };\n",
       "      s.onerror = function() {\n",
       "        console.warn(\"failed to load library \" + url);\n",
       "      };\n",
       "      console.log(\"Bokeh: injecting script tag for BokehJS library: \", url);\n",
       "      document.getElementsByTagName(\"head\")[0].appendChild(s);\n",
       "    }\n",
       "  };\n",
       "\n",
       "  var js_urls = ['https://cdn.pydata.org/bokeh/release/bokeh-0.12.1.min.js', 'https://cdn.pydata.org/bokeh/release/bokeh-widgets-0.12.1.min.js', 'https://cdn.pydata.org/bokeh/release/bokeh-compiler-0.12.1.min.js'];\n",
       "\n",
       "  var inline_js = [\n",
       "    function(Bokeh) {\n",
       "      Bokeh.set_log_level(\"info\");\n",
       "    },\n",
       "    \n",
       "    function(Bokeh) {\n",
       "      \n",
       "      Bokeh.$(\"#ee23252d-f91d-4509-967d-df4bde27be51\").text(\"BokehJS successfully loaded\");\n",
       "      var kernel = Jupyter.notebook.kernel\n",
       "      if (kernel.execute !== undefined) {\n",
       "          kernel.execute(\"import bokeh.io; bokeh.io._nb_loaded = True\");\n",
       "      }\n",
       "    },\n",
       "    function(Bokeh) {\n",
       "      console.log(\"Bokeh: injecting CSS: https://cdn.pydata.org/bokeh/release/bokeh-0.12.1.min.css\");\n",
       "      Bokeh.embed.inject_css(\"https://cdn.pydata.org/bokeh/release/bokeh-0.12.1.min.css\");\n",
       "      console.log(\"Bokeh: injecting CSS: https://cdn.pydata.org/bokeh/release/bokeh-widgets-0.12.1.min.css\");\n",
       "      Bokeh.embed.inject_css(\"https://cdn.pydata.org/bokeh/release/bokeh-widgets-0.12.1.min.css\");\n",
       "    }\n",
       "  ];\n",
       "\n",
       "  function run_inline_js() {\n",
       "    for (var i = 0; i < inline_js.length; i++) {\n",
       "      inline_js[i](window.Bokeh);\n",
       "    }\n",
       "  }\n",
       "\n",
       "  if (window._bokeh_is_loading === 0) {\n",
       "    console.log(\"Bokeh: BokehJS loaded, going straight to plotting\");\n",
       "    run_inline_js();\n",
       "  } else {\n",
       "    load_libs(js_urls, function() {\n",
       "      console.log(\"Bokeh: BokehJS plotting callback run at\", now());\n",
       "      run_inline_js();\n",
       "    });\n",
       "  }\n",
       "}(this));"
      ]
     },
     "metadata": {},
     "output_type": "display_data"
    }
   ],
   "source": [
    "from bokeh.models import Range1d\n",
    "from bokeh.io import output_notebook, show\n",
    "from bokeh.plotting import figure\n",
    "\n",
    "output_notebook()"
   ]
  },
  {
   "cell_type": "code",
   "execution_count": 2,
   "metadata": {
    "collapsed": true
   },
   "outputs": [],
   "source": [
    "x_range = Range1d(-10e6, 10e6)\n",
    "y_range = Range1d(-10e6, 10e6)"
   ]
  },
  {
   "cell_type": "markdown",
   "metadata": {},
   "source": [
    "# Map Tile Service Examples"
   ]
  },
  {
   "cell_type": "markdown",
   "metadata": {},
   "source": [
    "## Open Street Map"
   ]
  },
  {
   "cell_type": "markdown",
   "metadata": {},
   "source": [
    "- Open Street Map Template:\n",
    "http://{SERVER}/{ZOOM_LEVEL}/{COLUMN}/{ROW}.png\n",
    "- Open Street Map Example:\n",
    "http://c.tile.openstreetmap.org/4/2/6.png"
   ]
  },
  {
   "cell_type": "markdown",
   "metadata": {},
   "source": [
    "Here we demonstrate how to use a \"tile template\" for a tile URL of the form `/{Z}/{X}/{Y}`. This addressing template format depends on the particular website or service."
   ]
  },
  {
   "cell_type": "code",
   "execution_count": 3,
   "metadata": {
    "collapsed": false,
    "scrolled": false
   },
   "outputs": [
    {
     "data": {
      "text/html": [
       "\n",
       "\n",
       "    <div class=\"bk-root\">\n",
       "        <div class=\"plotdiv\" id=\"9279d5b2-5c4a-4150-b345-1e5d3fdf9f08\"></div>\n",
       "    </div>\n",
       "<script type=\"text/javascript\">\n",
       "  \n",
       "  (function(global) {\n",
       "    function now() {\n",
       "      return new Date();\n",
       "    }\n",
       "  \n",
       "    var force = \"\";\n",
       "  \n",
       "    if (typeof (window._bokeh_onload_callbacks) === \"undefined\" || force !== \"\") {\n",
       "      window._bokeh_onload_callbacks = [];\n",
       "      window._bokeh_is_loading = undefined;\n",
       "    }\n",
       "  \n",
       "    function run_callbacks() {\n",
       "      window._bokeh_onload_callbacks.forEach(function(callback) { callback() });\n",
       "      delete window._bokeh_onload_callbacks\n",
       "      console.info(\"Bokeh: all callbacks have finished\");\n",
       "    }\n",
       "  \n",
       "    function load_libs(js_urls, callback) {\n",
       "      window._bokeh_onload_callbacks.push(callback);\n",
       "      if (window._bokeh_is_loading > 0) {\n",
       "        console.log(\"Bokeh: BokehJS is being loaded, scheduling callback at\", now());\n",
       "        return null;\n",
       "      }\n",
       "      if (js_urls == null || js_urls.length === 0) {\n",
       "        run_callbacks();\n",
       "        return null;\n",
       "      }\n",
       "      console.log(\"Bokeh: BokehJS not loaded, scheduling load and callback at\", now());\n",
       "      window._bokeh_is_loading = js_urls.length;\n",
       "      for (var i = 0; i < js_urls.length; i++) {\n",
       "        var url = js_urls[i];\n",
       "        var s = document.createElement('script');\n",
       "        s.src = url;\n",
       "        s.async = false;\n",
       "        s.onreadystatechange = s.onload = function() {\n",
       "          window._bokeh_is_loading--;\n",
       "          if (window._bokeh_is_loading === 0) {\n",
       "            console.log(\"Bokeh: all BokehJS libraries loaded\");\n",
       "            run_callbacks()\n",
       "          }\n",
       "        };\n",
       "        s.onerror = function() {\n",
       "          console.warn(\"failed to load library \" + url);\n",
       "        };\n",
       "        console.log(\"Bokeh: injecting script tag for BokehJS library: \", url);\n",
       "        document.getElementsByTagName(\"head\")[0].appendChild(s);\n",
       "      }\n",
       "    };var element = document.getElementById(\"9279d5b2-5c4a-4150-b345-1e5d3fdf9f08\");\n",
       "    if (element == null) {\n",
       "      console.log(\"Bokeh: ERROR: autoload.js configured with elementid '9279d5b2-5c4a-4150-b345-1e5d3fdf9f08' but no matching script tag was found. \")\n",
       "      return false;\n",
       "    }\n",
       "  \n",
       "    var js_urls = [];\n",
       "  \n",
       "    var inline_js = [\n",
       "      function(Bokeh) {\n",
       "        Bokeh.$(function() {\n",
       "            var docs_json = {\"09581529-0097-434a-9ece-77d3bb9e5ac4\":{\"roots\":{\"references\":[{\"attributes\":{\"plot\":{\"id\":\"f8a3d0e5-6107-48ad-8d26-cc3ed958517b\",\"subtype\":\"Figure\",\"type\":\"Plot\"}},\"id\":\"dddeb69a-c709-449c-a1b6-703abca34af4\",\"type\":\"ResetTool\"},{\"attributes\":{\"plot\":{\"id\":\"f8a3d0e5-6107-48ad-8d26-cc3ed958517b\",\"subtype\":\"Figure\",\"type\":\"Plot\"}},\"id\":\"8b56e770-fb3a-41c9-98d0-b32bc7276c6a\",\"type\":\"PanTool\"},{\"attributes\":{\"formatter\":{\"id\":\"f54b6b88-bb40-4960-a825-98052836df57\",\"type\":\"BasicTickFormatter\"},\"plot\":{\"id\":\"f8a3d0e5-6107-48ad-8d26-cc3ed958517b\",\"subtype\":\"Figure\",\"type\":\"Plot\"},\"ticker\":{\"id\":\"f5dc3888-ebc0-498a-82fd-3c423b40b6ec\",\"type\":\"BasicTicker\"},\"visible\":false},\"id\":\"960d2421-77f3-4272-8727-2e5ad26cd070\",\"type\":\"LinearAxis\"},{\"attributes\":{},\"id\":\"c287867c-6854-4cab-b9ac-3c7babac5ce4\",\"type\":\"BasicTicker\"},{\"attributes\":{\"bottom_units\":\"screen\",\"fill_alpha\":{\"value\":0.5},\"fill_color\":{\"value\":\"lightgrey\"},\"left_units\":\"screen\",\"level\":\"overlay\",\"line_alpha\":{\"value\":1.0},\"line_color\":{\"value\":\"black\"},\"line_dash\":[4,4],\"line_width\":{\"value\":2},\"plot\":null,\"render_mode\":\"css\",\"right_units\":\"screen\",\"top_units\":\"screen\"},\"id\":\"6e543ae0-1735-4b0d-8a26-ba335e89db10\",\"type\":\"BoxAnnotation\"},{\"attributes\":{\"callback\":null,\"end\":10000000.0,\"start\":-10000000.0},\"id\":\"904c50f6-b480-4410-879a-1cbbe3ca74e6\",\"type\":\"Range1d\"},{\"attributes\":{},\"id\":\"0af14206-fc64-4b4f-b15f-308ec681c52b\",\"type\":\"ToolEvents\"},{\"attributes\":{\"below\":[{\"id\":\"de2de9e8-d1b4-4fd8-8a9e-8fa1216558c0\",\"type\":\"LinearAxis\"}],\"left\":[{\"id\":\"960d2421-77f3-4272-8727-2e5ad26cd070\",\"type\":\"LinearAxis\"}],\"plot_width\":900,\"renderers\":[{\"id\":\"de2de9e8-d1b4-4fd8-8a9e-8fa1216558c0\",\"type\":\"LinearAxis\"},{\"id\":\"203172c5-f096-4f6c-ba59-a9a1ce18bddb\",\"type\":\"Grid\"},{\"id\":\"960d2421-77f3-4272-8727-2e5ad26cd070\",\"type\":\"LinearAxis\"},{\"id\":\"862353e5-ac2c-45a2-a93b-ac70f8f1b117\",\"type\":\"Grid\"},{\"id\":\"6e543ae0-1735-4b0d-8a26-ba335e89db10\",\"type\":\"BoxAnnotation\"},{\"id\":\"1c613fea-be79-4070-af64-b55c78f67480\",\"type\":\"TileRenderer\"}],\"title\":{\"id\":\"025e24cd-dfcb-4292-b5ae-9c5c10b1046f\",\"type\":\"Title\"},\"tool_events\":{\"id\":\"0af14206-fc64-4b4f-b15f-308ec681c52b\",\"type\":\"ToolEvents\"},\"toolbar\":{\"id\":\"85d171db-c831-4018-8b13-a8bab267c7d0\",\"type\":\"Toolbar\"},\"x_range\":{\"id\":\"904c50f6-b480-4410-879a-1cbbe3ca74e6\",\"type\":\"Range1d\"},\"y_range\":{\"id\":\"a3567067-29de-4126-aca4-1f6436bf6518\",\"type\":\"Range1d\"}},\"id\":\"f8a3d0e5-6107-48ad-8d26-cc3ed958517b\",\"subtype\":\"Figure\",\"type\":\"Plot\"},{\"attributes\":{},\"id\":\"f54b6b88-bb40-4960-a825-98052836df57\",\"type\":\"BasicTickFormatter\"},{\"attributes\":{\"plot\":{\"id\":\"f8a3d0e5-6107-48ad-8d26-cc3ed958517b\",\"subtype\":\"Figure\",\"type\":\"Plot\"},\"ticker\":{\"id\":\"c287867c-6854-4cab-b9ac-3c7babac5ce4\",\"type\":\"BasicTicker\"}},\"id\":\"203172c5-f096-4f6c-ba59-a9a1ce18bddb\",\"type\":\"Grid\"},{\"attributes\":{\"callback\":null,\"end\":10000000.0,\"start\":-10000000.0},\"id\":\"a3567067-29de-4126-aca4-1f6436bf6518\",\"type\":\"Range1d\"},{\"attributes\":{\"plot\":null,\"text\":null},\"id\":\"025e24cd-dfcb-4292-b5ae-9c5c10b1046f\",\"type\":\"Title\"},{\"attributes\":{\"dimension\":1,\"plot\":{\"id\":\"f8a3d0e5-6107-48ad-8d26-cc3ed958517b\",\"subtype\":\"Figure\",\"type\":\"Plot\"},\"ticker\":{\"id\":\"f5dc3888-ebc0-498a-82fd-3c423b40b6ec\",\"type\":\"BasicTicker\"}},\"id\":\"862353e5-ac2c-45a2-a93b-ac70f8f1b117\",\"type\":\"Grid\"},{\"attributes\":{\"plot\":{\"id\":\"f8a3d0e5-6107-48ad-8d26-cc3ed958517b\",\"subtype\":\"Figure\",\"type\":\"Plot\"}},\"id\":\"84bb240b-df48-477b-a9fe-e8b476fc4e65\",\"type\":\"WheelZoomTool\"},{\"attributes\":{\"plot\":{\"id\":\"f8a3d0e5-6107-48ad-8d26-cc3ed958517b\",\"subtype\":\"Figure\",\"type\":\"Plot\"}},\"id\":\"b5057f37-4f8f-4662-9637-002615b79ad9\",\"type\":\"SaveTool\"},{\"attributes\":{\"formatter\":{\"id\":\"e889a0ce-2256-4596-844c-8b996b649d84\",\"type\":\"BasicTickFormatter\"},\"plot\":{\"id\":\"f8a3d0e5-6107-48ad-8d26-cc3ed958517b\",\"subtype\":\"Figure\",\"type\":\"Plot\"},\"ticker\":{\"id\":\"c287867c-6854-4cab-b9ac-3c7babac5ce4\",\"type\":\"BasicTicker\"},\"visible\":false},\"id\":\"de2de9e8-d1b4-4fd8-8a9e-8fa1216558c0\",\"type\":\"LinearAxis\"},{\"attributes\":{\"tile_source\":{\"id\":\"e56f5d4c-6159-431c-8c41-5752b3250333\",\"type\":\"WMTSTileSource\"}},\"id\":\"1c613fea-be79-4070-af64-b55c78f67480\",\"type\":\"TileRenderer\"},{\"attributes\":{\"attribution\":\"Open Street Map\",\"url\":\"http://c.tile.openstreetmap.org/{Z}/{X}/{Y}.png\"},\"id\":\"e56f5d4c-6159-431c-8c41-5752b3250333\",\"type\":\"WMTSTileSource\"},{\"attributes\":{\"active_drag\":\"auto\",\"active_scroll\":\"auto\",\"active_tap\":\"auto\",\"tools\":[{\"id\":\"8b56e770-fb3a-41c9-98d0-b32bc7276c6a\",\"type\":\"PanTool\"},{\"id\":\"84bb240b-df48-477b-a9fe-e8b476fc4e65\",\"type\":\"WheelZoomTool\"},{\"id\":\"ce90348d-5fbc-44e7-a972-9bd63ab4d655\",\"type\":\"BoxZoomTool\"},{\"id\":\"b5057f37-4f8f-4662-9637-002615b79ad9\",\"type\":\"SaveTool\"},{\"id\":\"dddeb69a-c709-449c-a1b6-703abca34af4\",\"type\":\"ResetTool\"},{\"id\":\"fc20566b-be7a-4dbd-af5a-cc76d1cfcede\",\"type\":\"HelpTool\"}]},\"id\":\"85d171db-c831-4018-8b13-a8bab267c7d0\",\"type\":\"Toolbar\"},{\"attributes\":{},\"id\":\"f5dc3888-ebc0-498a-82fd-3c423b40b6ec\",\"type\":\"BasicTicker\"},{\"attributes\":{},\"id\":\"e889a0ce-2256-4596-844c-8b996b649d84\",\"type\":\"BasicTickFormatter\"},{\"attributes\":{\"overlay\":{\"id\":\"6e543ae0-1735-4b0d-8a26-ba335e89db10\",\"type\":\"BoxAnnotation\"},\"plot\":{\"id\":\"f8a3d0e5-6107-48ad-8d26-cc3ed958517b\",\"subtype\":\"Figure\",\"type\":\"Plot\"}},\"id\":\"ce90348d-5fbc-44e7-a972-9bd63ab4d655\",\"type\":\"BoxZoomTool\"},{\"attributes\":{\"plot\":{\"id\":\"f8a3d0e5-6107-48ad-8d26-cc3ed958517b\",\"subtype\":\"Figure\",\"type\":\"Plot\"}},\"id\":\"fc20566b-be7a-4dbd-af5a-cc76d1cfcede\",\"type\":\"HelpTool\"}],\"root_ids\":[\"f8a3d0e5-6107-48ad-8d26-cc3ed958517b\"]},\"title\":\"Bokeh Application\",\"version\":\"0.12.1\"}};\n",
       "            var render_items = [{\"docid\":\"09581529-0097-434a-9ece-77d3bb9e5ac4\",\"elementid\":\"9279d5b2-5c4a-4150-b345-1e5d3fdf9f08\",\"modelid\":\"f8a3d0e5-6107-48ad-8d26-cc3ed958517b\",\"notebook_comms_target\":\"823c4434-b179-4759-824e-de5304e7fcb9\"}];\n",
       "            \n",
       "            Bokeh.embed.embed_items(docs_json, render_items);\n",
       "        });\n",
       "      },\n",
       "      function(Bokeh) {\n",
       "      }\n",
       "    ];\n",
       "  \n",
       "    function run_inline_js() {\n",
       "      for (var i = 0; i < inline_js.length; i++) {\n",
       "        inline_js[i](window.Bokeh);\n",
       "      }\n",
       "    }\n",
       "  \n",
       "    if (window._bokeh_is_loading === 0) {\n",
       "      console.log(\"Bokeh: BokehJS loaded, going straight to plotting\");\n",
       "      run_inline_js();\n",
       "    } else {\n",
       "      load_libs(js_urls, function() {\n",
       "        console.log(\"Bokeh: BokehJS plotting callback run at\", now());\n",
       "        run_inline_js();\n",
       "      });\n",
       "    }\n",
       "  }(this));\n",
       "</script>"
      ]
     },
     "metadata": {},
     "output_type": "display_data"
    },
    {
     "data": {
      "text/html": [
       "<p><code>&lt;Bokeh Notebook handle for <strong>In[3]</strong>&gt;</code></p>"
      ],
      "text/plain": [
       "<bokeh.io._CommsHandle at 0x808a978>"
      ]
     },
     "execution_count": 3,
     "metadata": {},
     "output_type": "execute_result"
    }
   ],
   "source": [
    "from bokeh.models import WMTSTileSource\n",
    "tile_source = WMTSTileSource(url='http://c.tile.openstreetmap.org/{Z}/{X}/{Y}.png')\n",
    "tile_source.attribution = 'Open Street Map'\n",
    "\n",
    "fig = figure(x_range=x_range, y_range=y_range, plot_height=600, plot_width=900)\n",
    "fig.axis.visible = False\n",
    "fig.add_tile(tile_source)\n",
    "\n",
    "show(fig)"
   ]
  },
  {
   "cell_type": "markdown",
   "metadata": {},
   "source": [
    "The following demonstrates how Bokeh supports all these different conventions with templates"
   ]
  },
  {
   "cell_type": "markdown",
   "metadata": {},
   "source": [
    "## ArcGIS Server / ArcGIS Online"
   ]
  },
  {
   "cell_type": "markdown",
   "metadata": {},
   "source": [
    "Another example of using a tile source:\n",
    "* ArcGIS is a product of Esri, a major GIS Company\n",
    "* using a templated URL using `{ZOOM_LEVEL}/{ROW}/{COLUMN}` and `{Z}/{Y}/{X}` in this case, which is particular to this one source.\n",
    "\n",
    "Templated URL Details:\n",
    "- Open Street Map Template:\n",
    "http://{SERVER}/tile/{ZOOM_LEVEL}/{ROW}/{COLUMN}.png\n",
    "- Open Street Map Example:\n",
    "http://services.arcgisonline.com/ArcGIS/rest/services/World_Topo_Map/MapServer/tile/4/6/2.png"
   ]
  },
  {
   "cell_type": "code",
   "execution_count": 4,
   "metadata": {
    "collapsed": false,
    "scrolled": true
   },
   "outputs": [
    {
     "data": {
      "text/html": [
       "\n",
       "\n",
       "    <div class=\"bk-root\">\n",
       "        <div class=\"plotdiv\" id=\"1c6079a9-24be-45b5-9bfb-57641c344ce7\"></div>\n",
       "    </div>\n",
       "<script type=\"text/javascript\">\n",
       "  \n",
       "  (function(global) {\n",
       "    function now() {\n",
       "      return new Date();\n",
       "    }\n",
       "  \n",
       "    var force = \"\";\n",
       "  \n",
       "    if (typeof (window._bokeh_onload_callbacks) === \"undefined\" || force !== \"\") {\n",
       "      window._bokeh_onload_callbacks = [];\n",
       "      window._bokeh_is_loading = undefined;\n",
       "    }\n",
       "  \n",
       "    function run_callbacks() {\n",
       "      window._bokeh_onload_callbacks.forEach(function(callback) { callback() });\n",
       "      delete window._bokeh_onload_callbacks\n",
       "      console.info(\"Bokeh: all callbacks have finished\");\n",
       "    }\n",
       "  \n",
       "    function load_libs(js_urls, callback) {\n",
       "      window._bokeh_onload_callbacks.push(callback);\n",
       "      if (window._bokeh_is_loading > 0) {\n",
       "        console.log(\"Bokeh: BokehJS is being loaded, scheduling callback at\", now());\n",
       "        return null;\n",
       "      }\n",
       "      if (js_urls == null || js_urls.length === 0) {\n",
       "        run_callbacks();\n",
       "        return null;\n",
       "      }\n",
       "      console.log(\"Bokeh: BokehJS not loaded, scheduling load and callback at\", now());\n",
       "      window._bokeh_is_loading = js_urls.length;\n",
       "      for (var i = 0; i < js_urls.length; i++) {\n",
       "        var url = js_urls[i];\n",
       "        var s = document.createElement('script');\n",
       "        s.src = url;\n",
       "        s.async = false;\n",
       "        s.onreadystatechange = s.onload = function() {\n",
       "          window._bokeh_is_loading--;\n",
       "          if (window._bokeh_is_loading === 0) {\n",
       "            console.log(\"Bokeh: all BokehJS libraries loaded\");\n",
       "            run_callbacks()\n",
       "          }\n",
       "        };\n",
       "        s.onerror = function() {\n",
       "          console.warn(\"failed to load library \" + url);\n",
       "        };\n",
       "        console.log(\"Bokeh: injecting script tag for BokehJS library: \", url);\n",
       "        document.getElementsByTagName(\"head\")[0].appendChild(s);\n",
       "      }\n",
       "    };var element = document.getElementById(\"1c6079a9-24be-45b5-9bfb-57641c344ce7\");\n",
       "    if (element == null) {\n",
       "      console.log(\"Bokeh: ERROR: autoload.js configured with elementid '1c6079a9-24be-45b5-9bfb-57641c344ce7' but no matching script tag was found. \")\n",
       "      return false;\n",
       "    }\n",
       "  \n",
       "    var js_urls = [];\n",
       "  \n",
       "    var inline_js = [\n",
       "      function(Bokeh) {\n",
       "        Bokeh.$(function() {\n",
       "            var docs_json = {\"515bd191-7f90-4498-b7af-14d087410b93\":{\"roots\":{\"references\":[{\"attributes\":{},\"id\":\"ba32317b-5455-4f2b-847e-86e475028e81\",\"type\":\"BasicTickFormatter\"},{\"attributes\":{},\"id\":\"9fe6d9f1-f965-4d3e-a0d2-9bb5cc8f4b13\",\"type\":\"BasicTicker\"},{\"attributes\":{\"bottom_units\":\"screen\",\"fill_alpha\":{\"value\":0.5},\"fill_color\":{\"value\":\"lightgrey\"},\"left_units\":\"screen\",\"level\":\"overlay\",\"line_alpha\":{\"value\":1.0},\"line_color\":{\"value\":\"black\"},\"line_dash\":[4,4],\"line_width\":{\"value\":2},\"plot\":null,\"render_mode\":\"css\",\"right_units\":\"screen\",\"top_units\":\"screen\"},\"id\":\"2a936e2e-1c3f-400b-ad82-d1f387a08900\",\"type\":\"BoxAnnotation\"},{\"attributes\":{\"callback\":null,\"end\":10000000.0,\"start\":-10000000.0},\"id\":\"904c50f6-b480-4410-879a-1cbbe3ca74e6\",\"type\":\"Range1d\"},{\"attributes\":{},\"id\":\"8bc9d3f1-2ec1-4b68-9457-594dd2b9e201\",\"type\":\"BasicTickFormatter\"},{\"attributes\":{\"attribution\":\"Esri\",\"url\":\"http://services.arcgisonline.com/ArcGIS/rest/services/World_Topo_Map/MapServer/tile/{Z}/{Y}/{X}.png\"},\"id\":\"e9231c63-fd50-4e18-baeb-b14efe733fb9\",\"type\":\"WMTSTileSource\"},{\"attributes\":{\"tile_source\":{\"id\":\"e9231c63-fd50-4e18-baeb-b14efe733fb9\",\"type\":\"WMTSTileSource\"}},\"id\":\"a41f8ffe-d8d5-42fd-a957-5f089bdb3bac\",\"type\":\"TileRenderer\"},{\"attributes\":{},\"id\":\"86ad7f73-e488-42a7-8510-b9a56af03404\",\"type\":\"ToolEvents\"},{\"attributes\":{\"dimension\":1,\"plot\":{\"id\":\"87aa608e-2d50-4f17-bcfa-03411390102c\",\"subtype\":\"Figure\",\"type\":\"Plot\"},\"ticker\":{\"id\":\"756bcba2-835e-4895-8637-4e7e0c727a89\",\"type\":\"BasicTicker\"}},\"id\":\"591d7a93-93c1-4682-b47b-59e2e603a9e1\",\"type\":\"Grid\"},{\"attributes\":{\"active_drag\":\"auto\",\"active_scroll\":\"auto\",\"active_tap\":\"auto\",\"tools\":[{\"id\":\"d6a08be1-d48c-4e6b-8e98-dfca072ffd9b\",\"type\":\"PanTool\"},{\"id\":\"accb7569-8be9-4768-9fa0-0c02a06fc8fb\",\"type\":\"WheelZoomTool\"},{\"id\":\"432cddff-a7b3-4148-bfef-63f07e45e802\",\"type\":\"BoxZoomTool\"},{\"id\":\"83bf09e7-38a0-4192-9fec-06609921fb0c\",\"type\":\"SaveTool\"},{\"id\":\"603412bb-636c-439f-8389-4687a8e06c66\",\"type\":\"ResetTool\"},{\"id\":\"c284446d-0e7a-46e9-83c2-345fed0066f6\",\"type\":\"HelpTool\"}]},\"id\":\"4ab6e98d-59c6-48d7-b037-9b07a718e469\",\"type\":\"Toolbar\"},{\"attributes\":{\"callback\":null,\"end\":10000000.0,\"start\":-10000000.0},\"id\":\"a3567067-29de-4126-aca4-1f6436bf6518\",\"type\":\"Range1d\"},{\"attributes\":{\"formatter\":{\"id\":\"8bc9d3f1-2ec1-4b68-9457-594dd2b9e201\",\"type\":\"BasicTickFormatter\"},\"plot\":{\"id\":\"87aa608e-2d50-4f17-bcfa-03411390102c\",\"subtype\":\"Figure\",\"type\":\"Plot\"},\"ticker\":{\"id\":\"756bcba2-835e-4895-8637-4e7e0c727a89\",\"type\":\"BasicTicker\"},\"visible\":false},\"id\":\"3a7bf217-6c85-40e4-bb2d-92369939f28a\",\"type\":\"LinearAxis\"},{\"attributes\":{\"plot\":{\"id\":\"87aa608e-2d50-4f17-bcfa-03411390102c\",\"subtype\":\"Figure\",\"type\":\"Plot\"}},\"id\":\"83bf09e7-38a0-4192-9fec-06609921fb0c\",\"type\":\"SaveTool\"},{\"attributes\":{\"plot\":{\"id\":\"87aa608e-2d50-4f17-bcfa-03411390102c\",\"subtype\":\"Figure\",\"type\":\"Plot\"}},\"id\":\"c284446d-0e7a-46e9-83c2-345fed0066f6\",\"type\":\"HelpTool\"},{\"attributes\":{\"plot\":null,\"text\":null},\"id\":\"84a32df5-2af5-4682-87dd-52bf14a333c8\",\"type\":\"Title\"},{\"attributes\":{\"overlay\":{\"id\":\"2a936e2e-1c3f-400b-ad82-d1f387a08900\",\"type\":\"BoxAnnotation\"},\"plot\":{\"id\":\"87aa608e-2d50-4f17-bcfa-03411390102c\",\"subtype\":\"Figure\",\"type\":\"Plot\"}},\"id\":\"432cddff-a7b3-4148-bfef-63f07e45e802\",\"type\":\"BoxZoomTool\"},{\"attributes\":{\"plot\":{\"id\":\"87aa608e-2d50-4f17-bcfa-03411390102c\",\"subtype\":\"Figure\",\"type\":\"Plot\"}},\"id\":\"d6a08be1-d48c-4e6b-8e98-dfca072ffd9b\",\"type\":\"PanTool\"},{\"attributes\":{\"plot\":{\"id\":\"87aa608e-2d50-4f17-bcfa-03411390102c\",\"subtype\":\"Figure\",\"type\":\"Plot\"}},\"id\":\"accb7569-8be9-4768-9fa0-0c02a06fc8fb\",\"type\":\"WheelZoomTool\"},{\"attributes\":{\"below\":[{\"id\":\"e31d8c1d-856c-4417-bf2c-467dd95d889c\",\"type\":\"LinearAxis\"}],\"left\":[{\"id\":\"3a7bf217-6c85-40e4-bb2d-92369939f28a\",\"type\":\"LinearAxis\"}],\"plot_width\":900,\"renderers\":[{\"id\":\"e31d8c1d-856c-4417-bf2c-467dd95d889c\",\"type\":\"LinearAxis\"},{\"id\":\"64ba7db1-db3a-4d84-adb8-1df2d6909893\",\"type\":\"Grid\"},{\"id\":\"3a7bf217-6c85-40e4-bb2d-92369939f28a\",\"type\":\"LinearAxis\"},{\"id\":\"591d7a93-93c1-4682-b47b-59e2e603a9e1\",\"type\":\"Grid\"},{\"id\":\"2a936e2e-1c3f-400b-ad82-d1f387a08900\",\"type\":\"BoxAnnotation\"},{\"id\":\"a41f8ffe-d8d5-42fd-a957-5f089bdb3bac\",\"type\":\"TileRenderer\"}],\"title\":{\"id\":\"84a32df5-2af5-4682-87dd-52bf14a333c8\",\"type\":\"Title\"},\"tool_events\":{\"id\":\"86ad7f73-e488-42a7-8510-b9a56af03404\",\"type\":\"ToolEvents\"},\"toolbar\":{\"id\":\"4ab6e98d-59c6-48d7-b037-9b07a718e469\",\"type\":\"Toolbar\"},\"x_range\":{\"id\":\"904c50f6-b480-4410-879a-1cbbe3ca74e6\",\"type\":\"Range1d\"},\"y_range\":{\"id\":\"a3567067-29de-4126-aca4-1f6436bf6518\",\"type\":\"Range1d\"}},\"id\":\"87aa608e-2d50-4f17-bcfa-03411390102c\",\"subtype\":\"Figure\",\"type\":\"Plot\"},{\"attributes\":{\"formatter\":{\"id\":\"ba32317b-5455-4f2b-847e-86e475028e81\",\"type\":\"BasicTickFormatter\"},\"plot\":{\"id\":\"87aa608e-2d50-4f17-bcfa-03411390102c\",\"subtype\":\"Figure\",\"type\":\"Plot\"},\"ticker\":{\"id\":\"9fe6d9f1-f965-4d3e-a0d2-9bb5cc8f4b13\",\"type\":\"BasicTicker\"},\"visible\":false},\"id\":\"e31d8c1d-856c-4417-bf2c-467dd95d889c\",\"type\":\"LinearAxis\"},{\"attributes\":{},\"id\":\"756bcba2-835e-4895-8637-4e7e0c727a89\",\"type\":\"BasicTicker\"},{\"attributes\":{\"plot\":{\"id\":\"87aa608e-2d50-4f17-bcfa-03411390102c\",\"subtype\":\"Figure\",\"type\":\"Plot\"},\"ticker\":{\"id\":\"9fe6d9f1-f965-4d3e-a0d2-9bb5cc8f4b13\",\"type\":\"BasicTicker\"}},\"id\":\"64ba7db1-db3a-4d84-adb8-1df2d6909893\",\"type\":\"Grid\"},{\"attributes\":{\"plot\":{\"id\":\"87aa608e-2d50-4f17-bcfa-03411390102c\",\"subtype\":\"Figure\",\"type\":\"Plot\"}},\"id\":\"603412bb-636c-439f-8389-4687a8e06c66\",\"type\":\"ResetTool\"}],\"root_ids\":[\"87aa608e-2d50-4f17-bcfa-03411390102c\"]},\"title\":\"Bokeh Application\",\"version\":\"0.12.1\"}};\n",
       "            var render_items = [{\"docid\":\"515bd191-7f90-4498-b7af-14d087410b93\",\"elementid\":\"1c6079a9-24be-45b5-9bfb-57641c344ce7\",\"modelid\":\"87aa608e-2d50-4f17-bcfa-03411390102c\",\"notebook_comms_target\":\"2463aebb-f4cb-474d-859b-66e39b934770\"}];\n",
       "            \n",
       "            Bokeh.embed.embed_items(docs_json, render_items);\n",
       "        });\n",
       "      },\n",
       "      function(Bokeh) {\n",
       "      }\n",
       "    ];\n",
       "  \n",
       "    function run_inline_js() {\n",
       "      for (var i = 0; i < inline_js.length; i++) {\n",
       "        inline_js[i](window.Bokeh);\n",
       "      }\n",
       "    }\n",
       "  \n",
       "    if (window._bokeh_is_loading === 0) {\n",
       "      console.log(\"Bokeh: BokehJS loaded, going straight to plotting\");\n",
       "      run_inline_js();\n",
       "    } else {\n",
       "      load_libs(js_urls, function() {\n",
       "        console.log(\"Bokeh: BokehJS plotting callback run at\", now());\n",
       "        run_inline_js();\n",
       "      });\n",
       "    }\n",
       "  }(this));\n",
       "</script>"
      ]
     },
     "metadata": {},
     "output_type": "display_data"
    },
    {
     "data": {
      "text/html": [
       "<p><code>&lt;Bokeh Notebook handle for <strong>In[4]</strong>&gt;</code></p>"
      ],
      "text/plain": [
       "<bokeh.io._CommsHandle at 0x809fac8>"
      ]
     },
     "execution_count": 4,
     "metadata": {},
     "output_type": "execute_result"
    }
   ],
   "source": [
    "from bokeh.models import WMTSTileSource\n",
    "tile_source = WMTSTileSource(url='http://services.arcgisonline.com/ArcGIS/rest/services/World_Topo_Map/MapServer/tile/{Z}/{Y}/{X}.png')\n",
    "tile_source.attribution = 'Esri'\n",
    "\n",
    "fig = figure(x_range=x_range, y_range=y_range, plot_height=600, plot_width=900)\n",
    "fig.axis.visible = False\n",
    "fig.add_tile(tile_source)\n",
    "\n",
    "show(fig)"
   ]
  },
  {
   "cell_type": "markdown",
   "metadata": {},
   "source": [
    "## Google Maps"
   ]
  },
  {
   "cell_type": "markdown",
   "metadata": {},
   "source": [
    "* This is about creating maps and demonstrating the templating.\n",
    "\n",
    "- Google Maps Template:\n",
    "http://{SERVER}/vt/lyrs={layer_id}&hl={locale}&x={COLUMN}&y={ROW}&z={ZOOM_LEVEL}\n",
    "\n",
    "- Google Maps Example: \n",
    "http://mt0.google.com/vt/lyrs=m@169000000&hl=en&x=2&y=6&z=4&s=Ga"
   ]
  },
  {
   "cell_type": "code",
   "execution_count": 5,
   "metadata": {
    "collapsed": false,
    "scrolled": true
   },
   "outputs": [
    {
     "data": {
      "text/html": [
       "\n",
       "\n",
       "    <div class=\"bk-root\">\n",
       "        <div class=\"plotdiv\" id=\"d4d15285-5f38-4677-918a-a84dd86b6e3f\"></div>\n",
       "    </div>\n",
       "<script type=\"text/javascript\">\n",
       "  \n",
       "  (function(global) {\n",
       "    function now() {\n",
       "      return new Date();\n",
       "    }\n",
       "  \n",
       "    var force = \"\";\n",
       "  \n",
       "    if (typeof (window._bokeh_onload_callbacks) === \"undefined\" || force !== \"\") {\n",
       "      window._bokeh_onload_callbacks = [];\n",
       "      window._bokeh_is_loading = undefined;\n",
       "    }\n",
       "  \n",
       "    function run_callbacks() {\n",
       "      window._bokeh_onload_callbacks.forEach(function(callback) { callback() });\n",
       "      delete window._bokeh_onload_callbacks\n",
       "      console.info(\"Bokeh: all callbacks have finished\");\n",
       "    }\n",
       "  \n",
       "    function load_libs(js_urls, callback) {\n",
       "      window._bokeh_onload_callbacks.push(callback);\n",
       "      if (window._bokeh_is_loading > 0) {\n",
       "        console.log(\"Bokeh: BokehJS is being loaded, scheduling callback at\", now());\n",
       "        return null;\n",
       "      }\n",
       "      if (js_urls == null || js_urls.length === 0) {\n",
       "        run_callbacks();\n",
       "        return null;\n",
       "      }\n",
       "      console.log(\"Bokeh: BokehJS not loaded, scheduling load and callback at\", now());\n",
       "      window._bokeh_is_loading = js_urls.length;\n",
       "      for (var i = 0; i < js_urls.length; i++) {\n",
       "        var url = js_urls[i];\n",
       "        var s = document.createElement('script');\n",
       "        s.src = url;\n",
       "        s.async = false;\n",
       "        s.onreadystatechange = s.onload = function() {\n",
       "          window._bokeh_is_loading--;\n",
       "          if (window._bokeh_is_loading === 0) {\n",
       "            console.log(\"Bokeh: all BokehJS libraries loaded\");\n",
       "            run_callbacks()\n",
       "          }\n",
       "        };\n",
       "        s.onerror = function() {\n",
       "          console.warn(\"failed to load library \" + url);\n",
       "        };\n",
       "        console.log(\"Bokeh: injecting script tag for BokehJS library: \", url);\n",
       "        document.getElementsByTagName(\"head\")[0].appendChild(s);\n",
       "      }\n",
       "    };var element = document.getElementById(\"d4d15285-5f38-4677-918a-a84dd86b6e3f\");\n",
       "    if (element == null) {\n",
       "      console.log(\"Bokeh: ERROR: autoload.js configured with elementid 'd4d15285-5f38-4677-918a-a84dd86b6e3f' but no matching script tag was found. \")\n",
       "      return false;\n",
       "    }\n",
       "  \n",
       "    var js_urls = [];\n",
       "  \n",
       "    var inline_js = [\n",
       "      function(Bokeh) {\n",
       "        Bokeh.$(function() {\n",
       "            var docs_json = {\"ec3eb42c-b2ab-49ca-a0d2-99f4cf1e6190\":{\"roots\":{\"references\":[{\"attributes\":{\"overlay\":{\"id\":\"9427cf79-02aa-4b33-892f-574b81c51bc0\",\"type\":\"BoxAnnotation\"},\"plot\":{\"id\":\"e2761c35-0344-4bb7-b516-2bfc68f15e91\",\"subtype\":\"Figure\",\"type\":\"Plot\"}},\"id\":\"f1ade97c-5fc8-4bf0-9b5c-abe5893f3b30\",\"type\":\"BoxZoomTool\"},{\"attributes\":{\"formatter\":{\"id\":\"fc23dd38-c6b0-4bc2-a758-a4e3fdaf84b6\",\"type\":\"BasicTickFormatter\"},\"plot\":{\"id\":\"e2761c35-0344-4bb7-b516-2bfc68f15e91\",\"subtype\":\"Figure\",\"type\":\"Plot\"},\"ticker\":{\"id\":\"1b1a263a-6b0c-4d7b-9587-541ee6e607d1\",\"type\":\"BasicTicker\"},\"visible\":false},\"id\":\"309323e2-ec71-405b-8e1c-25207bd63486\",\"type\":\"LinearAxis\"},{\"attributes\":{\"dimension\":1,\"plot\":{\"id\":\"e2761c35-0344-4bb7-b516-2bfc68f15e91\",\"subtype\":\"Figure\",\"type\":\"Plot\"},\"ticker\":{\"id\":\"1b1a263a-6b0c-4d7b-9587-541ee6e607d1\",\"type\":\"BasicTicker\"}},\"id\":\"32415051-6559-4db0-863a-84f85ead35d6\",\"type\":\"Grid\"},{\"attributes\":{\"below\":[{\"id\":\"848c3333-bb51-4ea8-bead-8b41682b4e0d\",\"type\":\"LinearAxis\"}],\"left\":[{\"id\":\"309323e2-ec71-405b-8e1c-25207bd63486\",\"type\":\"LinearAxis\"}],\"plot_width\":900,\"renderers\":[{\"id\":\"848c3333-bb51-4ea8-bead-8b41682b4e0d\",\"type\":\"LinearAxis\"},{\"id\":\"2018a341-be13-47ee-839f-47ded4a6c259\",\"type\":\"Grid\"},{\"id\":\"309323e2-ec71-405b-8e1c-25207bd63486\",\"type\":\"LinearAxis\"},{\"id\":\"32415051-6559-4db0-863a-84f85ead35d6\",\"type\":\"Grid\"},{\"id\":\"9427cf79-02aa-4b33-892f-574b81c51bc0\",\"type\":\"BoxAnnotation\"},{\"id\":\"594d80ab-a764-4f0b-b932-d2da4e1996b0\",\"type\":\"TileRenderer\"}],\"title\":{\"id\":\"c8542136-be26-49bb-88d8-c4a06c4250b8\",\"type\":\"Title\"},\"tool_events\":{\"id\":\"76044145-0c02-417e-b661-591839d21ccd\",\"type\":\"ToolEvents\"},\"toolbar\":{\"id\":\"592f35b6-aa97-4e85-85e2-9a9aeb870979\",\"type\":\"Toolbar\"},\"x_range\":{\"id\":\"904c50f6-b480-4410-879a-1cbbe3ca74e6\",\"type\":\"Range1d\"},\"y_range\":{\"id\":\"a3567067-29de-4126-aca4-1f6436bf6518\",\"type\":\"Range1d\"}},\"id\":\"e2761c35-0344-4bb7-b516-2bfc68f15e91\",\"subtype\":\"Figure\",\"type\":\"Plot\"},{\"attributes\":{\"active_drag\":\"auto\",\"active_scroll\":\"auto\",\"active_tap\":\"auto\",\"tools\":[{\"id\":\"da8c422f-ce74-4c40-853f-7136d5e713c0\",\"type\":\"PanTool\"},{\"id\":\"4fab0470-f926-438c-b3d1-e63349b8f895\",\"type\":\"WheelZoomTool\"},{\"id\":\"f1ade97c-5fc8-4bf0-9b5c-abe5893f3b30\",\"type\":\"BoxZoomTool\"},{\"id\":\"67b139e2-3e91-4548-a4b3-26de6911e454\",\"type\":\"SaveTool\"},{\"id\":\"7e28352b-25a4-43dd-9472-74aad2435c8d\",\"type\":\"ResetTool\"},{\"id\":\"7cba9dea-ba9c-42e5-b246-831951bdea3f\",\"type\":\"HelpTool\"}]},\"id\":\"592f35b6-aa97-4e85-85e2-9a9aeb870979\",\"type\":\"Toolbar\"},{\"attributes\":{\"plot\":{\"id\":\"e2761c35-0344-4bb7-b516-2bfc68f15e91\",\"subtype\":\"Figure\",\"type\":\"Plot\"}},\"id\":\"7e28352b-25a4-43dd-9472-74aad2435c8d\",\"type\":\"ResetTool\"},{\"attributes\":{},\"id\":\"76044145-0c02-417e-b661-591839d21ccd\",\"type\":\"ToolEvents\"},{\"attributes\":{\"formatter\":{\"id\":\"6a9699da-f31b-4d85-99cb-8359c9ba9e09\",\"type\":\"BasicTickFormatter\"},\"plot\":{\"id\":\"e2761c35-0344-4bb7-b516-2bfc68f15e91\",\"subtype\":\"Figure\",\"type\":\"Plot\"},\"ticker\":{\"id\":\"315b000f-c655-4d26-9c0a-d0ea3f42a05e\",\"type\":\"BasicTicker\"},\"visible\":false},\"id\":\"848c3333-bb51-4ea8-bead-8b41682b4e0d\",\"type\":\"LinearAxis\"},{\"attributes\":{\"callback\":null,\"end\":10000000.0,\"start\":-10000000.0},\"id\":\"904c50f6-b480-4410-879a-1cbbe3ca74e6\",\"type\":\"Range1d\"},{\"attributes\":{\"plot\":null,\"text\":null},\"id\":\"c8542136-be26-49bb-88d8-c4a06c4250b8\",\"type\":\"Title\"},{\"attributes\":{},\"id\":\"fc23dd38-c6b0-4bc2-a758-a4e3fdaf84b6\",\"type\":\"BasicTickFormatter\"},{\"attributes\":{\"bottom_units\":\"screen\",\"fill_alpha\":{\"value\":0.5},\"fill_color\":{\"value\":\"lightgrey\"},\"left_units\":\"screen\",\"level\":\"overlay\",\"line_alpha\":{\"value\":1.0},\"line_color\":{\"value\":\"black\"},\"line_dash\":[4,4],\"line_width\":{\"value\":2},\"plot\":null,\"render_mode\":\"css\",\"right_units\":\"screen\",\"top_units\":\"screen\"},\"id\":\"9427cf79-02aa-4b33-892f-574b81c51bc0\",\"type\":\"BoxAnnotation\"},{\"attributes\":{\"callback\":null,\"end\":10000000.0,\"start\":-10000000.0},\"id\":\"a3567067-29de-4126-aca4-1f6436bf6518\",\"type\":\"Range1d\"},{\"attributes\":{},\"id\":\"315b000f-c655-4d26-9c0a-d0ea3f42a05e\",\"type\":\"BasicTicker\"},{\"attributes\":{},\"id\":\"6a9699da-f31b-4d85-99cb-8359c9ba9e09\",\"type\":\"BasicTickFormatter\"},{\"attributes\":{\"tile_source\":{\"id\":\"92617ccd-f3a3-462e-a89c-de4d5caac60f\",\"type\":\"WMTSTileSource\"}},\"id\":\"594d80ab-a764-4f0b-b932-d2da4e1996b0\",\"type\":\"TileRenderer\"},{\"attributes\":{\"plot\":{\"id\":\"e2761c35-0344-4bb7-b516-2bfc68f15e91\",\"subtype\":\"Figure\",\"type\":\"Plot\"}},\"id\":\"da8c422f-ce74-4c40-853f-7136d5e713c0\",\"type\":\"PanTool\"},{\"attributes\":{},\"id\":\"1b1a263a-6b0c-4d7b-9587-541ee6e607d1\",\"type\":\"BasicTicker\"},{\"attributes\":{\"plot\":{\"id\":\"e2761c35-0344-4bb7-b516-2bfc68f15e91\",\"subtype\":\"Figure\",\"type\":\"Plot\"}},\"id\":\"67b139e2-3e91-4548-a4b3-26de6911e454\",\"type\":\"SaveTool\"},{\"attributes\":{\"plot\":{\"id\":\"e2761c35-0344-4bb7-b516-2bfc68f15e91\",\"subtype\":\"Figure\",\"type\":\"Plot\"}},\"id\":\"4fab0470-f926-438c-b3d1-e63349b8f895\",\"type\":\"WheelZoomTool\"},{\"attributes\":{\"plot\":{\"id\":\"e2761c35-0344-4bb7-b516-2bfc68f15e91\",\"subtype\":\"Figure\",\"type\":\"Plot\"},\"ticker\":{\"id\":\"315b000f-c655-4d26-9c0a-d0ea3f42a05e\",\"type\":\"BasicTicker\"}},\"id\":\"2018a341-be13-47ee-839f-47ded4a6c259\",\"type\":\"Grid\"},{\"attributes\":{\"attribution\":\"Google\",\"url\":\"http://mt0.google.com/vt/lyrs=m@169000000&hl=en&x={X}&y={Y}&z={Z}&s=Ga\"},\"id\":\"92617ccd-f3a3-462e-a89c-de4d5caac60f\",\"type\":\"WMTSTileSource\"},{\"attributes\":{\"plot\":{\"id\":\"e2761c35-0344-4bb7-b516-2bfc68f15e91\",\"subtype\":\"Figure\",\"type\":\"Plot\"}},\"id\":\"7cba9dea-ba9c-42e5-b246-831951bdea3f\",\"type\":\"HelpTool\"}],\"root_ids\":[\"e2761c35-0344-4bb7-b516-2bfc68f15e91\"]},\"title\":\"Bokeh Application\",\"version\":\"0.12.1\"}};\n",
       "            var render_items = [{\"docid\":\"ec3eb42c-b2ab-49ca-a0d2-99f4cf1e6190\",\"elementid\":\"d4d15285-5f38-4677-918a-a84dd86b6e3f\",\"modelid\":\"e2761c35-0344-4bb7-b516-2bfc68f15e91\",\"notebook_comms_target\":\"24a7ec60-a901-44cf-87d9-22a7bfea0c6a\"}];\n",
       "            \n",
       "            Bokeh.embed.embed_items(docs_json, render_items);\n",
       "        });\n",
       "      },\n",
       "      function(Bokeh) {\n",
       "      }\n",
       "    ];\n",
       "  \n",
       "    function run_inline_js() {\n",
       "      for (var i = 0; i < inline_js.length; i++) {\n",
       "        inline_js[i](window.Bokeh);\n",
       "      }\n",
       "    }\n",
       "  \n",
       "    if (window._bokeh_is_loading === 0) {\n",
       "      console.log(\"Bokeh: BokehJS loaded, going straight to plotting\");\n",
       "      run_inline_js();\n",
       "    } else {\n",
       "      load_libs(js_urls, function() {\n",
       "        console.log(\"Bokeh: BokehJS plotting callback run at\", now());\n",
       "        run_inline_js();\n",
       "      });\n",
       "    }\n",
       "  }(this));\n",
       "</script>"
      ]
     },
     "metadata": {},
     "output_type": "display_data"
    },
    {
     "data": {
      "text/html": [
       "<p><code>&lt;Bokeh Notebook handle for <strong>In[5]</strong>&gt;</code></p>"
      ],
      "text/plain": [
       "<bokeh.io._CommsHandle at 0x80ad4a8>"
      ]
     },
     "execution_count": 5,
     "metadata": {},
     "output_type": "execute_result"
    }
   ],
   "source": [
    "from bokeh.models import WMTSTileSource\n",
    "tile_source = WMTSTileSource(url='http://mt0.google.com/vt/lyrs=m@169000000&hl=en&x={X}&y={Y}&z={Z}&s=Ga')\n",
    "tile_source.attribution = 'Google'\n",
    "\n",
    "fig = figure(x_range=x_range, y_range=y_range, plot_height=600, plot_width=900)\n",
    "fig.axis.visible = False\n",
    "fig.add_tile(tile_source)\n",
    "\n",
    "show(fig)"
   ]
  },
  {
   "cell_type": "markdown",
   "metadata": {},
   "source": [
    "## Microsoft Bing Maps"
   ]
  },
  {
   "cell_type": "markdown",
   "metadata": {},
   "source": [
    "- Microsoft Bing Maps Template:\n",
    "http://{SERVER}/tiles/a{QUAD_KEY}.jpeg?token={TOKEN}&mkt={LOCALE}&g={??}\n",
    "- Microsoft Bing Maps Example:\n",
    "http://t0.tiles.virtualearth.net/tiles/a0230.jpeg?g=854&mkt=en-US&token=Anz84uRE1RULeLwuJ0qKu5amcu5rugRXy1vKc27wUaKVyIv1SVZrUjqaOfXJJoI0"
   ]
  },
  {
   "cell_type": "markdown",
   "metadata": {},
   "source": [
    "Bing uses `QUADKEY` means using a single key instead of `(x,y,z)`. Note the `Q` templated below, instead of the former examples that templated `{X}`, for example."
   ]
  },
  {
   "cell_type": "code",
   "execution_count": 6,
   "metadata": {
    "collapsed": false
   },
   "outputs": [
    {
     "data": {
      "text/html": [
       "\n",
       "\n",
       "    <div class=\"bk-root\">\n",
       "        <div class=\"plotdiv\" id=\"8d7b1696-d929-4ccf-82cd-1d434a7ae59d\"></div>\n",
       "    </div>\n",
       "<script type=\"text/javascript\">\n",
       "  \n",
       "  (function(global) {\n",
       "    function now() {\n",
       "      return new Date();\n",
       "    }\n",
       "  \n",
       "    var force = \"\";\n",
       "  \n",
       "    if (typeof (window._bokeh_onload_callbacks) === \"undefined\" || force !== \"\") {\n",
       "      window._bokeh_onload_callbacks = [];\n",
       "      window._bokeh_is_loading = undefined;\n",
       "    }\n",
       "  \n",
       "    function run_callbacks() {\n",
       "      window._bokeh_onload_callbacks.forEach(function(callback) { callback() });\n",
       "      delete window._bokeh_onload_callbacks\n",
       "      console.info(\"Bokeh: all callbacks have finished\");\n",
       "    }\n",
       "  \n",
       "    function load_libs(js_urls, callback) {\n",
       "      window._bokeh_onload_callbacks.push(callback);\n",
       "      if (window._bokeh_is_loading > 0) {\n",
       "        console.log(\"Bokeh: BokehJS is being loaded, scheduling callback at\", now());\n",
       "        return null;\n",
       "      }\n",
       "      if (js_urls == null || js_urls.length === 0) {\n",
       "        run_callbacks();\n",
       "        return null;\n",
       "      }\n",
       "      console.log(\"Bokeh: BokehJS not loaded, scheduling load and callback at\", now());\n",
       "      window._bokeh_is_loading = js_urls.length;\n",
       "      for (var i = 0; i < js_urls.length; i++) {\n",
       "        var url = js_urls[i];\n",
       "        var s = document.createElement('script');\n",
       "        s.src = url;\n",
       "        s.async = false;\n",
       "        s.onreadystatechange = s.onload = function() {\n",
       "          window._bokeh_is_loading--;\n",
       "          if (window._bokeh_is_loading === 0) {\n",
       "            console.log(\"Bokeh: all BokehJS libraries loaded\");\n",
       "            run_callbacks()\n",
       "          }\n",
       "        };\n",
       "        s.onerror = function() {\n",
       "          console.warn(\"failed to load library \" + url);\n",
       "        };\n",
       "        console.log(\"Bokeh: injecting script tag for BokehJS library: \", url);\n",
       "        document.getElementsByTagName(\"head\")[0].appendChild(s);\n",
       "      }\n",
       "    };var element = document.getElementById(\"8d7b1696-d929-4ccf-82cd-1d434a7ae59d\");\n",
       "    if (element == null) {\n",
       "      console.log(\"Bokeh: ERROR: autoload.js configured with elementid '8d7b1696-d929-4ccf-82cd-1d434a7ae59d' but no matching script tag was found. \")\n",
       "      return false;\n",
       "    }\n",
       "  \n",
       "    var js_urls = [];\n",
       "  \n",
       "    var inline_js = [\n",
       "      function(Bokeh) {\n",
       "        Bokeh.$(function() {\n",
       "            var docs_json = {\"804aa66b-0bf4-4797-8d1d-5a6a65b39740\":{\"roots\":{\"references\":[{\"attributes\":{\"plot\":{\"id\":\"af598012-7994-4284-919d-e20de904ad95\",\"subtype\":\"Figure\",\"type\":\"Plot\"}},\"id\":\"49e838cc-b990-48bb-951b-6b85929012ca\",\"type\":\"SaveTool\"},{\"attributes\":{\"tile_source\":{\"id\":\"f2e2651b-4e67-4ad6-bf8a-5477baa2f353\",\"type\":\"QUADKEYTileSource\"}},\"id\":\"3da80619-3ee2-4ec9-99ef-ac1b77b6415b\",\"type\":\"TileRenderer\"},{\"attributes\":{\"plot\":{\"id\":\"af598012-7994-4284-919d-e20de904ad95\",\"subtype\":\"Figure\",\"type\":\"Plot\"},\"ticker\":{\"id\":\"c5fb66ad-6506-44a0-b86f-46aac4576d53\",\"type\":\"BasicTicker\"}},\"id\":\"38d5f1cd-377e-4bcf-b4ca-6ecb4a019e63\",\"type\":\"Grid\"},{\"attributes\":{\"plot\":{\"id\":\"af598012-7994-4284-919d-e20de904ad95\",\"subtype\":\"Figure\",\"type\":\"Plot\"}},\"id\":\"38d78641-26ed-4f02-b8b8-b49512b9a992\",\"type\":\"ResetTool\"},{\"attributes\":{},\"id\":\"b800d1c7-e3ef-40b1-934a-2d13031fd5c7\",\"type\":\"BasicTickFormatter\"},{\"attributes\":{\"callback\":null,\"end\":10000000.0,\"start\":-10000000.0},\"id\":\"904c50f6-b480-4410-879a-1cbbe3ca74e6\",\"type\":\"Range1d\"},{\"attributes\":{\"overlay\":{\"id\":\"efb86b07-9beb-4d94-a004-331b46a7e4b2\",\"type\":\"BoxAnnotation\"},\"plot\":{\"id\":\"af598012-7994-4284-919d-e20de904ad95\",\"subtype\":\"Figure\",\"type\":\"Plot\"}},\"id\":\"3297ecb0-b482-4869-b2b0-ce41568519e4\",\"type\":\"BoxZoomTool\"},{\"attributes\":{\"attribution\":\"Microsoft Bing Maps\",\"url\":\"http://t0.tiles.virtualearth.net/tiles/a{Q}.jpeg?g=854&mkt=en-US&token=Anz84uRE1RULeLwuJ0qKu5amcu5rugRXy1vKc27wUaKVyIv1SVZrUjqaOfXJJoI0\"},\"id\":\"f2e2651b-4e67-4ad6-bf8a-5477baa2f353\",\"type\":\"QUADKEYTileSource\"},{\"attributes\":{\"active_drag\":\"auto\",\"active_scroll\":\"auto\",\"active_tap\":\"auto\",\"tools\":[{\"id\":\"311aaa20-7d3a-48fe-9178-3b427dffb750\",\"type\":\"PanTool\"},{\"id\":\"5357d652-4e5b-4536-97a3-14d3eddc5f77\",\"type\":\"WheelZoomTool\"},{\"id\":\"3297ecb0-b482-4869-b2b0-ce41568519e4\",\"type\":\"BoxZoomTool\"},{\"id\":\"49e838cc-b990-48bb-951b-6b85929012ca\",\"type\":\"SaveTool\"},{\"id\":\"38d78641-26ed-4f02-b8b8-b49512b9a992\",\"type\":\"ResetTool\"},{\"id\":\"14f14f55-8791-4e9c-91b3-eae3ffa62c5c\",\"type\":\"HelpTool\"}]},\"id\":\"f61a55bd-bccf-4335-8578-953cf98c44a1\",\"type\":\"Toolbar\"},{\"attributes\":{\"below\":[{\"id\":\"34c29aa4-e269-40e4-91be-6709250f0f80\",\"type\":\"LinearAxis\"}],\"left\":[{\"id\":\"8885a6b3-8e0a-42d8-947b-92bdad2426d1\",\"type\":\"LinearAxis\"}],\"plot_width\":900,\"renderers\":[{\"id\":\"34c29aa4-e269-40e4-91be-6709250f0f80\",\"type\":\"LinearAxis\"},{\"id\":\"38d5f1cd-377e-4bcf-b4ca-6ecb4a019e63\",\"type\":\"Grid\"},{\"id\":\"8885a6b3-8e0a-42d8-947b-92bdad2426d1\",\"type\":\"LinearAxis\"},{\"id\":\"c2bf3a79-d952-4cca-aef3-ee5f206b6075\",\"type\":\"Grid\"},{\"id\":\"efb86b07-9beb-4d94-a004-331b46a7e4b2\",\"type\":\"BoxAnnotation\"},{\"id\":\"3da80619-3ee2-4ec9-99ef-ac1b77b6415b\",\"type\":\"TileRenderer\"}],\"title\":{\"id\":\"e5edeca2-0621-42a4-a89c-dfdfa3f6c037\",\"type\":\"Title\"},\"tool_events\":{\"id\":\"e707b8cc-e9e5-49f6-a626-1384e2146f05\",\"type\":\"ToolEvents\"},\"toolbar\":{\"id\":\"f61a55bd-bccf-4335-8578-953cf98c44a1\",\"type\":\"Toolbar\"},\"x_range\":{\"id\":\"904c50f6-b480-4410-879a-1cbbe3ca74e6\",\"type\":\"Range1d\"},\"y_range\":{\"id\":\"a3567067-29de-4126-aca4-1f6436bf6518\",\"type\":\"Range1d\"}},\"id\":\"af598012-7994-4284-919d-e20de904ad95\",\"subtype\":\"Figure\",\"type\":\"Plot\"},{\"attributes\":{\"plot\":{\"id\":\"af598012-7994-4284-919d-e20de904ad95\",\"subtype\":\"Figure\",\"type\":\"Plot\"}},\"id\":\"14f14f55-8791-4e9c-91b3-eae3ffa62c5c\",\"type\":\"HelpTool\"},{\"attributes\":{\"plot\":{\"id\":\"af598012-7994-4284-919d-e20de904ad95\",\"subtype\":\"Figure\",\"type\":\"Plot\"}},\"id\":\"5357d652-4e5b-4536-97a3-14d3eddc5f77\",\"type\":\"WheelZoomTool\"},{\"attributes\":{\"plot\":null,\"text\":null},\"id\":\"e5edeca2-0621-42a4-a89c-dfdfa3f6c037\",\"type\":\"Title\"},{\"attributes\":{\"formatter\":{\"id\":\"36f4a9ff-c325-4d3a-b6fa-56a22822a569\",\"type\":\"BasicTickFormatter\"},\"plot\":{\"id\":\"af598012-7994-4284-919d-e20de904ad95\",\"subtype\":\"Figure\",\"type\":\"Plot\"},\"ticker\":{\"id\":\"137a5b9f-b601-4128-bc1c-b2ae5dd8a35f\",\"type\":\"BasicTicker\"},\"visible\":false},\"id\":\"8885a6b3-8e0a-42d8-947b-92bdad2426d1\",\"type\":\"LinearAxis\"},{\"attributes\":{\"callback\":null,\"end\":10000000.0,\"start\":-10000000.0},\"id\":\"a3567067-29de-4126-aca4-1f6436bf6518\",\"type\":\"Range1d\"},{\"attributes\":{\"plot\":{\"id\":\"af598012-7994-4284-919d-e20de904ad95\",\"subtype\":\"Figure\",\"type\":\"Plot\"}},\"id\":\"311aaa20-7d3a-48fe-9178-3b427dffb750\",\"type\":\"PanTool\"},{\"attributes\":{},\"id\":\"c5fb66ad-6506-44a0-b86f-46aac4576d53\",\"type\":\"BasicTicker\"},{\"attributes\":{},\"id\":\"e707b8cc-e9e5-49f6-a626-1384e2146f05\",\"type\":\"ToolEvents\"},{\"attributes\":{},\"id\":\"36f4a9ff-c325-4d3a-b6fa-56a22822a569\",\"type\":\"BasicTickFormatter\"},{\"attributes\":{\"dimension\":1,\"plot\":{\"id\":\"af598012-7994-4284-919d-e20de904ad95\",\"subtype\":\"Figure\",\"type\":\"Plot\"},\"ticker\":{\"id\":\"137a5b9f-b601-4128-bc1c-b2ae5dd8a35f\",\"type\":\"BasicTicker\"}},\"id\":\"c2bf3a79-d952-4cca-aef3-ee5f206b6075\",\"type\":\"Grid\"},{\"attributes\":{\"formatter\":{\"id\":\"b800d1c7-e3ef-40b1-934a-2d13031fd5c7\",\"type\":\"BasicTickFormatter\"},\"plot\":{\"id\":\"af598012-7994-4284-919d-e20de904ad95\",\"subtype\":\"Figure\",\"type\":\"Plot\"},\"ticker\":{\"id\":\"c5fb66ad-6506-44a0-b86f-46aac4576d53\",\"type\":\"BasicTicker\"},\"visible\":false},\"id\":\"34c29aa4-e269-40e4-91be-6709250f0f80\",\"type\":\"LinearAxis\"},{\"attributes\":{},\"id\":\"137a5b9f-b601-4128-bc1c-b2ae5dd8a35f\",\"type\":\"BasicTicker\"},{\"attributes\":{\"bottom_units\":\"screen\",\"fill_alpha\":{\"value\":0.5},\"fill_color\":{\"value\":\"lightgrey\"},\"left_units\":\"screen\",\"level\":\"overlay\",\"line_alpha\":{\"value\":1.0},\"line_color\":{\"value\":\"black\"},\"line_dash\":[4,4],\"line_width\":{\"value\":2},\"plot\":null,\"render_mode\":\"css\",\"right_units\":\"screen\",\"top_units\":\"screen\"},\"id\":\"efb86b07-9beb-4d94-a004-331b46a7e4b2\",\"type\":\"BoxAnnotation\"}],\"root_ids\":[\"af598012-7994-4284-919d-e20de904ad95\"]},\"title\":\"Bokeh Application\",\"version\":\"0.12.1\"}};\n",
       "            var render_items = [{\"docid\":\"804aa66b-0bf4-4797-8d1d-5a6a65b39740\",\"elementid\":\"8d7b1696-d929-4ccf-82cd-1d434a7ae59d\",\"modelid\":\"af598012-7994-4284-919d-e20de904ad95\",\"notebook_comms_target\":\"53f36b5f-8d9d-4e8e-b29d-be17cc027a02\"}];\n",
       "            \n",
       "            Bokeh.embed.embed_items(docs_json, render_items);\n",
       "        });\n",
       "      },\n",
       "      function(Bokeh) {\n",
       "      }\n",
       "    ];\n",
       "  \n",
       "    function run_inline_js() {\n",
       "      for (var i = 0; i < inline_js.length; i++) {\n",
       "        inline_js[i](window.Bokeh);\n",
       "      }\n",
       "    }\n",
       "  \n",
       "    if (window._bokeh_is_loading === 0) {\n",
       "      console.log(\"Bokeh: BokehJS loaded, going straight to plotting\");\n",
       "      run_inline_js();\n",
       "    } else {\n",
       "      load_libs(js_urls, function() {\n",
       "        console.log(\"Bokeh: BokehJS plotting callback run at\", now());\n",
       "        run_inline_js();\n",
       "      });\n",
       "    }\n",
       "  }(this));\n",
       "</script>"
      ]
     },
     "metadata": {},
     "output_type": "display_data"
    },
    {
     "data": {
      "text/html": [
       "<p><code>&lt;Bokeh Notebook handle for <strong>In[6]</strong>&gt;</code></p>"
      ],
      "text/plain": [
       "<bokeh.io._CommsHandle at 0x80b5e10>"
      ]
     },
     "execution_count": 6,
     "metadata": {},
     "output_type": "execute_result"
    }
   ],
   "source": [
    "from bokeh.models.tiles import QUADKEYTileSource\n",
    "tile_source = QUADKEYTileSource(url='http://t0.tiles.virtualearth.net/tiles/a{Q}.jpeg?g=854&mkt=en-US&token=Anz84uRE1RULeLwuJ0qKu5amcu5rugRXy1vKc27wUaKVyIv1SVZrUjqaOfXJJoI0')\n",
    "tile_source.attribution = 'Microsoft Bing Maps'\n",
    "\n",
    "fig = figure(x_range=x_range, y_range=y_range, plot_height=600, plot_width=900)\n",
    "fig.axis.visible = False\n",
    "fig.add_tile(tile_source)\n",
    "\n",
    "show(fig)"
   ]
  },
  {
   "cell_type": "markdown",
   "metadata": {},
   "source": [
    "## Yandex Maps Example"
   ]
  },
  {
   "cell_type": "markdown",
   "metadata": {},
   "source": [
    "- Yandex Map Template:\n",
    "http://vec04.maps.yandex.net/tiles?l=map&v=2.26.0&x={X}&y={Y}&z={Z}&lang=ru-RU\n",
    "- Yandex Map Example:\n",
    "http://vec04.maps.yandex.net/tiles?l=map&v=2.26.0&x=2&y=6&z=4&lang=ru-RU"
   ]
  },
  {
   "cell_type": "markdown",
   "metadata": {},
   "source": [
    "Yet another example of using a map service. Many exist that are NOT in english."
   ]
  },
  {
   "cell_type": "code",
   "execution_count": 7,
   "metadata": {
    "collapsed": false
   },
   "outputs": [
    {
     "data": {
      "text/html": [
       "\n",
       "\n",
       "    <div class=\"bk-root\">\n",
       "        <div class=\"plotdiv\" id=\"789c19cf-5060-4928-8c83-80d2dae67d0f\"></div>\n",
       "    </div>\n",
       "<script type=\"text/javascript\">\n",
       "  \n",
       "  (function(global) {\n",
       "    function now() {\n",
       "      return new Date();\n",
       "    }\n",
       "  \n",
       "    var force = \"\";\n",
       "  \n",
       "    if (typeof (window._bokeh_onload_callbacks) === \"undefined\" || force !== \"\") {\n",
       "      window._bokeh_onload_callbacks = [];\n",
       "      window._bokeh_is_loading = undefined;\n",
       "    }\n",
       "  \n",
       "    function run_callbacks() {\n",
       "      window._bokeh_onload_callbacks.forEach(function(callback) { callback() });\n",
       "      delete window._bokeh_onload_callbacks\n",
       "      console.info(\"Bokeh: all callbacks have finished\");\n",
       "    }\n",
       "  \n",
       "    function load_libs(js_urls, callback) {\n",
       "      window._bokeh_onload_callbacks.push(callback);\n",
       "      if (window._bokeh_is_loading > 0) {\n",
       "        console.log(\"Bokeh: BokehJS is being loaded, scheduling callback at\", now());\n",
       "        return null;\n",
       "      }\n",
       "      if (js_urls == null || js_urls.length === 0) {\n",
       "        run_callbacks();\n",
       "        return null;\n",
       "      }\n",
       "      console.log(\"Bokeh: BokehJS not loaded, scheduling load and callback at\", now());\n",
       "      window._bokeh_is_loading = js_urls.length;\n",
       "      for (var i = 0; i < js_urls.length; i++) {\n",
       "        var url = js_urls[i];\n",
       "        var s = document.createElement('script');\n",
       "        s.src = url;\n",
       "        s.async = false;\n",
       "        s.onreadystatechange = s.onload = function() {\n",
       "          window._bokeh_is_loading--;\n",
       "          if (window._bokeh_is_loading === 0) {\n",
       "            console.log(\"Bokeh: all BokehJS libraries loaded\");\n",
       "            run_callbacks()\n",
       "          }\n",
       "        };\n",
       "        s.onerror = function() {\n",
       "          console.warn(\"failed to load library \" + url);\n",
       "        };\n",
       "        console.log(\"Bokeh: injecting script tag for BokehJS library: \", url);\n",
       "        document.getElementsByTagName(\"head\")[0].appendChild(s);\n",
       "      }\n",
       "    };var element = document.getElementById(\"789c19cf-5060-4928-8c83-80d2dae67d0f\");\n",
       "    if (element == null) {\n",
       "      console.log(\"Bokeh: ERROR: autoload.js configured with elementid '789c19cf-5060-4928-8c83-80d2dae67d0f' but no matching script tag was found. \")\n",
       "      return false;\n",
       "    }\n",
       "  \n",
       "    var js_urls = [];\n",
       "  \n",
       "    var inline_js = [\n",
       "      function(Bokeh) {\n",
       "        Bokeh.$(function() {\n",
       "            var docs_json = {\"770b3093-937c-46b2-96cb-712b8958431e\":{\"roots\":{\"references\":[{\"attributes\":{\"plot\":{\"id\":\"2e1f984e-69ba-4d23-b559-c9a772510a12\",\"subtype\":\"Figure\",\"type\":\"Plot\"},\"ticker\":{\"id\":\"b22a1f6d-e986-439b-99cf-0c815703f679\",\"type\":\"BasicTicker\"}},\"id\":\"b25ba07b-c77b-429d-969e-460100b73075\",\"type\":\"Grid\"},{\"attributes\":{},\"id\":\"a876cb15-1886-4e9a-b280-f7b5eedab53a\",\"type\":\"BasicTickFormatter\"},{\"attributes\":{\"attribution\":\"Yandex Maps\",\"url\":\"http://vec04.maps.yandex.net/tiles?l=map&v=2.26.0&x={X}&y={Y}&z={Z}&lang=ru-RU\"},\"id\":\"ec162a98-0a69-49ae-8a18-fa80ad0e8c4d\",\"type\":\"WMTSTileSource\"},{\"attributes\":{\"plot\":{\"id\":\"2e1f984e-69ba-4d23-b559-c9a772510a12\",\"subtype\":\"Figure\",\"type\":\"Plot\"}},\"id\":\"470b704b-c3f2-4653-bd12-fb54afe30c3e\",\"type\":\"SaveTool\"},{\"attributes\":{\"active_drag\":\"auto\",\"active_scroll\":\"auto\",\"active_tap\":\"auto\",\"tools\":[{\"id\":\"97d8a8dc-d88c-4fad-95b8-f85a0e9dc3cf\",\"type\":\"PanTool\"},{\"id\":\"d1d0abfb-e7af-4caf-9194-aaf9ef6e3ad0\",\"type\":\"WheelZoomTool\"},{\"id\":\"7d484163-c05d-4ba0-9187-2607c121e404\",\"type\":\"BoxZoomTool\"},{\"id\":\"470b704b-c3f2-4653-bd12-fb54afe30c3e\",\"type\":\"SaveTool\"},{\"id\":\"626d0d72-ed4c-417e-a9b7-b8cec3e0f3b1\",\"type\":\"ResetTool\"},{\"id\":\"12a16a3d-a7ef-4b00-813d-57f79deaeecf\",\"type\":\"HelpTool\"}]},\"id\":\"b4fa551a-babf-471c-a867-cc4994f8c5dd\",\"type\":\"Toolbar\"},{\"attributes\":{\"plot\":{\"id\":\"2e1f984e-69ba-4d23-b559-c9a772510a12\",\"subtype\":\"Figure\",\"type\":\"Plot\"}},\"id\":\"12a16a3d-a7ef-4b00-813d-57f79deaeecf\",\"type\":\"HelpTool\"},{\"attributes\":{\"bottom_units\":\"screen\",\"fill_alpha\":{\"value\":0.5},\"fill_color\":{\"value\":\"lightgrey\"},\"left_units\":\"screen\",\"level\":\"overlay\",\"line_alpha\":{\"value\":1.0},\"line_color\":{\"value\":\"black\"},\"line_dash\":[4,4],\"line_width\":{\"value\":2},\"plot\":null,\"render_mode\":\"css\",\"right_units\":\"screen\",\"top_units\":\"screen\"},\"id\":\"e6f65543-5aa0-49d7-afb0-93d9f941e03e\",\"type\":\"BoxAnnotation\"},{\"attributes\":{},\"id\":\"fe56ca02-dba4-4eca-b89a-0372e1750462\",\"type\":\"BasicTickFormatter\"},{\"attributes\":{\"callback\":null,\"end\":10000000.0,\"start\":-10000000.0},\"id\":\"904c50f6-b480-4410-879a-1cbbe3ca74e6\",\"type\":\"Range1d\"},{\"attributes\":{\"tile_source\":{\"id\":\"ec162a98-0a69-49ae-8a18-fa80ad0e8c4d\",\"type\":\"WMTSTileSource\"}},\"id\":\"6204d8fc-c311-4cd9-972b-7bd8468eec96\",\"type\":\"TileRenderer\"},{\"attributes\":{\"formatter\":{\"id\":\"fe56ca02-dba4-4eca-b89a-0372e1750462\",\"type\":\"BasicTickFormatter\"},\"plot\":{\"id\":\"2e1f984e-69ba-4d23-b559-c9a772510a12\",\"subtype\":\"Figure\",\"type\":\"Plot\"},\"ticker\":{\"id\":\"53200f71-a0c7-4387-983e-d66f491aad9e\",\"type\":\"BasicTicker\"},\"visible\":false},\"id\":\"cd85c523-1a2d-4bd4-a054-bc5f0c530495\",\"type\":\"LinearAxis\"},{\"attributes\":{\"formatter\":{\"id\":\"a876cb15-1886-4e9a-b280-f7b5eedab53a\",\"type\":\"BasicTickFormatter\"},\"plot\":{\"id\":\"2e1f984e-69ba-4d23-b559-c9a772510a12\",\"subtype\":\"Figure\",\"type\":\"Plot\"},\"ticker\":{\"id\":\"b22a1f6d-e986-439b-99cf-0c815703f679\",\"type\":\"BasicTicker\"},\"visible\":false},\"id\":\"a579ff98-80c1-42d7-a1cf-e292632d9296\",\"type\":\"LinearAxis\"},{\"attributes\":{},\"id\":\"64fdc81f-fcaf-4c63-a4bb-2b2bd4a328cb\",\"type\":\"ToolEvents\"},{\"attributes\":{\"callback\":null,\"end\":10000000.0,\"start\":-10000000.0},\"id\":\"a3567067-29de-4126-aca4-1f6436bf6518\",\"type\":\"Range1d\"},{\"attributes\":{\"plot\":{\"id\":\"2e1f984e-69ba-4d23-b559-c9a772510a12\",\"subtype\":\"Figure\",\"type\":\"Plot\"}},\"id\":\"626d0d72-ed4c-417e-a9b7-b8cec3e0f3b1\",\"type\":\"ResetTool\"},{\"attributes\":{\"plot\":{\"id\":\"2e1f984e-69ba-4d23-b559-c9a772510a12\",\"subtype\":\"Figure\",\"type\":\"Plot\"}},\"id\":\"97d8a8dc-d88c-4fad-95b8-f85a0e9dc3cf\",\"type\":\"PanTool\"},{\"attributes\":{\"dimension\":1,\"plot\":{\"id\":\"2e1f984e-69ba-4d23-b559-c9a772510a12\",\"subtype\":\"Figure\",\"type\":\"Plot\"},\"ticker\":{\"id\":\"53200f71-a0c7-4387-983e-d66f491aad9e\",\"type\":\"BasicTicker\"}},\"id\":\"4223b114-035e-4c2e-8b74-0dbf4aa3ee19\",\"type\":\"Grid\"},{\"attributes\":{\"overlay\":{\"id\":\"e6f65543-5aa0-49d7-afb0-93d9f941e03e\",\"type\":\"BoxAnnotation\"},\"plot\":{\"id\":\"2e1f984e-69ba-4d23-b559-c9a772510a12\",\"subtype\":\"Figure\",\"type\":\"Plot\"}},\"id\":\"7d484163-c05d-4ba0-9187-2607c121e404\",\"type\":\"BoxZoomTool\"},{\"attributes\":{\"below\":[{\"id\":\"a579ff98-80c1-42d7-a1cf-e292632d9296\",\"type\":\"LinearAxis\"}],\"left\":[{\"id\":\"cd85c523-1a2d-4bd4-a054-bc5f0c530495\",\"type\":\"LinearAxis\"}],\"plot_width\":900,\"renderers\":[{\"id\":\"a579ff98-80c1-42d7-a1cf-e292632d9296\",\"type\":\"LinearAxis\"},{\"id\":\"b25ba07b-c77b-429d-969e-460100b73075\",\"type\":\"Grid\"},{\"id\":\"cd85c523-1a2d-4bd4-a054-bc5f0c530495\",\"type\":\"LinearAxis\"},{\"id\":\"4223b114-035e-4c2e-8b74-0dbf4aa3ee19\",\"type\":\"Grid\"},{\"id\":\"e6f65543-5aa0-49d7-afb0-93d9f941e03e\",\"type\":\"BoxAnnotation\"},{\"id\":\"6204d8fc-c311-4cd9-972b-7bd8468eec96\",\"type\":\"TileRenderer\"}],\"title\":{\"id\":\"947cb08a-bcca-4d2a-87f7-aa7997da683f\",\"type\":\"Title\"},\"tool_events\":{\"id\":\"64fdc81f-fcaf-4c63-a4bb-2b2bd4a328cb\",\"type\":\"ToolEvents\"},\"toolbar\":{\"id\":\"b4fa551a-babf-471c-a867-cc4994f8c5dd\",\"type\":\"Toolbar\"},\"x_range\":{\"id\":\"904c50f6-b480-4410-879a-1cbbe3ca74e6\",\"type\":\"Range1d\"},\"y_range\":{\"id\":\"a3567067-29de-4126-aca4-1f6436bf6518\",\"type\":\"Range1d\"}},\"id\":\"2e1f984e-69ba-4d23-b559-c9a772510a12\",\"subtype\":\"Figure\",\"type\":\"Plot\"},{\"attributes\":{\"plot\":null,\"text\":null},\"id\":\"947cb08a-bcca-4d2a-87f7-aa7997da683f\",\"type\":\"Title\"},{\"attributes\":{},\"id\":\"b22a1f6d-e986-439b-99cf-0c815703f679\",\"type\":\"BasicTicker\"},{\"attributes\":{},\"id\":\"53200f71-a0c7-4387-983e-d66f491aad9e\",\"type\":\"BasicTicker\"},{\"attributes\":{\"plot\":{\"id\":\"2e1f984e-69ba-4d23-b559-c9a772510a12\",\"subtype\":\"Figure\",\"type\":\"Plot\"}},\"id\":\"d1d0abfb-e7af-4caf-9194-aaf9ef6e3ad0\",\"type\":\"WheelZoomTool\"}],\"root_ids\":[\"2e1f984e-69ba-4d23-b559-c9a772510a12\"]},\"title\":\"Bokeh Application\",\"version\":\"0.12.1\"}};\n",
       "            var render_items = [{\"docid\":\"770b3093-937c-46b2-96cb-712b8958431e\",\"elementid\":\"789c19cf-5060-4928-8c83-80d2dae67d0f\",\"modelid\":\"2e1f984e-69ba-4d23-b559-c9a772510a12\",\"notebook_comms_target\":\"f67ba4d9-916a-4cd3-a569-133ce635c93e\"}];\n",
       "            \n",
       "            Bokeh.embed.embed_items(docs_json, render_items);\n",
       "        });\n",
       "      },\n",
       "      function(Bokeh) {\n",
       "      }\n",
       "    ];\n",
       "  \n",
       "    function run_inline_js() {\n",
       "      for (var i = 0; i < inline_js.length; i++) {\n",
       "        inline_js[i](window.Bokeh);\n",
       "      }\n",
       "    }\n",
       "  \n",
       "    if (window._bokeh_is_loading === 0) {\n",
       "      console.log(\"Bokeh: BokehJS loaded, going straight to plotting\");\n",
       "      run_inline_js();\n",
       "    } else {\n",
       "      load_libs(js_urls, function() {\n",
       "        console.log(\"Bokeh: BokehJS plotting callback run at\", now());\n",
       "        run_inline_js();\n",
       "      });\n",
       "    }\n",
       "  }(this));\n",
       "</script>"
      ]
     },
     "metadata": {},
     "output_type": "display_data"
    },
    {
     "data": {
      "text/html": [
       "<p><code>&lt;Bokeh Notebook handle for <strong>In[7]</strong>&gt;</code></p>"
      ],
      "text/plain": [
       "<bokeh.io._CommsHandle at 0x80c36d8>"
      ]
     },
     "execution_count": 7,
     "metadata": {},
     "output_type": "execute_result"
    }
   ],
   "source": [
    "from bokeh.models import WMTSTileSource\n",
    "tile_source = WMTSTileSource(url='http://vec04.maps.yandex.net/tiles?l=map&v=2.26.0&x={X}&y={Y}&z={Z}&lang=ru-RU')\n",
    "tile_source.attribution = 'Yandex Maps'\n",
    "\n",
    "fig = figure(x_range=x_range, y_range=y_range, plot_height=600, plot_width=900)\n",
    "fig.axis.visible = False\n",
    "fig.add_tile(tile_source)\n",
    "\n",
    "show(fig)"
   ]
  },
  {
   "cell_type": "markdown",
   "metadata": {},
   "source": [
    "## GeoServer WMS Service Example"
   ]
  },
  {
   "cell_type": "markdown",
   "metadata": {},
   "source": [
    "- GeoServer WMS Service Example:\n",
    "http://demo.opengeo.org/geoserver/wms?bbox={XMIN},{YMIN},{XMAX},{YMAX}&width=768&height=380&request=GetMap&version=1.1.1&layers=ne:ne&styles=&format=image/png&transparent=true&srs=EPSG:3857"
   ]
  },
  {
   "cell_type": "markdown",
   "metadata": {},
   "source": [
    "If you have a service that accepts an extent, you can use `BBoxTileSource`.\n",
    "\n",
    "* WMS Service accepts extent, e.g. x_min, x_max.\n",
    "* To pass in an extent, use `tile_source = BBoxTileSource()` and pass that `tile_source` into `add_tile`"
   ]
  },
  {
   "cell_type": "code",
   "execution_count": 8,
   "metadata": {
    "collapsed": false
   },
   "outputs": [
    {
     "data": {
      "text/html": [
       "\n",
       "\n",
       "    <div class=\"bk-root\">\n",
       "        <div class=\"plotdiv\" id=\"5de6a1a9-3a60-41df-9dec-461ad1265fb0\"></div>\n",
       "    </div>\n",
       "<script type=\"text/javascript\">\n",
       "  \n",
       "  (function(global) {\n",
       "    function now() {\n",
       "      return new Date();\n",
       "    }\n",
       "  \n",
       "    var force = \"\";\n",
       "  \n",
       "    if (typeof (window._bokeh_onload_callbacks) === \"undefined\" || force !== \"\") {\n",
       "      window._bokeh_onload_callbacks = [];\n",
       "      window._bokeh_is_loading = undefined;\n",
       "    }\n",
       "  \n",
       "    function run_callbacks() {\n",
       "      window._bokeh_onload_callbacks.forEach(function(callback) { callback() });\n",
       "      delete window._bokeh_onload_callbacks\n",
       "      console.info(\"Bokeh: all callbacks have finished\");\n",
       "    }\n",
       "  \n",
       "    function load_libs(js_urls, callback) {\n",
       "      window._bokeh_onload_callbacks.push(callback);\n",
       "      if (window._bokeh_is_loading > 0) {\n",
       "        console.log(\"Bokeh: BokehJS is being loaded, scheduling callback at\", now());\n",
       "        return null;\n",
       "      }\n",
       "      if (js_urls == null || js_urls.length === 0) {\n",
       "        run_callbacks();\n",
       "        return null;\n",
       "      }\n",
       "      console.log(\"Bokeh: BokehJS not loaded, scheduling load and callback at\", now());\n",
       "      window._bokeh_is_loading = js_urls.length;\n",
       "      for (var i = 0; i < js_urls.length; i++) {\n",
       "        var url = js_urls[i];\n",
       "        var s = document.createElement('script');\n",
       "        s.src = url;\n",
       "        s.async = false;\n",
       "        s.onreadystatechange = s.onload = function() {\n",
       "          window._bokeh_is_loading--;\n",
       "          if (window._bokeh_is_loading === 0) {\n",
       "            console.log(\"Bokeh: all BokehJS libraries loaded\");\n",
       "            run_callbacks()\n",
       "          }\n",
       "        };\n",
       "        s.onerror = function() {\n",
       "          console.warn(\"failed to load library \" + url);\n",
       "        };\n",
       "        console.log(\"Bokeh: injecting script tag for BokehJS library: \", url);\n",
       "        document.getElementsByTagName(\"head\")[0].appendChild(s);\n",
       "      }\n",
       "    };var element = document.getElementById(\"5de6a1a9-3a60-41df-9dec-461ad1265fb0\");\n",
       "    if (element == null) {\n",
       "      console.log(\"Bokeh: ERROR: autoload.js configured with elementid '5de6a1a9-3a60-41df-9dec-461ad1265fb0' but no matching script tag was found. \")\n",
       "      return false;\n",
       "    }\n",
       "  \n",
       "    var js_urls = [];\n",
       "  \n",
       "    var inline_js = [\n",
       "      function(Bokeh) {\n",
       "        Bokeh.$(function() {\n",
       "            var docs_json = {\"d10d609a-aa58-414f-97b8-2c2eba16ab1f\":{\"roots\":{\"references\":[{\"attributes\":{\"formatter\":{\"id\":\"f04abfb7-01e1-4353-aadc-f4a12376c211\",\"type\":\"BasicTickFormatter\"},\"plot\":{\"id\":\"3681c24e-07f8-4d50-b2e6-ccb73d38e86b\",\"subtype\":\"Figure\",\"type\":\"Plot\"},\"ticker\":{\"id\":\"668c6786-c5e5-4a0e-8dbe-1e0803aa860b\",\"type\":\"BasicTicker\"},\"visible\":false},\"id\":\"37095c8a-7b24-49c7-9498-c7db789fce8c\",\"type\":\"LinearAxis\"},{\"attributes\":{\"below\":[{\"id\":\"d0d9db60-f792-490d-9c6c-74b2a305e362\",\"type\":\"LinearAxis\"}],\"left\":[{\"id\":\"37095c8a-7b24-49c7-9498-c7db789fce8c\",\"type\":\"LinearAxis\"}],\"plot_width\":900,\"renderers\":[{\"id\":\"d0d9db60-f792-490d-9c6c-74b2a305e362\",\"type\":\"LinearAxis\"},{\"id\":\"6b886099-e13c-4c49-8a9a-74605cadd73d\",\"type\":\"Grid\"},{\"id\":\"37095c8a-7b24-49c7-9498-c7db789fce8c\",\"type\":\"LinearAxis\"},{\"id\":\"7a57bdfc-b373-41e4-b321-68c77004946f\",\"type\":\"Grid\"},{\"id\":\"d73db883-76b0-47e6-9eb6-6330a6efe744\",\"type\":\"BoxAnnotation\"},{\"id\":\"b0b50236-56c9-480e-bba7-9a3420506961\",\"type\":\"TileRenderer\"}],\"title\":{\"id\":\"4e466248-d8ab-4a8e-a33d-652e59cfa5a3\",\"type\":\"Title\"},\"tool_events\":{\"id\":\"5d3065e6-30e5-4294-82c4-f2a462114222\",\"type\":\"ToolEvents\"},\"toolbar\":{\"id\":\"0c92e415-ec62-44a7-9562-2df02b6ee903\",\"type\":\"Toolbar\"},\"x_range\":{\"id\":\"904c50f6-b480-4410-879a-1cbbe3ca74e6\",\"type\":\"Range1d\"},\"y_range\":{\"id\":\"a3567067-29de-4126-aca4-1f6436bf6518\",\"type\":\"Range1d\"}},\"id\":\"3681c24e-07f8-4d50-b2e6-ccb73d38e86b\",\"subtype\":\"Figure\",\"type\":\"Plot\"},{\"attributes\":{\"plot\":{\"id\":\"3681c24e-07f8-4d50-b2e6-ccb73d38e86b\",\"subtype\":\"Figure\",\"type\":\"Plot\"}},\"id\":\"f40dac82-8970-4c5a-9c0a-1d6b6d320ec0\",\"type\":\"HelpTool\"},{\"attributes\":{},\"id\":\"668c6786-c5e5-4a0e-8dbe-1e0803aa860b\",\"type\":\"BasicTicker\"},{\"attributes\":{},\"id\":\"5d3065e6-30e5-4294-82c4-f2a462114222\",\"type\":\"ToolEvents\"},{\"attributes\":{},\"id\":\"30a9e00b-7efe-41d5-bcd6-bfe4b767a9c2\",\"type\":\"BasicTicker\"},{\"attributes\":{\"plot\":null,\"text\":null},\"id\":\"4e466248-d8ab-4a8e-a33d-652e59cfa5a3\",\"type\":\"Title\"},{\"attributes\":{\"callback\":null,\"end\":10000000.0,\"start\":-10000000.0},\"id\":\"904c50f6-b480-4410-879a-1cbbe3ca74e6\",\"type\":\"Range1d\"},{\"attributes\":{},\"id\":\"f04abfb7-01e1-4353-aadc-f4a12376c211\",\"type\":\"BasicTickFormatter\"},{\"attributes\":{\"active_drag\":\"auto\",\"active_scroll\":\"auto\",\"active_tap\":\"auto\",\"tools\":[{\"id\":\"ded1ddbd-e9fe-4995-8d67-f3e2af82066b\",\"type\":\"PanTool\"},{\"id\":\"43b5310d-ffd6-4dc7-9735-b894b087b02a\",\"type\":\"WheelZoomTool\"},{\"id\":\"683ebf6f-b74d-4abe-a056-02719c50d1b3\",\"type\":\"BoxZoomTool\"},{\"id\":\"6a7a905c-ab56-45f1-a73b-4be1e1f7ca13\",\"type\":\"SaveTool\"},{\"id\":\"ca1e4b05-ab8e-4d1a-997b-a56b8b806246\",\"type\":\"ResetTool\"},{\"id\":\"f40dac82-8970-4c5a-9c0a-1d6b6d320ec0\",\"type\":\"HelpTool\"}]},\"id\":\"0c92e415-ec62-44a7-9562-2df02b6ee903\",\"type\":\"Toolbar\"},{\"attributes\":{\"overlay\":{\"id\":\"d73db883-76b0-47e6-9eb6-6330a6efe744\",\"type\":\"BoxAnnotation\"},\"plot\":{\"id\":\"3681c24e-07f8-4d50-b2e6-ccb73d38e86b\",\"subtype\":\"Figure\",\"type\":\"Plot\"}},\"id\":\"683ebf6f-b74d-4abe-a056-02719c50d1b3\",\"type\":\"BoxZoomTool\"},{\"attributes\":{\"callback\":null,\"end\":10000000.0,\"start\":-10000000.0},\"id\":\"a3567067-29de-4126-aca4-1f6436bf6518\",\"type\":\"Range1d\"},{\"attributes\":{\"bottom_units\":\"screen\",\"fill_alpha\":{\"value\":0.5},\"fill_color\":{\"value\":\"lightgrey\"},\"left_units\":\"screen\",\"level\":\"overlay\",\"line_alpha\":{\"value\":1.0},\"line_color\":{\"value\":\"black\"},\"line_dash\":[4,4],\"line_width\":{\"value\":2},\"plot\":null,\"render_mode\":\"css\",\"right_units\":\"screen\",\"top_units\":\"screen\"},\"id\":\"d73db883-76b0-47e6-9eb6-6330a6efe744\",\"type\":\"BoxAnnotation\"},{\"attributes\":{\"tile_source\":{\"id\":\"54255716-c1af-4902-883e-2acbafa173af\",\"type\":\"BBoxTileSource\"}},\"id\":\"b0b50236-56c9-480e-bba7-9a3420506961\",\"type\":\"TileRenderer\"},{\"attributes\":{\"plot\":{\"id\":\"3681c24e-07f8-4d50-b2e6-ccb73d38e86b\",\"subtype\":\"Figure\",\"type\":\"Plot\"}},\"id\":\"6a7a905c-ab56-45f1-a73b-4be1e1f7ca13\",\"type\":\"SaveTool\"},{\"attributes\":{},\"id\":\"33e81230-65e5-4b07-87ba-287be89fa30d\",\"type\":\"BasicTickFormatter\"},{\"attributes\":{\"plot\":{\"id\":\"3681c24e-07f8-4d50-b2e6-ccb73d38e86b\",\"subtype\":\"Figure\",\"type\":\"Plot\"},\"ticker\":{\"id\":\"30a9e00b-7efe-41d5-bcd6-bfe4b767a9c2\",\"type\":\"BasicTicker\"}},\"id\":\"6b886099-e13c-4c49-8a9a-74605cadd73d\",\"type\":\"Grid\"},{\"attributes\":{\"plot\":{\"id\":\"3681c24e-07f8-4d50-b2e6-ccb73d38e86b\",\"subtype\":\"Figure\",\"type\":\"Plot\"}},\"id\":\"ded1ddbd-e9fe-4995-8d67-f3e2af82066b\",\"type\":\"PanTool\"},{\"attributes\":{\"plot\":{\"id\":\"3681c24e-07f8-4d50-b2e6-ccb73d38e86b\",\"subtype\":\"Figure\",\"type\":\"Plot\"}},\"id\":\"43b5310d-ffd6-4dc7-9735-b894b087b02a\",\"type\":\"WheelZoomTool\"},{\"attributes\":{\"plot\":{\"id\":\"3681c24e-07f8-4d50-b2e6-ccb73d38e86b\",\"subtype\":\"Figure\",\"type\":\"Plot\"}},\"id\":\"ca1e4b05-ab8e-4d1a-997b-a56b8b806246\",\"type\":\"ResetTool\"},{\"attributes\":{\"formatter\":{\"id\":\"33e81230-65e5-4b07-87ba-287be89fa30d\",\"type\":\"BasicTickFormatter\"},\"plot\":{\"id\":\"3681c24e-07f8-4d50-b2e6-ccb73d38e86b\",\"subtype\":\"Figure\",\"type\":\"Plot\"},\"ticker\":{\"id\":\"30a9e00b-7efe-41d5-bcd6-bfe4b767a9c2\",\"type\":\"BasicTicker\"},\"visible\":false},\"id\":\"d0d9db60-f792-490d-9c6c-74b2a305e362\",\"type\":\"LinearAxis\"},{\"attributes\":{\"attribution\":\"Open Geo - GeoServer WMS Service\",\"url\":\"http://demo.opengeo.org/geoserver/wms?bbox={XMIN},{YMIN},{XMAX},{YMAX}&width=256&height=256&request=GetMap&version=1.1.1&layers=ne:ne&styles=&format=image/png&transparent=true&srs=EPSG:3857\"},\"id\":\"54255716-c1af-4902-883e-2acbafa173af\",\"type\":\"BBoxTileSource\"},{\"attributes\":{\"dimension\":1,\"plot\":{\"id\":\"3681c24e-07f8-4d50-b2e6-ccb73d38e86b\",\"subtype\":\"Figure\",\"type\":\"Plot\"},\"ticker\":{\"id\":\"668c6786-c5e5-4a0e-8dbe-1e0803aa860b\",\"type\":\"BasicTicker\"}},\"id\":\"7a57bdfc-b373-41e4-b321-68c77004946f\",\"type\":\"Grid\"}],\"root_ids\":[\"3681c24e-07f8-4d50-b2e6-ccb73d38e86b\"]},\"title\":\"Bokeh Application\",\"version\":\"0.12.1\"}};\n",
       "            var render_items = [{\"docid\":\"d10d609a-aa58-414f-97b8-2c2eba16ab1f\",\"elementid\":\"5de6a1a9-3a60-41df-9dec-461ad1265fb0\",\"modelid\":\"3681c24e-07f8-4d50-b2e6-ccb73d38e86b\",\"notebook_comms_target\":\"424e32ba-91e6-4d3a-a1cb-9df23bd8a84a\"}];\n",
       "            \n",
       "            Bokeh.embed.embed_items(docs_json, render_items);\n",
       "        });\n",
       "      },\n",
       "      function(Bokeh) {\n",
       "      }\n",
       "    ];\n",
       "  \n",
       "    function run_inline_js() {\n",
       "      for (var i = 0; i < inline_js.length; i++) {\n",
       "        inline_js[i](window.Bokeh);\n",
       "      }\n",
       "    }\n",
       "  \n",
       "    if (window._bokeh_is_loading === 0) {\n",
       "      console.log(\"Bokeh: BokehJS loaded, going straight to plotting\");\n",
       "      run_inline_js();\n",
       "    } else {\n",
       "      load_libs(js_urls, function() {\n",
       "        console.log(\"Bokeh: BokehJS plotting callback run at\", now());\n",
       "        run_inline_js();\n",
       "      });\n",
       "    }\n",
       "  }(this));\n",
       "</script>"
      ]
     },
     "metadata": {},
     "output_type": "display_data"
    },
    {
     "data": {
      "text/html": [
       "<p><code>&lt;Bokeh Notebook handle for <strong>In[8]</strong>&gt;</code></p>"
      ],
      "text/plain": [
       "<bokeh.io._CommsHandle at 0x80c9f60>"
      ]
     },
     "execution_count": 8,
     "metadata": {},
     "output_type": "execute_result"
    }
   ],
   "source": [
    "from bokeh.models import BBoxTileSource\n",
    "tile_source = BBoxTileSource(url='http://demo.opengeo.org/geoserver/wms?bbox={XMIN},{YMIN},{XMAX},{YMAX}&width=256&height=256&request=GetMap&version=1.1.1&layers=ne:ne&styles=&format=image/png&transparent=true&srs=EPSG:3857')\n",
    "tile_source.attribution = 'Open Geo - GeoServer WMS Service'\n",
    "\n",
    "fig = figure(x_range=x_range, y_range=y_range, plot_height=600, plot_width=900)\n",
    "fig.axis.visible = False\n",
    "fig.add_tile(tile_source)\n",
    "\n",
    "show(fig)"
   ]
  },
  {
   "cell_type": "markdown",
   "metadata": {},
   "source": [
    "# Using Multiple Tiles"
   ]
  },
  {
   "cell_type": "markdown",
   "metadata": {},
   "source": [
    "## Map Sandwich"
   ]
  },
  {
   "cell_type": "markdown",
   "metadata": {},
   "source": [
    "Demonstration of using tiles and labels, calling `add_tile()` twice."
   ]
  },
  {
   "cell_type": "code",
   "execution_count": 9,
   "metadata": {
    "collapsed": false
   },
   "outputs": [
    {
     "data": {
      "text/html": [
       "\n",
       "\n",
       "    <div class=\"bk-root\">\n",
       "        <div class=\"plotdiv\" id=\"eed07eba-8211-4fc2-9fac-6762426c17de\"></div>\n",
       "    </div>\n",
       "<script type=\"text/javascript\">\n",
       "  \n",
       "  (function(global) {\n",
       "    function now() {\n",
       "      return new Date();\n",
       "    }\n",
       "  \n",
       "    var force = \"\";\n",
       "  \n",
       "    if (typeof (window._bokeh_onload_callbacks) === \"undefined\" || force !== \"\") {\n",
       "      window._bokeh_onload_callbacks = [];\n",
       "      window._bokeh_is_loading = undefined;\n",
       "    }\n",
       "  \n",
       "    function run_callbacks() {\n",
       "      window._bokeh_onload_callbacks.forEach(function(callback) { callback() });\n",
       "      delete window._bokeh_onload_callbacks\n",
       "      console.info(\"Bokeh: all callbacks have finished\");\n",
       "    }\n",
       "  \n",
       "    function load_libs(js_urls, callback) {\n",
       "      window._bokeh_onload_callbacks.push(callback);\n",
       "      if (window._bokeh_is_loading > 0) {\n",
       "        console.log(\"Bokeh: BokehJS is being loaded, scheduling callback at\", now());\n",
       "        return null;\n",
       "      }\n",
       "      if (js_urls == null || js_urls.length === 0) {\n",
       "        run_callbacks();\n",
       "        return null;\n",
       "      }\n",
       "      console.log(\"Bokeh: BokehJS not loaded, scheduling load and callback at\", now());\n",
       "      window._bokeh_is_loading = js_urls.length;\n",
       "      for (var i = 0; i < js_urls.length; i++) {\n",
       "        var url = js_urls[i];\n",
       "        var s = document.createElement('script');\n",
       "        s.src = url;\n",
       "        s.async = false;\n",
       "        s.onreadystatechange = s.onload = function() {\n",
       "          window._bokeh_is_loading--;\n",
       "          if (window._bokeh_is_loading === 0) {\n",
       "            console.log(\"Bokeh: all BokehJS libraries loaded\");\n",
       "            run_callbacks()\n",
       "          }\n",
       "        };\n",
       "        s.onerror = function() {\n",
       "          console.warn(\"failed to load library \" + url);\n",
       "        };\n",
       "        console.log(\"Bokeh: injecting script tag for BokehJS library: \", url);\n",
       "        document.getElementsByTagName(\"head\")[0].appendChild(s);\n",
       "      }\n",
       "    };var element = document.getElementById(\"eed07eba-8211-4fc2-9fac-6762426c17de\");\n",
       "    if (element == null) {\n",
       "      console.log(\"Bokeh: ERROR: autoload.js configured with elementid 'eed07eba-8211-4fc2-9fac-6762426c17de' but no matching script tag was found. \")\n",
       "      return false;\n",
       "    }\n",
       "  \n",
       "    var js_urls = [];\n",
       "  \n",
       "    var inline_js = [\n",
       "      function(Bokeh) {\n",
       "        Bokeh.$(function() {\n",
       "            var docs_json = {\"fcf2c914-a0e3-4553-bb76-f580bd06c442\":{\"roots\":{\"references\":[{\"attributes\":{\"tile_source\":{\"id\":\"51cdbe6b-cca6-4c15-8285-01c19ee49c81\",\"type\":\"WMTSTileSource\"}},\"id\":\"62e87712-6b46-49db-8935-5557179f4abc\",\"type\":\"TileRenderer\"},{\"attributes\":{\"plot\":{\"id\":\"4176a3f0-b12e-4e9f-bf1d-086b7078089c\",\"subtype\":\"Figure\",\"type\":\"Plot\"}},\"id\":\"61661f71-29d1-41d3-8ff7-b476d185c5b9\",\"type\":\"ResetTool\"},{\"attributes\":{\"callback\":null,\"end\":10000000.0,\"start\":-10000000.0},\"id\":\"904c50f6-b480-4410-879a-1cbbe3ca74e6\",\"type\":\"Range1d\"},{\"attributes\":{\"plot\":null,\"text\":null},\"id\":\"2aea5c9e-4f33-4dea-98de-e8ee52f3f715\",\"type\":\"Title\"},{\"attributes\":{\"formatter\":{\"id\":\"e4c4b682-6e61-451f-a429-ce0ee9005ec9\",\"type\":\"BasicTickFormatter\"},\"plot\":{\"id\":\"4176a3f0-b12e-4e9f-bf1d-086b7078089c\",\"subtype\":\"Figure\",\"type\":\"Plot\"},\"ticker\":{\"id\":\"4314c8a1-cddd-4b58-b959-037f5d2f5d60\",\"type\":\"BasicTicker\"},\"visible\":false},\"id\":\"cf14f048-8cfa-4925-8236-a88e500ff4db\",\"type\":\"LinearAxis\"},{\"attributes\":{},\"id\":\"e4c4b682-6e61-451f-a429-ce0ee9005ec9\",\"type\":\"BasicTickFormatter\"},{\"attributes\":{\"plot\":{\"id\":\"4176a3f0-b12e-4e9f-bf1d-086b7078089c\",\"subtype\":\"Figure\",\"type\":\"Plot\"}},\"id\":\"de9a8909-ed92-495f-8f35-9f8aa33e8417\",\"type\":\"WheelZoomTool\"},{\"attributes\":{\"active_drag\":\"auto\",\"active_scroll\":\"auto\",\"active_tap\":\"auto\",\"tools\":[{\"id\":\"106292d6-082a-4293-8edc-7df8a7790741\",\"type\":\"PanTool\"},{\"id\":\"de9a8909-ed92-495f-8f35-9f8aa33e8417\",\"type\":\"WheelZoomTool\"},{\"id\":\"fd141985-bc35-473b-8e12-f1c9a6befcd5\",\"type\":\"BoxZoomTool\"},{\"id\":\"b36a7ef2-4add-4101-a169-8e72b4f746e9\",\"type\":\"SaveTool\"},{\"id\":\"61661f71-29d1-41d3-8ff7-b476d185c5b9\",\"type\":\"ResetTool\"},{\"id\":\"3314e2aa-9993-40fb-9423-8d214b786495\",\"type\":\"HelpTool\"}]},\"id\":\"78ffa225-e212-478e-8849-75214c6fda1b\",\"type\":\"Toolbar\"},{\"attributes\":{\"attribution\":\"Esri\",\"url\":\"http://services.arcgisonline.com/arcgis/rest/services/Ocean/World_Ocean_Base/MapServer/tile/{Z}/{Y}/{X}.png\"},\"id\":\"51cdbe6b-cca6-4c15-8285-01c19ee49c81\",\"type\":\"WMTSTileSource\"},{\"attributes\":{\"formatter\":{\"id\":\"c0630969-f3f0-4e2b-a73f-c940bf864e67\",\"type\":\"BasicTickFormatter\"},\"plot\":{\"id\":\"4176a3f0-b12e-4e9f-bf1d-086b7078089c\",\"subtype\":\"Figure\",\"type\":\"Plot\"},\"ticker\":{\"id\":\"1dae5a50-4182-47d5-b0ce-714becd835b3\",\"type\":\"BasicTicker\"},\"visible\":false},\"id\":\"c2d29c62-1019-4c95-84da-826ba2e0dac6\",\"type\":\"LinearAxis\"},{\"attributes\":{},\"id\":\"4314c8a1-cddd-4b58-b959-037f5d2f5d60\",\"type\":\"BasicTicker\"},{\"attributes\":{\"plot\":{\"id\":\"4176a3f0-b12e-4e9f-bf1d-086b7078089c\",\"subtype\":\"Figure\",\"type\":\"Plot\"}},\"id\":\"106292d6-082a-4293-8edc-7df8a7790741\",\"type\":\"PanTool\"},{\"attributes\":{},\"id\":\"c0630969-f3f0-4e2b-a73f-c940bf864e67\",\"type\":\"BasicTickFormatter\"},{\"attributes\":{},\"id\":\"9e9439b5-7620-47df-b605-84814f82bfe7\",\"type\":\"ToolEvents\"},{\"attributes\":{\"callback\":null,\"end\":10000000.0,\"start\":-10000000.0},\"id\":\"a3567067-29de-4126-aca4-1f6436bf6518\",\"type\":\"Range1d\"},{\"attributes\":{\"bottom_units\":\"screen\",\"fill_alpha\":{\"value\":0.5},\"fill_color\":{\"value\":\"lightgrey\"},\"left_units\":\"screen\",\"level\":\"overlay\",\"line_alpha\":{\"value\":1.0},\"line_color\":{\"value\":\"black\"},\"line_dash\":[4,4],\"line_width\":{\"value\":2},\"plot\":null,\"render_mode\":\"css\",\"right_units\":\"screen\",\"top_units\":\"screen\"},\"id\":\"39ebac4b-35ee-47fd-bcf5-00a747cef9f4\",\"type\":\"BoxAnnotation\"},{\"attributes\":{\"plot\":{\"id\":\"4176a3f0-b12e-4e9f-bf1d-086b7078089c\",\"subtype\":\"Figure\",\"type\":\"Plot\"}},\"id\":\"b36a7ef2-4add-4101-a169-8e72b4f746e9\",\"type\":\"SaveTool\"},{\"attributes\":{\"render_parents\":false,\"tile_source\":{\"id\":\"3cc7a32e-8c5f-4243-8c50-c683fd4249b8\",\"type\":\"WMTSTileSource\"}},\"id\":\"f5346cf4-8f12-4870-9ba9-1e809b2cf0ac\",\"type\":\"TileRenderer\"},{\"attributes\":{\"plot\":{\"id\":\"4176a3f0-b12e-4e9f-bf1d-086b7078089c\",\"subtype\":\"Figure\",\"type\":\"Plot\"},\"ticker\":{\"id\":\"1dae5a50-4182-47d5-b0ce-714becd835b3\",\"type\":\"BasicTicker\"}},\"id\":\"383faaa1-4f69-4415-95bc-74d81d179b5d\",\"type\":\"Grid\"},{\"attributes\":{},\"id\":\"1dae5a50-4182-47d5-b0ce-714becd835b3\",\"type\":\"BasicTicker\"},{\"attributes\":{\"below\":[{\"id\":\"c2d29c62-1019-4c95-84da-826ba2e0dac6\",\"type\":\"LinearAxis\"}],\"left\":[{\"id\":\"cf14f048-8cfa-4925-8236-a88e500ff4db\",\"type\":\"LinearAxis\"}],\"plot_width\":900,\"renderers\":[{\"id\":\"c2d29c62-1019-4c95-84da-826ba2e0dac6\",\"type\":\"LinearAxis\"},{\"id\":\"383faaa1-4f69-4415-95bc-74d81d179b5d\",\"type\":\"Grid\"},{\"id\":\"cf14f048-8cfa-4925-8236-a88e500ff4db\",\"type\":\"LinearAxis\"},{\"id\":\"e1634c29-fde7-4fc7-b0e1-ae72bf848996\",\"type\":\"Grid\"},{\"id\":\"39ebac4b-35ee-47fd-bcf5-00a747cef9f4\",\"type\":\"BoxAnnotation\"},{\"id\":\"62e87712-6b46-49db-8935-5557179f4abc\",\"type\":\"TileRenderer\"},{\"id\":\"f5346cf4-8f12-4870-9ba9-1e809b2cf0ac\",\"type\":\"TileRenderer\"}],\"title\":{\"id\":\"2aea5c9e-4f33-4dea-98de-e8ee52f3f715\",\"type\":\"Title\"},\"tool_events\":{\"id\":\"9e9439b5-7620-47df-b605-84814f82bfe7\",\"type\":\"ToolEvents\"},\"toolbar\":{\"id\":\"78ffa225-e212-478e-8849-75214c6fda1b\",\"type\":\"Toolbar\"},\"x_range\":{\"id\":\"904c50f6-b480-4410-879a-1cbbe3ca74e6\",\"type\":\"Range1d\"},\"y_range\":{\"id\":\"a3567067-29de-4126-aca4-1f6436bf6518\",\"type\":\"Range1d\"}},\"id\":\"4176a3f0-b12e-4e9f-bf1d-086b7078089c\",\"subtype\":\"Figure\",\"type\":\"Plot\"},{\"attributes\":{\"overlay\":{\"id\":\"39ebac4b-35ee-47fd-bcf5-00a747cef9f4\",\"type\":\"BoxAnnotation\"},\"plot\":{\"id\":\"4176a3f0-b12e-4e9f-bf1d-086b7078089c\",\"subtype\":\"Figure\",\"type\":\"Plot\"}},\"id\":\"fd141985-bc35-473b-8e12-f1c9a6befcd5\",\"type\":\"BoxZoomTool\"},{\"attributes\":{\"url\":\"http://services.arcgisonline.com/arcgis/rest/services/Ocean/World_Ocean_Reference/MapServer/tile/{Z}/{Y}/{X}.png\"},\"id\":\"3cc7a32e-8c5f-4243-8c50-c683fd4249b8\",\"type\":\"WMTSTileSource\"},{\"attributes\":{\"plot\":{\"id\":\"4176a3f0-b12e-4e9f-bf1d-086b7078089c\",\"subtype\":\"Figure\",\"type\":\"Plot\"}},\"id\":\"3314e2aa-9993-40fb-9423-8d214b786495\",\"type\":\"HelpTool\"},{\"attributes\":{\"dimension\":1,\"plot\":{\"id\":\"4176a3f0-b12e-4e9f-bf1d-086b7078089c\",\"subtype\":\"Figure\",\"type\":\"Plot\"},\"ticker\":{\"id\":\"4314c8a1-cddd-4b58-b959-037f5d2f5d60\",\"type\":\"BasicTicker\"}},\"id\":\"e1634c29-fde7-4fc7-b0e1-ae72bf848996\",\"type\":\"Grid\"}],\"root_ids\":[\"4176a3f0-b12e-4e9f-bf1d-086b7078089c\"]},\"title\":\"Bokeh Application\",\"version\":\"0.12.1\"}};\n",
       "            var render_items = [{\"docid\":\"fcf2c914-a0e3-4553-bb76-f580bd06c442\",\"elementid\":\"eed07eba-8211-4fc2-9fac-6762426c17de\",\"modelid\":\"4176a3f0-b12e-4e9f-bf1d-086b7078089c\",\"notebook_comms_target\":\"2e8d58b9-2da1-4db5-a94b-85bc79de1844\"}];\n",
       "            \n",
       "            Bokeh.embed.embed_items(docs_json, render_items);\n",
       "        });\n",
       "      },\n",
       "      function(Bokeh) {\n",
       "      }\n",
       "    ];\n",
       "  \n",
       "    function run_inline_js() {\n",
       "      for (var i = 0; i < inline_js.length; i++) {\n",
       "        inline_js[i](window.Bokeh);\n",
       "      }\n",
       "    }\n",
       "  \n",
       "    if (window._bokeh_is_loading === 0) {\n",
       "      console.log(\"Bokeh: BokehJS loaded, going straight to plotting\");\n",
       "      run_inline_js();\n",
       "    } else {\n",
       "      load_libs(js_urls, function() {\n",
       "        console.log(\"Bokeh: BokehJS plotting callback run at\", now());\n",
       "        run_inline_js();\n",
       "      });\n",
       "    }\n",
       "  }(this));\n",
       "</script>"
      ]
     },
     "metadata": {},
     "output_type": "display_data"
    },
    {
     "data": {
      "text/html": [
       "<p><code>&lt;Bokeh Notebook handle for <strong>In[9]</strong>&gt;</code></p>"
      ],
      "text/plain": [
       "<bokeh.io._CommsHandle at 0x80d8f60>"
      ]
     },
     "execution_count": 9,
     "metadata": {},
     "output_type": "execute_result"
    }
   ],
   "source": [
    "from bokeh.models import WMTSTileSource\n",
    "basemap = 'http://services.arcgisonline.com/arcgis/rest/services/Ocean/World_Ocean_Base/MapServer/tile/{Z}/{Y}/{X}.png'\n",
    "labels = 'http://services.arcgisonline.com/arcgis/rest/services/Ocean/World_Ocean_Reference/MapServer/tile/{Z}/{Y}/{X}.png'\n",
    "\n",
    "tile_source = WMTSTileSource(url=basemap)\n",
    "tile_source.attribution = 'Esri'\n",
    "\n",
    "labels_source = WMTSTileSource(url=labels)\n",
    "\n",
    "fig = figure(x_range=x_range, y_range=y_range, plot_height=600, plot_width=900)\n",
    "fig.axis.visible = False\n",
    "fig.add_tile(tile_source)\n",
    "fig.add_tile(labels_source, render_parents=False)\n",
    "\n",
    "show(fig)"
   ]
  },
  {
   "cell_type": "markdown",
   "metadata": {
    "collapsed": true
   },
   "source": [
    "---"
   ]
  },
  {
   "cell_type": "markdown",
   "metadata": {
    "collapsed": true
   },
   "source": [
    "\n",
    "*Copyright Continuum 2012-2016 All Rights Reserved.*"
   ]
  }
 ],
 "metadata": {
  "anaconda-cloud": {},
  "kernelspec": {
   "display_name": "Python [iqt]",
   "language": "python",
   "name": "Python [iqt]"
  },
  "language_info": {
   "codemirror_mode": {
    "name": "ipython",
    "version": 3
   },
   "file_extension": ".py",
   "mimetype": "text/x-python",
   "name": "python",
   "nbconvert_exporter": "python",
   "pygments_lexer": "ipython3",
   "version": "3.4.0"
  }
 },
 "nbformat": 4,
 "nbformat_minor": 0
}
