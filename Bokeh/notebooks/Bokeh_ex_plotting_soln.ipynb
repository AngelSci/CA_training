{
 "cells": [
  {
   "cell_type": "markdown",
   "metadata": {},
   "source": [
    "<img src='../../img/anaconda-logo.png' align='left' style=\"padding:10px\">\n",
    "<br>\n",
    "*Copyright Continuum 2012-2016 All Rights Reserved.*"
   ]
  },
  {
   "cell_type": "markdown",
   "metadata": {},
   "source": [
    "# Bokeh Exercise: Plotting Weather"
   ]
  },
  {
   "cell_type": "markdown",
   "metadata": {},
   "source": [
    "In this exercise, you will analyze weather data from the home town of one of our trainers."
   ]
  },
  {
   "cell_type": "markdown",
   "metadata": {},
   "source": [
    "Review the [plotting styles](./Bokeh_plotting_styles.ipynb) notebook."
   ]
  },
  {
   "cell_type": "markdown",
   "metadata": {},
   "source": [
    "## Table of Contents\n",
    "* [Bokeh Exercise: Plotting Weather](#Bokeh-Exercise:-Plotting-Weather)\n",
    "\t* [Set-Up](#Set-Up)\n",
    "* [Solution](#Solution)\n",
    "\t* [Read the data](#Read-the-data)\n",
    "\t* [Plot the Mean Temperature](#Plot-the-Mean-Temperature)\n",
    "\t* [Compute the Rolling Mean](#Compute-the-Rolling-Mean)\n",
    "\t* [Plots Mean and Rolling Mean Together](#Plots-Mean-and-Rolling-Mean-Together)\n",
    "\t* [Labeling your Plots](#Labeling-your-Plots)\n"
   ]
  },
  {
   "cell_type": "markdown",
   "metadata": {},
   "source": [
    "## Set-Up"
   ]
  },
  {
   "cell_type": "code",
   "execution_count": null,
   "metadata": {
    "collapsed": false
   },
   "outputs": [],
   "source": [
    "import pandas as pd\n",
    "import numpy as np\n",
    "from bokeh.io import output_notebook, show\n",
    "output_notebook()"
   ]
  },
  {
   "cell_type": "markdown",
   "metadata": {},
   "source": [
    "# Exercise:"
   ]
  },
  {
   "cell_type": "markdown",
   "metadata": {},
   "source": [
    "Using the Pittsburgh weather data file `data/pittsburgh2013.csv`:\n",
    "* make a *DateTime* axis plot\n",
    "* plot the daily mean temperature\n",
    "* plot the 2-week (14-day) moving average of the mean temperature\n",
    "* add legends\n",
    "* add axes labels"
   ]
  },
  {
   "cell_type": "markdown",
   "metadata": {},
   "source": [
    "## Read the data"
   ]
  },
  {
   "cell_type": "markdown",
   "metadata": {},
   "source": [
    "Read the date file 'data/pittsburgh2013.csv', and store in a DataFrame with a DataTime index based on the `Date` column in the file."
   ]
  },
  {
   "cell_type": "code",
   "execution_count": null,
   "metadata": {
    "collapsed": false
   },
   "outputs": [],
   "source": [
    "pittsburgh = pd.read_csv('data/pittsburgh2013.csv', index_col='Date', parse_dates=True)\n",
    "pittsburgh.head()"
   ]
  },
  {
   "cell_type": "markdown",
   "metadata": {},
   "source": [
    "## Plot the Mean Temperature"
   ]
  },
  {
   "cell_type": "markdown",
   "metadata": {},
   "source": [
    "Create a line plot of the time series data found in the column `Mean TemperatureF`"
   ]
  },
  {
   "cell_type": "code",
   "execution_count": null,
   "metadata": {
    "collapsed": false
   },
   "outputs": [],
   "source": [
    "plot = figure(x_axis_type='datetime', plot_width=900, plot_height=600)\n",
    "\n",
    "plot.line(pittsburgh.index, pittsburgh['Mean TemperatureF'], legend='Mean')\n",
    "\n",
    "show(plot)"
   ]
  },
  {
   "cell_type": "markdown",
   "metadata": {},
   "source": [
    "## Compute the Rolling Mean"
   ]
  },
  {
   "cell_type": "markdown",
   "metadata": {},
   "source": [
    "Compute a two-week rolling mean of the data found in the 'Mean TemperatureF' and store this rolling mean in a new column named 'two-week'."
   ]
  },
  {
   "cell_type": "code",
   "execution_count": null,
   "metadata": {
    "collapsed": false
   },
   "outputs": [],
   "source": [
    "pittsburgh['two-week'] = pittsburgh['Mean TemperatureF'].rolling(14).mean()\n",
    "pittsburgh.head()"
   ]
  },
  {
   "cell_type": "markdown",
   "metadata": {},
   "source": [
    "## Plots Mean and Rolling Mean Together"
   ]
  },
  {
   "cell_type": "markdown",
   "metadata": {},
   "source": [
    "Over-plot the two time series data: the original mean temperature and your computed rolling mean. Make sure to use the DataFrame index for the x-axis.\n",
    "\n",
    "*Hint: use the x_axis_type parameter when creating the figure object*"
   ]
  },
  {
   "cell_type": "code",
   "execution_count": null,
   "metadata": {
    "collapsed": false
   },
   "outputs": [],
   "source": [
    "plot = figure(x_axis_type='datetime', plot_width=900, plot_height=600)\n",
    "\n",
    "plot.line(pittsburgh.index, pittsburgh['Mean TemperatureF'], legend='Mean')\n",
    "plot.line(pittsburgh.index, pittsburgh['two-week'], color='red', legend='bi-weekly')\n",
    "\n",
    "show(plot)"
   ]
  },
  {
   "cell_type": "markdown",
   "metadata": {},
   "source": [
    "## Labeling your Plots"
   ]
  },
  {
   "cell_type": "markdown",
   "metadata": {},
   "source": [
    "Replot the figure above, but this time, add labels for x and y axes, a figure title, and a legend."
   ]
  },
  {
   "cell_type": "code",
   "execution_count": null,
   "metadata": {
    "collapsed": false
   },
   "outputs": [],
   "source": [
    "\n",
    "plot = figure(x_axis_type='datetime', plot_width=900, plot_height=600)\n",
    "\n",
    "plot.line(pittsburgh.index, pittsburgh['Mean TemperatureF'], legend='Mean')\n",
    "plot.line(pittsburgh.index, pittsburgh['two-week'], color='red', legend='bi-weekly')\n",
    "\n",
    "plot.xaxis.axis_label='Date'\n",
    "plot.yaxis.axis_label='Temperature ˚F'\n",
    "\n",
    "plot.title.text='Pittsburgh Mean temperature'\n",
    "\n",
    "plot.legend.location='top_left'\n",
    "\n",
    "show(plot)"
   ]
  },
  {
   "cell_type": "markdown",
   "metadata": {},
   "source": [
    "---\n",
    "*Copyright Continuum 2012-2016 All Rights Reserved.*"
   ]
  }
 ],
 "metadata": {
  "anaconda-cloud": {},
  "kernelspec": {
   "display_name": "Python [conda env:iqt]",
   "language": "python",
   "name": "conda-env-iqt-py"
  },
  "language_info": {
   "codemirror_mode": {
    "name": "ipython",
    "version": 3
   },
   "file_extension": ".py",
   "mimetype": "text/x-python",
   "name": "python",
   "nbconvert_exporter": "python",
   "pygments_lexer": "ipython3",
   "version": "3.5.2"
  }
 },
 "nbformat": 4,
 "nbformat_minor": 0
}
