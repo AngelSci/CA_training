{
 "cells": [
  {
   "cell_type": "markdown",
   "metadata": {},
   "source": [
    "<img src='../../img/anaconda-logo.png' align='left' style=\"padding:10px\">\n",
    "<br>\n",
    "*Copyright Continuum 2012-2016 All Rights Reserved.*"
   ]
  },
  {
   "cell_type": "markdown",
   "metadata": {},
   "source": [
    "# Bokeh Plotting and Custom Tools"
   ]
  },
  {
   "cell_type": "markdown",
   "metadata": {},
   "source": [
    "## Table of Contents\n",
    "* [Bokeh Plotting and Custom Tools](#Bokeh-Plotting-and-Custom-Tools)\n",
    "\t* [Set-Up](#Set-Up)\n",
    "* [ColumnDataSource](#ColumnDataSource)\n",
    "\t* [Bokeh Examples](#Bokeh-Examples)\n",
    "* [ColumnDataSource Demonstration: Election Results](#ColumnDataSource-Demonstration:-Election-Results)\n",
    "\t* [Map Boundaries](#Map-Boundaries)\n",
    "\t* [Load Data to Plot on Map](#Load-Data-to-Plot-on-Map)\n",
    "\t* [Use Data to create ColumnDataSource](#Use-Data-to-create-ColumnDataSource)\n",
    "\t* [Add Custom Interactive Tools](#Add-Custom-Interactive-Tools)\n",
    "\t\t* [HoverTool](#HoverTool)\n",
    "* [Summary](#Summary)\n",
    "* [Exercise](#Exercise)\n"
   ]
  },
  {
   "cell_type": "markdown",
   "metadata": {},
   "source": [
    "## Set-Up"
   ]
  },
  {
   "cell_type": "code",
   "execution_count": null,
   "metadata": {
    "collapsed": false
   },
   "outputs": [],
   "source": [
    "import pandas as pd\n",
    "import numpy as np\n",
    "from bokeh.io import output_notebook, show\n",
    "output_notebook()"
   ]
  },
  {
   "cell_type": "markdown",
   "metadata": {},
   "source": [
    "# ColumnDataSource"
   ]
  },
  {
   "cell_type": "markdown",
   "metadata": {},
   "source": [
    "Let's introduce `ColumnDataSource` as a preface before diving into this example. \n",
    "\n",
    "* `ColumnDataSource` is **THE** main object needed to understand rows and columns in the Bokeh world.\n",
    "* `ColumnDataSource` is a wrapper around a Pandas DataFrame\n",
    "* In order to integrate deeper with Bokeh, we need to make a `ColumnDataSource` object. "
   ]
  },
  {
   "cell_type": "markdown",
   "metadata": {},
   "source": [
    "## Bokeh Examples"
   ]
  },
  {
   "cell_type": "markdown",
   "metadata": {},
   "source": [
    "Bokeh in github has over 100 examples:\n",
    "\n",
    "* https://github.com/bokeh/bokeh/tree/master/examples\n",
    "* https://github.com/bokeh/bokeh/blob/master/examples/plotting/file/airports_map.py"
   ]
  },
  {
   "cell_type": "markdown",
   "metadata": {},
   "source": [
    "# ColumnDataSource Demonstration: Election Results"
   ]
  },
  {
   "cell_type": "markdown",
   "metadata": {},
   "source": [
    "<div class='alert alert-info'>\n",
    "<img src='img/topics/Best-Practice.png' align='left' style='padding:10px'>\n",
    "<br><big><big>\n",
    "Load *all* of the plot information in a Pandas DataFrame.\n",
    "</big></big>\n",
    "<br><br>\n",
    "</div>"
   ]
  },
  {
   "cell_type": "markdown",
   "metadata": {},
   "source": [
    "To visualize election results for every county in Pennsylvania we need\n",
    "* county boundaries\n",
    "* per-county color for winning party\n",
    "\n",
    "Further, we can make use of\n",
    "* per-county percentage of votest to each candidate\n",
    "* county name"
   ]
  },
  {
   "cell_type": "markdown",
   "metadata": {},
   "source": [
    "## Map Boundaries"
   ]
  },
  {
   "cell_type": "markdown",
   "metadata": {},
   "source": [
    "First, get the latitude and longitude **borders** for every county in PA"
   ]
  },
  {
   "cell_type": "markdown",
   "metadata": {},
   "source": [
    "`bokeh.sampledata.us_counties` contains location and boundary data for all US counties!"
   ]
  },
  {
   "cell_type": "code",
   "execution_count": null,
   "metadata": {
    "collapsed": true
   },
   "outputs": [],
   "source": [
    "from bokeh.sampledata.us_counties import data"
   ]
  },
  {
   "cell_type": "code",
   "execution_count": null,
   "metadata": {
    "collapsed": false
   },
   "outputs": [],
   "source": [
    "us_counties = pd.DataFrame(data).T\n",
    "pennsylvania=us_counties.loc[us_counties['state']=='pa']\n",
    "pennsylvania.head()"
   ]
  },
  {
   "cell_type": "markdown",
   "metadata": {},
   "source": [
    "## Load Data to Plot on Map"
   ]
  },
  {
   "cell_type": "markdown",
   "metadata": {},
   "source": [
    "Election results from all US counties"
   ]
  },
  {
   "cell_type": "code",
   "execution_count": null,
   "metadata": {
    "collapsed": false
   },
   "outputs": [],
   "source": [
    "election_2012 = pd.read_csv('data/2012Election.csv')\n",
    "pa_results = election_2012.loc[election_2012['state']=='PA',['Obama','Romney','county']]\n",
    "pa_results.head()"
   ]
  },
  {
   "cell_type": "code",
   "execution_count": null,
   "metadata": {
    "collapsed": false
   },
   "outputs": [],
   "source": [
    "pa2012 = pd.merge(pennsylvania, pa_results, left_on='name', right_on='county').drop(['name','state'], axis='columns')\n",
    "pa2012['Other']=100-(pa2012['Romney']+pa2012['Obama'])\n",
    "pa2012.head(1)"
   ]
  },
  {
   "cell_type": "markdown",
   "metadata": {},
   "source": [
    "Now I create a color column that I will use to color each county in my plot."
   ]
  },
  {
   "cell_type": "code",
   "execution_count": null,
   "metadata": {
    "collapsed": true
   },
   "outputs": [],
   "source": [
    "def blue_or_red(x):\n",
    "    if x['Romney'] > x['Obama']:\n",
    "        return 'red'\n",
    "    elif x['Obama'] > x['Romney']:\n",
    "        return 'blue'\n",
    "    else:\n",
    "        return 'purple'"
   ]
  },
  {
   "cell_type": "code",
   "execution_count": null,
   "metadata": {
    "collapsed": false
   },
   "outputs": [],
   "source": [
    "pa2012['color'] = pa2012.apply(blue_or_red, axis=1)\n",
    "pa2012.head()"
   ]
  },
  {
   "cell_type": "markdown",
   "metadata": {},
   "source": [
    "## Use Data to create ColumnDataSource"
   ]
  },
  {
   "cell_type": "markdown",
   "metadata": {},
   "source": [
    "In order to integrate deeper with Bokeh I need to make a ColumnDataSource object. There is a direct mapping from a Pandas DataFrame to a Bokeh ColumnDataSource."
   ]
  },
  {
   "cell_type": "code",
   "execution_count": null,
   "metadata": {
    "collapsed": true
   },
   "outputs": [],
   "source": [
    "from bokeh.charts import ColumnDataSource\n",
    "source = ColumnDataSource(pa2012)"
   ]
  },
  {
   "cell_type": "markdown",
   "metadata": {},
   "source": [
    "The ColumnDataSource is passed to the plotting function with `source=` and I can now access the columns by strings."
   ]
  },
  {
   "cell_type": "code",
   "execution_count": null,
   "metadata": {
    "collapsed": false
   },
   "outputs": [],
   "source": [
    "from bokeh.plotting import figure\n",
    "plot = figure(width=850)\n",
    "plot.patches('lons', 'lats', color='color', line_color='white', source=source)\n",
    "show(plot)"
   ]
  },
  {
   "cell_type": "markdown",
   "metadata": {},
   "source": [
    "## Add Custom Interactive Tools"
   ]
  },
  {
   "cell_type": "markdown",
   "metadata": {},
   "source": [
    "Now that I have a `ColumnDataSource` object I can use it's information to prepare a custom hover tool that will show the county name and the percentage of votes cast for each candidate."
   ]
  },
  {
   "cell_type": "markdown",
   "metadata": {},
   "source": [
    "I'm going to import all of the tool classes I need to use."
   ]
  },
  {
   "cell_type": "code",
   "execution_count": null,
   "metadata": {
    "collapsed": true
   },
   "outputs": [],
   "source": [
    "from bokeh.models import PanTool,WheelZoomTool,ResetTool,HoverTool"
   ]
  },
  {
   "cell_type": "markdown",
   "metadata": {},
   "source": [
    "When creating a Bokeh `figure()`, the tools from `bokeh.models` can be passed as instances or as comma-delimited string. \n",
    "\n",
    "You can also set these after you create the `figure` object.\n",
    "\n",
    "Here are some examples:"
   ]
  },
  {
   "cell_type": "markdown",
   "metadata": {},
   "source": [
    "### HoverTool"
   ]
  },
  {
   "cell_type": "markdown",
   "metadata": {},
   "source": [
    "* `tooltips` needs a list of tuples, where each tuple is (dispay_text,column_name)\n",
    "* `source` is from `ColumnDataSource(pa2012)`\n",
    "* Recall that the entire data set was \n",
    "  `election_2012 = pd.read_csv('data/2012Election.csv')`\n",
    "* then we subset to just get the Pennsylvania data with `election_2012['state']=='PA'"
   ]
  },
  {
   "cell_type": "code",
   "execution_count": null,
   "metadata": {
    "collapsed": false,
    "scrolled": false
   },
   "outputs": [],
   "source": [
    "hover = HoverTool(\n",
    "  tooltips = [\n",
    "        #dispay_text,column_name\n",
    "        ('County'   ,'@county'),\n",
    "        ('% Obama'  ,'@Obama'),\n",
    "        ('% Romeny' ,'@Romney'),\n",
    "        ('% Other'  ,'@Other')\n",
    "    ]\n",
    ")\n",
    "\n",
    "tools=[PanTool(), WheelZoomTool(), hover, ResetTool()]\n",
    "\n",
    "plot = figure(tools=tools, width=850)\n",
    "plot.patches('lons', 'lats', color='color', line_color='white', source=source)\n",
    "show(plot)"
   ]
  },
  {
   "cell_type": "markdown",
   "metadata": {},
   "source": [
    "How decisive were the voters?\n",
    "-----------------------------"
   ]
  },
  {
   "cell_type": "markdown",
   "metadata": {},
   "source": [
    "Create a function to be applied to the data:"
   ]
  },
  {
   "cell_type": "code",
   "execution_count": null,
   "metadata": {
    "collapsed": true
   },
   "outputs": [],
   "source": [
    "def set_alpha(x):\n",
    "    if x['color'] == 'blue':\n",
    "        return 1 - x['Romney'] / x['Obama']\n",
    "    else:\n",
    "        return 1 - x['Obama'] / x['Romney']"
   ]
  },
  {
   "cell_type": "markdown",
   "metadata": {},
   "source": [
    "Apply the function so as to return red or blue depending on the data\n",
    "\n",
    "*Note: `axis=\"columns\"` is the same as `axis=1` and **BOTH** can be confusing! http://pandas.pydata.org/pandas-docs/stable/generated/pandas.DataFrame.apply.html*"
   ]
  },
  {
   "cell_type": "code",
   "execution_count": null,
   "metadata": {
    "collapsed": false
   },
   "outputs": [],
   "source": [
    "pa2012['alpha'] = pa2012.apply(set_alpha, axis='columns')\n",
    "source = ColumnDataSource(pa2012)\n",
    "pa2012.head()"
   ]
  },
  {
   "cell_type": "markdown",
   "metadata": {},
   "source": [
    "Completely transparent counties are 50/50 split between Obama and Romney."
   ]
  },
  {
   "cell_type": "code",
   "execution_count": null,
   "metadata": {
    "collapsed": false
   },
   "outputs": [],
   "source": [
    "hover = HoverTool(\n",
    "  tooltips = [\n",
    "        #dispay_text,column_name\n",
    "        ('County'   ,'@county'),\n",
    "        ('% Obama'  ,'@Obama'),\n",
    "        ('% Romeny' ,'@Romney'),\n",
    "        ('% Other'  ,'@Other')\n",
    "    ]\n",
    ")\n",
    "\n",
    "tools=[PanTool(), WheelZoomTool(), hover, ResetTool()]\n",
    "\n",
    "plot = figure(tools=tools, width=850)\n",
    "plot.patches('lons', 'lats', color='color', line_color='white', alpha='alpha', source=source)\n",
    "show(plot)"
   ]
  },
  {
   "cell_type": "markdown",
   "metadata": {},
   "source": [
    "# Summary"
   ]
  },
  {
   "cell_type": "markdown",
   "metadata": {},
   "source": [
    "Put all of the data in your DataFrame\n",
    "* ColumnDataSource objects are easy to make\n",
    "\n",
    "Look at the help for the tool objects. They have interesting parameters."
   ]
  },
  {
   "cell_type": "markdown",
   "metadata": {},
   "source": [
    "# Exercise"
   ]
  },
  {
   "cell_type": "markdown",
   "metadata": {},
   "source": [
    "<img src='img/topics/Exercise.png' align='left' style='padding:10px'>\n",
    "<br>\n",
    "<a href='./Bokeh_ex_interactive.ipynb' class='btn btn-primary btn-lg'>Interactive tools</a>"
   ]
  },
  {
   "cell_type": "markdown",
   "metadata": {},
   "source": [
    "----\n",
    "<a href='./Bokeh_maps.ipynb' class='btn btn-primary'>Map overlays</a>"
   ]
  },
  {
   "cell_type": "markdown",
   "metadata": {},
   "source": [
    "---\n",
    "*Copyright Continuum 2012-2016 All Rights Reserved.*"
   ]
  }
 ],
 "metadata": {
  "anaconda-cloud": {},
  "continuum": {
   "depends": [],
   "requires": [
    "data/2012Election.csv"
   ],
   "tag": "bo_plot_tools"
  },
  "kernelspec": {
   "display_name": "Python [conda env:iqt]",
   "language": "python",
   "name": "conda-env-iqt-py"
  },
  "language_info": {
   "codemirror_mode": {
    "name": "ipython",
    "version": 3
   },
   "file_extension": ".py",
   "mimetype": "text/x-python",
   "name": "python",
   "nbconvert_exporter": "python",
   "pygments_lexer": "ipython3",
   "version": "3.5.2"
  }
 },
 "nbformat": 4,
 "nbformat_minor": 0
}
