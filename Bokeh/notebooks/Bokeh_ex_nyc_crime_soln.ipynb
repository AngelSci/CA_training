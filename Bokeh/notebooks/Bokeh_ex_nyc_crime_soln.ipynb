{
 "cells": [
  {
   "cell_type": "markdown",
   "metadata": {},
   "source": [
    "<img src='../../img/anaconda-logo.png' align='left' style=\"padding:10px\">\n",
    "<br>\n",
    "*Copyright Continuum 2012-2016 All Rights Reserved.*"
   ]
  },
  {
   "cell_type": "markdown",
   "metadata": {},
   "source": [
    "# Bokeh Exercise Solution: Maps and Tiles: NYC Crime "
   ]
  },
  {
   "cell_type": "markdown",
   "metadata": {},
   "source": [
    "You've recently obtained NYC crime data from <a href=\"https://nycopendata.socrata.com/\" target=\"_blank\">NYC Open Data</a>.  Your job is to load the first 100K records, reproject records, and then visualize the small sample of 2,500 records while considering how browser rendering is affected by glpyh count. \n",
    "\n",
    "This exercise will challenge your skills with Python, Pandas, PyProj, and Bokeh, while highlighting issues with over-saturation when plotting many points."
   ]
  },
  {
   "cell_type": "markdown",
   "metadata": {},
   "source": [
    "## Table of Contents\n",
    "* [Bokeh Exercise Solution: Maps and Tiles: NYC Crime](#Bokeh-Exercise-Solution:-Maps-and-Tiles:-NYC-Crime)\n",
    "\t* [Set-Up](#Set-Up)\n",
    "* [Solutions](#Solutions)\n",
    "\t* [1. Load Data](#1.-Load-Data)\n",
    "\t* [2. Change to Categorical](#2.-Change-to-Categorical)\n",
    "\t* [3. Clean Up](#3.-Clean-Up)\n",
    "\t* [4. Use Projections](#4.-Use-Projections)\n",
    "\t* [5. Reproject coordinates](#5.-Reproject-coordinates)\n",
    "\t* [6. Map Categories to Colors](#6.-Map-Categories-to-Colors)\n",
    "\t* [7. Customize the Figure](#7.-Customize-the-Figure)\n",
    "\t* [8. Sample the Data](#8.-Sample-the-Data)\n",
    "\t* [9. Display Data with Glyphs](#9.-Display-Data-with-Glyphs)\n",
    "\t* [10. Plotting Categories](#10.-Plotting-Categories)\n",
    "\t* [11. Plot by Time Group](#11.-Plot-by-Time-Group)\n",
    "\t* [12. Display points using Bokeh WebGL](#12.-Display-points-using-Bokeh-WebGL)\n"
   ]
  },
  {
   "cell_type": "markdown",
   "metadata": {},
   "source": [
    "## Set-Up"
   ]
  },
  {
   "cell_type": "markdown",
   "metadata": {},
   "source": [
    "Python imports you need include:"
   ]
  },
  {
   "cell_type": "code",
   "execution_count": null,
   "metadata": {
    "collapsed": false
   },
   "outputs": [],
   "source": [
    "import pandas as pd\n",
    "\n",
    "from bokeh.models import Range1d, ColumnDataSource\n",
    "from bokeh.io import output_notebook, show\n",
    "from bokeh.plotting import figure\n",
    "from bokeh.tile_providers import STAMEN_TONER\n",
    "\n",
    "from pyproj import transform, Proj\n",
    "\n",
    "output_notebook()"
   ]
  },
  {
   "cell_type": "markdown",
   "metadata": {},
   "source": [
    "# Solutions"
   ]
  },
  {
   "cell_type": "markdown",
   "metadata": {},
   "source": [
    "## 1. Load Data"
   ]
  },
  {
   "cell_type": "markdown",
   "metadata": {},
   "source": [
    "Load the first 100K rows from the file `../../data/Datashader/nyc_crime.csv` into a `Pandas.DataFrame` with the variable name `df`.\n",
    "\n",
    "Tips: \n",
    "- pandas is great for loading CSV data\n",
    "- `usecols` can help in only loading data which you need.  In this case, load the `Offense`, `XCoordinate`, `YCoordinate`, `Occurrence Hour`, and `Location 1` columns.\n",
    "- `chunksize` is another helpful feature in pandas to limit the number of rows you load into memory."
   ]
  },
  {
   "cell_type": "code",
   "execution_count": null,
   "metadata": {
    "collapsed": false
   },
   "outputs": [],
   "source": [
    "chunks = pd.read_csv('../../data/Datashader/nyc_crime.csv',\n",
    "                     usecols=['Offense','XCoordinate','YCoordinate', 'Location 1', 'Occurrence Hour'],\n",
    "                     chunksize=1e5)\n",
    "df = chunks.get_chunk()\n",
    "print(df)"
   ]
  },
  {
   "cell_type": "markdown",
   "metadata": {},
   "source": [
    "## 2. Change to Categorical"
   ]
  },
  {
   "cell_type": "markdown",
   "metadata": {},
   "source": [
    "Change the `Offense` column to be a Categorical Column and check how changing this column type affects `memory_usage`\n",
    "- use `.astype` to define `Offense` as a categorical field\n",
    "- use `pd.cut` to classify `Occurrence Hour` into time_of_day categories\n",
    "- check `memory_usage` to see how categorical field affect memory usage."
   ]
  },
  {
   "cell_type": "code",
   "execution_count": null,
   "metadata": {
    "collapsed": false
   },
   "outputs": [],
   "source": [
    "print('Without Categoricals')\n",
    "print(df.memory_usage())\n",
    "\n",
    "df['Offense'] = df['Offense'].astype('category')\n",
    "df['time_of_day'] = pd.cut(df['Occurrence Hour'], 4, labels=[\"early_morning\", \"morning\", \"afternoon\", \"night\"])\n",
    "\n",
    "print('\\nWith Categoricals')\n",
    "print(df.memory_usage())"
   ]
  },
  {
   "cell_type": "markdown",
   "metadata": {},
   "source": [
    "## 3. Clean Up"
   ]
  },
  {
   "cell_type": "markdown",
   "metadata": {},
   "source": [
    "Clean up the `Location 1` field and Create two new columns named `lat` (latitude) and `lon` (longitude)"
   ]
  },
  {
   "cell_type": "code",
   "execution_count": null,
   "metadata": {
    "collapsed": false
   },
   "outputs": [],
   "source": [
    "df['lat'], df['lon'] = zip(*df['Location 1'].str.replace('[()]','').str.split(','))\n",
    "print(df)"
   ]
  },
  {
   "cell_type": "markdown",
   "metadata": {},
   "source": [
    "## 4. Use Projections"
   ]
  },
  {
   "cell_type": "markdown",
   "metadata": {},
   "source": [
    "Define input (\"EPSG:4326\") and output(\"EPSG:3857\") projections using EPSG codes"
   ]
  },
  {
   "cell_type": "code",
   "execution_count": null,
   "metadata": {
    "collapsed": true
   },
   "outputs": [],
   "source": [
    "input_proj  = Proj(init=\"EPSG:4326\")\n",
    "output_proj = Proj(init=\"EPSG:3857\")"
   ]
  },
  {
   "cell_type": "markdown",
   "metadata": {},
   "source": [
    "## 5. Reproject coordinates"
   ]
  },
  {
   "cell_type": "markdown",
   "metadata": {},
   "source": [
    "Reproject coordinates\n",
    "- use pyproj.transform\n",
    "- loops are slow, vectorize x/y values\n",
    "- get projected extent for NYC (min_lon=-74.15, max_lon=-73.75, min_lat=40.68, max_lat=40.84)"
   ]
  },
  {
   "cell_type": "code",
   "execution_count": null,
   "metadata": {
    "collapsed": true
   },
   "outputs": [],
   "source": [
    "df['x'], df['y'] = transform(input_proj, output_proj, df.lon.values, df.lat.values)\n",
    "extent_xs, extent_ys = transform(input_proj, output_proj, [-74.15, -73.75],[40.68, 40.84])"
   ]
  },
  {
   "cell_type": "markdown",
   "metadata": {},
   "source": [
    "## 6. Map Categories to Colors"
   ]
  },
  {
   "cell_type": "markdown",
   "metadata": {},
   "source": [
    "Create a dictionary called `cat_colors` which maps `Offense` Categories to colors"
   ]
  },
  {
   "cell_type": "code",
   "execution_count": null,
   "metadata": {
    "collapsed": false
   },
   "outputs": [],
   "source": [
    "categs = ['FELONY ASSAULT', 'ROBBERY', 'RAPE']\n",
    "colors = ['aqua', 'lime', 'purple']\n",
    "cat_colors = dict(zip(categs, colors))\n",
    "print(cat_colors)"
   ]
  },
  {
   "cell_type": "markdown",
   "metadata": {},
   "source": [
    "## 7. Customize the Figure"
   ]
  },
  {
   "cell_type": "markdown",
   "metadata": {},
   "source": [
    "Create a function named `create_figure()` which:\n",
    "- accepts `use_webgl` parameter with default=False\n",
    "- returns a Bokeh `Figure` with background_fill_color set to `black`\n",
    "- x_range/y_range set to the extent of NYC (e.g. xmin=-74.15, xmax=-73.75, y, df.y.max()).\n",
    "- set figure `background_fill_color` to `black`\n",
    "- set figure `grid.grid_line_alpha` to 0\n",
    "- set figure `axis.visible` to False"
   ]
  },
  {
   "cell_type": "markdown",
   "metadata": {},
   "source": [
    "*Note: for certain glyph types, Bokeh supports WebGL*"
   ]
  },
  {
   "cell_type": "code",
   "execution_count": null,
   "metadata": {
    "collapsed": false
   },
   "outputs": [],
   "source": [
    "def create_figure(webgl=False):\n",
    "    fig = figure(plot_width=900,\n",
    "                 plot_height=700,\n",
    "                 x_range=extent_xs,\n",
    "                 y_range=extent_ys,\n",
    "                 background_fill_color='black',\n",
    "                 webgl=webgl)\n",
    "    fig.grid.grid_line_alpha = 0\n",
    "    # fig.grid.visible = False\n",
    "    fig.axis.visible = False\n",
    "    return fig"
   ]
  },
  {
   "cell_type": "markdown",
   "metadata": {},
   "source": [
    "## 8. Sample the Data"
   ]
  },
  {
   "cell_type": "markdown",
   "metadata": {},
   "source": [
    "Create a new dataframe call `smaller_df` which is a `sample` of 2500 incidents"
   ]
  },
  {
   "cell_type": "code",
   "execution_count": null,
   "metadata": {
    "collapsed": true
   },
   "outputs": [],
   "source": [
    "smaller_df = df.sample(n=2500)"
   ]
  },
  {
   "cell_type": "markdown",
   "metadata": {},
   "source": [
    "## 9. Display Data with Glyphs"
   ]
  },
  {
   "cell_type": "markdown",
   "metadata": {},
   "source": [
    "Using the `create_figure` function you above, generate a plot which displays the contents of `smaller_df` as `lime`-colored circle glyphs of size four.  \n",
    "- use a `ColumnDataSource` to wrap the `smaller_df` and populate glyphs as cirle(source=your_column_datasource)\n",
    "- add STAMEN_TONER tiles\n",
    "\n",
    "**Note:** to do this will require creating a `ColumnDataSource`."
   ]
  },
  {
   "cell_type": "code",
   "execution_count": null,
   "metadata": {
    "collapsed": false,
    "scrolled": true
   },
   "outputs": [],
   "source": [
    "data_source = ColumnDataSource(smaller_df)\n",
    "fig = create_figure()\n",
    "fig.add_tile(STAMEN_TONER, alpha=.3)\n",
    "fig.circle(x='x', y='y', color='lime', source=data_source, alpha=.5, size=4)\n",
    "show(fig)"
   ]
  },
  {
   "cell_type": "markdown",
   "metadata": {},
   "source": [
    "## 10. Plotting Categories"
   ]
  },
  {
   "cell_type": "markdown",
   "metadata": {},
   "source": [
    "Create a plot which adds a circle glyph layer for each offense category in the `smaller_df` dataframe\n",
    " - use a different color for each category corresponding to those in the `cat_colors` variable\n",
    " - add a legend using the `legend` property of circle glyph\n",
    "\n",
    "**Note:** to do this will require creating a `ColumnDataSource`."
   ]
  },
  {
   "cell_type": "code",
   "execution_count": null,
   "metadata": {
    "collapsed": false
   },
   "outputs": [],
   "source": [
    "fig = create_figure()\n",
    "fig.add_tile(STAMEN_TONER, alpha=.3)\n",
    "for cat, color in cat_colors.items():\n",
    "    fig.circle(x='x',\n",
    "               y='y',\n",
    "               color=color,\n",
    "               source=ColumnDataSource(smaller_df[smaller_df.Offense == cat]),\n",
    "               alpha=.5,\n",
    "               size=4,\n",
    "               legend=cat)\n",
    "show(fig)"
   ]
  },
  {
   "cell_type": "markdown",
   "metadata": {},
   "source": [
    "## 11. Plot by Time Group"
   ]
  },
  {
   "cell_type": "markdown",
   "metadata": {},
   "source": [
    "Create a plot which displays offense by time of day grouped by `early_morning`, `morning`, `afternoon`, `evening`\n",
    " - instead of adding a different\n",
    " - consider adding an `alpha` property to the fig.circle()"
   ]
  },
  {
   "cell_type": "code",
   "execution_count": null,
   "metadata": {
    "collapsed": true
   },
   "outputs": [],
   "source": [
    "df['colors'] = df.time_of_day.copy()\n",
    "df.colors.cat.categories = ['aqua', 'greenyellow', 'orange', 'hotpink']\n",
    "smaller_df = df.sample(n=2500)"
   ]
  },
  {
   "cell_type": "code",
   "execution_count": null,
   "metadata": {
    "collapsed": false
   },
   "outputs": [],
   "source": [
    "fig = create_figure()\n",
    "fig.add_tile(STAMEN_TONER, alpha=.3)\n",
    "fig.circle(x='x',\n",
    "           y='y',\n",
    "           color='colors',\n",
    "           source=ColumnDataSource(smaller_df),\n",
    "           alpha=1,\n",
    "           line_color=None,\n",
    "           size=4)\n",
    "show(fig)"
   ]
  },
  {
   "cell_type": "markdown",
   "metadata": {},
   "source": [
    "## 12. Display points using Bokeh WebGL"
   ]
  },
  {
   "cell_type": "code",
   "execution_count": null,
   "metadata": {
    "collapsed": false
   },
   "outputs": [],
   "source": [
    "fig = create_figure(webgl=True)\n",
    "fig.circle(x='x',\n",
    "           y='y',\n",
    "           color='colors',\n",
    "           source=ColumnDataSource(df),\n",
    "           alpha=.2,\n",
    "           line_color=None,\n",
    "           size=4)\n",
    "show(fig)"
   ]
  },
  {
   "cell_type": "code",
   "execution_count": null,
   "metadata": {
    "collapsed": true
   },
   "outputs": [],
   "source": []
  },
  {
   "cell_type": "markdown",
   "metadata": {},
   "source": [
    "---\n",
    "*Copyright Continuum 2012-2016 All Rights Reserved.*"
   ]
  }
 ],
 "metadata": {
  "anaconda-cloud": {},
  "kernelspec": {
   "display_name": "Python [conda env:iqt]",
   "language": "python",
   "name": "conda-env-iqt-py"
  },
  "language_info": {
   "codemirror_mode": {
    "name": "ipython",
    "version": 3
   },
   "file_extension": ".py",
   "mimetype": "text/x-python",
   "name": "python",
   "nbconvert_exporter": "python",
   "pygments_lexer": "ipython3",
   "version": "3.5.2"
  }
 },
 "nbformat": 4,
 "nbformat_minor": 0
}
