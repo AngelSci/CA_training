{
 "cells": [
  {
   "cell_type": "markdown",
   "metadata": {},
   "source": [
    "<img src='../../img/anaconda-logo.png' align='left' style=\"padding:10px\">\n",
    "<br>\n",
    "*Copyright Continuum 2012-2016 All Rights Reserved.*"
   ]
  },
  {
   "cell_type": "markdown",
   "metadata": {},
   "source": [
    "# Bokeh: Building Figures"
   ]
  },
  {
   "cell_type": "markdown",
   "metadata": {},
   "source": [
    "We'll start by describing the available style properties that can be passed as kewyord arguments when the Figure object is created or by directly setting member attributes.\n",
    "\n",
    "A more complete description of all styling options is available in the [Bokeh User Guide](#http://bokeh.pydata.org/en/latest/docs/user_guide/styling.html)."
   ]
  },
  {
   "cell_type": "markdown",
   "metadata": {},
   "source": [
    "## Table of Contents\n",
    "* [Building Figures](#Building-Figures)\n",
    "\t* [Basic Properties](#Basic-Properties)\n",
    "\t* [Dimensions](#Dimensions)\n",
    "\t* [Background](#Background)\n",
    "\t* [Title Text](#Title-Text)\n",
    "\t* [Border](#Border)\n",
    "\t* [Outline](#Outline)\n",
    "\t* [Axes](#Axes)\n",
    "\t\t* [Types](#Types)\n",
    "\t\t* [Ranges](#Ranges)\n",
    "\t\t* [Categorical Ranges](#Categorical-Ranges)\n",
    "\t\t* [Twin Axes](#Twin-Axes)\n",
    "\t\t* [Grid lines and Bands](#Grid-lines-and-Bands)\n",
    "\t\t* [Labels and Properties](#Labels-and-Properties)\n",
    "\t\t* [Tick Label Orientation](#Tick-Label-Orientation)\n",
    "\t* [Legends](#Legends)\n",
    "* [Selecting objects](#Selecting-objects)\n",
    "* [Exercise](#Exercise)\n"
   ]
  },
  {
   "cell_type": "markdown",
   "metadata": {},
   "source": [
    "## Set-Up"
   ]
  },
  {
   "cell_type": "code",
   "execution_count": 1,
   "metadata": {
    "collapsed": false
   },
   "outputs": [
    {
     "data": {
      "text/html": [
       "\n",
       "    <div class=\"bk-root\">\n",
       "        <a href=\"http://bokeh.pydata.org\" target=\"_blank\" class=\"bk-logo bk-logo-small bk-logo-notebook\"></a>\n",
       "        <span id=\"b96f31e7-6c67-4d00-85a6-98f1f03c8c18\">Loading BokehJS ...</span>\n",
       "    </div>"
      ]
     },
     "metadata": {},
     "output_type": "display_data"
    },
    {
     "data": {
      "application/javascript": [
       "\n",
       "(function(global) {\n",
       "  function now() {\n",
       "    return new Date();\n",
       "  }\n",
       "\n",
       "  var force = \"1\";\n",
       "\n",
       "  if (typeof (window._bokeh_onload_callbacks) === \"undefined\" || force !== \"\") {\n",
       "    window._bokeh_onload_callbacks = [];\n",
       "    window._bokeh_is_loading = undefined;\n",
       "  }\n",
       "\n",
       "  function run_callbacks() {\n",
       "    window._bokeh_onload_callbacks.forEach(function(callback) { callback() });\n",
       "    delete window._bokeh_onload_callbacks\n",
       "    console.info(\"Bokeh: all callbacks have finished\");\n",
       "  }\n",
       "\n",
       "  function load_libs(js_urls, callback) {\n",
       "    window._bokeh_onload_callbacks.push(callback);\n",
       "    if (window._bokeh_is_loading > 0) {\n",
       "      console.log(\"Bokeh: BokehJS is being loaded, scheduling callback at\", now());\n",
       "      return null;\n",
       "    }\n",
       "    if (js_urls == null || js_urls.length === 0) {\n",
       "      run_callbacks();\n",
       "      return null;\n",
       "    }\n",
       "    console.log(\"Bokeh: BokehJS not loaded, scheduling load and callback at\", now());\n",
       "    window._bokeh_is_loading = js_urls.length;\n",
       "    for (var i = 0; i < js_urls.length; i++) {\n",
       "      var url = js_urls[i];\n",
       "      var s = document.createElement('script');\n",
       "      s.src = url;\n",
       "      s.async = false;\n",
       "      s.onreadystatechange = s.onload = function() {\n",
       "        window._bokeh_is_loading--;\n",
       "        if (window._bokeh_is_loading === 0) {\n",
       "          console.log(\"Bokeh: all BokehJS libraries loaded\");\n",
       "          run_callbacks()\n",
       "        }\n",
       "      };\n",
       "      s.onerror = function() {\n",
       "        console.warn(\"failed to load library \" + url);\n",
       "      };\n",
       "      console.log(\"Bokeh: injecting script tag for BokehJS library: \", url);\n",
       "      document.getElementsByTagName(\"head\")[0].appendChild(s);\n",
       "    }\n",
       "  };\n",
       "\n",
       "  var js_urls = ['https://cdn.pydata.org/bokeh/release/bokeh-0.12.1.min.js', 'https://cdn.pydata.org/bokeh/release/bokeh-widgets-0.12.1.min.js', 'https://cdn.pydata.org/bokeh/release/bokeh-compiler-0.12.1.min.js'];\n",
       "\n",
       "  var inline_js = [\n",
       "    function(Bokeh) {\n",
       "      Bokeh.set_log_level(\"info\");\n",
       "    },\n",
       "    \n",
       "    function(Bokeh) {\n",
       "      \n",
       "      Bokeh.$(\"#b96f31e7-6c67-4d00-85a6-98f1f03c8c18\").text(\"BokehJS successfully loaded\");\n",
       "      var kernel = Jupyter.notebook.kernel\n",
       "      if (kernel.execute !== undefined) {\n",
       "          kernel.execute(\"import bokeh.io; bokeh.io._nb_loaded = True\");\n",
       "      }\n",
       "    },\n",
       "    function(Bokeh) {\n",
       "      console.log(\"Bokeh: injecting CSS: https://cdn.pydata.org/bokeh/release/bokeh-0.12.1.min.css\");\n",
       "      Bokeh.embed.inject_css(\"https://cdn.pydata.org/bokeh/release/bokeh-0.12.1.min.css\");\n",
       "      console.log(\"Bokeh: injecting CSS: https://cdn.pydata.org/bokeh/release/bokeh-widgets-0.12.1.min.css\");\n",
       "      Bokeh.embed.inject_css(\"https://cdn.pydata.org/bokeh/release/bokeh-widgets-0.12.1.min.css\");\n",
       "    }\n",
       "  ];\n",
       "\n",
       "  function run_inline_js() {\n",
       "    for (var i = 0; i < inline_js.length; i++) {\n",
       "      inline_js[i](window.Bokeh);\n",
       "    }\n",
       "  }\n",
       "\n",
       "  if (window._bokeh_is_loading === 0) {\n",
       "    console.log(\"Bokeh: BokehJS loaded, going straight to plotting\");\n",
       "    run_inline_js();\n",
       "  } else {\n",
       "    load_libs(js_urls, function() {\n",
       "      console.log(\"Bokeh: BokehJS plotting callback run at\", now());\n",
       "      run_inline_js();\n",
       "    });\n",
       "  }\n",
       "}(this));"
      ]
     },
     "metadata": {},
     "output_type": "display_data"
    }
   ],
   "source": [
    "from bokeh.io import output_notebook, show\n",
    "output_notebook()"
   ]
  },
  {
   "cell_type": "code",
   "execution_count": 2,
   "metadata": {
    "collapsed": false,
    "scrolled": false
   },
   "outputs": [
    {
     "name": "stdout",
     "output_type": "stream",
     "text": [
      "Help on package bokeh.plotting in bokeh:\n",
      "\n",
      "NAME\n",
      "    bokeh.plotting - # extra imports -- just things to add to 'from bokeh.plotting import'\n",
      "\n",
      "PACKAGE CONTENTS\n",
      "    figure\n",
      "    helpers\n",
      "    tests (package)\n",
      "\n",
      "DATA\n",
      "    DEFAULT_TOOLS = 'pan,wheel_zoom,box_zoom,save,reset,help'\n",
      "\n",
      "FILE\n",
      "    c:\\anaconda3\\envs\\iqt\\lib\\site-packages\\bokeh\\plotting\\__init__.py\n",
      "\n",
      "\n"
     ]
    }
   ],
   "source": [
    "# The best source for ALOT of information is bokeh.plotting\n",
    "import bokeh.plotting\n",
    "help(bokeh.plotting)"
   ]
  },
  {
   "cell_type": "markdown",
   "metadata": {},
   "source": [
    "To begin with the Figure class has many default properties like axes, ranges and tools to simplify generation of a plot using this interface."
   ]
  },
  {
   "cell_type": "markdown",
   "metadata": {},
   "source": [
    "## Basic Properties"
   ]
  },
  {
   "cell_type": "markdown",
   "metadata": {},
   "source": [
    "The two basic properties can be applied to many of the elements of a figure are `text` and `line`.\n",
    "\n",
    "For any text-based property such as `axis_label` or `title_text` the following properties can be adjusted by appending the style to the text property.\n",
    "* `_text_font`\n",
    "* `_text_font_size`\n",
    "* `_text_font_style`\n",
    "* `_text_color`\n",
    "* `_text_alpha`\n",
    "* `_text_baseline`\n",
    "\n",
    "For any line-based property such as the `line` glyph, axis and grid lines the following properties can be adjusted by append the style to the line property\n",
    "* `_line_width`\n",
    "* `_line_color`\n",
    "* `_line_alpha`\n",
    "* `_line_dash`"
   ]
  },
  {
   "cell_type": "code",
   "execution_count": 4,
   "metadata": {
    "collapsed": true
   },
   "outputs": [],
   "source": [
    "import numpy as np\n",
    "\n",
    "x = np.linspace(0, 4*np.pi, 100)\n",
    "y = np.sin(x)"
   ]
  },
  {
   "cell_type": "markdown",
   "metadata": {},
   "source": [
    "## Figure Dimensions"
   ]
  },
  {
   "cell_type": "code",
   "execution_count": 5,
   "metadata": {
    "collapsed": false,
    "scrolled": true
   },
   "outputs": [
    {
     "data": {
      "text/html": [
       "\n",
       "\n",
       "    <div class=\"bk-root\">\n",
       "        <div class=\"plotdiv\" id=\"ffac3281-c922-4af4-abb5-9ca35f271905\"></div>\n",
       "    </div>\n",
       "<script type=\"text/javascript\">\n",
       "  \n",
       "  (function(global) {\n",
       "    function now() {\n",
       "      return new Date();\n",
       "    }\n",
       "  \n",
       "    var force = \"\";\n",
       "  \n",
       "    if (typeof (window._bokeh_onload_callbacks) === \"undefined\" || force !== \"\") {\n",
       "      window._bokeh_onload_callbacks = [];\n",
       "      window._bokeh_is_loading = undefined;\n",
       "    }\n",
       "  \n",
       "    function run_callbacks() {\n",
       "      window._bokeh_onload_callbacks.forEach(function(callback) { callback() });\n",
       "      delete window._bokeh_onload_callbacks\n",
       "      console.info(\"Bokeh: all callbacks have finished\");\n",
       "    }\n",
       "  \n",
       "    function load_libs(js_urls, callback) {\n",
       "      window._bokeh_onload_callbacks.push(callback);\n",
       "      if (window._bokeh_is_loading > 0) {\n",
       "        console.log(\"Bokeh: BokehJS is being loaded, scheduling callback at\", now());\n",
       "        return null;\n",
       "      }\n",
       "      if (js_urls == null || js_urls.length === 0) {\n",
       "        run_callbacks();\n",
       "        return null;\n",
       "      }\n",
       "      console.log(\"Bokeh: BokehJS not loaded, scheduling load and callback at\", now());\n",
       "      window._bokeh_is_loading = js_urls.length;\n",
       "      for (var i = 0; i < js_urls.length; i++) {\n",
       "        var url = js_urls[i];\n",
       "        var s = document.createElement('script');\n",
       "        s.src = url;\n",
       "        s.async = false;\n",
       "        s.onreadystatechange = s.onload = function() {\n",
       "          window._bokeh_is_loading--;\n",
       "          if (window._bokeh_is_loading === 0) {\n",
       "            console.log(\"Bokeh: all BokehJS libraries loaded\");\n",
       "            run_callbacks()\n",
       "          }\n",
       "        };\n",
       "        s.onerror = function() {\n",
       "          console.warn(\"failed to load library \" + url);\n",
       "        };\n",
       "        console.log(\"Bokeh: injecting script tag for BokehJS library: \", url);\n",
       "        document.getElementsByTagName(\"head\")[0].appendChild(s);\n",
       "      }\n",
       "    };var element = document.getElementById(\"ffac3281-c922-4af4-abb5-9ca35f271905\");\n",
       "    if (element == null) {\n",
       "      console.log(\"Bokeh: ERROR: autoload.js configured with elementid 'ffac3281-c922-4af4-abb5-9ca35f271905' but no matching script tag was found. \")\n",
       "      return false;\n",
       "    }\n",
       "  \n",
       "    var js_urls = [];\n",
       "  \n",
       "    var inline_js = [\n",
       "      function(Bokeh) {\n",
       "        Bokeh.$(function() {\n",
       "            var docs_json = {\"5b543182-1564-4f22-948f-0a9298a1b67d\":{\"roots\":{\"references\":[{\"attributes\":{\"plot\":{\"id\":\"e2a35373-7161-4ad0-bb40-73c5146b96f8\",\"subtype\":\"Figure\",\"type\":\"Plot\"}},\"id\":\"9c5571fa-3d2c-49d8-a1d9-a7d09da7e21f\",\"type\":\"ResetTool\"},{\"attributes\":{\"dimension\":1,\"plot\":{\"id\":\"e2a35373-7161-4ad0-bb40-73c5146b96f8\",\"subtype\":\"Figure\",\"type\":\"Plot\"},\"ticker\":{\"id\":\"41d996b3-7a11-482b-a4b7-c79aae77c996\",\"type\":\"BasicTicker\"}},\"id\":\"18ed6d45-2b34-468d-9306-d8ff352c34e6\",\"type\":\"Grid\"},{\"attributes\":{\"active_drag\":\"auto\",\"active_scroll\":\"auto\",\"active_tap\":\"auto\",\"tools\":[{\"id\":\"f75bda73-4a66-4a5c-9675-c66a83d8ce3a\",\"type\":\"PanTool\"},{\"id\":\"4b415d24-4ac9-46fd-aa13-118e2900ddb0\",\"type\":\"WheelZoomTool\"},{\"id\":\"7b00453b-ffe5-4b30-8ead-bea83d8a4e54\",\"type\":\"BoxZoomTool\"},{\"id\":\"12571434-5d4e-4950-b5ce-23aa17b2abd6\",\"type\":\"SaveTool\"},{\"id\":\"9c5571fa-3d2c-49d8-a1d9-a7d09da7e21f\",\"type\":\"ResetTool\"},{\"id\":\"aec9570a-e6f9-4fea-9b06-d9305fee4263\",\"type\":\"HelpTool\"}]},\"id\":\"e17d506c-52a1-435c-b943-b5ca5dc6d6fa\",\"type\":\"Toolbar\"},{\"attributes\":{\"plot\":{\"id\":\"e2a35373-7161-4ad0-bb40-73c5146b96f8\",\"subtype\":\"Figure\",\"type\":\"Plot\"}},\"id\":\"f75bda73-4a66-4a5c-9675-c66a83d8ce3a\",\"type\":\"PanTool\"},{\"attributes\":{\"line_color\":{\"value\":\"#1f77b4\"},\"line_width\":{\"value\":2},\"x\":{\"field\":\"x\"},\"y\":{\"field\":\"y\"}},\"id\":\"a1b9010d-aeda-4569-9e28-47b5f23e8fad\",\"type\":\"Line\"},{\"attributes\":{\"line_alpha\":{\"value\":0.1},\"line_color\":{\"value\":\"#1f77b4\"},\"line_width\":{\"value\":2},\"x\":{\"field\":\"x\"},\"y\":{\"field\":\"y\"}},\"id\":\"e2682ab9-e3fe-4a3a-a2b8-08868c99a99a\",\"type\":\"Line\"},{\"attributes\":{\"formatter\":{\"id\":\"ea0f5024-e7c7-46b0-8821-4785169545c7\",\"type\":\"BasicTickFormatter\"},\"plot\":{\"id\":\"e2a35373-7161-4ad0-bb40-73c5146b96f8\",\"subtype\":\"Figure\",\"type\":\"Plot\"},\"ticker\":{\"id\":\"41d996b3-7a11-482b-a4b7-c79aae77c996\",\"type\":\"BasicTicker\"}},\"id\":\"5613991b-66f5-48fc-af51-33de4625c357\",\"type\":\"LinearAxis\"},{\"attributes\":{\"data_source\":{\"id\":\"ac5f5dcd-da6e-4414-88ad-ef03a48dfaa0\",\"type\":\"ColumnDataSource\"},\"glyph\":{\"id\":\"a1b9010d-aeda-4569-9e28-47b5f23e8fad\",\"type\":\"Line\"},\"hover_glyph\":null,\"nonselection_glyph\":{\"id\":\"e2682ab9-e3fe-4a3a-a2b8-08868c99a99a\",\"type\":\"Line\"},\"selection_glyph\":null},\"id\":\"a82eed31-7904-4b4a-a910-644ab61f07f5\",\"type\":\"GlyphRenderer\"},{\"attributes\":{\"below\":[{\"id\":\"1c6302d2-853d-4756-ad58-0205513fee91\",\"type\":\"LinearAxis\"}],\"left\":[{\"id\":\"5613991b-66f5-48fc-af51-33de4625c357\",\"type\":\"LinearAxis\"}],\"plot_height\":200,\"plot_width\":1000,\"renderers\":[{\"id\":\"1c6302d2-853d-4756-ad58-0205513fee91\",\"type\":\"LinearAxis\"},{\"id\":\"65198ad8-d38d-4543-931b-3d4098349651\",\"type\":\"Grid\"},{\"id\":\"5613991b-66f5-48fc-af51-33de4625c357\",\"type\":\"LinearAxis\"},{\"id\":\"18ed6d45-2b34-468d-9306-d8ff352c34e6\",\"type\":\"Grid\"},{\"id\":\"457fa939-744c-4dac-98b1-edb846a16bf4\",\"type\":\"BoxAnnotation\"},{\"id\":\"a82eed31-7904-4b4a-a910-644ab61f07f5\",\"type\":\"GlyphRenderer\"}],\"title\":{\"id\":\"6d35bcb3-00e9-4b3b-9b8a-7e2b7d954f85\",\"type\":\"Title\"},\"tool_events\":{\"id\":\"36e51986-ed16-411f-b2a2-a3aaa96e89aa\",\"type\":\"ToolEvents\"},\"toolbar\":{\"id\":\"e17d506c-52a1-435c-b943-b5ca5dc6d6fa\",\"type\":\"Toolbar\"},\"x_range\":{\"id\":\"e3f8cd27-910b-4153-8fb6-73a2df9724d1\",\"type\":\"DataRange1d\"},\"y_range\":{\"id\":\"7f7c5d5b-70b6-42b3-9c3f-a46dcf5b781b\",\"type\":\"DataRange1d\"}},\"id\":\"e2a35373-7161-4ad0-bb40-73c5146b96f8\",\"subtype\":\"Figure\",\"type\":\"Plot\"},{\"attributes\":{\"plot\":{\"id\":\"e2a35373-7161-4ad0-bb40-73c5146b96f8\",\"subtype\":\"Figure\",\"type\":\"Plot\"}},\"id\":\"aec9570a-e6f9-4fea-9b06-d9305fee4263\",\"type\":\"HelpTool\"},{\"attributes\":{},\"id\":\"41d996b3-7a11-482b-a4b7-c79aae77c996\",\"type\":\"BasicTicker\"},{\"attributes\":{\"plot\":{\"id\":\"e2a35373-7161-4ad0-bb40-73c5146b96f8\",\"subtype\":\"Figure\",\"type\":\"Plot\"},\"ticker\":{\"id\":\"3ac5b987-b69c-46b6-93c6-59ec2bca149a\",\"type\":\"BasicTicker\"}},\"id\":\"65198ad8-d38d-4543-931b-3d4098349651\",\"type\":\"Grid\"},{\"attributes\":{\"plot\":{\"id\":\"e2a35373-7161-4ad0-bb40-73c5146b96f8\",\"subtype\":\"Figure\",\"type\":\"Plot\"}},\"id\":\"12571434-5d4e-4950-b5ce-23aa17b2abd6\",\"type\":\"SaveTool\"},{\"attributes\":{\"callback\":null},\"id\":\"e3f8cd27-910b-4153-8fb6-73a2df9724d1\",\"type\":\"DataRange1d\"},{\"attributes\":{},\"id\":\"35d61088-c85e-462d-a82d-2b66a5bbc35a\",\"type\":\"BasicTickFormatter\"},{\"attributes\":{},\"id\":\"36e51986-ed16-411f-b2a2-a3aaa96e89aa\",\"type\":\"ToolEvents\"},{\"attributes\":{\"overlay\":{\"id\":\"457fa939-744c-4dac-98b1-edb846a16bf4\",\"type\":\"BoxAnnotation\"},\"plot\":{\"id\":\"e2a35373-7161-4ad0-bb40-73c5146b96f8\",\"subtype\":\"Figure\",\"type\":\"Plot\"}},\"id\":\"7b00453b-ffe5-4b30-8ead-bea83d8a4e54\",\"type\":\"BoxZoomTool\"},{\"attributes\":{\"callback\":null,\"column_names\":[\"x\",\"y\"],\"data\":{\"x\":[0.0,0.12693303650867852,0.25386607301735703,0.3807991095260356,0.5077321460347141,0.6346651825433925,0.7615982190520711,0.8885312555607496,1.0154642920694281,1.1423973285781066,1.269330365086785,1.3962634015954636,1.5231964381041423,1.6501294746128208,1.7770625111214993,1.9039955476301778,2.0309285841388562,2.1578616206475347,2.284794657156213,2.4117276936648917,2.53866073017357,2.6655937666822487,2.792526803190927,2.9194598396996057,3.0463928762082846,3.173325912716963,3.3002589492256416,3.42719198573432,3.5541250222429985,3.681058058751677,3.8079910952603555,3.934924131769034,4.0618571682777125,4.188790204786391,4.3157232412950695,4.442656277803748,4.569589314312426,4.696522350821105,4.823455387329783,4.950388423838462,5.07732146034714,5.204254496855819,5.331187533364497,5.458120569873176,5.585053606381854,5.711986642890533,5.838919679399211,5.96585271590789,6.092785752416569,6.219718788925247,6.346651825433926,6.473584861942604,6.600517898451283,6.727450934959961,6.85438397146864,6.981317007977318,7.108250044485997,7.235183080994675,7.362116117503354,7.489049154012032,7.615982190520711,7.742915227029389,7.869848263538068,7.996781300046746,8.123714336555425,8.250647373064103,8.377580409572783,8.50451344608146,8.631446482590139,8.758379519098817,8.885312555607497,9.012245592116175,9.139178628624853,9.266111665133531,9.39304470164221,9.519977738150889,9.646910774659567,9.773843811168245,9.900776847676925,10.027709884185603,10.15464292069428,10.28157595720296,10.408508993711639,10.535442030220317,10.662375066728995,10.789308103237675,10.916241139746353,11.04317417625503,11.170107212763709,11.297040249272388,11.423973285781067,11.550906322289745,11.677839358798423,11.804772395307102,11.93170543181578,12.058638468324459,12.185571504833138,12.312504541341816,12.439437577850494,12.566370614359172],\"y\":[0.0,0.12659245357374926,0.2511479871810792,0.3716624556603276,0.48619673610046865,0.5929079290546404,0.690079011482112,0.7761464642917568,0.8497254299495144,0.9096319953545183,0.9549022414440739,0.984807753012208,0.998867339183008,0.9968547759519424,0.9788024462147787,0.9450008187146685,0.8959937742913359,0.8325698546347714,0.7557495743542583,0.6667690005162916,0.5670598638627709,0.4582265217274105,0.3420201433256689,0.2203105327865408,0.09505604330418244,-0.03172793349806786,-0.15800139597335008,-0.28173255684142984,-0.4009305354066138,-0.5136773915734064,-0.6181589862206053,-0.7126941713788629,-0.7957618405308321,-0.8660254037844388,-0.9223542941045814,-0.9638421585599422,-0.9898214418809327,-0.9998741276738751,-0.9938384644612541,-0.9718115683235417,-0.9341478602651068,-0.881453363447582,-0.8145759520503358,-0.7345917086575331,-0.6427876096865396,-0.5406408174555974,-0.4297949120891719,-0.31203344569848707,-0.18925124436040974,-0.06342391965656452,0.06342391965656492,0.18925124436041013,0.31203344569848745,0.42979491208917153,0.5406408174555978,0.6427876096865393,0.7345917086575334,0.8145759520503356,0.8814533634475821,0.9341478602651067,0.9718115683235418,0.9938384644612541,0.9998741276738751,0.9898214418809328,0.963842158559942,0.9223542941045816,0.8660254037844383,0.7957618405308319,0.7126941713788629,0.6181589862206056,0.5136773915734058,0.40093053540661344,0.2817325568414299,0.15800139597335056,0.03172793349806701,-0.09505604330418282,-0.22031053278654034,-0.342020143325668,-0.45822652172741085,-0.5670598638627707,-0.6667690005162913,-0.7557495743542588,-0.8325698546347716,-0.8959937742913359,-0.9450008187146683,-0.9788024462147789,-0.9968547759519424,-0.998867339183008,-0.9848077530122081,-0.9549022414440737,-0.9096319953545183,-0.8497254299495145,-0.7761464642917573,-0.6900790114821116,-0.5929079290546404,-0.486196736100469,-0.37166245566032663,-0.2511479871810788,-0.1265924535737493,-4.898587196589413e-16]}},\"id\":\"ac5f5dcd-da6e-4414-88ad-ef03a48dfaa0\",\"type\":\"ColumnDataSource\"},{\"attributes\":{\"bottom_units\":\"screen\",\"fill_alpha\":{\"value\":0.5},\"fill_color\":{\"value\":\"lightgrey\"},\"left_units\":\"screen\",\"level\":\"overlay\",\"line_alpha\":{\"value\":1.0},\"line_color\":{\"value\":\"black\"},\"line_dash\":[4,4],\"line_width\":{\"value\":2},\"plot\":null,\"render_mode\":\"css\",\"right_units\":\"screen\",\"top_units\":\"screen\"},\"id\":\"457fa939-744c-4dac-98b1-edb846a16bf4\",\"type\":\"BoxAnnotation\"},{\"attributes\":{\"plot\":{\"id\":\"e2a35373-7161-4ad0-bb40-73c5146b96f8\",\"subtype\":\"Figure\",\"type\":\"Plot\"}},\"id\":\"4b415d24-4ac9-46fd-aa13-118e2900ddb0\",\"type\":\"WheelZoomTool\"},{\"attributes\":{},\"id\":\"ea0f5024-e7c7-46b0-8821-4785169545c7\",\"type\":\"BasicTickFormatter\"},{\"attributes\":{},\"id\":\"3ac5b987-b69c-46b6-93c6-59ec2bca149a\",\"type\":\"BasicTicker\"},{\"attributes\":{\"callback\":null},\"id\":\"7f7c5d5b-70b6-42b3-9c3f-a46dcf5b781b\",\"type\":\"DataRange1d\"},{\"attributes\":{\"formatter\":{\"id\":\"35d61088-c85e-462d-a82d-2b66a5bbc35a\",\"type\":\"BasicTickFormatter\"},\"plot\":{\"id\":\"e2a35373-7161-4ad0-bb40-73c5146b96f8\",\"subtype\":\"Figure\",\"type\":\"Plot\"},\"ticker\":{\"id\":\"3ac5b987-b69c-46b6-93c6-59ec2bca149a\",\"type\":\"BasicTicker\"}},\"id\":\"1c6302d2-853d-4756-ad58-0205513fee91\",\"type\":\"LinearAxis\"},{\"attributes\":{\"plot\":null,\"text\":null},\"id\":\"6d35bcb3-00e9-4b3b-9b8a-7e2b7d954f85\",\"type\":\"Title\"}],\"root_ids\":[\"e2a35373-7161-4ad0-bb40-73c5146b96f8\"]},\"title\":\"Bokeh Application\",\"version\":\"0.12.1\"}};\n",
       "            var render_items = [{\"docid\":\"5b543182-1564-4f22-948f-0a9298a1b67d\",\"elementid\":\"ffac3281-c922-4af4-abb5-9ca35f271905\",\"modelid\":\"e2a35373-7161-4ad0-bb40-73c5146b96f8\",\"notebook_comms_target\":\"417feb59-0ee5-498a-bca8-ae60568fb6e3\"}];\n",
       "            \n",
       "            Bokeh.embed.embed_items(docs_json, render_items);\n",
       "        });\n",
       "      },\n",
       "      function(Bokeh) {\n",
       "      }\n",
       "    ];\n",
       "  \n",
       "    function run_inline_js() {\n",
       "      for (var i = 0; i < inline_js.length; i++) {\n",
       "        inline_js[i](window.Bokeh);\n",
       "      }\n",
       "    }\n",
       "  \n",
       "    if (window._bokeh_is_loading === 0) {\n",
       "      console.log(\"Bokeh: BokehJS loaded, going straight to plotting\");\n",
       "      run_inline_js();\n",
       "    } else {\n",
       "      load_libs(js_urls, function() {\n",
       "        console.log(\"Bokeh: BokehJS plotting callback run at\", now());\n",
       "        run_inline_js();\n",
       "      });\n",
       "    }\n",
       "  }(this));\n",
       "</script>"
      ]
     },
     "metadata": {},
     "output_type": "display_data"
    },
    {
     "data": {
      "text/html": [
       "<p><code>&lt;Bokeh Notebook handle for <strong>In[5]</strong>&gt;</code></p>"
      ],
      "text/plain": [
       "<bokeh.io._CommsHandle at 0x83862b0>"
      ]
     },
     "execution_count": 5,
     "metadata": {},
     "output_type": "execute_result"
    }
   ],
   "source": [
    "from bokeh.plotting import figure\n",
    "\n",
    "plot = figure(plot_height=200)\n",
    "plot.plot_width=1000\n",
    "plot.line(x,y,line_width=2)\n",
    "show(plot)"
   ]
  },
  {
   "cell_type": "markdown",
   "metadata": {},
   "source": [
    "New in Bokeh 0.10 is the ability to make a `responsive` plot:\n",
    "* ...that will resize based on the browser. \n",
    "* Try changing the the width and height of the plot below. \n",
    "* The plot will always be drawn a the full width of the notebook \n",
    "* ...but the ratio between width and height will be respected."
   ]
  },
  {
   "cell_type": "code",
   "execution_count": 6,
   "metadata": {
    "collapsed": false,
    "scrolled": true
   },
   "outputs": [
    {
     "data": {
      "text/html": [
       "\n",
       "\n",
       "    <div class=\"bk-root\">\n",
       "        <div class=\"plotdiv\" id=\"b8656b33-e055-47a4-9b63-2dbe7b1500ae\"></div>\n",
       "    </div>\n",
       "<script type=\"text/javascript\">\n",
       "  \n",
       "  (function(global) {\n",
       "    function now() {\n",
       "      return new Date();\n",
       "    }\n",
       "  \n",
       "    var force = \"\";\n",
       "  \n",
       "    if (typeof (window._bokeh_onload_callbacks) === \"undefined\" || force !== \"\") {\n",
       "      window._bokeh_onload_callbacks = [];\n",
       "      window._bokeh_is_loading = undefined;\n",
       "    }\n",
       "  \n",
       "    function run_callbacks() {\n",
       "      window._bokeh_onload_callbacks.forEach(function(callback) { callback() });\n",
       "      delete window._bokeh_onload_callbacks\n",
       "      console.info(\"Bokeh: all callbacks have finished\");\n",
       "    }\n",
       "  \n",
       "    function load_libs(js_urls, callback) {\n",
       "      window._bokeh_onload_callbacks.push(callback);\n",
       "      if (window._bokeh_is_loading > 0) {\n",
       "        console.log(\"Bokeh: BokehJS is being loaded, scheduling callback at\", now());\n",
       "        return null;\n",
       "      }\n",
       "      if (js_urls == null || js_urls.length === 0) {\n",
       "        run_callbacks();\n",
       "        return null;\n",
       "      }\n",
       "      console.log(\"Bokeh: BokehJS not loaded, scheduling load and callback at\", now());\n",
       "      window._bokeh_is_loading = js_urls.length;\n",
       "      for (var i = 0; i < js_urls.length; i++) {\n",
       "        var url = js_urls[i];\n",
       "        var s = document.createElement('script');\n",
       "        s.src = url;\n",
       "        s.async = false;\n",
       "        s.onreadystatechange = s.onload = function() {\n",
       "          window._bokeh_is_loading--;\n",
       "          if (window._bokeh_is_loading === 0) {\n",
       "            console.log(\"Bokeh: all BokehJS libraries loaded\");\n",
       "            run_callbacks()\n",
       "          }\n",
       "        };\n",
       "        s.onerror = function() {\n",
       "          console.warn(\"failed to load library \" + url);\n",
       "        };\n",
       "        console.log(\"Bokeh: injecting script tag for BokehJS library: \", url);\n",
       "        document.getElementsByTagName(\"head\")[0].appendChild(s);\n",
       "      }\n",
       "    };var element = document.getElementById(\"b8656b33-e055-47a4-9b63-2dbe7b1500ae\");\n",
       "    if (element == null) {\n",
       "      console.log(\"Bokeh: ERROR: autoload.js configured with elementid 'b8656b33-e055-47a4-9b63-2dbe7b1500ae' but no matching script tag was found. \")\n",
       "      return false;\n",
       "    }\n",
       "  \n",
       "    var js_urls = [];\n",
       "  \n",
       "    var inline_js = [\n",
       "      function(Bokeh) {\n",
       "        Bokeh.$(function() {\n",
       "            var docs_json = {\"f3dc5846-3374-4350-9406-3ae09bc05c1a\":{\"roots\":{\"references\":[{\"attributes\":{},\"id\":\"f9f5adcc-982a-4b38-901c-b0f4bacd4922\",\"type\":\"ToolEvents\"},{\"attributes\":{\"dimension\":1,\"plot\":{\"id\":\"f49ace73-db27-4d6e-9bb2-a39239aa439d\",\"subtype\":\"Figure\",\"type\":\"Plot\"},\"ticker\":{\"id\":\"2514041b-ab37-47b3-830b-545ca2031e9a\",\"type\":\"BasicTicker\"}},\"id\":\"e3e5a67f-b19f-4f20-9d91-169257d400b8\",\"type\":\"Grid\"},{\"attributes\":{\"plot\":null,\"text\":null},\"id\":\"bc7904db-0a28-4fe5-8379-d116b349c0bd\",\"type\":\"Title\"},{\"attributes\":{\"data_source\":{\"id\":\"8d938a9d-720f-41a9-881e-786f3c25c050\",\"type\":\"ColumnDataSource\"},\"glyph\":{\"id\":\"6def2ac6-d48f-4a48-b69a-767d0d0afe38\",\"type\":\"Line\"},\"hover_glyph\":null,\"nonselection_glyph\":{\"id\":\"0c22c389-492c-447f-a9d2-963b7ce0d4c3\",\"type\":\"Line\"},\"selection_glyph\":null},\"id\":\"307e3b96-e605-4690-aa2b-8fd7fc170e54\",\"type\":\"GlyphRenderer\"},{\"attributes\":{\"formatter\":{\"id\":\"138ebf03-02a2-4fae-9ad9-16608770f059\",\"type\":\"BasicTickFormatter\"},\"plot\":{\"id\":\"f49ace73-db27-4d6e-9bb2-a39239aa439d\",\"subtype\":\"Figure\",\"type\":\"Plot\"},\"ticker\":{\"id\":\"e1a99ff0-378d-4bae-a6ba-357ca59258ee\",\"type\":\"BasicTicker\"}},\"id\":\"89c86e74-00b7-4813-854e-f3b5927e9f84\",\"type\":\"LinearAxis\"},{\"attributes\":{\"plot\":{\"id\":\"f49ace73-db27-4d6e-9bb2-a39239aa439d\",\"subtype\":\"Figure\",\"type\":\"Plot\"}},\"id\":\"8dfd90a7-535c-4e2f-80e2-58c659bc4801\",\"type\":\"WheelZoomTool\"},{\"attributes\":{\"callback\":null,\"column_names\":[\"x\",\"y\"],\"data\":{\"x\":[0.0,0.12693303650867852,0.25386607301735703,0.3807991095260356,0.5077321460347141,0.6346651825433925,0.7615982190520711,0.8885312555607496,1.0154642920694281,1.1423973285781066,1.269330365086785,1.3962634015954636,1.5231964381041423,1.6501294746128208,1.7770625111214993,1.9039955476301778,2.0309285841388562,2.1578616206475347,2.284794657156213,2.4117276936648917,2.53866073017357,2.6655937666822487,2.792526803190927,2.9194598396996057,3.0463928762082846,3.173325912716963,3.3002589492256416,3.42719198573432,3.5541250222429985,3.681058058751677,3.8079910952603555,3.934924131769034,4.0618571682777125,4.188790204786391,4.3157232412950695,4.442656277803748,4.569589314312426,4.696522350821105,4.823455387329783,4.950388423838462,5.07732146034714,5.204254496855819,5.331187533364497,5.458120569873176,5.585053606381854,5.711986642890533,5.838919679399211,5.96585271590789,6.092785752416569,6.219718788925247,6.346651825433926,6.473584861942604,6.600517898451283,6.727450934959961,6.85438397146864,6.981317007977318,7.108250044485997,7.235183080994675,7.362116117503354,7.489049154012032,7.615982190520711,7.742915227029389,7.869848263538068,7.996781300046746,8.123714336555425,8.250647373064103,8.377580409572783,8.50451344608146,8.631446482590139,8.758379519098817,8.885312555607497,9.012245592116175,9.139178628624853,9.266111665133531,9.39304470164221,9.519977738150889,9.646910774659567,9.773843811168245,9.900776847676925,10.027709884185603,10.15464292069428,10.28157595720296,10.408508993711639,10.535442030220317,10.662375066728995,10.789308103237675,10.916241139746353,11.04317417625503,11.170107212763709,11.297040249272388,11.423973285781067,11.550906322289745,11.677839358798423,11.804772395307102,11.93170543181578,12.058638468324459,12.185571504833138,12.312504541341816,12.439437577850494,12.566370614359172],\"y\":[0.0,0.12659245357374926,0.2511479871810792,0.3716624556603276,0.48619673610046865,0.5929079290546404,0.690079011482112,0.7761464642917568,0.8497254299495144,0.9096319953545183,0.9549022414440739,0.984807753012208,0.998867339183008,0.9968547759519424,0.9788024462147787,0.9450008187146685,0.8959937742913359,0.8325698546347714,0.7557495743542583,0.6667690005162916,0.5670598638627709,0.4582265217274105,0.3420201433256689,0.2203105327865408,0.09505604330418244,-0.03172793349806786,-0.15800139597335008,-0.28173255684142984,-0.4009305354066138,-0.5136773915734064,-0.6181589862206053,-0.7126941713788629,-0.7957618405308321,-0.8660254037844388,-0.9223542941045814,-0.9638421585599422,-0.9898214418809327,-0.9998741276738751,-0.9938384644612541,-0.9718115683235417,-0.9341478602651068,-0.881453363447582,-0.8145759520503358,-0.7345917086575331,-0.6427876096865396,-0.5406408174555974,-0.4297949120891719,-0.31203344569848707,-0.18925124436040974,-0.06342391965656452,0.06342391965656492,0.18925124436041013,0.31203344569848745,0.42979491208917153,0.5406408174555978,0.6427876096865393,0.7345917086575334,0.8145759520503356,0.8814533634475821,0.9341478602651067,0.9718115683235418,0.9938384644612541,0.9998741276738751,0.9898214418809328,0.963842158559942,0.9223542941045816,0.8660254037844383,0.7957618405308319,0.7126941713788629,0.6181589862206056,0.5136773915734058,0.40093053540661344,0.2817325568414299,0.15800139597335056,0.03172793349806701,-0.09505604330418282,-0.22031053278654034,-0.342020143325668,-0.45822652172741085,-0.5670598638627707,-0.6667690005162913,-0.7557495743542588,-0.8325698546347716,-0.8959937742913359,-0.9450008187146683,-0.9788024462147789,-0.9968547759519424,-0.998867339183008,-0.9848077530122081,-0.9549022414440737,-0.9096319953545183,-0.8497254299495145,-0.7761464642917573,-0.6900790114821116,-0.5929079290546404,-0.486196736100469,-0.37166245566032663,-0.2511479871810788,-0.1265924535737493,-4.898587196589413e-16]}},\"id\":\"8d938a9d-720f-41a9-881e-786f3c25c050\",\"type\":\"ColumnDataSource\"},{\"attributes\":{},\"id\":\"06d932c8-d20c-487f-a8e2-33171e8441d2\",\"type\":\"BasicTickFormatter\"},{\"attributes\":{\"bottom_units\":\"screen\",\"fill_alpha\":{\"value\":0.5},\"fill_color\":{\"value\":\"lightgrey\"},\"left_units\":\"screen\",\"level\":\"overlay\",\"line_alpha\":{\"value\":1.0},\"line_color\":{\"value\":\"black\"},\"line_dash\":[4,4],\"line_width\":{\"value\":2},\"plot\":null,\"render_mode\":\"css\",\"right_units\":\"screen\",\"top_units\":\"screen\"},\"id\":\"26acd5f5-f7f9-4667-abba-6c5fdf25e065\",\"type\":\"BoxAnnotation\"},{\"attributes\":{\"line_alpha\":{\"value\":0.1},\"line_color\":{\"value\":\"#1f77b4\"},\"line_width\":{\"value\":2},\"x\":{\"field\":\"x\"},\"y\":{\"field\":\"y\"}},\"id\":\"0c22c389-492c-447f-a9d2-963b7ce0d4c3\",\"type\":\"Line\"},{\"attributes\":{\"line_color\":{\"value\":\"#1f77b4\"},\"line_width\":{\"value\":2},\"x\":{\"field\":\"x\"},\"y\":{\"field\":\"y\"}},\"id\":\"6def2ac6-d48f-4a48-b69a-767d0d0afe38\",\"type\":\"Line\"},{\"attributes\":{\"plot\":{\"id\":\"f49ace73-db27-4d6e-9bb2-a39239aa439d\",\"subtype\":\"Figure\",\"type\":\"Plot\"}},\"id\":\"e829076a-4685-4b46-aabb-04d9f7d5a7f8\",\"type\":\"ResetTool\"},{\"attributes\":{\"callback\":null},\"id\":\"e1f7d653-97bd-40c0-96d5-56222cefb6b8\",\"type\":\"DataRange1d\"},{\"attributes\":{\"plot\":{\"id\":\"f49ace73-db27-4d6e-9bb2-a39239aa439d\",\"subtype\":\"Figure\",\"type\":\"Plot\"}},\"id\":\"48d6e148-5339-4d04-b2e9-84a8ba6b932e\",\"type\":\"HelpTool\"},{\"attributes\":{\"below\":[{\"id\":\"89c86e74-00b7-4813-854e-f3b5927e9f84\",\"type\":\"LinearAxis\"}],\"left\":[{\"id\":\"9bf924f8-5a7e-4ac9-a636-2b9ab314f207\",\"type\":\"LinearAxis\"}],\"plot_height\":200,\"plot_width\":1000,\"renderers\":[{\"id\":\"89c86e74-00b7-4813-854e-f3b5927e9f84\",\"type\":\"LinearAxis\"},{\"id\":\"7218b70b-aaef-412e-b00c-7754cdb9af59\",\"type\":\"Grid\"},{\"id\":\"9bf924f8-5a7e-4ac9-a636-2b9ab314f207\",\"type\":\"LinearAxis\"},{\"id\":\"e3e5a67f-b19f-4f20-9d91-169257d400b8\",\"type\":\"Grid\"},{\"id\":\"26acd5f5-f7f9-4667-abba-6c5fdf25e065\",\"type\":\"BoxAnnotation\"},{\"id\":\"307e3b96-e605-4690-aa2b-8fd7fc170e54\",\"type\":\"GlyphRenderer\"}],\"sizing_mode\":\"scale_width\",\"title\":{\"id\":\"bc7904db-0a28-4fe5-8379-d116b349c0bd\",\"type\":\"Title\"},\"tool_events\":{\"id\":\"f9f5adcc-982a-4b38-901c-b0f4bacd4922\",\"type\":\"ToolEvents\"},\"toolbar\":{\"id\":\"905bd9e0-e0eb-48a2-9257-373bce4dad37\",\"type\":\"Toolbar\"},\"x_range\":{\"id\":\"3bdf3f73-d0f6-48be-bccf-61a6767c12ca\",\"type\":\"DataRange1d\"},\"y_range\":{\"id\":\"e1f7d653-97bd-40c0-96d5-56222cefb6b8\",\"type\":\"DataRange1d\"}},\"id\":\"f49ace73-db27-4d6e-9bb2-a39239aa439d\",\"subtype\":\"Figure\",\"type\":\"Plot\"},{\"attributes\":{\"active_drag\":\"auto\",\"active_scroll\":\"auto\",\"active_tap\":\"auto\",\"tools\":[{\"id\":\"d5a3a3d6-f426-4ebe-8ec5-696cdb594cd8\",\"type\":\"PanTool\"},{\"id\":\"8dfd90a7-535c-4e2f-80e2-58c659bc4801\",\"type\":\"WheelZoomTool\"},{\"id\":\"452ca591-168f-4227-9f28-d5db634fa047\",\"type\":\"BoxZoomTool\"},{\"id\":\"3004138f-dcbd-4cc6-9782-ba33b1e03e9b\",\"type\":\"SaveTool\"},{\"id\":\"e829076a-4685-4b46-aabb-04d9f7d5a7f8\",\"type\":\"ResetTool\"},{\"id\":\"48d6e148-5339-4d04-b2e9-84a8ba6b932e\",\"type\":\"HelpTool\"}]},\"id\":\"905bd9e0-e0eb-48a2-9257-373bce4dad37\",\"type\":\"Toolbar\"},{\"attributes\":{\"plot\":{\"id\":\"f49ace73-db27-4d6e-9bb2-a39239aa439d\",\"subtype\":\"Figure\",\"type\":\"Plot\"}},\"id\":\"3004138f-dcbd-4cc6-9782-ba33b1e03e9b\",\"type\":\"SaveTool\"},{\"attributes\":{},\"id\":\"138ebf03-02a2-4fae-9ad9-16608770f059\",\"type\":\"BasicTickFormatter\"},{\"attributes\":{},\"id\":\"e1a99ff0-378d-4bae-a6ba-357ca59258ee\",\"type\":\"BasicTicker\"},{\"attributes\":{\"callback\":null},\"id\":\"3bdf3f73-d0f6-48be-bccf-61a6767c12ca\",\"type\":\"DataRange1d\"},{\"attributes\":{\"plot\":{\"id\":\"f49ace73-db27-4d6e-9bb2-a39239aa439d\",\"subtype\":\"Figure\",\"type\":\"Plot\"}},\"id\":\"d5a3a3d6-f426-4ebe-8ec5-696cdb594cd8\",\"type\":\"PanTool\"},{\"attributes\":{},\"id\":\"2514041b-ab37-47b3-830b-545ca2031e9a\",\"type\":\"BasicTicker\"},{\"attributes\":{\"plot\":{\"id\":\"f49ace73-db27-4d6e-9bb2-a39239aa439d\",\"subtype\":\"Figure\",\"type\":\"Plot\"},\"ticker\":{\"id\":\"e1a99ff0-378d-4bae-a6ba-357ca59258ee\",\"type\":\"BasicTicker\"}},\"id\":\"7218b70b-aaef-412e-b00c-7754cdb9af59\",\"type\":\"Grid\"},{\"attributes\":{\"overlay\":{\"id\":\"26acd5f5-f7f9-4667-abba-6c5fdf25e065\",\"type\":\"BoxAnnotation\"},\"plot\":{\"id\":\"f49ace73-db27-4d6e-9bb2-a39239aa439d\",\"subtype\":\"Figure\",\"type\":\"Plot\"}},\"id\":\"452ca591-168f-4227-9f28-d5db634fa047\",\"type\":\"BoxZoomTool\"},{\"attributes\":{\"formatter\":{\"id\":\"06d932c8-d20c-487f-a8e2-33171e8441d2\",\"type\":\"BasicTickFormatter\"},\"plot\":{\"id\":\"f49ace73-db27-4d6e-9bb2-a39239aa439d\",\"subtype\":\"Figure\",\"type\":\"Plot\"},\"ticker\":{\"id\":\"2514041b-ab37-47b3-830b-545ca2031e9a\",\"type\":\"BasicTicker\"}},\"id\":\"9bf924f8-5a7e-4ac9-a636-2b9ab314f207\",\"type\":\"LinearAxis\"}],\"root_ids\":[\"f49ace73-db27-4d6e-9bb2-a39239aa439d\"]},\"title\":\"Bokeh Application\",\"version\":\"0.12.1\"}};\n",
       "            var render_items = [{\"docid\":\"f3dc5846-3374-4350-9406-3ae09bc05c1a\",\"elementid\":\"b8656b33-e055-47a4-9b63-2dbe7b1500ae\",\"modelid\":\"f49ace73-db27-4d6e-9bb2-a39239aa439d\",\"notebook_comms_target\":\"65b07530-703f-42ec-ae6c-279d522ad8cf\"}];\n",
       "            \n",
       "            Bokeh.embed.embed_items(docs_json, render_items);\n",
       "        });\n",
       "      },\n",
       "      function(Bokeh) {\n",
       "      }\n",
       "    ];\n",
       "  \n",
       "    function run_inline_js() {\n",
       "      for (var i = 0; i < inline_js.length; i++) {\n",
       "        inline_js[i](window.Bokeh);\n",
       "      }\n",
       "    }\n",
       "  \n",
       "    if (window._bokeh_is_loading === 0) {\n",
       "      console.log(\"Bokeh: BokehJS loaded, going straight to plotting\");\n",
       "      run_inline_js();\n",
       "    } else {\n",
       "      load_libs(js_urls, function() {\n",
       "        console.log(\"Bokeh: BokehJS plotting callback run at\", now());\n",
       "        run_inline_js();\n",
       "      });\n",
       "    }\n",
       "  }(this));\n",
       "</script>"
      ]
     },
     "metadata": {},
     "output_type": "display_data"
    },
    {
     "data": {
      "text/html": [
       "<p><code>&lt;Bokeh Notebook handle for <strong>In[6]</strong>&gt;</code></p>"
      ],
      "text/plain": [
       "<bokeh.io._CommsHandle at 0x839a5f8>"
      ]
     },
     "execution_count": 6,
     "metadata": {},
     "output_type": "execute_result"
    }
   ],
   "source": [
    "plot = figure(responsive=True)\n",
    "plot.plot_width=1000\n",
    "plot.plot_height=200\n",
    "plot.line(x,y,line_width=2)\n",
    "show(plot)"
   ]
  },
  {
   "cell_type": "markdown",
   "metadata": {},
   "source": [
    "## Figure Background"
   ]
  },
  {
   "cell_type": "code",
   "execution_count": 7,
   "metadata": {
    "collapsed": false,
    "scrolled": true
   },
   "outputs": [
    {
     "data": {
      "text/html": [
       "\n",
       "\n",
       "    <div class=\"bk-root\">\n",
       "        <div class=\"plotdiv\" id=\"146658a7-3b4a-48ea-ba90-4c86ec8f94bf\"></div>\n",
       "    </div>\n",
       "<script type=\"text/javascript\">\n",
       "  \n",
       "  (function(global) {\n",
       "    function now() {\n",
       "      return new Date();\n",
       "    }\n",
       "  \n",
       "    var force = \"\";\n",
       "  \n",
       "    if (typeof (window._bokeh_onload_callbacks) === \"undefined\" || force !== \"\") {\n",
       "      window._bokeh_onload_callbacks = [];\n",
       "      window._bokeh_is_loading = undefined;\n",
       "    }\n",
       "  \n",
       "    function run_callbacks() {\n",
       "      window._bokeh_onload_callbacks.forEach(function(callback) { callback() });\n",
       "      delete window._bokeh_onload_callbacks\n",
       "      console.info(\"Bokeh: all callbacks have finished\");\n",
       "    }\n",
       "  \n",
       "    function load_libs(js_urls, callback) {\n",
       "      window._bokeh_onload_callbacks.push(callback);\n",
       "      if (window._bokeh_is_loading > 0) {\n",
       "        console.log(\"Bokeh: BokehJS is being loaded, scheduling callback at\", now());\n",
       "        return null;\n",
       "      }\n",
       "      if (js_urls == null || js_urls.length === 0) {\n",
       "        run_callbacks();\n",
       "        return null;\n",
       "      }\n",
       "      console.log(\"Bokeh: BokehJS not loaded, scheduling load and callback at\", now());\n",
       "      window._bokeh_is_loading = js_urls.length;\n",
       "      for (var i = 0; i < js_urls.length; i++) {\n",
       "        var url = js_urls[i];\n",
       "        var s = document.createElement('script');\n",
       "        s.src = url;\n",
       "        s.async = false;\n",
       "        s.onreadystatechange = s.onload = function() {\n",
       "          window._bokeh_is_loading--;\n",
       "          if (window._bokeh_is_loading === 0) {\n",
       "            console.log(\"Bokeh: all BokehJS libraries loaded\");\n",
       "            run_callbacks()\n",
       "          }\n",
       "        };\n",
       "        s.onerror = function() {\n",
       "          console.warn(\"failed to load library \" + url);\n",
       "        };\n",
       "        console.log(\"Bokeh: injecting script tag for BokehJS library: \", url);\n",
       "        document.getElementsByTagName(\"head\")[0].appendChild(s);\n",
       "      }\n",
       "    };var element = document.getElementById(\"146658a7-3b4a-48ea-ba90-4c86ec8f94bf\");\n",
       "    if (element == null) {\n",
       "      console.log(\"Bokeh: ERROR: autoload.js configured with elementid '146658a7-3b4a-48ea-ba90-4c86ec8f94bf' but no matching script tag was found. \")\n",
       "      return false;\n",
       "    }\n",
       "  \n",
       "    var js_urls = [];\n",
       "  \n",
       "    var inline_js = [\n",
       "      function(Bokeh) {\n",
       "        Bokeh.$(function() {\n",
       "            var docs_json = {\"dba8d908-d38c-42db-95a2-7da49f6f4369\":{\"roots\":{\"references\":[{\"attributes\":{\"plot\":{\"id\":\"ed169a15-e93c-4a56-9bea-443d171b9b28\",\"subtype\":\"Figure\",\"type\":\"Plot\"}},\"id\":\"e210e207-7ab6-42a1-a262-9544a316f438\",\"type\":\"WheelZoomTool\"},{\"attributes\":{\"callback\":null},\"id\":\"899275a6-be3d-445d-ab22-d768b456afdc\",\"type\":\"DataRange1d\"},{\"attributes\":{\"callback\":null},\"id\":\"43923b67-f5f8-401b-9d6c-d095f9e1fb0d\",\"type\":\"DataRange1d\"},{\"attributes\":{\"formatter\":{\"id\":\"a767721a-7b3f-4899-892f-4e7ab5aa4e3b\",\"type\":\"BasicTickFormatter\"},\"plot\":{\"id\":\"ed169a15-e93c-4a56-9bea-443d171b9b28\",\"subtype\":\"Figure\",\"type\":\"Plot\"},\"ticker\":{\"id\":\"8a2ef361-698d-4c62-be61-7c7ff2000d1e\",\"type\":\"BasicTicker\"}},\"id\":\"648f3715-59db-4787-9494-f64f37230bc5\",\"type\":\"LinearAxis\"},{\"attributes\":{\"data_source\":{\"id\":\"4fc9a5a7-dc33-4365-9f11-bb94cb11c173\",\"type\":\"ColumnDataSource\"},\"glyph\":{\"id\":\"d03894bf-1e03-4faf-b85a-02a3ffc94a81\",\"type\":\"Line\"},\"hover_glyph\":null,\"nonselection_glyph\":{\"id\":\"07f521c5-d41d-456d-ba1b-638a5536e7a5\",\"type\":\"Line\"},\"selection_glyph\":null},\"id\":\"69172059-0e47-4172-84fa-e2b1f034b7d8\",\"type\":\"GlyphRenderer\"},{\"attributes\":{\"plot\":{\"id\":\"ed169a15-e93c-4a56-9bea-443d171b9b28\",\"subtype\":\"Figure\",\"type\":\"Plot\"}},\"id\":\"18745a6c-2c8b-41d3-a59f-4901172ad249\",\"type\":\"ResetTool\"},{\"attributes\":{},\"id\":\"e11ec75f-f6ac-4bbb-9644-c1bd51265c7c\",\"type\":\"BasicTicker\"},{\"attributes\":{\"bottom_units\":\"screen\",\"fill_alpha\":{\"value\":0.5},\"fill_color\":{\"value\":\"lightgrey\"},\"left_units\":\"screen\",\"level\":\"overlay\",\"line_alpha\":{\"value\":1.0},\"line_color\":{\"value\":\"black\"},\"line_dash\":[4,4],\"line_width\":{\"value\":2},\"plot\":null,\"render_mode\":\"css\",\"right_units\":\"screen\",\"top_units\":\"screen\"},\"id\":\"f5ae6b98-a8f3-4528-8a41-d3c0006c9f65\",\"type\":\"BoxAnnotation\"},{\"attributes\":{},\"id\":\"87ec4e28-1f16-4409-baf3-8e7a687fd35b\",\"type\":\"BasicTickFormatter\"},{\"attributes\":{\"plot\":{\"id\":\"ed169a15-e93c-4a56-9bea-443d171b9b28\",\"subtype\":\"Figure\",\"type\":\"Plot\"}},\"id\":\"3768bed8-0474-4e82-9ca6-34a34e78d968\",\"type\":\"HelpTool\"},{\"attributes\":{\"active_drag\":\"auto\",\"active_scroll\":\"auto\",\"active_tap\":\"auto\",\"tools\":[{\"id\":\"a9e1e196-1fdb-4565-b647-b8f1f4175ae4\",\"type\":\"PanTool\"},{\"id\":\"e210e207-7ab6-42a1-a262-9544a316f438\",\"type\":\"WheelZoomTool\"},{\"id\":\"abe5f3f0-63ce-4eb8-88e5-ab8bb1f30529\",\"type\":\"BoxZoomTool\"},{\"id\":\"dbb60f20-e0fb-4aa8-ac07-0b833f5f2c60\",\"type\":\"SaveTool\"},{\"id\":\"18745a6c-2c8b-41d3-a59f-4901172ad249\",\"type\":\"ResetTool\"},{\"id\":\"3768bed8-0474-4e82-9ca6-34a34e78d968\",\"type\":\"HelpTool\"}]},\"id\":\"718dd63a-0cd3-44bf-af2a-6cf9627def9c\",\"type\":\"Toolbar\"},{\"attributes\":{\"dimension\":1,\"plot\":{\"id\":\"ed169a15-e93c-4a56-9bea-443d171b9b28\",\"subtype\":\"Figure\",\"type\":\"Plot\"},\"ticker\":{\"id\":\"8a2ef361-698d-4c62-be61-7c7ff2000d1e\",\"type\":\"BasicTicker\"}},\"id\":\"df213b5c-78a5-4acc-8dcb-ec5f54d449eb\",\"type\":\"Grid\"},{\"attributes\":{\"plot\":{\"id\":\"ed169a15-e93c-4a56-9bea-443d171b9b28\",\"subtype\":\"Figure\",\"type\":\"Plot\"}},\"id\":\"dbb60f20-e0fb-4aa8-ac07-0b833f5f2c60\",\"type\":\"SaveTool\"},{\"attributes\":{\"plot\":null,\"text\":null},\"id\":\"d9803171-1954-4828-9284-5129159872da\",\"type\":\"Title\"},{\"attributes\":{\"formatter\":{\"id\":\"87ec4e28-1f16-4409-baf3-8e7a687fd35b\",\"type\":\"BasicTickFormatter\"},\"plot\":{\"id\":\"ed169a15-e93c-4a56-9bea-443d171b9b28\",\"subtype\":\"Figure\",\"type\":\"Plot\"},\"ticker\":{\"id\":\"e11ec75f-f6ac-4bbb-9644-c1bd51265c7c\",\"type\":\"BasicTicker\"}},\"id\":\"e8e5d918-a037-4ef5-8c16-8caf5e6e119a\",\"type\":\"LinearAxis\"},{\"attributes\":{\"background_fill_color\":{\"value\":\"azure\"},\"below\":[{\"id\":\"e8e5d918-a037-4ef5-8c16-8caf5e6e119a\",\"type\":\"LinearAxis\"}],\"left\":[{\"id\":\"648f3715-59db-4787-9494-f64f37230bc5\",\"type\":\"LinearAxis\"}],\"renderers\":[{\"id\":\"e8e5d918-a037-4ef5-8c16-8caf5e6e119a\",\"type\":\"LinearAxis\"},{\"id\":\"e82b4e61-bf7e-485a-af6d-363021341cc7\",\"type\":\"Grid\"},{\"id\":\"648f3715-59db-4787-9494-f64f37230bc5\",\"type\":\"LinearAxis\"},{\"id\":\"df213b5c-78a5-4acc-8dcb-ec5f54d449eb\",\"type\":\"Grid\"},{\"id\":\"f5ae6b98-a8f3-4528-8a41-d3c0006c9f65\",\"type\":\"BoxAnnotation\"},{\"id\":\"69172059-0e47-4172-84fa-e2b1f034b7d8\",\"type\":\"GlyphRenderer\"}],\"title\":{\"id\":\"d9803171-1954-4828-9284-5129159872da\",\"type\":\"Title\"},\"tool_events\":{\"id\":\"a27ef25c-8102-4583-a11d-c30a9b93da6e\",\"type\":\"ToolEvents\"},\"toolbar\":{\"id\":\"718dd63a-0cd3-44bf-af2a-6cf9627def9c\",\"type\":\"Toolbar\"},\"x_range\":{\"id\":\"899275a6-be3d-445d-ab22-d768b456afdc\",\"type\":\"DataRange1d\"},\"y_range\":{\"id\":\"43923b67-f5f8-401b-9d6c-d095f9e1fb0d\",\"type\":\"DataRange1d\"}},\"id\":\"ed169a15-e93c-4a56-9bea-443d171b9b28\",\"subtype\":\"Figure\",\"type\":\"Plot\"},{\"attributes\":{},\"id\":\"a767721a-7b3f-4899-892f-4e7ab5aa4e3b\",\"type\":\"BasicTickFormatter\"},{\"attributes\":{\"plot\":{\"id\":\"ed169a15-e93c-4a56-9bea-443d171b9b28\",\"subtype\":\"Figure\",\"type\":\"Plot\"}},\"id\":\"a9e1e196-1fdb-4565-b647-b8f1f4175ae4\",\"type\":\"PanTool\"},{\"attributes\":{},\"id\":\"8a2ef361-698d-4c62-be61-7c7ff2000d1e\",\"type\":\"BasicTicker\"},{\"attributes\":{},\"id\":\"a27ef25c-8102-4583-a11d-c30a9b93da6e\",\"type\":\"ToolEvents\"},{\"attributes\":{\"overlay\":{\"id\":\"f5ae6b98-a8f3-4528-8a41-d3c0006c9f65\",\"type\":\"BoxAnnotation\"},\"plot\":{\"id\":\"ed169a15-e93c-4a56-9bea-443d171b9b28\",\"subtype\":\"Figure\",\"type\":\"Plot\"}},\"id\":\"abe5f3f0-63ce-4eb8-88e5-ab8bb1f30529\",\"type\":\"BoxZoomTool\"},{\"attributes\":{\"line_alpha\":{\"value\":0.1},\"line_color\":{\"value\":\"#1f77b4\"},\"line_width\":{\"value\":2},\"x\":{\"field\":\"x\"},\"y\":{\"field\":\"y\"}},\"id\":\"07f521c5-d41d-456d-ba1b-638a5536e7a5\",\"type\":\"Line\"},{\"attributes\":{\"line_color\":{\"value\":\"#1f77b4\"},\"line_width\":{\"value\":2},\"x\":{\"field\":\"x\"},\"y\":{\"field\":\"y\"}},\"id\":\"d03894bf-1e03-4faf-b85a-02a3ffc94a81\",\"type\":\"Line\"},{\"attributes\":{\"plot\":{\"id\":\"ed169a15-e93c-4a56-9bea-443d171b9b28\",\"subtype\":\"Figure\",\"type\":\"Plot\"},\"ticker\":{\"id\":\"e11ec75f-f6ac-4bbb-9644-c1bd51265c7c\",\"type\":\"BasicTicker\"}},\"id\":\"e82b4e61-bf7e-485a-af6d-363021341cc7\",\"type\":\"Grid\"},{\"attributes\":{\"callback\":null,\"column_names\":[\"x\",\"y\"],\"data\":{\"x\":[0.0,0.12693303650867852,0.25386607301735703,0.3807991095260356,0.5077321460347141,0.6346651825433925,0.7615982190520711,0.8885312555607496,1.0154642920694281,1.1423973285781066,1.269330365086785,1.3962634015954636,1.5231964381041423,1.6501294746128208,1.7770625111214993,1.9039955476301778,2.0309285841388562,2.1578616206475347,2.284794657156213,2.4117276936648917,2.53866073017357,2.6655937666822487,2.792526803190927,2.9194598396996057,3.0463928762082846,3.173325912716963,3.3002589492256416,3.42719198573432,3.5541250222429985,3.681058058751677,3.8079910952603555,3.934924131769034,4.0618571682777125,4.188790204786391,4.3157232412950695,4.442656277803748,4.569589314312426,4.696522350821105,4.823455387329783,4.950388423838462,5.07732146034714,5.204254496855819,5.331187533364497,5.458120569873176,5.585053606381854,5.711986642890533,5.838919679399211,5.96585271590789,6.092785752416569,6.219718788925247,6.346651825433926,6.473584861942604,6.600517898451283,6.727450934959961,6.85438397146864,6.981317007977318,7.108250044485997,7.235183080994675,7.362116117503354,7.489049154012032,7.615982190520711,7.742915227029389,7.869848263538068,7.996781300046746,8.123714336555425,8.250647373064103,8.377580409572783,8.50451344608146,8.631446482590139,8.758379519098817,8.885312555607497,9.012245592116175,9.139178628624853,9.266111665133531,9.39304470164221,9.519977738150889,9.646910774659567,9.773843811168245,9.900776847676925,10.027709884185603,10.15464292069428,10.28157595720296,10.408508993711639,10.535442030220317,10.662375066728995,10.789308103237675,10.916241139746353,11.04317417625503,11.170107212763709,11.297040249272388,11.423973285781067,11.550906322289745,11.677839358798423,11.804772395307102,11.93170543181578,12.058638468324459,12.185571504833138,12.312504541341816,12.439437577850494,12.566370614359172],\"y\":[0.0,0.12659245357374926,0.2511479871810792,0.3716624556603276,0.48619673610046865,0.5929079290546404,0.690079011482112,0.7761464642917568,0.8497254299495144,0.9096319953545183,0.9549022414440739,0.984807753012208,0.998867339183008,0.9968547759519424,0.9788024462147787,0.9450008187146685,0.8959937742913359,0.8325698546347714,0.7557495743542583,0.6667690005162916,0.5670598638627709,0.4582265217274105,0.3420201433256689,0.2203105327865408,0.09505604330418244,-0.03172793349806786,-0.15800139597335008,-0.28173255684142984,-0.4009305354066138,-0.5136773915734064,-0.6181589862206053,-0.7126941713788629,-0.7957618405308321,-0.8660254037844388,-0.9223542941045814,-0.9638421585599422,-0.9898214418809327,-0.9998741276738751,-0.9938384644612541,-0.9718115683235417,-0.9341478602651068,-0.881453363447582,-0.8145759520503358,-0.7345917086575331,-0.6427876096865396,-0.5406408174555974,-0.4297949120891719,-0.31203344569848707,-0.18925124436040974,-0.06342391965656452,0.06342391965656492,0.18925124436041013,0.31203344569848745,0.42979491208917153,0.5406408174555978,0.6427876096865393,0.7345917086575334,0.8145759520503356,0.8814533634475821,0.9341478602651067,0.9718115683235418,0.9938384644612541,0.9998741276738751,0.9898214418809328,0.963842158559942,0.9223542941045816,0.8660254037844383,0.7957618405308319,0.7126941713788629,0.6181589862206056,0.5136773915734058,0.40093053540661344,0.2817325568414299,0.15800139597335056,0.03172793349806701,-0.09505604330418282,-0.22031053278654034,-0.342020143325668,-0.45822652172741085,-0.5670598638627707,-0.6667690005162913,-0.7557495743542588,-0.8325698546347716,-0.8959937742913359,-0.9450008187146683,-0.9788024462147789,-0.9968547759519424,-0.998867339183008,-0.9848077530122081,-0.9549022414440737,-0.9096319953545183,-0.8497254299495145,-0.7761464642917573,-0.6900790114821116,-0.5929079290546404,-0.486196736100469,-0.37166245566032663,-0.2511479871810788,-0.1265924535737493,-4.898587196589413e-16]}},\"id\":\"4fc9a5a7-dc33-4365-9f11-bb94cb11c173\",\"type\":\"ColumnDataSource\"}],\"root_ids\":[\"ed169a15-e93c-4a56-9bea-443d171b9b28\"]},\"title\":\"Bokeh Application\",\"version\":\"0.12.1\"}};\n",
       "            var render_items = [{\"docid\":\"dba8d908-d38c-42db-95a2-7da49f6f4369\",\"elementid\":\"146658a7-3b4a-48ea-ba90-4c86ec8f94bf\",\"modelid\":\"ed169a15-e93c-4a56-9bea-443d171b9b28\",\"notebook_comms_target\":\"41536e03-cafa-4760-a676-9f1e120808dd\"}];\n",
       "            \n",
       "            Bokeh.embed.embed_items(docs_json, render_items);\n",
       "        });\n",
       "      },\n",
       "      function(Bokeh) {\n",
       "      }\n",
       "    ];\n",
       "  \n",
       "    function run_inline_js() {\n",
       "      for (var i = 0; i < inline_js.length; i++) {\n",
       "        inline_js[i](window.Bokeh);\n",
       "      }\n",
       "    }\n",
       "  \n",
       "    if (window._bokeh_is_loading === 0) {\n",
       "      console.log(\"Bokeh: BokehJS loaded, going straight to plotting\");\n",
       "      run_inline_js();\n",
       "    } else {\n",
       "      load_libs(js_urls, function() {\n",
       "        console.log(\"Bokeh: BokehJS plotting callback run at\", now());\n",
       "        run_inline_js();\n",
       "      });\n",
       "    }\n",
       "  }(this));\n",
       "</script>"
      ]
     },
     "metadata": {},
     "output_type": "display_data"
    },
    {
     "data": {
      "text/html": [
       "<p><code>&lt;Bokeh Notebook handle for <strong>In[7]</strong>&gt;</code></p>"
      ],
      "text/plain": [
       "<bokeh.io._CommsHandle at 0x83a2160>"
      ]
     },
     "execution_count": 7,
     "metadata": {},
     "output_type": "execute_result"
    }
   ],
   "source": [
    "plot = figure()\n",
    "plot.background_fill_color='azure'\n",
    "plot.line(x,y,line_width=2)\n",
    "show(plot)"
   ]
  },
  {
   "cell_type": "markdown",
   "metadata": {},
   "source": [
    "## Title Text"
   ]
  },
  {
   "cell_type": "code",
   "execution_count": 8,
   "metadata": {
    "collapsed": false
   },
   "outputs": [
    {
     "data": {
      "text/html": [
       "\n",
       "\n",
       "    <div class=\"bk-root\">\n",
       "        <div class=\"plotdiv\" id=\"a9f61551-eca4-4906-9f5f-a430d0c57668\"></div>\n",
       "    </div>\n",
       "<script type=\"text/javascript\">\n",
       "  \n",
       "  (function(global) {\n",
       "    function now() {\n",
       "      return new Date();\n",
       "    }\n",
       "  \n",
       "    var force = \"\";\n",
       "  \n",
       "    if (typeof (window._bokeh_onload_callbacks) === \"undefined\" || force !== \"\") {\n",
       "      window._bokeh_onload_callbacks = [];\n",
       "      window._bokeh_is_loading = undefined;\n",
       "    }\n",
       "  \n",
       "    function run_callbacks() {\n",
       "      window._bokeh_onload_callbacks.forEach(function(callback) { callback() });\n",
       "      delete window._bokeh_onload_callbacks\n",
       "      console.info(\"Bokeh: all callbacks have finished\");\n",
       "    }\n",
       "  \n",
       "    function load_libs(js_urls, callback) {\n",
       "      window._bokeh_onload_callbacks.push(callback);\n",
       "      if (window._bokeh_is_loading > 0) {\n",
       "        console.log(\"Bokeh: BokehJS is being loaded, scheduling callback at\", now());\n",
       "        return null;\n",
       "      }\n",
       "      if (js_urls == null || js_urls.length === 0) {\n",
       "        run_callbacks();\n",
       "        return null;\n",
       "      }\n",
       "      console.log(\"Bokeh: BokehJS not loaded, scheduling load and callback at\", now());\n",
       "      window._bokeh_is_loading = js_urls.length;\n",
       "      for (var i = 0; i < js_urls.length; i++) {\n",
       "        var url = js_urls[i];\n",
       "        var s = document.createElement('script');\n",
       "        s.src = url;\n",
       "        s.async = false;\n",
       "        s.onreadystatechange = s.onload = function() {\n",
       "          window._bokeh_is_loading--;\n",
       "          if (window._bokeh_is_loading === 0) {\n",
       "            console.log(\"Bokeh: all BokehJS libraries loaded\");\n",
       "            run_callbacks()\n",
       "          }\n",
       "        };\n",
       "        s.onerror = function() {\n",
       "          console.warn(\"failed to load library \" + url);\n",
       "        };\n",
       "        console.log(\"Bokeh: injecting script tag for BokehJS library: \", url);\n",
       "        document.getElementsByTagName(\"head\")[0].appendChild(s);\n",
       "      }\n",
       "    };var element = document.getElementById(\"a9f61551-eca4-4906-9f5f-a430d0c57668\");\n",
       "    if (element == null) {\n",
       "      console.log(\"Bokeh: ERROR: autoload.js configured with elementid 'a9f61551-eca4-4906-9f5f-a430d0c57668' but no matching script tag was found. \")\n",
       "      return false;\n",
       "    }\n",
       "  \n",
       "    var js_urls = [];\n",
       "  \n",
       "    var inline_js = [\n",
       "      function(Bokeh) {\n",
       "        Bokeh.$(function() {\n",
       "            var docs_json = {\"c41b6401-4e22-410d-8d2f-5015d4d204ba\":{\"roots\":{\"references\":[{\"attributes\":{\"plot\":{\"id\":\"fc77388b-41d6-4529-878d-ef35bc8046b0\",\"subtype\":\"Figure\",\"type\":\"Plot\"}},\"id\":\"915ccbc5-a29e-44aa-9265-9e19152796fc\",\"type\":\"HelpTool\"},{\"attributes\":{},\"id\":\"475bd263-6f1d-4e53-a62e-5d0fd7a682ae\",\"type\":\"ToolEvents\"},{\"attributes\":{\"plot\":{\"id\":\"fc77388b-41d6-4529-878d-ef35bc8046b0\",\"subtype\":\"Figure\",\"type\":\"Plot\"},\"ticker\":{\"id\":\"0e261753-91d5-4442-bcaa-3940e5cf89e7\",\"type\":\"BasicTicker\"}},\"id\":\"b6562581-1ed7-4919-a83c-0920a92681cd\",\"type\":\"Grid\"},{\"attributes\":{},\"id\":\"7f674be2-a484-4633-bb63-a6e4bf497afb\",\"type\":\"BasicTicker\"},{\"attributes\":{\"plot\":{\"id\":\"fc77388b-41d6-4529-878d-ef35bc8046b0\",\"subtype\":\"Figure\",\"type\":\"Plot\"}},\"id\":\"1ac36687-4408-42f0-adfc-098b5dd7fe1b\",\"type\":\"PanTool\"},{\"attributes\":{\"plot\":null,\"text\":\"Sine Function\",\"text_color\":{\"value\":\"olive\"},\"text_font_size\":{\"value\":\"50pt\"},\"text_font_style\":\"italic\"},\"id\":\"8fb178f2-278b-4b5d-8acc-a02e4c72fc7b\",\"type\":\"Title\"},{\"attributes\":{\"callback\":null},\"id\":\"cf167820-52ef-4ca8-9727-69bad1abbb13\",\"type\":\"DataRange1d\"},{\"attributes\":{\"dimension\":1,\"plot\":{\"id\":\"fc77388b-41d6-4529-878d-ef35bc8046b0\",\"subtype\":\"Figure\",\"type\":\"Plot\"},\"ticker\":{\"id\":\"7f674be2-a484-4633-bb63-a6e4bf497afb\",\"type\":\"BasicTicker\"}},\"id\":\"a3c0874c-b118-4d33-94b3-a23b5c1d43e9\",\"type\":\"Grid\"},{\"attributes\":{\"bottom_units\":\"screen\",\"fill_alpha\":{\"value\":0.5},\"fill_color\":{\"value\":\"lightgrey\"},\"left_units\":\"screen\",\"level\":\"overlay\",\"line_alpha\":{\"value\":1.0},\"line_color\":{\"value\":\"black\"},\"line_dash\":[4,4],\"line_width\":{\"value\":2},\"plot\":null,\"render_mode\":\"css\",\"right_units\":\"screen\",\"top_units\":\"screen\"},\"id\":\"1336a993-1fd6-44d2-a68c-9664ecfb9eb0\",\"type\":\"BoxAnnotation\"},{\"attributes\":{\"plot\":{\"id\":\"fc77388b-41d6-4529-878d-ef35bc8046b0\",\"subtype\":\"Figure\",\"type\":\"Plot\"}},\"id\":\"cf578eb7-0014-4fed-bb5d-a876e08cb2c9\",\"type\":\"SaveTool\"},{\"attributes\":{\"plot\":{\"id\":\"fc77388b-41d6-4529-878d-ef35bc8046b0\",\"subtype\":\"Figure\",\"type\":\"Plot\"}},\"id\":\"58b6fe6f-3717-4b33-a5df-ed8a75f8c430\",\"type\":\"WheelZoomTool\"},{\"attributes\":{},\"id\":\"056ae04f-1cb8-4118-b436-721f5c9454a6\",\"type\":\"BasicTickFormatter\"},{\"attributes\":{\"plot\":{\"id\":\"fc77388b-41d6-4529-878d-ef35bc8046b0\",\"subtype\":\"Figure\",\"type\":\"Plot\"}},\"id\":\"21f6342f-1e68-4d9f-a0bf-2bf0d814142c\",\"type\":\"ResetTool\"},{\"attributes\":{\"formatter\":{\"id\":\"0776eb6c-3774-4f17-9768-ed9f1363033c\",\"type\":\"BasicTickFormatter\"},\"plot\":{\"id\":\"fc77388b-41d6-4529-878d-ef35bc8046b0\",\"subtype\":\"Figure\",\"type\":\"Plot\"},\"ticker\":{\"id\":\"7f674be2-a484-4633-bb63-a6e4bf497afb\",\"type\":\"BasicTicker\"}},\"id\":\"05b8b606-60f6-4254-8ad9-74a6361cd2e2\",\"type\":\"LinearAxis\"},{\"attributes\":{},\"id\":\"0e261753-91d5-4442-bcaa-3940e5cf89e7\",\"type\":\"BasicTicker\"},{\"attributes\":{\"line_alpha\":{\"value\":0.1},\"line_color\":{\"value\":\"#1f77b4\"},\"line_width\":{\"value\":2},\"x\":{\"field\":\"x\"},\"y\":{\"field\":\"y\"}},\"id\":\"160a1922-dc8d-47e0-ba20-363c71d1bee7\",\"type\":\"Line\"},{\"attributes\":{\"overlay\":{\"id\":\"1336a993-1fd6-44d2-a68c-9664ecfb9eb0\",\"type\":\"BoxAnnotation\"},\"plot\":{\"id\":\"fc77388b-41d6-4529-878d-ef35bc8046b0\",\"subtype\":\"Figure\",\"type\":\"Plot\"}},\"id\":\"380dcb9e-bee8-430d-a4b9-0f950c8625d4\",\"type\":\"BoxZoomTool\"},{\"attributes\":{\"active_drag\":\"auto\",\"active_scroll\":\"auto\",\"active_tap\":\"auto\",\"tools\":[{\"id\":\"1ac36687-4408-42f0-adfc-098b5dd7fe1b\",\"type\":\"PanTool\"},{\"id\":\"58b6fe6f-3717-4b33-a5df-ed8a75f8c430\",\"type\":\"WheelZoomTool\"},{\"id\":\"380dcb9e-bee8-430d-a4b9-0f950c8625d4\",\"type\":\"BoxZoomTool\"},{\"id\":\"cf578eb7-0014-4fed-bb5d-a876e08cb2c9\",\"type\":\"SaveTool\"},{\"id\":\"21f6342f-1e68-4d9f-a0bf-2bf0d814142c\",\"type\":\"ResetTool\"},{\"id\":\"915ccbc5-a29e-44aa-9265-9e19152796fc\",\"type\":\"HelpTool\"}]},\"id\":\"338c6337-e99b-4619-acd4-8c750e81f4f3\",\"type\":\"Toolbar\"},{\"attributes\":{\"formatter\":{\"id\":\"056ae04f-1cb8-4118-b436-721f5c9454a6\",\"type\":\"BasicTickFormatter\"},\"plot\":{\"id\":\"fc77388b-41d6-4529-878d-ef35bc8046b0\",\"subtype\":\"Figure\",\"type\":\"Plot\"},\"ticker\":{\"id\":\"0e261753-91d5-4442-bcaa-3940e5cf89e7\",\"type\":\"BasicTicker\"}},\"id\":\"3da9c380-a922-4cb2-adf1-6c64b4c0bc14\",\"type\":\"LinearAxis\"},{\"attributes\":{\"callback\":null,\"column_names\":[\"x\",\"y\"],\"data\":{\"x\":[0.0,0.12693303650867852,0.25386607301735703,0.3807991095260356,0.5077321460347141,0.6346651825433925,0.7615982190520711,0.8885312555607496,1.0154642920694281,1.1423973285781066,1.269330365086785,1.3962634015954636,1.5231964381041423,1.6501294746128208,1.7770625111214993,1.9039955476301778,2.0309285841388562,2.1578616206475347,2.284794657156213,2.4117276936648917,2.53866073017357,2.6655937666822487,2.792526803190927,2.9194598396996057,3.0463928762082846,3.173325912716963,3.3002589492256416,3.42719198573432,3.5541250222429985,3.681058058751677,3.8079910952603555,3.934924131769034,4.0618571682777125,4.188790204786391,4.3157232412950695,4.442656277803748,4.569589314312426,4.696522350821105,4.823455387329783,4.950388423838462,5.07732146034714,5.204254496855819,5.331187533364497,5.458120569873176,5.585053606381854,5.711986642890533,5.838919679399211,5.96585271590789,6.092785752416569,6.219718788925247,6.346651825433926,6.473584861942604,6.600517898451283,6.727450934959961,6.85438397146864,6.981317007977318,7.108250044485997,7.235183080994675,7.362116117503354,7.489049154012032,7.615982190520711,7.742915227029389,7.869848263538068,7.996781300046746,8.123714336555425,8.250647373064103,8.377580409572783,8.50451344608146,8.631446482590139,8.758379519098817,8.885312555607497,9.012245592116175,9.139178628624853,9.266111665133531,9.39304470164221,9.519977738150889,9.646910774659567,9.773843811168245,9.900776847676925,10.027709884185603,10.15464292069428,10.28157595720296,10.408508993711639,10.535442030220317,10.662375066728995,10.789308103237675,10.916241139746353,11.04317417625503,11.170107212763709,11.297040249272388,11.423973285781067,11.550906322289745,11.677839358798423,11.804772395307102,11.93170543181578,12.058638468324459,12.185571504833138,12.312504541341816,12.439437577850494,12.566370614359172],\"y\":[0.0,0.12659245357374926,0.2511479871810792,0.3716624556603276,0.48619673610046865,0.5929079290546404,0.690079011482112,0.7761464642917568,0.8497254299495144,0.9096319953545183,0.9549022414440739,0.984807753012208,0.998867339183008,0.9968547759519424,0.9788024462147787,0.9450008187146685,0.8959937742913359,0.8325698546347714,0.7557495743542583,0.6667690005162916,0.5670598638627709,0.4582265217274105,0.3420201433256689,0.2203105327865408,0.09505604330418244,-0.03172793349806786,-0.15800139597335008,-0.28173255684142984,-0.4009305354066138,-0.5136773915734064,-0.6181589862206053,-0.7126941713788629,-0.7957618405308321,-0.8660254037844388,-0.9223542941045814,-0.9638421585599422,-0.9898214418809327,-0.9998741276738751,-0.9938384644612541,-0.9718115683235417,-0.9341478602651068,-0.881453363447582,-0.8145759520503358,-0.7345917086575331,-0.6427876096865396,-0.5406408174555974,-0.4297949120891719,-0.31203344569848707,-0.18925124436040974,-0.06342391965656452,0.06342391965656492,0.18925124436041013,0.31203344569848745,0.42979491208917153,0.5406408174555978,0.6427876096865393,0.7345917086575334,0.8145759520503356,0.8814533634475821,0.9341478602651067,0.9718115683235418,0.9938384644612541,0.9998741276738751,0.9898214418809328,0.963842158559942,0.9223542941045816,0.8660254037844383,0.7957618405308319,0.7126941713788629,0.6181589862206056,0.5136773915734058,0.40093053540661344,0.2817325568414299,0.15800139597335056,0.03172793349806701,-0.09505604330418282,-0.22031053278654034,-0.342020143325668,-0.45822652172741085,-0.5670598638627707,-0.6667690005162913,-0.7557495743542588,-0.8325698546347716,-0.8959937742913359,-0.9450008187146683,-0.9788024462147789,-0.9968547759519424,-0.998867339183008,-0.9848077530122081,-0.9549022414440737,-0.9096319953545183,-0.8497254299495145,-0.7761464642917573,-0.6900790114821116,-0.5929079290546404,-0.486196736100469,-0.37166245566032663,-0.2511479871810788,-0.1265924535737493,-4.898587196589413e-16]}},\"id\":\"535ba1b7-ea74-45ef-9767-f0a1b94ad70f\",\"type\":\"ColumnDataSource\"},{\"attributes\":{\"data_source\":{\"id\":\"535ba1b7-ea74-45ef-9767-f0a1b94ad70f\",\"type\":\"ColumnDataSource\"},\"glyph\":{\"id\":\"ecc73d8c-c746-4bf7-825f-e81cb503bed4\",\"type\":\"Line\"},\"hover_glyph\":null,\"nonselection_glyph\":{\"id\":\"160a1922-dc8d-47e0-ba20-363c71d1bee7\",\"type\":\"Line\"},\"selection_glyph\":null},\"id\":\"971fe50e-1d2d-4239-8a0b-b3dc9e40a331\",\"type\":\"GlyphRenderer\"},{\"attributes\":{\"callback\":null},\"id\":\"96713fac-1802-4d17-92bf-7319dabdb7a3\",\"type\":\"DataRange1d\"},{\"attributes\":{},\"id\":\"0776eb6c-3774-4f17-9768-ed9f1363033c\",\"type\":\"BasicTickFormatter\"},{\"attributes\":{\"below\":[{\"id\":\"3da9c380-a922-4cb2-adf1-6c64b4c0bc14\",\"type\":\"LinearAxis\"}],\"left\":[{\"id\":\"05b8b606-60f6-4254-8ad9-74a6361cd2e2\",\"type\":\"LinearAxis\"}],\"renderers\":[{\"id\":\"3da9c380-a922-4cb2-adf1-6c64b4c0bc14\",\"type\":\"LinearAxis\"},{\"id\":\"b6562581-1ed7-4919-a83c-0920a92681cd\",\"type\":\"Grid\"},{\"id\":\"05b8b606-60f6-4254-8ad9-74a6361cd2e2\",\"type\":\"LinearAxis\"},{\"id\":\"a3c0874c-b118-4d33-94b3-a23b5c1d43e9\",\"type\":\"Grid\"},{\"id\":\"1336a993-1fd6-44d2-a68c-9664ecfb9eb0\",\"type\":\"BoxAnnotation\"},{\"id\":\"971fe50e-1d2d-4239-8a0b-b3dc9e40a331\",\"type\":\"GlyphRenderer\"}],\"title\":{\"id\":\"8fb178f2-278b-4b5d-8acc-a02e4c72fc7b\",\"type\":\"Title\"},\"tool_events\":{\"id\":\"475bd263-6f1d-4e53-a62e-5d0fd7a682ae\",\"type\":\"ToolEvents\"},\"toolbar\":{\"id\":\"338c6337-e99b-4619-acd4-8c750e81f4f3\",\"type\":\"Toolbar\"},\"x_range\":{\"id\":\"cf167820-52ef-4ca8-9727-69bad1abbb13\",\"type\":\"DataRange1d\"},\"y_range\":{\"id\":\"96713fac-1802-4d17-92bf-7319dabdb7a3\",\"type\":\"DataRange1d\"}},\"id\":\"fc77388b-41d6-4529-878d-ef35bc8046b0\",\"subtype\":\"Figure\",\"type\":\"Plot\"},{\"attributes\":{\"line_color\":{\"value\":\"#1f77b4\"},\"line_width\":{\"value\":2},\"x\":{\"field\":\"x\"},\"y\":{\"field\":\"y\"}},\"id\":\"ecc73d8c-c746-4bf7-825f-e81cb503bed4\",\"type\":\"Line\"}],\"root_ids\":[\"fc77388b-41d6-4529-878d-ef35bc8046b0\"]},\"title\":\"Bokeh Application\",\"version\":\"0.12.1\"}};\n",
       "            var render_items = [{\"docid\":\"c41b6401-4e22-410d-8d2f-5015d4d204ba\",\"elementid\":\"a9f61551-eca4-4906-9f5f-a430d0c57668\",\"modelid\":\"fc77388b-41d6-4529-878d-ef35bc8046b0\",\"notebook_comms_target\":\"eef6fc88-315c-4b31-81cb-3345ed4ecdb9\"}];\n",
       "            \n",
       "            Bokeh.embed.embed_items(docs_json, render_items);\n",
       "        });\n",
       "      },\n",
       "      function(Bokeh) {\n",
       "      }\n",
       "    ];\n",
       "  \n",
       "    function run_inline_js() {\n",
       "      for (var i = 0; i < inline_js.length; i++) {\n",
       "        inline_js[i](window.Bokeh);\n",
       "      }\n",
       "    }\n",
       "  \n",
       "    if (window._bokeh_is_loading === 0) {\n",
       "      console.log(\"Bokeh: BokehJS loaded, going straight to plotting\");\n",
       "      run_inline_js();\n",
       "    } else {\n",
       "      load_libs(js_urls, function() {\n",
       "        console.log(\"Bokeh: BokehJS plotting callback run at\", now());\n",
       "        run_inline_js();\n",
       "      });\n",
       "    }\n",
       "  }(this));\n",
       "</script>"
      ]
     },
     "metadata": {},
     "output_type": "display_data"
    },
    {
     "data": {
      "text/html": [
       "<p><code>&lt;Bokeh Notebook handle for <strong>In[8]</strong>&gt;</code></p>"
      ],
      "text/plain": [
       "<bokeh.io._CommsHandle at 0x83be1d0>"
      ]
     },
     "execution_count": 8,
     "metadata": {},
     "output_type": "execute_result"
    }
   ],
   "source": [
    "plot = figure()\n",
    "\n",
    "plot.title.text_font_style='italic'\n",
    "plot.title.text_font_size='50pt'\n",
    "plot.title.text_color='olive'\n",
    "plot.title.text = 'Sine Function'\n",
    "plot.line(x,y,line_width=2)\n",
    "show(plot)"
   ]
  },
  {
   "cell_type": "markdown",
   "metadata": {},
   "source": [
    "## Border"
   ]
  },
  {
   "cell_type": "code",
   "execution_count": 9,
   "metadata": {
    "collapsed": false
   },
   "outputs": [
    {
     "data": {
      "text/html": [
       "\n",
       "\n",
       "    <div class=\"bk-root\">\n",
       "        <div class=\"plotdiv\" id=\"027be70d-b40a-4163-af5b-59a60df9b77a\"></div>\n",
       "    </div>\n",
       "<script type=\"text/javascript\">\n",
       "  \n",
       "  (function(global) {\n",
       "    function now() {\n",
       "      return new Date();\n",
       "    }\n",
       "  \n",
       "    var force = \"\";\n",
       "  \n",
       "    if (typeof (window._bokeh_onload_callbacks) === \"undefined\" || force !== \"\") {\n",
       "      window._bokeh_onload_callbacks = [];\n",
       "      window._bokeh_is_loading = undefined;\n",
       "    }\n",
       "  \n",
       "    function run_callbacks() {\n",
       "      window._bokeh_onload_callbacks.forEach(function(callback) { callback() });\n",
       "      delete window._bokeh_onload_callbacks\n",
       "      console.info(\"Bokeh: all callbacks have finished\");\n",
       "    }\n",
       "  \n",
       "    function load_libs(js_urls, callback) {\n",
       "      window._bokeh_onload_callbacks.push(callback);\n",
       "      if (window._bokeh_is_loading > 0) {\n",
       "        console.log(\"Bokeh: BokehJS is being loaded, scheduling callback at\", now());\n",
       "        return null;\n",
       "      }\n",
       "      if (js_urls == null || js_urls.length === 0) {\n",
       "        run_callbacks();\n",
       "        return null;\n",
       "      }\n",
       "      console.log(\"Bokeh: BokehJS not loaded, scheduling load and callback at\", now());\n",
       "      window._bokeh_is_loading = js_urls.length;\n",
       "      for (var i = 0; i < js_urls.length; i++) {\n",
       "        var url = js_urls[i];\n",
       "        var s = document.createElement('script');\n",
       "        s.src = url;\n",
       "        s.async = false;\n",
       "        s.onreadystatechange = s.onload = function() {\n",
       "          window._bokeh_is_loading--;\n",
       "          if (window._bokeh_is_loading === 0) {\n",
       "            console.log(\"Bokeh: all BokehJS libraries loaded\");\n",
       "            run_callbacks()\n",
       "          }\n",
       "        };\n",
       "        s.onerror = function() {\n",
       "          console.warn(\"failed to load library \" + url);\n",
       "        };\n",
       "        console.log(\"Bokeh: injecting script tag for BokehJS library: \", url);\n",
       "        document.getElementsByTagName(\"head\")[0].appendChild(s);\n",
       "      }\n",
       "    };var element = document.getElementById(\"027be70d-b40a-4163-af5b-59a60df9b77a\");\n",
       "    if (element == null) {\n",
       "      console.log(\"Bokeh: ERROR: autoload.js configured with elementid '027be70d-b40a-4163-af5b-59a60df9b77a' but no matching script tag was found. \")\n",
       "      return false;\n",
       "    }\n",
       "  \n",
       "    var js_urls = [];\n",
       "  \n",
       "    var inline_js = [\n",
       "      function(Bokeh) {\n",
       "        Bokeh.$(function() {\n",
       "            var docs_json = {\"619fdc70-0a85-4e18-bc2b-61ea56244afa\":{\"roots\":{\"references\":[{\"attributes\":{\"line_alpha\":{\"value\":0.1},\"line_color\":{\"value\":\"#1f77b4\"},\"line_width\":{\"value\":2},\"x\":{\"field\":\"x\"},\"y\":{\"field\":\"y\"}},\"id\":\"613dcde3-d5c1-4418-9db0-c28769473ad0\",\"type\":\"Line\"},{\"attributes\":{\"callback\":null},\"id\":\"c4023b24-3618-4f50-be9f-7618be323ec6\",\"type\":\"DataRange1d\"},{\"attributes\":{},\"id\":\"0dba71ba-b70c-48a8-80c4-ab0ace93c126\",\"type\":\"BasicTicker\"},{\"attributes\":{},\"id\":\"6f3084c5-3682-4ddf-b312-a7f1be121d2b\",\"type\":\"ToolEvents\"},{\"attributes\":{\"formatter\":{\"id\":\"fe104aca-e745-4f53-b142-afa1f4640915\",\"type\":\"BasicTickFormatter\"},\"plot\":{\"id\":\"3265c51e-444f-4ec9-9f74-5b776b0c3480\",\"subtype\":\"Figure\",\"type\":\"Plot\"},\"ticker\":{\"id\":\"0dba71ba-b70c-48a8-80c4-ab0ace93c126\",\"type\":\"BasicTicker\"}},\"id\":\"64deba91-0e41-4ac9-9714-c92995ee9204\",\"type\":\"LinearAxis\"},{\"attributes\":{\"callback\":null},\"id\":\"c5cca54b-6069-483b-b357-6d43d54ccab1\",\"type\":\"DataRange1d\"},{\"attributes\":{\"dimension\":1,\"plot\":{\"id\":\"3265c51e-444f-4ec9-9f74-5b776b0c3480\",\"subtype\":\"Figure\",\"type\":\"Plot\"},\"ticker\":{\"id\":\"d606cc52-a273-447f-9cd3-9e3482cca4e6\",\"type\":\"BasicTicker\"}},\"id\":\"9f604ef1-5ed6-4853-9021-1c03b9280cc7\",\"type\":\"Grid\"},{\"attributes\":{\"line_color\":{\"value\":\"#1f77b4\"},\"line_width\":{\"value\":2},\"x\":{\"field\":\"x\"},\"y\":{\"field\":\"y\"}},\"id\":\"3f95853b-5981-4c21-8bb7-1cc16118e82a\",\"type\":\"Line\"},{\"attributes\":{\"plot\":{\"id\":\"3265c51e-444f-4ec9-9f74-5b776b0c3480\",\"subtype\":\"Figure\",\"type\":\"Plot\"},\"ticker\":{\"id\":\"0dba71ba-b70c-48a8-80c4-ab0ace93c126\",\"type\":\"BasicTicker\"}},\"id\":\"6b281c55-cb64-495e-9f71-f902d4d5130f\",\"type\":\"Grid\"},{\"attributes\":{\"active_drag\":\"auto\",\"active_scroll\":\"auto\",\"active_tap\":\"auto\",\"tools\":[{\"id\":\"bfd47d94-9d15-4f15-b384-b6f4824b686e\",\"type\":\"PanTool\"},{\"id\":\"1f608727-c941-4f44-8d25-22cd375daabe\",\"type\":\"WheelZoomTool\"},{\"id\":\"b77a8d5e-c7f9-4776-9efe-fc57c77b8ce2\",\"type\":\"BoxZoomTool\"},{\"id\":\"3a1fabab-2884-4d48-9f69-e148487ac956\",\"type\":\"SaveTool\"},{\"id\":\"977032f7-e487-4183-8921-759953c9c23f\",\"type\":\"ResetTool\"},{\"id\":\"eb9c9222-4c8e-4789-83e3-384e068c7e46\",\"type\":\"HelpTool\"}]},\"id\":\"17f012ef-307d-4437-b808-05a1c108f024\",\"type\":\"Toolbar\"},{\"attributes\":{},\"id\":\"07813d33-9f55-4454-a27c-3defda35603c\",\"type\":\"BasicTickFormatter\"},{\"attributes\":{\"plot\":{\"id\":\"3265c51e-444f-4ec9-9f74-5b776b0c3480\",\"subtype\":\"Figure\",\"type\":\"Plot\"}},\"id\":\"3a1fabab-2884-4d48-9f69-e148487ac956\",\"type\":\"SaveTool\"},{\"attributes\":{},\"id\":\"d606cc52-a273-447f-9cd3-9e3482cca4e6\",\"type\":\"BasicTicker\"},{\"attributes\":{\"below\":[{\"id\":\"64deba91-0e41-4ac9-9714-c92995ee9204\",\"type\":\"LinearAxis\"}],\"border_fill_color\":{\"value\":\"darkgray\"},\"left\":[{\"id\":\"97738df0-02e3-4413-aab8-c8cfabc5a685\",\"type\":\"LinearAxis\"}],\"min_border_bottom\":20,\"min_border_left\":100,\"min_border_right\":0,\"min_border_top\":0,\"renderers\":[{\"id\":\"64deba91-0e41-4ac9-9714-c92995ee9204\",\"type\":\"LinearAxis\"},{\"id\":\"6b281c55-cb64-495e-9f71-f902d4d5130f\",\"type\":\"Grid\"},{\"id\":\"97738df0-02e3-4413-aab8-c8cfabc5a685\",\"type\":\"LinearAxis\"},{\"id\":\"9f604ef1-5ed6-4853-9021-1c03b9280cc7\",\"type\":\"Grid\"},{\"id\":\"c720dd78-7b42-45b7-a667-b49d6e3806dd\",\"type\":\"BoxAnnotation\"},{\"id\":\"dfe929bc-db99-4a47-a287-bfaf087d963e\",\"type\":\"GlyphRenderer\"}],\"title\":{\"id\":\"2b96353d-db97-4969-95d5-19ab08e6d96b\",\"type\":\"Title\"},\"tool_events\":{\"id\":\"6f3084c5-3682-4ddf-b312-a7f1be121d2b\",\"type\":\"ToolEvents\"},\"toolbar\":{\"id\":\"17f012ef-307d-4437-b808-05a1c108f024\",\"type\":\"Toolbar\"},\"x_range\":{\"id\":\"c5cca54b-6069-483b-b357-6d43d54ccab1\",\"type\":\"DataRange1d\"},\"y_range\":{\"id\":\"c4023b24-3618-4f50-be9f-7618be323ec6\",\"type\":\"DataRange1d\"}},\"id\":\"3265c51e-444f-4ec9-9f74-5b776b0c3480\",\"subtype\":\"Figure\",\"type\":\"Plot\"},{\"attributes\":{\"bottom_units\":\"screen\",\"fill_alpha\":{\"value\":0.5},\"fill_color\":{\"value\":\"lightgrey\"},\"left_units\":\"screen\",\"level\":\"overlay\",\"line_alpha\":{\"value\":1.0},\"line_color\":{\"value\":\"black\"},\"line_dash\":[4,4],\"line_width\":{\"value\":2},\"plot\":null,\"render_mode\":\"css\",\"right_units\":\"screen\",\"top_units\":\"screen\"},\"id\":\"c720dd78-7b42-45b7-a667-b49d6e3806dd\",\"type\":\"BoxAnnotation\"},{\"attributes\":{\"plot\":{\"id\":\"3265c51e-444f-4ec9-9f74-5b776b0c3480\",\"subtype\":\"Figure\",\"type\":\"Plot\"}},\"id\":\"eb9c9222-4c8e-4789-83e3-384e068c7e46\",\"type\":\"HelpTool\"},{\"attributes\":{\"plot\":{\"id\":\"3265c51e-444f-4ec9-9f74-5b776b0c3480\",\"subtype\":\"Figure\",\"type\":\"Plot\"}},\"id\":\"bfd47d94-9d15-4f15-b384-b6f4824b686e\",\"type\":\"PanTool\"},{\"attributes\":{\"callback\":null,\"column_names\":[\"x\",\"y\"],\"data\":{\"x\":[0.0,0.12693303650867852,0.25386607301735703,0.3807991095260356,0.5077321460347141,0.6346651825433925,0.7615982190520711,0.8885312555607496,1.0154642920694281,1.1423973285781066,1.269330365086785,1.3962634015954636,1.5231964381041423,1.6501294746128208,1.7770625111214993,1.9039955476301778,2.0309285841388562,2.1578616206475347,2.284794657156213,2.4117276936648917,2.53866073017357,2.6655937666822487,2.792526803190927,2.9194598396996057,3.0463928762082846,3.173325912716963,3.3002589492256416,3.42719198573432,3.5541250222429985,3.681058058751677,3.8079910952603555,3.934924131769034,4.0618571682777125,4.188790204786391,4.3157232412950695,4.442656277803748,4.569589314312426,4.696522350821105,4.823455387329783,4.950388423838462,5.07732146034714,5.204254496855819,5.331187533364497,5.458120569873176,5.585053606381854,5.711986642890533,5.838919679399211,5.96585271590789,6.092785752416569,6.219718788925247,6.346651825433926,6.473584861942604,6.600517898451283,6.727450934959961,6.85438397146864,6.981317007977318,7.108250044485997,7.235183080994675,7.362116117503354,7.489049154012032,7.615982190520711,7.742915227029389,7.869848263538068,7.996781300046746,8.123714336555425,8.250647373064103,8.377580409572783,8.50451344608146,8.631446482590139,8.758379519098817,8.885312555607497,9.012245592116175,9.139178628624853,9.266111665133531,9.39304470164221,9.519977738150889,9.646910774659567,9.773843811168245,9.900776847676925,10.027709884185603,10.15464292069428,10.28157595720296,10.408508993711639,10.535442030220317,10.662375066728995,10.789308103237675,10.916241139746353,11.04317417625503,11.170107212763709,11.297040249272388,11.423973285781067,11.550906322289745,11.677839358798423,11.804772395307102,11.93170543181578,12.058638468324459,12.185571504833138,12.312504541341816,12.439437577850494,12.566370614359172],\"y\":[0.0,0.12659245357374926,0.2511479871810792,0.3716624556603276,0.48619673610046865,0.5929079290546404,0.690079011482112,0.7761464642917568,0.8497254299495144,0.9096319953545183,0.9549022414440739,0.984807753012208,0.998867339183008,0.9968547759519424,0.9788024462147787,0.9450008187146685,0.8959937742913359,0.8325698546347714,0.7557495743542583,0.6667690005162916,0.5670598638627709,0.4582265217274105,0.3420201433256689,0.2203105327865408,0.09505604330418244,-0.03172793349806786,-0.15800139597335008,-0.28173255684142984,-0.4009305354066138,-0.5136773915734064,-0.6181589862206053,-0.7126941713788629,-0.7957618405308321,-0.8660254037844388,-0.9223542941045814,-0.9638421585599422,-0.9898214418809327,-0.9998741276738751,-0.9938384644612541,-0.9718115683235417,-0.9341478602651068,-0.881453363447582,-0.8145759520503358,-0.7345917086575331,-0.6427876096865396,-0.5406408174555974,-0.4297949120891719,-0.31203344569848707,-0.18925124436040974,-0.06342391965656452,0.06342391965656492,0.18925124436041013,0.31203344569848745,0.42979491208917153,0.5406408174555978,0.6427876096865393,0.7345917086575334,0.8145759520503356,0.8814533634475821,0.9341478602651067,0.9718115683235418,0.9938384644612541,0.9998741276738751,0.9898214418809328,0.963842158559942,0.9223542941045816,0.8660254037844383,0.7957618405308319,0.7126941713788629,0.6181589862206056,0.5136773915734058,0.40093053540661344,0.2817325568414299,0.15800139597335056,0.03172793349806701,-0.09505604330418282,-0.22031053278654034,-0.342020143325668,-0.45822652172741085,-0.5670598638627707,-0.6667690005162913,-0.7557495743542588,-0.8325698546347716,-0.8959937742913359,-0.9450008187146683,-0.9788024462147789,-0.9968547759519424,-0.998867339183008,-0.9848077530122081,-0.9549022414440737,-0.9096319953545183,-0.8497254299495145,-0.7761464642917573,-0.6900790114821116,-0.5929079290546404,-0.486196736100469,-0.37166245566032663,-0.2511479871810788,-0.1265924535737493,-4.898587196589413e-16]}},\"id\":\"675f2757-70c4-4cd8-acae-aef20afa40ec\",\"type\":\"ColumnDataSource\"},{\"attributes\":{},\"id\":\"fe104aca-e745-4f53-b142-afa1f4640915\",\"type\":\"BasicTickFormatter\"},{\"attributes\":{\"plot\":{\"id\":\"3265c51e-444f-4ec9-9f74-5b776b0c3480\",\"subtype\":\"Figure\",\"type\":\"Plot\"}},\"id\":\"1f608727-c941-4f44-8d25-22cd375daabe\",\"type\":\"WheelZoomTool\"},{\"attributes\":{\"plot\":null,\"text\":null},\"id\":\"2b96353d-db97-4969-95d5-19ab08e6d96b\",\"type\":\"Title\"},{\"attributes\":{\"plot\":{\"id\":\"3265c51e-444f-4ec9-9f74-5b776b0c3480\",\"subtype\":\"Figure\",\"type\":\"Plot\"}},\"id\":\"977032f7-e487-4183-8921-759953c9c23f\",\"type\":\"ResetTool\"},{\"attributes\":{\"data_source\":{\"id\":\"675f2757-70c4-4cd8-acae-aef20afa40ec\",\"type\":\"ColumnDataSource\"},\"glyph\":{\"id\":\"3f95853b-5981-4c21-8bb7-1cc16118e82a\",\"type\":\"Line\"},\"hover_glyph\":null,\"nonselection_glyph\":{\"id\":\"613dcde3-d5c1-4418-9db0-c28769473ad0\",\"type\":\"Line\"},\"selection_glyph\":null},\"id\":\"dfe929bc-db99-4a47-a287-bfaf087d963e\",\"type\":\"GlyphRenderer\"},{\"attributes\":{\"formatter\":{\"id\":\"07813d33-9f55-4454-a27c-3defda35603c\",\"type\":\"BasicTickFormatter\"},\"plot\":{\"id\":\"3265c51e-444f-4ec9-9f74-5b776b0c3480\",\"subtype\":\"Figure\",\"type\":\"Plot\"},\"ticker\":{\"id\":\"d606cc52-a273-447f-9cd3-9e3482cca4e6\",\"type\":\"BasicTicker\"}},\"id\":\"97738df0-02e3-4413-aab8-c8cfabc5a685\",\"type\":\"LinearAxis\"},{\"attributes\":{\"overlay\":{\"id\":\"c720dd78-7b42-45b7-a667-b49d6e3806dd\",\"type\":\"BoxAnnotation\"},\"plot\":{\"id\":\"3265c51e-444f-4ec9-9f74-5b776b0c3480\",\"subtype\":\"Figure\",\"type\":\"Plot\"}},\"id\":\"b77a8d5e-c7f9-4776-9efe-fc57c77b8ce2\",\"type\":\"BoxZoomTool\"}],\"root_ids\":[\"3265c51e-444f-4ec9-9f74-5b776b0c3480\"]},\"title\":\"Bokeh Application\",\"version\":\"0.12.1\"}};\n",
       "            var render_items = [{\"docid\":\"619fdc70-0a85-4e18-bc2b-61ea56244afa\",\"elementid\":\"027be70d-b40a-4163-af5b-59a60df9b77a\",\"modelid\":\"3265c51e-444f-4ec9-9f74-5b776b0c3480\",\"notebook_comms_target\":\"4e24545d-1aed-4fc2-9529-78e7423438b6\"}];\n",
       "            \n",
       "            Bokeh.embed.embed_items(docs_json, render_items);\n",
       "        });\n",
       "      },\n",
       "      function(Bokeh) {\n",
       "      }\n",
       "    ];\n",
       "  \n",
       "    function run_inline_js() {\n",
       "      for (var i = 0; i < inline_js.length; i++) {\n",
       "        inline_js[i](window.Bokeh);\n",
       "      }\n",
       "    }\n",
       "  \n",
       "    if (window._bokeh_is_loading === 0) {\n",
       "      console.log(\"Bokeh: BokehJS loaded, going straight to plotting\");\n",
       "      run_inline_js();\n",
       "    } else {\n",
       "      load_libs(js_urls, function() {\n",
       "        console.log(\"Bokeh: BokehJS plotting callback run at\", now());\n",
       "        run_inline_js();\n",
       "      });\n",
       "    }\n",
       "  }(this));\n",
       "</script>"
      ]
     },
     "metadata": {},
     "output_type": "display_data"
    },
    {
     "data": {
      "text/html": [
       "<p><code>&lt;Bokeh Notebook handle for <strong>In[9]</strong>&gt;</code></p>"
      ],
      "text/plain": [
       "<bokeh.io._CommsHandle at 0x83c8da0>"
      ]
     },
     "execution_count": 9,
     "metadata": {},
     "output_type": "execute_result"
    }
   ],
   "source": [
    "plot = figure()\n",
    "plot.border_fill_color='darkgray'\n",
    "plot.min_border_bottom=20\n",
    "plot.min_border_left=100\n",
    "plot.min_border_top=0\n",
    "plot.min_border_right=0\n",
    "plot.line(x,y,line_width=2)\n",
    "show(plot)"
   ]
  },
  {
   "cell_type": "markdown",
   "metadata": {},
   "source": [
    "## Outline"
   ]
  },
  {
   "cell_type": "code",
   "execution_count": 10,
   "metadata": {
    "collapsed": false
   },
   "outputs": [
    {
     "data": {
      "text/html": [
       "\n",
       "\n",
       "    <div class=\"bk-root\">\n",
       "        <div class=\"plotdiv\" id=\"874177a1-d220-43f4-81f6-7483ed1fe1b1\"></div>\n",
       "    </div>\n",
       "<script type=\"text/javascript\">\n",
       "  \n",
       "  (function(global) {\n",
       "    function now() {\n",
       "      return new Date();\n",
       "    }\n",
       "  \n",
       "    var force = \"\";\n",
       "  \n",
       "    if (typeof (window._bokeh_onload_callbacks) === \"undefined\" || force !== \"\") {\n",
       "      window._bokeh_onload_callbacks = [];\n",
       "      window._bokeh_is_loading = undefined;\n",
       "    }\n",
       "  \n",
       "    function run_callbacks() {\n",
       "      window._bokeh_onload_callbacks.forEach(function(callback) { callback() });\n",
       "      delete window._bokeh_onload_callbacks\n",
       "      console.info(\"Bokeh: all callbacks have finished\");\n",
       "    }\n",
       "  \n",
       "    function load_libs(js_urls, callback) {\n",
       "      window._bokeh_onload_callbacks.push(callback);\n",
       "      if (window._bokeh_is_loading > 0) {\n",
       "        console.log(\"Bokeh: BokehJS is being loaded, scheduling callback at\", now());\n",
       "        return null;\n",
       "      }\n",
       "      if (js_urls == null || js_urls.length === 0) {\n",
       "        run_callbacks();\n",
       "        return null;\n",
       "      }\n",
       "      console.log(\"Bokeh: BokehJS not loaded, scheduling load and callback at\", now());\n",
       "      window._bokeh_is_loading = js_urls.length;\n",
       "      for (var i = 0; i < js_urls.length; i++) {\n",
       "        var url = js_urls[i];\n",
       "        var s = document.createElement('script');\n",
       "        s.src = url;\n",
       "        s.async = false;\n",
       "        s.onreadystatechange = s.onload = function() {\n",
       "          window._bokeh_is_loading--;\n",
       "          if (window._bokeh_is_loading === 0) {\n",
       "            console.log(\"Bokeh: all BokehJS libraries loaded\");\n",
       "            run_callbacks()\n",
       "          }\n",
       "        };\n",
       "        s.onerror = function() {\n",
       "          console.warn(\"failed to load library \" + url);\n",
       "        };\n",
       "        console.log(\"Bokeh: injecting script tag for BokehJS library: \", url);\n",
       "        document.getElementsByTagName(\"head\")[0].appendChild(s);\n",
       "      }\n",
       "    };var element = document.getElementById(\"874177a1-d220-43f4-81f6-7483ed1fe1b1\");\n",
       "    if (element == null) {\n",
       "      console.log(\"Bokeh: ERROR: autoload.js configured with elementid '874177a1-d220-43f4-81f6-7483ed1fe1b1' but no matching script tag was found. \")\n",
       "      return false;\n",
       "    }\n",
       "  \n",
       "    var js_urls = [];\n",
       "  \n",
       "    var inline_js = [\n",
       "      function(Bokeh) {\n",
       "        Bokeh.$(function() {\n",
       "            var docs_json = {\"a642b70b-e878-4f5b-8a89-b5cac219354e\":{\"roots\":{\"references\":[{\"attributes\":{\"line_color\":{\"value\":\"#1f77b4\"},\"line_width\":{\"value\":2},\"x\":{\"field\":\"x\"},\"y\":{\"field\":\"y\"}},\"id\":\"552ec7c4-9788-4fe1-84c3-ee44bdfcf8cb\",\"type\":\"Line\"},{\"attributes\":{\"plot\":{\"id\":\"f6d380f1-1125-4e1d-b6e3-8463ac280419\",\"subtype\":\"Figure\",\"type\":\"Plot\"}},\"id\":\"c1adeb79-cba6-4da4-b6e9-286290a167da\",\"type\":\"SaveTool\"},{\"attributes\":{\"plot\":null,\"text\":null},\"id\":\"0c5af47b-3a49-46d3-ab82-7174f3529b10\",\"type\":\"Title\"},{\"attributes\":{\"plot\":{\"id\":\"f6d380f1-1125-4e1d-b6e3-8463ac280419\",\"subtype\":\"Figure\",\"type\":\"Plot\"}},\"id\":\"ef04316a-2cae-459c-91c5-ee25af3ed5d6\",\"type\":\"ResetTool\"},{\"attributes\":{\"formatter\":{\"id\":\"87d6b5d3-35ea-4790-acd9-e9fbd454789d\",\"type\":\"BasicTickFormatter\"},\"plot\":{\"id\":\"f6d380f1-1125-4e1d-b6e3-8463ac280419\",\"subtype\":\"Figure\",\"type\":\"Plot\"},\"ticker\":{\"id\":\"63c989ad-b99a-43e6-89cc-dcf3158fcc09\",\"type\":\"BasicTicker\"}},\"id\":\"38127c27-ee1e-45ed-a064-084d57e81e7f\",\"type\":\"LinearAxis\"},{\"attributes\":{\"plot\":{\"id\":\"f6d380f1-1125-4e1d-b6e3-8463ac280419\",\"subtype\":\"Figure\",\"type\":\"Plot\"}},\"id\":\"0592b29d-9d66-42ea-bc90-e19e2e2765e1\",\"type\":\"WheelZoomTool\"},{\"attributes\":{},\"id\":\"32ad054f-6738-4fb6-9d66-0180013569dd\",\"type\":\"BasicTickFormatter\"},{\"attributes\":{\"bottom_units\":\"screen\",\"fill_alpha\":{\"value\":0.5},\"fill_color\":{\"value\":\"lightgrey\"},\"left_units\":\"screen\",\"level\":\"overlay\",\"line_alpha\":{\"value\":1.0},\"line_color\":{\"value\":\"black\"},\"line_dash\":[4,4],\"line_width\":{\"value\":2},\"plot\":null,\"render_mode\":\"css\",\"right_units\":\"screen\",\"top_units\":\"screen\"},\"id\":\"149e9545-260d-42db-851e-e08f58940bdc\",\"type\":\"BoxAnnotation\"},{\"attributes\":{\"plot\":{\"id\":\"f6d380f1-1125-4e1d-b6e3-8463ac280419\",\"subtype\":\"Figure\",\"type\":\"Plot\"}},\"id\":\"9d30fce7-7ebc-4352-9187-bf8ff2536574\",\"type\":\"PanTool\"},{\"attributes\":{\"line_alpha\":{\"value\":0.1},\"line_color\":{\"value\":\"#1f77b4\"},\"line_width\":{\"value\":2},\"x\":{\"field\":\"x\"},\"y\":{\"field\":\"y\"}},\"id\":\"49a9a9c4-6b41-414c-9ed3-85b79b62c9ae\",\"type\":\"Line\"},{\"attributes\":{},\"id\":\"63c989ad-b99a-43e6-89cc-dcf3158fcc09\",\"type\":\"BasicTicker\"},{\"attributes\":{},\"id\":\"87d6b5d3-35ea-4790-acd9-e9fbd454789d\",\"type\":\"BasicTickFormatter\"},{\"attributes\":{\"dimension\":1,\"plot\":{\"id\":\"f6d380f1-1125-4e1d-b6e3-8463ac280419\",\"subtype\":\"Figure\",\"type\":\"Plot\"},\"ticker\":{\"id\":\"63c989ad-b99a-43e6-89cc-dcf3158fcc09\",\"type\":\"BasicTicker\"}},\"id\":\"780bc6db-91d3-4c36-93d8-33f79831dba1\",\"type\":\"Grid\"},{\"attributes\":{},\"id\":\"a708727e-7731-43df-9a04-c72d07288e24\",\"type\":\"ToolEvents\"},{\"attributes\":{\"data_source\":{\"id\":\"803e841b-0438-4303-bd91-e091698a466b\",\"type\":\"ColumnDataSource\"},\"glyph\":{\"id\":\"552ec7c4-9788-4fe1-84c3-ee44bdfcf8cb\",\"type\":\"Line\"},\"hover_glyph\":null,\"nonselection_glyph\":{\"id\":\"49a9a9c4-6b41-414c-9ed3-85b79b62c9ae\",\"type\":\"Line\"},\"selection_glyph\":null},\"id\":\"31c8ceef-9c85-4269-8244-064b1b5fc9b2\",\"type\":\"GlyphRenderer\"},{\"attributes\":{\"overlay\":{\"id\":\"149e9545-260d-42db-851e-e08f58940bdc\",\"type\":\"BoxAnnotation\"},\"plot\":{\"id\":\"f6d380f1-1125-4e1d-b6e3-8463ac280419\",\"subtype\":\"Figure\",\"type\":\"Plot\"}},\"id\":\"d86f44da-bea0-4efb-9c85-0f0a88b2b4ed\",\"type\":\"BoxZoomTool\"},{\"attributes\":{\"formatter\":{\"id\":\"32ad054f-6738-4fb6-9d66-0180013569dd\",\"type\":\"BasicTickFormatter\"},\"plot\":{\"id\":\"f6d380f1-1125-4e1d-b6e3-8463ac280419\",\"subtype\":\"Figure\",\"type\":\"Plot\"},\"ticker\":{\"id\":\"7d74b87c-cd6e-427f-86fe-df50f68d4be2\",\"type\":\"BasicTicker\"}},\"id\":\"1caf6b91-3255-40ab-83f4-31f96ba85c84\",\"type\":\"LinearAxis\"},{\"attributes\":{\"plot\":{\"id\":\"f6d380f1-1125-4e1d-b6e3-8463ac280419\",\"subtype\":\"Figure\",\"type\":\"Plot\"},\"ticker\":{\"id\":\"7d74b87c-cd6e-427f-86fe-df50f68d4be2\",\"type\":\"BasicTicker\"}},\"id\":\"2e61af0b-9151-488c-bd6c-8de005ea6d4c\",\"type\":\"Grid\"},{\"attributes\":{\"below\":[{\"id\":\"1caf6b91-3255-40ab-83f4-31f96ba85c84\",\"type\":\"LinearAxis\"}],\"left\":[{\"id\":\"38127c27-ee1e-45ed-a064-084d57e81e7f\",\"type\":\"LinearAxis\"}],\"outline_line_alpha\":{\"value\":0.3},\"outline_line_color\":{\"value\":\"firebrick\"},\"outline_line_width\":{\"value\":6},\"renderers\":[{\"id\":\"1caf6b91-3255-40ab-83f4-31f96ba85c84\",\"type\":\"LinearAxis\"},{\"id\":\"2e61af0b-9151-488c-bd6c-8de005ea6d4c\",\"type\":\"Grid\"},{\"id\":\"38127c27-ee1e-45ed-a064-084d57e81e7f\",\"type\":\"LinearAxis\"},{\"id\":\"780bc6db-91d3-4c36-93d8-33f79831dba1\",\"type\":\"Grid\"},{\"id\":\"149e9545-260d-42db-851e-e08f58940bdc\",\"type\":\"BoxAnnotation\"},{\"id\":\"31c8ceef-9c85-4269-8244-064b1b5fc9b2\",\"type\":\"GlyphRenderer\"}],\"title\":{\"id\":\"0c5af47b-3a49-46d3-ab82-7174f3529b10\",\"type\":\"Title\"},\"tool_events\":{\"id\":\"a708727e-7731-43df-9a04-c72d07288e24\",\"type\":\"ToolEvents\"},\"toolbar\":{\"id\":\"156fd005-8012-4c37-935b-1bff1667a7e7\",\"type\":\"Toolbar\"},\"x_range\":{\"id\":\"2179980c-c28a-4ce8-948c-9241946ee981\",\"type\":\"DataRange1d\"},\"y_range\":{\"id\":\"a077aad7-d235-45b1-b564-0b65ff99d707\",\"type\":\"DataRange1d\"}},\"id\":\"f6d380f1-1125-4e1d-b6e3-8463ac280419\",\"subtype\":\"Figure\",\"type\":\"Plot\"},{\"attributes\":{\"callback\":null},\"id\":\"a077aad7-d235-45b1-b564-0b65ff99d707\",\"type\":\"DataRange1d\"},{\"attributes\":{\"plot\":{\"id\":\"f6d380f1-1125-4e1d-b6e3-8463ac280419\",\"subtype\":\"Figure\",\"type\":\"Plot\"}},\"id\":\"61a4605b-7692-4713-a4d5-35d6965d2b4e\",\"type\":\"HelpTool\"},{\"attributes\":{\"callback\":null,\"column_names\":[\"x\",\"y\"],\"data\":{\"x\":[0.0,0.12693303650867852,0.25386607301735703,0.3807991095260356,0.5077321460347141,0.6346651825433925,0.7615982190520711,0.8885312555607496,1.0154642920694281,1.1423973285781066,1.269330365086785,1.3962634015954636,1.5231964381041423,1.6501294746128208,1.7770625111214993,1.9039955476301778,2.0309285841388562,2.1578616206475347,2.284794657156213,2.4117276936648917,2.53866073017357,2.6655937666822487,2.792526803190927,2.9194598396996057,3.0463928762082846,3.173325912716963,3.3002589492256416,3.42719198573432,3.5541250222429985,3.681058058751677,3.8079910952603555,3.934924131769034,4.0618571682777125,4.188790204786391,4.3157232412950695,4.442656277803748,4.569589314312426,4.696522350821105,4.823455387329783,4.950388423838462,5.07732146034714,5.204254496855819,5.331187533364497,5.458120569873176,5.585053606381854,5.711986642890533,5.838919679399211,5.96585271590789,6.092785752416569,6.219718788925247,6.346651825433926,6.473584861942604,6.600517898451283,6.727450934959961,6.85438397146864,6.981317007977318,7.108250044485997,7.235183080994675,7.362116117503354,7.489049154012032,7.615982190520711,7.742915227029389,7.869848263538068,7.996781300046746,8.123714336555425,8.250647373064103,8.377580409572783,8.50451344608146,8.631446482590139,8.758379519098817,8.885312555607497,9.012245592116175,9.139178628624853,9.266111665133531,9.39304470164221,9.519977738150889,9.646910774659567,9.773843811168245,9.900776847676925,10.027709884185603,10.15464292069428,10.28157595720296,10.408508993711639,10.535442030220317,10.662375066728995,10.789308103237675,10.916241139746353,11.04317417625503,11.170107212763709,11.297040249272388,11.423973285781067,11.550906322289745,11.677839358798423,11.804772395307102,11.93170543181578,12.058638468324459,12.185571504833138,12.312504541341816,12.439437577850494,12.566370614359172],\"y\":[0.0,0.12659245357374926,0.2511479871810792,0.3716624556603276,0.48619673610046865,0.5929079290546404,0.690079011482112,0.7761464642917568,0.8497254299495144,0.9096319953545183,0.9549022414440739,0.984807753012208,0.998867339183008,0.9968547759519424,0.9788024462147787,0.9450008187146685,0.8959937742913359,0.8325698546347714,0.7557495743542583,0.6667690005162916,0.5670598638627709,0.4582265217274105,0.3420201433256689,0.2203105327865408,0.09505604330418244,-0.03172793349806786,-0.15800139597335008,-0.28173255684142984,-0.4009305354066138,-0.5136773915734064,-0.6181589862206053,-0.7126941713788629,-0.7957618405308321,-0.8660254037844388,-0.9223542941045814,-0.9638421585599422,-0.9898214418809327,-0.9998741276738751,-0.9938384644612541,-0.9718115683235417,-0.9341478602651068,-0.881453363447582,-0.8145759520503358,-0.7345917086575331,-0.6427876096865396,-0.5406408174555974,-0.4297949120891719,-0.31203344569848707,-0.18925124436040974,-0.06342391965656452,0.06342391965656492,0.18925124436041013,0.31203344569848745,0.42979491208917153,0.5406408174555978,0.6427876096865393,0.7345917086575334,0.8145759520503356,0.8814533634475821,0.9341478602651067,0.9718115683235418,0.9938384644612541,0.9998741276738751,0.9898214418809328,0.963842158559942,0.9223542941045816,0.8660254037844383,0.7957618405308319,0.7126941713788629,0.6181589862206056,0.5136773915734058,0.40093053540661344,0.2817325568414299,0.15800139597335056,0.03172793349806701,-0.09505604330418282,-0.22031053278654034,-0.342020143325668,-0.45822652172741085,-0.5670598638627707,-0.6667690005162913,-0.7557495743542588,-0.8325698546347716,-0.8959937742913359,-0.9450008187146683,-0.9788024462147789,-0.9968547759519424,-0.998867339183008,-0.9848077530122081,-0.9549022414440737,-0.9096319953545183,-0.8497254299495145,-0.7761464642917573,-0.6900790114821116,-0.5929079290546404,-0.486196736100469,-0.37166245566032663,-0.2511479871810788,-0.1265924535737493,-4.898587196589413e-16]}},\"id\":\"803e841b-0438-4303-bd91-e091698a466b\",\"type\":\"ColumnDataSource\"},{\"attributes\":{},\"id\":\"7d74b87c-cd6e-427f-86fe-df50f68d4be2\",\"type\":\"BasicTicker\"},{\"attributes\":{\"active_drag\":\"auto\",\"active_scroll\":\"auto\",\"active_tap\":\"auto\",\"tools\":[{\"id\":\"9d30fce7-7ebc-4352-9187-bf8ff2536574\",\"type\":\"PanTool\"},{\"id\":\"0592b29d-9d66-42ea-bc90-e19e2e2765e1\",\"type\":\"WheelZoomTool\"},{\"id\":\"d86f44da-bea0-4efb-9c85-0f0a88b2b4ed\",\"type\":\"BoxZoomTool\"},{\"id\":\"c1adeb79-cba6-4da4-b6e9-286290a167da\",\"type\":\"SaveTool\"},{\"id\":\"ef04316a-2cae-459c-91c5-ee25af3ed5d6\",\"type\":\"ResetTool\"},{\"id\":\"61a4605b-7692-4713-a4d5-35d6965d2b4e\",\"type\":\"HelpTool\"}]},\"id\":\"156fd005-8012-4c37-935b-1bff1667a7e7\",\"type\":\"Toolbar\"},{\"attributes\":{\"callback\":null},\"id\":\"2179980c-c28a-4ce8-948c-9241946ee981\",\"type\":\"DataRange1d\"}],\"root_ids\":[\"f6d380f1-1125-4e1d-b6e3-8463ac280419\"]},\"title\":\"Bokeh Application\",\"version\":\"0.12.1\"}};\n",
       "            var render_items = [{\"docid\":\"a642b70b-e878-4f5b-8a89-b5cac219354e\",\"elementid\":\"874177a1-d220-43f4-81f6-7483ed1fe1b1\",\"modelid\":\"f6d380f1-1125-4e1d-b6e3-8463ac280419\",\"notebook_comms_target\":\"3c529763-f109-4285-a830-a275acd6d1c7\"}];\n",
       "            \n",
       "            Bokeh.embed.embed_items(docs_json, render_items);\n",
       "        });\n",
       "      },\n",
       "      function(Bokeh) {\n",
       "      }\n",
       "    ];\n",
       "  \n",
       "    function run_inline_js() {\n",
       "      for (var i = 0; i < inline_js.length; i++) {\n",
       "        inline_js[i](window.Bokeh);\n",
       "      }\n",
       "    }\n",
       "  \n",
       "    if (window._bokeh_is_loading === 0) {\n",
       "      console.log(\"Bokeh: BokehJS loaded, going straight to plotting\");\n",
       "      run_inline_js();\n",
       "    } else {\n",
       "      load_libs(js_urls, function() {\n",
       "        console.log(\"Bokeh: BokehJS plotting callback run at\", now());\n",
       "        run_inline_js();\n",
       "      });\n",
       "    }\n",
       "  }(this));\n",
       "</script>"
      ]
     },
     "metadata": {},
     "output_type": "display_data"
    },
    {
     "data": {
      "text/html": [
       "<p><code>&lt;Bokeh Notebook handle for <strong>In[10]</strong>&gt;</code></p>"
      ],
      "text/plain": [
       "<bokeh.io._CommsHandle at 0x83d6668>"
      ]
     },
     "execution_count": 10,
     "metadata": {},
     "output_type": "execute_result"
    }
   ],
   "source": [
    "plot = figure(outline_line_width=6,\n",
    "             outline_line_alpha=0.3,\n",
    "             outline_line_color='firebrick')\n",
    "plot.line(x,y,line_width=2)\n",
    "show(plot)"
   ]
  },
  {
   "cell_type": "markdown",
   "metadata": {},
   "source": [
    "## Axes"
   ]
  },
  {
   "cell_type": "markdown",
   "metadata": {},
   "source": [
    "Plot axes are separate objects that can be associated with one or more figures. The `figure` method automatically creates `xaxis` and `yaxis` objects."
   ]
  },
  {
   "cell_type": "markdown",
   "metadata": {},
   "source": [
    "### Types"
   ]
  },
  {
   "cell_type": "markdown",
   "metadata": {},
   "source": [
    "The axis type can be changed using `x_axis_type` and `y_axis_type` keyword arguments to `figure()`.\n",
    "* `linear` (default)\n",
    "* `log`\n",
    "* `datetime`"
   ]
  },
  {
   "cell_type": "code",
   "execution_count": 11,
   "metadata": {
    "collapsed": false,
    "scrolled": false
   },
   "outputs": [
    {
     "data": {
      "text/html": [
       "\n",
       "\n",
       "    <div class=\"bk-root\">\n",
       "        <div class=\"plotdiv\" id=\"e1aa9867-ed1a-4709-b62c-5790b6f4be74\"></div>\n",
       "    </div>\n",
       "<script type=\"text/javascript\">\n",
       "  \n",
       "  (function(global) {\n",
       "    function now() {\n",
       "      return new Date();\n",
       "    }\n",
       "  \n",
       "    var force = \"\";\n",
       "  \n",
       "    if (typeof (window._bokeh_onload_callbacks) === \"undefined\" || force !== \"\") {\n",
       "      window._bokeh_onload_callbacks = [];\n",
       "      window._bokeh_is_loading = undefined;\n",
       "    }\n",
       "  \n",
       "    function run_callbacks() {\n",
       "      window._bokeh_onload_callbacks.forEach(function(callback) { callback() });\n",
       "      delete window._bokeh_onload_callbacks\n",
       "      console.info(\"Bokeh: all callbacks have finished\");\n",
       "    }\n",
       "  \n",
       "    function load_libs(js_urls, callback) {\n",
       "      window._bokeh_onload_callbacks.push(callback);\n",
       "      if (window._bokeh_is_loading > 0) {\n",
       "        console.log(\"Bokeh: BokehJS is being loaded, scheduling callback at\", now());\n",
       "        return null;\n",
       "      }\n",
       "      if (js_urls == null || js_urls.length === 0) {\n",
       "        run_callbacks();\n",
       "        return null;\n",
       "      }\n",
       "      console.log(\"Bokeh: BokehJS not loaded, scheduling load and callback at\", now());\n",
       "      window._bokeh_is_loading = js_urls.length;\n",
       "      for (var i = 0; i < js_urls.length; i++) {\n",
       "        var url = js_urls[i];\n",
       "        var s = document.createElement('script');\n",
       "        s.src = url;\n",
       "        s.async = false;\n",
       "        s.onreadystatechange = s.onload = function() {\n",
       "          window._bokeh_is_loading--;\n",
       "          if (window._bokeh_is_loading === 0) {\n",
       "            console.log(\"Bokeh: all BokehJS libraries loaded\");\n",
       "            run_callbacks()\n",
       "          }\n",
       "        };\n",
       "        s.onerror = function() {\n",
       "          console.warn(\"failed to load library \" + url);\n",
       "        };\n",
       "        console.log(\"Bokeh: injecting script tag for BokehJS library: \", url);\n",
       "        document.getElementsByTagName(\"head\")[0].appendChild(s);\n",
       "      }\n",
       "    };var element = document.getElementById(\"e1aa9867-ed1a-4709-b62c-5790b6f4be74\");\n",
       "    if (element == null) {\n",
       "      console.log(\"Bokeh: ERROR: autoload.js configured with elementid 'e1aa9867-ed1a-4709-b62c-5790b6f4be74' but no matching script tag was found. \")\n",
       "      return false;\n",
       "    }\n",
       "  \n",
       "    var js_urls = [];\n",
       "  \n",
       "    var inline_js = [\n",
       "      function(Bokeh) {\n",
       "        Bokeh.$(function() {\n",
       "            var docs_json = {\"23a078f5-29e6-47f4-945c-de4a9347e2f0\":{\"roots\":{\"references\":[{\"attributes\":{\"line_color\":{\"value\":\"#1f77b4\"},\"line_width\":{\"value\":2},\"x\":{\"field\":\"x\"},\"y\":{\"field\":\"y\"}},\"id\":\"966f3288-d0e8-4a79-bc8f-32e4f37a05c8\",\"type\":\"Line\"},{\"attributes\":{\"plot\":null,\"text\":null},\"id\":\"40a7cb4f-a69d-4220-bd3a-3326c96421e9\",\"type\":\"Title\"},{\"attributes\":{\"active_drag\":\"auto\",\"active_scroll\":\"auto\",\"active_tap\":\"auto\",\"tools\":[{\"id\":\"a3fa4b87-aefd-4fcc-b075-87bd1d0f8e33\",\"type\":\"PanTool\"},{\"id\":\"68cdbe22-9b84-4948-a952-de7dc94bcd59\",\"type\":\"WheelZoomTool\"},{\"id\":\"b5cebcbf-bf15-47bc-a4d6-252dc56b4121\",\"type\":\"BoxZoomTool\"},{\"id\":\"1d04fcea-25ad-4323-bdaf-9d39318a8930\",\"type\":\"SaveTool\"},{\"id\":\"9b652660-4a48-4581-8706-086d49928d5a\",\"type\":\"ResetTool\"},{\"id\":\"6bf267b7-91aa-4a26-ab32-47d9418fdd58\",\"type\":\"HelpTool\"}]},\"id\":\"10609e10-e5e7-4452-9e19-d48bc75f5f8a\",\"type\":\"Toolbar\"},{\"attributes\":{\"plot\":{\"id\":\"52e6d076-47ad-414c-9c3b-847972b52247\",\"subtype\":\"Figure\",\"type\":\"Plot\"},\"ticker\":{\"id\":\"63c90829-eadf-4690-9430-57c3f7cd9796\",\"type\":\"BasicTicker\"}},\"id\":\"3c8d8d70-9aca-4ee7-b31c-1a1bdc9df6d9\",\"type\":\"Grid\"},{\"attributes\":{\"formatter\":{\"id\":\"23bf4c64-976b-4ff7-8089-c2b5781bb507\",\"type\":\"LogTickFormatter\"},\"plot\":{\"id\":\"52e6d076-47ad-414c-9c3b-847972b52247\",\"subtype\":\"Figure\",\"type\":\"Plot\"},\"ticker\":{\"id\":\"54abf290-1e0d-44b3-a46c-dec272369d7c\",\"type\":\"LogTicker\"}},\"id\":\"fd564b0f-99b9-41e2-8706-c8da5fb77a8d\",\"type\":\"LogAxis\"},{\"attributes\":{\"plot\":{\"id\":\"52e6d076-47ad-414c-9c3b-847972b52247\",\"subtype\":\"Figure\",\"type\":\"Plot\"}},\"id\":\"a3fa4b87-aefd-4fcc-b075-87bd1d0f8e33\",\"type\":\"PanTool\"},{\"attributes\":{\"plot\":{\"id\":\"52e6d076-47ad-414c-9c3b-847972b52247\",\"subtype\":\"Figure\",\"type\":\"Plot\"}},\"id\":\"68cdbe22-9b84-4948-a952-de7dc94bcd59\",\"type\":\"WheelZoomTool\"},{\"attributes\":{\"plot\":{\"id\":\"52e6d076-47ad-414c-9c3b-847972b52247\",\"subtype\":\"Figure\",\"type\":\"Plot\"}},\"id\":\"6bf267b7-91aa-4a26-ab32-47d9418fdd58\",\"type\":\"HelpTool\"},{\"attributes\":{\"line_alpha\":{\"value\":0.1},\"line_color\":{\"value\":\"#1f77b4\"},\"line_width\":{\"value\":2},\"x\":{\"field\":\"x\"},\"y\":{\"field\":\"y\"}},\"id\":\"ba7f3025-8ffd-4d14-a256-91e7d0b22e72\",\"type\":\"Line\"},{\"attributes\":{\"formatter\":{\"id\":\"64464815-f469-45dc-a5eb-93905d55a8d2\",\"type\":\"BasicTickFormatter\"},\"plot\":{\"id\":\"52e6d076-47ad-414c-9c3b-847972b52247\",\"subtype\":\"Figure\",\"type\":\"Plot\"},\"ticker\":{\"id\":\"63c90829-eadf-4690-9430-57c3f7cd9796\",\"type\":\"BasicTicker\"}},\"id\":\"e988fddc-034f-4eb2-8e16-5867f3382b49\",\"type\":\"LinearAxis\"},{\"attributes\":{\"callback\":null},\"id\":\"1b845d48-878c-465c-8601-f5db66f5c7db\",\"type\":\"DataRange1d\"},{\"attributes\":{},\"id\":\"5598d0f8-c0a2-40bd-903b-97464a07b41a\",\"type\":\"ToolEvents\"},{\"attributes\":{\"overlay\":{\"id\":\"bc646697-3ce6-4b50-abe4-4ec7ec421ea0\",\"type\":\"BoxAnnotation\"},\"plot\":{\"id\":\"52e6d076-47ad-414c-9c3b-847972b52247\",\"subtype\":\"Figure\",\"type\":\"Plot\"}},\"id\":\"b5cebcbf-bf15-47bc-a4d6-252dc56b4121\",\"type\":\"BoxZoomTool\"},{\"attributes\":{\"callback\":null,\"column_names\":[\"x\",\"y\"],\"data\":{\"x\":[0.0,0.12693303650867852,0.25386607301735703,0.3807991095260356,0.5077321460347141,0.6346651825433925,0.7615982190520711,0.8885312555607496,1.0154642920694281,1.1423973285781066,1.269330365086785,1.3962634015954636,1.5231964381041423,1.6501294746128208,1.7770625111214993,1.9039955476301778,2.0309285841388562,2.1578616206475347,2.284794657156213,2.4117276936648917,2.53866073017357,2.6655937666822487,2.792526803190927,2.9194598396996057,3.0463928762082846,3.173325912716963,3.3002589492256416,3.42719198573432,3.5541250222429985,3.681058058751677,3.8079910952603555,3.934924131769034,4.0618571682777125,4.188790204786391,4.3157232412950695,4.442656277803748,4.569589314312426,4.696522350821105,4.823455387329783,4.950388423838462,5.07732146034714,5.204254496855819,5.331187533364497,5.458120569873176,5.585053606381854,5.711986642890533,5.838919679399211,5.96585271590789,6.092785752416569,6.219718788925247,6.346651825433926,6.473584861942604,6.600517898451283,6.727450934959961,6.85438397146864,6.981317007977318,7.108250044485997,7.235183080994675,7.362116117503354,7.489049154012032,7.615982190520711,7.742915227029389,7.869848263538068,7.996781300046746,8.123714336555425,8.250647373064103,8.377580409572783,8.50451344608146,8.631446482590139,8.758379519098817,8.885312555607497,9.012245592116175,9.139178628624853,9.266111665133531,9.39304470164221,9.519977738150889,9.646910774659567,9.773843811168245,9.900776847676925,10.027709884185603,10.15464292069428,10.28157595720296,10.408508993711639,10.535442030220317,10.662375066728995,10.789308103237675,10.916241139746353,11.04317417625503,11.170107212763709,11.297040249272388,11.423973285781067,11.550906322289745,11.677839358798423,11.804772395307102,11.93170543181578,12.058638468324459,12.185571504833138,12.312504541341816,12.439437577850494,12.566370614359172],\"y\":[1.0,1.3394701397578994,1.7941802553030468,2.403250877321636,3.219082788519306,4.311865272630204,5.7756147793472135,7.736263535680001,10.362493999341233,13.880251285537993,18.592182129314338,24.903672795156997,33.35772607941396,44.68167801359834,59.84977349349203,80.1669844658064,107.38128188638304,143.83402065573588,192.6613757496791,258.06415990137185,345.6692363295955,463.0136202964096,620.1929186882427,830.7298954722,1112.737889189214,1490.4791759461866,1996.4523501108772,2674.1883084230035,3581.995387222301,4797.975861934807,6426.745398340843,8608.433556904047,11530.739699562853,15445.08151688543,20688.225497994656,27711.260299141868,37118.40570575905,49718.99607828353,66597.11062560082,89204.84107714592,119487.22094468573,160049.56453806136,214381.61257998776,287157.76856404037,384639.2563910413,515212.7985144831,690112.1592312524,924384.6303741123,1238185.6100372677,1658512.6521228373,2221528.1739292233,2975670.653609085,3985821.986263245,5338889.5329901315,7151283.108906285,9578930.185334997,12830690.954081843,17186327.405454405,23020572.37170905,30835369.292039927,41303056.4150952,55324210.74875592,74105128.30363165,99261606.56564245,132957958.01907484,178093214.60973492,238550543.06323594,319531329.2562351,428002674.2558762,573296801.9022726,767913947.3667961,1028597802.4014416,1377776042.1373258,1845489867.7167673,2471978571.0323734,3311141482.019262,4435175143.6785145,5940784669.553815,7957503671.59886,10658838555.120512,14277195969.084143,19123877680.060112,25615863108.823067,34311683738.394417,45959475812.395966,61561345489.63001,82459584046.67896,110452150567.38321,147947357557.0532,198171067703.75854,265444227753.12534,355554616846.4061,476254792318.8215,637929073227.6631,854486944871.8843,1144559747468.842,1533103604903.3606,2053546499923.2417,2750664217251.527,3684432583508.952]}},\"id\":\"21c6e98b-249d-4c11-9016-652578e4bed1\",\"type\":\"ColumnDataSource\"},{\"attributes\":{\"data_source\":{\"id\":\"21c6e98b-249d-4c11-9016-652578e4bed1\",\"type\":\"ColumnDataSource\"},\"glyph\":{\"id\":\"966f3288-d0e8-4a79-bc8f-32e4f37a05c8\",\"type\":\"Line\"},\"hover_glyph\":null,\"nonselection_glyph\":{\"id\":\"ba7f3025-8ffd-4d14-a256-91e7d0b22e72\",\"type\":\"Line\"},\"selection_glyph\":null},\"id\":\"aabef673-2f1f-4c03-9eb3-b85ab83bbfa8\",\"type\":\"GlyphRenderer\"},{\"attributes\":{\"ticker\":null},\"id\":\"23bf4c64-976b-4ff7-8089-c2b5781bb507\",\"type\":\"LogTickFormatter\"},{\"attributes\":{\"plot\":{\"id\":\"52e6d076-47ad-414c-9c3b-847972b52247\",\"subtype\":\"Figure\",\"type\":\"Plot\"}},\"id\":\"9b652660-4a48-4581-8706-086d49928d5a\",\"type\":\"ResetTool\"},{\"attributes\":{\"plot\":{\"id\":\"52e6d076-47ad-414c-9c3b-847972b52247\",\"subtype\":\"Figure\",\"type\":\"Plot\"}},\"id\":\"1d04fcea-25ad-4323-bdaf-9d39318a8930\",\"type\":\"SaveTool\"},{\"attributes\":{\"dimension\":1,\"plot\":{\"id\":\"52e6d076-47ad-414c-9c3b-847972b52247\",\"subtype\":\"Figure\",\"type\":\"Plot\"},\"ticker\":{\"id\":\"54abf290-1e0d-44b3-a46c-dec272369d7c\",\"type\":\"LogTicker\"}},\"id\":\"cae04e66-df50-4bbf-b1d7-16ddcfa61b2e\",\"type\":\"Grid\"},{\"attributes\":{\"callback\":null},\"id\":\"f733993b-2cb1-41d1-ba8d-4e018a03a636\",\"type\":\"DataRange1d\"},{\"attributes\":{},\"id\":\"64464815-f469-45dc-a5eb-93905d55a8d2\",\"type\":\"BasicTickFormatter\"},{\"attributes\":{\"num_minor_ticks\":10},\"id\":\"54abf290-1e0d-44b3-a46c-dec272369d7c\",\"type\":\"LogTicker\"},{\"attributes\":{\"bottom_units\":\"screen\",\"fill_alpha\":{\"value\":0.5},\"fill_color\":{\"value\":\"lightgrey\"},\"left_units\":\"screen\",\"level\":\"overlay\",\"line_alpha\":{\"value\":1.0},\"line_color\":{\"value\":\"black\"},\"line_dash\":[4,4],\"line_width\":{\"value\":2},\"plot\":null,\"render_mode\":\"css\",\"right_units\":\"screen\",\"top_units\":\"screen\"},\"id\":\"bc646697-3ce6-4b50-abe4-4ec7ec421ea0\",\"type\":\"BoxAnnotation\"},{\"attributes\":{\"below\":[{\"id\":\"e988fddc-034f-4eb2-8e16-5867f3382b49\",\"type\":\"LinearAxis\"}],\"left\":[{\"id\":\"fd564b0f-99b9-41e2-8706-c8da5fb77a8d\",\"type\":\"LogAxis\"}],\"renderers\":[{\"id\":\"e988fddc-034f-4eb2-8e16-5867f3382b49\",\"type\":\"LinearAxis\"},{\"id\":\"3c8d8d70-9aca-4ee7-b31c-1a1bdc9df6d9\",\"type\":\"Grid\"},{\"id\":\"fd564b0f-99b9-41e2-8706-c8da5fb77a8d\",\"type\":\"LogAxis\"},{\"id\":\"cae04e66-df50-4bbf-b1d7-16ddcfa61b2e\",\"type\":\"Grid\"},{\"id\":\"bc646697-3ce6-4b50-abe4-4ec7ec421ea0\",\"type\":\"BoxAnnotation\"},{\"id\":\"aabef673-2f1f-4c03-9eb3-b85ab83bbfa8\",\"type\":\"GlyphRenderer\"}],\"title\":{\"id\":\"40a7cb4f-a69d-4220-bd3a-3326c96421e9\",\"type\":\"Title\"},\"tool_events\":{\"id\":\"5598d0f8-c0a2-40bd-903b-97464a07b41a\",\"type\":\"ToolEvents\"},\"toolbar\":{\"id\":\"10609e10-e5e7-4452-9e19-d48bc75f5f8a\",\"type\":\"Toolbar\"},\"x_range\":{\"id\":\"1b845d48-878c-465c-8601-f5db66f5c7db\",\"type\":\"DataRange1d\"},\"y_mapper_type\":\"log\",\"y_range\":{\"id\":\"f733993b-2cb1-41d1-ba8d-4e018a03a636\",\"type\":\"DataRange1d\"}},\"id\":\"52e6d076-47ad-414c-9c3b-847972b52247\",\"subtype\":\"Figure\",\"type\":\"Plot\"},{\"attributes\":{},\"id\":\"63c90829-eadf-4690-9430-57c3f7cd9796\",\"type\":\"BasicTicker\"}],\"root_ids\":[\"52e6d076-47ad-414c-9c3b-847972b52247\"]},\"title\":\"Bokeh Application\",\"version\":\"0.12.1\"}};\n",
       "            var render_items = [{\"docid\":\"23a078f5-29e6-47f4-945c-de4a9347e2f0\",\"elementid\":\"e1aa9867-ed1a-4709-b62c-5790b6f4be74\",\"modelid\":\"52e6d076-47ad-414c-9c3b-847972b52247\",\"notebook_comms_target\":\"176ef903-5c87-4f96-9734-b70e970a4323\"}];\n",
       "            \n",
       "            Bokeh.embed.embed_items(docs_json, render_items);\n",
       "        });\n",
       "      },\n",
       "      function(Bokeh) {\n",
       "      }\n",
       "    ];\n",
       "  \n",
       "    function run_inline_js() {\n",
       "      for (var i = 0; i < inline_js.length; i++) {\n",
       "        inline_js[i](window.Bokeh);\n",
       "      }\n",
       "    }\n",
       "  \n",
       "    if (window._bokeh_is_loading === 0) {\n",
       "      console.log(\"Bokeh: BokehJS loaded, going straight to plotting\");\n",
       "      run_inline_js();\n",
       "    } else {\n",
       "      load_libs(js_urls, function() {\n",
       "        console.log(\"Bokeh: BokehJS plotting callback run at\", now());\n",
       "        run_inline_js();\n",
       "      });\n",
       "    }\n",
       "  }(this));\n",
       "</script>"
      ]
     },
     "metadata": {},
     "output_type": "display_data"
    },
    {
     "data": {
      "text/html": [
       "<p><code>&lt;Bokeh Notebook handle for <strong>In[11]</strong>&gt;</code></p>"
      ],
      "text/plain": [
       "<bokeh.io._CommsHandle at 0x83ec438>"
      ]
     },
     "execution_count": 11,
     "metadata": {},
     "output_type": "execute_result"
    }
   ],
   "source": [
    "logX = 10**x\n",
    "\n",
    "plot = figure(y_axis_type='log')\n",
    "plot.line(x,logX,line_width=2)\n",
    "show(plot)"
   ]
  },
  {
   "cell_type": "markdown",
   "metadata": {},
   "source": [
    "The axes can also be modified by accessing the individual classes. `plot.yaxis` (and `plot.xaxis`) returns a *splattable* list of objects defined on the xaxis. Notice that LogAxis is a subclass of `axes` and the object would have to be replaced to change the axis to a LinearAxis. It is best to decide the axis type when the figure object is created."
   ]
  },
  {
   "cell_type": "code",
   "execution_count": null,
   "metadata": {
    "collapsed": false
   },
   "outputs": [],
   "source": [
    "plot.xaxis,plot.yaxis"
   ]
  },
  {
   "cell_type": "markdown",
   "metadata": {},
   "source": [
    "### Ranges"
   ]
  },
  {
   "cell_type": "markdown",
   "metadata": {},
   "source": [
    "Ranges can be set in the figure using the `x_range` and `y_range` properties where the start and end points are given in a tuple.\n",
    "\n",
    "By default `x_range` and `y_range` are `DataRange1d` objects that auto-fit the view to the input data.\n",
    "\n",
    "We're going to replace `y_range` with a `Range1d` object, which takes start and end points as arguments to set the default view. As we'll see later it is useful to know that we can control the `x_range` and `y_range` objects. "
   ]
  },
  {
   "cell_type": "code",
   "execution_count": 12,
   "metadata": {
    "collapsed": false,
    "scrolled": true
   },
   "outputs": [
    {
     "data": {
      "text/html": [
       "\n",
       "\n",
       "    <div class=\"bk-root\">\n",
       "        <div class=\"plotdiv\" id=\"4d7414fd-9e86-4df9-a955-b4d4f047ff6f\"></div>\n",
       "    </div>\n",
       "<script type=\"text/javascript\">\n",
       "  \n",
       "  (function(global) {\n",
       "    function now() {\n",
       "      return new Date();\n",
       "    }\n",
       "  \n",
       "    var force = \"\";\n",
       "  \n",
       "    if (typeof (window._bokeh_onload_callbacks) === \"undefined\" || force !== \"\") {\n",
       "      window._bokeh_onload_callbacks = [];\n",
       "      window._bokeh_is_loading = undefined;\n",
       "    }\n",
       "  \n",
       "    function run_callbacks() {\n",
       "      window._bokeh_onload_callbacks.forEach(function(callback) { callback() });\n",
       "      delete window._bokeh_onload_callbacks\n",
       "      console.info(\"Bokeh: all callbacks have finished\");\n",
       "    }\n",
       "  \n",
       "    function load_libs(js_urls, callback) {\n",
       "      window._bokeh_onload_callbacks.push(callback);\n",
       "      if (window._bokeh_is_loading > 0) {\n",
       "        console.log(\"Bokeh: BokehJS is being loaded, scheduling callback at\", now());\n",
       "        return null;\n",
       "      }\n",
       "      if (js_urls == null || js_urls.length === 0) {\n",
       "        run_callbacks();\n",
       "        return null;\n",
       "      }\n",
       "      console.log(\"Bokeh: BokehJS not loaded, scheduling load and callback at\", now());\n",
       "      window._bokeh_is_loading = js_urls.length;\n",
       "      for (var i = 0; i < js_urls.length; i++) {\n",
       "        var url = js_urls[i];\n",
       "        var s = document.createElement('script');\n",
       "        s.src = url;\n",
       "        s.async = false;\n",
       "        s.onreadystatechange = s.onload = function() {\n",
       "          window._bokeh_is_loading--;\n",
       "          if (window._bokeh_is_loading === 0) {\n",
       "            console.log(\"Bokeh: all BokehJS libraries loaded\");\n",
       "            run_callbacks()\n",
       "          }\n",
       "        };\n",
       "        s.onerror = function() {\n",
       "          console.warn(\"failed to load library \" + url);\n",
       "        };\n",
       "        console.log(\"Bokeh: injecting script tag for BokehJS library: \", url);\n",
       "        document.getElementsByTagName(\"head\")[0].appendChild(s);\n",
       "      }\n",
       "    };var element = document.getElementById(\"4d7414fd-9e86-4df9-a955-b4d4f047ff6f\");\n",
       "    if (element == null) {\n",
       "      console.log(\"Bokeh: ERROR: autoload.js configured with elementid '4d7414fd-9e86-4df9-a955-b4d4f047ff6f' but no matching script tag was found. \")\n",
       "      return false;\n",
       "    }\n",
       "  \n",
       "    var js_urls = [];\n",
       "  \n",
       "    var inline_js = [\n",
       "      function(Bokeh) {\n",
       "        Bokeh.$(function() {\n",
       "            var docs_json = {\"803b4f0f-8f44-47fe-93c5-ffad63140010\":{\"roots\":{\"references\":[{\"attributes\":{\"callback\":null,\"column_names\":[\"x\",\"y\"],\"data\":{\"x\":[0.0,0.12693303650867852,0.25386607301735703,0.3807991095260356,0.5077321460347141,0.6346651825433925,0.7615982190520711,0.8885312555607496,1.0154642920694281,1.1423973285781066,1.269330365086785,1.3962634015954636,1.5231964381041423,1.6501294746128208,1.7770625111214993,1.9039955476301778,2.0309285841388562,2.1578616206475347,2.284794657156213,2.4117276936648917,2.53866073017357,2.6655937666822487,2.792526803190927,2.9194598396996057,3.0463928762082846,3.173325912716963,3.3002589492256416,3.42719198573432,3.5541250222429985,3.681058058751677,3.8079910952603555,3.934924131769034,4.0618571682777125,4.188790204786391,4.3157232412950695,4.442656277803748,4.569589314312426,4.696522350821105,4.823455387329783,4.950388423838462,5.07732146034714,5.204254496855819,5.331187533364497,5.458120569873176,5.585053606381854,5.711986642890533,5.838919679399211,5.96585271590789,6.092785752416569,6.219718788925247,6.346651825433926,6.473584861942604,6.600517898451283,6.727450934959961,6.85438397146864,6.981317007977318,7.108250044485997,7.235183080994675,7.362116117503354,7.489049154012032,7.615982190520711,7.742915227029389,7.869848263538068,7.996781300046746,8.123714336555425,8.250647373064103,8.377580409572783,8.50451344608146,8.631446482590139,8.758379519098817,8.885312555607497,9.012245592116175,9.139178628624853,9.266111665133531,9.39304470164221,9.519977738150889,9.646910774659567,9.773843811168245,9.900776847676925,10.027709884185603,10.15464292069428,10.28157595720296,10.408508993711639,10.535442030220317,10.662375066728995,10.789308103237675,10.916241139746353,11.04317417625503,11.170107212763709,11.297040249272388,11.423973285781067,11.550906322289745,11.677839358798423,11.804772395307102,11.93170543181578,12.058638468324459,12.185571504833138,12.312504541341816,12.439437577850494,12.566370614359172],\"y\":[1.0,1.3394701397578994,1.7941802553030468,2.403250877321636,3.219082788519306,4.311865272630204,5.7756147793472135,7.736263535680001,10.362493999341233,13.880251285537993,18.592182129314338,24.903672795156997,33.35772607941396,44.68167801359834,59.84977349349203,80.1669844658064,107.38128188638304,143.83402065573588,192.6613757496791,258.06415990137185,345.6692363295955,463.0136202964096,620.1929186882427,830.7298954722,1112.737889189214,1490.4791759461866,1996.4523501108772,2674.1883084230035,3581.995387222301,4797.975861934807,6426.745398340843,8608.433556904047,11530.739699562853,15445.08151688543,20688.225497994656,27711.260299141868,37118.40570575905,49718.99607828353,66597.11062560082,89204.84107714592,119487.22094468573,160049.56453806136,214381.61257998776,287157.76856404037,384639.2563910413,515212.7985144831,690112.1592312524,924384.6303741123,1238185.6100372677,1658512.6521228373,2221528.1739292233,2975670.653609085,3985821.986263245,5338889.5329901315,7151283.108906285,9578930.185334997,12830690.954081843,17186327.405454405,23020572.37170905,30835369.292039927,41303056.4150952,55324210.74875592,74105128.30363165,99261606.56564245,132957958.01907484,178093214.60973492,238550543.06323594,319531329.2562351,428002674.2558762,573296801.9022726,767913947.3667961,1028597802.4014416,1377776042.1373258,1845489867.7167673,2471978571.0323734,3311141482.019262,4435175143.6785145,5940784669.553815,7957503671.59886,10658838555.120512,14277195969.084143,19123877680.060112,25615863108.823067,34311683738.394417,45959475812.395966,61561345489.63001,82459584046.67896,110452150567.38321,147947357557.0532,198171067703.75854,265444227753.12534,355554616846.4061,476254792318.8215,637929073227.6631,854486944871.8843,1144559747468.842,1533103604903.3606,2053546499923.2417,2750664217251.527,3684432583508.952]}},\"id\":\"ec8a3f9a-deec-434e-8bee-c0fbe7b03aeb\",\"type\":\"ColumnDataSource\"},{\"attributes\":{\"dimension\":1,\"plot\":{\"id\":\"6150d385-af83-4a73-9b06-994d8d1da61b\",\"subtype\":\"Figure\",\"type\":\"Plot\"},\"ticker\":{\"id\":\"dce72e3d-0e57-4183-899b-c2134f531569\",\"type\":\"LogTicker\"}},\"id\":\"349260b5-124e-4e64-b226-74f8946dd115\",\"type\":\"Grid\"},{\"attributes\":{\"ticker\":null},\"id\":\"0d8b3ff4-3696-4193-8433-844f18b8b02a\",\"type\":\"LogTickFormatter\"},{\"attributes\":{},\"id\":\"3c626f87-9f29-4402-8c92-a7461b83241c\",\"type\":\"ToolEvents\"},{\"attributes\":{\"line_alpha\":{\"value\":0.1},\"line_color\":{\"value\":\"#1f77b4\"},\"line_width\":{\"value\":2},\"x\":{\"field\":\"x\"},\"y\":{\"field\":\"y\"}},\"id\":\"da36af2f-0944-4dca-9e26-e27499856a87\",\"type\":\"Line\"},{\"attributes\":{\"data_source\":{\"id\":\"ec8a3f9a-deec-434e-8bee-c0fbe7b03aeb\",\"type\":\"ColumnDataSource\"},\"glyph\":{\"id\":\"a7d3ef51-db7d-46d0-8b8f-6a6860633c3a\",\"type\":\"Line\"},\"hover_glyph\":null,\"nonselection_glyph\":{\"id\":\"da36af2f-0944-4dca-9e26-e27499856a87\",\"type\":\"Line\"},\"selection_glyph\":null},\"id\":\"a3eeb17a-abf0-4b46-a277-f9852a85f67c\",\"type\":\"GlyphRenderer\"},{\"attributes\":{\"num_minor_ticks\":10},\"id\":\"dce72e3d-0e57-4183-899b-c2134f531569\",\"type\":\"LogTicker\"},{\"attributes\":{\"line_color\":{\"value\":\"#1f77b4\"},\"line_width\":{\"value\":2},\"x\":{\"field\":\"x\"},\"y\":{\"field\":\"y\"}},\"id\":\"a7d3ef51-db7d-46d0-8b8f-6a6860633c3a\",\"type\":\"Line\"},{\"attributes\":{\"plot\":{\"id\":\"6150d385-af83-4a73-9b06-994d8d1da61b\",\"subtype\":\"Figure\",\"type\":\"Plot\"},\"ticker\":{\"id\":\"792b21d7-470e-4252-8a3c-8cec42835327\",\"type\":\"BasicTicker\"}},\"id\":\"d2d9e986-c128-4f32-b80e-f796e91cb85a\",\"type\":\"Grid\"},{\"attributes\":{\"callback\":null,\"end\":1000,\"start\":1},\"id\":\"affa604d-6b31-4061-9e9c-807cb10753d0\",\"type\":\"Range1d\"},{\"attributes\":{\"formatter\":{\"id\":\"bfb9e3ba-500b-4e96-8f89-4a60243392da\",\"type\":\"BasicTickFormatter\"},\"plot\":{\"id\":\"6150d385-af83-4a73-9b06-994d8d1da61b\",\"subtype\":\"Figure\",\"type\":\"Plot\"},\"ticker\":{\"id\":\"792b21d7-470e-4252-8a3c-8cec42835327\",\"type\":\"BasicTicker\"}},\"id\":\"882a23c3-c14f-4776-b753-0b41faa72892\",\"type\":\"LinearAxis\"},{\"attributes\":{\"formatter\":{\"id\":\"0d8b3ff4-3696-4193-8433-844f18b8b02a\",\"type\":\"LogTickFormatter\"},\"plot\":{\"id\":\"6150d385-af83-4a73-9b06-994d8d1da61b\",\"subtype\":\"Figure\",\"type\":\"Plot\"},\"ticker\":{\"id\":\"dce72e3d-0e57-4183-899b-c2134f531569\",\"type\":\"LogTicker\"}},\"id\":\"77eafc7d-2631-445a-98c8-6f0795a3a69d\",\"type\":\"LogAxis\"},{\"attributes\":{\"plot\":null,\"text\":null},\"id\":\"e9aa73b2-7bc5-43cd-b877-c0328204ebd0\",\"type\":\"Title\"},{\"attributes\":{\"below\":[{\"id\":\"882a23c3-c14f-4776-b753-0b41faa72892\",\"type\":\"LinearAxis\"}],\"left\":[{\"id\":\"77eafc7d-2631-445a-98c8-6f0795a3a69d\",\"type\":\"LogAxis\"}],\"renderers\":[{\"id\":\"882a23c3-c14f-4776-b753-0b41faa72892\",\"type\":\"LinearAxis\"},{\"id\":\"d2d9e986-c128-4f32-b80e-f796e91cb85a\",\"type\":\"Grid\"},{\"id\":\"77eafc7d-2631-445a-98c8-6f0795a3a69d\",\"type\":\"LogAxis\"},{\"id\":\"349260b5-124e-4e64-b226-74f8946dd115\",\"type\":\"Grid\"},{\"id\":\"7e4c7590-def8-446b-9414-fc01df6ce84a\",\"type\":\"BoxAnnotation\"},{\"id\":\"a3eeb17a-abf0-4b46-a277-f9852a85f67c\",\"type\":\"GlyphRenderer\"}],\"title\":{\"id\":\"e9aa73b2-7bc5-43cd-b877-c0328204ebd0\",\"type\":\"Title\"},\"tool_events\":{\"id\":\"3c626f87-9f29-4402-8c92-a7461b83241c\",\"type\":\"ToolEvents\"},\"toolbar\":{\"id\":\"01c9570e-43d3-418b-83d6-3a8db814cdbb\",\"type\":\"Toolbar\"},\"x_range\":{\"id\":\"3f2606b9-c935-4029-8d12-c0be701471eb\",\"type\":\"Range1d\"},\"y_mapper_type\":\"log\",\"y_range\":{\"id\":\"affa604d-6b31-4061-9e9c-807cb10753d0\",\"type\":\"Range1d\"}},\"id\":\"6150d385-af83-4a73-9b06-994d8d1da61b\",\"subtype\":\"Figure\",\"type\":\"Plot\"},{\"attributes\":{},\"id\":\"bfb9e3ba-500b-4e96-8f89-4a60243392da\",\"type\":\"BasicTickFormatter\"},{\"attributes\":{\"callback\":null,\"end\":20,\"start\":-10},\"id\":\"3f2606b9-c935-4029-8d12-c0be701471eb\",\"type\":\"Range1d\"},{\"attributes\":{\"plot\":{\"id\":\"6150d385-af83-4a73-9b06-994d8d1da61b\",\"subtype\":\"Figure\",\"type\":\"Plot\"}},\"id\":\"a4ddb649-c12b-4c86-b0ad-977fb5d2fe8f\",\"type\":\"HelpTool\"},{\"attributes\":{\"plot\":{\"id\":\"6150d385-af83-4a73-9b06-994d8d1da61b\",\"subtype\":\"Figure\",\"type\":\"Plot\"}},\"id\":\"ebe0acf0-0443-4cd8-aa90-9c80087a1ada\",\"type\":\"WheelZoomTool\"},{\"attributes\":{\"plot\":{\"id\":\"6150d385-af83-4a73-9b06-994d8d1da61b\",\"subtype\":\"Figure\",\"type\":\"Plot\"}},\"id\":\"971219da-1cf6-4044-8070-460a7db5f0b5\",\"type\":\"ResetTool\"},{\"attributes\":{\"active_drag\":\"auto\",\"active_scroll\":\"auto\",\"active_tap\":\"auto\",\"tools\":[{\"id\":\"20e2b3da-b850-4b53-a3dc-35c02ffe18f2\",\"type\":\"PanTool\"},{\"id\":\"ebe0acf0-0443-4cd8-aa90-9c80087a1ada\",\"type\":\"WheelZoomTool\"},{\"id\":\"e5998721-8257-4960-bdc2-763668891c85\",\"type\":\"BoxZoomTool\"},{\"id\":\"e1188737-7a80-42a0-a8b4-16f3666123ff\",\"type\":\"SaveTool\"},{\"id\":\"971219da-1cf6-4044-8070-460a7db5f0b5\",\"type\":\"ResetTool\"},{\"id\":\"a4ddb649-c12b-4c86-b0ad-977fb5d2fe8f\",\"type\":\"HelpTool\"}]},\"id\":\"01c9570e-43d3-418b-83d6-3a8db814cdbb\",\"type\":\"Toolbar\"},{\"attributes\":{\"plot\":{\"id\":\"6150d385-af83-4a73-9b06-994d8d1da61b\",\"subtype\":\"Figure\",\"type\":\"Plot\"}},\"id\":\"e1188737-7a80-42a0-a8b4-16f3666123ff\",\"type\":\"SaveTool\"},{\"attributes\":{\"overlay\":{\"id\":\"7e4c7590-def8-446b-9414-fc01df6ce84a\",\"type\":\"BoxAnnotation\"},\"plot\":{\"id\":\"6150d385-af83-4a73-9b06-994d8d1da61b\",\"subtype\":\"Figure\",\"type\":\"Plot\"}},\"id\":\"e5998721-8257-4960-bdc2-763668891c85\",\"type\":\"BoxZoomTool\"},{\"attributes\":{\"plot\":{\"id\":\"6150d385-af83-4a73-9b06-994d8d1da61b\",\"subtype\":\"Figure\",\"type\":\"Plot\"}},\"id\":\"20e2b3da-b850-4b53-a3dc-35c02ffe18f2\",\"type\":\"PanTool\"},{\"attributes\":{\"bottom_units\":\"screen\",\"fill_alpha\":{\"value\":0.5},\"fill_color\":{\"value\":\"lightgrey\"},\"left_units\":\"screen\",\"level\":\"overlay\",\"line_alpha\":{\"value\":1.0},\"line_color\":{\"value\":\"black\"},\"line_dash\":[4,4],\"line_width\":{\"value\":2},\"plot\":null,\"render_mode\":\"css\",\"right_units\":\"screen\",\"top_units\":\"screen\"},\"id\":\"7e4c7590-def8-446b-9414-fc01df6ce84a\",\"type\":\"BoxAnnotation\"},{\"attributes\":{},\"id\":\"792b21d7-470e-4252-8a3c-8cec42835327\",\"type\":\"BasicTicker\"}],\"root_ids\":[\"6150d385-af83-4a73-9b06-994d8d1da61b\"]},\"title\":\"Bokeh Application\",\"version\":\"0.12.1\"}};\n",
       "            var render_items = [{\"docid\":\"803b4f0f-8f44-47fe-93c5-ffad63140010\",\"elementid\":\"4d7414fd-9e86-4df9-a955-b4d4f047ff6f\",\"modelid\":\"6150d385-af83-4a73-9b06-994d8d1da61b\",\"notebook_comms_target\":\"64297b8f-1f19-4189-8bc6-424a6421fd86\"}];\n",
       "            \n",
       "            Bokeh.embed.embed_items(docs_json, render_items);\n",
       "        });\n",
       "      },\n",
       "      function(Bokeh) {\n",
       "      }\n",
       "    ];\n",
       "  \n",
       "    function run_inline_js() {\n",
       "      for (var i = 0; i < inline_js.length; i++) {\n",
       "        inline_js[i](window.Bokeh);\n",
       "      }\n",
       "    }\n",
       "  \n",
       "    if (window._bokeh_is_loading === 0) {\n",
       "      console.log(\"Bokeh: BokehJS loaded, going straight to plotting\");\n",
       "      run_inline_js();\n",
       "    } else {\n",
       "      load_libs(js_urls, function() {\n",
       "        console.log(\"Bokeh: BokehJS plotting callback run at\", now());\n",
       "        run_inline_js();\n",
       "      });\n",
       "    }\n",
       "  }(this));\n",
       "</script>"
      ]
     },
     "metadata": {},
     "output_type": "display_data"
    },
    {
     "data": {
      "text/html": [
       "<p><code>&lt;Bokeh Notebook handle for <strong>In[12]</strong>&gt;</code></p>"
      ],
      "text/plain": [
       "<bokeh.io._CommsHandle at 0x83f8630>"
      ]
     },
     "execution_count": 12,
     "metadata": {},
     "output_type": "execute_result"
    }
   ],
   "source": [
    "from bokeh.models import Range1d\n",
    "\n",
    "logX = 10**x\n",
    "\n",
    "plot = figure(y_axis_type='log',  x_range=(-10,20))\n",
    "plot.y_range=Range1d(1,1000)\n",
    "plot.line(x,logX,line_width=2)\n",
    "show(plot)"
   ]
  },
  {
   "cell_type": "markdown",
   "metadata": {},
   "source": [
    "### Categorical Ranges"
   ]
  },
  {
   "cell_type": "markdown",
   "metadata": {},
   "source": [
    "By providing a list of 'factors' to the `y_range` parameter the yxais tic labels can easily be changed to arbitrary strings.\n",
    "\n",
    "When using Pandas DataFrames this process can be simplified. (see below)"
   ]
  },
  {
   "cell_type": "code",
   "execution_count": 13,
   "metadata": {
    "collapsed": false
   },
   "outputs": [
    {
     "data": {
      "text/html": [
       "\n",
       "\n",
       "    <div class=\"bk-root\">\n",
       "        <div class=\"plotdiv\" id=\"5172e31f-9b9b-4b8d-86e6-b18e15976025\"></div>\n",
       "    </div>\n",
       "<script type=\"text/javascript\">\n",
       "  \n",
       "  (function(global) {\n",
       "    function now() {\n",
       "      return new Date();\n",
       "    }\n",
       "  \n",
       "    var force = \"\";\n",
       "  \n",
       "    if (typeof (window._bokeh_onload_callbacks) === \"undefined\" || force !== \"\") {\n",
       "      window._bokeh_onload_callbacks = [];\n",
       "      window._bokeh_is_loading = undefined;\n",
       "    }\n",
       "  \n",
       "    function run_callbacks() {\n",
       "      window._bokeh_onload_callbacks.forEach(function(callback) { callback() });\n",
       "      delete window._bokeh_onload_callbacks\n",
       "      console.info(\"Bokeh: all callbacks have finished\");\n",
       "    }\n",
       "  \n",
       "    function load_libs(js_urls, callback) {\n",
       "      window._bokeh_onload_callbacks.push(callback);\n",
       "      if (window._bokeh_is_loading > 0) {\n",
       "        console.log(\"Bokeh: BokehJS is being loaded, scheduling callback at\", now());\n",
       "        return null;\n",
       "      }\n",
       "      if (js_urls == null || js_urls.length === 0) {\n",
       "        run_callbacks();\n",
       "        return null;\n",
       "      }\n",
       "      console.log(\"Bokeh: BokehJS not loaded, scheduling load and callback at\", now());\n",
       "      window._bokeh_is_loading = js_urls.length;\n",
       "      for (var i = 0; i < js_urls.length; i++) {\n",
       "        var url = js_urls[i];\n",
       "        var s = document.createElement('script');\n",
       "        s.src = url;\n",
       "        s.async = false;\n",
       "        s.onreadystatechange = s.onload = function() {\n",
       "          window._bokeh_is_loading--;\n",
       "          if (window._bokeh_is_loading === 0) {\n",
       "            console.log(\"Bokeh: all BokehJS libraries loaded\");\n",
       "            run_callbacks()\n",
       "          }\n",
       "        };\n",
       "        s.onerror = function() {\n",
       "          console.warn(\"failed to load library \" + url);\n",
       "        };\n",
       "        console.log(\"Bokeh: injecting script tag for BokehJS library: \", url);\n",
       "        document.getElementsByTagName(\"head\")[0].appendChild(s);\n",
       "      }\n",
       "    };var element = document.getElementById(\"5172e31f-9b9b-4b8d-86e6-b18e15976025\");\n",
       "    if (element == null) {\n",
       "      console.log(\"Bokeh: ERROR: autoload.js configured with elementid '5172e31f-9b9b-4b8d-86e6-b18e15976025' but no matching script tag was found. \")\n",
       "      return false;\n",
       "    }\n",
       "  \n",
       "    var js_urls = [];\n",
       "  \n",
       "    var inline_js = [\n",
       "      function(Bokeh) {\n",
       "        Bokeh.$(function() {\n",
       "            var docs_json = {\"2901088e-b966-438a-95e0-97cdc44fa34f\":{\"roots\":{\"references\":[{\"attributes\":{\"plot\":{\"id\":\"089e68c5-9ea3-4061-a285-0cf8b1a7e8a4\",\"subtype\":\"Figure\",\"type\":\"Plot\"},\"ticker\":{\"id\":\"c7d1a20a-1563-4ca6-9ade-ab11baae23c2\",\"type\":\"BasicTicker\"}},\"id\":\"7bfbfc3d-9cdf-418a-a37d-cb7765063d39\",\"type\":\"Grid\"},{\"attributes\":{\"active_drag\":\"auto\",\"active_scroll\":\"auto\",\"active_tap\":\"auto\",\"tools\":[{\"id\":\"e3eca995-ad58-4569-ba4a-eda1dfc3697f\",\"type\":\"PanTool\"},{\"id\":\"26f48f10-8a15-456d-8f07-1023117bc284\",\"type\":\"WheelZoomTool\"},{\"id\":\"6bf6543e-b416-4bc9-a507-8ecf72ca15df\",\"type\":\"BoxZoomTool\"},{\"id\":\"c213eeca-011c-410c-ab73-921a212703fa\",\"type\":\"SaveTool\"},{\"id\":\"71fe7943-97bb-46d2-a664-b04c76aecb53\",\"type\":\"ResetTool\"},{\"id\":\"5bc7663b-ee8c-43bd-8b96-f5788650f6fe\",\"type\":\"HelpTool\"}]},\"id\":\"5b4b39e6-0d2d-4306-8b8a-f94c45bf213a\",\"type\":\"Toolbar\"},{\"attributes\":{\"plot\":{\"id\":\"089e68c5-9ea3-4061-a285-0cf8b1a7e8a4\",\"subtype\":\"Figure\",\"type\":\"Plot\"}},\"id\":\"c213eeca-011c-410c-ab73-921a212703fa\",\"type\":\"SaveTool\"},{\"attributes\":{\"callback\":null},\"id\":\"e169ad4c-da8a-49ea-8a20-d9c327326180\",\"type\":\"DataRange1d\"},{\"attributes\":{},\"id\":\"c7d1a20a-1563-4ca6-9ade-ab11baae23c2\",\"type\":\"BasicTicker\"},{\"attributes\":{\"plot\":{\"id\":\"089e68c5-9ea3-4061-a285-0cf8b1a7e8a4\",\"subtype\":\"Figure\",\"type\":\"Plot\"}},\"id\":\"71fe7943-97bb-46d2-a664-b04c76aecb53\",\"type\":\"ResetTool\"},{\"attributes\":{},\"id\":\"7fbc7dce-03fe-4731-8fa5-7381789f3419\",\"type\":\"BasicTickFormatter\"},{\"attributes\":{},\"id\":\"7160cb68-b9a0-4657-a926-9849df3da707\",\"type\":\"CategoricalTicker\"},{\"attributes\":{\"callback\":null,\"column_names\":[\"y\",\"x\"],\"data\":{\"x\":[50,40,65,10,25,37,80,60],\"y\":[\"a\",\"b\",\"c\",\"d\",\"e\",\"f\",\"g\",\"h\"]}},\"id\":\"1d397451-4629-479a-9fbd-d2c2d6776e05\",\"type\":\"ColumnDataSource\"},{\"attributes\":{\"data_source\":{\"id\":\"1d397451-4629-479a-9fbd-d2c2d6776e05\",\"type\":\"ColumnDataSource\"},\"glyph\":{\"id\":\"c838fd19-a693-4cc1-875e-f97e6f214268\",\"type\":\"Circle\"},\"hover_glyph\":null,\"nonselection_glyph\":{\"id\":\"73324a1c-cb3f-4408-857c-5bfcfe667c98\",\"type\":\"Circle\"},\"selection_glyph\":null},\"id\":\"b98131b7-4491-427d-b267-711d3586c3e3\",\"type\":\"GlyphRenderer\"},{\"attributes\":{\"formatter\":{\"id\":\"b8d121a6-1d3f-4222-b2c0-72961f558476\",\"type\":\"CategoricalTickFormatter\"},\"plot\":{\"id\":\"089e68c5-9ea3-4061-a285-0cf8b1a7e8a4\",\"subtype\":\"Figure\",\"type\":\"Plot\"},\"ticker\":{\"id\":\"7160cb68-b9a0-4657-a926-9849df3da707\",\"type\":\"CategoricalTicker\"}},\"id\":\"34f45df1-c011-4684-9f5e-8b71fde05b11\",\"type\":\"CategoricalAxis\"},{\"attributes\":{\"fill_alpha\":{\"value\":0.1},\"fill_color\":{\"value\":\"#1f77b4\"},\"line_alpha\":{\"value\":0.1},\"line_color\":{\"value\":\"#1f77b4\"},\"line_width\":{\"value\":3},\"size\":{\"units\":\"screen\",\"value\":15},\"x\":{\"field\":\"x\"},\"y\":{\"field\":\"y\"}},\"id\":\"73324a1c-cb3f-4408-857c-5bfcfe667c98\",\"type\":\"Circle\"},{\"attributes\":{\"bottom_units\":\"screen\",\"fill_alpha\":{\"value\":0.5},\"fill_color\":{\"value\":\"lightgrey\"},\"left_units\":\"screen\",\"level\":\"overlay\",\"line_alpha\":{\"value\":1.0},\"line_color\":{\"value\":\"black\"},\"line_dash\":[4,4],\"line_width\":{\"value\":2},\"plot\":null,\"render_mode\":\"css\",\"right_units\":\"screen\",\"top_units\":\"screen\"},\"id\":\"cd5248e2-41d5-4fd4-9d87-ae85f80d3065\",\"type\":\"BoxAnnotation\"},{\"attributes\":{},\"id\":\"b8d121a6-1d3f-4222-b2c0-72961f558476\",\"type\":\"CategoricalTickFormatter\"},{\"attributes\":{\"below\":[{\"id\":\"fa169836-c240-4007-a1e0-53103ec9a596\",\"type\":\"LinearAxis\"}],\"left\":[{\"id\":\"34f45df1-c011-4684-9f5e-8b71fde05b11\",\"type\":\"CategoricalAxis\"}],\"renderers\":[{\"id\":\"fa169836-c240-4007-a1e0-53103ec9a596\",\"type\":\"LinearAxis\"},{\"id\":\"7bfbfc3d-9cdf-418a-a37d-cb7765063d39\",\"type\":\"Grid\"},{\"id\":\"34f45df1-c011-4684-9f5e-8b71fde05b11\",\"type\":\"CategoricalAxis\"},{\"id\":\"feccf636-81cf-4697-9d65-4382671f2353\",\"type\":\"Grid\"},{\"id\":\"cd5248e2-41d5-4fd4-9d87-ae85f80d3065\",\"type\":\"BoxAnnotation\"},{\"id\":\"b98131b7-4491-427d-b267-711d3586c3e3\",\"type\":\"GlyphRenderer\"}],\"title\":{\"id\":\"3a9bba33-1be0-46af-8500-2ff6bb2aa3e7\",\"type\":\"Title\"},\"tool_events\":{\"id\":\"f60bb84e-6ba3-462f-98fa-504a3d289a7b\",\"type\":\"ToolEvents\"},\"toolbar\":{\"id\":\"5b4b39e6-0d2d-4306-8b8a-f94c45bf213a\",\"type\":\"Toolbar\"},\"x_range\":{\"id\":\"e169ad4c-da8a-49ea-8a20-d9c327326180\",\"type\":\"DataRange1d\"},\"y_range\":{\"id\":\"cc622e4e-25d9-42ef-bd02-5d875bc1c6bb\",\"type\":\"FactorRange\"}},\"id\":\"089e68c5-9ea3-4061-a285-0cf8b1a7e8a4\",\"subtype\":\"Figure\",\"type\":\"Plot\"},{\"attributes\":{},\"id\":\"f60bb84e-6ba3-462f-98fa-504a3d289a7b\",\"type\":\"ToolEvents\"},{\"attributes\":{\"plot\":null,\"text\":null},\"id\":\"3a9bba33-1be0-46af-8500-2ff6bb2aa3e7\",\"type\":\"Title\"},{\"attributes\":{\"dimension\":1,\"plot\":{\"id\":\"089e68c5-9ea3-4061-a285-0cf8b1a7e8a4\",\"subtype\":\"Figure\",\"type\":\"Plot\"},\"ticker\":{\"id\":\"7160cb68-b9a0-4657-a926-9849df3da707\",\"type\":\"CategoricalTicker\"}},\"id\":\"feccf636-81cf-4697-9d65-4382671f2353\",\"type\":\"Grid\"},{\"attributes\":{\"formatter\":{\"id\":\"7fbc7dce-03fe-4731-8fa5-7381789f3419\",\"type\":\"BasicTickFormatter\"},\"plot\":{\"id\":\"089e68c5-9ea3-4061-a285-0cf8b1a7e8a4\",\"subtype\":\"Figure\",\"type\":\"Plot\"},\"ticker\":{\"id\":\"c7d1a20a-1563-4ca6-9ade-ab11baae23c2\",\"type\":\"BasicTicker\"}},\"id\":\"fa169836-c240-4007-a1e0-53103ec9a596\",\"type\":\"LinearAxis\"},{\"attributes\":{\"plot\":{\"id\":\"089e68c5-9ea3-4061-a285-0cf8b1a7e8a4\",\"subtype\":\"Figure\",\"type\":\"Plot\"}},\"id\":\"e3eca995-ad58-4569-ba4a-eda1dfc3697f\",\"type\":\"PanTool\"},{\"attributes\":{\"plot\":{\"id\":\"089e68c5-9ea3-4061-a285-0cf8b1a7e8a4\",\"subtype\":\"Figure\",\"type\":\"Plot\"}},\"id\":\"5bc7663b-ee8c-43bd-8b96-f5788650f6fe\",\"type\":\"HelpTool\"},{\"attributes\":{\"callback\":null,\"factors\":[\"a\",\"b\",\"c\",\"d\",\"e\",\"f\",\"g\",\"h\"]},\"id\":\"cc622e4e-25d9-42ef-bd02-5d875bc1c6bb\",\"type\":\"FactorRange\"},{\"attributes\":{\"overlay\":{\"id\":\"cd5248e2-41d5-4fd4-9d87-ae85f80d3065\",\"type\":\"BoxAnnotation\"},\"plot\":{\"id\":\"089e68c5-9ea3-4061-a285-0cf8b1a7e8a4\",\"subtype\":\"Figure\",\"type\":\"Plot\"}},\"id\":\"6bf6543e-b416-4bc9-a507-8ecf72ca15df\",\"type\":\"BoxZoomTool\"},{\"attributes\":{\"fill_color\":{\"value\":\"orange\"},\"line_color\":{\"value\":\"green\"},\"line_width\":{\"value\":3},\"size\":{\"units\":\"screen\",\"value\":15},\"x\":{\"field\":\"x\"},\"y\":{\"field\":\"y\"}},\"id\":\"c838fd19-a693-4cc1-875e-f97e6f214268\",\"type\":\"Circle\"},{\"attributes\":{\"plot\":{\"id\":\"089e68c5-9ea3-4061-a285-0cf8b1a7e8a4\",\"subtype\":\"Figure\",\"type\":\"Plot\"}},\"id\":\"26f48f10-8a15-456d-8f07-1023117bc284\",\"type\":\"WheelZoomTool\"}],\"root_ids\":[\"089e68c5-9ea3-4061-a285-0cf8b1a7e8a4\"]},\"title\":\"Bokeh Application\",\"version\":\"0.12.1\"}};\n",
       "            var render_items = [{\"docid\":\"2901088e-b966-438a-95e0-97cdc44fa34f\",\"elementid\":\"5172e31f-9b9b-4b8d-86e6-b18e15976025\",\"modelid\":\"089e68c5-9ea3-4061-a285-0cf8b1a7e8a4\",\"notebook_comms_target\":\"8aab4287-3a89-4120-ad01-28e8eed147c2\"}];\n",
       "            \n",
       "            Bokeh.embed.embed_items(docs_json, render_items);\n",
       "        });\n",
       "      },\n",
       "      function(Bokeh) {\n",
       "      }\n",
       "    ];\n",
       "  \n",
       "    function run_inline_js() {\n",
       "      for (var i = 0; i < inline_js.length; i++) {\n",
       "        inline_js[i](window.Bokeh);\n",
       "      }\n",
       "    }\n",
       "  \n",
       "    if (window._bokeh_is_loading === 0) {\n",
       "      console.log(\"Bokeh: BokehJS loaded, going straight to plotting\");\n",
       "      run_inline_js();\n",
       "    } else {\n",
       "      load_libs(js_urls, function() {\n",
       "        console.log(\"Bokeh: BokehJS plotting callback run at\", now());\n",
       "        run_inline_js();\n",
       "      });\n",
       "    }\n",
       "  }(this));\n",
       "</script>"
      ]
     },
     "metadata": {},
     "output_type": "display_data"
    },
    {
     "data": {
      "text/html": [
       "<p><code>&lt;Bokeh Notebook handle for <strong>In[13]</strong>&gt;</code></p>"
      ],
      "text/plain": [
       "<bokeh.io._CommsHandle at 0x84472e8>"
      ]
     },
     "execution_count": 13,
     "metadata": {},
     "output_type": "execute_result"
    }
   ],
   "source": [
    "x2 = [50, 40, 65, 10, 25, 37, 80, 60]\n",
    "factors = [\"a\", \"b\", \"c\", \"d\", \"e\", \"f\", \"g\", \"h\"]\n",
    "\n",
    "plot = figure(y_range=factors)\n",
    "\n",
    "plot.circle(x2, factors, size=15, fill_color=\"orange\", line_color=\"green\", line_width=3)\n",
    "show(plot)"
   ]
  },
  {
   "cell_type": "code",
   "execution_count": 14,
   "metadata": {
    "collapsed": false
   },
   "outputs": [
    {
     "data": {
      "text/plain": [
       "<bokeh.models.ranges.FactorRange at 0x83c85c0>"
      ]
     },
     "execution_count": 14,
     "metadata": {},
     "output_type": "execute_result"
    }
   ],
   "source": [
    "plot.y_range"
   ]
  },
  {
   "cell_type": "markdown",
   "metadata": {},
   "source": [
    "### Twin Axes"
   ]
  },
  {
   "cell_type": "markdown",
   "metadata": {},
   "source": [
    "Extra axes can be added as dictionary associations using the `extra_y_ranges` and `extra_x_ranges` member functions of the Figure object. The range is set in the dictionary using `Range1d`. The dictionary keys are arbitrary associations.\n",
    "\n",
    "The new axis is rendered using the `add_layout` function."
   ]
  },
  {
   "cell_type": "code",
   "execution_count": 15,
   "metadata": {
    "collapsed": false,
    "scrolled": false
   },
   "outputs": [
    {
     "data": {
      "text/html": [
       "\n",
       "\n",
       "    <div class=\"bk-root\">\n",
       "        <div class=\"plotdiv\" id=\"63b515c1-e930-4869-a314-d87c4221f722\"></div>\n",
       "    </div>\n",
       "<script type=\"text/javascript\">\n",
       "  \n",
       "  (function(global) {\n",
       "    function now() {\n",
       "      return new Date();\n",
       "    }\n",
       "  \n",
       "    var force = \"\";\n",
       "  \n",
       "    if (typeof (window._bokeh_onload_callbacks) === \"undefined\" || force !== \"\") {\n",
       "      window._bokeh_onload_callbacks = [];\n",
       "      window._bokeh_is_loading = undefined;\n",
       "    }\n",
       "  \n",
       "    function run_callbacks() {\n",
       "      window._bokeh_onload_callbacks.forEach(function(callback) { callback() });\n",
       "      delete window._bokeh_onload_callbacks\n",
       "      console.info(\"Bokeh: all callbacks have finished\");\n",
       "    }\n",
       "  \n",
       "    function load_libs(js_urls, callback) {\n",
       "      window._bokeh_onload_callbacks.push(callback);\n",
       "      if (window._bokeh_is_loading > 0) {\n",
       "        console.log(\"Bokeh: BokehJS is being loaded, scheduling callback at\", now());\n",
       "        return null;\n",
       "      }\n",
       "      if (js_urls == null || js_urls.length === 0) {\n",
       "        run_callbacks();\n",
       "        return null;\n",
       "      }\n",
       "      console.log(\"Bokeh: BokehJS not loaded, scheduling load and callback at\", now());\n",
       "      window._bokeh_is_loading = js_urls.length;\n",
       "      for (var i = 0; i < js_urls.length; i++) {\n",
       "        var url = js_urls[i];\n",
       "        var s = document.createElement('script');\n",
       "        s.src = url;\n",
       "        s.async = false;\n",
       "        s.onreadystatechange = s.onload = function() {\n",
       "          window._bokeh_is_loading--;\n",
       "          if (window._bokeh_is_loading === 0) {\n",
       "            console.log(\"Bokeh: all BokehJS libraries loaded\");\n",
       "            run_callbacks()\n",
       "          }\n",
       "        };\n",
       "        s.onerror = function() {\n",
       "          console.warn(\"failed to load library \" + url);\n",
       "        };\n",
       "        console.log(\"Bokeh: injecting script tag for BokehJS library: \", url);\n",
       "        document.getElementsByTagName(\"head\")[0].appendChild(s);\n",
       "      }\n",
       "    };var element = document.getElementById(\"63b515c1-e930-4869-a314-d87c4221f722\");\n",
       "    if (element == null) {\n",
       "      console.log(\"Bokeh: ERROR: autoload.js configured with elementid '63b515c1-e930-4869-a314-d87c4221f722' but no matching script tag was found. \")\n",
       "      return false;\n",
       "    }\n",
       "  \n",
       "    var js_urls = [];\n",
       "  \n",
       "    var inline_js = [\n",
       "      function(Bokeh) {\n",
       "        Bokeh.$(function() {\n",
       "            var docs_json = {\"d3049415-78fa-4173-8821-e159a5d04641\":{\"roots\":{\"references\":[{\"attributes\":{},\"id\":\"79ce0d1f-790d-4ee7-945b-6eaafa43bff1\",\"type\":\"BasicTicker\"},{\"attributes\":{\"plot\":{\"id\":\"bad9a373-c721-42ac-8dd7-bf46f3aad51a\",\"subtype\":\"Figure\",\"type\":\"Plot\"}},\"id\":\"933dcdab-4441-47b9-ae3e-44d3a463d6c0\",\"type\":\"HelpTool\"},{\"attributes\":{},\"id\":\"6bfd09c0-21e3-4042-a8f3-0fbaf59e2f09\",\"type\":\"BasicTickFormatter\"},{\"attributes\":{\"plot\":{\"id\":\"bad9a373-c721-42ac-8dd7-bf46f3aad51a\",\"subtype\":\"Figure\",\"type\":\"Plot\"},\"ticker\":{\"id\":\"53e06151-283f-4b9e-aaad-bb6f08ad3cb0\",\"type\":\"BasicTicker\"}},\"id\":\"60a6c22c-3566-4480-8bba-6f756561adbf\",\"type\":\"Grid\"},{\"attributes\":{\"callback\":null,\"column_names\":[\"x\",\"y\"],\"data\":{\"x\":[0.0,0.12693303650867852,0.25386607301735703,0.3807991095260356,0.5077321460347141,0.6346651825433925,0.7615982190520711,0.8885312555607496,1.0154642920694281,1.1423973285781066,1.269330365086785,1.3962634015954636,1.5231964381041423,1.6501294746128208,1.7770625111214993,1.9039955476301778,2.0309285841388562,2.1578616206475347,2.284794657156213,2.4117276936648917,2.53866073017357,2.6655937666822487,2.792526803190927,2.9194598396996057,3.0463928762082846,3.173325912716963,3.3002589492256416,3.42719198573432,3.5541250222429985,3.681058058751677,3.8079910952603555,3.934924131769034,4.0618571682777125,4.188790204786391,4.3157232412950695,4.442656277803748,4.569589314312426,4.696522350821105,4.823455387329783,4.950388423838462,5.07732146034714,5.204254496855819,5.331187533364497,5.458120569873176,5.585053606381854,5.711986642890533,5.838919679399211,5.96585271590789,6.092785752416569,6.219718788925247,6.346651825433926,6.473584861942604,6.600517898451283,6.727450934959961,6.85438397146864,6.981317007977318,7.108250044485997,7.235183080994675,7.362116117503354,7.489049154012032,7.615982190520711,7.742915227029389,7.869848263538068,7.996781300046746,8.123714336555425,8.250647373064103,8.377580409572783,8.50451344608146,8.631446482590139,8.758379519098817,8.885312555607497,9.012245592116175,9.139178628624853,9.266111665133531,9.39304470164221,9.519977738150889,9.646910774659567,9.773843811168245,9.900776847676925,10.027709884185603,10.15464292069428,10.28157595720296,10.408508993711639,10.535442030220317,10.662375066728995,10.789308103237675,10.916241139746353,11.04317417625503,11.170107212763709,11.297040249272388,11.423973285781067,11.550906322289745,11.677839358798423,11.804772395307102,11.93170543181578,12.058638468324459,12.185571504833138,12.312504541341816,12.439437577850494,12.566370614359172],\"y\":[0.0,0.12659245357374926,0.2511479871810792,0.3716624556603276,0.48619673610046865,0.5929079290546404,0.690079011482112,0.7761464642917568,0.8497254299495144,0.9096319953545183,0.9549022414440739,0.984807753012208,0.998867339183008,0.9968547759519424,0.9788024462147787,0.9450008187146685,0.8959937742913359,0.8325698546347714,0.7557495743542583,0.6667690005162916,0.5670598638627709,0.4582265217274105,0.3420201433256689,0.2203105327865408,0.09505604330418244,-0.03172793349806786,-0.15800139597335008,-0.28173255684142984,-0.4009305354066138,-0.5136773915734064,-0.6181589862206053,-0.7126941713788629,-0.7957618405308321,-0.8660254037844388,-0.9223542941045814,-0.9638421585599422,-0.9898214418809327,-0.9998741276738751,-0.9938384644612541,-0.9718115683235417,-0.9341478602651068,-0.881453363447582,-0.8145759520503358,-0.7345917086575331,-0.6427876096865396,-0.5406408174555974,-0.4297949120891719,-0.31203344569848707,-0.18925124436040974,-0.06342391965656452,0.06342391965656492,0.18925124436041013,0.31203344569848745,0.42979491208917153,0.5406408174555978,0.6427876096865393,0.7345917086575334,0.8145759520503356,0.8814533634475821,0.9341478602651067,0.9718115683235418,0.9938384644612541,0.9998741276738751,0.9898214418809328,0.963842158559942,0.9223542941045816,0.8660254037844383,0.7957618405308319,0.7126941713788629,0.6181589862206056,0.5136773915734058,0.40093053540661344,0.2817325568414299,0.15800139597335056,0.03172793349806701,-0.09505604330418282,-0.22031053278654034,-0.342020143325668,-0.45822652172741085,-0.5670598638627707,-0.6667690005162913,-0.7557495743542588,-0.8325698546347716,-0.8959937742913359,-0.9450008187146683,-0.9788024462147789,-0.9968547759519424,-0.998867339183008,-0.9848077530122081,-0.9549022414440737,-0.9096319953545183,-0.8497254299495145,-0.7761464642917573,-0.6900790114821116,-0.5929079290546404,-0.486196736100469,-0.37166245566032663,-0.2511479871810788,-0.1265924535737493,-4.898587196589413e-16]}},\"id\":\"9762a39a-8d78-45a8-8887-423ae2893a4f\",\"type\":\"ColumnDataSource\"},{\"attributes\":{\"formatter\":{\"id\":\"6bfd09c0-21e3-4042-a8f3-0fbaf59e2f09\",\"type\":\"BasicTickFormatter\"},\"plot\":{\"id\":\"bad9a373-c721-42ac-8dd7-bf46f3aad51a\",\"subtype\":\"Figure\",\"type\":\"Plot\"},\"ticker\":{\"id\":\"79ce0d1f-790d-4ee7-945b-6eaafa43bff1\",\"type\":\"BasicTicker\"},\"y_range_name\":\"xSqRange\"},\"id\":\"4a4eaeaf-aaa5-43ee-a9f7-a337a5649ad1\",\"type\":\"LinearAxis\"},{\"attributes\":{\"bottom_units\":\"screen\",\"fill_alpha\":{\"value\":0.5},\"fill_color\":{\"value\":\"lightgrey\"},\"left_units\":\"screen\",\"level\":\"overlay\",\"line_alpha\":{\"value\":1.0},\"line_color\":{\"value\":\"black\"},\"line_dash\":[4,4],\"line_width\":{\"value\":2},\"plot\":null,\"render_mode\":\"css\",\"right_units\":\"screen\",\"top_units\":\"screen\"},\"id\":\"c652bd18-2f50-40a5-b830-4e2fc6a44d37\",\"type\":\"BoxAnnotation\"},{\"attributes\":{\"fill_alpha\":{\"value\":0.1},\"fill_color\":{\"value\":\"#1f77b4\"},\"line_alpha\":{\"value\":0.1},\"line_color\":{\"value\":\"#1f77b4\"},\"x\":{\"field\":\"x\"},\"y\":{\"field\":\"y\"}},\"id\":\"01fc25a6-418d-40a8-9cac-4823d5aaa116\",\"type\":\"Circle\"},{\"attributes\":{\"callback\":null,\"column_names\":[\"x\",\"y\"],\"data\":{\"x\":[0.0,0.12693303650867852,0.25386607301735703,0.3807991095260356,0.5077321460347141,0.6346651825433925,0.7615982190520711,0.8885312555607496,1.0154642920694281,1.1423973285781066,1.269330365086785,1.3962634015954636,1.5231964381041423,1.6501294746128208,1.7770625111214993,1.9039955476301778,2.0309285841388562,2.1578616206475347,2.284794657156213,2.4117276936648917,2.53866073017357,2.6655937666822487,2.792526803190927,2.9194598396996057,3.0463928762082846,3.173325912716963,3.3002589492256416,3.42719198573432,3.5541250222429985,3.681058058751677,3.8079910952603555,3.934924131769034,4.0618571682777125,4.188790204786391,4.3157232412950695,4.442656277803748,4.569589314312426,4.696522350821105,4.823455387329783,4.950388423838462,5.07732146034714,5.204254496855819,5.331187533364497,5.458120569873176,5.585053606381854,5.711986642890533,5.838919679399211,5.96585271590789,6.092785752416569,6.219718788925247,6.346651825433926,6.473584861942604,6.600517898451283,6.727450934959961,6.85438397146864,6.981317007977318,7.108250044485997,7.235183080994675,7.362116117503354,7.489049154012032,7.615982190520711,7.742915227029389,7.869848263538068,7.996781300046746,8.123714336555425,8.250647373064103,8.377580409572783,8.50451344608146,8.631446482590139,8.758379519098817,8.885312555607497,9.012245592116175,9.139178628624853,9.266111665133531,9.39304470164221,9.519977738150889,9.646910774659567,9.773843811168245,9.900776847676925,10.027709884185603,10.15464292069428,10.28157595720296,10.408508993711639,10.535442030220317,10.662375066728995,10.789308103237675,10.916241139746353,11.04317417625503,11.170107212763709,11.297040249272388,11.423973285781067,11.550906322289745,11.677839358798423,11.804772395307102,11.93170543181578,12.058638468324459,12.185571504833138,12.312504541341816,12.439437577850494,12.566370614359172],\"y\":[0.0,0.016111995757313514,0.06444798302925406,0.14500796181582162,0.25779193211701623,0.40279989393283777,0.5800318472632865,0.7894877921083622,1.031167728468065,1.3050716563423945,1.611199575731351,1.9495514866349348,2.320127389053146,2.722927282985984,3.1579511684334487,3.6251990453955405,4.12467091387226,4.656366773863605,5.220286625369578,5.816430468390178,6.444798302925404,7.105390128975259,7.798205946539739,8.523245755618847,9.280509556212584,10.069997348320946,10.891709131943935,11.745644907081552,12.631804673733795,13.550188431900665,14.500796181582162,15.483627922778286,16.49868365548904,17.54596337971442,18.62546709545442,19.737194802709055,20.881146501478312,22.057322191762204,23.26572187356071,24.506345546873856,25.779193211701617,27.084264868044016,28.421560515901035,29.791080155272688,31.192823786158957,32.62679140855987,34.09298302247539,35.59139862790555,37.122038224850336,38.68490181330974,40.279989393283785,41.907300964772446,43.56683652777574,45.25859608229366,46.98257962832621,48.738787165873376,50.52721869493518,52.3478742155116,54.20075372760266,56.08585723120834,58.00318472632865,59.95273621296358,61.934511691113144,63.94851116077733,65.99473462195616,68.07318207464958,70.18385351885767,72.32674895458037,74.50186838181769,76.70921180056962,78.94877921083622,81.22057061261742,83.52458600591325,85.86082539072369,88.22928876704881,90.62997613488851,93.06288749424284,95.5280228451118,98.02538218749542,100.55496552139364,103.11677284680647,105.71080416373397,108.33705947217607,110.99553877213279,113.68624206360414,116.40916934659015,119.16432062109075,121.95169588710597,124.77129514463583,127.62311839368034,130.50716563423947,133.42343686631318,136.37193208990155,139.35265130500457,142.3655945116222,145.41076170975444,148.48815289940134,151.59776808056284,154.73960725323897,157.91367041742973]}},\"id\":\"27bc31c8-be84-445c-877b-412779e9f9cf\",\"type\":\"ColumnDataSource\"},{\"attributes\":{\"plot\":{\"id\":\"bad9a373-c721-42ac-8dd7-bf46f3aad51a\",\"subtype\":\"Figure\",\"type\":\"Plot\"}},\"id\":\"96f90e6f-6e51-4417-9ec6-cffba2349de2\",\"type\":\"ResetTool\"},{\"attributes\":{\"callback\":null},\"id\":\"a9b50652-79c2-4d3e-bcff-b2e46cd61ebc\",\"type\":\"DataRange1d\"},{\"attributes\":{\"line_alpha\":{\"value\":0.1},\"line_color\":{\"value\":\"#1f77b4\"},\"line_width\":{\"value\":2},\"x\":{\"field\":\"x\"},\"y\":{\"field\":\"y\"}},\"id\":\"8aebc3b4-091d-4afb-9457-aa30b066f997\",\"type\":\"Line\"},{\"attributes\":{\"active_drag\":\"auto\",\"active_scroll\":\"auto\",\"active_tap\":\"auto\",\"tools\":[{\"id\":\"dbb121c7-4931-479a-acc6-0ff3b43fb859\",\"type\":\"PanTool\"},{\"id\":\"1b752080-f7ed-404b-98f5-7de7a57059d4\",\"type\":\"WheelZoomTool\"},{\"id\":\"c51b4586-35e5-44f8-9308-8726a6da09d1\",\"type\":\"BoxZoomTool\"},{\"id\":\"e0aec0bb-1292-452a-94c6-87e4da08f5fe\",\"type\":\"SaveTool\"},{\"id\":\"96f90e6f-6e51-4417-9ec6-cffba2349de2\",\"type\":\"ResetTool\"},{\"id\":\"933dcdab-4441-47b9-ae3e-44d3a463d6c0\",\"type\":\"HelpTool\"}]},\"id\":\"b8669be8-5ef5-46f5-8757-d2f742708d27\",\"type\":\"Toolbar\"},{\"attributes\":{\"plot\":null,\"text\":null},\"id\":\"adfec840-0863-4467-b1df-8abfec3f54ec\",\"type\":\"Title\"},{\"attributes\":{\"callback\":null,\"end\":100},\"id\":\"e0787006-a07d-4a63-beca-ecd881808b72\",\"type\":\"Range1d\"},{\"attributes\":{\"dimension\":1,\"plot\":{\"id\":\"bad9a373-c721-42ac-8dd7-bf46f3aad51a\",\"subtype\":\"Figure\",\"type\":\"Plot\"},\"ticker\":{\"id\":\"0728f5ad-0416-4753-88e5-3efa8e1b9c7e\",\"type\":\"BasicTicker\"}},\"id\":\"a820ac8f-1421-415d-b6a7-70c23c5f52a3\",\"type\":\"Grid\"},{\"attributes\":{\"callback\":null,\"end\":1.2,\"start\":-1.2},\"id\":\"730c43d6-4a2e-4b4d-9cb8-b93cffedbbde\",\"type\":\"Range1d\"},{\"attributes\":{},\"id\":\"0728f5ad-0416-4753-88e5-3efa8e1b9c7e\",\"type\":\"BasicTicker\"},{\"attributes\":{\"overlay\":{\"id\":\"c652bd18-2f50-40a5-b830-4e2fc6a44d37\",\"type\":\"BoxAnnotation\"},\"plot\":{\"id\":\"bad9a373-c721-42ac-8dd7-bf46f3aad51a\",\"subtype\":\"Figure\",\"type\":\"Plot\"}},\"id\":\"c51b4586-35e5-44f8-9308-8726a6da09d1\",\"type\":\"BoxZoomTool\"},{\"attributes\":{\"data_source\":{\"id\":\"9762a39a-8d78-45a8-8887-423ae2893a4f\",\"type\":\"ColumnDataSource\"},\"glyph\":{\"id\":\"034d6013-0752-4275-a8be-9f615a0d8899\",\"type\":\"Line\"},\"hover_glyph\":null,\"nonselection_glyph\":{\"id\":\"8aebc3b4-091d-4afb-9457-aa30b066f997\",\"type\":\"Line\"},\"selection_glyph\":null},\"id\":\"0ad4fa66-8896-4f1d-a927-8f22ffb47690\",\"type\":\"GlyphRenderer\"},{\"attributes\":{\"below\":[{\"id\":\"a39cffa2-826f-484c-b639-c7979d826f93\",\"type\":\"LinearAxis\"}],\"extra_y_ranges\":{\"xSqRange\":{\"id\":\"e0787006-a07d-4a63-beca-ecd881808b72\",\"type\":\"Range1d\"}},\"left\":[{\"id\":\"0c5f91bd-bab5-4fdd-9f0e-03ba06b44227\",\"type\":\"LinearAxis\"},{\"id\":\"4a4eaeaf-aaa5-43ee-a9f7-a337a5649ad1\",\"type\":\"LinearAxis\"}],\"renderers\":[{\"id\":\"a39cffa2-826f-484c-b639-c7979d826f93\",\"type\":\"LinearAxis\"},{\"id\":\"60a6c22c-3566-4480-8bba-6f756561adbf\",\"type\":\"Grid\"},{\"id\":\"0c5f91bd-bab5-4fdd-9f0e-03ba06b44227\",\"type\":\"LinearAxis\"},{\"id\":\"a820ac8f-1421-415d-b6a7-70c23c5f52a3\",\"type\":\"Grid\"},{\"id\":\"c652bd18-2f50-40a5-b830-4e2fc6a44d37\",\"type\":\"BoxAnnotation\"},{\"id\":\"0ad4fa66-8896-4f1d-a927-8f22ffb47690\",\"type\":\"GlyphRenderer\"},{\"id\":\"6292bcde-44a2-4592-bf26-adfc2758a317\",\"type\":\"GlyphRenderer\"},{\"id\":\"4a4eaeaf-aaa5-43ee-a9f7-a337a5649ad1\",\"type\":\"LinearAxis\"}],\"title\":{\"id\":\"adfec840-0863-4467-b1df-8abfec3f54ec\",\"type\":\"Title\"},\"tool_events\":{\"id\":\"9998de2b-dddb-45ae-bf4b-95b0d443cc65\",\"type\":\"ToolEvents\"},\"toolbar\":{\"id\":\"b8669be8-5ef5-46f5-8757-d2f742708d27\",\"type\":\"Toolbar\"},\"x_range\":{\"id\":\"a9b50652-79c2-4d3e-bcff-b2e46cd61ebc\",\"type\":\"DataRange1d\"},\"y_range\":{\"id\":\"730c43d6-4a2e-4b4d-9cb8-b93cffedbbde\",\"type\":\"Range1d\"}},\"id\":\"bad9a373-c721-42ac-8dd7-bf46f3aad51a\",\"subtype\":\"Figure\",\"type\":\"Plot\"},{\"attributes\":{\"data_source\":{\"id\":\"27bc31c8-be84-445c-877b-412779e9f9cf\",\"type\":\"ColumnDataSource\"},\"glyph\":{\"id\":\"e0be6ba4-1273-4b34-b67c-d71d85b8bee5\",\"type\":\"Circle\"},\"hover_glyph\":null,\"nonselection_glyph\":{\"id\":\"01fc25a6-418d-40a8-9cac-4823d5aaa116\",\"type\":\"Circle\"},\"selection_glyph\":null,\"y_range_name\":\"xSqRange\"},\"id\":\"6292bcde-44a2-4592-bf26-adfc2758a317\",\"type\":\"GlyphRenderer\"},{\"attributes\":{\"plot\":{\"id\":\"bad9a373-c721-42ac-8dd7-bf46f3aad51a\",\"subtype\":\"Figure\",\"type\":\"Plot\"}},\"id\":\"dbb121c7-4931-479a-acc6-0ff3b43fb859\",\"type\":\"PanTool\"},{\"attributes\":{},\"id\":\"9998de2b-dddb-45ae-bf4b-95b0d443cc65\",\"type\":\"ToolEvents\"},{\"attributes\":{\"line_color\":{\"value\":\"#1f77b4\"},\"line_width\":{\"value\":2},\"x\":{\"field\":\"x\"},\"y\":{\"field\":\"y\"}},\"id\":\"034d6013-0752-4275-a8be-9f615a0d8899\",\"type\":\"Line\"},{\"attributes\":{\"plot\":{\"id\":\"bad9a373-c721-42ac-8dd7-bf46f3aad51a\",\"subtype\":\"Figure\",\"type\":\"Plot\"}},\"id\":\"e0aec0bb-1292-452a-94c6-87e4da08f5fe\",\"type\":\"SaveTool\"},{\"attributes\":{},\"id\":\"53e06151-283f-4b9e-aaad-bb6f08ad3cb0\",\"type\":\"BasicTicker\"},{\"attributes\":{\"formatter\":{\"id\":\"a9af97b4-22a1-4e54-929c-57fcdf4e06d5\",\"type\":\"BasicTickFormatter\"},\"plot\":{\"id\":\"bad9a373-c721-42ac-8dd7-bf46f3aad51a\",\"subtype\":\"Figure\",\"type\":\"Plot\"},\"ticker\":{\"id\":\"53e06151-283f-4b9e-aaad-bb6f08ad3cb0\",\"type\":\"BasicTicker\"}},\"id\":\"a39cffa2-826f-484c-b639-c7979d826f93\",\"type\":\"LinearAxis\"},{\"attributes\":{},\"id\":\"a9af97b4-22a1-4e54-929c-57fcdf4e06d5\",\"type\":\"BasicTickFormatter\"},{\"attributes\":{},\"id\":\"1ccebbca-f6a2-4070-b546-18db944f18bc\",\"type\":\"BasicTickFormatter\"},{\"attributes\":{\"plot\":{\"id\":\"bad9a373-c721-42ac-8dd7-bf46f3aad51a\",\"subtype\":\"Figure\",\"type\":\"Plot\"}},\"id\":\"1b752080-f7ed-404b-98f5-7de7a57059d4\",\"type\":\"WheelZoomTool\"},{\"attributes\":{\"fill_color\":{\"value\":\"red\"},\"line_color\":{\"value\":\"red\"},\"x\":{\"field\":\"x\"},\"y\":{\"field\":\"y\"}},\"id\":\"e0be6ba4-1273-4b34-b67c-d71d85b8bee5\",\"type\":\"Circle\"},{\"attributes\":{\"formatter\":{\"id\":\"1ccebbca-f6a2-4070-b546-18db944f18bc\",\"type\":\"BasicTickFormatter\"},\"plot\":{\"id\":\"bad9a373-c721-42ac-8dd7-bf46f3aad51a\",\"subtype\":\"Figure\",\"type\":\"Plot\"},\"ticker\":{\"id\":\"0728f5ad-0416-4753-88e5-3efa8e1b9c7e\",\"type\":\"BasicTicker\"}},\"id\":\"0c5f91bd-bab5-4fdd-9f0e-03ba06b44227\",\"type\":\"LinearAxis\"}],\"root_ids\":[\"bad9a373-c721-42ac-8dd7-bf46f3aad51a\"]},\"title\":\"Bokeh Application\",\"version\":\"0.12.1\"}};\n",
       "            var render_items = [{\"docid\":\"d3049415-78fa-4173-8821-e159a5d04641\",\"elementid\":\"63b515c1-e930-4869-a314-d87c4221f722\",\"modelid\":\"bad9a373-c721-42ac-8dd7-bf46f3aad51a\",\"notebook_comms_target\":\"681d4a60-e5d4-4bea-9a16-2c22f8a272eb\"}];\n",
       "            \n",
       "            Bokeh.embed.embed_items(docs_json, render_items);\n",
       "        });\n",
       "      },\n",
       "      function(Bokeh) {\n",
       "      }\n",
       "    ];\n",
       "  \n",
       "    function run_inline_js() {\n",
       "      for (var i = 0; i < inline_js.length; i++) {\n",
       "        inline_js[i](window.Bokeh);\n",
       "      }\n",
       "    }\n",
       "  \n",
       "    if (window._bokeh_is_loading === 0) {\n",
       "      console.log(\"Bokeh: BokehJS loaded, going straight to plotting\");\n",
       "      run_inline_js();\n",
       "    } else {\n",
       "      load_libs(js_urls, function() {\n",
       "        console.log(\"Bokeh: BokehJS plotting callback run at\", now());\n",
       "        run_inline_js();\n",
       "      });\n",
       "    }\n",
       "  }(this));\n",
       "</script>"
      ]
     },
     "metadata": {},
     "output_type": "display_data"
    },
    {
     "data": {
      "text/html": [
       "<p><code>&lt;Bokeh Notebook handle for <strong>In[15]</strong>&gt;</code></p>"
      ],
      "text/plain": [
       "<bokeh.io._CommsHandle at 0x84568d0>"
      ]
     },
     "execution_count": 15,
     "metadata": {},
     "output_type": "execute_result"
    }
   ],
   "source": [
    "from bokeh.models import LinearAxis, Range1d\n",
    "\n",
    "plot = figure( y_range=(-1.2, 1.2) )\n",
    "plot.line(x,y,line_width=2)\n",
    "\n",
    "y2 = x**2\n",
    "\n",
    "plot.extra_y_ranges = {\"xSqRange\": Range1d(start=0, end=100)}\n",
    "plot.circle(x,y2, y_range_name='xSqRange', color='red')\n",
    "plot.add_layout(LinearAxis(y_range_name=\"xSqRange\"), 'left')\n",
    "\n",
    "show(plot)"
   ]
  },
  {
   "cell_type": "markdown",
   "metadata": {},
   "source": [
    "### Grid lines and Bands"
   ]
  },
  {
   "cell_type": "markdown",
   "metadata": {},
   "source": [
    "Like axes grid lines are also controlled by `grid`, `xgrid` and `ygrid` members of Figure. Again they return a *splattable* list.\n",
    "\n",
    "All of the [text properties](#Basic-Properties) apply. To operate on minor grid lines prepend `minor_` to the property attributes."
   ]
  },
  {
   "cell_type": "code",
   "execution_count": 16,
   "metadata": {
    "collapsed": false
   },
   "outputs": [
    {
     "data": {
      "text/html": [
       "\n",
       "\n",
       "    <div class=\"bk-root\">\n",
       "        <div class=\"plotdiv\" id=\"888c96bb-8c5b-440d-b169-8760d16da082\"></div>\n",
       "    </div>\n",
       "<script type=\"text/javascript\">\n",
       "  \n",
       "  (function(global) {\n",
       "    function now() {\n",
       "      return new Date();\n",
       "    }\n",
       "  \n",
       "    var force = \"\";\n",
       "  \n",
       "    if (typeof (window._bokeh_onload_callbacks) === \"undefined\" || force !== \"\") {\n",
       "      window._bokeh_onload_callbacks = [];\n",
       "      window._bokeh_is_loading = undefined;\n",
       "    }\n",
       "  \n",
       "    function run_callbacks() {\n",
       "      window._bokeh_onload_callbacks.forEach(function(callback) { callback() });\n",
       "      delete window._bokeh_onload_callbacks\n",
       "      console.info(\"Bokeh: all callbacks have finished\");\n",
       "    }\n",
       "  \n",
       "    function load_libs(js_urls, callback) {\n",
       "      window._bokeh_onload_callbacks.push(callback);\n",
       "      if (window._bokeh_is_loading > 0) {\n",
       "        console.log(\"Bokeh: BokehJS is being loaded, scheduling callback at\", now());\n",
       "        return null;\n",
       "      }\n",
       "      if (js_urls == null || js_urls.length === 0) {\n",
       "        run_callbacks();\n",
       "        return null;\n",
       "      }\n",
       "      console.log(\"Bokeh: BokehJS not loaded, scheduling load and callback at\", now());\n",
       "      window._bokeh_is_loading = js_urls.length;\n",
       "      for (var i = 0; i < js_urls.length; i++) {\n",
       "        var url = js_urls[i];\n",
       "        var s = document.createElement('script');\n",
       "        s.src = url;\n",
       "        s.async = false;\n",
       "        s.onreadystatechange = s.onload = function() {\n",
       "          window._bokeh_is_loading--;\n",
       "          if (window._bokeh_is_loading === 0) {\n",
       "            console.log(\"Bokeh: all BokehJS libraries loaded\");\n",
       "            run_callbacks()\n",
       "          }\n",
       "        };\n",
       "        s.onerror = function() {\n",
       "          console.warn(\"failed to load library \" + url);\n",
       "        };\n",
       "        console.log(\"Bokeh: injecting script tag for BokehJS library: \", url);\n",
       "        document.getElementsByTagName(\"head\")[0].appendChild(s);\n",
       "      }\n",
       "    };var element = document.getElementById(\"888c96bb-8c5b-440d-b169-8760d16da082\");\n",
       "    if (element == null) {\n",
       "      console.log(\"Bokeh: ERROR: autoload.js configured with elementid '888c96bb-8c5b-440d-b169-8760d16da082' but no matching script tag was found. \")\n",
       "      return false;\n",
       "    }\n",
       "  \n",
       "    var js_urls = [];\n",
       "  \n",
       "    var inline_js = [\n",
       "      function(Bokeh) {\n",
       "        Bokeh.$(function() {\n",
       "            var docs_json = {\"f19dd604-8322-4ecc-a9d6-1d0775e8ab81\":{\"roots\":{\"references\":[{\"attributes\":{\"line_color\":{\"value\":\"#1f77b4\"},\"line_width\":{\"value\":2},\"x\":{\"field\":\"x\"},\"y\":{\"field\":\"y\"}},\"id\":\"fb1c1779-3c74-4b80-9a89-33d77be6f0fe\",\"type\":\"Line\"},{\"attributes\":{\"grid_line_color\":{\"value\":null},\"grid_line_width\":{\"value\":1.5},\"plot\":{\"id\":\"d0baee32-5f9a-4bb0-8aa6-fb88246888a7\",\"subtype\":\"Figure\",\"type\":\"Plot\"},\"ticker\":{\"id\":\"ff397107-1abe-494b-8fc0-4aebd90b2052\",\"type\":\"BasicTicker\"}},\"id\":\"af173b6e-e009-47aa-85d0-05fed0b906bb\",\"type\":\"Grid\"},{\"attributes\":{\"plot\":null,\"text\":null},\"id\":\"cb318913-7fbf-479c-aecc-9dc195c31b6e\",\"type\":\"Title\"},{\"attributes\":{\"data_source\":{\"id\":\"cd7262ed-37ea-4735-968e-8d9378a9a41d\",\"type\":\"ColumnDataSource\"},\"glyph\":{\"id\":\"fb1c1779-3c74-4b80-9a89-33d77be6f0fe\",\"type\":\"Line\"},\"hover_glyph\":null,\"nonselection_glyph\":{\"id\":\"524c801c-8f5d-45b1-b628-29e6f1b3fe95\",\"type\":\"Line\"},\"selection_glyph\":null},\"id\":\"80a2c065-26dc-4205-b759-36debf4d4f86\",\"type\":\"GlyphRenderer\"},{\"attributes\":{},\"id\":\"493730f7-8313-43d7-a0fd-cd0c097c21f5\",\"type\":\"ToolEvents\"},{\"attributes\":{\"callback\":null,\"column_names\":[\"x\",\"y\"],\"data\":{\"x\":[0.0,0.12693303650867852,0.25386607301735703,0.3807991095260356,0.5077321460347141,0.6346651825433925,0.7615982190520711,0.8885312555607496,1.0154642920694281,1.1423973285781066,1.269330365086785,1.3962634015954636,1.5231964381041423,1.6501294746128208,1.7770625111214993,1.9039955476301778,2.0309285841388562,2.1578616206475347,2.284794657156213,2.4117276936648917,2.53866073017357,2.6655937666822487,2.792526803190927,2.9194598396996057,3.0463928762082846,3.173325912716963,3.3002589492256416,3.42719198573432,3.5541250222429985,3.681058058751677,3.8079910952603555,3.934924131769034,4.0618571682777125,4.188790204786391,4.3157232412950695,4.442656277803748,4.569589314312426,4.696522350821105,4.823455387329783,4.950388423838462,5.07732146034714,5.204254496855819,5.331187533364497,5.458120569873176,5.585053606381854,5.711986642890533,5.838919679399211,5.96585271590789,6.092785752416569,6.219718788925247,6.346651825433926,6.473584861942604,6.600517898451283,6.727450934959961,6.85438397146864,6.981317007977318,7.108250044485997,7.235183080994675,7.362116117503354,7.489049154012032,7.615982190520711,7.742915227029389,7.869848263538068,7.996781300046746,8.123714336555425,8.250647373064103,8.377580409572783,8.50451344608146,8.631446482590139,8.758379519098817,8.885312555607497,9.012245592116175,9.139178628624853,9.266111665133531,9.39304470164221,9.519977738150889,9.646910774659567,9.773843811168245,9.900776847676925,10.027709884185603,10.15464292069428,10.28157595720296,10.408508993711639,10.535442030220317,10.662375066728995,10.789308103237675,10.916241139746353,11.04317417625503,11.170107212763709,11.297040249272388,11.423973285781067,11.550906322289745,11.677839358798423,11.804772395307102,11.93170543181578,12.058638468324459,12.185571504833138,12.312504541341816,12.439437577850494,12.566370614359172],\"y\":[0.0,0.12659245357374926,0.2511479871810792,0.3716624556603276,0.48619673610046865,0.5929079290546404,0.690079011482112,0.7761464642917568,0.8497254299495144,0.9096319953545183,0.9549022414440739,0.984807753012208,0.998867339183008,0.9968547759519424,0.9788024462147787,0.9450008187146685,0.8959937742913359,0.8325698546347714,0.7557495743542583,0.6667690005162916,0.5670598638627709,0.4582265217274105,0.3420201433256689,0.2203105327865408,0.09505604330418244,-0.03172793349806786,-0.15800139597335008,-0.28173255684142984,-0.4009305354066138,-0.5136773915734064,-0.6181589862206053,-0.7126941713788629,-0.7957618405308321,-0.8660254037844388,-0.9223542941045814,-0.9638421585599422,-0.9898214418809327,-0.9998741276738751,-0.9938384644612541,-0.9718115683235417,-0.9341478602651068,-0.881453363447582,-0.8145759520503358,-0.7345917086575331,-0.6427876096865396,-0.5406408174555974,-0.4297949120891719,-0.31203344569848707,-0.18925124436040974,-0.06342391965656452,0.06342391965656492,0.18925124436041013,0.31203344569848745,0.42979491208917153,0.5406408174555978,0.6427876096865393,0.7345917086575334,0.8145759520503356,0.8814533634475821,0.9341478602651067,0.9718115683235418,0.9938384644612541,0.9998741276738751,0.9898214418809328,0.963842158559942,0.9223542941045816,0.8660254037844383,0.7957618405308319,0.7126941713788629,0.6181589862206056,0.5136773915734058,0.40093053540661344,0.2817325568414299,0.15800139597335056,0.03172793349806701,-0.09505604330418282,-0.22031053278654034,-0.342020143325668,-0.45822652172741085,-0.5670598638627707,-0.6667690005162913,-0.7557495743542588,-0.8325698546347716,-0.8959937742913359,-0.9450008187146683,-0.9788024462147789,-0.9968547759519424,-0.998867339183008,-0.9848077530122081,-0.9549022414440737,-0.9096319953545183,-0.8497254299495145,-0.7761464642917573,-0.6900790114821116,-0.5929079290546404,-0.486196736100469,-0.37166245566032663,-0.2511479871810788,-0.1265924535737493,-4.898587196589413e-16]}},\"id\":\"cd7262ed-37ea-4735-968e-8d9378a9a41d\",\"type\":\"ColumnDataSource\"},{\"attributes\":{\"plot\":{\"id\":\"d0baee32-5f9a-4bb0-8aa6-fb88246888a7\",\"subtype\":\"Figure\",\"type\":\"Plot\"}},\"id\":\"c78db7af-b444-4541-95fd-d30933d36e44\",\"type\":\"ResetTool\"},{\"attributes\":{\"plot\":{\"id\":\"d0baee32-5f9a-4bb0-8aa6-fb88246888a7\",\"subtype\":\"Figure\",\"type\":\"Plot\"}},\"id\":\"85ce7d6f-354f-46ab-a66c-6be0ba2569fa\",\"type\":\"HelpTool\"},{\"attributes\":{\"overlay\":{\"id\":\"5aeb4c73-e447-4dec-bed3-ed105a23e2da\",\"type\":\"BoxAnnotation\"},\"plot\":{\"id\":\"d0baee32-5f9a-4bb0-8aa6-fb88246888a7\",\"subtype\":\"Figure\",\"type\":\"Plot\"}},\"id\":\"8cf2dc35-fb5c-4180-99d2-5f0d9be86907\",\"type\":\"BoxZoomTool\"},{\"attributes\":{},\"id\":\"ff397107-1abe-494b-8fc0-4aebd90b2052\",\"type\":\"BasicTicker\"},{\"attributes\":{\"formatter\":{\"id\":\"4f36acf3-20f5-4dd2-8862-ecb3a792a35d\",\"type\":\"BasicTickFormatter\"},\"plot\":{\"id\":\"d0baee32-5f9a-4bb0-8aa6-fb88246888a7\",\"subtype\":\"Figure\",\"type\":\"Plot\"},\"ticker\":{\"id\":\"ff397107-1abe-494b-8fc0-4aebd90b2052\",\"type\":\"BasicTicker\"}},\"id\":\"957c721b-052e-4e96-a6dc-8a18226995c2\",\"type\":\"LinearAxis\"},{\"attributes\":{\"callback\":null,\"end\":1.2,\"start\":-1.2},\"id\":\"dc008462-e5d5-491d-9546-c59dd73ae9a6\",\"type\":\"Range1d\"},{\"attributes\":{\"callback\":null},\"id\":\"c7db159c-52cd-48a8-a0dd-91987a2ad08f\",\"type\":\"DataRange1d\"},{\"attributes\":{\"active_drag\":\"auto\",\"active_scroll\":\"auto\",\"active_tap\":\"auto\",\"tools\":[{\"id\":\"ee62d0ae-a1bd-43f1-afbe-222c2d922408\",\"type\":\"PanTool\"},{\"id\":\"5ff9b171-ebac-47c2-aec1-cb1894a97dd4\",\"type\":\"WheelZoomTool\"},{\"id\":\"8cf2dc35-fb5c-4180-99d2-5f0d9be86907\",\"type\":\"BoxZoomTool\"},{\"id\":\"ad3c39af-274b-4131-a5b8-40a3c4f093e9\",\"type\":\"SaveTool\"},{\"id\":\"c78db7af-b444-4541-95fd-d30933d36e44\",\"type\":\"ResetTool\"},{\"id\":\"85ce7d6f-354f-46ab-a66c-6be0ba2569fa\",\"type\":\"HelpTool\"}]},\"id\":\"8ae316e9-18e2-480f-b894-72336adb922a\",\"type\":\"Toolbar\"},{\"attributes\":{\"line_alpha\":{\"value\":0.1},\"line_color\":{\"value\":\"#1f77b4\"},\"line_width\":{\"value\":2},\"x\":{\"field\":\"x\"},\"y\":{\"field\":\"y\"}},\"id\":\"524c801c-8f5d-45b1-b628-29e6f1b3fe95\",\"type\":\"Line\"},{\"attributes\":{},\"id\":\"874dc695-3535-4f38-a74c-52cb4816b28d\",\"type\":\"BasicTicker\"},{\"attributes\":{},\"id\":\"4f36acf3-20f5-4dd2-8862-ecb3a792a35d\",\"type\":\"BasicTickFormatter\"},{\"attributes\":{\"plot\":{\"id\":\"d0baee32-5f9a-4bb0-8aa6-fb88246888a7\",\"subtype\":\"Figure\",\"type\":\"Plot\"}},\"id\":\"5ff9b171-ebac-47c2-aec1-cb1894a97dd4\",\"type\":\"WheelZoomTool\"},{\"attributes\":{\"dimension\":1,\"grid_line_color\":{\"value\":\"blue\"},\"grid_line_width\":{\"value\":1.5},\"minor_grid_line_color\":{\"value\":\"gray\"},\"plot\":{\"id\":\"d0baee32-5f9a-4bb0-8aa6-fb88246888a7\",\"subtype\":\"Figure\",\"type\":\"Plot\"},\"ticker\":{\"id\":\"874dc695-3535-4f38-a74c-52cb4816b28d\",\"type\":\"BasicTicker\"}},\"id\":\"3fcd5a90-7daa-43cb-9e69-2149e361daa4\",\"type\":\"Grid\"},{\"attributes\":{},\"id\":\"645b9278-82c6-451d-bee7-010e7b7cbc4f\",\"type\":\"BasicTickFormatter\"},{\"attributes\":{\"formatter\":{\"id\":\"645b9278-82c6-451d-bee7-010e7b7cbc4f\",\"type\":\"BasicTickFormatter\"},\"plot\":{\"id\":\"d0baee32-5f9a-4bb0-8aa6-fb88246888a7\",\"subtype\":\"Figure\",\"type\":\"Plot\"},\"ticker\":{\"id\":\"874dc695-3535-4f38-a74c-52cb4816b28d\",\"type\":\"BasicTicker\"}},\"id\":\"62258ee6-7f72-4755-88f3-0ff5f5be0ce1\",\"type\":\"LinearAxis\"},{\"attributes\":{\"bottom_units\":\"screen\",\"fill_alpha\":{\"value\":0.5},\"fill_color\":{\"value\":\"lightgrey\"},\"left_units\":\"screen\",\"level\":\"overlay\",\"line_alpha\":{\"value\":1.0},\"line_color\":{\"value\":\"black\"},\"line_dash\":[4,4],\"line_width\":{\"value\":2},\"plot\":null,\"render_mode\":\"css\",\"right_units\":\"screen\",\"top_units\":\"screen\"},\"id\":\"5aeb4c73-e447-4dec-bed3-ed105a23e2da\",\"type\":\"BoxAnnotation\"},{\"attributes\":{\"below\":[{\"id\":\"957c721b-052e-4e96-a6dc-8a18226995c2\",\"type\":\"LinearAxis\"}],\"left\":[{\"id\":\"62258ee6-7f72-4755-88f3-0ff5f5be0ce1\",\"type\":\"LinearAxis\"}],\"renderers\":[{\"id\":\"957c721b-052e-4e96-a6dc-8a18226995c2\",\"type\":\"LinearAxis\"},{\"id\":\"af173b6e-e009-47aa-85d0-05fed0b906bb\",\"type\":\"Grid\"},{\"id\":\"62258ee6-7f72-4755-88f3-0ff5f5be0ce1\",\"type\":\"LinearAxis\"},{\"id\":\"3fcd5a90-7daa-43cb-9e69-2149e361daa4\",\"type\":\"Grid\"},{\"id\":\"5aeb4c73-e447-4dec-bed3-ed105a23e2da\",\"type\":\"BoxAnnotation\"},{\"id\":\"80a2c065-26dc-4205-b759-36debf4d4f86\",\"type\":\"GlyphRenderer\"}],\"title\":{\"id\":\"cb318913-7fbf-479c-aecc-9dc195c31b6e\",\"type\":\"Title\"},\"tool_events\":{\"id\":\"493730f7-8313-43d7-a0fd-cd0c097c21f5\",\"type\":\"ToolEvents\"},\"toolbar\":{\"id\":\"8ae316e9-18e2-480f-b894-72336adb922a\",\"type\":\"Toolbar\"},\"x_range\":{\"id\":\"c7db159c-52cd-48a8-a0dd-91987a2ad08f\",\"type\":\"DataRange1d\"},\"y_range\":{\"id\":\"dc008462-e5d5-491d-9546-c59dd73ae9a6\",\"type\":\"Range1d\"}},\"id\":\"d0baee32-5f9a-4bb0-8aa6-fb88246888a7\",\"subtype\":\"Figure\",\"type\":\"Plot\"},{\"attributes\":{\"plot\":{\"id\":\"d0baee32-5f9a-4bb0-8aa6-fb88246888a7\",\"subtype\":\"Figure\",\"type\":\"Plot\"}},\"id\":\"ee62d0ae-a1bd-43f1-afbe-222c2d922408\",\"type\":\"PanTool\"},{\"attributes\":{\"plot\":{\"id\":\"d0baee32-5f9a-4bb0-8aa6-fb88246888a7\",\"subtype\":\"Figure\",\"type\":\"Plot\"}},\"id\":\"ad3c39af-274b-4131-a5b8-40a3c4f093e9\",\"type\":\"SaveTool\"}],\"root_ids\":[\"d0baee32-5f9a-4bb0-8aa6-fb88246888a7\"]},\"title\":\"Bokeh Application\",\"version\":\"0.12.1\"}};\n",
       "            var render_items = [{\"docid\":\"f19dd604-8322-4ecc-a9d6-1d0775e8ab81\",\"elementid\":\"888c96bb-8c5b-440d-b169-8760d16da082\",\"modelid\":\"d0baee32-5f9a-4bb0-8aa6-fb88246888a7\",\"notebook_comms_target\":\"df7255cd-0eea-452d-8218-8818d775c3be\"}];\n",
       "            \n",
       "            Bokeh.embed.embed_items(docs_json, render_items);\n",
       "        });\n",
       "      },\n",
       "      function(Bokeh) {\n",
       "      }\n",
       "    ];\n",
       "  \n",
       "    function run_inline_js() {\n",
       "      for (var i = 0; i < inline_js.length; i++) {\n",
       "        inline_js[i](window.Bokeh);\n",
       "      }\n",
       "    }\n",
       "  \n",
       "    if (window._bokeh_is_loading === 0) {\n",
       "      console.log(\"Bokeh: BokehJS loaded, going straight to plotting\");\n",
       "      run_inline_js();\n",
       "    } else {\n",
       "      load_libs(js_urls, function() {\n",
       "        console.log(\"Bokeh: BokehJS plotting callback run at\", now());\n",
       "        run_inline_js();\n",
       "      });\n",
       "    }\n",
       "  }(this));\n",
       "</script>"
      ]
     },
     "metadata": {},
     "output_type": "display_data"
    },
    {
     "data": {
      "text/html": [
       "<p><code>&lt;Bokeh Notebook handle for <strong>In[16]</strong>&gt;</code></p>"
      ],
      "text/plain": [
       "<bokeh.io._CommsHandle at 0x846b630>"
      ]
     },
     "execution_count": 16,
     "metadata": {},
     "output_type": "execute_result"
    }
   ],
   "source": [
    "plot = figure( y_range=(-1.2, 1.2) )\n",
    "plot.line(x,y,line_width=2)\n",
    "\n",
    "plot.grid.grid_line_width=1.5\n",
    "\n",
    "plot.ygrid.grid_line_color='blue'\n",
    "\n",
    "#remove grid lines intersecting the x axis\n",
    "plot.xgrid.grid_line_color = None\n",
    "\n",
    "plot.ygrid.minor_grid_line_color='gray'\n",
    "plot.ygrid.minor_grid_line_width=1\n",
    "\n",
    "show(plot)"
   ]
  },
  {
   "cell_type": "code",
   "execution_count": 17,
   "metadata": {
    "collapsed": false
   },
   "outputs": [
    {
     "data": {
      "text/html": [
       "\n",
       "\n",
       "    <div class=\"bk-root\">\n",
       "        <div class=\"plotdiv\" id=\"8fa0031d-8ee5-4178-9dd7-d0ea4877666c\"></div>\n",
       "    </div>\n",
       "<script type=\"text/javascript\">\n",
       "  \n",
       "  (function(global) {\n",
       "    function now() {\n",
       "      return new Date();\n",
       "    }\n",
       "  \n",
       "    var force = \"\";\n",
       "  \n",
       "    if (typeof (window._bokeh_onload_callbacks) === \"undefined\" || force !== \"\") {\n",
       "      window._bokeh_onload_callbacks = [];\n",
       "      window._bokeh_is_loading = undefined;\n",
       "    }\n",
       "  \n",
       "    function run_callbacks() {\n",
       "      window._bokeh_onload_callbacks.forEach(function(callback) { callback() });\n",
       "      delete window._bokeh_onload_callbacks\n",
       "      console.info(\"Bokeh: all callbacks have finished\");\n",
       "    }\n",
       "  \n",
       "    function load_libs(js_urls, callback) {\n",
       "      window._bokeh_onload_callbacks.push(callback);\n",
       "      if (window._bokeh_is_loading > 0) {\n",
       "        console.log(\"Bokeh: BokehJS is being loaded, scheduling callback at\", now());\n",
       "        return null;\n",
       "      }\n",
       "      if (js_urls == null || js_urls.length === 0) {\n",
       "        run_callbacks();\n",
       "        return null;\n",
       "      }\n",
       "      console.log(\"Bokeh: BokehJS not loaded, scheduling load and callback at\", now());\n",
       "      window._bokeh_is_loading = js_urls.length;\n",
       "      for (var i = 0; i < js_urls.length; i++) {\n",
       "        var url = js_urls[i];\n",
       "        var s = document.createElement('script');\n",
       "        s.src = url;\n",
       "        s.async = false;\n",
       "        s.onreadystatechange = s.onload = function() {\n",
       "          window._bokeh_is_loading--;\n",
       "          if (window._bokeh_is_loading === 0) {\n",
       "            console.log(\"Bokeh: all BokehJS libraries loaded\");\n",
       "            run_callbacks()\n",
       "          }\n",
       "        };\n",
       "        s.onerror = function() {\n",
       "          console.warn(\"failed to load library \" + url);\n",
       "        };\n",
       "        console.log(\"Bokeh: injecting script tag for BokehJS library: \", url);\n",
       "        document.getElementsByTagName(\"head\")[0].appendChild(s);\n",
       "      }\n",
       "    };var element = document.getElementById(\"8fa0031d-8ee5-4178-9dd7-d0ea4877666c\");\n",
       "    if (element == null) {\n",
       "      console.log(\"Bokeh: ERROR: autoload.js configured with elementid '8fa0031d-8ee5-4178-9dd7-d0ea4877666c' but no matching script tag was found. \")\n",
       "      return false;\n",
       "    }\n",
       "  \n",
       "    var js_urls = [];\n",
       "  \n",
       "    var inline_js = [\n",
       "      function(Bokeh) {\n",
       "        Bokeh.$(function() {\n",
       "            var docs_json = {\"6f92fd8f-ffe5-47a9-a5c2-a98447cff70c\":{\"roots\":{\"references\":[{\"attributes\":{\"line_color\":{\"value\":\"#1f77b4\"},\"line_width\":{\"value\":2},\"x\":{\"field\":\"x\"},\"y\":{\"field\":\"y\"}},\"id\":\"897f02ac-8338-41a3-8bc1-96864a51d6c0\",\"type\":\"Line\"},{\"attributes\":{\"band_fill_alpha\":{\"value\":0.1},\"band_fill_color\":{\"value\":\"navy\"},\"dimension\":1,\"grid_line_color\":{\"value\":null},\"plot\":{\"id\":\"741f4302-110b-4f40-a0b1-f982d4fef84f\",\"subtype\":\"Figure\",\"type\":\"Plot\"},\"ticker\":{\"id\":\"4a9bf042-a24b-4623-8d41-7ade62503e71\",\"type\":\"BasicTicker\"}},\"id\":\"e2d8fecd-00c3-4348-9b5f-80d5ac6a0933\",\"type\":\"Grid\"},{\"attributes\":{\"callback\":null},\"id\":\"75435eac-abfb-4e73-8cad-68386da7f840\",\"type\":\"DataRange1d\"},{\"attributes\":{\"plot\":{\"id\":\"741f4302-110b-4f40-a0b1-f982d4fef84f\",\"subtype\":\"Figure\",\"type\":\"Plot\"}},\"id\":\"8793baad-c63d-41ab-88b7-c8c6e1142115\",\"type\":\"ResetTool\"},{\"attributes\":{\"line_alpha\":{\"value\":0.1},\"line_color\":{\"value\":\"#1f77b4\"},\"line_width\":{\"value\":2},\"x\":{\"field\":\"x\"},\"y\":{\"field\":\"y\"}},\"id\":\"34d0763a-9b7d-4b65-b954-55f0306d4f1b\",\"type\":\"Line\"},{\"attributes\":{\"plot\":null,\"text\":null},\"id\":\"8a932e5d-fb53-42e8-a919-4709a7ba35b4\",\"type\":\"Title\"},{\"attributes\":{},\"id\":\"4a9bf042-a24b-4623-8d41-7ade62503e71\",\"type\":\"BasicTicker\"},{\"attributes\":{\"active_drag\":\"auto\",\"active_scroll\":\"auto\",\"active_tap\":\"auto\",\"tools\":[{\"id\":\"95dc19b5-98b2-46ba-8653-b544ce55e48a\",\"type\":\"PanTool\"},{\"id\":\"1536c360-d19c-4f34-ba14-a8548103f610\",\"type\":\"WheelZoomTool\"},{\"id\":\"84d1af5f-a56f-4348-9312-c2b06493aadf\",\"type\":\"BoxZoomTool\"},{\"id\":\"b7adcdc8-d57b-499a-b487-25e85b667c9e\",\"type\":\"SaveTool\"},{\"id\":\"8793baad-c63d-41ab-88b7-c8c6e1142115\",\"type\":\"ResetTool\"},{\"id\":\"d6a7c8f1-36c3-4564-ad02-4860158f24d2\",\"type\":\"HelpTool\"}]},\"id\":\"8cb0b812-a811-4bfb-bc34-6d85570ca020\",\"type\":\"Toolbar\"},{\"attributes\":{\"overlay\":{\"id\":\"d1e1a4ae-4c91-44e1-99ee-b50af53ad11d\",\"type\":\"BoxAnnotation\"},\"plot\":{\"id\":\"741f4302-110b-4f40-a0b1-f982d4fef84f\",\"subtype\":\"Figure\",\"type\":\"Plot\"}},\"id\":\"84d1af5f-a56f-4348-9312-c2b06493aadf\",\"type\":\"BoxZoomTool\"},{\"attributes\":{\"grid_line_color\":{\"value\":null},\"plot\":{\"id\":\"741f4302-110b-4f40-a0b1-f982d4fef84f\",\"subtype\":\"Figure\",\"type\":\"Plot\"},\"ticker\":{\"id\":\"66407718-6f0e-4b63-b986-f4509064f831\",\"type\":\"BasicTicker\"}},\"id\":\"9097ff16-f42e-47d8-bb34-001b9bf10855\",\"type\":\"Grid\"},{\"attributes\":{},\"id\":\"66407718-6f0e-4b63-b986-f4509064f831\",\"type\":\"BasicTicker\"},{\"attributes\":{},\"id\":\"44c2f959-4c1f-4bea-a63b-23aa1ce5c7f0\",\"type\":\"BasicTickFormatter\"},{\"attributes\":{},\"id\":\"ae758834-0ee9-44f4-8892-bc1ad17e28bf\",\"type\":\"ToolEvents\"},{\"attributes\":{\"formatter\":{\"id\":\"1b6a8a18-48b2-48c5-9fe3-b845fb4bce4b\",\"type\":\"BasicTickFormatter\"},\"plot\":{\"id\":\"741f4302-110b-4f40-a0b1-f982d4fef84f\",\"subtype\":\"Figure\",\"type\":\"Plot\"},\"ticker\":{\"id\":\"4a9bf042-a24b-4623-8d41-7ade62503e71\",\"type\":\"BasicTicker\"}},\"id\":\"e4b03400-97a5-476a-bbbf-bf46c9bb90ae\",\"type\":\"LinearAxis\"},{\"attributes\":{\"plot\":{\"id\":\"741f4302-110b-4f40-a0b1-f982d4fef84f\",\"subtype\":\"Figure\",\"type\":\"Plot\"}},\"id\":\"d6a7c8f1-36c3-4564-ad02-4860158f24d2\",\"type\":\"HelpTool\"},{\"attributes\":{\"callback\":null,\"end\":1.2,\"start\":-1.2},\"id\":\"d5ef2f33-72d9-4ecc-b3e6-748499656a4d\",\"type\":\"Range1d\"},{\"attributes\":{\"data_source\":{\"id\":\"c4929e61-ca23-48a6-973e-c2c89a6846f0\",\"type\":\"ColumnDataSource\"},\"glyph\":{\"id\":\"897f02ac-8338-41a3-8bc1-96864a51d6c0\",\"type\":\"Line\"},\"hover_glyph\":null,\"nonselection_glyph\":{\"id\":\"34d0763a-9b7d-4b65-b954-55f0306d4f1b\",\"type\":\"Line\"},\"selection_glyph\":null},\"id\":\"66c10e45-03df-4e14-a197-92ac4302d7ed\",\"type\":\"GlyphRenderer\"},{\"attributes\":{\"callback\":null,\"column_names\":[\"x\",\"y\"],\"data\":{\"x\":[0.0,0.12693303650867852,0.25386607301735703,0.3807991095260356,0.5077321460347141,0.6346651825433925,0.7615982190520711,0.8885312555607496,1.0154642920694281,1.1423973285781066,1.269330365086785,1.3962634015954636,1.5231964381041423,1.6501294746128208,1.7770625111214993,1.9039955476301778,2.0309285841388562,2.1578616206475347,2.284794657156213,2.4117276936648917,2.53866073017357,2.6655937666822487,2.792526803190927,2.9194598396996057,3.0463928762082846,3.173325912716963,3.3002589492256416,3.42719198573432,3.5541250222429985,3.681058058751677,3.8079910952603555,3.934924131769034,4.0618571682777125,4.188790204786391,4.3157232412950695,4.442656277803748,4.569589314312426,4.696522350821105,4.823455387329783,4.950388423838462,5.07732146034714,5.204254496855819,5.331187533364497,5.458120569873176,5.585053606381854,5.711986642890533,5.838919679399211,5.96585271590789,6.092785752416569,6.219718788925247,6.346651825433926,6.473584861942604,6.600517898451283,6.727450934959961,6.85438397146864,6.981317007977318,7.108250044485997,7.235183080994675,7.362116117503354,7.489049154012032,7.615982190520711,7.742915227029389,7.869848263538068,7.996781300046746,8.123714336555425,8.250647373064103,8.377580409572783,8.50451344608146,8.631446482590139,8.758379519098817,8.885312555607497,9.012245592116175,9.139178628624853,9.266111665133531,9.39304470164221,9.519977738150889,9.646910774659567,9.773843811168245,9.900776847676925,10.027709884185603,10.15464292069428,10.28157595720296,10.408508993711639,10.535442030220317,10.662375066728995,10.789308103237675,10.916241139746353,11.04317417625503,11.170107212763709,11.297040249272388,11.423973285781067,11.550906322289745,11.677839358798423,11.804772395307102,11.93170543181578,12.058638468324459,12.185571504833138,12.312504541341816,12.439437577850494,12.566370614359172],\"y\":[0.0,0.12659245357374926,0.2511479871810792,0.3716624556603276,0.48619673610046865,0.5929079290546404,0.690079011482112,0.7761464642917568,0.8497254299495144,0.9096319953545183,0.9549022414440739,0.984807753012208,0.998867339183008,0.9968547759519424,0.9788024462147787,0.9450008187146685,0.8959937742913359,0.8325698546347714,0.7557495743542583,0.6667690005162916,0.5670598638627709,0.4582265217274105,0.3420201433256689,0.2203105327865408,0.09505604330418244,-0.03172793349806786,-0.15800139597335008,-0.28173255684142984,-0.4009305354066138,-0.5136773915734064,-0.6181589862206053,-0.7126941713788629,-0.7957618405308321,-0.8660254037844388,-0.9223542941045814,-0.9638421585599422,-0.9898214418809327,-0.9998741276738751,-0.9938384644612541,-0.9718115683235417,-0.9341478602651068,-0.881453363447582,-0.8145759520503358,-0.7345917086575331,-0.6427876096865396,-0.5406408174555974,-0.4297949120891719,-0.31203344569848707,-0.18925124436040974,-0.06342391965656452,0.06342391965656492,0.18925124436041013,0.31203344569848745,0.42979491208917153,0.5406408174555978,0.6427876096865393,0.7345917086575334,0.8145759520503356,0.8814533634475821,0.9341478602651067,0.9718115683235418,0.9938384644612541,0.9998741276738751,0.9898214418809328,0.963842158559942,0.9223542941045816,0.8660254037844383,0.7957618405308319,0.7126941713788629,0.6181589862206056,0.5136773915734058,0.40093053540661344,0.2817325568414299,0.15800139597335056,0.03172793349806701,-0.09505604330418282,-0.22031053278654034,-0.342020143325668,-0.45822652172741085,-0.5670598638627707,-0.6667690005162913,-0.7557495743542588,-0.8325698546347716,-0.8959937742913359,-0.9450008187146683,-0.9788024462147789,-0.9968547759519424,-0.998867339183008,-0.9848077530122081,-0.9549022414440737,-0.9096319953545183,-0.8497254299495145,-0.7761464642917573,-0.6900790114821116,-0.5929079290546404,-0.486196736100469,-0.37166245566032663,-0.2511479871810788,-0.1265924535737493,-4.898587196589413e-16]}},\"id\":\"c4929e61-ca23-48a6-973e-c2c89a6846f0\",\"type\":\"ColumnDataSource\"},{\"attributes\":{\"bottom_units\":\"screen\",\"fill_alpha\":{\"value\":0.5},\"fill_color\":{\"value\":\"lightgrey\"},\"left_units\":\"screen\",\"level\":\"overlay\",\"line_alpha\":{\"value\":1.0},\"line_color\":{\"value\":\"black\"},\"line_dash\":[4,4],\"line_width\":{\"value\":2},\"plot\":null,\"render_mode\":\"css\",\"right_units\":\"screen\",\"top_units\":\"screen\"},\"id\":\"d1e1a4ae-4c91-44e1-99ee-b50af53ad11d\",\"type\":\"BoxAnnotation\"},{\"attributes\":{},\"id\":\"1b6a8a18-48b2-48c5-9fe3-b845fb4bce4b\",\"type\":\"BasicTickFormatter\"},{\"attributes\":{\"plot\":{\"id\":\"741f4302-110b-4f40-a0b1-f982d4fef84f\",\"subtype\":\"Figure\",\"type\":\"Plot\"}},\"id\":\"1536c360-d19c-4f34-ba14-a8548103f610\",\"type\":\"WheelZoomTool\"},{\"attributes\":{\"plot\":{\"id\":\"741f4302-110b-4f40-a0b1-f982d4fef84f\",\"subtype\":\"Figure\",\"type\":\"Plot\"}},\"id\":\"95dc19b5-98b2-46ba-8653-b544ce55e48a\",\"type\":\"PanTool\"},{\"attributes\":{\"below\":[{\"id\":\"984c1b10-5475-46d7-b030-2ede85b69150\",\"type\":\"LinearAxis\"}],\"left\":[{\"id\":\"e4b03400-97a5-476a-bbbf-bf46c9bb90ae\",\"type\":\"LinearAxis\"}],\"renderers\":[{\"id\":\"984c1b10-5475-46d7-b030-2ede85b69150\",\"type\":\"LinearAxis\"},{\"id\":\"9097ff16-f42e-47d8-bb34-001b9bf10855\",\"type\":\"Grid\"},{\"id\":\"e4b03400-97a5-476a-bbbf-bf46c9bb90ae\",\"type\":\"LinearAxis\"},{\"id\":\"e2d8fecd-00c3-4348-9b5f-80d5ac6a0933\",\"type\":\"Grid\"},{\"id\":\"d1e1a4ae-4c91-44e1-99ee-b50af53ad11d\",\"type\":\"BoxAnnotation\"},{\"id\":\"66c10e45-03df-4e14-a197-92ac4302d7ed\",\"type\":\"GlyphRenderer\"}],\"title\":{\"id\":\"8a932e5d-fb53-42e8-a919-4709a7ba35b4\",\"type\":\"Title\"},\"tool_events\":{\"id\":\"ae758834-0ee9-44f4-8892-bc1ad17e28bf\",\"type\":\"ToolEvents\"},\"toolbar\":{\"id\":\"8cb0b812-a811-4bfb-bc34-6d85570ca020\",\"type\":\"Toolbar\"},\"x_range\":{\"id\":\"75435eac-abfb-4e73-8cad-68386da7f840\",\"type\":\"DataRange1d\"},\"y_range\":{\"id\":\"d5ef2f33-72d9-4ecc-b3e6-748499656a4d\",\"type\":\"Range1d\"}},\"id\":\"741f4302-110b-4f40-a0b1-f982d4fef84f\",\"subtype\":\"Figure\",\"type\":\"Plot\"},{\"attributes\":{\"plot\":{\"id\":\"741f4302-110b-4f40-a0b1-f982d4fef84f\",\"subtype\":\"Figure\",\"type\":\"Plot\"}},\"id\":\"b7adcdc8-d57b-499a-b487-25e85b667c9e\",\"type\":\"SaveTool\"},{\"attributes\":{\"formatter\":{\"id\":\"44c2f959-4c1f-4bea-a63b-23aa1ce5c7f0\",\"type\":\"BasicTickFormatter\"},\"plot\":{\"id\":\"741f4302-110b-4f40-a0b1-f982d4fef84f\",\"subtype\":\"Figure\",\"type\":\"Plot\"},\"ticker\":{\"id\":\"66407718-6f0e-4b63-b986-f4509064f831\",\"type\":\"BasicTicker\"}},\"id\":\"984c1b10-5475-46d7-b030-2ede85b69150\",\"type\":\"LinearAxis\"}],\"root_ids\":[\"741f4302-110b-4f40-a0b1-f982d4fef84f\"]},\"title\":\"Bokeh Application\",\"version\":\"0.12.1\"}};\n",
       "            var render_items = [{\"docid\":\"6f92fd8f-ffe5-47a9-a5c2-a98447cff70c\",\"elementid\":\"8fa0031d-8ee5-4178-9dd7-d0ea4877666c\",\"modelid\":\"741f4302-110b-4f40-a0b1-f982d4fef84f\",\"notebook_comms_target\":\"09a8f136-b79b-4e99-ba21-646a4b82720a\"}];\n",
       "            \n",
       "            Bokeh.embed.embed_items(docs_json, render_items);\n",
       "        });\n",
       "      },\n",
       "      function(Bokeh) {\n",
       "      }\n",
       "    ];\n",
       "  \n",
       "    function run_inline_js() {\n",
       "      for (var i = 0; i < inline_js.length; i++) {\n",
       "        inline_js[i](window.Bokeh);\n",
       "      }\n",
       "    }\n",
       "  \n",
       "    if (window._bokeh_is_loading === 0) {\n",
       "      console.log(\"Bokeh: BokehJS loaded, going straight to plotting\");\n",
       "      run_inline_js();\n",
       "    } else {\n",
       "      load_libs(js_urls, function() {\n",
       "        console.log(\"Bokeh: BokehJS plotting callback run at\", now());\n",
       "        run_inline_js();\n",
       "      });\n",
       "    }\n",
       "  }(this));\n",
       "</script>"
      ]
     },
     "metadata": {},
     "output_type": "display_data"
    },
    {
     "data": {
      "text/html": [
       "<p><code>&lt;Bokeh Notebook handle for <strong>In[17]</strong>&gt;</code></p>"
      ],
      "text/plain": [
       "<bokeh.io._CommsHandle at 0x847d198>"
      ]
     },
     "execution_count": 17,
     "metadata": {},
     "output_type": "execute_result"
    }
   ],
   "source": [
    "plot = figure( y_range=(-1.2, 1.2) )\n",
    "plot.line(x,y,line_width=2)\n",
    "\n",
    "#remove all grid lines\n",
    "plot.grid.grid_line_color = None\n",
    "\n",
    "plot.ygrid.band_fill_alpha = 0.1\n",
    "plot.ygrid.band_fill_color = \"navy\"\n",
    "\n",
    "show(plot)"
   ]
  },
  {
   "cell_type": "markdown",
   "metadata": {},
   "source": [
    "### Labels and Properties"
   ]
  },
  {
   "cell_type": "markdown",
   "metadata": {},
   "source": [
    "Axis objects are available as through the `xaxis`, `yaxis` and `axis` member objects of a Figure. Each of these return a *splattable* list of axis objects.\n",
    "\n",
    "The line properties can be changed with\n",
    "* `axis_line_width`\n",
    "* `axis_line_color`\n",
    "* `axis_line_alpha`\n",
    "\n",
    "and similiarly for text properties."
   ]
  },
  {
   "cell_type": "code",
   "execution_count": 18,
   "metadata": {
    "collapsed": false,
    "scrolled": false
   },
   "outputs": [
    {
     "data": {
      "text/html": [
       "\n",
       "\n",
       "    <div class=\"bk-root\">\n",
       "        <div class=\"plotdiv\" id=\"411fc2e2-e699-4623-a4f6-4a9cec5717fd\"></div>\n",
       "    </div>\n",
       "<script type=\"text/javascript\">\n",
       "  \n",
       "  (function(global) {\n",
       "    function now() {\n",
       "      return new Date();\n",
       "    }\n",
       "  \n",
       "    var force = \"\";\n",
       "  \n",
       "    if (typeof (window._bokeh_onload_callbacks) === \"undefined\" || force !== \"\") {\n",
       "      window._bokeh_onload_callbacks = [];\n",
       "      window._bokeh_is_loading = undefined;\n",
       "    }\n",
       "  \n",
       "    function run_callbacks() {\n",
       "      window._bokeh_onload_callbacks.forEach(function(callback) { callback() });\n",
       "      delete window._bokeh_onload_callbacks\n",
       "      console.info(\"Bokeh: all callbacks have finished\");\n",
       "    }\n",
       "  \n",
       "    function load_libs(js_urls, callback) {\n",
       "      window._bokeh_onload_callbacks.push(callback);\n",
       "      if (window._bokeh_is_loading > 0) {\n",
       "        console.log(\"Bokeh: BokehJS is being loaded, scheduling callback at\", now());\n",
       "        return null;\n",
       "      }\n",
       "      if (js_urls == null || js_urls.length === 0) {\n",
       "        run_callbacks();\n",
       "        return null;\n",
       "      }\n",
       "      console.log(\"Bokeh: BokehJS not loaded, scheduling load and callback at\", now());\n",
       "      window._bokeh_is_loading = js_urls.length;\n",
       "      for (var i = 0; i < js_urls.length; i++) {\n",
       "        var url = js_urls[i];\n",
       "        var s = document.createElement('script');\n",
       "        s.src = url;\n",
       "        s.async = false;\n",
       "        s.onreadystatechange = s.onload = function() {\n",
       "          window._bokeh_is_loading--;\n",
       "          if (window._bokeh_is_loading === 0) {\n",
       "            console.log(\"Bokeh: all BokehJS libraries loaded\");\n",
       "            run_callbacks()\n",
       "          }\n",
       "        };\n",
       "        s.onerror = function() {\n",
       "          console.warn(\"failed to load library \" + url);\n",
       "        };\n",
       "        console.log(\"Bokeh: injecting script tag for BokehJS library: \", url);\n",
       "        document.getElementsByTagName(\"head\")[0].appendChild(s);\n",
       "      }\n",
       "    };var element = document.getElementById(\"411fc2e2-e699-4623-a4f6-4a9cec5717fd\");\n",
       "    if (element == null) {\n",
       "      console.log(\"Bokeh: ERROR: autoload.js configured with elementid '411fc2e2-e699-4623-a4f6-4a9cec5717fd' but no matching script tag was found. \")\n",
       "      return false;\n",
       "    }\n",
       "  \n",
       "    var js_urls = [];\n",
       "  \n",
       "    var inline_js = [\n",
       "      function(Bokeh) {\n",
       "        Bokeh.$(function() {\n",
       "            var docs_json = {\"11f6b2f6-ab80-4a72-a36e-86c79eb780cb\":{\"roots\":{\"references\":[{\"attributes\":{\"callback\":null,\"column_names\":[\"x\",\"y\"],\"data\":{\"x\":[0.0,0.12693303650867852,0.25386607301735703,0.3807991095260356,0.5077321460347141,0.6346651825433925,0.7615982190520711,0.8885312555607496,1.0154642920694281,1.1423973285781066,1.269330365086785,1.3962634015954636,1.5231964381041423,1.6501294746128208,1.7770625111214993,1.9039955476301778,2.0309285841388562,2.1578616206475347,2.284794657156213,2.4117276936648917,2.53866073017357,2.6655937666822487,2.792526803190927,2.9194598396996057,3.0463928762082846,3.173325912716963,3.3002589492256416,3.42719198573432,3.5541250222429985,3.681058058751677,3.8079910952603555,3.934924131769034,4.0618571682777125,4.188790204786391,4.3157232412950695,4.442656277803748,4.569589314312426,4.696522350821105,4.823455387329783,4.950388423838462,5.07732146034714,5.204254496855819,5.331187533364497,5.458120569873176,5.585053606381854,5.711986642890533,5.838919679399211,5.96585271590789,6.092785752416569,6.219718788925247,6.346651825433926,6.473584861942604,6.600517898451283,6.727450934959961,6.85438397146864,6.981317007977318,7.108250044485997,7.235183080994675,7.362116117503354,7.489049154012032,7.615982190520711,7.742915227029389,7.869848263538068,7.996781300046746,8.123714336555425,8.250647373064103,8.377580409572783,8.50451344608146,8.631446482590139,8.758379519098817,8.885312555607497,9.012245592116175,9.139178628624853,9.266111665133531,9.39304470164221,9.519977738150889,9.646910774659567,9.773843811168245,9.900776847676925,10.027709884185603,10.15464292069428,10.28157595720296,10.408508993711639,10.535442030220317,10.662375066728995,10.789308103237675,10.916241139746353,11.04317417625503,11.170107212763709,11.297040249272388,11.423973285781067,11.550906322289745,11.677839358798423,11.804772395307102,11.93170543181578,12.058638468324459,12.185571504833138,12.312504541341816,12.439437577850494,12.566370614359172],\"y\":[0.0,0.016111995757313514,0.06444798302925406,0.14500796181582162,0.25779193211701623,0.40279989393283777,0.5800318472632865,0.7894877921083622,1.031167728468065,1.3050716563423945,1.611199575731351,1.9495514866349348,2.320127389053146,2.722927282985984,3.1579511684334487,3.6251990453955405,4.12467091387226,4.656366773863605,5.220286625369578,5.816430468390178,6.444798302925404,7.105390128975259,7.798205946539739,8.523245755618847,9.280509556212584,10.069997348320946,10.891709131943935,11.745644907081552,12.631804673733795,13.550188431900665,14.500796181582162,15.483627922778286,16.49868365548904,17.54596337971442,18.62546709545442,19.737194802709055,20.881146501478312,22.057322191762204,23.26572187356071,24.506345546873856,25.779193211701617,27.084264868044016,28.421560515901035,29.791080155272688,31.192823786158957,32.62679140855987,34.09298302247539,35.59139862790555,37.122038224850336,38.68490181330974,40.279989393283785,41.907300964772446,43.56683652777574,45.25859608229366,46.98257962832621,48.738787165873376,50.52721869493518,52.3478742155116,54.20075372760266,56.08585723120834,58.00318472632865,59.95273621296358,61.934511691113144,63.94851116077733,65.99473462195616,68.07318207464958,70.18385351885767,72.32674895458037,74.50186838181769,76.70921180056962,78.94877921083622,81.22057061261742,83.52458600591325,85.86082539072369,88.22928876704881,90.62997613488851,93.06288749424284,95.5280228451118,98.02538218749542,100.55496552139364,103.11677284680647,105.71080416373397,108.33705947217607,110.99553877213279,113.68624206360414,116.40916934659015,119.16432062109075,121.95169588710597,124.77129514463583,127.62311839368034,130.50716563423947,133.42343686631318,136.37193208990155,139.35265130500457,142.3655945116222,145.41076170975444,148.48815289940134,151.59776808056284,154.73960725323897,157.91367041742973]}},\"id\":\"33382693-779e-4d0c-a296-518dbffaf1a6\",\"type\":\"ColumnDataSource\"},{\"attributes\":{\"axis_label\":\"x\",\"axis_label_text_font_style\":\"bold\",\"axis_line_width\":{\"value\":4},\"formatter\":{\"id\":\"6506a3f4-caf3-436d-a8b5-1223d154f6bf\",\"type\":\"BasicTickFormatter\"},\"plot\":{\"id\":\"6b262e4f-814e-4d55-8399-bb88ca6df098\",\"subtype\":\"Figure\",\"type\":\"Plot\"},\"ticker\":{\"id\":\"9f8fe0bf-0143-45eb-b691-b788877c2422\",\"type\":\"BasicTicker\"}},\"id\":\"c6c0dbbb-3c78-44d4-950b-a643903d937b\",\"type\":\"LinearAxis\"},{\"attributes\":{\"plot\":{\"id\":\"6b262e4f-814e-4d55-8399-bb88ca6df098\",\"subtype\":\"Figure\",\"type\":\"Plot\"},\"ticker\":{\"id\":\"9f8fe0bf-0143-45eb-b691-b788877c2422\",\"type\":\"BasicTicker\"}},\"id\":\"2c0d3025-fc0f-43b4-83dd-d1185c27d39b\",\"type\":\"Grid\"},{\"attributes\":{\"plot\":null,\"text\":null},\"id\":\"f0fd34a4-52ff-4c2d-9046-1dc5e761fb7f\",\"type\":\"Title\"},{\"attributes\":{\"plot\":{\"id\":\"6b262e4f-814e-4d55-8399-bb88ca6df098\",\"subtype\":\"Figure\",\"type\":\"Plot\"}},\"id\":\"d0dc4c13-2e0e-49b6-8aa6-6b61ea4bb387\",\"type\":\"SaveTool\"},{\"attributes\":{\"plot\":{\"id\":\"6b262e4f-814e-4d55-8399-bb88ca6df098\",\"subtype\":\"Figure\",\"type\":\"Plot\"}},\"id\":\"7a47cb0b-df83-4909-bec3-5e69e071b64c\",\"type\":\"PanTool\"},{\"attributes\":{},\"id\":\"6506a3f4-caf3-436d-a8b5-1223d154f6bf\",\"type\":\"BasicTickFormatter\"},{\"attributes\":{\"data_source\":{\"id\":\"33382693-779e-4d0c-a296-518dbffaf1a6\",\"type\":\"ColumnDataSource\"},\"glyph\":{\"id\":\"d6bb1b8b-39be-47e9-a0ee-316f3b4f1868\",\"type\":\"Circle\"},\"hover_glyph\":null,\"nonselection_glyph\":{\"id\":\"912e6dac-4788-4ebf-a85f-6edcfc68df2f\",\"type\":\"Circle\"},\"selection_glyph\":null,\"y_range_name\":\"linear\"},\"id\":\"2d8d0f27-b0c1-430f-97c0-9104917798ca\",\"type\":\"GlyphRenderer\"},{\"attributes\":{\"line_color\":{\"value\":\"#1f77b4\"},\"line_width\":{\"value\":2},\"x\":{\"field\":\"x\"},\"y\":{\"field\":\"y\"}},\"id\":\"cb8e0a34-84c8-4477-a554-4ef781a365bd\",\"type\":\"Line\"},{\"attributes\":{\"data_source\":{\"id\":\"354d061c-ec0d-4293-9171-1a42ac218054\",\"type\":\"ColumnDataSource\"},\"glyph\":{\"id\":\"cb8e0a34-84c8-4477-a554-4ef781a365bd\",\"type\":\"Line\"},\"hover_glyph\":null,\"nonselection_glyph\":{\"id\":\"780423d6-26c9-486b-820d-bf87b889bf1c\",\"type\":\"Line\"},\"selection_glyph\":null},\"id\":\"de09d950-b400-45ff-94f7-237646c20397\",\"type\":\"GlyphRenderer\"},{\"attributes\":{\"overlay\":{\"id\":\"cc77a4bb-60d4-4eaf-b037-26c9f53abd6e\",\"type\":\"BoxAnnotation\"},\"plot\":{\"id\":\"6b262e4f-814e-4d55-8399-bb88ca6df098\",\"subtype\":\"Figure\",\"type\":\"Plot\"}},\"id\":\"cb678c88-55c4-48b8-bece-6153af9c63cf\",\"type\":\"BoxZoomTool\"},{\"attributes\":{},\"id\":\"5e21f7ec-dda6-4e5e-be9e-d6780926a8fc\",\"type\":\"BasicTickFormatter\"},{\"attributes\":{\"callback\":null,\"end\":100},\"id\":\"658c2017-b8ff-41e4-8175-4a60fe74175d\",\"type\":\"Range1d\"},{\"attributes\":{\"plot\":{\"id\":\"6b262e4f-814e-4d55-8399-bb88ca6df098\",\"subtype\":\"Figure\",\"type\":\"Plot\"}},\"id\":\"d0fcde27-c0c7-4b26-90a8-7b5ee8394ad9\",\"type\":\"ResetTool\"},{\"attributes\":{\"callback\":null,\"end\":1.2,\"start\":-1.2},\"id\":\"273f471e-e3cf-4cf0-96f8-37591ae475df\",\"type\":\"Range1d\"},{\"attributes\":{\"bottom_units\":\"screen\",\"fill_alpha\":{\"value\":0.5},\"fill_color\":{\"value\":\"lightgrey\"},\"left_units\":\"screen\",\"level\":\"overlay\",\"line_alpha\":{\"value\":1.0},\"line_color\":{\"value\":\"black\"},\"line_dash\":[4,4],\"line_width\":{\"value\":2},\"plot\":null,\"render_mode\":\"css\",\"right_units\":\"screen\",\"top_units\":\"screen\"},\"id\":\"cc77a4bb-60d4-4eaf-b037-26c9f53abd6e\",\"type\":\"BoxAnnotation\"},{\"attributes\":{\"line_alpha\":{\"value\":0.1},\"line_color\":{\"value\":\"#1f77b4\"},\"line_width\":{\"value\":2},\"x\":{\"field\":\"x\"},\"y\":{\"field\":\"y\"}},\"id\":\"780423d6-26c9-486b-820d-bf87b889bf1c\",\"type\":\"Line\"},{\"attributes\":{\"active_drag\":\"auto\",\"active_scroll\":\"auto\",\"active_tap\":\"auto\",\"tools\":[{\"id\":\"7a47cb0b-df83-4909-bec3-5e69e071b64c\",\"type\":\"PanTool\"},{\"id\":\"1772696e-a7d3-4f38-abdd-ee1017db2800\",\"type\":\"WheelZoomTool\"},{\"id\":\"cb678c88-55c4-48b8-bece-6153af9c63cf\",\"type\":\"BoxZoomTool\"},{\"id\":\"d0dc4c13-2e0e-49b6-8aa6-6b61ea4bb387\",\"type\":\"SaveTool\"},{\"id\":\"d0fcde27-c0c7-4b26-90a8-7b5ee8394ad9\",\"type\":\"ResetTool\"},{\"id\":\"ad01bd82-cf77-4371-a2bb-c6996a780549\",\"type\":\"HelpTool\"}]},\"id\":\"9502902c-5994-4021-8964-a5b1acb52f48\",\"type\":\"Toolbar\"},{\"attributes\":{\"axis_label\":\"x^2\",\"axis_label_text_color\":{\"value\":\"red\"},\"axis_label_text_font_style\":\"bold\",\"formatter\":{\"id\":\"57c101f3-aed4-402f-801b-553237a99d8a\",\"type\":\"BasicTickFormatter\"},\"plot\":{\"id\":\"6b262e4f-814e-4d55-8399-bb88ca6df098\",\"subtype\":\"Figure\",\"type\":\"Plot\"},\"ticker\":{\"id\":\"8ba9bc5e-bc23-4f08-9d6b-d1e99876c29a\",\"type\":\"BasicTicker\"},\"y_range_name\":\"linear\"},\"id\":\"022e1983-5644-4a84-861e-7364b8d6bbd7\",\"type\":\"LinearAxis\"},{\"attributes\":{},\"id\":\"5901f4bb-ac0a-4fa1-bf1e-8e2956d53347\",\"type\":\"ToolEvents\"},{\"attributes\":{\"plot\":{\"id\":\"6b262e4f-814e-4d55-8399-bb88ca6df098\",\"subtype\":\"Figure\",\"type\":\"Plot\"}},\"id\":\"1772696e-a7d3-4f38-abdd-ee1017db2800\",\"type\":\"WheelZoomTool\"},{\"attributes\":{},\"id\":\"633d7d95-2dd3-4fe5-8e5c-7a957cbc7786\",\"type\":\"BasicTicker\"},{\"attributes\":{\"fill_color\":{\"value\":\"red\"},\"line_color\":{\"value\":\"red\"},\"x\":{\"field\":\"x\"},\"y\":{\"field\":\"y\"}},\"id\":\"d6bb1b8b-39be-47e9-a0ee-316f3b4f1868\",\"type\":\"Circle\"},{\"attributes\":{},\"id\":\"8ba9bc5e-bc23-4f08-9d6b-d1e99876c29a\",\"type\":\"BasicTicker\"},{\"attributes\":{\"callback\":null},\"id\":\"8b4f7043-e8a9-4da7-97b6-daef0993e9bf\",\"type\":\"DataRange1d\"},{\"attributes\":{\"dimension\":1,\"plot\":{\"id\":\"6b262e4f-814e-4d55-8399-bb88ca6df098\",\"subtype\":\"Figure\",\"type\":\"Plot\"},\"ticker\":{\"id\":\"633d7d95-2dd3-4fe5-8e5c-7a957cbc7786\",\"type\":\"BasicTicker\"}},\"id\":\"978a5a35-14fc-49a0-9d61-6cfe0c206b34\",\"type\":\"Grid\"},{\"attributes\":{\"fill_alpha\":{\"value\":0.1},\"fill_color\":{\"value\":\"#1f77b4\"},\"line_alpha\":{\"value\":0.1},\"line_color\":{\"value\":\"#1f77b4\"},\"x\":{\"field\":\"x\"},\"y\":{\"field\":\"y\"}},\"id\":\"912e6dac-4788-4ebf-a85f-6edcfc68df2f\",\"type\":\"Circle\"},{\"attributes\":{\"axis_label\":\"sin(x)\",\"axis_label_text_color\":{\"value\":\"blue\"},\"axis_label_text_font_style\":\"bold\",\"formatter\":{\"id\":\"5e21f7ec-dda6-4e5e-be9e-d6780926a8fc\",\"type\":\"BasicTickFormatter\"},\"plot\":{\"id\":\"6b262e4f-814e-4d55-8399-bb88ca6df098\",\"subtype\":\"Figure\",\"type\":\"Plot\"},\"ticker\":{\"id\":\"633d7d95-2dd3-4fe5-8e5c-7a957cbc7786\",\"type\":\"BasicTicker\"}},\"id\":\"de7227a2-83c9-4f6e-8b26-07072de95f08\",\"type\":\"LinearAxis\"},{\"attributes\":{\"below\":[{\"id\":\"c6c0dbbb-3c78-44d4-950b-a643903d937b\",\"type\":\"LinearAxis\"}],\"extra_y_ranges\":{\"linear\":{\"id\":\"658c2017-b8ff-41e4-8175-4a60fe74175d\",\"type\":\"Range1d\"}},\"left\":[{\"id\":\"de7227a2-83c9-4f6e-8b26-07072de95f08\",\"type\":\"LinearAxis\"},{\"id\":\"022e1983-5644-4a84-861e-7364b8d6bbd7\",\"type\":\"LinearAxis\"}],\"renderers\":[{\"id\":\"c6c0dbbb-3c78-44d4-950b-a643903d937b\",\"type\":\"LinearAxis\"},{\"id\":\"2c0d3025-fc0f-43b4-83dd-d1185c27d39b\",\"type\":\"Grid\"},{\"id\":\"de7227a2-83c9-4f6e-8b26-07072de95f08\",\"type\":\"LinearAxis\"},{\"id\":\"978a5a35-14fc-49a0-9d61-6cfe0c206b34\",\"type\":\"Grid\"},{\"id\":\"cc77a4bb-60d4-4eaf-b037-26c9f53abd6e\",\"type\":\"BoxAnnotation\"},{\"id\":\"de09d950-b400-45ff-94f7-237646c20397\",\"type\":\"GlyphRenderer\"},{\"id\":\"2d8d0f27-b0c1-430f-97c0-9104917798ca\",\"type\":\"GlyphRenderer\"},{\"id\":\"022e1983-5644-4a84-861e-7364b8d6bbd7\",\"type\":\"LinearAxis\"}],\"title\":{\"id\":\"f0fd34a4-52ff-4c2d-9046-1dc5e761fb7f\",\"type\":\"Title\"},\"tool_events\":{\"id\":\"5901f4bb-ac0a-4fa1-bf1e-8e2956d53347\",\"type\":\"ToolEvents\"},\"toolbar\":{\"id\":\"9502902c-5994-4021-8964-a5b1acb52f48\",\"type\":\"Toolbar\"},\"x_range\":{\"id\":\"8b4f7043-e8a9-4da7-97b6-daef0993e9bf\",\"type\":\"DataRange1d\"},\"y_range\":{\"id\":\"273f471e-e3cf-4cf0-96f8-37591ae475df\",\"type\":\"Range1d\"}},\"id\":\"6b262e4f-814e-4d55-8399-bb88ca6df098\",\"subtype\":\"Figure\",\"type\":\"Plot\"},{\"attributes\":{},\"id\":\"9f8fe0bf-0143-45eb-b691-b788877c2422\",\"type\":\"BasicTicker\"},{\"attributes\":{\"plot\":{\"id\":\"6b262e4f-814e-4d55-8399-bb88ca6df098\",\"subtype\":\"Figure\",\"type\":\"Plot\"}},\"id\":\"ad01bd82-cf77-4371-a2bb-c6996a780549\",\"type\":\"HelpTool\"},{\"attributes\":{\"callback\":null,\"column_names\":[\"x\",\"y\"],\"data\":{\"x\":[0.0,0.12693303650867852,0.25386607301735703,0.3807991095260356,0.5077321460347141,0.6346651825433925,0.7615982190520711,0.8885312555607496,1.0154642920694281,1.1423973285781066,1.269330365086785,1.3962634015954636,1.5231964381041423,1.6501294746128208,1.7770625111214993,1.9039955476301778,2.0309285841388562,2.1578616206475347,2.284794657156213,2.4117276936648917,2.53866073017357,2.6655937666822487,2.792526803190927,2.9194598396996057,3.0463928762082846,3.173325912716963,3.3002589492256416,3.42719198573432,3.5541250222429985,3.681058058751677,3.8079910952603555,3.934924131769034,4.0618571682777125,4.188790204786391,4.3157232412950695,4.442656277803748,4.569589314312426,4.696522350821105,4.823455387329783,4.950388423838462,5.07732146034714,5.204254496855819,5.331187533364497,5.458120569873176,5.585053606381854,5.711986642890533,5.838919679399211,5.96585271590789,6.092785752416569,6.219718788925247,6.346651825433926,6.473584861942604,6.600517898451283,6.727450934959961,6.85438397146864,6.981317007977318,7.108250044485997,7.235183080994675,7.362116117503354,7.489049154012032,7.615982190520711,7.742915227029389,7.869848263538068,7.996781300046746,8.123714336555425,8.250647373064103,8.377580409572783,8.50451344608146,8.631446482590139,8.758379519098817,8.885312555607497,9.012245592116175,9.139178628624853,9.266111665133531,9.39304470164221,9.519977738150889,9.646910774659567,9.773843811168245,9.900776847676925,10.027709884185603,10.15464292069428,10.28157595720296,10.408508993711639,10.535442030220317,10.662375066728995,10.789308103237675,10.916241139746353,11.04317417625503,11.170107212763709,11.297040249272388,11.423973285781067,11.550906322289745,11.677839358798423,11.804772395307102,11.93170543181578,12.058638468324459,12.185571504833138,12.312504541341816,12.439437577850494,12.566370614359172],\"y\":[0.0,0.12659245357374926,0.2511479871810792,0.3716624556603276,0.48619673610046865,0.5929079290546404,0.690079011482112,0.7761464642917568,0.8497254299495144,0.9096319953545183,0.9549022414440739,0.984807753012208,0.998867339183008,0.9968547759519424,0.9788024462147787,0.9450008187146685,0.8959937742913359,0.8325698546347714,0.7557495743542583,0.6667690005162916,0.5670598638627709,0.4582265217274105,0.3420201433256689,0.2203105327865408,0.09505604330418244,-0.03172793349806786,-0.15800139597335008,-0.28173255684142984,-0.4009305354066138,-0.5136773915734064,-0.6181589862206053,-0.7126941713788629,-0.7957618405308321,-0.8660254037844388,-0.9223542941045814,-0.9638421585599422,-0.9898214418809327,-0.9998741276738751,-0.9938384644612541,-0.9718115683235417,-0.9341478602651068,-0.881453363447582,-0.8145759520503358,-0.7345917086575331,-0.6427876096865396,-0.5406408174555974,-0.4297949120891719,-0.31203344569848707,-0.18925124436040974,-0.06342391965656452,0.06342391965656492,0.18925124436041013,0.31203344569848745,0.42979491208917153,0.5406408174555978,0.6427876096865393,0.7345917086575334,0.8145759520503356,0.8814533634475821,0.9341478602651067,0.9718115683235418,0.9938384644612541,0.9998741276738751,0.9898214418809328,0.963842158559942,0.9223542941045816,0.8660254037844383,0.7957618405308319,0.7126941713788629,0.6181589862206056,0.5136773915734058,0.40093053540661344,0.2817325568414299,0.15800139597335056,0.03172793349806701,-0.09505604330418282,-0.22031053278654034,-0.342020143325668,-0.45822652172741085,-0.5670598638627707,-0.6667690005162913,-0.7557495743542588,-0.8325698546347716,-0.8959937742913359,-0.9450008187146683,-0.9788024462147789,-0.9968547759519424,-0.998867339183008,-0.9848077530122081,-0.9549022414440737,-0.9096319953545183,-0.8497254299495145,-0.7761464642917573,-0.6900790114821116,-0.5929079290546404,-0.486196736100469,-0.37166245566032663,-0.2511479871810788,-0.1265924535737493,-4.898587196589413e-16]}},\"id\":\"354d061c-ec0d-4293-9171-1a42ac218054\",\"type\":\"ColumnDataSource\"},{\"attributes\":{},\"id\":\"57c101f3-aed4-402f-801b-553237a99d8a\",\"type\":\"BasicTickFormatter\"}],\"root_ids\":[\"6b262e4f-814e-4d55-8399-bb88ca6df098\"]},\"title\":\"Bokeh Application\",\"version\":\"0.12.1\"}};\n",
       "            var render_items = [{\"docid\":\"11f6b2f6-ab80-4a72-a36e-86c79eb780cb\",\"elementid\":\"411fc2e2-e699-4623-a4f6-4a9cec5717fd\",\"modelid\":\"6b262e4f-814e-4d55-8399-bb88ca6df098\",\"notebook_comms_target\":\"d269a240-8aee-4bcd-a953-a4ce21ba799e\"}];\n",
       "            \n",
       "            Bokeh.embed.embed_items(docs_json, render_items);\n",
       "        });\n",
       "      },\n",
       "      function(Bokeh) {\n",
       "      }\n",
       "    ];\n",
       "  \n",
       "    function run_inline_js() {\n",
       "      for (var i = 0; i < inline_js.length; i++) {\n",
       "        inline_js[i](window.Bokeh);\n",
       "      }\n",
       "    }\n",
       "  \n",
       "    if (window._bokeh_is_loading === 0) {\n",
       "      console.log(\"Bokeh: BokehJS loaded, going straight to plotting\");\n",
       "      run_inline_js();\n",
       "    } else {\n",
       "      load_libs(js_urls, function() {\n",
       "        console.log(\"Bokeh: BokehJS plotting callback run at\", now());\n",
       "        run_inline_js();\n",
       "      });\n",
       "    }\n",
       "  }(this));\n",
       "</script>"
      ]
     },
     "metadata": {},
     "output_type": "display_data"
    },
    {
     "data": {
      "text/html": [
       "<p><code>&lt;Bokeh Notebook handle for <strong>In[18]</strong>&gt;</code></p>"
      ],
      "text/plain": [
       "<bokeh.io._CommsHandle at 0x850f470>"
      ]
     },
     "execution_count": 18,
     "metadata": {},
     "output_type": "execute_result"
    }
   ],
   "source": [
    "plot = figure( y_range=(-1.2, 1.2) )\n",
    "plot.line(x,y,line_width=2)\n",
    "\n",
    "plot.extra_y_ranges = {\"linear\": Range1d(start=0, end=100)}\n",
    "plot.circle(x,y2, y_range_name='linear', color='red')\n",
    "plot.add_layout(LinearAxis(y_range_name=\"linear\"), 'left')\n",
    "\n",
    "#use bold fonts for all axis labels\n",
    "plot.axis.axis_label_text_font_style='bold'\n",
    "\n",
    "#label the x axis\n",
    "plot.xaxis.axis_label='x'\n",
    "plot.xaxis.axis_line_width=4\n",
    "\n",
    "#the first y axis\n",
    "plot.yaxis[0].axis_label='sin(x)'\n",
    "plot.yaxis[0].axis_label_text_color='blue'\n",
    "\n",
    "#the second yaxis\n",
    "plot.yaxis[1].axis_label='x^2'\n",
    "plot.yaxis[1].axis_label_text_color='red'\n",
    "\n",
    "show(plot)"
   ]
  },
  {
   "cell_type": "markdown",
   "metadata": {},
   "source": [
    "### Tick Label Orientation"
   ]
  },
  {
   "cell_type": "markdown",
   "metadata": {},
   "source": [
    "The orientation of the major labels can be changed with `major_label_orentation`. The possible values are \n",
    "* `horizontal`\n",
    "* `vertical`\n",
    "* Degrees in radians\n",
    "    "
   ]
  },
  {
   "cell_type": "code",
   "execution_count": 23,
   "metadata": {
    "collapsed": false
   },
   "outputs": [
    {
     "data": {
      "text/html": [
       "\n",
       "\n",
       "    <div class=\"bk-root\">\n",
       "        <div class=\"plotdiv\" id=\"86d808cc-4038-4f82-9668-b33e18fbb5c5\"></div>\n",
       "    </div>\n",
       "<script type=\"text/javascript\">\n",
       "  \n",
       "  (function(global) {\n",
       "    function now() {\n",
       "      return new Date();\n",
       "    }\n",
       "  \n",
       "    var force = \"\";\n",
       "  \n",
       "    if (typeof (window._bokeh_onload_callbacks) === \"undefined\" || force !== \"\") {\n",
       "      window._bokeh_onload_callbacks = [];\n",
       "      window._bokeh_is_loading = undefined;\n",
       "    }\n",
       "  \n",
       "    function run_callbacks() {\n",
       "      window._bokeh_onload_callbacks.forEach(function(callback) { callback() });\n",
       "      delete window._bokeh_onload_callbacks\n",
       "      console.info(\"Bokeh: all callbacks have finished\");\n",
       "    }\n",
       "  \n",
       "    function load_libs(js_urls, callback) {\n",
       "      window._bokeh_onload_callbacks.push(callback);\n",
       "      if (window._bokeh_is_loading > 0) {\n",
       "        console.log(\"Bokeh: BokehJS is being loaded, scheduling callback at\", now());\n",
       "        return null;\n",
       "      }\n",
       "      if (js_urls == null || js_urls.length === 0) {\n",
       "        run_callbacks();\n",
       "        return null;\n",
       "      }\n",
       "      console.log(\"Bokeh: BokehJS not loaded, scheduling load and callback at\", now());\n",
       "      window._bokeh_is_loading = js_urls.length;\n",
       "      for (var i = 0; i < js_urls.length; i++) {\n",
       "        var url = js_urls[i];\n",
       "        var s = document.createElement('script');\n",
       "        s.src = url;\n",
       "        s.async = false;\n",
       "        s.onreadystatechange = s.onload = function() {\n",
       "          window._bokeh_is_loading--;\n",
       "          if (window._bokeh_is_loading === 0) {\n",
       "            console.log(\"Bokeh: all BokehJS libraries loaded\");\n",
       "            run_callbacks()\n",
       "          }\n",
       "        };\n",
       "        s.onerror = function() {\n",
       "          console.warn(\"failed to load library \" + url);\n",
       "        };\n",
       "        console.log(\"Bokeh: injecting script tag for BokehJS library: \", url);\n",
       "        document.getElementsByTagName(\"head\")[0].appendChild(s);\n",
       "      }\n",
       "    };var element = document.getElementById(\"86d808cc-4038-4f82-9668-b33e18fbb5c5\");\n",
       "    if (element == null) {\n",
       "      console.log(\"Bokeh: ERROR: autoload.js configured with elementid '86d808cc-4038-4f82-9668-b33e18fbb5c5' but no matching script tag was found. \")\n",
       "      return false;\n",
       "    }\n",
       "  \n",
       "    var js_urls = [];\n",
       "  \n",
       "    var inline_js = [\n",
       "      function(Bokeh) {\n",
       "        Bokeh.$(function() {\n",
       "            var docs_json = {\"c59438db-fa6a-4e65-8f32-6f771590482a\":{\"roots\":{\"references\":[{\"attributes\":{\"plot\":{\"id\":\"98af74e5-d56b-4dd0-b2fb-31239eec504a\",\"subtype\":\"Figure\",\"type\":\"Plot\"}},\"id\":\"41388407-0a00-47cc-af14-278f8374c826\",\"type\":\"HelpTool\"},{\"attributes\":{\"plot\":{\"id\":\"98af74e5-d56b-4dd0-b2fb-31239eec504a\",\"subtype\":\"Figure\",\"type\":\"Plot\"}},\"id\":\"91a51098-dd58-4f09-b67f-ab85928a71a4\",\"type\":\"PanTool\"},{\"attributes\":{\"max_interval\":500.0,\"num_minor_ticks\":0},\"id\":\"bc5cd167-ec76-4036-98c0-af1cec92ebff\",\"type\":\"AdaptiveTicker\"},{\"attributes\":{\"num_minor_ticks\":5},\"id\":\"a84233fd-38b5-4483-a5f2-e9c2801015ee\",\"type\":\"DatetimeTicker\"},{\"attributes\":{\"months\":[0,6]},\"id\":\"588065ca-6585-4a7c-980b-de96068a6d94\",\"type\":\"MonthsTicker\"},{\"attributes\":{\"months\":[0,4,8]},\"id\":\"956ff3c5-ba5d-48f4-842e-419c6db1db33\",\"type\":\"MonthsTicker\"},{\"attributes\":{\"plot\":{\"id\":\"98af74e5-d56b-4dd0-b2fb-31239eec504a\",\"subtype\":\"Figure\",\"type\":\"Plot\"},\"ticker\":{\"id\":\"a84233fd-38b5-4483-a5f2-e9c2801015ee\",\"type\":\"DatetimeTicker\"}},\"id\":\"de457ca9-1cef-4380-98b4-8dd0f6ad112b\",\"type\":\"Grid\"},{\"attributes\":{\"base\":60,\"mantissas\":[1,2,5,10,15,20,30],\"max_interval\":1800000.0,\"min_interval\":1000.0,\"num_minor_ticks\":0},\"id\":\"233b2340-d918-4124-87f1-c919e38b8d0a\",\"type\":\"AdaptiveTicker\"},{\"attributes\":{\"data_source\":{\"id\":\"7eb80fca-db17-4a5b-bacc-0d8daf91d974\",\"type\":\"ColumnDataSource\"},\"glyph\":{\"id\":\"7d0d0270-a220-4279-b919-f04eff936191\",\"type\":\"Line\"},\"hover_glyph\":null,\"nonselection_glyph\":{\"id\":\"c142c632-1e94-45b8-85e3-b0d8cfc92536\",\"type\":\"Line\"},\"selection_glyph\":null},\"id\":\"35a29b5d-6b5e-4660-8f89-dde39e461261\",\"type\":\"GlyphRenderer\"},{\"attributes\":{},\"id\":\"aa7904f7-6d69-4443-a2fa-658fe85a28e6\",\"type\":\"BasicTicker\"},{\"attributes\":{},\"id\":\"35ad8ce8-8372-42f2-80d0-cde4c356a42c\",\"type\":\"DatetimeTickFormatter\"},{\"attributes\":{\"callback\":null,\"column_names\":[\"x\",\"y\"],\"data\":{\"x\":[1286323380000.0,1286323680000.0,1286323980000.0,1286324280000.0,1286324580000.0,1286324880000.0,1286325180000.0,1286325480000.0,1286325780000.0,1286326080000.0,1286326380000.0,1286326680000.0,1286326980000.0,1286327280000.0,1286327580000.0,1286327880000.0,1286328180000.0,1286328480000.0,1286328780000.0,1286329080000.0,1286329380000.0,1286329680000.0,1286329980000.0,1286330280000.0,1286330580000.0,1286330880000.0,1286331180000.0,1286331480000.0,1286331780000.0,1286332080000.0,1286332380000.0,1286332680000.0,1286332980000.0,1286333280000.0,1286333580000.0,1286333880000.0,1286334180000.0,1286334480000.0,1286334780000.0,1286335080000.0,1286335380000.0,1286335680000.0,1286335980000.0,1286336280000.0,1286336580000.0,1286336880000.0,1286337180000.0,1286337480000.0,1286337780000.0,1286338080000.0,1286338380000.0,1286338680000.0,1286338980000.0,1286339280000.0,1286339580000.0,1286339880000.0,1286340180000.0,1286340480000.0,1286340780000.0,1286341080000.0,1286341380000.0,1286341680000.0,1286341980000.0,1286342280000.0,1286342580000.0,1286342880000.0,1286343180000.0,1286343480000.0,1286343780000.0,1286344080000.0,1286344380000.0,1286344680000.0,1286344980000.0,1286345280000.0,1286345580000.0,1286345880000.0,1286346180000.0,1286346480000.0,1286346780000.0,1286347080000.0,1286347380000.0,1286347680000.0,1286347980000.0,1286348280000.0,1286348580000.0,1286348880000.0,1286349180000.0,1286349480000.0,1286349780000.0,1286350080000.0,1286350380000.0,1286350680000.0,1286350980000.0,1286351280000.0,1286351580000.0,1286351880000.0,1286352180000.0,1286352480000.0,1286352780000.0,1286353080000.0,1286353380000.0,1286353680000.0,1286353980000.0,1286354280000.0,1286354580000.0,1286354880000.0,1286355180000.0,1286355480000.0,1286355780000.0,1286356080000.0,1286356380000.0,1286356680000.0,1286356980000.0,1286357280000.0,1286357580000.0,1286357880000.0,1286358180000.0,1286358480000.0,1286358780000.0,1286359080000.0,1286359380000.0,1286359680000.0,1286359980000.0,1286360280000.0,1286360580000.0,1286360880000.0,1286361180000.0,1286361480000.0,1286361780000.0,1286362080000.0,1286362380000.0,1286362680000.0,1286362980000.0,1286363280000.0,1286363580000.0,1286363880000.0,1286364180000.0,1286364480000.0,1286364780000.0,1286365080000.0,1286365380000.0,1286365680000.0,1286365980000.0,1286366280000.0,1286366580000.0,1286366880000.0,1286367180000.0,1286367480000.0,1286367780000.0,1286368080000.0,1286368380000.0,1286368680000.0,1286368980000.0,1286369280000.0,1286369580000.0,1286369880000.0,1286370180000.0,1286370480000.0,1286370780000.0,1286371080000.0,1286371380000.0,1286371680000.0,1286371980000.0,1286372280000.0,1286372580000.0,1286372880000.0,1286373180000.0,1286373480000.0,1286373780000.0,1286374080000.0,1286374380000.0,1286374680000.0,1286374980000.0,1286375280000.0,1286375580000.0,1286375880000.0,1286376180000.0,1286376480000.0,1286376780000.0,1286377080000.0,1286377380000.0,1286377680000.0,1286377980000.0,1286378280000.0,1286378580000.0,1286378880000.0,1286379180000.0,1286379480000.0,1286379780000.0,1286380080000.0,1286380380000.0,1286380680000.0,1286380980000.0,1286381280000.0,1286381580000.0,1286381880000.0,1286382180000.0,1286382480000.0,1286382780000.0,1286383080000.0,1286383380000.0,1286383680000.0,1286383980000.0,1286384280000.0,1286384580000.0,1286384880000.0,1286385180000.0,1286385480000.0,1286385780000.0,1286386080000.0,1286386380000.0,1286386680000.0,1286386980000.0,1286387280000.0,1286387580000.0,1286387880000.0,1286388180000.0,1286388480000.0,1286388780000.0,1286389080000.0,1286389380000.0,1286389680000.0,1286389980000.0,1286390280000.0,1286390580000.0,1286390880000.0,1286391180000.0,1286391480000.0,1286391780000.0,1286392080000.0,1286392380000.0,1286392680000.0,1286392980000.0,1286393280000.0,1286393580000.0,1286393880000.0,1286394180000.0,1286394480000.0,1286394780000.0,1286395080000.0,1286395380000.0,1286395680000.0,1286395980000.0,1286396280000.0,1286396580000.0,1286396880000.0,1286397180000.0,1286397480000.0,1286397780000.0,1286398080000.0,1286398380000.0,1286398680000.0,1286398980000.0,1286399280000.0,1286399580000.0,1286399880000.0,1286400180000.0,1286400480000.0,1286400780000.0,1286401080000.0,1286401380000.0,1286401680000.0,1286401980000.0,1286402280000.0,1286402580000.0,1286402880000.0,1286403180000.0,1286403480000.0,1286403780000.0,1286404080000.0,1286404380000.0,1286404680000.0,1286404980000.0,1286405280000.0,1286405580000.0,1286405880000.0,1286406180000.0,1286406480000.0,1286406780000.0,1286407080000.0,1286407380000.0,1286407680000.0,1286407980000.0,1286408280000.0,1286408580000.0,1286408880000.0,1286409180000.0,1286409480000.0,1286409780000.0,1286410080000.0,1286410380000.0,1286410680000.0,1286410980000.0,1286411280000.0,1286411580000.0,1286411880000.0,1286412180000.0,1286412480000.0,1286412780000.0,1286413080000.0,1286413380000.0,1286413680000.0,1286413980000.0,1286414280000.0,1286414580000.0,1286414880000.0,1286415180000.0,1286415480000.0,1286415780000.0,1286416080000.0,1286416380000.0,1286416680000.0,1286416980000.0,1286417280000.0,1286417580000.0,1286417880000.0,1286418180000.0,1286418480000.0,1286418780000.0,1286419080000.0,1286419380000.0,1286419680000.0,1286419980000.0,1286420280000.0,1286420580000.0,1286420880000.0,1286421180000.0,1286421480000.0,1286421780000.0,1286422080000.0,1286422380000.0,1286422680000.0,1286422980000.0,1286423280000.0,1286423580000.0,1286423880000.0,1286424180000.0,1286424480000.0,1286424780000.0,1286425080000.0,1286425380000.0,1286425680000.0,1286425980000.0,1286426280000.0,1286426580000.0,1286426880000.0,1286427180000.0,1286427480000.0,1286427780000.0,1286428080000.0,1286428380000.0,1286428680000.0,1286428980000.0,1286429280000.0,1286429580000.0,1286429880000.0,1286430180000.0,1286430480000.0,1286430780000.0,1286431080000.0,1286431380000.0,1286431680000.0,1286431980000.0,1286432280000.0,1286432580000.0,1286432880000.0,1286433180000.0,1286433480000.0,1286433780000.0,1286434080000.0,1286434380000.0,1286434680000.0,1286434980000.0,1286435280000.0,1286435580000.0,1286435880000.0,1286436180000.0,1286436480000.0,1286436780000.0,1286437080000.0,1286437380000.0,1286437680000.0,1286437980000.0,1286438280000.0,1286438580000.0,1286438880000.0,1286439180000.0,1286439480000.0,1286439780000.0,1286440080000.0,1286440380000.0,1286440680000.0,1286440980000.0,1286441280000.0,1286441580000.0,1286441880000.0,1286442180000.0,1286442480000.0,1286442780000.0,1286443080000.0,1286443380000.0,1286443680000.0,1286443980000.0,1286444280000.0,1286444580000.0,1286444880000.0,1286445180000.0,1286445480000.0,1286445780000.0,1286446080000.0,1286446380000.0,1286446680000.0,1286446980000.0,1286447280000.0,1286447580000.0,1286447880000.0,1286448180000.0,1286448480000.0,1286448780000.0,1286449080000.0,1286449380000.0,1286449680000.0,1286449980000.0,1286450280000.0,1286450580000.0,1286450880000.0,1286451180000.0,1286451480000.0,1286451780000.0,1286452080000.0,1286452380000.0,1286452680000.0,1286452980000.0,1286453280000.0,1286453580000.0,1286453880000.0,1286454180000.0,1286454480000.0,1286454780000.0,1286455080000.0,1286455380000.0,1286455680000.0,1286455980000.0,1286456280000.0,1286456580000.0,1286456880000.0,1286457180000.0,1286457480000.0,1286457780000.0,1286458080000.0,1286458380000.0,1286458680000.0,1286458980000.0,1286459280000.0,1286459580000.0,1286459880000.0,1286460180000.0,1286460480000.0,1286460780000.0,1286461080000.0,1286461380000.0,1286461680000.0,1286461980000.0,1286462280000.0,1286462580000.0,1286462880000.0,1286463180000.0,1286463480000.0,1286463780000.0,1286464080000.0,1286464380000.0,1286464680000.0,1286464980000.0,1286465280000.0,1286465580000.0,1286465880000.0,1286466180000.0,1286466480000.0,1286466780000.0,1286467080000.0,1286467380000.0,1286467680000.0,1286467980000.0,1286468280000.0,1286468580000.0,1286468880000.0,1286469180000.0,1286469480000.0,1286469780000.0,1286470080000.0,1286470380000.0,1286470680000.0,1286470980000.0,1286471280000.0,1286471580000.0,1286471880000.0,1286472180000.0,1286472480000.0,1286472780000.0,1286473080000.0,1286473380000.0,1286473680000.0,1286473980000.0,1286474280000.0,1286474580000.0,1286474880000.0,1286475180000.0,1286475480000.0,1286475780000.0,1286476080000.0,1286476380000.0,1286476680000.0,1286476980000.0,1286477280000.0,1286477580000.0,1286477880000.0,1286478180000.0,1286478480000.0,1286478780000.0,1286479080000.0,1286479380000.0,1286479680000.0,1286479980000.0,1286480280000.0,1286480580000.0,1286480880000.0,1286481180000.0,1286481480000.0,1286481780000.0,1286482080000.0,1286482380000.0,1286482680000.0,1286482980000.0,1286483280000.0,1286483580000.0,1286483880000.0,1286484180000.0,1286484480000.0,1286484780000.0,1286485080000.0,1286485380000.0,1286485680000.0,1286485980000.0,1286486280000.0,1286486580000.0,1286486880000.0,1286487180000.0,1286487480000.0,1286487780000.0,1286488080000.0,1286488380000.0,1286488680000.0,1286488980000.0,1286489280000.0,1286489580000.0,1286489880000.0,1286490180000.0,1286490480000.0,1286490780000.0,1286491080000.0,1286491380000.0,1286491680000.0,1286491980000.0,1286492280000.0,1286492580000.0,1286492880000.0,1286493180000.0,1286493480000.0,1286493780000.0,1286494080000.0,1286494380000.0,1286494680000.0,1286494980000.0,1286495280000.0,1286495580000.0,1286495880000.0,1286496180000.0,1286496480000.0,1286496780000.0,1286497080000.0,1286497380000.0,1286497680000.0,1286497980000.0,1286498280000.0,1286498580000.0,1286498880000.0,1286499180000.0,1286499480000.0,1286499780000.0,1286500080000.0,1286500380000.0,1286500680000.0,1286500980000.0,1286501280000.0,1286501580000.0,1286501880000.0,1286502180000.0,1286502480000.0,1286502780000.0,1286503080000.0,1286503380000.0,1286503680000.0,1286503980000.0,1286504280000.0,1286504580000.0,1286504880000.0,1286505180000.0,1286505480000.0,1286505780000.0,1286506080000.0,1286506380000.0,1286506680000.0,1286506980000.0,1286507280000.0,1286507580000.0,1286507880000.0,1286508180000.0,1286508480000.0,1286508780000.0,1286509080000.0,1286509380000.0,1286509680000.0,1286509980000.0,1286510280000.0,1286510580000.0,1286510880000.0,1286511180000.0,1286511480000.0,1286511780000.0,1286512080000.0,1286512380000.0,1286512680000.0,1286512980000.0,1286513280000.0,1286513580000.0,1286513880000.0,1286514180000.0,1286514480000.0,1286514780000.0,1286515080000.0,1286515380000.0,1286515680000.0,1286515980000.0,1286516280000.0,1286516580000.0,1286516880000.0,1286517180000.0,1286517480000.0,1286517780000.0,1286518080000.0,1286518380000.0,1286518680000.0,1286518980000.0,1286519280000.0,1286519580000.0,1286519880000.0,1286520180000.0,1286520480000.0,1286520780000.0,1286521080000.0,1286521380000.0,1286531520000.0,1286531820000.0,1286532120000.0,1286532420000.0,1286532720000.0,1286533020000.0,1286533320000.0,1286533620000.0,1286533920000.0,1286534220000.0,1286534520000.0,1286534820000.0,1286535120000.0,1286535420000.0,1286535720000.0,1286536020000.0,1286536320000.0,1286536620000.0,1286536920000.0,1286537220000.0,1286537520000.0,1286537820000.0,1286538120000.0,1286538420000.0,1286538720000.0,1286539020000.0,1286539320000.0,1286539620000.0,1286539920000.0,1286540220000.0,1286540520000.0,1286540820000.0,1286541120000.0,1286541420000.0,1286541720000.0,1286542020000.0,1286542320000.0,1286542620000.0,1286542920000.0,1286543220000.0,1286543520000.0,1286543820000.0,1286544120000.0,1286544420000.0,1286544720000.0,1286545020000.0,1286545320000.0,1286545620000.0,1286545920000.0,1286546220000.0,1286546520000.0,1286546820000.0,1286547120000.0,1286547420000.0,1286547720000.0,1286548020000.0,1286548320000.0,1286548620000.0,1286548920000.0,1286549220000.0,1286549520000.0,1286549820000.0,1286550120000.0,1286550420000.0,1286550720000.0,1286551020000.0,1286551320000.0,1286551620000.0,1286551920000.0,1286552220000.0,1286552520000.0,1286552820000.0,1286553120000.0,1286553420000.0,1286553720000.0,1286554020000.0,1286554320000.0,1286554620000.0,1286554920000.0,1286555220000.0,1286555520000.0,1286555820000.0,1286556120000.0,1286556420000.0,1286556720000.0,1286557020000.0,1286557320000.0,1286557620000.0,1286557920000.0,1286558220000.0,1286558520000.0,1286558820000.0,1286559120000.0,1286559420000.0,1286559720000.0,1286560020000.0,1286560320000.0,1286560620000.0,1286560920000.0,1286561220000.0,1286561520000.0,1286561820000.0,1286562120000.0,1286562420000.0,1286562720000.0,1286563020000.0,1286563320000.0,1286563620000.0,1286563920000.0,1286564220000.0,1286564520000.0,1286566320000.0,1286566620000.0,1286566920000.0,1286567220000.0,1286567520000.0,1286567820000.0,1286568120000.0,1286568420000.0,1286568720000.0,1286569020000.0,1286569320000.0,1286569620000.0,1286569920000.0,1286570220000.0,1286570520000.0,1286570820000.0,1286571120000.0,1286571420000.0,1286571720000.0,1286572020000.0,1286572320000.0,1286572620000.0,1286572920000.0,1286573220000.0,1286573520000.0,1286573820000.0,1286574120000.0,1286574420000.0,1286574720000.0,1286575020000.0,1286575320000.0,1286575620000.0,1286575920000.0,1286576220000.0,1286576520000.0,1286576820000.0,1286577120000.0,1286577420000.0,1286577720000.0,1286578020000.0,1286578320000.0,1286578620000.0,1286578920000.0,1286579220000.0,1286579520000.0,1286579820000.0,1286580120000.0,1286580420000.0,1286580720000.0,1286581020000.0,1286581320000.0,1286581620000.0,1286581920000.0,1286582220000.0,1286582520000.0,1286582820000.0,1286583120000.0,1286583420000.0,1286583720000.0,1286584020000.0,1286584320000.0,1286584620000.0,1286584920000.0,1286585220000.0,1286585520000.0,1286585820000.0,1286586120000.0,1286586420000.0,1286586720000.0,1286587020000.0,1286587320000.0,1286587620000.0,1286587920000.0,1286588220000.0,1286588520000.0,1286588820000.0,1286589120000.0,1286589420000.0,1286589720000.0,1286590020000.0,1286590320000.0,1286590620000.0,1286590920000.0,1286591220000.0,1286591520000.0,1286591820000.0,1286592120000.0,1286592420000.0,1286592720000.0,1286593020000.0,1286593320000.0,1286593620000.0,1286593920000.0,1286594220000.0,1286594520000.0,1286594820000.0,1286595120000.0,1286595420000.0,1286595720000.0,1286596020000.0,1286596320000.0,1286596620000.0,1286596920000.0,1286597220000.0,1286597520000.0,1286597820000.0,1286598120000.0,1286598420000.0,1286598720000.0,1286599020000.0,1286599320000.0,1286599620000.0,1286599920000.0,1286600220000.0,1286600520000.0,1286600820000.0,1286601120000.0,1286601420000.0,1286601720000.0,1286602020000.0,1286602320000.0,1286602620000.0,1286602920000.0,1286603220000.0,1286603520000.0,1286603820000.0,1286604120000.0,1286604420000.0,1286604720000.0,1286605020000.0,1286605320000.0,1286605620000.0,1286605920000.0,1286606220000.0,1286606520000.0,1286606820000.0,1286607120000.0,1286607420000.0,1286607720000.0,1286608020000.0,1286608320000.0,1286608620000.0,1286608920000.0,1286609220000.0,1286609520000.0,1286609820000.0,1286610120000.0,1286610420000.0,1286610720000.0,1286611020000.0,1286611320000.0,1286611620000.0,1286611920000.0,1286612220000.0,1286612520000.0,1286612820000.0,1286613120000.0,1286613420000.0,1286613720000.0,1286614020000.0,1286614320000.0,1286614620000.0,1286614920000.0,1286615220000.0,1286615520000.0,1286615820000.0,1286616120000.0,1286616420000.0,1286616720000.0,1286617020000.0,1286617320000.0,1286617620000.0,1286617920000.0,1286618220000.0,1286618520000.0,1286618820000.0,1286619120000.0,1286619420000.0,1286619720000.0,1286620020000.0,1286620320000.0,1286620620000.0,1286620920000.0,1286621220000.0,1286621520000.0,1286621820000.0,1286622120000.0,1286622420000.0,1286622720000.0,1286623020000.0,1286623320000.0,1286623620000.0,1286623920000.0,1286624220000.0,1286624520000.0,1286624820000.0,1286625120000.0,1286625420000.0,1286625720000.0,1286626020000.0,1286626320000.0,1286626620000.0,1286626920000.0,1286627220000.0,1286627520000.0,1286627820000.0,1286628120000.0,1286628420000.0,1286628720000.0,1286629020000.0,1286629320000.0,1286629620000.0,1286629920000.0,1286630220000.0,1286630520000.0,1286630820000.0,1286631120000.0,1286631420000.0,1286631720000.0,1286632020000.0,1286632320000.0,1286632620000.0,1286632920000.0,1286633220000.0,1286633520000.0,1286633820000.0,1286634120000.0,1286634420000.0,1286634720000.0,1286635020000.0,1286635320000.0,1286635620000.0,1286635920000.0,1286636220000.0,1286636520000.0,1286636820000.0,1286637120000.0,1286637420000.0,1286637720000.0,1286638020000.0,1286638320000.0,1286638620000.0,1286638920000.0,1286639220000.0,1286639520000.0,1286639820000.0,1286640120000.0,1286640420000.0,1286640720000.0,1286641020000.0,1286641320000.0,1286641620000.0,1286641920000.0,1286642220000.0,1286642520000.0,1286642820000.0,1286643120000.0,1286643420000.0,1286643720000.0,1286644020000.0,1286644320000.0,1286644620000.0,1286644920000.0,1286645220000.0,1286645520000.0,1286645820000.0,1286646120000.0,1286646420000.0,1286646720000.0,1286647020000.0,1286647320000.0,1286647620000.0,1286647920000.0,1286648220000.0,1286648520000.0,1286648820000.0,1286649120000.0,1286649420000.0,1286649720000.0,1286650020000.0,1286650320000.0,1286650620000.0,1286650920000.0,1286651220000.0,1286651520000.0,1286651820000.0,1286652120000.0,1286652420000.0,1286652720000.0,1286653020000.0,1286653320000.0,1286653620000.0,1286653920000.0,1286654220000.0,1286654520000.0,1286654820000.0,1286655120000.0,1286655420000.0,1286655720000.0,1286656020000.0,1286656320000.0,1286656620000.0,1286656920000.0,1286657220000.0,1286657520000.0,1286657820000.0,1286658120000.0,1286658420000.0,1286658720000.0,1286659020000.0,1286659320000.0,1286659620000.0,1286659920000.0,1286660220000.0,1286660520000.0,1286660820000.0,1286661120000.0,1286661420000.0,1286661720000.0,1286662020000.0,1286662320000.0,1286662620000.0,1286662920000.0,1286663220000.0,1286663520000.0,1286663820000.0,1286664120000.0,1286664420000.0,1286664720000.0,1286665020000.0,1286665320000.0,1286665620000.0,1286665920000.0,1286666220000.0,1286666520000.0,1286666820000.0,1286667120000.0,1286667420000.0,1286667720000.0,1286668020000.0,1286668320000.0,1286668620000.0,1286668920000.0,1286669220000.0,1286669520000.0,1286669820000.0,1286670120000.0,1286670420000.0,1286670720000.0,1286671020000.0,1286671320000.0,1286671620000.0,1286671920000.0,1286672220000.0,1286672520000.0,1286672820000.0,1286673120000.0,1286673420000.0,1286673720000.0,1286674020000.0,1286674320000.0,1286674620000.0,1286674920000.0,1286675220000.0,1286675520000.0,1286675820000.0,1286676120000.0,1286676420000.0,1286676720000.0,1286677020000.0,1286677320000.0,1286677620000.0,1286677920000.0,1286678220000.0,1286678520000.0,1286678820000.0,1286679120000.0,1286679420000.0,1286679720000.0,1286680020000.0,1286680320000.0,1286680620000.0,1286680920000.0,1286681220000.0,1286681520000.0,1286681820000.0,1286682120000.0,1286682420000.0,1286682720000.0,1286683020000.0,1286683320000.0,1286683620000.0,1286683920000.0,1286684220000.0,1286684520000.0,1286684820000.0,1286685120000.0,1286685420000.0,1286685720000.0,1286686020000.0,1286686320000.0,1286686620000.0,1286686920000.0,1286687220000.0,1286687520000.0,1286687820000.0,1286688120000.0,1286688420000.0,1286688720000.0,1286689020000.0,1286689320000.0,1286689620000.0,1286689920000.0,1286690220000.0,1286690520000.0,1286690820000.0,1286691120000.0,1286691420000.0,1286691720000.0,1286692020000.0,1286692320000.0,1286692620000.0,1286692920000.0,1286693220000.0,1286693520000.0,1286693820000.0,1286694120000.0,1286694420000.0,1286694720000.0,1286695020000.0,1286695320000.0,1286695620000.0,1286695920000.0,1286696220000.0,1286696520000.0,1286696820000.0,1286697120000.0,1286697420000.0,1286697720000.0,1286698020000.0,1286698320000.0,1286698620000.0,1286698920000.0,1286699220000.0,1286699520000.0,1286699820000.0,1286700120000.0,1286700420000.0,1286700720000.0,1286701020000.0,1286701320000.0,1286701620000.0,1286701920000.0,1286702220000.0,1286702520000.0,1286702820000.0,1286703120000.0,1286703420000.0,1286703720000.0,1286704020000.0,1286704320000.0,1286704620000.0,1286704920000.0,1286705220000.0,1286705520000.0,1286705820000.0,1286706120000.0,1286706420000.0,1286706720000.0,1286707020000.0,1286707320000.0,1286707620000.0,1286707920000.0,1286708220000.0,1286708520000.0,1286708820000.0,1286709120000.0,1286709420000.0,1286709720000.0,1286710020000.0,1286710320000.0,1286710620000.0,1286710920000.0,1286711220000.0,1286711520000.0,1286711820000.0,1286712120000.0,1286712420000.0,1286712720000.0,1286713020000.0,1286713320000.0,1286713620000.0,1286713920000.0,1286714220000.0,1286714520000.0,1286714820000.0,1286715120000.0,1286715420000.0,1286715720000.0,1286716020000.0,1286716320000.0,1286716620000.0,1286716920000.0,1286717220000.0,1286717520000.0,1286717820000.0,1286718120000.0,1286718420000.0,1286718720000.0,1286719020000.0,1286719320000.0,1286719620000.0,1286719920000.0,1286720220000.0,1286720520000.0,1286720820000.0,1286721120000.0,1286721420000.0,1286721720000.0,1286723520000.0,1286723820000.0,1286724120000.0,1286724420000.0,1286724720000.0,1286725020000.0,1286725320000.0,1286725620000.0,1286725920000.0,1286726220000.0,1286726520000.0,1286726820000.0,1286727120000.0,1286727420000.0,1286727720000.0,1286728020000.0,1286728320000.0,1286728620000.0,1286728920000.0,1286729220000.0,1286729520000.0,1286729820000.0,1286730120000.0,1286730420000.0,1286730720000.0,1286731020000.0,1286731320000.0,1286731620000.0,1286731920000.0,1286732220000.0,1286732520000.0,1286732820000.0,1286733120000.0,1286733420000.0,1286733720000.0,1286734020000.0,1286734320000.0,1286734620000.0,1286734920000.0,1286735220000.0,1286735520000.0,1286735820000.0,1286736120000.0,1286736420000.0,1286736720000.0,1286737020000.0,1286737320000.0,1286737620000.0,1286737920000.0,1286738220000.0,1286738520000.0,1286738820000.0,1286739120000.0,1286739420000.0,1286739720000.0,1286740020000.0,1286740320000.0,1286740620000.0,1286740920000.0,1286741220000.0,1286741520000.0,1286741820000.0,1286742120000.0,1286742420000.0,1286742720000.0,1286743020000.0,1286743320000.0,1286743620000.0,1286743920000.0,1286744220000.0,1286744520000.0,1286744820000.0,1286745120000.0,1286745420000.0,1286745720000.0,1286746020000.0,1286746320000.0,1286746620000.0,1286746920000.0,1286747220000.0,1286747520000.0,1286747820000.0,1286748120000.0,1286748420000.0,1286748720000.0,1286749020000.0,1286749320000.0,1286749620000.0,1286749920000.0,1286750220000.0,1286750520000.0,1286750820000.0,1286751120000.0,1286751420000.0,1286751720000.0,1286752020000.0,1286752320000.0,1286752620000.0,1286752920000.0,1286753220000.0,1286753520000.0,1286753820000.0,1286754120000.0,1286754420000.0,1286754720000.0,1286755020000.0],\"y\":[143,147,150,152,152,152,154,155,142,140,138,134,131,130,128,127,126,126,126,126,127,129,131,132,134,136,136,136,136,135,134,132,130,130,130,129,128,127,125,124,123,123,122,121,120,118,115,112,111,111,110,110,109,108,107,107,107,108,107,105,105,105,105,104,103,102,99,97,96,94,94,93,93,92,91,92,94,95,96,97,99,102,104,112,112,112,111,110,107,104,105,105,103,99,96,94,95,102,114,128,144,160,173,185,196,205,209,214,219,226,234,241,248,255,260,265,268,270,272,271,271,268,265,261,256,253,250,246,244,241,237,233,229,225,222,204,200,197,193,190,186,182,179,175,171,168,164,158,154,151,148,145,141,133,139,152,173,196,217,233,244,249,250,253,256,260,263,265,265,264,260,254,246,234,217,200,188,181,175,169,164,159,154,147,138,132,129,127,123,117,111,106,104,103,100,94,88,83,78,75,73,71,69,68,67,67,68,70,71,71,70,69,68,67,67,67,66,67,69,71,74,76,78,80,80,80,80,80,80,82,84,87,90,92,87,87,86,86,86,86,87,87,87,85,83,82,83,87,95,107,118,130,141,149,172,179,187,201,214,221,225,230,232,230,223,216,208,199,191,185,181,177,176,177,176,173,171,169,163,154,152,153,154,154,153,151,150,150,150,152,149,147,148,150,152,152,152,151,151,150,149,147,146,143,140,138,136,137,138,140,138,135,132,130,129,129,129,130,130,129,128,128,128,129,129,128,127,126,125,125,125,125,124,124,121,120,120,123,124,123,122,120,115,113,114,114,115,116,115,112,111,111,109,108,107,107,110,113,114,115,115,115,114,113,113,116,119,120,121,121,122,123,124,125,126,126,126,126,126,127,127,125,122,118,115,111,112,115,117,120,124,127,131,137,143,148,153,159,166,172,178,184,191,199,206,212,217,223,229,232,233,235,237,240,241,243,246,247,246,243,240,234,229,225,221,217,216,215,215,215,212,208,203,199,196,194,190,185,180,177,163,158,152,149,153,163,174,182,188,192,195,197,201,204,205,203,199,195,189,184,176,169,162,150,138,128,119,110,100,90,80,73,68,64,63,63,66,68,70,71,72,74,80,94,116,141,164,183,198,210,220,228,233,237,241,247,252,256,260,259,258,256,251,245,238,234,227,221,215,208,207,207,203,201,201,199,179,176,171,163,152,137,119,98,77,61,50,45,47,59,71,86,99,109,116,117,115,111,107,102,96,91,90,94,97,97,95,92,87,84,84,83,84,86,86,86,84,82,82,81,81,82,84,87,89,91,92,94,93,93,94,96,100,101,99,97,96,96,97,97,98,99,101,102,106,114,121,127,130,124,105,109,119,127,129,132,129,126,126,126,126,126,125,124,125,130,130,128,126,126,126,126,126,126,126,127,128,129,129,127,128,136,141,143,141,138,131,129,133,134,130,129,134,137,139,138,130,122,118,115,114,113,113,112,112,117,118,117,118,118,117,117,114,112,115,118,124,126,119,121,122,274,285,293,297,298,298,296,293,289,282,275,267,256,249,242,233,225,217,217,215,203,190,185,193,202,202,194,182,170,143,130,120,110,102,93,80,67,57,52,50,49,49,54,72,93,104,114,125,134,140,145,145,141,136,130,124,118,116,114,112,108,105,102,99,95,91,88,85,83,82,80,79,79,83,86,87,88,89,89,88,88,90,92,88,86,86,86,84,82,84,88,90,94,99,104,107,107,105,104,103,95,94,93,93,93,93,93,94,99,109,122,172,169,164,156,147,137,126,115,104,99,99,103,106,111,115,117,118,120,120,120,120,119,119,118,118,117,116,115,115,116,116,115,115,114,112,109,110,111,111,110,109,109,109,108,107,106,105,101,100,99,99,98,97,97,97,98,88,96,106,115,121,124,124,124,122,122,122,123,125,126,128,129,130,132,134,135,135,134,133,131,129,127,127,127,127,127,128,127,126,125,125,127,129,130,130,130,130,129,127,125,124,122,121,121,120,118,115,114,113,113,113,113,114,113,113,111,109,109,110,109,110,110,111,112,112,111,109,109,109,111,114,116,118,119,120,122,122,123,123,123,123,124,124,123,123,123,123,123,124,125,125,126,127,127,126,126,126,124,121,120,118,116,115,113,112,110,108,107,109,111,111,112,112,111,108,105,103,101,99,80,79,79,77,77,82,92,104,115,123,128,132,138,142,146,148,148,144,139,132,126,121,118,116,115,113,111,107,102,96,89,83,79,77,75,75,75,75,76,76,75,74,73,73,71,70,68,67,66,65,64,59,61,66,70,72,72,71,68,64,60,57,56,56,57,58,60,64,68,72,75,77,77,76,73,70,67,65,63,62,61,60,59,58,57,57,57,57,58,59,62,67,76,84,89,95,106,117,126,132,136,139,143,152,164,176,185,192,200,210,219,226,231,235,239,241,241,264,261,254,244,234,220,201,184,172,161,150,141,135,129,125,121,117,112,107,102,99,95,90,87,84,80,76,72,68,66,64,64,64,66,72,79,87,92,97,102,105,107,110,113,115,114,114,114,115,117,119,120,121,122,123,124,125,126,127,127,128,127,126,125,123,122,121,121,120,119,118,117,119,122,123,123,122,121,121,120,120,120,119,118,117,117,117,118,118,118,118,116,114,113,112,113,115,118,119,120,121,122,122,123,123,123,123,123,122,122,121,119,118,117,117,118,118,118,119,119,119,120,121,121,121,121,121,121,120,120,120,120,119,118,118,117,116,115,115,115,116,116,116,115,114,115,116,115,114,115,116,114,114,113,113,112,112,111,109,108,108,107,107,107,107,107,110,113,116,129,129,129,128,125,121,120,121,124,128,129,129,126,121,115,110,107,105,104,107,112,119,130,141,153,164,174,184,196,207,218,229,280,292,299,300,301,302,303,302,295,286,277,264,248,232,218,207,199,191,183,177,172,166,123,117,110,102,94,87,84,83,83,83,85,87,90,90,91,92,94,96,97,98,100,103,105,110,125,154,182,213,250,285,306,311,320,331,359,373,378,378,374,370,367,364,362,360,353,339,321,302,287,276,267,262,261,263,266,269,270,268,243,238,235,231,224,215,202,192,183,177,170,162,156,151,147,144,140,131,120,109,102,112,127,142,155,164,170,171,171,171,169,166,162,158,157,157,156,156,155,155,155,155,158,160,160,160,161,165]}},\"id\":\"7eb80fca-db17-4a5b-bacc-0d8daf91d974\",\"type\":\"ColumnDataSource\"},{\"attributes\":{\"days\":[1,8,15,22]},\"id\":\"09127195-b4ef-43d8-a4a5-9c51aa5fb23d\",\"type\":\"DaysTicker\"},{\"attributes\":{\"below\":[{\"id\":\"b4a5e973-b05a-422f-8d75-5afded85a28d\",\"type\":\"DatetimeAxis\"}],\"left\":[{\"id\":\"cd041412-aa28-4613-a352-1f87d54d1659\",\"type\":\"LinearAxis\"}],\"renderers\":[{\"id\":\"b4a5e973-b05a-422f-8d75-5afded85a28d\",\"type\":\"DatetimeAxis\"},{\"id\":\"de457ca9-1cef-4380-98b4-8dd0f6ad112b\",\"type\":\"Grid\"},{\"id\":\"cd041412-aa28-4613-a352-1f87d54d1659\",\"type\":\"LinearAxis\"},{\"id\":\"ace2f9f7-dfd2-4cee-8b2c-e6c83baf83a4\",\"type\":\"Grid\"},{\"id\":\"55f60607-cf7d-472a-8d2c-0e0372f2b594\",\"type\":\"BoxAnnotation\"},{\"id\":\"35a29b5d-6b5e-4660-8f89-dde39e461261\",\"type\":\"GlyphRenderer\"}],\"title\":{\"id\":\"78bc6d6e-18bc-4267-a3a6-4d93593831c6\",\"type\":\"Title\"},\"tool_events\":{\"id\":\"3f927494-08c7-49a5-a8ff-228fb7642fb6\",\"type\":\"ToolEvents\"},\"toolbar\":{\"id\":\"5ca69337-0c7c-4419-8922-46da5f1d23d9\",\"type\":\"Toolbar\"},\"x_range\":{\"id\":\"93ba8f65-7980-46c4-b97e-eb43e773e2c9\",\"type\":\"DataRange1d\"},\"y_range\":{\"id\":\"e7baedba-e909-4eb8-89ca-424d5df1324c\",\"type\":\"DataRange1d\"}},\"id\":\"98af74e5-d56b-4dd0-b2fb-31239eec504a\",\"subtype\":\"Figure\",\"type\":\"Plot\"},{\"attributes\":{\"overlay\":{\"id\":\"55f60607-cf7d-472a-8d2c-0e0372f2b594\",\"type\":\"BoxAnnotation\"},\"plot\":{\"id\":\"98af74e5-d56b-4dd0-b2fb-31239eec504a\",\"subtype\":\"Figure\",\"type\":\"Plot\"}},\"id\":\"8fe4b002-fc4f-4e59-8219-1da73cbcbe79\",\"type\":\"BoxZoomTool\"},{\"attributes\":{\"line_alpha\":{\"value\":0.1},\"line_color\":{\"value\":\"#1f77b4\"},\"x\":{\"field\":\"x\"},\"y\":{\"field\":\"y\"}},\"id\":\"c142c632-1e94-45b8-85e3-b0d8cfc92536\",\"type\":\"Line\"},{\"attributes\":{\"plot\":null,\"text\":null},\"id\":\"78bc6d6e-18bc-4267-a3a6-4d93593831c6\",\"type\":\"Title\"},{\"attributes\":{},\"id\":\"224ace60-4035-42f8-9441-c9a6443ae881\",\"type\":\"YearsTicker\"},{\"attributes\":{\"days\":[1,2,3,4,5,6,7,8,9,10,11,12,13,14,15,16,17,18,19,20,21,22,23,24,25,26,27,28,29,30,31]},\"id\":\"60473649-4c8c-4548-b29a-bcbcd35fddf9\",\"type\":\"DaysTicker\"},{\"attributes\":{\"formatter\":{\"id\":\"35ad8ce8-8372-42f2-80d0-cde4c356a42c\",\"type\":\"DatetimeTickFormatter\"},\"major_label_orientation\":0.7853981633974483,\"plot\":{\"id\":\"98af74e5-d56b-4dd0-b2fb-31239eec504a\",\"subtype\":\"Figure\",\"type\":\"Plot\"},\"ticker\":{\"id\":\"a84233fd-38b5-4483-a5f2-e9c2801015ee\",\"type\":\"DatetimeTicker\"}},\"id\":\"b4a5e973-b05a-422f-8d75-5afded85a28d\",\"type\":\"DatetimeAxis\"},{\"attributes\":{\"base\":24,\"mantissas\":[1,2,4,6,8,12],\"max_interval\":43200000.0,\"min_interval\":3600000.0,\"num_minor_ticks\":0},\"id\":\"a6bf3896-97a3-4473-87b2-2deff5abaac2\",\"type\":\"AdaptiveTicker\"},{\"attributes\":{\"days\":[1,4,7,10,13,16,19,22,25,28]},\"id\":\"23106393-ecd9-4e7a-b8f4-6af5a0408896\",\"type\":\"DaysTicker\"},{\"attributes\":{\"bottom_units\":\"screen\",\"fill_alpha\":{\"value\":0.5},\"fill_color\":{\"value\":\"lightgrey\"},\"left_units\":\"screen\",\"level\":\"overlay\",\"line_alpha\":{\"value\":1.0},\"line_color\":{\"value\":\"black\"},\"line_dash\":[4,4],\"line_width\":{\"value\":2},\"plot\":null,\"render_mode\":\"css\",\"right_units\":\"screen\",\"top_units\":\"screen\"},\"id\":\"55f60607-cf7d-472a-8d2c-0e0372f2b594\",\"type\":\"BoxAnnotation\"},{\"attributes\":{\"plot\":{\"id\":\"98af74e5-d56b-4dd0-b2fb-31239eec504a\",\"subtype\":\"Figure\",\"type\":\"Plot\"}},\"id\":\"ca05d297-d44a-4fda-9aa4-a4ad47719695\",\"type\":\"ResetTool\"},{\"attributes\":{},\"id\":\"3f927494-08c7-49a5-a8ff-228fb7642fb6\",\"type\":\"ToolEvents\"},{\"attributes\":{\"plot\":{\"id\":\"98af74e5-d56b-4dd0-b2fb-31239eec504a\",\"subtype\":\"Figure\",\"type\":\"Plot\"}},\"id\":\"3fd878c7-b2f2-451e-bf1e-0d88548e0236\",\"type\":\"WheelZoomTool\"},{\"attributes\":{\"days\":[1,15]},\"id\":\"88d8507d-e87e-40f6-a783-aefe90692441\",\"type\":\"DaysTicker\"},{\"attributes\":{\"active_drag\":\"auto\",\"active_scroll\":\"auto\",\"active_tap\":\"auto\",\"tools\":[{\"id\":\"91a51098-dd58-4f09-b67f-ab85928a71a4\",\"type\":\"PanTool\"},{\"id\":\"3fd878c7-b2f2-451e-bf1e-0d88548e0236\",\"type\":\"WheelZoomTool\"},{\"id\":\"8fe4b002-fc4f-4e59-8219-1da73cbcbe79\",\"type\":\"BoxZoomTool\"},{\"id\":\"baf55995-c155-4096-a457-5a685b81b5c7\",\"type\":\"SaveTool\"},{\"id\":\"ca05d297-d44a-4fda-9aa4-a4ad47719695\",\"type\":\"ResetTool\"},{\"id\":\"41388407-0a00-47cc-af14-278f8374c826\",\"type\":\"HelpTool\"}]},\"id\":\"5ca69337-0c7c-4419-8922-46da5f1d23d9\",\"type\":\"Toolbar\"},{\"attributes\":{\"dimension\":1,\"plot\":{\"id\":\"98af74e5-d56b-4dd0-b2fb-31239eec504a\",\"subtype\":\"Figure\",\"type\":\"Plot\"},\"ticker\":{\"id\":\"aa7904f7-6d69-4443-a2fa-658fe85a28e6\",\"type\":\"BasicTicker\"}},\"id\":\"ace2f9f7-dfd2-4cee-8b2c-e6c83baf83a4\",\"type\":\"Grid\"},{\"attributes\":{},\"id\":\"c1fbed4e-bc0e-4b43-af65-e5c01e9c3f32\",\"type\":\"BasicTickFormatter\"},{\"attributes\":{\"callback\":null},\"id\":\"e7baedba-e909-4eb8-89ca-424d5df1324c\",\"type\":\"DataRange1d\"},{\"attributes\":{\"callback\":null},\"id\":\"93ba8f65-7980-46c4-b97e-eb43e773e2c9\",\"type\":\"DataRange1d\"},{\"attributes\":{\"line_color\":{\"value\":\"gray\"},\"x\":{\"field\":\"x\"},\"y\":{\"field\":\"y\"}},\"id\":\"7d0d0270-a220-4279-b919-f04eff936191\",\"type\":\"Line\"},{\"attributes\":{\"plot\":{\"id\":\"98af74e5-d56b-4dd0-b2fb-31239eec504a\",\"subtype\":\"Figure\",\"type\":\"Plot\"}},\"id\":\"baf55995-c155-4096-a457-5a685b81b5c7\",\"type\":\"SaveTool\"},{\"attributes\":{\"months\":[0,2,4,6,8,10]},\"id\":\"82523a66-cc65-400e-9cdf-92ebc7d9ae44\",\"type\":\"MonthsTicker\"},{\"attributes\":{\"months\":[0,1,2,3,4,5,6,7,8,9,10,11]},\"id\":\"9f040185-ed5c-4e4a-a5fe-300b22462107\",\"type\":\"MonthsTicker\"},{\"attributes\":{\"formatter\":{\"id\":\"c1fbed4e-bc0e-4b43-af65-e5c01e9c3f32\",\"type\":\"BasicTickFormatter\"},\"plot\":{\"id\":\"98af74e5-d56b-4dd0-b2fb-31239eec504a\",\"subtype\":\"Figure\",\"type\":\"Plot\"},\"ticker\":{\"id\":\"aa7904f7-6d69-4443-a2fa-658fe85a28e6\",\"type\":\"BasicTicker\"}},\"id\":\"cd041412-aa28-4613-a352-1f87d54d1659\",\"type\":\"LinearAxis\"}],\"root_ids\":[\"98af74e5-d56b-4dd0-b2fb-31239eec504a\"]},\"title\":\"Bokeh Application\",\"version\":\"0.12.1\"}};\n",
       "            var render_items = [{\"docid\":\"c59438db-fa6a-4e65-8f32-6f771590482a\",\"elementid\":\"86d808cc-4038-4f82-9668-b33e18fbb5c5\",\"modelid\":\"98af74e5-d56b-4dd0-b2fb-31239eec504a\",\"notebook_comms_target\":\"07d168e9-bd5d-449f-9da4-d73607a6e387\"}];\n",
       "            \n",
       "            Bokeh.embed.embed_items(docs_json, render_items);\n",
       "        });\n",
       "      },\n",
       "      function(Bokeh) {\n",
       "      }\n",
       "    ];\n",
       "  \n",
       "    function run_inline_js() {\n",
       "      for (var i = 0; i < inline_js.length; i++) {\n",
       "        inline_js[i](window.Bokeh);\n",
       "      }\n",
       "    }\n",
       "  \n",
       "    if (window._bokeh_is_loading === 0) {\n",
       "      console.log(\"Bokeh: BokehJS loaded, going straight to plotting\");\n",
       "      run_inline_js();\n",
       "    } else {\n",
       "      load_libs(js_urls, function() {\n",
       "        console.log(\"Bokeh: BokehJS plotting callback run at\", now());\n",
       "        run_inline_js();\n",
       "      });\n",
       "    }\n",
       "  }(this));\n",
       "</script>"
      ]
     },
     "metadata": {},
     "output_type": "display_data"
    },
    {
     "data": {
      "text/html": [
       "<p><code>&lt;Bokeh Notebook handle for <strong>In[23]</strong>&gt;</code></p>"
      ],
      "text/plain": [
       "<bokeh.io._CommsHandle at 0x8a0e940>"
      ]
     },
     "execution_count": 23,
     "metadata": {},
     "output_type": "execute_result"
    }
   ],
   "source": [
    "from bokeh.sampledata.glucose import data as glucose\n",
    "import numpy as np\n",
    "\n",
    "#reduce data size\n",
    "glucose = glucose.ix['2010-10-06':'2010-10-13']\n",
    "\n",
    "plot = figure(x_axis_type=\"datetime\")\n",
    "plot.line(glucose.index.to_series(), glucose['glucose'], line_color='gray')\n",
    "\n",
    "plot.xaxis.major_label_orientation=np.pi/4\n",
    "\n",
    "show(plot)"
   ]
  },
  {
   "cell_type": "markdown",
   "metadata": {},
   "source": [
    "## Legends"
   ]
  },
  {
   "cell_type": "markdown",
   "metadata": {},
   "source": [
    "Legends are automatically added to figures when the `legend` parameter is passed to a glyph. By default the legend appears at the top-right of the Figure.\n",
    "\n",
    "The `legend` member object (*splattable* list) is used to set legend position and properties.\n",
    "\n",
    "* What happens when the order of the calls to glyph methods is changed?"
   ]
  },
  {
   "cell_type": "code",
   "execution_count": 20,
   "metadata": {
    "collapsed": false
   },
   "outputs": [
    {
     "data": {
      "text/html": [
       "\n",
       "\n",
       "    <div class=\"bk-root\">\n",
       "        <div class=\"plotdiv\" id=\"1036b5de-a860-4fa1-aa64-101fa95c4072\"></div>\n",
       "    </div>\n",
       "<script type=\"text/javascript\">\n",
       "  \n",
       "  (function(global) {\n",
       "    function now() {\n",
       "      return new Date();\n",
       "    }\n",
       "  \n",
       "    var force = \"\";\n",
       "  \n",
       "    if (typeof (window._bokeh_onload_callbacks) === \"undefined\" || force !== \"\") {\n",
       "      window._bokeh_onload_callbacks = [];\n",
       "      window._bokeh_is_loading = undefined;\n",
       "    }\n",
       "  \n",
       "    function run_callbacks() {\n",
       "      window._bokeh_onload_callbacks.forEach(function(callback) { callback() });\n",
       "      delete window._bokeh_onload_callbacks\n",
       "      console.info(\"Bokeh: all callbacks have finished\");\n",
       "    }\n",
       "  \n",
       "    function load_libs(js_urls, callback) {\n",
       "      window._bokeh_onload_callbacks.push(callback);\n",
       "      if (window._bokeh_is_loading > 0) {\n",
       "        console.log(\"Bokeh: BokehJS is being loaded, scheduling callback at\", now());\n",
       "        return null;\n",
       "      }\n",
       "      if (js_urls == null || js_urls.length === 0) {\n",
       "        run_callbacks();\n",
       "        return null;\n",
       "      }\n",
       "      console.log(\"Bokeh: BokehJS not loaded, scheduling load and callback at\", now());\n",
       "      window._bokeh_is_loading = js_urls.length;\n",
       "      for (var i = 0; i < js_urls.length; i++) {\n",
       "        var url = js_urls[i];\n",
       "        var s = document.createElement('script');\n",
       "        s.src = url;\n",
       "        s.async = false;\n",
       "        s.onreadystatechange = s.onload = function() {\n",
       "          window._bokeh_is_loading--;\n",
       "          if (window._bokeh_is_loading === 0) {\n",
       "            console.log(\"Bokeh: all BokehJS libraries loaded\");\n",
       "            run_callbacks()\n",
       "          }\n",
       "        };\n",
       "        s.onerror = function() {\n",
       "          console.warn(\"failed to load library \" + url);\n",
       "        };\n",
       "        console.log(\"Bokeh: injecting script tag for BokehJS library: \", url);\n",
       "        document.getElementsByTagName(\"head\")[0].appendChild(s);\n",
       "      }\n",
       "    };var element = document.getElementById(\"1036b5de-a860-4fa1-aa64-101fa95c4072\");\n",
       "    if (element == null) {\n",
       "      console.log(\"Bokeh: ERROR: autoload.js configured with elementid '1036b5de-a860-4fa1-aa64-101fa95c4072' but no matching script tag was found. \")\n",
       "      return false;\n",
       "    }\n",
       "  \n",
       "    var js_urls = [];\n",
       "  \n",
       "    var inline_js = [\n",
       "      function(Bokeh) {\n",
       "        Bokeh.$(function() {\n",
       "            var docs_json = {\"15cbf47a-1100-4b70-9ca3-02f1c91587d2\":{\"roots\":{\"references\":[{\"attributes\":{\"line_alpha\":{\"value\":0.1},\"line_color\":{\"value\":\"#1f77b4\"},\"line_dash\":[4,4],\"x\":{\"field\":\"x\"},\"y\":{\"field\":\"y\"}},\"id\":\"54b23da1-9cc5-4bb1-95c6-45118cae6523\",\"type\":\"Line\"},{\"attributes\":{\"data_source\":{\"id\":\"8a4dc762-2591-4124-8dc0-540bb585d87b\",\"type\":\"ColumnDataSource\"},\"glyph\":{\"id\":\"973cce3a-0db2-4d57-b836-39351ab82267\",\"type\":\"Line\"},\"hover_glyph\":null,\"nonselection_glyph\":{\"id\":\"f5b250e8-be21-4fce-801c-7adb22f0a522\",\"type\":\"Line\"},\"selection_glyph\":null},\"id\":\"8660f232-dd4d-431c-9768-274ecc6d5147\",\"type\":\"GlyphRenderer\"},{\"attributes\":{},\"id\":\"21cbd803-750b-4376-bedc-4c98d0f5f454\",\"type\":\"BasicTickFormatter\"},{\"attributes\":{\"callback\":null,\"column_names\":[\"x\",\"y\"],\"data\":{\"x\":[0.0,0.12693303650867852,0.25386607301735703,0.3807991095260356,0.5077321460347141,0.6346651825433925,0.7615982190520711,0.8885312555607496,1.0154642920694281,1.1423973285781066,1.269330365086785,1.3962634015954636,1.5231964381041423,1.6501294746128208,1.7770625111214993,1.9039955476301778,2.0309285841388562,2.1578616206475347,2.284794657156213,2.4117276936648917,2.53866073017357,2.6655937666822487,2.792526803190927,2.9194598396996057,3.0463928762082846,3.173325912716963,3.3002589492256416,3.42719198573432,3.5541250222429985,3.681058058751677,3.8079910952603555,3.934924131769034,4.0618571682777125,4.188790204786391,4.3157232412950695,4.442656277803748,4.569589314312426,4.696522350821105,4.823455387329783,4.950388423838462,5.07732146034714,5.204254496855819,5.331187533364497,5.458120569873176,5.585053606381854,5.711986642890533,5.838919679399211,5.96585271590789,6.092785752416569,6.219718788925247,6.346651825433926,6.473584861942604,6.600517898451283,6.727450934959961,6.85438397146864,6.981317007977318,7.108250044485997,7.235183080994675,7.362116117503354,7.489049154012032,7.615982190520711,7.742915227029389,7.869848263538068,7.996781300046746,8.123714336555425,8.250647373064103,8.377580409572783,8.50451344608146,8.631446482590139,8.758379519098817,8.885312555607497,9.012245592116175,9.139178628624853,9.266111665133531,9.39304470164221,9.519977738150889,9.646910774659567,9.773843811168245,9.900776847676925,10.027709884185603,10.15464292069428,10.28157595720296,10.408508993711639,10.535442030220317,10.662375066728995,10.789308103237675,10.916241139746353,11.04317417625503,11.170107212763709,11.297040249272388,11.423973285781067,11.550906322289745,11.677839358798423,11.804772395307102,11.93170543181578,12.058638468324459,12.185571504833138,12.312504541341816,12.439437577850494,12.566370614359172],\"y\":[0.0,0.12659245357374926,0.2511479871810792,0.3716624556603276,0.48619673610046865,0.5929079290546404,0.690079011482112,0.7761464642917568,0.8497254299495144,0.9096319953545183,0.9549022414440739,0.984807753012208,0.998867339183008,0.9968547759519424,0.9788024462147787,0.9450008187146685,0.8959937742913359,0.8325698546347714,0.7557495743542583,0.6667690005162916,0.5670598638627709,0.4582265217274105,0.3420201433256689,0.2203105327865408,0.09505604330418244,-0.03172793349806786,-0.15800139597335008,-0.28173255684142984,-0.4009305354066138,-0.5136773915734064,-0.6181589862206053,-0.7126941713788629,-0.7957618405308321,-0.8660254037844388,-0.9223542941045814,-0.9638421585599422,-0.9898214418809327,-0.9998741276738751,-0.9938384644612541,-0.9718115683235417,-0.9341478602651068,-0.881453363447582,-0.8145759520503358,-0.7345917086575331,-0.6427876096865396,-0.5406408174555974,-0.4297949120891719,-0.31203344569848707,-0.18925124436040974,-0.06342391965656452,0.06342391965656492,0.18925124436041013,0.31203344569848745,0.42979491208917153,0.5406408174555978,0.6427876096865393,0.7345917086575334,0.8145759520503356,0.8814533634475821,0.9341478602651067,0.9718115683235418,0.9938384644612541,0.9998741276738751,0.9898214418809328,0.963842158559942,0.9223542941045816,0.8660254037844383,0.7957618405308319,0.7126941713788629,0.6181589862206056,0.5136773915734058,0.40093053540661344,0.2817325568414299,0.15800139597335056,0.03172793349806701,-0.09505604330418282,-0.22031053278654034,-0.342020143325668,-0.45822652172741085,-0.5670598638627707,-0.6667690005162913,-0.7557495743542588,-0.8325698546347716,-0.8959937742913359,-0.9450008187146683,-0.9788024462147789,-0.9968547759519424,-0.998867339183008,-0.9848077530122081,-0.9549022414440737,-0.9096319953545183,-0.8497254299495145,-0.7761464642917573,-0.6900790114821116,-0.5929079290546404,-0.486196736100469,-0.37166245566032663,-0.2511479871810788,-0.1265924535737493,-4.898587196589413e-16]}},\"id\":\"ea45b7dc-8676-4669-86d1-317a5605096d\",\"type\":\"ColumnDataSource\"},{\"attributes\":{\"formatter\":{\"id\":\"21cbd803-750b-4376-bedc-4c98d0f5f454\",\"type\":\"BasicTickFormatter\"},\"plot\":{\"id\":\"0b1b5e95-5156-41d3-9c72-8922fcf4d7b6\",\"subtype\":\"Figure\",\"type\":\"Plot\"},\"ticker\":{\"id\":\"75b5102b-708f-4566-a510-c5132bbcff2c\",\"type\":\"BasicTicker\"}},\"id\":\"64805683-db31-4de1-9e76-f8d384c12956\",\"type\":\"LinearAxis\"},{\"attributes\":{\"callback\":null,\"column_names\":[\"x\",\"y\"],\"data\":{\"x\":[0.0,0.12693303650867852,0.25386607301735703,0.3807991095260356,0.5077321460347141,0.6346651825433925,0.7615982190520711,0.8885312555607496,1.0154642920694281,1.1423973285781066,1.269330365086785,1.3962634015954636,1.5231964381041423,1.6501294746128208,1.7770625111214993,1.9039955476301778,2.0309285841388562,2.1578616206475347,2.284794657156213,2.4117276936648917,2.53866073017357,2.6655937666822487,2.792526803190927,2.9194598396996057,3.0463928762082846,3.173325912716963,3.3002589492256416,3.42719198573432,3.5541250222429985,3.681058058751677,3.8079910952603555,3.934924131769034,4.0618571682777125,4.188790204786391,4.3157232412950695,4.442656277803748,4.569589314312426,4.696522350821105,4.823455387329783,4.950388423838462,5.07732146034714,5.204254496855819,5.331187533364497,5.458120569873176,5.585053606381854,5.711986642890533,5.838919679399211,5.96585271590789,6.092785752416569,6.219718788925247,6.346651825433926,6.473584861942604,6.600517898451283,6.727450934959961,6.85438397146864,6.981317007977318,7.108250044485997,7.235183080994675,7.362116117503354,7.489049154012032,7.615982190520711,7.742915227029389,7.869848263538068,7.996781300046746,8.123714336555425,8.250647373064103,8.377580409572783,8.50451344608146,8.631446482590139,8.758379519098817,8.885312555607497,9.012245592116175,9.139178628624853,9.266111665133531,9.39304470164221,9.519977738150889,9.646910774659567,9.773843811168245,9.900776847676925,10.027709884185603,10.15464292069428,10.28157595720296,10.408508993711639,10.535442030220317,10.662375066728995,10.789308103237675,10.916241139746353,11.04317417625503,11.170107212763709,11.297040249272388,11.423973285781067,11.550906322289745,11.677839358798423,11.804772395307102,11.93170543181578,12.058638468324459,12.185571504833138,12.312504541341816,12.439437577850494,12.566370614359172],\"y\":[0.0,0.12659245357374926,0.2511479871810792,0.3716624556603276,0.48619673610046865,0.5929079290546404,0.690079011482112,0.7761464642917568,0.8497254299495144,0.9096319953545183,0.9549022414440739,0.984807753012208,0.998867339183008,0.9968547759519424,0.9788024462147787,0.9450008187146685,0.8959937742913359,0.8325698546347714,0.7557495743542583,0.6667690005162916,0.5670598638627709,0.4582265217274105,0.3420201433256689,0.2203105327865408,0.09505604330418244,-0.03172793349806786,-0.15800139597335008,-0.28173255684142984,-0.4009305354066138,-0.5136773915734064,-0.6181589862206053,-0.7126941713788629,-0.7957618405308321,-0.8660254037844388,-0.9223542941045814,-0.9638421585599422,-0.9898214418809327,-0.9998741276738751,-0.9938384644612541,-0.9718115683235417,-0.9341478602651068,-0.881453363447582,-0.8145759520503358,-0.7345917086575331,-0.6427876096865396,-0.5406408174555974,-0.4297949120891719,-0.31203344569848707,-0.18925124436040974,-0.06342391965656452,0.06342391965656492,0.18925124436041013,0.31203344569848745,0.42979491208917153,0.5406408174555978,0.6427876096865393,0.7345917086575334,0.8145759520503356,0.8814533634475821,0.9341478602651067,0.9718115683235418,0.9938384644612541,0.9998741276738751,0.9898214418809328,0.963842158559942,0.9223542941045816,0.8660254037844383,0.7957618405308319,0.7126941713788629,0.6181589862206056,0.5136773915734058,0.40093053540661344,0.2817325568414299,0.15800139597335056,0.03172793349806701,-0.09505604330418282,-0.22031053278654034,-0.342020143325668,-0.45822652172741085,-0.5670598638627707,-0.6667690005162913,-0.7557495743542588,-0.8325698546347716,-0.8959937742913359,-0.9450008187146683,-0.9788024462147789,-0.9968547759519424,-0.998867339183008,-0.9848077530122081,-0.9549022414440737,-0.9096319953545183,-0.8497254299495145,-0.7761464642917573,-0.6900790114821116,-0.5929079290546404,-0.486196736100469,-0.37166245566032663,-0.2511479871810788,-0.1265924535737493,-4.898587196589413e-16]}},\"id\":\"65d08802-c7cb-4678-84a3-bd421c9aa519\",\"type\":\"ColumnDataSource\"},{\"attributes\":{\"data_source\":{\"id\":\"a9cd76e5-4443-48a6-ac31-3bbcd9da9f13\",\"type\":\"ColumnDataSource\"},\"glyph\":{\"id\":\"6d0b26f5-25b7-4659-b264-8e7fd174e45d\",\"type\":\"Circle\"},\"hover_glyph\":null,\"nonselection_glyph\":{\"id\":\"d4809681-32df-481e-8352-55a2cf24e772\",\"type\":\"Circle\"},\"selection_glyph\":null},\"id\":\"1f5bce79-0c49-4ad2-ac8b-d376b1569d25\",\"type\":\"GlyphRenderer\"},{\"attributes\":{},\"id\":\"e34812be-8437-4cb2-a56f-91eaf1ca673a\",\"type\":\"BasicTicker\"},{\"attributes\":{\"overlay\":{\"id\":\"70ea72e7-ddad-4635-aa20-38989a52e0a7\",\"type\":\"BoxAnnotation\"},\"plot\":{\"id\":\"0b1b5e95-5156-41d3-9c72-8922fcf4d7b6\",\"subtype\":\"Figure\",\"type\":\"Plot\"}},\"id\":\"1d6ef0a8-aecd-4da8-85de-5297967a32fc\",\"type\":\"BoxZoomTool\"},{\"attributes\":{\"callback\":null,\"column_names\":[\"x\",\"y\"],\"data\":{\"x\":[0.0,0.12693303650867852,0.25386607301735703,0.3807991095260356,0.5077321460347141,0.6346651825433925,0.7615982190520711,0.8885312555607496,1.0154642920694281,1.1423973285781066,1.269330365086785,1.3962634015954636,1.5231964381041423,1.6501294746128208,1.7770625111214993,1.9039955476301778,2.0309285841388562,2.1578616206475347,2.284794657156213,2.4117276936648917,2.53866073017357,2.6655937666822487,2.792526803190927,2.9194598396996057,3.0463928762082846,3.173325912716963,3.3002589492256416,3.42719198573432,3.5541250222429985,3.681058058751677,3.8079910952603555,3.934924131769034,4.0618571682777125,4.188790204786391,4.3157232412950695,4.442656277803748,4.569589314312426,4.696522350821105,4.823455387329783,4.950388423838462,5.07732146034714,5.204254496855819,5.331187533364497,5.458120569873176,5.585053606381854,5.711986642890533,5.838919679399211,5.96585271590789,6.092785752416569,6.219718788925247,6.346651825433926,6.473584861942604,6.600517898451283,6.727450934959961,6.85438397146864,6.981317007977318,7.108250044485997,7.235183080994675,7.362116117503354,7.489049154012032,7.615982190520711,7.742915227029389,7.869848263538068,7.996781300046746,8.123714336555425,8.250647373064103,8.377580409572783,8.50451344608146,8.631446482590139,8.758379519098817,8.885312555607497,9.012245592116175,9.139178628624853,9.266111665133531,9.39304470164221,9.519977738150889,9.646910774659567,9.773843811168245,9.900776847676925,10.027709884185603,10.15464292069428,10.28157595720296,10.408508993711639,10.535442030220317,10.662375066728995,10.789308103237675,10.916241139746353,11.04317417625503,11.170107212763709,11.297040249272388,11.423973285781067,11.550906322289745,11.677839358798423,11.804772395307102,11.93170543181578,12.058638468324459,12.185571504833138,12.312504541341816,12.439437577850494,12.566370614359172],\"y\":[0.0,0.3797773607212478,0.7534439615432377,1.1149873669809827,1.458590208301406,1.7787237871639212,2.070237034446336,2.3284393928752705,2.549176289848543,2.728895986063555,2.8647067243322217,2.954423259036624,2.9966020175490238,2.990564327855827,2.936407338644336,2.8350024561440055,2.6879813228740077,2.4977095639043143,2.267248723062775,2.000307001548875,1.7011795915883126,1.3746795651822317,1.0260604299770066,0.6609315983596225,0.2851681299125473,-0.09518380049420358,-0.4740041879200503,-0.8451976705242895,-1.2027916062198414,-1.5410321747202191,-1.8544769586618157,-2.1380825141365887,-2.387285521592496,-2.5980762113533165,-2.767062882313744,-2.8915264756798265,-2.969464325642798,-2.999622383021625,-2.9815153933837624,-2.915434704970625,-2.8024435807953205,-2.644360090342746,-2.4437278561510074,-2.2037751259725993,-1.9283628290596186,-1.6219224523667923,-1.2893847362675157,-0.9361003370954613,-0.5677537330812292,-0.19027175896969356,0.19027175896969478,0.5677537330812303,0.9361003370954624,1.2893847362675146,1.6219224523667934,1.9283628290596178,2.2037751259726,2.443727856151007,2.6443600903427464,2.80244358079532,2.9154347049706253,2.9815153933837624,2.999622383021625,2.9694643256427984,2.891526475679826,2.767062882313745,2.5980762113533147,2.3872855215924957,2.1380825141365887,1.8544769586618168,1.5410321747202174,1.2027916062198403,0.8451976705242896,0.47400418792005167,0.09518380049420103,-0.2851681299125485,-0.660931598359621,-1.026060429977004,-1.3746795651822326,-1.7011795915883123,-2.0003070015488738,-2.2672487230627763,-2.4977095639043148,-2.6879813228740077,-2.835002456144005,-2.9364073386443366,-2.990564327855827,-2.9966020175490238,-2.9544232590366244,-2.864706724332221,-2.728895986063555,-2.5491762898485435,-2.328439392875272,-2.070237034446335,-1.7787237871639212,-1.4585902083014068,-1.11498736698098,-0.7534439615432363,-0.3797773607212479,-1.4695761589768238e-15]}},\"id\":\"a9cd76e5-4443-48a6-ac31-3bbcd9da9f13\",\"type\":\"ColumnDataSource\"},{\"attributes\":{\"plot\":{\"id\":\"0b1b5e95-5156-41d3-9c72-8922fcf4d7b6\",\"subtype\":\"Figure\",\"type\":\"Plot\"}},\"id\":\"328c3fd3-99b7-4fbe-88d1-64e1f1516371\",\"type\":\"HelpTool\"},{\"attributes\":{\"line_color\":{\"value\":\"darkorchid\"},\"line_dash\":[4,4],\"x\":{\"field\":\"x\"},\"y\":{\"field\":\"y\"}},\"id\":\"500eabf4-c3fa-4212-a155-dc2896537616\",\"type\":\"Line\"},{\"attributes\":{\"line_color\":{\"value\":\"green\"},\"x\":{\"field\":\"x\"},\"y\":{\"field\":\"y\"}},\"id\":\"973cce3a-0db2-4d57-b836-39351ab82267\",\"type\":\"Line\"},{\"attributes\":{\"callback\":null,\"column_names\":[\"x\",\"y\"],\"data\":{\"x\":[0.0,0.12693303650867852,0.25386607301735703,0.3807991095260356,0.5077321460347141,0.6346651825433925,0.7615982190520711,0.8885312555607496,1.0154642920694281,1.1423973285781066,1.269330365086785,1.3962634015954636,1.5231964381041423,1.6501294746128208,1.7770625111214993,1.9039955476301778,2.0309285841388562,2.1578616206475347,2.284794657156213,2.4117276936648917,2.53866073017357,2.6655937666822487,2.792526803190927,2.9194598396996057,3.0463928762082846,3.173325912716963,3.3002589492256416,3.42719198573432,3.5541250222429985,3.681058058751677,3.8079910952603555,3.934924131769034,4.0618571682777125,4.188790204786391,4.3157232412950695,4.442656277803748,4.569589314312426,4.696522350821105,4.823455387329783,4.950388423838462,5.07732146034714,5.204254496855819,5.331187533364497,5.458120569873176,5.585053606381854,5.711986642890533,5.838919679399211,5.96585271590789,6.092785752416569,6.219718788925247,6.346651825433926,6.473584861942604,6.600517898451283,6.727450934959961,6.85438397146864,6.981317007977318,7.108250044485997,7.235183080994675,7.362116117503354,7.489049154012032,7.615982190520711,7.742915227029389,7.869848263538068,7.996781300046746,8.123714336555425,8.250647373064103,8.377580409572783,8.50451344608146,8.631446482590139,8.758379519098817,8.885312555607497,9.012245592116175,9.139178628624853,9.266111665133531,9.39304470164221,9.519977738150889,9.646910774659567,9.773843811168245,9.900776847676925,10.027709884185603,10.15464292069428,10.28157595720296,10.408508993711639,10.535442030220317,10.662375066728995,10.789308103237675,10.916241139746353,11.04317417625503,11.170107212763709,11.297040249272388,11.423973285781067,11.550906322289745,11.677839358798423,11.804772395307102,11.93170543181578,12.058638468324459,12.185571504833138,12.312504541341816,12.439437577850494,12.566370614359172],\"y\":[0.0,0.3797773607212478,0.7534439615432377,1.1149873669809827,1.458590208301406,1.7787237871639212,2.070237034446336,2.3284393928752705,2.549176289848543,2.728895986063555,2.8647067243322217,2.954423259036624,2.9966020175490238,2.990564327855827,2.936407338644336,2.8350024561440055,2.6879813228740077,2.4977095639043143,2.267248723062775,2.000307001548875,1.7011795915883126,1.3746795651822317,1.0260604299770066,0.6609315983596225,0.2851681299125473,-0.09518380049420358,-0.4740041879200503,-0.8451976705242895,-1.2027916062198414,-1.5410321747202191,-1.8544769586618157,-2.1380825141365887,-2.387285521592496,-2.5980762113533165,-2.767062882313744,-2.8915264756798265,-2.969464325642798,-2.999622383021625,-2.9815153933837624,-2.915434704970625,-2.8024435807953205,-2.644360090342746,-2.4437278561510074,-2.2037751259725993,-1.9283628290596186,-1.6219224523667923,-1.2893847362675157,-0.9361003370954613,-0.5677537330812292,-0.19027175896969356,0.19027175896969478,0.5677537330812303,0.9361003370954624,1.2893847362675146,1.6219224523667934,1.9283628290596178,2.2037751259726,2.443727856151007,2.6443600903427464,2.80244358079532,2.9154347049706253,2.9815153933837624,2.999622383021625,2.9694643256427984,2.891526475679826,2.767062882313745,2.5980762113533147,2.3872855215924957,2.1380825141365887,1.8544769586618168,1.5410321747202174,1.2027916062198403,0.8451976705242896,0.47400418792005167,0.09518380049420103,-0.2851681299125485,-0.660931598359621,-1.026060429977004,-1.3746795651822326,-1.7011795915883123,-2.0003070015488738,-2.2672487230627763,-2.4977095639043148,-2.6879813228740077,-2.835002456144005,-2.9364073386443366,-2.990564327855827,-2.9966020175490238,-2.9544232590366244,-2.864706724332221,-2.728895986063555,-2.5491762898485435,-2.328439392875272,-2.070237034446335,-1.7787237871639212,-1.4585902083014068,-1.11498736698098,-0.7534439615432363,-0.3797773607212479,-1.4695761589768238e-15]}},\"id\":\"8a4dc762-2591-4124-8dc0-540bb585d87b\",\"type\":\"ColumnDataSource\"},{\"attributes\":{\"bottom_units\":\"screen\",\"fill_alpha\":{\"value\":0.5},\"fill_color\":{\"value\":\"lightgrey\"},\"left_units\":\"screen\",\"level\":\"overlay\",\"line_alpha\":{\"value\":1.0},\"line_color\":{\"value\":\"black\"},\"line_dash\":[4,4],\"line_width\":{\"value\":2},\"plot\":null,\"render_mode\":\"css\",\"right_units\":\"screen\",\"top_units\":\"screen\"},\"id\":\"70ea72e7-ddad-4635-aa20-38989a52e0a7\",\"type\":\"BoxAnnotation\"},{\"attributes\":{\"border_line_width\":{\"value\":3},\"legends\":[[\"sin(x)\",[{\"id\":\"80e0cc8b-e612-4b35-9204-0086319cce38\",\"type\":\"GlyphRenderer\"},{\"id\":\"7b1c83b8-f934-48a5-b276-0a5c2e770507\",\"type\":\"GlyphRenderer\"}]],[\"2sin(x)\",[{\"id\":\"6afcd41a-db7d-4f1d-9891-257428080372\",\"type\":\"GlyphRenderer\"}]],[\"3sin(x)\",[{\"id\":\"8660f232-dd4d-431c-9768-274ecc6d5147\",\"type\":\"GlyphRenderer\"},{\"id\":\"1f5bce79-0c49-4ad2-ac8b-d376b1569d25\",\"type\":\"GlyphRenderer\"}]]],\"location\":\"bottom_left\",\"plot\":{\"id\":\"0b1b5e95-5156-41d3-9c72-8922fcf4d7b6\",\"subtype\":\"Figure\",\"type\":\"Plot\"}},\"id\":\"05c52168-14bd-453b-a5de-be771522fd18\",\"type\":\"Legend\"},{\"attributes\":{\"dimension\":1,\"plot\":{\"id\":\"0b1b5e95-5156-41d3-9c72-8922fcf4d7b6\",\"subtype\":\"Figure\",\"type\":\"Plot\"},\"ticker\":{\"id\":\"e34812be-8437-4cb2-a56f-91eaf1ca673a\",\"type\":\"BasicTicker\"}},\"id\":\"fbf03c2f-b058-425f-add2-3dc6e61012a9\",\"type\":\"Grid\"},{\"attributes\":{\"fill_color\":{\"value\":\"white\"},\"line_color\":{\"value\":\"green\"},\"x\":{\"field\":\"x\"},\"y\":{\"field\":\"y\"}},\"id\":\"6d0b26f5-25b7-4659-b264-8e7fd174e45d\",\"type\":\"Circle\"},{\"attributes\":{\"fill_alpha\":{\"value\":0.1},\"fill_color\":{\"value\":\"#1f77b4\"},\"line_alpha\":{\"value\":0.1},\"line_color\":{\"value\":\"#1f77b4\"},\"size\":{\"units\":\"screen\",\"value\":5},\"x\":{\"field\":\"x\"},\"y\":{\"field\":\"y\"}},\"id\":\"3e2b7383-47bf-4c68-80b0-8b5f68e9545b\",\"type\":\"Circle\"},{\"attributes\":{\"data_source\":{\"id\":\"65d08802-c7cb-4678-84a3-bd421c9aa519\",\"type\":\"ColumnDataSource\"},\"glyph\":{\"id\":\"9534ed2d-1e5b-46f6-9d04-7522021d27a4\",\"type\":\"Circle\"},\"hover_glyph\":null,\"nonselection_glyph\":{\"id\":\"3e2b7383-47bf-4c68-80b0-8b5f68e9545b\",\"type\":\"Circle\"},\"selection_glyph\":null},\"id\":\"7b1c83b8-f934-48a5-b276-0a5c2e770507\",\"type\":\"GlyphRenderer\"},{\"attributes\":{\"plot\":{\"id\":\"0b1b5e95-5156-41d3-9c72-8922fcf4d7b6\",\"subtype\":\"Figure\",\"type\":\"Plot\"},\"ticker\":{\"id\":\"75b5102b-708f-4566-a510-c5132bbcff2c\",\"type\":\"BasicTicker\"}},\"id\":\"72e0b025-a416-4b17-a6fe-940e024d705b\",\"type\":\"Grid\"},{\"attributes\":{\"plot\":null,\"text\":null},\"id\":\"8d72ae46-bdda-44e3-9a92-d96201238de5\",\"type\":\"Title\"},{\"attributes\":{\"fill_alpha\":{\"value\":0.1},\"fill_color\":{\"value\":\"#1f77b4\"},\"line_alpha\":{\"value\":0.1},\"line_color\":{\"value\":\"#1f77b4\"},\"x\":{\"field\":\"x\"},\"y\":{\"field\":\"y\"}},\"id\":\"d4809681-32df-481e-8352-55a2cf24e772\",\"type\":\"Circle\"},{\"attributes\":{},\"id\":\"75b5102b-708f-4566-a510-c5132bbcff2c\",\"type\":\"BasicTicker\"},{\"attributes\":{\"line_alpha\":{\"value\":0.1},\"line_color\":{\"value\":\"#1f77b4\"},\"x\":{\"field\":\"x\"},\"y\":{\"field\":\"y\"}},\"id\":\"4fb83c55-bfa6-4fc9-b65f-9a87c613f24e\",\"type\":\"Line\"},{\"attributes\":{\"callback\":null},\"id\":\"2c7e9ebd-bb27-499b-8c31-fc3532c0f66e\",\"type\":\"DataRange1d\"},{\"attributes\":{\"line_color\":{\"value\":\"blue\"},\"x\":{\"field\":\"x\"},\"y\":{\"field\":\"y\"}},\"id\":\"f0279f42-51ba-42eb-9bd1-cd824730c256\",\"type\":\"Line\"},{\"attributes\":{\"below\":[{\"id\":\"64805683-db31-4de1-9e76-f8d384c12956\",\"type\":\"LinearAxis\"}],\"left\":[{\"id\":\"34147378-adba-4556-b48e-d99570452001\",\"type\":\"LinearAxis\"}],\"renderers\":[{\"id\":\"64805683-db31-4de1-9e76-f8d384c12956\",\"type\":\"LinearAxis\"},{\"id\":\"72e0b025-a416-4b17-a6fe-940e024d705b\",\"type\":\"Grid\"},{\"id\":\"34147378-adba-4556-b48e-d99570452001\",\"type\":\"LinearAxis\"},{\"id\":\"fbf03c2f-b058-425f-add2-3dc6e61012a9\",\"type\":\"Grid\"},{\"id\":\"70ea72e7-ddad-4635-aa20-38989a52e0a7\",\"type\":\"BoxAnnotation\"},{\"id\":\"05c52168-14bd-453b-a5de-be771522fd18\",\"type\":\"Legend\"},{\"id\":\"80e0cc8b-e612-4b35-9204-0086319cce38\",\"type\":\"GlyphRenderer\"},{\"id\":\"7b1c83b8-f934-48a5-b276-0a5c2e770507\",\"type\":\"GlyphRenderer\"},{\"id\":\"6afcd41a-db7d-4f1d-9891-257428080372\",\"type\":\"GlyphRenderer\"},{\"id\":\"8660f232-dd4d-431c-9768-274ecc6d5147\",\"type\":\"GlyphRenderer\"},{\"id\":\"1f5bce79-0c49-4ad2-ac8b-d376b1569d25\",\"type\":\"GlyphRenderer\"}],\"title\":{\"id\":\"8d72ae46-bdda-44e3-9a92-d96201238de5\",\"type\":\"Title\"},\"tool_events\":{\"id\":\"74f20976-6042-439f-944d-39822d8c0932\",\"type\":\"ToolEvents\"},\"toolbar\":{\"id\":\"7ef9d907-0698-4f17-a554-177e2779159e\",\"type\":\"Toolbar\"},\"x_range\":{\"id\":\"030efb87-c165-4373-9db4-7bb611caff7e\",\"type\":\"DataRange1d\"},\"y_range\":{\"id\":\"2c7e9ebd-bb27-499b-8c31-fc3532c0f66e\",\"type\":\"DataRange1d\"}},\"id\":\"0b1b5e95-5156-41d3-9c72-8922fcf4d7b6\",\"subtype\":\"Figure\",\"type\":\"Plot\"},{\"attributes\":{\"callback\":null,\"column_names\":[\"x\",\"y\"],\"data\":{\"x\":[0.0,0.12693303650867852,0.25386607301735703,0.3807991095260356,0.5077321460347141,0.6346651825433925,0.7615982190520711,0.8885312555607496,1.0154642920694281,1.1423973285781066,1.269330365086785,1.3962634015954636,1.5231964381041423,1.6501294746128208,1.7770625111214993,1.9039955476301778,2.0309285841388562,2.1578616206475347,2.284794657156213,2.4117276936648917,2.53866073017357,2.6655937666822487,2.792526803190927,2.9194598396996057,3.0463928762082846,3.173325912716963,3.3002589492256416,3.42719198573432,3.5541250222429985,3.681058058751677,3.8079910952603555,3.934924131769034,4.0618571682777125,4.188790204786391,4.3157232412950695,4.442656277803748,4.569589314312426,4.696522350821105,4.823455387329783,4.950388423838462,5.07732146034714,5.204254496855819,5.331187533364497,5.458120569873176,5.585053606381854,5.711986642890533,5.838919679399211,5.96585271590789,6.092785752416569,6.219718788925247,6.346651825433926,6.473584861942604,6.600517898451283,6.727450934959961,6.85438397146864,6.981317007977318,7.108250044485997,7.235183080994675,7.362116117503354,7.489049154012032,7.615982190520711,7.742915227029389,7.869848263538068,7.996781300046746,8.123714336555425,8.250647373064103,8.377580409572783,8.50451344608146,8.631446482590139,8.758379519098817,8.885312555607497,9.012245592116175,9.139178628624853,9.266111665133531,9.39304470164221,9.519977738150889,9.646910774659567,9.773843811168245,9.900776847676925,10.027709884185603,10.15464292069428,10.28157595720296,10.408508993711639,10.535442030220317,10.662375066728995,10.789308103237675,10.916241139746353,11.04317417625503,11.170107212763709,11.297040249272388,11.423973285781067,11.550906322289745,11.677839358798423,11.804772395307102,11.93170543181578,12.058638468324459,12.185571504833138,12.312504541341816,12.439437577850494,12.566370614359172],\"y\":[0.0,0.25318490714749853,0.5022959743621584,0.7433249113206551,0.9723934722009373,1.1858158581092808,1.380158022964224,1.5522929285835136,1.6994508598990288,1.8192639907090367,1.9098044828881477,1.969615506024416,1.997734678366016,1.9937095519038848,1.9576048924295575,1.890001637429337,1.7919875485826717,1.6651397092695428,1.5114991487085165,1.3335380010325832,1.1341197277255417,0.916453043454821,0.6840402866513378,0.4406210655730816,0.19011208660836487,-0.06345586699613572,-0.31600279194670017,-0.5634651136828597,-0.8018610708132275,-1.0273547831468128,-1.2363179724412106,-1.4253883427577259,-1.5915236810616642,-1.7320508075688776,-1.8447085882091627,-1.9276843171198843,-1.9796428837618654,-1.9997482553477501,-1.9876769289225082,-1.9436231366470833,-1.8682957205302135,-1.762906726895164,-1.6291519041006717,-1.4691834173150662,-1.2855752193730792,-1.0812816349111949,-0.8595898241783438,-0.6240668913969741,-0.3785024887208195,-0.12684783931312904,0.12684783931312985,0.37850248872082026,0.6240668913969749,0.8595898241783431,1.0812816349111956,1.2855752193730785,1.4691834173150669,1.6291519041006712,1.7629067268951641,1.8682957205302133,1.9436231366470835,1.9876769289225082,1.9997482553477501,1.9796428837618656,1.927684317119884,1.8447085882091632,1.7320508075688765,1.5915236810616638,1.4253883427577259,1.2363179724412112,1.0273547831468115,0.8018610708132269,0.5634651136828598,0.3160027919467011,0.06345586699613402,-0.19011208660836565,-0.4406210655730807,-0.684040286651336,-0.9164530434548217,-1.1341197277255415,-1.3335380010325826,-1.5114991487085176,-1.6651397092695432,-1.7919875485826717,-1.8900016374293367,-1.9576048924295577,-1.9937095519038848,-1.997734678366016,-1.9696155060244163,-1.9098044828881473,-1.8192639907090367,-1.699450859899029,-1.5522929285835145,-1.3801580229642232,-1.1858158581092808,-0.972393472200938,-0.7433249113206533,-0.5022959743621576,-0.2531849071474986,-9.797174393178826e-16]}},\"id\":\"bdb48b57-38b4-44c1-b8aa-39776a0c9c67\",\"type\":\"ColumnDataSource\"},{\"attributes\":{\"data_source\":{\"id\":\"ea45b7dc-8676-4669-86d1-317a5605096d\",\"type\":\"ColumnDataSource\"},\"glyph\":{\"id\":\"f0279f42-51ba-42eb-9bd1-cd824730c256\",\"type\":\"Line\"},\"hover_glyph\":null,\"nonselection_glyph\":{\"id\":\"4fb83c55-bfa6-4fc9-b65f-9a87c613f24e\",\"type\":\"Line\"},\"selection_glyph\":null},\"id\":\"80e0cc8b-e612-4b35-9204-0086319cce38\",\"type\":\"GlyphRenderer\"},{\"attributes\":{\"line_alpha\":{\"value\":0.1},\"line_color\":{\"value\":\"#1f77b4\"},\"x\":{\"field\":\"x\"},\"y\":{\"field\":\"y\"}},\"id\":\"f5b250e8-be21-4fce-801c-7adb22f0a522\",\"type\":\"Line\"},{\"attributes\":{\"data_source\":{\"id\":\"bdb48b57-38b4-44c1-b8aa-39776a0c9c67\",\"type\":\"ColumnDataSource\"},\"glyph\":{\"id\":\"500eabf4-c3fa-4212-a155-dc2896537616\",\"type\":\"Line\"},\"hover_glyph\":null,\"nonselection_glyph\":{\"id\":\"54b23da1-9cc5-4bb1-95c6-45118cae6523\",\"type\":\"Line\"},\"selection_glyph\":null},\"id\":\"6afcd41a-db7d-4f1d-9891-257428080372\",\"type\":\"GlyphRenderer\"},{\"attributes\":{\"plot\":{\"id\":\"0b1b5e95-5156-41d3-9c72-8922fcf4d7b6\",\"subtype\":\"Figure\",\"type\":\"Plot\"}},\"id\":\"642c1878-92e0-4faa-87fd-94c9c0df3647\",\"type\":\"PanTool\"},{\"attributes\":{\"formatter\":{\"id\":\"cfcc9819-f8c1-4171-8e67-00dd9e45191c\",\"type\":\"BasicTickFormatter\"},\"plot\":{\"id\":\"0b1b5e95-5156-41d3-9c72-8922fcf4d7b6\",\"subtype\":\"Figure\",\"type\":\"Plot\"},\"ticker\":{\"id\":\"e34812be-8437-4cb2-a56f-91eaf1ca673a\",\"type\":\"BasicTicker\"}},\"id\":\"34147378-adba-4556-b48e-d99570452001\",\"type\":\"LinearAxis\"},{\"attributes\":{},\"id\":\"cfcc9819-f8c1-4171-8e67-00dd9e45191c\",\"type\":\"BasicTickFormatter\"},{\"attributes\":{\"active_drag\":\"auto\",\"active_scroll\":\"auto\",\"active_tap\":\"auto\",\"tools\":[{\"id\":\"642c1878-92e0-4faa-87fd-94c9c0df3647\",\"type\":\"PanTool\"},{\"id\":\"36840419-2bfb-4969-9d34-f9cab07c10e0\",\"type\":\"WheelZoomTool\"},{\"id\":\"1d6ef0a8-aecd-4da8-85de-5297967a32fc\",\"type\":\"BoxZoomTool\"},{\"id\":\"bc3677e3-290f-42ce-8729-9681079afb21\",\"type\":\"SaveTool\"},{\"id\":\"44f1ce5f-99f2-4471-a432-5ec028021a2b\",\"type\":\"ResetTool\"},{\"id\":\"328c3fd3-99b7-4fbe-88d1-64e1f1516371\",\"type\":\"HelpTool\"}]},\"id\":\"7ef9d907-0698-4f17-a554-177e2779159e\",\"type\":\"Toolbar\"},{\"attributes\":{\"plot\":{\"id\":\"0b1b5e95-5156-41d3-9c72-8922fcf4d7b6\",\"subtype\":\"Figure\",\"type\":\"Plot\"}},\"id\":\"36840419-2bfb-4969-9d34-f9cab07c10e0\",\"type\":\"WheelZoomTool\"},{\"attributes\":{\"plot\":{\"id\":\"0b1b5e95-5156-41d3-9c72-8922fcf4d7b6\",\"subtype\":\"Figure\",\"type\":\"Plot\"}},\"id\":\"bc3677e3-290f-42ce-8729-9681079afb21\",\"type\":\"SaveTool\"},{\"attributes\":{\"fill_color\":{\"value\":\"blue\"},\"line_color\":{\"value\":\"blue\"},\"size\":{\"units\":\"screen\",\"value\":5},\"x\":{\"field\":\"x\"},\"y\":{\"field\":\"y\"}},\"id\":\"9534ed2d-1e5b-46f6-9d04-7522021d27a4\",\"type\":\"Circle\"},{\"attributes\":{\"plot\":{\"id\":\"0b1b5e95-5156-41d3-9c72-8922fcf4d7b6\",\"subtype\":\"Figure\",\"type\":\"Plot\"}},\"id\":\"44f1ce5f-99f2-4471-a432-5ec028021a2b\",\"type\":\"ResetTool\"},{\"attributes\":{},\"id\":\"74f20976-6042-439f-944d-39822d8c0932\",\"type\":\"ToolEvents\"},{\"attributes\":{\"callback\":null},\"id\":\"030efb87-c165-4373-9db4-7bb611caff7e\",\"type\":\"DataRange1d\"}],\"root_ids\":[\"0b1b5e95-5156-41d3-9c72-8922fcf4d7b6\"]},\"title\":\"Bokeh Application\",\"version\":\"0.12.1\"}};\n",
       "            var render_items = [{\"docid\":\"15cbf47a-1100-4b70-9ca3-02f1c91587d2\",\"elementid\":\"1036b5de-a860-4fa1-aa64-101fa95c4072\",\"modelid\":\"0b1b5e95-5156-41d3-9c72-8922fcf4d7b6\",\"notebook_comms_target\":\"2b0b4636-ffc4-4349-b90f-449ca0d4660a\"}];\n",
       "            \n",
       "            Bokeh.embed.embed_items(docs_json, render_items);\n",
       "        });\n",
       "      },\n",
       "      function(Bokeh) {\n",
       "      }\n",
       "    ];\n",
       "  \n",
       "    function run_inline_js() {\n",
       "      for (var i = 0; i < inline_js.length; i++) {\n",
       "        inline_js[i](window.Bokeh);\n",
       "      }\n",
       "    }\n",
       "  \n",
       "    if (window._bokeh_is_loading === 0) {\n",
       "      console.log(\"Bokeh: BokehJS loaded, going straight to plotting\");\n",
       "      run_inline_js();\n",
       "    } else {\n",
       "      load_libs(js_urls, function() {\n",
       "        console.log(\"Bokeh: BokehJS plotting callback run at\", now());\n",
       "        run_inline_js();\n",
       "      });\n",
       "    }\n",
       "  }(this));\n",
       "</script>"
      ]
     },
     "metadata": {},
     "output_type": "display_data"
    },
    {
     "data": {
      "text/html": [
       "<p><code>&lt;Bokeh Notebook handle for <strong>In[20]</strong>&gt;</code></p>"
      ],
      "text/plain": [
       "<bokeh.io._CommsHandle at 0x89a60b8>"
      ]
     },
     "execution_count": 20,
     "metadata": {},
     "output_type": "execute_result"
    }
   ],
   "source": [
    "plot = figure()\n",
    "\n",
    "plot.line(x,y, line_color='blue', legend='sin(x)')\n",
    "plot.circle(x,y, line_color='blue', fill_color='blue',size=5, legend='sin(x)')\n",
    "\n",
    "plot.line(x,2*y,line_dash=[4,4], line_color='darkorchid', legend='2sin(x)')\n",
    "\n",
    "plot.line(x,3*y, line_color='green', legend='3sin(x)')\n",
    "plot.circle(x,3*y, line_color='green', fill_color='white', legend='3sin(x)')\n",
    "\n",
    "plot.legend.location='bottom_left'\n",
    "plot.legend.border_line_width = 3\n",
    "\n",
    "show(plot)"
   ]
  },
  {
   "cell_type": "markdown",
   "metadata": {},
   "source": [
    "# Selecting objects"
   ]
  },
  {
   "cell_type": "markdown",
   "metadata": {},
   "source": [
    "Since everything in a Bokeh plot is an object a special `select()` method has been provided to switch between objects within a plot to apply styling properties.\n",
    "\n",
    "Many methods in the `plotting` interface take the `name` paramter that is very useful when using the `select` tool.\n",
    "\n",
    "NOTE: Not all glyphs have the same parameters.\n",
    "\n"
   ]
  },
  {
   "cell_type": "code",
   "execution_count": 21,
   "metadata": {
    "collapsed": false
   },
   "outputs": [
    {
     "data": {
      "text/html": [
       "\n",
       "\n",
       "    <div class=\"bk-root\">\n",
       "        <div class=\"plotdiv\" id=\"fc2b2e14-3e95-4e4d-8cf4-76333a11b548\"></div>\n",
       "    </div>\n",
       "<script type=\"text/javascript\">\n",
       "  \n",
       "  (function(global) {\n",
       "    function now() {\n",
       "      return new Date();\n",
       "    }\n",
       "  \n",
       "    var force = \"\";\n",
       "  \n",
       "    if (typeof (window._bokeh_onload_callbacks) === \"undefined\" || force !== \"\") {\n",
       "      window._bokeh_onload_callbacks = [];\n",
       "      window._bokeh_is_loading = undefined;\n",
       "    }\n",
       "  \n",
       "    function run_callbacks() {\n",
       "      window._bokeh_onload_callbacks.forEach(function(callback) { callback() });\n",
       "      delete window._bokeh_onload_callbacks\n",
       "      console.info(\"Bokeh: all callbacks have finished\");\n",
       "    }\n",
       "  \n",
       "    function load_libs(js_urls, callback) {\n",
       "      window._bokeh_onload_callbacks.push(callback);\n",
       "      if (window._bokeh_is_loading > 0) {\n",
       "        console.log(\"Bokeh: BokehJS is being loaded, scheduling callback at\", now());\n",
       "        return null;\n",
       "      }\n",
       "      if (js_urls == null || js_urls.length === 0) {\n",
       "        run_callbacks();\n",
       "        return null;\n",
       "      }\n",
       "      console.log(\"Bokeh: BokehJS not loaded, scheduling load and callback at\", now());\n",
       "      window._bokeh_is_loading = js_urls.length;\n",
       "      for (var i = 0; i < js_urls.length; i++) {\n",
       "        var url = js_urls[i];\n",
       "        var s = document.createElement('script');\n",
       "        s.src = url;\n",
       "        s.async = false;\n",
       "        s.onreadystatechange = s.onload = function() {\n",
       "          window._bokeh_is_loading--;\n",
       "          if (window._bokeh_is_loading === 0) {\n",
       "            console.log(\"Bokeh: all BokehJS libraries loaded\");\n",
       "            run_callbacks()\n",
       "          }\n",
       "        };\n",
       "        s.onerror = function() {\n",
       "          console.warn(\"failed to load library \" + url);\n",
       "        };\n",
       "        console.log(\"Bokeh: injecting script tag for BokehJS library: \", url);\n",
       "        document.getElementsByTagName(\"head\")[0].appendChild(s);\n",
       "      }\n",
       "    };var element = document.getElementById(\"fc2b2e14-3e95-4e4d-8cf4-76333a11b548\");\n",
       "    if (element == null) {\n",
       "      console.log(\"Bokeh: ERROR: autoload.js configured with elementid 'fc2b2e14-3e95-4e4d-8cf4-76333a11b548' but no matching script tag was found. \")\n",
       "      return false;\n",
       "    }\n",
       "  \n",
       "    var js_urls = [];\n",
       "  \n",
       "    var inline_js = [\n",
       "      function(Bokeh) {\n",
       "        Bokeh.$(function() {\n",
       "            var docs_json = {\"5d00d761-9f09-49fd-bf62-9cc133e366e0\":{\"roots\":{\"references\":[{\"attributes\":{\"fill_alpha\":{\"value\":0.1},\"fill_color\":{\"value\":\"#1f77b4\"},\"line_alpha\":{\"value\":0.1},\"line_color\":{\"value\":\"#1f77b4\"},\"x\":{\"field\":\"x\"},\"y\":{\"field\":\"y\"}},\"id\":\"11723376-5df6-414e-9319-eb2765e6f136\",\"type\":\"Circle\"},{\"attributes\":{\"callback\":null,\"column_names\":[\"x\",\"y\"],\"data\":{\"x\":[0.0,0.12693303650867852,0.25386607301735703,0.3807991095260356,0.5077321460347141,0.6346651825433925,0.7615982190520711,0.8885312555607496,1.0154642920694281,1.1423973285781066,1.269330365086785,1.3962634015954636,1.5231964381041423,1.6501294746128208,1.7770625111214993,1.9039955476301778,2.0309285841388562,2.1578616206475347,2.284794657156213,2.4117276936648917,2.53866073017357,2.6655937666822487,2.792526803190927,2.9194598396996057,3.0463928762082846,3.173325912716963,3.3002589492256416,3.42719198573432,3.5541250222429985,3.681058058751677,3.8079910952603555,3.934924131769034,4.0618571682777125,4.188790204786391,4.3157232412950695,4.442656277803748,4.569589314312426,4.696522350821105,4.823455387329783,4.950388423838462,5.07732146034714,5.204254496855819,5.331187533364497,5.458120569873176,5.585053606381854,5.711986642890533,5.838919679399211,5.96585271590789,6.092785752416569,6.219718788925247,6.346651825433926,6.473584861942604,6.600517898451283,6.727450934959961,6.85438397146864,6.981317007977318,7.108250044485997,7.235183080994675,7.362116117503354,7.489049154012032,7.615982190520711,7.742915227029389,7.869848263538068,7.996781300046746,8.123714336555425,8.250647373064103,8.377580409572783,8.50451344608146,8.631446482590139,8.758379519098817,8.885312555607497,9.012245592116175,9.139178628624853,9.266111665133531,9.39304470164221,9.519977738150889,9.646910774659567,9.773843811168245,9.900776847676925,10.027709884185603,10.15464292069428,10.28157595720296,10.408508993711639,10.535442030220317,10.662375066728995,10.789308103237675,10.916241139746353,11.04317417625503,11.170107212763709,11.297040249272388,11.423973285781067,11.550906322289745,11.677839358798423,11.804772395307102,11.93170543181578,12.058638468324459,12.185571504833138,12.312504541341816,12.439437577850494,12.566370614359172],\"y\":[0.0,0.12659245357374926,0.2511479871810792,0.3716624556603276,0.48619673610046865,0.5929079290546404,0.690079011482112,0.7761464642917568,0.8497254299495144,0.9096319953545183,0.9549022414440739,0.984807753012208,0.998867339183008,0.9968547759519424,0.9788024462147787,0.9450008187146685,0.8959937742913359,0.8325698546347714,0.7557495743542583,0.6667690005162916,0.5670598638627709,0.4582265217274105,0.3420201433256689,0.2203105327865408,0.09505604330418244,-0.03172793349806786,-0.15800139597335008,-0.28173255684142984,-0.4009305354066138,-0.5136773915734064,-0.6181589862206053,-0.7126941713788629,-0.7957618405308321,-0.8660254037844388,-0.9223542941045814,-0.9638421585599422,-0.9898214418809327,-0.9998741276738751,-0.9938384644612541,-0.9718115683235417,-0.9341478602651068,-0.881453363447582,-0.8145759520503358,-0.7345917086575331,-0.6427876096865396,-0.5406408174555974,-0.4297949120891719,-0.31203344569848707,-0.18925124436040974,-0.06342391965656452,0.06342391965656492,0.18925124436041013,0.31203344569848745,0.42979491208917153,0.5406408174555978,0.6427876096865393,0.7345917086575334,0.8145759520503356,0.8814533634475821,0.9341478602651067,0.9718115683235418,0.9938384644612541,0.9998741276738751,0.9898214418809328,0.963842158559942,0.9223542941045816,0.8660254037844383,0.7957618405308319,0.7126941713788629,0.6181589862206056,0.5136773915734058,0.40093053540661344,0.2817325568414299,0.15800139597335056,0.03172793349806701,-0.09505604330418282,-0.22031053278654034,-0.342020143325668,-0.45822652172741085,-0.5670598638627707,-0.6667690005162913,-0.7557495743542588,-0.8325698546347716,-0.8959937742913359,-0.9450008187146683,-0.9788024462147789,-0.9968547759519424,-0.998867339183008,-0.9848077530122081,-0.9549022414440737,-0.9096319953545183,-0.8497254299495145,-0.7761464642917573,-0.6900790114821116,-0.5929079290546404,-0.486196736100469,-0.37166245566032663,-0.2511479871810788,-0.1265924535737493,-4.898587196589413e-16]}},\"id\":\"27145166-8631-41c9-8e0a-56b0a437aeaa\",\"type\":\"ColumnDataSource\"},{\"attributes\":{\"plot\":{\"id\":\"09e50be8-2a63-4a3a-b97d-7943c91e44ef\",\"subtype\":\"Figure\",\"type\":\"Plot\"}},\"id\":\"1efcf4a6-c847-40ab-9e01-7aa806e5a1bb\",\"type\":\"ResetTool\"},{\"attributes\":{\"data_source\":{\"id\":\"5573cf9e-7a15-49d0-90f4-7e22585b0fec\",\"type\":\"ColumnDataSource\"},\"glyph\":{\"id\":\"bae9dc1a-b3ce-441c-a16b-27de389f42a3\",\"type\":\"Line\"},\"hover_glyph\":null,\"name\":\"SineLine\",\"nonselection_glyph\":{\"id\":\"9f4a8c3b-4c75-4dd1-ba2b-fb513feda55c\",\"type\":\"Line\"},\"selection_glyph\":null},\"id\":\"2a9b604e-8d9b-4f15-a527-7f2943779f07\",\"type\":\"GlyphRenderer\"},{\"attributes\":{\"active_drag\":\"auto\",\"active_scroll\":\"auto\",\"active_tap\":\"auto\",\"tools\":[{\"id\":\"3bff3528-8ff4-46a9-b972-a4a7f3c1971b\",\"type\":\"PanTool\"},{\"id\":\"054d6c97-360d-4b45-914c-847d812648bf\",\"type\":\"WheelZoomTool\"},{\"id\":\"fc35b828-5e50-4f84-b4c1-87febc65b707\",\"type\":\"BoxZoomTool\"},{\"id\":\"e6fd7e17-0cab-49a4-a79c-1674acf9f80f\",\"type\":\"SaveTool\"},{\"id\":\"1efcf4a6-c847-40ab-9e01-7aa806e5a1bb\",\"type\":\"ResetTool\"},{\"id\":\"213d4b69-4d19-4f6b-aef3-9812ea30ac5a\",\"type\":\"HelpTool\"}]},\"id\":\"1bae5b3c-b823-4690-971f-a1b46c9e3eb2\",\"type\":\"Toolbar\"},{\"attributes\":{\"fill_color\":{\"value\":\"#1f77b4\"},\"line_color\":{\"value\":\"#1f77b4\"},\"x\":{\"field\":\"x\"},\"y\":{\"field\":\"y\"}},\"id\":\"63911b57-ceb3-43d9-876c-ba240ab46126\",\"type\":\"Circle\"},{\"attributes\":{\"line_color\":{\"value\":\"#1f77b4\"},\"x\":{\"field\":\"x\"},\"y\":{\"field\":\"y\"}},\"id\":\"a12ba44d-2fcd-4399-b62d-9c56360346c1\",\"type\":\"Line\"},{\"attributes\":{\"plot\":{\"id\":\"09e50be8-2a63-4a3a-b97d-7943c91e44ef\",\"subtype\":\"Figure\",\"type\":\"Plot\"}},\"id\":\"3bff3528-8ff4-46a9-b972-a4a7f3c1971b\",\"type\":\"PanTool\"},{\"attributes\":{\"plot\":{\"id\":\"09e50be8-2a63-4a3a-b97d-7943c91e44ef\",\"subtype\":\"Figure\",\"type\":\"Plot\"}},\"id\":\"e6fd7e17-0cab-49a4-a79c-1674acf9f80f\",\"type\":\"SaveTool\"},{\"attributes\":{},\"id\":\"c78556c6-5566-4e89-96e6-659026707d76\",\"type\":\"BasicTicker\"},{\"attributes\":{\"dimension\":1,\"plot\":{\"id\":\"09e50be8-2a63-4a3a-b97d-7943c91e44ef\",\"subtype\":\"Figure\",\"type\":\"Plot\"},\"ticker\":{\"id\":\"5d203a12-1e32-4c9a-b1f2-7a1f78a0096f\",\"type\":\"BasicTicker\"}},\"id\":\"6280359c-bef2-4c30-bddd-805681c7d52c\",\"type\":\"Grid\"},{\"attributes\":{},\"id\":\"59e67043-7a4e-4c41-84de-461004021713\",\"type\":\"BasicTickFormatter\"},{\"attributes\":{},\"id\":\"26e6251d-45f9-4134-947a-e7e891a59662\",\"type\":\"ToolEvents\"},{\"attributes\":{\"callback\":null,\"column_names\":[\"x\",\"y\"],\"data\":{\"x\":[0.0,0.12693303650867852,0.25386607301735703,0.3807991095260356,0.5077321460347141,0.6346651825433925,0.7615982190520711,0.8885312555607496,1.0154642920694281,1.1423973285781066,1.269330365086785,1.3962634015954636,1.5231964381041423,1.6501294746128208,1.7770625111214993,1.9039955476301778,2.0309285841388562,2.1578616206475347,2.284794657156213,2.4117276936648917,2.53866073017357,2.6655937666822487,2.792526803190927,2.9194598396996057,3.0463928762082846,3.173325912716963,3.3002589492256416,3.42719198573432,3.5541250222429985,3.681058058751677,3.8079910952603555,3.934924131769034,4.0618571682777125,4.188790204786391,4.3157232412950695,4.442656277803748,4.569589314312426,4.696522350821105,4.823455387329783,4.950388423838462,5.07732146034714,5.204254496855819,5.331187533364497,5.458120569873176,5.585053606381854,5.711986642890533,5.838919679399211,5.96585271590789,6.092785752416569,6.219718788925247,6.346651825433926,6.473584861942604,6.600517898451283,6.727450934959961,6.85438397146864,6.981317007977318,7.108250044485997,7.235183080994675,7.362116117503354,7.489049154012032,7.615982190520711,7.742915227029389,7.869848263538068,7.996781300046746,8.123714336555425,8.250647373064103,8.377580409572783,8.50451344608146,8.631446482590139,8.758379519098817,8.885312555607497,9.012245592116175,9.139178628624853,9.266111665133531,9.39304470164221,9.519977738150889,9.646910774659567,9.773843811168245,9.900776847676925,10.027709884185603,10.15464292069428,10.28157595720296,10.408508993711639,10.535442030220317,10.662375066728995,10.789308103237675,10.916241139746353,11.04317417625503,11.170107212763709,11.297040249272388,11.423973285781067,11.550906322289745,11.677839358798423,11.804772395307102,11.93170543181578,12.058638468324459,12.185571504833138,12.312504541341816,12.439437577850494,12.566370614359172],\"y\":[0.0,0.12659245357374926,0.2511479871810792,0.3716624556603276,0.48619673610046865,0.5929079290546404,0.690079011482112,0.7761464642917568,0.8497254299495144,0.9096319953545183,0.9549022414440739,0.984807753012208,0.998867339183008,0.9968547759519424,0.9788024462147787,0.9450008187146685,0.8959937742913359,0.8325698546347714,0.7557495743542583,0.6667690005162916,0.5670598638627709,0.4582265217274105,0.3420201433256689,0.2203105327865408,0.09505604330418244,-0.03172793349806786,-0.15800139597335008,-0.28173255684142984,-0.4009305354066138,-0.5136773915734064,-0.6181589862206053,-0.7126941713788629,-0.7957618405308321,-0.8660254037844388,-0.9223542941045814,-0.9638421585599422,-0.9898214418809327,-0.9998741276738751,-0.9938384644612541,-0.9718115683235417,-0.9341478602651068,-0.881453363447582,-0.8145759520503358,-0.7345917086575331,-0.6427876096865396,-0.5406408174555974,-0.4297949120891719,-0.31203344569848707,-0.18925124436040974,-0.06342391965656452,0.06342391965656492,0.18925124436041013,0.31203344569848745,0.42979491208917153,0.5406408174555978,0.6427876096865393,0.7345917086575334,0.8145759520503356,0.8814533634475821,0.9341478602651067,0.9718115683235418,0.9938384644612541,0.9998741276738751,0.9898214418809328,0.963842158559942,0.9223542941045816,0.8660254037844383,0.7957618405308319,0.7126941713788629,0.6181589862206056,0.5136773915734058,0.40093053540661344,0.2817325568414299,0.15800139597335056,0.03172793349806701,-0.09505604330418282,-0.22031053278654034,-0.342020143325668,-0.45822652172741085,-0.5670598638627707,-0.6667690005162913,-0.7557495743542588,-0.8325698546347716,-0.8959937742913359,-0.9450008187146683,-0.9788024462147789,-0.9968547759519424,-0.998867339183008,-0.9848077530122081,-0.9549022414440737,-0.9096319953545183,-0.8497254299495145,-0.7761464642917573,-0.6900790114821116,-0.5929079290546404,-0.486196736100469,-0.37166245566032663,-0.2511479871810788,-0.1265924535737493,-4.898587196589413e-16]}},\"id\":\"5573cf9e-7a15-49d0-90f4-7e22585b0fec\",\"type\":\"ColumnDataSource\"},{\"attributes\":{\"callback\":null},\"id\":\"38d18b07-8ad7-4d22-80c9-9ed1f93458c0\",\"type\":\"DataRange1d\"},{\"attributes\":{\"bottom_units\":\"screen\",\"fill_alpha\":{\"value\":0.5},\"fill_color\":{\"value\":\"lightgrey\"},\"left_units\":\"screen\",\"level\":\"overlay\",\"line_alpha\":{\"value\":1.0},\"line_color\":{\"value\":\"black\"},\"line_dash\":[4,4],\"line_width\":{\"value\":2},\"plot\":null,\"render_mode\":\"css\",\"right_units\":\"screen\",\"top_units\":\"screen\"},\"id\":\"58d90a9d-5d48-433c-adbc-23fa0ef6518e\",\"type\":\"BoxAnnotation\"},{\"attributes\":{\"plot\":{\"id\":\"09e50be8-2a63-4a3a-b97d-7943c91e44ef\",\"subtype\":\"Figure\",\"type\":\"Plot\"}},\"id\":\"213d4b69-4d19-4f6b-aef3-9812ea30ac5a\",\"type\":\"HelpTool\"},{\"attributes\":{\"plot\":{\"id\":\"09e50be8-2a63-4a3a-b97d-7943c91e44ef\",\"subtype\":\"Figure\",\"type\":\"Plot\"}},\"id\":\"054d6c97-360d-4b45-914c-847d812648bf\",\"type\":\"WheelZoomTool\"},{\"attributes\":{\"line_alpha\":{\"value\":0.1},\"line_color\":{\"value\":\"#1f77b4\"},\"x\":{\"field\":\"x\"},\"y\":{\"field\":\"y\"}},\"id\":\"6e6edbd5-93b1-4a79-ad9f-a41cdc2f1527\",\"type\":\"Line\"},{\"attributes\":{\"overlay\":{\"id\":\"58d90a9d-5d48-433c-adbc-23fa0ef6518e\",\"type\":\"BoxAnnotation\"},\"plot\":{\"id\":\"09e50be8-2a63-4a3a-b97d-7943c91e44ef\",\"subtype\":\"Figure\",\"type\":\"Plot\"}},\"id\":\"fc35b828-5e50-4f84-b4c1-87febc65b707\",\"type\":\"BoxZoomTool\"},{\"attributes\":{\"formatter\":{\"id\":\"65168805-95c5-4d34-bca7-62d40f8c8932\",\"type\":\"BasicTickFormatter\"},\"plot\":{\"id\":\"09e50be8-2a63-4a3a-b97d-7943c91e44ef\",\"subtype\":\"Figure\",\"type\":\"Plot\"},\"ticker\":{\"id\":\"5d203a12-1e32-4c9a-b1f2-7a1f78a0096f\",\"type\":\"BasicTicker\"}},\"id\":\"2b50a304-55a7-406e-b795-cc1d0c79f025\",\"type\":\"LinearAxis\"},{\"attributes\":{},\"id\":\"65168805-95c5-4d34-bca7-62d40f8c8932\",\"type\":\"BasicTickFormatter\"},{\"attributes\":{\"line_color\":{\"value\":\"#1f77b4\"},\"x\":{\"field\":\"x\"},\"y\":{\"field\":\"y\"}},\"id\":\"6dc7d4e8-ab94-4451-8a88-66ef4d32e65d\",\"type\":\"Line\"},{\"attributes\":{\"fill_alpha\":{\"value\":0.1},\"fill_color\":{\"value\":\"#1f77b4\"},\"line_alpha\":{\"value\":0.1},\"line_color\":{\"value\":\"#1f77b4\"},\"x\":{\"field\":\"x\"},\"y\":{\"field\":\"y\"}},\"id\":\"77eee7b4-f8ea-4146-9632-11e97ce305d7\",\"type\":\"Circle\"},{\"attributes\":{\"data_source\":{\"id\":\"27145166-8631-41c9-8e0a-56b0a437aeaa\",\"type\":\"ColumnDataSource\"},\"glyph\":{\"id\":\"221cc44e-95f1-4772-b1c8-d1ad09d5940a\",\"type\":\"Circle\"},\"hover_glyph\":null,\"name\":\"SineCircle\",\"nonselection_glyph\":{\"id\":\"11723376-5df6-414e-9319-eb2765e6f136\",\"type\":\"Circle\"},\"selection_glyph\":null},\"id\":\"de008e32-5d29-4dfc-b56e-690a8ad0acc6\",\"type\":\"GlyphRenderer\"},{\"attributes\":{\"plot\":null,\"text\":null},\"id\":\"c69a672d-18cb-44c2-bbba-f9d4321ce688\",\"type\":\"Title\"},{\"attributes\":{\"callback\":null,\"column_names\":[\"x\",\"y\"],\"data\":{\"x\":[0.0,0.12693303650867852,0.25386607301735703,0.3807991095260356,0.5077321460347141,0.6346651825433925,0.7615982190520711,0.8885312555607496,1.0154642920694281,1.1423973285781066,1.269330365086785,1.3962634015954636,1.5231964381041423,1.6501294746128208,1.7770625111214993,1.9039955476301778,2.0309285841388562,2.1578616206475347,2.284794657156213,2.4117276936648917,2.53866073017357,2.6655937666822487,2.792526803190927,2.9194598396996057,3.0463928762082846,3.173325912716963,3.3002589492256416,3.42719198573432,3.5541250222429985,3.681058058751677,3.8079910952603555,3.934924131769034,4.0618571682777125,4.188790204786391,4.3157232412950695,4.442656277803748,4.569589314312426,4.696522350821105,4.823455387329783,4.950388423838462,5.07732146034714,5.204254496855819,5.331187533364497,5.458120569873176,5.585053606381854,5.711986642890533,5.838919679399211,5.96585271590789,6.092785752416569,6.219718788925247,6.346651825433926,6.473584861942604,6.600517898451283,6.727450934959961,6.85438397146864,6.981317007977318,7.108250044485997,7.235183080994675,7.362116117503354,7.489049154012032,7.615982190520711,7.742915227029389,7.869848263538068,7.996781300046746,8.123714336555425,8.250647373064103,8.377580409572783,8.50451344608146,8.631446482590139,8.758379519098817,8.885312555607497,9.012245592116175,9.139178628624853,9.266111665133531,9.39304470164221,9.519977738150889,9.646910774659567,9.773843811168245,9.900776847676925,10.027709884185603,10.15464292069428,10.28157595720296,10.408508993711639,10.535442030220317,10.662375066728995,10.789308103237675,10.916241139746353,11.04317417625503,11.170107212763709,11.297040249272388,11.423973285781067,11.550906322289745,11.677839358798423,11.804772395307102,11.93170543181578,12.058638468324459,12.185571504833138,12.312504541341816,12.439437577850494,12.566370614359172],\"y\":[0.0,0.3797773607212478,0.7534439615432377,1.1149873669809827,1.458590208301406,1.7787237871639212,2.070237034446336,2.3284393928752705,2.549176289848543,2.728895986063555,2.8647067243322217,2.954423259036624,2.9966020175490238,2.990564327855827,2.936407338644336,2.8350024561440055,2.6879813228740077,2.4977095639043143,2.267248723062775,2.000307001548875,1.7011795915883126,1.3746795651822317,1.0260604299770066,0.6609315983596225,0.2851681299125473,-0.09518380049420358,-0.4740041879200503,-0.8451976705242895,-1.2027916062198414,-1.5410321747202191,-1.8544769586618157,-2.1380825141365887,-2.387285521592496,-2.5980762113533165,-2.767062882313744,-2.8915264756798265,-2.969464325642798,-2.999622383021625,-2.9815153933837624,-2.915434704970625,-2.8024435807953205,-2.644360090342746,-2.4437278561510074,-2.2037751259725993,-1.9283628290596186,-1.6219224523667923,-1.2893847362675157,-0.9361003370954613,-0.5677537330812292,-0.19027175896969356,0.19027175896969478,0.5677537330812303,0.9361003370954624,1.2893847362675146,1.6219224523667934,1.9283628290596178,2.2037751259726,2.443727856151007,2.6443600903427464,2.80244358079532,2.9154347049706253,2.9815153933837624,2.999622383021625,2.9694643256427984,2.891526475679826,2.767062882313745,2.5980762113533147,2.3872855215924957,2.1380825141365887,1.8544769586618168,1.5410321747202174,1.2027916062198403,0.8451976705242896,0.47400418792005167,0.09518380049420103,-0.2851681299125485,-0.660931598359621,-1.026060429977004,-1.3746795651822326,-1.7011795915883123,-2.0003070015488738,-2.2672487230627763,-2.4977095639043148,-2.6879813228740077,-2.835002456144005,-2.9364073386443366,-2.990564327855827,-2.9966020175490238,-2.9544232590366244,-2.864706724332221,-2.728895986063555,-2.5491762898485435,-2.328439392875272,-2.070237034446335,-1.7787237871639212,-1.4585902083014068,-1.11498736698098,-0.7534439615432363,-0.3797773607212479,-1.4695761589768238e-15]}},\"id\":\"4a9db517-d1db-4bff-842c-6a25a1df66ae\",\"type\":\"ColumnDataSource\"},{\"attributes\":{\"callback\":null},\"id\":\"0cef6fa7-b57c-4034-bbd7-edad058e4817\",\"type\":\"DataRange1d\"},{\"attributes\":{\"plot\":{\"id\":\"09e50be8-2a63-4a3a-b97d-7943c91e44ef\",\"subtype\":\"Figure\",\"type\":\"Plot\"},\"ticker\":{\"id\":\"c78556c6-5566-4e89-96e6-659026707d76\",\"type\":\"BasicTicker\"}},\"id\":\"82166435-357e-41be-ab18-422592a67496\",\"type\":\"Grid\"},{\"attributes\":{\"data_source\":{\"id\":\"4a9db517-d1db-4bff-842c-6a25a1df66ae\",\"type\":\"ColumnDataSource\"},\"glyph\":{\"id\":\"63911b57-ceb3-43d9-876c-ba240ab46126\",\"type\":\"Circle\"},\"hover_glyph\":null,\"name\":\"3SineCircle\",\"nonselection_glyph\":{\"id\":\"77eee7b4-f8ea-4146-9632-11e97ce305d7\",\"type\":\"Circle\"},\"selection_glyph\":null},\"id\":\"1f649ff7-19b6-450e-8c89-a9898db24561\",\"type\":\"GlyphRenderer\"},{\"attributes\":{\"formatter\":{\"id\":\"59e67043-7a4e-4c41-84de-461004021713\",\"type\":\"BasicTickFormatter\"},\"plot\":{\"id\":\"09e50be8-2a63-4a3a-b97d-7943c91e44ef\",\"subtype\":\"Figure\",\"type\":\"Plot\"},\"ticker\":{\"id\":\"c78556c6-5566-4e89-96e6-659026707d76\",\"type\":\"BasicTicker\"}},\"id\":\"8544218a-74f4-454f-8e6b-64b48d6128f0\",\"type\":\"LinearAxis\"},{\"attributes\":{\"line_alpha\":{\"value\":0.1},\"line_color\":{\"value\":\"#1f77b4\"},\"x\":{\"field\":\"x\"},\"y\":{\"field\":\"y\"}},\"id\":\"bb6cb846-7f49-4bdb-a986-6f088439c6ab\",\"type\":\"Line\"},{\"attributes\":{\"callback\":null,\"column_names\":[\"x\",\"y\"],\"data\":{\"x\":[0.0,0.12693303650867852,0.25386607301735703,0.3807991095260356,0.5077321460347141,0.6346651825433925,0.7615982190520711,0.8885312555607496,1.0154642920694281,1.1423973285781066,1.269330365086785,1.3962634015954636,1.5231964381041423,1.6501294746128208,1.7770625111214993,1.9039955476301778,2.0309285841388562,2.1578616206475347,2.284794657156213,2.4117276936648917,2.53866073017357,2.6655937666822487,2.792526803190927,2.9194598396996057,3.0463928762082846,3.173325912716963,3.3002589492256416,3.42719198573432,3.5541250222429985,3.681058058751677,3.8079910952603555,3.934924131769034,4.0618571682777125,4.188790204786391,4.3157232412950695,4.442656277803748,4.569589314312426,4.696522350821105,4.823455387329783,4.950388423838462,5.07732146034714,5.204254496855819,5.331187533364497,5.458120569873176,5.585053606381854,5.711986642890533,5.838919679399211,5.96585271590789,6.092785752416569,6.219718788925247,6.346651825433926,6.473584861942604,6.600517898451283,6.727450934959961,6.85438397146864,6.981317007977318,7.108250044485997,7.235183080994675,7.362116117503354,7.489049154012032,7.615982190520711,7.742915227029389,7.869848263538068,7.996781300046746,8.123714336555425,8.250647373064103,8.377580409572783,8.50451344608146,8.631446482590139,8.758379519098817,8.885312555607497,9.012245592116175,9.139178628624853,9.266111665133531,9.39304470164221,9.519977738150889,9.646910774659567,9.773843811168245,9.900776847676925,10.027709884185603,10.15464292069428,10.28157595720296,10.408508993711639,10.535442030220317,10.662375066728995,10.789308103237675,10.916241139746353,11.04317417625503,11.170107212763709,11.297040249272388,11.423973285781067,11.550906322289745,11.677839358798423,11.804772395307102,11.93170543181578,12.058638468324459,12.185571504833138,12.312504541341816,12.439437577850494,12.566370614359172],\"y\":[0.0,0.3797773607212478,0.7534439615432377,1.1149873669809827,1.458590208301406,1.7787237871639212,2.070237034446336,2.3284393928752705,2.549176289848543,2.728895986063555,2.8647067243322217,2.954423259036624,2.9966020175490238,2.990564327855827,2.936407338644336,2.8350024561440055,2.6879813228740077,2.4977095639043143,2.267248723062775,2.000307001548875,1.7011795915883126,1.3746795651822317,1.0260604299770066,0.6609315983596225,0.2851681299125473,-0.09518380049420358,-0.4740041879200503,-0.8451976705242895,-1.2027916062198414,-1.5410321747202191,-1.8544769586618157,-2.1380825141365887,-2.387285521592496,-2.5980762113533165,-2.767062882313744,-2.8915264756798265,-2.969464325642798,-2.999622383021625,-2.9815153933837624,-2.915434704970625,-2.8024435807953205,-2.644360090342746,-2.4437278561510074,-2.2037751259725993,-1.9283628290596186,-1.6219224523667923,-1.2893847362675157,-0.9361003370954613,-0.5677537330812292,-0.19027175896969356,0.19027175896969478,0.5677537330812303,0.9361003370954624,1.2893847362675146,1.6219224523667934,1.9283628290596178,2.2037751259726,2.443727856151007,2.6443600903427464,2.80244358079532,2.9154347049706253,2.9815153933837624,2.999622383021625,2.9694643256427984,2.891526475679826,2.767062882313745,2.5980762113533147,2.3872855215924957,2.1380825141365887,1.8544769586618168,1.5410321747202174,1.2027916062198403,0.8451976705242896,0.47400418792005167,0.09518380049420103,-0.2851681299125485,-0.660931598359621,-1.026060429977004,-1.3746795651822326,-1.7011795915883123,-2.0003070015488738,-2.2672487230627763,-2.4977095639043148,-2.6879813228740077,-2.835002456144005,-2.9364073386443366,-2.990564327855827,-2.9966020175490238,-2.9544232590366244,-2.864706724332221,-2.728895986063555,-2.5491762898485435,-2.328439392875272,-2.070237034446335,-1.7787237871639212,-1.4585902083014068,-1.11498736698098,-0.7534439615432363,-0.3797773607212479,-1.4695761589768238e-15]}},\"id\":\"454e49ae-0d4d-4ccf-bc15-b5804e21321c\",\"type\":\"ColumnDataSource\"},{\"attributes\":{\"below\":[{\"id\":\"8544218a-74f4-454f-8e6b-64b48d6128f0\",\"type\":\"LinearAxis\"}],\"left\":[{\"id\":\"2b50a304-55a7-406e-b795-cc1d0c79f025\",\"type\":\"LinearAxis\"}],\"renderers\":[{\"id\":\"8544218a-74f4-454f-8e6b-64b48d6128f0\",\"type\":\"LinearAxis\"},{\"id\":\"82166435-357e-41be-ab18-422592a67496\",\"type\":\"Grid\"},{\"id\":\"2b50a304-55a7-406e-b795-cc1d0c79f025\",\"type\":\"LinearAxis\"},{\"id\":\"6280359c-bef2-4c30-bddd-805681c7d52c\",\"type\":\"Grid\"},{\"id\":\"58d90a9d-5d48-433c-adbc-23fa0ef6518e\",\"type\":\"BoxAnnotation\"},{\"id\":\"2a9b604e-8d9b-4f15-a527-7f2943779f07\",\"type\":\"GlyphRenderer\"},{\"id\":\"de008e32-5d29-4dfc-b56e-690a8ad0acc6\",\"type\":\"GlyphRenderer\"},{\"id\":\"f119bd09-220c-4d85-a9f5-f97dd7cdda66\",\"type\":\"GlyphRenderer\"},{\"id\":\"5b2f55e7-edba-4785-8c24-d1de8e47a05e\",\"type\":\"GlyphRenderer\"},{\"id\":\"1f649ff7-19b6-450e-8c89-a9898db24561\",\"type\":\"GlyphRenderer\"}],\"title\":{\"id\":\"c69a672d-18cb-44c2-bbba-f9d4321ce688\",\"type\":\"Title\"},\"tool_events\":{\"id\":\"26e6251d-45f9-4134-947a-e7e891a59662\",\"type\":\"ToolEvents\"},\"toolbar\":{\"id\":\"1bae5b3c-b823-4690-971f-a1b46c9e3eb2\",\"type\":\"Toolbar\"},\"x_range\":{\"id\":\"0cef6fa7-b57c-4034-bbd7-edad058e4817\",\"type\":\"DataRange1d\"},\"y_range\":{\"id\":\"38d18b07-8ad7-4d22-80c9-9ed1f93458c0\",\"type\":\"DataRange1d\"}},\"id\":\"09e50be8-2a63-4a3a-b97d-7943c91e44ef\",\"subtype\":\"Figure\",\"type\":\"Plot\"},{\"attributes\":{\"line_alpha\":{\"value\":0.1},\"line_color\":{\"value\":\"#1f77b4\"},\"x\":{\"field\":\"x\"},\"y\":{\"field\":\"y\"}},\"id\":\"9f4a8c3b-4c75-4dd1-ba2b-fb513feda55c\",\"type\":\"Line\"},{\"attributes\":{\"line_color\":{\"value\":\"green\"},\"x\":{\"field\":\"x\"},\"y\":{\"field\":\"y\"}},\"id\":\"bae9dc1a-b3ce-441c-a16b-27de389f42a3\",\"type\":\"Line\"},{\"attributes\":{\"data_source\":{\"id\":\"4e825830-731f-468b-a75a-dc3c4c1b9725\",\"type\":\"ColumnDataSource\"},\"glyph\":{\"id\":\"a12ba44d-2fcd-4399-b62d-9c56360346c1\",\"type\":\"Line\"},\"hover_glyph\":null,\"name\":\"2SineLine\",\"nonselection_glyph\":{\"id\":\"6e6edbd5-93b1-4a79-ad9f-a41cdc2f1527\",\"type\":\"Line\"},\"selection_glyph\":null},\"id\":\"f119bd09-220c-4d85-a9f5-f97dd7cdda66\",\"type\":\"GlyphRenderer\"},{\"attributes\":{\"fill_color\":{\"value\":\"green\"},\"line_color\":{\"value\":\"#1f77b4\"},\"x\":{\"field\":\"x\"},\"y\":{\"field\":\"y\"}},\"id\":\"221cc44e-95f1-4772-b1c8-d1ad09d5940a\",\"type\":\"Circle\"},{\"attributes\":{},\"id\":\"5d203a12-1e32-4c9a-b1f2-7a1f78a0096f\",\"type\":\"BasicTicker\"},{\"attributes\":{\"data_source\":{\"id\":\"454e49ae-0d4d-4ccf-bc15-b5804e21321c\",\"type\":\"ColumnDataSource\"},\"glyph\":{\"id\":\"6dc7d4e8-ab94-4451-8a88-66ef4d32e65d\",\"type\":\"Line\"},\"hover_glyph\":null,\"name\":\"3SineLine\",\"nonselection_glyph\":{\"id\":\"bb6cb846-7f49-4bdb-a986-6f088439c6ab\",\"type\":\"Line\"},\"selection_glyph\":null},\"id\":\"5b2f55e7-edba-4785-8c24-d1de8e47a05e\",\"type\":\"GlyphRenderer\"},{\"attributes\":{\"callback\":null,\"column_names\":[\"x\",\"y\"],\"data\":{\"x\":[0.0,0.12693303650867852,0.25386607301735703,0.3807991095260356,0.5077321460347141,0.6346651825433925,0.7615982190520711,0.8885312555607496,1.0154642920694281,1.1423973285781066,1.269330365086785,1.3962634015954636,1.5231964381041423,1.6501294746128208,1.7770625111214993,1.9039955476301778,2.0309285841388562,2.1578616206475347,2.284794657156213,2.4117276936648917,2.53866073017357,2.6655937666822487,2.792526803190927,2.9194598396996057,3.0463928762082846,3.173325912716963,3.3002589492256416,3.42719198573432,3.5541250222429985,3.681058058751677,3.8079910952603555,3.934924131769034,4.0618571682777125,4.188790204786391,4.3157232412950695,4.442656277803748,4.569589314312426,4.696522350821105,4.823455387329783,4.950388423838462,5.07732146034714,5.204254496855819,5.331187533364497,5.458120569873176,5.585053606381854,5.711986642890533,5.838919679399211,5.96585271590789,6.092785752416569,6.219718788925247,6.346651825433926,6.473584861942604,6.600517898451283,6.727450934959961,6.85438397146864,6.981317007977318,7.108250044485997,7.235183080994675,7.362116117503354,7.489049154012032,7.615982190520711,7.742915227029389,7.869848263538068,7.996781300046746,8.123714336555425,8.250647373064103,8.377580409572783,8.50451344608146,8.631446482590139,8.758379519098817,8.885312555607497,9.012245592116175,9.139178628624853,9.266111665133531,9.39304470164221,9.519977738150889,9.646910774659567,9.773843811168245,9.900776847676925,10.027709884185603,10.15464292069428,10.28157595720296,10.408508993711639,10.535442030220317,10.662375066728995,10.789308103237675,10.916241139746353,11.04317417625503,11.170107212763709,11.297040249272388,11.423973285781067,11.550906322289745,11.677839358798423,11.804772395307102,11.93170543181578,12.058638468324459,12.185571504833138,12.312504541341816,12.439437577850494,12.566370614359172],\"y\":[0.0,0.25318490714749853,0.5022959743621584,0.7433249113206551,0.9723934722009373,1.1858158581092808,1.380158022964224,1.5522929285835136,1.6994508598990288,1.8192639907090367,1.9098044828881477,1.969615506024416,1.997734678366016,1.9937095519038848,1.9576048924295575,1.890001637429337,1.7919875485826717,1.6651397092695428,1.5114991487085165,1.3335380010325832,1.1341197277255417,0.916453043454821,0.6840402866513378,0.4406210655730816,0.19011208660836487,-0.06345586699613572,-0.31600279194670017,-0.5634651136828597,-0.8018610708132275,-1.0273547831468128,-1.2363179724412106,-1.4253883427577259,-1.5915236810616642,-1.7320508075688776,-1.8447085882091627,-1.9276843171198843,-1.9796428837618654,-1.9997482553477501,-1.9876769289225082,-1.9436231366470833,-1.8682957205302135,-1.762906726895164,-1.6291519041006717,-1.4691834173150662,-1.2855752193730792,-1.0812816349111949,-0.8595898241783438,-0.6240668913969741,-0.3785024887208195,-0.12684783931312904,0.12684783931312985,0.37850248872082026,0.6240668913969749,0.8595898241783431,1.0812816349111956,1.2855752193730785,1.4691834173150669,1.6291519041006712,1.7629067268951641,1.8682957205302133,1.9436231366470835,1.9876769289225082,1.9997482553477501,1.9796428837618656,1.927684317119884,1.8447085882091632,1.7320508075688765,1.5915236810616638,1.4253883427577259,1.2363179724412112,1.0273547831468115,0.8018610708132269,0.5634651136828598,0.3160027919467011,0.06345586699613402,-0.19011208660836565,-0.4406210655730807,-0.684040286651336,-0.9164530434548217,-1.1341197277255415,-1.3335380010325826,-1.5114991487085176,-1.6651397092695432,-1.7919875485826717,-1.8900016374293367,-1.9576048924295577,-1.9937095519038848,-1.997734678366016,-1.9696155060244163,-1.9098044828881473,-1.8192639907090367,-1.699450859899029,-1.5522929285835145,-1.3801580229642232,-1.1858158581092808,-0.972393472200938,-0.7433249113206533,-0.5022959743621576,-0.2531849071474986,-9.797174393178826e-16]}},\"id\":\"4e825830-731f-468b-a75a-dc3c4c1b9725\",\"type\":\"ColumnDataSource\"}],\"root_ids\":[\"09e50be8-2a63-4a3a-b97d-7943c91e44ef\"]},\"title\":\"Bokeh Application\",\"version\":\"0.12.1\"}};\n",
       "            var render_items = [{\"docid\":\"5d00d761-9f09-49fd-bf62-9cc133e366e0\",\"elementid\":\"fc2b2e14-3e95-4e4d-8cf4-76333a11b548\",\"modelid\":\"09e50be8-2a63-4a3a-b97d-7943c91e44ef\",\"notebook_comms_target\":\"14dae1b6-9394-45d0-ba1d-635e67f88e47\"}];\n",
       "            \n",
       "            Bokeh.embed.embed_items(docs_json, render_items);\n",
       "        });\n",
       "      },\n",
       "      function(Bokeh) {\n",
       "      }\n",
       "    ];\n",
       "  \n",
       "    function run_inline_js() {\n",
       "      for (var i = 0; i < inline_js.length; i++) {\n",
       "        inline_js[i](window.Bokeh);\n",
       "      }\n",
       "    }\n",
       "  \n",
       "    if (window._bokeh_is_loading === 0) {\n",
       "      console.log(\"Bokeh: BokehJS loaded, going straight to plotting\");\n",
       "      run_inline_js();\n",
       "    } else {\n",
       "      load_libs(js_urls, function() {\n",
       "        console.log(\"Bokeh: BokehJS plotting callback run at\", now());\n",
       "        run_inline_js();\n",
       "      });\n",
       "    }\n",
       "  }(this));\n",
       "</script>"
      ]
     },
     "metadata": {},
     "output_type": "display_data"
    },
    {
     "data": {
      "text/html": [
       "<p><code>&lt;Bokeh Notebook handle for <strong>In[21]</strong>&gt;</code></p>"
      ],
      "text/plain": [
       "<bokeh.io._CommsHandle at 0x89c8cc0>"
      ]
     },
     "execution_count": 21,
     "metadata": {},
     "output_type": "execute_result"
    }
   ],
   "source": [
    "plot = figure()\n",
    "\n",
    "plot.line(x,y, name='SineLine')\n",
    "plot.circle(x,y, name='SineCircle')\n",
    "\n",
    "plot.line(x,2*y, name='2SineLine')\n",
    "\n",
    "plot.line(x,3*y, name='3SineLine')\n",
    "plot.circle(x,3*y, name='3SineCircle')\n",
    "\n",
    "for m_name in ['SineLine', 'SineCircle']:\n",
    "    obj = plot.select(name=m_name)[0].glyph\n",
    "    try:\n",
    "        obj.fill_color='green'\n",
    "    except AttributeError:\n",
    "        #line objects don't have fill colors\n",
    "        obj.line_color='green'\n",
    "\n",
    "\n",
    "show(plot)"
   ]
  },
  {
   "cell_type": "markdown",
   "metadata": {},
   "source": [
    "The class itself can be used to return a list of all objects of that type"
   ]
  },
  {
   "cell_type": "markdown",
   "metadata": {},
   "source": [
    "# Exercise"
   ]
  },
  {
   "cell_type": "markdown",
   "metadata": {},
   "source": [
    "<img src='img/topics/Exercise.png' align='left' style='padding:10px'>\n",
    "<br>\n",
    "<a href='./Bokeh_ex_plotting.ipynb' class='btn btn-primary btn-lg'>Plotting Timeseries</a>"
   ]
  },
  {
   "cell_type": "markdown",
   "metadata": {},
   "source": [
    "----\n",
    "<a href='./Bokeh_layout.ipynb' class='btn btn-primary'>Plot layout</a>"
   ]
  }
 ],
 "metadata": {
  "anaconda-cloud": {},
  "kernelspec": {
   "display_name": "Python [iqt]",
   "language": "python",
   "name": "Python [iqt]"
  },
  "language_info": {
   "codemirror_mode": {
    "name": "ipython",
    "version": 3
   },
   "file_extension": ".py",
   "mimetype": "text/x-python",
   "name": "python",
   "nbconvert_exporter": "python",
   "pygments_lexer": "ipython3",
   "version": "3.4.0"
  }
 },
 "nbformat": 4,
 "nbformat_minor": 0
}
