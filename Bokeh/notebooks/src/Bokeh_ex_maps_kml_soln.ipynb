{
 "cells": [
  {
   "cell_type": "markdown",
   "metadata": {},
   "source": [
    "<img src='../../img/anaconda-logo.png' align='left' style=\"padding:10px\">\n",
    "<br>\n",
    "*Copyright Continuum 2012-2016 All Rights Reserved.*"
   ]
  },
  {
   "cell_type": "markdown",
   "metadata": {},
   "source": [
    "# Bokeh Exercise: KML and Maps"
   ]
  },
  {
   "cell_type": "markdown",
   "metadata": {},
   "source": [
    "## Table of Contents\n",
    "* [Bokeh Exercise: KML and Maps](#Bokeh-Exercise:-KML-and-Maps)\n",
    "\t* [Set-Up](#Set-Up)\n",
    "\t* [Bokeh-Geo KML Examples](#Bokeh-Geo-KML-Examples)\n",
    "* [Solutions](#Solutions)\n",
    "\t* [KML Placemark Points](#KML-Placemark-Points)\n",
    "\t* [KML Linestrings](#KML-Linestrings)\n",
    "\t* [KML Points w/ Simple Data Tag Hover](#KML-Points-w/-Simple-Data-Tag-Hover)\n",
    "\t* [KML Polygons w/ Extended Data Hover](#KML-Polygons-w/-Extended-Data-Hover)\n",
    "\t* [KML MultiGeometry Tag Support (Lines)](#KML-MultiGeometry-Tag-Support-%28Lines%29)\n",
    "\t* [KML MultiGeometry Tag Support (Polygons)](#KML-MultiGeometry-Tag-Support-%28Polygons%29)\n"
   ]
  },
  {
   "cell_type": "markdown",
   "metadata": {},
   "source": [
    "## Set-Up"
   ]
  },
  {
   "cell_type": "code",
   "execution_count": null,
   "metadata": {
    "collapsed": false
   },
   "outputs": [],
   "source": [
    "from bokeh.io import output_notebook, show\n",
    "from bokeh.plotting import figure\n",
    "from bokeh.models import Range1d, HoverTool\n",
    "from bokeh_geo.sources import KMLDataSource\n",
    "\n",
    "output_notebook()"
   ]
  },
  {
   "cell_type": "markdown",
   "metadata": {},
   "source": [
    "## Bokeh-Geo KML Examples"
   ]
  },
  {
   "cell_type": "markdown",
   "metadata": {},
   "source": [
    "Bokeh-Geo provides a `KMLDataSource` which provides access to data stored in Keyhole Markup Language, which is most commonly associated with Google Earth.  `KMLDataSource` internally converts KML files into GeoJSON objects to be displayed on maps.  \n",
    "\n",
    "This notebook explores how to convert different KML tags are converted for use in Bokeh visualizations.  \n",
    "\n",
    "Demonstrated tags include:\n",
    "\n",
    "- `<Placemark>`\n",
    "- `<Point>`\n",
    "- `<LineString>`\n",
    "- `<Polygon>`\n",
    "- `<SimpleData>`\n",
    "- `<ExtendedData>`\n",
    "- `<MultiGeometry>`"
   ]
  },
  {
   "cell_type": "code",
   "execution_count": null,
   "metadata": {
    "collapsed": false
   },
   "outputs": [],
   "source": [
    "x_range=(-122.372, -122.362)\n",
    "y_range=(37.818, 37.826)\n",
    "\n",
    "def base_plot(tools='pan,wheel_zoom,reset',plot_width=900, plot_height=600, **plot_args):\n",
    "    p = figure(tools=tools, plot_width=plot_width, plot_height=plot_height,\n",
    "        x_range=x_range, y_range=y_range, outline_line_color=None,\n",
    "        min_border=0, min_border_left=0, min_border_right=0,\n",
    "        min_border_top=10, min_border_bottom=0, **plot_args)\n",
    "    \n",
    "    p.axis.visible = True\n",
    "    p.xgrid.grid_line_color = None\n",
    "    p.ygrid.grid_line_color = None\n",
    "    return p"
   ]
  },
  {
   "cell_type": "markdown",
   "metadata": {},
   "source": [
    "# Solutions"
   ]
  },
  {
   "cell_type": "markdown",
   "metadata": {},
   "source": [
    "## KML Placemark Points"
   ]
  },
  {
   "cell_type": "markdown",
   "metadata": {},
   "source": [
    "Notice that you must know in which Bokeh glyph your KML geometries should use.  The Bokeh `Circle` glyph is the most appropriate for displaying KML points."
   ]
  },
  {
   "cell_type": "code",
   "execution_count": null,
   "metadata": {
    "collapsed": false
   },
   "outputs": [],
   "source": [
    "fig = base_plot()\n",
    "fig.title='KML Placemark Points'\n",
    "           \n",
    "with open('../../data/BokehGeo/point.kml') as p:\n",
    "    point_kml = p.read()\n",
    "    \n",
    "kml_point_source = KMLDataSource(features=point_kml)\n",
    "fig.circle(x='x',\n",
    "           y='y',\n",
    "           color=\"blue\",\n",
    "           size=20,\n",
    "           alpha=0.9,\n",
    "           source=kml_point_source)\n",
    "\n",
    "show(fig)"
   ]
  },
  {
   "cell_type": "markdown",
   "metadata": {},
   "source": [
    "## KML Linestrings"
   ]
  },
  {
   "cell_type": "markdown",
   "metadata": {},
   "source": [
    "The Bokeh `multi_line` glyph is used for displaying KML line strings."
   ]
  },
  {
   "cell_type": "code",
   "execution_count": null,
   "metadata": {
    "collapsed": false
   },
   "outputs": [],
   "source": [
    "fig = base_plot()\n",
    "fig.title = 'KML Linestrings'\n",
    "\n",
    "with open('../../data/BokehGeo/linestring.kml') as l:\n",
    "    line_kml = l.read()\n",
    "\n",
    "kml_line_source = KMLDataSource(features=line_kml)\n",
    "fig.multi_line(xs='xs',\n",
    "               ys='ys',\n",
    "               color=\"red\",\n",
    "               alpha=0.9,\n",
    "               line_width=2,\n",
    "               source=kml_line_source)\n",
    "\n",
    "show(fig)"
   ]
  },
  {
   "cell_type": "markdown",
   "metadata": {},
   "source": [
    "## KML Points w/ Simple Data Tag Hover"
   ]
  },
  {
   "cell_type": "markdown",
   "metadata": {},
   "source": [
    "Attributes found within `<SimpleData>` tags are added internally to a `ColumnDataSource` whose attributes are accessible to the Bokeh `HoverTool` via the `@` syntax shown below."
   ]
  },
  {
   "cell_type": "code",
   "execution_count": null,
   "metadata": {
    "collapsed": false
   },
   "outputs": [],
   "source": [
    "fig = base_plot()\n",
    "fig.title = 'KML Points w/ Simple Data Tag Hover'\n",
    "fig.x_range = Range1d(start=-122.002, end=-121.99)\n",
    "fig.y_range = Range1d(start=37, end=37.02)\n",
    "\n",
    "with open('../../data/BokehGeo/simpledata.kml') as p:\n",
    "    point_kml = p.read()\n",
    "    \n",
    "kml_point_source = KMLDataSource(features=point_kml)\n",
    "fig.circle(x='x',\n",
    "       y='y',\n",
    "       color=\"blue\",\n",
    "       size=20,\n",
    "       alpha=0.9,\n",
    "       source=kml_point_source)\n",
    "\n",
    "# add hover tool to show simple data\n",
    "hover = HoverTool(\n",
    "    tooltips=[\n",
    "        (\"Trail Head Name\", \"@TrailHeadName\"),\n",
    "        (\"Trail Length\", \"@TrailLength\"),\n",
    "        (\"Elevation Gain\", \"@ElevationGain\"),\n",
    "    ]\n",
    ")\n",
    "\n",
    "fig.add_tools(hover)\n",
    "\n",
    "show(fig)"
   ]
  },
  {
   "cell_type": "markdown",
   "metadata": {
    "collapsed": true
   },
   "source": [
    "## KML Polygons w/ Extended Data Hover"
   ]
  },
  {
   "cell_type": "markdown",
   "metadata": {},
   "source": [
    "Attributes found within `<ExtendedData>` tags are added internally to a `ColumnDataSource` whose attributes are accessible to the Bokeh `HoverTool` via the `@` syntax shown below."
   ]
  },
  {
   "cell_type": "code",
   "execution_count": null,
   "metadata": {
    "collapsed": false
   },
   "outputs": [],
   "source": [
    "fig = base_plot()\n",
    "fig.title = 'KML Polygons w/ Extended Data Hover'\n",
    "\n",
    "with open('../../data/BokehGeo/polygon.kml') as k:\n",
    "    polygon_kml = k.read()\n",
    "\n",
    "kml_polygon_source = KMLDataSource(features=polygon_kml)\n",
    "fig.patches(xs='xs',\n",
    "            ys='ys',\n",
    "            alpha=0.9,\n",
    "            source=kml_polygon_source)\n",
    "\n",
    "# add hover tool to show extended data\n",
    "hover = HoverTool(\n",
    "    tooltips=[\n",
    "        (\"index\", \"$index\"),\n",
    "        (\"(x,y)\", \"($x, $y)\"),\n",
    "        (\"name\", \"@name\"),\n",
    "        (\"description\", \"@description\"),\n",
    "        (\"extended_data_name\", \"@extended_data_name\"),\n",
    "    ]\n",
    ")\n",
    "\n",
    "fig.add_tools(hover)\n",
    "\n",
    "show(fig)"
   ]
  },
  {
   "cell_type": "markdown",
   "metadata": {
    "collapsed": true
   },
   "source": [
    "## KML MultiGeometry Tag Support (Lines)"
   ]
  },
  {
   "cell_type": "markdown",
   "metadata": {},
   "source": [
    "Geometries found with `<MultiGeometry>` tags are flattened interally into a `ColumnDataSource` with associated attributes.  Geometries can then be accessed using the appropriate Bokeh glyph."
   ]
  },
  {
   "cell_type": "code",
   "execution_count": null,
   "metadata": {
    "collapsed": false
   },
   "outputs": [],
   "source": [
    "fig = base_plot()\n",
    "fig.title='KML MultiGeometry Tag Support (Lines)'\n",
    "fig.x_range=Range1d(start=-122.44255, end=-122.44285)\n",
    "fig.y_range=Range1d(start=37.80, end=37.81)\n",
    "\n",
    "with open('../../data/BokehGeo/multigeometry.kml') as l:\n",
    "    line_kml = l.read()\n",
    "\n",
    "kml_line_source = KMLDataSource(features=line_kml)\n",
    "fig.multi_line(xs='xs',\n",
    "               ys='ys',\n",
    "               color=\"red\",\n",
    "               alpha=0.9,\n",
    "               line_width=2,\n",
    "               source=kml_line_source)\n",
    "\n",
    "show(fig)"
   ]
  },
  {
   "cell_type": "markdown",
   "metadata": {
    "collapsed": true
   },
   "source": [
    "## KML MultiGeometry Tag Support (Polygons)"
   ]
  },
  {
   "cell_type": "code",
   "execution_count": null,
   "metadata": {
    "collapsed": false
   },
   "outputs": [],
   "source": [
    "fig = base_plot()\n",
    "fig.title='KML MultiGeometry Tag Support (Polygons)'\n",
    "fig.x_range=Range1d(start=-10, end=60)\n",
    "fig.y_range=Range1d(start=0, end=90)\n",
    "\n",
    "with open('../../data/BokehGeo/multipolygon.kml') as l:\n",
    "    kml = l.read()\n",
    "\n",
    "kml_source = KMLDataSource(features=kml)\n",
    "fig.patches(xs='xs',\n",
    "            ys='ys',\n",
    "            color=\"red\",\n",
    "            alpha=0.85,\n",
    "            line_width=2,\n",
    "            line_color='black',\n",
    "            source=kml_source)\n",
    "\n",
    "show(fig)"
   ]
  },
  {
   "cell_type": "markdown",
   "metadata": {
    "collapsed": true
   },
   "source": [
    "---\n",
    "*Copyright Continuum 2012-2016 All Rights Reserved.*"
   ]
  }
 ],
 "metadata": {
  "anaconda-cloud": {},
  "kernelspec": {
   "display_name": "Python [conda env:iqt]",
   "language": "python",
   "name": "conda-env-iqt-py"
  },
  "language_info": {
   "codemirror_mode": {
    "name": "ipython",
    "version": 3
   },
   "file_extension": ".py",
   "mimetype": "text/x-python",
   "name": "python",
   "nbconvert_exporter": "python",
   "pygments_lexer": "ipython3",
   "version": "3.5.2"
  }
 },
 "nbformat": 4,
 "nbformat_minor": 0
}
