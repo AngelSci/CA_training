{
 "cells": [
  {
   "cell_type": "markdown",
   "metadata": {},
   "source": [
    "<img src='../../img/anaconda-logo.png' align='left' style=\"padding:10px\">\n",
    "<br>\n",
    "*Copyright Continuum 2012-2016 All Rights Reserved.*"
   ]
  },
  {
   "cell_type": "markdown",
   "metadata": {},
   "source": [
    "# Dashboards"
   ]
  },
  {
   "cell_type": "markdown",
   "metadata": {},
   "source": [
    "Dashboards are expecially useful for real-time streaming data.\n",
    "\n",
    "In the context of doing streaming with Bokeh Server:\n",
    "* Bokeh Server gives you **the ability to write call-backs** -- functions that can execute code on the server -- by writing code in python instead of javascript.\n",
    "* Bokeh Server gives you a **streaming capability** -- thre is two-way data movement between the client and the server.\n",
    "   * usually the server is just responding to client requests\n",
    "   * in this case, the server is pushing data from the server onto the client side, to update your dashboard\n",
    "   * Bokeh Server does this using Web Sockets to change and sync state.\n",
    "   * `ColumnDataSource` is the mechanism that allows you to sync data between server side and client side"
   ]
  },
  {
   "cell_type": "markdown",
   "metadata": {},
   "source": [
    "## Table of Contents\n",
    "* [Dashboards](#Dashboards)\n",
    "* [Server DashBoards](#Server-DashBoards)\n",
    "\t* [Inspect the source!](#Inspect-the-source!)\n",
    "* [Static Dashboards](#Static-Dashboards)\n",
    "\t* [Set-Up](#Set-Up)\n",
    "\t* [Static dashboards](#Static-dashboards)\n",
    "\t\t* [Exercise: charts](#Exercise:-charts)\n",
    "\t* [Interactive dashboards](#Interactive-dashboards)\n",
    "\t\t* [Widgets](#Widgets)\n",
    "\t\t* [Exercise: College Scorecard](#Exercise:-College-Scorecard)\n",
    "\t\t* [Exercise: stock data](#Exercise:-stock-data)\n",
    "\t* [Streaming dashboards](#Streaming-dashboards)\n",
    "\t\t* [Streaming finance data](#Streaming-finance-data)\n",
    "\t\t* [Exercise: streaming](#Exercise:-streaming)\n"
   ]
  },
  {
   "cell_type": "markdown",
   "metadata": {},
   "source": [
    "# Server DashBoards"
   ]
  },
  {
   "cell_type": "markdown",
   "metadata": {},
   "source": [
    "Let's start with a DEMO!"
   ]
  },
  {
   "cell_type": "markdown",
   "metadata": {},
   "source": [
    "You can create interactive dashboards with Bokeh Server. To demonstrate this, to the Terminal we go!"
   ]
  },
  {
   "cell_type": "markdown",
   "metadata": {},
   "source": [
    "```bash\n",
    "$ cd ~/code\n",
    "$ git clone git@github.com:bokeh/bokeh.git\n",
    "$ cd ~/code/bokeh/examples/app/ohlc\n",
    "$ source activate iqt\n",
    "$ bokeh serve ./main.py --show\n",
    "\n",
    "# Also notice in main.py\n",
    "\n",
    "```"
   ]
  },
  {
   "cell_type": "markdown",
   "metadata": {},
   "source": [
    "## Inspect the source!"
   ]
  },
  {
   "cell_type": "markdown",
   "metadata": {},
   "source": [
    "Let's open `main.py` and inspect the python source code to see how all this magic is implemented:"
   ]
  },
  {
   "cell_type": "code",
   "execution_count": null,
   "metadata": {
    "collapsed": true
   },
   "outputs": [],
   "source": [
    "# Uncomment the %load line below and execute this cell if you cloned the bokeh repo\n",
    "# Or, even better, use a text editor to open the source file!\n",
    "\n",
    "# %load ~/code/bokeh/examples/app/ohlc/main.py"
   ]
  },
  {
   "cell_type": "markdown",
   "metadata": {},
   "source": [
    "Note the reference to `curdoc()` in the `main.py`:\n",
    "\n",
    "```python\n",
    "from bokeh.plotting import curdoc\n",
    "```"
   ]
  },
  {
   "cell_type": "markdown",
   "metadata": {},
   "source": [
    "This is analogous to setting `output_notebook()`\n",
    "\n",
    "Also notice:\n",
    "\n",
    "```python\n",
    "curdoc().add_periodic_callback(update, 50)\n",
    "```"
   ]
  },
  {
   "cell_type": "markdown",
   "metadata": {},
   "source": [
    "For example, the `.add_periodic_callback` in `main.py` takes the following input args:\n",
    "\n",
    "* source: `curdoc().add_periodic_callback(update, 50)`\n",
    "* function: `update`\n",
    "* interval: `50`, in units of milliseconds"
   ]
  },
  {
   "cell_type": "markdown",
   "metadata": {},
   "source": [
    "Note that the `def update():` function calls `source.stream(new_data, 300)`, where 300 is the number of pushes that the client will maintain before it starts dropping data on the floor."
   ]
  },
  {
   "cell_type": "markdown",
   "metadata": {},
   "source": [
    "# Static Dashboards"
   ]
  },
  {
   "cell_type": "markdown",
   "metadata": {},
   "source": [
    "## Set-Up"
   ]
  },
  {
   "cell_type": "code",
   "execution_count": null,
   "metadata": {
    "collapsed": false
   },
   "outputs": [],
   "source": [
    "from bokeh.io import output_notebook, show\n",
    "output_notebook()"
   ]
  },
  {
   "cell_type": "markdown",
   "metadata": {},
   "source": [
    "Any *static* Bokeh plot can be made into a dashboard with `curdoc`."
   ]
  },
  {
   "cell_type": "markdown",
   "metadata": {},
   "source": [
    "```python\n",
    "from bokeh.io import curdoc\n",
    "\n",
    "# get the data and make the plot\n",
    "\n",
    "curdoc().add_root(plot)\n",
    "```"
   ]
  },
  {
   "cell_type": "markdown",
   "metadata": {},
   "source": [
    "launch the dashboard"
   ]
  },
  {
   "cell_type": "markdown",
   "metadata": {},
   "source": [
    "```\n",
    "$ bokeh serve --show plot.py\n",
    "```"
   ]
  },
  {
   "cell_type": "markdown",
   "metadata": {},
   "source": [
    "## Static dashboards"
   ]
  },
  {
   "cell_type": "markdown",
   "metadata": {},
   "source": [
    "Any bokeh plot (Plotting or Chart interface) can be made into a static dash board. The plot (or layout object) must be added as the root of `curdoc()`."
   ]
  },
  {
   "cell_type": "markdown",
   "metadata": {},
   "source": [
    "### Exercise: charts"
   ]
  },
  {
   "cell_type": "markdown",
   "metadata": {},
   "source": [
    "<img src='img/topics/Exercise.png' align='left' style='padding:10px'>\n",
    "<br>\n",
    "In a new `.py` file make a Histogram of the daily temperature in from `data/pittsburgh2013.csv`. \n",
    "\n",
    "Add the above code to make a dashboard and run it through the terminal."
   ]
  },
  {
   "cell_type": "markdown",
   "metadata": {},
   "source": [
    "<a href='../../../edit/Bokeh/notebooks/src/temperature-dashboard_soln.py' class='btn btn-primary'>Solution</a>"
   ]
  },
  {
   "cell_type": "markdown",
   "metadata": {},
   "source": [
    "## Interactive dashboards"
   ]
  },
  {
   "cell_type": "markdown",
   "metadata": {},
   "source": [
    "For dashboards that incorporate more interactivity through *widgets* only the Plotting interface is supported.\n",
    "\n",
    "Note: It is also required to use the `ColumnDataSource` object to store and update the data."
   ]
  },
  {
   "cell_type": "markdown",
   "metadata": {},
   "source": [
    "In addiction to `curdoc()` *interactive* dashboards add:\n",
    "* Widgets (slider, text fields, buttons, etc.)\n",
    "* Update function\n",
    "  * to update the `.data` attribute of a ColumnDataSource"
   ]
  },
  {
   "cell_type": "markdown",
   "metadata": {},
   "source": [
    "```python\n",
    "from bokeh.models import ColumnDataSource\n",
    "from bokeh.models.widgets import Slider\n",
    "source = ColumnDataSource(...)\n",
    "\n",
    "slider = Slider()\n",
    "\n",
    "def update():\n",
    "    new_value = slider.value\n",
    "    # compute NEW_DICT data\n",
    "    source.data = NEW_DICT\n",
    "\n",
    "slider.on_change('value',update)\n",
    "update()\n",
    "curdoc().add_root(plot)\n",
    "```"
   ]
  },
  {
   "cell_type": "markdown",
   "metadata": {},
   "source": [
    "### Widgets"
   ]
  },
  {
   "cell_type": "markdown",
   "metadata": {},
   "source": [
    "http://bokeh.pydata.org/en/latest/docs/user_guide/interaction.html#button"
   ]
  },
  {
   "cell_type": "code",
   "execution_count": null,
   "metadata": {
    "collapsed": false
   },
   "outputs": [],
   "source": [
    "from bokeh.models.widgets import Slider\n",
    "slider = Slider()\n",
    "show(slider)"
   ]
  },
  {
   "cell_type": "markdown",
   "metadata": {},
   "source": [
    "Sliders take\n",
    "* `title`: String\n",
    "* `start`: Number\n",
    "* `end`: Number\n",
    "* `value`: Number\n",
    "* `step`: Number"
   ]
  },
  {
   "cell_type": "code",
   "execution_count": null,
   "metadata": {
    "collapsed": false
   },
   "outputs": [],
   "source": [
    "slider = Slider(title='years', start=2000, end=2020, value=2016, step=1)\n",
    "show(slider)"
   ]
  },
  {
   "cell_type": "markdown",
   "metadata": {},
   "source": [
    "In a real dashboard the `.value` will be updated based on the current position."
   ]
  },
  {
   "cell_type": "code",
   "execution_count": null,
   "metadata": {
    "collapsed": false
   },
   "outputs": [],
   "source": [
    "slider.value"
   ]
  },
  {
   "cell_type": "code",
   "execution_count": null,
   "metadata": {
    "collapsed": false
   },
   "outputs": [],
   "source": [
    "from bokeh.models.widgets import TextInput\n",
    "text = TextInput(title='Ticker', value='^GSPC')\n",
    "show(text)"
   ]
  },
  {
   "cell_type": "markdown",
   "metadata": {},
   "source": [
    "### Exercise: College Scorecard"
   ]
  },
  {
   "cell_type": "markdown",
   "metadata": {},
   "source": [
    "<img src='img/topics/Exercise.png' align='left' style='padding:10px'>\n",
    "<br><big>A template has been provided at `Bokeh/notebooks/src/college-dashboard.py`</big>\n",
    "\n",
    "<a href='../../../edit/Bokeh/notebooks/src/college-dashboard.py' class='btn btn-primary btn-md'>Template file</a>"
   ]
  },
  {
   "cell_type": "markdown",
   "metadata": {},
   "source": [
    "The script provides functions that\n",
    "* read the [College Scorecard Data Set](https://collegescorecard.ed.gov/data/)\n",
    "* filter the data set based on admission rate and state\n",
    "* plot all of the colleges based on the filter\n",
    "  * color the cost by *green-yellow-red* in increasing cost\n",
    "  * scale the size of the plot by the admission rate (small circles have low admission rates)\n",
    "\n",
    "The task is to\n",
    "1. Import the tools and widgets you want to utilize\n",
    "2. Preparte the tools objects\n",
    "3. Prepare the widgets objects\n",
    "4. Grab updated values from widgets in the `update` function\n",
    "5. Register the update function for each of your widgets"
   ]
  },
  {
   "cell_type": "markdown",
   "metadata": {},
   "source": [
    "<a href='../../../edit/Bokeh/notebooks/src/college-dashboard_soln.py' class='btn btn-primary'>Solution</a>"
   ]
  },
  {
   "cell_type": "markdown",
   "metadata": {},
   "source": [
    "### Exercise: stock data"
   ]
  },
  {
   "cell_type": "markdown",
   "metadata": {},
   "source": [
    "<img src='img/topics/Exercise.png' align='left' style='padding:10px'>\n",
    "<br><big>A template has been provided at `Bokeh/notebooks/src/stocks-dashboard.py`.</big>\n",
    "\n",
    "<a href='../../../edit/Bokeh/notebooks/src/stocks-dashboard.py' class='btn btn-primary btn-md'>Template file</a>"
   ]
  },
  {
   "cell_type": "markdown",
   "metadata": {},
   "source": [
    "This script provides functions that\n",
    "* download stock data from Yahoo\n",
    "* compute short and long moving average windows\n",
    "* identify *positions* when the moving averages cross\n",
    "\n",
    "The task is to\n",
    "1. Add widgets to change the ticker string, start and end years and the moving average windows\n",
    "1. Make plot object\n",
    "1. Write a function to get updated widget values and return data\n",
    "1. Register the widgets with the update function"
   ]
  },
  {
   "cell_type": "markdown",
   "metadata": {},
   "source": [
    "<a href='../../../edit/Bokeh/notebooks/src/stocks-dashboard_soln.py' class='btn btn-primary'>Solution</a>"
   ]
  },
  {
   "cell_type": "markdown",
   "metadata": {},
   "source": [
    "## Streaming dashboards"
   ]
  },
  {
   "cell_type": "markdown",
   "metadata": {},
   "source": [
    "Streaming dashboards allow data to added to the `ColumnDataSource` object on a specified interval. New data point are appended using the `stream` member method.\n",
    "\n",
    "This function can be separate from other update functions that read updated widget values."
   ]
  },
  {
   "cell_type": "markdown",
   "metadata": {},
   "source": [
    "```python\n",
    "from bokeh.io import curdoc\n",
    "\n",
    "source = ColumnDataSource(x=[], y=[])\n",
    "\n",
    "\n",
    "def stream_data():\n",
    "    # get new x and y data as lists\n",
    "    \n",
    "    NEW_DATA = dict(\n",
    "        x = new_list_x,\n",
    "        y = new_list_y\n",
    "    )\n",
    "    source.stream(NEW_DATA)\n",
    "\n",
    "curdoc().add_root(plot)\n",
    "curdoc().add_periodic_callback(stream_data, UPDATE_INTERVAL)\n",
    "```"
   ]
  },
  {
   "cell_type": "markdown",
   "metadata": {},
   "source": [
    "### Streaming finance data"
   ]
  },
  {
   "cell_type": "markdown",
   "metadata": {},
   "source": [
    "This is a forgotten Google API that still works.\n",
    "\n",
    "https://web.archive.org/web/20111209142224/http://code.google.com/apis/finance/docs/finance-gadgets.html"
   ]
  },
  {
   "cell_type": "code",
   "execution_count": null,
   "metadata": {
    "collapsed": false
   },
   "outputs": [],
   "source": [
    "from urllib.request import urlopen\n",
    "\n",
    "url_base = 'http://finance.google.com/finance/info?client=ig&q='\n",
    "\n",
    "values = urlopen(url_base+'AAPL').read().decode('utf-8')\n",
    "print(values)"
   ]
  },
  {
   "cell_type": "code",
   "execution_count": null,
   "metadata": {
    "collapsed": false
   },
   "outputs": [],
   "source": [
    "import time\n",
    "import json\n",
    "for _ in range(10):\n",
    "    values = urlopen(url_base+'AAPL').read().decode('utf-8')\n",
    "    apple = json.loads(values[3:])[0]\n",
    "    print(apple['lt_dts'], apple['l'])\n",
    "    time.sleep(2)"
   ]
  },
  {
   "cell_type": "markdown",
   "metadata": {},
   "source": [
    "### Exercise: streaming"
   ]
  },
  {
   "cell_type": "markdown",
   "metadata": {
    "collapsed": true
   },
   "source": [
    "<img src='img/topics/Exercise.png' align='left' style='padding:10px'>\n",
    "<br><big>\n",
    "Using `Bokeh/notebooks/src/stocks-dashboard-live.py` write appropriate `get_stock_data` and `update_price` functions.\n",
    "</big>\n",
    "\n",
    "<a href='../../../edit/Bokeh/notebooks/src/stocks-dashboard-live.py' class='btn btn-primary btn-md'>Template file</a>"
   ]
  },
  {
   "cell_type": "markdown",
   "metadata": {},
   "source": [
    "<a href='../../../edit/Bokeh/notebooks/src/stocks-dashboard-live_soln.py' class='btn btn-primary'>Solution</a>"
   ]
  },
  {
   "cell_type": "markdown",
   "metadata": {},
   "source": [
    "---\n",
    "*Copyright Continuum 2012-2016 All Rights Reserved.*"
   ]
  }
 ],
 "metadata": {
  "anaconda-cloud": {},
  "continuum": {
   "depends": [],
   "requires": [
    "src/stocks-dashboard.py",
    "src/stocks-dashboard_soln.py",
    "src/stocks-dashboard-live.py",
    "src/stocks-dashboard-live_soln.py",
    "data/pittsburgh2013.csv",
    "src/temperature-dashboard_soln.py"
   ],
   "tag": "bo_dash"
  },
  "kernelspec": {
   "display_name": "Python [conda env:iqt]",
   "language": "python",
   "name": "conda-env-iqt-py"
  },
  "language_info": {
   "codemirror_mode": {
    "name": "ipython",
    "version": 3
   },
   "file_extension": ".py",
   "mimetype": "text/x-python",
   "name": "python",
   "nbconvert_exporter": "python",
   "pygments_lexer": "ipython3",
   "version": "3.5.2"
  }
 },
 "nbformat": 4,
 "nbformat_minor": 0
}
