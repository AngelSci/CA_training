{
 "cells": [
  {
   "cell_type": "markdown",
   "metadata": {},
   "source": [
    "<img src='../../img/anaconda-logo.png' align='left' style=\"padding:10px\">\n",
    "<br>\n",
    "*Copyright Continuum 2012-2016 All Rights Reserved.*"
   ]
  },
  {
   "cell_type": "markdown",
   "metadata": {},
   "source": [
    "# Plotting and Interactivity"
   ]
  },
  {
   "cell_type": "markdown",
   "metadata": {},
   "source": [
    "Even though plotting is considered a mid-level interface it provides a nice introduction to many of the concepts of Bokeh that we'll see in the high-level Charts interface in the next section."
   ]
  },
  {
   "cell_type": "markdown",
   "metadata": {},
   "source": [
    "# Table of Contents\n",
    "* [Plotting and Interactivity](#Plotting-and-Interactivity)\n",
    "\t* [Styling and Appearance](#Styling-and-Appearance)\n",
    "\t* [Style parameters](#Style-parameters)\n",
    "* [Exercise](#Exercise)\n"
   ]
  },
  {
   "cell_type": "code",
   "execution_count": 1,
   "metadata": {
    "collapsed": false
   },
   "outputs": [
    {
     "data": {
      "text/html": [
       "\n",
       "    <div class=\"bk-root\">\n",
       "        <a href=\"http://bokeh.pydata.org\" target=\"_blank\" class=\"bk-logo bk-logo-small bk-logo-notebook\"></a>\n",
       "        <span id=\"8dede1b1-3b05-4eba-b864-85ca09c2574d\">Loading BokehJS ...</span>\n",
       "    </div>"
      ]
     },
     "metadata": {},
     "output_type": "display_data"
    },
    {
     "data": {
      "application/javascript": [
       "\n",
       "(function(global) {\n",
       "  function now() {\n",
       "    return new Date();\n",
       "  }\n",
       "\n",
       "  var force = \"1\";\n",
       "\n",
       "  if (typeof (window._bokeh_onload_callbacks) === \"undefined\" || force !== \"\") {\n",
       "    window._bokeh_onload_callbacks = [];\n",
       "    window._bokeh_is_loading = undefined;\n",
       "  }\n",
       "\n",
       "  function run_callbacks() {\n",
       "    window._bokeh_onload_callbacks.forEach(function(callback) { callback() });\n",
       "    delete window._bokeh_onload_callbacks\n",
       "    console.info(\"Bokeh: all callbacks have finished\");\n",
       "  }\n",
       "\n",
       "  function load_libs(js_urls, callback) {\n",
       "    window._bokeh_onload_callbacks.push(callback);\n",
       "    if (window._bokeh_is_loading > 0) {\n",
       "      console.log(\"Bokeh: BokehJS is being loaded, scheduling callback at\", now());\n",
       "      return null;\n",
       "    }\n",
       "    if (js_urls == null || js_urls.length === 0) {\n",
       "      run_callbacks();\n",
       "      return null;\n",
       "    }\n",
       "    console.log(\"Bokeh: BokehJS not loaded, scheduling load and callback at\", now());\n",
       "    window._bokeh_is_loading = js_urls.length;\n",
       "    for (var i = 0; i < js_urls.length; i++) {\n",
       "      var url = js_urls[i];\n",
       "      var s = document.createElement('script');\n",
       "      s.src = url;\n",
       "      s.async = false;\n",
       "      s.onreadystatechange = s.onload = function() {\n",
       "        window._bokeh_is_loading--;\n",
       "        if (window._bokeh_is_loading === 0) {\n",
       "          console.log(\"Bokeh: all BokehJS libraries loaded\");\n",
       "          run_callbacks()\n",
       "        }\n",
       "      };\n",
       "      s.onerror = function() {\n",
       "        console.warn(\"failed to load library \" + url);\n",
       "      };\n",
       "      console.log(\"Bokeh: injecting script tag for BokehJS library: \", url);\n",
       "      document.getElementsByTagName(\"head\")[0].appendChild(s);\n",
       "    }\n",
       "  };\n",
       "\n",
       "  var js_urls = ['https://cdn.pydata.org/bokeh/release/bokeh-0.12.1.min.js', 'https://cdn.pydata.org/bokeh/release/bokeh-widgets-0.12.1.min.js', 'https://cdn.pydata.org/bokeh/release/bokeh-compiler-0.12.1.min.js'];\n",
       "\n",
       "  var inline_js = [\n",
       "    function(Bokeh) {\n",
       "      Bokeh.set_log_level(\"info\");\n",
       "    },\n",
       "    \n",
       "    function(Bokeh) {\n",
       "      \n",
       "      Bokeh.$(\"#8dede1b1-3b05-4eba-b864-85ca09c2574d\").text(\"BokehJS successfully loaded\");\n",
       "      var kernel = Jupyter.notebook.kernel\n",
       "      if (kernel.execute !== undefined) {\n",
       "          kernel.execute(\"import bokeh.io; bokeh.io._nb_loaded = True\");\n",
       "      }\n",
       "    },\n",
       "    function(Bokeh) {\n",
       "      console.log(\"Bokeh: injecting CSS: https://cdn.pydata.org/bokeh/release/bokeh-0.12.1.min.css\");\n",
       "      Bokeh.embed.inject_css(\"https://cdn.pydata.org/bokeh/release/bokeh-0.12.1.min.css\");\n",
       "      console.log(\"Bokeh: injecting CSS: https://cdn.pydata.org/bokeh/release/bokeh-widgets-0.12.1.min.css\");\n",
       "      Bokeh.embed.inject_css(\"https://cdn.pydata.org/bokeh/release/bokeh-widgets-0.12.1.min.css\");\n",
       "    }\n",
       "  ];\n",
       "\n",
       "  function run_inline_js() {\n",
       "    for (var i = 0; i < inline_js.length; i++) {\n",
       "      inline_js[i](window.Bokeh);\n",
       "    }\n",
       "  }\n",
       "\n",
       "  if (window._bokeh_is_loading === 0) {\n",
       "    console.log(\"Bokeh: BokehJS loaded, going straight to plotting\");\n",
       "    run_inline_js();\n",
       "  } else {\n",
       "    load_libs(js_urls, function() {\n",
       "      console.log(\"Bokeh: BokehJS plotting callback run at\", now());\n",
       "      run_inline_js();\n",
       "    });\n",
       "  }\n",
       "}(this));"
      ]
     },
     "metadata": {},
     "output_type": "display_data"
    }
   ],
   "source": [
    "from bokeh.io import output_notebook, show\n",
    "output_notebook()"
   ]
  },
  {
   "cell_type": "markdown",
   "metadata": {},
   "source": [
    "# Line Plots"
   ]
  },
  {
   "cell_type": "markdown",
   "metadata": {},
   "source": [
    "<div class='alert alert-info'>\n",
    "<img src='img/topics/Essential-Concept.png' align='left' style='padding:10px'>\n",
    "<br>\n",
    "<big><big>\n",
    "Plotting requires a <tt>figure</tt> object and <tt>glyphs</tt>\n",
    "</big></big>\n",
    "<br><br>"
   ]
  },
  {
   "cell_type": "markdown",
   "metadata": {},
   "source": [
    "1. Create a `figure` object\n",
    "2. Plot a `line` with X and Y data."
   ]
  },
  {
   "cell_type": "code",
   "execution_count": 8,
   "metadata": {
    "collapsed": true
   },
   "outputs": [],
   "source": [
    "# set up some data\n",
    "import numpy as np\n",
    "\n",
    "x = np.linspace(0, 4*np.pi, 100)\n",
    "y = np.sin(x)\n",
    "y2= np.cos(x)"
   ]
  },
  {
   "cell_type": "code",
   "execution_count": 9,
   "metadata": {
    "collapsed": false,
    "scrolled": true
   },
   "outputs": [
    {
     "data": {
      "text/html": [
       "\n",
       "\n",
       "    <div class=\"bk-root\">\n",
       "        <div class=\"plotdiv\" id=\"21a383be-17b3-409c-a3d6-c2f5363f16e0\"></div>\n",
       "    </div>\n",
       "<script type=\"text/javascript\">\n",
       "  \n",
       "  (function(global) {\n",
       "    function now() {\n",
       "      return new Date();\n",
       "    }\n",
       "  \n",
       "    var force = \"\";\n",
       "  \n",
       "    if (typeof (window._bokeh_onload_callbacks) === \"undefined\" || force !== \"\") {\n",
       "      window._bokeh_onload_callbacks = [];\n",
       "      window._bokeh_is_loading = undefined;\n",
       "    }\n",
       "  \n",
       "    function run_callbacks() {\n",
       "      window._bokeh_onload_callbacks.forEach(function(callback) { callback() });\n",
       "      delete window._bokeh_onload_callbacks\n",
       "      console.info(\"Bokeh: all callbacks have finished\");\n",
       "    }\n",
       "  \n",
       "    function load_libs(js_urls, callback) {\n",
       "      window._bokeh_onload_callbacks.push(callback);\n",
       "      if (window._bokeh_is_loading > 0) {\n",
       "        console.log(\"Bokeh: BokehJS is being loaded, scheduling callback at\", now());\n",
       "        return null;\n",
       "      }\n",
       "      if (js_urls == null || js_urls.length === 0) {\n",
       "        run_callbacks();\n",
       "        return null;\n",
       "      }\n",
       "      console.log(\"Bokeh: BokehJS not loaded, scheduling load and callback at\", now());\n",
       "      window._bokeh_is_loading = js_urls.length;\n",
       "      for (var i = 0; i < js_urls.length; i++) {\n",
       "        var url = js_urls[i];\n",
       "        var s = document.createElement('script');\n",
       "        s.src = url;\n",
       "        s.async = false;\n",
       "        s.onreadystatechange = s.onload = function() {\n",
       "          window._bokeh_is_loading--;\n",
       "          if (window._bokeh_is_loading === 0) {\n",
       "            console.log(\"Bokeh: all BokehJS libraries loaded\");\n",
       "            run_callbacks()\n",
       "          }\n",
       "        };\n",
       "        s.onerror = function() {\n",
       "          console.warn(\"failed to load library \" + url);\n",
       "        };\n",
       "        console.log(\"Bokeh: injecting script tag for BokehJS library: \", url);\n",
       "        document.getElementsByTagName(\"head\")[0].appendChild(s);\n",
       "      }\n",
       "    };var element = document.getElementById(\"21a383be-17b3-409c-a3d6-c2f5363f16e0\");\n",
       "    if (element == null) {\n",
       "      console.log(\"Bokeh: ERROR: autoload.js configured with elementid '21a383be-17b3-409c-a3d6-c2f5363f16e0' but no matching script tag was found. \")\n",
       "      return false;\n",
       "    }\n",
       "  \n",
       "    var js_urls = [];\n",
       "  \n",
       "    var inline_js = [\n",
       "      function(Bokeh) {\n",
       "        Bokeh.$(function() {\n",
       "            var docs_json = {\"86962f13-38b0-486c-933d-402d4951bdaa\":{\"roots\":{\"references\":[{\"attributes\":{},\"id\":\"f581bee1-d392-4371-baf8-99e1fdf86428\",\"type\":\"BasicTicker\"},{\"attributes\":{\"below\":[{\"id\":\"d3421280-2241-487c-8dec-3b87bbbf49fb\",\"type\":\"LinearAxis\"}],\"left\":[{\"id\":\"edc8cc60-dfac-4327-a7cf-49928093d67f\",\"type\":\"LinearAxis\"}],\"renderers\":[{\"id\":\"d3421280-2241-487c-8dec-3b87bbbf49fb\",\"type\":\"LinearAxis\"},{\"id\":\"1b331b51-fc13-459f-a1ca-f67ea0eb57de\",\"type\":\"Grid\"},{\"id\":\"edc8cc60-dfac-4327-a7cf-49928093d67f\",\"type\":\"LinearAxis\"},{\"id\":\"e33e1eee-6e20-4e12-b7a8-1bb0b838f9b7\",\"type\":\"Grid\"},{\"id\":\"082c5a58-413a-48af-9ece-e752f41ebbf5\",\"type\":\"BoxAnnotation\"},{\"id\":\"132866bd-378c-4348-8e4f-60361519ec1e\",\"type\":\"GlyphRenderer\"},{\"id\":\"fd6cd8e6-99d4-4b56-8eb6-ff0b533b89a8\",\"type\":\"GlyphRenderer\"}],\"title\":{\"id\":\"bd6ccd7e-a4e7-45a2-b916-e27fec3d538c\",\"type\":\"Title\"},\"tool_events\":{\"id\":\"2eec3624-ea00-4e6b-8650-349dbc9467bb\",\"type\":\"ToolEvents\"},\"toolbar\":{\"id\":\"6da36fbc-1fe7-4cc7-bab6-5313a8fd3262\",\"type\":\"Toolbar\"},\"x_range\":{\"id\":\"c5247e5d-c4e4-4a5c-aff8-cdc558f575fb\",\"type\":\"DataRange1d\"},\"y_range\":{\"id\":\"ac568a79-484f-4166-a430-75a2cc34b843\",\"type\":\"DataRange1d\"}},\"id\":\"cf78c001-dd18-48e2-a00b-ddb1aa921527\",\"subtype\":\"Figure\",\"type\":\"Plot\"},{\"attributes\":{\"callback\":null},\"id\":\"c5247e5d-c4e4-4a5c-aff8-cdc558f575fb\",\"type\":\"DataRange1d\"},{\"attributes\":{\"callback\":null,\"column_names\":[\"x\",\"y\"],\"data\":{\"x\":[0.0,0.12693303650867852,0.25386607301735703,0.3807991095260356,0.5077321460347141,0.6346651825433925,0.7615982190520711,0.8885312555607496,1.0154642920694281,1.1423973285781066,1.269330365086785,1.3962634015954636,1.5231964381041423,1.6501294746128208,1.7770625111214993,1.9039955476301778,2.0309285841388562,2.1578616206475347,2.284794657156213,2.4117276936648917,2.53866073017357,2.6655937666822487,2.792526803190927,2.9194598396996057,3.0463928762082846,3.173325912716963,3.3002589492256416,3.42719198573432,3.5541250222429985,3.681058058751677,3.8079910952603555,3.934924131769034,4.0618571682777125,4.188790204786391,4.3157232412950695,4.442656277803748,4.569589314312426,4.696522350821105,4.823455387329783,4.950388423838462,5.07732146034714,5.204254496855819,5.331187533364497,5.458120569873176,5.585053606381854,5.711986642890533,5.838919679399211,5.96585271590789,6.092785752416569,6.219718788925247,6.346651825433926,6.473584861942604,6.600517898451283,6.727450934959961,6.85438397146864,6.981317007977318,7.108250044485997,7.235183080994675,7.362116117503354,7.489049154012032,7.615982190520711,7.742915227029389,7.869848263538068,7.996781300046746,8.123714336555425,8.250647373064103,8.377580409572783,8.50451344608146,8.631446482590139,8.758379519098817,8.885312555607497,9.012245592116175,9.139178628624853,9.266111665133531,9.39304470164221,9.519977738150889,9.646910774659567,9.773843811168245,9.900776847676925,10.027709884185603,10.15464292069428,10.28157595720296,10.408508993711639,10.535442030220317,10.662375066728995,10.789308103237675,10.916241139746353,11.04317417625503,11.170107212763709,11.297040249272388,11.423973285781067,11.550906322289745,11.677839358798423,11.804772395307102,11.93170543181578,12.058638468324459,12.185571504833138,12.312504541341816,12.439437577850494,12.566370614359172],\"y\":[1.0,0.9919548128307953,0.9679487013963562,0.9283679330160726,0.8738493770697849,0.8052702575310586,0.7237340381050702,0.6305526670845225,0.5272254676105024,0.41541501300188644,0.2969203753282749,0.17364817766693041,0.04758191582374218,-0.07924995685678854,-0.20480666806519074,-0.32706796331742166,-0.4440666126057741,-0.5539200638661103,-0.654860733945285,-0.7452644496757547,-0.8236765814298327,-0.8888354486549234,-0.9396926207859083,-0.975429786885407,-0.9954719225730846,-0.9994965423831851,-0.9874388886763943,-0.9594929736144974,-0.9161084574320696,-0.857983413234977,-0.7860530947427874,-0.7014748877063213,-0.6056096871376666,-0.4999999999999996,-0.3863451256931287,-0.26647381369003464,-0.14231483827328523,-0.01586596383480761,0.11083819990101086,0.23575893550942748,0.35688622159187167,0.4722710747726829,0.5800569095711979,0.6785094115571323,0.7660444431189778,0.8412535328311812,0.9029265382866211,0.9500711177409454,0.9819286972627068,0.9979866764718844,0.9979866764718843,0.9819286972627067,0.9500711177409452,0.9029265382866213,0.841253532831181,0.7660444431189781,0.678509411557132,0.5800569095711984,0.47227107477268254,0.3568862215918721,0.2357589355094271,0.11083819990101135,-0.015865963834808008,-0.14231483827328475,-0.26647381369003503,-0.38634512569312823,-0.5000000000000008,-0.6056096871376669,-0.7014748877063212,-0.7860530947427872,-0.8579834132349774,-0.9161084574320697,-0.9594929736144974,-0.9874388886763942,-0.9994965423831852,-0.9954719225730846,-0.9754297868854072,-0.9396926207859086,-0.8888354486549233,-0.8236765814298327,-0.745264449675755,-0.6548607339452844,-0.5539200638661099,-0.4440666126057742,-0.3270679633174221,-0.2048066680651899,-0.07924995685678815,0.04758191582374214,0.17364817766692972,0.29692037532827553,0.4154150130018866,0.5272254676105022,0.630552667084522,0.7237340381050705,0.8052702575310586,0.8738493770697847,0.9283679330160729,0.9679487013963564,0.9919548128307953,1.0]}},\"id\":\"2b6b8001-e70b-4823-9235-1204b7696a71\",\"type\":\"ColumnDataSource\"},{\"attributes\":{\"plot\":{\"id\":\"cf78c001-dd18-48e2-a00b-ddb1aa921527\",\"subtype\":\"Figure\",\"type\":\"Plot\"}},\"id\":\"21abbc2e-d45d-4179-a9a8-3ff0617495a0\",\"type\":\"ResetTool\"},{\"attributes\":{\"formatter\":{\"id\":\"64f21cf9-366d-407e-8733-feaa2e7eccda\",\"type\":\"BasicTickFormatter\"},\"plot\":{\"id\":\"cf78c001-dd18-48e2-a00b-ddb1aa921527\",\"subtype\":\"Figure\",\"type\":\"Plot\"},\"ticker\":{\"id\":\"f581bee1-d392-4371-baf8-99e1fdf86428\",\"type\":\"BasicTicker\"}},\"id\":\"d3421280-2241-487c-8dec-3b87bbbf49fb\",\"type\":\"LinearAxis\"},{\"attributes\":{\"line_color\":{\"value\":\"#1f77b4\"},\"x\":{\"field\":\"x\"},\"y\":{\"field\":\"y\"}},\"id\":\"95ab23d2-00c1-4d40-88bf-8df4eeb166e5\",\"type\":\"Line\"},{\"attributes\":{\"plot\":{\"id\":\"cf78c001-dd18-48e2-a00b-ddb1aa921527\",\"subtype\":\"Figure\",\"type\":\"Plot\"}},\"id\":\"af2c20ac-8b1c-4a2d-8b2c-3af3a46c3cf8\",\"type\":\"PanTool\"},{\"attributes\":{\"plot\":{\"id\":\"cf78c001-dd18-48e2-a00b-ddb1aa921527\",\"subtype\":\"Figure\",\"type\":\"Plot\"}},\"id\":\"2fd8c86c-0d5c-4086-8458-9f73198bacaf\",\"type\":\"WheelZoomTool\"},{\"attributes\":{\"overlay\":{\"id\":\"082c5a58-413a-48af-9ece-e752f41ebbf5\",\"type\":\"BoxAnnotation\"},\"plot\":{\"id\":\"cf78c001-dd18-48e2-a00b-ddb1aa921527\",\"subtype\":\"Figure\",\"type\":\"Plot\"}},\"id\":\"71d919d9-9cb6-4cc9-8dd6-6e8c07b6e4d4\",\"type\":\"BoxZoomTool\"},{\"attributes\":{},\"id\":\"7499563e-6cf8-45b7-86c7-ebf46f3b7464\",\"type\":\"BasicTickFormatter\"},{\"attributes\":{\"plot\":{\"id\":\"cf78c001-dd18-48e2-a00b-ddb1aa921527\",\"subtype\":\"Figure\",\"type\":\"Plot\"},\"ticker\":{\"id\":\"f581bee1-d392-4371-baf8-99e1fdf86428\",\"type\":\"BasicTicker\"}},\"id\":\"1b331b51-fc13-459f-a1ca-f67ea0eb57de\",\"type\":\"Grid\"},{\"attributes\":{},\"id\":\"14253c91-22f7-4f7d-ad66-2b29ca6d6a0a\",\"type\":\"BasicTicker\"},{\"attributes\":{},\"id\":\"2eec3624-ea00-4e6b-8650-349dbc9467bb\",\"type\":\"ToolEvents\"},{\"attributes\":{\"active_drag\":\"auto\",\"active_scroll\":\"auto\",\"active_tap\":\"auto\",\"tools\":[{\"id\":\"af2c20ac-8b1c-4a2d-8b2c-3af3a46c3cf8\",\"type\":\"PanTool\"},{\"id\":\"2fd8c86c-0d5c-4086-8458-9f73198bacaf\",\"type\":\"WheelZoomTool\"},{\"id\":\"71d919d9-9cb6-4cc9-8dd6-6e8c07b6e4d4\",\"type\":\"BoxZoomTool\"},{\"id\":\"44b43e9f-1bc3-4fb4-889b-d65bfe0610c9\",\"type\":\"SaveTool\"},{\"id\":\"21abbc2e-d45d-4179-a9a8-3ff0617495a0\",\"type\":\"ResetTool\"},{\"id\":\"4b712919-eac2-44e2-9c81-a712b306cc76\",\"type\":\"HelpTool\"}]},\"id\":\"6da36fbc-1fe7-4cc7-bab6-5313a8fd3262\",\"type\":\"Toolbar\"},{\"attributes\":{\"plot\":{\"id\":\"cf78c001-dd18-48e2-a00b-ddb1aa921527\",\"subtype\":\"Figure\",\"type\":\"Plot\"}},\"id\":\"4b712919-eac2-44e2-9c81-a712b306cc76\",\"type\":\"HelpTool\"},{\"attributes\":{\"callback\":null,\"column_names\":[\"x\",\"y\"],\"data\":{\"x\":[0.0,0.12693303650867852,0.25386607301735703,0.3807991095260356,0.5077321460347141,0.6346651825433925,0.7615982190520711,0.8885312555607496,1.0154642920694281,1.1423973285781066,1.269330365086785,1.3962634015954636,1.5231964381041423,1.6501294746128208,1.7770625111214993,1.9039955476301778,2.0309285841388562,2.1578616206475347,2.284794657156213,2.4117276936648917,2.53866073017357,2.6655937666822487,2.792526803190927,2.9194598396996057,3.0463928762082846,3.173325912716963,3.3002589492256416,3.42719198573432,3.5541250222429985,3.681058058751677,3.8079910952603555,3.934924131769034,4.0618571682777125,4.188790204786391,4.3157232412950695,4.442656277803748,4.569589314312426,4.696522350821105,4.823455387329783,4.950388423838462,5.07732146034714,5.204254496855819,5.331187533364497,5.458120569873176,5.585053606381854,5.711986642890533,5.838919679399211,5.96585271590789,6.092785752416569,6.219718788925247,6.346651825433926,6.473584861942604,6.600517898451283,6.727450934959961,6.85438397146864,6.981317007977318,7.108250044485997,7.235183080994675,7.362116117503354,7.489049154012032,7.615982190520711,7.742915227029389,7.869848263538068,7.996781300046746,8.123714336555425,8.250647373064103,8.377580409572783,8.50451344608146,8.631446482590139,8.758379519098817,8.885312555607497,9.012245592116175,9.139178628624853,9.266111665133531,9.39304470164221,9.519977738150889,9.646910774659567,9.773843811168245,9.900776847676925,10.027709884185603,10.15464292069428,10.28157595720296,10.408508993711639,10.535442030220317,10.662375066728995,10.789308103237675,10.916241139746353,11.04317417625503,11.170107212763709,11.297040249272388,11.423973285781067,11.550906322289745,11.677839358798423,11.804772395307102,11.93170543181578,12.058638468324459,12.185571504833138,12.312504541341816,12.439437577850494,12.566370614359172],\"y\":[0.0,0.12659245357374926,0.2511479871810792,0.3716624556603276,0.48619673610046865,0.5929079290546404,0.690079011482112,0.7761464642917568,0.8497254299495144,0.9096319953545183,0.9549022414440739,0.984807753012208,0.998867339183008,0.9968547759519424,0.9788024462147787,0.9450008187146685,0.8959937742913359,0.8325698546347714,0.7557495743542583,0.6667690005162916,0.5670598638627709,0.4582265217274105,0.3420201433256689,0.2203105327865408,0.09505604330418244,-0.03172793349806786,-0.15800139597335008,-0.28173255684142984,-0.4009305354066138,-0.5136773915734064,-0.6181589862206053,-0.7126941713788629,-0.7957618405308321,-0.8660254037844388,-0.9223542941045814,-0.9638421585599422,-0.9898214418809327,-0.9998741276738751,-0.9938384644612541,-0.9718115683235417,-0.9341478602651068,-0.881453363447582,-0.8145759520503358,-0.7345917086575331,-0.6427876096865396,-0.5406408174555974,-0.4297949120891719,-0.31203344569848707,-0.18925124436040974,-0.06342391965656452,0.06342391965656492,0.18925124436041013,0.31203344569848745,0.42979491208917153,0.5406408174555978,0.6427876096865393,0.7345917086575334,0.8145759520503356,0.8814533634475821,0.9341478602651067,0.9718115683235418,0.9938384644612541,0.9998741276738751,0.9898214418809328,0.963842158559942,0.9223542941045816,0.8660254037844383,0.7957618405308319,0.7126941713788629,0.6181589862206056,0.5136773915734058,0.40093053540661344,0.2817325568414299,0.15800139597335056,0.03172793349806701,-0.09505604330418282,-0.22031053278654034,-0.342020143325668,-0.45822652172741085,-0.5670598638627707,-0.6667690005162913,-0.7557495743542588,-0.8325698546347716,-0.8959937742913359,-0.9450008187146683,-0.9788024462147789,-0.9968547759519424,-0.998867339183008,-0.9848077530122081,-0.9549022414440737,-0.9096319953545183,-0.8497254299495145,-0.7761464642917573,-0.6900790114821116,-0.5929079290546404,-0.486196736100469,-0.37166245566032663,-0.2511479871810788,-0.1265924535737493,-4.898587196589413e-16]}},\"id\":\"59e0dbe3-cde8-43c2-9e71-83cbf9f053f9\",\"type\":\"ColumnDataSource\"},{\"attributes\":{\"bottom_units\":\"screen\",\"fill_alpha\":{\"value\":0.5},\"fill_color\":{\"value\":\"lightgrey\"},\"left_units\":\"screen\",\"level\":\"overlay\",\"line_alpha\":{\"value\":1.0},\"line_color\":{\"value\":\"black\"},\"line_dash\":[4,4],\"line_width\":{\"value\":2},\"plot\":null,\"render_mode\":\"css\",\"right_units\":\"screen\",\"top_units\":\"screen\"},\"id\":\"082c5a58-413a-48af-9ece-e752f41ebbf5\",\"type\":\"BoxAnnotation\"},{\"attributes\":{\"dimension\":1,\"plot\":{\"id\":\"cf78c001-dd18-48e2-a00b-ddb1aa921527\",\"subtype\":\"Figure\",\"type\":\"Plot\"},\"ticker\":{\"id\":\"14253c91-22f7-4f7d-ad66-2b29ca6d6a0a\",\"type\":\"BasicTicker\"}},\"id\":\"e33e1eee-6e20-4e12-b7a8-1bb0b838f9b7\",\"type\":\"Grid\"},{\"attributes\":{\"plot\":null,\"text\":null},\"id\":\"bd6ccd7e-a4e7-45a2-b916-e27fec3d538c\",\"type\":\"Title\"},{\"attributes\":{\"line_color\":{\"value\":\"#1f77b4\"},\"x\":{\"field\":\"x\"},\"y\":{\"field\":\"y\"}},\"id\":\"0e5844fc-f2d9-48aa-a6b1-b5cfd762eb7f\",\"type\":\"Line\"},{\"attributes\":{\"formatter\":{\"id\":\"7499563e-6cf8-45b7-86c7-ebf46f3b7464\",\"type\":\"BasicTickFormatter\"},\"plot\":{\"id\":\"cf78c001-dd18-48e2-a00b-ddb1aa921527\",\"subtype\":\"Figure\",\"type\":\"Plot\"},\"ticker\":{\"id\":\"14253c91-22f7-4f7d-ad66-2b29ca6d6a0a\",\"type\":\"BasicTicker\"}},\"id\":\"edc8cc60-dfac-4327-a7cf-49928093d67f\",\"type\":\"LinearAxis\"},{\"attributes\":{\"line_alpha\":{\"value\":0.1},\"line_color\":{\"value\":\"#1f77b4\"},\"x\":{\"field\":\"x\"},\"y\":{\"field\":\"y\"}},\"id\":\"7e75f353-f11f-4077-89a0-b65d5a66e10c\",\"type\":\"Line\"},{\"attributes\":{},\"id\":\"64f21cf9-366d-407e-8733-feaa2e7eccda\",\"type\":\"BasicTickFormatter\"},{\"attributes\":{\"data_source\":{\"id\":\"2b6b8001-e70b-4823-9235-1204b7696a71\",\"type\":\"ColumnDataSource\"},\"glyph\":{\"id\":\"95ab23d2-00c1-4d40-88bf-8df4eeb166e5\",\"type\":\"Line\"},\"hover_glyph\":null,\"nonselection_glyph\":{\"id\":\"9fe223fb-391b-4d33-96bf-ec114a578f18\",\"type\":\"Line\"},\"selection_glyph\":null},\"id\":\"fd6cd8e6-99d4-4b56-8eb6-ff0b533b89a8\",\"type\":\"GlyphRenderer\"},{\"attributes\":{\"callback\":null},\"id\":\"ac568a79-484f-4166-a430-75a2cc34b843\",\"type\":\"DataRange1d\"},{\"attributes\":{\"plot\":{\"id\":\"cf78c001-dd18-48e2-a00b-ddb1aa921527\",\"subtype\":\"Figure\",\"type\":\"Plot\"}},\"id\":\"44b43e9f-1bc3-4fb4-889b-d65bfe0610c9\",\"type\":\"SaveTool\"},{\"attributes\":{\"line_alpha\":{\"value\":0.1},\"line_color\":{\"value\":\"#1f77b4\"},\"x\":{\"field\":\"x\"},\"y\":{\"field\":\"y\"}},\"id\":\"9fe223fb-391b-4d33-96bf-ec114a578f18\",\"type\":\"Line\"},{\"attributes\":{\"data_source\":{\"id\":\"59e0dbe3-cde8-43c2-9e71-83cbf9f053f9\",\"type\":\"ColumnDataSource\"},\"glyph\":{\"id\":\"0e5844fc-f2d9-48aa-a6b1-b5cfd762eb7f\",\"type\":\"Line\"},\"hover_glyph\":null,\"nonselection_glyph\":{\"id\":\"7e75f353-f11f-4077-89a0-b65d5a66e10c\",\"type\":\"Line\"},\"selection_glyph\":null},\"id\":\"132866bd-378c-4348-8e4f-60361519ec1e\",\"type\":\"GlyphRenderer\"}],\"root_ids\":[\"cf78c001-dd18-48e2-a00b-ddb1aa921527\"]},\"title\":\"Bokeh Application\",\"version\":\"0.12.1\"}};\n",
       "            var render_items = [{\"docid\":\"86962f13-38b0-486c-933d-402d4951bdaa\",\"elementid\":\"21a383be-17b3-409c-a3d6-c2f5363f16e0\",\"modelid\":\"cf78c001-dd18-48e2-a00b-ddb1aa921527\",\"notebook_comms_target\":\"1022dbf8-fc12-4c06-bbab-870ace0828dc\"}];\n",
       "            \n",
       "            Bokeh.embed.embed_items(docs_json, render_items);\n",
       "        });\n",
       "      },\n",
       "      function(Bokeh) {\n",
       "      }\n",
       "    ];\n",
       "  \n",
       "    function run_inline_js() {\n",
       "      for (var i = 0; i < inline_js.length; i++) {\n",
       "        inline_js[i](window.Bokeh);\n",
       "      }\n",
       "    }\n",
       "  \n",
       "    if (window._bokeh_is_loading === 0) {\n",
       "      console.log(\"Bokeh: BokehJS loaded, going straight to plotting\");\n",
       "      run_inline_js();\n",
       "    } else {\n",
       "      load_libs(js_urls, function() {\n",
       "        console.log(\"Bokeh: BokehJS plotting callback run at\", now());\n",
       "        run_inline_js();\n",
       "      });\n",
       "    }\n",
       "  }(this));\n",
       "</script>"
      ]
     },
     "metadata": {},
     "output_type": "display_data"
    },
    {
     "data": {
      "text/html": [
       "<p><code>&lt;Bokeh Notebook handle for <strong>In[9]</strong>&gt;</code></p>"
      ],
      "text/plain": [
       "<bokeh.io._CommsHandle at 0x83a19e8>"
      ]
     },
     "execution_count": 9,
     "metadata": {},
     "output_type": "execute_result"
    }
   ],
   "source": [
    "#plot a line\n",
    "from bokeh.plotting import figure\n",
    "plot = figure()\n",
    "plot.line(x, y)\n",
    "plot.line(x,y2)\n",
    "show(plot)"
   ]
  },
  {
   "cell_type": "markdown",
   "metadata": {},
   "source": [
    "## Styling and Appearance"
   ]
  },
  {
   "cell_type": "markdown",
   "metadata": {},
   "source": [
    "Glpyhs are made of 'lines' and 'filled-areas'. Style arguments can be passed to any glyph as keywords. Here are the most common poperties.\n",
    "* Line properties: `line_color`, `line_alpha`, `line_width` and `line_dash`.\n",
    "* Fill properties: `fill_color` and `fill_alpha`\n",
    "\n",
    "The `line` and `circle` objects are called Glyphs (or markers) and several of them can be added to a figure.\n",
    "\n",
    "Axis labels are available using `xaxis` and `yaxis` members of the Figure object.\n",
    "\n",
    "Here's a few *essential* styling parameters to get started. More styling options will be present later."
   ]
  },
  {
   "cell_type": "markdown",
   "metadata": {},
   "source": [
    "* Bokeh uses [CSS Color Names](http://www.w3schools.com/colors/colors_names.asp)\n",
    "* See [documentation](http://bokeh.pydata.org/en/latest/docs/user_guide/plotting.html) for available *glyphs*"
   ]
  },
  {
   "cell_type": "code",
   "execution_count": 12,
   "metadata": {
    "collapsed": false,
    "scrolled": true
   },
   "outputs": [
    {
     "data": {
      "text/html": [
       "\n",
       "\n",
       "    <div class=\"bk-root\">\n",
       "        <div class=\"plotdiv\" id=\"6d0c2e5d-99cd-4220-9d0f-9d5c9c0ccab7\"></div>\n",
       "    </div>\n",
       "<script type=\"text/javascript\">\n",
       "  \n",
       "  (function(global) {\n",
       "    function now() {\n",
       "      return new Date();\n",
       "    }\n",
       "  \n",
       "    var force = \"\";\n",
       "  \n",
       "    if (typeof (window._bokeh_onload_callbacks) === \"undefined\" || force !== \"\") {\n",
       "      window._bokeh_onload_callbacks = [];\n",
       "      window._bokeh_is_loading = undefined;\n",
       "    }\n",
       "  \n",
       "    function run_callbacks() {\n",
       "      window._bokeh_onload_callbacks.forEach(function(callback) { callback() });\n",
       "      delete window._bokeh_onload_callbacks\n",
       "      console.info(\"Bokeh: all callbacks have finished\");\n",
       "    }\n",
       "  \n",
       "    function load_libs(js_urls, callback) {\n",
       "      window._bokeh_onload_callbacks.push(callback);\n",
       "      if (window._bokeh_is_loading > 0) {\n",
       "        console.log(\"Bokeh: BokehJS is being loaded, scheduling callback at\", now());\n",
       "        return null;\n",
       "      }\n",
       "      if (js_urls == null || js_urls.length === 0) {\n",
       "        run_callbacks();\n",
       "        return null;\n",
       "      }\n",
       "      console.log(\"Bokeh: BokehJS not loaded, scheduling load and callback at\", now());\n",
       "      window._bokeh_is_loading = js_urls.length;\n",
       "      for (var i = 0; i < js_urls.length; i++) {\n",
       "        var url = js_urls[i];\n",
       "        var s = document.createElement('script');\n",
       "        s.src = url;\n",
       "        s.async = false;\n",
       "        s.onreadystatechange = s.onload = function() {\n",
       "          window._bokeh_is_loading--;\n",
       "          if (window._bokeh_is_loading === 0) {\n",
       "            console.log(\"Bokeh: all BokehJS libraries loaded\");\n",
       "            run_callbacks()\n",
       "          }\n",
       "        };\n",
       "        s.onerror = function() {\n",
       "          console.warn(\"failed to load library \" + url);\n",
       "        };\n",
       "        console.log(\"Bokeh: injecting script tag for BokehJS library: \", url);\n",
       "        document.getElementsByTagName(\"head\")[0].appendChild(s);\n",
       "      }\n",
       "    };var element = document.getElementById(\"6d0c2e5d-99cd-4220-9d0f-9d5c9c0ccab7\");\n",
       "    if (element == null) {\n",
       "      console.log(\"Bokeh: ERROR: autoload.js configured with elementid '6d0c2e5d-99cd-4220-9d0f-9d5c9c0ccab7' but no matching script tag was found. \")\n",
       "      return false;\n",
       "    }\n",
       "  \n",
       "    var js_urls = [];\n",
       "  \n",
       "    var inline_js = [\n",
       "      function(Bokeh) {\n",
       "        Bokeh.$(function() {\n",
       "            var docs_json = {\"2411bdcc-dc39-4011-9576-727d4bca5040\":{\"roots\":{\"references\":[{\"attributes\":{\"axis_label\":\"amplitude\",\"formatter\":{\"id\":\"4c791e7e-97a5-4b53-8c3b-9f4ac5545168\",\"type\":\"BasicTickFormatter\"},\"plot\":{\"id\":\"35ce5b50-c2e4-43b5-8711-3a071a27ecd8\",\"subtype\":\"Figure\",\"type\":\"Plot\"},\"ticker\":{\"id\":\"5762a256-106b-44c8-930a-06d923fa4fcb\",\"type\":\"BasicTicker\"}},\"id\":\"44398ac5-36ae-4ddf-a7ad-74018834196c\",\"type\":\"LinearAxis\"},{\"attributes\":{\"line_alpha\":{\"value\":0.1},\"line_color\":{\"value\":\"#1f77b4\"},\"line_dash\":[10,5,2,5],\"line_width\":{\"value\":2},\"x\":{\"field\":\"x\"},\"y\":{\"field\":\"y\"}},\"id\":\"9296e804-3565-46b8-a8a0-bf452a174f3a\",\"type\":\"Line\"},{\"attributes\":{\"data_source\":{\"id\":\"b795ce7e-6e63-40fb-8213-ebc01686cc12\",\"type\":\"ColumnDataSource\"},\"glyph\":{\"id\":\"2a92a193-7632-4d98-9965-89411bd338c5\",\"type\":\"Line\"},\"hover_glyph\":null,\"nonselection_glyph\":{\"id\":\"cbfa3dea-8f3d-4f36-a4b8-200e1a501a75\",\"type\":\"Line\"},\"selection_glyph\":null},\"id\":\"d2fe172b-169e-42bc-9c90-e2cd58644298\",\"type\":\"GlyphRenderer\"},{\"attributes\":{\"callback\":null,\"column_names\":[\"y\",\"x\"],\"data\":{\"x\":[0.0,0.12693303650867852,0.25386607301735703,0.3807991095260356,0.5077321460347141,0.6346651825433925,0.7615982190520711,0.8885312555607496,1.0154642920694281,1.1423973285781066,1.269330365086785,1.3962634015954636,1.5231964381041423,1.6501294746128208,1.7770625111214993,1.9039955476301778,2.0309285841388562,2.1578616206475347,2.284794657156213,2.4117276936648917,2.53866073017357,2.6655937666822487,2.792526803190927,2.9194598396996057,3.0463928762082846,3.173325912716963,3.3002589492256416,3.42719198573432,3.5541250222429985,3.681058058751677,3.8079910952603555,3.934924131769034,4.0618571682777125,4.188790204786391,4.3157232412950695,4.442656277803748,4.569589314312426,4.696522350821105,4.823455387329783,4.950388423838462,5.07732146034714,5.204254496855819,5.331187533364497,5.458120569873176,5.585053606381854,5.711986642890533,5.838919679399211,5.96585271590789,6.092785752416569,6.219718788925247,6.346651825433926,6.473584861942604,6.600517898451283,6.727450934959961,6.85438397146864,6.981317007977318,7.108250044485997,7.235183080994675,7.362116117503354,7.489049154012032,7.615982190520711,7.742915227029389,7.869848263538068,7.996781300046746,8.123714336555425,8.250647373064103,8.377580409572783,8.50451344608146,8.631446482590139,8.758379519098817,8.885312555607497,9.012245592116175,9.139178628624853,9.266111665133531,9.39304470164221,9.519977738150889,9.646910774659567,9.773843811168245,9.900776847676925,10.027709884185603,10.15464292069428,10.28157595720296,10.408508993711639,10.535442030220317,10.662375066728995,10.789308103237675,10.916241139746353,11.04317417625503,11.170107212763709,11.297040249272388,11.423973285781067,11.550906322289745,11.677839358798423,11.804772395307102,11.93170543181578,12.058638468324459,12.185571504833138,12.312504541341816,12.439437577850494,12.566370614359172],\"y\":[0.0,0.25318490714749853,0.5022959743621584,0.7433249113206551,0.9723934722009373,1.1858158581092808,1.380158022964224,1.5522929285835136,1.6994508598990288,1.8192639907090367,1.9098044828881477,1.969615506024416,1.997734678366016,1.9937095519038848,1.9576048924295575,1.890001637429337,1.7919875485826717,1.6651397092695428,1.5114991487085165,1.3335380010325832,1.1341197277255417,0.916453043454821,0.6840402866513378,0.4406210655730816,0.19011208660836487,-0.06345586699613572,-0.31600279194670017,-0.5634651136828597,-0.8018610708132275,-1.0273547831468128,-1.2363179724412106,-1.4253883427577259,-1.5915236810616642,-1.7320508075688776,-1.8447085882091627,-1.9276843171198843,-1.9796428837618654,-1.9997482553477501,-1.9876769289225082,-1.9436231366470833,-1.8682957205302135,-1.762906726895164,-1.6291519041006717,-1.4691834173150662,-1.2855752193730792,-1.0812816349111949,-0.8595898241783438,-0.6240668913969741,-0.3785024887208195,-0.12684783931312904,0.12684783931312985,0.37850248872082026,0.6240668913969749,0.8595898241783431,1.0812816349111956,1.2855752193730785,1.4691834173150669,1.6291519041006712,1.7629067268951641,1.8682957205302133,1.9436231366470835,1.9876769289225082,1.9997482553477501,1.9796428837618656,1.927684317119884,1.8447085882091632,1.7320508075688765,1.5915236810616638,1.4253883427577259,1.2363179724412112,1.0273547831468115,0.8018610708132269,0.5634651136828598,0.3160027919467011,0.06345586699613402,-0.19011208660836565,-0.4406210655730807,-0.684040286651336,-0.9164530434548217,-1.1341197277255415,-1.3335380010325826,-1.5114991487085176,-1.6651397092695432,-1.7919875485826717,-1.8900016374293367,-1.9576048924295577,-1.9937095519038848,-1.997734678366016,-1.9696155060244163,-1.9098044828881473,-1.8192639907090367,-1.699450859899029,-1.5522929285835145,-1.3801580229642232,-1.1858158581092808,-0.972393472200938,-0.7433249113206533,-0.5022959743621576,-0.2531849071474986,-9.797174393178826e-16]}},\"id\":\"a1ac98f1-b44c-41db-b4cc-93749c5f414b\",\"type\":\"ColumnDataSource\"},{\"attributes\":{},\"id\":\"5037739e-0118-4f7f-856e-67c27d7101ec\",\"type\":\"BasicTickFormatter\"},{\"attributes\":{\"callback\":null,\"column_names\":[\"y\",\"x\"],\"data\":{\"x\":[0.0,0.12693303650867852,0.25386607301735703,0.3807991095260356,0.5077321460347141,0.6346651825433925,0.7615982190520711,0.8885312555607496,1.0154642920694281,1.1423973285781066,1.269330365086785,1.3962634015954636,1.5231964381041423,1.6501294746128208,1.7770625111214993,1.9039955476301778,2.0309285841388562,2.1578616206475347,2.284794657156213,2.4117276936648917,2.53866073017357,2.6655937666822487,2.792526803190927,2.9194598396996057,3.0463928762082846,3.173325912716963,3.3002589492256416,3.42719198573432,3.5541250222429985,3.681058058751677,3.8079910952603555,3.934924131769034,4.0618571682777125,4.188790204786391,4.3157232412950695,4.442656277803748,4.569589314312426,4.696522350821105,4.823455387329783,4.950388423838462,5.07732146034714,5.204254496855819,5.331187533364497,5.458120569873176,5.585053606381854,5.711986642890533,5.838919679399211,5.96585271590789,6.092785752416569,6.219718788925247,6.346651825433926,6.473584861942604,6.600517898451283,6.727450934959961,6.85438397146864,6.981317007977318,7.108250044485997,7.235183080994675,7.362116117503354,7.489049154012032,7.615982190520711,7.742915227029389,7.869848263538068,7.996781300046746,8.123714336555425,8.250647373064103,8.377580409572783,8.50451344608146,8.631446482590139,8.758379519098817,8.885312555607497,9.012245592116175,9.139178628624853,9.266111665133531,9.39304470164221,9.519977738150889,9.646910774659567,9.773843811168245,9.900776847676925,10.027709884185603,10.15464292069428,10.28157595720296,10.408508993711639,10.535442030220317,10.662375066728995,10.789308103237675,10.916241139746353,11.04317417625503,11.170107212763709,11.297040249272388,11.423973285781067,11.550906322289745,11.677839358798423,11.804772395307102,11.93170543181578,12.058638468324459,12.185571504833138,12.312504541341816,12.439437577850494,12.566370614359172],\"y\":[0.0,0.0161112986636596,0.0644033777208279,0.14450030796972357,0.25494607224689736,0.3919956856248075,0.5480505755601941,0.7099926641251545,0.857899573171145,0.9649024495822455,0.9991838997651187,0.9291256526119194,0.7321446790254134,0.4065414549216034,-0.016357785260907424,-0.464975016867656,-0.8322080934029914,-0.9984311665663437,-0.8737689000534249,-0.4499906229450645,0.16091039207853589,0.7326482275588542,0.9984449395483077,0.784278423760269,0.14376847309486732,-0.6013737365858514,-0.9946108621600832,-0.7316407300491632,0.06538737544923771,0.8326179232301834,0.9346121750728971,0.22245841128818755,-0.7108601294474639,-0.9645129660736584,-0.2222180626754739,0.7755834662793665,0.8956996077505829,-0.06612533207403051,-0.956445843735325,-0.5862285492119147,0.602358083630314,0.9283946148708382,-0.1466953367911608,-0.998539651415281,-0.2212565333250976,0.9359209684219988,0.4480081692962153,-0.8592897409993313,-0.5455737846758035,0.8337085757802127,0.531791937048748,-0.8755613085493354,-0.4036114107479813,0.9569481488376291,0.14084035126446695,-0.9990277069455797,0.2587580460801338,0.8719645439841766,-0.7129376373003511,-0.44646473573593437,0.9932471684660263,-0.2594723447945917,-0.7816715189286891,0.8986394065965472,-0.021287288524882063,-0.863342439692836,0.8766310086092646,-0.07006048007509881,-0.7810561327124067,0.9664392652282103,-0.3976579412575846,-0.4446991839914334,0.9631331620624203,-0.8613005209275335,0.2616143878731832,0.45841488438333083,-0.9264584682605778,0.9580855718155956,-0.5939902747203128,0.02399830241193721,0.5276100731736849,-0.8927201272833317,0.9988536330370973,-0.8623008879496125,0.5554520854107532,-0.16942003148074403,-0.2145198563909651,0.5399835819552914,-0.7785869992702404,0.9254343837093213,-0.9914225509001223,0.9955616698843376,-0.9589987534973454,0.9012191428328878,-0.8381731956154724,0.7817702168296721,-0.7401532156649198,0.7182756113014523,-0.7184471072693772,0.7406503198065899]}},\"id\":\"098bb696-6a02-46d9-af76-b9f21b761ee5\",\"type\":\"ColumnDataSource\"},{\"attributes\":{\"line_alpha\":{\"value\":0.1},\"line_color\":{\"value\":\"#1f77b4\"},\"line_width\":{\"value\":2},\"x\":{\"field\":\"x\"},\"y\":{\"field\":\"y\"}},\"id\":\"cbfa3dea-8f3d-4f36-a4b8-200e1a501a75\",\"type\":\"Line\"},{\"attributes\":{\"plot\":{\"id\":\"35ce5b50-c2e4-43b5-8711-3a071a27ecd8\",\"subtype\":\"Figure\",\"type\":\"Plot\"}},\"id\":\"2110e755-73ad-48d1-a198-af0608830765\",\"type\":\"ResetTool\"},{\"attributes\":{\"plot\":{\"id\":\"35ce5b50-c2e4-43b5-8711-3a071a27ecd8\",\"subtype\":\"Figure\",\"type\":\"Plot\"},\"ticker\":{\"id\":\"b9b906d6-2149-4e50-8c2b-c2fd3c657c21\",\"type\":\"BasicTicker\"}},\"id\":\"e8c70d58-5f5e-4eff-baed-4aba3df7f68c\",\"type\":\"Grid\"},{\"attributes\":{\"active_drag\":\"auto\",\"active_scroll\":\"auto\",\"active_tap\":\"auto\",\"tools\":[{\"id\":\"54e444f7-91dc-4d6c-aa76-75e5403983da\",\"type\":\"PanTool\"},{\"id\":\"3c29ec10-d60c-4569-a599-2d38f8cf94fc\",\"type\":\"WheelZoomTool\"},{\"id\":\"5b7d5f96-bcc7-45ed-8923-00c3779b3cfa\",\"type\":\"BoxZoomTool\"},{\"id\":\"d1be3ce0-610e-4694-b622-86a0300c02cb\",\"type\":\"SaveTool\"},{\"id\":\"2110e755-73ad-48d1-a198-af0608830765\",\"type\":\"ResetTool\"},{\"id\":\"a2ea0b2c-e113-4d98-93ce-645d4a6977e8\",\"type\":\"HelpTool\"}]},\"id\":\"363e9c99-5ddf-4fd4-91dd-9a45f83f64e2\",\"type\":\"Toolbar\"},{\"attributes\":{\"data_source\":{\"id\":\"a1ac98f1-b44c-41db-b4cc-93749c5f414b\",\"type\":\"ColumnDataSource\"},\"glyph\":{\"id\":\"9a6bd1d2-9808-4e13-871c-94fbd137f1c9\",\"type\":\"Circle\"},\"hover_glyph\":null,\"nonselection_glyph\":{\"id\":\"1180df6e-d934-4114-87d0-3c123ad1d3b6\",\"type\":\"Circle\"},\"selection_glyph\":null},\"id\":\"bf632ee5-d8d6-446a-b5d0-65b855bac52e\",\"type\":\"GlyphRenderer\"},{\"attributes\":{\"dimension\":1,\"plot\":{\"id\":\"35ce5b50-c2e4-43b5-8711-3a071a27ecd8\",\"subtype\":\"Figure\",\"type\":\"Plot\"},\"ticker\":{\"id\":\"5762a256-106b-44c8-930a-06d923fa4fcb\",\"type\":\"BasicTicker\"}},\"id\":\"449b68d3-997c-4664-b98c-7a80df18f8d7\",\"type\":\"Grid\"},{\"attributes\":{\"bottom_units\":\"screen\",\"fill_alpha\":{\"value\":0.5},\"fill_color\":{\"value\":\"lightgrey\"},\"left_units\":\"screen\",\"level\":\"overlay\",\"line_alpha\":{\"value\":1.0},\"line_color\":{\"value\":\"black\"},\"line_dash\":[4,4],\"line_width\":{\"value\":2},\"plot\":null,\"render_mode\":\"css\",\"right_units\":\"screen\",\"top_units\":\"screen\"},\"id\":\"12bd3473-9771-4994-b3dd-e9f1ec098695\",\"type\":\"BoxAnnotation\"},{\"attributes\":{\"fill_alpha\":{\"value\":0.2},\"fill_color\":{\"value\":\"red\"},\"size\":{\"units\":\"screen\",\"value\":10},\"x\":{\"field\":\"x\"},\"y\":{\"field\":\"y\"}},\"id\":\"9a6bd1d2-9808-4e13-871c-94fbd137f1c9\",\"type\":\"Circle\"},{\"attributes\":{\"callback\":null,\"column_names\":[\"y\",\"x\"],\"data\":{\"x\":[0.0,0.12693303650867852,0.25386607301735703,0.3807991095260356,0.5077321460347141,0.6346651825433925,0.7615982190520711,0.8885312555607496,1.0154642920694281,1.1423973285781066,1.269330365086785,1.3962634015954636,1.5231964381041423,1.6501294746128208,1.7770625111214993,1.9039955476301778,2.0309285841388562,2.1578616206475347,2.284794657156213,2.4117276936648917,2.53866073017357,2.6655937666822487,2.792526803190927,2.9194598396996057,3.0463928762082846,3.173325912716963,3.3002589492256416,3.42719198573432,3.5541250222429985,3.681058058751677,3.8079910952603555,3.934924131769034,4.0618571682777125,4.188790204786391,4.3157232412950695,4.442656277803748,4.569589314312426,4.696522350821105,4.823455387329783,4.950388423838462,5.07732146034714,5.204254496855819,5.331187533364497,5.458120569873176,5.585053606381854,5.711986642890533,5.838919679399211,5.96585271590789,6.092785752416569,6.219718788925247,6.346651825433926,6.473584861942604,6.600517898451283,6.727450934959961,6.85438397146864,6.981317007977318,7.108250044485997,7.235183080994675,7.362116117503354,7.489049154012032,7.615982190520711,7.742915227029389,7.869848263538068,7.996781300046746,8.123714336555425,8.250647373064103,8.377580409572783,8.50451344608146,8.631446482590139,8.758379519098817,8.885312555607497,9.012245592116175,9.139178628624853,9.266111665133531,9.39304470164221,9.519977738150889,9.646910774659567,9.773843811168245,9.900776847676925,10.027709884185603,10.15464292069428,10.28157595720296,10.408508993711639,10.535442030220317,10.662375066728995,10.789308103237675,10.916241139746353,11.04317417625503,11.170107212763709,11.297040249272388,11.423973285781067,11.550906322289745,11.677839358798423,11.804772395307102,11.93170543181578,12.058638468324459,12.185571504833138,12.312504541341816,12.439437577850494,12.566370614359172],\"y\":[0.0,0.12659245357374926,0.2511479871810792,0.3716624556603276,0.48619673610046865,0.5929079290546404,0.690079011482112,0.7761464642917568,0.8497254299495144,0.9096319953545183,0.9549022414440739,0.984807753012208,0.998867339183008,0.9968547759519424,0.9788024462147787,0.9450008187146685,0.8959937742913359,0.8325698546347714,0.7557495743542583,0.6667690005162916,0.5670598638627709,0.4582265217274105,0.3420201433256689,0.2203105327865408,0.09505604330418244,-0.03172793349806786,-0.15800139597335008,-0.28173255684142984,-0.4009305354066138,-0.5136773915734064,-0.6181589862206053,-0.7126941713788629,-0.7957618405308321,-0.8660254037844388,-0.9223542941045814,-0.9638421585599422,-0.9898214418809327,-0.9998741276738751,-0.9938384644612541,-0.9718115683235417,-0.9341478602651068,-0.881453363447582,-0.8145759520503358,-0.7345917086575331,-0.6427876096865396,-0.5406408174555974,-0.4297949120891719,-0.31203344569848707,-0.18925124436040974,-0.06342391965656452,0.06342391965656492,0.18925124436041013,0.31203344569848745,0.42979491208917153,0.5406408174555978,0.6427876096865393,0.7345917086575334,0.8145759520503356,0.8814533634475821,0.9341478602651067,0.9718115683235418,0.9938384644612541,0.9998741276738751,0.9898214418809328,0.963842158559942,0.9223542941045816,0.8660254037844383,0.7957618405308319,0.7126941713788629,0.6181589862206056,0.5136773915734058,0.40093053540661344,0.2817325568414299,0.15800139597335056,0.03172793349806701,-0.09505604330418282,-0.22031053278654034,-0.342020143325668,-0.45822652172741085,-0.5670598638627707,-0.6667690005162913,-0.7557495743542588,-0.8325698546347716,-0.8959937742913359,-0.9450008187146683,-0.9788024462147789,-0.9968547759519424,-0.998867339183008,-0.9848077530122081,-0.9549022414440737,-0.9096319953545183,-0.8497254299495145,-0.7761464642917573,-0.6900790114821116,-0.5929079290546404,-0.486196736100469,-0.37166245566032663,-0.2511479871810788,-0.1265924535737493,-4.898587196589413e-16]}},\"id\":\"b795ce7e-6e63-40fb-8213-ebc01686cc12\",\"type\":\"ColumnDataSource\"},{\"attributes\":{\"fill_alpha\":{\"value\":0.1},\"fill_color\":{\"value\":\"#1f77b4\"},\"line_alpha\":{\"value\":0.1},\"line_color\":{\"value\":\"#1f77b4\"},\"size\":{\"units\":\"screen\",\"value\":10},\"x\":{\"field\":\"x\"},\"y\":{\"field\":\"y\"}},\"id\":\"1180df6e-d934-4114-87d0-3c123ad1d3b6\",\"type\":\"Circle\"},{\"attributes\":{\"plot\":{\"id\":\"35ce5b50-c2e4-43b5-8711-3a071a27ecd8\",\"subtype\":\"Figure\",\"type\":\"Plot\"}},\"id\":\"d1be3ce0-610e-4694-b622-86a0300c02cb\",\"type\":\"SaveTool\"},{\"attributes\":{},\"id\":\"b9b906d6-2149-4e50-8c2b-c2fd3c657c21\",\"type\":\"BasicTicker\"},{\"attributes\":{\"data_source\":{\"id\":\"098bb696-6a02-46d9-af76-b9f21b761ee5\",\"type\":\"ColumnDataSource\"},\"glyph\":{\"id\":\"f02e4520-7710-4c1f-b1e2-0aac323d7c20\",\"type\":\"Line\"},\"hover_glyph\":null,\"nonselection_glyph\":{\"id\":\"9296e804-3565-46b8-a8a0-bf452a174f3a\",\"type\":\"Line\"},\"selection_glyph\":null},\"id\":\"6443c98c-49e7-4b78-9faf-06c82b1a6064\",\"type\":\"GlyphRenderer\"},{\"attributes\":{\"axis_label\":\"x\",\"formatter\":{\"id\":\"5037739e-0118-4f7f-856e-67c27d7101ec\",\"type\":\"BasicTickFormatter\"},\"plot\":{\"id\":\"35ce5b50-c2e4-43b5-8711-3a071a27ecd8\",\"subtype\":\"Figure\",\"type\":\"Plot\"},\"ticker\":{\"id\":\"b9b906d6-2149-4e50-8c2b-c2fd3c657c21\",\"type\":\"BasicTicker\"}},\"id\":\"54191dca-78ef-4ef7-9dfa-a92d81259d35\",\"type\":\"LinearAxis\"},{\"attributes\":{\"overlay\":{\"id\":\"12bd3473-9771-4994-b3dd-e9f1ec098695\",\"type\":\"BoxAnnotation\"},\"plot\":{\"id\":\"35ce5b50-c2e4-43b5-8711-3a071a27ecd8\",\"subtype\":\"Figure\",\"type\":\"Plot\"}},\"id\":\"5b7d5f96-bcc7-45ed-8923-00c3779b3cfa\",\"type\":\"BoxZoomTool\"},{\"attributes\":{\"plot\":{\"id\":\"35ce5b50-c2e4-43b5-8711-3a071a27ecd8\",\"subtype\":\"Figure\",\"type\":\"Plot\"}},\"id\":\"54e444f7-91dc-4d6c-aa76-75e5403983da\",\"type\":\"PanTool\"},{\"attributes\":{\"callback\":null},\"id\":\"090a7d4e-d18e-4a4b-8f96-1a1f812574bf\",\"type\":\"DataRange1d\"},{\"attributes\":{\"legends\":[[\"sin(x)\",[{\"id\":\"d2fe172b-169e-42bc-9c90-e2cd58644298\",\"type\":\"GlyphRenderer\"}]],[\"2sin(x)\",[{\"id\":\"bf632ee5-d8d6-446a-b5d0-65b855bac52e\",\"type\":\"GlyphRenderer\"}]],[\"sin(2x)\",[{\"id\":\"6443c98c-49e7-4b78-9faf-06c82b1a6064\",\"type\":\"GlyphRenderer\"}]]],\"plot\":{\"id\":\"35ce5b50-c2e4-43b5-8711-3a071a27ecd8\",\"subtype\":\"Figure\",\"type\":\"Plot\"}},\"id\":\"e5298231-4a6f-434d-8f93-0a6717015ac1\",\"type\":\"Legend\"},{\"attributes\":{},\"id\":\"5762a256-106b-44c8-930a-06d923fa4fcb\",\"type\":\"BasicTicker\"},{\"attributes\":{\"plot\":{\"id\":\"35ce5b50-c2e4-43b5-8711-3a071a27ecd8\",\"subtype\":\"Figure\",\"type\":\"Plot\"}},\"id\":\"a2ea0b2c-e113-4d98-93ce-645d4a6977e8\",\"type\":\"HelpTool\"},{\"attributes\":{\"plot\":{\"id\":\"35ce5b50-c2e4-43b5-8711-3a071a27ecd8\",\"subtype\":\"Figure\",\"type\":\"Plot\"}},\"id\":\"3c29ec10-d60c-4569-a599-2d38f8cf94fc\",\"type\":\"WheelZoomTool\"},{\"attributes\":{\"line_color\":{\"value\":\"green\"},\"line_dash\":[10,5,2,5],\"line_width\":{\"value\":2},\"x\":{\"field\":\"x\"},\"y\":{\"field\":\"y\"}},\"id\":\"f02e4520-7710-4c1f-b1e2-0aac323d7c20\",\"type\":\"Line\"},{\"attributes\":{\"plot\":null,\"text\":\"Sine Function\"},\"id\":\"3f980d8a-7723-474c-b850-d291b7527258\",\"type\":\"Title\"},{\"attributes\":{\"line_color\":{\"value\":\"blue\"},\"line_width\":{\"value\":2},\"x\":{\"field\":\"x\"},\"y\":{\"field\":\"y\"}},\"id\":\"2a92a193-7632-4d98-9965-89411bd338c5\",\"type\":\"Line\"},{\"attributes\":{},\"id\":\"4c791e7e-97a5-4b53-8c3b-9f4ac5545168\",\"type\":\"BasicTickFormatter\"},{\"attributes\":{},\"id\":\"6f53b154-93a7-446d-9c12-f2ab27bf56a3\",\"type\":\"ToolEvents\"},{\"attributes\":{\"callback\":null},\"id\":\"93f6a73c-9243-4c65-9e0d-e974fca9b61f\",\"type\":\"DataRange1d\"},{\"attributes\":{\"below\":[{\"id\":\"54191dca-78ef-4ef7-9dfa-a92d81259d35\",\"type\":\"LinearAxis\"}],\"left\":[{\"id\":\"44398ac5-36ae-4ddf-a7ad-74018834196c\",\"type\":\"LinearAxis\"}],\"renderers\":[{\"id\":\"54191dca-78ef-4ef7-9dfa-a92d81259d35\",\"type\":\"LinearAxis\"},{\"id\":\"e8c70d58-5f5e-4eff-baed-4aba3df7f68c\",\"type\":\"Grid\"},{\"id\":\"44398ac5-36ae-4ddf-a7ad-74018834196c\",\"type\":\"LinearAxis\"},{\"id\":\"449b68d3-997c-4664-b98c-7a80df18f8d7\",\"type\":\"Grid\"},{\"id\":\"12bd3473-9771-4994-b3dd-e9f1ec098695\",\"type\":\"BoxAnnotation\"},{\"id\":\"e5298231-4a6f-434d-8f93-0a6717015ac1\",\"type\":\"Legend\"},{\"id\":\"d2fe172b-169e-42bc-9c90-e2cd58644298\",\"type\":\"GlyphRenderer\"},{\"id\":\"bf632ee5-d8d6-446a-b5d0-65b855bac52e\",\"type\":\"GlyphRenderer\"},{\"id\":\"6443c98c-49e7-4b78-9faf-06c82b1a6064\",\"type\":\"GlyphRenderer\"}],\"title\":{\"id\":\"3f980d8a-7723-474c-b850-d291b7527258\",\"type\":\"Title\"},\"tool_events\":{\"id\":\"6f53b154-93a7-446d-9c12-f2ab27bf56a3\",\"type\":\"ToolEvents\"},\"toolbar\":{\"id\":\"363e9c99-5ddf-4fd4-91dd-9a45f83f64e2\",\"type\":\"Toolbar\"},\"x_range\":{\"id\":\"090a7d4e-d18e-4a4b-8f96-1a1f812574bf\",\"type\":\"DataRange1d\"},\"y_range\":{\"id\":\"93f6a73c-9243-4c65-9e0d-e974fca9b61f\",\"type\":\"DataRange1d\"}},\"id\":\"35ce5b50-c2e4-43b5-8711-3a071a27ecd8\",\"subtype\":\"Figure\",\"type\":\"Plot\"}],\"root_ids\":[\"35ce5b50-c2e4-43b5-8711-3a071a27ecd8\"]},\"title\":\"Bokeh Application\",\"version\":\"0.12.1\"}};\n",
       "            var render_items = [{\"docid\":\"2411bdcc-dc39-4011-9576-727d4bca5040\",\"elementid\":\"6d0c2e5d-99cd-4220-9d0f-9d5c9c0ccab7\",\"modelid\":\"35ce5b50-c2e4-43b5-8711-3a071a27ecd8\",\"notebook_comms_target\":\"db532304-8324-4af5-b45a-a8d991ffc76d\"}];\n",
       "            \n",
       "            Bokeh.embed.embed_items(docs_json, render_items);\n",
       "        });\n",
       "      },\n",
       "      function(Bokeh) {\n",
       "      }\n",
       "    ];\n",
       "  \n",
       "    function run_inline_js() {\n",
       "      for (var i = 0; i < inline_js.length; i++) {\n",
       "        inline_js[i](window.Bokeh);\n",
       "      }\n",
       "    }\n",
       "  \n",
       "    if (window._bokeh_is_loading === 0) {\n",
       "      console.log(\"Bokeh: BokehJS loaded, going straight to plotting\");\n",
       "      run_inline_js();\n",
       "    } else {\n",
       "      load_libs(js_urls, function() {\n",
       "        console.log(\"Bokeh: BokehJS plotting callback run at\", now());\n",
       "        run_inline_js();\n",
       "      });\n",
       "    }\n",
       "  }(this));\n",
       "</script>"
      ]
     },
     "metadata": {},
     "output_type": "display_data"
    },
    {
     "data": {
      "text/html": [
       "<p><code>&lt;Bokeh Notebook handle for <strong>In[12]</strong>&gt;</code></p>"
      ],
      "text/plain": [
       "<bokeh.io._CommsHandle at 0x84085c0>"
      ]
     },
     "execution_count": 12,
     "metadata": {},
     "output_type": "execute_result"
    }
   ],
   "source": [
    "from bokeh.plotting import figure\n",
    "import numpy as np\n",
    "\n",
    "x = np.linspace(0, 4*np.pi, 100)\n",
    "y = np.sin(x)\n",
    "\n",
    "\n",
    "plot = figure(title=\"Sine Function\")\n",
    "plot.xaxis.axis_label='x'\n",
    "plot.yaxis.axis_label='amplitude'\n",
    "\n",
    "\n",
    "plot.line(x, y, \n",
    "  line_color='blue',\n",
    "  line_width=2,\n",
    "  legend='sin(x)')\n",
    "\n",
    "plot.circle(x, 2*y, \n",
    "  fill_color='red',\n",
    "  line_color='black',\n",
    "  fill_alpha=0.2,\n",
    "  size=10,\n",
    "  legend='2sin(x)')\n",
    "\n",
    "#line_dash is an aribrary length list of lengths\n",
    "#alternating in [color, blank, color, ...]\n",
    "plot.line(x, np.sin(x**2),\n",
    "  line_color='green',\n",
    "  line_dash=[10,5,2,5], \n",
    "  line_width=2,\n",
    "  legend='sin(2x)')\n",
    "\n",
    "show(plot)"
   ]
  },
  {
   "cell_type": "markdown",
   "metadata": {},
   "source": [
    "## Style parameters"
   ]
  },
  {
   "cell_type": "markdown",
   "metadata": {},
   "source": [
    "<a href='./Bokeh_plotting_styles.ipynb' class='btn btn-primary btn-lg'>More style parameters</a>"
   ]
  },
  {
   "cell_type": "markdown",
   "metadata": {},
   "source": [
    "# Exercise"
   ]
  },
  {
   "cell_type": "markdown",
   "metadata": {},
   "source": [
    "<img src='img/topics/Exercise.png' align='left' style='padding:10px'>\n",
    "<br>\n",
    "<a href='./Bokeh_ex_plotting.ipynb' class='btn btn-primary btn-lg'>Plotting Timeseries</a>"
   ]
  },
  {
   "cell_type": "markdown",
   "metadata": {},
   "source": [
    "----\n",
    "<a href='./Bokeh_layout.ipynb' class='btn btn-primary'>Plot layouts</a>"
   ]
  }
 ],
 "metadata": {
  "anaconda-cloud": {},
  "continuum": {
   "depends": [],
   "requires": [
    "img/bokeh_basic.svg",
    "img/bokeh_with_tentacles_2.svg",
    "data/bokeh/*"
   ],
   "tag": "bo_intro"
  },
  "kernelspec": {
   "display_name": "Python [iqt]",
   "language": "python",
   "name": "Python [iqt]"
  },
  "language_info": {
   "codemirror_mode": {
    "name": "ipython",
    "version": 3
   },
   "file_extension": ".py",
   "mimetype": "text/x-python",
   "name": "python",
   "nbconvert_exporter": "python",
   "pygments_lexer": "ipython3",
   "version": "3.4.0"
  }
 },
 "nbformat": 4,
 "nbformat_minor": 0
}
