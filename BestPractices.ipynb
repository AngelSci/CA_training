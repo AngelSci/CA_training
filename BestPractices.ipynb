{
 "cells": [
  {
   "cell_type": "markdown",
   "metadata": {},
   "source": [
    "<img src='notebooks/img/logo.png' />"
   ]
  },
  {
   "cell_type": "markdown",
   "metadata": {},
   "source": [
    "<img src='notebooks/img/title.png'>"
   ]
  },
  {
   "cell_type": "markdown",
   "metadata": {},
   "source": [
    "# Table of Contents\n",
    "* [Conventions](#Conventions)\n",
    "\t* [Links](#Links)\n",
    "* [Anaconda Navigator](#Anaconda-Navigator)\n",
    "* [Conda Package manager](#Conda-Package-manager)\n",
    "* [Best Practices for Python Development](#Best-Practices-for-Python-Development)\n",
    "\t* [Good Python coding](#Good-Python-coding)\n",
    "\t* [Debugging and Testing](#Debugging-and-Testing)\n",
    "\t* [Packaging and integration](#Packaging-and-integration)\n",
    "\t* [Geospatial Exercises](#Geospatial-Exercises)\n",
    "* [Advanced Python](#Advanced-Python)\n",
    "\t* [Exception handling](#Exception-handling)\n",
    "\t* [Object-oriented Programming](#Object-oriented-Programming)\n",
    "\t* [Iterators and Generators](#Iterators-and-Generators)\n",
    "\t* [Decorators](#Decorators)\n",
    "\t* [Context Managers](#Context-Managers)\n"
   ]
  },
  {
   "cell_type": "markdown",
   "metadata": {},
   "source": [
    "# Conventions"
   ]
  },
  {
   "cell_type": "markdown",
   "metadata": {},
   "source": [
    "The following conventions will be used throughout this lecture."
   ]
  },
  {
   "cell_type": "markdown",
   "metadata": {},
   "source": [
    "<img src='notebooks/img/topics/Essential-Concept.png' align='left'>\n",
    "<div class='alert alert-info' align=\"center\">\n",
    "<font size=\"+2\">Essential Concept</font>\n",
    "</div>"
   ]
  },
  {
   "cell_type": "markdown",
   "metadata": {},
   "source": [
    "<img src='notebooks/img/topics/Best-Practice.png' align='left' style='padding:10x'>\n",
    "<div class='alert alert-success' align=\"center\">\n",
    "<font size=\"+2\">Best Practice</font>\n",
    "</div>"
   ]
  },
  {
   "cell_type": "markdown",
   "metadata": {},
   "source": [
    "<img src='notebooks/img/topics/Advanced-Concept.png' align='left' style='padding:10x'>\n",
    "<div class=\"alert alert-danger\" align=\"center\">\n",
    "<font size=\"+2\">Advanced Concept</font>\n",
    "</div>"
   ]
  },
  {
   "cell_type": "markdown",
   "metadata": {},
   "source": [
    "<img src='notebooks/img/topics/Exercise.png' align='left'>\n",
    "<div class='alert alert-warning' align=\"center\">\n",
    "<font size=\"+2\">Exercise</font>\n",
    "</div>"
   ]
  },
  {
   "cell_type": "markdown",
   "metadata": {},
   "source": [
    "## Links"
   ]
  },
  {
   "cell_type": "markdown",
   "metadata": {},
   "source": [
    "<div class='btn btn-primary btn-lg'><u>Launch Jupyter Notebook</u></div>"
   ]
  },
  {
   "cell_type": "markdown",
   "metadata": {},
   "source": [
    "<font color='blue'><u><big><big><b>Link out to website</b></big></big></u></font>"
   ]
  },
  {
   "cell_type": "markdown",
   "metadata": {},
   "source": [
    "# Anaconda Navigator"
   ]
  },
  {
   "cell_type": "markdown",
   "metadata": {
    "collapsed": true
   },
   "source": [
    "<img src='notebooks/img/AnacondaNavigator_horizontal_RGB.png'>"
   ]
  },
  {
   "cell_type": "markdown",
   "metadata": {},
   "source": [
    "<div align='center'><big><big>https://docs.continuum.io/anaconda/navigator</big></big>"
   ]
  },
  {
   "cell_type": "markdown",
   "metadata": {},
   "source": [
    "> Anaconda Navigator is a desktop graphical user interface included in Anaconda that allows you to easily manage conda packages, environments and channels without the need to use the command line."
   ]
  },
  {
   "cell_type": "markdown",
   "metadata": {},
   "source": [
    "# Conda Package manager"
   ]
  },
  {
   "cell_type": "markdown",
   "metadata": {},
   "source": [
    "<img src='notebooks/img/conda_logo.svg'>"
   ]
  },
  {
   "cell_type": "markdown",
   "metadata": {},
   "source": [
    "<div align='center'><big><big>http://conda.pydata.org/docs/</big></big></div>"
   ]
  },
  {
   "cell_type": "markdown",
   "metadata": {},
   "source": [
    "> Conda is an open source package management system and environment management system for installing multiple versions of software packages and their dependencies and switching easily between them. It works on Linux, OS X and Windows, and was created for Python programs but can package and distribute any software."
   ]
  },
  {
   "cell_type": "markdown",
   "metadata": {},
   "source": [
    "<a href='notebooks/conda.ipynb' class='btn btn-primary btn-lg'>Conda environments</a>"
   ]
  },
  {
   "cell_type": "markdown",
   "metadata": {},
   "source": [
    "# Best Practices for Python Development"
   ]
  },
  {
   "cell_type": "markdown",
   "metadata": {},
   "source": [
    "Step 0: Use revision control\n",
    "----------------------------\n",
    "\n",
    "* Use revision control for notebooks, source files, results and data\n",
    "* Git is very good at handling text and binary data.\n",
    "\n",
    "\n",
    "Step 1: Write good documentation\n",
    "--------------------------------\n",
    "\n",
    "* This includes *docstrings* for modules and functions and comments.\n",
    "* comments should reflect the *rationale* for the code not the *description* of the code\n",
    "\n",
    "\n",
    "Step 3: Choose wisely\n",
    "---------------------\n",
    "1. Is there a **Standard Library** module?\n",
    "2. Is there a package in Anaconda (either installed by default or on the *default conda channel*)?\n",
    "3. Try `pip install`\n",
    "4. As a last resort install from source\n",
    "\n",
    "Step 4: Refactor and test\n",
    "-------------------------\n",
    "* Functions are *verbs*; they should only do one thing\n",
    "  * they become easier to test\n",
    "  * they are easier to change\n",
    "* Separate *representation* (printing or plotting) from *computation*\n",
    "* Separate *data ingesting* from *computation*\n",
    "  * your data sources or even data structures may change over time"
   ]
  },
  {
   "cell_type": "markdown",
   "metadata": {},
   "source": [
    "## Good Python coding"
   ]
  },
  {
   "cell_type": "markdown",
   "metadata": {},
   "source": [
    "<a href='notebooks/best_conventions.ipynb' class='btn btn-primary btn-lg'>Python Conventions<a>"
   ]
  },
  {
   "cell_type": "markdown",
   "metadata": {},
   "source": [
    "<a href='notebooks/best_shells.ipynb' class='btn btn-primary btn-lg'>Scripts and Shells</a>"
   ]
  },
  {
   "cell_type": "markdown",
   "metadata": {},
   "source": [
    "<a href='notebooks/best_refactoring.ipynb' class='btn btn-primary btn-lg'>Refactoring Code Exercise</a>"
   ]
  },
  {
   "cell_type": "markdown",
   "metadata": {},
   "source": [
    "<a href='notebooks/best_cli.ipynb' class='btn btn-primary btn-lg'>Command Line Interfaces</a>"
   ]
  },
  {
   "cell_type": "markdown",
   "metadata": {},
   "source": [
    "## Debugging and Testing"
   ]
  },
  {
   "cell_type": "markdown",
   "metadata": {},
   "source": [
    "<a href='notebooks/best_debugging.ipynb' class='btn btn-primary btn-lg'>Debuggers and IDEs</a>"
   ]
  },
  {
   "cell_type": "markdown",
   "metadata": {},
   "source": [
    "<a href='notebooks/best_testing.ipynb' class='btn btn-primary btn-lg'>Testing Frameworks</a>"
   ]
  },
  {
   "cell_type": "markdown",
   "metadata": {},
   "source": [
    "## Packaging and integration"
   ]
  },
  {
   "cell_type": "markdown",
   "metadata": {},
   "source": [
    "<a href='notebooks/best_packages.ipynb' class='btn btn-primary btn-lg'>Conda packages</a>"
   ]
  },
  {
   "cell_type": "markdown",
   "metadata": {},
   "source": [
    "<a href='notebooks/best_continuous.ipynb' class='btn btn-primary'>Continuous Integration</a>"
   ]
  },
  {
   "cell_type": "markdown",
   "metadata": {},
   "source": [
    "## Geospatial Exercises"
   ]
  },
  {
   "cell_type": "markdown",
   "metadata": {},
   "source": [
    "<img src='notebooks/img/topics/Science-Topic.png' align='left' style='padding:10px'>\n",
    "<br>\n",
    "<big>Build a geospatial package to determine if a point in latitude and longitude is inside a US county</big>"
   ]
  },
  {
   "cell_type": "markdown",
   "metadata": {},
   "source": [
    "<a href='notebooks/best_geo_ex_test.ipynb' class='btn btn-primary btn-lg'>Write tests</a>\n",
    "<a href='notebooks/best_geo_ex_api.ipynb' class='btn btn-primary btn-lg'>Design the API</a>\n",
    "<a href='notebooks/best_geo_ex_data.ipynb' class='btn btn-primary btn-lg'>Read data</a>\n",
    "<a href='notebooks/best_geo_ex_geopy.ipynb' class='btn btn-primary btn-lg'>External libraries</a>\n",
    "<a href='notebooks/best_geo_ex_dist.ipynb' class='btn btn-primary btn-lg'>Extend the library</a>"
   ]
  },
  {
   "cell_type": "markdown",
   "metadata": {},
   "source": [
    "## References"
   ]
  },
  {
   "cell_type": "markdown",
   "metadata": {},
   "source": [
    "* https://github.com/AlbertDeFusco/lectures-scientific-computing-advice\n",
    "* https://gist.github.com/sloria/7001839\n",
    "* https://www.slideshare.net/pydanny/python-worst-practices?from_m_app=ios\n",
    "* http://pbpython.com/best-practices.html"
   ]
  },
  {
   "cell_type": "markdown",
   "metadata": {},
   "source": [
    "# Advanced Python"
   ]
  },
  {
   "cell_type": "markdown",
   "metadata": {},
   "source": [
    "## Exception handling"
   ]
  },
  {
   "cell_type": "markdown",
   "metadata": {},
   "source": [
    "<a href='notebooks/adv_exceptions.ipynb' class='btn btn-primary btn-lg'>Exceptions</a>"
   ]
  },
  {
   "cell_type": "markdown",
   "metadata": {},
   "source": [
    "## Object-oriented Programming"
   ]
  },
  {
   "cell_type": "markdown",
   "metadata": {},
   "source": [
    "<a href='notebooks/adv_classes.ipynb' class='btn btn-primary btn-lg'>Classes</a>\n",
    "<a href='notebooks/adv_classes_ex.ipynb' class='btn btn-primary'>Exercise</a>"
   ]
  },
  {
   "cell_type": "markdown",
   "metadata": {},
   "source": [
    "<a href='notebooks/adv_magic.ipynb' class='btn btn-primary'>Magic Classes</a>\n",
    "<a href='notebooks/adv_iterables.ipynb' class='btn btn-primary'>Container Classes</a>"
   ]
  },
  {
   "cell_type": "markdown",
   "metadata": {},
   "source": [
    "## Iterators and Generators"
   ]
  },
  {
   "cell_type": "markdown",
   "metadata": {},
   "source": [
    "<a href='notebooks/adv_generators.ipynb' class='btn btn-primary btn-lg'>Generators</a>\n",
    "<a href='notebooks/adv_itertools.ipynb' class='btn btn-primary'>Itertools</a>\n",
    "<a href='notebooks/adv_lazy.ipynb' class='btn btn-primary'>Lazy Iteration</a>"
   ]
  },
  {
   "cell_type": "markdown",
   "metadata": {},
   "source": [
    "## Decorators"
   ]
  },
  {
   "cell_type": "markdown",
   "metadata": {},
   "source": [
    "<a href='notebooks/adv_decorators.ipynb' class='btn btn-primary btn-lg'>Decorators</a>\n",
    "<a href='notebooks/adv_deco_class.ipynb' class='btn btn-primary btn-lg'>Decorator classes</a>"
   ]
  },
  {
   "cell_type": "markdown",
   "metadata": {},
   "source": [
    "## Context Managers"
   ]
  },
  {
   "cell_type": "markdown",
   "metadata": {},
   "source": [
    "<a href='notebooks/adv_context.ipynb' class='btn btn-primary btn-lg'>Context Managers</a>"
   ]
  },
  {
   "cell_type": "markdown",
   "metadata": {},
   "source": [
    "<img src='notebooks/img/copyright.png'>"
   ]
  }
 ],
 "metadata": {
  "anaconda-cloud": {},
  "kernelspec": {
   "display_name": "Python [conda env:anaconda_training]",
   "language": "python",
   "name": "conda-env-anaconda_training-py"
  },
  "language_info": {
   "codemirror_mode": {
    "name": "ipython",
    "version": 3
   },
   "file_extension": ".py",
   "mimetype": "text/x-python",
   "name": "python",
   "nbconvert_exporter": "python",
   "pygments_lexer": "ipython3",
   "version": "3.5.2"
  }
 },
 "nbformat": 4,
 "nbformat_minor": 0
}
