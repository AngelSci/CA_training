{
 "cells": [
  {
   "cell_type": "markdown",
   "metadata": {},
   "source": [
    "<img src='img/anaconda-logo.png' align='left' style=\"padding:10px\">\n",
    "<br>\n",
    "*Copyright Continuum 2012-2016 All Rights Reserved.*"
   ]
  },
  {
   "cell_type": "markdown",
   "metadata": {},
   "source": [
    "# Course Introduction"
   ]
  },
  {
   "cell_type": "markdown",
   "metadata": {},
   "source": [
    "This is a course on the Anaconda Platform, its components, and its OSS foundations."
   ]
  },
  {
   "cell_type": "markdown",
   "metadata": {},
   "source": [
    "> Anaconda is the leading open data science platform, powered by Python."
   ]
  },
  {
   "cell_type": "markdown",
   "metadata": {},
   "source": [
    "## Table of Contents\n",
    "* [Course Introduction](#Course-Introduction)\n",
    "* [Course Context](#Course-Context)\n",
    "\t* [Audience](#Audience)\n",
    "\t* [PyData Stack](#PyData-Stack)\n",
    "\t* [Anaconda Stack](#Anaconda-Stack)\n",
    "* [Course Content](#Course-Content)\n",
    "* [Course Themes](#Course-Themes)\n",
    "\t* [Theme 1, Workflows](#Theme-1,-Workflows)\n",
    "\t* [Theme 2, Optimization](#Theme-2,-Optimization)\n",
    "\t* [Theme 3, Visualization](#Theme-3,-Visualization)\n",
    "* [Course Format](#Course-Format)\n",
    "* [Introductions](#Introductions)\n",
    "\t* [Instructor](#Instructor)\n",
    "\t* [Students](#Students)\n",
    "* [Getting started](#Getting-started)\n",
    "\t* [Anaconda](#Anaconda)\n",
    "\t* [conda](#conda)\n",
    "\t* [Shell](#Shell)\n",
    "* [Exercises](#Exercises)\n",
    "\t* [Exercise: Test your Shell](#Exercise:-Test-your-Shell)\n",
    "\t* [Exercise: Install the Anaconda Distribution -- **SKIP**](#Exercise:-Install-the-Anaconda-Distribution----**SKIP**)\n",
    "\t* [Exercise: Test your Anaconda Installation](#Exercise:-Test-your-Anaconda-Installation)\n",
    "* [Exercise: Load this Jupyter Notebook](#Exercise:-Load-this-Jupyter-Notebook)\n",
    "\t* [Exercise: Configure conda and Anaconda](#Exercise:-Configure-conda-and-Anaconda)\n",
    "* [Lesson Conventions](#Lesson-Conventions)\n"
   ]
  },
  {
   "cell_type": "markdown",
   "metadata": {},
   "source": [
    "# Course Context"
   ]
  },
  {
   "cell_type": "markdown",
   "metadata": {},
   "source": [
    "## Audience"
   ]
  },
  {
   "cell_type": "markdown",
   "metadata": {},
   "source": [
    "Do you recognize yourself? Maybe you have worked in all of these roles?"
   ]
  },
  {
   "cell_type": "markdown",
   "metadata": {},
   "source": [
    "![data-science-teams](img/data-science-team.png)"
   ]
  },
  {
   "cell_type": "markdown",
   "metadata": {},
   "source": [
    "## PyData Stack"
   ]
  },
  {
   "cell_type": "markdown",
   "metadata": {},
   "source": [
    ">PyData is the home for all things related to the use of Python in data management and analysis. It brings together Python enthusiasts at all levels and includes tutorials and talks from practitioners as well as advanced talks by experts and core library developers."
   ]
  },
  {
   "cell_type": "markdown",
   "metadata": {},
   "source": [
    "![pydata-stack](img/pydata-stack.png)"
   ]
  },
  {
   "cell_type": "markdown",
   "metadata": {},
   "source": [
    "## Anaconda Stack"
   ]
  },
  {
   "cell_type": "markdown",
   "metadata": {},
   "source": [
    "![anaconda-stack](img/anaconda-stack.png)"
   ]
  },
  {
   "cell_type": "markdown",
   "metadata": {},
   "source": [
    "# Course Content"
   ]
  },
  {
   "cell_type": "markdown",
   "metadata": {},
   "source": [
    "What this course is and is not:\n",
    "\n",
    "* This is a course on the Anaconda Platform, its components, and its OSS foundations.\n",
    "* This is a course on tools and related workflows that enable data science teams.\n",
    "* This is not a course on mathematics, algorithms, or data structures."
   ]
  },
  {
   "cell_type": "markdown",
   "metadata": {},
   "source": [
    "Topics Covered:\n",
    "* Anaconda\n",
    "* Conda\n",
    "* Anaconda Distribution\n",
    "* Anaconda Navigator\n",
    "* Anaconda Enterprise Notebooks\n",
    "* Anaconda Repository\n",
    "* Anaconda Accelerate\n",
    "* Anaconda Cluster (becoming \"Anaconda Scale\")\n",
    "* IOPro\n",
    "* Dask (local) and Dask-Distributed\n",
    "* Bokek & Bokeh-Geo\n",
    "* Datashader"
   ]
  },
  {
   "cell_type": "markdown",
   "metadata": {},
   "source": [
    "Topics we assume you know already:"
   ]
  },
  {
   "cell_type": "markdown",
   "metadata": {},
   "source": [
    "* File system, file tree operations\n",
    "* System shell/terminal\n",
    "* Python\n",
    "* Numpy\n",
    "* Pandas\n",
    "* Matplotlib"
   ]
  },
  {
   "cell_type": "markdown",
   "metadata": {},
   "source": [
    "# Course Themes"
   ]
  },
  {
   "cell_type": "markdown",
   "metadata": {},
   "source": [
    "## Theme 1, Workflows"
   ]
  },
  {
   "cell_type": "markdown",
   "metadata": {},
   "source": [
    "* Jupyter Notebooks\n",
    "* Anaconda Navigator\n",
    "* Conda\n",
    "* Anaconda Repository\n",
    "* Anaconda Enterprise Notebooks"
   ]
  },
  {
   "cell_type": "markdown",
   "metadata": {},
   "source": [
    "## Theme 2, Optimization"
   ]
  },
  {
   "cell_type": "markdown",
   "metadata": {},
   "source": [
    "* Anaconda Accelerate\n",
    "* Anaconda IOPro\n",
    "* Dask (Local)\n",
    "* Anaconda Cluster\n",
    "* Dask (Distributed)"
   ]
  },
  {
   "cell_type": "markdown",
   "metadata": {},
   "source": [
    "## Theme 3, Visualization"
   ]
  },
  {
   "cell_type": "markdown",
   "metadata": {},
   "source": [
    "* Bokeh\n",
    "* BokehGeo\n",
    "* Datashader"
   ]
  },
  {
   "cell_type": "markdown",
   "metadata": {},
   "source": [
    "# Course Format"
   ]
  },
  {
   "cell_type": "markdown",
   "metadata": {},
   "source": [
    "* Live coding in interactive notebooks\n",
    "* Student Exercises\n",
    "* Daily schedule, breaks\n",
    "* Class tools, formative assessment, student feedback\n",
    "* Pre-Course and Post-Course surveys"
   ]
  },
  {
   "cell_type": "markdown",
   "metadata": {},
   "source": [
    "# Introductions"
   ]
  },
  {
   "cell_type": "markdown",
   "metadata": {},
   "source": [
    "## Instructor"
   ]
  },
  {
   "cell_type": "markdown",
   "metadata": {},
   "source": [
    "* Name\n",
    "* **Education**\n",
    "    * e.g. PhD Physics, MS Statistics, BS Computer Science\n",
    "* **Current Job Role**\n",
    "    * e.g. DevOps/SysAdmin, Data Engineer, Programmer, Data Scientist, Domain Analyst\n",
    "* **Programming experience**\n",
    "    * e.g. Python 3 years, C++ 10 years, Fortran 30 years\n",
    "    * e.g. Software Engineer, Scientist Coder, Analyst\n",
    "* **Data experience**\n",
    "    * e.g. Data Munging, ETL, Numeric, Text, GIS"
   ]
  },
  {
   "cell_type": "markdown",
   "metadata": {},
   "source": [
    "## Students"
   ]
  },
  {
   "cell_type": "markdown",
   "metadata": {},
   "source": [
    "Same as above, plus...\n",
    "* Problems do you need to solve?\n",
    "* Current tools deficiencies?\n",
    "* Topics listed above that are highest priority\n",
    "* Do you need me to briefly review anything?\n",
    "    * jupyter?\n",
    "    * numpy?\n",
    "    * pandas?\n",
    "    * matplotlib?"
   ]
  },
  {
   "cell_type": "markdown",
   "metadata": {},
   "source": [
    "# Getting started"
   ]
  },
  {
   "cell_type": "markdown",
   "metadata": {},
   "source": [
    "## Anaconda"
   ]
  },
  {
   "cell_type": "markdown",
   "metadata": {},
   "source": [
    "The [Anaconda](http://continuum.io/anaconda) Platform is built upon the foundation of the Anaconda Distribution, an open-source python distribution, comprised of [several hundred packages](http://docs.continuum.io/anaconda/pkg-docs) regularly used in science, math, engineering and data analysis applications."
   ]
  },
  {
   "cell_type": "markdown",
   "metadata": {},
   "source": [
    "## conda"
   ]
  },
  {
   "cell_type": "markdown",
   "metadata": {},
   "source": [
    "`conda` is one of the most important packages included in the Anaconda Distribution.\n"
   ]
  },
  {
   "cell_type": "markdown",
   "metadata": {},
   "source": [
    "conda is...\n",
    "* used for managing packages and environments.\n",
    "* used for many platforms (e.g. Windows, Mac, Linux)\n",
    "* used for many languages other than just Python, incuding R, C, C++, etc.\n",
    "* [FLOSS](https://en.wikipedia.org/wiki/Free_and_open-source_software) and can be used independent of Anaconda.\n",
    "* a creation of Continuum Analytics\n",
    "\n",
    "Once Anaconda has been installed, we will learn the basics of using `conda`. \n",
    "\n",
    "We will see much more of `conda` in one of the first lessons."
   ]
  },
  {
   "cell_type": "markdown",
   "metadata": {},
   "source": [
    "## Shell"
   ]
  },
  {
   "cell_type": "markdown",
   "metadata": {},
   "source": [
    "* On MacOS, use `Terminal` or [`iTerm`](https://www.iterm2.com/). \n",
    "* On Windows, use the Command Prompt (`run cmd.exe`).\n",
    "* On Linux, use your favorite terminal program.\n",
    "\n",
    "*You may also use the Terminal built-into Jupyter notebooks if you are looking at this material in your own notebook.  But this will utilize your underlying system shell on each operating system -- it will not give you Bash on Windows.*"
   ]
  },
  {
   "cell_type": "markdown",
   "metadata": {},
   "source": [
    "# Exercises"
   ]
  },
  {
   "cell_type": "markdown",
   "metadata": {},
   "source": [
    "## Exercise: Test your Shell"
   ]
  },
  {
   "cell_type": "markdown",
   "metadata": {},
   "source": [
    "**Part 1: Quick Access and Launch**\n",
    "1. Find your system shell/terminal application (see above)\n",
    "2. Add a shortcut to launch it on the Desktop\n",
    "3. Open your system shell\n",
    "\n",
    "**Part 2: Run a few shell tests**\n",
    "4. determine your current working directory\n",
    "5. determine your login account name\n",
    "6. navigate to your Desktop\n",
    "7. list all files on/in your Desktop"
   ]
  },
  {
   "cell_type": "code",
   "execution_count": 1,
   "metadata": {
    "collapsed": false
   },
   "outputs": [
    {
     "name": "stderr",
     "output_type": "stream",
     "text": [
      "'pwd' is not recognized as an internal or external command,\n",
      "operable program or batch file.\n"
     ]
    },
    {
     "name": "stdout",
     "output_type": "stream",
     "text": [
      "desktop-mvkmc7o\\angelsparkles\n"
     ]
    },
    {
     "name": "stderr",
     "output_type": "stream",
     "text": [
      "'ls' is not recognized as an internal or external command,\n",
      "operable program or batch file.\n"
     ]
    }
   ],
   "source": [
    "# Part of the Solution: Linux/Mac\n",
    "!pwd\n",
    "!whoami\n",
    "!ls ~/Desktop"
   ]
  },
  {
   "cell_type": "markdown",
   "metadata": {},
   "source": [
    "## Exercise: Install the Anaconda Distribution -- **SKIP**"
   ]
  },
  {
   "cell_type": "markdown",
   "metadata": {},
   "source": [
    "The Anaconda Distribution is a free tool distributed by Continuum.\n",
    "\n",
    "It is an isolated python environment that is installed into your **user file tree** where it lives and runs completely indepedent of any system install of python."
   ]
  },
  {
   "cell_type": "markdown",
   "metadata": {},
   "source": [
    "1. Locate the Anaconda installer file for your platform. If you cannot find it, [download it from Continuum](https://www.continuum.io/downloads)\n",
    "2. Locate install instructions online with your favorite web search tool\n",
    "3. Use the installer and the instructions to install Anaconda for your user account only"
   ]
  },
  {
   "cell_type": "markdown",
   "metadata": {},
   "source": [
    "## Exercise: Test your Anaconda Installation"
   ]
  },
  {
   "cell_type": "markdown",
   "metadata": {},
   "source": [
    "* Open a shell or command prompt\n",
    "* Determine the version of python\n",
    "* Determine the system path where this python binary is located"
   ]
  },
  {
   "cell_type": "code",
   "execution_count": null,
   "metadata": {
    "collapsed": false
   },
   "outputs": [],
   "source": [
    "# Solution: Linux and Mac\n",
    "# **** BUT DO IT IN THE SHELL! ****\n",
    "\n",
    "!python --version\n",
    "!which python"
   ]
  },
  {
   "cell_type": "code",
   "execution_count": null,
   "metadata": {
    "collapsed": true
   },
   "outputs": [],
   "source": [
    "# Solution: Windows:\n",
    "# **** BUT DO IT IN THE SHELL! ****\n",
    "\n",
    "!python --version\n",
    "!where python"
   ]
  },
  {
   "cell_type": "markdown",
   "metadata": {},
   "source": [
    "# Exercise: Load this Jupyter Notebook"
   ]
  },
  {
   "cell_type": "markdown",
   "metadata": {},
   "source": [
    "* Open cmd prompt\n",
    "* change directories into `Desktop/Anaconda_Course`\n",
    "* run the follwoing command\n",
    "\n",
    "```bash\n",
    "jupyter notebook\n",
    "```"
   ]
  },
  {
   "cell_type": "markdown",
   "metadata": {},
   "source": [
    "* This will open a new tab in your web browser, the \"home\" for Jupyter, which is a file broser\n",
    "* select and open the `Course_Introduction.ipynb` file from the file browser"
   ]
  },
  {
   "cell_type": "markdown",
   "metadata": {},
   "source": [
    "## Exercise: Configure conda and Anaconda"
   ]
  },
  {
   "cell_type": "markdown",
   "metadata": {},
   "source": [
    "Files included with the course material:\n",
    "* [SETUP_WINDOWS.txt](./setup/SETUP_WINDOWS.txt), use for Windows\n",
    "* [SETUP_LINUX_AND_MAC.txt](./setup/SETUP_LINUX_AND_MAC.txt), use for Linux or macOS/OSX"
   ]
  },
  {
   "cell_type": "markdown",
   "metadata": {},
   "source": [
    "Set-up your Anaconda environment:\n",
    "1. Use a text editor or mark-down reader to open the file for your system.\n",
    "2. Use the how-to instructions within to set-up the environment for this course"
   ]
  },
  {
   "cell_type": "markdown",
   "metadata": {},
   "source": [
    "# Lesson Conventions"
   ]
  },
  {
   "cell_type": "markdown",
   "metadata": {},
   "source": [
    "The following conventions will be used throughout this lesson.\n",
    "\n",
    "<img src='./img/topics/Essential-Concept.png' align='left' style='padding:10x'>\n",
    "<br>\n",
    "<big><big><b>This icon indicates an \"Essential Concept\"</b></big></big>"
   ]
  },
  {
   "cell_type": "markdown",
   "metadata": {},
   "source": [
    "<img src='./img/topics/Best-Practice.png' align='left' style='padding:10x'>\n",
    "<br>\n",
    "<big><big><b>This icon indicates \"Best Practice\"</b></big></big>"
   ]
  },
  {
   "cell_type": "markdown",
   "metadata": {},
   "source": [
    "<img src='./img/topics/Advanced-Concept.png' align='left' style='padding:10x'>\n",
    "<br>\n",
    "<big><big><b>This icon indicates an \"Advanced Concept\"</b></big></big>"
   ]
  },
  {
   "cell_type": "markdown",
   "metadata": {},
   "source": [
    "<img src='./img/topics/Exercise.png' align='left' style='padding:10x'>\n",
    "<br>\n",
    "<big><big><b>This icon indicates an \"Exercise\"</b></big></big>"
   ]
  },
  {
   "cell_type": "markdown",
   "metadata": {},
   "source": [
    "<div class='btn btn-primary btn-lg'><u>This Style of Link will Launch a Jupyter Notebook</u></div>"
   ]
  },
  {
   "cell_type": "markdown",
   "metadata": {},
   "source": [
    "<font color='blue'><u><big><big><b>This Style of Link will Load an External Website</b></big></big></u></font>"
   ]
  },
  {
   "cell_type": "markdown",
   "metadata": {},
   "source": [
    "*Copyright Continuum 2012-2016 All Rights Reserved.*"
   ]
  }
 ],
 "metadata": {
  "anaconda-cloud": {},
  "kernelspec": {
   "display_name": "Python [conda root]",
   "language": "python",
   "name": "conda-root-py"
  },
  "language_info": {
   "codemirror_mode": {
    "name": "ipython",
    "version": 3
   },
   "file_extension": ".py",
   "mimetype": "text/x-python",
   "name": "python",
   "nbconvert_exporter": "python",
   "pygments_lexer": "ipython3",
   "version": "3.5.2"
  }
 },
 "nbformat": 4,
 "nbformat_minor": 0
}
