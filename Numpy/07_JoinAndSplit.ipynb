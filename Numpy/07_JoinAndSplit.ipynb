{
 "cells": [
  {
   "cell_type": "markdown",
   "metadata": {},
   "source": [
    "# Table of Contents\n",
    "* [Learning Objectives:](#Learning-Objectives:)\n",
    "\t* [Some Simple Setup](#Some-Simple-Setup)\n",
    "* [Array Joining and Splitting](#Array-Joining-and-Splitting)\n",
    "\t* [Exercise I: Array Joining](#Exercise-I:-Array-Joining)\n"
   ]
  },
  {
   "cell_type": "markdown",
   "metadata": {},
   "source": [
    "# Learning Objectives:"
   ]
  },
  {
   "cell_type": "markdown",
   "metadata": {},
   "source": [
    "After completion of this module, learners should be able to:\n",
    "\n",
    "* create, manipulate, and examine numerical arrays with specified attributes (shape, join, split)"
   ]
  },
  {
   "cell_type": "markdown",
   "metadata": {},
   "source": [
    "## Some Simple Setup"
   ]
  },
  {
   "cell_type": "code",
   "execution_count": null,
   "metadata": {
    "collapsed": true
   },
   "outputs": [],
   "source": [
    "%matplotlib inline\n",
    "\n",
    "import numpy as np\n",
    "import matplotlib.pyplot as plt\n",
    "import os.path as osp\n",
    "import numpy.random as npr\n",
    "vsep = \"\\n-------------------\\n\"\n",
    "\n",
    "def dump_array(arr):\n",
    "    print(\"%s array of %s:\" % (arr.shape, arr.dtype))\n",
    "    print(arr)"
   ]
  },
  {
   "cell_type": "markdown",
   "metadata": {},
   "source": [
    "# Array Joining and Splitting"
   ]
  },
  {
   "cell_type": "markdown",
   "metadata": {},
   "source": [
    "Several functions for combining (concatenating) and splitting up arrays are free functions in the NumPy module.  The main functions (warning, these take a single tuple as their argument) are:\n",
    "\n",
    "  * `np.concatenate`\n",
    "  * `np.vstack`\n",
    "  * `np.column_stack`\n",
    "  * `np.hstack`\n",
    "  \n",
    "Combining arrays together is not ideal (because we have to reallocate memory — a slow operation). An alternative is to use Python lists (which append quickly on the right) until all (or sufficient) data is gathered and then convert to  NumPy array.\n",
    "  \n",
    "Note: If you find yourself constantly needing to restack vectors into 2-D arrays (when doing linear algebra), you may want to look at NumPy's `matrix` class. Essentially, matrices keep their 2-D shape throughout operations applied to them. They also define $*$ as matrix multiplication. (Note: In Python 3.5+, the operator $@$ is dedicated to matrix multiplication)."
   ]
  },
  {
   "cell_type": "code",
   "execution_count": null,
   "metadata": {
    "collapsed": false
   },
   "outputs": [],
   "source": [
    "joined = np.concatenate((np.array([1,2,3]),\n",
    "                         np.array([4,5,6]),\n",
    "                         np.array([7,8,9])))\n",
    "print(joined)"
   ]
  },
  {
   "cell_type": "code",
   "execution_count": null,
   "metadata": {
    "collapsed": false
   },
   "outputs": [],
   "source": [
    "arr1 = np.arange(4).reshape(2,2)\n",
    "arr2 = (np.arange(4).reshape(2,2) + 1) * 10\n",
    "print(\"arr1:\\n\", arr1, end=vsep)\n",
    "print(\"arr2:\\n\", arr2, end=vsep)\n",
    "print(\"elementwise addition:\\n\", arr1 + arr2, end=vsep)\n",
    "print(\"concatenate axis 0:\\n\", \n",
    "      np.concatenate((arr1, arr2), axis=0), end=vsep)\n",
    "print(\"concatenate axis 1:\\n\",\n",
    "      np.concatenate((arr1, arr2), axis=1))"
   ]
  },
  {
   "cell_type": "markdown",
   "metadata": {},
   "source": [
    "Note, for concatenation, all dimensions (except the dimension being concatenated) must have the same size."
   ]
  },
  {
   "cell_type": "code",
   "execution_count": null,
   "metadata": {
    "collapsed": false
   },
   "outputs": [],
   "source": [
    "arr1 = np.array([1,   2,  3])\n",
    "arr2 = np.array([11, 22, 33])\n",
    "\n",
    "# create a vertical stack\n",
    "print(\"vstack:\\n\", np.vstack((arr1, arr2)), end=vsep)\n",
    "\n",
    "# creates a column stack (horizontally)\n",
    "print(\"column_stack:\\n\", np.column_stack((arr1, arr2)), end=vsep)\n",
    "\n",
    "# compare np.column_stack with np.hstack()\n",
    "print(\"hstack (1D):\")\n",
    "# the 1-D arrays are not treated as columns\n",
    "print(np.hstack((arr1, arr2))) "
   ]
  },
  {
   "cell_type": "code",
   "execution_count": null,
   "metadata": {
    "collapsed": false
   },
   "outputs": [],
   "source": [
    "arr = np.vstack((arr1, arr2))\n",
    "print(\"original array:\\n\", arr, end=vsep)\n",
    "\n",
    "# concatenate with 1D, but ok if we have 2D things\n",
    "print(\"hstacking:\\n\", np.hstack((arr, arr)), end=vsep)\n",
    "print(\"vstacking:\\n\", np.vstack((arr, arr)))"
   ]
  }
 ],
 "metadata": {
  "continuum": {
   "depends": [
    "np_intro",
    "np_slicing",
    "ip_essentials",
    "ip_datatypes"
   ],
   "tag": "np_join"
  },
  "kernelspec": {
   "display_name": "Python 3",
   "language": "python",
   "name": "python3"
  },
  "language_info": {
   "codemirror_mode": {
    "name": "ipython",
    "version": 3
   },
   "file_extension": ".py",
   "mimetype": "text/x-python",
   "name": "python",
   "nbconvert_exporter": "python",
   "pygments_lexer": "ipython3",
   "version": "3.4.4"
  }
 },
 "nbformat": 4,
 "nbformat_minor": 0
}
