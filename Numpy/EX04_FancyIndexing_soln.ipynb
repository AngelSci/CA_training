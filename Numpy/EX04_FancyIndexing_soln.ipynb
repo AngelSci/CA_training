{
 "cells": [
  {
   "cell_type": "markdown",
   "metadata": {},
   "source": [
    "# Table of Contents\n",
    "* [Exercise: Numpy Fancy Indexing](#Exercise:-Numpy-Fancy-Indexing)\n",
    "\t* [Part 1: Subselection](#Part-1:-Subselection)\n",
    "\t* [Part 2: Conditional Indexing](#Part-2:-Conditional-Indexing)\n",
    "\t* [Part 3: Grid Operations](#Part-3:-Grid-Operations)\n",
    "\t* [Part 4: Columns again](#Part-4:-Columns-again)\n",
    "\t\t* [Part 4.1](#Part-4.1)\n",
    "\t\t* [Part 4.2](#Part-4.2)\n",
    "\t* [Part 5: Filtering](#Part-5:-Filtering)\n",
    "\t* [Part 6: Optional](#Part-6:-Optional)\n"
   ]
  },
  {
   "cell_type": "markdown",
   "metadata": {},
   "source": [
    "# Exercise: Numpy Fancy Indexing"
   ]
  },
  {
   "cell_type": "code",
   "execution_count": null,
   "metadata": {
    "collapsed": true
   },
   "outputs": [],
   "source": [
    "import numpy as np"
   ]
  },
  {
   "cell_type": "markdown",
   "metadata": {},
   "source": [
    "## Part 1: Subselection"
   ]
  },
  {
   "cell_type": "markdown",
   "metadata": {},
   "source": [
    "Generate an array of 66 random integers from 0 to 60.  \n",
    "  1. Determine what percent of them are even.  \n",
    "  1. Determine what percent of them are greater than 50."
   ]
  },
  {
   "cell_type": "code",
   "execution_count": null,
   "metadata": {
    "collapsed": false
   },
   "outputs": [],
   "source": [
    "# Solution 1: prep\n",
    "array = np.random.randint(0,60,66)\n",
    "array"
   ]
  },
  {
   "cell_type": "code",
   "execution_count": null,
   "metadata": {
    "collapsed": false
   },
   "outputs": [],
   "source": [
    "# Solution 1.1:\n",
    "\n",
    "evens = array[array%2==0]\n",
    "odds  = array[array%2==1]\n",
    "\n",
    "len(evens)/len(array)"
   ]
  },
  {
   "cell_type": "markdown",
   "metadata": {},
   "source": [
    "## Part 2: Conditional Indexing"
   ]
  },
  {
   "cell_type": "markdown",
   "metadata": {},
   "source": [
    "Suppose we wanted to compute the square roots of an array that could include negative values. To deal with this, we might define $sqrt(x)=0$ for $x<0$. Generate an array of random values from [-5, 5) and show how to do this."
   ]
  },
  {
   "cell_type": "code",
   "execution_count": null,
   "metadata": {
    "collapsed": false
   },
   "outputs": [],
   "source": [
    "# Solution 2: prep\n",
    "\n",
    "array = np.random.randint(-5,+5,100)\n",
    "array"
   ]
  },
  {
   "cell_type": "code",
   "execution_count": null,
   "metadata": {
    "collapsed": false
   },
   "outputs": [],
   "source": [
    "array[array<0] = 0\n",
    "sqrt_array = np.sqrt( array )\n",
    "sqrt_array"
   ]
  },
  {
   "cell_type": "markdown",
   "metadata": {},
   "source": [
    "## Part 3: Grid Operations"
   ]
  },
  {
   "cell_type": "markdown",
   "metadata": {},
   "source": [
    "Recall that the derivative of a function $f$ at $x$ can be defined as:\n",
    "\n",
    "$\\lim_{\\Delta h \\rightarrow 0} \\frac{f(x+\\Delta h) - f(x)}{\\Delta h}$.\n",
    "\n",
    "We can approximate this very quickly using NumPy.  Compute  a numerical derivative, $\\frac{y_{i+1}-y_{i}}{x_{i+1}-x_{i}}$, for:\n",
    "\n",
    "  * $f(x)=x+1$\n",
    "  * $f(x)=e^x$"
   ]
  },
  {
   "cell_type": "code",
   "execution_count": null,
   "metadata": {
    "collapsed": false
   },
   "outputs": [],
   "source": [
    "x = np.arange(1000)/10.0\n",
    "y1 = x + 1\n",
    "y2 = np.exp(x)\n",
    "dy1dx = np.diff(y1) / np.diff(x)\n",
    "dy2dx = np.diff(y2) / np.diff(x)"
   ]
  },
  {
   "cell_type": "code",
   "execution_count": null,
   "metadata": {
    "collapsed": false
   },
   "outputs": [],
   "source": [
    "import matplotlib.pyplot as plt\n",
    "%matplotlib inline\n",
    "plt.plot(x,y1)\n",
    "plt.plot(x,y2)\n",
    "\n",
    "plt.ylim(0,6)\n",
    "plt.xlim(0,6)"
   ]
  },
  {
   "cell_type": "code",
   "execution_count": null,
   "metadata": {
    "collapsed": false
   },
   "outputs": [],
   "source": [
    "import matplotlib.pyplot as plt\n",
    "%matplotlib inline\n",
    "plt.plot(x[:-1],dy1dx)\n",
    "plt.plot(x[:-1],dy2dx)\n",
    "\n",
    "plt.ylim(0,6)\n",
    "plt.xlim(0,6)"
   ]
  },
  {
   "cell_type": "markdown",
   "metadata": {},
   "source": [
    "## Part 4: Columns again"
   ]
  },
  {
   "cell_type": "markdown",
   "metadata": {},
   "source": [
    "We saw these two questions earlier.  Can you answer them now?  If you answered them before (nice work!), can you *explain* them now?\n",
    "\n",
    "1. In a test array (`2x4`), replace every row with a particular row (for example, 2, 4, 8, 16)?\n",
    "2. In a test array (`2x4`), replace every column with a particular column (for example, 1,3)?"
   ]
  },
  {
   "cell_type": "markdown",
   "metadata": {},
   "source": [
    "### Part 4.1"
   ]
  },
  {
   "cell_type": "code",
   "execution_count": null,
   "metadata": {
    "collapsed": false
   },
   "outputs": [],
   "source": [
    "# Solution 4.1\n",
    "# In a test array (2x4), replace every row with a particular row (for example, [2, 4, 8, 16])?\n",
    "\n",
    "array = np.arange(8).reshape(2,4)\n",
    "array"
   ]
  },
  {
   "cell_type": "code",
   "execution_count": null,
   "metadata": {
    "collapsed": false
   },
   "outputs": [],
   "source": [
    "array[:,:] = [2, 4, 8, 16]\n",
    "array"
   ]
  },
  {
   "cell_type": "markdown",
   "metadata": {},
   "source": [
    "### Part 4.2"
   ]
  },
  {
   "cell_type": "code",
   "execution_count": null,
   "metadata": {
    "collapsed": false
   },
   "outputs": [],
   "source": [
    "# Solution 4.2\n",
    "# In a test array (2x4), replace every column with a particular column (for example, 1,3)?\n",
    "array = np.arange(8).reshape(2,4)\n",
    "array"
   ]
  },
  {
   "cell_type": "code",
   "execution_count": null,
   "metadata": {
    "collapsed": false
   },
   "outputs": [],
   "source": [
    "for col in range(array.shape[1]):\n",
    "    array[:, col] = array[:,0]\n",
    "\n",
    "print(array)"
   ]
  },
  {
   "cell_type": "markdown",
   "metadata": {},
   "source": [
    "## Part 5: Filtering"
   ]
  },
  {
   "cell_type": "markdown",
   "metadata": {},
   "source": [
    "Let a = np.random.randint(0,10,10)\n",
    "  1. select the even numbers\n",
    "  1. select the odd numbers\n",
    "  1. select the values in the interval (4,7)"
   ]
  },
  {
   "cell_type": "code",
   "execution_count": null,
   "metadata": {
    "collapsed": false
   },
   "outputs": [],
   "source": [
    "# Solution 5\n",
    "# Let a = np.random.randint(0,10,10)\n",
    "\n",
    "# 5A: select the even numbers\n",
    "# 5B: select the odd numbers\n",
    "# 5C: select the values in the interval (4,7)\n",
    "\n",
    "np.random.seed(1234)\n",
    "array = np.random.randint(0,10,10)\n",
    "print(array)\n",
    "\n",
    "evens = array[array%2 == 0]\n",
    "odds = array[array%2 == 1]\n",
    "print(evens, odds, sep=\"   \")\n",
    "\n",
    "\n",
    "filtered1 = array[array<7]\n",
    "interval = filtered1[filtered1>4]\n",
    "print(interval)"
   ]
  },
  {
   "cell_type": "markdown",
   "metadata": {},
   "source": [
    "## Part 6: Optional"
   ]
  },
  {
   "cell_type": "markdown",
   "metadata": {},
   "source": [
    "In Matlab, if you index a like: `a[[1,2],[1,2]]`, you get a 2x2 cube made up of `[[a[1,1], a[1,2]], [a[2,1], a[2,2]]]`. \n",
    "\n",
    "If you do that in python, you get: `[a[1,1], a[2,2]]`.  \n",
    "\n",
    "Write a Python function, `matdex`, which takes a list of indexes, and returns a list of indexes, that when used to index a NumPy, will return the matlab style selection.  Note, this is either ridiculous or trivial, depending on how you solve it."
   ]
  },
  {
   "cell_type": "code",
   "execution_count": null,
   "metadata": {
    "collapsed": true
   },
   "outputs": [],
   "source": [
    "# Solution 6"
   ]
  }
 ],
 "metadata": {
  "continuum": {
   "depends": [
    "np_fancy",
    "np_intro",
    "np_slicing",
    "np_ex_fancy",
    "ip_essentials",
    "ip_datatypes",
    "ip_containers"
   ],
   "requires": [],
   "tag": "np_ex_fancy_soln"
  },
  "kernelspec": {
   "display_name": "Python 3",
   "language": "python",
   "name": "python3"
  },
  "language_info": {
   "codemirror_mode": {
    "name": "ipython",
    "version": 3
   },
   "file_extension": ".py",
   "mimetype": "text/x-python",
   "name": "python",
   "nbconvert_exporter": "python",
   "pygments_lexer": "ipython3",
   "version": "3.4.4"
  }
 },
 "nbformat": 4,
 "nbformat_minor": 0
}
