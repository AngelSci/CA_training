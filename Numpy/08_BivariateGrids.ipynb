{
 "cells": [
  {
   "cell_type": "markdown",
   "metadata": {},
   "source": [
    "# Table of Contents\n",
    "* [Learning Objectives:](#Learning-Objectives:)\n",
    "\t* [Some Simple Setup](#Some-Simple-Setup)\n",
    "* [Bivariate Grids](#Bivariate-Grids)\n",
    "* [`np.searchsorted`](#np.searchsorted)\n"
   ]
  },
  {
   "cell_type": "markdown",
   "metadata": {},
   "source": [
    "# Learning Objectives:"
   ]
  },
  {
   "cell_type": "markdown",
   "metadata": {},
   "source": [
    "After completion of this module, learners should be able to:\n",
    "\n",
    "* use the `meshgrid` method"
   ]
  },
  {
   "cell_type": "markdown",
   "metadata": {},
   "source": [
    "## Some Simple Setup"
   ]
  },
  {
   "cell_type": "code",
   "execution_count": null,
   "metadata": {
    "collapsed": true
   },
   "outputs": [],
   "source": [
    "%matplotlib inline\n",
    "\n",
    "import numpy as np\n",
    "import matplotlib.pyplot as plt\n",
    "import os.path as osp\n",
    "import numpy.random as npr\n",
    "vsep = \"\\n-------------------\\n\"\n",
    "\n",
    "def dump_array(arr):\n",
    "    print(\"%s array of %s:\" % (arr.shape, arr.dtype))\n",
    "    print(arr)"
   ]
  },
  {
   "cell_type": "markdown",
   "metadata": {},
   "source": [
    "# Bivariate Grids"
   ]
  },
  {
   "cell_type": "markdown",
   "metadata": {},
   "source": [
    "If you are working with functions of more than one variable, you may need to generate values over a 2-D (or higher) grid.  NumPy has some utilities to help in this case. `np.meshgrid` produces arrays of values that, when paired elementwise (or in higher dimensions), give the Cartesian product (all pairings) of the input values."
   ]
  },
  {
   "cell_type": "code",
   "execution_count": null,
   "metadata": {
    "collapsed": false
   },
   "outputs": [],
   "source": [
    "x = np.array([1,2,3])\n",
    "y = np.array([10,20])\n",
    "\n",
    "# xy-values like:  (1,10), (1,20), (2,10), (2,2), (3,10), (3,20)\n",
    "xx, yy = np.meshgrid(x, y) # note, x expanded across columns\n",
    "print(\"xx:\")\n",
    "dump_array(xx)\n",
    "print(\"yy:\")\n",
    "dump_array(yy)\n",
    "\n",
    "# pair xx, yy elementwise to get all possible (x,y)-values \n",
    "# from the two base grids\n",
    "print(\"\\nsum:\")\n",
    "zz = xx + yy\n",
    "print(zz)"
   ]
  },
  {
   "cell_type": "markdown",
   "metadata": {},
   "source": [
    "If we pass the xy-values around, we may wish to keep them together and de-tuple them at a later point."
   ]
  },
  {
   "cell_type": "code",
   "execution_count": null,
   "metadata": {
    "collapsed": false
   },
   "outputs": [],
   "source": [
    "def f(xys):\n",
    "    # compute value with xys\n",
    "    xs, ys = xys\n",
    "    return np.cos(xs) + np.sin(ys)\n",
    "\n",
    "xyargs = np.meshgrid(x,y)\n",
    "zz = f(xyargs)\n",
    "print(zz)"
   ]
  },
  {
   "cell_type": "markdown",
   "metadata": {},
   "source": [
    "Broadcasting (still to come in details) can achieve similar effects (the orientation of the result is slightly different here):"
   ]
  },
  {
   "cell_type": "code",
   "execution_count": null,
   "metadata": {
    "collapsed": false
   },
   "outputs": [],
   "source": [
    "# but note, we can also do this:\n",
    "x = np.array([1,2,3])\n",
    "y = np.array([10,20])\n",
    "# x -> row\n",
    "x2d, y2d = np.atleast_2d(x,y)\n",
    "print(\"shapes: \", x2d.shape, y2d.shape)\n",
    "\n",
    "x2d = x2d.T\n",
    "print(x2d + y2d) # uses broadcasting (more in the next section!)"
   ]
  },
  {
   "cell_type": "markdown",
   "metadata": {},
   "source": [
    "Often, we like to specify grids with slice notation, using `:`.  But we can't make a function call with a slice as an argument.  For example, this won't work in Python: `np.ogrid(1:4, 1:3)`.  So, there is a special NumPy object called `ogrid` that lets us directly specify grids with slices."
   ]
  },
  {
   "cell_type": "code",
   "execution_count": null,
   "metadata": {
    "collapsed": false
   },
   "outputs": [],
   "source": [
    "xx, yy = np.ogrid[1:4, 10:21:10] # upper point(s) not included\n",
    "print(\"xx:\")\n",
    "dump_array(xx)\n",
    "\n",
    "print(\"yy:\")\n",
    "dump_array(yy)\n",
    "\n",
    "print(\"\\nsum:\")\n",
    "zz = xx + yy\n",
    "print(zz)"
   ]
  },
  {
   "cell_type": "markdown",
   "metadata": {},
   "source": [
    "# `np.searchsorted`"
   ]
  },
  {
   "cell_type": "code",
   "execution_count": null,
   "metadata": {
    "collapsed": false
   },
   "outputs": [],
   "source": [
    "arr = np.concatenate([np.arange(1,6), \n",
    "                      np.arange(20,26), \n",
    "                      np.arange(50,55)])\n",
    "#values = [1]*3 + [2]*3 + 3*[3]\n",
    "#arr = np.array(values)\n",
    "print(arr, end=vsep)\n",
    "\n",
    "breakpts = np.searchsorted(arr, [5, 20, 30])\n",
    "print(\"breakpoints: \", breakpts)\n",
    "\n",
    "print(\"arr indexed by pairs of breakpoints\")\n",
    "print(arr[           :breakpts[0]])\n",
    "print(arr[breakpts[0]:breakpts[1]])\n",
    "print(arr[breakpts[1]:breakpts[2]])\n",
    "print(arr[breakpts[2]:           ])"
   ]
  }
 ],
 "metadata": {
  "continuum": {
   "depends": [
    "np_intro",
    "np_slicing",
    "np_vectorization",
    "ip_essentials",
    "ip_datatypes",
    "ip_functions"
   ],
   "tag": "np_bivariate"
  },
  "kernelspec": {
   "display_name": "Python 3",
   "language": "python",
   "name": "python3"
  },
  "language_info": {
   "codemirror_mode": {
    "name": "ipython",
    "version": 3
   },
   "file_extension": ".py",
   "mimetype": "text/x-python",
   "name": "python",
   "nbconvert_exporter": "python",
   "pygments_lexer": "ipython3",
   "version": "3.4.4"
  }
 },
 "nbformat": 4,
 "nbformat_minor": 0
}
