{
 "cells": [
  {
   "cell_type": "markdown",
   "metadata": {},
   "source": [
    "# Table of Contents\n",
    "* [This exercise is a continuation of the EX02 example in the Introduction material for Python classes](#This-exercise-is-a-continuation-of-the-EX02-example-in-the-Introduction-material-for-Python-classes)\n",
    "* [Here is the new PointND class](#Here-is-the-new-PointND-class)\n",
    "* [And here is the ```MarkovChain``` class](#And-here-is-the-MarkovChain-class)\n",
    "* [The problem](#The-problem)\n"
   ]
  },
  {
   "cell_type": "markdown",
   "metadata": {},
   "source": [
    "# This exercise is a continuation of the EX02 example in the Introduction material for Python classes"
   ]
  },
  {
   "cell_type": "markdown",
   "metadata": {},
   "source": [
    "In that example we set up a Point3D class to represent a point in 3-D space, and a Strategy class to help us simulate bacterial chemotaxis (the movement of a bacterium towards a favorable location in space by sensing gradients).\n",
    "\n",
    "Let's modify those classes as follows:\n",
    "\n",
    " 1. Change Point3D to represent a point in N-dimensional parameter space\n",
    " 2. Convert the ```Strategy``` class to a ```MarkovChain``` class (See also [https://en.wikipedia.org/wiki/Metropolis%E2%80%93Hastings_algorithm](https://en.wikipedia.org/wiki/Metropolis%E2%80%93Hastings_algorithm)).  (Markov chain sampling can be used to measure parameter uncertainty)\n",
    " 3. Use numpy throughout the classes to make it easy to have an N-dimensional space"
   ]
  },
  {
   "cell_type": "markdown",
   "metadata": {},
   "source": [
    "# Here is the new PointND class"
   ]
  },
  {
   "cell_type": "markdown",
   "metadata": {},
   "source": [
    "It takes initial points along with other arguments used for sampling the N-d space, including:\n",
    " \n",
    " * parameter mean\n",
    " * parameter covariance\n",
    " * minimum parameter bounds\n",
    " * maximum parameter bounds"
   ]
  },
  {
   "cell_type": "code",
   "execution_count": null,
   "metadata": {
    "collapsed": true
   },
   "outputs": [],
   "source": [
    "import numpy as np\n",
    "\n",
    "class PointND(object):\n",
    "    def __init__(self, coords, init_mean, init_cov, min_bound, max_bound):\n",
    "        '''PointND represents a point in N-d space that can be updated based on stats.\n",
    "        \n",
    "        Inputs:\n",
    "            coords is a numpy array representing initial coordinates in N-d space\n",
    "            init_mean: is a mean array as long as coords for use in sampling new parameters\n",
    "            init_cov: is a N x N covariance matrix for use in sampling new parameters\n",
    "            min_bound: is the lower limit of parameter feasibility (array of shape (N, ))\n",
    "            max_bound: is the upper limit parameter feasibility (array of shape (N,))\n",
    "        '''\n",
    "        self.coords = coords.copy()\n",
    "        self.cov = init_cov\n",
    "        self.mean = init_mean\n",
    "        self.min_bound = min_bound\n",
    "        self.max_bound = max_bound\n",
    "        \n",
    "    def _next_coords(self):\n",
    "        '''Generates new parameters but parameters may be \n",
    "        out of bounds.'''\n",
    "        return np.random.multivariate_normal(self.mean, self.cov)\n",
    "\n",
    "    def next_coords(self):\n",
    "        '''Calls the _next_coords method, ensures the new parameters\n",
    "        are within min_bound and max_bound, and calls p_value_func\n",
    "        for those parameters'''\n",
    "        new_coords = self._next_coords()\n",
    "        self.old_p_value = self.p_value\n",
    "        new_coords[new_coords > self.max_bound] = self.max_bound[new_coords > self.max_bound]\n",
    "        new_coords[new_coords < self.min_bound] = self.min_bound[new_coords < self.min_bound]\n",
    "        self.coords = new_coords\n",
    "        self.p_value_func()\n",
    "        \n",
    "    def p_value_func(self):\n",
    "        '''When this function is called, it should define self.model and self.p_value'''\n",
    "        raise NotImplementedError('Create this function in an inheriting class')"
   ]
  },
  {
   "cell_type": "markdown",
   "metadata": {},
   "source": [
    "# And here is the ```MarkovChain``` class"
   ]
  },
  {
   "cell_type": "markdown",
   "metadata": {},
   "source": [
    "To initialize it we give:\n",
    "\n",
    "* ```p_value_func```, a function that returns a tuple of (p_value, model) for a given parameter set (see ```def p_value_func``` below).\n",
    "* ```*args``` and  ```**kwargs```, which are mostly parameters passed to ```PointND```\n",
    "* ```kwargs['alpha_accept']```, the probability of accepting a solution with a higher (worse) p value than the previous step. If the step's p value is better than the previous step's p value, then always accept.  This ```kwarg``` is not passed to ```PointND```"
   ]
  },
  {
   "cell_type": "code",
   "execution_count": null,
   "metadata": {
    "collapsed": true
   },
   "outputs": [],
   "source": [
    "class MarkovChain(PointND):\n",
    "    default_alpha_accept = 0.3\n",
    "    def __init__(self, p_value_func, *args, **kwargs):\n",
    "        '''Initializes a Markov chain\n",
    "        \n",
    "        Inputs:\n",
    "        \n",
    "            p_value_func: a function called with self.coords as argument and returns \n",
    "            a tuple of (p_value, any_other_model_info_as_tuple)\n",
    "            *args: arguments to PointND\n",
    "            **kwargs: keyword arguments to PointND, as well as alpha_accept\n",
    "                alpha_accept: determines the probability of acceptance of less likely \n",
    "                parameters, e.g. 0.3 means that 30 percent of the time, a less likely \n",
    "                parameter set is included in path\n",
    "        '''\n",
    "        if 'alpha_accept' in kwargs:\n",
    "            self.alpha_accept = kwargs.pop('alpha_accept')\n",
    "        else:\n",
    "            self.alpha_accept = self.default_alpha_accept\n",
    "        super(MarkovChain, self).__init__(*args, **kwargs)\n",
    "        self._p_value_func = p_value_func\n",
    "        self.p_value_func()\n",
    "        self.old_p_value = self.p_value\n",
    "                \n",
    "    def p_value_func(self):\n",
    "        '''Calls the user-given p_value_func to __init__ and stores output at \n",
    "        self.p_value, self.model\n",
    "        '''\n",
    "        if hasattr(self, 'p_value'):\n",
    "            self.old_p_value = self.p_value\n",
    "        self.p_value, self.model = self._p_value_func(self.coords)\n",
    "         \n",
    "    def keep_this_trial(self):\n",
    "        '''Use this in a context where '''\n",
    "        if self.p_value < self.old_p_value:\n",
    "            return True\n",
    "        return np.random.uniform(0, 1) < self.alpha_accept\n",
    "    \n",
    "    def make_path(self, *args, **kwargs):\n",
    "        \"\"\"This should initialize a list or numpy array that will be the Markov chain\n",
    "        path.  Then it should step num_steps times and keep the trace of the Markov chain.\n",
    "        \"\"\"\n",
    "        raise NotImplementedError('Write this function in inheriting class')"
   ]
  },
  {
   "cell_type": "markdown",
   "metadata": {},
   "source": [
    "# The problem"
   ]
  },
  {
   "cell_type": "markdown",
   "metadata": {},
   "source": [
    "* Make a class called ```MarkovChainPaths``` that inherits from ```MarkovChain```.\n",
    " 1. Implement the ```make_path``` method in ```MarkovChainPaths```.  The ```make_path``` method should:\n",
    "   * Provide some arguments for controlling the number of steps to take\n",
    "   * Initialize numpy arrays for storing the model ```self.coords```, ```self.model``` and ```self.p_value``` attributes on each accepted step. Note that ```self.p_value``` is a scalar; ```self.model``` has a length of 4 in the example; and ```self.coords``` has the length of ```init_coords``` passed into ```__init__```\n",
    "   * Probably use ```self.keep_this_trial()``` do decide whether to keep the new point in the path.  \n",
    " 2. Extra challenge A: In your implementation of ```make_path```, have it also accept a ```burn_in``` integer argument that will have the effect not storing the first ```burn_in``` accepted solutions in the path.   This is a means of initializing the Markov chain.\n",
    " 3. Extra challenge B: provide a way of updating the ```cov``` (coords' covariance) and ```mean``` (coords' mean) attributes based on accepted solutions along the path.  Updating those will change the generation of new ```coords```.  This is known as an adaptive Markov chain.\n",
    "   * Probably the ```mean``` and ```cov``` would be updated periodically and you would have to check to see if the path meets some minimum length for redoing the statistics used for sampling.  \n",
    "   * In the example below, the ```__init__``` takes an ```update_cov_mod``` keyword argument and stores it in ```self.update_cov_mod```.  Make ```update_cov_mod``` be an integer keyword argument that determines the frequency at which the covariance and mean are updated during the path evolution, e.g. ```if accepted_solutions % self.update_cov_mod == 0:```.  \n",
    "   * Look at the documentation for ```np.cov``` and ```np.mean``` if you are unsure."
   ]
  },
  {
   "cell_type": "code",
   "execution_count": null,
   "metadata": {
    "collapsed": true
   },
   "outputs": [],
   "source": [
    "class MarkovChainPaths(MarkovChain):\n",
    "    def __init__(self, *args, **kwargs):\n",
    "        '''MarkovChainPaths class to be updated.  Inherits from MarkovChain\n",
    "        Inputs:\n",
    "           *args: arguments passed to MarkovChain\n",
    "           **kwargs: keyword arguments passed to MarkovChain, as well as:\n",
    "               update_cov_mod: optional keyword that could be used to control\n",
    "                   updating the covariance and mean used in sampling parameters.\n",
    "        '''\n",
    "        if 'update_cov_mod' in kwargs:\n",
    "            self.update_cov_mod = kwargs.pop('update_cov_mod')\n",
    "        else:\n",
    "            self.update_cov_mod = None\n",
    "        super(MarkovChainPaths, self).__init__(*args, **kwargs)\n",
    "            \n",
    "    def __len__(self):\n",
    "        '''Requires _idx to be updated as arrays are filled out'''\n",
    "        return getattr(self, '_idx', 0)\n",
    "    \n",
    "    def _append_to_path(self):\n",
    "        '''Private method to advance the _idx used by __len__\n",
    "        and store the current step's output in path, path_coords, model_fit_path arrays'''\n",
    "        idx = len(self)\n",
    "        self.path[idx] = self.p_value\n",
    "        self.path_coords[idx, :] = self.coords\n",
    "        self.model_fit_path[idx, :] = self.model\n",
    "        self._idx = idx + 1\n",
    "        \n",
    "    def update_cov_mean(self):\n",
    "        '''Updates the covariance and mean used in generation of new parameters'''\n",
    "        if self.update_cov_mod is not None:              # if parameter was given\n",
    "            if self.accepted % self.update_cov_mod == 0: # if we are at update step\n",
    "                if len(self) >= self.update_cov_mod:     # if not the zero-th step:\n",
    "                    # make sure cov is N x N (N = num parameters)\n",
    "                    self.cov = np.cov(self.path_coords[:len(self)].T) \n",
    "                    # make sure mean is N long\n",
    "                    self.mean = np.mean(self.path_coords[:len(self)],axis=0)\n",
    "                    \n",
    "    def make_path(self, num_accepted=1000, burn_in=500):\n",
    "        '''make_path makes a Markov chain path\n",
    "        \n",
    "        Inputs:\n",
    "            num_accepted: Simulate a path until num_accepted parameter sets \n",
    "                          have been accepted\n",
    "            burn_in: Do not accumulate the first burn_in number of parameter sets \n",
    "                     (initialization)\n",
    "        '''\n",
    "        siz = num_accepted - burn_in\n",
    "        self.path = np.empty(siz)\n",
    "        self.path_coords = np.empty((siz, self.coords.size))\n",
    "        self.model_fit_path = np.empty((siz, len(self.model)))\n",
    "        if burn_in == 0:\n",
    "            self._append_to_path()\n",
    "        self.accepted = len(self)\n",
    "        while len(self) < siz:\n",
    "            self.next_coords()\n",
    "            if self.keep_this_trial():\n",
    "                if self.accepted >= burn_in:\n",
    "                    self._append_to_path()\n",
    "                    self.update_cov_mean()\n",
    "                self.accepted += 1"
   ]
  },
  {
   "cell_type": "code",
   "execution_count": null,
   "metadata": {
    "collapsed": false
   },
   "outputs": [],
   "source": [
    "import numpy as np\n",
    "from scipy import stats\n",
    "\n",
    "lenn = 101\n",
    "t = np.linspace(0, 100.0, lenn)\n",
    "a,b,c = 5.0, 1.0, 2.0\n",
    "real_series = a * t ** 3 + b * t + c + np.random.uniform(-.2*b, .2 * b, lenn)\n",
    "\n",
    "def p_value_func(coords):\n",
    "    guess = coords[0] * t ** 3 + coords[1] * t + coords[2]\n",
    "    slope, intercept, r_value, p_value, std_err = stats.linregress(real_series, guess)\n",
    "    return p_value, (slope, intercept, r_value, std_err)\n",
    "\n",
    "\n",
    "\n",
    "init_coords = np.array([4.0,1.5, 1.0])\n",
    "init_covariance = [[5.0] * 3] * 3\n",
    "min_bound = np.array([0., 0., 0.])\n",
    "max_bound = np.array([10.0, 2.0, 4.0])\n",
    "markov = MarkovChainPaths(p_value_func, init_coords, init_coords, init_covariance,\n",
    "                         min_bound, max_bound,alpha_accept=0.3,\n",
    "                         update_cov_mod=100)\n",
    "# then call markov.make_path with your arguments:\n",
    "markov.make_path(num_accepted=10000, burn_in=9500)"
   ]
  },
  {
   "cell_type": "code",
   "execution_count": null,
   "metadata": {
    "collapsed": false
   },
   "outputs": [],
   "source": [
    "%matplotlib inline\n",
    "import matplotlib.pyplot as plt\n",
    "for column in range(init_coords.size):\n",
    "    fig = plt.figure()\n",
    "    ax = fig.gca()\n",
    "    ax.hist(markov.path_coords[:,column])"
   ]
  }
 ],
 "metadata": {
  "continuum": {
   "depends": [
    "np_intro",
    "np_slicing",
    "np_vectorization",
    "np_fancy",
    "np_ex_markov",
    "ip_essentials",
    "ip_datatypes",
    "ip_containers",
    "ip_functions",
    "adv_classes",
    "ip_specialfuncs"
   ],
   "requires": [],
   "tag": "np_ex_markov_soln"
  },
  "kernelspec": {
   "display_name": "Python 3",
   "language": "python",
   "name": "python3"
  },
  "language_info": {
   "codemirror_mode": {
    "name": "ipython",
    "version": 3
   },
   "file_extension": ".py",
   "mimetype": "text/x-python",
   "name": "python",
   "nbconvert_exporter": "python",
   "pygments_lexer": "ipython3",
   "version": "3.4.4"
  }
 },
 "nbformat": 4,
 "nbformat_minor": 0
}
