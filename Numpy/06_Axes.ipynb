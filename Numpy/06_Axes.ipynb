{
 "cells": [
  {
   "cell_type": "markdown",
   "metadata": {},
   "source": [
    "# Table of Contents\n",
    "* [Learning Objectives:](#Learning-Objectives:)\n",
    "* [Setup](#Setup)\n",
    "* [Axis](#Axis)\n",
    "* [Tile](#Tile)\n",
    "* [Rows and Columns](#Rows-and-Columns)\n"
   ]
  },
  {
   "cell_type": "markdown",
   "metadata": {},
   "source": [
    "# Learning Objectives:"
   ]
  },
  {
   "cell_type": "markdown",
   "metadata": {},
   "source": [
    "After completion of this module, learners should be able to:\n",
    "\n",
    "* create, manipulate, and examine numerical arrays with specified attributes (axes)"
   ]
  },
  {
   "cell_type": "markdown",
   "metadata": {},
   "source": [
    "# Set-up"
   ]
  },
  {
   "cell_type": "code",
   "execution_count": null,
   "metadata": {
    "collapsed": true
   },
   "outputs": [],
   "source": [
    "%matplotlib inline\n",
    "\n",
    "import numpy as np\n",
    "import matplotlib.pyplot as plt\n",
    "import os.path as osp\n",
    "import numpy.random as npr\n",
    "vsep = \"\\n-------------------\\n\"\n",
    "\n",
    "def dump_array(arr):\n",
    "    print(\"%s array of %s:\" % (arr.shape, arr.dtype))\n",
    "    print(arr)"
   ]
  },
  {
   "cell_type": "markdown",
   "metadata": {},
   "source": [
    "# Axis"
   ]
  },
  {
   "cell_type": "markdown",
   "metadata": {},
   "source": [
    "Methods that reduce the information in (or summarize) an array (such as *sum*) take an optional parameter called *axis* which specifies the dimension over which to perform a reduction.\n",
    "\n",
    "* *axis=None*, the default, reduces overall dimensions\n",
    "* *axis=0* reduces over the outermost/zeroth dimension\n",
    "  * if we think about this dimension as the rows, we can imagine that it produces a new row\n",
    "* *axis=1* reduces over the first dimension\n",
    "  * if we think about this dimension as the columns, we can imagine that it produces a new column\n",
    "    \n",
    "![](img/axis.none.lightbg.scaled-noalpha.png)\n",
    "\n",
    "![](img/axis.0.lightbg.scaled-noalpha.png)\n",
    "\n",
    "![](files/img/axis.1.lightbg.scaled-noalpha.png)"
   ]
  },
  {
   "cell_type": "code",
   "execution_count": null,
   "metadata": {
    "collapsed": false
   },
   "outputs": [],
   "source": [
    "arr = np.arange(15).reshape(3,5)\n",
    "dump_array(arr)\n",
    "\n",
    "print(vsep)\n",
    "grandSum = arr.sum()\n",
    "colSums  = arr.sum(axis=0)\n",
    "rowSums  = arr.sum(axis=1)\n",
    "\n",
    "print(\"grandSum:\", grandSum)\n",
    "print(\"colSums (a new pseudo-row):\", colSums, colSums.shape)\n",
    "print(\"rowSums (a new pseudo-col):\", rowSums, rowSums.shape)"
   ]
  },
  {
   "cell_type": "markdown",
   "metadata": {},
   "source": [
    "# Tile"
   ]
  },
  {
   "cell_type": "markdown",
   "metadata": {},
   "source": [
    "One other array creator, `np.tile`, rewards careful examination of some examples.  We'll use the following `arr` as our base array."
   ]
  },
  {
   "cell_type": "code",
   "execution_count": null,
   "metadata": {
    "collapsed": false
   },
   "outputs": [],
   "source": [
    "arr = np.arange(1,5).reshape(2,2)\n",
    "dump_array(arr)"
   ]
  },
  {
   "cell_type": "markdown",
   "metadata": {},
   "source": [
    "Tiling over one axis appends \"tiles\" of data on the ends of the rows."
   ]
  },
  {
   "cell_type": "code",
   "execution_count": null,
   "metadata": {
    "collapsed": false
   },
   "outputs": [],
   "source": [
    "print(np.tile(arr,1), end=vsep)\n",
    "print(np.tile(arr,2), end=vsep)\n",
    "print(np.tile(arr,4))"
   ]
  },
  {
   "cell_type": "code",
   "execution_count": null,
   "metadata": {
    "collapsed": false
   },
   "outputs": [],
   "source": [
    "mytile = np.tile(arr, 4)\n",
    "mytile.flags"
   ]
  },
  {
   "cell_type": "markdown",
   "metadata": {},
   "source": [
    "Tiling over multipled dimensions creates tiles (of the original) in the specified shape."
   ]
  },
  {
   "cell_type": "code",
   "execution_count": null,
   "metadata": {
    "collapsed": false
   },
   "outputs": [],
   "source": [
    "print(\"with a (2,2) inner\")\n",
    "print(\"... and a (2,1) outer\")\n",
    "print(np.tile(arr, (2,1))) # 2x1 tileing of a 2x2 array\n",
    "print(\"... and a (1,2) outer\")\n",
    "print(np.tile(arr, (1,2))) # 1x2 tileing of a 2x2 array\n",
    "print(\"... and a (2,2) outer\")\n",
    "print(np.tile(arr, (2,2))) # 2x2 tileing of a 2x2 array"
   ]
  },
  {
   "cell_type": "markdown",
   "metadata": {},
   "source": [
    "Things get slightly different in more dimensions, especially when the dimensions of the tile and the tiling differ.  The tile is first expanded to the same number of dimensions as the tiling."
   ]
  },
  {
   "cell_type": "code",
   "execution_count": null,
   "metadata": {
    "collapsed": false
   },
   "outputs": [],
   "source": [
    "# original 2x2 promoted to 1x2x2 ... then used for 3x1x1 tiling\n",
    "print(np.tile(arr, (3,1,1)))"
   ]
  },
  {
   "cell_type": "code",
   "execution_count": null,
   "metadata": {
    "collapsed": false
   },
   "outputs": [],
   "source": [
    "print(np.tile(arr, (1,1,3)))"
   ]
  },
  {
   "cell_type": "markdown",
   "metadata": {},
   "source": [
    "# Rows and Columns"
   ]
  },
  {
   "cell_type": "markdown",
   "metadata": {},
   "source": [
    "As mentioned earlier, in greater than two dimensions, you need to be very careful thinking in terms of \"rows and columns\".  Specifically, in the string representation of a 3-D array, the outermost dimension is no longer the visual rows; it's the different panels. Thus, for sums over different axes, we might talk about:\n",
    "\n",
    "|sum(axis=?)|over which dim?|visual element|added elements|\n",
    "|-----------|---------------|--------------|--------------|\n",
    "|axis=0|outer-most|across panels|[1+1+1, 2+2+2, ...]|\n",
    "|axis=1|middle    |across colums|[1+4+7, 2+5+8, ...]|\n",
    "|axis=2|inner-most|across rows|[1+2+3, 4+5+6, ...]|"
   ]
  },
  {
   "cell_type": "code",
   "execution_count": null,
   "metadata": {
    "collapsed": false
   },
   "outputs": [],
   "source": [
    "arr = np.tile(np.arange(1,10).reshape(3,3), (3,1,1))\n",
    "print(arr)"
   ]
  },
  {
   "cell_type": "code",
   "execution_count": null,
   "metadata": {
    "collapsed": false
   },
   "outputs": [],
   "source": [
    "print(\"axis=0\")\n",
    "print(arr.sum(axis=0), end=vsep)\n",
    "\n",
    "print(\"axis=1\")\n",
    "print(arr.sum(axis=1), end=vsep)\n",
    "\n",
    "print(\"axis=2\")\n",
    "print(arr.sum(axis=2), end=vsep)\n",
    "\n",
    "print(\"shapes: \", arr.sum(axis=0).shape, \n",
    "                  arr.sum(axis=1).shape, \n",
    "                  arr.sum(axis=2).shape)"
   ]
  }
 ],
 "metadata": {
  "continuum": {
   "depends": [
    "np_intro",
    "np_slicing",
    "np_vectorization",
    "ip_essentials",
    "ip_datatypes"
   ],
   "requires": [
    "img/axis.0.lightbg.scaled-noalpha.png",
    "img/axis.1.lightbg.scaled-noalpha.png",
    "img/axis.none.lightbg.scaled-noalpha.png"
   ],
   "tag": "np_axes"
  },
  "kernelspec": {
   "display_name": "Python 3",
   "language": "python",
   "name": "python3"
  },
  "language_info": {
   "codemirror_mode": {
    "name": "ipython",
    "version": 3
   },
   "file_extension": ".py",
   "mimetype": "text/x-python",
   "name": "python",
   "nbconvert_exporter": "python",
   "pygments_lexer": "ipython3",
   "version": "3.4.4"
  }
 },
 "nbformat": 4,
 "nbformat_minor": 0
}
