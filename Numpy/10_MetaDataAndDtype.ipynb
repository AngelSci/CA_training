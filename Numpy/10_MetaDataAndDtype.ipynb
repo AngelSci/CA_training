{
 "cells": [
  {
   "cell_type": "markdown",
   "metadata": {},
   "source": [
    "# Table of Contents\n",
    "* [Learning Objectives:](#Learning-Objectives:)\n",
    "\t* [Some Simple Setup](#Some-Simple-Setup)\n",
    "* [Array Meta-data and *dtype*](#Array-Meta-data-and-*dtype*)\n"
   ]
  },
  {
   "cell_type": "markdown",
   "metadata": {},
   "source": [
    "# Learning Objectives:"
   ]
  },
  {
   "cell_type": "markdown",
   "metadata": {},
   "source": [
    "After completion of this module, learners should be able to:\n",
    "\n",
    "* understanding of metadata and dtype in Numpy arrays"
   ]
  },
  {
   "cell_type": "markdown",
   "metadata": {},
   "source": [
    "## Some Simple Setup"
   ]
  },
  {
   "cell_type": "code",
   "execution_count": null,
   "metadata": {
    "collapsed": true
   },
   "outputs": [],
   "source": [
    "%matplotlib inline\n",
    "\n",
    "import numpy as np\n",
    "import matplotlib.pyplot as plt\n",
    "import os.path as osp\n",
    "import numpy.random as npr\n",
    "vsep = \"\\n-------------------\\n\"\n",
    "\n",
    "def dump_array(arr):\n",
    "    print(\"%s array of %s:\" % (arr.shape, arr.dtype))\n",
    "    print(arr)"
   ]
  },
  {
   "cell_type": "markdown",
   "metadata": {},
   "source": [
    "# Array Meta-data and *dtype*"
   ]
  },
  {
   "cell_type": "markdown",
   "metadata": {},
   "source": [
    "Internally, NumPy arrays look like this:\n",
    "\n",
    "<center>\n",
    "![](img/memory.lightbg.scaled-noalpha.png)\n",
    "</center>\n",
    "\n",
    "Individual elements (scalars) have lightweight wrappers around them that treat them as single-element arrays."
   ]
  },
  {
   "cell_type": "code",
   "execution_count": null,
   "metadata": {
    "collapsed": false
   },
   "outputs": [],
   "source": [
    "# arrays have several pieces of meta-data, driven in part by the dtype of the array\n",
    "def dump_arrayInfo(arr):\n",
    "    print(\"%15s: %s\" % (\"shape\", arr.shape))\n",
    "    print(\"%15s: %s\" % (\"dtype\", arr.dtype))\n",
    "    print(\"%15s: %s\" % (\"size\", arr.size))\n",
    "    print(\"%15s: %s\" % (\"itemsize\", arr.itemsize))\n",
    "    print(\"%15s: %s\" % (\"size * itemsize\", arr.size * arr.itemsize))\n",
    "    \n",
    "arr = np.arange(10)\n",
    "dump_array(arr)\n",
    "print(vsep)\n",
    "dump_arrayInfo(arr)"
   ]
  },
  {
   "cell_type": "code",
   "execution_count": null,
   "metadata": {
    "collapsed": false
   },
   "outputs": [],
   "source": [
    "arr = np.arange(10.0).reshape(5,2)\n",
    "dump_arrayInfo(arr)"
   ]
  },
  {
   "cell_type": "markdown",
   "metadata": {},
   "source": [
    "And the *dtype* itself can be queried for information:"
   ]
  },
  {
   "cell_type": "code",
   "execution_count": null,
   "metadata": {
    "collapsed": false
   },
   "outputs": [],
   "source": [
    "def dumpDtypeInfo(dt):\n",
    "    print(\"%15s: %s\" % (\"name\", dt.name))\n",
    "    print(\"%15s: %s\" % (\"byteorder\", dt.byteorder))\n",
    "    print(\"%15s: %s\" % (\"itemsize\",  dt.itemsize))\n",
    "    print(\"%15s: %s\" % (\"type\", dt.type))\n",
    "\n",
    "dumpDtypeInfo(arr.dtype)"
   ]
  },
  {
   "cell_type": "markdown",
   "metadata": {},
   "source": [
    "Usually, we can get the right *dtype* through inference:"
   ]
  },
  {
   "cell_type": "code",
   "execution_count": null,
   "metadata": {
    "collapsed": false
   },
   "outputs": [],
   "source": [
    "arr1 = np.array([1,2,3])\n",
    "arr2 = np.array([1, 2, 3.14150])\n",
    "\n",
    "print(\"arr1 type: \", arr1.dtype)\n",
    "print(\"arr2 type: \", arr2.dtype)"
   ]
  },
  {
   "cell_type": "code",
   "execution_count": null,
   "metadata": {
    "collapsed": false
   },
   "outputs": [],
   "source": [
    "x = np.zeros(10, dtype=np.longdouble)\n",
    "x"
   ]
  },
  {
   "cell_type": "markdown",
   "metadata": {},
   "source": [
    "We can also manually specify a *dtype* in many array creation routines"
   ]
  },
  {
   "cell_type": "code",
   "execution_count": null,
   "metadata": {
    "collapsed": false
   },
   "outputs": [],
   "source": [
    "arr1 = np.array([1,2,3], dtype=np.float32)\n",
    "dump_array(arr1)"
   ]
  },
  {
   "cell_type": "markdown",
   "metadata": {},
   "source": [
    "And we can convert *dtype*s with `array.astype`"
   ]
  },
  {
   "cell_type": "code",
   "execution_count": null,
   "metadata": {
    "collapsed": false
   },
   "outputs": [],
   "source": [
    "arr = np.arange(10)\n",
    "dump_array(arr)\n",
    "\n",
    "converted = arr.astype(np.float_)\n",
    "print(\"\\nafter converting types:\")\n",
    "dump_array(converted)"
   ]
  },
  {
   "cell_type": "markdown",
   "metadata": {},
   "source": [
    "<img src=\"img/mef_numpy_dtype_hierarchy.png\" width=\"400px\"/>"
   ]
  },
  {
   "cell_type": "markdown",
   "metadata": {},
   "source": [
    "One other set of information about `array`s comes from the `flags` attribute."
   ]
  },
  {
   "cell_type": "code",
   "execution_count": null,
   "metadata": {
    "collapsed": false
   },
   "outputs": [],
   "source": [
    "arr = np.arange(10)\n",
    "print(arr.flags)"
   ]
  },
  {
   "cell_type": "code",
   "execution_count": null,
   "metadata": {
    "collapsed": false
   },
   "outputs": [],
   "source": [
    "x = np.zeros(10, dtype=int)\n",
    "x[0] = 3.1\n",
    "x"
   ]
  },
  {
   "cell_type": "markdown",
   "metadata": {},
   "source": [
    "When a NumPy array is sliced, the slice is created with *new* dtype, shape, and stride information.  However, the underlying data is referenced (not copied).  We can determine if an array *owns* its own data via its *array.flags.owndata* attribute."
   ]
  },
  {
   "cell_type": "code",
   "execution_count": null,
   "metadata": {
    "collapsed": false
   },
   "outputs": [],
   "source": [
    "arr1 = np.arange(10)\n",
    "arr2 = arr1[3:7]\n",
    "\n",
    "print(\"arr1 owndata: \", arr1.flags.owndata)\n",
    "print(\"arr2 owndata: \", arr2.flags.owndata)\n",
    "\n",
    "# and what will happen if we write into arr2?\n",
    "arr2[:] = 0\n",
    "print(\"arr1 (after assigning into arr2):\", arr1)\n",
    "\n",
    "arr3 = arr1.copy()\n",
    "print(\"arr3 owndata: \", arr3.flags.owndata)"
   ]
  }
 ],
 "metadata": {
  "continuum": {
   "depends": [
    "np_intro",
    "np_slicing",
    "ip_essentials",
    "ip_datatypes",
    "ip_functions"
   ],
   "requires": [
    "img/mef_numpy_dtype_hierarchy.png",
    "img/memory.lightbg.scaled-noalpha.png"
   ],
   "tag": "np_metadata"
  },
  "kernelspec": {
   "display_name": "Python 3",
   "language": "python",
   "name": "python3"
  },
  "language_info": {
   "codemirror_mode": {
    "name": "ipython",
    "version": 3
   },
   "file_extension": ".py",
   "mimetype": "text/x-python",
   "name": "python",
   "nbconvert_exporter": "python",
   "pygments_lexer": "ipython3",
   "version": "3.4.4"
  }
 },
 "nbformat": 4,
 "nbformat_minor": 0
}
