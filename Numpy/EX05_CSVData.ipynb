{
 "cells": [
  {
   "cell_type": "markdown",
   "metadata": {},
   "source": [
    "# Table of Contents\n",
    "* [Learning Objectives:](#Learning-Objectives:)\n",
    "* [Exercise:  Data I/O](#Exercise:--Data-I/O)\n",
    "\t* [Some Simple Setup](#Some-Simple-Setup)\n",
    "\t* [CSV Data](#CSV-Data)\n"
   ]
  },
  {
   "cell_type": "markdown",
   "metadata": {},
   "source": [
    "# Learning Objectives:"
   ]
  },
  {
   "cell_type": "markdown",
   "metadata": {},
   "source": [
    "After completion of this module, learners should be able to:\n",
    "\n",
    "* import data from a comma-separated values (CSV) file directly into a `numpy` ndarray"
   ]
  },
  {
   "cell_type": "markdown",
   "metadata": {},
   "source": [
    "# Exercise:  Data I/O"
   ]
  },
  {
   "cell_type": "markdown",
   "metadata": {},
   "source": [
    "## Some Simple Setup"
   ]
  },
  {
   "cell_type": "code",
   "execution_count": null,
   "metadata": {
    "collapsed": true
   },
   "outputs": [],
   "source": [
    "%matplotlib inline\n",
    "\n",
    "import numpy as np\n",
    "import matplotlib.pyplot as plt\n",
    "import os.path as osp\n",
    "import numpy.random as npr\n",
    "vsep = \"\\n-------------------\\n\"\n",
    "\n",
    "def dump_array(arr):\n",
    "    print(\"%s array of %s:\" % (arr.shape, arr.dtype))\n",
    "    print(arr)"
   ]
  },
  {
   "cell_type": "markdown",
   "metadata": {},
   "source": [
    "## CSV Data"
   ]
  },
  {
   "cell_type": "markdown",
   "metadata": {
    "solutions": {
     "ex1": [
      "stock_dtype = [('date', 'datetime64[D]'),",
      "                ('open', np.float),",
      "                ('high', np.float),",
      "                ('low', np.float),",
      "                ('close', np.float),",
      "                ('vol', np.int),",
      "                ('adj_close', np.float)]",
      "stock_data = np.loadtxt('GE.csv',",
      "                        skiprows=1,",
      "                        delimiter=',',",
      "                        dtype=stock_dtype,",
      "                        converters = {0: np.datetime64})",
      "data = stock_data[100:150]",
      "print(data['high'].max())",
      "print(data['low'].min())",
      "plt.plot(data['date'], data['low']);",
      "plt.plot(data['date'], data['high']);"
     ]
    }
   },
   "source": [
    "Using the code snippet below to grab some stock market data from Yahoo, read the data into an array of appropriately structured records.  The data grabbed is for all of 2013.  Find the highest high and the lowest low for your ticker symbol.  For extra credit, graph the daily closes.\n",
    "\n",
    "Use `help(np.genfromtxt)` or `help(np.recfromcsv)` to get the correct arguments to read the data correctly."
   ]
  },
  {
   "cell_type": "code",
   "execution_count": null,
   "metadata": {
    "collapsed": false
   },
   "outputs": [],
   "source": [
    "try:\n",
    "    from urllib.request import urlretrieve\n",
    "except ImportError:\n",
    "    from urllib import urlretrieve # Python 2.7\n",
    "sym = \"GE\"\n",
    "\n",
    "base_url = \"http://ichart.finance.yahoo.com/table.csv?\"\n",
    "url_args = \"s=%s&d=11&e=31&f=2013&g=d&a=0&b=2&c=2013&ignore=.csv\"\n",
    "quote_url = base_url + url_args\n",
    "\n",
    "urlretrieve(quote_url % sym, \"tmp/\"+sym+\".csv\")"
   ]
  },
  {
   "cell_type": "code",
   "execution_count": null,
   "metadata": {
    "collapsed": false
   },
   "outputs": [],
   "source": [
    "# note, on unix-heritage boxes, you can use head and tail \n",
    "# to glance at the data\n",
    "!head -5 tmp/GE.csv\n",
    "print(\"...\")\n",
    "!tail -5 tmp/GE.csv"
   ]
  }
 ],
 "metadata": {
  "continuum": {
   "depends": [
    "np_intro",
    "np_slicing",
    "np_vectorization",
    "ip_essentials",
    "ip_datatypes",
    "ip_containers",
    "ip_functions"
   ],
   "tag": "np_ex_csvdata"
  },
  "kernelspec": {
   "display_name": "Python 2",
   "language": "python",
   "name": "python2"
  },
  "language_info": {
   "codemirror_mode": {
    "name": "ipython",
    "version": 2
   },
   "file_extension": ".py",
   "mimetype": "text/x-python",
   "name": "python",
   "nbconvert_exporter": "python",
   "pygments_lexer": "ipython2",
   "version": "2.7.11"
  }
 },
 "nbformat": 4,
 "nbformat_minor": 0
}
