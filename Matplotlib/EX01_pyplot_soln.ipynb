{
 "cells": [
  {
   "cell_type": "markdown",
   "metadata": {},
   "source": [
    "# Table of Contents\n",
    "* [Exercise: pyplot](#Exercise:-pyplot)\n"
   ]
  },
  {
   "cell_type": "markdown",
   "metadata": {},
   "source": [
    "# Exercise: pyplot"
   ]
  },
  {
   "cell_type": "markdown",
   "metadata": {},
   "source": [
    "Read the `data/unemployment1948.csv` file into a Pandas data frame being careful to set an appropriate index. This is US unemployment rate for every month, and the annual rate, from 1948 to 2013.\n",
    "\n",
    "Plot the Jan, Apr, Jul, and Oct unemployment rates along with the annual unemployment rates in one figure. Consult the [Plot documentation](http://matplotlib.org/api/pyplot_api.html#matplotlib.pyplot.plot) to use the `color=`, `linestyle=`, `linewidth=` and `marker=` keyword arguments to make the plot."
   ]
  },
  {
   "cell_type": "code",
   "execution_count": null,
   "metadata": {
    "collapsed": true
   },
   "outputs": [],
   "source": [
    "import pandas as pd\n",
    "import matplotlib.pyplot as plt\n",
    "%matplotlib inline"
   ]
  },
  {
   "cell_type": "code",
   "execution_count": null,
   "metadata": {
    "collapsed": false
   },
   "outputs": [],
   "source": [
    "unemployment = pd.read_csv('data/unemployment1948.csv', index_col='Year')\n",
    "unemployment.head()"
   ]
  },
  {
   "cell_type": "code",
   "execution_count": null,
   "metadata": {
    "collapsed": false
   },
   "outputs": [],
   "source": [
    "plt.figure(figsize=(15,8))\n",
    "plt.plot('Annual',color='black', label='Annual', linewidth=2, data=unemployment)\n",
    "plt.plot('Jan',color='blue', label='Jan', linestyle='dashed', data=unemployment)\n",
    "plt.plot('Apr',color='red', label='Apr', linestyle='dashed', data=unemployment)\n",
    "plt.plot('Jul',color='green', label='Jul', linestyle='dashed', data=unemployment)\n",
    "plt.plot('Oct',color='maroon', label='Oct', linestyle='dashed', data=unemployment)\n",
    "plt.legend(loc=0)"
   ]
  }
 ],
 "metadata": {
  "continuum": {
   "depends": [
    "mp_ex_pyplot"
   ],
   "requires": [
    "data/unemployment1948.csv"
   ],
   "tag": "mp_ex_pyplot_soln"
  },
  "kernelspec": {
   "display_name": "Python 3",
   "language": "python",
   "name": "python3"
  },
  "language_info": {
   "codemirror_mode": {
    "name": "ipython",
    "version": 3
   },
   "file_extension": ".py",
   "mimetype": "text/x-python",
   "name": "python",
   "nbconvert_exporter": "python",
   "pygments_lexer": "ipython3",
   "version": "3.5.1"
  }
 },
 "nbformat": 4,
 "nbformat_minor": 0
}
