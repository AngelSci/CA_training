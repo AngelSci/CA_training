{
 "cells": [
  {
   "cell_type": "markdown",
   "metadata": {},
   "source": [
    "# Table of Contents\n",
    "* [Candlestick Exercise](#Candlestick-Exercise)\n"
   ]
  },
  {
   "cell_type": "markdown",
   "metadata": {},
   "source": [
    "# Candlestick Exercise"
   ]
  },
  {
   "cell_type": "markdown",
   "metadata": {},
   "source": [
    "Matplotlib has a set of functions to return historical data of Open, High, Low, Close stock data and make candlestick plots. Look at the help output below to plot trends for a chosen ticker, like `AAPL`. Write a function that generates quarterly plots for a chosen year as subplots in a single figure. Optionally use `datetime` and `dateutil` to generate start and end points for the "
   ]
  },
  {
   "cell_type": "code",
   "execution_count": null,
   "metadata": {
    "collapsed": true
   },
   "outputs": [],
   "source": [
    "%matplotlib inline\n",
    "import matplotlib.pyplot as plt"
   ]
  },
  {
   "cell_type": "markdown",
   "metadata": {},
   "source": [
    "```python\n",
    "from matplotlib.finance import quotes_historical_yahoo_ohlc, candlestick_ohlc\n",
    "quotes_historical_yahoo_ohlc( ticker, start, end )\n",
    "```"
   ]
  },
  {
   "cell_type": "markdown",
   "metadata": {},
   "source": [
    "* `ticker` is a string\n",
    "* `start` and `end` can be `datetime.date` objects or a tuple of integers `(year, month, day)`."
   ]
  },
  {
   "cell_type": "markdown",
   "metadata": {},
   "source": [
    "The following imports allow Date and Time formatting of axes in plots. They can be used as shown to set Mondays on the major tics and all days on the minor tics. Make changes to these examples to fit your plot.\n",
    "\n",
    "CAUTION: Separate objects must be created for each subplot\n",
    "\n",
    "```python\n",
    "from matplotlib.dates import DateFormatter, WeekdayLocator, DayLocator, MonthLocator, MONDAY\n",
    "mondays = WeekdayLocator(MONDAY)        # major ticks on the mondays\n",
    "alldays = DayLocator()                  # minor ticks on the days\n",
    "weekFormatter = DateFormatter('%b %d')  # e.g., Jan 12\n",
    "dayFormatter = DateFormatter('%d')      # e.g., 12\n",
    "\n",
    "ax.xaxis.set_major_locator(mondays)\n",
    "ax.xaxis.set_minor_locator(alldays)\n",
    "ax.xaxis.set_major_formatter(weekFormatter)\n",
    "```"
   ]
  },
  {
   "cell_type": "code",
   "execution_count": null,
   "metadata": {
    "collapsed": false,
    "solutions": {
     "candlestick": [
      "import datetime",
      "from dateutil.relativedelta import relativedelta",
      "from matplotlib.dates import DateFormatter, WeekdayLocator, MonthLocator, MONDAY",
      "",
      "def quarterly(ticker,year):",
      "    start=datetime.date(year,1,1)",
      "    q1 = (start, start + relativedelta(months=+3, days=-1))",
      "    q2 = (q1[1]+relativedelta(days=+1), start + relativedelta(months=+6, days=-1))",
      "    q3 = (q2[1]+relativedelta(days=+1), start + relativedelta(months=+9, days=-1))",
      "    q4 = (q3[1]+relativedelta(days=+1), start + relativedelta(months=+12, days=-1))",
      "    quarters= [q1,q2,q3,q4]",
      "",
      "    fig=plt.figure(figsize=(20,20))",
      "    for idx,q in enumerate(quarters):",
      "        quotes=quotes_historical_yahoo_ohlc(ticker,*q)",
      "",
      "        ax = fig.add_subplot( 220 + idx+1 )",
      "",
      "        candlestick_ohlc(ax, quotes, width=0.6)",
      "",
      "        mondays = WeekdayLocator(MONDAY)",
      "        months = MonthLocator()",
      "        monthFormatter = DateFormatter('%b')",
      "",
      "        ax.xaxis.set_major_locator(months)",
      "        ax.xaxis.set_minor_locator(mondays)",
      "        ax.xaxis.set_major_formatter(monthFormatter)",
      "        ax.xaxis_date()",
      "",
      "        ax.set_ylabel('Price')",
      "        ax.set_title(ticker + ' Q%1d ' % (idx+1) + ' %d ' % year)",
      "",
      "",
      "quarterly('AAPL',2012)",
      "quarterly('IBM',2012)"
     ]
    }
   },
   "outputs": [],
   "source": [
    "import datetime\n",
    "from dateutil.relativedelta import relativedelta\n",
    "from matplotlib.dates import DateFormatter, WeekdayLocator, MonthLocator, MONDAY\n",
    "from matplotlib.finance import quotes_historical_yahoo_ohlc, candlestick_ohlc\n",
    "\n",
    "def quarterly(ticker,year):\n",
    "    start=datetime.date(year,1,1)\n",
    "\n",
    "    #Put your solution here"
   ]
  },
  {
   "cell_type": "code",
   "execution_count": null,
   "metadata": {
    "collapsed": false
   },
   "outputs": [],
   "source": [
    "quarterly('AAPL', 2007)"
   ]
  }
 ],
 "metadata": {
  "continuum": {
   "depends": [
    "mp_intro",
    "mp_object",
    "mp_subplot"
   ],
   "tag": "mp_ex_candlestick"
  },
  "kernelspec": {
   "display_name": "Python 3",
   "language": "python",
   "name": "python3"
  },
  "language_info": {
   "codemirror_mode": {
    "name": "ipython",
    "version": 3
   },
   "file_extension": ".py",
   "mimetype": "text/x-python",
   "name": "python",
   "nbconvert_exporter": "python",
   "pygments_lexer": "ipython3",
   "version": "3.5.1"
  }
 },
 "nbformat": 4,
 "nbformat_minor": 0
}
