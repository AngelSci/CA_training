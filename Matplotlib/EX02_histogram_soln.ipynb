{
 "cells": [
  {
   "cell_type": "markdown",
   "metadata": {},
   "source": [
    "# Table of Contents\n",
    "* [Matplotlib histograms](#Matplotlib-histograms)\n"
   ]
  },
  {
   "cell_type": "markdown",
   "metadata": {},
   "source": [
    "# Matplotlib histograms"
   ]
  },
  {
   "cell_type": "markdown",
   "metadata": {},
   "source": [
    "The electron binding energy of a small water cluster was simulated in [this paper](http://www.sciencedirect.com/science/article/pii/S000926140800287X). Included here is the electron binding energy data recored for the Monte Carlo simulation at 100K.\n",
    "\n",
    "1. Read the data  at `data/w7-energies.dat` and multiply the values by 1000. The new unit is called mili-electron-volts (meV).\n",
    "1. Make a histogram of the electron binding energy data\n",
    "2. Make an array of bins every 10 meV from -600 to 0 meV (inclusive of 0) and use that in the histogram."
   ]
  },
  {
   "cell_type": "code",
   "execution_count": null,
   "metadata": {
    "collapsed": true
   },
   "outputs": [],
   "source": [
    "%matplotlib inline\n",
    "import matplotlib.pyplot as plt\n",
    "import numpy as np"
   ]
  },
  {
   "cell_type": "code",
   "execution_count": null,
   "metadata": {
    "collapsed": false,
    "solutions": {
     "hist": [
      "ebe=np.genfromtxt('data/w7-energies.dat')*1000",
      "mBins = np.arange(-600, 10, 10)",
      "fig=plt.figure()",
      "axis=fig.add_axes([0,0,1,1])",
      "axis.set_xlabel('Energy (meV)')",
      "n, bins, patches=axis.hist(ebe,bins=mBins)"
     ]
    }
   },
   "outputs": [],
   "source": [
    "ebe=np.genfromtxt('data/w7-energies.dat')*1000\n",
    "mBins = np.arange(-600, 10, 10)\n",
    "fig=plt.figure()\n",
    "axis=fig.add_axes([0,0,1,1])\n",
    "axis.set_xlabel('Energy (meV)')\n",
    "n, bins, patches=axis.hist(ebe,bins=mBins)"
   ]
  }
 ],
 "metadata": {
  "continuum": {
   "depends": [
    "mp_intro",
    "mp_object"
   ],
   "requires": [
    "data/w7-energies.dat"
   ],
   "tag": "mp_ex_histogram_soln"
  },
  "kernelspec": {
   "display_name": "Python 3",
   "language": "python",
   "name": "python3"
  },
  "language_info": {
   "codemirror_mode": {
    "name": "ipython",
    "version": 3
   },
   "file_extension": ".py",
   "mimetype": "text/x-python",
   "name": "python",
   "nbconvert_exporter": "python",
   "pygments_lexer": "ipython3",
   "version": "3.4.4"
  }
 },
 "nbformat": 4,
 "nbformat_minor": 0
}
