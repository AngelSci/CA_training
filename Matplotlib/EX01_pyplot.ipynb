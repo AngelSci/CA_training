{
 "cells": [
  {
   "cell_type": "markdown",
   "metadata": {},
   "source": [
    "# Table of Contents\n",
    "* [Exercise: pyplot](#Exercise:-pyplot)\n"
   ]
  },
  {
   "cell_type": "markdown",
   "metadata": {},
   "source": [
    "# Exercise: pyplot"
   ]
  },
  {
   "cell_type": "markdown",
   "metadata": {},
   "source": [
    "Read the `data/unemployment1948.csv` file into a Pandas data frame being careful to set an appropriate index. This is US unemployment rate for every month, and the annual rate, from 1948 to 2013.\n",
    "\n",
    "Plot the Jan, Apr, Jul, and Oct unemployment rates along with the annual unemployment rates in one figure. Consult the [Plot documentation](http://matplotlib.org/api/pyplot_api.html#matplotlib.pyplot.plot) to use the `color=`, `linestyle=`, `linewidth=` and `marker=` keyword arguments to make the plot."
   ]
  },
  {
   "cell_type": "code",
   "execution_count": null,
   "metadata": {
    "collapsed": true
   },
   "outputs": [],
   "source": [
    "import pandas as pd\n",
    "import matplotlib.pyplot as plt\n",
    "%matplotlib inline"
   ]
  },
  {
   "cell_type": "code",
   "execution_count": null,
   "metadata": {
    "collapsed": false
   },
   "outputs": [],
   "source": [
    "# your solution here"
   ]
  }
 ],
 "metadata": {
  "continuum": {
   "depends": [],
   "requires": [
    "data/unemployment1948.csv"
   ],
   "tag": "mp_ex_pyplot"
  },
  "kernelspec": {
   "display_name": "Python 3",
   "language": "python",
   "name": "python3"
  },
  "language_info": {
   "codemirror_mode": {
    "name": "ipython",
    "version": 3
   },
   "file_extension": ".py",
   "mimetype": "text/x-python",
   "name": "python",
   "nbconvert_exporter": "python",
   "pygments_lexer": "ipython3",
   "version": "3.5.1"
  }
 },
 "nbformat": 4,
 "nbformat_minor": 0
}
