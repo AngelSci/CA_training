{
 "cells": [
  {
   "cell_type": "markdown",
   "metadata": {},
   "source": [
    "# Table of Contents\n",
    "* [Layout Exercise](#Layout-Exercise)\n"
   ]
  },
  {
   "cell_type": "markdown",
   "metadata": {},
   "source": [
    "# Layout Exercise"
   ]
  },
  {
   "cell_type": "markdown",
   "metadata": {},
   "source": [
    "Read in the `data/auto-mpg.csv` data as a Pandas DataFrame. Make a figure with the following four plots\n",
    "\n",
    "1. Scatter plot of `mpg` vs `cyl`.\n",
    "2. Scatter plot of `mpg` vs `hp`.\n",
    "3. Scatter plot of `mpg` vs `weight`.\n",
    "4. Scatter plot of `mpg` vs `yr`.\n",
    "\n",
    "Secondly, make separate marker colors (or shapes) for the unique `origin` entries.\n",
    "\n",
    "Use `ax.scatter()` to make the plot. You can use the `c=` keyword argument to change the color."
   ]
  },
  {
   "cell_type": "code",
   "execution_count": null,
   "metadata": {
    "collapsed": true,
    "solutions": {
     "scatter": [
      "auto=np.recfromcsv('data/bokeh/auto-mpg.csv')",
      "fig, axes = plt.subplots(2,2,figsize=(15,15))",
      "fig.tight_layout()",
      "def makeScatter(data,xColumn,yColumn,gColumn,axis):",
      "colors = ['r','g','b']",
      "markers = ['x','D','o']",
      "for i in np.unique(data[gColumn]):",
      "indices=np.where(data[gColumn]==i)",
      "axis.scatter(data[xColumn][indices],data[yColumn][indices],c=colors[i-1],marker=markers[i-1],label=i)",
      "axis.set_ylabel(yColumn)",
      "axis.set_xlabel(xColumn)",
      "axis.legend()",
      "x = ['hp','yr','weight','cyl']",
      "plots=zip(x,[j for i in axes for j in i])",
      "for plot in plots:",
      "makeScatter(auto,plot[0],'mpg','origin',plot[1])"
     ]
    }
   },
   "outputs": [],
   "source": [
    "%matplotlib inline\n",
    "import matplotlib.pyplot as plt\n",
    "import numpy as np\n",
    "import pandas as pd"
   ]
  },
  {
   "cell_type": "code",
   "execution_count": null,
   "metadata": {
    "collapsed": true
   },
   "outputs": [],
   "source": [
    "# your solution here"
   ]
  }
 ],
 "metadata": {
  "continuum": {
   "depends": [
    "mp_intro",
    "mp_object",
    "mp_subplot"
   ],
   "requires": [
    "data/auto-mpg.csv"
   ],
   "tag": "mp_ex_subplot"
  },
  "kernelspec": {
   "display_name": "Python 3",
   "language": "python",
   "name": "python3"
  },
  "language_info": {
   "codemirror_mode": {
    "name": "ipython",
    "version": 3
   },
   "file_extension": ".py",
   "mimetype": "text/x-python",
   "name": "python",
   "nbconvert_exporter": "python",
   "pygments_lexer": "ipython3",
   "version": "3.4.4"
  }
 },
 "nbformat": 4,
 "nbformat_minor": 0
}
