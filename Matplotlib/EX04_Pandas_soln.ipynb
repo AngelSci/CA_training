{
 "cells": [
  {
   "cell_type": "markdown",
   "metadata": {},
   "source": [
    "# Table of Contents\n",
    "* [Bar chart exercise](#Bar-chart-exercise)\n"
   ]
  },
  {
   "cell_type": "markdown",
   "metadata": {},
   "source": [
    "# Bar chart exercise"
   ]
  },
  {
   "cell_type": "markdown",
   "metadata": {},
   "source": [
    "Using the Olympic medal data set prepare a DataFrame that has the country name as the index and columns for each of the total bronze, silver and gold medals awarded to each country.\n",
    "\n",
    "Use the `kind='bar'` plot style with `stacked=True` to make a stacked bar chart.\n",
    "\n",
    "Hint: use `pd.pivot_table`."
   ]
  },
  {
   "cell_type": "code",
   "execution_count": null,
   "metadata": {
    "collapsed": true
   },
   "outputs": [],
   "source": [
    "import pandas as pd\n",
    "import numpy as np\n",
    "%matplotlib inline"
   ]
  },
  {
   "cell_type": "code",
   "execution_count": null,
   "metadata": {
    "collapsed": true
   },
   "outputs": [],
   "source": [
    "medals=pd.read_csv('data/medals.csv')"
   ]
  },
  {
   "cell_type": "code",
   "execution_count": null,
   "metadata": {
    "collapsed": false
   },
   "outputs": [],
   "source": [
    "stacked = pd.pivot_table(medals,\n",
    "              index='name',\n",
    "               columns='medal',\n",
    "              values='count',\n",
    "              aggfunc=np.sum)\n",
    "stacked.head()"
   ]
  },
  {
   "cell_type": "code",
   "execution_count": null,
   "metadata": {
    "collapsed": false
   },
   "outputs": [],
   "source": [
    "stacked.plot(kind='bar', stacked=True, figsize=(15,8))"
   ]
  }
 ],
 "metadata": {
  "continuum": {
   "depends": [
    "mp_2d"
   ],
   "requires": [
    "data/medals.csv"
   ],
   "tag": "mp_ex_pandas_soln"
  },
  "kernelspec": {
   "display_name": "Python 3",
   "language": "python",
   "name": "python3"
  },
  "language_info": {
   "codemirror_mode": {
    "name": "ipython",
    "version": 3
   },
   "file_extension": ".py",
   "mimetype": "text/x-python",
   "name": "python",
   "nbconvert_exporter": "python",
   "pygments_lexer": "ipython3",
   "version": "3.4.4"
  }
 },
 "nbformat": 4,
 "nbformat_minor": 0
}
