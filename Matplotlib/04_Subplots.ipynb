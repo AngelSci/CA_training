{
 "cells": [
  {
   "cell_type": "markdown",
   "metadata": {},
   "source": [
    "# Table of Contents\n",
    "* [Learning Objectives:](#Learning-Objectives:)\n",
    "* [Figures with multiple subplots and insets](#Figures-with-multiple-subplots-and-insets)\n",
    "\t* [subplots](#subplots)\n",
    "\t* [subplot2grid](#subplot2grid)\n",
    "\t* [gridspec](#gridspec)\n",
    "\t* [add_axes](#add_axes)\n"
   ]
  },
  {
   "cell_type": "markdown",
   "metadata": {},
   "source": [
    "# Learning Objectives:"
   ]
  },
  {
   "cell_type": "markdown",
   "metadata": {},
   "source": [
    "After completion of this module, learners should be able to:\n",
    "\n",
    "* lay out multiple `matplotlib` plots in a single figure (e.g., subplots, insets, etc.)"
   ]
  },
  {
   "cell_type": "code",
   "execution_count": null,
   "metadata": {
    "collapsed": true
   },
   "outputs": [],
   "source": [
    "%matplotlib inline\n",
    "import matplotlib.pyplot as plt\n",
    "import numpy as np"
   ]
  },
  {
   "cell_type": "markdown",
   "metadata": {},
   "source": [
    "# Figures with multiple subplots and insets"
   ]
  },
  {
   "cell_type": "markdown",
   "metadata": {},
   "source": [
    "We can add axes to a matplotlib Figure canvas manually using `fig.add_axes` or with a sub-figure layout manager such as `subplots`, `subplot2grid`, or `gridspec`:"
   ]
  },
  {
   "cell_type": "markdown",
   "metadata": {},
   "source": [
    "## subplots"
   ]
  },
  {
   "cell_type": "code",
   "execution_count": null,
   "metadata": {
    "collapsed": false
   },
   "outputs": [],
   "source": [
    "fig, ax = plt.subplots(2, 3)\n",
    "fig.tight_layout()"
   ]
  },
  {
   "cell_type": "markdown",
   "metadata": {},
   "source": [
    "## subplot2grid"
   ]
  },
  {
   "cell_type": "code",
   "execution_count": null,
   "metadata": {
    "collapsed": false
   },
   "outputs": [],
   "source": [
    "fig = plt.figure()\n",
    "ax1 = plt.subplot2grid((3,3), (0,0), colspan=3)\n",
    "ax2 = plt.subplot2grid((3,3), (1,0), colspan=2)\n",
    "ax3 = plt.subplot2grid((3,3), (1,2), rowspan=2)\n",
    "ax4 = plt.subplot2grid((3,3), (2,0))\n",
    "ax5 = plt.subplot2grid((3,3), (2,1))\n",
    "fig.tight_layout()"
   ]
  },
  {
   "cell_type": "markdown",
   "metadata": {},
   "source": [
    "## gridspec"
   ]
  },
  {
   "cell_type": "code",
   "execution_count": null,
   "metadata": {
    "collapsed": false
   },
   "outputs": [],
   "source": [
    "import matplotlib.gridspec as gridspec"
   ]
  },
  {
   "cell_type": "code",
   "execution_count": null,
   "metadata": {
    "collapsed": false
   },
   "outputs": [],
   "source": [
    "fig = plt.figure()\n",
    "\n",
    "gs = gridspec.GridSpec(2, 3, height_ratios=[2,1], width_ratios=[1,2,1])\n",
    "for g in gs:\n",
    "    ax = fig.add_subplot(g)\n",
    "    \n",
    "fig.tight_layout()"
   ]
  },
  {
   "cell_type": "markdown",
   "metadata": {},
   "source": [
    "## add_axes"
   ]
  },
  {
   "cell_type": "markdown",
   "metadata": {},
   "source": [
    "Manually adding axes with `add_axes` is useful for adding insets to figures:"
   ]
  },
  {
   "cell_type": "code",
   "execution_count": null,
   "metadata": {
    "collapsed": false
   },
   "outputs": [],
   "source": [
    "fig, ax = plt.subplots()\n",
    "\n",
    "xx = np.linspace(-5,5, 500)\n",
    "ax.plot(xx, xx**2, xx, xx**3)\n",
    "fig.tight_layout()\n",
    "\n",
    "# inset\n",
    "inset_ax = fig.add_axes([0.4, 0.6, 0.25, 0.25]) # X, Y, width, height\n",
    "\n",
    "inset_ax.plot(xx, xx**2, xx, xx**3)\n",
    "inset_ax.set_title('zoom near origin')\n",
    "\n",
    "# set axis range\n",
    "inset_ax.set_xlim(-.2, .2)\n",
    "inset_ax.set_ylim(-.005, .01)\n",
    "\n",
    "# set axis tick locations\n",
    "inset_ax.set_yticks([0, 0.005, 0.01])\n",
    "inset_ax.set_xticks([-.2,-0.1,0,.1, .2]);"
   ]
  }
 ],
 "metadata": {
  "continuum": {
   "depends": [
    "mp_2d"
   ],
   "tag": "mp_subplot"
  },
  "kernelspec": {
   "display_name": "Python 3",
   "language": "python",
   "name": "python3"
  },
  "language_info": {
   "codemirror_mode": {
    "name": "ipython",
    "version": 3
   },
   "file_extension": ".py",
   "mimetype": "text/x-python",
   "name": "python",
   "nbconvert_exporter": "python",
   "pygments_lexer": "ipython3",
   "version": "3.4.4"
  }
 },
 "nbformat": 4,
 "nbformat_minor": 0
}
