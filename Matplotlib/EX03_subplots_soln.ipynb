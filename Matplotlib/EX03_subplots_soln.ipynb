{
 "cells": [
  {
   "cell_type": "markdown",
   "metadata": {},
   "source": [
    "# Table of Contents\n",
    "* [Layout Exercise](#Layout-Exercise)\n"
   ]
  },
  {
   "cell_type": "markdown",
   "metadata": {},
   "source": [
    "# Layout Exercise"
   ]
  },
  {
   "cell_type": "markdown",
   "metadata": {},
   "source": [
    "Read in the `data/auto-mpg.csv` data as a Pandas DataFrame. Make a figure with the following four plots\n",
    "\n",
    "1. Scatter plot of `mpg` vs `cyl`.\n",
    "2. Scatter plot of `mpg` vs `hp`.\n",
    "3. Scatter plot of `mpg` vs `weight`.\n",
    "4. Scatter plot of `mpg` vs `yr`.\n",
    "\n",
    "Secondly, make separate marker colors (or shapes) for the unique `origin` entries.\n",
    "\n",
    "Hint: use the Pandas `.groupby()` function."
   ]
  },
  {
   "cell_type": "code",
   "execution_count": null,
   "metadata": {
    "collapsed": true,
    "solutions": {
     "scatter": [
      "auto=np.recfromcsv('data/bokeh/auto-mpg.csv')",
      "fig, axes = plt.subplots(2,2,figsize=(15,15))",
      "fig.tight_layout()",
      "def makeScatter(data,xColumn,yColumn,gColumn,axis):",
      "colors = ['r','g','b']",
      "markers = ['x','D','o']",
      "for i in np.unique(data[gColumn]):",
      "indices=np.where(data[gColumn]==i)",
      "axis.scatter(data[xColumn][indices],data[yColumn][indices],c=colors[i-1],marker=markers[i-1],label=i)",
      "axis.set_ylabel(yColumn)",
      "axis.set_xlabel(xColumn)",
      "axis.legend()",
      "x = ['hp','yr','weight','cyl']",
      "plots=zip(x,[j for i in axes for j in i])",
      "for plot in plots:",
      "makeScatter(auto,plot[0],'mpg','origin',plot[1])"
     ]
    }
   },
   "outputs": [],
   "source": [
    "%matplotlib inline\n",
    "import matplotlib.pyplot as plt\n",
    "import numpy as np\n",
    "import pandas as pd"
   ]
  },
  {
   "cell_type": "code",
   "execution_count": null,
   "metadata": {
    "collapsed": false
   },
   "outputs": [],
   "source": [
    "auto=pd.read_csv('data/auto-mpg.csv')\n",
    "auto.info()"
   ]
  },
  {
   "cell_type": "code",
   "execution_count": null,
   "metadata": {
    "collapsed": false
   },
   "outputs": [],
   "source": [
    "auto.head()"
   ]
  },
  {
   "cell_type": "code",
   "execution_count": null,
   "metadata": {
    "collapsed": false
   },
   "outputs": [],
   "source": [
    "fig, axes = plt.subplots(nrows=2,ncols=2,figsize=(10,10))\n",
    "fig.tight_layout()\n",
    "\n",
    "# fancy solution\n",
    "def makeScatter(data,xColumn,yColumn,gColumn,axis):\n",
    "    colors = ['r','g','b']\n",
    "    markers = ['x','D','o']\n",
    "    for origin,color,marker in zip(data['origin'].unique(),colors,markers):\n",
    "        idx = data['origin']==origin\n",
    "        axis.scatter(data.loc[idx,xColumn], data.loc[idx,yColumn],\n",
    "                     c=color,marker=marker,label=origin)\n",
    "        axis.set_ylabel(yColumn)\n",
    "        axis.set_xlabel(xColumn)\n",
    "        axis.legend()\n",
    "\n",
    "for xCol,axis in zip(['hp','yr','weight','cyl'],axes.flatten()):\n",
    "    makeScatter(auto,xCol,'mpg','origin',axis)"
   ]
  },
  {
   "cell_type": "code",
   "execution_count": null,
   "metadata": {
    "collapsed": false
   },
   "outputs": [],
   "source": [
    "fig, axes = plt.subplots(nrows=2,ncols=2,figsize=(10,10))\n",
    "fig.tight_layout()\n",
    "\n",
    "# groupby solution\n",
    "def makeScatter(data,xColumn,yColumn,gColumn,axis):\n",
    "    colors = ['r','g','b']\n",
    "    markers = ['x','D','o']\n",
    "    \n",
    "    grp = data.groupby('origin')\n",
    "    for origin,color,marker in zip(grp.groups,colors,markers):\n",
    "        d = grp.get_group(origin)\n",
    "        axis.scatter(d[xColumn], d[yColumn],\n",
    "                     c=color,marker=marker,label=origin)\n",
    "        axis.set_ylabel(yColumn)\n",
    "        axis.set_xlabel(xColumn)\n",
    "        axis.legend()\n",
    "\n",
    "for xCol,axis in zip(['hp','yr','weight','cyl'],axes.flatten()):\n",
    "    makeScatter(auto,xCol,'mpg','origin',axis)"
   ]
  }
 ],
 "metadata": {
  "continuum": {
   "depends": [
    "mp_intro",
    "mp_object",
    "mp_subplot"
   ],
   "requires": [
    "data/auto-mpg.csv"
   ],
   "tag": "mp_ex_subplot_soln"
  },
  "kernelspec": {
   "display_name": "Python 3",
   "language": "python",
   "name": "python3"
  },
  "language_info": {
   "codemirror_mode": {
    "name": "ipython",
    "version": 3
   },
   "file_extension": ".py",
   "mimetype": "text/x-python",
   "name": "python",
   "nbconvert_exporter": "python",
   "pygments_lexer": "ipython3",
   "version": "3.4.4"
  }
 },
 "nbformat": 4,
 "nbformat_minor": 0
}
