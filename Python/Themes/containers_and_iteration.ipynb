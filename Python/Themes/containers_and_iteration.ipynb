{
 "cells": [
  {
   "cell_type": "markdown",
   "metadata": {},
   "source": [
    "# Table of Contents\n",
    "* [Containers and Iterations](#Containers-and-Iterations)\n",
    "\t* [Sequence-like Containers](#Sequence-like-Containers)\n",
    "\t* [Other Containers](#Other-Containers)\n",
    "\t* [Reference Notebooks](#Reference-Notebooks)\n",
    "\t* [Common Themes](#Common-Themes)\n",
    "* [Strings](#Strings)\n",
    "* [Lists](#Lists)\n",
    "* [Tuples](#Tuples)\n",
    "* [Iterables](#Iterables)\n",
    "* [Dictionaries](#Dictionaries)\n",
    "\t* [More about Keys](#More-about-Keys)\n",
    "\t* [Hashing](#Hashing)\n",
    "\t* [Iterable Dictionaries](#Iterable-Dictionaries)\n",
    "* [Comprehensions and Generators](#Comprehensions-and-Generators)\n",
    "\t* [Generators](#Generators)\n",
    "* [Additional Containers](#Additional-Containers)\n",
    "\t* [NamedTuples](#NamedTuples)\n",
    "\t* [OrderedDict](#OrderedDict)\n",
    "\t* [Factory Classes](#Factory-Classes)\n",
    "\t* [Sets](#Sets)\n",
    "* [Section Summary](#Section-Summary)\n",
    "\t* [Notebook Style](#Notebook-Style)\n"
   ]
  },
  {
   "cell_type": "markdown",
   "metadata": {},
   "source": [
    "# Containers and Iterations"
   ]
  },
  {
   "cell_type": "markdown",
   "metadata": {},
   "source": [
    "Buckets to put your data"
   ]
  },
  {
   "cell_type": "markdown",
   "metadata": {},
   "source": [
    "## Sequence-like Containers"
   ]
  },
  {
   "cell_type": "markdown",
   "metadata": {},
   "source": [
    "* str\n",
    "* list\n",
    "* tuple\n",
    "* iterations\n",
    "* comprehensions"
   ]
  },
  {
   "cell_type": "markdown",
   "metadata": {},
   "source": [
    "## Other Containers"
   ]
  },
  {
   "cell_type": "markdown",
   "metadata": {},
   "source": [
    "* dict vs OrderedDict\n",
    "* sets\n",
    "* named tuples\n",
    "* factory classes"
   ]
  },
  {
   "cell_type": "markdown",
   "metadata": {},
   "source": [
    "## Reference Notebooks"
   ]
  },
  {
   "cell_type": "markdown",
   "metadata": {},
   "source": [
    "* 08 - Python II - Data Containers"
   ]
  },
  {
   "cell_type": "markdown",
   "metadata": {},
   "source": [
    "## Common Themes"
   ]
  },
  {
   "cell_type": "markdown",
   "metadata": {},
   "source": [
    "* indexing is always by square brakets\n",
    "* most containers have two ways to create: (1) {syntax} (2) constructor method()\n",
    "* ordered/sequence-like containers can be sliced\n",
    "* ordered/sequence-like containers are iterable"
   ]
  },
  {
   "cell_type": "markdown",
   "metadata": {},
   "source": [
    "# Strings"
   ]
  },
  {
   "cell_type": "markdown",
   "metadata": {},
   "source": [
    "Descriptions:\n",
    "* \"An collection of characters\"\n",
    "* an iterable sequence\n",
    "\n",
    "Creations:\n",
    "1. `\"Syntax\"`: my_str = \"Jason\"\n",
    "2. `Method()`: my_list = str( sequence )\n",
    "\n",
    "Extractions:\n",
    "* Indexing: my_str[0]\n",
    "* Slices:   my_str[0:1]"
   ]
  },
  {
   "cell_type": "code",
   "execution_count": null,
   "metadata": {
    "collapsed": false
   },
   "outputs": [],
   "source": [
    "# Reminders on strings\n",
    "name = 'Jason'\n",
    "print(name)"
   ]
  },
  {
   "cell_type": "code",
   "execution_count": null,
   "metadata": {
    "collapsed": false
   },
   "outputs": [],
   "source": [
    "# Indexing\n",
    "name[0]     # OK\n",
    "\"Jason\"[0]  # OK"
   ]
  },
  {
   "cell_type": "code",
   "execution_count": null,
   "metadata": {
    "collapsed": false
   },
   "outputs": [],
   "source": [
    "# Slicing\n",
    "name[0:3]  # OK"
   ]
  },
  {
   "cell_type": "code",
   "execution_count": null,
   "metadata": {
    "collapsed": false,
    "raises": "TypeError"
   },
   "outputs": [],
   "source": [
    "# Strings are Immutable\n",
    "name[0]    = \"M\" # NOT OK"
   ]
  },
  {
   "cell_type": "code",
   "execution_count": null,
   "metadata": {
    "collapsed": false,
    "raises": "TypeError"
   },
   "outputs": [],
   "source": [
    "\"Jason\"[0] = \"M\" # NOT OK"
   ]
  },
  {
   "cell_type": "code",
   "execution_count": null,
   "metadata": {
    "collapsed": false
   },
   "outputs": [],
   "source": [
    "# Exercise: create a new string from the old, changing just the first letter\n",
    "old_name = \"Jason\"\n",
    "\n",
    "# Solution 1\n",
    "new_name = \"M\" + old_name[1:]\n",
    "print( new_name )\n",
    "\n",
    "# Solution 2\n",
    "name_replace = old_name.replace('J','M')\n",
    "print( name_replace )"
   ]
  },
  {
   "cell_type": "code",
   "execution_count": null,
   "metadata": {
    "collapsed": false
   },
   "outputs": [],
   "source": [
    "# Strings are objects\n",
    "isinstance(name, str)"
   ]
  },
  {
   "cell_type": "code",
   "execution_count": null,
   "metadata": {
    "collapsed": false
   },
   "outputs": [],
   "source": [
    "# many other methods on the str object\n",
    "dir(name)"
   ]
  },
  {
   "cell_type": "markdown",
   "metadata": {},
   "source": [
    "# Lists"
   ]
  },
  {
   "cell_type": "markdown",
   "metadata": {},
   "source": [
    "Descriptions:\n",
    "* \"An collection of things\"\n",
    "* \"most common used data bucket\"\n",
    "\n",
    "Creations:\n",
    "1. `[Syntax]`: my_list = [v1, v2]\n",
    "2. `Method()`: my_list = list( sequence )\n",
    "\n",
    "Extractions:\n",
    "* Indexing: my_list[0]\n",
    "* Slices:   my_list[0:1]"
   ]
  },
  {
   "cell_type": "code",
   "execution_count": null,
   "metadata": {
    "collapsed": false
   },
   "outputs": [],
   "source": [
    "# Create a list\n",
    "x = [1,2,3]\n",
    "print(x)"
   ]
  },
  {
   "cell_type": "code",
   "execution_count": null,
   "metadata": {
    "collapsed": false
   },
   "outputs": [],
   "source": [
    "# create another list\n",
    "y = ['a','b','c','d']\n",
    "print(y)"
   ]
  },
  {
   "cell_type": "code",
   "execution_count": null,
   "metadata": {
    "collapsed": false
   },
   "outputs": [],
   "source": [
    "# Create from elements of mixed types\n",
    "z = [42, 3.14, 1+1j, \"Snow\", (1,2), [3,4,5], 1>0 ]\n",
    "print(z)"
   ]
  },
  {
   "cell_type": "code",
   "execution_count": null,
   "metadata": {
    "collapsed": false
   },
   "outputs": [],
   "source": [
    "# Create from \"constructor function\"\n",
    "n = list(\"Jason\")\n",
    "print(n)\n",
    "print(type(n))"
   ]
  },
  {
   "cell_type": "code",
   "execution_count": null,
   "metadata": {
    "collapsed": false
   },
   "outputs": [],
   "source": [
    "name = str(1)\n",
    "name"
   ]
  },
  {
   "cell_type": "code",
   "execution_count": null,
   "metadata": {
    "collapsed": false,
    "raises": "TypeError"
   },
   "outputs": [],
   "source": [
    "x + 4       # ERROR"
   ]
  },
  {
   "cell_type": "code",
   "execution_count": null,
   "metadata": {
    "collapsed": false
   },
   "outputs": [],
   "source": [
    "x.append(4) # OK\n",
    "x"
   ]
  },
  {
   "cell_type": "code",
   "execution_count": null,
   "metadata": {
    "collapsed": true,
    "raises": "TypeError"
   },
   "outputs": [],
   "source": [
    "# ERROR: cannot add list and int\n",
    "x + 5"
   ]
  },
  {
   "cell_type": "code",
   "execution_count": null,
   "metadata": {
    "collapsed": false
   },
   "outputs": [],
   "source": [
    "# OK to add two lists\n",
    "x + [5]"
   ]
  },
  {
   "cell_type": "code",
   "execution_count": null,
   "metadata": {
    "collapsed": false
   },
   "outputs": [],
   "source": [
    "x + list([5])"
   ]
  },
  {
   "cell_type": "code",
   "execution_count": null,
   "metadata": {
    "collapsed": false
   },
   "outputs": [],
   "source": [
    "# Another way to extend a list\n",
    "x.extend([6,7,8])\n",
    "x"
   ]
  },
  {
   "cell_type": "code",
   "execution_count": null,
   "metadata": {
    "collapsed": false
   },
   "outputs": [],
   "source": [
    "# Reminder: Slicing is a thing\n",
    "z[0:3]"
   ]
  },
  {
   "cell_type": "code",
   "execution_count": null,
   "metadata": {
    "collapsed": false
   },
   "outputs": [],
   "source": [
    "# Convert string to list\n",
    "x = list(\"Jason\")\n",
    "x[0]"
   ]
  },
  {
   "cell_type": "code",
   "execution_count": null,
   "metadata": {
    "collapsed": false,
    "raises": "TypeError"
   },
   "outputs": [],
   "source": [
    "# ERROR, ints are not \"iterable\"\n",
    "x = list(1)"
   ]
  },
  {
   "cell_type": "code",
   "execution_count": null,
   "metadata": {
    "collapsed": false
   },
   "outputs": [],
   "source": [
    "dir(1) # does not have __iter__ method, thus is not \"iterable\""
   ]
  },
  {
   "cell_type": "code",
   "execution_count": null,
   "metadata": {
    "collapsed": false
   },
   "outputs": [],
   "source": [
    "# OK, lists of ints are iterable\n",
    "x = list([1])\n",
    "x"
   ]
  },
  {
   "cell_type": "code",
   "execution_count": null,
   "metadata": {
    "collapsed": false
   },
   "outputs": [],
   "source": [
    "# Exercise 2: Change the first letter in the list from J to M\n",
    "\n",
    "name = list(\"Jason\")\n",
    "name[0] = \"M\"\n",
    "name"
   ]
  },
  {
   "cell_type": "markdown",
   "metadata": {},
   "source": [
    "# Tuples"
   ]
  },
  {
   "cell_type": "markdown",
   "metadata": {},
   "source": [
    "Descriptions:\n",
    "* \"An immutable list\"\n",
    "* \"used often for function interfaces\"\n",
    "\n",
    "Methods of Creation:\n",
    "1. `(Syntax,)`: my_tup = ( v1, v2 )\n",
    "2. `Method()`:  my_tup = tuple( sequence )\n",
    "\n",
    "Extractions:\n",
    "* Indexing: my_tup[0]\n",
    "* Slices:   my_tup[0:1]"
   ]
  },
  {
   "cell_type": "code",
   "execution_count": null,
   "metadata": {
    "collapsed": false
   },
   "outputs": [],
   "source": [
    "# Create some TUPLES\n",
    "\n",
    "x = (1,2,3)\n",
    "x"
   ]
  },
  {
   "cell_type": "code",
   "execution_count": null,
   "metadata": {
    "collapsed": false
   },
   "outputs": [],
   "source": [
    "y = ('a','b','c','d')\n",
    "y"
   ]
  },
  {
   "cell_type": "code",
   "execution_count": null,
   "metadata": {
    "collapsed": false
   },
   "outputs": [],
   "source": [
    "z = (42, 3.14, 1+1j, \"Snow\", (1,2), [3,4,5], 1>0)\n",
    "z"
   ]
  },
  {
   "cell_type": "code",
   "execution_count": null,
   "metadata": {
    "collapsed": false,
    "raises": "TypeError"
   },
   "outputs": [],
   "source": [
    "x + 4       # ERROR, you cannot concatenate different types"
   ]
  },
  {
   "cell_type": "code",
   "execution_count": null,
   "metadata": {
    "collapsed": false,
    "raises": "AttributeError"
   },
   "outputs": [],
   "source": [
    "x.append(4) # ERROR, immutable"
   ]
  },
  {
   "cell_type": "code",
   "execution_count": null,
   "metadata": {
    "collapsed": true,
    "raises": "TypeError"
   },
   "outputs": [],
   "source": [
    "x + 5    # ERROR"
   ]
  },
  {
   "cell_type": "code",
   "execution_count": null,
   "metadata": {
    "collapsed": true,
    "raises": "TypeError"
   },
   "outputs": [],
   "source": [
    "x + [5]  # ERROR"
   ]
  },
  {
   "cell_type": "code",
   "execution_count": null,
   "metadata": {
    "collapsed": false,
    "raises": "TypeError"
   },
   "outputs": [],
   "source": [
    "x + (5)  # ERROR"
   ]
  },
  {
   "cell_type": "code",
   "execution_count": null,
   "metadata": {
    "collapsed": false
   },
   "outputs": [],
   "source": [
    "y = x + (5,) # okay"
   ]
  },
  {
   "cell_type": "code",
   "execution_count": null,
   "metadata": {
    "collapsed": false
   },
   "outputs": [],
   "source": [
    "print(x)\n",
    "print(y)"
   ]
  },
  {
   "cell_type": "code",
   "execution_count": null,
   "metadata": {
    "collapsed": false
   },
   "outputs": [],
   "source": [
    "x + y    # OK"
   ]
  },
  {
   "cell_type": "code",
   "execution_count": null,
   "metadata": {
    "collapsed": false
   },
   "outputs": [],
   "source": [
    "# Slicing again\n",
    "x[0:2]"
   ]
  },
  {
   "cell_type": "code",
   "execution_count": null,
   "metadata": {
    "collapsed": false
   },
   "outputs": [],
   "source": [
    "# This looks mutable, but really, it's \n",
    "# just re-binding the name \"x\" to a new tuple (1,2,9)\n",
    "x += (9,) # x = x + (9,)\n",
    "x"
   ]
  },
  {
   "cell_type": "code",
   "execution_count": null,
   "metadata": {
    "collapsed": false
   },
   "outputs": [],
   "source": [
    "# Convert string to list\n",
    "x = tuple(\"Jason\")\n",
    "print( x[0] )\n",
    "print( x[1] )"
   ]
  },
  {
   "cell_type": "code",
   "execution_count": null,
   "metadata": {
    "collapsed": false,
    "raises": "TypeError"
   },
   "outputs": [],
   "source": [
    "# Immutable\n",
    "x[0] = \"M\""
   ]
  },
  {
   "cell_type": "code",
   "execution_count": null,
   "metadata": {
    "collapsed": true,
    "raises": "TypeError"
   },
   "outputs": [],
   "source": [
    "x = tuple(1)         # ERROR, ints are not \"iterable\"\n",
    "x = tuple( 2*(3-2) ) # ERROR, ints are not \"iterable\"\n",
    "x = tuple( (3-2) )   # ERROR\n",
    "x = tuple( (1) )     # ERROR"
   ]
  },
  {
   "cell_type": "code",
   "execution_count": null,
   "metadata": {
    "collapsed": false
   },
   "outputs": [],
   "source": [
    "x = tuple( (1,) )    # OK\n",
    "x"
   ]
  },
  {
   "cell_type": "code",
   "execution_count": null,
   "metadata": {
    "collapsed": false,
    "raises": "TypeError"
   },
   "outputs": [],
   "source": [
    "x = (1,2,[3,4])\n",
    "x[0] = 9    # ERROR\n",
    "x[2] = 9    # ERROR"
   ]
  },
  {
   "cell_type": "code",
   "execution_count": null,
   "metadata": {
    "collapsed": false
   },
   "outputs": [],
   "source": [
    "x[2][0] = 9 # OK, lists are mutable, even when nested inside tuple\n",
    "x"
   ]
  },
  {
   "cell_type": "code",
   "execution_count": null,
   "metadata": {
    "collapsed": false
   },
   "outputs": [],
   "source": [
    "x[2].append(5)\n",
    "x"
   ]
  },
  {
   "cell_type": "markdown",
   "metadata": {},
   "source": [
    "# Iterables"
   ]
  },
  {
   "cell_type": "code",
   "execution_count": null,
   "metadata": {
    "collapsed": true
   },
   "outputs": [],
   "source": [
    "# Iterables (ORDERED Containers, Sequences)\n",
    "\n",
    "# Exercise: \n",
    "# Use the list of containers, 3 elements, \n",
    "# one for each container type,\n",
    "# and loop over all three to see the results of the block below:\n",
    "\n",
    "name_list = [str(\"Jason\"), tuple(\"Jason\"), list(\"Jason\")]"
   ]
  },
  {
   "cell_type": "code",
   "execution_count": null,
   "metadata": {
    "collapsed": false
   },
   "outputs": [],
   "source": [
    "# Solution: add an outer for loop, and indent original 3 loops\n",
    "\n",
    "for name in name_list:\n",
    "    print(name, type(name))\n",
    "\n",
    "    for n in range(len(name)):\n",
    "        print(name[n])\n",
    "\n",
    "    for letter in name:\n",
    "        print(letter)\n",
    "\n",
    "    for i, elem in enumerate(name):\n",
    "        print(i, elem)"
   ]
  },
  {
   "cell_type": "markdown",
   "metadata": {},
   "source": [
    "# Dictionaries"
   ]
  },
  {
   "cell_type": "markdown",
   "metadata": {},
   "source": [
    "Descriptions:\n",
    "* \"The most important structure in python\"\n",
    "* \"Collection of unique key:value pairs\"\n",
    "* Kyes must be \"hashable\", test with `hash(my_key)`\n",
    "\n",
    "Methods of Creation:\n",
    "1. `{Syntax}`: my_dict = { k1:v1, k2:v2 }\n",
    "2. `Method()`: my_dict = dict( [(k1,v1), (k2,v2)] )\n",
    "3. `Method()`: my_dict = dict(zip([k1,k2],[v1,v2]))\n",
    "\n",
    "Extractions:\n",
    "* Indexing: my_dict[k1]\n",
    "* Slices:   ERROR, dicts are NOT ordered! # later, OrderedDict"
   ]
  },
  {
   "cell_type": "code",
   "execution_count": null,
   "metadata": {
    "collapsed": false
   },
   "outputs": [],
   "source": [
    "# Example 0:\n",
    "x = {'a':1, 'b':2, 'c':3}\n",
    "x"
   ]
  },
  {
   "cell_type": "code",
   "execution_count": null,
   "metadata": {
    "collapsed": false
   },
   "outputs": [],
   "source": [
    "x['a']\n",
    "# x.a does not work"
   ]
  },
  {
   "cell_type": "code",
   "execution_count": null,
   "metadata": {
    "collapsed": false
   },
   "outputs": [],
   "source": [
    "y = {\"a\":2.7, 2:\"test\", True:[4,3]}   # mixed type is OK\n",
    "y"
   ]
  },
  {
   "cell_type": "code",
   "execution_count": null,
   "metadata": {
    "collapsed": false
   },
   "outputs": [],
   "source": [
    "y[True]"
   ]
  },
  {
   "cell_type": "code",
   "execution_count": null,
   "metadata": {
    "collapsed": false
   },
   "outputs": [],
   "source": [
    "y[2]"
   ]
  },
  {
   "cell_type": "code",
   "execution_count": null,
   "metadata": {
    "collapsed": true
   },
   "outputs": [],
   "source": [
    "# Making dictionaries, Method 1, Using syntex with braces {}\n",
    "constants = { 'pi':3.14159,\n",
    "              'e':2.718,\n",
    "              'T':98.6 }"
   ]
  },
  {
   "cell_type": "code",
   "execution_count": null,
   "metadata": {
    "collapsed": false
   },
   "outputs": [],
   "source": [
    "constants['e']        # INDEXING BY KEY"
   ]
  },
  {
   "cell_type": "code",
   "execution_count": null,
   "metadata": {
    "collapsed": true
   },
   "outputs": [],
   "source": [
    "# Making dictionaries, Method 2, Using constructor method dict()\n",
    "constants = dict( [ ('pi',3.14159),\n",
    "                    ('e',2.718),\n",
    "                    ('T',98.6) ]\n",
    "                 )"
   ]
  },
  {
   "cell_type": "code",
   "execution_count": null,
   "metadata": {
    "collapsed": false
   },
   "outputs": [],
   "source": [
    "# Exercise: try to see if 2-element lists would work instead of tuples\n",
    "constants = dict( [ ['pi',3.14159],\n",
    "                    ['e',2.718],\n",
    "                    ['T',98.6] ]\n",
    "                 )\n",
    "constants"
   ]
  },
  {
   "cell_type": "code",
   "execution_count": null,
   "metadata": {
    "collapsed": false
   },
   "outputs": [],
   "source": [
    "constants['pi']        # INDEXING BY KEY"
   ]
  },
  {
   "cell_type": "code",
   "execution_count": null,
   "metadata": {
    "collapsed": false
   },
   "outputs": [],
   "source": [
    "constants['T'] = 218   # MUTABLE\n",
    "constants"
   ]
  },
  {
   "cell_type": "code",
   "execution_count": null,
   "metadata": {
    "collapsed": false
   },
   "outputs": [],
   "source": [
    "# Example 4: using ZIP to create dicts\n",
    "my_keys   = ['a', 'b', 'c']\n",
    "my_values = [1, 2, 3]\n",
    "x = dict(zip(my_keys, my_values))\n",
    "print(x)"
   ]
  },
  {
   "cell_type": "code",
   "execution_count": null,
   "metadata": {
    "collapsed": false
   },
   "outputs": [],
   "source": [
    "# Unique key:value pairs\n",
    "print( list(x.keys())   )\n",
    "print( list(x.values()) )"
   ]
  },
  {
   "cell_type": "code",
   "execution_count": null,
   "metadata": {
    "collapsed": false
   },
   "outputs": [],
   "source": [
    "# Adding a NEW key:value pair\n",
    "x['d'] = 99\n",
    "x"
   ]
  },
  {
   "cell_type": "code",
   "execution_count": null,
   "metadata": {
    "collapsed": true
   },
   "outputs": [],
   "source": [
    "# Exercise: try to merge two dictionaries, x and y\n",
    "y = {'e':2.718}"
   ]
  },
  {
   "cell_type": "code",
   "execution_count": null,
   "metadata": {
    "collapsed": false
   },
   "outputs": [],
   "source": [
    "%%timeit\n",
    "my_keys   = list(x.keys())   + list(y.keys())\n",
    "my_values = list(x.values()) + list(y.values())\n",
    "z = dict(zip(my_keys, my_values))\n",
    "print( z )"
   ]
  },
  {
   "cell_type": "code",
   "execution_count": null,
   "metadata": {
    "collapsed": false
   },
   "outputs": [],
   "source": [
    "# Hint, look for method that might do the trick\n",
    "dir(x)"
   ]
  },
  {
   "cell_type": "code",
   "execution_count": null,
   "metadata": {
    "collapsed": false
   },
   "outputs": [],
   "source": [
    "%%timeit\n",
    "x.update(y)\n",
    "x"
   ]
  },
  {
   "cell_type": "code",
   "execution_count": null,
   "metadata": {
    "collapsed": false
   },
   "outputs": [],
   "source": [
    "# Updating the dictionary, updates others bound to the same dictionary\n",
    "y = x\n",
    "y['Jason'] = 0\n",
    "print(y)\n",
    "print(x)"
   ]
  },
  {
   "cell_type": "markdown",
   "metadata": {},
   "source": [
    "## More about Keys"
   ]
  },
  {
   "cell_type": "code",
   "execution_count": null,
   "metadata": {
    "collapsed": false
   },
   "outputs": [],
   "source": [
    "x = {'a':1, 'b':2, 'c':3}\n",
    "\n",
    "# Test if a key is in the dictionary\n",
    "'a' in x.keys()"
   ]
  },
  {
   "cell_type": "code",
   "execution_count": null,
   "metadata": {
    "collapsed": false
   },
   "outputs": [],
   "source": [
    "1 in x.values()"
   ]
  },
  {
   "cell_type": "code",
   "execution_count": null,
   "metadata": {
    "collapsed": false
   },
   "outputs": [],
   "source": [
    "# Indexing only by \"keys\"\n",
    "x['c']"
   ]
  },
  {
   "cell_type": "code",
   "execution_count": null,
   "metadata": {
    "collapsed": false,
    "raises": "TypeError"
   },
   "outputs": [],
   "source": [
    "x[0:1] # unordered, slicing NOT possible"
   ]
  },
  {
   "cell_type": "code",
   "execution_count": null,
   "metadata": {
    "collapsed": false
   },
   "outputs": [],
   "source": [
    "# Mutable\n",
    "x['a'] = 99\n",
    "x"
   ]
  },
  {
   "cell_type": "markdown",
   "metadata": {},
   "source": [
    "## Hashing"
   ]
  },
  {
   "cell_type": "code",
   "execution_count": null,
   "metadata": {
    "collapsed": false
   },
   "outputs": [],
   "source": [
    "# KEYS MUST BE IMMUTABLE (and thus hashable)\n",
    "# Usually that means only literals and tuples, but...\n",
    "\n",
    "# Test whether the thing you want to use as a key is actually hash-ability\n",
    "hash( (1,2) )    # OK"
   ]
  },
  {
   "cell_type": "code",
   "execution_count": null,
   "metadata": {
    "collapsed": false,
    "raises": "TypeError"
   },
   "outputs": [],
   "source": [
    "hash( [1,2] )    # ERROR, because lists are MUTABLE"
   ]
  },
  {
   "cell_type": "code",
   "execution_count": null,
   "metadata": {
    "collapsed": false
   },
   "outputs": [],
   "source": [
    "hash( \"Jason\" )  # No Problem, strings are immutable"
   ]
  },
  {
   "cell_type": "code",
   "execution_count": null,
   "metadata": {
    "collapsed": true,
    "raises": "TypeError"
   },
   "outputs": [],
   "source": [
    "\"Jason\"[0] = \"M\" # ERROR, immutable"
   ]
  },
  {
   "cell_type": "code",
   "execution_count": null,
   "metadata": {
    "collapsed": false
   },
   "outputs": [],
   "source": [
    "# DICTIONARIES .get() by key\n",
    "x = {'a':1, 'b':2, 'c':3}\n",
    "\n",
    "print( \"Is a in keys?\", 'a' in x.keys() )\n",
    "print( x.get('a', 99) )# get value for key, or use default\n",
    "\n",
    "print( \"Is d in keys?\", 'd' in x.keys() )\n",
    "print( x.get('d', 99) )"
   ]
  },
  {
   "cell_type": "code",
   "execution_count": null,
   "metadata": {
    "collapsed": true
   },
   "outputs": [],
   "source": [
    "# DICTIONARIES as SWITCH/CASES\n",
    "# Usually people just use if,elif,else, but if you must...\n",
    "\n",
    "def switch_case(argument):\n",
    "    switcher = {\n",
    "        0: \"zero\",\n",
    "        1: \"one\",\n",
    "        2: \"two\",\n",
    "    }\n",
    "    return switcher.get(argument, \"error\")\n",
    "\n",
    "print( switch_case(2) )\n",
    "print( switch_case(5) )"
   ]
  },
  {
   "cell_type": "markdown",
   "metadata": {},
   "source": [
    "## Iterable Dictionaries"
   ]
  },
  {
   "cell_type": "code",
   "execution_count": null,
   "metadata": {
    "collapsed": true
   },
   "outputs": [],
   "source": [
    "constants = { 'pi':3.14159,\n",
    "              'e':2.718,\n",
    "              'T':98.6 }"
   ]
  },
  {
   "cell_type": "code",
   "execution_count": null,
   "metadata": {
    "collapsed": false
   },
   "outputs": [],
   "source": [
    "for key in constants.keys():\n",
    "    print( key )\n",
    "    print( constants[key] )"
   ]
  },
  {
   "cell_type": "code",
   "execution_count": null,
   "metadata": {
    "collapsed": false
   },
   "outputs": [],
   "source": [
    "for value in constants.values():\n",
    "    print( value )"
   ]
  },
  {
   "cell_type": "code",
   "execution_count": null,
   "metadata": {
    "collapsed": false
   },
   "outputs": [],
   "source": [
    "for key,value in constants.items():\n",
    "    print( key, value )"
   ]
  },
  {
   "cell_type": "code",
   "execution_count": null,
   "metadata": {
    "collapsed": false
   },
   "outputs": [],
   "source": [
    "for item in constants.items():\n",
    "    print( item )"
   ]
  },
  {
   "cell_type": "code",
   "execution_count": null,
   "metadata": {
    "collapsed": false
   },
   "outputs": [],
   "source": [
    "# Exercise: double each numerical value in the dictionary\n",
    "\n",
    "# Solution 1: index by key\n",
    "for key,value in constants.items():\n",
    "    constants[key] = 2*value\n",
    "\n",
    "print( constants )"
   ]
  },
  {
   "cell_type": "code",
   "execution_count": null,
   "metadata": {
    "collapsed": false
   },
   "outputs": [],
   "source": [
    "# Solution 2: index by key\n",
    "for key in constants.keys():\n",
    "    constants[key] *= 2\n",
    "\n",
    "print( constants )"
   ]
  },
  {
   "cell_type": "code",
   "execution_count": null,
   "metadata": {
    "collapsed": false
   },
   "outputs": [],
   "source": [
    "# Anit-Solution 2: name binding does **NOT** work as one might expect\n",
    "for value in constants.values():\n",
    "    value = 2*value\n",
    "\n",
    "print( constants )"
   ]
  },
  {
   "cell_type": "markdown",
   "metadata": {},
   "source": [
    "# Comprehensions and Generators"
   ]
  },
  {
   "cell_type": "code",
   "execution_count": null,
   "metadata": {
    "collapsed": false
   },
   "outputs": [],
   "source": [
    "# List Comprehension\n",
    "my_list = [ x**2 for x in [0,1,2,3] ]\n",
    "print(my_list)"
   ]
  },
  {
   "cell_type": "code",
   "execution_count": null,
   "metadata": {
    "collapsed": false
   },
   "outputs": [],
   "source": [
    "# Dict Comprehension\n",
    "my_dict = { x:x**2 for x in (0,1,2,3) }\n",
    "print(my_dict)"
   ]
  },
  {
   "cell_type": "code",
   "execution_count": null,
   "metadata": {
    "collapsed": true
   },
   "outputs": [],
   "source": [
    "# Tuple comprehension\n",
    "my_tup  = tuple(x**2 for x in [0,1,2,3])"
   ]
  },
  {
   "cell_type": "code",
   "execution_count": null,
   "metadata": {
    "collapsed": false
   },
   "outputs": [],
   "source": [
    "# Comprehension with conditional (filter)\n",
    "filtered_list = [ x.upper() for x in ['calf','cat','fish'] if \"ca\" in x ]\n",
    "filtered_list"
   ]
  },
  {
   "cell_type": "code",
   "execution_count": null,
   "metadata": {
    "collapsed": false
   },
   "outputs": [],
   "source": [
    "# Comprehension with conditional (filter)\n",
    "odds = [ x for x in [0,1,2,3,4,5] if x%2==1 ]\n",
    "odds"
   ]
  },
  {
   "cell_type": "markdown",
   "metadata": {},
   "source": [
    "## Generators"
   ]
  },
  {
   "cell_type": "code",
   "execution_count": null,
   "metadata": {
    "collapsed": false
   },
   "outputs": [],
   "source": [
    "# Wait, but isn't \"[]\" just a way to create list()?\n",
    "# What is the thing inside the \"comprehension\"?\n",
    "\n",
    "my_blob = (x**2 for x in [0,1,2,3])\n",
    "my_list = [my_blob]\n",
    "\n",
    "print(type(my_list))\n",
    "print(type(my_blob))"
   ]
  },
  {
   "cell_type": "code",
   "execution_count": null,
   "metadata": {
    "collapsed": true
   },
   "outputs": [],
   "source": [
    "# What's a generator? What till later... more advanced!"
   ]
  },
  {
   "cell_type": "markdown",
   "metadata": {},
   "source": [
    "# Advanced: Additional Containers"
   ]
  },
  {
   "cell_type": "markdown",
   "metadata": {},
   "source": [
    "Other types to discuss\n",
    "* set\n",
    "* collections.namedtuple\n",
    "* collections.OrderedDict\n",
    "* Factory Classes"
   ]
  },
  {
   "cell_type": "markdown",
   "metadata": {},
   "source": [
    "## NamedTuples"
   ]
  },
  {
   "cell_type": "code",
   "execution_count": null,
   "metadata": {
    "collapsed": true
   },
   "outputs": [],
   "source": [
    "from collections import namedtuple\n",
    "\n",
    "# namedtuple.<tab>"
   ]
  },
  {
   "cell_type": "code",
   "execution_count": null,
   "metadata": {
    "collapsed": false
   },
   "outputs": [],
   "source": [
    "# Example 1: like a struct\n",
    "from collections import namedtuple\n",
    "Constants = namedtuple('Constants', 'pi, e')\n",
    "const = Constants(3.14159, 2.718)\n",
    "print( const.pi )\n",
    "print( const.e )"
   ]
  },
  {
   "cell_type": "code",
   "execution_count": null,
   "metadata": {
    "collapsed": true
   },
   "outputs": [],
   "source": []
  },
  {
   "cell_type": "code",
   "execution_count": null,
   "metadata": {
    "collapsed": true
   },
   "outputs": [],
   "source": [
    "# Example 2: like and object\n",
    "from collections import namedtuple\n",
    "Point = namedtuple('Point', 'x, y')  # 'x y' works too\n",
    "pt1 = Point(0.0, 0.0)\n",
    "pt2 = Point(2.0, 1.0)\n",
    "\n",
    "from math import sqrt\n",
    "distance1 = sqrt((pt1.x-pt2.x)**2 + (pt1.y-pt2.y)**2)\n",
    "distance2 = sqrt((pt1[0]-pt2[0])**2 + (pt1[1]-pt2[1])**2)\n",
    "print(distance1, \"-\", distance2, \"=\", distance1 - distance2)"
   ]
  },
  {
   "cell_type": "markdown",
   "metadata": {},
   "source": [
    "## OrderedDict"
   ]
  },
  {
   "cell_type": "code",
   "execution_count": null,
   "metadata": {
    "collapsed": true
   },
   "outputs": [],
   "source": [
    "from collections import OrderedDict\n",
    "\n",
    "# ordereddict.<tab>"
   ]
  },
  {
   "cell_type": "markdown",
   "metadata": {},
   "source": [
    "## Factory Classes"
   ]
  },
  {
   "cell_type": "code",
   "execution_count": null,
   "metadata": {
    "collapsed": true
   },
   "outputs": [],
   "source": [
    "# Classes as simple containers, aka \"Factories\"\n",
    "class Constants():\n",
    "    def __init__(self, pi=3.14159, e=2.718):\n",
    "       self.pi = pi\n",
    "       self.e  = e\n",
    "\n",
    "const = Constants()"
   ]
  },
  {
   "cell_type": "markdown",
   "metadata": {},
   "source": [
    "## Sets"
   ]
  },
  {
   "cell_type": "code",
   "execution_count": null,
   "metadata": {
    "collapsed": true
   },
   "outputs": [],
   "source": [
    "x = {1,2,2,3,3,3,2,3,1}  # same as x = {1,2,3}"
   ]
  },
  {
   "cell_type": "code",
   "execution_count": null,
   "metadata": {
    "collapsed": true
   },
   "outputs": [],
   "source": [
    "x = {'Jason','Andy','Jan','Jan'}"
   ]
  },
  {
   "cell_type": "code",
   "execution_count": null,
   "metadata": {
    "collapsed": true
   },
   "outputs": [],
   "source": [
    "x = {1,2,3}\n",
    "y = {3,4,5}"
   ]
  },
  {
   "cell_type": "code",
   "execution_count": null,
   "metadata": {
    "collapsed": true
   },
   "outputs": [],
   "source": [
    "x|y  # union\n",
    "x&y  # intersection\n",
    "x-y  # diff\n",
    "x<=y # subset\n",
    "x>y  # superset"
   ]
  },
  {
   "cell_type": "code",
   "execution_count": null,
   "metadata": {
    "collapsed": true
   },
   "outputs": [],
   "source": []
  },
  {
   "cell_type": "code",
   "execution_count": null,
   "metadata": {
    "collapsed": true
   },
   "outputs": [],
   "source": [
    "x = {'dog','cat','rabbit'}\n",
    "y = {'rabbit','cat','Alice'}"
   ]
  },
  {
   "cell_type": "code",
   "execution_count": null,
   "metadata": {
    "collapsed": true
   },
   "outputs": [],
   "source": [
    "x|y  # union\n",
    "x&y  # intersection\n",
    "x-y  # diff\n",
    "x<=y # subset\n",
    "x>y  # superset"
   ]
  },
  {
   "cell_type": "markdown",
   "metadata": {},
   "source": [
    "# Section Summary"
   ]
  },
  {
   "cell_type": "markdown",
   "metadata": {},
   "source": [
    "Sequence-like Containers\n",
    "* Common Themes: Construction, Indexing, Iteration\n",
    "* Strings\n",
    "* Lists\n",
    "* Tuples\n",
    "\n",
    "Dictionaries\n",
    "* Key:Value pairs\n",
    "* Keys and Hashing\n",
    "* Iterable Dictionaries\n",
    "\n",
    "Comprehensions\n",
    "* Containers vs Generators\n",
    "\n",
    "Additional Containers\n",
    "* NamedTuples\n",
    "* OrderedDict\n",
    "* Factory Classes\n",
    "* Sets"
   ]
  },
  {
   "cell_type": "markdown",
   "metadata": {},
   "source": [
    "## Notebook Style"
   ]
  },
  {
   "cell_type": "code",
   "execution_count": null,
   "metadata": {
    "collapsed": true
   },
   "outputs": [],
   "source": [
    "import continuum_style; continuum_style.style()"
   ]
  }
 ],
 "metadata": {
  "celltoolbar": "Edit Metadata",
  "continuum": {
   "depends": [
    "ip_essentials",
    "ip_flowcontrol",
    "ip_containers"
   ],
   "requires": [],
   "tag": "themes_iteration"
  },
  "kernelspec": {
   "display_name": "Python 2",
   "language": "python",
   "name": "python2"
  },
  "language_info": {
   "codemirror_mode": {
    "name": "ipython",
    "version": 2
   },
   "file_extension": ".py",
   "mimetype": "text/x-python",
   "name": "python",
   "nbconvert_exporter": "python",
   "pygments_lexer": "ipython2",
   "version": "2.7.11"
  }
 },
 "nbformat": 4,
 "nbformat_minor": 0
}
