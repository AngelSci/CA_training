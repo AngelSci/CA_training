{
 "cells": [
  {
   "cell_type": "markdown",
   "metadata": {},
   "source": [
    "# Table of Contents\n",
    "* [Learning Objectives:](#Learning-Objectives:)\n",
    "* [`str` (string) type](#str-%28string%29-type)\n",
    "\t* [String methods](#String-methods)\n",
    "\t* [String indexing](#String-indexing)\n",
    "\t\t* [Immutability of Python `str` type](#Immutability-of-Python-str-type)\n",
    "\t* [String slicing](#String-slicing)\n",
    "\t* [String conversions and `format`](#String-conversions-and-format)\n",
    "\t\t* [Format strings (old-style)](#Format-strings-%28old-style%29)\n",
    "\t\t* [The `str.format()` mini-language](#The-str.format%28%29-mini-language)\n",
    "\t\t* [Details on the `str.format()` mini-language](#Details-on-the-str.format%28%29-mini-language)\n"
   ]
  },
  {
   "cell_type": "markdown",
   "metadata": {},
   "source": [
    "# Learning Objectives:"
   ]
  },
  {
   "cell_type": "markdown",
   "metadata": {},
   "source": [
    "After completion of this module, learners should be able to:\n",
    "\n",
    "* apply string indexing rules\n",
    "* apply the `str.format` mini-language to generate formatted output"
   ]
  },
  {
   "cell_type": "markdown",
   "metadata": {},
   "source": [
    "# `str` (string) type"
   ]
  },
  {
   "cell_type": "markdown",
   "metadata": {
    "collapsed": false
   },
   "source": [
    "Strings (or `str` objects) are textual data with *delimeters* to denote where the string starts and ends. String literals are constructed with single quote characters(i.e., `'`), double quote characters (i.e., `\"`) or a trio of single or double quote characters (i.e., `'''` or `\"\"\"`) as delimiters. Triple quoted strings can span multiple lines&mdash;all associated whitespace will be included in the string."
   ]
  },
  {
   "cell_type": "code",
   "execution_count": null,
   "metadata": {
    "collapsed": false
   },
   "outputs": [],
   "source": [
    "a = 'a string'\n",
    "print(a, type(a))"
   ]
  },
  {
   "cell_type": "code",
   "execution_count": null,
   "metadata": {
    "collapsed": false
   },
   "outputs": [],
   "source": [
    "string_1 = 'Single quotes as delimiters permit \"double\" quotes inside.'\n",
    "string_2 = \"Double quotes as delimiters don't have problems with 'single' quotes inside.\"\n",
    "string_3 = '''\n",
    "Triple (single) quotes don't have problems with 'single' or \"double\" quotes\n",
    "inside. They don't even have problems with line breaks!\n",
    "'''\n",
    "print(string_1)\n",
    "print(string_2)\n",
    "print(string_3)"
   ]
  },
  {
   "cell_type": "markdown",
   "metadata": {
    "collapsed": false
   },
   "source": [
    "To embed a single quote character (one or more) within a string delimited by single quotes, a backslash character is needed as an *escape chracter*. The same applies for double quote characters embedded within strings delimited by double quote characters. Other escaped string literals can be found in the [Python documentation](https://docs.python.org/3/reference/lexical_analysis.html#strings). Notice as of Python 3, strings characters are [Unicode code points](https://en.wikipedia.org/wiki/Code_point)."
   ]
  },
  {
   "cell_type": "code",
   "execution_count": null,
   "metadata": {
    "collapsed": false
   },
   "outputs": [],
   "source": [
    "empty_str = ''\n",
    "string_1 = 'Single quotes as delimiters permit \\'escaped single\\' quotes inside.'\n",
    "string_2 = \"Double quotes as delimiters \\\"escaped double\\\" quotes inside.\"\n",
    "string_3 = '''Other escaped characters include the literal backslash \\\\,\n",
    "Unicode characters with hex values like \\\\u00CC == \\u00CC,'''\n",
    "string_4 = 'the\\ttab character \\\\t &\\nthe line feed \\\\n.'\n",
    "print('empty_str = %r' % empty_str)\n",
    "print(string_1)\n",
    "print(string_2)\n",
    "print(string_3,string_4)"
   ]
  },
  {
   "cell_type": "code",
   "execution_count": null,
   "metadata": {
    "collapsed": false
   },
   "outputs": [],
   "source": [
    "print(\"Unicode charcters may be entered by name: \\N{GREEK SMALL LETTER DELTA}. \",\n",
    "      \"And also by codepoint: \\u03B4\")"
   ]
  },
  {
   "cell_type": "code",
   "execution_count": null,
   "metadata": {
    "collapsed": false
   },
   "outputs": [],
   "source": [
    "print(\"Strings can contain either literal non-ASCII characters\",\n",
    "      \"Say in Русский.  Or they can contain escapes to codepoints\",\n",
    "      \"such as \\u0420\\u0443\\u0441\\u0441\\u043a\\u0438\\u0439\")"
   ]
  },
  {
   "cell_type": "code",
   "execution_count": null,
   "metadata": {
    "collapsed": false
   },
   "outputs": [],
   "source": [
    "import unicodedata\n",
    "unicodedata.lookup(\"GREEK SMALL LETTER DELTA\")"
   ]
  },
  {
   "cell_type": "code",
   "execution_count": null,
   "metadata": {
    "collapsed": false,
    "py3_only": true
   },
   "outputs": [],
   "source": [
    "hex(ord(\"δ\"))"
   ]
  },
  {
   "cell_type": "code",
   "execution_count": null,
   "metadata": {
    "collapsed": false,
    "py3_only": true
   },
   "outputs": [],
   "source": [
    "unicodedata.name(\"δ\")"
   ]
  },
  {
   "cell_type": "code",
   "execution_count": null,
   "metadata": {
    "collapsed": false
   },
   "outputs": [],
   "source": [
    "old_s = 'Mary had a little lamb\\nIts fleece was white as snow\\nAnd everywhere that Mary went\\nThe lamb was sure to go.'\n",
    "print(old_s)"
   ]
  },
  {
   "cell_type": "code",
   "execution_count": null,
   "metadata": {
    "collapsed": false
   },
   "outputs": [],
   "source": [
    "new_s = \"\"\"Mary had a little lamb\n",
    "Its fleece was white as snow\n",
    "And everywhere that Mary went\n",
    "The lamb was sure to go.\"\"\"\n",
    "print(new_s)"
   ]
  },
  {
   "cell_type": "code",
   "execution_count": null,
   "metadata": {
    "collapsed": false
   },
   "outputs": [],
   "source": [
    "# Check whether the strings new_s and old_s are identical in every way.\n",
    "print(new_s == old_s) \n",
    "new_s is old_s"
   ]
  },
  {
   "cell_type": "code",
   "execution_count": null,
   "metadata": {
    "collapsed": false
   },
   "outputs": [],
   "source": [
    "s = \"Ain't it a shame?!\"  # Single quote in double quotes\n",
    "s"
   ]
  },
  {
   "cell_type": "code",
   "execution_count": null,
   "metadata": {
    "collapsed": false
   },
   "outputs": [],
   "source": [
    "s = 'Ain\\'t it a shame?!' # Another example of escaping characters within strings\n",
    "print(s)"
   ]
  },
  {
   "cell_type": "code",
   "execution_count": null,
   "metadata": {
    "collapsed": false
   },
   "outputs": [],
   "source": [
    "s = \"\"\"He said \"Ain't that a shame\"!\"\"\" # Triple quotes to include both single/double\n",
    "print(s)"
   ]
  },
  {
   "cell_type": "code",
   "execution_count": null,
   "metadata": {
    "collapsed": false
   },
   "outputs": [],
   "source": [
    "print('He said \"Hi\" to me')"
   ]
  },
  {
   "cell_type": "code",
   "execution_count": null,
   "metadata": {
    "collapsed": false
   },
   "outputs": [],
   "source": [
    "print(\"He said \\\"Hi\\\" to me\") # Another example of escaping characters within strings"
   ]
  },
  {
   "cell_type": "markdown",
   "metadata": {},
   "source": [
    "## String methods"
   ]
  },
  {
   "cell_type": "markdown",
   "metadata": {},
   "source": [
    "As objects, strings have a variety of *methods* (functions) that can be invoked and operate on data contained in the calling `str` object.\n",
    "\n",
    "| | | |\n",
    " :-: | :-: | :-: | :-: \n",
    "`capitalize`|`casefold`|`center`|`count`\n",
    "`encode`|`endswith`|`expandtabs`|`find`\n",
    "`format`|`format_map`|`index`|`isalnum`\n",
    "`isalpha`|`isdecimal`|`isdigit`|`isidentifier`\n",
    "`islower`|`isnumeric`|`isprintable`|`isspace`\n",
    "`istitle`|`isupper`|`join`|`ljust`\n",
    "`lower`|`lstrip`|`maketrans`|`partition`\n",
    "`replace`|`rfind`|`rindex` | `rjust`\n",
    "`rpartition`|`rsplit`|`rstrip` | `split`\n",
    "`splitlines`|`strip`|`swapcase`| `title`\n",
    "`translate`|`upper`|`zfill` |\n",
    "\n",
    "Many of these methods have purposes indicated clearly by their names. We can use `help` or the [Python documentation](https://docs.python.org/3/library/stdtypes.html#string-methods) to determine their function. Let's examine a few here.\n",
    "\n",
    "Given a `str` object with identifier, say, `a_string`, any string *`method`* is invoked using `a_string.`*`method()`* (that is, the string as an argument to the method is positioned as a prefix of the method in the call). Of course, other arguments may be required within the parentheses, depending on which method is used.\n",
    "\n",
    "With strings, as with all objects, the object instance itself is the first thing passed to the method, defined in the class.  So, for example, writing `a_string.method(other, args)` does the same thing as calling `str.method(a_string, other, args)`."
   ]
  },
  {
   "cell_type": "code",
   "execution_count": null,
   "metadata": {
    "collapsed": false
   },
   "outputs": [],
   "source": [
    "haiku = \"\"\"\n",
    "    an aging willow\n",
    "    its image unsteady\n",
    "    in the flowing stream\n",
    "\"\"\"\n",
    "print(haiku) # We construct a multi-line string to experiment with first."
   ]
  },
  {
   "cell_type": "code",
   "execution_count": null,
   "metadata": {
    "collapsed": false
   },
   "outputs": [],
   "source": [
    "# haiku.count('i') returns the number of times the character 'i' occurs\n",
    "haiku.count('i')"
   ]
  },
  {
   "cell_type": "code",
   "execution_count": null,
   "metadata": {
    "collapsed": false
   },
   "outputs": [],
   "source": [
    "# haiku.count('in') returns the number of times the substring 'in' occurs\n",
    "haiku.count('in')"
   ]
  },
  {
   "cell_type": "code",
   "execution_count": null,
   "metadata": {
    "collapsed": false
   },
   "outputs": [],
   "source": [
    "haiku.split()"
   ]
  },
  {
   "cell_type": "code",
   "execution_count": null,
   "metadata": {
    "collapsed": false
   },
   "outputs": [],
   "source": [
    "sum('in' == word for word in haiku.split())"
   ]
  },
  {
   "cell_type": "code",
   "execution_count": null,
   "metadata": {
    "collapsed": false
   },
   "outputs": [],
   "source": [
    "sum('in' in word for word in haiku.split())"
   ]
  },
  {
   "cell_type": "code",
   "execution_count": null,
   "metadata": {
    "collapsed": false
   },
   "outputs": [],
   "source": [
    "haiku.count('x') # returns 0 because 'x' is not a substring of haiku"
   ]
  },
  {
   "cell_type": "code",
   "execution_count": null,
   "metadata": {
    "collapsed": false
   },
   "outputs": [],
   "source": [
    "print(haiku.strip()) # Removes leading/trailing whitespace (but not internal whitespace)"
   ]
  },
  {
   "cell_type": "code",
   "execution_count": null,
   "metadata": {
    "collapsed": false
   },
   "outputs": [],
   "source": [
    "# Splits string haiku on line feed characters; returns a *list*\n",
    "lines = haiku.split('\\n')\n",
    "lines"
   ]
  },
  {
   "cell_type": "code",
   "execution_count": null,
   "metadata": {
    "collapsed": false
   },
   "outputs": [],
   "source": [
    "# We're going to jump ahead slightly in this example, i.e., using list conprehension\n",
    "# The following removes empty lines as well as trailing whitespace\n",
    "[line.strip() for line in haiku.split('\\n') if line]"
   ]
  },
  {
   "cell_type": "code",
   "execution_count": null,
   "metadata": {
    "collapsed": false
   },
   "outputs": [],
   "source": [
    "# joining pieces back together\n",
    "print(\"\\n\".join([line.strip() for line in haiku.split('\\n') if line]))"
   ]
  },
  {
   "cell_type": "code",
   "execution_count": null,
   "metadata": {
    "collapsed": false
   },
   "outputs": [],
   "source": [
    "print(haiku.upper()) # Convert to upper case, return a new string\n",
    "print(haiku)"
   ]
  },
  {
   "cell_type": "code",
   "execution_count": null,
   "metadata": {
    "collapsed": false
   },
   "outputs": [],
   "source": [
    "# replaces a source substring with target substring, return as new string\n",
    "print(haiku.replace('unsteady','wavering'))"
   ]
  },
  {
   "cell_type": "code",
   "execution_count": null,
   "metadata": {
    "collapsed": false
   },
   "outputs": [],
   "source": [
    "# nothing happens with the source substring not found\n",
    "print(haiku.replace('uneasy','wavering')) "
   ]
  },
  {
   "cell_type": "code",
   "execution_count": null,
   "metadata": {
    "collapsed": false
   },
   "outputs": [],
   "source": [
    "'uneasy' in haiku # Should evaluate to False"
   ]
  },
  {
   "cell_type": "code",
   "execution_count": null,
   "metadata": {
    "collapsed": false
   },
   "outputs": [],
   "source": [
    "'unsteady' in haiku"
   ]
  },
  {
   "cell_type": "code",
   "execution_count": null,
   "metadata": {
    "collapsed": false
   },
   "outputs": [],
   "source": [
    "haiku.endswith('stream') # Whoops, need to strip the whitespace..."
   ]
  },
  {
   "cell_type": "code",
   "execution_count": null,
   "metadata": {
    "collapsed": false
   },
   "outputs": [],
   "source": [
    "haiku.rstrip().endswith('stream') # This is what we expected..."
   ]
  },
  {
   "cell_type": "code",
   "execution_count": null,
   "metadata": {
    "collapsed": false
   },
   "outputs": [],
   "source": [
    "# Another jump ahead to map().  This is another way of iterating implicitly\n",
    "lines = map(str.strip, haiku.split('\\n'))\n",
    "[x for x in lines if x.endswith(('willow','stream'))]"
   ]
  },
  {
   "cell_type": "code",
   "execution_count": null,
   "metadata": {
    "collapsed": false
   },
   "outputs": [],
   "source": [
    "haiku.isalpha() # Only True when all characters are alphanumeric"
   ]
  },
  {
   "cell_type": "code",
   "execution_count": null,
   "metadata": {
    "collapsed": false
   },
   "outputs": [],
   "source": [
    "\"David\".isalpha() # Should be True"
   ]
  },
  {
   "cell_type": "code",
   "execution_count": null,
   "metadata": {
    "collapsed": false
   },
   "outputs": [],
   "source": [
    "haiku.isdigit()"
   ]
  },
  {
   "cell_type": "code",
   "execution_count": null,
   "metadata": {
    "collapsed": false
   },
   "outputs": [],
   "source": [
    "\"12345\".isdigit()"
   ]
  },
  {
   "cell_type": "code",
   "execution_count": null,
   "metadata": {
    "collapsed": false
   },
   "outputs": [],
   "source": [
    "# This asks \"are all the *letters* lowercase?\", \n",
    "# not \"are all the characters lowercase letters?\n",
    "haiku.islower()"
   ]
  },
  {
   "cell_type": "code",
   "execution_count": null,
   "metadata": {
    "collapsed": false
   },
   "outputs": [],
   "source": [
    "\"abc123#$%^&\".islower()"
   ]
  },
  {
   "cell_type": "code",
   "execution_count": null,
   "metadata": {
    "collapsed": false
   },
   "outputs": [],
   "source": [
    "# However, there must also *be* some letters for this to be true\n",
    "\"12345\".islower()"
   ]
  },
  {
   "cell_type": "code",
   "execution_count": null,
   "metadata": {
    "collapsed": false
   },
   "outputs": [],
   "source": [
    "help(str.islower)"
   ]
  },
  {
   "cell_type": "code",
   "execution_count": null,
   "metadata": {
    "collapsed": false
   },
   "outputs": [],
   "source": [
    "haiku.isupper()"
   ]
  },
  {
   "cell_type": "code",
   "execution_count": null,
   "metadata": {
    "collapsed": false
   },
   "outputs": [],
   "source": [
    "# Converts string haiku into a list of words\n",
    "# ... more specifically, divide the string around any sequence of whitespace\n",
    "words = haiku.split() \n",
    "words"
   ]
  },
  {
   "cell_type": "code",
   "execution_count": null,
   "metadata": {
    "collapsed": false
   },
   "outputs": [],
   "source": [
    "print(words)\n",
    "\"__\".join(words)"
   ]
  },
  {
   "cell_type": "code",
   "execution_count": null,
   "metadata": {
    "collapsed": false
   },
   "outputs": [],
   "source": [
    "\"_\".join(haiku) # Treats string haiku as list of letters; joins all with '_'"
   ]
  },
  {
   "cell_type": "code",
   "execution_count": null,
   "metadata": {
    "collapsed": false
   },
   "outputs": [],
   "source": [
    "prefixes = ('Ti', 'Da', 'Le')\n",
    "\"David\".startswith(prefixes)"
   ]
  },
  {
   "cell_type": "code",
   "execution_count": null,
   "metadata": {
    "collapsed": false
   },
   "outputs": [],
   "source": [
    "# Replaces line-feed with empty strings; puts all on one line\n",
    "print(haiku.replace('\\n',''))\n",
    "# split into substrings on 'w'; returns list\n",
    "haiku.replace('\\n','').split('w')"
   ]
  },
  {
   "cell_type": "code",
   "execution_count": null,
   "metadata": {
    "collapsed": false
   },
   "outputs": [],
   "source": [
    "# Returns leading index of first occurrence of 'aging' inside 'haiku'\n",
    "haiku.find('aging')"
   ]
  },
  {
   "cell_type": "code",
   "execution_count": null,
   "metadata": {
    "collapsed": false
   },
   "outputs": [],
   "source": [
    "# haiku.find(substring) returns -1 if the substring is not found\n",
    "print(haiku.find('old'))"
   ]
  },
  {
   "cell_type": "code",
   "execution_count": null,
   "metadata": {
    "collapsed": false
   },
   "outputs": [],
   "source": [
    "help(str.find)"
   ]
  },
  {
   "cell_type": "code",
   "execution_count": null,
   "metadata": {
    "collapsed": false
   },
   "outputs": [],
   "source": [
    "# also str.rindex() exists, and behaves as expected\n",
    "haiku.rfind('st'), haiku.find('st')"
   ]
  },
  {
   "cell_type": "code",
   "execution_count": null,
   "metadata": {
    "collapsed": false
   },
   "outputs": [],
   "source": [
    "# haiku.index is like haiku.find() with different error-handling bahaviour\n",
    "haiku.index('aging') "
   ]
  },
  {
   "cell_type": "code",
   "execution_count": null,
   "metadata": {
    "collapsed": false,
    "raises": "ValueError"
   },
   "outputs": [],
   "source": [
    "haiku.index('old') # ValueError because 'old' not substring of haiku"
   ]
  },
  {
   "cell_type": "code",
   "execution_count": null,
   "metadata": {
    "collapsed": false
   },
   "outputs": [],
   "source": [
    "haiku[0], haiku[10]"
   ]
  },
  {
   "cell_type": "code",
   "execution_count": null,
   "metadata": {
    "collapsed": false
   },
   "outputs": [],
   "source": [
    "haiku[:8]"
   ]
  },
  {
   "cell_type": "code",
   "execution_count": null,
   "metadata": {
    "collapsed": false
   },
   "outputs": [],
   "source": [
    "haiku[8:]"
   ]
  },
  {
   "cell_type": "code",
   "execution_count": null,
   "metadata": {
    "collapsed": false
   },
   "outputs": [],
   "source": [
    "haiku[8:20]"
   ]
  },
  {
   "cell_type": "code",
   "execution_count": null,
   "metadata": {
    "collapsed": false
   },
   "outputs": [],
   "source": [
    "haiku[8:20] + haiku[20:30] == haiku[8:30]"
   ]
  },
  {
   "cell_type": "code",
   "execution_count": null,
   "metadata": {
    "collapsed": false
   },
   "outputs": [],
   "source": [
    "haiku[-1]"
   ]
  },
  {
   "cell_type": "code",
   "execution_count": null,
   "metadata": {
    "collapsed": false
   },
   "outputs": [],
   "source": [
    "haiku[-20:-10]"
   ]
  },
  {
   "cell_type": "markdown",
   "metadata": {},
   "source": [
    "The distinct behaviors of `str.find` and `str.index` suggest two distinct methods for safeguarding output from a program. The first method `str.find` returns `-1` when the substring input argument does not produce a match. By contrast, the second method `str.index` returns an *exception*&mdash;in particular, the exception `ValueError` to inform us that the substring was not found in the string.\n",
    "\n",
    "Using `str.find`, we can construct an `if-else` block to flag the error. Notice that if we don't try to catch the erroneous return value `-1`, the statement `print(haiku[position:])` prints the last character of `haiku` (which happens to be `\\n`, a line feed character.\n",
    "\n",
    "Note on good programming practice: It is more dangerous to let your program *succeed* in returning a wrong answer than it is to raise an uncaught exception that you *have to* fix before working with the program.  The philosophy behind this is often expressed with the slogan *\"Fail early, fail hard!\"*"
   ]
  },
  {
   "cell_type": "code",
   "execution_count": null,
   "metadata": {
    "collapsed": false
   },
   "outputs": [],
   "source": [
    "# pos = haiku.find('old')\n",
    "# end = haiku[pos:]\n",
    "haiku[-1:]"
   ]
  },
  {
   "cell_type": "code",
   "execution_count": null,
   "metadata": {
    "collapsed": false
   },
   "outputs": [],
   "source": [
    "position = haiku.find('old')\n",
    "if position != -1:\n",
    "    print(haiku[position:])\n",
    "else:\n",
    "    print(\"Not found\")"
   ]
  },
  {
   "cell_type": "markdown",
   "metadata": {},
   "source": [
    "A more Pythonic idiom to catch an error is to use a *`try-except`* block instead. With the `try-except` block, the Python interpreter attempts to execute the statement `position = haiku.index('old')`. In this case, rather than returning an innocuous value `-1` (as `haiku.find` would do), `haiku.index` *raises an exception* (in this case, the exception `ValueError`). When an exception is raised within a `try` block, the code within the `except` block executes instead. It is generally considered better practice to raise exceptions in functions/modules that can be caught in higher-level namespaces.\n",
    "\n",
    "Programmers who have worked with languages such as C++ and Java may think of exceptions as terrible events that indicate a program is badly broken.  In contrast, Pythonic code follows the philosophy that *\"Exceptions are not that exceptional!\"*  Allowing exceptions to occur, and catching them in the appropriate place is good and expected coding style."
   ]
  },
  {
   "cell_type": "code",
   "execution_count": null,
   "metadata": {
    "collapsed": false
   },
   "outputs": [],
   "source": [
    "# More Pythonic not to allow a bad answer to pass silently\n",
    "try:\n",
    "    position = haiku.index('old')\n",
    "    print(haiku[position:])\n",
    "except Exception as e: # Exception is the broad class of all exceptions\n",
    "    # This except block catches *any* exception whatsoever\n",
    "    print(repr(e))"
   ]
  },
  {
   "cell_type": "code",
   "execution_count": null,
   "metadata": {
    "collapsed": false
   },
   "outputs": [],
   "source": [
    "# Even more Pythonic to catch only the exception we know how to deal with\n",
    "try:\n",
    "    pos = haiku.index('old')\n",
    "    print(haiku[pos:])\n",
    "except ValueError as e: # In this version, we flag the particular exception\n",
    "    # This except block executes only with a ValueError.\n",
    "    print(\"Not found\")"
   ]
  },
  {
   "cell_type": "markdown",
   "metadata": {},
   "source": [
    "## String indexing"
   ]
  },
  {
   "cell_type": "markdown",
   "metadata": {},
   "source": [
    "An important feature of string manipulation in Python is *string indexing* and *string slicing*. *Indexing* refers to extracting individual elements (characters) from Python strings. The syntax for indexing uses square brackets around an integer index to refer to a character inside the string.\n",
    "* Indexing starts at 0 at the beginning (left) of the string, e.g., the reference `s[3]` refers to the *fourth* character of the string `s` counting from the left.\n",
    "  * Sometimes using neologisms of constructing cardinal numbers from ordinal names makes clear the difference between \"which character\" and \"which index position.\"  E.g. \"zeroeth\", \"oneth\", \"two-eth\", \"three-eth\" to name indices.  If the use of fake words pains you, don't use these.\n",
    "* Negative indices start from the end (right) of the string, e.g, `s[-2]` is the second to last character in the string.\n",
    "* Trying to index with an index too large for the string throws an exception (an `IndexError`)"
   ]
  },
  {
   "cell_type": "code",
   "execution_count": null,
   "metadata": {
    "collapsed": false
   },
   "outputs": [],
   "source": [
    "s = \"My name is David\"\n",
    "print(s[11])  # Indexed from zero, so s[11] is the 12th character,; expect 'D'\n",
    "print(s[-3])  # expect 'v'\n",
    "print(len(s)) # Prints the length of the string"
   ]
  },
  {
   "cell_type": "code",
   "execution_count": null,
   "metadata": {
    "collapsed": false,
    "raises": "IndexError"
   },
   "outputs": [],
   "source": [
    "# Should raies an IndexError (last character in the string has index 15)\n",
    "print(s[16])"
   ]
  },
  {
   "cell_type": "code",
   "execution_count": null,
   "metadata": {
    "collapsed": false,
    "raises": "IndexError"
   },
   "outputs": [],
   "source": [
    "s[-17]"
   ]
  },
  {
   "cell_type": "code",
   "execution_count": null,
   "metadata": {
    "collapsed": false
   },
   "outputs": [],
   "source": [
    "# We could have checked the length using:\n",
    "len(s)   # Indices 0 .. 15"
   ]
  },
  {
   "cell_type": "markdown",
   "metadata": {},
   "source": [
    "### Immutability of Python `str` type"
   ]
  },
  {
   "cell_type": "markdown",
   "metadata": {},
   "source": [
    "A confusing feature for newcomers coming from C-family languages to Python is that strings are *immutable*; that is, individual characters/substrings within a string object cannot be overwritten once the string has been created. Thus, expressions involving string indices (or slices, see below) can occur on the right-hand side of an assignment operator, but never on the left-hand side. There are a handful of other immutable data structures in Python whose items cannot be reassigned after the object has been created. Having certain data structures being immutable enables optimizations in using dictionaries (see below)."
   ]
  },
  {
   "cell_type": "code",
   "execution_count": null,
   "metadata": {
    "collapsed": false
   },
   "outputs": [],
   "source": [
    "print(s)\n",
    "# This assignment works; s[4] on the right-hand sice of the assignment operator\n",
    "c3 = s[3]\n",
    "c3"
   ]
  },
  {
   "cell_type": "code",
   "execution_count": null,
   "metadata": {
    "collapsed": false,
    "raises": "TypeError"
   },
   "outputs": [],
   "source": [
    "s[3] = 'g' # This raises an exception (TypeError)"
   ]
  },
  {
   "cell_type": "markdown",
   "metadata": {},
   "source": [
    "## String slicing"
   ]
  },
  {
   "cell_type": "markdown",
   "metadata": {},
   "source": [
    "Beyond indexing individual elements of strings, we can also extract *slices* (substrings) from strings by specifying a (half-open) range of indices within brackets.\n",
    "* The slice `my_string[a:b]` extracts a substring with characters `my_string[a]`, `my_string[a+1]`, `my_string[a+2]`, … `my_string[b-2]`, `my_string[b-1]` from the string `my_string` (under the assumption `b>a≥0`).\n",
    "* If `a≥b`, the slice `my_string[a:b]` is the empty string.\n",
    "* If `step>0` and `b>a>0`, then the slice `my_string[a:b:step]` extracts a substring from `my_string` starting from position `a` up to (but not including) position `b` in steps of length `step`. Of course, the endpoints can be given as negative integers as well, in which case, positions are measured from the right of the string.\n",
    "* If `step<0`, the slice `my_string[a:b:step]` extracts a substring traversing the string `my_string` from right to left starting at `a`, terminating at (but not including `b`)\n",
    "* The slice `my_string[:b]` slices from the beginning of the string (position `0`) up to (but not including) postition `b`.\n",
    "* The slice `my_string[a:]` slices from position `a` up to *and including* the end of the string.\n",
    "\n",
    "These rules are more easily understood looking at examples."
   ]
  },
  {
   "cell_type": "code",
   "execution_count": null,
   "metadata": {
    "collapsed": false
   },
   "outputs": [],
   "source": [
    "print(s)\n",
    "# Slicing: pull out char 4 up to (but *not* including) char 9 from string s\n",
    "print(s[4:9]) "
   ]
  },
  {
   "cell_type": "code",
   "execution_count": null,
   "metadata": {
    "collapsed": false
   },
   "outputs": [],
   "source": [
    "s[11:] # From s[11] to the very end"
   ]
  },
  {
   "cell_type": "code",
   "execution_count": null,
   "metadata": {
    "collapsed": false
   },
   "outputs": [],
   "source": [
    "s[:11] # From the very start up to (but not including) character 11"
   ]
  },
  {
   "cell_type": "code",
   "execution_count": null,
   "metadata": {
    "collapsed": false
   },
   "outputs": [],
   "source": [
    "s[:11] + s[11:]"
   ]
  },
  {
   "cell_type": "code",
   "execution_count": null,
   "metadata": {
    "collapsed": false
   },
   "outputs": [],
   "source": [
    "s[-5] # s[-5] means the character 5 preceding the end"
   ]
  },
  {
   "cell_type": "code",
   "execution_count": null,
   "metadata": {
    "collapsed": false
   },
   "outputs": [],
   "source": [
    "s[-5:] # Equivalent to s[11:] for this string"
   ]
  },
  {
   "cell_type": "code",
   "execution_count": null,
   "metadata": {
    "collapsed": false
   },
   "outputs": [],
   "source": [
    "s[-5:-3] # Again, remember slicing is half-open (non-inclusive)"
   ]
  },
  {
   "cell_type": "code",
   "execution_count": null,
   "metadata": {
    "collapsed": false
   },
   "outputs": [],
   "source": [
    "s[1:10:3] # Specify stride of length 3 (i.e., count in steps of 3)"
   ]
  },
  {
   "cell_type": "code",
   "execution_count": null,
   "metadata": {
    "collapsed": false
   },
   "outputs": [],
   "source": [
    "s[15:8:-2]"
   ]
  },
  {
   "cell_type": "markdown",
   "metadata": {},
   "source": [
    "The next couple cells show why using half-open intervals makes reasoning about slices easier.  The end of one slice adds seamlessly to the start of one with the same index.  This helps avoid what are called \"[fence-post errors](https://en.wikipedia.org/wiki/Off-by-one_error).\"\n",
    "\n",
    "There's an old computer science joke that illustrates this:\n",
    "\n",
    "> There are two hard things in computer science: cache invalidation; naming things; and off-by-one errors."
   ]
  },
  {
   "cell_type": "code",
   "execution_count": null,
   "metadata": {
    "collapsed": false
   },
   "outputs": [],
   "source": [
    "s[3:7] + s[7:10] # Remember, + operator concatenates strings..."
   ]
  },
  {
   "cell_type": "code",
   "execution_count": null,
   "metadata": {
    "collapsed": false
   },
   "outputs": [],
   "source": [
    "s[:5] + s[5:]"
   ]
  },
  {
   "cell_type": "markdown",
   "metadata": {},
   "source": [
    "## String conversions and `format`"
   ]
  },
  {
   "cell_type": "markdown",
   "metadata": {},
   "source": [
    "It is possible to cast numeric values from strings if the strings represent appropriate numeric literals."
   ]
  },
  {
   "cell_type": "code",
   "execution_count": null,
   "metadata": {
    "collapsed": false
   },
   "outputs": [],
   "source": [
    "print(float(\"3.14\"), int(\"-8\"))"
   ]
  },
  {
   "cell_type": "markdown",
   "metadata": {},
   "source": [
    "### Format strings (old-style)"
   ]
  },
  {
   "cell_type": "markdown",
   "metadata": {},
   "source": [
    "Prior to Python 2.6, the principle way of conversting numeric data and other Python data into strings was using *string interpolation*.  The syntax of this style resembles conventions from the C programming language's `printf` statement. The basic trick was to use a `%` character preceding one of the characters in the table below to specify what would be substituted into the format string.\n",
    "\n",
    "String interpolation remains widely used, but the newer `str.format()` method is more powerful, albeit also often more complicated."
   ]
  },
  {
   "cell_type": "markdown",
   "metadata": {},
   "source": [
    "| Conversion | Meaning\n",
    "| :-:   | :-:\n",
    "|`d`     |      Signed integer decimal.\n",
    "|`i`     |      Signed integer decimal.\n",
    "|`o`     |      Unsigned octal.\n",
    "|`u`     |      Unsigned decimal.\n",
    "|`x`     |      Unsigned hexadecimal (lowercase).\n",
    "|`X`     |      Unsigned hexadecimal (uppercase).\n",
    "|`e`     |      Floating point exponential format (lowercase).\n",
    "|`E`     |      Floating point exponential format (uppercase).\n",
    "|`f`     |      Floating point decimal format.\n",
    "|`F`     |      Floating point decimal format.\n",
    "|`g`     |      Same as \"`e`\" if exponent is greater than `-4` or less than precision, \"`f`\" otherwise.\n",
    "|`G`     |      Same as \"`E`\" if exponent is greater than `-4` or less than precision, \"`F`\" otherwise.\n",
    "|`c`     |      Single character (accepts integer or single character string).\n",
    "|`r`     |      String (converts any Python object using `repr()`).\n",
    "|`s`     |      String (converts any Python object using `str()`).\n",
    "|`%`     |      No argument is converted, results in a \"`%`\" character in the result.\n",
    "\n",
    "The format string followed by the `%` character and a Python tuple of values to convert described the \"string interpolation\". The generic syntax for variable substitution in a format string is\n",
    "\n",
    "        %[flags][width][.precision]type\n",
    "\n",
    "where `flags`, `width`, and `precision` are optional parameters."
   ]
  },
  {
   "cell_type": "code",
   "execution_count": null,
   "metadata": {
    "collapsed": false
   },
   "outputs": [],
   "source": [
    "a = str(42.5)\n",
    "print(a)\n",
    "# String interpolation (C-style, more or less)\n",
    "# i.e. %[flags][width][.precision]type\n",
    "from math import pi\n",
    "print(\"Pi is about %d, in %s\" % (pi, \"Indiana\"))\n",
    "\"For rough use, we often just use %0.4f\" % pi"
   ]
  },
  {
   "cell_type": "code",
   "execution_count": null,
   "metadata": {
    "collapsed": false
   },
   "outputs": [],
   "source": [
    "# Notice that if just one value is being interpolated into the string, \n",
    "# we can give the bare value.  However, if multiple, must use a tuple.\n",
    "\"For rough use, we often just use %0.7f\" % pi"
   ]
  },
  {
   "cell_type": "code",
   "execution_count": null,
   "metadata": {
    "collapsed": false
   },
   "outputs": [],
   "source": [
    "\"Better precision is %.17f\" % pi"
   ]
  },
  {
   "cell_type": "code",
   "execution_count": null,
   "metadata": {
    "collapsed": false
   },
   "outputs": [],
   "source": [
    "\"Past 17 digits, floating point precision is meaningless: %.30f\" % pi"
   ]
  },
  {
   "cell_type": "code",
   "execution_count": null,
   "metadata": {
    "collapsed": false
   },
   "outputs": [],
   "source": [
    "\"Octal %o; Decimal %i; HEX %X; hex %x; Octal w/ marker %#o; Hex w/ marker %#X\" % (\n",
    "       13,         13,     13,     13,                 13,                13)"
   ]
  },
  {
   "cell_type": "code",
   "execution_count": null,
   "metadata": {
    "collapsed": false
   },
   "outputs": [],
   "source": [
    "\"Explicit signs %+d, %+d\" % (-13, 13)"
   ]
  },
  {
   "cell_type": "code",
   "execution_count": null,
   "metadata": {
    "collapsed": false
   },
   "outputs": [],
   "source": [
    "\"Zero padded ints %+06d, %+06d\" % (-13, 13)"
   ]
  },
  {
   "cell_type": "code",
   "execution_count": null,
   "metadata": {
    "collapsed": false
   },
   "outputs": [],
   "source": [
    "\"Space padded ints %6d, %6d\" % (-13, 13)"
   ]
  },
  {
   "cell_type": "code",
   "execution_count": null,
   "metadata": {
    "collapsed": false
   },
   "outputs": [],
   "source": [
    "\"A scientific notation format %.3e using 'e'\" % 1234567890"
   ]
  },
  {
   "cell_type": "markdown",
   "metadata": {},
   "source": [
    "### The `str.format()` mini-language"
   ]
  },
  {
   "cell_type": "markdown",
   "metadata": {},
   "source": [
    "The `format()` function and `str.format()` method of strings are enormously powerful, and occassionally enormously confusing. An excellent summary of the differences (with examples) can be found at [Pyformat](https://pyformat.info/).\n",
    "\n",
    "Let's try a few examples both with old-style string interpolation and with `str.format`."
   ]
  },
  {
   "cell_type": "code",
   "execution_count": null,
   "metadata": {
    "collapsed": false
   },
   "outputs": [],
   "source": [
    "# Define a tuple of numeric values, say dollar amounts.\n",
    "expenses = (1234.5678, 9900000.1, 83, .02)\n",
    "for n, item in enumerate(expenses):\n",
    "    print(\"Purchase %d:\\t$%.2f\" % (n+1, item))"
   ]
  },
  {
   "cell_type": "markdown",
   "metadata": {},
   "source": [
    "We can do better than the last cell using a `format` specifier. In particular, two things we want in formatted currencies is comma separators in large numbers and right alignment."
   ]
  },
  {
   "cell_type": "code",
   "execution_count": null,
   "metadata": {
    "collapsed": false
   },
   "outputs": [],
   "source": [
    "format_string = \"Purchase {}:\\t${:>13,.2f}\" # Format string using new format mini-language\n",
    "for n, item in enumerate(expenses):\n",
    "    print(format_string.format(n+1, item))"
   ]
  },
  {
   "cell_type": "markdown",
   "metadata": {},
   "source": [
    "We compactly described the currency format above. However, we may rather have the dollar sign close to its amount. This needs to be done in two stages."
   ]
  },
  {
   "cell_type": "code",
   "execution_count": null,
   "metadata": {
    "collapsed": false
   },
   "outputs": [],
   "source": [
    "format_string = \"Purchase {}:\\t{:>14}\"\n",
    "for n, item in enumerate(expenses):\n",
    "    amount = \"${:,.2f}\".format(item)\n",
    "    print(format_string.format(n+1, amount))"
   ]
  },
  {
   "cell_type": "markdown",
   "metadata": {},
   "source": [
    "### Details on the `str.format()` mini-language"
   ]
  },
  {
   "cell_type": "markdown",
   "metadata": {},
   "source": [
    "Take a look at this for a complete description of the `str.format()` mini language: https://docs.python.org/3.4/library/string.html#formatstrings\n",
    "\n",
    "| Option | Meaning\n",
    "|:------:|:--------------------------------------\n",
    "| `<`      | The field will be left-aligned within the available space. The default for strings.\n",
    "| `>`      | The field will be right-aligned within the available space. The default for numbers.\n",
    "| `=`      | Forces the padding to be placed after the sign (if any) but before the digits. This is used for printing fields in the form \"`+000000120`\". This alignment option is only valid for numeric types.\n",
    "| `^`      | Forces the field to be centered within the available space.\n",
    "| `+`      | A sign should be used for both positive as well as negative numbers.\n",
    "| `-`      | A sign should be used only for negative numbers; the default behavior.\n",
    "| `space`  | A leading space should be used on positive numbers, a minus sign on negative numbers."
   ]
  },
  {
   "cell_type": "markdown",
   "metadata": {},
   "source": [
    "Notice that `str.format()` permits several data structures for specifiying values."
   ]
  },
  {
   "cell_type": "code",
   "execution_count": null,
   "metadata": {
    "collapsed": false
   },
   "outputs": [],
   "source": [
    "# parameters can be out of order...\n",
    "print(\"The capital of {1:s} is {2:s}, a {0:s} city\".format(\n",
    "                      \"Northern\", \"California\", \"Sacramento\", \"USA\"))"
   ]
  },
  {
   "cell_type": "code",
   "execution_count": null,
   "metadata": {
    "collapsed": false
   },
   "outputs": [],
   "source": [
    "# Using keyword arguments to specify values to format\n",
    "print(\"The capital of {state} is {capital}\".format(\n",
    "                      capital=\"Sacramento\", state=\"California\", country=\"USA\"))"
   ]
  },
  {
   "cell_type": "markdown",
   "metadata": {},
   "source": [
    "See the above linked documents for more full details."
   ]
  }
 ],
 "metadata": {
  "celltoolbar": "Edit Metadata",
  "continuum": {
   "depends": [
    "ip_datatypes",
    "ip_essentials"
   ],
   "tag": "ip_strings"
  },
  "kernelspec": {
   "display_name": "Python 2",
   "language": "python",
   "name": "python2"
  },
  "language_info": {
   "codemirror_mode": {
    "name": "ipython",
    "version": 2
   },
   "file_extension": ".py",
   "mimetype": "text/x-python",
   "name": "python",
   "nbconvert_exporter": "python",
   "pygments_lexer": "ipython2",
   "version": "2.7.11"
  }
 },
 "nbformat": 4,
 "nbformat_minor": 0
}
