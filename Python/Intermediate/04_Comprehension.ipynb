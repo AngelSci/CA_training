{
 "cells": [
  {
   "cell_type": "markdown",
   "metadata": {},
   "source": [
    "# Table of Contents\n",
    "* [Learning Objectives:](#Learning-Objectives:)\n",
    "* [Comprehensions](#Comprehensions)\n",
    "\t* [Budget Example](#Budget-Example)\n"
   ]
  },
  {
   "cell_type": "markdown",
   "metadata": {},
   "source": [
    "# Learning Objectives:"
   ]
  },
  {
   "cell_type": "markdown",
   "metadata": {},
   "source": [
    "After completion of this module, learners should be able to:\n",
    "\n",
    "* use comprehensions to replace complex nests of loops & conditionals"
   ]
  },
  {
   "cell_type": "markdown",
   "metadata": {},
   "source": [
    "# Comprehensions"
   ]
  },
  {
   "cell_type": "markdown",
   "metadata": {},
   "source": [
    "Various builtin data collections in Python can be constructed using *comprehensions*. Comprehensions are a compact way to construct a data collection \"all at once\" rather than building them up incrementally within a loop.\n",
    "As an example, consider the cell below that opens a file, reads the lines, and splits each line into a list of words."
   ]
  },
  {
   "cell_type": "code",
   "execution_count": null,
   "metadata": {
    "collapsed": false
   },
   "outputs": [],
   "source": [
    "the_words = '''We choose to go to the moon in this decade and do the other things, \n",
    "not because they are easy, but because they are hard, \n",
    "because that goal will serve to organize and measure the best of our energies and skills, \n",
    "because that challenge is one that we are willing to accept, one we are unwilling to postpone, \n",
    "and one which we intend to win.'''\n",
    "\n",
    "wordlist=the_words.replace(',','').split()\n",
    "print(wordlist)"
   ]
  },
  {
   "cell_type": "markdown",
   "metadata": {},
   "source": [
    "Suppose we wish to construct a new list from `wordlist` that consists only of words that contain the letter `s`. To do this, we initialize an empty list and nest an `if` block within a `for `loop to build up the new list."
   ]
  },
  {
   "cell_type": "code",
   "execution_count": null,
   "metadata": {
    "collapsed": false
   },
   "outputs": [],
   "source": [
    "# Nested if block within for loop to build new list\n",
    "newlist = []\n",
    "for word in wordlist:\n",
    "    if 's' in word:\n",
    "        newlist.append(word)\n",
    "newlist"
   ]
  },
  {
   "cell_type": "code",
   "execution_count": null,
   "metadata": {
    "collapsed": false
   },
   "outputs": [],
   "source": [
    "# A list comprehension equivalent to the loop above\n",
    "[word for word in wordlist if 's' in word]"
   ]
  },
  {
   "cell_type": "markdown",
   "metadata": {},
   "source": [
    "The *list comprehension* replaces the second `for` loop to build up `new_list`. The basic form is\n",
    "\n",
    "```python\n",
    "[expression for item in collection if condition]\n",
    "```"
   ]
  },
  {
   "cell_type": "markdown",
   "metadata": {},
   "source": [
    "where *`collection`* is some iterable data collection, *`condition`* is a boolean-valued expression that can be applied to each `item` in *`collection`*, and *`expression`* is computation that can be applied to each express `item` in *`collection`*. This general list comprehension is equivalent to a `for` loop:\n",
    "\n",
    "```python\n",
    "new_list = []\n",
    "for item in collection:\n",
    "    if condition:\n",
    "        new_list.append(expression)\n",
    "```"
   ]
  },
  {
   "cell_type": "code",
   "execution_count": null,
   "metadata": {
    "collapsed": false
   },
   "outputs": [],
   "source": [
    "# expressions can be used to apply transformations\n",
    "[word.upper() for word in wordlist if 's' in word]"
   ]
  },
  {
   "cell_type": "markdown",
   "metadata": {},
   "source": [
    "Comprehensions are sometimes confusing for newcomers to Python. Part of the appeal of comprehensions is that they transform a conditional block nested within a loop into an almost colloquial expression, i.e., they read almost like spoken English. Comprehensions are not restricted to lists as well.\n",
    "\n",
    "* A *set comprehension* is a similar construction used to build up a set:\n",
    "\n",
    "```python\n",
    "new_set = {expression for item in collection if condition}\n",
    "```"
   ]
  },
  {
   "cell_type": "markdown",
   "metadata": {},
   "source": [
    "* A *dict comprehension* builds a dictionary in a similar way:\n",
    "\n",
    "```python\n",
    "new_dict = {key_expression:value_expression for item in collection if condition}\n",
    "```"
   ]
  },
  {
   "cell_type": "markdown",
   "metadata": {},
   "source": [
    "where *`key_expression`* and *`value_expression`*  depend on the `item` selected from *`collection`*."
   ]
  },
  {
   "cell_type": "code",
   "execution_count": null,
   "metadata": {
    "collapsed": false
   },
   "outputs": [],
   "source": [
    "# A set comprehension\n",
    "{word for word in wordlist if 's' in word}"
   ]
  },
  {
   "cell_type": "code",
   "execution_count": null,
   "metadata": {
    "collapsed": false
   },
   "outputs": [],
   "source": [
    "# A dict comprehension\n",
    "{pos:word for pos, word in enumerate(wordlist) if 's' in word}"
   ]
  },
  {
   "cell_type": "markdown",
   "metadata": {},
   "source": [
    "## Budget Example"
   ]
  },
  {
   "cell_type": "markdown",
   "metadata": {},
   "source": [
    "Looking back at our budget data structure from above we can write a number of useful comprehensions. This comprehension asks the same question as our full loop above. In what years did `edu` and `research` exceed 3% of the total federal budget."
   ]
  },
  {
   "cell_type": "code",
   "execution_count": null,
   "metadata": {
    "collapsed": true
   },
   "outputs": [],
   "source": [
    "federal=[3457079000., 3603059000., 3536951000., 3454647000., 3506089000., 3758577000., 3999467000.]\n",
    "edu=[ 94169000.,  67584000.,  59605000.,  41882000.,  60917000., 104189000., 69939000.]\n",
    "research=[11730000., 12434000., 12458000., 12479000., 12011000., 12271000., 12824000.]\n",
    "soc=[706737000., 730811000., 773290000., 813551000., 850533000., 896294000., 944338000.]\n",
    "defense=[666703000., 678064000., 650851000., 607795000., 577897000., 567703000., 586479000.]\n",
    "years=[2010,2011,2012,2013,2014,2015,2016]\n",
    "\n",
    "budget = []\n",
    "for year, f, r, s, e, d, in zip(years,federal,research,soc,edu,defense):\n",
    "    # Each year is a dictionary\n",
    "    budget.append({\n",
    "        'year':year,\n",
    "        'federal':f,\n",
    "        'research':r,\n",
    "        'soc':s,\n",
    "        'edu':e,\n",
    "        'defense':d\n",
    "    })"
   ]
  },
  {
   "cell_type": "code",
   "execution_count": null,
   "metadata": {
    "collapsed": false
   },
   "outputs": [],
   "source": [
    "[year['year'] for year in budget if (year['edu']+year['research'])/year['federal'] > 0.03]"
   ]
  },
  {
   "cell_type": "markdown",
   "metadata": {},
   "source": [
    "Using nested comprehensions we can make a `set` of all Subfuction Title's that have exceeded 1% of the federal budget across every year available."
   ]
  },
  {
   "cell_type": "code",
   "execution_count": null,
   "metadata": {
    "collapsed": false
   },
   "outputs": [],
   "source": [
    "{subfunc for year in budget \n",
    "         for subfunc in (set(year.keys()) - {'year','federal'}) \n",
    "         if year[subfunc]/year['federal']>0.01}"
   ]
  },
  {
   "cell_type": "markdown",
   "metadata": {},
   "source": [
    "The expression `set(year.keys()) - {'year','federal'}` takes set of keys, removes `year` and `federal` and returns a new set. This could have been achieved by adding `and subfunc not in ['year','federal']` to the `if` clause.  Note that in Python 3 `set(year.keys())` could be simplified to `year.keys()` because `keys()` returns a set in Python 3 but a list in Python 2."
   ]
  },
  {
   "cell_type": "code",
   "execution_count": null,
   "metadata": {
    "collapsed": false
   },
   "outputs": [],
   "source": [
    "{subfunc for year in budget \n",
    "         for subfunc in year.keys() \n",
    "         if year[subfunc]/year['federal']>0.01 and subfunc not in ['year', 'federal']}"
   ]
  },
  {
   "cell_type": "markdown",
   "metadata": {},
   "source": [
    "We can easily add more data to our budget data structure by preparing new dictionaries and inserting them into the  list. Notice that all of the dictionaries in the list don't have the same number of keys."
   ]
  },
  {
   "cell_type": "code",
   "execution_count": null,
   "metadata": {
    "collapsed": false
   },
   "outputs": [],
   "source": [
    "fy2000={\n",
    "    \"year\":2000,\n",
    "    'medicare':197113000.,\n",
    "    'edu':30693000.,\n",
    "    'federal':1788950000.,\n",
    "    'research':6167000.,\n",
    "    'soc':409423000.\n",
    "}\n",
    "\n",
    "budget.insert(0,fy2000)\n",
    "\n",
    "fy2003={\n",
    "    'year':2003,\n",
    "    'federal':2159899000.,\n",
    "    'defense':387136000.,\n",
    "    'soc':474680000.\n",
    "}\n",
    "\n",
    "budget.insert(1,fy2003)"
   ]
  },
  {
   "cell_type": "markdown",
   "metadata": {},
   "source": [
    "Without actually having to know all of the keys in the individual dictionaries we were able to discover that *medicare* had also contributed to more than 1% of the total budget for the provided years."
   ]
  },
  {
   "cell_type": "code",
   "execution_count": null,
   "metadata": {
    "collapsed": false
   },
   "outputs": [],
   "source": [
    "[year['year'] for year in budget]"
   ]
  },
  {
   "cell_type": "code",
   "execution_count": null,
   "metadata": {
    "collapsed": false
   },
   "outputs": [],
   "source": [
    "{subfunc for year in budget\n",
    "         for subfunc in (set(year.keys()) - {'year','federal'}) \n",
    "         if year[subfunc]/year['federal']>0.01}"
   ]
  },
  {
   "cell_type": "markdown",
   "metadata": {},
   "source": [
    "Our nested comprehension also allows for two `if` clauses. Here we are only searching for Subfunction Titles in years after 2010."
   ]
  },
  {
   "cell_type": "code",
   "execution_count": null,
   "metadata": {
    "collapsed": false
   },
   "outputs": [],
   "source": [
    "{subfunc for year in budget if year['year'] > 2010\n",
    "         for subfunc in (set(year.keys()) - {'year','federal'}) \n",
    "         if year[subfunc]/year['federal']>0.01}"
   ]
  }
 ],
 "metadata": {
  "continuum": {
   "depends": [
    "ip_datatypes",
    "ip_essentials",
    "ip_containers",
    "ip_flowcontrol"
   ],
   "requires": [],
   "tag": "ip_comprehension"
  },
  "kernelspec": {
   "display_name": "Python 2",
   "language": "python",
   "name": "python2"
  },
  "language_info": {
   "codemirror_mode": {
    "name": "ipython",
    "version": 2
   },
   "file_extension": ".py",
   "mimetype": "text/x-python",
   "name": "python",
   "nbconvert_exporter": "python",
   "pygments_lexer": "ipython2",
   "version": "2.7.11"
  }
 },
 "nbformat": 4,
 "nbformat_minor": 0
}
