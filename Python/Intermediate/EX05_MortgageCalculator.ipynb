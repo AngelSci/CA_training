{
 "cells": [
  {
   "cell_type": "markdown",
   "metadata": {},
   "source": [
    "# Table of Contents\n",
    "* [Exercise (mortgage calculator)](#Exercise-%28mortgage-calculator%29)\n"
   ]
  },
  {
   "cell_type": "markdown",
   "metadata": {},
   "source": [
    "# Exercise (mortgage calculator) "
   ]
  },
  {
   "cell_type": "markdown",
   "metadata": {},
   "source": [
    "Take a look at an example [balloon mortgage calculator](http://www.mortgagecalculator.org/calcs/balloon.php).\n",
    "\n",
    "Here's [another example with equations](http://www.had2know.com/finance/balloon-mortgage-calculator-equation.html).\n",
    "\n",
    "Let's duplicate the functionality of that web page (and we can use it to check our answers).  Here is information we need to collect:\n",
    "\n",
    "* How much are you looking to borrow?\n",
    "* What is the loan's annual interest rate?\t\n",
    "* What is the term of the loan in months?\t\n",
    "* Upfront payment amount?\t\n",
    "* Balloon payment at end?\n",
    "\n",
    "We'd like to produce these calculated data:\n",
    "  \n",
    "* This is the amount of your monthly payment\n",
    "* Total monthly payments\n",
    "* Paid upfront\n",
    "* Balloon payment due at end\n",
    "* Total of all payments\n",
    "* Total interest cost\n",
    "* Effective annual rate"
   ]
  }
 ],
 "metadata": {
  "continuum": {
   "depends": [
    "ip_functions",
    "ip_essentials",
    "ip_flowcontrol",
    "ip_datatypes"
   ],
   "requires": [],
   "tag": "ip_ex_mortgage"
  },
  "kernelspec": {
   "display_name": "Python 3",
   "language": "python",
   "name": "python3"
  },
  "language_info": {
   "codemirror_mode": {
    "name": "ipython",
    "version": 3
   },
   "file_extension": ".py",
   "mimetype": "text/x-python",
   "name": "python",
   "nbconvert_exporter": "python",
   "pygments_lexer": "ipython3",
   "version": "3.4.3"
  }
 },
 "nbformat": 4,
 "nbformat_minor": 0
}
