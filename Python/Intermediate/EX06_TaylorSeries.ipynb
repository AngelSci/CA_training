{
 "cells": [
  {
   "cell_type": "markdown",
   "metadata": {},
   "source": [
    "# Table of Contents\n",
    "* [Exercise (Taylor series)](#Exercise-%28Taylor-series%29)\n",
    "\t* [The function](#The-function)\n",
    "\t* [Testing behavior](#Testing-behavior)\n"
   ]
  },
  {
   "cell_type": "markdown",
   "metadata": {},
   "source": [
    "# Exercise (Taylor series)"
   ]
  },
  {
   "cell_type": "markdown",
   "metadata": {},
   "source": [
    "Your goal in this question is to modify a working Python program.\n",
    "\n",
    "To begin, review the functions below.  Observe that the principal function uses the Taylor/Maclaurin series expansion:\n",
    "\n",
    "$$e^x = \\sum_{k=0}^{\\infty} \\frac{x^{k}}{k!}$$\n",
    "\n",
    "to approximate the exponential function. Another function returns a list of tuples of values useful for comparing this approximation to the values computed using the function `math.exp` from the Python math module.\n",
    "\n",
    "The function `exp_taylor()` illustrates that the Taylor series approximation for $e^x$ works reasonably well when $x\\ge0$ but not so well when $x<0$. A better idea when $x<0$ is to compute the partial sums of the Taylor series expansion for $e^{-x}$ and to return the reciprocal of the computed partial sum.\n",
    "\n",
    "Modify the function `exp_taylor()` so that it uses this strategy. The result will be that the table produced by the function `test_exp_taylor()` will be more accurate for negative values of $x$, and will converge with fewer terms."
   ]
  },
  {
   "cell_type": "markdown",
   "metadata": {},
   "source": [
    "## The function"
   ]
  },
  {
   "cell_type": "code",
   "execution_count": null,
   "metadata": {
    "collapsed": true
   },
   "outputs": [],
   "source": [
    "import math\n",
    "\n",
    "def exp_taylor(x, N_terms, tol=1e-16):\n",
    "    term = 1.0\n",
    "    partial_sum = term\n",
    "    for j in range(1, N_terms+1):\n",
    "        term *= x/float(j)       # jth term = x**j / (j!)\n",
    "        partial_sum += term      # Partial sum incremented in-place\n",
    "        if (abs(term) < tol * abs(partial_sum)):\n",
    "            break                # Halt when terms sufficiently small\n",
    "    return partial_sum, j        # returns value & number or terms summed"
   ]
  },
  {
   "cell_type": "markdown",
   "metadata": {},
   "source": [
    "## Testing behavior"
   ]
  },
  {
   "cell_type": "code",
   "execution_count": null,
   "metadata": {
    "collapsed": false
   },
   "outputs": [],
   "source": [
    "from collections import namedtuple\n",
    "\n",
    "def test_exp_taylor(low=-20, high=20, step=4, N_max=100, ):\n",
    "    result = namedtuple(\"Result\", \"x N_terms exp_true y rel_err\")\n",
    "    for x in range(low, high, step):\n",
    "        y, N_terms = exp_taylor(x, N_max)\n",
    "        exp_true = math.exp(x)\n",
    "        rel_err = abs((y-exp_true)/exp_true)\n",
    "        yield result(x, N_terms, exp_true, y, rel_err)"
   ]
  },
  {
   "cell_type": "code",
   "execution_count": null,
   "metadata": {
    "collapsed": false
   },
   "outputs": [],
   "source": [
    "print(next(test_exp_taylor(-1,0)))"
   ]
  },
  {
   "cell_type": "code",
   "execution_count": null,
   "metadata": {
    "collapsed": false
   },
   "outputs": [],
   "source": [
    "header = '''\n",
    "    x        # terms         true             approximate      relative error\n",
    "============================================================================='''\n",
    "row = \"%8.4f %8d %19g %19g %19g\"\n",
    "\n",
    "print(header[1:])\n",
    "for vals in test_exp_taylor():\n",
    "    print(row %  vals)"
   ]
  }
 ],
 "metadata": {
  "continuum": {
   "depends": [
    "ip_functions",
    "ip_essentials",
    "ip_datatypes",
    "ip_flowcontrol"
   ],
   "tag": "ip_ex_taylor"
  },
  "kernelspec": {
   "display_name": "Python 3",
   "language": "python",
   "name": "python3"
  },
  "language_info": {
   "codemirror_mode": {
    "name": "ipython",
    "version": 3
   },
   "file_extension": ".py",
   "mimetype": "text/x-python",
   "name": "python",
   "nbconvert_exporter": "python",
   "pygments_lexer": "ipython3",
   "version": "3.4.4"
  }
 },
 "nbformat": 4,
 "nbformat_minor": 0
}
