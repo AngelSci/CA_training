{
 "cells": [
  {
   "cell_type": "markdown",
   "metadata": {},
   "source": [
    "# Table of Contents\n",
    "* [Learning Objectives:](#Learning-Objectives:)\n",
    "\t* [Calling with special forms](#Calling-with-special-forms)\n",
    "\t\t* [Tuple Expansion](#Tuple-Expansion)\n",
    "\t\t* [Keyword Expansion](#Keyword-Expansion)\n",
    "\t* [Docstrings](#Docstrings)\n",
    "\t* [Scope of assignment](#Scope-of-assignment)\n",
    "\t* [Modifying global assignments](#Modifying-global-assignments)\n",
    "* [Variadic Functions](#Variadic-Functions)\n"
   ]
  },
  {
   "cell_type": "markdown",
   "metadata": {},
   "source": [
    "# Learning Objectives:"
   ]
  },
  {
   "cell_type": "markdown",
   "metadata": {},
   "source": [
    "After completion of this module, learners should be able to:\n",
    "\n",
    "* use & explain rules regarding indentation, namespaces, local/global variables, & docstrings with Python functions\n",
    "* use & explain Python rules regarding positional, keyword, & variadic arguments"
   ]
  },
  {
   "cell_type": "markdown",
   "metadata": {},
   "source": [
    "## Calling with special forms"
   ]
  },
  {
   "cell_type": "code",
   "execution_count": null,
   "metadata": {
    "collapsed": false
   },
   "outputs": [],
   "source": [
    "def compound_interest_v4(n, r, A0=1000.0, debug=False):\n",
    "    if debug:\n",
    "        print('n =', n)\n",
    "        print('r =', r)\n",
    "        print('A0 =', A0)\n",
    "    value = A0*(1+0.01*r)**n\n",
    "    interest = value - A0\n",
    "    return value, interest\n",
    "\n",
    "P = 2000.00\n",
    "rate = 4.75\n",
    "term = 15\n",
    "amount, interest = compound_interest_v4(term, rate, P)\n",
    "print('After %d intervals, the value is $%.2f, amounting to $%.2f in interest.' % (\n",
    "             term, amount, interest))"
   ]
  },
  {
   "cell_type": "markdown",
   "metadata": {},
   "source": [
    "### Tuple Expansion"
   ]
  },
  {
   "cell_type": "markdown",
   "metadata": {},
   "source": [
    "Just as we can use tuple expansion for returns we can use tuple expansion to provide input arguments to a function."
   ]
  },
  {
   "cell_type": "code",
   "execution_count": null,
   "metadata": {
    "collapsed": false
   },
   "outputs": [],
   "source": [
    "invest_tuple = (term, rate, P)\n",
    "amount, interest = compound_interest_v4(*invest_tuple)\n",
    "print('After %d intervals, the value is $%.2f, amounting to $%.2f in interest.' % (\n",
    "             term, amount, interest))"
   ]
  },
  {
   "cell_type": "code",
   "execution_count": null,
   "metadata": {
    "collapsed": false
   },
   "outputs": [],
   "source": [
    "# Lists work too\n",
    "invest_list = [term, rate, P]\n",
    "amount, interest = compound_interest_v4(*invest_list)\n",
    "print('After %d intervals, the value is $%.2f, amounting to $%.2f in interest.' % (\n",
    "             term, amount, interest))"
   ]
  },
  {
   "cell_type": "markdown",
   "metadata": {},
   "source": [
    "### Keyword Expansion"
   ]
  },
  {
   "cell_type": "markdown",
   "metadata": {},
   "source": [
    "When using tuple expansion all of the arguments must be provided in order. We can also use dictionaries to provide keyword arguments to the function call. Notice that the keys in the dictionary must match the *dummy* argument names in the function definition."
   ]
  },
  {
   "cell_type": "code",
   "execution_count": null,
   "metadata": {
    "collapsed": false
   },
   "outputs": [],
   "source": [
    "invest_dict = {'r':rate, 'A0':P, 'debug':True, 'n':term}\n",
    "amount, interest = compound_interest_v4(**invest_dict)\n",
    "print('After %d intervals, the value is $%.2f, amounting to $%.2f in interest.' % (\n",
    "             term, amount, interest))"
   ]
  },
  {
   "cell_type": "markdown",
   "metadata": {},
   "source": [
    "## Docstrings"
   ]
  },
  {
   "cell_type": "markdown",
   "metadata": {},
   "source": [
    "Finally, we will add a Python *docstring* as documentation of the function's intended use and purpose. To do this, we follow the function definition line immediately with a string. Docstrings are very useful to help users remember what order the input arguments should have and which arguments are optional in function invocation. docstrings frequently begin with a triple quotation delimiter (either `'''` or `\"\"\"`) in order to provide multiple lines of documentation.  The docstring simply needs to be suitably indented on the line immediately following the colon terminating the function definition line. To find out more about conventions for writing docstrings, consult [PEP 0257](https://www.python.org/dev/peps/pep-0257/)."
   ]
  },
  {
   "cell_type": "code",
   "execution_count": null,
   "metadata": {
    "collapsed": false
   },
   "outputs": [],
   "source": [
    "# Fifth version with documentation\n",
    "def compound_interest_v5(n, r, A0=1000.0, debug=False): \n",
    "    \"\"\"Compound interest at given rate from a principal over a number of intervals.\n",
    "    \n",
    "    Calling syntax: compound_interest_v5(n, r, A0, debug)\n",
    "\n",
    "    Input:\n",
    "    =====\n",
    "    n: number of time intervals over which interest is computed\n",
    "    r: interest rate (between 0 and 100)\n",
    "    A0: amount of principal (default: 1000.00)\n",
    "    debug: boolean flag to print extra debugging information (default: False)\n",
    "    \n",
    "    Output:\n",
    "    ======\n",
    "    value: total amount with interest compounded included\n",
    "    interest: total interest accumulated over investment period\n",
    "    \n",
    "    Warning: Be sure to scale the interest rate r properly That is, if the interest \n",
    "    is stated as 4.5%, then use r=4.5 in the function invocation (and not r=0.045). \n",
    "    Also, at present, the number of time intervals n is assumed to be a positive integer.\n",
    "    There is no error-checking, so meaningless results can be returned without warning.\n",
    "    \"\"\"\n",
    "    if debug:\n",
    "        print('n =', n)\n",
    "        print('r =', r)\n",
    "        print('A0 = ', A0)\n",
    "    value = A0*(1+0.01*r)**n\n",
    "    interest = value - A0\n",
    "    return value, interest"
   ]
  },
  {
   "cell_type": "code",
   "execution_count": null,
   "metadata": {
    "collapsed": false
   },
   "outputs": [],
   "source": [
    "help(compound_interest_v5) # calling help to see the docstring\n",
    "# In Jupyter, we might use:\n",
    "#    compound_interest_v5?\n",
    "# This pops up a separate frame to scroll the documentation"
   ]
  },
  {
   "cell_type": "markdown",
   "metadata": {},
   "source": [
    "In many Integrated Development Environments or code editors, the first line of a docstring is often used as a \"tooltip\" or popup to summarize the purpose of a function or class.  We can manually see what might be shown in these editors with something like:"
   ]
  },
  {
   "cell_type": "code",
   "execution_count": null,
   "metadata": {
    "collapsed": false,
    "py2_raises": "AttributeError"
   },
   "outputs": [],
   "source": [
    "def tooltip(obj):\n",
    "    try:\n",
    "        print(obj.__qualname__, \"\\n   \", obj.__doc__.splitlines()[0])\n",
    "    except AttributeError:\n",
    "        print(obj.__qualname__, \"\\n    No docstring available\")\n",
    "        \n",
    "tooltip(compound_interest_v4)\n",
    "tooltip(compound_interest_v5)"
   ]
  },
  {
   "cell_type": "markdown",
   "metadata": {},
   "source": [
    "## Scope of assignment"
   ]
  },
  {
   "cell_type": "markdown",
   "metadata": {},
   "source": [
    "In Python functions have their own *namespace* (sometimes called *scope*) within which assignments used do not conflict with assignments used in the global namespace.\n",
    "* Assignments made in the *local* scope (within a function body) do not affect assignments in the *global* namespace."
   ]
  },
  {
   "cell_type": "code",
   "execution_count": null,
   "metadata": {
    "collapsed": false
   },
   "outputs": [],
   "source": [
    "pi = 3.14\n",
    "def area(r):\n",
    "    # Notice that we _use_ pi from global scope\n",
    "    val = pi * r**2\n",
    "    return val\n",
    "area(4)"
   ]
  },
  {
   "cell_type": "code",
   "execution_count": null,
   "metadata": {
    "collapsed": false
   },
   "outputs": [],
   "source": [
    "# the global value of pi has not changed\n",
    "pi = 3.14\n",
    "def area(r):\n",
    "    pi = 3.14159\n",
    "    val = pi * r**2\n",
    "    return val\n",
    "print(area(4))\n",
    "print(pi)"
   ]
  },
  {
   "cell_type": "code",
   "execution_count": null,
   "metadata": {
    "collapsed": false
   },
   "outputs": [],
   "source": [
    "# the global value of pi still has not changed\n",
    "pi = 3.14\n",
    "def area2(r, pi):\n",
    "    pi = 3.14159\n",
    "    val = pi * r**2\n",
    "    return val\n",
    "print(area2(4, pi))\n",
    "print(pi)"
   ]
  },
  {
   "cell_type": "markdown",
   "metadata": {},
   "source": [
    "## Modifying global assignments"
   ]
  },
  {
   "cell_type": "markdown",
   "metadata": {},
   "source": [
    "It is possible to modify the *scope* of a variable within a function's namespace by declaring that the variable has *global scope* (i.e., changing the variable's value within the function's namespace produces the corresponding change in the global namespace as well.\n",
    "\n",
    "* In Python, the `global` keyword within a function body is used to assert that an identifier has *global* scope. By default, variables defined within a function body have local scope unless specified otherwise with the `global` keyword.\n",
    "* However, global variables may be *used* within a function body as long as they are only read and not redefined.\n",
    "* The keyword `globals` is builtin function that returns a dictionary containing all *global* variables and their corresponding values as key-value pairs.\n",
    "* Assignments made to *global* variables within a function body change the value of those variables in the global namespace.\n",
    "\n",
    "**It is best to avoid using and modifying global assignments**"
   ]
  },
  {
   "cell_type": "code",
   "execution_count": null,
   "metadata": {
    "collapsed": true
   },
   "outputs": [],
   "source": [
    "x = 2"
   ]
  },
  {
   "cell_type": "code",
   "execution_count": null,
   "metadata": {
    "collapsed": false
   },
   "outputs": [],
   "source": [
    "# run this cell multiple times\n",
    "def add5():\n",
    "    global x\n",
    "    x = x + 5\n",
    "\n",
    "add5()\n",
    "print(x)"
   ]
  },
  {
   "cell_type": "markdown",
   "metadata": {},
   "source": [
    "The following function `add5` *requires* that `x` be defined in the global scope."
   ]
  },
  {
   "cell_type": "code",
   "execution_count": null,
   "metadata": {
    "collapsed": false,
    "raises": "NameError"
   },
   "outputs": [],
   "source": [
    "# If x was not assigned \n",
    "# a NameError exception is thrown\n",
    "del x\n",
    "add5()"
   ]
  },
  {
   "cell_type": "markdown",
   "metadata": {},
   "source": [
    "# Variadic Functions"
   ]
  },
  {
   "cell_type": "markdown",
   "metadata": {},
   "source": [
    "Using the tuple and keyword expansion rule above functions can be defined to take an arbitrary number of input arguments. These functions are called *variadic*.\n",
    "\n",
    "Let's start with simple examples of variadic functions."
   ]
  },
  {
   "cell_type": "code",
   "execution_count": null,
   "metadata": {
    "collapsed": false
   },
   "outputs": [],
   "source": [
    "# args is a tuple of all of \n",
    "# the input arguments in order\n",
    "def average(*args):\n",
    "    if not args:\n",
    "        return float('nan')\n",
    "    else:\n",
    "        return sum(args)/len(args)"
   ]
  },
  {
   "cell_type": "code",
   "execution_count": null,
   "metadata": {
    "collapsed": false
   },
   "outputs": [],
   "source": [
    "average()"
   ]
  },
  {
   "cell_type": "code",
   "execution_count": null,
   "metadata": {
    "collapsed": false
   },
   "outputs": [],
   "source": [
    "average(4,5,6,2,3)"
   ]
  },
  {
   "cell_type": "code",
   "execution_count": null,
   "metadata": {
    "collapsed": false
   },
   "outputs": [],
   "source": [
    "# kwargs is a dictionary\n",
    "# of the keyword arguments\n",
    "def print_items(**kwargs):\n",
    "    for key, value in kwargs.items():\n",
    "        print(\"%s: %s\" % (key, value))"
   ]
  },
  {
   "cell_type": "code",
   "execution_count": null,
   "metadata": {
    "collapsed": false
   },
   "outputs": [],
   "source": [
    "print_items(name='Albert', rate=3.8, age=34)"
   ]
  },
  {
   "cell_type": "markdown",
   "metadata": {},
   "source": [
    "`*args` and `**kwargs` can be combined with regular positional and keyword arguments to define more sophisticated functions. A readable discussion is available at [Python Tips](http://pythontips.com/2013/08/04/args-and-kwargs-in-python-explained/).\n"
   ]
  }
 ],
 "metadata": {
  "celltoolbar": "Edit Metadata",
  "continuum": {
   "depends": [
    "ip_datatypes",
    "ip_essentials",
    "ip_flowcontrol",
    "ip_functions",
    "ip_containers"
   ],
   "tag": "ip_specialfuncs"
  },
  "kernelspec": {
   "display_name": "Python 2",
   "language": "python",
   "name": "python2"
  },
  "language_info": {
   "codemirror_mode": {
    "name": "ipython",
    "version": 2
   },
   "file_extension": ".py",
   "mimetype": "text/x-python",
   "name": "python",
   "nbconvert_exporter": "python",
   "pygments_lexer": "ipython2",
   "version": "2.7.11"
  }
 },
 "nbformat": 4,
 "nbformat_minor": 0
}
