{
 "cells": [
  {
   "cell_type": "markdown",
   "metadata": {},
   "source": [
    "# Table of Contents\n",
    "* [Data types & data structures](#Data-types-&-data-structures)\n",
    "* [Learning Objectives:](#Learning-Objectives:)\n",
    "* [`None` object](#None-object)\n",
    "* [Numeric types](#Numeric-types)\n",
    "\t* [`bool` (boolean) type](#bool-%28boolean%29-type)\n",
    "\t* [`int` (integer) type](#int-%28integer%29-type)\n",
    "\t* [`float` (floating-point number) type](#float-%28floating-point-number%29-type)\n",
    "\t* [`complex` (complex number) type](#complex-%28complex-number%29-type)\n",
    "\t* [Exercise (Python as a calculator)](#Exercise-%28Python-as-a-calculator%29)\n"
   ]
  },
  {
   "cell_type": "markdown",
   "metadata": {},
   "source": [
    "# Data types & data structures"
   ]
  },
  {
   "cell_type": "markdown",
   "metadata": {},
   "source": [
    "# Learning Objectives:"
   ]
  },
  {
   "cell_type": "markdown",
   "metadata": {},
   "source": [
    "After completion of this module, learners should be able to:\n",
    "\n",
    "* use & distinguish builtin Python numeric types: `bool`, `int`, `float`, `complex`\n",
    "* use & explain Python rules for type conversion & casting (e.g., combining operators & types)\n",
    "* apply common methods associated with builtin Python data types\n",
    "* use `help` (and other documentation) to learn about methods associated with builtin types"
   ]
  },
  {
   "cell_type": "markdown",
   "metadata": {
    "collapsed": true
   },
   "source": [
    "# `None` object"
   ]
  },
  {
   "cell_type": "markdown",
   "metadata": {},
   "source": [
    "Not really a data structure, but the special value `None` in Python is often used where `NULL` or `nil` or `Nothing` are used in other languages.  It is a frequent placeholder to say, \"We don't yet know how to handle this item, but we know to check whether it *is* `None`.\"  Hence code like this is common:\n",
    "\n",
    "```python\n",
    "for item in collection:\n",
    "    if item is not None:\n",
    "        process(item)\n",
    "    else:\n",
    "        pass\n",
    "```"
   ]
  },
  {
   "cell_type": "markdown",
   "metadata": {},
   "source": [
    "`None` is also special in that it is a *singleton*.  That is to say, there can only be one None object in a Python program, and hence ever `None` is not merely equal to, but *identical to* every other `None`."
   ]
  },
  {
   "cell_type": "markdown",
   "metadata": {},
   "source": [
    "# Numeric types"
   ]
  },
  {
   "cell_type": "markdown",
   "metadata": {},
   "source": [
    "Python has are three distinct built-in numeric classes (or types): integers, floating-point numbers, and complex numbers. Numbers in Python are instantiated from numeric literal expressions in code or are the results returned by functions, methods, and operators."
   ]
  },
  {
   "cell_type": "markdown",
   "metadata": {},
   "source": [
    "## `bool` (boolean) type"
   ]
  },
  {
   "cell_type": "markdown",
   "metadata": {},
   "source": [
    "Booleans are a subclass of integers. There are two values: `True` and `False`."
   ]
  },
  {
   "cell_type": "code",
   "execution_count": null,
   "metadata": {
    "collapsed": false
   },
   "outputs": [],
   "source": [
    "# Booleans: Is the Boolean value \"True\" simply the integer value \"1\"?\n",
    "True == 1"
   ]
  },
  {
   "cell_type": "code",
   "execution_count": null,
   "metadata": {
    "collapsed": false
   },
   "outputs": [],
   "source": [
    "False < 1 # Arithmetic comparison equivalent to \"0<1\""
   ]
  },
  {
   "cell_type": "code",
   "execution_count": null,
   "metadata": {
    "collapsed": false
   },
   "outputs": [],
   "source": [
    "(True + 1) "
   ]
  },
  {
   "cell_type": "code",
   "execution_count": null,
   "metadata": {
    "collapsed": false
   },
   "outputs": [],
   "source": [
    "isinstance(True, bool)"
   ]
  },
  {
   "cell_type": "code",
   "execution_count": null,
   "metadata": {
    "collapsed": false
   },
   "outputs": [],
   "source": [
    "True is 1 # This is not quite what some expect"
   ]
  },
  {
   "cell_type": "code",
   "execution_count": null,
   "metadata": {
    "collapsed": false
   },
   "outputs": [],
   "source": [
    "type(True), type(1)"
   ]
  },
  {
   "cell_type": "code",
   "execution_count": null,
   "metadata": {
    "collapsed": false
   },
   "outputs": [],
   "source": [
    "issubclass(bool, int)"
   ]
  },
  {
   "cell_type": "markdown",
   "metadata": {},
   "source": [
    "## `int` (integer) type"
   ]
  },
  {
   "cell_type": "markdown",
   "metadata": {},
   "source": [
    "Numeric literals that contain no decimal point and no `e` (which express floating-point numbers) and no trailing `j` (which express complex numbers) are (decimal) integers."
   ]
  },
  {
   "cell_type": "code",
   "execution_count": null,
   "metadata": {
    "collapsed": false
   },
   "outputs": [],
   "source": [
    "a = 12345678     # Replace with any sequence integer characters without spaces\n",
    "print(a,type(a))"
   ]
  },
  {
   "cell_type": "markdown",
   "metadata": {},
   "source": [
    "Representations of integers in certain numeral bases other than 10 can be entered as numeric literals: `0x` or `0X` prefix literal hexadecimal integers, `0o` or `0O` prefix literal octal integers, and `0b` or `0B` prefix literal binary integers."
   ]
  },
  {
   "cell_type": "code",
   "execution_count": null,
   "metadata": {
    "collapsed": false
   },
   "outputs": [],
   "source": [
    "# Hexadecimal integers\n",
    "print(0xFF03) # 15*16**3 + 15*16**2 +0*16**1 +3*16**0\n",
    "print(0XFF03) # 15*16**3 + 15*16**2 +0*16**1 +3*16**0\n",
    "print(15*16**3 + 15*16**2 +0*16**1 +3*16**0) # Verify result above"
   ]
  },
  {
   "cell_type": "code",
   "execution_count": null,
   "metadata": {
    "collapsed": false
   },
   "outputs": [],
   "source": [
    "# Octal integers\n",
    "print(0o76543) # 7*8**4 + 6*8**3 + 5*8**2 + 4*8**1 + 3*8**0\n",
    "print(0O76543)\n",
    "print(7*8**4 + 6*8**3 + 5*8**2 + 4*8**1 + 3*8**0) # Verify result above"
   ]
  },
  {
   "cell_type": "code",
   "execution_count": null,
   "metadata": {
    "collapsed": false
   },
   "outputs": [],
   "source": [
    "# Binary integers\n",
    "print(0b10010011) # 1*2**7 + 0*2**6 + 0*2**5 + 1*2**4 + 0*2**3 + 0*2**2 + 1*2**1 + 1*2**0\n",
    "print(0B10010011) # 1*2**7 + 0*2**6 + 0*2**5 + 1*2**4 + 0*2**3 + 0*2**2 + 1*2**1 + 1*2**0\n",
    "# Verify result above\n",
    "print(1*2**7 + 0*2**6 + 0*2**5 + 1*2**4 + 0*2**3 + 0*2**2 + 1*2**1 + 1*2**0) "
   ]
  },
  {
   "cell_type": "code",
   "execution_count": null,
   "metadata": {
    "collapsed": false
   },
   "outputs": [],
   "source": [
    "# A number in base 6\n",
    "int(\"3421\", 6)"
   ]
  },
  {
   "cell_type": "markdown",
   "metadata": {},
   "source": [
    "In Python 3, integers can have unlimited length in principle; as arithmetic operations produce results that overflow, representations of integers with longer bit patterns are adapted as required."
   ]
  },
  {
   "cell_type": "code",
   "execution_count": null,
   "metadata": {
    "collapsed": false
   },
   "outputs": [],
   "source": [
    "# Some integers\n",
    "print(2**8)\n",
    "print(2**32)\n",
    "print(2**64)\n",
    "print(2**65)\n",
    "print(2**129)"
   ]
  },
  {
   "cell_type": "code",
   "execution_count": null,
   "metadata": {
    "collapsed": false
   },
   "outputs": [],
   "source": [
    "# Even very large integers can be represented in Python\n",
    "2**(2**16)"
   ]
  },
  {
   "cell_type": "markdown",
   "metadata": {
    "collapsed": true
   },
   "source": [
    "In addition to standard arithmetic operations, certain bitwise operations can be applied to integers."
   ]
  },
  {
   "cell_type": "code",
   "execution_count": null,
   "metadata": {
    "collapsed": false
   },
   "outputs": [],
   "source": [
    "print(3 << 4)  # shift left (int only)\n",
    "print(33 >> 4) # shift right (int only)\n",
    "print(3 & 4)   # bitwise and (int only)\n",
    "print(3 | 4)   # bitwise or (int only)\n",
    "print(3 ^ 4)   # bitwise xor (int only)\n",
    "print(~ 3)     # bitwise not (int only)"
   ]
  },
  {
   "cell_type": "markdown",
   "metadata": {},
   "source": [
    "## `float` (floating-point number) type"
   ]
  },
  {
   "cell_type": "markdown",
   "metadata": {},
   "source": [
    "Real number literals (expressed in base 10 scientific notation) are distinguished from integer literals by either a decimal point or an explicit mantissa and exponent separated by `e` or `E` (optionally with a decimal point as well)."
   ]
  },
  {
   "cell_type": "code",
   "execution_count": null,
   "metadata": {
    "collapsed": false
   },
   "outputs": [],
   "source": [
    "a = 4.732\n",
    "print(a, type(a))"
   ]
  },
  {
   "cell_type": "code",
   "execution_count": null,
   "metadata": {
    "collapsed": false
   },
   "outputs": [],
   "source": [
    "print(123e2)     # 12300; \"123e2\" means \"123 times 10**2\"\n",
    "print(456E-4)    # 0.0456; \"456e-4\" means \"456 times 10**(-4)\"\n",
    "print(-.7436e3)  # -743.6\n",
    "print(1476.3e20) # 1.4763*10**23"
   ]
  },
  {
   "cell_type": "code",
   "execution_count": null,
   "metadata": {
    "collapsed": false
   },
   "outputs": [],
   "source": [
    "-12345.6e78"
   ]
  },
  {
   "cell_type": "code",
   "execution_count": null,
   "metadata": {
    "collapsed": false
   },
   "outputs": [],
   "source": [
    "# \"int(23.45678e4)\" means \"23.45678 times 10 to the power 4 truncated to an integer\"\n",
    "int(23.45678e4)"
   ]
  },
  {
   "cell_type": "markdown",
   "metadata": {},
   "source": [
    "By default, Python floating-point numbers are stored internally using 8 bytes (i.e., double precision or `double` in C). Greater precision is attainable using the `decimal` and `numpy` modules. Specific details about internal representation of floating-point numbers can be determined using `sys.float_info`.\n",
    "\n",
    "Some fundamental facts to know about floating-point numbers:\n",
    "* The largest positive floating-point value is about $10^{308}$ in double precision; larger values *overflow* to $+\\infty$.\n",
    "* The smallest positive floating-point value is about $10^{-324}$ in double precision; smaller values *underflow* to 0.\n",
    "* Double precision floating-point values are represented with a 52-bit mantissa (plus one implicit bit). In practice, this translates to roughly 15&ndash;16 decimal digits of precision at best.\n",
    "* Certain computations&mdash;e.g., $-\\infty/\\infty$, etc.&mdash;result in *Not-a-Number* (also denoted *NaN* or *nan*).\n",
    "* More details on floating-point numbers & arithmetic:\n",
    "    * [Floating-point numbers](https://en.wikipedia.org/wiki/Floating_point)\n",
    "    * [The Floating-Point Guide](http://floating-point-gui.de/formats/fp/)\n",
    "    * [IEEE 754 standard](http://en.wikipedia.org/wiki/IEEE_754-2008)\n",
    "\n",
    "The behavior of IEEE-754 approximates the behavior of Real numbers in mathematics using a fixed and moderate amount of memory for each number, but because it is an imprecise format, in many cases it does not precisely obey mathematically expected properties such [associativity](https://en.wikipedia.org/wiki/Associative_property) , [commutativity](https://en.wikipedia.org/wiki/Commutative_property), and [multiplicative inverse](https://en.wikipedia.org/wiki/Multiplicative_inverse).  \n",
    "\n",
    "In an old discussion on the comp.lang.python Usenet group, a commentor noted that \"anyone who claims to understand IEEE-754 floating point math fully is either a liar or Tim Peters!\"  Tim Peters—author of the Zen of Python, inventor of the widely used [Timsort](https://en.wikipedia.org/wiki/Timsort), and contributor #2 to Python itself—replied \"It could be both.\""
   ]
  },
  {
   "cell_type": "code",
   "execution_count": null,
   "metadata": {
    "collapsed": false
   },
   "outputs": [],
   "source": [
    "import sys\n",
    "sys.float_info"
   ]
  },
  {
   "cell_type": "code",
   "execution_count": null,
   "metadata": {
    "collapsed": false
   },
   "outputs": [],
   "source": [
    "-1.23456e310 # overflows to -infinity"
   ]
  },
  {
   "cell_type": "code",
   "execution_count": null,
   "metadata": {
    "collapsed": false
   },
   "outputs": [],
   "source": [
    "float('Inf') / float('-inf') # Evaluates to +inf / -inf == nan"
   ]
  },
  {
   "cell_type": "code",
   "execution_count": null,
   "metadata": {
    "collapsed": false
   },
   "outputs": [],
   "source": [
    "for exponent in range(308, 400):\n",
    "    float_string = \"1e-{:d}\".format(exponent)\n",
    "    print(\"Attempting to represent {} as a float...\".format(float_string))\n",
    "    float_val = float(float_string)\n",
    "    if float_val == 0:\n",
    "        print(\"Underflow to 0 at {}\".format(float_string))\n",
    "        break"
   ]
  },
  {
   "cell_type": "markdown",
   "metadata": {
    "collapsed": false
   },
   "source": [
    "\"nan\" means \"Not a Number\", e.g., inf/inf, inf-inf, or any operation involving nan"
   ]
  },
  {
   "cell_type": "code",
   "execution_count": null,
   "metadata": {
    "collapsed": false
   },
   "outputs": [],
   "source": [
    "inf = float('inf')\n",
    "inf-inf, inf/inf"
   ]
  },
  {
   "cell_type": "markdown",
   "metadata": {},
   "source": [
    "Every infinity is equal to, but not identical to, every other infinity of the sign.  However, every NaN is unequal to every other Nan"
   ]
  },
  {
   "cell_type": "code",
   "execution_count": null,
   "metadata": {
    "collapsed": false
   },
   "outputs": [],
   "source": [
    "-1.23456e310 == -inf"
   ]
  },
  {
   "cell_type": "code",
   "execution_count": null,
   "metadata": {
    "collapsed": false
   },
   "outputs": [],
   "source": [
    "inf == inf+2 == float('inf')"
   ]
  },
  {
   "cell_type": "code",
   "execution_count": null,
   "metadata": {
    "collapsed": false
   },
   "outputs": [],
   "source": [
    "inf is inf+2"
   ]
  },
  {
   "cell_type": "code",
   "execution_count": null,
   "metadata": {
    "collapsed": false
   },
   "outputs": [],
   "source": [
    "inf-inf == inf/inf"
   ]
  },
  {
   "cell_type": "code",
   "execution_count": null,
   "metadata": {
    "collapsed": false
   },
   "outputs": [],
   "source": [
    "float('nan') == float('nan')"
   ]
  },
  {
   "cell_type": "markdown",
   "metadata": {},
   "source": [
    "Comparing floating-point values for equality is generally inadvisable. Minor rounding errors in the least significant bits prevent simple calculation from resulting in expected results. It is usually better to specify a small tolerance (c.f., the square-root iteration from Module 1) to test for approximate equality of floating-point values."
   ]
  },
  {
   "cell_type": "code",
   "execution_count": null,
   "metadata": {
    "collapsed": false
   },
   "outputs": [],
   "source": [
    "b = sum([1/7]*7) # equivalent to \"1/7 + 1/7 + 1/7 + 1/7 + 1/7 + 1/7 + 1/7\"\n",
    "print(\"1/7 + 1/7 + 1/7 + 1/7 + 1/7 + 1/7 + 1/7 != 1.0\")\n",
    "print(b, \"!=\", 1.0)"
   ]
  },
  {
   "cell_type": "code",
   "execution_count": null,
   "metadata": {
    "collapsed": false
   },
   "outputs": [],
   "source": [
    "# Associativity can produce rounding errors\n",
    "a = (0.1 + 0.2) + 0.3\n",
    "b = 0.1 + (0.2 + 0.3)\n",
    "print(a, b)"
   ]
  },
  {
   "cell_type": "code",
   "execution_count": null,
   "metadata": {
    "collapsed": false
   },
   "outputs": [],
   "source": [
    "# Or overflows depending on associativity\n",
    "a = (1e307*100) / 100\n",
    "b = 1e307 * (100/100)\n",
    "print(a, b)"
   ]
  },
  {
   "cell_type": "code",
   "execution_count": null,
   "metadata": {
    "collapsed": false
   },
   "outputs": [],
   "source": [
    "delta = 0.0001   # Set our tolerance delta\n",
    "\n",
    "abs(3.14159265 - 3.1415) < delta"
   ]
  },
  {
   "cell_type": "code",
   "execution_count": null,
   "metadata": {
    "collapsed": false
   },
   "outputs": [],
   "source": [
    "type(delta)"
   ]
  },
  {
   "cell_type": "markdown",
   "metadata": {},
   "source": [
    "It is also important to be wary of the distinction between integer (\"floor\") division with `//` as opposed to regular floating-point division with `/`. In addition, dividing by zero raises an exception.\n",
    "\n",
    "Notice Python permits mixed arithmetic; when values of `int` and `float` type are combined in arithmetic expressions, the `int` is promoted (\"cast\") to a `float`. The type of a value can be explicitly cast using the constructors `int()`, or `float()` (with appropriate rounding/truncation)."
   ]
  },
  {
   "cell_type": "code",
   "execution_count": null,
   "metadata": {
    "collapsed": false,
    "raises": "ZeroDivisionError"
   },
   "outputs": [],
   "source": [
    "1.0/0"
   ]
  },
  {
   "cell_type": "code",
   "execution_count": null,
   "metadata": {
    "collapsed": false
   },
   "outputs": [],
   "source": [
    "print(1/5)"
   ]
  },
  {
   "cell_type": "code",
   "execution_count": null,
   "metadata": {
    "collapsed": false
   },
   "outputs": [],
   "source": [
    "# Types of division (different from Python 2.x)\n",
    "print(2/3)\n",
    "print(2//3)\n",
    "print(2.0//3.0)"
   ]
  },
  {
   "cell_type": "code",
   "execution_count": null,
   "metadata": {
    "collapsed": false,
    "raises": "ZeroDivisionError"
   },
   "outputs": [],
   "source": [
    "denominators = [3, 4, 6, 0, 3]\n",
    "for d in denominators:\n",
    "    print(\"d = %d\" % d)\n",
    "    print(7/d)"
   ]
  },
  {
   "cell_type": "code",
   "execution_count": null,
   "metadata": {
    "collapsed": false
   },
   "outputs": [],
   "source": [
    "denominators = [3, 4, 6, 0, 3]\n",
    "for d in denominators:\n",
    "    print(\"d = %d\" % d)\n",
    "    try:\n",
    "        print(7/d)\n",
    "    except ZeroDivisionError:\n",
    "        print(\"Attempt to divide by zero\")"
   ]
  },
  {
   "cell_type": "markdown",
   "metadata": {},
   "source": [
    "## `complex` (complex number) type"
   ]
  },
  {
   "cell_type": "markdown",
   "metadata": {},
   "source": [
    "In mathematics, it is common to refer to the square root of $-1$ as $i$ or $j$; in Python, we'll use the symbol $\\mathtt{j}$ to denote $\\sqrt{-1}$. Then *complex numbers* are expressible as a combination of the form $x+yj$ where $x$ and $y$ are real numbers.\n",
    "\n",
    "* In the expression $x+yj$, $x$ is said to be the *real* part and $y$ is said to be the *imaginary* part.\n",
    "* In Python, a complex numeric literal is (a) a real numeric literal with the symbol `j` as a suffix or (b) a real numeric literal added or subtracted to a real numeric literal with the symbol `j`. Notice this is the only case in Python where a token mixing numerals and alphabetic characters can begin with a numeral."
   ]
  },
  {
   "cell_type": "code",
   "execution_count": null,
   "metadata": {
    "collapsed": false
   },
   "outputs": [],
   "source": [
    "# Complex numbers\n",
    "print(4.56e-3+7.5e1j)\n",
    "complex_one = 1 + 0j \n",
    "print(complex_one == 1.0)\n",
    "print(complex_one is 1.0)\n",
    "type(complex_one)   # complex_one has type \"complex\" even though the imaginary part is zero"
   ]
  },
  {
   "cell_type": "markdown",
   "metadata": {},
   "source": [
    "When an `int` or a `float` value is combined in an arithmetic expression with a `complex` value, the result is cast to a `complex`. The type of a value can be explicitly cast using the constructors `int()`, `float()`, or `complex()` (with rounding or zeros introduced appropriately)."
   ]
  },
  {
   "cell_type": "code",
   "execution_count": null,
   "metadata": {
    "collapsed": false
   },
   "outputs": [],
   "source": [
    "a = 3  # Try replacing with various integer of floating-point values\n",
    "print(type(a))\n",
    "a += complex_one # casts resulting value to a complex value\n",
    "print(a, type(a))"
   ]
  },
  {
   "cell_type": "code",
   "execution_count": null,
   "metadata": {
    "collapsed": false
   },
   "outputs": [],
   "source": [
    "x, y = 3, 4.0\n",
    "print(\"x is of type {} and y is of type {}\".format(type(x), type(y)))\n",
    "# cast to \"higher type\" as needed\n",
    "print(\"x + y == {} is of type {}\".format(x+y, type(x+y))) "
   ]
  },
  {
   "cell_type": "code",
   "execution_count": null,
   "metadata": {
    "collapsed": false
   },
   "outputs": [],
   "source": [
    "x, y = complex(3,4), 4.0\n",
    "print(\"x is of type {} and y is of type {}\".format(type(x), type(y)))\n",
    "# cast to \"higher type\" as needed\n",
    "print(\"x * y == {} is of type {}\".format(x*y, type(x*y))) "
   ]
  },
  {
   "cell_type": "markdown",
   "metadata": {},
   "source": [
    "* Python `complex` values are essentially represented as a pair of Python `float` values.\n",
    "* Complex numbers are not ordered; as such, comparisons with \"less than\" and \"greater than:\" operators fail when applied to complex values.\n",
    "* If `z==x+y*1j` is Python complex value, the Python object `z` has attributes *`z.real==x`* and *`z.imag==y`* corresponding to the real and imaginary parts respectively.\n",
    "* The function `abs` returns the *modulus* of a complex value (i.e., $\\mathtt{abs}(x+yj)=\\sqrt{x^2+y^2}$).\n",
    "* If `z==x+y*1j==complex(x,y)` (where `x` & `y` are `float` or `int` values), the method `z.conjugate()` returns the value `x-y*1j` (the *complex conjugate* or `z`)."
   ]
  },
  {
   "cell_type": "code",
   "execution_count": null,
   "metadata": {
    "collapsed": false,
    "raises": "TypeError"
   },
   "outputs": [],
   "source": [
    "# This does not work in Python 2.7\n",
    "1+1j < -1-.5j"
   ]
  },
  {
   "cell_type": "code",
   "execution_count": null,
   "metadata": {
    "collapsed": false,
    "raises": "TypeError"
   },
   "outputs": [],
   "source": [
    "3+4j < 4+3j"
   ]
  },
  {
   "cell_type": "code",
   "execution_count": null,
   "metadata": {
    "collapsed": false
   },
   "outputs": [],
   "source": [
    "1+0j == 1, 2+0j == 2, 1 < 2"
   ]
  },
  {
   "cell_type": "code",
   "execution_count": null,
   "metadata": {
    "collapsed": false,
    "raises": "TypeError"
   },
   "outputs": [],
   "source": [
    "# Again does not work in Python 2.7\n",
    "1+0j < 2+0j"
   ]
  },
  {
   "cell_type": "code",
   "execution_count": null,
   "metadata": {
    "collapsed": false
   },
   "outputs": [],
   "source": [
    "z = -1.43e-1+0.5e2j\n",
    "print(\"real(z) = {:.3e}\\nimag(z) = {:.3e}\".format(z.real, z.imag))\n",
    "print(\"conjugate(z) =\", z.conjugate())"
   ]
  },
  {
   "cell_type": "code",
   "execution_count": null,
   "metadata": {
    "collapsed": false
   },
   "outputs": [],
   "source": [
    "abs(3+4j), abs(4+3j), abs(3+4j) < abs(4+3j)"
   ]
  },
  {
   "cell_type": "markdown",
   "metadata": {},
   "source": [
    "In summary, when working with numeric data types in Python, the [Python documentation on numeric types](https://docs.python.org/3/library/stdtypes.html#numeric-types-int-float-complex) is of great value. When trying to understand how certain operators are computing results, it is useful to keep in mind that the results can differ when the operands are of different numeric type."
   ]
  },
  {
   "cell_type": "code",
   "execution_count": null,
   "metadata": {
    "collapsed": false
   },
   "outputs": [],
   "source": [
    "pow = __builtins__.pow\n",
    "print(3 + 4)          # addition\n",
    "print(3 - 4)          # subtraction\n",
    "print(3 * 4)          # multiplication\n",
    "print(3 / 4)          # \"true division\"\n",
    "print(3 // 4)         # floor division\n",
    "print(13 % 4)         # modulo\n",
    "print(3 ** 4)         # power\n",
    "print(abs(3-4))       # absolute value\n",
    "print(pow(3.0j,4))    # expect 81+0j\n",
    "print(pow(3, 4, 5))   # power with optional modulo: (3**4) % 5\n",
    "print(divmod(3, 4))   # division with remainder\n",
    "print(int(3.14))      # convert to an int\n",
    "print(float(3))       # convert to a float"
   ]
  },
  {
   "cell_type": "markdown",
   "metadata": {},
   "source": [
    "## Exercise (Python as a calculator)"
   ]
  },
  {
   "cell_type": "markdown",
   "metadata": {},
   "source": [
    "Play around with evaluating numeric expressions you'd like to calculate.  Perhaps you want to use capabilities in the `math` module we have seen briefly.  \n",
    "\n",
    "Does anything seem surprising in the syntax or available functions? What did you learn about Python syntax and semantics?"
   ]
  }
 ],
 "metadata": {
  "celltoolbar": "Edit Metadata",
  "continuum": {
   "depends": [
    "ip_datatypes",
    "ip_essentials"
   ],
   "tag": "ip_numerictypes"
  },
  "kernelspec": {
   "display_name": "Python 2",
   "language": "python",
   "name": "python2"
  },
  "language_info": {
   "codemirror_mode": {
    "name": "ipython",
    "version": 2
   },
   "file_extension": ".py",
   "mimetype": "text/x-python",
   "name": "python",
   "nbconvert_exporter": "python",
   "pygments_lexer": "ipython2",
   "version": "2.7.11"
  }
 },
 "nbformat": 4,
 "nbformat_minor": 0
}
