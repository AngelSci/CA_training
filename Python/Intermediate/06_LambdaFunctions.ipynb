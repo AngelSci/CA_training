{
 "cells": [
  {
   "cell_type": "markdown",
   "metadata": {},
   "source": [
    "# Table of Contents\n",
    "* [Lambda functions](#Lambda-functions)\n"
   ]
  },
  {
   "cell_type": "markdown",
   "metadata": {},
   "source": [
    "# Learning Objectives:"
   ]
  },
  {
   "cell_type": "markdown",
   "metadata": {},
   "source": [
    "After completion of this module, learners should be able to:\n",
    "\n",
    "* create & use `lambda` functions"
   ]
  },
  {
   "cell_type": "markdown",
   "metadata": {},
   "source": [
    "# Lambda functions"
   ]
  },
  {
   "cell_type": "markdown",
   "metadata": {},
   "source": [
    "A *`lambda` function* is a special form of function definition that is often used for single-use and in-line definitions. Lambda functions are useful for writing single-use functions that will be called from only one place in an application (e.g., callback functions in a graphical user interface). For help in understanding some of the subtleties of lambda functions, consult [Yet Another Lambda Tutorial](https://pythonconquerstheuniverse.wordpress.com/2011/08/29/lambda_tutorial/).\n",
    "\n",
    "* The basic syntax of a lambda function is  `lambda` *`tuple`* `:` *`expression`*\n",
    "* You may optionally bind a lambda function to a name, just as you can any other Python object, e.g.:\n",
    "```python\n",
    "add4 = lambda n: n+4\n",
    "```"
   ]
  },
  {
   "cell_type": "markdown",
   "metadata": {},
   "source": [
    "* Input arguments to a lambda function are parsed as a *tuple* of identifiers between the keyword `lambda` and a colon (`:`) character.\n",
    "* Lambda functions do not use a `return` statement; they return a single expression computed in its body."
   ]
  },
  {
   "cell_type": "code",
   "execution_count": null,
   "metadata": {
    "collapsed": false
   },
   "outputs": [],
   "source": [
    "# A simple mathemtical lambda function:\n",
    "f = lambda x,y: x+2*y  # input arguments are x & y; the expression returned is (x+2*y)\n",
    "f(3,4) # The function f can be invoked the same as one defined with \"def\" keyword"
   ]
  },
  {
   "cell_type": "markdown",
   "metadata": {},
   "source": [
    "To illustrate a potential use of lambda functions, consider implementing a `switch-case` construct in Python. Unlike C, C++, Java, and many other languages, Python does not have a native `switch-case` construct. In Python, we can achieve the effect of a `switch-case` construct using a dictionary.\n",
    "\n",
    "* The dictionary keys are used to select between choices.\n",
    "* The dictionary values are lambda function objects.\n",
    "* The `try-except` block below catches invalid input being used as keys in the dictionary.\n",
    "* This idiom is in\n",
    "fact very useful in programming graphical user interfaces (GUIs). For instance, a pull-down menu could select between a set of options using this kind of construction."
   ]
  },
  {
   "cell_type": "code",
   "execution_count": null,
   "metadata": {
    "collapsed": true
   },
   "outputs": [],
   "source": [
    "# We define here a named_function and the \"select_case\" dictionary\n",
    "# The dict \"select_case\" has lambda functions & named_function as values\n",
    "def named_function(): \n",
    "    print('Menu item 5')\n",
    "select_case = {'1':lambda: print(\"Menu item 1\"),\n",
    "               '2':lambda: print(\"Menu item 2\"),\n",
    "               '3':lambda: print(\"Menu item 3\"),\n",
    "               '4':lambda: print(\"Menu item 4\"),\n",
    "               '5':named_function}"
   ]
  },
  {
   "cell_type": "code",
   "execution_count": null,
   "metadata": {
    "collapsed": false
   },
   "outputs": [],
   "source": [
    "try:\n",
    "    letter = input(\"Which menu item? \")\n",
    "    select_case[letter]()\n",
    "except KeyError:\n",
    "    print('KeyError triggered...')\n",
    "    print(\"You shouldn't have entered %r.\" % letter)"
   ]
  },
  {
   "cell_type": "markdown",
   "metadata": {},
   "source": [
    "Another place that lambda functions may be useful is when passed as an argument to another function that expects a function object. As an example, let's consider a processing a string of text from an email message preceded by header line. If we want to indent all the lines in the message except the header, we can use the `indent` function from the `textwrap` module. The `textwrap.indent` function accepts a function object `predicate` as an input argument, where `predicate` is a boolean-valued function. The argument `predicate` should accept a line of text as input and return `True` or `False` depending on whether or not that is a suitable line to indent."
   ]
  },
  {
   "cell_type": "code",
   "execution_count": null,
   "metadata": {
    "collapsed": false
   },
   "outputs": [],
   "source": [
    "# A sample email message\n",
    "message = \"\"\"\n",
    "   David Mertz, Ph.D. <dmertz@continuum.io> wrote:\n",
    "Lorem ipsum dolor sit amet,\n",
    "consectetur adipisicing elit, sed\n",
    "do eiusmod tempor incididunt ut\n",
    "labore et dolore magna aliqua.\n",
    "\n",
    "\n",
    "\"\"\".strip()\n",
    "print(message)"
   ]
  },
  {
   "cell_type": "markdown",
   "metadata": {},
   "source": [
    "We want to identify the header line in the string message by the fact that the line terminates with the string `wrote:\\n` (remember the newline character `\\n`). The string predicate `str.endswith` can be used in a lambda function in this instance."
   ]
  },
  {
   "cell_type": "code",
   "execution_count": null,
   "metadata": {
    "collapsed": false
   },
   "outputs": [],
   "source": [
    "myfun = lambda line: line.endswith('a\\n')\n",
    "print(myfun(\"This line doesn't end in a. It ends in b\\n\"))\n",
    "print(myfun(\"This line **does** end in a\\n\"))"
   ]
  },
  {
   "cell_type": "code",
   "execution_count": null,
   "metadata": {
    "collapsed": false
   },
   "outputs": [],
   "source": [
    "myfun = lambda line: not line.endswith('wrote:\\n')\n",
    "print(myfun(\"This line doesn't end in 'wrote'. It ends in something else\\n\"))\n",
    "print(myfun(\"This line **does** end in wrote:\\n\"))"
   ]
  },
  {
   "cell_type": "markdown",
   "metadata": {
    "py3_only": true
   },
   "source": [
    "We can use a lambda function or an ordinary named function to process the message as desired."
   ]
  },
  {
   "cell_type": "code",
   "execution_count": null,
   "metadata": {
    "collapsed": false,
    "py3_only": true
   },
   "outputs": [],
   "source": [
    "import textwrap\n",
    "print(textwrap.indent(message, '> ',\n",
    "                      predicate=lambda line: not line.endswith('wrote:\\n')))"
   ]
  },
  {
   "cell_type": "code",
   "execution_count": null,
   "metadata": {
    "collapsed": false,
    "py3_only": true
   },
   "outputs": [],
   "source": [
    "# We could create a named function, but, for a one-time use, this may be unnecessary\n",
    "def not_attribution(line):\n",
    "    return not line.endswith('wrote:\\n')\n",
    "print(textwrap.indent(message, '> ', \n",
    "                      predicate=not_attribution))"
   ]
  }
 ],
 "metadata": {
  "celltoolbar": "Edit Metadata",
  "continuum": {
   "depends": [
    "ip_datatypes",
    "ip_containers",
    "ip_essentials",
    "ip_functions"
   ],
   "tag": "ip_lambda"
  },
  "kernelspec": {
   "display_name": "Python 2",
   "language": "python",
   "name": "python2"
  },
  "language_info": {
   "codemirror_mode": {
    "name": "ipython",
    "version": 2
   },
   "file_extension": ".py",
   "mimetype": "text/x-python",
   "name": "python",
   "nbconvert_exporter": "python",
   "pygments_lexer": "ipython2",
   "version": "2.7.11"
  }
 },
 "nbformat": 4,
 "nbformat_minor": 0
}
