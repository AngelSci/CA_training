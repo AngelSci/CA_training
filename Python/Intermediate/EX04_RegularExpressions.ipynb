{
 "cells": [
  {
   "cell_type": "markdown",
   "metadata": {},
   "source": [
    "# Table of Contents\n",
    "* [Regular Expressions](#Regular-Expressions)\n",
    "\t* [Exercise (regular expressions)](#Exercise-%28regular-expressions%29)\n"
   ]
  },
  {
   "cell_type": "markdown",
   "metadata": {},
   "source": [
    "# Regular Expressions"
   ]
  },
  {
   "cell_type": "markdown",
   "metadata": {},
   "source": [
    "[Learning to use regular expressions](http://gnosis.cx/publish/programming/regular_expressions.html)"
   ]
  },
  {
   "cell_type": "code",
   "execution_count": null,
   "metadata": {
    "collapsed": true
   },
   "outputs": [],
   "source": [
    "from IPython.display import display_html\n",
    "import re\n",
    "def re_show(pat, s):\n",
    "    new = \"\"\n",
    "    matches = re.finditer(pat, s)\n",
    "    last = 0\n",
    "    for match in matches:\n",
    "        start, end = match.span()\n",
    "        new += s[last:start]\n",
    "        new += \"<font color='red'><u>%s</u></font>\" % s[start:end]\n",
    "        last = end\n",
    "    new += s[end:]\n",
    "    display_html(\"<pre>%s</pre>\" % new, raw=True)"
   ]
  },
  {
   "cell_type": "code",
   "execution_count": null,
   "metadata": {
    "collapsed": false
   },
   "outputs": [],
   "source": [
    "s = \"\"\"Mary had a little lamb.\n",
    "And everywhere that Mary\n",
    "went, the lamb was sure\n",
    "to go.\"\"\"\n",
    "re_show(r'a', s)"
   ]
  },
  {
   "cell_type": "markdown",
   "metadata": {},
   "source": [
    "## Exercise (regular expressions)"
   ]
  },
  {
   "cell_type": "markdown",
   "metadata": {},
   "source": [
    "Try the patterns shown in the linked tutorial, or any others you wonder about, using the `re_show()` function."
   ]
  }
 ],
 "metadata": {
  "continuum": {
   "depends": [
    "ip_datatypes",
    "ip_essentials",
    "ip_strings",
    "ip_functions"
   ],
   "tag": "ip_ex_regex"
  },
  "kernelspec": {
   "display_name": "Python 2",
   "language": "python",
   "name": "python2"
  },
  "language_info": {
   "codemirror_mode": {
    "name": "ipython",
    "version": 2
   },
   "file_extension": ".py",
   "mimetype": "text/x-python",
   "name": "python",
   "nbconvert_exporter": "python",
   "pygments_lexer": "ipython2",
   "version": "2.7.11"
  }
 },
 "nbformat": 4,
 "nbformat_minor": 0
}
