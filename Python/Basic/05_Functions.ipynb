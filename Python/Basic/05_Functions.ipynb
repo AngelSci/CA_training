{
 "cells": [
  {
   "cell_type": "markdown",
   "metadata": {},
   "source": [
    "# Table of Contents\n",
    "* [Learning Objectives:](#Learning-Objectives:)\n",
    "* [Functions](#Functions)\n",
    "\t* [Defining functions](#Defining-functions)\n",
    "\t* [Using keyword and positional arguments](#Using-keyword-and-positional-arguments)\n",
    "\t* [Returning more than one value](#Returning-more-than-one-value)\n"
   ]
  },
  {
   "cell_type": "markdown",
   "metadata": {},
   "source": [
    "# Learning Objectives:"
   ]
  },
  {
   "cell_type": "markdown",
   "metadata": {},
   "source": [
    "After completion of this module, learners should be able to:\n",
    "\n",
    "* design & build functions to reproduce complicated sequences of computations\n",
    "* define functions weith keyword and default arguments\n",
    "* use & explain rules regarding indentation"
   ]
  },
  {
   "cell_type": "markdown",
   "metadata": {},
   "source": [
    "# Functions"
   ]
  },
  {
   "cell_type": "markdown",
   "metadata": {},
   "source": [
    "Arguably, Python can be used exclusively in an interactive manner to explore data, text, files, URLs, and so on.\n",
    "However, the ability to repurpose code from an interactive session to use in more general contexts is one of the most important elements of programming. By encapsulating workflows into reusable subprograms (sometimes called *subroutines* or *procedures* in many programming languages), we can preserve our efforts for later reuse. A fundamental mantra of programming is \"DRY\" (*Don't Repeat Yourself*). In Python, the basic units of reusability are *functions* and *classes*.\n",
    "\n",
    "* Functions with no input arguments are invoked using empty parentheses `()` (with no values within), e.g., `sys.exit()`.\n",
    "* Functions with one argument are invoked using a single value within, e.g., `type(3.5)`.\n",
    "* Functions with two or more arguments are invoked with commas separating the values being passed to the function, e.g., `range(1,11)`.   \n",
    "  The relative positions and order of positional arguments is important for correct execution, e.g., `range(1,11)`$\\neq$`range(11,1)`.\n",
    "* Documentation about builtin functions—or any function currently loaded—can be found using the `help` function, e.g., `help(range)`.\n",
    "* Functions can have *positional* and *keyword* arguments.\n",
    "* Functions can be invoked using explicit keywords matching the function declaration and documentation, e.g., `print(3.5, end='\\n', file=output)`.\n",
    "* Some functions have variable length argument sequences (called *variadic arguments*), e.g., `print` and `range`."
   ]
  },
  {
   "cell_type": "markdown",
   "metadata": {},
   "source": [
    "## Defining functions"
   ]
  },
  {
   "cell_type": "markdown",
   "metadata": {},
   "source": [
    "Let's explore now how to *create* functions in Python (up to now, we have strictly been using functions from various Python modules). A function in Python is simply a name bound to some lines of programming code that also provides a way to execute those lines with arbitrary values bound to the identifiers within.\n",
    "\n",
    "For instance, you may wish to compute compound interest according to the formula $$A(n,r,A_0) = A_0 (1 + r/100)^{n}.$$\n",
    "In this example, $A_0$ is the *principal*, $r$ is the *interest rate* (specified as a value between 0 and 100), and $n$ is the *number of intervals* over which the interest is compounded. This formula involves three different symbols, so, in principle, we would express it as a function of three input variables (or *input arguments*)."
   ]
  },
  {
   "cell_type": "code",
   "execution_count": null,
   "metadata": {
    "collapsed": true
   },
   "outputs": [],
   "source": [
    "# First version with fixed arguments, no keyword arguments\n",
    "def compound_interest_v1(n, r, A0): \n",
    "    '''Compute compound interest'''\n",
    "    print('n =', n)\n",
    "    print('r =', r)\n",
    "    print('A0 =', A0)\n",
    "    return A0*(1+0.01*r)**n"
   ]
  },
  {
   "cell_type": "markdown",
   "metadata": {},
   "source": [
    "Notice the triple quoted string just after the function definition. This is called a *docstring* and is used to document your function. This is printed when passing the function to `help`."
   ]
  },
  {
   "cell_type": "code",
   "execution_count": null,
   "metadata": {
    "collapsed": false
   },
   "outputs": [],
   "source": [
    "help(compound_interest_v1)"
   ]
  },
  {
   "cell_type": "code",
   "execution_count": null,
   "metadata": {
    "collapsed": false
   },
   "outputs": [],
   "source": [
    "t = 2\n",
    "rate = 4.75\n",
    "P = 200.00\n",
    "print('After %d intervals, the investment has value $%.2f.' % (\n",
    "             t, compound_interest_v1(t,rate,P)))"
   ]
  },
  {
   "cell_type": "code",
   "execution_count": null,
   "metadata": {
    "collapsed": false
   },
   "outputs": [],
   "source": [
    "t = 3\n",
    "rate = 4.75\n",
    "P = 200.00\n",
    "print('After %d intervals, the investment has value $%.2f.' % (\n",
    "              t, compound_interest_v1(t,rate,P)))"
   ]
  },
  {
   "cell_type": "markdown",
   "metadata": {},
   "source": [
    "* The function block begins with the keyword `def` followed by the function identifier (in this case, `compound_interest_v1`) and then the input arguments (in this case, `n`, `r`, and `A0`). We sometimes call this the *function signature*.\n",
    "* The value *returned* by the function `compound_interest_v1` is specified as the argument to the function `return`. A function without a `return` statement returns the value `None`.\n",
    "* The `print` statements within the function body are not required; they are present to retrieve values from within the function's local scope and display them (this is often referred to as a *side-effect*).\n",
    "* Notice that the values used within the function block are determined entirely by the values passed as input arguments when invoking the function."
   ]
  },
  {
   "cell_type": "markdown",
   "metadata": {},
   "source": [
    "## Using keyword and positional arguments"
   ]
  },
  {
   "cell_type": "markdown",
   "metadata": {},
   "source": [
    "The value of having the general formula encapsulated as a function is that we can execute it with different arguments in many contexts (e.g., within a loop for printing a table). While this formula is very simple, a function body can in principle incorporate arbitrarily sophisticated computations."
   ]
  },
  {
   "cell_type": "code",
   "execution_count": null,
   "metadata": {
    "collapsed": false
   },
   "outputs": [],
   "source": [
    "P = 1000.00 # Initial principal\n",
    "rate = 5.75 # Interest rate\n",
    "for t in range(10): # Now, loop over various values for the time interval\n",
    "    value = compound_interest_v1(t, rate, P)\n",
    "    print('%2d: $%.2f' % (t,value))"
   ]
  },
  {
   "cell_type": "markdown",
   "metadata": {},
   "source": [
    "Whoops! This attempt to produce a table of computed values produced a lot of extra lines! We had extra `print` statements embedded within the function body. Let's make those optional by using an extra *keyword* argument. We add a fourth input argument `debug=False` and add an `if`-block within the function body in the second version of this function. Adding an optional parameter called `debug` is frequently used in developing programs to make it easier to explore the internal states of variables (although we can use more sophisticated debugging tools instead)."
   ]
  },
  {
   "cell_type": "code",
   "execution_count": null,
   "metadata": {
    "collapsed": true
   },
   "outputs": [],
   "source": [
    "# Second version with a keyword argument\n",
    "def compound_interest_v2(n, r, A0, debug=False): \n",
    "    '''Compute compound interest'''\n",
    "    if debug:\n",
    "        print('n =', n)\n",
    "        print('r =', r)\n",
    "        print('A0 =', A0)\n",
    "    return A0*(1+0.01*r)**n"
   ]
  },
  {
   "cell_type": "code",
   "execution_count": null,
   "metadata": {
    "collapsed": false
   },
   "outputs": [],
   "source": [
    "compound_interest_v2(2, 4.75, 1000)"
   ]
  },
  {
   "cell_type": "code",
   "execution_count": null,
   "metadata": {
    "collapsed": false
   },
   "outputs": [],
   "source": [
    "x = compound_interest_v2(2, 4.75, 1000, True)\n",
    "compound_interest_v2(2, 3.5, 2000, debug=True)"
   ]
  },
  {
   "cell_type": "markdown",
   "metadata": {},
   "source": [
    "* Notice the use of indentation in Python. The `if` block is nested within the function body at a different level of indentation to clarify\n",
    "* When a function has a *keyword* argument, the keyword argument has a default value in the function definition.\n",
    "* All arguments to the left of the first keyword argument in the function definition are *positional* arguments.\n",
    "* When a function is invoked without specifying the value of a keyword argument, the default value is assumed.\n",
    "* The keyword identifier (e.g., in this case, `debug`) can be used explicitly in the function invocation or left out; without using the keyword as an identifier, the value is assigned positionally.\n",
    "\n",
    "With the modifications in `compound_interest_v2`, we can produce a reasonably neat table without the side-effects from `compound_interest_v1`."
   ]
  },
  {
   "cell_type": "code",
   "execution_count": null,
   "metadata": {
    "collapsed": false
   },
   "outputs": [],
   "source": [
    "P = 1000.00 # Initial principal\n",
    "rate = 5.75 # Interest rate\n",
    "for t in range(10):\n",
    "    value = compound_interest_v2(t, rate, P)\n",
    "    print('%2d: $%.2f' % (t, value))"
   ]
  },
  {
   "cell_type": "markdown",
   "metadata": {},
   "source": [
    "In a third version of this function, we may want to have a default principal, say $A_0=\\$1000.00$. In that case, we have two keyword arguments in the function definition."
   ]
  },
  {
   "cell_type": "code",
   "execution_count": null,
   "metadata": {
    "collapsed": true
   },
   "outputs": [],
   "source": [
    "# Third version with two keyword arguments\n",
    "def compound_interest_v3(n, r, A0=1000.0, debug=False): \n",
    "    '''Compute compound interest'''\n",
    "    if debug:\n",
    "        print('n =', n)\n",
    "        print('r =', r)\n",
    "        print('A0 =', A0)\n",
    "    return A0*(1+0.01*r)**n"
   ]
  },
  {
   "cell_type": "code",
   "execution_count": null,
   "metadata": {
    "collapsed": false
   },
   "outputs": [],
   "source": [
    "print(compound_interest_v3(3, 1.175, 5000.0))\n",
    "print(compound_interest_v3(3, 1.175, A0=5000.0))\n",
    "# This is easier to decipher later\n",
    "compound_interest_v3(n=3, r=1.175, debug=False, A0=2000.00)"
   ]
  },
  {
   "cell_type": "code",
   "execution_count": null,
   "metadata": {
    "collapsed": false
   },
   "outputs": [],
   "source": [
    "compound_interest_v3(n=3, r=1.175, debug=False)"
   ]
  },
  {
   "cell_type": "markdown",
   "metadata": {},
   "source": [
    "The important thing to remember is that the Python interpreter has to infer which values are which in a function invocation. Make sure the sequence of values used in a function invocation is unambiguous.\n",
    "* When using positional and keyword input arguments, the positional arguments must occur first (leftmost) in the correct order and all positional arguments must have values passed to the function.\n",
    "* Keyword arguments can occur out of order or not at all (in which case, default values will be assigned).\n",
    "* The keywords do not have to be used when invoking functions with keyword arguments (key words arguments can be specified by position) but it is useful to do so for readability.\n",
    "* When keywords are not specified in the function invocation, the values are assigned to function variables by position.\n",
    "* The identifiers used in specifying keyword arguments must be the same if using keyword arguments for function invocation."
   ]
  },
  {
   "cell_type": "markdown",
   "metadata": {},
   "source": [
    "## Returning more than one value"
   ]
  },
  {
   "cell_type": "markdown",
   "metadata": {},
   "source": [
    "In Python, there is a wonderfully simple way to return multiple values of any data type from a function: returning tuples. That is, when a Python function returns a value, that value can be a tuple that can be unpacked using tuple assignment or assigned to an identifier for the whole tuple. This is much simpler and more elegant than, for example, in C where functions return a single value (forcing workarounds to return more than one value)."
   ]
  },
  {
   "cell_type": "code",
   "execution_count": null,
   "metadata": {
    "collapsed": false
   },
   "outputs": [],
   "source": [
    "# Fourth version with two return values\n",
    "def compound_interest_v4(n, r, A0=1000.0, debug=False):\n",
    "    '''Compute compound interest\n",
    "    \n",
    "    returns a tuple of current value and interest'''\n",
    "    if debug:\n",
    "        print('n =', n)\n",
    "        print('r =', r)\n",
    "        print('A0 =', A0)\n",
    "    value = A0*(1+0.01*r)**n\n",
    "    interest = value - A0\n",
    "    return value, interest\n",
    "\n",
    "P = 2000.00\n",
    "rate = 4.75\n",
    "term = 15\n",
    "amount, interest = compound_interest_v4(term, rate, P)\n",
    "print('After %d intervals, the value is $%.2f, amounting to $%.2f in interest.' % (\n",
    "             term, amount, interest))"
   ]
  }
 ],
 "metadata": {
  "continuum": {
   "depends": [
    "ip_essentials",
    "ip_flowcontrol"
   ],
   "requires": [],
   "tag": "ip_functions"
  },
  "kernelspec": {
   "display_name": "Python 3",
   "language": "python",
   "name": "python3"
  },
  "language_info": {
   "codemirror_mode": {
    "name": "ipython",
    "version": 3
   },
   "file_extension": ".py",
   "mimetype": "text/x-python",
   "name": "python",
   "nbconvert_exporter": "python",
   "pygments_lexer": "ipython3",
   "version": "3.4.4"
  }
 },
 "nbformat": 4,
 "nbformat_minor": 0
}
