{
 "cells": [
  {
   "cell_type": "markdown",
   "metadata": {},
   "source": [
    "# Table of Contents\n",
    "* [Python language basics](#Python-language-basics)\n",
    "* [Learning Objectives:](#Learning-Objectives:)\n",
    "* [Language essentials: identifiers, imports, modules](#Language-essentials:-identifiers,-imports,-modules)\n",
    "\t* [Comments](#Comments)\n",
    "\t* [Identifiers and keywords](#Identifiers-and-keywords)\n",
    "\t* [Importing modules & managing namespaces](#Importing-modules-&-managing-namespaces)\n",
    "\t* [Function invocation](#Function-invocation)\n",
    "\t* [Object attributes and methods](#Object-attributes-and-methods)\n",
    "\t* [Getting help](#Getting-help)\n"
   ]
  },
  {
   "cell_type": "markdown",
   "metadata": {},
   "source": [
    "# Python language basics"
   ]
  },
  {
   "cell_type": "markdown",
   "metadata": {},
   "source": [
    "# Learning Objectives:"
   ]
  },
  {
   "cell_type": "markdown",
   "metadata": {},
   "source": [
    "After completion of this module, learners should be able to:\n",
    "\n",
    "* explain standard Python keywords, rules for identifiers, & naming conventions\n",
    "* apply Python idioms for importing modules, data, and functions into a Python program\n",
    "* use & describe standard Python idiom for function invocation with functions and methods\n",
    "* use `help` (and other documentation) to learn about builtin functions"
   ]
  },
  {
   "cell_type": "markdown",
   "metadata": {},
   "source": [
    "# Language essentials: identifiers, imports, modules"
   ]
  },
  {
   "cell_type": "markdown",
   "metadata": {},
   "source": [
    "The Python language is designed to be explicit, simple, and readable. It is an interpreted, high-level programming language, similar to Perl, Ruby, Tcl, and other so-called \"scripting languages.\" Python was created by Guido van Rossum around 1990; he named the language in honor of [Monty Python's Flying Circus](https://en.wikipedia.org/wiki/Monty_Python) (a surreal British comedy troupe from a hugely popular television show that ran from 1969 through 1974)."
   ]
  },
  {
   "cell_type": "markdown",
   "metadata": {},
   "source": [
    "## Comments"
   ]
  },
  {
   "cell_type": "markdown",
   "metadata": {},
   "source": [
    "Comments in Python code are denoted by the `#` (\"hash\" or \"pound\") character. Any text to the right of the comment character on a line of code is ignored by the Python interpreter (this idiom of comments is common in many programming languages)."
   ]
  },
  {
   "cell_type": "markdown",
   "metadata": {},
   "source": [
    "## Identifiers and keywords"
   ]
  },
  {
   "cell_type": "markdown",
   "metadata": {},
   "source": [
    "Computed values (and data, functions, objects, etc.) are generally assigned to [*identifiers*](https://docs.python.org/3/reference/lexical_analysis.html#identifiers) in programs. In many programming languages (e.g. C), identifiers are required to begin with an alphabetical character (`A-Za-z`) or an underscore character (`_`) followed by up to 32 (sometimes 64) alphanumeric (`A-Za-z0-9`) characters; most importantly, identifiers must be composed of a restricted subset of [ASCII](http://www.asciitable.com/) characters. As of Python 3, the rules describing valid identifiers have been extended to permit [Unicode](https://en.wikipedia.org/wiki/List_of_Unicode_characters) characters as well (see [PEP 3131 -- Supporting Non-ASCII Identifiers](https://www.python.org/dev/peps/pep-3131/)).\n",
    "\n",
    "The following 33 identifiers are used as [*keywords*](https://docs.python.org/3.4/reference/lexical_analysis.html#keywords) (or *reserved words*) of the Python programming language.\n",
    "\n",
    "||||||||||\n",
    "|---------------------|----------|----------|-----------|------------|-------|----------|--------|--------|\n",
    "|**control flow**     |`while` |`for`   |`break`  |`continue`|`if` |`else`  |`elif`|`pass`|\n",
    "|**logical operators**|`True`  |`False` |`and`    |`not`     |`or` |`in`    |`is`  |\n",
    "|**namespaces**       |`import`|`from`  |`as`     |`with`    |`del`|`global`|\n",
    "|**exceptions**       |`try`   |`except`|`finally`| `raise`  |\n",
    "|**object creation**  |`class` |`def`   |`lambda` |\n",
    "|**functions**        |`return`|`print` |`yield`  |\n",
    "|**miscellaneous**    |`assert`|`exec`  |\n",
    "The reserved words above cannot be used as ordinary identifiers and must be spelled exactly as written (i.e., upper versus lower case matters).\n",
    "\n",
    "There are other identifiers you would be wise to avoid. The identifiers below are not reserved workds, but are function names that are built-in to Python. *It is permissible to overwrite these variables* with values of your own choosing, but it is always a bad idea.\n",
    "\n",
    "|||||||||\n",
    "|------------|------------|---------------|-----------|--------------|--------------|-------------|-----------|\n",
    "| `abs`    | `all`    | `any`       | `ascii` |  `bin`     | `bool`     |`bytearray`| `bytes` | \n",
    "|`callable`| `chr`    |`classmethod`|`compile`| `complex`  |`copyright` | `credits` |`delattr`|\n",
    "| `dict`   | `dir`    | `divmod`    | `reload`|`enumerate` | `eval`     | `exec`    | `filter`|\n",
    "| `float`  | `format` | `frozenset` |`getattr`| `globals`  | `hasattr`  | `hash`    | `help`  |\n",
    "| `hex`    | `id`     | `input`     | `int`   |`isinstance`|`issubclass`| `iter`    | `len`   |\n",
    "|`license` | `list`   | `locals`    | `map`   | `max`      |`memoryview`|   `min`   | `next`  |\n",
    "| `object` | `oct`    | `open`      | `ord`   | `pow`      | `print`    | `property`| `range` |\n",
    "|  `repr`  |`reversed`| `round`     | `set`   | `setattr`  | `slice`    | `sorted`  |`staticmethod`|\n",
    "| `str`    | `sum`    | `super`     | `tuple` | `type`     | `vars`     | `zip`     |           \n",
    "\n",
    "Here is an example of a really bad idea: over-writing the built-in `len` function to use the identifier `len` to store an integer.\n",
    "\n",
    "```python\n",
    ">>> len = 2 # This is a really bad idea! \n",
    ">>>         # builtin function \"len\" is overwritten by an integer\n",
    ">>> print('len =', len)    # Here, we print the integer's value...\n",
    "len = 2\n",
    ">>> # Attempt to use *original* meaning of \"len\" to get length of a list\n",
    ">>> len(['a','b',4,5,6])\n",
    "---------------------------------------------------------------------------\n",
    "TypeError                                 Traceback (most recent call last)\n",
    "      1 len = 2 # This is a really bad idea! \n",
    "      2         # builtin function \"len\" is overwritten by an integer\n",
    "      3 print('len =', len)   # Here, we print out the integer's value...\n",
    "      4 # Attempt to use *original* meaning of \"len\" to get length of a list\n",
    "----> 5 len(['a','b',4,5,6])  \n",
    "\n",
    "TypeError: 'int' object is not callable\n",
    "```"
   ]
  },
  {
   "cell_type": "markdown",
   "metadata": {},
   "source": [
    "A common convention to avoid name collisions with built-in or reserved words (as above) is to add a trailing `_` character (underscore), e.g.:\n",
    "\n",
    "```python\n",
    ">>> len_ = 2\n",
    ">>> map_ = get_USA_map()\n",
    ">>> id_ = db.primary_key_for(\"David\", \"Mertz\")\n",
    ">>> class_ = student.graduating_year\n",
    "```"
   ]
  },
  {
   "cell_type": "markdown",
   "metadata": {},
   "source": [
    "Python modules with their own private *namespaces* have been designed specifically to avoid situations illustrated above."
   ]
  },
  {
   "cell_type": "markdown",
   "metadata": {},
   "source": [
    "## Importing modules & managing namespaces"
   ]
  },
  {
   "cell_type": "markdown",
   "metadata": {},
   "source": [
    "Python *modules* are collections of variable and function definitions saved in a `.py` file (possibly with imports of other modules). For example, the `math` module contains functions (like `math.sqrt` & `math.log`) and data (like `math.pi`) that becomes available within a Python program (or an interactive Python session) upon *importing*. To import a module in a Python session/program, we use the `import` keyword."
   ]
  },
  {
   "cell_type": "code",
   "execution_count": null,
   "metadata": {
    "collapsed": false
   },
   "outputs": [],
   "source": [
    "import math\n",
    "print('The square root of 2 is', math.sqrt(2))\n",
    "print('The value of pi is,', math.pi)"
   ]
  },
  {
   "cell_type": "markdown",
   "metadata": {},
   "source": [
    "Once imported, module data and functions are accessible by appending the appropriate module name to the left of the function/data identifier followed by `.`, i.e., a period character. The principle advantage of this convention is that module namespaces can contain conflicting identifiers that can then be resolved unambiguously by the Python interpreter. For instance, the `math` module has a `sqrt` function, but so does the `numpy` (*Numerical* *Python*) module as does the `cmath` (*complex* math) module. These functions have distinct implementations and use cases, but the module names help us tell `math.sqrt` from `numpy.sqrt` and `cmath.sqrt` in a program."
   ]
  },
  {
   "cell_type": "markdown",
   "metadata": {
    "collapsed": false
   },
   "source": [
    "If you do not have numpy installed in your conda environment run\n",
    "```\n",
    "% conda install -y numpy\n",
    "```"
   ]
  },
  {
   "cell_type": "code",
   "execution_count": null,
   "metadata": {
    "collapsed": false
   },
   "outputs": [],
   "source": [
    "# use the import-as idiom to introduce shorter aliases for module names\n",
    "import numpy as np\n",
    "# the numpy.sqrt function can be applied to lists/arrays elementwise\n",
    "print(np.sqrt([1,2,3])) "
   ]
  },
  {
   "cell_type": "code",
   "execution_count": null,
   "metadata": {
    "collapsed": false,
    "raises": "TypeError"
   },
   "outputs": [],
   "source": [
    "# This produces an error:  math.sqrt function cannot act on lists\n",
    "print(math.sqrt([1,2,3]))"
   ]
  },
  {
   "cell_type": "code",
   "execution_count": null,
   "metadata": {
    "collapsed": false
   },
   "outputs": [],
   "source": [
    "# This is the sqrt function from the cmath module that can return complex values\n",
    "from cmath import sqrt\n",
    "sqrt(-1)"
   ]
  },
  {
   "cell_type": "code",
   "execution_count": null,
   "metadata": {
    "collapsed": false,
    "raises": "ValueError"
   },
   "outputs": [],
   "source": [
    "math.sqrt(-1) # This raises an exception: math.sqrt cannot work with complex values."
   ]
  },
  {
   "cell_type": "code",
   "execution_count": null,
   "metadata": {
    "collapsed": false
   },
   "outputs": [],
   "source": [
    "np.sqrt(-1) # This produces a warning: numpy.sqrt returns \"nan\" (Not a Number)"
   ]
  },
  {
   "cell_type": "code",
   "execution_count": null,
   "metadata": {
    "collapsed": false
   },
   "outputs": [],
   "source": [
    "from math import pi as PI\n",
    "PI"
   ]
  },
  {
   "cell_type": "code",
   "execution_count": null,
   "metadata": {
    "collapsed": true
   },
   "outputs": [],
   "source": [
    "from math import *\n",
    "from cmath import *\n",
    "from numpy import *\n",
    "# What does sqrt() mean now?!"
   ]
  },
  {
   "cell_type": "markdown",
   "metadata": {},
   "source": [
    "* Using the idiom `import numpy as np` introduces `np` as a shorter alias for the module name `np`\n",
    "* Using the idiom `from cmath import sqrt` extracts only the `sqrt` function from the `cmath` module. In that case, the `sqrt` function in the global namespace is `cmath.sqrt`.\n",
    "* You can use the command `from math import *` to import all functions from the `math` module. This will overwrite any conflicting identifiers, so this is generally not advised in production code (although it can be convenient when working interactively)."
   ]
  },
  {
   "cell_type": "markdown",
   "metadata": {},
   "source": [
    "## Function invocation"
   ]
  },
  {
   "cell_type": "markdown",
   "metadata": {},
   "source": [
    "Functions are of core importance in programming languages for organizing code for reuse. We shall look at creating functions in greater detail in a later module, but we should know how to *invoke* or *call* functions. It is also important to know how to call functions appropriately by looking up the instructions in the documentation.\n",
    "\n",
    "We have used several builtin functions already (notably `print`, `type`, and `range`). The standard way to invoke a function is using a pair of parentheses around the function arguments (separated by commas) with the function's name to the left.\n",
    "\n",
    "* Functions with no input arguments are invoked using empty parentheses `()` (with no values within), e.g., `exit()`.\n",
    "* Functions with one argument are invoked using a single value within, e.g., `type(3.5)`.\n",
    "* Functions with two or more arguments are invoked with commas separating the values being passed to the function, e.g., `range(1,11)`.   \n",
    "  The relative positions and order of positional arguments is important for correct execution, e.g., `range(1,11)`$\\neq$`range(11,1)`.\n",
    "* Documentation about builtin functions—or any function currently loaded—can be found using the `help` function, e.g., `help(range)`.\n",
    "* Functions can have *positional* and *keyword* arguments.\n",
    "* Functions can be invoked using explicit keywords matching the function declaration and documentation, e.g., `print(3.5, end='\\n', file=output)`.\n",
    "* Some functions have variable length argument sequences (called *variadic arguments*), e.g., `print` and `range`."
   ]
  },
  {
   "cell_type": "code",
   "execution_count": null,
   "metadata": {
    "collapsed": false
   },
   "outputs": [],
   "source": [
    "type(3.5)"
   ]
  },
  {
   "cell_type": "code",
   "execution_count": null,
   "metadata": {
    "collapsed": false
   },
   "outputs": [],
   "source": [
    "list(range(10))"
   ]
  },
  {
   "cell_type": "code",
   "execution_count": null,
   "metadata": {
    "collapsed": false
   },
   "outputs": [],
   "source": [
    "list(range(3,17))"
   ]
  },
  {
   "cell_type": "code",
   "execution_count": null,
   "metadata": {
    "collapsed": false
   },
   "outputs": [],
   "source": [
    "list(range(10, 100, 20))"
   ]
  },
  {
   "cell_type": "code",
   "execution_count": null,
   "metadata": {
    "collapsed": false
   },
   "outputs": [],
   "source": [
    "help(print)"
   ]
  },
  {
   "cell_type": "markdown",
   "metadata": {},
   "source": [
    "## Object attributes and methods"
   ]
  },
  {
   "cell_type": "markdown",
   "metadata": {},
   "source": [
    "Every value in Python&mdash;every `bool`, `int`, `float`, `str`, `list`, data collection, function, module, etc.&mdash;is represented by the Python interpreter as its own *object*. An object can be thought of as a box in memory with an associated data type (e.g., `int`, `list`, etc.) and internal data. What makes objects powerful is that everything is an object (even functions) so there are flexible ways to work with all abstract entities in a program.\n",
    "\n",
    "Objects can have *attributes* (data) and *methods* (functions). Attributes and methods are accessed by appending the relevant attribute/method name to the right of the object name preceded by a dot. Notice that method invocations are function invocations, so they must be followed by parentheses along with any other required arguments."
   ]
  },
  {
   "cell_type": "code",
   "execution_count": null,
   "metadata": {
    "collapsed": false
   },
   "outputs": [],
   "source": [
    "my_string = 'This is a string'\n",
    "my_string.upper() # Invoking the method str.upper for this string object"
   ]
  },
  {
   "cell_type": "code",
   "execution_count": null,
   "metadata": {
    "collapsed": false
   },
   "outputs": [],
   "source": [
    "my_complex = 4+5j\n",
    "print(my_complex.real)  # Accessing attribute complex.real of a complex object\n",
    "print(my_complex.imag)  # Accessing attribute complex.imag of a complex object\n",
    "print(my_complex.conjugate()) # Invoking method complex.conjugate for complex object"
   ]
  },
  {
   "cell_type": "markdown",
   "metadata": {},
   "source": [
    "## Getting help"
   ]
  },
  {
   "cell_type": "markdown",
   "metadata": {},
   "source": [
    "We have used the `help` command to find documentation about builtin Python functions. We can also use `help` for module functions.\n",
    "* You can also look at the [Python Software Foundation docmentation](https://docs.python.org/3/).\n",
    "* In IPython, you can also obtain help by typing a `?` character before or after a function name"
   ]
  },
  {
   "cell_type": "code",
   "execution_count": null,
   "metadata": {
    "collapsed": false
   },
   "outputs": [],
   "source": [
    "help(math.sqrt)"
   ]
  },
  {
   "cell_type": "code",
   "execution_count": null,
   "metadata": {
    "collapsed": true
   },
   "outputs": [],
   "source": [
    "str?"
   ]
  },
  {
   "cell_type": "code",
   "execution_count": null,
   "metadata": {
    "collapsed": false
   },
   "outputs": [],
   "source": [
    "# If you don't already have future installed in your conda environment run this cell\n",
    "!conda install -y future"
   ]
  },
  {
   "cell_type": "code",
   "execution_count": null,
   "metadata": {
    "collapsed": false
   },
   "outputs": [],
   "source": [
    "# If the Python source code is available, we can show the implementation of the \n",
    "# function with two question marks.  For functions written in C or other languages, \n",
    "# only the regular docstring will be shown\n",
    "import future\n",
    "future.standard_library.copy??"
   ]
  }
 ],
 "metadata": {
  "celltoolbar": "Edit Metadata",
  "continuum": {
   "depends": [
    "ip_conda"
   ],
   "tag": "ip_essentials"
  },
  "kernelspec": {
   "display_name": "Python 2",
   "language": "python",
   "name": "python2"
  },
  "language_info": {
   "codemirror_mode": {
    "name": "ipython",
    "version": 2
   },
   "file_extension": ".py",
   "mimetype": "text/x-python",
   "name": "python",
   "nbconvert_exporter": "python",
   "pygments_lexer": "ipython2",
   "version": "2.7.11"
  }
 },
 "nbformat": 4,
 "nbformat_minor": 0
}
