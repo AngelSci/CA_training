{
 "cells": [
  {
   "cell_type": "markdown",
   "metadata": {},
   "source": [
    "# Table of Contents\n",
    "* [Learning Objectives:](#Learning-Objectives:)\n",
    "* [Iterable Data Structures](#Iterable-Data-Structures)\n",
    "\t* [Lists](#Lists)\n",
    "\t\t* [Adding items](#Adding-items)\n",
    "\t\t* [Concatenation and Arithmetic](#Concatenation-and-Arithmetic)\n",
    "\t\t* [Indexing](#Indexing)\n",
    "\t* [Sets](#Sets)\n",
    "\t\t* [Adding items](#Adding-items)\n",
    "\t\t* [Arithmetic](#Arithmetic)\n",
    "\t* [Dictionaries](#Dictionaries)\n",
    "\t\t* [Adding keys and values](#Adding-keys-and-values)\n",
    "\t\t* [Using .items()](#Using-.items%28%29)\n",
    "\t\t* [Useful member methods](#Useful-member-methods)\n",
    "\t\t* [len](#len)\n",
    "\t\t* [sum](#sum)\n",
    "\t\t* [sorted](#sorted)\n",
    "\t\t* [min and max](#min-and-max)\n",
    "\t* [Slicing](#Slicing)\n",
    "* [Choosing Data Structures](#Choosing-Data-Structures)\n",
    "\t* [Nested data structures](#Nested-data-structures)\n",
    "\t\t* [Aside: Introspection](#Aside:-Introspection)\n"
   ]
  },
  {
   "cell_type": "markdown",
   "metadata": {},
   "source": [
    "# Learning Objectives:"
   ]
  },
  {
   "cell_type": "markdown",
   "metadata": {},
   "source": [
    "After completion of this module, learners should be able to:\n",
    "\n",
    "* understand and apply Python idioms for iteration data structures\n",
    "* understand how to avoid writing *C in Python* loops"
   ]
  },
  {
   "cell_type": "markdown",
   "metadata": {},
   "source": [
    "# Iterable Data Structures"
   ]
  },
  {
   "cell_type": "markdown",
   "metadata": {},
   "source": [
    "One of the central tenets of Python philosophy is to *think about the data*. This is in contrast to thinking about the structure. This principle is most evident in working with *container* data structures like `dict`, `list`, `tuple` and `set`. These data structures are also called *iterables* because we can loop over them.\n",
    "\n",
    "Python is different from many programming languages in that programs less often use the *index* positions of items in a sequence, and instead usually just loop through the items themselves. In some programming languages, such as C, either the only way or the most convenient way to access items in a collection is by naming their index position in the collection. Python loops need not care about this most times.\n",
    "\n",
    "We'll introduce the word *Pythonic* to mean programs that follow idiomatic Python syntax, meaning there is usually one obvious way to implement an algorithm. *Pythonic* coding can be applied at all levels of a program, not just iteration. "
   ]
  },
  {
   "cell_type": "markdown",
   "metadata": {},
   "source": [
    "## Lists"
   ]
  },
  {
   "cell_type": "markdown",
   "metadata": {},
   "source": [
    "Here a list of numeric `types` is stored in the list `numbers`. Unlike other languages these numeric types are objects not keywords and can be treated like any other object."
   ]
  },
  {
   "cell_type": "code",
   "execution_count": null,
   "metadata": {
    "collapsed": false
   },
   "outputs": [],
   "source": [
    "# iterate over elements in lists or tuples\n",
    "types = [int,float,complex]\n",
    "for m_type in types:\n",
    "    print(m_type(1))"
   ]
  },
  {
   "cell_type": "markdown",
   "metadata": {},
   "source": [
    "### Adding items"
   ]
  },
  {
   "cell_type": "markdown",
   "metadata": {},
   "source": [
    "New objects of any type can be *appended* to the list using the `.append()` member method. Here I'm appending the object `str`, which is used to make or cast strings."
   ]
  },
  {
   "cell_type": "code",
   "execution_count": null,
   "metadata": {
    "collapsed": false
   },
   "outputs": [],
   "source": [
    "types.append(str)\n",
    "for m_type in types:\n",
    "    print(type(m_type(1)),m_type(1))"
   ]
  },
  {
   "cell_type": "markdown",
   "metadata": {},
   "source": [
    "### Concatenation and Arithmetic"
   ]
  },
  {
   "cell_type": "markdown",
   "metadata": {
    "collapsed": true
   },
   "source": [
    "Lists can be added (concatenated) to other lists with the `+` operator."
   ]
  },
  {
   "cell_type": "code",
   "execution_count": null,
   "metadata": {
    "collapsed": false
   },
   "outputs": [],
   "source": [
    "new_list = types + [list, set, dict]\n",
    "for m_type in new_list:\n",
    "    print(m_type)"
   ]
  },
  {
   "cell_type": "markdown",
   "metadata": {},
   "source": [
    "### Empty lists"
   ]
  },
  {
   "cell_type": "markdown",
   "metadata": {},
   "source": [
    "An empty list is generated using `[]`. Afterwards, items can be appended to the list."
   ]
  },
  {
   "cell_type": "code",
   "execution_count": null,
   "metadata": {
    "collapsed": true
   },
   "outputs": [],
   "source": [
    "another_list = []\n",
    "another_list.append(42)\n",
    "another_list.append('string')\n",
    "another_list"
   ]
  },
  {
   "cell_type": "markdown",
   "metadata": {},
   "source": [
    "### Indexing"
   ]
  },
  {
   "cell_type": "markdown",
   "metadata": {},
   "source": [
    "Although note required to be able to *iterate* over a `list`, we can index a list using `[]`. All indexing starts at zero. We'll use the `[]` notation to perform slicing in the next section."
   ]
  },
  {
   "cell_type": "code",
   "execution_count": null,
   "metadata": {
    "collapsed": false
   },
   "outputs": [],
   "source": [
    "new_list[0]"
   ]
  },
  {
   "cell_type": "code",
   "execution_count": null,
   "metadata": {
    "collapsed": false
   },
   "outputs": [],
   "source": [
    "new_list[2]"
   ]
  },
  {
   "cell_type": "code",
   "execution_count": null,
   "metadata": {
    "collapsed": false
   },
   "outputs": [],
   "source": [
    "# we can use -1 to index the last item\n",
    "new_list[-1]"
   ]
  },
  {
   "cell_type": "code",
   "execution_count": null,
   "metadata": {
    "collapsed": false
   },
   "outputs": [],
   "source": [
    "# high negative numbers work backwards\n",
    "# list is 3rd from the end\n",
    "new_list[-3]"
   ]
  },
  {
   "cell_type": "markdown",
   "metadata": {},
   "source": [
    "By using the `*` operator a list can concatenate itself."
   ]
  },
  {
   "cell_type": "code",
   "execution_count": null,
   "metadata": {
    "collapsed": false
   },
   "outputs": [],
   "source": [
    "another_list = [0] * 5\n",
    "for i in another_list:\n",
    "    print(i)"
   ]
  },
  {
   "cell_type": "markdown",
   "metadata": {},
   "source": [
    "## Sets"
   ]
  },
  {
   "cell_type": "markdown",
   "metadata": {},
   "source": [
    "`sets` are also iterable."
   ]
  },
  {
   "cell_type": "code",
   "execution_count": null,
   "metadata": {
    "collapsed": false
   },
   "outputs": [],
   "source": [
    "numbers = {3,4,3,2,5,8,9,2,3,4,0}\n",
    "for n in numbers:\n",
    "    print(n)"
   ]
  },
  {
   "cell_type": "markdown",
   "metadata": {},
   "source": [
    "Notice that sets don't support indexing. The only way to index a set by integer position would be to first cast it to a list (`list(numbers)`), which in many cases is not necessary."
   ]
  },
  {
   "cell_type": "code",
   "execution_count": null,
   "metadata": {
    "collapsed": false,
    "raises": "TypeError"
   },
   "outputs": [],
   "source": [
    "#this cell will produce a TypeError\n",
    "numbers[0]"
   ]
  },
  {
   "cell_type": "markdown",
   "metadata": {},
   "source": [
    "### Adding items"
   ]
  },
  {
   "cell_type": "markdown",
   "metadata": {},
   "source": [
    "New items can be added to the `set` by using the `.add()` member function. Again, any type can be added. Notice that I add the number `2.0` to the set, but I still only see one `2` in the output. This is beause `2.0 == 2` so only the integer version appears since it was already there."
   ]
  },
  {
   "cell_type": "code",
   "execution_count": null,
   "metadata": {
    "collapsed": false
   },
   "outputs": [],
   "source": [
    "numbers.add(2.0)\n",
    "numbers.add(7)\n",
    "numbers.add(2.1)\n",
    "for n in numbers:\n",
    "    print(n)"
   ]
  },
  {
   "cell_type": "markdown",
   "metadata": {},
   "source": [
    "### Arithmetic"
   ]
  },
  {
   "cell_type": "markdown",
   "metadata": {
    "collapsed": true
   },
   "source": [
    "Sets support full many aspects of [Set Theory](https://en.wikipedia.org/wiki/Set_theory) such as join using the `|` operator. In this cell we are creating the union of names in `users` and `admin`. Note that `Fred` is an administrator, but not a user."
   ]
  },
  {
   "cell_type": "code",
   "execution_count": null,
   "metadata": {
    "collapsed": false
   },
   "outputs": [],
   "source": [
    "users = {'Dave', 'Bob', 'Alice', 'Doug'}\n",
    "admin = {'Bob', 'Alice', 'Fred'}\n",
    "users | admin"
   ]
  },
  {
   "cell_type": "markdown",
   "metadata": {},
   "source": [
    "We can use the `-` operator to take the difference between two sets. `Dave` and `Doug` are not administrators. We'll see an interesting use of this operator in a later example."
   ]
  },
  {
   "cell_type": "code",
   "execution_count": null,
   "metadata": {
    "collapsed": false
   },
   "outputs": [],
   "source": [
    "users - admin"
   ]
  },
  {
   "cell_type": "markdown",
   "metadata": {},
   "source": [
    "## Dictionaries"
   ]
  },
  {
   "cell_type": "markdown",
   "metadata": {},
   "source": [
    "Dictionaries provide a key, value mapping such that unique `keys`, usually strings, map to exactly one `value` that can be of any type. A `value` object, object however, can map to multiple keys.\n",
    "\n",
    "Dictionaries are iterable over the `keys`. `.keys()` returns a set-like object."
   ]
  },
  {
   "cell_type": "code",
   "execution_count": null,
   "metadata": {
    "collapsed": true
   },
   "outputs": [],
   "source": [
    "md = {'state':'MD', 'population':5.796e6}"
   ]
  },
  {
   "cell_type": "markdown",
   "metadata": {},
   "source": [
    "Dictionaries are indexed using `[]` notation with the `key`."
   ]
  },
  {
   "cell_type": "code",
   "execution_count": null,
   "metadata": {
    "collapsed": true
   },
   "outputs": [],
   "source": [
    "md['state']"
   ]
  },
  {
   "cell_type": "code",
   "execution_count": null,
   "metadata": {
    "collapsed": false
   },
   "outputs": [],
   "source": [
    "# iterate over the keys of a dictionary\n",
    "for key in md:\n",
    "    print(key,md[key])"
   ]
  },
  {
   "cell_type": "code",
   "execution_count": null,
   "metadata": {
    "collapsed": false
   },
   "outputs": [],
   "source": [
    "# equivalent to cell above\n",
    "for key in md.keys():\n",
    "    print(key,md[key])"
   ]
  },
  {
   "cell_type": "markdown",
   "metadata": {},
   "source": [
    "### Adding keys and values"
   ]
  },
  {
   "cell_type": "markdown",
   "metadata": {
    "collapsed": true
   },
   "source": [
    "A new `key`, `value` pair can be added simply by assigning it using the `[]` notation."
   ]
  },
  {
   "cell_type": "code",
   "execution_count": null,
   "metadata": {
    "collapsed": false
   },
   "outputs": [],
   "source": [
    "md['flower'] = 'Sunflower'\n",
    "for key in md:\n",
    "    print(key,md[key])"
   ]
  },
  {
   "cell_type": "markdown",
   "metadata": {},
   "source": [
    "### Using .items()"
   ]
  },
  {
   "cell_type": "markdown",
   "metadata": {},
   "source": [
    "The most convenient and *Pythonic* way to iterate over keys and values of a dictionary is by using the `.items()` member function. `dict.items()` returns a list-like collection of tuples of key,value pairs. In the `for` loop each key, value pair is assigned to the name `key` and `value` using the principle of tuple expansion."
   ]
  },
  {
   "cell_type": "code",
   "execution_count": null,
   "metadata": {
    "collapsed": false
   },
   "outputs": [],
   "source": [
    "# An example of a for loop over dict.items(), \n",
    "# which unpacks into a (key, value) pair\n",
    "goog = {'acquired': '2015-01-15',\n",
    "        'broker': 'Roberto Cruz',\n",
    "        'price': 521.78,\n",
    "        'shares': 100,\n",
    "        'symbol': 'GOOG'}\n",
    "for key, value in goog.items():\n",
    "    print(key.ljust(10), \":\", value)"
   ]
  },
  {
   "cell_type": "markdown",
   "metadata": {},
   "source": [
    "Remember to look at the `help` output of data structures for more useful functions. All of the tuple expansion rules can be used with the `in` keyword."
   ]
  },
  {
   "cell_type": "markdown",
   "metadata": {},
   "source": [
    "### Useful member methods"
   ]
  },
  {
   "cell_type": "markdown",
   "metadata": {
    "collapsed": true
   },
   "source": [
    "There are several useful methods builtin to Python that perform operations on container objects. Three of the most heavily used methods are `sum()`, `len()` and `sorted()`.\n",
    "\n",
    "These three methods take as input the container object."
   ]
  },
  {
   "cell_type": "markdown",
   "metadata": {},
   "source": [
    "### len"
   ]
  },
  {
   "cell_type": "markdown",
   "metadata": {},
   "source": [
    "`len` returns the number of elements in the container."
   ]
  },
  {
   "cell_type": "code",
   "execution_count": null,
   "metadata": {
    "collapsed": false
   },
   "outputs": [],
   "source": [
    "len(numbers)"
   ]
  },
  {
   "cell_type": "code",
   "execution_count": null,
   "metadata": {
    "collapsed": false
   },
   "outputs": [],
   "source": [
    "len(types)"
   ]
  },
  {
   "cell_type": "code",
   "execution_count": null,
   "metadata": {
    "collapsed": false
   },
   "outputs": [],
   "source": [
    "len(md.keys())"
   ]
  },
  {
   "cell_type": "code",
   "execution_count": null,
   "metadata": {
    "collapsed": false
   },
   "outputs": [],
   "source": [
    "# this is equivalent to md.keys()\n",
    "len(md)"
   ]
  },
  {
   "cell_type": "markdown",
   "metadata": {},
   "source": [
    "### sum"
   ]
  },
  {
   "cell_type": "code",
   "execution_count": null,
   "metadata": {
    "collapsed": false
   },
   "outputs": [],
   "source": [
    "# add all of the numbers from out set object\n",
    "sum(numbers)"
   ]
  },
  {
   "cell_type": "markdown",
   "metadata": {},
   "source": [
    "### sorted"
   ]
  },
  {
   "cell_type": "markdown",
   "metadata": {},
   "source": [
    "`sorted` takes as input a container object and returns a new container with the objects in lexical or numeric order. This only works on `lists` and `tuples`, `sets` are already ordered. Only objects that support `>` and `<` operators can be ordered."
   ]
  },
  {
   "cell_type": "code",
   "execution_count": null,
   "metadata": {
    "collapsed": false
   },
   "outputs": [],
   "source": [
    "sorted(md.keys())"
   ]
  },
  {
   "cell_type": "code",
   "execution_count": null,
   "metadata": {
    "collapsed": false
   },
   "outputs": [],
   "source": [
    "# we can mix integers and floats\n",
    "more_numbers = [20, 423.2, -1.2, 2, 4, 3, 10, 8]\n",
    "sorted(more_numbers)"
   ]
  },
  {
   "cell_type": "markdown",
   "metadata": {},
   "source": [
    "### min and max"
   ]
  },
  {
   "cell_type": "markdown",
   "metadata": {},
   "source": [
    "The `min()` and `max()` functions can take as input any container that has values which can be sorted."
   ]
  },
  {
   "cell_type": "code",
   "execution_count": null,
   "metadata": {
    "collapsed": true
   },
   "outputs": [],
   "source": [
    "max(numbers)"
   ]
  },
  {
   "cell_type": "code",
   "execution_count": null,
   "metadata": {
    "collapsed": true
   },
   "outputs": [],
   "source": [
    "# mixed integers and floats\n",
    "min(more_numbers)"
   ]
  },
  {
   "cell_type": "markdown",
   "metadata": {},
   "source": [
    "## Slicing"
   ]
  },
  {
   "cell_type": "markdown",
   "metadata": {
    "collapsed": true
   },
   "source": [
    "*Slicing* is a core concept to Python containers. Slicing allows direct access to subsets of a container that would only be possible through looping operations in some other languages.\n",
    "\n",
    "We'll begin by using `range` to make a list of integers."
   ]
  },
  {
   "cell_type": "code",
   "execution_count": null,
   "metadata": {
    "collapsed": false
   },
   "outputs": [],
   "source": [
    "# here is a list of the integers 0 - 9\n",
    "integers = list(range(10))\n",
    "integers"
   ]
  },
  {
   "cell_type": "markdown",
   "metadata": {},
   "source": [
    "A slice is a set of two index positions, *start* and *end* within the list separated by a `:` in the `[]` notation we saw earlier. This allows us to select a linear region of the list starting from the *start* position and ending one element before the *end* position.\n",
    "\n",
    "The difference between *end* and *start* will be the number of elements returned.\n",
    "\n",
    "**Remember**: the last element returned by the slice the `end - 1` position."
   ]
  },
  {
   "cell_type": "code",
   "execution_count": null,
   "metadata": {
    "collapsed": false
   },
   "outputs": [],
   "source": [
    "# slice the first three elements\n",
    "integers[0:3]"
   ]
  },
  {
   "cell_type": "code",
   "execution_count": null,
   "metadata": {
    "collapsed": false
   },
   "outputs": [],
   "source": [
    "integers[2:6]"
   ]
  },
  {
   "cell_type": "code",
   "execution_count": null,
   "metadata": {
    "collapsed": false
   },
   "outputs": [],
   "source": [
    "integers[4:-2]"
   ]
  },
  {
   "cell_type": "markdown",
   "metadata": {},
   "source": [
    "We can change the *stride* length with a third integer in our slice. The default stride is `1`."
   ]
  },
  {
   "cell_type": "code",
   "execution_count": null,
   "metadata": {
    "collapsed": false
   },
   "outputs": [],
   "source": [
    "# return the even positions starting at 0 through position 5\n",
    "integers[0:6:2]"
   ]
  },
  {
   "cell_type": "markdown",
   "metadata": {},
   "source": [
    "If we leave an element of the slice blank it will assume either the first or the last element."
   ]
  },
  {
   "cell_type": "code",
   "execution_count": null,
   "metadata": {
    "collapsed": false
   },
   "outputs": [],
   "source": [
    "# slice every 3 elements starting at position 2 to the end\n",
    "integers[2::3]"
   ]
  },
  {
   "cell_type": "code",
   "execution_count": null,
   "metadata": {
    "collapsed": false
   },
   "outputs": [],
   "source": [
    "# start at 0 and slice every 2 elements up to position 7\n",
    "integers[:7:2]"
   ]
  },
  {
   "cell_type": "code",
   "execution_count": null,
   "metadata": {
    "collapsed": false
   },
   "outputs": [],
   "source": [
    "# stride by 4 from start to finish\n",
    "integers[::4]"
   ]
  },
  {
   "cell_type": "markdown",
   "metadata": {},
   "source": [
    "Finally, since we have the ability to index backwards starting at `-1` we can easily reverse a list and do other interesting slices by specifying a negative stride."
   ]
  },
  {
   "cell_type": "code",
   "execution_count": null,
   "metadata": {
    "collapsed": false
   },
   "outputs": [],
   "source": [
    "# this magically reverses start and end by default\n",
    "integers[::-1]"
   ]
  },
  {
   "cell_type": "code",
   "execution_count": null,
   "metadata": {
    "collapsed": false
   },
   "outputs": [],
   "source": [
    "# even positions from 8 to 2 backwards by 2\n",
    "integers[-2:-10:-2]"
   ]
  },
  {
   "cell_type": "markdown",
   "metadata": {},
   "source": [
    "# Choosing Data Structures"
   ]
  },
  {
   "cell_type": "markdown",
   "metadata": {},
   "source": [
    "The choice of data structures to express a programming problem has a direct impact on the available options for iteration. Our goal is to choose a data structure that makes iteration easy to read and understand.\n",
    "\n",
    "One way of thinking about this is to *let the data structure iterate itself*. This approach almost always leads to more readable code and it is what experienced Python programmers expect to see when reading new code."
   ]
  },
  {
   "cell_type": "markdown",
   "metadata": {},
   "source": [
    "Let's work through an example data set using the 2016 Federal Budget. The raw data is available from the White House on [Github](https://github.com/WhiteHouse/2016-budget-data). Five individual lists of the same length have been created to store contributions to the US Federal Budget from 2010 to 2016."
   ]
  },
  {
   "cell_type": "code",
   "execution_count": null,
   "metadata": {
    "collapsed": true
   },
   "outputs": [],
   "source": [
    "# Total Federal budget from 2010 to 2016\n",
    "federal=[3457079000., 3603059000., 3536951000., 3454647000., 3506089000., 3758577000., 3999467000.]\n",
    "\n",
    "# Subfunction Titles\n",
    "# Education (elementary through higher education)\n",
    "edu=[ 94169000.,  67584000.,  59605000.,  41882000.,  60917000., 104189000., 69939000.]\n",
    "\n",
    "# Basic Research\n",
    "research=[11730000., 12434000., 12458000., 12479000., 12011000., 12271000., 12824000.]\n",
    "\n",
    "# Social Security\n",
    "soc=[706737000., 730811000., 773290000., 813551000., 850533000., 896294000., 944338000.]\n",
    "\n",
    "# Military\n",
    "defense=[666703000., 678064000., 650851000., 607795000., 577897000., 567703000., 586479000.]"
   ]
  },
  {
   "cell_type": "markdown",
   "metadata": {},
   "source": [
    "We might want to know in what years did education and research spending reach 3% of the total budget. In order to do that we also need another list to store the years."
   ]
  },
  {
   "cell_type": "code",
   "execution_count": null,
   "metadata": {
    "collapsed": true
   },
   "outputs": [],
   "source": [
    "# We will also need a separate list for the years\n",
    "years=[2010,2011,2012,2013,2014,2015,2016]"
   ]
  },
  {
   "cell_type": "code",
   "execution_count": null,
   "metadata": {
    "collapsed": false
   },
   "outputs": [],
   "source": [
    "for i in range(len(years)):\n",
    "    percent = (edu[i] + research[i])/federal[i] * 100\n",
    "    if percent >= 3:\n",
    "        print(years[i],percent)"
   ]
  },
  {
   "cell_type": "markdown",
   "metadata": {},
   "source": [
    "The above choice of data structures and looping can be classified as *writing C in Python.* This is **not recommended** and we'll see a more *Pythonic* way in the next section."
   ]
  },
  {
   "cell_type": "markdown",
   "metadata": {},
   "source": [
    "## Nested data structures"
   ]
  },
  {
   "cell_type": "markdown",
   "metadata": {},
   "source": [
    "Instead of keeping track of 6 separate list objects and requiring that the developer *remember* that they are indexed from 2010 to 2016 we can nest a collection of dictionaries in a list. Our goal is to create a single data structure that can iterate itself without any prior knowledge of the contents or reasons for choosing the data structure.\n",
    "\n",
    "Here we're introducing `zip`, which takes an arbitrary number of container objects and iterates them collectively. Using `zip` is considered a more *Pythonic* way of iterating in lock-step through multiple container objects at once rather than using a positional indexer."
   ]
  },
  {
   "cell_type": "code",
   "execution_count": null,
   "metadata": {
    "collapsed": false
   },
   "outputs": [],
   "source": [
    "# Each entry of the list is the yearly budget amounts\n",
    "budget = []\n",
    "for year, f, r, s, e, d, in zip(years,federal,research,soc,edu,defense):\n",
    "    # Each year is a dictionary\n",
    "    budget.append({\n",
    "        'year':year,\n",
    "        'federal':f,\n",
    "        'research':r,\n",
    "        'soc':s,\n",
    "        'edu':e,\n",
    "        'defense':d\n",
    "    })"
   ]
  },
  {
   "cell_type": "markdown",
   "metadata": {},
   "source": [
    "`budget` is now a list of dictionaries and we can use this single data structure to determine the years where research and education spending exceeded 3%."
   ]
  },
  {
   "cell_type": "code",
   "execution_count": null,
   "metadata": {
    "collapsed": false
   },
   "outputs": [],
   "source": [
    "for year in budget:\n",
    "    percent = (year['edu'] + year['research'])/year['federal'] * 100\n",
    "    if percent >= 3:\n",
    "        print(year['year'],percent)"
   ]
  },
  {
   "cell_type": "markdown",
   "metadata": {},
   "source": [
    "### Aside: Introspection"
   ]
  },
  {
   "cell_type": "markdown",
   "metadata": {},
   "source": [
    "With data structures like `budget` a Python programmer can use idiomatic Python syntax to inspect the object. The programmer wants to know what type the container is and what it contains. In this way the programmer is letting the data teach him or her about itself. No prior knowledge or assumptions were required."
   ]
  },
  {
   "cell_type": "code",
   "execution_count": null,
   "metadata": {
    "collapsed": false
   },
   "outputs": [],
   "source": [
    "# What is budget\n",
    "type(budget)"
   ]
  },
  {
   "cell_type": "code",
   "execution_count": null,
   "metadata": {
    "collapsed": false
   },
   "outputs": [],
   "source": [
    "# What does it contain\n",
    "for thing in budget:\n",
    "    print(type(thing))"
   ]
  },
  {
   "cell_type": "code",
   "execution_count": null,
   "metadata": {
    "collapsed": false
   },
   "outputs": [],
   "source": [
    "# Dictionaries generally have keys that mean something.\n",
    "for thing in budget:\n",
    "    print(thing.keys())"
   ]
  },
  {
   "cell_type": "code",
   "execution_count": null,
   "metadata": {
    "collapsed": false
   },
   "outputs": [],
   "source": [
    "# All of the dictionaries look the same.\n",
    "# What do they contain?\n",
    "for key,value in budget[0].items():\n",
    "    print(\"%s: %s\" % (key,type(value)))"
   ]
  },
  {
   "cell_type": "markdown",
   "metadata": {},
   "source": [
    "By running these few lines of code, which could easily be done in a REPL or Jupyter notebook the programmer now knows that `budget` is a list of dictionaries that contain numerical values for the same set of 6 keys. The best part is that dictionary keys are self-documenting and meaning can be derived from them."
   ]
  }
 ],
 "metadata": {
  "celltoolbar": "Edit Metadata",
  "continuum": {
   "depends": [
    "ip_essentials",
    "ip_flowcontrol"
   ],
   "requires": [],
   "tag": "ip_containers"
  },
  "kernelspec": {
   "display_name": "Python 2",
   "language": "python",
   "name": "python2"
  },
  "language_info": {
   "codemirror_mode": {
    "name": "ipython",
    "version": 2
   },
   "file_extension": ".py",
   "mimetype": "text/x-python",
   "name": "python",
   "nbconvert_exporter": "python",
   "pygments_lexer": "ipython2",
   "version": "2.7.11"
  }
 },
 "nbformat": 4,
 "nbformat_minor": 0
}
