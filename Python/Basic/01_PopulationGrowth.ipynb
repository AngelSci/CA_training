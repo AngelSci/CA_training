{
 "cells": [
  {
   "cell_type": "markdown",
   "metadata": {},
   "source": [
    "# Table of Contents\n",
    "* [First Example: Population Growth](#First-Example:-Population-Growth)\n"
   ]
  },
  {
   "cell_type": "markdown",
   "metadata": {},
   "source": [
    "# First Example: Population Growth"
   ]
  },
  {
   "cell_type": "markdown",
   "metadata": {},
   "source": [
    "This example serves to show how with just a little effort Python can be used for very powerful data analyses.\n",
    "\n",
    "Using data from the [UN Department of Economic and Social Affairs - Population Division](http://esa.un.org/unpd/wpp/Download/Standard/Population/) we are going to take yearly population data for *more* and *less* developed regions and generate a report of the 5-year population growth between 1950 and 2015.\n",
    "\n",
    "The percent population growth is modeled using the following function\n",
    "$$\n",
    "\\left( \\sqrt[y_{f} - y_{i}]{\\frac{p_{f}}{p_{i}}} -1 \\right) \\times 100\n",
    "$$\n",
    "\n",
    "$p_i$ and $p_f$ are the populations a the initial year $y_i$ and final year $y_f$ over the chosen interval. In this the interval is five years.\n",
    "\n",
    "The data set is stored in a CSV file in the `data` directory. The first few lines of the file are shown here. The populations of *more_developed* and *less_developed* regions are shown in thousands.\n",
    "\n",
    "```\n",
    "year,more_developed,less_developed\n",
    "1950,812989,1712161\n",
    "1951,822320,1749547\n",
    "1952,832149,1785792\n",
    "1953,842294,1821735\n",
    "1954,852613,1858064\n",
    "1955,863004,1895310\n",
    "```"
   ]
  },
  {
   "cell_type": "markdown",
   "metadata": {},
   "source": [
    "We need to write Python code to do the following\n",
    "\n",
    "1. Read the CSV file into an appropriate data structure\n",
    "2. Iterate over the data to compute population growth over a given interval\n",
    "3. Print the results for *more_developed* and *less_developed* columns"
   ]
  },
  {
   "cell_type": "code",
   "execution_count": null,
   "metadata": {
    "collapsed": true
   },
   "outputs": [],
   "source": [
    "# Some functions we'll need\n",
    "\n",
    "import csv\n",
    "\n",
    "def get_data(data_file):\n",
    "    '''This function reads a CSV file and transforms values to integers\n",
    "    \n",
    "    The first line is expected to be a header.\n",
    "    \n",
    "    processed_data is a list-of-lists.\n",
    "    '''\n",
    "    \n",
    "    with open(data_file) as f:\n",
    "        raw_data = csv.reader(f)\n",
    "    \n",
    "        # The first line is expected to be a header, not integers\n",
    "        processed_data = [next(raw_data)]\n",
    "    \n",
    "        # All other lines need to be converted\n",
    "        # to integers to allow computation\n",
    "        for line in raw_data:\n",
    "            processed = [int(i) for i in line]\n",
    "            processed_data.append(processed)\n",
    "        \n",
    "    return processed_data\n",
    "\n",
    "\n",
    "def compute_growth(population_i,year_i,population_f,year_f):\n",
    "    '''Compute percent population growth over a given interval\n",
    "    \n",
    "    population_i : initial population\n",
    "    year_i       : initial year\n",
    "    population_f : final population\n",
    "    year_f       : final year\n",
    "    '''\n",
    "    return ((population_f/population_i)**(1/(year_f-year_i))-1)*100"
   ]
  },
  {
   "cell_type": "code",
   "execution_count": null,
   "metadata": {
    "collapsed": false
   },
   "outputs": [],
   "source": [
    "data = get_data('data/world_population_development.csv')\n",
    "\n",
    "interval = 5 # years\n",
    "\n",
    "print(\"Percent Population Growth in more and less developed regions\\n\")\n",
    "print(\"%5s %5s %5s\" % ('year','more','less'))\n",
    "\n",
    "# We need to store the previous entries\n",
    "# and only compute the growth after they\n",
    "# are stored\n",
    "previous = None\n",
    "for year,less,more in data[1::interval]: # do not process the first line\n",
    "    # The first iteration only stores its values\n",
    "    # since there were no previous values.\n",
    "    if previous is None:\n",
    "        previous = (year,less,more)\n",
    "        continue\n",
    "    else:\n",
    "        year_i,less_i,more_i=previous\n",
    "    \n",
    "    growth_more = compute_growth(more_i,year_i,more,year)\n",
    "    growth_less = compute_growth(less_i,year_i,less,year)\n",
    "    \n",
    "    previous = (year,less,more)\n",
    "    \n",
    "    print(\"%5s %5.2f %5.2f\" % (year,growth_less,growth_more))"
   ]
  },
  {
   "cell_type": "markdown",
   "metadata": {},
   "source": [
    "The above implementation made use of several Python-specific programming features. We'll cover these topics and many more during this course.\n",
    "\n",
    "* **tuple expansion**: `year_i,less_i,more_i=previous` and `previous=(year,less,more)`\n",
    "* **List slicing**: `data[1::n_years]`\n",
    "* **List comprehension**: `processed = [int(i) for i in line.split(',')]`"
   ]
  }
 ],
 "metadata": {
  "continuum": {
   "depends": [
    "ip_conda"
   ],
   "requires": [
    "data/world_population_development.csv"
   ],
   "tag": "ip_1st_population"
  },
  "kernelspec": {
   "display_name": "Python 3",
   "language": "python",
   "name": "python3"
  },
  "language_info": {
   "codemirror_mode": {
    "name": "ipython",
    "version": 3
   },
   "file_extension": ".py",
   "mimetype": "text/x-python",
   "name": "python",
   "nbconvert_exporter": "python",
   "pygments_lexer": "ipython3",
   "version": "3.4.4"
  }
 },
 "nbformat": 4,
 "nbformat_minor": 0
}
