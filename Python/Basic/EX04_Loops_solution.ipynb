{
 "cells": [
  {
   "cell_type": "markdown",
   "metadata": {},
   "source": [
    "# Table of Contents\n",
    "* [Exercise: loops and branches](#Exercise:-loops-and-branches)\n"
   ]
  },
  {
   "cell_type": "markdown",
   "metadata": {},
   "source": [
    "# Exercise: loops and branches"
   ]
  },
  {
   "cell_type": "markdown",
   "metadata": {},
   "source": [
    "Write a `for` loop that sums up the even numbers from 0 up to a value of a large even number `n` (try 1000). Check that the sum is equivalent to $(n/2)*(2+n)/2$. Remember that the `range` function does not include the end point."
   ]
  },
  {
   "cell_type": "code",
   "execution_count": null,
   "metadata": {
    "collapsed": false
   },
   "outputs": [],
   "source": [
    "n=1000\n",
    "m_sum=0\n",
    "for i in range(n+1):\n",
    "    if i%2==0:\n",
    "        m_sum+=i\n",
    "print(m_sum)"
   ]
  },
  {
   "cell_type": "code",
   "execution_count": null,
   "metadata": {
    "collapsed": false
   },
   "outputs": [],
   "source": [
    "m_sum == (n/2)*(2 + n)/2"
   ]
  }
 ],
 "metadata": {
  "continuum": {
   "depends": [
    "ip_ex_loops",
    "ip_essentials",
    "ip_flowcontrol"
   ],
   "requires": [],
   "tag": "ip_ex_loops_solution"
  },
  "kernelspec": {
   "display_name": "Python 3",
   "language": "python",
   "name": "python3"
  },
  "language_info": {
   "codemirror_mode": {
    "name": "ipython",
    "version": 3
   },
   "file_extension": ".py",
   "mimetype": "text/x-python",
   "name": "python",
   "nbconvert_exporter": "python",
   "pygments_lexer": "ipython3",
   "version": "3.4.4"
  }
 },
 "nbformat": 4,
 "nbformat_minor": 0
}
