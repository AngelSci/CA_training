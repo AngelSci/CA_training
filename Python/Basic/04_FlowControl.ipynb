{
 "cells": [
  {
   "cell_type": "markdown",
   "metadata": {},
   "source": [
    "# Table of Contents\n",
    "* [Learning Objectives:](#Learning-Objectives:)\n",
    "* [Language essentials: flow control](#Language-essentials:-flow-control)\n",
    "\t* [Indentation](#Indentation)\n",
    "\t* [Branching: `if-elif-else` constructs](#Branching:-if-elif-else-constructs)\n",
    "\t\t* [The ternary `if-else` operator](#The-ternary-if-else-operator)\n",
    "\t* [Iteration](#Iteration)\n",
    "\t\t* [Iteration using `while`](#Iteration-using-while)\n",
    "\t\t* [Iteration using `for`](#Iteration-using-for)\n",
    "\t\t* [Branching](#Branching)\n",
    "\t\t\t* [`continue` and `pass`](#continue-and-pass)\n",
    "\t\t\t* [`break`](#break)\n"
   ]
  },
  {
   "cell_type": "markdown",
   "metadata": {},
   "source": [
    "# Learning Objectives:"
   ]
  },
  {
   "cell_type": "markdown",
   "metadata": {},
   "source": [
    "After completion of this module, learners should be able to:\n",
    "\n",
    "* Describe rules regarding indentation in control blocks\n",
    "* automate repetitive tasks in Python using standard construts for flow control (e.g., `for`, `while`, `if-else-elif`, etc.)"
   ]
  },
  {
   "cell_type": "markdown",
   "metadata": {},
   "source": [
    "# Language essentials: flow control"
   ]
  },
  {
   "cell_type": "markdown",
   "metadata": {},
   "source": [
    "Straight-line programs (i.e., ones with no branching or iteration) are of limited use. The main Python constructs for looping/iteration are `for` and `while`. For branching in Python, we use `if`, `else`, and `elif`."
   ]
  },
  {
   "cell_type": "markdown",
   "metadata": {},
   "source": [
    "## Indentation"
   ]
  },
  {
   "cell_type": "markdown",
   "metadata": {},
   "source": [
    "In Python code, blocks of code (e.g., within `if`-blocks, `for`-loops, functions, etc.) are distinguished using *whitespace* (tabs or spaces). This [convention was chosen](http://effbot.org/pyfaq/why-does-python-use-indentation-for-grouping-of-statements.htm) against using braces (e.g., in C, Java, etc.) or `BEGIN`-`END` keywords (e.g., in Pascal, Fortran, etc.) or comparable conventions in other programming languages. A *colon* character denotes the start of a block in all cases. All lines within a block should be indented consistently. The end of the code block is recognized as the first line without the same level of indentation. This requires some adjustment for programmers coming from other languages where indentation of code blocks is optional.  However, most code written in other languages is formatted in a similar manner *by convention* to what is mandatory in Python."
   ]
  },
  {
   "cell_type": "markdown",
   "metadata": {},
   "source": [
    "## Branching: `if-elif-else` constructs"
   ]
  },
  {
   "cell_type": "markdown",
   "metadata": {},
   "source": [
    "Without idioms for branching, computers would be unable to make decisions in an automated fashion. The `if` construct permits a block of code to be executed conditionally based on the value of a boolean expression (i.e., a logical test). Once again, the extent of the `if` block is determined by consistently indented lines below the initial `if` clause."
   ]
  },
  {
   "cell_type": "code",
   "execution_count": null,
   "metadata": {
    "collapsed": false
   },
   "outputs": [],
   "source": [
    "profit = -5 # Re-execute a few times with different positive & negative values \n",
    "if profit > 0:\n",
    "    print(\"Positive profit! Yay, we're in the black!\")\n",
    "print(\"Accounts reviewed, let's go home...\")"
   ]
  },
  {
   "cell_type": "markdown",
   "metadata": {},
   "source": [
    "Notice, changing the value of `profit` to a negative value means the statement in the indented block does not execute. When that happens, the program continues directly to the next statement (`print(\"Accounts reviewed, let's go home...\")`) completely ignoring the body of the `if` block.\n",
    "\n",
    "If we want a different block of code to execute, we can include an `else` block as well."
   ]
  },
  {
   "cell_type": "code",
   "execution_count": null,
   "metadata": {
    "collapsed": false
   },
   "outputs": [],
   "source": [
    "profit = -5 # Re-execute a few times with different positive & negative values \n",
    "if profit >= 0:\n",
    "    print(\"Positive profit! Yay, we're in the black!\")\n",
    "else: # This executes only when profit is (strictly) negative!\n",
    "    print(\"Negative profit! Oh no, we're in the red!\")\n",
    "print(\"Accounts reviewed, let's go home...\")"
   ]
  },
  {
   "cell_type": "markdown",
   "metadata": {},
   "source": [
    "The code block that actually executes is dependent on the logical condition at the top of the `if` block. Again, after choosing which if the two clocks to execute, program flow continues below the last indented line of the `else` block and executes the `print` statement there.\n",
    "\n",
    "If there are numerous conditions to verify, an `elif` clause can optionally be added."
   ]
  },
  {
   "cell_type": "code",
   "execution_count": null,
   "metadata": {
    "collapsed": false
   },
   "outputs": [],
   "source": [
    "profit = 0 # Re-execute a few times with different positive & negative values \n",
    "in_the_black = profit > 0\n",
    "revenue_neutral = profit==0\n",
    "if in_the_black:\n",
    "    print(\"Positive profit! Yay, we're in the black!\")\n",
    "elif revenue_neutral:\n",
    "    print(\"No profit, no loss. Meh.\")\n",
    "elif \"bob\" is \"your uncle\":\n",
    "    print(\"Something else\")\n",
    "else: # This executes only when profit is (strictly) negative!\n",
    "    print(\"A loss! Oh no, we're in the red!\")\n",
    "print(\"Accounts reviewed, let's go home...\")"
   ]
  },
  {
   "cell_type": "markdown",
   "metadata": {},
   "source": [
    "* More `elif` blocks can be added and `if` blocks can be nested. Be careful doing so; the logic of deeply nested `if-elif-else` blocks can be very difficult to untangle.\n",
    "* Notice here, the boolean *explainer variables* `in_the_black` and `revenue_neutral` are used rather than embedding logical tests directly in the `if` and `elif` statements. This is not required, the code can execute without creating those boolean variables. However, explainer variables can serve as a replacement for comments as documentation. With well chosen variable names, it can be easier for someone reading the code (e.g., you in six months) to decipher the code's intention."
   ]
  },
  {
   "cell_type": "markdown",
   "metadata": {},
   "source": [
    "### The ternary `if-else` operator"
   ]
  },
  {
   "cell_type": "markdown",
   "metadata": {},
   "source": [
    "In C and many languages modeled after it, there is a *ternary operator* that permits conditional values assignment in a single line rather than using an `if` block. for instance, in C, one could write\n",
    "```C\n",
    "my_bonus = (profit>0) ? 1000.00 : 0.00;\n",
    "```"
   ]
  },
  {
   "cell_type": "markdown",
   "metadata": {},
   "source": [
    "to replace the C `if` block\n",
    "```C\n",
    "if (profit>0) {\n",
    "    my_bonus = 1000.00;\n",
    "} else {\n",
    "    my_bonus = 0.00;\n",
    "}\n",
    "```"
   ]
  },
  {
   "cell_type": "markdown",
   "metadata": {},
   "source": [
    "In Python, there is a similar ternary idiom for conditional assignment. Notice how much the Python version resembles a colloquial, natural language way to express that condition!"
   ]
  },
  {
   "cell_type": "code",
   "execution_count": null,
   "metadata": {
    "collapsed": false
   },
   "outputs": [],
   "source": [
    "profit = 3567 # Try changing to positive or negative values\n",
    "\n",
    "my_bonus = 1000.00 if profit>0 else 0.00\n",
    "print(my_bonus)\n",
    "\n",
    "# Compare also to this:\n",
    "if profit > 0: \n",
    "    my_bonus = 1000.00\n",
    "else: \n",
    "    my_bonus = 0.00\n",
    "print(my_bonus)"
   ]
  },
  {
   "cell_type": "markdown",
   "metadata": {},
   "source": [
    "## Iteration"
   ]
  },
  {
   "cell_type": "markdown",
   "metadata": {},
   "source": [
    "Python has two loop constructs, `for` and `while`.  Although you can, in principle, express *any* loop using either one, `for` is almost always more idiomatic, or \"Pythonic,\" than `while`.  The difference here is between looping \"while\" some condition (called a \"predicate\") holds vs. looping \"for\" the items in a collection or iterable sequence.  In Python, we prefer to think about the collection since the *data* are what interest us, and less often the internal details of how we get to the data.  Much more on this later."
   ]
  },
  {
   "cell_type": "markdown",
   "metadata": {},
   "source": [
    "### Iteration using `while`"
   ]
  },
  {
   "cell_type": "markdown",
   "metadata": {},
   "source": [
    "Iteration is one of the most important ideas in computing. Without the ability to express an iterative process, a programming language would have to write long sequences of explicit instructions. For instance, to add up the integers from one to ten as a straight-line program, we would have to write all the assignments explicitly:\n",
    "```python\n",
    ">>> total = 0\n",
    ">>> total += 1\n",
    ">>> total += 2\n",
    ">>> total += 3\n",
    ">>> total += 4\n",
    ">>> total += 5\n",
    ">>> total += 6\n",
    ">>> total += 7\n",
    ">>> total += 8\n",
    ">>> total += 9\n",
    ">>> total += 10\n",
    ">>> print('The total is', total)\n",
    "The total is 55\n",
    "```"
   ]
  },
  {
   "cell_type": "markdown",
   "metadata": {},
   "source": [
    "Alternatively, we could compute this sum using a `while` loop:"
   ]
  },
  {
   "cell_type": "code",
   "execution_count": null,
   "metadata": {
    "collapsed": false
   },
   "outputs": [],
   "source": [
    "total = 0\n",
    "term = 0\n",
    "while term < 10:\n",
    "    term += 1      # Increment the term to be added\n",
    "    total += term\n",
    "print('The total is', total)"
   ]
  },
  {
   "cell_type": "markdown",
   "metadata": {},
   "source": [
    "When using the `while` construct, the generic format is\n",
    "\n",
    "`while` *`condition`*`:`   \n",
    "&nbsp;&nbsp;&nbsp;&nbsp;`# do something`\n",
    "\n",
    "where *`condition`* is a boolean-valued expression (e.g., `term<10` above). The body of the loop repeats until the value *`condition`* is `False` or until a `break` statement executes inside the loop body. As usual, the body of a Python loop is made explicit using consistent indentation. It can be a subtle and tricky problem to ensure that the termination test in a `while` loop is correct."
   ]
  },
  {
   "cell_type": "markdown",
   "metadata": {},
   "source": [
    "### Iteration using `for`"
   ]
  },
  {
   "cell_type": "markdown",
   "metadata": {},
   "source": [
    "The two preceding loops can also be re-written using a `for` loop. A standard way to write a `for` loop that sums the integers from 1 to 10 using, say, C, would be\n",
    "```C\n",
    "int term, total = 0;\n",
    "for (term=1; term<=10; term++) {\n",
    "  total += term;\n",
    "}\n",
    "printf(\"The total is %2d.\\n\", total);\n",
    "```"
   ]
  },
  {
   "cell_type": "markdown",
   "metadata": {},
   "source": [
    "The standard Python `for` loop is a little different. Rather than having logical (boolean) tests embedded in the `for` statement, when using the `for` construction Python, the generic format is\n",
    "\n",
    "`for` *`item`* `in` *`collection`*`:`   \n",
    "&nbsp;&nbsp;&nbsp;&nbsp;`# do something using value`\n",
    "\n",
    "where *`item`* is the loop variable and *`collection`* is a data structure containing other data (e.g., a list or tuple) or an iterable (more on this later). The body of the loop repeats with the variable `item` taking on the value of *every successive element* of *`collection`* until the *`collection`* is exhausted (or until a `break` statement executes inside the loop body). As usual, the body of a Python loop is made explicit using consistent indentation."
   ]
  },
  {
   "cell_type": "markdown",
   "metadata": {},
   "source": [
    "To compute the sum of the integers from 1 to 10, the Python builtin function `range` generates a list (more on lists later) of the required values."
   ]
  },
  {
   "cell_type": "code",
   "execution_count": null,
   "metadata": {
    "collapsed": false
   },
   "outputs": [],
   "source": [
    "total = 0\n",
    "for term in range(1,11):\n",
    "    total += term\n",
    "print('The total is', total)"
   ]
  },
  {
   "cell_type": "markdown",
   "metadata": {},
   "source": [
    "* Notice that the invocation `range(`*`start`*`,`*`stop`*`)` returns an iterable object that generates integer values in sequence starting from the value *`start`* ending at *`stop`*`-1`. This convention may be confusing to programmers familiar with R or Matlab, but is used in many languages, and is also applied when indexing or slicing Python lists or arrays (as we will see in the next module).  This convention is called **half-open intervals** and will be referenced quite heavily in later sections."
   ]
  },
  {
   "cell_type": "markdown",
   "metadata": {},
   "source": [
    "### Branching"
   ]
  },
  {
   "cell_type": "markdown",
   "metadata": {},
   "source": [
    "It is common to nest branching (`if-elif-else`) within a loop (`for` or `while`) to selectively carry out different operations depending on some condition. Often, the desired outcome is to skip to the next iteration or to stop the loop entirely.\n",
    "\n",
    "As an example we will write two versions of a program to *roll* a dice and compute the probably of rolling a 2. This code will make use of the `random` module and specifically the `random.randint(1,6)` to randomly choose a number between 1 and 6."
   ]
  },
  {
   "cell_type": "code",
   "execution_count": null,
   "metadata": {
    "collapsed": false
   },
   "outputs": [],
   "source": [
    "import random\n",
    "\n",
    "iteration=0\n",
    "n_twos=0\n",
    "while iteration < 100000:\n",
    "    roll = random.randint(1,6)\n",
    "    if roll == 2:\n",
    "        n_twos+=1\n",
    "    iteration+=1\n",
    "\n",
    "print(n_twos/iteration*100)"
   ]
  },
  {
   "cell_type": "markdown",
   "metadata": {},
   "source": [
    "This result is reasonably close to `1/6`. Running more iterations in the `while` loop will improve the result."
   ]
  },
  {
   "cell_type": "markdown",
   "metadata": {},
   "source": [
    "Here is the same algorightm using a `for` loop. Note that the `iteration` assignment is preserved at end of the loop and is this case is equal to 100000."
   ]
  },
  {
   "cell_type": "code",
   "execution_count": null,
   "metadata": {
    "collapsed": false
   },
   "outputs": [],
   "source": [
    "import random\n",
    "\n",
    "n_twos=0\n",
    "for iteration in range(100000):\n",
    "    roll = random.randint(1,6)\n",
    "    if roll == 2:\n",
    "        n_twos+=1\n",
    "    \n",
    "print(n_twos/iteration*100)"
   ]
  },
  {
   "cell_type": "markdown",
   "metadata": {},
   "source": [
    "<big><b><font color='blue'>Python 2 vs 3</font></b></big>"
   ]
  },
  {
   "cell_type": "markdown",
   "metadata": {},
   "source": [
    "* Before Python 3, the `range` function would generate a list. The disadvantage of explicitly generating a list is that large ranges of integers require large amounts of memory up front, e.g., when invoking `range(1,1000000001)`. As of Python 3, the `range` function returns an *iterable* object of type `range`. Without going into implementation details, the `range` iterable generates successive integers in the prescribed range as needed; for instance, the `for` loop\n",
    "  ```python\n",
    "  for term in range(1,1000000001):\n",
    "      total += term\n",
    "  ```\n",
    "does not need to explicitly set aside a billion integer elements from memory at once. We will examine lists, iterables, iterators, and other Python language peculiarities in more detail in later modules. For now, accept that the `range` function is the idiom to iterate over a range of uniformly spaced integers."
   ]
  },
  {
   "cell_type": "markdown",
   "metadata": {},
   "source": [
    "#### `continue` and `pass`"
   ]
  },
  {
   "cell_type": "markdown",
   "metadata": {},
   "source": [
    "We can use these conditional statements to alter the way iterations are processed. To skip to the next iteration, we use the `continue` keyword."
   ]
  },
  {
   "cell_type": "markdown",
   "metadata": {},
   "source": [
    "Sometimes when looping over, say, a list of items, you may want to skip some items and go to the next; in that case, the `continue` keyword jumps out of the loop and onto the next element."
   ]
  },
  {
   "cell_type": "code",
   "execution_count": null,
   "metadata": {
    "collapsed": false
   },
   "outputs": [],
   "source": [
    "# Create a list of values\n",
    "weekly_profits = [15441.78, -4995.9, 17612.35, -1699.89, \n",
    "                  13508.56, 8197.6, 2129.29, -7164.04]\n",
    "for profit in weekly_profits:\n",
    "    if profit < 0:\n",
    "        continue\n",
    "    print('Profit:', profit) # This only executes when there is a profit (not a loss)"
   ]
  },
  {
   "cell_type": "markdown",
   "metadata": {},
   "source": [
    "<big><b><font color='green'>Additional Information</font></b></big>"
   ]
  },
  {
   "cell_type": "markdown",
   "metadata": {},
   "source": [
    "The `pass` keyword in Python is used in blocks where no action is to be taken. Whereas in other languages, empty braces or a `BEGIN` followed immediately by an `END` can denote an empty block, Python requires the `pass` keyword to do so (because Python uses indentation to delimit blocks).\n",
    "```python\n",
    "profit = 100\n",
    "if profit < 0:\n",
    "    print('There is a loss.')\n",
    "elif profit == 0:\n",
    "    pass # Take no action if revenue neutral\n",
    "else:\n",
    "    pass # TODO: figure out what to do when profitable\n",
    "```"
   ]
  },
  {
   "cell_type": "markdown",
   "metadata": {},
   "source": [
    "A `pass` statement simply passes control flow onto the next statement below the block (contrast with `continue` and `break`). It is often used as a placeholder while developing a program, as new code blocks are filled in.  Sometimes the placeholder serves as documentation for future readers of your code (including yourself when you come back to it); by explicitly spelling out a do-nothing block of code, readers can recognize that the case was contemplated by the code author rather than overlooked, and a decision to do nothing was actually made explicitly."
   ]
  },
  {
   "cell_type": "markdown",
   "metadata": {},
   "source": [
    "#### `break`"
   ]
  },
  {
   "cell_type": "markdown",
   "metadata": {},
   "source": [
    "We can use `break` to completely stop a loop. For example we can roll two dice indefinitely until they both equal 1. Notice that `break` will only exit from the current loop. Recipes for dealing with breaks from nested loops will be discussed later.\n",
    "\n",
    "<font color='red'>Warning:</font> this kind of programming can lead to [*infinite loops*](https://en.wikipedia.org/wiki/Infinite_loop)"
   ]
  },
  {
   "cell_type": "code",
   "execution_count": null,
   "metadata": {
    "collapsed": false
   },
   "outputs": [],
   "source": [
    "iteration=1\n",
    "while True:\n",
    "    dice1 = random.randint(1,6)\n",
    "    dice2 = random.randint(1,6)\n",
    "    \n",
    "    if dice1 == 1 and dice2 == 1:\n",
    "        print(\"Snake eyes!\")\n",
    "        print(iteration,\" rolls\")\n",
    "        break\n",
    "    \n",
    "    iteration+=1"
   ]
  }
 ],
 "metadata": {
  "continuum": {
   "depends": [
    "ip_essentials"
   ],
   "tag": "ip_flowcontrol"
  },
  "kernelspec": {
   "display_name": "Python 3",
   "language": "python",
   "name": "python3"
  },
  "language_info": {
   "codemirror_mode": {
    "name": "ipython",
    "version": 3
   },
   "file_extension": ".py",
   "mimetype": "text/x-python",
   "name": "python",
   "nbconvert_exporter": "python",
   "pygments_lexer": "ipython3",
   "version": "3.4.4"
  }
 },
 "nbformat": 4,
 "nbformat_minor": 0
}
