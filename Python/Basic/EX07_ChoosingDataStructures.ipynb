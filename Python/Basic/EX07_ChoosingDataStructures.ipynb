{
 "cells": [
  {
   "cell_type": "markdown",
   "metadata": {},
   "source": [
    "# Table of Contents\n",
    "* [Exercise (choosing data structures)](#Exercise-%28choosing-data-structures%29)\n"
   ]
  },
  {
   "cell_type": "markdown",
   "metadata": {},
   "source": [
    "# Exercise (choosing data structures)"
   ]
  },
  {
   "cell_type": "markdown",
   "metadata": {},
   "source": [
    "<img src='img/Orgchart.png'>"
   ]
  },
  {
   "cell_type": "markdown",
   "metadata": {},
   "source": [
    "In the example, let's say that an arrow indicates a supervisory role over another employee, and a line with no arrows indicates a collaborative project.\n",
    "\n",
    "Moreover, we want to store some information about each employee, some of which we consider permanent, some of which we wish to update periodically, e.g.:\n",
    "\n",
    "```\n",
    "Name: Susan Park\n",
    "Birthday: 1964-01-15\n",
    "Branch: Seattle, WA\n",
    "Widgets sold: 1521\n",
    "Frobniz sold: 2400\n",
    "```"
   ]
  },
  {
   "cell_type": "markdown",
   "metadata": {},
   "source": [
    "Design a Python (collection of) data structure(s) to hold all the data pertaining to employees and the work relationships among them.  Ideally, your data structure will allow changing both data and relationships in a convenient manner, and will also allow hiring or termination of particular employees.\n",
    "\n",
    "Test out your data structure by experimentally changing information in this data structures. Try writing some functions to peform natural operations with the data structure(s)."
   ]
  }
 ],
 "metadata": {
  "continuum": {
   "depends": [
    "ip_essentials",
    "ip_datatypes",
    "ip_containers",
    "ip_functions",
    "ip_flowcontrol"
   ],
   "requires": [
    "img/Orgchart.png"
   ],
   "tag": "ip_ex_datastructs"
  },
  "kernelspec": {
   "display_name": "Python 3",
   "language": "python",
   "name": "python3"
  },
  "language_info": {
   "codemirror_mode": {
    "name": "ipython",
    "version": 3
   },
   "file_extension": ".py",
   "mimetype": "text/x-python",
   "name": "python",
   "nbconvert_exporter": "python",
   "pygments_lexer": "ipython3",
   "version": "3.4.4"
  }
 },
 "nbformat": 4,
 "nbformat_minor": 0
}
