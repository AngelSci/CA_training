{
 "cells": [
  {
   "cell_type": "markdown",
   "metadata": {},
   "source": [
    "# Table of Contents\n",
    "* [Python languge basics](#Python-languge-basics)\n",
    "* [Learning Objectives:](#Learning-Objectives:)\n",
    "* [Language essentials: types, operators](#Language-essentials:-types,-operators)\n",
    "\t* [Core scalar data types](#Core-scalar-data-types)\n",
    "\t\t* [Types and assignment](#Types-and-assignment)\n",
    "\t* [Strings](#Strings)\n",
    "\t\t* [String arithmetic](#String-arithmetic)\n",
    "\t* [Arithmetic operators](#Arithmetic-operators)\n",
    "\t* [Arithmetic assignment](#Arithmetic-assignment)\n",
    "\t* [Logical and comparison operators](#Logical-and-comparison-operators)\n",
    "\t\t* [is and in](#is-and-in)\n",
    "\t* [Tuple Expansion](#Tuple-Expansion)\n"
   ]
  },
  {
   "cell_type": "markdown",
   "metadata": {},
   "source": [
    "# Python languge basics"
   ]
  },
  {
   "cell_type": "markdown",
   "metadata": {},
   "source": [
    "# Learning Objectives:"
   ]
  },
  {
   "cell_type": "markdown",
   "metadata": {},
   "source": [
    "After completion of this module, learners should be able to:\n",
    "\n",
    "* use & describe Python idioms for variable assignment & arithmetic/logical operations with simple scalar data"
   ]
  },
  {
   "cell_type": "markdown",
   "metadata": {},
   "source": [
    "# Language essentials: types, operators"
   ]
  },
  {
   "cell_type": "markdown",
   "metadata": {},
   "source": [
    "Python has a small number of atomic types that are used to build up more sophisticated data structures and classes. To get started with Python, it is necessary to have a reasonable familiarity with the base types and operations you can do with them."
   ]
  },
  {
   "cell_type": "markdown",
   "metadata": {},
   "source": [
    "## Core scalar data types"
   ]
  },
  {
   "cell_type": "markdown",
   "metadata": {},
   "source": [
    "|Type     | Description                   |\n",
    "| :-:     | :-:                           | \n",
    "| `bool`  | `True` or `False`             |\n",
    "| `int`   | integer type                  |\n",
    "| `float` | floating-point type           |\n",
    "|`complex`| complex (floating-point) type |\n",
    "| `str`   | String or character type      |\n",
    "| `bytes` | binary data type              |\n",
    "| `None`  | Python NULL singleton         |\n",
    "\n",
    "Python has a small number of atomic types that are used to build up more sophisticated data structures and classes. At times, it is necessary to know how numbers and alphanumeric characters are encoded in software/hardware to understand how a program will run (particularly when trying to load data from a file into the memory). Numeric encodings of integers, strings, floating-point numbers, and complex numbers all involve subtleties that sometimes need to be understood when working with different kinds of hardware and software."
   ]
  },
  {
   "cell_type": "markdown",
   "metadata": {},
   "source": [
    "### Types and assignment"
   ]
  },
  {
   "cell_type": "markdown",
   "metadata": {},
   "source": [
    "One source of confusion to programmers learning Python having use traditional compiled languages is that Python interpreters typically use *dynamically typing*. That is, rather than having to declaring static data types for each identifier used in a program, legitimate Python programs can reassign different data types to identifiers as the program progresses."
   ]
  },
  {
   "cell_type": "code",
   "execution_count": null,
   "metadata": {
    "collapsed": false
   },
   "outputs": [],
   "source": [
    "# Notice the type function returns the data type (class) of an identifier or a value\n",
    "# Assigning a floating-point value to the identifier my_value\n",
    "my_var = 1.5235e3\n",
    "print('my_var =', my_var, ' # a value of type', type(my_var))"
   ]
  },
  {
   "cell_type": "code",
   "execution_count": null,
   "metadata": {
    "collapsed": false
   },
   "outputs": [],
   "source": [
    "# Assigning an integer value value to the identifier my_value\n",
    "my_var = -56\n",
    "print('my_var =', my_var, ' # a value of type', type(my_var))"
   ]
  },
  {
   "cell_type": "code",
   "execution_count": null,
   "metadata": {
    "collapsed": false
   },
   "outputs": [],
   "source": [
    "# Assigning a string value value to the identifier my_value\n",
    "my_var = \"Now it's a string!\"\n",
    "print('my_var =', repr(my_var), ' # a value of type', type(my_var))"
   ]
  },
  {
   "cell_type": "code",
   "execution_count": null,
   "metadata": {
    "collapsed": false
   },
   "outputs": [],
   "source": [
    "my_var = None # 'None' is a Python data type for a NULL value\n",
    "print('my_var =', my_var, ' # a value of type', type(my_var))"
   ]
  },
  {
   "cell_type": "markdown",
   "metadata": {},
   "source": [
    "The freedom from having to statically declare data types affords some flexibility in an interactive programming session; however, this convenience can lead to hard-to-find bugs in longer programs. It is wise to avoid rebinding the same variable with different data types (with the exception of, say, casting `int` to `float` or `float` to `complex` as may occur naturally within a mathematical computation). Another occasion where it is common to rebind a variable is in loops, where the same name may contain sequential things that are \"duck typed\" (more on this later).\n",
    "\n",
    "The features of these data types will be explored in more detail in the next module."
   ]
  },
  {
   "cell_type": "markdown",
   "metadata": {},
   "source": [
    "## Strings"
   ]
  },
  {
   "cell_type": "markdown",
   "metadata": {},
   "source": [
    "Strings in Python are denoted using three different styles of quotes. The only rule is that the quote style has to close. Quotes of a different style can be embedded."
   ]
  },
  {
   "cell_type": "code",
   "execution_count": null,
   "metadata": {
    "collapsed": true
   },
   "outputs": [],
   "source": [
    "# empty string\n",
    "my_string = ''"
   ]
  },
  {
   "cell_type": "code",
   "execution_count": null,
   "metadata": {
    "collapsed": true
   },
   "outputs": [],
   "source": [
    "my_string = 'string'"
   ]
  },
  {
   "cell_type": "code",
   "execution_count": null,
   "metadata": {
    "collapsed": true
   },
   "outputs": [],
   "source": [
    "my_string = \"a string\""
   ]
  },
  {
   "cell_type": "code",
   "execution_count": null,
   "metadata": {
    "collapsed": true
   },
   "outputs": [],
   "source": [
    "my_string = '''still a string'''"
   ]
  },
  {
   "cell_type": "code",
   "execution_count": null,
   "metadata": {
    "collapsed": true
   },
   "outputs": [],
   "source": [
    "my_string = 'an \"embedded\" quote'"
   ]
  },
  {
   "cell_type": "markdown",
   "metadata": {},
   "source": [
    "As objects, strings have a variety of *methods* (functions) that can be invoked and operate on data contained in the calling `str` object. The table below shows some of the most commonly used methods.\n",
    "\n",
    "|Method|Description\n",
    "|---|---|\n",
    "|`.count(a)`|Return the number of occurrences of a substring `a`\n",
    "|`.lower()`| Change case of all characters to lower\n",
    "|`.replace(a,b)`|Replace all occurrences of the substring `a` with the substring `b`\n",
    "|`.split()`|\n",
    "|`.splitlines()`|Split the string into a list of substrings at newline characters, `'\\n'`\n",
    "|`.strip()`|Remove leading and trailing whitespace\n",
    "|`.swapcase()`|Swap the case of ever character in the string\n",
    "|`.upper()`|Change the case of all characters to upper.\n",
    "\n",
    "We can use `help` or the [Python documentation](https://docs.python.org/3/library/stdtypes.html#string-methods) to determine their function. \n",
    "\n",
    "Given a `str` object with identifier, say, `a_string`, any string *`method`* is invoked using `a_string.`*`method()`* (that is, the string as an argument to the method is positioned as a prefix of the method in the call). Of course, other arguments may be required within the parentheses, depending on which method is used."
   ]
  },
  {
   "cell_type": "markdown",
   "metadata": {},
   "source": [
    "### String arithmetic"
   ]
  },
  {
   "cell_type": "markdown",
   "metadata": {},
   "source": [
    "A feature of Python that may surprise programmers familiar with C or Java is the behavior of arithmetic operators applied with strings data types. When applied to strings, the ``+`` operator (respectively, the ``*`` operator) concatenates (respectively replicates) the data."
   ]
  },
  {
   "cell_type": "code",
   "execution_count": null,
   "metadata": {
    "collapsed": false
   },
   "outputs": [],
   "source": [
    "new_string = 'Polar' + 'Bear'  # Concatenating strings\n",
    "print(new_string)"
   ]
  },
  {
   "cell_type": "code",
   "execution_count": null,
   "metadata": {
    "collapsed": false,
    "raises": "TypeError"
   },
   "outputs": [],
   "source": [
    "# This produces a TypeError for mixing incompatible data types\n",
    "1 + new_string "
   ]
  },
  {
   "cell_type": "code",
   "execution_count": null,
   "metadata": {
    "collapsed": false
   },
   "outputs": [],
   "source": [
    "5 * 'And', \"But\" * 5"
   ]
  },
  {
   "cell_type": "markdown",
   "metadata": {},
   "source": [
    "## Arithmetic operators"
   ]
  },
  {
   "cell_type": "markdown",
   "metadata": {},
   "source": [
    "Binary mathematical operators in Python behave in a straightforward way as with most programming languages.\n",
    "\n",
    "addition | subtraction |multiplication | division  |floor<br>division  |exponentiation | remainder\n",
    ":-: | :-: | :-: | :-: | :-: | :-: | :-:\n",
    "`+` | `-` |`*`| `/` | `//` | `**` | `%`\n",
    "Exponentiation refers to raising a base to a given exponent, i.e., `a**b` means $\\mathtt{a}^{\\mathtt{b}}$.\n",
    "\n",
    "The `%` character is used for modular arithmetic (i.e., computing remainders). This works with `int` and `float` data."
   ]
  },
  {
   "cell_type": "markdown",
   "metadata": {},
   "source": [
    "<big><b><font color='blue'>Python 2 vs 3</font></b></big>"
   ]
  },
  {
   "cell_type": "markdown",
   "metadata": {},
   "source": [
    "Notice that division is done using a single `/` character and implicitly promotes integers to floating-point numbers when appropriate. In Python 2 and earlier, the default behavior of the division operator `/` was to carry out integer division when both operands were integers; that is $\\mathtt{a} / \\mathtt{b}=\\lfloor \\mathtt{a}\\div \\mathtt{b}\\rfloor$ when both $\\mathtt{a}$ and $\\mathtt{b}$ are integers. The more common expected behavior is now the default in Python 3, that is dividing two integers will automatically produce a real (floating-point) number if no integer answer is exact. To perform integer division in Python 3, use two forward slash characters (i.e., `//`)."
   ]
  },
  {
   "cell_type": "code",
   "execution_count": null,
   "metadata": {
    "collapsed": false
   },
   "outputs": [],
   "source": [
    "print(\"15-7 =\", 15 - 7)\n",
    "print(\"13.2 + 4.7 =\", 13.2 + 4.7)\n",
    "print(\"15*3 =\", 15*3)\n",
    "print(\"3/4 =\", 3/4)     #  floating-point value as expected\n",
    "print(\"25//7 =\", 25//7) # Floor division\n",
    "print(\"2**5 =\", 2**5)\n",
    "print(\"37 % 11.5 =\", 37 % 11.5)"
   ]
  },
  {
   "cell_type": "code",
   "execution_count": null,
   "metadata": {
    "collapsed": false
   },
   "outputs": [],
   "source": [
    "# Floor division doesn't always produce an actual integer\n",
    "# If the arguments are floats, it produces the floating point number\n",
    "# equal to the integer below the true result\n",
    "print(7.0//3.0) "
   ]
  },
  {
   "cell_type": "code",
   "execution_count": null,
   "metadata": {
    "collapsed": false
   },
   "outputs": [],
   "source": [
    "a = 25  # Experiment with different (integer) values of a and b\n",
    "b = 7\n",
    "print('a/b produces ', a/b)\n",
    "print('a//b produces ', a//b)"
   ]
  },
  {
   "cell_type": "markdown",
   "metadata": {},
   "source": [
    "Python floats accept scientific notation"
   ]
  },
  {
   "cell_type": "code",
   "execution_count": null,
   "metadata": {
    "collapsed": true
   },
   "outputs": [],
   "source": [
    "print(123e2)     # 12300; \"123e2\" means \"123 times 10**2\"\n",
    "print(456E-4)    # 0.0456; \"456e-4\" means \"456 times 10**(-4)\"\n",
    "print(-.7436e3)  # -743.6\n",
    "print(1476.3e20) # 1.4763*10**23"
   ]
  },
  {
   "cell_type": "markdown",
   "metadata": {},
   "source": [
    "## Arithmetic assignment"
   ]
  },
  {
   "cell_type": "markdown",
   "metadata": {},
   "source": [
    "Arithmetic operations can be combined with the assignment operator to overwrite variables in place (a similar idiom is used in C and its derivatives). For instance, in the code below, the statement `balance += interest` has the same effect as `balance = balance + interest`. The former is preferable to the latter for readability and reducing the risk of misspelled identifiers."
   ]
  },
  {
   "cell_type": "code",
   "execution_count": null,
   "metadata": {
    "collapsed": false
   },
   "outputs": [],
   "source": [
    "balance = 100\n",
    "interest_rate = 5\n",
    "interest = (interest_rate/100) * balance\n",
    "balance += interest\n",
    "print('The new balance is, $%.2f' % balance) # Use \"string interpolation\""
   ]
  },
  {
   "cell_type": "code",
   "execution_count": null,
   "metadata": {
    "collapsed": false
   },
   "outputs": [],
   "source": [
    "b = 2\n",
    "b **= 10  # Equivalent to b = b**10\n",
    "# Don't panic: we can also format strings using str.format(), explained later\n",
    "print('b = {:4d}'.format(b))"
   ]
  },
  {
   "cell_type": "markdown",
   "metadata": {},
   "source": [
    "## Logical and comparison operators"
   ]
  },
  {
   "cell_type": "markdown",
   "metadata": {},
   "source": [
    "Python's built-in comparison operators combine values to produce a `bool` (boolean) value, namely `True` or `False`.\n",
    "\n",
    "Standard comparisons between numbers follow fairly standard conventions.\n",
    "\n",
    "less than | greater than | less than<br>or equal to| greater than<br>or equal to| equal to| not equal to\n",
    ":-:|:-:|:-:|:-:|:-:|:-:|:-:\n",
    "`<` | `>` | `<=` | `>=` | `==` | `!=`\n",
    "\n",
    "As with several other programming languages, comparison for equality uses two equal signs (i.e., `==`) because the single equal sign (i.e., `=`) is used as an assignment operator (i.e., assigning values to identifiers). The result of one of the comparisons above between two numbers is a boolean value; if an illegal type is used, an exception is raised."
   ]
  },
  {
   "cell_type": "code",
   "execution_count": null,
   "metadata": {
    "collapsed": false
   },
   "outputs": [],
   "source": [
    "print(1 > 2)\n",
    "print(3.4 <= 9.5)\n",
    "print(2 == (5-3))"
   ]
  },
  {
   "cell_type": "markdown",
   "metadata": {},
   "source": [
    "Comparison operators may also be *chained together* to compare more than two values.  Read these chained comparisons in the natural way, left-to-right."
   ]
  },
  {
   "cell_type": "code",
   "execution_count": null,
   "metadata": {
    "collapsed": false
   },
   "outputs": [],
   "source": [
    "print(1 < 2 < 3 <= 4 < 5)\n",
    "print(1 < 2 != 3 >= 0)\n",
    "print(1 <= 1 < 1)\n",
    "print(1+1 == 2 == 3-1)"
   ]
  },
  {
   "cell_type": "markdown",
   "metadata": {},
   "source": [
    "Values can be combined logically using ``or``, ``and``, or ``not``.\n",
    "\n",
    "disjunction | conjunction | negation \n",
    ":-:|:-:|:-:\n",
    "`or` | `and` | `not` "
   ]
  },
  {
   "cell_type": "code",
   "execution_count": null,
   "metadata": {
    "collapsed": false
   },
   "outputs": [],
   "source": [
    "print('True or False is', True or False)\n",
    "print('True and False is', True and False)\n",
    "print('True or True is', True or True)\n",
    "print('not True is', not True)"
   ]
  },
  {
   "cell_type": "markdown",
   "metadata": {},
   "source": [
    "Logical operators perform what is called \"shortcutting.\"  That is, they return the earliest expression whose *truthiness* is the same as the entire expression.  This has two implications to keep in mind:\n",
    "\n",
    "* The value produced by a logical expression is not necessarily a boolean value\n",
    "* A boolean expression may not fully evaluate (and side-effects might not occur)"
   ]
  },
  {
   "cell_type": "code",
   "execution_count": null,
   "metadata": {
    "collapsed": false
   },
   "outputs": [],
   "source": [
    "# The last expression (a function call) is never executed below\n",
    "False or \"Hello world\" or math.exp(1e9)"
   ]
  },
  {
   "cell_type": "code",
   "execution_count": null,
   "metadata": {
    "collapsed": false,
    "raises": [
     "NameError",
     "OverflowError"
    ]
   },
   "outputs": [],
   "source": [
    "# If we had tried to execute this, we would have gotten an exception\n",
    "math.exp(1e9)"
   ]
  },
  {
   "cell_type": "markdown",
   "metadata": {},
   "source": [
    "### is and in"
   ]
  },
  {
   "cell_type": "markdown",
   "metadata": {},
   "source": [
    "Finally, there are an additional two boolean-valued operators in Python: `is` and `in`.\n",
    "\n",
    "| membership | identity |\n",
    "|:-:|:-:\n",
    "| `in` | `is`\n",
    "\n",
    "The `in` operator can be used with strings, and data collections (e.g., sets, lists, tuples, etc.) that will learn later, to verify set membership, i.e., whether a particular value is a member of the collection. The `is` operator is used to assert whether two objects are in fact the same object. This is particularly useful in verifying whether two identifiers that refer to the same values actually refer to the same location in memory as well. "
   ]
  },
  {
   "cell_type": "code",
   "execution_count": null,
   "metadata": {
    "collapsed": false
   },
   "outputs": [],
   "source": [
    "# A collection letters\n",
    "letters = 'The rain in Spain falls mainly in the plain.'\n",
    "'a' in letters"
   ]
  },
  {
   "cell_type": "markdown",
   "metadata": {},
   "source": [
    "It is important to understand that the `is` operator is not the same as the `==` operator. One way to understand this is by using the `id()` function to display the identifier associated with each object.  The `id()` function is approximately an answer to \"what is the address in memory where this object lives?\""
   ]
  },
  {
   "cell_type": "code",
   "execution_count": null,
   "metadata": {
    "collapsed": false
   },
   "outputs": [],
   "source": [
    "a = 2\n",
    "b = 5-3\n",
    "print('a==b: ',a==b)\n",
    "print('a is b', a is b)"
   ]
  },
  {
   "cell_type": "code",
   "execution_count": null,
   "metadata": {
    "collapsed": false
   },
   "outputs": [],
   "source": [
    "v1 = \"abc\"\n",
    "v2 = \"abc\"\n",
    "# This answer is not guaranteed, but an implementation detail\n",
    "v1 is v2"
   ]
  },
  {
   "cell_type": "code",
   "execution_count": null,
   "metadata": {
    "collapsed": false
   },
   "outputs": [],
   "source": [
    "abc = \"\".join([\"a\",\"b\",\"c\"])\n",
    "print(abc)"
   ]
  },
  {
   "cell_type": "code",
   "execution_count": null,
   "metadata": {
    "collapsed": false
   },
   "outputs": [],
   "source": [
    "\"abc\" is abc"
   ]
  },
  {
   "cell_type": "code",
   "execution_count": null,
   "metadata": {
    "collapsed": false
   },
   "outputs": [],
   "source": [
    "\"abc\" == abc"
   ]
  },
  {
   "cell_type": "code",
   "execution_count": null,
   "metadata": {
    "collapsed": false
   },
   "outputs": [],
   "source": [
    "id(\"abc\")"
   ]
  },
  {
   "cell_type": "code",
   "execution_count": null,
   "metadata": {
    "collapsed": false
   },
   "outputs": [],
   "source": [
    "id(abc)"
   ]
  },
  {
   "cell_type": "code",
   "execution_count": null,
   "metadata": {
    "collapsed": false
   },
   "outputs": [],
   "source": [
    "id(v1), id(v2)"
   ]
  },
  {
   "cell_type": "markdown",
   "metadata": {},
   "source": [
    "These last few cells illustrate an implementation detail of Python: short strings and small integers are \"interned\" or cached in memory.  Rather than allocate a new region of memory, some values created separately might simply point to the same Python object.  At the same time, we can sometimes \"fool\" Python into not recognizing that it can re-use an interned value.\n",
    "\n",
    "Also note that values of different types might be *equal*, but they are never *identical*."
   ]
  },
  {
   "cell_type": "code",
   "execution_count": null,
   "metadata": {
    "collapsed": false
   },
   "outputs": [],
   "source": [
    "1 == 1.0"
   ]
  },
  {
   "cell_type": "code",
   "execution_count": null,
   "metadata": {
    "collapsed": false
   },
   "outputs": [],
   "source": [
    "1 is 1.0"
   ]
  },
  {
   "cell_type": "code",
   "execution_count": null,
   "metadata": {
    "collapsed": false
   },
   "outputs": [],
   "source": [
    "x = 1\n",
    "y = 1.0\n",
    "x == y, x is y"
   ]
  },
  {
   "cell_type": "code",
   "execution_count": null,
   "metadata": {
    "collapsed": false
   },
   "outputs": [],
   "source": [
    "int(1e9) is 1000000000, int(1e9) == 1000000000"
   ]
  },
  {
   "cell_type": "code",
   "execution_count": null,
   "metadata": {
    "collapsed": false
   },
   "outputs": [],
   "source": [
    "int(1e1) is 10"
   ]
  },
  {
   "cell_type": "markdown",
   "metadata": {},
   "source": [
    "## Tuple Expansion"
   ]
  },
  {
   "cell_type": "markdown",
   "metadata": {},
   "source": [
    "A `tuple` is the simplest form of a container in Python. It can be used to pack and unpack multiple objects. Tuples are comma separated objects inclosed in `()`."
   ]
  },
  {
   "cell_type": "code",
   "execution_count": null,
   "metadata": {
    "collapsed": true
   },
   "outputs": [],
   "source": [
    "the_tuple = (1,2,3)\n",
    "print(the_tuple)"
   ]
  },
  {
   "cell_type": "markdown",
   "metadata": {},
   "source": [
    "A tuple can be used to *pack* and *unpack* assignments. This is called *tuple expansion*."
   ]
  },
  {
   "cell_type": "code",
   "execution_count": null,
   "metadata": {
    "collapsed": true
   },
   "outputs": [],
   "source": [
    "a='string'\n",
    "b=2.0\n",
    "c=42"
   ]
  },
  {
   "cell_type": "code",
   "execution_count": null,
   "metadata": {
    "collapsed": true
   },
   "outputs": [],
   "source": [
    "# pack the objects\n",
    "a_tuple = (a,b,c)"
   ]
  },
  {
   "cell_type": "code",
   "execution_count": null,
   "metadata": {
    "collapsed": true
   },
   "outputs": [],
   "source": [
    "# unpack the objects to new names\n",
    "x,y,z = a_tuple\n",
    "print(x)\n",
    "print(y)\n",
    "print(z)"
   ]
  },
  {
   "cell_type": "markdown",
   "metadata": {},
   "source": [
    "One of the most convenient uses is to switch values. Notice that the parentheses were not required."
   ]
  },
  {
   "cell_type": "code",
   "execution_count": null,
   "metadata": {
    "collapsed": true
   },
   "outputs": [],
   "source": [
    "print(a)\n",
    "print(b)"
   ]
  },
  {
   "cell_type": "code",
   "execution_count": null,
   "metadata": {
    "collapsed": true
   },
   "outputs": [],
   "source": [
    "a,b = b,a"
   ]
  },
  {
   "cell_type": "code",
   "execution_count": null,
   "metadata": {
    "collapsed": true
   },
   "outputs": [],
   "source": [
    "print(a)\n",
    "print(b)"
   ]
  }
 ],
 "metadata": {
  "celltoolbar": "Edit Metadata",
  "continuum": {
   "depends": [
    "ip_essentials"
   ],
   "requires": [],
   "tag": "ip_datatypes"
  },
  "kernelspec": {
   "display_name": "Python 2",
   "language": "python",
   "name": "python2"
  },
  "language_info": {
   "codemirror_mode": {
    "name": "ipython",
    "version": 2
   },
   "file_extension": ".py",
   "mimetype": "text/x-python",
   "name": "python",
   "nbconvert_exporter": "python",
   "pygments_lexer": "ipython2",
   "version": "2.7.11"
  }
 },
 "nbformat": 4,
 "nbformat_minor": 0
}
