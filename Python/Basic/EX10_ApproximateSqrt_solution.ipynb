{
 "cells": [
  {
   "cell_type": "markdown",
   "metadata": {},
   "source": [
    "# Table of Contents\n",
    "* [Approximate the square root](#Approximate-the-square-root)\n",
    "\t* [Execute this cell repeatedly and see how the printed result changes](#Execute-this-cell-repeatedly-and-see-how-the-printed-result-changes)\n",
    "\t* [Initialization to prepare variables before the iteration](#Initialization-to-prepare-variables-before-the-iteration)\n",
    "\t* [Actual while loop](#Actual-while-loop)\n"
   ]
  },
  {
   "cell_type": "markdown",
   "metadata": {},
   "source": [
    "# Approximate the square root"
   ]
  },
  {
   "cell_type": "markdown",
   "metadata": {},
   "source": [
    "A common use of a `while` loop to reach a known condition when it is not know beforehand how many passes through the loop are required. As an example, consider [square-root iteration](https://en.wikipedia.org/wiki/Methods_of_computing_square_roots) (the essential algorithm calculators use to compute square roots). The basic idea is to apply the formula\n",
    "\n",
    "$$\\mathtt{approx\\_sqrt} \\leftarrow \\frac{1}{2}\\left( \\mathtt{approx\\_sqrt} + \\frac{\\mathtt{value}}{\\mathtt{approx\\_sqrt}}\\right)$$\n",
    "\n",
    "repeatedly to overwrite the value of $\\mathtt{approx\\_sqrt}$ (starting from some initial positive guess).  Amazingly, as this process repeats, the number in $\\mathtt{approx\\_sqrt}$ approaches $\\sqrt{\\mathtt{value}}$.\n",
    "\n",
    "This algorithm is sometimes called [Newton's Method](https://en.wikipedia.org/wiki/Newton%27s_method) after a the 17th century physicist and mathemetician Isaac Newton, although this specific instance of it is also called the Babylonian Method, indicating that 1st century C.E. mathematician [Hero of Alexandria](https://en.wikipedia.org/wiki/Hero_of_Alexandria) acknowledged its earlier origin than in his own work."
   ]
  },
  {
   "cell_type": "code",
   "execution_count": null,
   "metadata": {
    "collapsed": true
   },
   "outputs": [],
   "source": [
    "value = 2.0         # The value we want to compute the square root of\n",
    "approx_sqrt = 0.5   # Our initial guess for sqrt(value)\n",
    "print('initial guess:', approx_sqrt)"
   ]
  },
  {
   "cell_type": "markdown",
   "metadata": {},
   "source": [
    "## Execute this cell repeatedly and see how the printed result changes"
   ]
  },
  {
   "cell_type": "code",
   "execution_count": null,
   "metadata": {
    "collapsed": true
   },
   "outputs": [],
   "source": [
    "approx_sqrt = 0.5*(approx_sqrt + value/approx_sqrt)\n",
    "print('current guess:', approx_sqrt)"
   ]
  },
  {
   "cell_type": "markdown",
   "metadata": {},
   "source": [
    "Rather than repeating the same assignment statement in a program by typing it in repeatedly, we can use a `while` loop\n",
    "in the code cells below. The successive values of `approx_sqrt` are overwritten inside the `while` loop and the loop terminates when the answer is \"good enough.\""
   ]
  },
  {
   "cell_type": "markdown",
   "metadata": {},
   "source": [
    "## Initialization to prepare variables before the iteration"
   ]
  },
  {
   "cell_type": "code",
   "execution_count": null,
   "metadata": {
    "collapsed": true
   },
   "outputs": [],
   "source": [
    "value = 2.0         # The value we want to compute the square root of\n",
    "approx_sqrt = 0.5   # Our initial guess for sqrt(value)\n",
    "print('initial guess:', approx_sqrt)\n",
    "old_approx = approx_sqrt # Needed to quantify improvement\n",
    "tolerance = 1.0e-12 # A small value to quantify how good is \"good enough\"\n",
    "converged = False"
   ]
  },
  {
   "cell_type": "markdown",
   "metadata": {},
   "source": [
    "## Actual while loop "
   ]
  },
  {
   "cell_type": "code",
   "execution_count": null,
   "metadata": {
    "collapsed": true
   },
   "outputs": [],
   "source": [
    "while not converged:\n",
    "    approx_sqrt = 0.5 * (approx_sqrt + value/approx_sqrt)\n",
    "    converged = abs(approx_sqrt-old_approx) < tolerance\n",
    "    print('current guess:', approx_sqrt)\n",
    "    old_approx = approx_sqrt\n",
    "print('Iteration converged! The square root of %s is %s' % (value,approx_sqrt))\n",
    "print('Check: approx_sqrt**2 is value:', approx_sqrt, approx_sqrt**2)"
   ]
  },
  {
   "cell_type": "markdown",
   "metadata": {},
   "source": [
    "* The *explainer* variable `converged` helps make the code readable.\n",
    "* The loop continues to execute `while not converged:`, i.e., while the variable `converged` evaluates to `False`.  Notice we can get caught in an infinite loop if the variable `converged` is never `True`.  It's altogether too easy to make a mistake about what a computation inside a loop *actually* does, and encounter this.\n",
    "* We need to store `old_approx` so that we can compare its value to `approx_sqrt` after updating the value.\n",
    "* The test for convergence uses `abs(approx_sqrt-old_approx)<tolerance` rather than `approx_sqrt == old_approx` or `approx_sqrt**2==value`. This is because those text may never be true in floating-point arithmetic. This is a difficult subtlety to appreciate, but it is always better to use `abs(a-b)<tolerance` (with a suitably small value for `tolerance`) than `a==b` to compare floating-point values."
   ]
  },
  {
   "cell_type": "code",
   "execution_count": null,
   "metadata": {
    "collapsed": true
   },
   "outputs": [],
   "source": []
  }
 ],
 "metadata": {
  "continuum": {
   "depends": [
    "ip_ex_sqrt",
    "ip_essentials",
    "ip_datatypes",
    "ip_flowcontrol",
    "ip_functions"
   ],
   "requires": [],
   "tag": "ip_ex_sqrt_soln"
  },
  "kernelspec": {
   "display_name": "Python 3",
   "language": "python",
   "name": "python3"
  },
  "language_info": {
   "codemirror_mode": {
    "name": "ipython",
    "version": 3
   },
   "file_extension": ".py",
   "mimetype": "text/x-python",
   "name": "python",
   "nbconvert_exporter": "python",
   "pygments_lexer": "ipython3",
   "version": "3.4.3"
  }
 },
 "nbformat": 4,
 "nbformat_minor": 0
}
