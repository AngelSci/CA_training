{
 "cells": [
  {
   "cell_type": "markdown",
   "metadata": {},
   "source": [
    "# Table of Contents\n",
    "* [Exercise (report formatting)](#Exercise-%28report-formatting%29)\n",
    "* [Proposed solutions](#Proposed-solutions)\n",
    "\t* [Good coding practice](#Good-coding-practice)\n"
   ]
  },
  {
   "cell_type": "markdown",
   "metadata": {},
   "source": [
    "# Exercise (report formatting)"
   ]
  },
  {
   "cell_type": "markdown",
   "metadata": {},
   "source": [
    "The code below displays quarterly budgets for several departments, for a two-year range. The code itself is not written particularly well, and the report created is not very attractive. The joke in the names, of course, refers to a Monty Python skit, the inspiration for the name of the Python programming language.\n",
    "\n",
    "In the time you have, change the code using techniques we have seen already—or others you might guess at or know—to produce a more attractive and readable report on these hypothetical quarterly budgets. There is no one right answer, and feel free to ask questions as you work on this. Let's see what each student comes up with."
   ]
  },
  {
   "cell_type": "code",
   "execution_count": null,
   "metadata": {
    "collapsed": false
   },
   "outputs": [],
   "source": [
    "# Some not very good code that produces a crude report\n",
    "from random import randint\n",
    "import random\n",
    "random.seed(1)\n",
    "# Department names\n",
    "departments = [\"Defense\", \"Arts & Culture\", \"Silly Walks\"]\n",
    "# Quarter names\n",
    "quarter_names = \"Q1/2015, Q2/2015, Q3/2015, Q4/2015\"\n",
    "# Let's hold some numeric data for Q1 2015 through Q2 2015\n",
    "quarter_data = []\n",
    "for i in range(3):\n",
    "    dept_budget = []\n",
    "    for j in range(4):\n",
    "        budget = randint(100, 1e10)/100\n",
    "        dept_budget.append(budget)\n",
    "    quarter_data.append(dept_budget)\n",
    "print(departments)\n",
    "print(quarter_names)\n",
    "for quarters in quarter_data:\n",
    "    print(quarters)"
   ]
  },
  {
   "cell_type": "markdown",
   "metadata": {},
   "source": [
    "# Proposed solutions"
   ]
  },
  {
   "cell_type": "code",
   "execution_count": null,
   "metadata": {
    "collapsed": false
   },
   "outputs": [],
   "source": [
    "# A student solution from a prior course\n",
    "from random import randint\n",
    "# Department names\n",
    "departments = [\"Defense\", \"Arts & Culture\", \"Silly Walks\"]\n",
    "# Quarter names\n",
    "quarter_names = \"Q1/2015, Q2/2015, Q3/2015, Q4/2015\"\n",
    "# Let's hold some numeric data for Q1 2014 through Q2 2015\n",
    "quarter_data = []\n",
    "for i in range(3):\n",
    "    dept_budget = []\n",
    "    for j in range(4):\n",
    "        budget = randint(100, 1e10)/100\n",
    "        dept_budget.append(budget)\n",
    "    quarter_data.append(dept_budget)\n",
    "\n",
    "qnames = quarter_names.split(', ')\n",
    "print(\"{:12s} {:>12s} {:>12s} {:>12s} {:>12s}\".format(\"\", *qnames))\n",
    "row = \"{:15s} {:12.2f} {:12.2f} {:12.2f} {:12.2f}\"\n",
    "for i, quarters in enumerate(quarter_data):\n",
    "    print(row.format(departments[i], *quarters))"
   ]
  },
  {
   "cell_type": "markdown",
   "metadata": {},
   "source": [
    "## Good coding practice"
   ]
  },
  {
   "cell_type": "markdown",
   "metadata": {},
   "source": [
    "If we can, we should avoid fragility in our code.  As posed, the numbers of rows and columns of data is hard coded.  But maybe in the future our data will have more or fewer quarters, or more or fewer departments.  This is a case where we should think of Pythonic practice of looping over the *collection itself* rather than indices into it.\n",
    "\n",
    "For reusability, we might want to structure our code to allow saving the report rather than merely displaying it.  Fortunately, we can `print` to files just as easily as to screen.\n",
    "\n",
    "For readability and leaving room for future improvements, it is often useful to decompose a problem into easily comprehensible elements.  In the code below, for example, we separate creation of a nicely encapsulated data structure from converting it to a textual report.  We also separate the way we deal with header from the data rows, so either could be modified more easily independently."
   ]
  },
  {
   "cell_type": "code",
   "execution_count": null,
   "metadata": {
    "collapsed": true
   },
   "outputs": [],
   "source": [
    "# A solution I might propose\n",
    "from random import randint\n",
    "departments = [\"Defense\", \"Arts & Culture\", \"Silly Walks\"]\n",
    "quarter_names = \"Q1/2015, Q2/2015, Q3/2015, Q4/2015\"\n",
    "\n",
    "# Make better data structure out of quarter_names\n",
    "quarter_names = quarter_names.split(', ')\n",
    "table = [[\"\"] + quarter_names]\n",
    "\n",
    "# Tables looks\n",
    "# [\n",
    "#    [Blank, Header1, Header2, Header3],\n",
    "#    [Label1, Value11, Value21, Value31],\n",
    "#    [Label2, Value12, Value22, Value32]\n",
    "# ]\n",
    "\n",
    "# Populate just the labels for the rows\n",
    "for department in departments:\n",
    "    table.append([department])\n",
    "\n",
    "# Now populate the data values in row and column\n",
    "for row in table[1:]:\n",
    "    for _ in quarter_names:     # convention: '_' is ignored value\n",
    "        budget = randint(100, 1e10)/100\n",
    "        row.append(budget)\n",
    "\n",
    "output = open(\"report.txt\", 'w')        \n",
    "\n",
    "# This is the printing/formatting step\n",
    "for quarter in table[0]:\n",
    "    print(\"%14s\" % quarter, end=\"\", file=output)\n",
    "print(file=output)\n",
    "for row in table[1:]:\n",
    "    print(row[0].rjust(14), end=\"\", file=output)\n",
    "    for cell in row[1:]:\n",
    "        print('   ${:>10,.0f}'.format(cell), end=\"\", file=output)\n",
    "    print(file=output)\n",
    "\n",
    "output.close()"
   ]
  },
  {
   "cell_type": "code",
   "execution_count": null,
   "metadata": {
    "collapsed": true
   },
   "outputs": [],
   "source": [
    "txt = open('report.txt').read()\n",
    "print(txt)"
   ]
  }
 ],
 "metadata": {
  "continuum": {
   "depends": [
    "ip_ex_reports",
    "ip_essentials",
    "ip_datatypes",
    "ip_flowcontrol"
   ],
   "tag": "ip_ex_reports_soln"
  },
  "kernelspec": {
   "display_name": "Python 3",
   "language": "python",
   "name": "python3"
  },
  "language_info": {
   "codemirror_mode": {
    "name": "ipython",
    "version": 3
   },
   "file_extension": ".py",
   "mimetype": "text/x-python",
   "name": "python",
   "nbconvert_exporter": "python",
   "pygments_lexer": "ipython3",
   "version": "3.5.1"
  }
 },
 "nbformat": 4,
 "nbformat_minor": 0
}
