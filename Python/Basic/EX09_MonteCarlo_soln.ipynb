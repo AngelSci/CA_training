{
 "cells": [
  {
   "cell_type": "markdown",
   "metadata": {},
   "source": [
    "# Table of Contents\n",
    "* [Exercise (Monte Carlo approximation)](#Exercise-%28Monte-Carlo-approximation%29)\n",
    "* [Thinking through the problem](#Thinking-through-the-problem)\n",
    "* [Simple Python](#Simple-Python)\n",
    "\t* [Convergence](#Convergence)\n",
    "* [Using NumPy](#Using-NumPy)\n",
    "* [Using Numba](#Using-Numba)\n",
    "* [Comparing peformance](#Comparing-peformance)\n"
   ]
  },
  {
   "cell_type": "markdown",
   "metadata": {},
   "source": [
    "# Exercise (Monte Carlo approximation)"
   ]
  },
  {
   "cell_type": "markdown",
   "metadata": {},
   "source": [
    "We can use the Python `random` module to perform Monte Carlo simulations.  As a fairly simple application, write a function that returns $\\pi$ after approximating it in the manner of the below illustration.\n",
    "\n",
    "As a bonus, you can choose to examine when convergence of the value occurs after guessing larger numbers of points (perhaps make the function parameterized by such rough convergence and/or by number of guessed points).\n",
    "\n",
    "<img src=\"img/Pi_30K.gif\"/>\n",
    "\n",
    "<small>Monte Carlo method applied to approximating the value of π. After placing 30000 random points, the estimate for π is within 0.07% of the actual value. This happens with an approximate probability of 20%.</small>"
   ]
  },
  {
   "cell_type": "markdown",
   "metadata": {
    "collapsed": true
   },
   "source": [
    "# Thinking through the problem"
   ]
  },
  {
   "cell_type": "markdown",
   "metadata": {},
   "source": [
    "Let's think about what the problem requires.  We know from high school geometry that a circle has area $\\pi r^2$, and a square has area $a^2$.  For the unit circle, $r$ is 1 and $a$ is 2.  So the circle should enclose $\\pi/4$ of the points placed within the unit square.  With that basic math in mind, we can write a solution."
   ]
  },
  {
   "cell_type": "markdown",
   "metadata": {},
   "source": [
    "# Simple Python"
   ]
  },
  {
   "cell_type": "code",
   "execution_count": 1,
   "metadata": {
    "collapsed": true
   },
   "outputs": [],
   "source": [
    "from random import random\n",
    "def estimate_pi(N):\n",
    "    N = int(N)  # Allow passing in floats like 1e6\n",
    "    inside = 0\n",
    "    for _ in range(N):\n",
    "        x, y = random(), random()\n",
    "        # Since we use the unit circle, we can avoid the sqrt()\n",
    "        if x**2 + y**2 < 1:\n",
    "            inside +=1\n",
    "    # We have looked at one quadrant, so multiply by 4\n",
    "    return 4*inside/N"
   ]
  },
  {
   "cell_type": "code",
   "execution_count": 3,
   "metadata": {
    "collapsed": false
   },
   "outputs": [
    {
     "data": {
      "text/plain": [
       "3.14151628"
      ]
     },
     "execution_count": 3,
     "metadata": {},
     "output_type": "execute_result"
    }
   ],
   "source": [
    "estimate_pi(1e8)"
   ]
  },
  {
   "cell_type": "markdown",
   "metadata": {},
   "source": [
    "## Convergence"
   ]
  },
  {
   "cell_type": "markdown",
   "metadata": {},
   "source": [
    "Given this function, we can pass in various number of sampled points, and for each determine how close the estimate is to `math.pi`.  Of course, since there is randomness involved, the calculated answer will also vary on each call."
   ]
  },
  {
   "cell_type": "code",
   "execution_count": 4,
   "metadata": {
    "collapsed": true
   },
   "outputs": [],
   "source": [
    "import math\n",
    "def check_mean_error(N, trials=50):\n",
    "    answers = []\n",
    "    for _ in range(trials):\n",
    "        est = estimate_pi(N)\n",
    "        answers.append(est)\n",
    "    mean_err = abs(sum(a-math.pi for a in answers))/N\n",
    "    return mean_err"
   ]
  },
  {
   "cell_type": "code",
   "execution_count": 6,
   "metadata": {
    "collapsed": false
   },
   "outputs": [
    {
     "data": {
      "text/plain": [
       "0.0002523673205103507"
      ]
     },
     "execution_count": 6,
     "metadata": {},
     "output_type": "execute_result"
    }
   ],
   "source": [
    "check_mean_error(1000)"
   ]
  },
  {
   "cell_type": "markdown",
   "metadata": {},
   "source": [
    "# Using NumPy"
   ]
  },
  {
   "cell_type": "markdown",
   "metadata": {},
   "source": [
    "You may not yet worked with NumPy at this point in the course.  For numeric computation like this, operations using homogeneous arrays of numbers is orders of magnitude faster.  A NumPy solution might look like this:"
   ]
  },
  {
   "cell_type": "code",
   "execution_count": 8,
   "metadata": {
    "collapsed": false
   },
   "outputs": [
    {
     "data": {
      "text/plain": [
       "0.81"
      ]
     },
     "execution_count": 8,
     "metadata": {},
     "output_type": "execute_result"
    }
   ],
   "source": [
    "import numpy as np\n",
    "xs = np.random.random(100)\n",
    "ys = np.random.random(100)\n",
    "inside = np.ones(100)[xs**2 + ys**2 < 1]\n",
    "inside.size/100"
   ]
  },
  {
   "cell_type": "code",
   "execution_count": 17,
   "metadata": {
    "collapsed": true
   },
   "outputs": [],
   "source": [
    "def estimate_pi_np(N):\n",
    "    N = int(N)\n",
    "    xs = np.random.random(N)\n",
    "    ys = np.random.random(N)\n",
    "    #np.ones() makes a linear array of N length that is filled with 1s.\n",
    "    #[xs*xs+ys*ys < 1] calls only the items of the array where this statement is true\n",
    "    inside = np.ones(N)[xs**2 + ys**2 < 1]\n",
    "    return 4*inside.size/N    "
   ]
  },
  {
   "cell_type": "code",
   "execution_count": 10,
   "metadata": {
    "collapsed": false
   },
   "outputs": [
    {
     "data": {
      "text/plain": [
       "3.14243"
      ]
     },
     "execution_count": 10,
     "metadata": {},
     "output_type": "execute_result"
    }
   ],
   "source": [
    "estimate_pi_np(1e7)"
   ]
  },
  {
   "cell_type": "markdown",
   "metadata": {},
   "source": [
    "# Using Numba"
   ]
  },
  {
   "cell_type": "markdown",
   "metadata": {},
   "source": [
    "Numba is a Free Software optimizer, built on top of LLVM that can significantly speedup Python code that does numeric computation.  It works as a single decorator on a regular Python function, and can often produce C-like speeds."
   ]
  },
  {
   "cell_type": "code",
   "execution_count": 12,
   "metadata": {
    "collapsed": false
   },
   "outputs": [],
   "source": [
    "from numba import jit\n",
    "\n",
    "@jit\n",
    "def estimate_pi_numba(N):\n",
    "    N = int(N)  # Allow passing in floats like 1e6\n",
    "    inside = 0\n",
    "    for _ in range(N):\n",
    "        x, y = random(), random()\n",
    "        # Since we use the unit circle, we can avoid the sqrt()\n",
    "        if x**2 + y**2 < 1:\n",
    "            inside +=1\n",
    "    # We have looked at one quadrant, so multiply by 4\n",
    "    return 4*inside/N"
   ]
  },
  {
   "cell_type": "code",
   "execution_count": 13,
   "metadata": {
    "collapsed": false
   },
   "outputs": [
    {
     "data": {
      "text/plain": [
       "3.14174136"
      ]
     },
     "execution_count": 13,
     "metadata": {},
     "output_type": "execute_result"
    }
   ],
   "source": [
    "estimate_pi_numba(1e8)"
   ]
  },
  {
   "cell_type": "markdown",
   "metadata": {},
   "source": [
    "# Comparing peformance"
   ]
  },
  {
   "cell_type": "code",
   "execution_count": 14,
   "metadata": {
    "collapsed": false
   },
   "outputs": [
    {
     "name": "stdout",
     "output_type": "stream",
     "text": [
      "1 loop, best of 3: 15.1 s per loop\n"
     ]
    }
   ],
   "source": [
    "%timeit estimate_pi(1e7)"
   ]
  },
  {
   "cell_type": "code",
   "execution_count": 15,
   "metadata": {
    "collapsed": false
   },
   "outputs": [
    {
     "name": "stdout",
     "output_type": "stream",
     "text": [
      "1 loop, best of 3: 1.07 s per loop\n"
     ]
    }
   ],
   "source": [
    "%timeit estimate_pi_np(1e7)"
   ]
  },
  {
   "cell_type": "code",
   "execution_count": 16,
   "metadata": {
    "collapsed": false
   },
   "outputs": [
    {
     "name": "stdout",
     "output_type": "stream",
     "text": [
      "1 loop, best of 3: 553 ms per loop\n"
     ]
    }
   ],
   "source": [
    "%timeit estimate_pi_numba(1e7)"
   ]
  },
  {
   "cell_type": "code",
   "execution_count": null,
   "metadata": {
    "collapsed": true
   },
   "outputs": [],
   "source": []
  }
 ],
 "metadata": {
  "continuum": {
   "depends": [
    "ip_ex_montecarlo",
    "ip_functions",
    "ip_essentials",
    "ip_flowcontrol",
    "ip_datatypes"
   ],
   "requires": [
    "img/Pi_30K.gif"
   ],
   "tag": "ip_ex_montecarlo_soln"
  },
  "kernelspec": {
   "display_name": "Python [coursework_py35]",
   "language": "python",
   "name": "Python [coursework_py35]"
  },
  "language_info": {
   "codemirror_mode": {
    "name": "ipython",
    "version": 3
   },
   "file_extension": ".py",
   "mimetype": "text/x-python",
   "name": "python",
   "nbconvert_exporter": "python",
   "pygments_lexer": "ipython3",
   "version": "3.5.2"
  }
 },
 "nbformat": 4,
 "nbformat_minor": 0
}
