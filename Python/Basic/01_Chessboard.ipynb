{
 "cells": [
  {
   "cell_type": "markdown",
   "metadata": {},
   "source": [
    "# Table of Contents\n",
    "* [First Example: Wheat and Chessboard](#First-Example:-Wheat-and-Chessboard)\n"
   ]
  },
  {
   "cell_type": "markdown",
   "metadata": {},
   "source": [
    "# First Example: Wheat and Chessboard"
   ]
  },
  {
   "cell_type": "markdown",
   "metadata": {},
   "source": [
    "http://en.wikipedia.org/wiki/Wheat_and_chessboard_problem\n",
    "\n",
    "To get a handle on the Python language, we'll build up a sense of the language by answering an ancient question.\n",
    "\n",
    "*Stories about the invention of chess include a geometric progression problem. The earliest written record of the story is in the Shahnameh, an epic written by the Persian poet Ferdowsi between c. 977 and 1010 CE. In another version, the inventor of chess is Sessa, an ancient Indian Brahmin.*\n",
    "\n",
    "*In the wheat and chessboard problem, the inventor of chess asks his ruler to give him one grain of wheat for the first square on the chessboard on the first day, two grains for the second square on the second day, four grains for the third square on the third day, and so on, always doubling the grains for each square. The ruler laughs at the request, thinking it's a meager prize for a brilliant invention. The court treasurers calculate that an unexpectedly huge number of wheat grains will outstrip the ruler's resources. Stories differ as to whether the inventor became a high-ranking advisor—or was executed for impertinence*\n",
    "\n",
    "Just how audacious was the inventor's request? Let's find out. Then we can discuss whether the smart ass inventor/mathematician deserved a place of honor or execution."
   ]
  },
  {
   "cell_type": "code",
   "execution_count": null,
   "metadata": {
    "collapsed": false
   },
   "outputs": [],
   "source": [
    "nums = list(range(5, 15)) # Experiment with the \"range\" function\n",
    "nums"
   ]
  },
  {
   "cell_type": "code",
   "execution_count": null,
   "metadata": {
    "collapsed": false
   },
   "outputs": [],
   "source": [
    "# Let's set up some constants\n",
    "grains_per_bushel = 950000\n",
    "bushels_per_ton = 36.7437\n",
    "tons_per_annum = 5.8e7   # Produced in the USA\n",
    "US_production = grains_per_bushel * bushels_per_ton * tons_per_annum\n",
    "print('The annual production of grains in the U.S. is', US_production)"
   ]
  },
  {
   "cell_type": "code",
   "execution_count": null,
   "metadata": {
    "collapsed": false
   },
   "outputs": [],
   "source": [
    "# A Loop with conditionals to solve the problem at hand\n",
    "grains_given = 0\n",
    "current_gift = 1\n",
    "for day in range(1, 65): # 64 squares on a chessboard, let's count from 1\n",
    "    grains_given = grains_given + current_gift\n",
    "    current_gift = 2 * current_gift\n",
    "    # The following if-block tells us when the amount required has\n",
    "    # exceeded the annual production of wheat in the U.S.\n",
    "    if grains_given < US_production:\n",
    "        message = \"No problem\"\n",
    "    else:\n",
    "        message = \"This feels spendy!\"\n",
    "    # This next if-block prints out the number of grains required on day\n",
    "    if grains_given < 1e6:\n",
    "        amount = str(grains_given)\n",
    "    else:\n",
    "        amount = \"%.0e\" % grains_given \n",
    "    print(\"Day:\", str(day).rjust(2), \n",
    "          \"| Amount of gift:\", amount, \"grains\", \n",
    "          \"|\", message)"
   ]
  },
  {
   "cell_type": "markdown",
   "metadata": {
    "solutions": {
     "ex1": [
      "print('The king balks on day %d' % ceil(log2(US_production)))"
     ]
    }
   },
   "source": [
    "Let's answer a straightforward question: on what day does the king balk? Or, more precisely, on what day does the gift requested exceed the annual production of grains in the U.S?"
   ]
  },
  {
   "cell_type": "code",
   "execution_count": null,
   "metadata": {
    "collapsed": true,
    "solutions": {
     "ex1": [
      "print('The king balks on day %d' % ceil(log2(US_production)))"
     ]
    }
   },
   "outputs": [],
   "source": [
    "# We might want to use some of these math functions\n",
    "from math import sqrt, factorial, log, ceil, floor, log10\n",
    "try:\n",
    "    from math import log2\n",
    "except ImportError: \n",
    "    # in this case you are on Python 2.7 without log2\n",
    "    log2 = None\n",
    "\n",
    "# Your code...\n"
   ]
  },
  {
   "cell_type": "markdown",
   "metadata": {},
   "source": [
    "The preceding example use many features of the Python programming language all at once. We shall go over a number of the principle constructs we used in greater detail later in this module.\n",
    "\n",
    "---"
   ]
  }
 ],
 "metadata": {
  "continuum": {
   "depends": [
    "ip_conda"
   ],
   "requires": [],
   "tag": "ip_1st_chess"
  },
  "kernelspec": {
   "display_name": "Python 2",
   "language": "python",
   "name": "python2"
  },
  "language_info": {
   "codemirror_mode": {
    "name": "ipython",
    "version": 2
   },
   "file_extension": ".py",
   "mimetype": "text/x-python",
   "name": "python",
   "nbconvert_exporter": "python",
   "pygments_lexer": "ipython2",
   "version": "2.7.11"
  }
 },
 "nbformat": 4,
 "nbformat_minor": 0
}
