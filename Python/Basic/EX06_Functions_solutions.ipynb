{
 "cells": [
  {
   "cell_type": "markdown",
   "metadata": {},
   "source": [
    "# Table of Contents\n",
    "* [Function exercise](#Function-exercise)\n"
   ]
  },
  {
   "cell_type": "markdown",
   "metadata": {},
   "source": [
    "# Function exercise"
   ]
  },
  {
   "cell_type": "markdown",
   "metadata": {},
   "source": [
    "We're going to use data of the 5,000 largest cities in the US. `cities` is a list where each entry is a dictionary containing the following keys. Note that Washington, DC is considered a state and a city in this data set.\n",
    "\n",
    "```\n",
    "KEY  : VALUE\n",
    "---    -----\n",
    "city : the name of the city\n",
    "pop  : the population\n",
    "state: the name of its state (abbreviated and capital letters)\n",
    "```"
   ]
  },
  {
   "cell_type": "code",
   "execution_count": null,
   "metadata": {
    "collapsed": true
   },
   "outputs": [],
   "source": [
    "# Import the list of dictionaries\n",
    "from data.population import cities"
   ]
  },
  {
   "cell_type": "markdown",
   "metadata": {
    "collapsed": true
   },
   "source": [
    "Write functions to perform the following tasks using `cities` as the first argument:\n",
    "\n",
    "For a given state print the names of cities in the data set and the sum of the populations of these cities. This total population is the number of people in the state who live in cities with at least 5000 residents. The function should take as input the `cities` object and a string for the name of the state to be selected."
   ]
  },
  {
   "cell_type": "code",
   "execution_count": null,
   "metadata": {
    "collapsed": false
   },
   "outputs": [],
   "source": [
    "def byState(cities,state):\n",
    "    m_cities = []\n",
    "    population = 0\n",
    "    for city in cities:\n",
    "        if city['state']==state:\n",
    "            m_cities.append(city['city'])\n",
    "            population += city['pop']\n",
    "    \n",
    "    \n",
    "    print(\"-- People in %s in cities with >5000 residents: %d\" % (state,population))\n",
    "    print(\"-- Cities in %s\" % state)\n",
    "    for city in m_cities:\n",
    "        print(city)    "
   ]
  },
  {
   "cell_type": "code",
   "execution_count": null,
   "metadata": {
    "collapsed": false
   },
   "outputs": [],
   "source": [
    "byState(cities,'RI')"
   ]
  }
 ],
 "metadata": {
  "continuum": {
   "depends": [
    "ip_ex_functions",
    "ip_essentials",
    "ip_datatypes",
    "ip_flowcontrol",
    "ip_containers",
    "ip_functions"
   ],
   "requires": [],
   "tag": "ip_ex_functions_soln"
  },
  "kernelspec": {
   "display_name": "Python 3",
   "language": "python",
   "name": "python3"
  },
  "language_info": {
   "codemirror_mode": {
    "name": "ipython",
    "version": 3
   },
   "file_extension": ".py",
   "mimetype": "text/x-python",
   "name": "python",
   "nbconvert_exporter": "python",
   "pygments_lexer": "ipython3",
   "version": "3.4.4"
  }
 },
 "nbformat": 4,
 "nbformat_minor": 0
}
