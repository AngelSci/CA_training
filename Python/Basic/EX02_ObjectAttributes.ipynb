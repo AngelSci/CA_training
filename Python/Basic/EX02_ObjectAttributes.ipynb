{
 "cells": [
  {
   "cell_type": "markdown",
   "metadata": {},
   "source": [
    "# Table of Contents\n",
    "* [Exercise: String attributes](#Exercise:-String-attributes)\n"
   ]
  },
  {
   "cell_type": "markdown",
   "metadata": {},
   "source": [
    "# Exercise: String attributes"
   ]
  },
  {
   "cell_type": "code",
   "execution_count": null,
   "metadata": {
    "collapsed": true
   },
   "outputs": [],
   "source": [
    "string='''The first Saturn V launched with a crew was Apollo 8.\n",
    "On this mission, astronauts orbited the moon but did not land.\n",
    "On Apollo 9, the crew tested the Apollo moon lander by flying it in Earth orbit without landing.\n",
    "On Apollo 10, the Saturn V launched the lunar lander to the moon.\n",
    "The crew tested the lander in space but did not land it on the moon.\n",
    "In 1969, Apollo 11 was the first mission to land astronauts on the moon.\n",
    "Saturn V rockets also made it possible for astronauts to land on the moon on Apollo 12, 14, 15, 16 and 17.\n",
    "On Apollo 13, the Saturn V lifted the crew into space, but a problem prevented them from being able to \n",
    "land on the moon. That problem was not with the Saturn V, but with the Apollo spacecraft. \n",
    "The last Saturn V was launched in 1973, without a crew. \n",
    "It was used to launch the Skylab space station into Earth orbit.'''"
   ]
  },
  {
   "cell_type": "markdown",
   "metadata": {},
   "source": [
    "Use `dir(str)` and `help(str)` to find a member method of the `string` object that will take the following string and replace 'Saturn V' with 'Up Goer Five' in a new string."
   ]
  },
  {
   "cell_type": "code",
   "execution_count": null,
   "metadata": {
    "collapsed": true
   },
   "outputs": [],
   "source": [
    "dir(str)"
   ]
  },
  {
   "cell_type": "code",
   "execution_count": null,
   "metadata": {
    "collapsed": true
   },
   "outputs": [],
   "source": [
    "help(str)"
   ]
  },
  {
   "cell_type": "code",
   "execution_count": null,
   "metadata": {
    "collapsed": true
   },
   "outputs": [],
   "source": []
  },
  {
   "cell_type": "markdown",
   "metadata": {},
   "source": [
    "How many times does 'moon' appear in the string?"
   ]
  },
  {
   "cell_type": "code",
   "execution_count": null,
   "metadata": {
    "collapsed": true
   },
   "outputs": [],
   "source": []
  },
  {
   "cell_type": "markdown",
   "metadata": {},
   "source": [
    "Generate a new string with case of every character switched."
   ]
  },
  {
   "cell_type": "code",
   "execution_count": null,
   "metadata": {
    "collapsed": true
   },
   "outputs": [],
   "source": []
  }
 ],
 "metadata": {
  "continuum": {
   "depends": [
    "ip_essentials",
    "ip_datatypes"
   ],
   "requires": [],
   "tag": "ip_ex_attributes"
  },
  "kernelspec": {
   "display_name": "Python 3",
   "language": "python",
   "name": "python3"
  },
  "language_info": {
   "codemirror_mode": {
    "name": "ipython",
    "version": 3
   },
   "file_extension": ".py",
   "mimetype": "text/x-python",
   "name": "python",
   "nbconvert_exporter": "python",
   "pygments_lexer": "ipython3",
   "version": "3.4.4"
  }
 },
 "nbformat": 4,
 "nbformat_minor": 0
}
