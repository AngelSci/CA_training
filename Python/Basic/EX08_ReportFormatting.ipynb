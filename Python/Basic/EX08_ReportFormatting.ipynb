{
 "cells": [
  {
   "cell_type": "markdown",
   "metadata": {},
   "source": [
    "# Table of Contents\n",
    "* [Exercise (report formatting)](#Exercise-%28report-formatting%29)\n"
   ]
  },
  {
   "cell_type": "markdown",
   "metadata": {},
   "source": [
    "# Exercise (report formatting)"
   ]
  },
  {
   "cell_type": "markdown",
   "metadata": {},
   "source": [
    "The code below displays quarterly budgets for several departments, for a two-year range. The code itself is not written particularly well, and the report created is not very attractive. The joke in the names, of course, refers to a Monty Python skit, the inspiration for the name of the Python programming language.\n",
    "\n",
    "In the time you have, change the code using techniques we have seen already—or others you might guess at or know—to produce a more attractive and readable report on these hypothetical quarterly budgets. There is no one right answer, and feel free to ask questions as you work on this. Let's see what each student comes up with."
   ]
  },
  {
   "cell_type": "code",
   "execution_count": null,
   "metadata": {
    "collapsed": false
   },
   "outputs": [],
   "source": [
    "# Some not very good code that produces a crude report\n",
    "from random import randint\n",
    "import random\n",
    "random.seed(1)\n",
    "# Department names\n",
    "departments = [\"Defense\", \"Arts & Culture\", \"Silly Walks\"]\n",
    "# Quarter names\n",
    "quarter_names = \"Q1/2015, Q2/2015, Q3/2015, Q4/2015\"\n",
    "# Let's hold some numeric data for Q1 2015 through Q2 2015\n",
    "quarter_data = []\n",
    "for i in range(3):\n",
    "    dept_budget = []\n",
    "    for j in range(4):\n",
    "        budget = randint(100, 1e10)/100\n",
    "        dept_budget.append(budget)\n",
    "    quarter_data.append(dept_budget)\n",
    "print(departments)\n",
    "print(quarter_names)\n",
    "for quarters in quarter_data:\n",
    "    print(quarters)"
   ]
  },
  {
   "cell_type": "code",
   "execution_count": null,
   "metadata": {
    "collapsed": true
   },
   "outputs": [],
   "source": []
  }
 ],
 "metadata": {
  "continuum": {
   "depends": [
    "ip_essentials",
    "ip_datatypes",
    "ip_flowcontrol"
   ],
   "tag": "ip_ex_reports"
  },
  "kernelspec": {
   "display_name": "Python 3",
   "language": "python",
   "name": "python3"
  },
  "language_info": {
   "codemirror_mode": {
    "name": "ipython",
    "version": 3
   },
   "file_extension": ".py",
   "mimetype": "text/x-python",
   "name": "python",
   "nbconvert_exporter": "python",
   "pygments_lexer": "ipython3",
   "version": "3.5.1"
  }
 },
 "nbformat": 4,
 "nbformat_minor": 0
}
