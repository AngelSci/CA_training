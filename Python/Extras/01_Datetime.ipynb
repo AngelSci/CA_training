{
 "cells": [
  {
   "cell_type": "markdown",
   "metadata": {},
   "source": [
    "# Table of Contents\n",
    "* [Data types & data structures](#Data-types-&-data-structures)\n",
    "* [Learning Objectives:](#Learning-Objectives:)\n",
    "* [Data types from the Python Standard Library](#Data-types-from-the-Python-Standard-Library)\n",
    "\t* [`datetime` module](#datetime-module)\n"
   ]
  },
  {
   "cell_type": "markdown",
   "metadata": {},
   "source": [
    "# Data types & data structures"
   ]
  },
  {
   "cell_type": "markdown",
   "metadata": {},
   "source": [
    "# Learning Objectives:"
   ]
  },
  {
   "cell_type": "markdown",
   "metadata": {},
   "source": [
    "After completion of this module, learners should be able to:\n",
    "\n",
    "* import the `datetime` module and perform operations with datetime objects."
   ]
  },
  {
   "cell_type": "markdown",
   "metadata": {},
   "source": [
    "# Data types from the Python Standard Library"
   ]
  },
  {
   "cell_type": "markdown",
   "metadata": {},
   "source": [
    "There are many other Python builtin data types and classes we could study in more detail (e.g., `byte`, `bytearray`, `iterator`, etc.). Among these are:\n",
    "* `datetime`: a module for manipulating calendar dates and times;"
   ]
  },
  {
   "cell_type": "markdown",
   "metadata": {},
   "source": [
    "## `datetime` module"
   ]
  },
  {
   "cell_type": "markdown",
   "metadata": {},
   "source": [
    "Computations involving dates are required frequently (e.g., calculating the number of days, hours, and minutes elapsed between 23:52 on Feb. 13, 2012 and 05:30 on Sept. 17, 2014). When we start to consider adjustments for leap years, time zones, and Daylight Savings Time, these calculations become quite involved. Rather than having to construct routines for date calculations from scratch, Python programmers can use routines from the `datetime` module to answer date-related questions. Of course, it is necessary to use an `import` statement to bring the relevant data structures and routines into the working namespace.\n",
    "\n",
    "* The `datetime` module provides routines for formatting dates for output as well as routines for computation with dates.\n",
    "* Complications in working with precise dates/times include time zones, leap seconds, and daylight-savings time corrections. The objects of the `datetime` module are classified as *naïve* or *aware* according to how well they are able to resolve times accurately with regard to such complications. There is a lot of subtlety involved in getting these details correct; suffice it to say that getting `datetime` computations accurate to within a day is likely possible, but getting accuracy to within a second, a minute, or even an hour is not guaranteed.\n",
    "* The complications above notwithstanding, the most relevant data types from the `datetime` module are `datetime.date` for representing dates, `datetime.time` for representing times, `datetime.datetime` for representing both dates & times, and `datetime.timedelta` for representing time intervals (i.e., time elapsed between two specific `datetime` events).\n",
    "* Useful functions include `datetime.date.today()` to return the current date, and `datetime.date.isoformat()`\n",
    "* More details are in the [`datetime` module documentation](https://docs.python.org/3/library/datetime.html)\n",
    "* At heart, naïve datetime arithmetic is simply \"mixed radix\" measures of seconds.  I.e. it combines base 60, base 24, and base 365 (and base 366 sometimes), in the way it displays and recognizes numbers."
   ]
  },
  {
   "cell_type": "code",
   "execution_count": null,
   "metadata": {
    "collapsed": true
   },
   "outputs": [],
   "source": [
    "import datetime as dt"
   ]
  },
  {
   "cell_type": "code",
   "execution_count": null,
   "metadata": {
    "collapsed": false
   },
   "outputs": [],
   "source": [
    "today = dt.date.today()\n",
    "# datetime.date.isoformat() returns date formatted in ISO format\n",
    "print('Today is %s' % today.isoformat()) \n",
    "# datetime.date.strftime returns date formatted as described by a format string\n",
    "print('Today is %s' % today.strftime('%A, %B %d, %Y')) # Details in documentation"
   ]
  },
  {
   "cell_type": "code",
   "execution_count": null,
   "metadata": {
    "collapsed": false
   },
   "outputs": [],
   "source": [
    "earlier = dt.datetime(2012,2,13,23,52) # 23:52 on Feb. 13, 2012\n",
    "later = dt.datetime(2014,9,17,5,30) # 05:30 on Sept. 17, 2014\n",
    "print('Earlier date = %s' % earlier.strftime('%A, %B %d, %Y at %H:%M'))\n",
    "print('Later   date = %s' %   later.strftime('%A, %B %d, %Y at %H:%M'))"
   ]
  },
  {
   "cell_type": "code",
   "execution_count": null,
   "metadata": {
    "collapsed": false
   },
   "outputs": [],
   "source": [
    "time_elapsed = later - earlier\n",
    "print('The time elapsed is %s' % time_elapsed)"
   ]
  },
  {
   "cell_type": "code",
   "execution_count": null,
   "metadata": {
    "collapsed": true
   },
   "outputs": [],
   "source": []
  }
 ],
 "metadata": {
  "continuum": {
   "depends": [
    "ip_datatypes",
    "ip_essentials"
   ],
   "tag": "ip_datetime"
  },
  "kernelspec": {
   "display_name": "Python 3",
   "language": "python",
   "name": "python3"
  },
  "language_info": {
   "codemirror_mode": {
    "name": "ipython",
    "version": 3
   },
   "file_extension": ".py",
   "mimetype": "text/x-python",
   "name": "python",
   "nbconvert_exporter": "python",
   "pygments_lexer": "ipython3",
   "version": "3.4.4"
  }
 },
 "nbformat": 4,
 "nbformat_minor": 0
}
