{
 "cells": [
  {
   "cell_type": "markdown",
   "metadata": {},
   "source": [
    "# Table of Contents\n",
    "* [Learning Objectives:](#Learning-Objectives:)\n"
   ]
  },
  {
   "cell_type": "markdown",
   "metadata": {},
   "source": [
    "# Learning Objectives:"
   ]
  },
  {
   "cell_type": "markdown",
   "metadata": {},
   "source": [
    "After completion of this module, learners should be able to:\n",
    "\n",
    "* Search the documentation of the Python Standard Library for useful modules"
   ]
  },
  {
   "cell_type": "markdown",
   "metadata": {},
   "source": [
    "What is the python standard library?\n",
    "\n",
    "https://docs.python.org/3/py-modindex.html"
   ]
  },
  {
   "cell_type": "code",
   "execution_count": 3,
   "metadata": {
    "collapsed": false
   },
   "outputs": [],
   "source": [
    "# here's many of the standard library modules\n",
    "import sys; import glob\n",
    "import os.path as path\n",
    "py_files=glob.glob(path.join(sys.prefix, \"lib\") + \"python%d.%d\" % (sys.version_info[0:2]) + path.sep + \"*.py\")\n",
    "mods=[path.basename(file).replace('.py','') for file in py_files if not path.basename(file).startswith('_')]\n",
    "\n",
    "modules={}\n",
    "for mod in mods:\n",
    "    if mod in ['this', 'antigravity']:\n",
    "        continue\n",
    "    \n",
    "    exec(\"import %s as tmp\" % mod)\n",
    "    try:\n",
    "        modules[mod]=tmp.__doc__.splitlines()[0]\n",
    "    except AttributeError:\n",
    "        modules[mod]='EMPTY'\n",
    "    \n",
    "for mod,doc in modules.items():\n",
    "    print(\"%s: %s\" % (mod,doc))"
   ]
  },
  {
   "cell_type": "code",
   "execution_count": null,
   "metadata": {
    "collapsed": true
   },
   "outputs": [],
   "source": []
  }
 ],
 "metadata": {
  "continuum": {
   "depends": [
    "ip_essentials",
    "ip_datatypes",
    "ip_containers"
   ],
   "requires": [],
   "tag": "ip_standard"
  },
  "kernelspec": {
   "display_name": "Python 2",
   "language": "python",
   "name": "python2"
  },
  "language_info": {
   "codemirror_mode": {
    "name": "ipython",
    "version": 2
   },
   "file_extension": ".py",
   "mimetype": "text/x-python",
   "name": "python",
   "nbconvert_exporter": "python",
   "pygments_lexer": "ipython2",
   "version": "2.7.11"
  }
 },
 "nbformat": 4,
 "nbformat_minor": 0
}
