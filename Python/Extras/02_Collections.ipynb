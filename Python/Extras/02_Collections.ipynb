{
 "cells": [
  {
   "cell_type": "markdown",
   "metadata": {},
   "source": [
    "# Table of Contents\n",
    "* [Learning Objectives:](#Learning-Objectives:)\n",
    "* [Data Types from the Python Standard Library](#Data-Types-from-the-Python-Standard-Library)\n",
    "\t* [`collections` module](#collections-module)\n",
    "\t\t* [`collections.namedtuple`](#collections.namedtuple)\n",
    "\t\t* [`collections.OrderedDict`](#collections.OrderedDict)\n",
    "\t* [`collections.Counter`](#collections.Counter)\n"
   ]
  },
  {
   "cell_type": "markdown",
   "metadata": {},
   "source": [
    "# Learning Objectives:"
   ]
  },
  {
   "cell_type": "markdown",
   "metadata": {},
   "source": [
    "After completion of this module, learners should be able to:\n",
    "\n",
    "* import the collections module\n",
    "* undesrtand and use the `namedtuple`, `OrderedDict` and `Counter` collection types"
   ]
  },
  {
   "cell_type": "markdown",
   "metadata": {},
   "source": [
    "# Data Types from the Python Standard Library"
   ]
  },
  {
   "cell_type": "markdown",
   "metadata": {},
   "source": [
    "There are many other Python builtin data types and classes we could study in more detail (e.g., `byte`, `bytearray`, `iterator`, etc.). Among these are:\n",
    "* `collections`: a module extending standard builtin data collections (`list`, `dict`, etc.);"
   ]
  },
  {
   "cell_type": "markdown",
   "metadata": {},
   "source": [
    "## `collections` module"
   ]
  },
  {
   "cell_type": "markdown",
   "metadata": {},
   "source": [
    "The `collections` module extends the base Python data collection types with a few useful variations. Three particular extensions are:\n",
    "\n",
    "* `collections.namedtuple`: a function for creating `tuple`-type objects with named fields\n",
    "* `collections.OrderedDict`: a subclass of `dict` objects with ordered keys\n",
    "* `collections.Counter`: a subclass of `dict` that works like a \"bad\" or \"multiset\" (it's good for counting things, as the name indicates).\n",
    "* More details are available from the [`collections` module documentation](https://docs.python.org/3/library/collections.html)\n",
    "\n",
    "Some other nice collection types also include `collections.deque`, `collections.defaultdict` and `queue.Queue` (also `queue.LifoQueue` and `queue.PriorityQueue`)."
   ]
  },
  {
   "cell_type": "markdown",
   "metadata": {},
   "source": [
    "### `collections.namedtuple`"
   ]
  },
  {
   "cell_type": "markdown",
   "metadata": {},
   "source": [
    "A `namedtuple` is worth considering very often for clean code.  It requires no extra memory per `tuple`, but allows us to *name* each index position in a `tuple`. This provides for better documentation of our intent when using tuples."
   ]
  },
  {
   "cell_type": "code",
   "execution_count": null,
   "metadata": {
    "collapsed": true
   },
   "outputs": [],
   "source": [
    "from collections import namedtuple"
   ]
  },
  {
   "cell_type": "code",
   "execution_count": null,
   "metadata": {
    "collapsed": false
   },
   "outputs": [],
   "source": [
    "# We declare a new data type with the identifier \"Account\"\n",
    "# As well as indexing tuple entries by position, we can use the labels\n",
    "# \"accountID\", \"firstname\", & \"lastname\" to retrieve entries from a namedtuple\n",
    "account_fields = [\"accountID\", \"firstname\", \"lastname\"]\n",
    "Account = namedtuple('Account', account_fields)\n",
    "newton = Account('123456789', 'Isaac', 'Newton')\n",
    "leibnitz = Account('987654321', 'Gottfried', 'Leibnitz')\n",
    "print(newton)\n",
    "print(leibnitz)"
   ]
  },
  {
   "cell_type": "code",
   "execution_count": null,
   "metadata": {
    "collapsed": false
   },
   "outputs": [],
   "source": [
    "print(leibnitz[1])\n",
    "print(leibnitz.firstname) # Same as above\n",
    "print(newton.accountID)"
   ]
  },
  {
   "cell_type": "code",
   "execution_count": null,
   "metadata": {
    "collapsed": true
   },
   "outputs": [],
   "source": [
    "import datetime as dt # We'll use datetime to represent dates\n",
    "\n",
    "# We declare a new data type with the identifier \"Stock\"\n",
    "# As well as indexing tuple entries by position, we can use the labels\n",
    "# \"symbol\", \"shares\", \"price\", & \"acquired\" to retrieve entries from a namedtuple\n",
    "# Space separated field names\n",
    "Stock = namedtuple(\"Stock\", \"symbol shares price acquired\") "
   ]
  },
  {
   "cell_type": "code",
   "execution_count": null,
   "metadata": {
    "collapsed": false
   },
   "outputs": [],
   "source": [
    "# Having defined the namedtuple data-type Stock, we create a value of type Stock\n",
    "goog = Stock('GOOG', 100, 538.22, dt.date(2015, 1, 15))\n",
    "print(goog)\n",
    "print(goog[2])     # We can extract values from the namedtuple using tuple position\n",
    "print(goog.price)  # ... or we can use an attribute with the appropriate name."
   ]
  },
  {
   "cell_type": "code",
   "execution_count": null,
   "metadata": {
    "collapsed": false
   },
   "outputs": [],
   "source": [
    "ibm = Stock('IBM', 500, 172.68, dt.date(1952, 6, 1))\n",
    "aapl = Stock ('AAPL', 250, 127.62, dt.date(1999, 3, 14))\n",
    "print(ibm)\n",
    "print(aapl)\n",
    "print(ibm.symbol)"
   ]
  },
  {
   "cell_type": "code",
   "execution_count": null,
   "metadata": {
    "collapsed": false
   },
   "outputs": [],
   "source": [
    "mystocks = [goog, ibm, aapl] # Construct a list of the stocks\n",
    "mystocks"
   ]
  },
  {
   "cell_type": "code",
   "execution_count": null,
   "metadata": {
    "collapsed": false
   },
   "outputs": [],
   "source": [
    "# This is a way to implement the asset computation in a readable way\n",
    "asset_value = 0\n",
    "for stock in mystocks:\n",
    "    asset_value += stock.shares * stock.price\n",
    "print(asset_value)"
   ]
  },
  {
   "cell_type": "code",
   "execution_count": null,
   "metadata": {
    "collapsed": false
   },
   "outputs": [],
   "source": [
    "sum(stock.shares * stock.price for stock in mystocks)"
   ]
  },
  {
   "cell_type": "markdown",
   "metadata": {},
   "source": [
    "### `collections.OrderedDict`"
   ]
  },
  {
   "cell_type": "markdown",
   "metadata": {},
   "source": [
    "Generic `dict` objects do not store the keys in any particular order; the specific way the keys are ordered are implementation-dependent and may vary. The `OrderedDict` from the `collections` module is a special data type in the standard Python library acts as a dictionary but also retains the insertion order of keys within the dictionary. If it is important to maintain a particular ordering for the keys (which may be useful when looping over the keys), an `OrderedDict` permits a fixed ordering of the `dict` keys."
   ]
  },
  {
   "cell_type": "code",
   "execution_count": null,
   "metadata": {
    "collapsed": true
   },
   "outputs": [],
   "source": [
    "from collections import OrderedDict\n",
    "\n",
    "# Define a few key-value pairs as a list of tuples\n",
    "key_value_pairs = [('broker','Roberto Cruz'), \n",
    "                   ('price',521.78),\n",
    "                   ('shares',100), \n",
    "                   ('symbol','GOOG')]\n",
    "plain_dict   = dict(key_value_pairs)\n",
    "ordered_dict = OrderedDict(key_value_pairs)"
   ]
  },
  {
   "cell_type": "code",
   "execution_count": null,
   "metadata": {
    "collapsed": false
   },
   "outputs": [],
   "source": [
    "print(list(plain_dict.keys()))  # No guarantee about order\n",
    "print(plain_dict)"
   ]
  },
  {
   "cell_type": "code",
   "execution_count": null,
   "metadata": {
    "collapsed": false
   },
   "outputs": [],
   "source": [
    "print(list(ordered_dict.keys()))   # Keys in specific order of insertion\n",
    "print(ordered_dict)"
   ]
  },
  {
   "cell_type": "code",
   "execution_count": null,
   "metadata": {
    "collapsed": false
   },
   "outputs": [],
   "source": [
    "ordered_dict['symbol']"
   ]
  },
  {
   "cell_type": "code",
   "execution_count": null,
   "metadata": {
    "collapsed": false
   },
   "outputs": [],
   "source": [
    "ordered_dict['location'] = \"Mountain View\""
   ]
  },
  {
   "cell_type": "code",
   "execution_count": null,
   "metadata": {
    "collapsed": false
   },
   "outputs": [],
   "source": [
    "ordered_dict"
   ]
  },
  {
   "cell_type": "code",
   "execution_count": null,
   "metadata": {
    "collapsed": false
   },
   "outputs": [],
   "source": [
    "del ordered_dict['broker']\n",
    "ordered_dict"
   ]
  },
  {
   "cell_type": "markdown",
   "metadata": {},
   "source": [
    "## `collections.Counter`"
   ]
  },
  {
   "cell_type": "code",
   "execution_count": null,
   "metadata": {
    "collapsed": false
   },
   "outputs": [],
   "source": [
    "from collections import Counter\n",
    "c = Counter('abracadabra')\n",
    "c.most_common()"
   ]
  },
  {
   "cell_type": "code",
   "execution_count": null,
   "metadata": {
    "collapsed": false
   },
   "outputs": [],
   "source": [
    "sorted(c)"
   ]
  },
  {
   "cell_type": "code",
   "execution_count": null,
   "metadata": {
    "collapsed": false
   },
   "outputs": [],
   "source": [
    "c['r']"
   ]
  },
  {
   "cell_type": "code",
   "execution_count": null,
   "metadata": {
    "collapsed": false
   },
   "outputs": [],
   "source": [
    "c['r'] += 4\n",
    "c['r']"
   ]
  },
  {
   "cell_type": "code",
   "execution_count": null,
   "metadata": {
    "collapsed": false
   },
   "outputs": [],
   "source": [
    "c['x']"
   ]
  },
  {
   "cell_type": "code",
   "execution_count": null,
   "metadata": {
    "collapsed": false
   },
   "outputs": [],
   "source": [
    "c.update(\"abracadabra\")\n",
    "c"
   ]
  },
  {
   "cell_type": "code",
   "execution_count": null,
   "metadata": {
    "collapsed": false
   },
   "outputs": [],
   "source": [
    "from random import randint\n",
    "nums = [randint(1,9) for _ in range(100)]\n",
    "numcount = Counter(nums)\n",
    "numcount.most_common()"
   ]
  },
  {
   "cell_type": "code",
   "execution_count": null,
   "metadata": {
    "collapsed": false
   },
   "outputs": [],
   "source": [
    "numcount"
   ]
  },
  {
   "cell_type": "code",
   "execution_count": null,
   "metadata": {
    "collapsed": false
   },
   "outputs": [],
   "source": [
    "numcount.most_common(3)"
   ]
  },
  {
   "cell_type": "code",
   "execution_count": null,
   "metadata": {
    "collapsed": false
   },
   "outputs": [],
   "source": [
    "numcount.subtract([7,7,7,7])\n",
    "numcount.most_common()"
   ]
  },
  {
   "cell_type": "code",
   "execution_count": null,
   "metadata": {
    "collapsed": false
   },
   "outputs": [],
   "source": [
    "numcount[8] -= 2\n",
    "numcount.most_common()"
   ]
  }
 ],
 "metadata": {
  "continuum": {
   "depends": [
    "ip_datatypes",
    "ip_containers",
    "ip_essentials"
   ],
   "tag": "ip_std_collections"
  },
  "kernelspec": {
   "display_name": "Python 3",
   "language": "python",
   "name": "python3"
  },
  "language_info": {
   "codemirror_mode": {
    "name": "ipython",
    "version": 3
   },
   "file_extension": ".py",
   "mimetype": "text/x-python",
   "name": "python",
   "nbconvert_exporter": "python",
   "pygments_lexer": "ipython3",
   "version": "3.4.4"
  }
 },
 "nbformat": 4,
 "nbformat_minor": 0
}
