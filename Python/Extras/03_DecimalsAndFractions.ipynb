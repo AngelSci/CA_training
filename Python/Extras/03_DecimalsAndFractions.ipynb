{
 "cells": [
  {
   "cell_type": "markdown",
   "metadata": {},
   "source": [
    "# Table of Contents\n",
    "* [Learning Objectives:](#Learning-Objectives:)\n",
    "* [Data Types from the Python Standard Library](#Data-Types-from-the-Python-Standard-Library)\n",
    "\t* [`decimal` module](#decimal-module)\n",
    "\t* [`fractions` module](#fractions-module)\n"
   ]
  },
  {
   "cell_type": "markdown",
   "metadata": {},
   "source": [
    "# Learning Objectives:"
   ]
  },
  {
   "cell_type": "markdown",
   "metadata": {},
   "source": [
    "After completion of this module, learners should be able to:\n",
    "\n",
    "* understand differences between the `decimcal` and `fraction` modules"
   ]
  },
  {
   "cell_type": "markdown",
   "metadata": {},
   "source": [
    "# Data Types from the Python Standard Library"
   ]
  },
  {
   "cell_type": "markdown",
   "metadata": {},
   "source": [
    "* `decimal`: a module for manipulating arbitrary precision decimal (i.e., base-10) numbers; and\n",
    "* `fraction`: a module for manipulating rational numbers (i.e., fractions)."
   ]
  },
  {
   "cell_type": "markdown",
   "metadata": {},
   "source": [
    "## `decimal` module"
   ]
  },
  {
   "cell_type": "markdown",
   "metadata": {},
   "source": [
    "The `decimal` module provides fast decimal (i.e., base-10) floating-point arithmetic (by contrast with base-2 arithmetic that is carried out using `float` types).\n",
    "\n",
    "* `decimal` incorporates a base-10 floating-point model (like the one we learn at school).\n",
    "* The `decimal.getcontext()` method permits users to extend the precision of decimal arithmetic.\n",
    "* Generally, extended precision is slower than builtin `float` arithmetic. For large, data-intensive applications, exact decimal arithmetic carries a price.\n",
    "* Decimal numbers that cannot be represented exactly using the `float` type can be expressed exactly using the `decimal.Decimal` type. For instance, with standard `float` values, `1.1 + 2.2` gives `3.3000000000000003` because the number $\\frac{1}{10}=0.1$ requires an infinitely repeating binary bit pattern in its binary representation (hence the finite precision `float` computation necessarily makes minor rounding errors).\n",
    "* However, not all Rational numbers can be represented in Decimal precisely (in fact, only a vanishingly small proportion of them can).  E.g $\\frac{1}{3}$ or $\\frac{2}{7}$ are not expressible exactly as decimals.\n",
    "* Exact (finite) decimal representations can be constructed from strings, e.g., `decimal.Decimal('0.1')`. When computing with these values, typical decimal arithmetic is recovered (within the limits of the precision of the current context).\n",
    "* More information is available at\n",
    "    * [`decimal` module documentation](https://docs.python.org/3/library/decimal.html)\n",
    "    * [IBM General Decimal Arithmetic Specification](http://speleotrove.com/decimal/decarith.html) (Version 1.70&mdash; Apr 2009)"
   ]
  },
  {
   "cell_type": "code",
   "execution_count": null,
   "metadata": {
    "collapsed": false
   },
   "outputs": [],
   "source": [
    "import decimal as dec\n",
    "# Find out \"context\" of decimal arithmetic at present\n",
    "print(dec.getcontext())"
   ]
  },
  {
   "cell_type": "code",
   "execution_count": null,
   "metadata": {
    "collapsed": false
   },
   "outputs": [],
   "source": [
    "# Decimal numbers \n",
    "from decimal import Decimal as D\n",
    "sum_float = 0.1 + 0.1 + 0.1 - 0.3\n",
    "sum_dec = D('0.1') + D('0.1') + D('0.1') - D('0.3')\n",
    "print('The sum 0.1 + 0.1 + 0.1 - 0.3 is %8.2e with regular floats.' % sum_float)\n",
    "print('The sum 0.1 + 0.1 + 0.1 - 0.3 is %s with decimals.' % sum_dec)"
   ]
  },
  {
   "cell_type": "code",
   "execution_count": null,
   "metadata": {
    "collapsed": false
   },
   "outputs": [],
   "source": [
    "# Notice the difference:\n",
    "print(D(.4))    # 'Decimal(0.4)' converts inexact float value to a \"nearby\" Decimal\n",
    "print(D(\".4\"))  # 'Decimal(\"0.4\")' converts a string value to an exact Decimal"
   ]
  },
  {
   "cell_type": "code",
   "execution_count": null,
   "metadata": {
    "collapsed": false
   },
   "outputs": [],
   "source": [
    "dec.getcontext().prec = 16\n",
    "print('The current context is %d digits of precision in decimal arithmetic.'\n",
    "       % dec.getcontext().prec)\n",
    "one, seven = dec.Decimal(1), dec.Decimal(7)\n",
    "print(\"In the current context, 1/7 is %s\" % (one/seven))"
   ]
  },
  {
   "cell_type": "code",
   "execution_count": null,
   "metadata": {
    "collapsed": false
   },
   "outputs": [],
   "source": [
    "dec.getcontext().prec = 50\n",
    "print('The current context is %d digits of precision in decimal arithmetic.'\n",
    "       % dec.getcontext().prec)\n",
    "print(\"In the current context, 1/7 is %s\" % (one/seven))"
   ]
  },
  {
   "cell_type": "code",
   "execution_count": null,
   "metadata": {
    "collapsed": false
   },
   "outputs": [],
   "source": [
    "# Decimal numbers, liked floats, have their own rounding errors\n",
    "one/seven * 7"
   ]
  },
  {
   "cell_type": "code",
   "execution_count": null,
   "metadata": {
    "collapsed": false
   },
   "outputs": [],
   "source": [
    "one/seven * seven"
   ]
  },
  {
   "cell_type": "code",
   "execution_count": null,
   "metadata": {
    "collapsed": false
   },
   "outputs": [],
   "source": [
    "context = dec.getcontext()\n",
    "context?"
   ]
  },
  {
   "cell_type": "markdown",
   "metadata": {},
   "source": [
    "## `fractions` module"
   ]
  },
  {
   "cell_type": "markdown",
   "metadata": {},
   "source": [
    "The `fractions` module provides support for rational number arithmetic, i.e., exact arithmetic involving ratios of integers.\n",
    "* `fractions.Fraction` values can be constructed from pairs of integers, strings, floats, `decimal.Decimal` types, and other `fractions.Fraction` values).\n",
    "* Observe `fractions.Fraction(1.1)` is not $11/10$ as we would expect. The `float` value for `1.1` is a binary (base-2) approximation of the value $1.1$, so the resulting `fractions.Fraction` value is a nearby approximation.\n",
    "* If the denominator is zero, the `fractions.Fraction` constructor gives a `ZeroDivisionError`.\n",
    "* Generally, exact arithmetic is much slower than builtin `float` arithmetic. For large, data-intensive applications, exact rational arithmetic carries a price.\n",
    "* More information is at [`fraction` module documentation](https://docs.python.org/3.4/library/fractions.html)."
   ]
  },
  {
   "cell_type": "code",
   "execution_count": null,
   "metadata": {
    "collapsed": false
   },
   "outputs": [],
   "source": [
    "from fractions import Fraction\n",
    "value = Fraction(1.1)\n",
    "print('The value of 1.1 as a fraction (cast from a float) is %s.' % value)"
   ]
  },
  {
   "cell_type": "code",
   "execution_count": null,
   "metadata": {
    "collapsed": false
   },
   "outputs": [],
   "source": [
    "value = Fraction(11,10)\n",
    "print('The value of 1.1 as a fraction (cast from integers) is %s.' % value)\n",
    "value = Fraction(\"1.1\")\n",
    "print('The value of 1.1 as a fraction (cast from a string) is %s.' % value)"
   ]
  },
  {
   "cell_type": "code",
   "execution_count": null,
   "metadata": {
    "collapsed": false
   },
   "outputs": [],
   "source": [
    "a = Fraction(0.4)\n",
    "print('The value of 0.4 as a fraction (cast from a float) is %s.' % a)\n",
    "print('The value of 0.4 as a fraction (cast from a float, limiting the denominator) is %s' \\\n",
    "      % a.limit_denominator(10000000))"
   ]
  },
  {
   "cell_type": "code",
   "execution_count": null,
   "metadata": {
    "collapsed": false
   },
   "outputs": [],
   "source": [
    "# Exactly how far to limit denominator is not self-evident\n",
    "a.limit_denominator(4)"
   ]
  },
  {
   "cell_type": "code",
   "execution_count": null,
   "metadata": {
    "collapsed": false
   },
   "outputs": [],
   "source": [
    "# Exact rational arithmetic\n",
    "x = Fraction(3,4)\n",
    "y = Fraction(1,3)\n",
    "print('The value of %s + %s is %s.' % (x, y, x+y))"
   ]
  },
  {
   "cell_type": "code",
   "execution_count": null,
   "metadata": {
    "collapsed": false
   },
   "outputs": [],
   "source": [
    "x.numerator, x.denominator"
   ]
  },
  {
   "cell_type": "code",
   "execution_count": null,
   "metadata": {
    "collapsed": true
   },
   "outputs": [],
   "source": []
  }
 ],
 "metadata": {
  "continuum": {
   "depends": [
    "ip_datatypes",
    "ip_essentials",
    "ip_numerictypes"
   ],
   "tag": "ip_std_numeric"
  },
  "kernelspec": {
   "display_name": "Python 2",
   "language": "python",
   "name": "python2"
  },
  "language_info": {
   "codemirror_mode": {
    "name": "ipython",
    "version": 2
   },
   "file_extension": ".py",
   "mimetype": "text/x-python",
   "name": "python",
   "nbconvert_exporter": "python",
   "pygments_lexer": "ipython2",
   "version": "2.7.11"
  }
 },
 "nbformat": 4,
 "nbformat_minor": 0
}
