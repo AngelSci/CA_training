{
 "cells": [
  {
   "cell_type": "markdown",
   "metadata": {},
   "source": [
    "<img src='../img/anaconda-logo.png' align='left' style=\"padding:10px\">\n",
    "<br>\n",
    "*Copyright Continuum 2012-2016 All Rights Reserved.*"
   ]
  },
  {
   "cell_type": "markdown",
   "metadata": {},
   "source": [
    "# Datashader"
   ]
  },
  {
   "cell_type": "markdown",
   "metadata": {},
   "source": [
    "Datashader provides a mathematically rigorous framework to create *Big Data* visualizations by overcoming many traditional plotting pitfalls. It can easily handle billions of data points.\n",
    "\n",
    "Further Datashader is well integrated with Bokeh to build:\n",
    "* Map overlays\n",
    "* Interactive plots and dashboards"
   ]
  },
  {
   "cell_type": "markdown",
   "metadata": {},
   "source": [
    "<img src='notebooks/img/datashader.jpg'>"
   ]
  },
  {
   "cell_type": "markdown",
   "metadata": {},
   "source": [
    "Content adapted from https://anaconda.org/jbednar/notebooks"
   ]
  },
  {
   "cell_type": "markdown",
   "metadata": {},
   "source": [
    "## Table of Contents\n",
    "* [Datashader](#Datashader)\n",
    "* [Conventions](#Conventions)\n",
    "\t* [Links](#Links)\n",
    "* [Plotting Pitfalls](#Plotting-Pitfalls)\n",
    "* [Datashader Pipeline](#Datashader-Pipeline)\n",
    "* [NYC Taxi Data](#NYC-Taxi-Data)\n",
    "* [Combining Points and Images: (Census Demographics + Elevation)](#Combining-Points-and-Images:-%28Census-Demographics-+-Elevation%29)\n",
    "* [Remote Sensing with Datashader](#Remote-Sensing-with-Datashader)\n"
   ]
  },
  {
   "cell_type": "markdown",
   "metadata": {},
   "source": [
    "# Conventions"
   ]
  },
  {
   "cell_type": "markdown",
   "metadata": {},
   "source": [
    "The following conventions will be used throughout this lecture."
   ]
  },
  {
   "cell_type": "markdown",
   "metadata": {},
   "source": [
    "<img src='notebooks/img/topics/Essential-Concept.png' align='left' style='padding:10x'>\n",
    "<br>\n",
    "<big><big><b>Essential Concept</b></big></big>"
   ]
  },
  {
   "cell_type": "markdown",
   "metadata": {},
   "source": [
    "<img src='notebooks/img/topics/Best-Practice.png' align='left' style='padding:10x'>\n",
    "<br>\n",
    "<big><big><b>Best Practice</b></big></big>"
   ]
  },
  {
   "cell_type": "markdown",
   "metadata": {},
   "source": [
    "<img src='notebooks/img/topics/Advanced-Concept.png' align='left' style='padding:10x'>\n",
    "<br>\n",
    "<big><big><b>Advanced Concept</b></big></big>"
   ]
  },
  {
   "cell_type": "markdown",
   "metadata": {},
   "source": [
    "<img src='notebooks/img/topics/Exercise.png' align='left' style='padding:10x'>\n",
    "<br>\n",
    "<big><big><b>Exercise</b></big></big>"
   ]
  },
  {
   "cell_type": "markdown",
   "metadata": {},
   "source": [
    "## Links"
   ]
  },
  {
   "cell_type": "markdown",
   "metadata": {},
   "source": [
    "<div class='btn btn-primary btn-lg'><u>Launch Jupyter Notebook</u></div>"
   ]
  },
  {
   "cell_type": "markdown",
   "metadata": {},
   "source": [
    "<font color='blue'><u><big><big><b>Link out to website</b></big></big></u></font>"
   ]
  },
  {
   "cell_type": "markdown",
   "metadata": {},
   "source": [
    "# Plotting Pitfalls"
   ]
  },
  {
   "cell_type": "markdown",
   "metadata": {},
   "source": [
    "<div class='alert alert-success'>\n",
    "<img src='notebooks/img/topics/Best-Practice.png' align='left' style='padding:10x'>\n",
    "<br>\n",
    "<big><big>\n",
    "With large datasets there are a number of challenges to *faithfully* representing the data.\n",
    "<br>\n",
    "</big></big>\n",
    "<br>\n",
    "</div>\n",
    "\n",
    "The strategies here will help you avoid letting your data lie to you.\n",
    "\n",
    "<a href='./notebooks/Datashader_pitfalls.ipynb' class='btn btn-primary btn-lg'>Plotting pitfalls</a>"
   ]
  },
  {
   "cell_type": "markdown",
   "metadata": {},
   "source": [
    "# Datashader Pipeline"
   ]
  },
  {
   "cell_type": "markdown",
   "metadata": {},
   "source": [
    "The Datashader Pipeline is a three-step process to go from *Big Data* to pixels that overcomes the common plotting pitfalls.\n",
    "\n",
    "\n",
    "<a href='./notebooks/Datashader_pipeline.ipynb' class='btn btn-primary btn-lg'>Datashader Pipeline</a>"
   ]
  },
  {
   "cell_type": "markdown",
   "metadata": {},
   "source": [
    "# NYC Taxi Data"
   ]
  },
  {
   "cell_type": "markdown",
   "metadata": {},
   "source": [
    "<a href='./notebooks/Datashader_taxi.ipynb' class='btn btn-primary btn-lg'>NYC Taxi Data</a>\n",
    "<a href='./notebooks/Datashader_ex_taxi.ipynb' class='btn btn-primary'>Exercise</a>"
   ]
  },
  {
   "cell_type": "markdown",
   "metadata": {},
   "source": [
    "# Combining Points and Images: (Census Demographics + Elevation)"
   ]
  },
  {
   "cell_type": "markdown",
   "metadata": {},
   "source": [
    "<a href='./notebooks/Datashader_race_elevation.ipynb' class='btn btn-primary btn-lg'>Census + Elevation</a>"
   ]
  },
  {
   "cell_type": "markdown",
   "metadata": {},
   "source": [
    "# Remote Sensing with Datashader"
   ]
  },
  {
   "cell_type": "markdown",
   "metadata": {},
   "source": [
    "<a href='./notebooks/Datashader_landsat.ipynb' class='btn btn-primary btn-lg'>Landsat8 Exercise</a>"
   ]
  },
  {
   "cell_type": "markdown",
   "metadata": {},
   "source": [
    "More information\n",
    "----------------\n",
    "\n",
    "See the [Datashader Dashboard](https://github.com/bokeh/datashader/tree/master/examples)"
   ]
  },
  {
   "cell_type": "markdown",
   "metadata": {},
   "source": [
    "----\n",
    "\n",
    "<font color='grey'><i>Copyright Continuum 2012-2016 All Rights Reserved.</i></font>"
   ]
  }
 ],
 "metadata": {
  "anaconda-cloud": {},
  "kernelspec": {
   "display_name": "Python 3",
   "language": "python",
   "name": "python3"
  },
  "language_info": {
   "codemirror_mode": {
    "name": "ipython",
    "version": 3
   },
   "file_extension": ".py",
   "mimetype": "text/x-python",
   "name": "python",
   "nbconvert_exporter": "python",
   "pygments_lexer": "ipython3",
   "version": "3.6.0"
  }
 },
 "nbformat": 4,
 "nbformat_minor": 0
}
