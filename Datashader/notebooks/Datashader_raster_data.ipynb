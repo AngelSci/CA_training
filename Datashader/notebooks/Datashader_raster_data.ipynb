{
 "cells": [
  {
   "cell_type": "markdown",
   "metadata": {},
   "source": [
    "<img src='../../img/anaconda-logo.png' align='left' style=\"padding:10px\">\n",
    "<br>\n",
    "*Copyright Continuum 2012-2016 All Rights Reserved.*"
   ]
  },
  {
   "cell_type": "markdown",
   "metadata": {},
   "source": [
    "# Datashader & BokehGeo: GIS Raster Data"
   ]
  },
  {
   "cell_type": "markdown",
   "metadata": {},
   "source": [
    "In this lesson, we'll see how to use Datashader and Bokeh together to create interactive GIS Visualizations."
   ]
  },
  {
   "cell_type": "markdown",
   "metadata": {},
   "source": [
    "## Table of Contents\n",
    "* [Datashader & BokehGeo: GIS Raster Data](#Datashader-&-BokehGeo:-GIS-Raster-Data)\n",
    "\t* [Set-up](#Set-up)\n",
    "* [Preparations](#Preparations)\n",
    "\t* [Projections](#Projections)\n",
    "\t* [Datashader Transfer Functions](#Datashader-Transfer-Functions)\n",
    "\t* [Adding raster with datashader](#Adding-raster-with-datashader)\n",
    "* [Using BokehGeo Transfer Functions with Datashader](#Using-BokehGeo-Transfer-Functions-with-Datashader)\n",
    "\t* [Slope](#Slope)\n",
    "\t* [Aspect](#Aspect)\n",
    "\t* [Slope-Aspect Map: Combining multiple aggregates](#Slope-Aspect-Map:-Combining-multiple-aggregates)\n",
    "\t* [Hillshading](#Hillshading)\n",
    "\t* [NDVI](#NDVI)\n"
   ]
  },
  {
   "cell_type": "markdown",
   "metadata": {},
   "source": [
    "## Set-up"
   ]
  },
  {
   "cell_type": "markdown",
   "metadata": {},
   "source": [
    "Test versions"
   ]
  },
  {
   "cell_type": "code",
   "execution_count": null,
   "metadata": {
    "collapsed": false
   },
   "outputs": [],
   "source": [
    "import bokeh, datashader\n",
    "print( bokeh.__version__ )\n",
    "print( datashader.__version__ )"
   ]
  },
  {
   "cell_type": "markdown",
   "metadata": {},
   "source": [
    "Upgrade if needed ..."
   ]
  },
  {
   "cell_type": "code",
   "execution_count": null,
   "metadata": {
    "collapsed": false
   },
   "outputs": [],
   "source": [
    "# !anaconda config --set default_site binstar\n",
    "# !conda install datashader=0.3.2 -y  # should be using 0.3.2\n",
    "# !anaconda config --set default_site aws"
   ]
  },
  {
   "cell_type": "markdown",
   "metadata": {},
   "source": [
    "The following imports will be needed to complete the exercises or provide for an improved notebook display:"
   ]
  },
  {
   "cell_type": "code",
   "execution_count": null,
   "metadata": {
    "collapsed": false
   },
   "outputs": [],
   "source": [
    "import numpy as np\n",
    "import rasterio as rio\n",
    "\n",
    "from bokeh.models import Range1d\n",
    "from bokeh.plotting import Figure\n",
    "from bokeh.io import output_notebook, show\n",
    "\n",
    "from bokeh.resources import INLINE\n",
    "from datashader.colors import Hot\n",
    "\n",
    "from bokeh.tile_providers import STAMEN_TONER\n",
    "\n",
    "from pyproj import transform, Proj\n",
    "\n",
    "output_notebook()"
   ]
  },
  {
   "cell_type": "markdown",
   "metadata": {},
   "source": [
    "# Preparations"
   ]
  },
  {
   "cell_type": "markdown",
   "metadata": {},
   "source": [
    "## Projections"
   ]
  },
  {
   "cell_type": "markdown",
   "metadata": {},
   "source": [
    "The `pyproj` library is a great tool for projections. In this section, we'll see how to use it."
   ]
  },
  {
   "cell_type": "markdown",
   "metadata": {},
   "source": [
    "When converting between coordinate systems using `pyproj`, start by creating a `Proj` object for `input` and `output` coordinate systems."
   ]
  },
  {
   "cell_type": "code",
   "execution_count": null,
   "metadata": {
    "collapsed": true
   },
   "outputs": [],
   "source": [
    "from pyproj import transform, Proj\n",
    "\n",
    "input_proj = Proj(init='epsg:4326') # Geographic Projection (decimal degrees)\n",
    "output_proj = Proj(init='epsg:3857') # Web Mercator Projection (meters)"
   ]
  },
  {
   "cell_type": "markdown",
   "metadata": {},
   "source": [
    "pass longitude and latitude into `pyproj.transform` to convert between coordindate systems"
   ]
  },
  {
   "cell_type": "code",
   "execution_count": null,
   "metadata": {
    "collapsed": false
   },
   "outputs": [],
   "source": [
    "xmin_lng = -139\n",
    "xmax_lng = -50\n",
    "ymin_lat = 20\n",
    "ymax_lat = 55\n",
    "\n",
    "xmin_meters, ymin_meters = transform(input_proj, output_proj, xmin_lng, ymin_lat)\n",
    "xmax_meters, ymax_meters = transform(input_proj, output_proj, xmax_lng, ymax_lat)"
   ]
  },
  {
   "cell_type": "markdown",
   "metadata": {},
   "source": [
    "Instead of having to call transform for each coordinate pair, we can vectorize the coordinate system projection using numpy arrays:"
   ]
  },
  {
   "cell_type": "code",
   "execution_count": null,
   "metadata": {
    "collapsed": false
   },
   "outputs": [],
   "source": [
    "# reprojecting can be vectorized\n",
    "x_longitudes = np.array([-139, -50])\n",
    "y_latitudes = np.array([20, 55])\n",
    "x_meters, y_meters = transform(input_proj, output_proj, x_longitudes, y_latitudes)"
   ]
  },
  {
   "cell_type": "code",
   "execution_count": null,
   "metadata": {
    "collapsed": false
   },
   "outputs": [],
   "source": [
    "# Bokeh 1D Ranges\n",
    "austin_x_range = Range1d(*x_meters)\n",
    "austin_y_range = Range1d(*y_meters)"
   ]
  },
  {
   "cell_type": "markdown",
   "metadata": {},
   "source": [
    "## Datashader Transfer Functions"
   ]
  },
  {
   "cell_type": "code",
   "execution_count": null,
   "metadata": {
    "collapsed": true
   },
   "outputs": [],
   "source": [
    "def base_plot(tools='pan,wheel_zoom,reset',plot_width=900, plot_height=600, x_range=None, y_range=None, **plot_args):\n",
    "    p = Figure(tools=tools, plot_width=plot_width, plot_height=plot_height,\n",
    "        x_range=x_range, y_range=y_range, outline_line_color=None,\n",
    "        min_border=0, min_border_left=0, min_border_right=0,\n",
    "        min_border_top=0, min_border_bottom=0, **plot_args)\n",
    "    \n",
    "    p.axis.visible = False\n",
    "    p.xgrid.grid_line_color = None\n",
    "    p.ygrid.grid_line_color = None\n",
    "    p.add_tile(STAMEN_TONER, alpha=.5)\n",
    "    return p"
   ]
  },
  {
   "cell_type": "markdown",
   "metadata": {},
   "source": [
    "Loading a raster into a datashader canvas"
   ]
  },
  {
   "cell_type": "code",
   "execution_count": null,
   "metadata": {
    "collapsed": true
   },
   "outputs": [],
   "source": [
    "# load austin elevation data\n",
    "path = '../../data/Datashader/austin_dem.tif'\n",
    "raster_data = rio.open(path)\n",
    "\n",
    "# define the extent of the canvas to be used such that all data in `austin_dem.tif` fits within the canvas.\n",
    "xmin = -11020645\n",
    "ymin = 3503546\n",
    "xmax = -10797986\n",
    "ymax = 3632767"
   ]
  },
  {
   "cell_type": "markdown",
   "metadata": {},
   "source": [
    "## Adding raster with datashader"
   ]
  },
  {
   "cell_type": "markdown",
   "metadata": {},
   "source": [
    "For this demo we will use a helper function `InteractiveImage`, which takes both a plot and and a function, and provides interactivity within this jupyter notebook."
   ]
  },
  {
   "cell_type": "code",
   "execution_count": null,
   "metadata": {
    "collapsed": true
   },
   "outputs": [],
   "source": [
    "from datashader.bokeh_ext import InteractiveImage\n",
    "\n",
    "import datashader as ds\n",
    "import datashader.transfer_functions as tf"
   ]
  },
  {
   "cell_type": "markdown",
   "metadata": {},
   "source": [
    "The basics using `Canvas.raster`"
   ]
  },
  {
   "cell_type": "markdown",
   "metadata": {},
   "source": [
    "`ds.Canvas.raster(data)` resamples the raster so that the resolution and allignment \"fit\" inside your canvas scene in a uniform way so that as you interact and change the scene, the aggregation (\"resampling\" in this case, since the data is already gridded) is recomputed every time you move or zoom on the image."
   ]
  },
  {
   "cell_type": "code",
   "execution_count": null,
   "metadata": {
    "collapsed": false
   },
   "outputs": [],
   "source": [
    "def basic_raster(x_range, y_range, w, h, how='log'):\n",
    "    cvs = ds.Canvas(plot_width=w, plot_height=h, x_range=x_range, y_range=y_range)\n",
    "    agg = cvs.raster(raster_data)\n",
    "    return tf.interpolate(agg, cmap=['darkred','white','darkblue'], how='linear', alpha=255)\n",
    "\n",
    "p = base_plot(x_range=(-11020645, -10797986), y_range=(3503546, 3632767))\n",
    "InteractiveImage(p, basic_raster)"
   ]
  },
  {
   "cell_type": "markdown",
   "metadata": {},
   "source": [
    "# Using BokehGeo Transfer Functions with Datashader"
   ]
  },
  {
   "cell_type": "markdown",
   "metadata": {},
   "source": [
    "`bokeh_geo.transfer_functions` contains many transfer functions useful together with Datashader. Here we demonstrate all 5 of them.\n",
    "\n",
    "* slope\n",
    "* aspect\n",
    "* hillshade\n",
    "* ndvi\n"
   ]
  },
  {
   "cell_type": "markdown",
   "metadata": {},
   "source": [
    "We will also demonstrate using two together:\n",
    "* slow & aspect"
   ]
  },
  {
   "cell_type": "markdown",
   "metadata": {},
   "source": [
    "## Slope"
   ]
  },
  {
   "cell_type": "markdown",
   "metadata": {},
   "source": [
    "Now apply a transfer function `slope()` from BokehGeo. And use it with DataShader."
   ]
  },
  {
   "cell_type": "code",
   "execution_count": null,
   "metadata": {
    "collapsed": false
   },
   "outputs": [],
   "source": [
    "from bokeh_geo.transfer_functions import slope\n",
    "\n",
    "def slope_raster(x_range, y_range, w, h, how='log'):\n",
    "    cvs = ds.Canvas(plot_width=w, plot_height=h, x_range=x_range, y_range=y_range)\n",
    "    agg = cvs.raster(raster_data)\n",
    "    slope_agg = slope(agg)\n",
    "    return tf.interpolate(slope_agg, cmap=['lightgray','purple'], how='eq_hist')\n",
    "\n",
    "p = base_plot(x_range=(-11020645, -10797986), y_range=(3503546, 3632767))  ## values from cell above\n",
    "InteractiveImage(p, slope_raster)"
   ]
  },
  {
   "cell_type": "markdown",
   "metadata": {},
   "source": [
    "## Aspect"
   ]
  },
  {
   "cell_type": "markdown",
   "metadata": {},
   "source": [
    "Aspect, in context of GIS, is the direction of downward slope measured from 0-359 degrees.\n",
    "\n",
    "Here we demonstrate the use of the BokehGeo `transfer_function` sub-module, importing `aspect` and using it with DataShader."
   ]
  },
  {
   "cell_type": "code",
   "execution_count": null,
   "metadata": {
    "collapsed": false
   },
   "outputs": [],
   "source": [
    "from bokeh_geo.transfer_functions import aspect\n",
    "\n",
    "from datashader.bokeh_ext import HoverLayer\n",
    "\n",
    "def aspect_raster(x_range, y_range, w, h, how='log'):\n",
    "    cvs = ds.Canvas(plot_width=w, plot_height=h, x_range=x_range, y_range=y_range)\n",
    "    agg = cvs.raster(raster_data)\n",
    "    aspect_agg = aspect(agg)\n",
    "    return tf.interpolate(aspect_agg, cmap=['aqua', 'black'], how='eq_hist')\n",
    "\n",
    "p = base_plot(x_range=(-11020645, -10797986), y_range=(3503546, 3632767))\n",
    "InteractiveImage(p, aspect_raster)"
   ]
  },
  {
   "cell_type": "markdown",
   "metadata": {},
   "source": [
    "## Slope-Aspect Map: Combining multiple aggregates"
   ]
  },
  {
   "cell_type": "markdown",
   "metadata": {},
   "source": [
    "In this example, we demonstrate how you can use two aggregates together on one canvas."
   ]
  },
  {
   "cell_type": "markdown",
   "metadata": {},
   "source": [
    "In the example:\n",
    "- load slope and aspect aggregates\n",
    "- reclassify slope into 4 classes with values of (10, 20, 30, 40)\n",
    "- reclassify aspect into 8 classes with values of (1, 2, 3, 4, 5, 6, 7, 8)\n",
    "- sum the two reclassified aggregates together\n",
    "- pixels with value less than 20 are consider background and are colored gray\n",
    "- other pixels are color based on their slope and aspect values"
   ]
  },
  {
   "cell_type": "code",
   "execution_count": null,
   "metadata": {
    "collapsed": false
   },
   "outputs": [],
   "source": [
    "from bokeh_geo.transfer_functions import slope, aspect,color_values \n",
    "\n",
    "def slope_aspect_raster(x_range, y_range, w, h, how='log'):\n",
    "    '''\n",
    "    inspired by http://www.personal.psu.edu/cab38/Terrain/AutoCarto.html\n",
    "    '''\n",
    "    cvs = ds.Canvas(plot_width=w, plot_height=h, x_range=x_range, y_range=y_range)\n",
    "    agg = cvs.raster(raster_data)\n",
    "    \n",
    "    slope_agg = aspect(agg)\n",
    "    slope_agg = slope(agg) * 100\n",
    "    bins = [0, 5, 20, 40]\n",
    "    slope_agg.data = np.digitize(slope_agg.data, bins) * 10\n",
    "    \n",
    "    aspect_agg = aspect(agg)\n",
    "    bins = [0, 22, 67, 112, 157, 202, 247, 292, 337]\n",
    "    aspect_agg.data = np.digitize(aspect_agg.data, bins)\n",
    "    aspect_agg.data[aspect_agg.data == 9] = 1\n",
    "    \n",
    "    agg_sum = slope_agg + aspect_agg\n",
    "    \n",
    "    background = (153, 153, 153)\n",
    "    \n",
    "    final_colors = {\n",
    "        11 : background,\n",
    "        12 : background,\n",
    "        13 : background,\n",
    "        14 : background,\n",
    "        15 : background,\n",
    "        16 : background,\n",
    "        17 : background,\n",
    "        18 : background,\n",
    "        19 : background,\n",
    "        21 : (147,166,89),\n",
    "        22 : (102,153,102),\n",
    "        23 : (102,153,136),\n",
    "        24 : (89,89,166),\n",
    "        25 : (128,108,147),\n",
    "        26 : (166,89,89),\n",
    "        27 : (166,134,89),\n",
    "        28 : (166,166,89),\n",
    "        31 : (172,217,38),\n",
    "        32 : (77,179,77),\n",
    "        33 : (73,182,146),\n",
    "        34 : (51,51,204),\n",
    "        35 : (128,89,166),\n",
    "        36 : (217,38,38),\n",
    "        37 : (217,142,38),\n",
    "        38 : (217,217,38),\n",
    "        41 : (191,255,0),\n",
    "        42 : (51,204,51),\n",
    "        43 : (51,204,153),\n",
    "        44 : (26,26,230),\n",
    "        45 : (128,51,204),\n",
    "        46 : (255,0,0),\n",
    "        47 : (255,149,0),\n",
    "        48 : (255,255,0)\n",
    "    }\n",
    " \n",
    "    return color_values(agg_sum, final_colors)\n",
    "\n",
    "p = base_plot(x_range=(-11020645, -10797986), y_range=(3503546, 3632767))\n",
    "InteractiveImage(p, slope_aspect_raster)"
   ]
  },
  {
   "cell_type": "markdown",
   "metadata": {},
   "source": [
    "## Hillshading"
   ]
  },
  {
   "cell_type": "markdown",
   "metadata": {},
   "source": [
    "Hillshading is about adding pseudo-relief based on the angle and altitude of a light source. "
   ]
  },
  {
   "cell_type": "code",
   "execution_count": null,
   "metadata": {
    "collapsed": false
   },
   "outputs": [],
   "source": [
    "from bokeh_geo.transfer_functions import hillshade\n",
    "from bokeh_geo.colors import elevation_ramp\n",
    "\n",
    "from datashader.bokeh_ext import HoverLayer\n",
    "\n",
    "def hillshade_raster(x_range, y_range, w, h, how='log'):\n",
    "    cvs = ds.Canvas(plot_width=w, plot_height=h, x_range=x_range, y_range=y_range)\n",
    "    agg = cvs.raster(raster_data)\n",
    "    return tf.stack(tf.interpolate(agg, cmap=['#333333', 'white'], how='eq_hist', alpha=255),\n",
    "                          hillshade(agg, how='mdow', alpha=45))\n",
    "\n",
    "p = base_plot(x_range=(-11020645, -10797986), y_range=(3503546, 3632767))\n",
    "InteractiveImage(p, hillshade_raster)"
   ]
  },
  {
   "cell_type": "markdown",
   "metadata": {},
   "source": [
    "## NDVI"
   ]
  },
  {
   "cell_type": "markdown",
   "metadata": {},
   "source": [
    "NVDI = \"Normalized Difference Vegetation Index\"\n",
    "\n",
    "Relative difference, rescaling to the range of values.\n",
    "\n",
    "Load two images\n",
    "\n",
    "* near IR light (NIR)\n",
    "* Red light\n",
    "\n",
    "Context\n",
    "\n",
    "* We know vegetation absorbs a lot of red, and reflects infra-red\n",
    "* So we look for high absorption of red and low absorption of IR, and assume that is a proxy for plant life.\n",
    "* Plants look green, so the red absorption is intuitive, but the IR piece is not so intuitive.\n"
   ]
  },
  {
   "cell_type": "code",
   "execution_count": null,
   "metadata": {
    "collapsed": false
   },
   "outputs": [],
   "source": [
    "from bokeh_geo.transfer_functions import ndvi\n",
    "from datashader.bokeh_ext import InteractiveImage\n",
    "\n",
    "nir_data = rio.open('../../data/Datashader/roswell_landsat8_b5_nir_mercator.tif')\n",
    "red_data = rio.open('../../data/Datashader/roswell_landsat8_b4_red_mercator.tif')\n",
    "\n",
    "xmin = nir_data.bounds.left\n",
    "ymin = nir_data.bounds.bottom\n",
    "xmax = nir_data.bounds.right\n",
    "ymax = nir_data.bounds.top"
   ]
  },
  {
   "cell_type": "code",
   "execution_count": null,
   "metadata": {
    "collapsed": false
   },
   "outputs": [],
   "source": [
    "def ndvi_raster(x_range, y_range, w, h, how='log'):\n",
    "    cvs = ds.Canvas(plot_width=w, plot_height=h, x_range=x_range, y_range=y_range)\n",
    "    nir_agg = cvs.raster(nir_data)\n",
    "    red_agg = cvs.raster(red_data)\n",
    "    ndvi_agg = ndvi(nir_agg, red_agg)\n",
    "    return tf.interpolate(ndvi_agg, cmap=['magenta', 'black', 'limegreen'], how='linear')\n",
    "\n",
    "p = base_plot(x_range=(xmin, xmax), y_range=(ymin, ymax))\n",
    "InteractiveImage(p, ndvi_raster)"
   ]
  },
  {
   "cell_type": "markdown",
   "metadata": {
    "collapsed": true
   },
   "source": [
    "---\n",
    "*Copyright Continuum 2012-2016 All Rights Reserved.*"
   ]
  }
 ],
 "metadata": {
  "anaconda-cloud": {},
  "kernelspec": {
   "display_name": "Python [default]",
   "language": "python",
   "name": "python3"
  },
  "language_info": {
   "codemirror_mode": {
    "name": "ipython",
    "version": 3
   },
   "file_extension": ".py",
   "mimetype": "text/x-python",
   "name": "python",
   "nbconvert_exporter": "python",
   "pygments_lexer": "ipython3",
   "version": "3.5.2"
  }
 },
 "nbformat": 4,
 "nbformat_minor": 0
}
