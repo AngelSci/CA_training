{
 "cells": [
  {
   "cell_type": "markdown",
   "metadata": {},
   "source": [
    "<img src='../../img/anaconda-logo.png' align='left' style=\"padding:10px\">\n",
    "<br>\n",
    "*Copyright Continuum 2012-2016 All Rights Reserved.*"
   ]
  },
  {
   "cell_type": "markdown",
   "metadata": {},
   "source": [
    "# Datashader: Census + Elevation"
   ]
  },
  {
   "cell_type": "markdown",
   "metadata": {},
   "source": [
    "In this example, we look at census data versus elevation in the Austin area."
   ]
  },
  {
   "cell_type": "markdown",
   "metadata": {},
   "source": [
    "## Table of Contents\n",
    "* [Datashader: Census + Elevation](#Datashader:-Census-+-Elevation)\n",
    "\t* [Setup](#Setup)\n",
    "\t* [Load Elevation Data](#Load-Elevation-Data)\n",
    "\t* [Load Census Data (may take a minute or two)](#Load-Census-Data-%28may-take-a-minute-or-two%29)\n"
   ]
  },
  {
   "cell_type": "markdown",
   "metadata": {},
   "source": [
    "## Setup"
   ]
  },
  {
   "cell_type": "markdown",
   "metadata": {},
   "source": [
    "The following imports will be needed to complete the exercises or provide for an improved notebook display:"
   ]
  },
  {
   "cell_type": "code",
   "execution_count": null,
   "metadata": {
    "collapsed": false
   },
   "outputs": [],
   "source": [
    "from os import path\n",
    "\n",
    "import numpy as np\n",
    "import pandas as pd\n",
    "import rasterio as rio\n",
    "import datashader as ds\n",
    "import datashader.transfer_functions as tf\n",
    "\n",
    "from datashader.bokeh_ext import InteractiveImage\n",
    "\n",
    "from bokeh.models import Range1d, VBox\n",
    "from bokeh.plotting import Figure\n",
    "from bokeh.io import output_notebook, show\n",
    "from bokeh.tile_providers import STAMEN_TONER\n",
    "\n",
    "output_notebook()"
   ]
  },
  {
   "cell_type": "markdown",
   "metadata": {},
   "source": [
    "## Load Elevation Data "
   ]
  },
  {
   "cell_type": "code",
   "execution_count": null,
   "metadata": {
    "collapsed": true
   },
   "outputs": [],
   "source": [
    "# load austin elevation data\n",
    "path = '../../data/Datashader/austin_dem.tif'\n",
    "elevation_data = rio.open(path)"
   ]
  },
  {
   "cell_type": "markdown",
   "metadata": {},
   "source": [
    "## Load Census Data (may take a minute or two)"
   ]
  },
  {
   "cell_type": "code",
   "execution_count": null,
   "metadata": {
    "collapsed": false
   },
   "outputs": [],
   "source": [
    "path = '../../data/Datashader/census.h5'\n",
    "census_df = pd.read_hdf(path, 'census')\n",
    "print(census_df)"
   ]
  },
  {
   "cell_type": "code",
   "execution_count": null,
   "metadata": {
    "collapsed": false
   },
   "outputs": [],
   "source": [
    "census_df.race = census_df.race.astype('category')"
   ]
  },
  {
   "cell_type": "code",
   "execution_count": null,
   "metadata": {
    "collapsed": true
   },
   "outputs": [],
   "source": [
    "def base_plot(tools='pan,wheel_zoom,reset',plot_width=900, plot_height=500, x_range=None, y_range=None, **plot_args):\n",
    "    p = Figure(tools=tools, plot_width=plot_width, plot_height=plot_height,\n",
    "        x_range=x_range, y_range=y_range, outline_line_color=None,\n",
    "        background_fill_color='black',\n",
    "        min_border=0, min_border_left=0, min_border_right=0,\n",
    "        min_border_top=0, min_border_bottom=0, **plot_args)\n",
    "    p.xaxis.visible = False\n",
    "    p.xgrid.grid_line_alpha = 0\n",
    "    p.ygrid.grid_line_alpha = 0\n",
    "    return p"
   ]
  },
  {
   "cell_type": "code",
   "execution_count": null,
   "metadata": {
    "collapsed": true
   },
   "outputs": [],
   "source": [
    "w = np.ceil(elevation_data.width / 8.0)\n",
    "h = np.ceil(elevation_data.height / 8.0)"
   ]
  },
  {
   "cell_type": "code",
   "execution_count": null,
   "metadata": {
    "collapsed": false
   },
   "outputs": [],
   "source": [
    "xmin = elevation_data.bounds.left\n",
    "ymin = elevation_data.bounds.bottom\n",
    "xmax = elevation_data.bounds.right\n",
    "ymax = elevation_data.bounds.top"
   ]
  },
  {
   "cell_type": "code",
   "execution_count": null,
   "metadata": {
    "collapsed": true
   },
   "outputs": [],
   "source": [
    "cvs = ds.Canvas(plot_width=w,\n",
    "                plot_height=h,\n",
    "                x_range=(xmin, xmax),\n",
    "                y_range=(ymin, ymax))"
   ]
  },
  {
   "cell_type": "code",
   "execution_count": null,
   "metadata": {
    "collapsed": false
   },
   "outputs": [],
   "source": [
    "elevation_agg = cvs.raster(elevation_data)"
   ]
  },
  {
   "cell_type": "code",
   "execution_count": null,
   "metadata": {
    "collapsed": true
   },
   "outputs": [],
   "source": [
    "people = cvs.points(census_df, 'meterswest', 'metersnorth', ds.count_cat('race'))"
   ]
  },
  {
   "cell_type": "code",
   "execution_count": null,
   "metadata": {
    "collapsed": false
   },
   "outputs": [],
   "source": [
    "xs, ys = np.meshgrid(people.x_axis, people.y_axis)\n",
    "\n",
    "# horizontal stack\n",
    "summary_df = pd.DataFrame()\n",
    "summary_df['x'] = xs.flatten()\n",
    "summary_df['y'] = xs.flatten()\n",
    "summary_df['elevation'] = elevation_agg.data.flatten()\n",
    "\n",
    "cats = people[people.dims[2]].values.tolist()\n",
    "for i, e in enumerate(cats):\n",
    "    summary_df[str(e)] = people[:, :, i].data.flatten()"
   ]
  },
  {
   "cell_type": "markdown",
   "metadata": {},
   "source": [
    "Average Elevation"
   ]
  },
  {
   "cell_type": "code",
   "execution_count": null,
   "metadata": {
    "collapsed": false
   },
   "outputs": [],
   "source": [
    "print('white:', summary_df[summary_df.w > 0].elevation.mean())\n",
    "print('black:', summary_df[summary_df.b > 0].elevation.mean())\n",
    "print('hispanic:', summary_df[summary_df.h > 0].elevation.mean())\n",
    "print('asian:', summary_df[summary_df.a > 0].elevation.mean())\n",
    "print('other:', summary_df[summary_df.o > 0].elevation.mean())"
   ]
  },
  {
   "cell_type": "code",
   "execution_count": null,
   "metadata": {
    "collapsed": false
   },
   "outputs": [],
   "source": [
    "def update_image(x_range, y_range, w, h):\n",
    "    cvs = ds.Canvas(plot_width=w,\n",
    "                          plot_height=h,\n",
    "                          x_range=x_range,\n",
    "                          y_range=y_range)\n",
    "    \n",
    "    white_people = cvs.points(summary_df[(summary_df.w > summary_df.h) &\n",
    "                                         (summary_df.w > summary_df.b)],\n",
    "                              'x',\n",
    "                              'elevation',\n",
    "                              ds.sum('w'))\n",
    "    \n",
    "    hispanic_people = cvs.points(summary_df[(summary_df.h > summary_df.w) &\n",
    "                                            (summary_df.h > summary_df.b)], \n",
    "                                 'x',\n",
    "                                 'elevation',\n",
    "                                 ds.sum('h'))\n",
    "    \n",
    "    black_people = cvs.points(summary_df[(summary_df.b > summary_df.w) & \n",
    "                                         (summary_df.b > summary_df.h)], \n",
    "                              'x',\n",
    "                              'elevation',\n",
    "                              ds.sum('b'))\n",
    "    \n",
    "    asian_people = cvs.points(summary_df[(summary_df.a > summary_df.w) & \n",
    "                                         (summary_df.a > summary_df.h)], \n",
    "                              'x',\n",
    "                              'elevation',\n",
    "                              ds.sum('b'))\n",
    "    \n",
    "    img = tf.stack(\n",
    "            tf.shade(white_people, cmap=['black', 'cyan'], how='eq_hist', alpha=255),\n",
    "            tf.shade(hispanic_people, cmap=['black', 'yellow'], how='eq_hist', alpha=255),\n",
    "            tf.shade(black_people, cmap=['black', 'lime'], how='eq_hist', alpha=255),\n",
    "            tf.shade(asian_people, cmap=['black', 'fuchsia'], how='eq_hist', alpha=255),\n",
    "    )\n",
    "\n",
    "    return tf.dynspread(img, .5, 10)\n",
    "\n",
    "x_range = Range1d(start=-1.102e7, end=-1.0798e7)\n",
    "elevation_plot = base_plot(x_range=x_range,\n",
    "                           y_range=(100.0, 620.0),\n",
    "                           title=\"Austin Area: Race by Elevation from West to East\")\n",
    "InteractiveImage(elevation_plot, update_image)"
   ]
  },
  {
   "cell_type": "markdown",
   "metadata": {
    "collapsed": true
   },
   "source": [
    "---\n",
    "*Copyright Continuum 2012-2016 All Rights Reserved.*"
   ]
  }
 ],
 "metadata": {
  "anaconda-cloud": {},
  "kernelspec": {
   "display_name": "Python [conda env:iqt]",
   "language": "python",
   "name": "conda-env-iqt-py"
  },
  "language_info": {
   "codemirror_mode": {
    "name": "ipython",
    "version": 3
   },
   "file_extension": ".py",
   "mimetype": "text/x-python",
   "name": "python",
   "nbconvert_exporter": "python",
   "pygments_lexer": "ipython3",
   "version": "3.5.2"
  }
 },
 "nbformat": 4,
 "nbformat_minor": 0
}
