{
 "cells": [
  {
   "cell_type": "markdown",
   "metadata": {},
   "source": [
    "<img src='../../img/anaconda-logo.png' align='left' style=\"padding:10px\">\n",
    "<br>\n",
    "*Copyright Continuum 2012-2016 All Rights Reserved.*"
   ]
  },
  {
   "cell_type": "markdown",
   "metadata": {},
   "source": [
    "# Taxi rides Exercise"
   ]
  },
  {
   "cell_type": "markdown",
   "metadata": {},
   "source": [
    "Make datashader plots for the following information by pickup location\n",
    "* Rides with 5 or more passengers\n",
    "* Color map all rides by time of day\n",
    "  * can be by hour or bins of hours\n",
    "\n",
    "Note: some these operations can be done in Pandas or after aggregation using xarray."
   ]
  },
  {
   "cell_type": "markdown",
   "metadata": {},
   "source": [
    "# Table of Contents\n",
    "* [Taxi rides Exercise](#Taxi-rides-Exercise)\n",
    "\t* [Set-Up](#Set-Up)\n",
    "\t* [Data](#Data)\n",
    "\t* [Colors](#Colors)\n",
    "\t* [Projections](#Projections)\n",
    "\t* [By passenger count](#By-passenger-count)\n",
    "\t\t* [pandas](#pandas)\n",
    "\t\t* [xarray](#xarray)\n",
    "\t* [By time of day](#By-time-of-day)\n"
   ]
  },
  {
   "cell_type": "markdown",
   "metadata": {},
   "source": [
    "## Set-Up"
   ]
  },
  {
   "cell_type": "code",
   "execution_count": null,
   "metadata": {
    "collapsed": true
   },
   "outputs": [],
   "source": [
    "import pandas as pd\n",
    "import numpy as np\n",
    "import datashader as ds\n",
    "from datashader import transfer_functions as tf"
   ]
  },
  {
   "cell_type": "markdown",
   "metadata": {},
   "source": [
    "## Data"
   ]
  },
  {
   "cell_type": "code",
   "execution_count": null,
   "metadata": {
    "collapsed": false
   },
   "outputs": [],
   "source": [
    "taxi = pd.read_csv('data/April1.csv')\n",
    "taxi.head()"
   ]
  },
  {
   "cell_type": "markdown",
   "metadata": {},
   "source": [
    "## Colors"
   ]
  },
  {
   "cell_type": "code",
   "execution_count": null,
   "metadata": {
    "collapsed": true
   },
   "outputs": [],
   "source": [
    "from datashader.colors import Greys9, inferno\n",
    "Greys9_r = list(reversed(Greys9))[:-2]"
   ]
  },
  {
   "cell_type": "markdown",
   "metadata": {},
   "source": [
    "## Projections"
   ]
  },
  {
   "cell_type": "code",
   "execution_count": null,
   "metadata": {
    "collapsed": false
   },
   "outputs": [],
   "source": [
    "from pyproj import Proj, transform\n",
    "inProj = Proj(init='epsg:4326')\n",
    "outProj = Proj(init='epsg:3857')\n",
    "\n",
    "taxi['pickup_x'], taxi['pickup_y'] = \\\n",
    "  transform(inProj, outProj, taxi['pickup_longitude'].values, taxi['pickup_latitude'].values)"
   ]
  },
  {
   "cell_type": "code",
   "execution_count": null,
   "metadata": {
    "collapsed": true
   },
   "outputs": [],
   "source": [
    "x_range=(-8250000,-8210000)\n",
    "y_range=(4965000,4990000)"
   ]
  },
  {
   "cell_type": "markdown",
   "metadata": {},
   "source": [
    "## By passenger count"
   ]
  },
  {
   "cell_type": "markdown",
   "metadata": {},
   "source": [
    "### pandas"
   ]
  },
  {
   "cell_type": "code",
   "execution_count": null,
   "metadata": {
    "collapsed": false
   },
   "outputs": [],
   "source": [
    "many_passengers = taxi.loc[taxi['passenger_count'] >= 5]"
   ]
  },
  {
   "cell_type": "code",
   "execution_count": null,
   "metadata": {
    "collapsed": false
   },
   "outputs": [],
   "source": [
    "cvs = ds.Canvas(plot_width=800, plot_height=500, x_range=x_range, y_range=y_range)\n",
    "agg = cvs.points(many_passengers, 'pickup_x', 'pickup_y')\n",
    "tf.shade(agg, cmap=reversed(inferno), how='eq_hist')"
   ]
  },
  {
   "cell_type": "markdown",
   "metadata": {},
   "source": [
    "### xarray"
   ]
  },
  {
   "cell_type": "code",
   "execution_count": null,
   "metadata": {
    "collapsed": true
   },
   "outputs": [],
   "source": [
    "taxi['passenger_cat'] = taxi['passenger_count'].astype('category')"
   ]
  },
  {
   "cell_type": "code",
   "execution_count": null,
   "metadata": {
    "collapsed": false
   },
   "outputs": [],
   "source": [
    "cvs = ds.Canvas(plot_width=800, plot_height=500, x_range=x_range, y_range=y_range)\n",
    "agg = cvs.points(taxi, 'pickup_x', 'pickup_y', ds.count_cat('passenger_cat'))\n",
    "tf.shade(agg.sel(passenger_cat=[5,6,7]).sum(dim='passenger_cat'), cmap=reversed(inferno), how='eq_hist')"
   ]
  },
  {
   "cell_type": "markdown",
   "metadata": {},
   "source": [
    "## By time of day"
   ]
  },
  {
   "cell_type": "code",
   "execution_count": null,
   "metadata": {
    "collapsed": false
   },
   "outputs": [],
   "source": [
    "taxi['hour'] = pd.to_datetime(taxi['tpep_pickup_datetime']).dt.hour\n",
    "taxi['time'] = pd.cut(taxi['hour'], bins=[0, 12, 17, 24], labels=['morning', 'afternoon', 'evening']).astype('category')"
   ]
  },
  {
   "cell_type": "code",
   "execution_count": null,
   "metadata": {
    "collapsed": false
   },
   "outputs": [],
   "source": [
    "colors = {'morning':'blue', 'afternoon':'yellow', 'evening':'red'}\n",
    "\n",
    "cvs = ds.Canvas(plot_width=800, plot_height=500, x_range=x_range, y_range=y_range)\n",
    "agg = cvs.points(taxi, 'pickup_x', 'pickup_y', ds.count_cat('time'))\n",
    "tf.shade(agg, color_key=colors, how='eq_hist')"
   ]
  },
  {
   "cell_type": "markdown",
   "metadata": {},
   "source": [
    "---\n",
    "*Copyright Continuum 2012-2016 All Rights Reserved.*"
   ]
  }
 ],
 "metadata": {
  "anaconda-cloud": {},
  "continuum": {
   "depends": [],
   "requires": [
    "data/April1.csv"
   ],
   "tag": "shade_taxi"
  },
  "kernelspec": {
   "display_name": "Python [conda env:iqt]",
   "language": "python",
   "name": "conda-env-iqt-py"
  },
  "language_info": {
   "codemirror_mode": {
    "name": "ipython",
    "version": 3
   },
   "file_extension": ".py",
   "mimetype": "text/x-python",
   "name": "python",
   "nbconvert_exporter": "python",
   "pygments_lexer": "ipython3",
   "version": "3.5.2"
  }
 },
 "nbformat": 4,
 "nbformat_minor": 0
}
