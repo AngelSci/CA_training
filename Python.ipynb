{
 "cells": [
  {
   "cell_type": "markdown",
   "metadata": {},
   "source": [
    "<img src='notebooks/img/logo.png' />"
   ]
  },
  {
   "cell_type": "markdown",
   "metadata": {},
   "source": [
    "<img src='notebooks/img/title.png'>"
   ]
  },
  {
   "cell_type": "markdown",
   "metadata": {},
   "source": [
    "# Table of Contents\n",
    "* [Conventions](#Conventions)\n",
    "\t* [Links](#Links)\n",
    "* [Anaconda Navigator](#Anaconda-Navigator)\n",
    "* [Conda Package manager](#Conda-Package-manager)\n",
    "* [Core Python](#Core-Python)\n",
    "\t* [Data Types](#Data-Types)\n",
    "\t* [Containers and Iteration](#Containers-and-Iteration)\n",
    "\t* [Reading and writing files](#Reading-and-writing-files)\n",
    "\t* [Deeper Python Knowledge](#Deeper-Python-Knowledge)\n",
    "\t* [Common Data Formats](#Common-Data-Formats)\n",
    "* [Standard Library](#Standard-Library)\n",
    "* [NumPy for Numerical computation](#NumPy-for-Numerical-computation)\n",
    "\t* [Advanced topics](#Advanced-topics)\n",
    "* [Pandas for Data Analysis](#Pandas-for-Data-Analysis)\n",
    "\t* [Data Structures](#Data-Structures)\n",
    "\t* [Indexing and Selections](#Indexing-and-Selections)\n",
    "\t* [Split - Apply - Combine](#Split---Apply---Combine)\n",
    "\t* [Time Series](#Time-Series)\n",
    "\t* [Further information](#Further-information)\n",
    "* [Visualization](#Visualization)\n",
    "* [Advanced Python](#Advanced-Python)\n",
    "\t* [Exception handling](#Exception-handling)\n",
    "\t* [Object-oriented Programming](#Object-oriented-Programming)\n",
    "\t* [Iterators and Generators](#Iterators-and-Generators)\n",
    "\t* [Decorators](#Decorators)\n",
    "\t* [Context Managers](#Context-Managers)\n"
   ]
  },
  {
   "cell_type": "markdown",
   "metadata": {},
   "source": [
    "# Conventions"
   ]
  },
  {
   "cell_type": "markdown",
   "metadata": {},
   "source": [
    "The following conventions will be used throughout this lecture."
   ]
  },
  {
   "cell_type": "markdown",
   "metadata": {},
   "source": [
    "<img src='notebooks/img/topics/Essential-Concept.png' align='left' style='padding:10x'>\n",
    "<br>\n",
    "<big><big><b>Essential Concept</b></big></big>"
   ]
  },
  {
   "cell_type": "markdown",
   "metadata": {},
   "source": [
    "<img src='notebooks/img/topics/Best-Practice.png' align='left' style='padding:10x'>\n",
    "<br>\n",
    "<big><big><b>Best Practice</b></big></big>"
   ]
  },
  {
   "cell_type": "markdown",
   "metadata": {},
   "source": [
    "<img src='notebooks/img/topics/Advanced-Concept.png' align='left' style='padding:10x'>\n",
    "<br>\n",
    "<big><big><b>Advanced Concept</b></big></big>"
   ]
  },
  {
   "cell_type": "markdown",
   "metadata": {},
   "source": [
    "<img src='notebooks/img/topics/Exercise.png' align='left' style='padding:10x'>\n",
    "<br>\n",
    "<big><big><b>Exercise</b></big></big>"
   ]
  },
  {
   "cell_type": "markdown",
   "metadata": {},
   "source": [
    "## Links"
   ]
  },
  {
   "cell_type": "markdown",
   "metadata": {},
   "source": [
    "<div class='btn btn-primary btn-lg'><u>Launch Jupyter Notebook</u></div>"
   ]
  },
  {
   "cell_type": "markdown",
   "metadata": {},
   "source": [
    "<font color='blue'><u><big><big><b>Link out to website</b></big></big></u></font>"
   ]
  },
  {
   "cell_type": "markdown",
   "metadata": {},
   "source": [
    "# Anaconda Navigator"
   ]
  },
  {
   "cell_type": "markdown",
   "metadata": {
    "collapsed": true
   },
   "source": [
    "<img src='notebooks/img/AnacondaNavigator_horizontal_RGB.png'>"
   ]
  },
  {
   "cell_type": "markdown",
   "metadata": {},
   "source": [
    "<div align='center'><big><big>https://docs.continuum.io/anaconda/navigator</big></big>"
   ]
  },
  {
   "cell_type": "markdown",
   "metadata": {},
   "source": [
    "> Anaconda Navigator is a desktop graphical user interface included in Anaconda that allows you to easily manage conda packages, environments and channels without the need to use the command line."
   ]
  },
  {
   "cell_type": "markdown",
   "metadata": {},
   "source": [
    "# Conda Package manager"
   ]
  },
  {
   "cell_type": "markdown",
   "metadata": {},
   "source": [
    "<img src='notebooks/img/conda_logo.svg'>"
   ]
  },
  {
   "cell_type": "markdown",
   "metadata": {},
   "source": [
    "<div align='center'><big><big>http://conda.pydata.org/docs/</big></big></div>"
   ]
  },
  {
   "cell_type": "markdown",
   "metadata": {},
   "source": [
    "> Conda is an open source package management system and environment management system for installing multiple versions of software packages and their dependencies and switching easily between them. It works on Linux, OS X and Windows, and was created for Python programs but can package and distribute any software."
   ]
  },
  {
   "cell_type": "markdown",
   "metadata": {},
   "source": [
    "<a href='notebooks/conda.ipynb' class='btn btn-primary btn-lg'>Conda environments</a>"
   ]
  },
  {
   "cell_type": "markdown",
   "metadata": {},
   "source": [
    "# Core Python"
   ]
  },
  {
   "cell_type": "markdown",
   "metadata": {},
   "source": [
    "<img src='notebooks/img/python-logo.png'>"
   ]
  },
  {
   "cell_type": "markdown",
   "metadata": {},
   "source": [
    "<div align='center'><big><big>http://python.org</big></big>"
   ]
  },
  {
   "cell_type": "markdown",
   "metadata": {},
   "source": [
    "> Python is a programming language that lets you work quickly and integrate systems more effectively."
   ]
  },
  {
   "cell_type": "markdown",
   "metadata": {},
   "source": [
    "<a href='notebooks/population_growth.ipynb' class='btn btn-primary btn-lg'>First example: population growth</a>"
   ]
  },
  {
   "cell_type": "markdown",
   "metadata": {},
   "source": [
    "## Data Types"
   ]
  },
  {
   "cell_type": "markdown",
   "metadata": {},
   "source": [
    "<a href='notebooks/datatypes.ipynb' class='btn btn-primary btn-lg'>Data Types</a>\n",
    "<a href='notebooks/datatypes_ex.ipynb' class='btn btn-primary'>Exercise</a>"
   ]
  },
  {
   "cell_type": "markdown",
   "metadata": {},
   "source": [
    "<a href='notebooks/essentials.ipynb' class='btn btn-primary btn-lg'>Import modules</a>\n",
    "<a href='notebooks/imports_ex.ipynb' class='btn btn-primary'>Exercise</a>"
   ]
  },
  {
   "cell_type": "markdown",
   "metadata": {},
   "source": [
    "## Containers and Iteration"
   ]
  },
  {
   "cell_type": "markdown",
   "metadata": {},
   "source": [
    "<a href='notebooks/flow_control.ipynb' class='btn btn-primary btn-lg'>Flow Control</a>\n",
    "<a href='notebooks/functions.ipynb' class='btn btn-primary btn-lg'>Functions<a>\n",
    "<a href='notebooks/functions_ex.ipynb' class='btn btn-primary'>Exercise</a>"
   ]
  },
  {
   "cell_type": "markdown",
   "metadata": {},
   "source": [
    "<a href='notebooks/containers.ipynb' class='btn btn-primary btn-lg'>Containers</a>\n",
    "<a href='notebooks/containers_ex.ipynb' class='btn btn-primary'>Exercise</a>"
   ]
  },
  {
   "cell_type": "markdown",
   "metadata": {},
   "source": [
    "<a href='notebooks/comprehensions.ipynb' class='btn btn-primary btn-lg'>Comprehensions<a>\n",
    "<a href='notebooks/comprehensions_ex.ipynb' class='btn btn-primary'>Exercise</a>"
   ]
  },
  {
   "cell_type": "markdown",
   "metadata": {},
   "source": [
    "## Reading and writing files"
   ]
  },
  {
   "cell_type": "markdown",
   "metadata": {},
   "source": [
    "<a href='notebooks/files.ipynb' class='btn btn-primary btn-lg'>File I/O<a>\n",
    "<a href='notebooks/stocks_ex.ipynb' class='btn btn-primary'>Exercise</a>"
   ]
  },
  {
   "cell_type": "markdown",
   "metadata": {},
   "source": [
    "## Deeper Python Knowledge"
   ]
  },
  {
   "cell_type": "markdown",
   "metadata": {},
   "source": [
    "<a href='notebooks/boolean.ipynb' class='btn btn-primary btn-lg'>Boolean Comparisons</a>\n",
    "<a href='notebooks/special_funcs.ipynb' class='btn btn-primary btn-lg'>Special Functions</a>"
   ]
  },
  {
   "cell_type": "markdown",
   "metadata": {},
   "source": [
    "<a href='notebooks/scalar_types.ipynb' class='btn btn-primary'>Scalar Types</a>\n",
    "<a href='notebooks/more_containers.ipynb' class='btn btn-primary'>Container methods</a>\n",
    "<a href='notebooks/more_iteration.ipynb' class='btn btn-primary'>Iteration</a>\n",
    "<a href='notebooks/more_io.ipynb' class='btn btn-primary'>I/O</a>"
   ]
  },
  {
   "cell_type": "markdown",
   "metadata": {},
   "source": [
    "<a href='notebooks/more_shells.ipynb' class='btn btn-primary btn-lg'>Scripts and Shells</a>"
   ]
  },
  {
   "cell_type": "markdown",
   "metadata": {},
   "source": [
    "## Common Data Formats"
   ]
  },
  {
   "cell_type": "markdown",
   "metadata": {},
   "source": [
    "<a href='notebooks/data_formats.ipynb' class='btn btn-primary btn-lg'>Read and Write Data</a>"
   ]
  },
  {
   "cell_type": "markdown",
   "metadata": {},
   "source": [
    "# Standard Library"
   ]
  },
  {
   "cell_type": "markdown",
   "metadata": {},
   "source": [
    "[All Standard library modules](https://docs.python.org/3/py-modindex.html)"
   ]
  },
  {
   "cell_type": "markdown",
   "metadata": {},
   "source": [
    "<a href='notebooks/std_containers.ipynb' class='btn btn-primary btn-lg'>Containers</a>\n",
    "<a href='notebooks/std_datetime.ipynb' class='btn btn-primary btn-lg'>Datetime</a>\n",
    "<a href='notebooks/std_regex.ipynb' class='btn btn-primary btn-lg'>Regular Expressions</a>"
   ]
  },
  {
   "cell_type": "markdown",
   "metadata": {},
   "source": [
    "<a href='notebooks/std_globs.ipynb' class='btn btn-primary btn-lg'>File Glob exercise</a>"
   ]
  },
  {
   "cell_type": "markdown",
   "metadata": {},
   "source": [
    "# NumPy for Numerical Computation"
   ]
  },
  {
   "cell_type": "markdown",
   "metadata": {},
   "source": [
    "<img src='notebooks/img/numpy_logo.png'>"
   ]
  },
  {
   "cell_type": "markdown",
   "metadata": {},
   "source": [
    "<a href='notebooks/Numpy_intro.ipynb' class='btn btn-primary btn-lg'>Introduction</a>"
   ]
  },
  {
   "cell_type": "markdown",
   "metadata": {},
   "source": [
    "<a href='notebooks/Numpy_slicing.ipynb' class='btn btn-primary btn-lg'>Array slicing</a>"
   ]
  },
  {
   "cell_type": "markdown",
   "metadata": {},
   "source": [
    "<a href='notebooks/Numpy_vectorization.ipynb' class='btn btn-primary btn-lg'>Vectorization</a>\n",
    "<a href='notebooks/Numpy_vect_ex.ipynb' class='btn btn-primary'>Exercise</a>"
   ]
  },
  {
   "cell_type": "markdown",
   "metadata": {},
   "source": [
    "<a href='notebooks/Numpy_fancy.ipynb' class='btn btn-primary btn-lg'>Boolean and Fancy selection</a>"
   ]
  },
  {
   "cell_type": "markdown",
   "metadata": {},
   "source": [
    "## Advanced topics"
   ]
  },
  {
   "cell_type": "markdown",
   "metadata": {},
   "source": [
    "<a href='notebooks/Numpy_advanced.ipynb' class='btn btn-primary'>Shaping and Broadcasting</a>\n",
    "<a href='notebooks/Numpy_reading.ipynb' class='btn btn-primary'>Reading data</a>\n",
    "<a href='notebooks/Numpy_packages.ipynb' class='btn btn-primary'>Computational packages</a>"
   ]
  },
  {
   "cell_type": "markdown",
   "metadata": {},
   "source": [
    "# Pandas for Data Analysis"
   ]
  },
  {
   "cell_type": "markdown",
   "metadata": {},
   "source": [
    "<img src='notebooks/img/pandas_logo.png'>"
   ]
  },
  {
   "cell_type": "markdown",
   "metadata": {},
   "source": [
    "<a href='./notebooks/Pandas_introduction.ipynb' class='btn btn-primary btn-lg'>Introduction</a>"
   ]
  },
  {
   "cell_type": "markdown",
   "metadata": {},
   "source": [
    "## Data Structures"
   ]
  },
  {
   "cell_type": "markdown",
   "metadata": {},
   "source": [
    "<a href='./notebooks/Pandas_structures.ipynb' class='btn btn-primary btn-lg'>Series and DataFrames</a>"
   ]
  },
  {
   "cell_type": "markdown",
   "metadata": {},
   "source": [
    "## Indexing and Selections"
   ]
  },
  {
   "cell_type": "markdown",
   "metadata": {},
   "source": [
    "<a href='./notebooks/Pandas_selection.ipynb' class='btn btn-primary btn-lg'>Examining Data</a>\n",
    "<a href='./notebooks/Pandas_fancy_ex.ipynb' class='btn btn-primary'>Exercise</a>"
   ]
  },
  {
   "cell_type": "markdown",
   "metadata": {},
   "source": [
    "<a href='./notebooks/Pandas_index.ipynb' class='btn btn-primary btn-lg'>Indexing</a>\n",
    "<a href='./notebooks/Pandas_index_ex.ipynb' class='btn btn-primary'>Exercise</a>"
   ]
  },
  {
   "cell_type": "markdown",
   "metadata": {},
   "source": [
    "## Split - Apply - Combine"
   ]
  },
  {
   "cell_type": "markdown",
   "metadata": {},
   "source": [
    "<a href='./notebooks/Pandas_groupby.ipynb' class='btn btn-primary btn-lg'>Groupby</a>\n",
    "<a href='./notebooks/Pandas_groupby_ex.ipynb' class='btn btn-primary'>Exercise</a>"
   ]
  },
  {
   "cell_type": "markdown",
   "metadata": {},
   "source": [
    "<a href='./notebooks/Pandas_pivot_tables.ipynb' class='btn btn-primary btn-lg'>Pivot Tables</a>"
   ]
  },
  {
   "cell_type": "markdown",
   "metadata": {},
   "source": [
    "<a href='./notebooks/Pandas_tidy.ipynb' class='btn btn-primary'>Tidy Data</a>"
   ]
  },
  {
   "cell_type": "markdown",
   "metadata": {},
   "source": [
    "## Time Series"
   ]
  },
  {
   "cell_type": "markdown",
   "metadata": {},
   "source": [
    "<a href='./notebooks/Pandas_timeseries.ipynb' class='btn btn-primary btn-lg'>Time Series</a>\n",
    "<a href='./notebooks/Pandas_timeseries_ex.ipynb' class='btn btn-primary'>Exercise</a>"
   ]
  },
  {
   "cell_type": "markdown",
   "metadata": {},
   "source": [
    "<a href='./notebooks/Pandas_missing.ipynb' class='btn btn-primary btn-lg'>Merge and Join</a>"
   ]
  },
  {
   "cell_type": "markdown",
   "metadata": {},
   "source": [
    "## Further information"
   ]
  },
  {
   "cell_type": "markdown",
   "metadata": {},
   "source": [
    "<a href='./notebooks/Pandas_io.ipynb' class='btn btn-primary'>Data Formats</a>\n",
    "<a href='./notebooks/Pandas_compute.ipynb' class='btn btn-primary'>Computation and Optimization</a>"
   ]
  },
  {
   "cell_type": "markdown",
   "metadata": {},
   "source": [
    "# Visualization"
   ]
  },
  {
   "cell_type": "markdown",
   "metadata": {},
   "source": [
    "<img src='notebooks/img/matplotlib.svg'>"
   ]
  },
  {
   "cell_type": "markdown",
   "metadata": {},
   "source": [
    "<a href='./notebooks/Pandas_plotting.ipynb' class='btn btn-primary btn-lg'>Pandas Plotting options</a>\n",
    "<a href='notebooks/Pandas_bar_ex.ipynb' class='btn btn-primary'>Exercise</a>"
   ]
  },
  {
   "cell_type": "markdown",
   "metadata": {},
   "source": [
    "<a href='./notebooks/Matplotlib_style_and_axes.ipynb' class='btn btn-primary btn-lg'>Adjusting plot elements</a>"
   ]
  },
  {
   "cell_type": "markdown",
   "metadata": {},
   "source": [
    "<a href='./notebooks/Matplotlib_subplots.ipynb' class='btn btn-primary btn-lg'>Subplots</a>\n",
    "<a href='./notebooks/Matplotlib_subplots_ex.ipynb' class='btn btn-primary'>Exercise</a>"
   ]
  },
  {
   "cell_type": "markdown",
   "metadata": {},
   "source": [
    "<img src='notebooks/img/topics/Advanced-Concept.png' align='left' style='padding:10px'>\n",
    "<br>\n",
    "<a href='./notebooks/Matplotlib_timeseries.ipynb' class='btn btn-primary'>Timeseries formatting</a>"
   ]
  },
  {
   "cell_type": "markdown",
   "metadata": {},
   "source": [
    "<img src='notebooks/img/copyright.png'>"
   ]
  }
 ],
 "metadata": {
  "anaconda-cloud": {},
  "kernelspec": {
   "display_name": "Python [Root]",
   "language": "python",
   "name": "Python [Root]"
  },
  "language_info": {
   "codemirror_mode": {
    "name": "ipython",
    "version": 3
   },
   "file_extension": ".py",
   "mimetype": "text/x-python",
   "name": "python",
   "nbconvert_exporter": "python",
   "pygments_lexer": "ipython3",
   "version": "3.5.2"
  }
 },
 "nbformat": 4,
 "nbformat_minor": 0
}
