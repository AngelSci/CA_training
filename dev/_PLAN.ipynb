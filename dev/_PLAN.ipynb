{
 "cells": [
  {
   "cell_type": "markdown",
   "metadata": {},
   "source": [
    "# Overall course plan\n",
    "\n",
    "* Day 1: \n",
    "    - Conda\n",
    "    - Navigator\n",
    "    - Dask \n",
    "    - Distributed\n",
    "    - Accelerate\n",
    "* Day 2:\n",
    "    - Bokeh\n",
    "    - Bokeh-Geo (as much as possible)\n",
    "* Day 3: \n",
    "    - IoPro\n",
    "    - Repository\n",
    "    - Anacanda Enterprise Notebooks (AEN)\n",
    "* Day 4:\n",
    "    - (finish) Bokeh-Geo\n",
    "    - DataShader\n",
    "    - Cluster\n",
    "\n",
    "# Setting up course environment\n",
    "\n",
    "There are several steps involved here because it is not simply a conda environement that is needed, but also a custom repository and AEN account.\n",
    "\n",
    "Let's look at each of these files before running them and understand their purpose.\n",
    "\n",
    "```\n",
    "conda env create\n",
    "activate iqt\n",
    "extra-pkgs.bat\n",
    "repo-setup.bat\n",
    "environment.bat\n",
    "```\n"
   ]
  }
 ],
 "metadata": {
  "anaconda-cloud": {},
  "kernelspec": {
   "display_name": "Python [conda env:iqt]",
   "language": "python",
   "name": "conda-env-iqt-py"
  },
  "language_info": {
   "codemirror_mode": {
    "name": "ipython",
    "version": 3
   },
   "file_extension": ".py",
   "mimetype": "text/x-python",
   "name": "python",
   "nbconvert_exporter": "python",
   "pygments_lexer": "ipython3",
   "version": "3.5.2"
  }
 },
 "nbformat": 4,
 "nbformat_minor": 0
}
