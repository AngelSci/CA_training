{
 "cells": [
  {
   "cell_type": "markdown",
   "metadata": {},
   "source": [
    "![\"Anaconda\"](img/anaconda-logo.png)\n",
    "<br>\n",
    "*Copyright Continuum 2012-2016 All Rights Reserved.*"
   ]
  },
  {
   "cell_type": "markdown",
   "metadata": {},
   "source": [
    "# Dask Dependency Graphs"
   ]
  },
  {
   "cell_type": "markdown",
   "metadata": {},
   "source": [
    "## Table of Contents\n",
    "* [Dask Dependency Graphs](#Dask-Dependency-Graphs)\n",
    "\t* [Set-up](#Set-up)\n",
    "* [Dask.array vs NumPy Array](#Dask.array-vs-NumPy-Array)\n",
    "\t* [1D Array of Ones](#1D-Array-of-Ones)\n",
    "\t* [2D Array: More Interesting Graphs](#2D-Array:-More-Interesting-Graphs)\n",
    "* [Execution Examples](#Execution-Examples)\n",
    "\t* [Embarrasingly Parallel](#Embarrasingly-Parallel)\n",
    "\t* [More Reduction Required](#More-Reduction-Required)\n"
   ]
  },
  {
   "cell_type": "markdown",
   "metadata": {},
   "source": [
    "## Set-up"
   ]
  },
  {
   "cell_type": "code",
   "execution_count": null,
   "metadata": {
    "collapsed": false
   },
   "outputs": [],
   "source": [
    "# Requires graphviz install\n",
    "# !conda install -y graphviz"
   ]
  },
  {
   "cell_type": "code",
   "execution_count": null,
   "metadata": {
    "collapsed": false
   },
   "outputs": [],
   "source": [
    "# from dask.dot import dot_graph"
   ]
  },
  {
   "cell_type": "markdown",
   "metadata": {},
   "source": [
    "\n",
    "Example using Dask.array to generate Dask graphs\n",
    "=============================\n",
    "\n",
    "This example builds intuition about block parallel algorithms for nd-arrays and how dask works by visualizing dask.array algorithms for increasingly complex computations.\n",
    "\n",
    "It tends to be a bit nicer to do with a side-by-side terminal and PDF viewer that auto-refreshes.  The GUI Graphviz client "
   ]
  },
  {
   "cell_type": "markdown",
   "metadata": {},
   "source": [
    "# Dask.array vs NumPy Array"
   ]
  },
  {
   "cell_type": "markdown",
   "metadata": {},
   "source": [
    "Dask.array looks and feels like NumPy"
   ]
  },
  {
   "cell_type": "code",
   "execution_count": null,
   "metadata": {
    "collapsed": true
   },
   "outputs": [],
   "source": [
    "import numpy as np\n",
    "import dask.array as da"
   ]
  },
  {
   "cell_type": "code",
   "execution_count": null,
   "metadata": {
    "collapsed": false
   },
   "outputs": [],
   "source": [
    "np.arange(10)"
   ]
  },
  {
   "cell_type": "code",
   "execution_count": null,
   "metadata": {
    "collapsed": false
   },
   "outputs": [],
   "source": [
    "da.arange(10, chunks=5)"
   ]
  },
  {
   "cell_type": "code",
   "execution_count": null,
   "metadata": {
    "collapsed": false
   },
   "outputs": [],
   "source": [
    "da.arange(10, chunks=5).compute()"
   ]
  },
  {
   "cell_type": "markdown",
   "metadata": {},
   "source": [
    "## 1D Array of Ones"
   ]
  },
  {
   "cell_type": "markdown",
   "metadata": {},
   "source": [
    "This breaks up an array of 15 ones into three blocks, each of size 5\n",
    "\n",
    "If doing this in the terminal add an appropriate filename to the `visualize` call like so\n",
    "\n",
    "    x.visualize('dask.pdf')"
   ]
  },
  {
   "cell_type": "code",
   "execution_count": null,
   "metadata": {
    "collapsed": false
   },
   "outputs": [],
   "source": [
    "x = da.ones(15, chunks=(5,))\n",
    "x.visualize('dask.dot')\n",
    "#x.visualize('dask.svg')"
   ]
  },
  {
   "cell_type": "code",
   "execution_count": null,
   "metadata": {
    "collapsed": true
   },
   "outputs": [],
   "source": [
    "# Depending on platform, we might be able to use Windows associations\n",
    "#!dask.dot\n",
    "# Or OSX utility `open`\n",
    "!open dask.dot\n",
    "# Or Linux utilities:\n",
    "#!xdg-open dask.dot\n",
    "#!mimeopen -d dask.dot"
   ]
  },
  {
   "cell_type": "code",
   "execution_count": null,
   "metadata": {
    "collapsed": false
   },
   "outputs": [],
   "source": [
    "(x + 1).visualize('dask.dot')\n",
    "#(x + 1).visualize('dask.svg')"
   ]
  },
  {
   "cell_type": "code",
   "execution_count": null,
   "metadata": {
    "collapsed": false
   },
   "outputs": [],
   "source": [
    "(x + 1).sum().visualize('dask.dot')\n",
    "#(x + 1).sum().visualize('dask.svg')"
   ]
  },
  {
   "cell_type": "markdown",
   "metadata": {},
   "source": [
    "## 2D Array: More Interesting Graphs"
   ]
  },
  {
   "cell_type": "markdown",
   "metadata": {},
   "source": [
    "This is a 15x15 array of ones, broken up into a 3x3 grid of blocks.  Each block has size 5x5."
   ]
  },
  {
   "cell_type": "code",
   "execution_count": null,
   "metadata": {
    "collapsed": false
   },
   "outputs": [],
   "source": [
    "x = da.ones((15, 15), chunks=(5, 5))\n",
    "x.visualize('dask.dot')\n",
    "#x.visualize('dask.svg')"
   ]
  },
  {
   "cell_type": "code",
   "execution_count": null,
   "metadata": {
    "collapsed": false
   },
   "outputs": [],
   "source": [
    "(x + 1).sum(axis=0).visualize('dask.dot')\n",
    "#(x + 1).sum(axis=0).visualize('dask.svg')"
   ]
  },
  {
   "cell_type": "code",
   "execution_count": null,
   "metadata": {
    "collapsed": false
   },
   "outputs": [],
   "source": [
    "# this one is fun to guess before you render it to the screen\n",
    "(x + x.T).visualize('dask.dot')\n",
    "#(x + x.T).visualize('dask.svg')"
   ]
  },
  {
   "cell_type": "code",
   "execution_count": null,
   "metadata": {
    "collapsed": false
   },
   "outputs": [],
   "source": [
    "# Now we just start showing off\n",
    "(x.dot(x.T)).visualize('dask.dot')\n",
    "#(x.dot(x.T)).visualize('dask.svg')"
   ]
  },
  {
   "cell_type": "code",
   "execution_count": null,
   "metadata": {
    "collapsed": false
   },
   "outputs": [],
   "source": [
    "(x.dot(x.T + 1)).visualize('dask.dot')\n",
    "#(x.dot(x.T + 1)).visualize('dask.svg')"
   ]
  },
  {
   "cell_type": "code",
   "execution_count": null,
   "metadata": {
    "collapsed": false
   },
   "outputs": [],
   "source": [
    "(x.dot(x.T + 1) - x.mean(axis=0)).visualize('dask.dot')\n",
    "#(x.dot(x.T + 1) - x.mean(axis=0)).visualize('dask.svg')"
   ]
  },
  {
   "cell_type": "code",
   "execution_count": null,
   "metadata": {
    "collapsed": false
   },
   "outputs": [],
   "source": [
    "(x.dot(x.T + 1) - x.mean(axis=0)).std().visualize('dask.dot')\n",
    "#(x.dot(x.T + 1) - x.mean(axis=0)).std().visualize('dask.svg')"
   ]
  },
  {
   "cell_type": "code",
   "execution_count": null,
   "metadata": {
    "collapsed": false
   },
   "outputs": [],
   "source": [
    "# This actually runs the computation, sending threads through the full graph, \n",
    "# executing all of the circles to produce our final result\n",
    "%time (x.dot(x.T + 1) - x.mean(axis=0)).std().compute()"
   ]
  },
  {
   "cell_type": "markdown",
   "metadata": {},
   "source": [
    "# Execution Examples"
   ]
  },
  {
   "cell_type": "markdown",
   "metadata": {},
   "source": [
    "The below animations reflect different procedures than illustrated above, but give a feel for the flow of computation on many cores.  "
   ]
  },
  {
   "cell_type": "markdown",
   "metadata": {},
   "source": [
    "## Embarrasingly Parallel"
   ]
  },
  {
   "cell_type": "markdown",
   "metadata": {},
   "source": [
    "First an embarrasingly parallel example:\n",
    "\n",
    "<img src=\"img/embarrassing.gif\"/>"
   ]
  },
  {
   "cell_type": "markdown",
   "metadata": {},
   "source": [
    "## More Reduction Required"
   ]
  },
  {
   "cell_type": "markdown",
   "metadata": {},
   "source": [
    "Not quite as optimal, but still resolved by Dask, are cases where more reduction steps are required:\n",
    "\n",
    "<img src=\"img/fail-case.gif\"/>"
   ]
  },
  {
   "cell_type": "markdown",
   "metadata": {},
   "source": [
    "<br>\n",
    "*Copyright Continuum 2012-2016 All Rights Reserved.*"
   ]
  }
 ],
 "metadata": {
  "anaconda-cloud": {},
  "kernelspec": {
   "display_name": "Python [conda env:iqt]",
   "language": "python",
   "name": "conda-env-iqt-py"
  },
  "language_info": {
   "codemirror_mode": {
    "name": "ipython",
    "version": 3
   },
   "file_extension": ".py",
   "mimetype": "text/x-python",
   "name": "python",
   "nbconvert_exporter": "python",
   "pygments_lexer": "ipython3",
   "version": "3.5.2"
  }
 },
 "nbformat": 4,
 "nbformat_minor": 0
}
