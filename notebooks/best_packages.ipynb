{
 "cells": [
  {
   "cell_type": "markdown",
   "metadata": {},
   "source": [
    "<img src='img/logo.png'>\n",
    "<img src='img/title.png'>\n",
    "<img src='img/py3k.png'>"
   ]
  },
  {
   "cell_type": "markdown",
   "metadata": {},
   "source": [
    "# Table of Contents\n",
    "* [Learning Objectives:](#Learning-Objectives:)\n",
    "* [From Scripts to Packages](#From-Scripts-to-Packages)\n",
    "\t* [Directory structure](#Directory-structure)\n",
    "\t* [`__init__.py`](#__init__.py)\n",
    "\t* [`__main__.py`](#__main__.py)\n",
    "* [Example project](#Example-project)\n",
    "\t* [Exercise 1](#Exercise-1)\n",
    "\t* [Exercise 2](#Exercise-2)\n",
    "* [Python Packages](#Python-Packages)\n",
    "\t* [Setuptools](#Setuptools)\n",
    "\t\t* [More information](#More-information)\n",
    "\t* [Conda recipe](#Conda-recipe)\n",
    "\t* [Exercise 1](#Exercise-1)\n",
    "\t* [Exercise 2](#Exercise-2)\n"
   ]
  },
  {
   "cell_type": "markdown",
   "metadata": {},
   "source": [
    "# Learning Objectives:"
   ]
  },
  {
   "cell_type": "markdown",
   "metadata": {},
   "source": [
    "After completion of this module, learners should be able to:\n",
    "\n",
    "* Distinguish a script, a module and a package in python\n",
    "* Refactor scripts into re-usable modules\n",
    "* Create a package from a collection of modules\n",
    "* Create a setup.py file for the package\n",
    "* Create a conda recipe for the package\n",
    "* Install and test the package in a python environment"
   ]
  },
  {
   "cell_type": "markdown",
   "metadata": {},
   "source": [
    "# From Scripts to Packages"
   ]
  },
  {
   "cell_type": "markdown",
   "metadata": {},
   "source": [
    "Previously in this course we learned a great deal about parsing command line arguments, reading data from files, preparing efficient data structures, doing computation and displaying results. Generally, these actions were performed in Jupyter notebooks or script files.\n",
    "\n",
    "* A **script** is a unit of python code that is executed from a single file. It need not use functions.\n",
    "\n",
    "We learned that **scripts** can also be used as **modules** in other scripts\n",
    "\n",
    "* A **module** is a unit of python code that can be be *imported* into other python code files. It need not be directly executable as a script.\n",
    "\n",
    "In this module we will learn how to transform **scripts** into **modules** and prepare a **package**.\n",
    "\n",
    "* A **package** is a collection of python **modules** that can be *installed* as a whole using a package manager. A package need not provide executable scripts, but should provide some testing capabilities."
   ]
  },
  {
   "cell_type": "markdown",
   "metadata": {},
   "source": [
    "## Directory structure"
   ]
  },
  {
   "cell_type": "markdown",
   "metadata": {},
   "source": [
    "```\n",
    "package/\n",
    "  README\n",
    "  setup.py\n",
    "  \n",
    "  package/\n",
    "    __init__.py\n",
    "    __main__.py\n",
    "    module1/\n",
    "      __init__.py\n",
    "      classes.py\n",
    "    module2/\n",
    "      __init__.py\n",
    "      funcs.py\n",
    "      tests/\n",
    "        test2.py\n",
    "      \n",
    "  tests/\n",
    "    global_tests.py\n",
    "```    "
   ]
  },
  {
   "cell_type": "markdown",
   "metadata": {},
   "source": [
    "## `__init__.py`"
   ]
  },
  {
   "cell_type": "markdown",
   "metadata": {},
   "source": [
    "The `__init__.py` file controls what functions get imported and any code that is run during\n",
    "\n",
    "```python\n",
    "import package\n",
    "```"
   ]
  },
  {
   "cell_type": "markdown",
   "metadata": {},
   "source": [
    "In many cases this can be blank. It just informs Python that this directory contains module files can can be imported."
   ]
  },
  {
   "cell_type": "markdown",
   "metadata": {},
   "source": [
    "For packages with multiple subdirectories the `__init__.py` file can be used to perform relative imports and expose certain methods or classes in the API after import."
   ]
  },
  {
   "cell_type": "markdown",
   "metadata": {},
   "source": [
    "For the above project the `package/__init__.py` file can be written using relative imports \n",
    "\n",
    "```python\n",
    "from . import module1\n",
    "from . import module2\n",
    "```"
   ]
  },
  {
   "cell_type": "markdown",
   "metadata": {},
   "source": [
    "With this `__init__.py` file the submodules `module1` and `module2` are automatically imported with the user runs `import package`."
   ]
  },
  {
   "cell_type": "markdown",
   "metadata": {},
   "source": [
    "If `function2` in from `module2/funcs.py` requires the `class1` that has been defined in `module1/classes.py` then the `module2/__init__.py` can use relative imports\n",
    "\n",
    "```python\n",
    "from . import funcB\n",
    "from ..module1.classA import class1\n",
    "```"
   ]
  },
  {
   "cell_type": "markdown",
   "metadata": {},
   "source": [
    "Alternatively, the `package/__init__.py` file can be used to expose only certain definitions from lower-level modules.\n",
    "\n",
    "This `__init__.py` file exposes `class2` and `function2` from `module1` and `module2` as `package.class2` and `package.function2` when the user runs `import package`.\n",
    "\n",
    "```python\n",
    "from .module1.classes import class2\n",
    "from .module2.funcs import function2\n",
    "```\n",
    "\n",
    "The user will still be able to access all of the other definitions using `package.module1.classes` and `package.module2.funcs`."
   ]
  },
  {
   "cell_type": "markdown",
   "metadata": {},
   "source": [
    "## `__main__.py`"
   ]
  },
  {
   "cell_type": "markdown",
   "metadata": {},
   "source": [
    "The `__main__.py` file defines an python script that can be installed as a stand-alone executable. This script can import any required objects from the module files and generally defines the Command Line Interface. It is considered best practice to also include the following in script itself.\n",
    "\n",
    "```python\n",
    "if __name__ == '__main__':\n",
    "```"
   ]
  },
  {
   "cell_type": "markdown",
   "metadata": {},
   "source": [
    "# Example project"
   ]
  },
  {
   "cell_type": "markdown",
   "metadata": {
    "collapsed": true
   },
   "source": [
    "Look at the `src/qStats` directory. This is a clone of the [qStats2 project](https://github.com/AlbertDeFusco/qStats2) to generate reports of HPC cluster utilization.\n",
    "\n",
    "This project shows a common organization of a Python package."
   ]
  },
  {
   "cell_type": "markdown",
   "metadata": {},
   "source": [
    "## Exercise 1"
   ]
  },
  {
   "cell_type": "markdown",
   "metadata": {},
   "source": [
    "* Practice running `python setup.py`. Where does the package get installed? What happens when you change conda environments?"
   ]
  },
  {
   "cell_type": "markdown",
   "metadata": {},
   "source": [
    "## Exercise 2"
   ]
  },
  {
   "cell_type": "markdown",
   "metadata": {},
   "source": [
    "<img src='img/topics/Advanced-Concept.png' align='left' style='padding:10px'>\n",
    "Refactor the code\n",
    "-----------------"
   ]
  },
  {
   "cell_type": "markdown",
   "metadata": {},
   "source": [
    "1. Refactor the code in `__main__.py` into a module called `qStats/qstats/reports.py` that defines at least two separate functions (or maybe classes) to make a Group Report and a Queue Report. A report should take simple arguments and automate reading the necessary files.\n",
    "\n",
    "2. Can you write tests for these methods?"
   ]
  },
  {
   "cell_type": "markdown",
   "metadata": {},
   "source": [
    "# Python Packages"
   ]
  },
  {
   "cell_type": "markdown",
   "metadata": {},
   "source": [
    "## Setuptools"
   ]
  },
  {
   "cell_type": "markdown",
   "metadata": {},
   "source": [
    "Here is a simple `setup.py` file. It defines\n",
    "* what directories contain packages\n",
    "* where data files are stored\n",
    "* where *entry* points are defined\n",
    "  * entry points are command line executable"
   ]
  },
  {
   "cell_type": "markdown",
   "metadata": {},
   "source": [
    "```python\n",
    "from setuptools import setup\n",
    "\n",
    "setup( name='qStats',\n",
    "        version='0.1',\n",
    "        description='Moab queue stat report generator',\n",
    "        author='Albert DeFusco',\n",
    "        license='MIT',\n",
    "        packages=['qstats'],\n",
    "\n",
    "        package_data= {\n",
    "            'qstats.tests' : ['data/*']\n",
    "            },\n",
    "\n",
    "        entry_points = {\n",
    "            'scripts':'qstats = qstats.__main__:main'\n",
    "            }\n",
    "\n",
    "        )\n",
    "```"
   ]
  },
  {
   "cell_type": "markdown",
   "metadata": {},
   "source": [
    "Python packages are installed using\n",
    "\n",
    "```\n",
    "> python setup.py\n",
    "```"
   ]
  },
  {
   "cell_type": "markdown",
   "metadata": {},
   "source": [
    "### More information"
   ]
  },
  {
   "cell_type": "markdown",
   "metadata": {},
   "source": [
    "* use `find_package()` from `setuptools` to scan for all directories with `__init__.py` files"
   ]
  },
  {
   "cell_type": "markdown",
   "metadata": {},
   "source": [
    "## Conda recipe"
   ]
  },
  {
   "cell_type": "markdown",
   "metadata": {},
   "source": [
    "The `meta.yaml` file is called a [conda build recipe](http://conda.pydata.org/docs/building/recipe.html) it defines\n",
    "* the package name\n",
    "* the package version\n",
    "* required conda packages to build and run\n",
    "* test scripts and imports\n",
    "\n",
    "The source can be a relative path within the package or URL addresses like pypi and Github."
   ]
  },
  {
   "cell_type": "markdown",
   "metadata": {},
   "source": [
    "```yaml\n",
    "package:\n",
    "  name: qstats\n",
    "  version: \"0.1\"\n",
    "\n",
    "source:\n",
    "  path: ./\n",
    "\n",
    "build:\n",
    "  script: python setup.py install\n",
    "  entry_points:\n",
    "    - qstats = qstats.__main__:main\n",
    "\n",
    "requirements:\n",
    "  build:\n",
    "    - python\n",
    "    - setuptools\n",
    "  run:\n",
    "    - python\n",
    "\n",
    "test:\n",
    "  imports:\n",
    "    - qstats\n",
    "```"
   ]
  },
  {
   "cell_type": "markdown",
   "metadata": {},
   "source": [
    "Conda packages are built using\n",
    "\n",
    "```\n",
    "> conda-build .\n",
    "```"
   ]
  },
  {
   "cell_type": "markdown",
   "metadata": {},
   "source": [
    "The packages are either uploaded to [Anaconda Cloud](http://anaconda.org), your private Anaconda Repository or isntalled locally.\n",
    "\n",
    "```\n",
    "> conda install qstats --use-local\n",
    "```"
   ]
  },
  {
   "cell_type": "markdown",
   "metadata": {},
   "source": [
    "## Exercise 1"
   ]
  },
  {
   "cell_type": "markdown",
   "metadata": {},
   "source": [
    "<img src='img/topics/Exercise.png' align='left' style='padding:10px'>\n",
    "<br>\n",
    "In `notebooks/src/qStats` practice building and installing the package."
   ]
  },
  {
   "cell_type": "markdown",
   "metadata": {},
   "source": [
    "## Exercise 2"
   ]
  },
  {
   "cell_type": "markdown",
   "metadata": {},
   "source": [
    "<img src='img/topics/Advanced-Concept.png' align='left' style='padding:10px'>\n",
    "<br>\n",
    "Build a package called `great_circle` from the distancing code we have been working on"
   ]
  },
  {
   "cell_type": "markdown",
   "metadata": {},
   "source": [
    "Using the template `great_circle` package in `notebooks/src/great_circle/` add the following items:\n",
    "* `__init__.py`\n",
    "* `setup.py`\n",
    "* `meta.yaml`\n",
    "\n",
    "Use conda-build to build and install the package in a new conda environment."
   ]
  },
  {
   "cell_type": "markdown",
   "metadata": {},
   "source": [
    "<img src='img/copyright.png'>"
   ]
  }
 ],
 "metadata": {
  "anaconda-cloud": {},
  "continuum": {
   "depends": [
    "tools_cli",
    "tools_conv",
    "tools_modules",
    "tools_scripts"
   ],
   "requires": [
    "src/*",
    "src/qStats2/*",
    "src/qStats2/qstats/*"
   ],
   "tag": "tools_pkg"
  },
  "kernelspec": {
   "display_name": "Python [conda env:anaconda_training]",
   "language": "python",
   "name": "conda-env-anaconda_training-py"
  },
  "language_info": {
   "codemirror_mode": {
    "name": "ipython",
    "version": 3
   },
   "file_extension": ".py",
   "mimetype": "text/x-python",
   "name": "python",
   "nbconvert_exporter": "python",
   "pygments_lexer": "ipython3",
   "version": "3.5.2"
  }
 },
 "nbformat": 4,
 "nbformat_minor": 0
}
