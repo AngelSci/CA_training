{
 "cells": [
  {
   "cell_type": "markdown",
   "metadata": {},
   "source": [
    "<img src='img/logo.png' />"
   ]
  },
  {
   "cell_type": "markdown",
   "metadata": {},
   "source": [
    "<img src='img/title.png'>"
   ]
  },
  {
   "cell_type": "markdown",
   "metadata": {},
   "source": [
    "<img src='img/py3k.png'>"
   ]
  },
  {
   "cell_type": "markdown",
   "metadata": {},
   "source": [
    "# Table of Contents\n",
    "* [Exercise: module imports](#Exercise:-module-imports)\n",
    "\t* [Sub modules](#Sub-modules)"
   ]
  },
  {
   "cell_type": "markdown",
   "metadata": {},
   "source": [
    "# Exercise: module imports"
   ]
  },
  {
   "cell_type": "markdown",
   "metadata": {},
   "source": [
    "Write the correct import expressions to make the following cells work. The cell will print OK if it worked."
   ]
  },
  {
   "cell_type": "code",
   "execution_count": null,
   "metadata": {
    "collapsed": true
   },
   "outputs": [],
   "source": [
    "# import something here\n",
    "\n",
    "def radians_to_degrees(radian):\n",
    "    return 360*radian/2./math.pi\n",
    "\n",
    "if ((radians_to_degrees(2) - 114.591) < 1e-3):\n",
    "    print(\"OK\")"
   ]
  },
  {
   "cell_type": "markdown",
   "metadata": {},
   "source": [
    "This cell requires a function from the `statistics` module."
   ]
  },
  {
   "cell_type": "code",
   "execution_count": null,
   "metadata": {
    "collapsed": true
   },
   "outputs": [],
   "source": [
    "# import somthing here\n",
    "\n",
    "numbers = [1, 2, 8, 10, 2, 4]\n",
    "\n",
    "if mean(numbers) == 4.5:\n",
    "    print(\"OK\")"
   ]
  },
  {
   "cell_type": "markdown",
   "metadata": {},
   "source": [
    "Here's an alternate version of the previous cell"
   ]
  },
  {
   "cell_type": "code",
   "execution_count": null,
   "metadata": {
    "collapsed": true
   },
   "outputs": [],
   "source": [
    "# import somthing here\n",
    "\n",
    "numbers = [1, 2, 8, 10, 2, 4]\n",
    "\n",
    "if stats.mean(numbers) == 4.5:\n",
    "    print(\"OK\")"
   ]
  },
  {
   "cell_type": "markdown",
   "metadata": {},
   "source": [
    "## Sub modules"
   ]
  },
  {
   "cell_type": "markdown",
   "metadata": {},
   "source": [
    "The `urllib` *package*, used to retrieve information from the web, contains several *sub-modules* that each contain *member functions*. We need the function named `urlopen`. It is in the following hierarchy\n",
    "\n",
    "```\n",
    "urllib.request.urlopen\n",
    " ^        ^       ^\n",
    " |        |        function\n",
    " |        |\n",
    " |        module\n",
    " |\n",
    " package\n",
    "```"
   ]
  },
  {
   "cell_type": "markdown",
   "metadata": {},
   "source": [
    "Setup the correct import commands for the cell to display the HTML source of the web site. There is more than one way to do this. Can you come up with two different ways?"
   ]
  },
  {
   "cell_type": "code",
   "execution_count": null,
   "metadata": {
    "collapsed": true
   },
   "outputs": [],
   "source": [
    "# import something here\n",
    "\n",
    "url = 'http://www.w3schools.com/html/lastpage.htm'\n",
    "\n",
    "# use the urlopen function here; it takes url as the only argument\n",
    "html = \n",
    "\n",
    "print(html.read().decode('utf-8'))"
   ]
  },
  {
   "cell_type": "markdown",
   "metadata": {},
   "source": [
    "----\n",
    "<a href='imports_soln.ipynb' class='btn btn-primary'>Solution</a>"
   ]
  },
  {
   "cell_type": "markdown",
   "metadata": {},
   "source": [
    "<img src='img/copyright.png'>"
   ]
  }
 ],
 "metadata": {
  "anaconda-cloud": {},
  "kernelspec": {
   "display_name": "Python [conda env:anaconda_training]",
   "language": "python",
   "name": "conda-env-anaconda_training-py"
  },
  "language_info": {
   "codemirror_mode": {
    "name": "ipython",
    "version": 3
   },
   "file_extension": ".py",
   "mimetype": "text/x-python",
   "name": "python",
   "nbconvert_exporter": "python",
   "pygments_lexer": "ipython3",
   "version": "3.5.2"
  }
 },
 "nbformat": 4,
 "nbformat_minor": 0
}
