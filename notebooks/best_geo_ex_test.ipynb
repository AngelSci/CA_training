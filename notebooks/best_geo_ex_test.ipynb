{
 "cells": [
  {
   "cell_type": "markdown",
   "metadata": {},
   "source": [
    "<img src='img/logo.png'>\n",
    "<img src='img/title.png'>\n",
    "<img src='img/py3k.png'>"
   ]
  },
  {
   "cell_type": "markdown",
   "metadata": {},
   "source": [
    "# Table of Contents\n",
    "* [Learning Objectives](#Learning-Objectives)\n",
    "* [Calculate whether a point is in a polygon](#Calculate-whether-a-point-is-in-a-polygon)\n",
    "\t* [Create unit tests for the `point_in_poly()` function](#Create-unit-tests-for-the-point_in_poly%28%29-function)\n",
    "\t* [Write a `doctring` and adequate documentation of the `point_in_poly()` function](#Write-a-doctring-and-adequate-documentation-of-the-point_in_poly%28%29-function)\n",
    "\t* [Refactor the function to reflect cleaner Python coding style](#Refactor-the-function-to-reflect-cleaner-Python-coding-style)\n"
   ]
  },
  {
   "cell_type": "markdown",
   "metadata": {},
   "source": [
    "# Learning Objectives"
   ]
  },
  {
   "cell_type": "markdown",
   "metadata": {},
   "source": [
    "* Add unit tests to code\n",
    "* Add documentation to code\n",
    "* Refactor the code\n",
    "* Develop library functionality with pair programming\n",
    "* Practice modular code design"
   ]
  },
  {
   "cell_type": "markdown",
   "metadata": {},
   "source": [
    "**The series of exercises in the Geospatial series are intended to present a realistically difficult set of development problems.  These exercises might take a half day or more for a class to work on extensively.**"
   ]
  },
  {
   "cell_type": "markdown",
   "metadata": {},
   "source": [
    "# Calculate whether a point is in a polygon"
   ]
  },
  {
   "cell_type": "markdown",
   "metadata": {},
   "source": [
    "This code was found at http://geospatialpython.com/2011/01/point-in-polygon.html, and uses the same algorithm found in numerous places.  It is documented concisely as:\n",
    "\n",
    "> Determine if a point is inside a given polygon or notvPolygon is a list of (x,y) pairs. This function returns True or False.  The algorithm is called the \"Ray Casting Method\".\n",
    "\n",
    "While I understand the concept of the ray casting method intuitive enough, I find this code to be difficult to read and undocumented.  I believe it is correct, but it leaves room for improvement in coding practices."
   ]
  },
  {
   "cell_type": "code",
   "execution_count": null,
   "metadata": {
    "collapsed": true
   },
   "outputs": [],
   "source": [
    "def point_in_poly(x, y, poly):\n",
    "    n = len(poly)\n",
    "    inside = False\n",
    "    p1x, p1y = poly[0]\n",
    "    for i in range(n+1):\n",
    "        p2x, p2y = poly[i % n]\n",
    "        if y > min(p1y, p2y):\n",
    "            if y <= max(p1y, p2y):\n",
    "                if x <= max(p1x, p2x):\n",
    "                    if p1y != p2y:\n",
    "                        xints = (y-p1y)*(p2x-p1x)/(p2y-p1y)+p1x\n",
    "                    if p1x == p2x or x <= xints:\n",
    "                        inside = not inside\n",
    "        p1x, p1y = p2x, p2y\n",
    "        \n",
    "    return inside"
   ]
  },
  {
   "cell_type": "markdown",
   "metadata": {},
   "source": [
    "The basic test provided shows the API of the function, and produces a correct result in the single case."
   ]
  },
  {
   "cell_type": "code",
   "execution_count": null,
   "metadata": {
    "collapsed": false
   },
   "outputs": [],
   "source": [
    "## Test\n",
    "polygon = [(0,10),(10,10),(10,0),(0,0)]\n",
    "\n",
    "point_x = 5\n",
    "point_y = 5\n",
    "\n",
    "## Call the function with the points and the polygon\n",
    "point_in_poly(point_x, point_y, polygon)"
   ]
  },
  {
   "cell_type": "markdown",
   "metadata": {},
   "source": [
    "## Write a `doctring` and adequate documentation of the `point_in_poly()` function"
   ]
  },
  {
   "cell_type": "markdown",
   "metadata": {},
   "source": [
    "A new developer encountering this code will likely take a while to figure out its logic.  A well chosen docstring and/or some inline documentation can make this easier to understand.  Please add those."
   ]
  },
  {
   "cell_type": "markdown",
   "metadata": {},
   "source": [
    "## Create unit tests for the `point_in_poly()` function"
   ]
  },
  {
   "cell_type": "markdown",
   "metadata": {},
   "source": [
    "Using one of the unit test frameworks we have discussed, write a set of correctness tests for the function that exercise edge cases you may think of.  Writing these tests will help us when we further refactor the code to assure consistent behavior—or to understand exactly *why* we have fixed problem behavior in the original implementation.\n",
    "\n",
    "You may consider using visualization while you construct your unit tests."
   ]
  },
  {
   "cell_type": "markdown",
   "metadata": {},
   "source": [
    "## Refactor the function to reflect cleaner Python coding style"
   ]
  },
  {
   "cell_type": "markdown",
   "metadata": {},
   "source": [
    "Is the API of the function as well self-documenting and reusable as you would like? If not, let's modify it.  Is the code within the function body as readable and clean as it should be? If not, let's improve it for readability and functionality.  Did you encounter any problems or edge cases when you designed unit tests? If so, document those and/or change the functionality to the behavior you think is most useful."
   ]
  },
  {
   "cell_type": "markdown",
   "metadata": {},
   "source": [
    "<img src='img/copyright.png'>"
   ]
  }
 ],
 "metadata": {
  "continuum": {
   "depends": [
    "tools_refactoring"
   ],
   "requires": [],
   "tag": "tools_ex_geo1"
  },
  "kernelspec": {
   "display_name": "Python [conda env:anaconda_training]",
   "language": "python",
   "name": "conda-env-anaconda_training-py"
  },
  "language_info": {
   "codemirror_mode": {
    "name": "ipython",
    "version": 3
   },
   "file_extension": ".py",
   "mimetype": "text/x-python",
   "name": "python",
   "nbconvert_exporter": "python",
   "pygments_lexer": "ipython3",
   "version": "3.4.5"
  }
 },
 "nbformat": 4,
 "nbformat_minor": 0
}
