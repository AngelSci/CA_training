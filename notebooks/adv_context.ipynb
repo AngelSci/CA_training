{
 "cells": [
  {
   "cell_type": "markdown",
   "metadata": {},
   "source": [
    "<img src='img/logo.png' />"
   ]
  },
  {
   "cell_type": "markdown",
   "metadata": {},
   "source": [
    "<img src='img/title.png'>"
   ]
  },
  {
   "cell_type": "markdown",
   "metadata": {},
   "source": [
    "<img src='img/py3k.png'>"
   ]
  },
  {
   "cell_type": "markdown",
   "metadata": {},
   "source": [
    "# Table of Contents\n",
    "* [Context Managers](#Context-Managers)\n",
    "\t* [Exercise](#Exercise)"
   ]
  },
  {
   "cell_type": "markdown",
   "metadata": {},
   "source": [
    "# Context Managers"
   ]
  },
  {
   "cell_type": "code",
   "execution_count": null,
   "metadata": {
    "collapsed": true
   },
   "outputs": [],
   "source": [
    "# You may have seen code that opens a file like this\n",
    "with open('tmp/advPython_test', 'w') as fi:\n",
    "    fi.write(\"Hello\")"
   ]
  },
  {
   "cell_type": "markdown",
   "metadata": {},
   "source": [
    "The ```with``` keyword was added in Python 2.5 with PEP343.  These blocks of code are called \"context managers\".  We set up a context for opening a file and execute a few lines.  As soon as execution leaves the ```with``` block, the file is safely closed.\n",
    "\n",
    "Context managers are special classes with two magic methods: ```__enter__()``` and ```__exit__()```.  The purpose of these managers is to factor out often used try/finally clauses to make the code more readable."
   ]
  },
  {
   "cell_type": "code",
   "execution_count": null,
   "metadata": {
    "collapsed": true
   },
   "outputs": [],
   "source": [
    "# Equivalent to the code above\n",
    "try:\n",
    "    fi = open('tmp/advPython_test', 'w')\n",
    "    fi.write(\"Hello\")\n",
    "finally:\n",
    "    fi.close()"
   ]
  },
  {
   "cell_type": "markdown",
   "metadata": {},
   "source": [
    "Context managers allow blocks of code to have a setup/initization phase, execution, and finally, a cleanup phase."
   ]
  },
  {
   "cell_type": "code",
   "execution_count": null,
   "metadata": {
    "collapsed": true
   },
   "outputs": [],
   "source": [
    "class my_context(object):\n",
    "    def __init__(self):\n",
    "        print(\"Initializing context\")\n",
    "        \n",
    "    def __enter__(self):\n",
    "        print(\"Entering context\")\n",
    "        # this becomes bound to the variable in the context manager\n",
    "        return 42\n",
    "        \n",
    "    def __exit__(self, type, value, traceback):\n",
    "        print(\"Exiting context\")"
   ]
  },
  {
   "cell_type": "code",
   "execution_count": null,
   "metadata": {
    "collapsed": true
   },
   "outputs": [],
   "source": [
    "with my_context() as t:\n",
    "    print(\"The answer is\", t)"
   ]
  },
  {
   "cell_type": "markdown",
   "metadata": {},
   "source": [
    "The ```contextlib``` module in the standard library includes some useful context managers as well as a decorator that can turn a generator into a context manager.  Documentation for the ```contextlib``` module can be found here: https://docs.python.org/3/library/contextlib.html"
   ]
  },
  {
   "cell_type": "code",
   "execution_count": null,
   "metadata": {
    "collapsed": true
   },
   "outputs": [],
   "source": [
    "import contextlib\n",
    "\n",
    "@contextlib.contextmanager\n",
    "def my_context2():\n",
    "    # Nice idea to wrap in try/except/finally block to have error handling\n",
    "    try:    \n",
    "        print(\"Entering context\")\n",
    "        # This is the where we give control to the block of code\n",
    "        # in the context manager.\n",
    "        # The value we yield is bound to the context variable.\n",
    "        yield 42\n",
    "    finally:\n",
    "        print(\"Exiting context\")"
   ]
  },
  {
   "cell_type": "code",
   "execution_count": null,
   "metadata": {
    "collapsed": true
   },
   "outputs": [],
   "source": [
    "with my_context2() as t:\n",
    "    print(\"The answer generated is\", t)"
   ]
  },
  {
   "cell_type": "markdown",
   "metadata": {},
   "source": [
    "We can nest context managers.\n",
    "\n",
    "```\n",
    "with manager(), manager1():\n",
    "    <code block>\n",
    "```"
   ]
  },
  {
   "cell_type": "markdown",
   "metadata": {},
   "source": [
    "is equivalent to \n",
    "```\n",
    "with manager():\n",
    "    with manager1():\n",
    "       <code block>\n",
    "```"
   ]
  },
  {
   "cell_type": "markdown",
   "metadata": {},
   "source": [
    "Some of the interesting context managers in the ```contextlib``` module are:\n",
    "  * ```closing```: useful for closeable resources.\n",
    "  * ```ExitStack```: useful for managing a stack of context managers (Python 3 only)"
   ]
  },
  {
   "cell_type": "markdown",
   "metadata": {},
   "source": [
    "`ExitStack` can help you manage multiple context managers, like opening mulitple files or obtaining multiple locks.  The `ExitStack` context manager also allows you to register custom callback functions."
   ]
  },
  {
   "cell_type": "code",
   "execution_count": null,
   "metadata": {
    "collapsed": true
   },
   "outputs": [],
   "source": [
    "@contextlib.contextmanager\n",
    "def manager(x):\n",
    "    print(\"Entering Manager\", x)\n",
    "    yield\n",
    "    print(\"Exiting Manager\", x)\n",
    "\n",
    "def callback(x):\n",
    "    print(\"Executing callback\", x)\n",
    "\n",
    "with contextlib.ExitStack() as stack:\n",
    "    stack.enter_context(manager(0))\n",
    "    stack.callback(callback, 0)\n",
    "    stack.enter_context(manager(1))\n",
    "    stack.enter_context(manager(2))\n",
    "    print(\"Should I do some work here?\")"
   ]
  },
  {
   "cell_type": "markdown",
   "metadata": {},
   "source": [
    "## Exercise"
   ]
  },
  {
   "cell_type": "markdown",
   "metadata": {},
   "source": [
    "In this exercise we will use Python's `timeit` module to write a context manager that will time the execution of a block of code.\n",
    "\n",
    "With Python's timeit module, we can time small snippets of code."
   ]
  },
  {
   "cell_type": "code",
   "execution_count": null,
   "metadata": {
    "collapsed": true
   },
   "outputs": [],
   "source": [
    "from timeit import timeit\n",
    "timeit('min(range(1000))', number=1000)"
   ]
  },
  {
   "cell_type": "markdown",
   "metadata": {},
   "source": [
    "`timeit.timeit` can also accept a callable object that accepts no arguments.  The one important detail is the function that takes no arguments.  Typically the functions that we want to time require arguments.  Is there a way we can \"freeze\" the arguments of a function?  Turns out that, there is a very nice solution.  We can use either `lambda` functions or `partial` functions (from `functools`).\n",
    "\n",
    "The idea is we want to create a new function that is equivalent to another function called with a specific set of arguements.\n",
    "```python\n",
    "def g(a, b, c):\n",
    "    return a**2 + b**2 == c**2\n",
    "    \n",
    "def h():\n",
    "    return g(3, 4, 5)\n",
    "```"
   ]
  },
  {
   "cell_type": "markdown",
   "metadata": {},
   "source": [
    "We can say that `h()` is equivalent to `g(a=3, b=4, c=5)`.\n",
    "Below are more general ways of accomplishing this argument \"freeze\""
   ]
  },
  {
   "cell_type": "code",
   "execution_count": null,
   "metadata": {
    "collapsed": true
   },
   "outputs": [],
   "source": [
    "func = min\n",
    "args = (range(1000),)\n",
    "kwargs = {}"
   ]
  },
  {
   "cell_type": "code",
   "execution_count": null,
   "metadata": {
    "collapsed": true
   },
   "outputs": [],
   "source": [
    "h = lambda: func(*args, **kwargs)\n",
    "timeit(h, number=1000)"
   ]
  },
  {
   "cell_type": "code",
   "execution_count": null,
   "metadata": {
    "collapsed": true
   },
   "outputs": [],
   "source": [
    "from functools import partial\n",
    "h = partial(func, *args, **kwargs)\n",
    "timeit(h, number=1000)"
   ]
  },
  {
   "cell_type": "markdown",
   "metadata": {},
   "source": [
    "We want to write a context manager that will allow us to time aribitrary functions with arbitrary arguments and keyword arguments.  The goal is to make such timings natural and easy-to-do.\n",
    "\n",
    "```python\n",
    "with Timer(number=1000) as t:\n",
    "    t.time(func, *args, **kwargs)\n",
    "t.results\n",
    "```"
   ]
  },
  {
   "cell_type": "code",
   "execution_count": null,
   "metadata": {
    "collapsed": true
   },
   "outputs": [],
   "source": [
    "from functools import partial\n",
    "from timeit import timeit\n",
    "\n",
    "class Timer(object):\n",
    "    def __init__(self, loops=5, gc=False):\n",
    "        self.loops = 5\n",
    "        self.gc = gc\n",
    "        self.results = defaultdict(list)\n",
    "        \n",
    "    def __enter__(self):\n",
    "        return self\n",
    "    \n",
    "    def __exit__(self, type_, value, traceback):\n",
    "        pass\n",
    "    \n",
    "    def time(self, func, *args, **kwargs):\n",
    "        if self.gc:\n",
    "            setup = \"gc.enable()\"\n",
    "        else:\n",
    "            setup = \"gc.disable()\"\n",
    "        \n",
    "        \n",
    "        funcname = func.__name__\n",
    "        if funcname == \"<lambda>\":\n",
    "            funcname = func.__repr__()\n",
    "            \n",
    "        pfunc = partial(func, *args, **kwargs)\n",
    "        elapsed = timeit(pfunc, setup, number=self.loops)\n",
    "        runtime = min(elapsed)/self.loops\n",
    "        self.results[funcname].append(runtime)\n",
    "        return runtime"
   ]
  },
  {
   "cell_type": "markdown",
   "metadata": {},
   "source": [
    "<img src='img/copyright.png'>"
   ]
  }
 ],
 "metadata": {
  "anaconda-cloud": {},
  "kernelspec": {
   "display_name": "Python [conda env:anaconda_training]",
   "language": "python",
   "name": "conda-env-anaconda_training-py"
  },
  "language_info": {
   "codemirror_mode": {
    "name": "ipython",
    "version": 3
   },
   "file_extension": ".py",
   "mimetype": "text/x-python",
   "name": "python",
   "nbconvert_exporter": "python",
   "pygments_lexer": "ipython3",
   "version": "3.5.2"
  }
 },
 "nbformat": 4,
 "nbformat_minor": 0
}
