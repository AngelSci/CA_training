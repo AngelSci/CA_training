{
 "cells": [
  {
   "cell_type": "markdown",
   "metadata": {},
   "source": [
    "<img src='img/logo.png' />"
   ]
  },
  {
   "cell_type": "markdown",
   "metadata": {},
   "source": [
    "<img src='img/title.png'>"
   ]
  },
  {
   "cell_type": "markdown",
   "metadata": {},
   "source": [
    "<img src='img/py3k.png'>"
   ]
  },
  {
   "cell_type": "markdown",
   "metadata": {},
   "source": [
    "# Table of Contents\n",
    "* [Layout Exercise](#Layout-Exercise)\n",
    "\t* [One color](#One-color)\n",
    "\t* [Color groups](#Color-groups)\n"
   ]
  },
  {
   "cell_type": "markdown",
   "metadata": {},
   "source": [
    "# Layout Exercise"
   ]
  },
  {
   "cell_type": "markdown",
   "metadata": {},
   "source": [
    "Read in the `data/auto-mpg.csv` data as a Pandas DataFrame. Make a figure with the following four plots\n",
    "\n",
    "1. Scatter plot of `mpg` vs `cyl`.\n",
    "2. Scatter plot of `mpg` vs `hp`.\n",
    "3. Scatter plot of `mpg` vs `weight`.\n",
    "4. Scatter plot of `mpg` vs `yr`.\n",
    "\n",
    "Secondly, make separate marker colors (or shapes) for the unique `origin` entries.\n",
    "\n",
    "Hint: use the Pandas `.groupby()` function."
   ]
  },
  {
   "cell_type": "code",
   "execution_count": null,
   "metadata": {
    "collapsed": true
   },
   "outputs": [],
   "source": [
    "%matplotlib inline\n",
    "import matplotlib.pyplot as plt\n",
    "import seaborn as sns\n",
    "import numpy as np\n",
    "import pandas as pd"
   ]
  },
  {
   "cell_type": "code",
   "execution_count": null,
   "metadata": {
    "collapsed": false
   },
   "outputs": [],
   "source": [
    "auto=pd.read_csv('data/auto-mpg.csv')\n",
    "auto.info()"
   ]
  },
  {
   "cell_type": "code",
   "execution_count": null,
   "metadata": {
    "collapsed": false
   },
   "outputs": [],
   "source": [
    "auto.head()"
   ]
  },
  {
   "cell_type": "markdown",
   "metadata": {},
   "source": [
    "## One color"
   ]
  },
  {
   "cell_type": "code",
   "execution_count": null,
   "metadata": {
    "collapsed": false
   },
   "outputs": [],
   "source": [
    "fig, axes = plt.subplots(nrows=2,ncols=2,figsize=(10,10))\n",
    "fig.tight_layout()\n",
    "\n",
    "x_cols = ['cyl', 'hp', 'weight', 'yr']\n",
    "for x,ax in zip(x_cols, axes.flatten()):\n",
    "    auto.plot(kind='scatter', x=x, y='mpg', ax=ax)"
   ]
  },
  {
   "cell_type": "markdown",
   "metadata": {},
   "source": [
    "## Color groups"
   ]
  },
  {
   "cell_type": "code",
   "execution_count": null,
   "metadata": {
    "collapsed": false
   },
   "outputs": [],
   "source": [
    "fig, axes = plt.subplots(nrows=2,ncols=2,figsize=(10,10))\n",
    "fig.tight_layout()\n",
    "\n",
    "grp = auto.groupby('origin')\n",
    "\n",
    "x_cols = ['cyl', 'hp', 'weight', 'yr']\n",
    "for x,ax in zip(x_cols, axes.flatten()):\n",
    "    \n",
    "    for color,origin in zip(['red','green','blue'],grp.groups):\n",
    "        grp.get_group(origin).plot(kind='scatter', x=x, y='mpg', c=color, label=origin, ax=ax)\n",
    "        ax.legend(loc=0)"
   ]
  },
  {
   "cell_type": "markdown",
   "metadata": {},
   "source": [
    "<img src='img/copyright.png'>"
   ]
  }
 ],
 "metadata": {
  "continuum": {
   "depends": [
    "mp_intro",
    "mp_object",
    "mp_subplot"
   ],
   "requires": [
    "data/auto-mpg.csv"
   ],
   "tag": "mp_ex_subplot_soln"
  },
  "kernelspec": {
   "display_name": "Python [conda env:anaconda_training]",
   "language": "python",
   "name": "conda-env-anaconda_training-py"
  },
  "language_info": {
   "codemirror_mode": {
    "name": "ipython",
    "version": 3
   },
   "file_extension": ".py",
   "mimetype": "text/x-python",
   "name": "python",
   "nbconvert_exporter": "python",
   "pygments_lexer": "ipython3",
   "version": "3.5.2"
  }
 },
 "nbformat": 4,
 "nbformat_minor": 0
}
