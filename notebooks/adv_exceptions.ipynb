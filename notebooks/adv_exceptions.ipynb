{
 "cells": [
  {
   "cell_type": "markdown",
   "metadata": {},
   "source": [
    "<img src='img/logo.png' />"
   ]
  },
  {
   "cell_type": "markdown",
   "metadata": {},
   "source": [
    "<img src='img/title.png'>"
   ]
  },
  {
   "cell_type": "markdown",
   "metadata": {},
   "source": [
    "<img src='img/py3k.png'>"
   ]
  },
  {
   "cell_type": "markdown",
   "metadata": {},
   "source": [
    "# Table of Contents\n",
    "* [Learning Objectives:](#Learning-Objectives:)\n",
    "* [Exceptions](#Exceptions)\n",
    "\t* [The `try` and `except` constructs](#The-try-and-except-constructs)\n",
    "\t* [Catch specific or multiple exceptions](#Catch-specific-or-multiple-exceptions)\n",
    "\t* [Raising Excpetions](#Raising-Excpetions)\n",
    "\t* [Custom Exceptions](#Custom-Exceptions)\n",
    "* [Exercise](#Exercise)\n"
   ]
  },
  {
   "cell_type": "markdown",
   "metadata": {},
   "source": [
    "# Learning Objectives:"
   ]
  },
  {
   "cell_type": "markdown",
   "metadata": {},
   "source": [
    "After completion of this module, learners should be able to:\n",
    "\n",
    "* use & explain exception handling in Python with `try-except-finally` for defensive programming"
   ]
  },
  {
   "cell_type": "markdown",
   "metadata": {},
   "source": [
    "# Exceptions"
   ]
  },
  {
   "cell_type": "markdown",
   "metadata": {},
   "source": [
    "An exception is an error that would generally interrupt a program's execution (for example, if a Python statement expects a variable's value to be an integer but its value is a string instead). Examples of exceptions in Python include `ZeroDivisionError`, `ValueError`, `TypeError`, and `FileNotFoundError`. Exceptions can be thought of as special cases that do not conform to a general rule; in computer science, the common phrase terminology is to *\"raise\"* or to *\"throw\"* an exception.\n",
    "\n",
    "*Exception handling* refers to programming language constructs that provide means to deal with errors automatically so as to minimally interrupt the flow of program execution. Programming languages like Python, C++, Java, Ruby, and many others provide built-in support for exception handling. More specifically, an *exception handler* is a code block or function designed explicitly to compensate for errors gracefully. Exception handlers typically preserve the state of execution at the moment the error occurred and break the normal flow of the program to execute the specific exception-handling code. With some errors, the exception handler may be able to correct the error and resume program execution afterwards.\n",
    "\n",
    "The philosophy in some programming languages is that *exceptions indicate something is wrong with your code*. The Pythonic point of view is very different from this: we think that *exceptions are not all that exceptional*; that is, it is preferable to use Python's exception-handling constructs rather than using complicated `if` constructs if the resulting code is more readable."
   ]
  },
  {
   "cell_type": "markdown",
   "metadata": {},
   "source": [
    "We've likely already seen several exceptions."
   ]
  },
  {
   "cell_type": "code",
   "execution_count": null,
   "metadata": {
    "collapsed": false
   },
   "outputs": [],
   "source": [
    "# TypeError occurs when operations don't match\n",
    "'a' + 2"
   ]
  },
  {
   "cell_type": "code",
   "execution_count": null,
   "metadata": {
    "collapsed": false
   },
   "outputs": [],
   "source": [
    "# AttributeError occurs when a member method or attribute is not found\n",
    "'a'.real()"
   ]
  },
  {
   "cell_type": "code",
   "execution_count": null,
   "metadata": {
    "collapsed": false
   },
   "outputs": [],
   "source": [
    "# ValueError occurs when an operation cannot be completedj\n",
    "int('a')"
   ]
  },
  {
   "cell_type": "code",
   "execution_count": null,
   "metadata": {
    "collapsed": false
   },
   "outputs": [],
   "source": [
    "# IndexError occurs when indexing past the end of a container\n",
    "s = 'Python'\n",
    "s[10]"
   ]
  },
  {
   "cell_type": "code",
   "execution_count": null,
   "metadata": {
    "collapsed": true
   },
   "outputs": [],
   "source": []
  },
  {
   "cell_type": "code",
   "execution_count": null,
   "metadata": {
    "collapsed": true
   },
   "outputs": [],
   "source": []
  },
  {
   "cell_type": "markdown",
   "metadata": {},
   "source": [
    "## The `try` and `except` constructs"
   ]
  },
  {
   "cell_type": "markdown",
   "metadata": {},
   "source": [
    "A common situation where Pythonistas use exception-handling in Python is in validating input.\n",
    "\n",
    "**Note**: These first few uses illustrate exceptions but also contain an un-Pythonic idiom.  They catch every exception that occurs rather than name the types of exceptions the blocks deal with.  The problem is that your code will *always always* wind up raising exceptions you hadn't thought about, and these will catch too much.\n",
    "\n",
    "We'll fix this below; but think about the slogan \"Fail early and fail hard!\" when you try to right programs.  It's better for a program to crash noisely than it is to silently produce the wrong results."
   ]
  },
  {
   "cell_type": "code",
   "execution_count": null,
   "metadata": {
    "collapsed": true
   },
   "outputs": [],
   "source": [
    "l = [0, 2.5, '3', '3.14', 'a', 100]"
   ]
  },
  {
   "cell_type": "code",
   "execution_count": null,
   "metadata": {
    "collapsed": false
   },
   "outputs": [],
   "source": [
    "# print the square of the values"
   ]
  },
  {
   "cell_type": "code",
   "execution_count": null,
   "metadata": {
    "collapsed": false
   },
   "outputs": [],
   "source": [
    "# print the square root of the values"
   ]
  },
  {
   "cell_type": "markdown",
   "metadata": {},
   "source": [
    "Let's use the `try` keyword to *catch* the exceptions and move on."
   ]
  },
  {
   "cell_type": "code",
   "execution_count": null,
   "metadata": {
    "collapsed": true
   },
   "outputs": [],
   "source": []
  },
  {
   "cell_type": "code",
   "execution_count": null,
   "metadata": {
    "collapsed": true
   },
   "outputs": [],
   "source": []
  },
  {
   "cell_type": "markdown",
   "metadata": {},
   "source": [
    "The example above works like this:\n",
    "* the code within the `try` block is executed statement by statement.\n",
    "  * If no exception occurs, the execution passes to the `else` block and then the `finally` block.\n",
    "  * If any exception occurs, the rest of the `try` block is skipped. Execution resumes in the `except` block and then passes to the `finally` block.\n",
    "\n",
    "The syntax of a `try-except` block is as follows:\n",
    "\n",
    "```python\n",
    "try:\n",
    "   # Main code block to execute\n",
    "except:\n",
    "   # Code block to execute if *any* exception is raised in the try block\n",
    "else:\n",
    "   # Code block to execute if *no* exceptions are raised in the try block\n",
    "finally:\n",
    "   # Code block to execute regardless of exceptions after the preceding blocks (e.g., as cleanup)\n",
    "```"
   ]
  },
  {
   "cell_type": "markdown",
   "metadata": {},
   "source": [
    "The `else` and `finally` blocks are optional.\n",
    "\n",
    "The beauty of the `try-except` block is that it captures very complicated control flow in simple blocks. Code using `try-except` blocks is generally more readable corresponding code with many nested `if` conditions. In addition, errors can be caught and handled in a controlled manner."
   ]
  },
  {
   "cell_type": "markdown",
   "metadata": {},
   "source": [
    "## Catch specific or multiple exceptions"
   ]
  },
  {
   "cell_type": "markdown",
   "metadata": {},
   "source": [
    "It is possible to specify several `except` blocks that catch distinct kinds of `Exception` objects. Furthermore, specific exceptions can be tailored with using the `raise` keyword and instantiating some particular `Exception` class.  \n",
    "\n",
    "It is always better code to catch the specific exceptions you know how to deal with rather than to catch *everything*.  As a fallback, using the base class `Exception` is a way to document explicitly that you are being broad rather than sloppy."
   ]
  },
  {
   "cell_type": "code",
   "execution_count": null,
   "metadata": {
    "collapsed": true
   },
   "outputs": [],
   "source": [
    "l = [0, 2.5, '3', '3.14', 'a', 100j]"
   ]
  },
  {
   "cell_type": "code",
   "execution_count": null,
   "metadata": {
    "collapsed": true
   },
   "outputs": [],
   "source": []
  },
  {
   "cell_type": "code",
   "execution_count": null,
   "metadata": {
    "collapsed": true
   },
   "outputs": [],
   "source": []
  },
  {
   "cell_type": "code",
   "execution_count": null,
   "metadata": {
    "collapsed": true
   },
   "outputs": [],
   "source": []
  },
  {
   "cell_type": "code",
   "execution_count": null,
   "metadata": {
    "collapsed": true
   },
   "outputs": [],
   "source": []
  },
  {
   "cell_type": "markdown",
   "metadata": {},
   "source": [
    "* Some useful exceptions (but many others exist):\n",
    "\n",
    "| Name | Description |\n",
    "| :-: | :- |\n",
    "|`Exception`| Base Python class for all exceptions |\n",
    "|`NameError`| Raise when identifier not found in any namespace|\n",
    "|`ArithmeticError`| Base Python class for all numeric errors|\n",
    "|`ZeroDivisonError`|Raise when division/modulo by zero occurs|\n",
    "|`OverflowError`|Raise when calculated results exceeds largest possible for numeric type|\n",
    "|`FloatingPointError`|Raise when a floating point calculation fails|\n",
    "|`IndexError`| Raise when index not found in a list, tuple, etc. |\n",
    "|`KeyError`|Raise when key not found in a dict|\n",
    "|`OSError`|Raise when system function returns an error|\n",
    "|`ValueError`|Raise when invalid values specified for a data type|\n",
    "|`NotImplementedError`|Raise when some code has yet to be written|\n",
    "\n",
    "* Your code can raise these exceptions as appropriate using the `raise` keyword.\n",
    "* New exceptions can be implemented as subclasses of the main `Exception` class.\n",
    "* The `else` and `finally` blocks are largely used to carry out clean up (e.g., closing files, deleting objects in memory, etc.)."
   ]
  },
  {
   "cell_type": "markdown",
   "metadata": {},
   "source": [
    "As an example from Python 2, the code here prompts the user for a filename. Assuming a valid name is given, it will write to the file.\n",
    "```python\n",
    "try:\n",
    "    filename = input('Please enter the name of a file to write to: ')\n",
    "    outfile = open(filename, \"w\")\n",
    "    outfile.write(\"This is my test file for exception handling!!\")\n",
    "except IOError:\n",
    "    print \"Error: can't find file or read data\"\n",
    "else:\n",
    "    print \"Write content in the file successfully\"\n",
    "    outfile.close()\n",
    "```"
   ]
  },
  {
   "cell_type": "code",
   "execution_count": null,
   "metadata": {
    "collapsed": false
   },
   "outputs": [],
   "source": [
    "# more exceptions\n",
    "#[x for x in dir(__builtins__) if x.endswith('Error')]"
   ]
  },
  {
   "cell_type": "markdown",
   "metadata": {},
   "source": [
    "## Raising Excpetions"
   ]
  },
  {
   "cell_type": "markdown",
   "metadata": {},
   "source": [
    "In your code you can trigger an exception with the `raise` keyword."
   ]
  },
  {
   "cell_type": "code",
   "execution_count": null,
   "metadata": {
    "collapsed": false
   },
   "outputs": [],
   "source": [
    "raise ValueError()"
   ]
  },
  {
   "cell_type": "code",
   "execution_count": null,
   "metadata": {
    "collapsed": false
   },
   "outputs": [],
   "source": [
    "raise TypeError('You used the wrong data type')"
   ]
  },
  {
   "cell_type": "markdown",
   "metadata": {},
   "source": [
    "## Custom Exceptions"
   ]
  },
  {
   "cell_type": "markdown",
   "metadata": {},
   "source": [
    "If the file is successfully opened and written to, the statement `outfile.close()` executes. In the event of an `IOError` exception, it does not make sense to execute `outfile.close()`, so that statement is placed in the `else` block. The choice to use an `else` or `finally` block depends on the kinds of exceptions you expect to catch.\n",
    "\n",
    "* More details are available in the [Python tutorial](https://docs.python.org/3/tutorial/errors.html)."
   ]
  },
  {
   "cell_type": "code",
   "execution_count": null,
   "metadata": {
    "collapsed": true
   },
   "outputs": [],
   "source": [
    "class InvalidStockValue(ValueError): \n",
    "    pass"
   ]
  },
  {
   "cell_type": "code",
   "execution_count": null,
   "metadata": {
    "collapsed": true
   },
   "outputs": [],
   "source": [
    "from random import randint\n",
    "try:\n",
    "    x = randint(1, 60)\n",
    "    if x > 50:\n",
    "        raise InvalidStockValue(str(x))\n",
    "    elif x > 25:\n",
    "        raise ValueError\n",
    "    print(\"Happy price chosen\")\n",
    "except InvalidStockValue as e:\n",
    "    print(\"Stock value too large\")\n",
    "except ValueError:\n",
    "    print(\"Some other value error\")"
   ]
  },
  {
   "cell_type": "markdown",
   "metadata": {},
   "source": [
    "# Exercise"
   ]
  },
  {
   "cell_type": "markdown",
   "metadata": {},
   "source": [
    "<img src='img/topics/Exercise.png' align='left' style='padding:10px'>\n",
    "<br>\n",
    "Using the Temperature function `raise` a `ValueError` exception when the input value is less than -273.15 ˚C.\n",
    "\n",
    "Perform the conversion over the random `ints` and catch the exception."
   ]
  },
  {
   "cell_type": "code",
   "execution_count": null,
   "metadata": {
    "collapsed": false
   },
   "outputs": [],
   "source": [
    "import random\n",
    "random.seed(1981)\n",
    "ints = [random.randint(-400,400) for _ in range(20)]\n",
    "ints"
   ]
  },
  {
   "cell_type": "code",
   "execution_count": null,
   "metadata": {
    "collapsed": true
   },
   "outputs": [],
   "source": [
    "def to_f(c):\n",
    "    # check for values less than absolute zero\n",
    "    return 9/5 * c + 32"
   ]
  },
  {
   "cell_type": "markdown",
   "metadata": {},
   "source": [
    "---\n",
    "<a href='adv_exceptions_soln.ipynb' class='btn btn-primary'>Solution</a>"
   ]
  },
  {
   "cell_type": "markdown",
   "metadata": {},
   "source": [
    "<img src='img/copyright.png'>"
   ]
  }
 ],
 "metadata": {
  "anaconda-cloud": {},
  "kernelspec": {
   "display_name": "Python [conda env:anaconda_training]",
   "language": "python",
   "name": "conda-env-anaconda_training-py"
  },
  "language_info": {
   "codemirror_mode": {
    "name": "ipython",
    "version": 3
   },
   "file_extension": ".py",
   "mimetype": "text/x-python",
   "name": "python",
   "nbconvert_exporter": "python",
   "pygments_lexer": "ipython3",
   "version": "3.5.2"
  }
 },
 "nbformat": 4,
 "nbformat_minor": 0
}
