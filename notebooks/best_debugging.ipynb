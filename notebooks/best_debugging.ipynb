{
 "cells": [
  {
   "cell_type": "markdown",
   "metadata": {},
   "source": [
    "<img src='img/logo.png'>\n",
    "<img src='img/title.png'>\n",
    "<img src='img/py3k.png'>"
   ]
  },
  {
   "cell_type": "markdown",
   "metadata": {},
   "source": [
    "# Table of Contents\n",
    "* [Learning Objectives:](#Learning-Objectives:)\n",
    "\t* [Debuggers](#Debuggers)\n",
    "\t\t* [Stack trace](#Stack-trace)\n",
    "\t\t* [pdb](#pdb)\n",
    "\t\t\t* [Setting a breakpoint](#Setting-a-breakpoint)\n",
    "\t* [Using an IDE](#Using-an-IDE)\n"
   ]
  },
  {
   "cell_type": "markdown",
   "metadata": {},
   "source": [
    "# Learning Objectives:"
   ]
  },
  {
   "cell_type": "markdown",
   "metadata": {},
   "source": [
    "* Run a script with pdb enabled\n",
    "* Use the post-mortem debugger to find an error\n",
    "* Set a breakpoint and display local variables"
   ]
  },
  {
   "cell_type": "markdown",
   "metadata": {},
   "source": [
    "## Debuggers"
   ]
  },
  {
   "cell_type": "markdown",
   "metadata": {},
   "source": [
    "The ubiquitous Python debugger, **pdb**, is actually part of the standard library.  It can be invoked from the command line, or programmatically.  We will see how to use it to control script execution and to examine values during and after execution (using the so-called *post-mortem* debugger).  "
   ]
  },
  {
   "cell_type": "markdown",
   "metadata": {},
   "source": [
    "### Stack trace"
   ]
  },
  {
   "cell_type": "markdown",
   "metadata": {},
   "source": [
    "When the Python interpreter throws an exception, it creates a `traceback` object and throws an `Exception` object.  If the script has no `except` clause to catch the exception, it's caught and displayed by the interpreter.  \n",
    "\n",
    "    >>> a = ['hello', 'world']\n",
    "    ...     def foo(a):\n",
    "    ...     for i in range(1 + len(a)):\n",
    "    ...         print(a[i])\n",
    "    ...\n",
    "    >>> foo(a)\n",
    "    hello\n",
    "    world\n",
    "    Traceback (most recent call last):\n",
    "      File \"<stdin>\", line 1, in <module>\n",
    "      File \"<stdin>\", line 3, in foo\n",
    "    IndexError: list index out of range\n",
    "\n",
    "The output is referred to as a *stack dump* or a *stack trace*.  Its appearance can vary, depending on which program is handling the display.  **IPython** displays the errant line in addition to the `traceback` information:  "
   ]
  },
  {
   "cell_type": "code",
   "execution_count": null,
   "metadata": {
    "collapsed": false,
    "skip_test": true
   },
   "outputs": [],
   "source": [
    "a = ['hello', 'world']\n",
    "print a    "
   ]
  },
  {
   "cell_type": "markdown",
   "metadata": {},
   "source": [
    "Different kinds of exceptions produce different messages"
   ]
  },
  {
   "cell_type": "code",
   "execution_count": null,
   "metadata": {
    "collapsed": false,
    "raises": "IndexError"
   },
   "outputs": [],
   "source": [
    "a = ['hello', 'world']\n",
    "for i in range(3):\n",
    "    print(a[i])"
   ]
  },
  {
   "cell_type": "markdown",
   "metadata": {},
   "source": [
    "The size of the stack trace is determined by how many function calls were open at the time the exception was encountered. "
   ]
  },
  {
   "cell_type": "code",
   "execution_count": null,
   "metadata": {
    "collapsed": false,
    "raises": "IndexError"
   },
   "outputs": [],
   "source": [
    "def foo(a):\n",
    "    for i in range(1 + len(a)):\n",
    "        print(a[i])\n",
    "a = ['hello', 'world']\n",
    "foo(a)"
   ]
  },
  {
   "cell_type": "markdown",
   "metadata": {},
   "source": [
    "The above message begins with the name of the exception `IndexError` and *most recent call last*.  What does that mean?  \n",
    "\n",
    "Starting from the top, the function `foo` was called on line 5, causing no problem in and of itself.  The `foo` function iterates over its argument, successfully printing `hello` and `world` (beneath the code block).  On the third iteration, there is no third element (line 3), and an exception is raised.  The *most recent call* is the one that provoked the exception; earlier calls appear above, in order.  "
   ]
  },
  {
   "cell_type": "markdown",
   "metadata": {},
   "source": [
    "### pdb"
   ]
  },
  {
   "cell_type": "markdown",
   "metadata": {},
   "source": [
    "If the **pdb** module is imported, the interpreter gives control to the debugger instead of simply printing a stack trace.  \n",
    "```bash\n",
    "    $ cat > foo\n",
    "    def foo(a):\n",
    "        for i in range(1 + len(a)):\n",
    "            print(a[i])\n",
    "    a = ['hello', 'world']\n",
    "    foo(a)\n",
    "    ^D\n",
    "    $ python -m pdb foo\n",
    "    > /Volumes/TomThumb/projects/continuum/private/Training/foo(1)<module>()\n",
    "    -> def foo(a):\n",
    "    (pdb) \n",
    "```"
   ]
  },
  {
   "cell_type": "markdown",
   "metadata": {},
   "source": [
    "The `-m pdb` option tells Python to import the `pdb` module amd causes it to start the debugger before execution commences.  A list of commands is available with the **help** command; **help *cmd*** will show help for *cmd*.  \n",
    "\n",
    "```\n",
    "(Pdb) help\n",
    "\n",
    "Documented commands (type help <topic>):\n",
    "========================================\n",
    "EOF    c          d        h         list      q        rv       undisplay\n",
    "a      cl         debug    help      ll        quit     s        unt      \n",
    "alias  clear      disable  ignore    longlist  r        source   until    \n",
    "args   commands   display  interact  n         restart  step     up       \n",
    "b      condition  down     j         next      return   tbreak   w        \n",
    "break  cont       enable   jump      p         retval   u        whatis   \n",
    "bt     continue   exit     l         pp        run      unalias  where    \n",
    "```"
   ]
  },
  {
   "cell_type": "markdown",
   "metadata": {},
   "source": [
    "Let's let the program run with a **continue** statement. \n",
    "```bash\n",
    "    (Pdb) continue\n",
    "    hello\n",
    "    world\n",
    "    Traceback (most recent call last):\n",
    "      File \"/usr/local/anaconda/lib/python3.4/pdb.py\", line 1661, in main\n",
    "        pdb._runscript(mainpyfile)\n",
    "      File \"/usr/local/anaconda/lib/python3.4/pdb.py\", line 1542, in _runscript\n",
    "        self.run(statement)\n",
    "      File \"/usr/local/anaconda/lib/python3.4/bdb.py\", line 431, in run\n",
    "        exec(cmd, globals, locals)\n",
    "      File \"<string>\", line 1, in <module>\n",
    "      File \"/Training/foo\", line 1, in <module>\n",
    "        def foo(a):\n",
    "      File \"/Training/foo\", line 3, in foo\n",
    "        print(a[i])\n",
    "    IndexError: list index out of range\n",
    "    Uncaught exception. Entering post mortem debugging\n",
    "    Running 'cont' or 'step' will restart the program\n",
    "    > /Volumes/TomThumb/projects/continuum/private/Training/foo(3)foo()\n",
    "    -> print(a[i])\n",
    "    (Pdb)\n",
    "```"
   ]
  },
  {
   "cell_type": "markdown",
   "metadata": {},
   "source": [
    "At this point &mdash; indicated by *Entering post mortem debugging* &mdash; the program has stopped running and will never run again.  But the data are accessible, and we know the offending line is line \\#3.  Let's look at `a` and `i`.  \n",
    "\n",
    "```python\n",
    "    (Pdb) list\n",
    "      1     def foo(a):\n",
    "      2         for i in range(1 + len(a)):\n",
    "      3  ->         print(a[i])\n",
    "      4     a = ['hello', 'world']\n",
    "      5     foo(a)\n",
    "    [EOF]\n",
    "    (Pdb) p a\n",
    "    ['hello', 'world']\n",
    "    (Pdb) p i\n",
    "    2\n",
    "```"
   ]
  },
  {
   "cell_type": "markdown",
   "metadata": {},
   "source": [
    "#### Setting a breakpoint"
   ]
  },
  {
   "cell_type": "markdown",
   "metadata": {},
   "source": [
    "To gain interactive control *before* the exception occurs, set a breakpoint on the offending line.  We can do that here and **restart** the program.  \n",
    "\n",
    "```bash\n",
    "$ python -m pdb foo\n",
    "> /Volumes/TomThumb/foo(1)<module>()\n",
    "-> def foo(a):\n",
    "(Pdb) b 3\n",
    "Breakpoint 1 at /Volumes/Training/foo:3\n",
    "(Pdb) c\n",
    "> /Volumes//Training/foo(3)foo()\n",
    "-> print(a[i])\n",
    "(Pdb) i\n",
    "0\n",
    "(Pdb) c\n",
    "hello\n",
    "> /Volumes/Training/foo(3)foo()\n",
    "-> print(a[i])\n",
    "(Pdb) i\n",
    "1\n",
    "(Pdb) c\n",
    "world\n",
    "> /Volumes/Training/foo(3)foo()\n",
    "-> print(a[i])\n",
    "(Pdb) i\n",
    "2\n",
    "(Pdb) i < len(a)\n",
    "False\n",
    "(Pdb) \n",
    "```"
   ]
  },
  {
   "cell_type": "markdown",
   "metadata": {},
   "source": [
    "Many programming tools come with some additional help in debugging, which are typically wrappers around `pdb`. For example, typing\n",
    "```python\n",
    "[1] debug\n",
    "```"
   ]
  },
  {
   "cell_type": "markdown",
   "metadata": {},
   "source": [
    "in a notebook will launch an in-line `pdb` session in *post-mortem* mode, following an exception.\n",
    "\n",
    "If developing in `spyder` (and similarly for other IDEs), the traceback is clickable, to take you to the line in the code which caused the exception, identifiers in the editor are control-clickable to find definitions, and there is a point-and-click interface to `pdb` to allow setting breakpoints, etc."
   ]
  },
  {
   "cell_type": "markdown",
   "metadata": {},
   "source": [
    "## Using an IDE"
   ]
  },
  {
   "cell_type": "markdown",
   "metadata": {},
   "source": [
    "In the `notebooks/src/distance/buggy` directory is a file called `great_circle.py`. Let's open this file with `spyder` and practice using the debugger."
   ]
  },
  {
   "cell_type": "markdown",
   "metadata": {},
   "source": [
    "On the command prompt.\n",
    "1. `cd` to the directory where the course was extracted\n",
    "1. `activate` the conda environment\n",
    "1. run `spyder notebooks/src/distance/buggy/great_circle.py`"
   ]
  },
  {
   "cell_type": "markdown",
   "metadata": {},
   "source": [
    "<img src='img/copyright.png'>"
   ]
  }
 ],
 "metadata": {
  "anaconda-cloud": {},
  "continuum": {
   "depends": [
    "tools_scripts"
   ],
   "tag": "tools_pdb"
  },
  "kernelspec": {
   "display_name": "Python [conda env:anaconda_training]",
   "language": "python",
   "name": "conda-env-anaconda_training-py"
  },
  "language_info": {
   "codemirror_mode": {
    "name": "ipython",
    "version": 3
   },
   "file_extension": ".py",
   "mimetype": "text/x-python",
   "name": "python",
   "nbconvert_exporter": "python",
   "pygments_lexer": "ipython3",
   "version": "3.5.2"
  }
 },
 "nbformat": 4,
 "nbformat_minor": 0
}
