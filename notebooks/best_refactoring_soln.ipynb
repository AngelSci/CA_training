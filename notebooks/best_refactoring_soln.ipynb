{
 "cells": [
  {
   "cell_type": "markdown",
   "metadata": {},
   "source": [
    "<img src='img/logo.png'>\n",
    "<img src='img/title.png'>\n",
    "<img src='img/py3k.png'>"
   ]
  },
  {
   "cell_type": "markdown",
   "metadata": {},
   "source": [
    "# Table of Contents\n",
    "* [Refactoring](#Refactoring)\n",
    "\t* [Exercise (refactor into smaller functions)](#Exercise-%28refactor-into-smaller-functions%29)\n"
   ]
  },
  {
   "cell_type": "markdown",
   "metadata": {},
   "source": [
    "# Refactoring"
   ]
  },
  {
   "cell_type": "code",
   "execution_count": null,
   "metadata": {
    "collapsed": true
   },
   "outputs": [],
   "source": [
    "# Example\n",
    "import numpy as np\n",
    "from math import pi\n",
    "\n",
    "def sphere_dist_original(P1, P2):\n",
    "    \"\"\"Computes surface distance between locations on Earth\n",
    "    \n",
    "    Assume spherical surface of Earth from (latitude,longitude) coordinates\n",
    "    \"\"\"\n",
    "    R = 6365 # Radius of earth (km)\n",
    "    lat1, long1 = P1 # extract lat/long coordinates\n",
    "    x1 = np.cos(long1 * pi/180) * np.cos(lat1 * pi/180)\n",
    "    y1 = np.sin(long1 * pi/180) * np.cos(lat1 * pi/180)\n",
    "    z1 = np.cos(lat1 * pi/180) # trig functions are in radians\n",
    "    R1 = np.array([x1,y1,z1]) # cartesian location of P1\n",
    "\n",
    "    lat2, long2 = P2\n",
    "    x2 = np.cos(long2 * pi/180) * np.cos(lat2 * pi/180)\n",
    "    y2 = np.sin(long2 * pi/180) * np.cos(lat2 * pi/180)\n",
    "    z2 = np.cos(lat2 * pi/180)\n",
    "    R2 = np.array([x2,y2,z2]) # cartesian location of P2\n",
    "    alpha = np.arccos(np.dot(R1,R2)) # angle in radians\n",
    "    return R * alpha"
   ]
  },
  {
   "cell_type": "code",
   "execution_count": null,
   "metadata": {
    "collapsed": false
   },
   "outputs": [],
   "source": [
    "# London to New York\n",
    "sphere_dist_original((51.5, -0.1), (40.7, -74.0))"
   ]
  },
  {
   "cell_type": "markdown",
   "metadata": {},
   "source": [
    "In the function, we had the following variables defined: `P1, P2, lat1, long1, lat2, long2, x1, y1, z1, x2, y2, z2, R, R1, R2, alpha`. That's quite a few! Also, the expression `* pi/180` (to convert from degrees to radians) shows up many times, and the first half of the function is identical to the second half, except for which variables are being processed. All this repetition leads to mistakes, as we see."
   ]
  },
  {
   "cell_type": "markdown",
   "metadata": {},
   "source": [
    "## Exercise (refactor into smaller functions)"
   ]
  },
  {
   "cell_type": "markdown",
   "metadata": {},
   "source": [
    "Rewrite the function into smaller functions to remove the repetitions and decrease the number of variables in use at one time. The signature of `sphere_dist` should not change, and the result should be the same (this is a simple test)."
   ]
  },
  {
   "cell_type": "code",
   "execution_count": null,
   "metadata": {
    "collapsed": true
   },
   "outputs": [],
   "source": [
    "def spherical_to_cartesian(P):\n",
    "    \"\"\"Returns the cartesian location for a given position in latidude and longitude\n",
    "    \n",
    "    returns a numpy array of x,y,z coordinates\n",
    "    \"\"\"\n",
    "    lat, lon = P\n",
    "    \n",
    "    lat_rad = deg_to_rad(lat)\n",
    "    lon_rad = deg_to_rad(lon)\n",
    "    \n",
    "    x1 = np.cos(lon_rad) * np.cos(lat_rad)\n",
    "    y1 = np.sin(lon_rad) * np.cos(lat_rad)\n",
    "    z1 = np.cos(lat_rad)\n",
    "    return np.array([x1,y1,z1])\n",
    "\n",
    " \n",
    "def deg_to_rad(a):\n",
    "    \"\"\"Converts degrees to radians\"\"\"\n",
    "    return a * pi/180\n",
    "\n",
    "\n",
    "def sphere_dist(P1, P2):\n",
    "    \"\"\"Computes surface distance between locations on Earth\n",
    "    \n",
    "    Assume spherical surface of Earth from (latitude,longitude) coordinates\n",
    "    \"\"\"\n",
    "    R1 = spherical_to_cartesian(P1)\n",
    "    R2 = spherical_to_cartesian(P2)\n",
    "    \n",
    "    R = 6365\n",
    "    alpha = np.arccos(np.dot(R1,R2))\n",
    "    return R * alpha"
   ]
  },
  {
   "cell_type": "code",
   "execution_count": null,
   "metadata": {
    "collapsed": false
   },
   "outputs": [],
   "source": [
    "sphere_dist((51.5, -0.1), (40.7, -74.0))"
   ]
  },
  {
   "cell_type": "markdown",
   "metadata": {},
   "source": [
    "<img src='img/copyright.png'>"
   ]
  }
 ],
 "metadata": {
  "anaconda-cloud": {},
  "kernelspec": {
   "display_name": "Python [conda env:anaconda_training]",
   "language": "python",
   "name": "conda-env-anaconda_training-py"
  },
  "language_info": {
   "codemirror_mode": {
    "name": "ipython",
    "version": 3
   },
   "file_extension": ".py",
   "mimetype": "text/x-python",
   "name": "python",
   "nbconvert_exporter": "python",
   "pygments_lexer": "ipython3",
   "version": "3.5.2"
  }
 },
 "nbformat": 4,
 "nbformat_minor": 0
}
