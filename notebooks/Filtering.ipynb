{
 "cells": [
  {
   "cell_type": "code",
   "execution_count": 1,
   "metadata": {
    "collapsed": true
   },
   "outputs": [],
   "source": [
    "import numpy as np\n",
    "np.random.seed(1981)"
   ]
  },
  {
   "cell_type": "code",
   "execution_count": 2,
   "metadata": {
    "collapsed": true
   },
   "outputs": [],
   "source": [
    "arr = np.random.normal(0,1,100)"
   ]
  },
  {
   "cell_type": "code",
   "execution_count": 12,
   "metadata": {
    "collapsed": false
   },
   "outputs": [],
   "source": [
    "b = (arr > 0)arr[]"
   ]
  },
  {
   "cell_type": "code",
   "execution_count": 13,
   "metadata": {
    "collapsed": false
   },
   "outputs": [
    {
     "data": {
      "text/plain": [
       "800"
      ]
     },
     "execution_count": 13,
     "metadata": {},
     "output_type": "execute_result"
    }
   ],
   "source": [
    "arr.nbytes"
   ]
  },
  {
   "cell_type": "code",
   "execution_count": 15,
   "metadata": {
    "collapsed": false
   },
   "outputs": [
    {
     "data": {
      "text/plain": [
       "array([ 1.7255197 ,  1.06330152,  2.12567684,  0.32074305,  1.53789072,\n",
       "        0.49380604,  0.2004674 ,  0.75590369,  0.65364312,  1.00156045,\n",
       "        0.65888887,  0.69565833,  0.01801118,  0.9901191 ,  1.13571308,\n",
       "        1.15928378,  0.14507436,  0.65855472,  0.23888984,  1.12632098,\n",
       "        0.30167131,  0.76719563,  0.98457033,  0.00512749,  0.6906881 ,\n",
       "        1.78095431,  0.41397943,  0.75570867,  0.65686019,  0.79039655,\n",
       "        0.6267854 ,  1.09373525,  0.07108062,  1.04674676,  0.26901663,\n",
       "        0.56443296,  1.72374411,  0.35367007,  1.23447707,  1.46118112,\n",
       "        0.34508151,  1.22905208,  1.14313494,  0.09555944,  0.66186891,\n",
       "        0.28065873,  2.41411693,  0.30437778,  0.53005835,  0.34600342,\n",
       "        1.52107406,  1.03242432,  0.51758303,  1.68614647,  1.96076171,\n",
       "        0.83396644])"
      ]
     },
     "execution_count": 15,
     "metadata": {},
     "output_type": "execute_result"
    }
   ],
   "source": [
    "arr[b]"
   ]
  },
  {
   "cell_type": "code",
   "execution_count": 16,
   "metadata": {
    "collapsed": false
   },
   "outputs": [
    {
     "data": {
      "text/plain": [
       "array([ -3.16804931e-01,  -4.88962319e-01,  -1.00148437e+00,\n",
       "        -9.55745726e-01,  -6.28474290e-01,  -1.54042042e+00,\n",
       "        -6.58233503e-01,  -9.04523450e-01,  -1.12702031e+00,\n",
       "        -3.21548967e-01,  -5.99345682e-01,  -1.92691071e-01,\n",
       "        -8.81770526e-01,  -7.73525377e-02,  -4.80384621e-01,\n",
       "        -1.71024927e+00,  -1.27272050e+00,  -1.29894177e-04,\n",
       "        -1.50590317e-01,  -6.59364833e-01,  -1.23103387e+00,\n",
       "        -2.92885680e-01,  -5.93305697e-01,  -7.51495651e-01,\n",
       "        -8.56878053e-02,  -1.78592391e-01,  -1.49354926e+00,\n",
       "        -6.56501801e-01,  -1.12200332e-01,  -2.24423561e+00,\n",
       "        -2.18782682e-01,  -1.15444886e+00,  -5.18799923e-02,\n",
       "        -7.24343015e-01,  -1.04167445e+00,  -3.05180951e+00,\n",
       "        -9.35121313e-01,  -8.36256808e-02,  -3.54106747e-02,\n",
       "        -1.67327071e-02,  -1.95977889e-01,  -1.53661002e+00,\n",
       "        -9.93075363e-01,  -4.09008433e-01])"
      ]
     },
     "execution_count": 16,
     "metadata": {},
     "output_type": "execute_result"
    }
   ],
   "source": [
    "arr[arr<0]"
   ]
  },
  {
   "cell_type": "code",
   "execution_count": 31,
   "metadata": {
    "collapsed": false
   },
   "outputs": [
    {
     "data": {
      "text/plain": [
       "array([False, False,  True, False,  True,  True, False,  True, False,\n",
       "        True,  True,  True,  True, False, False,  True, False, False,\n",
       "       False,  True, False, False, False,  True,  True,  True,  True,\n",
       "       False, False,  True,  True,  True, False,  True,  True,  True,\n",
       "        True, False, False,  True, False,  True, False, False,  True,\n",
       "       False,  True,  True,  True,  True,  True,  True, False, False,\n",
       "        True,  True,  True,  True,  True, False,  True,  True, False,\n",
       "       False, False,  True, False,  True,  True, False,  True,  True,\n",
       "        True, False, False,  True, False,  True, False, False,  True,\n",
       "       False, False,  True, False, False, False, False,  True, False,\n",
       "       False, False,  True,  True,  True,  True,  True,  True,  True,  True], dtype=bool)"
      ]
     },
     "execution_count": 31,
     "metadata": {},
     "output_type": "execute_result"
    }
   ],
   "source": [
    "(arr >0 ) | (arr*2 > 4)"
   ]
  },
  {
   "cell_type": "code",
   "execution_count": 18,
   "metadata": {
    "collapsed": false
   },
   "outputs": [
    {
     "data": {
      "text/plain": [
       "array([ 2.12567684,  2.41411693])"
      ]
     },
     "execution_count": 18,
     "metadata": {},
     "output_type": "execute_result"
    }
   ],
   "source": [
    "arr[(arr >0 ) & (arr*2 > 4)]"
   ]
  },
  {
   "cell_type": "code",
   "execution_count": 19,
   "metadata": {
    "collapsed": true
   },
   "outputs": [],
   "source": [
    "# & = and,  = not, | = or,  = xor??"
   ]
  },
  {
   "cell_type": "code",
   "execution_count": 28,
   "metadata": {
    "collapsed": false
   },
   "outputs": [
    {
     "ename": "SyntaxError",
     "evalue": "invalid syntax (<ipython-input-28-75787bd3aaf6>, line 1)",
     "output_type": "error",
     "traceback": [
      "\u001b[0;36m  File \u001b[0;32m\"<ipython-input-28-75787bd3aaf6>\"\u001b[0;36m, line \u001b[0;32m1\u001b[0m\n\u001b[0;31m    (arr >0 ) !& (arr*2 > 4)\u001b[0m\n\u001b[0m              ^\u001b[0m\n\u001b[0;31mSyntaxError\u001b[0m\u001b[0;31m:\u001b[0m invalid syntax\n"
     ]
    }
   ],
   "source": [
    "(arr >0 ) !& (arr*2 > 4)"
   ]
  },
  {
   "cell_type": "code",
   "execution_count": 24,
   "metadata": {
    "collapsed": true
   },
   "outputs": [],
   "source": [
    "ap = arr >0\n",
    "an = arr <0\n",
    "p2 = np.abs(arr) >0.5\n",
    "\n"
   ]
  },
  {
   "cell_type": "code",
   "execution_count": 37,
   "metadata": {
    "collapsed": false
   },
   "outputs": [
    {
     "data": {
      "text/plain": [
       "80.0"
      ]
     },
     "execution_count": 37,
     "metadata": {},
     "output_type": "execute_result"
    }
   ],
   "source": [
    "big = np.random.normal(0,1,int(1e8))\n",
    "big.nbytes / 1e7"
   ]
  },
  {
   "cell_type": "code",
   "execution_count": 39,
   "metadata": {
    "collapsed": false
   },
   "outputs": [
    {
     "name": "stdout",
     "output_type": "stream",
     "text": [
      "Wall time: 0 ns\n"
     ]
    }
   ],
   "source": [
    "%time\n",
    "ap = big >0\n",
    "an = big < 0\n",
    "p2 = np.abs(big) >0.5"
   ]
  },
  {
   "cell_type": "code",
   "execution_count": 40,
   "metadata": {
    "collapsed": false
   },
   "outputs": [
    {
     "data": {
      "text/plain": [
       "array([ True, False, False, ..., False,  True, False], dtype=bool)"
      ]
     },
     "execution_count": 40,
     "metadata": {},
     "output_type": "execute_result"
    }
   ],
   "source": [
    "ap"
   ]
  },
  {
   "cell_type": "code",
   "execution_count": 41,
   "metadata": {
    "collapsed": false
   },
   "outputs": [
    {
     "data": {
      "text/plain": [
       "array([False,  True,  True, ...,  True, False,  True], dtype=bool)"
      ]
     },
     "execution_count": 41,
     "metadata": {},
     "output_type": "execute_result"
    }
   ],
   "source": [
    "an"
   ]
  },
  {
   "cell_type": "code",
   "execution_count": 42,
   "metadata": {
    "collapsed": false
   },
   "outputs": [
    {
     "data": {
      "text/plain": [
       "array([ True,  True,  True, ...,  True,  True,  True], dtype=bool)"
      ]
     },
     "execution_count": 42,
     "metadata": {},
     "output_type": "execute_result"
    }
   ],
   "source": [
    "ap|an"
   ]
  },
  {
   "cell_type": "code",
   "execution_count": 43,
   "metadata": {
    "collapsed": false
   },
   "outputs": [
    {
     "data": {
      "text/plain": [
       "100000000"
      ]
     },
     "execution_count": 43,
     "metadata": {},
     "output_type": "execute_result"
    }
   ],
   "source": [
    "len(ap|an)"
   ]
  },
  {
   "cell_type": "code",
   "execution_count": 46,
   "metadata": {
    "collapsed": false
   },
   "outputs": [
    {
     "data": {
      "text/plain": [
       "100000000"
      ]
     },
     "execution_count": 46,
     "metadata": {},
     "output_type": "execute_result"
    }
   ],
   "source": [
    "len(big[an|ap])"
   ]
  },
  {
   "cell_type": "code",
   "execution_count": 50,
   "metadata": {
    "collapsed": false
   },
   "outputs": [
    {
     "name": "stdout",
     "output_type": "stream",
     "text": [
      "1 loop, best of 3: 713 ms per loop\n"
     ]
    }
   ],
   "source": [
    "%timeit big[ap & p2]"
   ]
  },
  {
   "cell_type": "code",
   "execution_count": 51,
   "metadata": {
    "collapsed": false
   },
   "outputs": [
    {
     "data": {
      "text/plain": [
       "3"
      ]
     },
     "execution_count": 51,
     "metadata": {},
     "output_type": "execute_result"
    }
   ],
   "source": [
    "6 //2"
   ]
  },
  {
   "cell_type": "code",
   "execution_count": 52,
   "metadata": {
    "collapsed": false
   },
   "outputs": [
    {
     "data": {
      "text/plain": [
       "1"
      ]
     },
     "execution_count": 52,
     "metadata": {},
     "output_type": "execute_result"
    }
   ],
   "source": [
    "6//4"
   ]
  },
  {
   "cell_type": "code",
   "execution_count": 53,
   "metadata": {
    "collapsed": false
   },
   "outputs": [
    {
     "data": {
      "text/plain": [
       "5"
      ]
     },
     "execution_count": 53,
     "metadata": {},
     "output_type": "execute_result"
    }
   ],
   "source": [
    "5 | 4"
   ]
  },
  {
   "cell_type": "code",
   "execution_count": 54,
   "metadata": {
    "collapsed": false
   },
   "outputs": [
    {
     "ename": "SyntaxError",
     "evalue": "invalid syntax (<ipython-input-54-fe8d1b592ec6>, line 1)",
     "output_type": "error",
     "traceback": [
      "\u001b[0;36m  File \u001b[0;32m\"<ipython-input-54-fe8d1b592ec6>\"\u001b[0;36m, line \u001b[0;32m1\u001b[0m\n\u001b[0;31m    5 && 2\u001b[0m\n\u001b[0m       ^\u001b[0m\n\u001b[0;31mSyntaxError\u001b[0m\u001b[0;31m:\u001b[0m invalid syntax\n"
     ]
    }
   ],
   "source": [
    "5 && 2"
   ]
  },
  {
   "cell_type": "code",
   "execution_count": 55,
   "metadata": {
    "collapsed": false
   },
   "outputs": [
    {
     "data": {
      "text/plain": [
       "0"
      ]
     },
     "execution_count": 55,
     "metadata": {},
     "output_type": "execute_result"
    }
   ],
   "source": [
    "5 & 2"
   ]
  },
  {
   "cell_type": "code",
   "execution_count": 56,
   "metadata": {
    "collapsed": false
   },
   "outputs": [
    {
     "data": {
      "text/plain": [
       "5"
      ]
     },
     "execution_count": 56,
     "metadata": {},
     "output_type": "execute_result"
    }
   ],
   "source": [
    "5 & 5"
   ]
  },
  {
   "cell_type": "code",
   "execution_count": 57,
   "metadata": {
    "collapsed": false
   },
   "outputs": [
    {
     "data": {
      "text/plain": [
       "array([ -3.16804931e-01,  -4.88962319e-01,  -1.00148437e+00,\n",
       "        -9.55745726e-01,  -6.28474290e-01,  -1.54042042e+00,\n",
       "        -6.58233503e-01,  -9.04523450e-01,  -1.12702031e+00,\n",
       "        -3.21548967e-01,  -5.99345682e-01,  -1.92691071e-01,\n",
       "        -8.81770526e-01,  -7.73525377e-02,  -4.80384621e-01,\n",
       "        -1.71024927e+00,  -1.27272050e+00,  -1.29894177e-04,\n",
       "        -1.50590317e-01,  -6.59364833e-01,  -1.23103387e+00,\n",
       "        -2.92885680e-01,  -5.93305697e-01,  -7.51495651e-01,\n",
       "        -8.56878053e-02,  -1.78592391e-01,  -1.49354926e+00,\n",
       "        -6.56501801e-01,  -1.12200332e-01,  -2.24423561e+00,\n",
       "        -2.18782682e-01,  -1.15444886e+00,  -5.18799923e-02,\n",
       "        -7.24343015e-01,  -1.04167445e+00,  -3.05180951e+00,\n",
       "        -9.35121313e-01,  -8.36256808e-02,  -3.54106747e-02,\n",
       "        -1.67327071e-02,  -1.95977889e-01,  -1.53661002e+00,\n",
       "        -9.93075363e-01,  -4.09008433e-01])"
      ]
     },
     "execution_count": 57,
     "metadata": {},
     "output_type": "execute_result"
    }
   ],
   "source": [
    "arr[~(arr >0)]"
   ]
  },
  {
   "cell_type": "code",
   "execution_count": 59,
   "metadata": {
    "collapsed": false
   },
   "outputs": [
    {
     "data": {
      "text/plain": [
       "array([-1.00148437, -0.95574573,  0.32074305, -0.62847429,  0.49380604,\n",
       "        0.2004674 , -1.54042042, -0.6582335 , -0.90452345, -1.12702031,\n",
       "       -0.59934568, -0.88177053,  0.01801118,  0.14507436, -1.71024927,\n",
       "        0.23888984,  0.30167131, -1.2727205 , -0.65936483, -1.23103387,\n",
       "        0.00512749,  0.41397943, -0.5933057 , -0.75149565,  0.07108062,\n",
       "        0.26901663, -1.49354926, -0.6565018 ,  0.35367007, -2.24423561,\n",
       "        0.34508151, -1.15444886,  0.09555944, -0.72434302, -1.04167445,\n",
       "        0.28065873, -3.05180951, -0.93512131,  0.30437778, -1.53661002,\n",
       "       -0.99307536,  0.34600342])"
      ]
     },
     "execution_count": 59,
     "metadata": {},
     "output_type": "execute_result"
    }
   ],
   "source": [
    "arr[(arr>0) ^ (np.abs(arr) > 0.5)]"
   ]
  },
  {
   "cell_type": "code",
   "execution_count": 60,
   "metadata": {
    "collapsed": false
   },
   "outputs": [
    {
     "ename": "TypeError",
     "evalue": "ufunc 'left_shift' not supported for the input types, and the inputs could not be safely coerced to any supported types according to the casting rule ''safe''",
     "output_type": "error",
     "traceback": [
      "\u001b[0;31m---------------------------------------------------------------------------\u001b[0m",
      "\u001b[0;31mTypeError\u001b[0m                                 Traceback (most recent call last)",
      "\u001b[0;32m<ipython-input-60-429027233812>\u001b[0m in \u001b[0;36m<module>\u001b[0;34m()\u001b[0m\n\u001b[0;32m----> 1\u001b[0;31m \u001b[0marr\u001b[0m\u001b[1;33m<<\u001b[0m\u001b[1;36m1\u001b[0m\u001b[1;33m\u001b[0m\u001b[0m\n\u001b[0m",
      "\u001b[0;31mTypeError\u001b[0m: ufunc 'left_shift' not supported for the input types, and the inputs could not be safely coerced to any supported types according to the casting rule ''safe''"
     ]
    }
   ],
   "source": [
    "arr<<1"
   ]
  },
  {
   "cell_type": "code",
   "execution_count": 64,
   "metadata": {
    "collapsed": false
   },
   "outputs": [
    {
     "data": {
      "text/plain": [
       "array([0, 0, 2, 0, 2, 2, 0, 2, 0, 2, 2, 2, 2, 0, 0, 2, 0, 0, 0, 2, 0, 0, 0,\n",
       "       2, 2, 2, 2, 0, 0, 2, 2, 2, 0, 2, 2, 2, 2, 0, 0, 2, 0, 2, 0, 0, 2, 0,\n",
       "       2, 2, 2, 2, 2, 2, 0, 0, 2, 2, 2, 2, 2, 0, 2, 2, 0, 0, 0, 2, 0, 2, 2,\n",
       "       0, 2, 2, 2, 0, 0, 2, 0, 2, 0, 0, 2, 0, 0, 2, 0, 0, 0, 0, 2, 0, 0, 0,\n",
       "       2, 2, 2, 2, 2, 2, 2, 2], dtype=int32)"
      ]
     },
     "execution_count": 64,
     "metadata": {},
     "output_type": "execute_result"
    }
   ],
   "source": [
    "np.left_shift((arr >0),1)"
   ]
  },
  {
   "cell_type": "code",
   "execution_count": 65,
   "metadata": {
    "collapsed": false
   },
   "outputs": [
    {
     "data": {
      "text/plain": [
       "array([False, False,  True, False,  True,  True, False,  True, False,\n",
       "        True,  True,  True,  True, False, False,  True, False, False,\n",
       "       False,  True, False, False, False,  True,  True,  True,  True,\n",
       "       False, False,  True,  True,  True, False,  True,  True,  True,\n",
       "        True, False, False,  True, False,  True, False, False,  True,\n",
       "       False,  True,  True,  True,  True,  True,  True, False, False,\n",
       "        True,  True,  True,  True,  True, False,  True,  True, False,\n",
       "       False, False,  True, False,  True,  True, False,  True,  True,\n",
       "        True, False, False,  True, False,  True, False, False,  True,\n",
       "       False, False,  True, False, False, False, False,  True, False,\n",
       "       False, False,  True,  True,  True,  True,  True,  True,  True,  True], dtype=bool)"
      ]
     },
     "execution_count": 65,
     "metadata": {},
     "output_type": "execute_result"
    }
   ],
   "source": [
    "arr >0"
   ]
  },
  {
   "cell_type": "markdown",
   "metadata": {},
   "source": [
    "##Filtering"
   ]
  },
  {
   "cell_type": "code",
   "execution_count": 67,
   "metadata": {
    "collapsed": false
   },
   "outputs": [
    {
     "data": {
      "text/plain": [
       "array([ 1.7255197 ,  1.06330152,  2.12567684,  0.32074305,  1.53789072,\n",
       "        0.49380604,  0.2004674 ,  0.75590369,  0.65364312,  1.00156045,\n",
       "        0.65888887,  0.69565833,  0.01801118,  0.9901191 ,  1.13571308,\n",
       "        1.15928378,  0.14507436,  0.65855472,  0.23888984,  1.12632098,\n",
       "        0.30167131,  0.76719563,  0.98457033,  0.00512749,  0.6906881 ,\n",
       "        1.78095431,  0.41397943,  0.75570867,  0.65686019,  0.79039655,\n",
       "        0.6267854 ,  1.09373525,  0.07108062,  1.04674676,  0.26901663,\n",
       "        0.56443296,  1.72374411,  0.35367007,  1.23447707,  1.46118112,\n",
       "        0.34508151,  1.22905208,  1.14313494,  0.09555944,  0.66186891,\n",
       "        0.28065873,  2.41411693,  0.30437778,  0.53005835,  0.34600342,\n",
       "        1.52107406,  1.03242432,  0.51758303,  1.68614647,  1.96076171,\n",
       "        0.83396644])"
      ]
     },
     "execution_count": 67,
     "metadata": {},
     "output_type": "execute_result"
    }
   ],
   "source": [
    "arr[arr>0] #subset, by not a view. Slicing and reshaping are views"
   ]
  },
  {
   "cell_type": "code",
   "execution_count": 108,
   "metadata": {
    "collapsed": true
   },
   "outputs": [],
   "source": [
    "a1  =np.random.randint(0,10,100).reshape((10,10))"
   ]
  },
  {
   "cell_type": "code",
   "execution_count": 109,
   "metadata": {
    "collapsed": false
   },
   "outputs": [
    {
     "data": {
      "text/plain": [
       "array([[8, 1, 1, 6, 0, 5, 8, 9, 6, 7],\n",
       "       [9, 1, 1, 6, 9, 2, 0, 2, 0, 0],\n",
       "       [9, 7, 8, 3, 9, 7, 3, 5, 2, 3],\n",
       "       [9, 3, 0, 3, 8, 9, 6, 0, 4, 9],\n",
       "       [7, 3, 1, 6, 1, 8, 0, 7, 3, 3],\n",
       "       [7, 7, 7, 4, 0, 8, 2, 0, 8, 9],\n",
       "       [8, 4, 7, 4, 7, 2, 0, 7, 9, 8],\n",
       "       [7, 8, 2, 7, 6, 3, 7, 5, 3, 3],\n",
       "       [4, 4, 4, 0, 5, 6, 6, 8, 2, 6],\n",
       "       [7, 7, 4, 0, 9, 2, 2, 3, 7, 3]])"
      ]
     },
     "execution_count": 109,
     "metadata": {},
     "output_type": "execute_result"
    }
   ],
   "source": [
    "a1"
   ]
  },
  {
   "cell_type": "code",
   "execution_count": 74,
   "metadata": {
    "collapsed": false
   },
   "outputs": [
    {
     "data": {
      "text/plain": [
       "array([[5, 4, 9, 3],\n",
       "       [8, 7, 0, 1]])"
      ]
     },
     "execution_count": 74,
     "metadata": {},
     "output_type": "execute_result"
    }
   ],
   "source": [
    "arr4[::2]"
   ]
  },
  {
   "cell_type": "code",
   "execution_count": 99,
   "metadata": {
    "collapsed": false
   },
   "outputs": [
    {
     "data": {
      "text/plain": [
       "array([ -3.16804931e-01,  -4.88962319e-01,   1.72551970e+00,\n",
       "        -1.00148437e+00,   1.06330152e+00,   2.12567684e+00,\n",
       "        -9.55745726e-01,   3.20743053e-01,  -6.28474290e-01,\n",
       "         1.53789072e+00,   4.93806036e-01,   2.00467399e-01,\n",
       "         7.55903687e-01,  -1.54042042e+00,  -6.58233503e-01,\n",
       "         6.53643119e-01,  -9.04523450e-01,  -1.12702031e+00,\n",
       "        -3.21548967e-01,   1.00156045e+00,  -5.99345682e-01,\n",
       "        -1.92691071e-01,  -8.81770526e-01,   6.58888871e-01,\n",
       "         6.95658334e-01,   1.80111815e-02,   9.90119098e-01,\n",
       "        -7.73525377e-02,  -4.80384621e-01,   1.13571308e+00,\n",
       "         1.15928378e+00,   1.45074363e-01,  -1.71024927e+00,\n",
       "         6.58554717e-01,   2.38889836e-01,   1.12632098e+00,\n",
       "         3.01671307e-01,  -1.27272050e+00,  -1.29894177e-04,\n",
       "         7.67195633e-01,  -1.50590317e-01,   9.84570334e-01,\n",
       "        -6.59364833e-01,  -1.23103387e+00,   5.12749335e-03,\n",
       "        -2.92885680e-01,   6.90688102e-01,   1.78095431e+00,\n",
       "         4.13979430e-01,   7.55708666e-01,   6.56860192e-01,\n",
       "         7.90396548e-01,  -5.93305697e-01,  -7.51495651e-01,\n",
       "         6.26785403e-01,   1.09373525e+00,   7.10806205e-02,\n",
       "         1.04674676e+00,   2.69016627e-01,  -8.56878053e-02,\n",
       "         5.64432962e-01,   1.72374411e+00,  -1.78592391e-01,\n",
       "        -1.49354926e+00,  -6.56501801e-01,   3.53670071e-01,\n",
       "        -1.12200332e-01,   1.23447707e+00,   1.46118112e+00,\n",
       "        -2.24423561e+00,   3.45081508e-01,   1.22905208e+00,\n",
       "         1.14313494e+00,  -2.18782682e-01,  -1.15444886e+00,\n",
       "         9.55594421e-02,  -5.18799923e-02,   6.61868908e-01,\n",
       "        -7.24343015e-01,  -1.04167445e+00,   2.80658732e-01,\n",
       "        -3.05180951e+00,  -9.35121313e-01,   2.41411693e+00,\n",
       "        -8.36256808e-02,  -3.54106747e-02,  -1.67327071e-02,\n",
       "        -1.95977889e-01,   3.04377782e-01,  -1.53661002e+00,\n",
       "        -9.93075363e-01,  -4.09008433e-01,   5.30058347e-01,\n",
       "         3.46003422e-01,   1.52107406e+00,   1.03242432e+00,\n",
       "         5.17583029e-01,   1.68614647e+00,   1.96076171e+00,\n",
       "         8.33966437e-01])"
      ]
     },
     "execution_count": 99,
     "metadata": {},
     "output_type": "execute_result"
    }
   ],
   "source": [
    "arr"
   ]
  },
  {
   "cell_type": "code",
   "execution_count": 105,
   "metadata": {
    "collapsed": true
   },
   "outputs": [],
   "source": [
    "import numpy as np"
   ]
  },
  {
   "cell_type": "raw",
   "metadata": {},
   "source": [
    "print(np.random.randint(0,1,10))"
   ]
  },
  {
   "cell_type": "code",
   "execution_count": 104,
   "metadata": {
    "collapsed": false
   },
   "outputs": [
    {
     "ename": "NameError",
     "evalue": "name 'aa' is not defined",
     "output_type": "error",
     "traceback": [
      "\u001b[0;31m---------------------------------------------------------------------------\u001b[0m",
      "\u001b[0;31mNameError\u001b[0m                                 Traceback (most recent call last)",
      "\u001b[0;32m<ipython-input-104-d404401c8c64>\u001b[0m in \u001b[0;36m<module>\u001b[0;34m()\u001b[0m\n\u001b[0;32m----> 1\u001b[0;31m \u001b[0maa\u001b[0m\u001b[1;33m\u001b[0m\u001b[0m\n\u001b[0m",
      "\u001b[0;31mNameError\u001b[0m: name 'aa' is not defined"
     ]
    }
   ],
   "source": [
    "aa"
   ]
  },
  {
   "cell_type": "raw",
   "metadata": {},
   "source": [
    "a1"
   ]
  },
  {
   "cell_type": "code",
   "execution_count": 79,
   "metadata": {
    "collapsed": false
   },
   "outputs": [
    {
     "data": {
      "text/plain": [
       "0"
      ]
     },
     "execution_count": 79,
     "metadata": {},
     "output_type": "execute_result"
    }
   ],
   "source": [
    "a[2,2]"
   ]
  },
  {
   "cell_type": "code",
   "execution_count": 81,
   "metadata": {
    "collapsed": false
   },
   "outputs": [
    {
     "data": {
      "text/plain": [
       "array([[5, 9],\n",
       "       [8, 0]])"
      ]
     },
     "execution_count": 81,
     "metadata": {},
     "output_type": "execute_result"
    }
   ],
   "source": [
    "a[::2,::2]"
   ]
  },
  {
   "cell_type": "code",
   "execution_count": 88,
   "metadata": {
    "collapsed": false
   },
   "outputs": [
    {
     "data": {
      "text/plain": [
       "array([[2, 3],\n",
       "       [7, 2]])"
      ]
     },
     "execution_count": 88,
     "metadata": {},
     "output_type": "execute_result"
    }
   ],
   "source": [
    "a[1::2,1::2]"
   ]
  },
  {
   "cell_type": "code",
   "execution_count": 97,
   "metadata": {
    "collapsed": true
   },
   "outputs": [],
   "source": [
    "def pyramid(a):\n",
    "    b = (a[::2,::2] +a[::2,1::2]+a[1::2,::2]+a[1::2,1::2])/4\n",
    "    return b\n",
    "\n",
    "d = pyramid(arr4)"
   ]
  },
  {
   "cell_type": "code",
   "execution_count": 111,
   "metadata": {
    "collapsed": false
   },
   "outputs": [
    {
     "data": {
      "text/plain": [
       "array([[ 4.75,  3.5 ,  4.  ,  4.75,  3.25],\n",
       "       [ 7.  ,  3.5 ,  8.25,  3.5 ,  4.5 ],\n",
       "       [ 6.  ,  4.5 ,  4.25,  2.25,  5.75],\n",
       "       [ 6.75,  5.  ,  4.5 ,  4.75,  5.75],\n",
       "       [ 5.5 ,  2.  ,  5.5 ,  4.75,  4.5 ]])"
      ]
     },
     "execution_count": 111,
     "metadata": {},
     "output_type": "execute_result"
    }
   ],
   "source": [
    "pyramid(a1)"
   ]
  },
  {
   "cell_type": "code",
   "execution_count": null,
   "metadata": {
    "collapsed": true
   },
   "outputs": [],
   "source": []
  },
  {
   "cell_type": "code",
   "execution_count": null,
   "metadata": {
    "collapsed": true
   },
   "outputs": [],
   "source": []
  }
 ],
 "metadata": {
  "anaconda-cloud": {},
  "kernelspec": {
   "display_name": "Python [conda env:anaconda_training]",
   "language": "python",
   "name": "conda-env-anaconda_training-py"
  },
  "language_info": {
   "codemirror_mode": {
    "name": "ipython",
    "version": 3
   },
   "file_extension": ".py",
   "mimetype": "text/x-python",
   "name": "python",
   "nbconvert_exporter": "python",
   "pygments_lexer": "ipython3",
   "version": "3.5.2"
  }
 },
 "nbformat": 4,
 "nbformat_minor": 0
}
