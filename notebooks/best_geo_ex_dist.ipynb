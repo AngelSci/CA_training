{
 "cells": [
  {
   "cell_type": "markdown",
   "metadata": {},
   "source": [
    "<img src='img/logo.png'>\n",
    "<img src='img/title.png'>\n",
    "<img src='img/py3k.png'>"
   ]
  },
  {
   "cell_type": "markdown",
   "metadata": {},
   "source": [
    "# Table of Contents\n",
    "* [Learning Objectives](#Learning-Objectives)\n",
    "* [Problem: Distances between places](#Problem:-Distances-between-places)\n",
    "\t* [Variations on queries](#Variations-on-queries)\n",
    "\t* [Ambiguities in endpoints](#Ambiguities-in-endpoints)\n",
    "\t* [Partial or non-specific results](#Partial-or-non-specific-results)\n",
    "* [Advance problem for genius developers](#Advance-problem-for-genius-developers)\n"
   ]
  },
  {
   "cell_type": "markdown",
   "metadata": {},
   "source": [
    "# Learning Objectives"
   ]
  },
  {
   "cell_type": "markdown",
   "metadata": {},
   "source": [
    "* Enhance a library using developed APIs\n",
    "* Make judgement calls on heuristics and design compromises"
   ]
  },
  {
   "cell_type": "markdown",
   "metadata": {},
   "source": [
    "**The series of exercises in the Geospatial series are intended to present a realistically difficult set of development problems.  These exercises might take a half day or more for a class to work on extensively.**"
   ]
  },
  {
   "cell_type": "markdown",
   "metadata": {},
   "source": [
    "# Problem: Distances between places"
   ]
  },
  {
   "cell_type": "markdown",
   "metadata": {},
   "source": [
    "Recall that in the lesson on Refactoring we provided a function `sphere_dist()` to calculate the distances between geographic points.  Of course, the actual Earth is an obloid spheroid whose diameter at the equater is about 0.3% larger at the equator than at the poles.  However, as a simplification for this exercise, we will pretend that the Earth is spherical. Keep in mind, as you design functions and APIs, the possibility of improving the implementation of distance functions later better to match the actual geometery of the planet.\n",
    "\n",
    "Having a `sphere_distance()` function in our library seems useful.  We would like to build on this function to allow other queries that accept ways of specifying places other than by latitude and longitude, building on the capabilities we explored in GeoPy.  Develop a more general API, with supporting code, documention, and unit tests, to be able to ask other distance questions."
   ]
  },
  {
   "cell_type": "markdown",
   "metadata": {},
   "source": [
    "## Variations on queries"
   ]
  },
  {
   "cell_type": "markdown",
   "metadata": {},
   "source": [
    "For example, using a tentative (and perhaps untenable) implied API:\n",
    "\n",
    "```python\n",
    "distance_between(\"University of Colorado at Boulder\", (40.025746, -105.223424848719))\n",
    "distance_between(\"2580 55th St., Boulder, Colorado 80301\", \"Travis County, Texas\")\n",
    "distance_between(Region(<args>), Region(<args2>))  # Create custom Region objects\n",
    "distance_between(Region(<args>), Point(<args>))    # Presuming a Point is a type\n",
    "```"
   ]
  },
  {
   "cell_type": "markdown",
   "metadata": {},
   "source": [
    "## Ambiguities in endpoints"
   ]
  },
  {
   "cell_type": "markdown",
   "metadata": {},
   "source": [
    "A wrinkle to consider in some of these queries is that some of the endpoints are regions rather than single points.  Decide how you wish to handle distances that have endpoints in regions, and document that API (and test the behavior as correct).  I.e. you probably want to find some kind of centroid-like point, or at least some point that is representative of the region in some manner (perhaps the point closest to the other endpoint, if that is plausible?)"
   ]
  },
  {
   "cell_type": "markdown",
   "metadata": {},
   "source": [
    "## Partial or non-specific results"
   ]
  },
  {
   "cell_type": "markdown",
   "metadata": {},
   "source": [
    "Another issue to think about in designing your library and API is that some geolocators will return answers based on partial information in the specification.  For example, we saw that the GoogleV3 engine returns the exact same location for the search terms \"Boulder CO\" and \"Tendril Inc, Boulder CO\", but a different and more specific result for \"University of Colorado at Boulder\".\n",
    "\n",
    "Inspecting the raw result from a geolocator allows you to determine the type of result produced.  Make a decision about how you want to handle non-specific (or missing) results, and document that behavior."
   ]
  },
  {
   "cell_type": "markdown",
   "metadata": {},
   "source": [
    "# Advanced problem for genius developers"
   ]
  },
  {
   "cell_type": "markdown",
   "metadata": {},
   "source": [
    "We know that `sphere_distance()` is an inaccurate function for measuring actual distances on an obloid Earth.  The [World Geodetic System](https://en.wikipedia.org/wiki/World_Geodetic_System) is a more accurate estimator that gives precision in great arc distances of a few centimeters rather than multiple kilometers of potential error.  If you have completed all the previous work, implement a function `earth_distance()` to substitute for the simplified `sphere_distance()` and let any functions built on top of the latter use the former instead."
   ]
  },
  {
   "cell_type": "markdown",
   "metadata": {},
   "source": [
    "<img src='img/copyright.png'>"
   ]
  }
 ],
 "metadata": {
  "anaconda-cloud": {},
  "continuum": {
   "depends": [
    "tools_ex_geo1",
    "tools_ex_geo2",
    "tools_ex_geo3",
    "tools_ex_geo4",
    "tools_refactoring"
   ],
   "requires": [],
   "tag": "tools_ex_geo6"
  },
  "kernelspec": {
   "display_name": "Python [conda env:anaconda_training]",
   "language": "python",
   "name": "conda-env-anaconda_training-py"
  },
  "language_info": {
   "codemirror_mode": {
    "name": "ipython",
    "version": 3
   },
   "file_extension": ".py",
   "mimetype": "text/x-python",
   "name": "python",
   "nbconvert_exporter": "python",
   "pygments_lexer": "ipython3",
   "version": "3.5.2"
  }
 },
 "nbformat": 4,
 "nbformat_minor": 0
}
