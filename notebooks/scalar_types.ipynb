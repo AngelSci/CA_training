{
 "cells": [
  {
   "cell_type": "markdown",
   "metadata": {},
   "source": [
    "<img src='img/logo.png' />"
   ]
  },
  {
   "cell_type": "markdown",
   "metadata": {},
   "source": [
    "<img src='img/title.png'>"
   ]
  },
  {
   "cell_type": "markdown",
   "metadata": {},
   "source": [
    "<img src='img/py3k.png'>"
   ]
  },
  {
   "cell_type": "markdown",
   "metadata": {},
   "source": [
    "# Table of Contents\n",
    "* [Data types & data structures](#Data-types-&-data-structures)\n",
    "* [Learning Objectives:](#Learning-Objectives:)\n",
    "* [`None` object](#None-object)\n",
    "* [Numeric types](#Numeric-types)\n",
    "\t* [`bool` (boolean) type](#bool-%28boolean%29-type)\n",
    "\t* [`int` (integer) type](#int-%28integer%29-type)\n",
    "\t* [`float` (floating-point number) type](#float-%28floating-point-number%29-type)\n",
    "\t* [`complex` (complex number) type](#complex-%28complex-number%29-type)\n",
    "\t* [Exercise (Python as a calculator)](#Exercise-%28Python-as-a-calculator%29)\n",
    "* [`str` (string) type](#str-%28string%29-type)\n",
    "\t* [String methods](#String-methods)\n",
    "\t* [String indexing](#String-indexing)\n",
    "\t\t* [Immutability of Python `str` type](#Immutability-of-Python-str-type)\n",
    "\t* [String slicing](#String-slicing)\n",
    "\t* [String conversions and `format`](#String-conversions-and-format)\n",
    "\t\t* [Format strings (old-style)](#Format-strings-%28old-style%29)\n",
    "\t\t* [The `str.format()` mini-language](#The-str.format%28%29-mini-language)\n",
    "\t\t* [Details on the `str.format()` mini-language](#Details-on-the-str.format%28%29-mini-language)"
   ]
  },
  {
   "cell_type": "markdown",
   "metadata": {},
   "source": [
    "# Data types & data structures"
   ]
  },
  {
   "cell_type": "markdown",
   "metadata": {},
   "source": [
    "# Learning Objectives:"
   ]
  },
  {
   "cell_type": "markdown",
   "metadata": {},
   "source": [
    "After completion of this module, learners should be able to:\n",
    "\n",
    "* use & distinguish builtin Python numeric types: `bool`, `int`, `float`, `complex`\n",
    "* use & explain Python rules for type conversion & casting (e.g., combining operators & types)\n",
    "* apply common methods associated with builtin Python data types\n",
    "* use `help` (and other documentation) to learn about methods associated with builtin types\n",
    "* apply string indexing rules\n",
    "* apply the `str.format` mini-language to generate formatted output"
   ]
  },
  {
   "cell_type": "markdown",
   "metadata": {},
   "source": [
    "# `None` object"
   ]
  },
  {
   "cell_type": "markdown",
   "metadata": {},
   "source": [
    "Not really a data structure, but the special value `None` in Python is often used where `NULL` or `nil` or `Nothing` are used in other languages.  It is a frequent placeholder to say, \"We don't yet know how to handle this item, but we know to check whether it *is* `None`.\"  Hence code like this is common:\n",
    "\n",
    "```python\n",
    "for item in collection:\n",
    "    if item is not None:\n",
    "        process(item)\n",
    "    else:\n",
    "        pass\n",
    "```"
   ]
  },
  {
   "cell_type": "markdown",
   "metadata": {},
   "source": [
    "`None` is also special in that it is a *singleton*.  That is to say, there can only be one None object in a Python program, and hence ever `None` is not merely equal to, but *identical to* every other `None`."
   ]
  },
  {
   "cell_type": "markdown",
   "metadata": {},
   "source": [
    "# Numeric types"
   ]
  },
  {
   "cell_type": "markdown",
   "metadata": {},
   "source": [
    "Python has are three distinct built-in numeric classes (or types): integers, floating-point numbers, and complex numbers. Numbers in Python are instantiated from numeric literal expressions in code or are the results returned by functions, methods, and operators."
   ]
  },
  {
   "cell_type": "markdown",
   "metadata": {},
   "source": [
    "## `bool` (boolean) type"
   ]
  },
  {
   "cell_type": "markdown",
   "metadata": {},
   "source": [
    "Booleans are a subclass of integers. There are two values: `True` and `False`."
   ]
  },
  {
   "cell_type": "code",
   "execution_count": null,
   "metadata": {
    "collapsed": true
   },
   "outputs": [],
   "source": [
    "# Booleans: Is the Boolean value \"True\" simply the integer value \"1\"?\n",
    "True == 1"
   ]
  },
  {
   "cell_type": "code",
   "execution_count": null,
   "metadata": {
    "collapsed": true
   },
   "outputs": [],
   "source": [
    "False < 1 # Arithmetic comparison equivalent to \"0<1\""
   ]
  },
  {
   "cell_type": "code",
   "execution_count": null,
   "metadata": {
    "collapsed": true
   },
   "outputs": [],
   "source": [
    "(True + 1) "
   ]
  },
  {
   "cell_type": "code",
   "execution_count": null,
   "metadata": {
    "collapsed": true
   },
   "outputs": [],
   "source": [
    "isinstance(True, bool)"
   ]
  },
  {
   "cell_type": "code",
   "execution_count": null,
   "metadata": {
    "collapsed": true
   },
   "outputs": [],
   "source": [
    "True is 1 # This is not quite what some expect"
   ]
  },
  {
   "cell_type": "code",
   "execution_count": null,
   "metadata": {
    "collapsed": true
   },
   "outputs": [],
   "source": [
    "type(True), type(1)"
   ]
  },
  {
   "cell_type": "code",
   "execution_count": null,
   "metadata": {
    "collapsed": true
   },
   "outputs": [],
   "source": [
    "issubclass(bool, int)"
   ]
  },
  {
   "cell_type": "markdown",
   "metadata": {},
   "source": [
    "## `int` (integer) type"
   ]
  },
  {
   "cell_type": "markdown",
   "metadata": {},
   "source": [
    "Numeric literals that contain no decimal point and no `e` (which express floating-point numbers) and no trailing `j` (which express complex numbers) are (decimal) integers."
   ]
  },
  {
   "cell_type": "code",
   "execution_count": null,
   "metadata": {
    "collapsed": true
   },
   "outputs": [],
   "source": [
    "a = 12345678     # Replace with any sequence integer characters without spaces\n",
    "print(a,type(a))"
   ]
  },
  {
   "cell_type": "markdown",
   "metadata": {},
   "source": [
    "Representations of integers in certain numeral bases other than 10 can be entered as numeric literals: `0x` or `0X` prefix literal hexadecimal integers, `0o` or `0O` prefix literal octal integers, and `0b` or `0B` prefix literal binary integers."
   ]
  },
  {
   "cell_type": "code",
   "execution_count": null,
   "metadata": {
    "collapsed": true
   },
   "outputs": [],
   "source": [
    "# Hexadecimal integers\n",
    "print(0xFF03) # 15*16**3 + 15*16**2 +0*16**1 +3*16**0\n",
    "print(0XFF03) # 15*16**3 + 15*16**2 +0*16**1 +3*16**0\n",
    "print(15*16**3 + 15*16**2 +0*16**1 +3*16**0) # Verify result above"
   ]
  },
  {
   "cell_type": "code",
   "execution_count": null,
   "metadata": {
    "collapsed": true
   },
   "outputs": [],
   "source": [
    "# Octal integers\n",
    "print(0o76543) # 7*8**4 + 6*8**3 + 5*8**2 + 4*8**1 + 3*8**0\n",
    "print(0O76543)\n",
    "print(7*8**4 + 6*8**3 + 5*8**2 + 4*8**1 + 3*8**0) # Verify result above"
   ]
  },
  {
   "cell_type": "code",
   "execution_count": null,
   "metadata": {
    "collapsed": true
   },
   "outputs": [],
   "source": [
    "# Binary integers\n",
    "print(0b10010011) # 1*2**7 + 0*2**6 + 0*2**5 + 1*2**4 + 0*2**3 + 0*2**2 + 1*2**1 + 1*2**0\n",
    "print(0B10010011) # 1*2**7 + 0*2**6 + 0*2**5 + 1*2**4 + 0*2**3 + 0*2**2 + 1*2**1 + 1*2**0\n",
    "# Verify result above\n",
    "print(1*2**7 + 0*2**6 + 0*2**5 + 1*2**4 + 0*2**3 + 0*2**2 + 1*2**1 + 1*2**0) "
   ]
  },
  {
   "cell_type": "code",
   "execution_count": null,
   "metadata": {
    "collapsed": true
   },
   "outputs": [],
   "source": [
    "# A number in base 6\n",
    "int(\"3421\", 6)"
   ]
  },
  {
   "cell_type": "markdown",
   "metadata": {},
   "source": [
    "In Python 3, integers can have unlimited length in principle; as arithmetic operations produce results that overflow, representations of integers with longer bit patterns are adapted as required."
   ]
  },
  {
   "cell_type": "code",
   "execution_count": null,
   "metadata": {
    "collapsed": true
   },
   "outputs": [],
   "source": [
    "# Some integers\n",
    "print(2**8)\n",
    "print(2**32)\n",
    "print(2**64)\n",
    "print(2**65)\n",
    "print(2**129)"
   ]
  },
  {
   "cell_type": "code",
   "execution_count": null,
   "metadata": {
    "collapsed": true
   },
   "outputs": [],
   "source": [
    "# Even very large integers can be represented in Python\n",
    "2**(2**16)"
   ]
  },
  {
   "cell_type": "markdown",
   "metadata": {},
   "source": [
    "In addition to standard arithmetic operations, certain bitwise operations can be applied to integers."
   ]
  },
  {
   "cell_type": "code",
   "execution_count": null,
   "metadata": {
    "collapsed": true
   },
   "outputs": [],
   "source": [
    "print(3 << 4)  # shift left (int only)\n",
    "print(33 >> 4) # shift right (int only)\n",
    "print(3 & 4)   # bitwise and (int only)\n",
    "print(3 | 4)   # bitwise or (int only)\n",
    "print(3 ^ 4)   # bitwise xor (int only)\n",
    "print(~ 3)     # bitwise not (int only)"
   ]
  },
  {
   "cell_type": "markdown",
   "metadata": {},
   "source": [
    "## `float` (floating-point number) type"
   ]
  },
  {
   "cell_type": "markdown",
   "metadata": {},
   "source": [
    "Real number literals (expressed in base 10 scientific notation) are distinguished from integer literals by either a decimal point or an explicit mantissa and exponent separated by `e` or `E` (optionally with a decimal point as well)."
   ]
  },
  {
   "cell_type": "code",
   "execution_count": null,
   "metadata": {
    "collapsed": true
   },
   "outputs": [],
   "source": [
    "a = 4.732\n",
    "print(a, type(a))"
   ]
  },
  {
   "cell_type": "code",
   "execution_count": null,
   "metadata": {
    "collapsed": true
   },
   "outputs": [],
   "source": [
    "print(123e2)     # 12300; \"123e2\" means \"123 times 10**2\"\n",
    "print(456E-4)    # 0.0456; \"456e-4\" means \"456 times 10**(-4)\"\n",
    "print(-.7436e3)  # -743.6\n",
    "print(1476.3e20) # 1.4763*10**23"
   ]
  },
  {
   "cell_type": "code",
   "execution_count": null,
   "metadata": {
    "collapsed": true
   },
   "outputs": [],
   "source": [
    "-12345.6e78"
   ]
  },
  {
   "cell_type": "code",
   "execution_count": null,
   "metadata": {
    "collapsed": true
   },
   "outputs": [],
   "source": [
    "# \"int(23.45678e4)\" means \"23.45678 times 10 to the power 4 truncated to an integer\"\n",
    "int(23.45678e4)"
   ]
  },
  {
   "cell_type": "markdown",
   "metadata": {},
   "source": [
    "By default, Python floating-point numbers are stored internally using 8 bytes (i.e., double precision or `double` in C). Greater precision is attainable using the `decimal` and `numpy` modules. Specific details about internal representation of floating-point numbers can be determined using `sys.float_info`.\n",
    "\n",
    "Some fundamental facts to know about floating-point numbers:\n",
    "* The largest positive floating-point value is about $10^{308}$ in double precision; larger values *overflow* to $+\\infty$.\n",
    "* The smallest positive floating-point value is about $10^{-324}$ in double precision; smaller values *underflow* to 0.\n",
    "* Double precision floating-point values are represented with a 52-bit mantissa (plus one implicit bit). In practice, this translates to roughly 15&ndash;16 decimal digits of precision at best.\n",
    "* Certain computations&mdash;e.g., $-\\infty/\\infty$, etc.&mdash;result in *Not-a-Number* (also denoted *NaN* or *nan*).\n",
    "* More details on floating-point numbers & arithmetic:\n",
    "    * [Floating-point numbers](https://en.wikipedia.org/wiki/Floating_point)\n",
    "    * [The Floating-Point Guide](http://floating-point-gui.de/formats/fp/)\n",
    "    * [IEEE 754 standard](http://en.wikipedia.org/wiki/IEEE_754-2008)\n",
    "\n",
    "The behavior of IEEE-754 approximates the behavior of Real numbers in mathematics using a fixed and moderate amount of memory for each number, but because it is an imprecise format, in many cases it does not precisely obey mathematically expected properties such [associativity](https://en.wikipedia.org/wiki/Associative_property) , [commutativity](https://en.wikipedia.org/wiki/Commutative_property), and [multiplicative inverse](https://en.wikipedia.org/wiki/Multiplicative_inverse).  \n",
    "\n",
    "In an old discussion on the comp.lang.python Usenet group, a commentor noted that \"anyone who claims to understand IEEE-754 floating point math fully is either a liar or Tim Peters!\"  Tim Peters—author of the Zen of Python, inventor of the widely used [Timsort](https://en.wikipedia.org/wiki/Timsort), and contributor #2 to Python itself—replied \"It could be both.\""
   ]
  },
  {
   "cell_type": "code",
   "execution_count": null,
   "metadata": {
    "collapsed": true
   },
   "outputs": [],
   "source": [
    "import sys\n",
    "sys.float_info"
   ]
  },
  {
   "cell_type": "code",
   "execution_count": null,
   "metadata": {
    "collapsed": true
   },
   "outputs": [],
   "source": [
    "-1.23456e310 # overflows to -infinity"
   ]
  },
  {
   "cell_type": "code",
   "execution_count": null,
   "metadata": {
    "collapsed": true
   },
   "outputs": [],
   "source": [
    "float('Inf') / float('-inf') # Evaluates to +inf / -inf == nan"
   ]
  },
  {
   "cell_type": "code",
   "execution_count": null,
   "metadata": {
    "collapsed": true
   },
   "outputs": [],
   "source": [
    "for exponent in range(308, 400):\n",
    "    float_string = \"1e-{:d}\".format(exponent)\n",
    "    print(\"Attempting to represent {} as a float...\".format(float_string))\n",
    "    float_val = float(float_string)\n",
    "    if float_val == 0:\n",
    "        print(\"Underflow to 0 at {}\".format(float_string))\n",
    "        break"
   ]
  },
  {
   "cell_type": "markdown",
   "metadata": {},
   "source": [
    "\"nan\" means \"Not a Number\", e.g., inf/inf, inf-inf, or any operation involving nan"
   ]
  },
  {
   "cell_type": "code",
   "execution_count": null,
   "metadata": {
    "collapsed": true
   },
   "outputs": [],
   "source": [
    "inf = float('inf')\n",
    "inf-inf, inf/inf"
   ]
  },
  {
   "cell_type": "markdown",
   "metadata": {},
   "source": [
    "Every infinity is equal to, but not identical to, every other infinity of the sign.  However, every NaN is unequal to every other Nan"
   ]
  },
  {
   "cell_type": "code",
   "execution_count": null,
   "metadata": {
    "collapsed": true
   },
   "outputs": [],
   "source": [
    "-1.23456e310 == -inf"
   ]
  },
  {
   "cell_type": "code",
   "execution_count": null,
   "metadata": {
    "collapsed": true
   },
   "outputs": [],
   "source": [
    "inf == inf+2 == float('inf')"
   ]
  },
  {
   "cell_type": "code",
   "execution_count": null,
   "metadata": {
    "collapsed": true
   },
   "outputs": [],
   "source": [
    "inf is inf+2"
   ]
  },
  {
   "cell_type": "code",
   "execution_count": null,
   "metadata": {
    "collapsed": true
   },
   "outputs": [],
   "source": [
    "inf-inf == inf/inf"
   ]
  },
  {
   "cell_type": "code",
   "execution_count": null,
   "metadata": {
    "collapsed": true
   },
   "outputs": [],
   "source": [
    "float('nan') == float('nan')"
   ]
  },
  {
   "cell_type": "markdown",
   "metadata": {},
   "source": [
    "Comparing floating-point values for equality is generally inadvisable. Minor rounding errors in the least significant bits prevent simple calculation from resulting in expected results. It is usually better to specify a small tolerance (c.f., the square-root iteration from Module 1) to test for approximate equality of floating-point values."
   ]
  },
  {
   "cell_type": "code",
   "execution_count": null,
   "metadata": {
    "collapsed": true
   },
   "outputs": [],
   "source": [
    "b = sum([1/7]*7) # equivalent to \"1/7 + 1/7 + 1/7 + 1/7 + 1/7 + 1/7 + 1/7\"\n",
    "print(\"1/7 + 1/7 + 1/7 + 1/7 + 1/7 + 1/7 + 1/7 != 1.0\")\n",
    "print(b, \"!=\", 1.0)"
   ]
  },
  {
   "cell_type": "code",
   "execution_count": null,
   "metadata": {
    "collapsed": true
   },
   "outputs": [],
   "source": [
    "# Associativity can produce rounding errors\n",
    "a = (0.1 + 0.2) + 0.3\n",
    "b = 0.1 + (0.2 + 0.3)\n",
    "print(a, b)"
   ]
  },
  {
   "cell_type": "code",
   "execution_count": null,
   "metadata": {
    "collapsed": true
   },
   "outputs": [],
   "source": [
    "# Or overflows depending on associativity\n",
    "a = (1e307*100) / 100\n",
    "b = 1e307 * (100/100)\n",
    "print(a, b)"
   ]
  },
  {
   "cell_type": "code",
   "execution_count": null,
   "metadata": {
    "collapsed": true
   },
   "outputs": [],
   "source": [
    "delta = 0.0001   # Set our tolerance delta\n",
    "\n",
    "abs(3.14159265 - 3.1415) < delta"
   ]
  },
  {
   "cell_type": "code",
   "execution_count": null,
   "metadata": {
    "collapsed": true
   },
   "outputs": [],
   "source": [
    "type(delta)"
   ]
  },
  {
   "cell_type": "markdown",
   "metadata": {},
   "source": [
    "It is also important to be wary of the distinction between integer (\"floor\") division with `//` as opposed to regular floating-point division with `/`. In addition, dividing by zero raises an exception.\n",
    "\n",
    "Notice Python permits mixed arithmetic; when values of `int` and `float` type are combined in arithmetic expressions, the `int` is promoted (\"cast\") to a `float`. The type of a value can be explicitly cast using the constructors `int()`, or `float()` (with appropriate rounding/truncation)."
   ]
  },
  {
   "cell_type": "code",
   "execution_count": null,
   "metadata": {
    "collapsed": true
   },
   "outputs": [],
   "source": [
    "1.0/0"
   ]
  },
  {
   "cell_type": "code",
   "execution_count": null,
   "metadata": {
    "collapsed": true
   },
   "outputs": [],
   "source": [
    "print(1/5)"
   ]
  },
  {
   "cell_type": "code",
   "execution_count": null,
   "metadata": {
    "collapsed": true
   },
   "outputs": [],
   "source": [
    "# Types of division (different from Python 2.x)\n",
    "print(2/3)\n",
    "print(2//3)\n",
    "print(2.0//3.0)"
   ]
  },
  {
   "cell_type": "code",
   "execution_count": null,
   "metadata": {
    "collapsed": true
   },
   "outputs": [],
   "source": [
    "denominators = [3, 4, 6, 0, 3]\n",
    "for d in denominators:\n",
    "    print(\"d = %d\" % d)\n",
    "    print(7/d)"
   ]
  },
  {
   "cell_type": "code",
   "execution_count": null,
   "metadata": {
    "collapsed": true
   },
   "outputs": [],
   "source": [
    "denominators = [3, 4, 6, 0, 3]\n",
    "for d in denominators:\n",
    "    print(\"d = %d\" % d)\n",
    "    try:\n",
    "        print(7/d)\n",
    "    except ZeroDivisionError:\n",
    "        print(\"Attempt to divide by zero\")"
   ]
  },
  {
   "cell_type": "markdown",
   "metadata": {},
   "source": [
    "## `complex` (complex number) type"
   ]
  },
  {
   "cell_type": "markdown",
   "metadata": {},
   "source": [
    "In mathematics, it is common to refer to the square root of $-1$ as $i$ or $j$; in Python, we'll use the symbol $\\mathtt{j}$ to denote $\\sqrt{-1}$. Then *complex numbers* are expressible as a combination of the form $x+yj$ where $x$ and $y$ are real numbers.\n",
    "\n",
    "* In the expression $x+yj$, $x$ is said to be the *real* part and $y$ is said to be the *imaginary* part.\n",
    "* In Python, a complex numeric literal is (a) a real numeric literal with the symbol `j` as a suffix or (b) a real numeric literal added or subtracted to a real numeric literal with the symbol `j`. Notice this is the only case in Python where a token mixing numerals and alphabetic characters can begin with a numeral."
   ]
  },
  {
   "cell_type": "code",
   "execution_count": null,
   "metadata": {
    "collapsed": true
   },
   "outputs": [],
   "source": [
    "# Complex numbers\n",
    "print(4.56e-3+7.5e1j)\n",
    "complex_one = 1 + 0j \n",
    "print(complex_one == 1.0)\n",
    "print(complex_one is 1.0)\n",
    "type(complex_one)   # complex_one has type \"complex\" even though the imaginary part is zero"
   ]
  },
  {
   "cell_type": "markdown",
   "metadata": {},
   "source": [
    "When an `int` or a `float` value is combined in an arithmetic expression with a `complex` value, the result is cast to a `complex`. The type of a value can be explicitly cast using the constructors `int()`, `float()`, or `complex()` (with rounding or zeros introduced appropriately)."
   ]
  },
  {
   "cell_type": "code",
   "execution_count": null,
   "metadata": {
    "collapsed": true
   },
   "outputs": [],
   "source": [
    "a = 3  # Try replacing with various integer of floating-point values\n",
    "print(type(a))\n",
    "a += complex_one # casts resulting value to a complex value\n",
    "print(a, type(a))"
   ]
  },
  {
   "cell_type": "code",
   "execution_count": null,
   "metadata": {
    "collapsed": true
   },
   "outputs": [],
   "source": [
    "x, y = 3, 4.0\n",
    "print(\"x is of type {} and y is of type {}\".format(type(x), type(y)))\n",
    "# cast to \"higher type\" as needed\n",
    "print(\"x + y == {} is of type {}\".format(x+y, type(x+y))) "
   ]
  },
  {
   "cell_type": "code",
   "execution_count": null,
   "metadata": {
    "collapsed": true
   },
   "outputs": [],
   "source": [
    "x, y = complex(3,4), 4.0\n",
    "print(\"x is of type {} and y is of type {}\".format(type(x), type(y)))\n",
    "# cast to \"higher type\" as needed\n",
    "print(\"x * y == {} is of type {}\".format(x*y, type(x*y))) "
   ]
  },
  {
   "cell_type": "markdown",
   "metadata": {},
   "source": [
    "* Python `complex` values are essentially represented as a pair of Python `float` values.\n",
    "* Complex numbers are not ordered; as such, comparisons with \"less than\" and \"greater than:\" operators fail when applied to complex values.\n",
    "* If `z==x+y*1j` is Python complex value, the Python object `z` has attributes *`z.real==x`* and *`z.imag==y`* corresponding to the real and imaginary parts respectively.\n",
    "* The function `abs` returns the *modulus* of a complex value (i.e., $\\mathtt{abs}(x+yj)=\\sqrt{x^2+y^2}$).\n",
    "* If `z==x+y*1j==complex(x,y)` (where `x` & `y` are `float` or `int` values), the method `z.conjugate()` returns the value `x-y*1j` (the *complex conjugate* or `z`)."
   ]
  },
  {
   "cell_type": "code",
   "execution_count": null,
   "metadata": {
    "collapsed": true
   },
   "outputs": [],
   "source": [
    "# This does not work in Python 2.7\n",
    "1+1j < -1-.5j"
   ]
  },
  {
   "cell_type": "code",
   "execution_count": null,
   "metadata": {
    "collapsed": true
   },
   "outputs": [],
   "source": [
    "3+4j < 4+3j"
   ]
  },
  {
   "cell_type": "code",
   "execution_count": null,
   "metadata": {
    "collapsed": true
   },
   "outputs": [],
   "source": [
    "1+0j == 1, 2+0j == 2, 1 < 2"
   ]
  },
  {
   "cell_type": "code",
   "execution_count": null,
   "metadata": {
    "collapsed": true
   },
   "outputs": [],
   "source": [
    "# Again does not work in Python 2.7\n",
    "1+0j < 2+0j"
   ]
  },
  {
   "cell_type": "code",
   "execution_count": null,
   "metadata": {
    "collapsed": true
   },
   "outputs": [],
   "source": [
    "z = -1.43e-1+0.5e2j\n",
    "print(\"real(z) = {:.3e}\\nimag(z) = {:.3e}\".format(z.real, z.imag))\n",
    "print(\"conjugate(z) =\", z.conjugate())"
   ]
  },
  {
   "cell_type": "code",
   "execution_count": null,
   "metadata": {
    "collapsed": true
   },
   "outputs": [],
   "source": [
    "abs(3+4j), abs(4+3j), abs(3+4j) < abs(4+3j)"
   ]
  },
  {
   "cell_type": "markdown",
   "metadata": {},
   "source": [
    "In summary, when working with numeric data types in Python, the [Python documentation on numeric types](https://docs.python.org/3/library/stdtypes.html#numeric-types-int-float-complex) is of great value. When trying to understand how certain operators are computing results, it is useful to keep in mind that the results can differ when the operands are of different numeric type."
   ]
  },
  {
   "cell_type": "code",
   "execution_count": null,
   "metadata": {
    "collapsed": true
   },
   "outputs": [],
   "source": [
    "pow = __builtins__.pow\n",
    "print(3 + 4)          # addition\n",
    "print(3 - 4)          # subtraction\n",
    "print(3 * 4)          # multiplication\n",
    "print(3 / 4)          # \"true division\"\n",
    "print(3 // 4)         # floor division\n",
    "print(13 % 4)         # modulo\n",
    "print(3 ** 4)         # power\n",
    "print(abs(3-4))       # absolute value\n",
    "print(pow(3.0j,4))    # expect 81+0j\n",
    "print(pow(3, 4, 5))   # power with optional modulo: (3**4) % 5\n",
    "print(divmod(3, 4))   # division with remainder\n",
    "print(int(3.14))      # convert to an int\n",
    "print(float(3))       # convert to a float"
   ]
  },
  {
   "cell_type": "markdown",
   "metadata": {},
   "source": [
    "## Exercise (Python as a calculator)"
   ]
  },
  {
   "cell_type": "markdown",
   "metadata": {},
   "source": [
    "Play around with evaluating numeric expressions you'd like to calculate.  Perhaps you want to use capabilities in the `math` module we have seen briefly.  \n",
    "\n",
    "Does anything seem surprising in the syntax or available functions? What did you learn about Python syntax and semantics?"
   ]
  },
  {
   "cell_type": "markdown",
   "metadata": {},
   "source": [
    "# `str` (string) type"
   ]
  },
  {
   "cell_type": "markdown",
   "metadata": {},
   "source": [
    "Strings (or `str` objects) are textual data with *delimeters* to denote where the string starts and ends. String literals are constructed with single quote characters(i.e., `'`), double quote characters (i.e., `\"`) or a trio of single or double quote characters (i.e., `'''` or `\"\"\"`) as delimiters. Triple quoted strings can span multiple lines&mdash;all associated whitespace will be included in the string."
   ]
  },
  {
   "cell_type": "code",
   "execution_count": null,
   "metadata": {
    "collapsed": true
   },
   "outputs": [],
   "source": [
    "a = 'a string'\n",
    "print(a, type(a))"
   ]
  },
  {
   "cell_type": "code",
   "execution_count": null,
   "metadata": {
    "collapsed": true
   },
   "outputs": [],
   "source": [
    "string_1 = 'Single quotes as delimiters permit \"double\" quotes inside.'\n",
    "string_2 = \"Double quotes as delimiters don't have problems with 'single' quotes inside.\"\n",
    "string_3 = '''\n",
    "Triple (single) quotes don't have problems with 'single' or \"double\" quotes\n",
    "inside. They don't even have problems with line breaks!\n",
    "'''\n",
    "print(string_1)\n",
    "print(string_2)\n",
    "print(string_3)"
   ]
  },
  {
   "cell_type": "markdown",
   "metadata": {},
   "source": [
    "To embed a single quote character (one or more) within a string delimited by single quotes, a backslash character is needed as an *escape chracter*. The same applies for double quote characters embedded within strings delimited by double quote characters. Other escaped string literals can be found in the [Python documentation](https://docs.python.org/3/reference/lexical_analysis.html#strings). Notice as of Python 3, strings characters are [Unicode code points](https://en.wikipedia.org/wiki/Code_point)."
   ]
  },
  {
   "cell_type": "code",
   "execution_count": null,
   "metadata": {
    "collapsed": true
   },
   "outputs": [],
   "source": [
    "empty_str = ''\n",
    "string_1 = 'Single quotes as delimiters permit \\'escaped single\\' quotes inside.'\n",
    "string_2 = \"Double quotes as delimiters \\\"escaped double\\\" quotes inside.\"\n",
    "string_3 = '''Other escaped characters include the literal backslash \\\\,\n",
    "Unicode characters with hex values like \\\\u00CC == \\u00CC,'''\n",
    "string_4 = 'the\\ttab character \\\\t &\\nthe line feed \\\\n.'\n",
    "print('empty_str = %r' % empty_str)\n",
    "print(string_1)\n",
    "print(string_2)\n",
    "print(string_3,string_4)"
   ]
  },
  {
   "cell_type": "code",
   "execution_count": null,
   "metadata": {
    "collapsed": true
   },
   "outputs": [],
   "source": [
    "print(\"Unicode charcters may be entered by name: \\N{GREEK SMALL LETTER DELTA}. \",\n",
    "      \"And also by codepoint: \\u03B4\")"
   ]
  },
  {
   "cell_type": "code",
   "execution_count": null,
   "metadata": {
    "collapsed": true
   },
   "outputs": [],
   "source": [
    "print(\"Strings can contain either literal non-ASCII characters\",\n",
    "      \"Say in Русский.  Or they can contain escapes to codepoints\",\n",
    "      \"such as \\u0420\\u0443\\u0441\\u0441\\u043a\\u0438\\u0439\")"
   ]
  },
  {
   "cell_type": "code",
   "execution_count": null,
   "metadata": {
    "collapsed": true
   },
   "outputs": [],
   "source": [
    "import unicodedata\n",
    "unicodedata.lookup(\"GREEK SMALL LETTER DELTA\")"
   ]
  },
  {
   "cell_type": "code",
   "execution_count": null,
   "metadata": {
    "collapsed": true
   },
   "outputs": [],
   "source": [
    "hex(ord(\"δ\"))"
   ]
  },
  {
   "cell_type": "code",
   "execution_count": null,
   "metadata": {
    "collapsed": true
   },
   "outputs": [],
   "source": [
    "unicodedata.name(\"δ\")"
   ]
  },
  {
   "cell_type": "code",
   "execution_count": null,
   "metadata": {
    "collapsed": true
   },
   "outputs": [],
   "source": [
    "old_s = 'Mary had a little lamb\\nIts fleece was white as snow\\nAnd everywhere that Mary went\\nThe lamb was sure to go.'\n",
    "print(old_s)"
   ]
  },
  {
   "cell_type": "code",
   "execution_count": null,
   "metadata": {
    "collapsed": true
   },
   "outputs": [],
   "source": [
    "new_s = \"\"\"Mary had a little lamb\n",
    "Its fleece was white as snow\n",
    "And everywhere that Mary went\n",
    "The lamb was sure to go.\"\"\"\n",
    "print(new_s)"
   ]
  },
  {
   "cell_type": "code",
   "execution_count": null,
   "metadata": {
    "collapsed": true
   },
   "outputs": [],
   "source": [
    "# Check whether the strings new_s and old_s are identical in every way.\n",
    "print(new_s == old_s) \n",
    "new_s is old_s"
   ]
  },
  {
   "cell_type": "code",
   "execution_count": null,
   "metadata": {
    "collapsed": true
   },
   "outputs": [],
   "source": [
    "s = \"Ain't it a shame?!\"  # Single quote in double quotes\n",
    "s"
   ]
  },
  {
   "cell_type": "code",
   "execution_count": null,
   "metadata": {
    "collapsed": true
   },
   "outputs": [],
   "source": [
    "s = 'Ain\\'t it a shame?!' # Another example of escaping characters within strings\n",
    "print(s)"
   ]
  },
  {
   "cell_type": "code",
   "execution_count": null,
   "metadata": {
    "collapsed": true
   },
   "outputs": [],
   "source": [
    "s = \"\"\"He said \"Ain't that a shame\"!\"\"\" # Triple quotes to include both single/double\n",
    "print(s)"
   ]
  },
  {
   "cell_type": "code",
   "execution_count": null,
   "metadata": {
    "collapsed": true
   },
   "outputs": [],
   "source": [
    "print('He said \"Hi\" to me')"
   ]
  },
  {
   "cell_type": "code",
   "execution_count": null,
   "metadata": {
    "collapsed": true
   },
   "outputs": [],
   "source": [
    "print(\"He said \\\"Hi\\\" to me\") # Another example of escaping characters within strings"
   ]
  },
  {
   "cell_type": "markdown",
   "metadata": {},
   "source": [
    "## String methods"
   ]
  },
  {
   "cell_type": "markdown",
   "metadata": {},
   "source": [
    "As objects, strings have a variety of *methods* (functions) that can be invoked and operate on data contained in the calling `str` object.\n",
    "\n",
    "| | | |\n",
    " :-: | :-: | :-: | :-: \n",
    "`capitalize`|`casefold`|`center`|`count`\n",
    "`encode`|`endswith`|`expandtabs`|`find`\n",
    "`format`|`format_map`|`index`|`isalnum`\n",
    "`isalpha`|`isdecimal`|`isdigit`|`isidentifier`\n",
    "`islower`|`isnumeric`|`isprintable`|`isspace`\n",
    "`istitle`|`isupper`|`join`|`ljust`\n",
    "`lower`|`lstrip`|`maketrans`|`partition`\n",
    "`replace`|`rfind`|`rindex` | `rjust`\n",
    "`rpartition`|`rsplit`|`rstrip` | `split`\n",
    "`splitlines`|`strip`|`swapcase`| `title`\n",
    "`translate`|`upper`|`zfill` |\n",
    "\n",
    "Many of these methods have purposes indicated clearly by their names. We can use `help` or the [Python documentation](https://docs.python.org/3/library/stdtypes.html#string-methods) to determine their function. Let's examine a few here.\n",
    "\n",
    "Given a `str` object with identifier, say, `a_string`, any string *`method`* is invoked using `a_string.`*`method()`* (that is, the string as an argument to the method is positioned as a prefix of the method in the call). Of course, other arguments may be required within the parentheses, depending on which method is used.\n",
    "\n",
    "With strings, as with all objects, the object instance itself is the first thing passed to the method, defined in the class.  So, for example, writing `a_string.method(other, args)` does the same thing as calling `str.method(a_string, other, args)`."
   ]
  },
  {
   "cell_type": "code",
   "execution_count": null,
   "metadata": {
    "collapsed": true
   },
   "outputs": [],
   "source": [
    "haiku = \"\"\"\n",
    "    an aging willow\n",
    "    its image unsteady\n",
    "    in the flowing stream\n",
    "\"\"\"\n",
    "print(haiku) # We construct a multi-line string to experiment with first."
   ]
  },
  {
   "cell_type": "code",
   "execution_count": null,
   "metadata": {
    "collapsed": true
   },
   "outputs": [],
   "source": [
    "# haiku.count('i') returns the number of times the character 'i' occurs\n",
    "haiku.count('i')"
   ]
  },
  {
   "cell_type": "code",
   "execution_count": null,
   "metadata": {
    "collapsed": true
   },
   "outputs": [],
   "source": [
    "# haiku.count('in') returns the number of times the substring 'in' occurs\n",
    "haiku.count('in')"
   ]
  },
  {
   "cell_type": "code",
   "execution_count": null,
   "metadata": {
    "collapsed": true
   },
   "outputs": [],
   "source": [
    "haiku.split()"
   ]
  },
  {
   "cell_type": "code",
   "execution_count": null,
   "metadata": {
    "collapsed": true
   },
   "outputs": [],
   "source": [
    "sum('in' == word for word in haiku.split())"
   ]
  },
  {
   "cell_type": "code",
   "execution_count": null,
   "metadata": {
    "collapsed": true
   },
   "outputs": [],
   "source": [
    "sum('in' in word for word in haiku.split())"
   ]
  },
  {
   "cell_type": "code",
   "execution_count": null,
   "metadata": {
    "collapsed": true
   },
   "outputs": [],
   "source": [
    "haiku.count('x') # returns 0 because 'x' is not a substring of haiku"
   ]
  },
  {
   "cell_type": "code",
   "execution_count": null,
   "metadata": {
    "collapsed": true
   },
   "outputs": [],
   "source": [
    "print(haiku.strip()) # Removes leading/trailing whitespace (but not internal whitespace)"
   ]
  },
  {
   "cell_type": "code",
   "execution_count": null,
   "metadata": {
    "collapsed": true
   },
   "outputs": [],
   "source": [
    "# Splits string haiku on line feed characters; returns a *list*\n",
    "lines = haiku.split('\\n')\n",
    "lines"
   ]
  },
  {
   "cell_type": "code",
   "execution_count": null,
   "metadata": {
    "collapsed": true
   },
   "outputs": [],
   "source": [
    "# We're going to jump ahead slightly in this example, i.e., using list conprehension\n",
    "# The following removes empty lines as well as trailing whitespace\n",
    "[line.strip() for line in haiku.split('\\n') if line]"
   ]
  },
  {
   "cell_type": "code",
   "execution_count": null,
   "metadata": {
    "collapsed": true
   },
   "outputs": [],
   "source": [
    "# joining pieces back together\n",
    "print(\"\\n\".join([line.strip() for line in haiku.split('\\n') if line]))"
   ]
  },
  {
   "cell_type": "code",
   "execution_count": null,
   "metadata": {
    "collapsed": true
   },
   "outputs": [],
   "source": [
    "print(haiku.upper()) # Convert to upper case, return a new string\n",
    "print(haiku)"
   ]
  },
  {
   "cell_type": "code",
   "execution_count": null,
   "metadata": {
    "collapsed": true
   },
   "outputs": [],
   "source": [
    "# replaces a source substring with target substring, return as new string\n",
    "print(haiku.replace('unsteady','wavering'))"
   ]
  },
  {
   "cell_type": "code",
   "execution_count": null,
   "metadata": {
    "collapsed": true
   },
   "outputs": [],
   "source": [
    "# nothing happens with the source substring not found\n",
    "print(haiku.replace('uneasy','wavering')) "
   ]
  },
  {
   "cell_type": "code",
   "execution_count": null,
   "metadata": {
    "collapsed": true
   },
   "outputs": [],
   "source": [
    "'uneasy' in haiku # Should evaluate to False"
   ]
  },
  {
   "cell_type": "code",
   "execution_count": null,
   "metadata": {
    "collapsed": true
   },
   "outputs": [],
   "source": [
    "'unsteady' in haiku"
   ]
  },
  {
   "cell_type": "code",
   "execution_count": null,
   "metadata": {
    "collapsed": true
   },
   "outputs": [],
   "source": [
    "haiku.endswith('stream') # Whoops, need to strip the whitespace..."
   ]
  },
  {
   "cell_type": "code",
   "execution_count": null,
   "metadata": {
    "collapsed": true
   },
   "outputs": [],
   "source": [
    "haiku.rstrip().endswith('stream') # This is what we expected..."
   ]
  },
  {
   "cell_type": "code",
   "execution_count": null,
   "metadata": {
    "collapsed": true
   },
   "outputs": [],
   "source": [
    "# Another jump ahead to map().  This is another way of iterating implicitly\n",
    "lines = map(str.strip, haiku.split('\\n'))\n",
    "[x for x in lines if x.endswith(('willow','stream'))]"
   ]
  },
  {
   "cell_type": "code",
   "execution_count": null,
   "metadata": {
    "collapsed": true
   },
   "outputs": [],
   "source": [
    "haiku.isalpha() # Only True when all characters are alphanumeric"
   ]
  },
  {
   "cell_type": "code",
   "execution_count": null,
   "metadata": {
    "collapsed": true
   },
   "outputs": [],
   "source": [
    "\"David\".isalpha() # Should be True"
   ]
  },
  {
   "cell_type": "code",
   "execution_count": null,
   "metadata": {
    "collapsed": true
   },
   "outputs": [],
   "source": [
    "haiku.isdigit()"
   ]
  },
  {
   "cell_type": "code",
   "execution_count": null,
   "metadata": {
    "collapsed": true
   },
   "outputs": [],
   "source": [
    "\"12345\".isdigit()"
   ]
  },
  {
   "cell_type": "code",
   "execution_count": null,
   "metadata": {
    "collapsed": true
   },
   "outputs": [],
   "source": [
    "# This asks \"are all the *letters* lowercase?\", \n",
    "# not \"are all the characters lowercase letters?\n",
    "haiku.islower()"
   ]
  },
  {
   "cell_type": "code",
   "execution_count": null,
   "metadata": {
    "collapsed": true
   },
   "outputs": [],
   "source": [
    "\"abc123#$%^&\".islower()"
   ]
  },
  {
   "cell_type": "code",
   "execution_count": null,
   "metadata": {
    "collapsed": true
   },
   "outputs": [],
   "source": [
    "# However, there must also *be* some letters for this to be true\n",
    "\"12345\".islower()"
   ]
  },
  {
   "cell_type": "code",
   "execution_count": null,
   "metadata": {
    "collapsed": true
   },
   "outputs": [],
   "source": [
    "help(str.islower)"
   ]
  },
  {
   "cell_type": "code",
   "execution_count": null,
   "metadata": {
    "collapsed": true
   },
   "outputs": [],
   "source": [
    "haiku.isupper()"
   ]
  },
  {
   "cell_type": "code",
   "execution_count": null,
   "metadata": {
    "collapsed": true
   },
   "outputs": [],
   "source": [
    "# Converts string haiku into a list of words\n",
    "# ... more specifically, divide the string around any sequence of whitespace\n",
    "words = haiku.split() \n",
    "words"
   ]
  },
  {
   "cell_type": "code",
   "execution_count": null,
   "metadata": {
    "collapsed": true
   },
   "outputs": [],
   "source": [
    "print(words)\n",
    "\"__\".join(words)"
   ]
  },
  {
   "cell_type": "code",
   "execution_count": null,
   "metadata": {
    "collapsed": true
   },
   "outputs": [],
   "source": [
    "\"_\".join(haiku) # Treats string haiku as list of letters; joins all with '_'"
   ]
  },
  {
   "cell_type": "code",
   "execution_count": null,
   "metadata": {
    "collapsed": true
   },
   "outputs": [],
   "source": [
    "prefixes = ('Ti', 'Da', 'Le')\n",
    "\"David\".startswith(prefixes)"
   ]
  },
  {
   "cell_type": "code",
   "execution_count": null,
   "metadata": {
    "collapsed": true
   },
   "outputs": [],
   "source": [
    "# Replaces line-feed with empty strings; puts all on one line\n",
    "print(haiku.replace('\\n',''))\n",
    "# split into substrings on 'w'; returns list\n",
    "haiku.replace('\\n','').split('w')"
   ]
  },
  {
   "cell_type": "code",
   "execution_count": null,
   "metadata": {
    "collapsed": true
   },
   "outputs": [],
   "source": [
    "# Returns leading index of first occurrence of 'aging' inside 'haiku'\n",
    "haiku.find('aging')"
   ]
  },
  {
   "cell_type": "code",
   "execution_count": null,
   "metadata": {
    "collapsed": true
   },
   "outputs": [],
   "source": [
    "# haiku.find(substring) returns -1 if the substring is not found\n",
    "print(haiku.find('old'))"
   ]
  },
  {
   "cell_type": "code",
   "execution_count": null,
   "metadata": {
    "collapsed": true
   },
   "outputs": [],
   "source": [
    "help(str.find)"
   ]
  },
  {
   "cell_type": "code",
   "execution_count": null,
   "metadata": {
    "collapsed": true
   },
   "outputs": [],
   "source": [
    "# also str.rindex() exists, and behaves as expected\n",
    "haiku.rfind('st'), haiku.find('st')"
   ]
  },
  {
   "cell_type": "code",
   "execution_count": null,
   "metadata": {
    "collapsed": true
   },
   "outputs": [],
   "source": [
    "# haiku.index is like haiku.find() with different error-handling bahaviour\n",
    "haiku.index('aging') "
   ]
  },
  {
   "cell_type": "code",
   "execution_count": null,
   "metadata": {
    "collapsed": true
   },
   "outputs": [],
   "source": [
    "haiku.index('old') # ValueError because 'old' not substring of haiku"
   ]
  },
  {
   "cell_type": "code",
   "execution_count": null,
   "metadata": {
    "collapsed": true
   },
   "outputs": [],
   "source": [
    "haiku[0], haiku[10]"
   ]
  },
  {
   "cell_type": "code",
   "execution_count": null,
   "metadata": {
    "collapsed": true
   },
   "outputs": [],
   "source": [
    "haiku[:8]"
   ]
  },
  {
   "cell_type": "code",
   "execution_count": null,
   "metadata": {
    "collapsed": true
   },
   "outputs": [],
   "source": [
    "haiku[8:]"
   ]
  },
  {
   "cell_type": "code",
   "execution_count": null,
   "metadata": {
    "collapsed": true
   },
   "outputs": [],
   "source": [
    "haiku[8:20]"
   ]
  },
  {
   "cell_type": "code",
   "execution_count": null,
   "metadata": {
    "collapsed": true
   },
   "outputs": [],
   "source": [
    "haiku[8:20] + haiku[20:30] == haiku[8:30]"
   ]
  },
  {
   "cell_type": "code",
   "execution_count": null,
   "metadata": {
    "collapsed": true
   },
   "outputs": [],
   "source": [
    "haiku[-1]"
   ]
  },
  {
   "cell_type": "code",
   "execution_count": null,
   "metadata": {
    "collapsed": true
   },
   "outputs": [],
   "source": [
    "haiku[-20:-10]"
   ]
  },
  {
   "cell_type": "markdown",
   "metadata": {},
   "source": [
    "The distinct behaviors of `str.find` and `str.index` suggest two distinct methods for safeguarding output from a program. The first method `str.find` returns `-1` when the substring input argument does not produce a match. By contrast, the second method `str.index` returns an *exception*&mdash;in particular, the exception `ValueError` to inform us that the substring was not found in the string.\n",
    "\n",
    "Using `str.find`, we can construct an `if-else` block to flag the error. Notice that if we don't try to catch the erroneous return value `-1`, the statement `print(haiku[position:])` prints the last character of `haiku` (which happens to be `\\n`, a line feed character.\n",
    "\n",
    "Note on good programming practice: It is more dangerous to let your program *succeed* in returning a wrong answer than it is to raise an uncaught exception that you *have to* fix before working with the program.  The philosophy behind this is often expressed with the slogan *\"Fail early, fail hard!\"*"
   ]
  },
  {
   "cell_type": "code",
   "execution_count": null,
   "metadata": {
    "collapsed": true
   },
   "outputs": [],
   "source": [
    "# pos = haiku.find('old')\n",
    "# end = haiku[pos:]\n",
    "haiku[-1:]"
   ]
  },
  {
   "cell_type": "code",
   "execution_count": null,
   "metadata": {
    "collapsed": true
   },
   "outputs": [],
   "source": [
    "position = haiku.find('old')\n",
    "if position != -1:\n",
    "    print(haiku[position:])\n",
    "else:\n",
    "    print(\"Not found\")"
   ]
  },
  {
   "cell_type": "markdown",
   "metadata": {},
   "source": [
    "A more Pythonic idiom to catch an error is to use a *`try-except`* block instead. With the `try-except` block, the Python interpreter attempts to execute the statement `position = haiku.index('old')`. In this case, rather than returning an innocuous value `-1` (as `haiku.find` would do), `haiku.index` *raises an exception* (in this case, the exception `ValueError`). When an exception is raised within a `try` block, the code within the `except` block executes instead. It is generally considered better practice to raise exceptions in functions/modules that can be caught in higher-level namespaces.\n",
    "\n",
    "Programmers who have worked with languages such as C++ and Java may think of exceptions as terrible events that indicate a program is badly broken.  In contrast, Pythonic code follows the philosophy that *\"Exceptions are not that exceptional!\"*  Allowing exceptions to occur, and catching them in the appropriate place is good and expected coding style."
   ]
  },
  {
   "cell_type": "code",
   "execution_count": null,
   "metadata": {
    "collapsed": true
   },
   "outputs": [],
   "source": [
    "# More Pythonic not to allow a bad answer to pass silently\n",
    "try:\n",
    "    position = haiku.index('old')\n",
    "    print(haiku[position:])\n",
    "except Exception as e: # Exception is the broad class of all exceptions\n",
    "    # This except block catches *any* exception whatsoever\n",
    "    print(repr(e))"
   ]
  },
  {
   "cell_type": "code",
   "execution_count": null,
   "metadata": {
    "collapsed": true
   },
   "outputs": [],
   "source": [
    "# Even more Pythonic to catch only the exception we know how to deal with\n",
    "try:\n",
    "    pos = haiku.index('old')\n",
    "    print(haiku[pos:])\n",
    "except ValueError as e: # In this version, we flag the particular exception\n",
    "    # This except block executes only with a ValueError.\n",
    "    print(\"Not found\")"
   ]
  },
  {
   "cell_type": "markdown",
   "metadata": {},
   "source": [
    "## String indexing"
   ]
  },
  {
   "cell_type": "markdown",
   "metadata": {},
   "source": [
    "An important feature of string manipulation in Python is *string indexing* and *string slicing*. *Indexing* refers to extracting individual elements (characters) from Python strings. The syntax for indexing uses square brackets around an integer index to refer to a character inside the string.\n",
    "* Indexing starts at 0 at the beginning (left) of the string, e.g., the reference `s[3]` refers to the *fourth* character of the string `s` counting from the left.\n",
    "  * Sometimes using neologisms of constructing cardinal numbers from ordinal names makes clear the difference between \"which character\" and \"which index position.\"  E.g. \"zeroeth\", \"oneth\", \"two-eth\", \"three-eth\" to name indices.  If the use of fake words pains you, don't use these.\n",
    "* Negative indices start from the end (right) of the string, e.g, `s[-2]` is the second to last character in the string.\n",
    "* Trying to index with an index too large for the string throws an exception (an `IndexError`)"
   ]
  },
  {
   "cell_type": "code",
   "execution_count": null,
   "metadata": {
    "collapsed": true
   },
   "outputs": [],
   "source": [
    "s = \"My name is David\"\n",
    "print(s[11])  # Indexed from zero, so s[11] is the 12th character,; expect 'D'\n",
    "print(s[-3])  # expect 'v'\n",
    "print(len(s)) # Prints the length of the string"
   ]
  },
  {
   "cell_type": "code",
   "execution_count": null,
   "metadata": {
    "collapsed": true
   },
   "outputs": [],
   "source": [
    "# Should raies an IndexError (last character in the string has index 15)\n",
    "print(s[16])"
   ]
  },
  {
   "cell_type": "code",
   "execution_count": null,
   "metadata": {
    "collapsed": true
   },
   "outputs": [],
   "source": [
    "s[-17]"
   ]
  },
  {
   "cell_type": "code",
   "execution_count": null,
   "metadata": {
    "collapsed": true
   },
   "outputs": [],
   "source": [
    "# We could have checked the length using:\n",
    "len(s)   # Indices 0 .. 15"
   ]
  },
  {
   "cell_type": "markdown",
   "metadata": {},
   "source": [
    "### Immutability of Python `str` type"
   ]
  },
  {
   "cell_type": "markdown",
   "metadata": {},
   "source": [
    "A confusing feature for newcomers coming from C-family languages to Python is that strings are *immutable*; that is, individual characters/substrings within a string object cannot be overwritten once the string has been created. Thus, expressions involving string indices (or slices, see below) can occur on the right-hand side of an assignment operator, but never on the left-hand side. There are a handful of other immutable data structures in Python whose items cannot be reassigned after the object has been created. Having certain data structures being immutable enables optimizations in using dictionaries (see below)."
   ]
  },
  {
   "cell_type": "code",
   "execution_count": null,
   "metadata": {
    "collapsed": true
   },
   "outputs": [],
   "source": [
    "print(s)\n",
    "# This assignment works; s[4] on the right-hand sice of the assignment operator\n",
    "c3 = s[3]\n",
    "c3"
   ]
  },
  {
   "cell_type": "code",
   "execution_count": null,
   "metadata": {
    "collapsed": true
   },
   "outputs": [],
   "source": [
    "s[3] = 'g' # This raises an exception (TypeError)"
   ]
  },
  {
   "cell_type": "markdown",
   "metadata": {},
   "source": [
    "## String slicing"
   ]
  },
  {
   "cell_type": "markdown",
   "metadata": {},
   "source": [
    "Beyond indexing individual elements of strings, we can also extract *slices* (substrings) from strings by specifying a (half-open) range of indices within brackets.\n",
    "* The slice `my_string[a:b]` extracts a substring with characters `my_string[a]`, `my_string[a+1]`, `my_string[a+2]`, … `my_string[b-2]`, `my_string[b-1]` from the string `my_string` (under the assumption `b>a≥0`).\n",
    "* If `a≥b`, the slice `my_string[a:b]` is the empty string.\n",
    "* If `step>0` and `b>a>0`, then the slice `my_string[a:b:step]` extracts a substring from `my_string` starting from position `a` up to (but not including) position `b` in steps of length `step`. Of course, the endpoints can be given as negative integers as well, in which case, positions are measured from the right of the string.\n",
    "* If `step<0`, the slice `my_string[a:b:step]` extracts a substring traversing the string `my_string` from right to left starting at `a`, terminating at (but not including `b`)\n",
    "* The slice `my_string[:b]` slices from the beginning of the string (position `0`) up to (but not including) postition `b`.\n",
    "* The slice `my_string[a:]` slices from position `a` up to *and including* the end of the string.\n",
    "\n",
    "These rules are more easily understood looking at examples."
   ]
  },
  {
   "cell_type": "code",
   "execution_count": null,
   "metadata": {
    "collapsed": true
   },
   "outputs": [],
   "source": [
    "print(s)\n",
    "# Slicing: pull out char 4 up to (but *not* including) char 9 from string s\n",
    "print(s[4:9]) "
   ]
  },
  {
   "cell_type": "code",
   "execution_count": null,
   "metadata": {
    "collapsed": true
   },
   "outputs": [],
   "source": [
    "s[11:] # From s[11] to the very end"
   ]
  },
  {
   "cell_type": "code",
   "execution_count": null,
   "metadata": {
    "collapsed": true
   },
   "outputs": [],
   "source": [
    "s[:11] # From the very start up to (but not including) character 11"
   ]
  },
  {
   "cell_type": "code",
   "execution_count": null,
   "metadata": {
    "collapsed": true
   },
   "outputs": [],
   "source": [
    "s[:11] + s[11:]"
   ]
  },
  {
   "cell_type": "code",
   "execution_count": null,
   "metadata": {
    "collapsed": true
   },
   "outputs": [],
   "source": [
    "s[-5] # s[-5] means the character 5 preceding the end"
   ]
  },
  {
   "cell_type": "code",
   "execution_count": null,
   "metadata": {
    "collapsed": true
   },
   "outputs": [],
   "source": [
    "s[-5:] # Equivalent to s[11:] for this string"
   ]
  },
  {
   "cell_type": "code",
   "execution_count": null,
   "metadata": {
    "collapsed": true
   },
   "outputs": [],
   "source": [
    "s[-5:-3] # Again, remember slicing is half-open (non-inclusive)"
   ]
  },
  {
   "cell_type": "code",
   "execution_count": null,
   "metadata": {
    "collapsed": true
   },
   "outputs": [],
   "source": [
    "s[1:10:3] # Specify stride of length 3 (i.e., count in steps of 3)"
   ]
  },
  {
   "cell_type": "code",
   "execution_count": null,
   "metadata": {
    "collapsed": true
   },
   "outputs": [],
   "source": [
    "s[15:8:-2]"
   ]
  },
  {
   "cell_type": "markdown",
   "metadata": {},
   "source": [
    "The next couple cells show why using half-open intervals makes reasoning about slices easier.  The end of one slice adds seamlessly to the start of one with the same index.  This helps avoid what are called \"[fence-post errors](https://en.wikipedia.org/wiki/Off-by-one_error).\"\n",
    "\n",
    "There's an old computer science joke that illustrates this:\n",
    "\n",
    "> There are two hard things in computer science: cache invalidation; naming things; and off-by-one errors."
   ]
  },
  {
   "cell_type": "code",
   "execution_count": null,
   "metadata": {
    "collapsed": true
   },
   "outputs": [],
   "source": [
    "s[3:7] + s[7:10] # Remember, + operator concatenates strings..."
   ]
  },
  {
   "cell_type": "code",
   "execution_count": null,
   "metadata": {
    "collapsed": true
   },
   "outputs": [],
   "source": [
    "s[:5] + s[5:]"
   ]
  },
  {
   "cell_type": "markdown",
   "metadata": {},
   "source": [
    "## String conversions and `format`"
   ]
  },
  {
   "cell_type": "markdown",
   "metadata": {},
   "source": [
    "It is possible to cast numeric values from strings if the strings represent appropriate numeric literals."
   ]
  },
  {
   "cell_type": "code",
   "execution_count": null,
   "metadata": {
    "collapsed": true
   },
   "outputs": [],
   "source": [
    "print(float(\"3.14\"), int(\"-8\"))"
   ]
  },
  {
   "cell_type": "markdown",
   "metadata": {},
   "source": [
    "### Format strings (old-style)"
   ]
  },
  {
   "cell_type": "markdown",
   "metadata": {},
   "source": [
    "Prior to Python 2.6, the principle way of conversting numeric data and other Python data into strings was using *string interpolation*.  The syntax of this style resembles conventions from the C programming language's `printf` statement. The basic trick was to use a `%` character preceding one of the characters in the table below to specify what would be substituted into the format string.\n",
    "\n",
    "String interpolation remains widely used, but the newer `str.format()` method is more powerful, albeit also often more complicated."
   ]
  },
  {
   "cell_type": "markdown",
   "metadata": {},
   "source": [
    "| Conversion | Meaning\n",
    "| :-:   | :-:\n",
    "|`d`     |      Signed integer decimal.\n",
    "|`i`     |      Signed integer decimal.\n",
    "|`o`     |      Unsigned octal.\n",
    "|`u`     |      Unsigned decimal.\n",
    "|`x`     |      Unsigned hexadecimal (lowercase).\n",
    "|`X`     |      Unsigned hexadecimal (uppercase).\n",
    "|`e`     |      Floating point exponential format (lowercase).\n",
    "|`E`     |      Floating point exponential format (uppercase).\n",
    "|`f`     |      Floating point decimal format.\n",
    "|`F`     |      Floating point decimal format.\n",
    "|`g`     |      Same as \"`e`\" if exponent is greater than `-4` or less than precision, \"`f`\" otherwise.\n",
    "|`G`     |      Same as \"`E`\" if exponent is greater than `-4` or less than precision, \"`F`\" otherwise.\n",
    "|`c`     |      Single character (accepts integer or single character string).\n",
    "|`r`     |      String (converts any Python object using `repr()`).\n",
    "|`s`     |      String (converts any Python object using `str()`).\n",
    "|`%`     |      No argument is converted, results in a \"`%`\" character in the result.\n",
    "\n",
    "The format string followed by the `%` character and a Python tuple of values to convert described the \"string interpolation\". The generic syntax for variable substitution in a format string is\n",
    "\n",
    "        %[flags][width][.precision]type\n",
    "\n",
    "where `flags`, `width`, and `precision` are optional parameters."
   ]
  },
  {
   "cell_type": "code",
   "execution_count": null,
   "metadata": {
    "collapsed": true
   },
   "outputs": [],
   "source": [
    "a = str(42.5)\n",
    "print(a)\n",
    "# String interpolation (C-style, more or less)\n",
    "# i.e. %[flags][width][.precision]type\n",
    "from math import pi\n",
    "print(\"Pi is about %d, in %s\" % (pi, \"Indiana\"))\n",
    "\"For rough use, we often just use %0.4f\" % pi"
   ]
  },
  {
   "cell_type": "code",
   "execution_count": null,
   "metadata": {
    "collapsed": true
   },
   "outputs": [],
   "source": [
    "# Notice that if just one value is being interpolated into the string, \n",
    "# we can give the bare value.  However, if multiple, must use a tuple.\n",
    "\"For rough use, we often just use %0.7f\" % pi"
   ]
  },
  {
   "cell_type": "code",
   "execution_count": null,
   "metadata": {
    "collapsed": true
   },
   "outputs": [],
   "source": [
    "\"Better precision is %.17f\" % pi"
   ]
  },
  {
   "cell_type": "code",
   "execution_count": null,
   "metadata": {
    "collapsed": true
   },
   "outputs": [],
   "source": [
    "\"Past 17 digits, floating point precision is meaningless: %.30f\" % pi"
   ]
  },
  {
   "cell_type": "code",
   "execution_count": null,
   "metadata": {
    "collapsed": true
   },
   "outputs": [],
   "source": [
    "\"Octal %o; Decimal %i; HEX %X; hex %x; Octal w/ marker %#o; Hex w/ marker %#X\" % (\n",
    "       13,         13,     13,     13,                 13,                13)"
   ]
  },
  {
   "cell_type": "code",
   "execution_count": null,
   "metadata": {
    "collapsed": true
   },
   "outputs": [],
   "source": [
    "\"Explicit signs %+d, %+d\" % (-13, 13)"
   ]
  },
  {
   "cell_type": "code",
   "execution_count": null,
   "metadata": {
    "collapsed": true
   },
   "outputs": [],
   "source": [
    "\"Zero padded ints %+06d, %+06d\" % (-13, 13)"
   ]
  },
  {
   "cell_type": "code",
   "execution_count": null,
   "metadata": {
    "collapsed": true
   },
   "outputs": [],
   "source": [
    "\"Space padded ints %6d, %6d\" % (-13, 13)"
   ]
  },
  {
   "cell_type": "code",
   "execution_count": null,
   "metadata": {
    "collapsed": true
   },
   "outputs": [],
   "source": [
    "\"A scientific notation format %.3e using 'e'\" % 1234567890"
   ]
  },
  {
   "cell_type": "markdown",
   "metadata": {},
   "source": [
    "### The `str.format()` mini-language"
   ]
  },
  {
   "cell_type": "markdown",
   "metadata": {},
   "source": [
    "The `format()` function and `str.format()` method of strings are enormously powerful, and occassionally enormously confusing. An excellent summary of the differences (with examples) can be found at [Pyformat](https://pyformat.info/).\n",
    "\n",
    "Let's try a few examples both with old-style string interpolation and with `str.format`."
   ]
  },
  {
   "cell_type": "code",
   "execution_count": null,
   "metadata": {
    "collapsed": true
   },
   "outputs": [],
   "source": [
    "# Define a tuple of numeric values, say dollar amounts.\n",
    "expenses = (1234.5678, 9900000.1, 83, .02)\n",
    "for n, item in enumerate(expenses):\n",
    "    print(\"Purchase %d:\\t$%.2f\" % (n+1, item))"
   ]
  },
  {
   "cell_type": "markdown",
   "metadata": {},
   "source": [
    "We can do better than the last cell using a `format` specifier. In particular, two things we want in formatted currencies is comma separators in large numbers and right alignment."
   ]
  },
  {
   "cell_type": "code",
   "execution_count": null,
   "metadata": {
    "collapsed": true
   },
   "outputs": [],
   "source": [
    "format_string = \"Purchase {}:\\t${:>13,.2f}\" # Format string using new format mini-language\n",
    "for n, item in enumerate(expenses):\n",
    "    print(format_string.format(n+1, item))"
   ]
  },
  {
   "cell_type": "markdown",
   "metadata": {},
   "source": [
    "We compactly described the currency format above. However, we may rather have the dollar sign close to its amount. This needs to be done in two stages."
   ]
  },
  {
   "cell_type": "code",
   "execution_count": null,
   "metadata": {
    "collapsed": true
   },
   "outputs": [],
   "source": [
    "format_string = \"Purchase {}:\\t{:>14}\"\n",
    "for n, item in enumerate(expenses):\n",
    "    amount = \"${:,.2f}\".format(item)\n",
    "    print(format_string.format(n+1, amount))"
   ]
  },
  {
   "cell_type": "markdown",
   "metadata": {},
   "source": [
    "### Details on the `str.format()` mini-language"
   ]
  },
  {
   "cell_type": "markdown",
   "metadata": {},
   "source": [
    "Take a look at this for a complete description of the `str.format()` mini language: https://docs.python.org/3.4/library/string.html#formatstrings\n",
    "\n",
    "| Option | Meaning\n",
    "|:------:|:--------------------------------------\n",
    "| `<`      | The field will be left-aligned within the available space. The default for strings.\n",
    "| `>`      | The field will be right-aligned within the available space. The default for numbers.\n",
    "| `=`      | Forces the padding to be placed after the sign (if any) but before the digits. This is used for printing fields in the form \"`+000000120`\". This alignment option is only valid for numeric types.\n",
    "| `^`      | Forces the field to be centered within the available space.\n",
    "| `+`      | A sign should be used for both positive as well as negative numbers.\n",
    "| `-`      | A sign should be used only for negative numbers; the default behavior.\n",
    "| `space`  | A leading space should be used on positive numbers, a minus sign on negative numbers."
   ]
  },
  {
   "cell_type": "markdown",
   "metadata": {},
   "source": [
    "Notice that `str.format()` permits several data structures for specifiying values."
   ]
  },
  {
   "cell_type": "code",
   "execution_count": null,
   "metadata": {
    "collapsed": true
   },
   "outputs": [],
   "source": [
    "# parameters can be out of order...\n",
    "print(\"The capital of {1:s} is {2:s}, a {0:s} city\".format(\n",
    "                      \"Northern\", \"California\", \"Sacramento\", \"USA\"))"
   ]
  },
  {
   "cell_type": "code",
   "execution_count": null,
   "metadata": {
    "collapsed": true
   },
   "outputs": [],
   "source": [
    "# Using keyword arguments to specify values to format\n",
    "print(\"The capital of {state} is {capital}\".format(\n",
    "                      capital=\"Sacramento\", state=\"California\", country=\"USA\"))"
   ]
  },
  {
   "cell_type": "markdown",
   "metadata": {},
   "source": [
    "See the above linked documents for more full details."
   ]
  },
  {
   "cell_type": "markdown",
   "metadata": {},
   "source": [
    "<img src='img/copyright.png'>"
   ]
  }
 ],
 "metadata": {
  "anaconda-cloud": {},
  "kernelspec": {
   "display_name": "Python [conda env:anaconda_training]",
   "language": "python",
   "name": "conda-env-anaconda_training-py"
  },
  "language_info": {
   "codemirror_mode": {
    "name": "ipython",
    "version": 3
   },
   "file_extension": ".py",
   "mimetype": "text/x-python",
   "name": "python",
   "nbconvert_exporter": "python",
   "pygments_lexer": "ipython3",
   "version": "3.5.2"
  }
 },
 "nbformat": 4,
 "nbformat_minor": 0
}
