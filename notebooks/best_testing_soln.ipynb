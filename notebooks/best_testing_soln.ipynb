{
 "cells": [
  {
   "cell_type": "markdown",
   "metadata": {},
   "source": [
    "<img src='img/logo.png'>\n",
    "<img src='img/title.png'>\n",
    "<img src='img/py3k.png'>"
   ]
  },
  {
   "cell_type": "markdown",
   "metadata": {},
   "source": [
    "# Table of Contents\n",
    "* [Exercise](#Exercise)\n"
   ]
  },
  {
   "cell_type": "markdown",
   "metadata": {},
   "source": [
    "# Exercise"
   ]
  },
  {
   "cell_type": "markdown",
   "metadata": {},
   "source": [
    "Using `notebooks/src/distance/module/great_circle.py` write the following tests using any of the three frameworks:\n",
    "* `deg_to_rad(180.)` returns $\\pi$\n",
    "* `sphere_dist((51.5, -0.1), (40.7, -74.0))` returns 5879.70\n",
    "\n",
    "Write these two tests in separate files."
   ]
  },
  {
   "cell_type": "markdown",
   "metadata": {},
   "source": [
    "**test_sphere_dist.py**"
   ]
  },
  {
   "cell_type": "markdown",
   "metadata": {},
   "source": [
    "```python\n",
    "import numpy as np\n",
    "import great_circle\n",
    "\n",
    "london = (51.5, -0.1)\n",
    "nyc = (40.7, -74.0)\n",
    "\n",
    "correct = 5879.7014885816379\n",
    "\n",
    "def test_sphere_dist():\n",
    "    out = great_circle.sphere_dist(london,nyc)\n",
    "\n",
    "    assert np.allclose(out,correct)\n",
    "```"
   ]
  },
  {
   "cell_type": "markdown",
   "metadata": {},
   "source": [
    "**test_deg_to_rad.py**"
   ]
  },
  {
   "cell_type": "markdown",
   "metadata": {},
   "source": [
    "```python\n",
    "import great_circle\n",
    "import numpy as np\n",
    "\n",
    "def test_deg_to_rad():\n",
    "    out = great_circle.deg_to_rad(180)\n",
    "    assert np.allclose(out, np.pi)\n",
    "```"
   ]
  },
  {
   "cell_type": "markdown",
   "metadata": {},
   "source": [
    "See `notebooks/src/distance/tests_soln`"
   ]
  },
  {
   "cell_type": "markdown",
   "metadata": {},
   "source": [
    "<img src='img/copyright.png'>"
   ]
  }
 ],
 "metadata": {
  "anaconda-cloud": {},
  "kernelspec": {
   "display_name": "Python [conda env:anaconda_training]",
   "language": "python",
   "name": "conda-env-anaconda_training-py"
  },
  "language_info": {
   "codemirror_mode": {
    "name": "ipython",
    "version": 3
   },
   "file_extension": ".py",
   "mimetype": "text/x-python",
   "name": "python",
   "nbconvert_exporter": "python",
   "pygments_lexer": "ipython3",
   "version": "3.5.2"
  }
 },
 "nbformat": 4,
 "nbformat_minor": 0
}
