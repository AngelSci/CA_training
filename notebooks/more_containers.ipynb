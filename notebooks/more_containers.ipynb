{
 "cells": [
  {
   "cell_type": "markdown",
   "metadata": {},
   "source": [
    "<img src='img/logo.png' />"
   ]
  },
  {
   "cell_type": "markdown",
   "metadata": {},
   "source": [
    "<img src='img/title.png'>"
   ]
  },
  {
   "cell_type": "markdown",
   "metadata": {},
   "source": [
    "<img src='img/py3k.png'>"
   ]
  },
  {
   "cell_type": "markdown",
   "metadata": {},
   "source": [
    "# Table of Contents\n",
    "* [Data types & data structures](#Data-types-&-data-structures)\n",
    "* [Learning Objectives:](#Learning-Objectives:)\n",
    "* [Data structures](#Data-structures)\n",
    "\t* [`tuple` type](#tuple-type)\n",
    "\t* [`list` type](#list-type)\n",
    "\t\t* [Iteration over a collection](#Iteration-over-a-collection)\n",
    "\t* [`dict` (dictionary) type](#dict-%28dictionary%29-type)\n",
    "\t* [`set` type](#set-type)"
   ]
  },
  {
   "cell_type": "markdown",
   "metadata": {},
   "source": [
    "# Data types & data structures"
   ]
  },
  {
   "cell_type": "markdown",
   "metadata": {},
   "source": [
    "# Learning Objectives:"
   ]
  },
  {
   "cell_type": "markdown",
   "metadata": {},
   "source": [
    "After completion of this module, learners should be able to:\n",
    "\n",
    "* apply Python rules for indexing & slicing strings, lists, & tuples\n",
    "* apply Python idioms for looping over builtin data collections\n",
    "* explain the distinction between *mutable* and *immutable* objects"
   ]
  },
  {
   "cell_type": "markdown",
   "metadata": {},
   "source": [
    "# Data structures"
   ]
  },
  {
   "cell_type": "markdown",
   "metadata": {},
   "source": [
    "Python has a rich set of builtin data types that act as containers for other data types, including\n",
    "* `tuple`\n",
    "* `list`\n",
    "* `dict` (dictionary)\n",
    "* `set`"
   ]
  },
  {
   "cell_type": "markdown",
   "metadata": {},
   "source": [
    "## `tuple` type"
   ]
  },
  {
   "cell_type": "markdown",
   "metadata": {},
   "source": [
    "A tuple is a heterogeneous and immutable sequence of items. Tuples are constructed by separating values with commas, but parentheses `()` usually enclose them for clarity (and sometimes for disambiguation, depending on context)\n",
    "\n",
    "* The empty tuple is denoted `()`.\n",
    "* A single-item tuple requires a trailing comma to distinguish, e.g., `(a,)` from parentheses merely grouping an expression like `(a)` (which would *not* be a tuple).\n",
    "  * To see why this is strictly required, contrast `(a+b)*3` with `(a+b,)*3`.\n",
    "* For tuples of length greater than 1, the grouping parentheses are in fact optional. As such, the tuple `(a,b,c)` is equivalent to the tuple `a,b,c` with no delimiting parentheses.\n",
    "* Tuples can be sliced and indexed exactly like strings with the same rules (but slicing extracts \"sub-tuples\" rather than substrings).\n",
    "* As with strings, tuples are immutable, and thus references to tuple items by indexing or slicing cannot occur on the left-hand side of an assignment statement."
   ]
  },
  {
   "cell_type": "code",
   "execution_count": null,
   "metadata": {
    "collapsed": true
   },
   "outputs": [],
   "source": [
    "# Some special syntax issues\n",
    "empty_tup = ()              # Empty tuple\n",
    "singleton_tup = ('Foo',)    # One-item tuple (comma required)\n",
    "no_parens = \"this\", \"that\"  # Parentheses sometimes optional\n",
    "print('empty_tup == %s has length %d.' % (empty_tup, len(empty_tup)))\n",
    "print(singleton_tup)\n",
    "print(no_parens)"
   ]
  },
  {
   "cell_type": "code",
   "execution_count": null,
   "metadata": {
    "collapsed": true
   },
   "outputs": [],
   "source": [
    "my_tup = (4, 'a', 'giraffe', 3-4j)\n",
    "print(my_tup)\n",
    "print(type(my_tup))\n",
    "print(my_tup[2:])"
   ]
  },
  {
   "cell_type": "code",
   "execution_count": null,
   "metadata": {
    "collapsed": true
   },
   "outputs": [],
   "source": [
    "my_tup[4] # raises an IndexError exception"
   ]
  },
  {
   "cell_type": "markdown",
   "metadata": {},
   "source": [
    "One feature of Python tuples is that they can be used for assigning values to several identifiers at once. This is a surprising, but convenient, feature to programmers coming from other languages."
   ]
  },
  {
   "cell_type": "code",
   "execution_count": null,
   "metadata": {
    "collapsed": true
   },
   "outputs": [],
   "source": [
    "# Multiple assignments equivalent to following three individual assignments.\n",
    "# x = 3\n",
    "# y = 4.7\n",
    "# z = \"My dog\"\n",
    "x, y, z = 3, 4.7, \"My dog\"  # We could write '(x, y, z) = (3, 4.7, \"My dog\")' instead\n",
    "print('x=%d, y=%3.1f, z=%s' % (x,y,z))\n",
    "my_tup = x, y, z\n",
    "print('x=%d, y=%3.1f, z=%s' % my_tup)"
   ]
  },
  {
   "cell_type": "code",
   "execution_count": null,
   "metadata": {
    "collapsed": true
   },
   "outputs": [],
   "source": [
    "print(\"x={:d}, y={:3.1f}, z={:s}\".format(x, y, z))\n",
    "print(\"x={:d}, y={:3.1f}, z={:s}\".format(*my_tup))\n",
    "print(\"x={2:d}, y={1:3.1f}, z={0:s}\".format(z, y, x))"
   ]
  },
  {
   "cell_type": "code",
   "execution_count": null,
   "metadata": {
    "collapsed": true
   },
   "outputs": [],
   "source": [
    "\"Just one %s\" % \"thing\""
   ]
  },
  {
   "cell_type": "code",
   "execution_count": null,
   "metadata": {
    "collapsed": true
   },
   "outputs": [],
   "source": [
    "a,b,c = range(2,5) # tuple unpacking the range object\n",
    "print('a=%d, b=%d, c=%d' % (a,b,c))"
   ]
  },
  {
   "cell_type": "code",
   "execution_count": null,
   "metadata": {
    "collapsed": true
   },
   "outputs": [],
   "source": [
    "a, b, c = range(2,7)"
   ]
  },
  {
   "cell_type": "code",
   "execution_count": null,
   "metadata": {
    "collapsed": true
   },
   "outputs": [],
   "source": [
    "# List unpacking works also\n",
    "[a, b, c] = [1, 2, 3]"
   ]
  },
  {
   "cell_type": "code",
   "execution_count": null,
   "metadata": {
    "collapsed": true
   },
   "outputs": [],
   "source": [
    "print(a, b)\n",
    "a, b = b, a # Pythonic idiom for swapping variables by tuple assignment\n",
    "print(a, b)"
   ]
  },
  {
   "cell_type": "code",
   "execution_count": null,
   "metadata": {
    "collapsed": true
   },
   "outputs": [],
   "source": [
    "# More special syntax\n",
    "a, b, c = 4, 5, 6    # Tuple on right is \"unpacked\" into vars on right\n",
    "print(a, b, c)"
   ]
  },
  {
   "cell_type": "code",
   "execution_count": null,
   "metadata": {
    "collapsed": true
   },
   "outputs": [],
   "source": [
    "# Even more special: we can gather \"rest of values\" using *name\n",
    "# prefix for identifiers assigned to\n",
    "a, b, *c = range(10)\n",
    "print('a=%s, b=%s, c=%s' % (a, b, c))"
   ]
  },
  {
   "cell_type": "code",
   "execution_count": null,
   "metadata": {
    "collapsed": true
   },
   "outputs": [],
   "source": [
    "a, *b, c = range(10)\n",
    "print('a=%s, b=%s, c=%s' % (a, b, c))"
   ]
  },
  {
   "cell_type": "code",
   "execution_count": null,
   "metadata": {
    "collapsed": true
   },
   "outputs": [],
   "source": [
    "*a, b, c = range(10)\n",
    "a, b, c"
   ]
  },
  {
   "cell_type": "code",
   "execution_count": null,
   "metadata": {
    "collapsed": true
   },
   "outputs": [],
   "source": [
    "*a, b, a = range(12)\n",
    "a, b"
   ]
  },
  {
   "cell_type": "code",
   "execution_count": null,
   "metadata": {
    "collapsed": true
   },
   "outputs": [],
   "source": [
    "a, *b, *c, d = range(100)"
   ]
  },
  {
   "cell_type": "code",
   "execution_count": null,
   "metadata": {
    "collapsed": true
   },
   "outputs": [],
   "source": [
    "# Splitting the middle would be ambiguous, but you could do it explicitly\n",
    "a, *b, c = range(30)\n",
    "b1, b2 = b[:10], b[10:]\n",
    "a, b1, b2, c"
   ]
  },
  {
   "cell_type": "code",
   "execution_count": null,
   "metadata": {
    "collapsed": true
   },
   "outputs": [],
   "source": [
    "my_tup = (1,2,3)\n",
    "try:\n",
    "    my_tup[1] = 33\n",
    "except TypeError:\n",
    "    print(\"Trying to assign to immutable thing\")"
   ]
  },
  {
   "cell_type": "code",
   "execution_count": null,
   "metadata": {
    "collapsed": true
   },
   "outputs": [],
   "source": [
    "tuple(reversed(my_tup)) # using builtin function reversed"
   ]
  },
  {
   "cell_type": "code",
   "execution_count": null,
   "metadata": {
    "collapsed": true
   },
   "outputs": [],
   "source": [
    "reversed(my_tup), my_tup"
   ]
  },
  {
   "cell_type": "markdown",
   "metadata": {},
   "source": [
    "Tuples have very few methods.\n",
    " \n",
    " | |\n",
    " :-: | :-: \n",
    " `count` | `index`\n",
    "\n",
    "The `tuple` methods `count` and `index` behave as the same method in the `str` class. The only distinction is that they compare arbitrary items to elements of a tuple in looking for a match."
   ]
  },
  {
   "cell_type": "code",
   "execution_count": null,
   "metadata": {
    "collapsed": true
   },
   "outputs": [],
   "source": [
    "my_tup = (4, 'a', 'giraffe', 3-4j)\n",
    "print(my_tup)\n",
    "my_tup.index('giraffe')"
   ]
  },
  {
   "cell_type": "code",
   "execution_count": null,
   "metadata": {
    "collapsed": true
   },
   "outputs": [],
   "source": [
    "my_tup.index(2)"
   ]
  },
  {
   "cell_type": "code",
   "execution_count": null,
   "metadata": {
    "collapsed": true
   },
   "outputs": [],
   "source": [
    "letters = ('aaa', 'bbb', 'ccc')\n",
    "letters.index('bbb')"
   ]
  },
  {
   "cell_type": "code",
   "execution_count": null,
   "metadata": {
    "collapsed": true
   },
   "outputs": [],
   "source": [
    "tup2 = tuple(\"Mary had a little lamb\")\n",
    "print(tup2)\n",
    "tup2.count('a')"
   ]
  },
  {
   "cell_type": "code",
   "execution_count": null,
   "metadata": {
    "collapsed": true
   },
   "outputs": [],
   "source": [
    "# We can add (or multiply) tuples to make new ones (like with strings and lists)\n",
    "x = (1,2,\"A\") + (4,5,6)\n",
    "y = (1,2,\"A\") * 3\n",
    "print(x)\n",
    "print(y)"
   ]
  },
  {
   "cell_type": "code",
   "execution_count": null,
   "metadata": {
    "collapsed": true
   },
   "outputs": [],
   "source": [
    "# Occassionally we'd like to \"replace an element\" in a tuple\n",
    "# ... which really means, \"Create a new tuple with that element differing\"\n",
    "tup10 = tuple(range(10))\n",
    "newtup = tup10[:5] + ('five',) + tup10[6:]\n",
    "newtup"
   ]
  },
  {
   "cell_type": "markdown",
   "metadata": {},
   "source": [
    "## `list` type"
   ]
  },
  {
   "cell_type": "markdown",
   "metadata": {},
   "source": [
    "Perhaps the most common (mutable) data structure used in Python is the list. Lists are an efficient, ordered sequence of heterogeneous elements. Lists can expand, and have `O(1)` access and amortized `O(1)` append. In essence, for those  who think in C terms, a Python list is mostly an array of references to Python objects.\n",
    "\n",
    "Sometimes programmers coming from other languages attempt to implement linked-lists, queues, deques, or other special sequence-type structures. In Python, this is largely unnecessary; a list would be easier and usually faster (that said, the standard library provides queues and deques also). The most notable exception where lists are not as fast is when using homogeneous arrays of uniform data type. In those instances, the Python module `numpy` has data structures for homogeneous arrays and associated functions/methods that have been implemented to give very good performance. In either case, a beginning Python programmer need not implement sophisticated sequence/array-type data structures from scratch.\n",
    "\n",
    "Both the `list` and the `tuple` type are heterogeneous ordered sequences, but their roles are conceptually different. A tuple is much more like a *record* that holds a collection of associated information, whereas a list is a sequence of items that are to be treated similarly. Although neither tuples nor lists need be homogeneous in type, the former are immutable while the latter are mutable; it is fairly common to iterate or loop over the elements of a list doing some kind of repeated computation (possibly mutating the list in place). As such, we expect lists to have *similar* elements (e.g., so that they can be sorted or processed similarly); by contrast, tuples are not generally expected to contain similar elements.\n",
    "\n",
    "* The empty list is denoted by empty brackets `[]`.\n",
    "* The simplest way to construct lists is to enclose a comma-separated sequence of items with brackets `[]`.\n",
    "* Lists can be indexed & sliced. The rules are exactly the same as for tuples & strings.\n",
    "* The `+` and `*` operator apply to the `list` type as they do to the `str` & `tuple` types.\n",
    "* Unlike the `tuple` and `str` types, the `list` type is *mutable*. That is, individual items in lists can be reassigned values after the lists has been instantiated. In particular, this also means that lists can be extended (by appending or inserting elements into lists) or by removing/deleting elements."
   ]
  },
  {
   "cell_type": "code",
   "execution_count": null,
   "metadata": {
    "collapsed": true
   },
   "outputs": [],
   "source": [
    "empty_list = []\n",
    "print('empty_list = %s' % empty_list)\n",
    "my_list = [4, 'a', 'giraffe', 3-4j]\n",
    "print(my_list)\n",
    "print(type(my_list))\n",
    "print(my_list[2:])"
   ]
  },
  {
   "cell_type": "markdown",
   "metadata": {},
   "source": [
    "The `list` type has more methods than the `tuple` type and fewer methods than the `str` type.\n",
    "\n",
    "| | | | |\n",
    "|:-: | :-: | :-: | :-:|\n",
    "|`append` | `clear` | `copy` | `count`|\n",
    "|`extend` | `index` | `insert`| `pop`|\n",
    "|`remove` | `reverse` | `sort` | |\n",
    "\n",
    "Most `list` methods&mdash;notably methods other than `copy`, `count`, `index`, and `pop`&mdash;have return values of type `None`. The other methods are *mutator methods* that modify lists in-place. As such, it is important to avoid errors of the form, e.g.,\n",
    "```python\n",
    "my_list = my_list.reverse()\n",
    "```"
   ]
  },
  {
   "cell_type": "markdown",
   "metadata": {},
   "source": [
    "that overwrite the original variable name with `None`. This is a common mistake when using methods that modify mutable types in-place. Immutable types are safeguarded from these kinds of errors which is largely why Python has immutable types."
   ]
  },
  {
   "cell_type": "code",
   "execution_count": null,
   "metadata": {
    "collapsed": true
   },
   "outputs": [],
   "source": [
    "fruit_list = ['banana','apple','mango','canteloupe']\n",
    "print('Initial: fruit_list = %s' % fruit_list)"
   ]
  },
  {
   "cell_type": "code",
   "execution_count": null,
   "metadata": {
    "collapsed": true
   },
   "outputs": [],
   "source": [
    "# Common mutation of a list: appending elements\n",
    "fruit_list.append(\"guava\")\n",
    "print('After appending: fruit_list = %s' % fruit_list)"
   ]
  },
  {
   "cell_type": "code",
   "execution_count": null,
   "metadata": {
    "collapsed": true
   },
   "outputs": [],
   "source": [
    "# Related but different mutation: extending a list with elements from another list\n",
    "fruit_list.extend(['pineapple','coconut','pear'])\n",
    "print('After extending: fruit_list = %s' % fruit_list)"
   ]
  },
  {
   "cell_type": "code",
   "execution_count": null,
   "metadata": {
    "collapsed": true
   },
   "outputs": [],
   "source": [
    "fruit_list.sort() # Sorting list in-place\n",
    "print('After sorting: fruit_list = %s' % fruit_list)"
   ]
  },
  {
   "cell_type": "code",
   "execution_count": null,
   "metadata": {
    "collapsed": true
   },
   "outputs": [],
   "source": [
    "animal_list = ['dog', 'cat', 'frog']\n",
    "print(animal_list)\n",
    "animal_list.extend(\"pig\")\n",
    "# Notice the difference between [\"pig\"] and \"pig\" as an argument to list.extend\n",
    "print(animal_list)"
   ]
  },
  {
   "cell_type": "code",
   "execution_count": null,
   "metadata": {
    "collapsed": true
   },
   "outputs": [],
   "source": [
    "# Remove items either by index, by slice, or by value\n",
    "del animal_list[-3:]\n",
    "print(animal_list)"
   ]
  },
  {
   "cell_type": "code",
   "execution_count": null,
   "metadata": {
    "collapsed": true
   },
   "outputs": [],
   "source": [
    "animal_list.append('pig')\n",
    "animal_list"
   ]
  },
  {
   "cell_type": "code",
   "execution_count": null,
   "metadata": {
    "collapsed": true
   },
   "outputs": [],
   "source": [
    "# You can insert into the middle of lists also, \n",
    "# but less efficiently O(n)\n",
    "animal_list.insert(2, 'horse')\n",
    "print(animal_list)"
   ]
  },
  {
   "cell_type": "code",
   "execution_count": null,
   "metadata": {
    "collapsed": true
   },
   "outputs": [],
   "source": [
    "# Removing list elements by value\n",
    "animal_list.remove('cat')\n",
    "print(animal_list)"
   ]
  },
  {
   "cell_type": "code",
   "execution_count": null,
   "metadata": {
    "collapsed": true
   },
   "outputs": [],
   "source": [
    "# Removing list elements that are not present: raises exception ValueError\n",
    "animal_list.remove('gopher')\n",
    "print(animal_list)"
   ]
  },
  {
   "cell_type": "code",
   "execution_count": null,
   "metadata": {
    "collapsed": true
   },
   "outputs": [],
   "source": [
    "# Concatenating lists using the addition (+) operator\n",
    "print(animal_list)\n",
    "animal_list = ['bat'] + animal_list\n",
    "print(animal_list)\n",
    "animal_list += ['dingo']\n",
    "print(animal_list)"
   ]
  },
  {
   "cell_type": "markdown",
   "metadata": {},
   "source": [
    "A common task with, say, a list of strings of dates is to extract the specific date information from each date into numeric lists of months, days, and years. Notice these dates are ambiguous; it is not obvious whether they are encoded as `DD/MM/YYYY` or as `MM/DD/YYYY` (which is why ISO standard dates are `YYYY-MM-DD` unambiguously)."
   ]
  },
  {
   "cell_type": "code",
   "execution_count": null,
   "metadata": {
    "collapsed": true
   },
   "outputs": [],
   "source": [
    "# Decompose elements into parallel lists\n",
    "dates = [\"09/05/1984\", \"05/04/1999\", \"01/02/1921\"]\n",
    "months, days, years = [], [], []\n",
    "for date in dates:\n",
    "    mm, dd, yyyy = date.split('/') # Use tuple-unpacking to extract substrings\n",
    "    months.append(int(mm))\n",
    "    days.append(int(dd))\n",
    "    years.append(int(yyyy))\n",
    "    print('months=%s, days=%s, years=%s' % (months, days, years))"
   ]
  },
  {
   "cell_type": "markdown",
   "metadata": {},
   "source": [
    "Just assigning a list to a new name still points that name to the same list object.  Hence changing the list under one name also changes what the other name points to.\n",
    "\n",
    "To make an actual copy of a list:\n",
    "* Use the `list.copy()` method (if working in Python 3) or\n",
    "* Take a slice of the entire list\n",
    "\n",
    "To make a *deep copy*, you can use the `copy` modules `deepcopy()` function.  The difference here is that a list might contain inside it more lists (or other mutable objects, and a *shallow* copy still contains references to those).  For lists of immutable objects—like strings and numbers—deep versus shallow makes no difference."
   ]
  },
  {
   "cell_type": "code",
   "execution_count": null,
   "metadata": {
    "collapsed": true
   },
   "outputs": [],
   "source": [
    "print(animal_list)\n",
    "animals2 = animal_list\n",
    "animals2[3] = 'donkey'\n",
    "print(animal_list)"
   ]
  },
  {
   "cell_type": "code",
   "execution_count": null,
   "metadata": {
    "collapsed": true
   },
   "outputs": [],
   "source": [
    "backup = animal_list[:]   # Same result as `animal_list.copy()`\n",
    "print('Initially: animal_list=%s' % animal_list)\n",
    "print('Popped value:', backup.pop(0))\n",
    "print('After pop: backup=%s' % backup)\n",
    "print('After pop: animal_list=%s' % animal_list)"
   ]
  },
  {
   "cell_type": "code",
   "execution_count": null,
   "metadata": {
    "collapsed": true
   },
   "outputs": [],
   "source": [
    "list_of_lists = [[1,2,3], [4,5,6], [7,8,9]]\n",
    "list_of_lists"
   ]
  },
  {
   "cell_type": "code",
   "execution_count": null,
   "metadata": {
    "collapsed": true
   },
   "outputs": [],
   "source": [
    "# Oops! We still changed original after modifying copying\n",
    "lol2 = list_of_lists[:] # same result as .copy() but works in both Python 2 and 3\n",
    "lol2[1].append(55)\n",
    "lol2.append([11, 12, 13])\n",
    "print(\"Original:    \", list_of_lists)\n",
    "print(\"Shallow copy:\", lol2)"
   ]
  },
  {
   "cell_type": "code",
   "execution_count": null,
   "metadata": {
    "collapsed": true
   },
   "outputs": [],
   "source": [
    "from copy import deepcopy\n",
    "list_of_lists = [[1,2,3], [4,5,6], [7,8,9]]\n",
    "lol3 = deepcopy(list_of_lists)\n",
    "lol3[1].extend([55, 66, 77])\n",
    "print(\"Original: \", list_of_lists)\n",
    "print(\"Deep copy:\", lol3)"
   ]
  },
  {
   "cell_type": "markdown",
   "metadata": {},
   "source": [
    "Pay attention to the distinctions between the method `list.reverse()` and the builtin `reversed` function. The same concern applies when using the method `list.sort()` versus the builtin `sorted` function.\n",
    "\n",
    "* The output from `reversed` and `sorted` is a *reverse iterator* object. This object evaluates the reverse sequence in a *lazy* manner; that is, elements are not computed until needed. *Lazy evaluation* is useful in the event that the sequence required has more elements than the memory can easily accommodate."
   ]
  },
  {
   "cell_type": "code",
   "execution_count": null,
   "metadata": {
    "collapsed": true
   },
   "outputs": [],
   "source": [
    "# Reversing (by mutation)\n",
    "animal_list.reverse()\n",
    "print(animal_list)"
   ]
  },
  {
   "cell_type": "code",
   "execution_count": null,
   "metadata": {
    "collapsed": true
   },
   "outputs": [],
   "source": [
    "# Reversing (and returning result)\n",
    "reverse_animal_list = reversed(animal_list)\n",
    "print(animal_list)\n",
    "print(reverse_animal_list)"
   ]
  },
  {
   "cell_type": "code",
   "execution_count": null,
   "metadata": {
    "collapsed": true
   },
   "outputs": [],
   "source": [
    "# That was strange! Python 3 is often \"lazy\" and doesn't \n",
    "# compute something until needed\n",
    "# Cast iterable to list to make printing explict\n",
    "print(list(reverse_animal_list))"
   ]
  },
  {
   "cell_type": "code",
   "execution_count": null,
   "metadata": {
    "collapsed": true
   },
   "outputs": [],
   "source": [
    "# Pretend `animal_list` is a billion item list (where a copy would eat memory)\n",
    "reverse_animal_list = reversed(animal_list)  \n",
    "for item in reverse_animal_list:\n",
    "    print(item)"
   ]
  },
  {
   "cell_type": "code",
   "execution_count": null,
   "metadata": {
    "collapsed": true
   },
   "outputs": [],
   "source": [
    "# Sorting (by mutation, in-place)\n",
    "animals = animal_list[:]\n",
    "animals.sort()\n",
    "print(animal_list)\n",
    "print(animals)"
   ]
  },
  {
   "cell_type": "code",
   "execution_count": null,
   "metadata": {
    "collapsed": true
   },
   "outputs": [],
   "source": [
    "# Another gotcha! Not all elements can be compared to be sorted\n",
    "animals.insert(2, None)\n",
    "print(animals)\n",
    "animals.sort()\n",
    "print(animals)"
   ]
  },
  {
   "cell_type": "code",
   "execution_count": null,
   "metadata": {
    "collapsed": true
   },
   "outputs": [],
   "source": [
    "# We can use a custom sort key function\n",
    "def my_key(x):\n",
    "    return \"\" if x is None else x\n",
    "    \n",
    "animals.sort(key=my_key)\n",
    "animals"
   ]
  },
  {
   "cell_type": "code",
   "execution_count": null,
   "metadata": {
    "collapsed": true
   },
   "outputs": [],
   "source": [
    "# But it still won't sort on *everything*\n",
    "animals.append(1+1j)\n",
    "animals.sort(key=my_key)"
   ]
  },
  {
   "cell_type": "markdown",
   "metadata": {},
   "source": [
    "### Iteration over a collection"
   ]
  },
  {
   "cell_type": "markdown",
   "metadata": {},
   "source": [
    "Notwithstanding the many cool things we can do with lists by applying methods, calling functions, indexing and slicing, the most common idiom for working with lists is to loop over them.  In fact, this idiom is extremely common for working with many Python objects.  \n",
    "\n",
    "There are only two looping constructs in Python, `for` and `while`, and the former is far more common than the latter."
   ]
  },
  {
   "cell_type": "code",
   "execution_count": null,
   "metadata": {
    "collapsed": true
   },
   "outputs": [],
   "source": [
    "# Loop over a collection of \"similar\" items\n",
    "class OddThing(object):\n",
    "    def split(self):\n",
    "        return \"Thomas\", \"Bayes\"\n",
    "    \n",
    "name_list = [\"Rene Descartes\", \"Marie Sophie Germain\", \"Leonhard Euler\", \n",
    "             \"Ada Lovelace\", \"Isaac Newton\", \"Georg Cantor\", OddThing()]\n",
    "for name in name_list:\n",
    "    parts = name.split()\n",
    "    first, last = parts[:-1], parts[-1]\n",
    "    print(first[-1].lower(), last.upper())"
   ]
  },
  {
   "cell_type": "markdown",
   "metadata": {},
   "source": [
    "If you come from working in some other languages, you may be unduly tempted to think about the index positions of items in a list.  You *can* \"write C in Python.\"  And you can \"write FORTRAN in Python.\"  And you can \"write Perl in Python.\"  *Ad nauseam*.  Generally it's best to avoid doing these things."
   ]
  },
  {
   "cell_type": "code",
   "execution_count": null,
   "metadata": {
    "collapsed": true
   },
   "outputs": [],
   "source": [
    "# A C programming veteran's first Python loop using explicit index\n",
    "name_list = [\"Rene Descartes\", \"Marie Sophie Germain\", \"Leonhard Euler\", \n",
    "             \"Ada Lovelace\", \"Isaac Newton\", \"Georg Cantor\"]\n",
    "count = 0\n",
    "for k in range(len(name_list)):\n",
    "    print(k, name_list[k])\n",
    "    if ('r' in name_list[k]):\n",
    "        count += 1 # equivalent to count = count + 1\n",
    "print(\"The value of count is %d\" % count)"
   ]
  },
  {
   "cell_type": "markdown",
   "metadata": {},
   "source": [
    "While looping over the indices of a collection obviously *does* work, as in the prior example, it is not *Pythonic* to do so. In Python, we like to think about collections themselves, and only rarely about how we index into them. The *Pythonic* style is to loop over the *elements* of the collection *themselves* (i.e., construct a meaningful identifier describing the entity we actually want to work with). In this case, it is the *names* in `name_list` so let's use the identifier `name` (which is much more informative than the identifier `k` as a loop index)."
   ]
  },
  {
   "cell_type": "code",
   "execution_count": null,
   "metadata": {
    "collapsed": true
   },
   "outputs": [],
   "source": [
    "# \"Pythonic\" loop without explicit index\n",
    "name_list = [\"Rene Descartes\", \"Marie Sophie Germain\", \"Leonhard Euler\", \n",
    "             \"Ada Lovelace\", \"Isaac Newton\", \"Georg Cantor\"]\n",
    "count = 0\n",
    "for name in name_list:\n",
    "    print(name)\n",
    "    count += 'r' in name\n",
    "print(\"The value of count is %d\" % count)"
   ]
  },
  {
   "cell_type": "markdown",
   "metadata": {},
   "source": [
    "An even more Pythonic implementation of a `for` loop is to use a *list comprehension*. Here is an example, but we'll see more later."
   ]
  },
  {
   "cell_type": "code",
   "execution_count": null,
   "metadata": {
    "collapsed": true
   },
   "outputs": [],
   "source": [
    "# Returns list containing first characters of each word in the list mylist\n",
    "[name[0] for name in name_list]"
   ]
  },
  {
   "cell_type": "code",
   "execution_count": null,
   "metadata": {
    "collapsed": true
   },
   "outputs": [],
   "source": [
    "[name for name in name_list if 'r' in name] # List of \"names with r\" counted above"
   ]
  },
  {
   "cell_type": "markdown",
   "metadata": {},
   "source": [
    "For occasions where  we want to have access to both the list element and it's index, we can use the built-in function `enumerate`. This function takes an iterable sequence and returns an iterable object that returns tuples comprising the original sequence elements and their corresponding indices. This *lazy evaluation* is useful in the event that the input sequence has more elements than the memory can easily accommodate."
   ]
  },
  {
   "cell_type": "code",
   "execution_count": null,
   "metadata": {
    "collapsed": true
   },
   "outputs": [],
   "source": [
    "# Sometimes we genuinely do want both an index and an item\n",
    "for k, name in enumerate(name_list):\n",
    "    print(\"(%d) %s\" % (k, name))"
   ]
  },
  {
   "cell_type": "markdown",
   "metadata": {},
   "source": [
    "## `dict` (dictionary) type"
   ]
  },
  {
   "cell_type": "markdown",
   "metadata": {},
   "source": [
    "The `dict` (or *dictionary*) type is one of the most interesting data structures builtin to Python. As a motivating example, suppose you want to keep track of a group of stocks purchased. You might store the stocks symbols in list, the number of shares in another list, the price in another list, and so on."
   ]
  },
  {
   "cell_type": "code",
   "execution_count": null,
   "metadata": {
    "collapsed": true
   },
   "outputs": [],
   "source": [
    "symbol = ['GOOG', 'AAPL', 'MSFT', 'YHOO']\n",
    "shares = [267, 349, 123, 181]\n",
    "price = [396.85,  545.79, 914.49, 169.67]\n",
    "for k in range(4):\n",
    "    value = shares[k] * price[k]\n",
    "    print('The value of %d %s shares is $%10.2f.' % (shares[k], symbol[k], value))"
   ]
  },
  {
   "cell_type": "markdown",
   "metadata": {},
   "source": [
    "The problem with the preceding code is that its correct functioning depends on the lists all being aligned properly. If another stock symbol is inserted into the list `symbol`, the corresponding number of stocks and the price need to be inserted into the lists `shares` and `price` respectively in the same location. A better data structure to represent the problem would couple properties of each stock more closely.\n",
    "\n",
    "This is what dictionaries do. A dictionary is an associative array (hash table) that gives `O(1)` lookup and insertion of elements, but does not have any inherent order to it. A dictionary maps zero or more (immutable) *keys* to (possibly mutable) *values*.  Dictionaries are mutable, and keys within them can be added, deleted, or their values modified.\n",
    "\n",
    "Here is what the code above would look like using a list of dictionaries."
   ]
  },
  {
   "cell_type": "code",
   "execution_count": null,
   "metadata": {
    "collapsed": true
   },
   "outputs": [],
   "source": [
    "stocks = [ {'symbol':'GOOG', 'shares':267, 'price':396.85},\n",
    "           {'symbol':'AAPL', 'shares':349, 'price':549.79},\n",
    "           {'symbol':'MSFT', 'shares':123, 'price':914.49},\n",
    "           {'symbol':'YHOO', 'shares':181, 'price':169.67}\n",
    "         ]\n",
    "for stock in stocks:\n",
    "    value = stock['shares'] * stock['price']\n",
    "    print('The value of %d %s shares is $%10.2f.' % (\n",
    "                        stock['shares'], stock['symbol'], value))"
   ]
  },
  {
   "cell_type": "markdown",
   "metadata": {},
   "source": [
    "* Each stock is represented by its own *dictionary* in the list of dictionaries. Observe how the loop is closer to natural language and that the data for each stock is coupled more closely in its own dictionary.\n",
    "* A `dict` is delimited by braces `{}` with a comma-separated sequence of *`key: value`* pairs.\n",
    "* The *keys* of the dictionary are used to access the values stored within. The idiom resembles indexing with strings, lists, and tuples, except that the indices here are strings."
   ]
  },
  {
   "cell_type": "code",
   "execution_count": null,
   "metadata": {
    "collapsed": true
   },
   "outputs": [],
   "source": [
    "empty_dict = {}\n",
    "print('empty_dict has type %s.' % type(empty_dict))"
   ]
  },
  {
   "cell_type": "code",
   "execution_count": null,
   "metadata": {
    "collapsed": true
   },
   "outputs": [],
   "source": [
    "goog = {'symbol': 'GOOG', 'shares': 267, 'price': 396.85}\n",
    "print('The dict goog:', goog)\n",
    "print(goog['symbol'])"
   ]
  },
  {
   "cell_type": "code",
   "execution_count": null,
   "metadata": {
    "collapsed": true
   },
   "outputs": [],
   "source": [
    "# Iterating over a dictionary (keys)\n",
    "for key in goog:\n",
    "    print(key, goog[key])"
   ]
  },
  {
   "cell_type": "markdown",
   "metadata": {},
   "source": [
    "Dictionaries have several useful methods.\n",
    "\n",
    "| | | | |\n",
    " :-: | :-: | :-: | :-: | :-:\n",
    "`clear` | `copy` | `fromkeys` | `get` | `items` \n",
    "`keys` | `pop` | `popitem` | `setdefault` | `update`\n",
    "\n",
    "* The `.get()` method is an alias for indexing with brackets, i.e., `goog_stocks[key]==goog_stocks.get(key)`.  However, `dict.get()` will return a value (by default `None` if the key does not exist, whereas indexing will raise a `KeyError` exception.\n",
    "* The `.keys()` and `.items()` methods return iterable sequences.\n",
    "* Looping over a `dict` `D` is equivalent to looping over `D.keys()`\n",
    "* Dictionaries themselves are mutable, but the *keys* of a `dict` *must* be immutable (e.g., `str` or `tuple`). The values associated with each key may be *mutable* or *immutable*."
   ]
  },
  {
   "cell_type": "code",
   "execution_count": null,
   "metadata": {
    "collapsed": true
   },
   "outputs": [],
   "source": [
    "for key in goog:  # Equivalent to \"for key in goog_stocks.keys()\"\n",
    "    print(key)"
   ]
  },
  {
   "cell_type": "code",
   "execution_count": null,
   "metadata": {
    "collapsed": true
   },
   "outputs": [],
   "source": [
    "goog['acquired']"
   ]
  },
  {
   "cell_type": "code",
   "execution_count": null,
   "metadata": {
    "collapsed": true
   },
   "outputs": [],
   "source": [
    "goog.get('acquired', '1980-01-01')  # Return a default if not in dict"
   ]
  },
  {
   "cell_type": "code",
   "execution_count": null,
   "metadata": {
    "collapsed": true
   },
   "outputs": [],
   "source": [
    "print(goog.get('shares', 99))\n",
    "print(goog['shares'])"
   ]
  },
  {
   "cell_type": "code",
   "execution_count": null,
   "metadata": {
    "collapsed": true
   },
   "outputs": [],
   "source": [
    "print('Before: %s' % goog)\n",
    "goog['broker'] = 'Sergey Brin'    # Modifying the dict on the fly\n",
    "print('After adding broker:\\n\\t%s' % goog)\n",
    "goog['price'] = 452.32\n",
    "print('After price increases:\\n\\t%s' % goog)"
   ]
  },
  {
   "cell_type": "code",
   "execution_count": null,
   "metadata": {
    "collapsed": true
   },
   "outputs": [],
   "source": [
    "# Dictionaries have a few useful methods\n",
    "print('Before: %s' % goog)\n",
    "del goog['broker']\n",
    "print('After removing broker:\\n\\t%s' % goog)"
   ]
  },
  {
   "cell_type": "code",
   "execution_count": null,
   "metadata": {
    "collapsed": true
   },
   "outputs": [],
   "source": [
    "# The 'update' method uses a dict to modify key-value pairs in-place\n",
    "goog.update({'shares':300, 'price':540.12, 'hometown':'Mountain View'})\n",
    "print('After updating in-place broker:\\n\\t%s' % goog)"
   ]
  },
  {
   "cell_type": "code",
   "execution_count": null,
   "metadata": {
    "collapsed": true
   },
   "outputs": [],
   "source": [
    "'shares' in goog"
   ]
  },
  {
   "cell_type": "markdown",
   "metadata": {},
   "source": [
    "## `set` type"
   ]
  },
  {
   "cell_type": "markdown",
   "metadata": {},
   "source": [
    "Sets are much like dictionaries that lack values, but only have keys.  In fact, for many years, in very old versions of Python, a standard idiom was to use dictionaries as sets, but set all the values to `None`.  Sets allow a few standard set-theoretic operations (intersection, union, subset, etc)."
   ]
  },
  {
   "cell_type": "code",
   "execution_count": null,
   "metadata": {
    "collapsed": true
   },
   "outputs": [],
   "source": [
    "instructors = {\"Ben Zaitlen\", \"Christine Doig\"}\n",
    "instructors.add(\"David Mertz\")\n",
    "print(instructors)\n",
    "instructors.add(\"Dhavide Aruliah\")\n",
    "instructors"
   ]
  },
  {
   "cell_type": "code",
   "execution_count": null,
   "metadata": {
    "collapsed": true
   },
   "outputs": [],
   "source": [
    "list_of_Ds = [\"David Mertz\", \"Christine Doig\", \"John Doe\"]\n",
    "names_with_D = set(list_of_Ds)\n",
    "names_with_D.add(\"Dhavide Aruliah\")\n",
    "names_with_D | instructors    # Union of sets"
   ]
  },
  {
   "cell_type": "code",
   "execution_count": null,
   "metadata": {
    "collapsed": true
   },
   "outputs": [],
   "source": [
    "names_with_D & instructors    # Intersection of sets"
   ]
  },
  {
   "cell_type": "code",
   "execution_count": null,
   "metadata": {
    "collapsed": true
   },
   "outputs": [],
   "source": [
    "names_with_D ^ instructors    # Symmetric difference"
   ]
  },
  {
   "cell_type": "code",
   "execution_count": null,
   "metadata": {
    "collapsed": true
   },
   "outputs": [],
   "source": [
    "names_with_D - instructors    # Difference of sets"
   ]
  },
  {
   "cell_type": "code",
   "execution_count": null,
   "metadata": {
    "collapsed": true
   },
   "outputs": [],
   "source": [
    "names_with_D <= instructors   # Test for improper subset"
   ]
  },
  {
   "cell_type": "code",
   "execution_count": null,
   "metadata": {
    "collapsed": true
   },
   "outputs": [],
   "source": [
    "{'Ben Zaitlen', 'Christine Doig'} < instructors   # Test from proper subsect"
   ]
  },
  {
   "cell_type": "code",
   "execution_count": null,
   "metadata": {
    "collapsed": true
   },
   "outputs": [],
   "source": [
    "names_with_D >= {\"John Doe\", \"David Mertz\"}  # Test for improper superset"
   ]
  },
  {
   "cell_type": "code",
   "execution_count": null,
   "metadata": {
    "collapsed": true
   },
   "outputs": [],
   "source": [
    "\"John Doe\" in names_with_D    # Membership in set"
   ]
  },
  {
   "cell_type": "code",
   "execution_count": null,
   "metadata": {
    "collapsed": true
   },
   "outputs": [],
   "source": [
    "# No effect to add something a second time (or Nth time)\n",
    "names_with_D.add('David Mertz')\n",
    "names_with_D"
   ]
  },
  {
   "cell_type": "code",
   "execution_count": null,
   "metadata": {
    "collapsed": true
   },
   "outputs": [],
   "source": [
    "names_with_D.remove('David Mertz')\n",
    "names_with_D"
   ]
  },
  {
   "cell_type": "code",
   "execution_count": null,
   "metadata": {
    "collapsed": true
   },
   "outputs": [],
   "source": [
    "{x for x in (instructors | names_with_D) if 'Do' in x}"
   ]
  },
  {
   "cell_type": "markdown",
   "metadata": {},
   "source": [
    "<img src='img/copyright.png'>"
   ]
  }
 ],
 "metadata": {
  "anaconda-cloud": {},
  "kernelspec": {
   "display_name": "Python [conda env:anaconda_training]",
   "language": "python",
   "name": "conda-env-anaconda_training-py"
  },
  "language_info": {
   "codemirror_mode": {
    "name": "ipython",
    "version": 3
   },
   "file_extension": ".py",
   "mimetype": "text/x-python",
   "name": "python",
   "nbconvert_exporter": "python",
   "pygments_lexer": "ipython3",
   "version": "3.5.2"
  }
 },
 "nbformat": 4,
 "nbformat_minor": 0
}
