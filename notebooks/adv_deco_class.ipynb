{
 "cells": [
  {
   "cell_type": "markdown",
   "metadata": {},
   "source": [
    "<img src='img/logo.png' />"
   ]
  },
  {
   "cell_type": "markdown",
   "metadata": {},
   "source": [
    "<img src='img/title.png'>"
   ]
  },
  {
   "cell_type": "markdown",
   "metadata": {},
   "source": [
    "<img src='img/py3k.png'>"
   ]
  },
  {
   "cell_type": "markdown",
   "metadata": {},
   "source": [
    "# Decorator classes"
   ]
  },
  {
   "cell_type": "markdown",
   "metadata": {},
   "source": [
    "We can even use a class to define a decorator.  We need to define the ```__call__()``` dunder method.  It works exactly the same as the function decorator."
   ]
  },
  {
   "cell_type": "code",
   "execution_count": null,
   "metadata": {
    "collapsed": false
   },
   "outputs": [],
   "source": [
    "class logfile(object):\n",
    "    def __init__(self, fn):\n",
    "        # These are the arguments accepted \n",
    "        self.fn = fn\n",
    "        \n",
    "    def __call__(self, func):\n",
    "        def _(*args, **kwargs):\n",
    "            out = func(*args, **kwargs)\n",
    "            with open(self.fn, 'a') as fo:\n",
    "                fo.write(out)\n",
    "            return out\n",
    "        return _\n",
    "\n",
    "@logfile('tmp/myfunc2.log')\n",
    "def g():\n",
    "    return 'hello from function g'\n",
    "g()\n"
   ]
  },
  {
   "cell_type": "markdown",
   "metadata": {},
   "source": [
    "# Memoization"
   ]
  },
  {
   "cell_type": "markdown",
   "metadata": {},
   "source": [
    "Suppose we have a computationally intensive method, ```f()```, that calculates some result (in this case, a number).\n",
    "We have to call this function many times, but do not wait forever to recalculate our result."
   ]
  },
  {
   "cell_type": "code",
   "execution_count": null,
   "metadata": {
    "collapsed": true
   },
   "outputs": [],
   "source": [
    "import time\n",
    "\n",
    "def f(a, b):\n",
    "    # <expensive number crunching here>\n",
    "    out = a + b\n",
    "    time.sleep(1.5)\n",
    "    return out"
   ]
  },
  {
   "cell_type": "code",
   "execution_count": null,
   "metadata": {
    "collapsed": true
   },
   "outputs": [],
   "source": [
    "%timeit f(3, 5)"
   ]
  },
  {
   "cell_type": "markdown",
   "metadata": {},
   "source": [
    "Wouldn't it be nice to be able to cache the results of our previous calls so when we call ```f()``` again with the same arguments we could simply return the cached result instead of recalculating the answer?  Of course, it would be very nice!\n",
    "\n",
    "This sort of caching is called _memoization_.  Lets define a class decorator that will memoize any function that we decorate"
   ]
  },
  {
   "cell_type": "code",
   "execution_count": null,
   "metadata": {
    "collapsed": true
   },
   "outputs": [],
   "source": [
    "class Memoizer(object):\n",
    "    def __init__(self, func):\n",
    "        self.cache = {}\n",
    "        self.func = func\n",
    "        \n",
    "    def __call__(self, *args, **kwargs):\n",
    "        # We use sorted tuples because they are much smaller in memory than frozensets\n",
    "        # Even though frozensets are slightly faster to construct.\n",
    "        # We sort so that we can compare the keyword args.\n",
    "        # We use strings because our args or kwargs may not be hashable.\n",
    "        # Repr should return a unique string for its object\n",
    "        key = (repr(args), repr(tuple(sorted(kwargs.items()))))\n",
    "        if key in self.cache:\n",
    "            return self.cache[key]\n",
    "        self.cache[key] = self.func(*args, **kwargs)\n",
    "        return self.cache[key]"
   ]
  },
  {
   "cell_type": "code",
   "execution_count": null,
   "metadata": {
    "collapsed": true
   },
   "outputs": [],
   "source": [
    "@Memoizer\n",
    "def f(a, b):\n",
    "    # <expensive number crunching here>\n",
    "    out = a + b\n",
    "    time.sleep(1.5)\n",
    "    return out"
   ]
  },
  {
   "cell_type": "code",
   "execution_count": null,
   "metadata": {
    "collapsed": true
   },
   "outputs": [],
   "source": [
    "f([3], [5, 5])"
   ]
  },
  {
   "cell_type": "code",
   "execution_count": null,
   "metadata": {
    "collapsed": true
   },
   "outputs": [],
   "source": [
    "f.cache"
   ]
  },
  {
   "cell_type": "markdown",
   "metadata": {},
   "source": [
    "<img src='img/copyright.png'>"
   ]
  }
 ],
 "metadata": {
  "anaconda-cloud": {},
  "kernelspec": {
   "display_name": "Python [conda env:anaconda_training]",
   "language": "python",
   "name": "conda-env-anaconda_training-py"
  },
  "language_info": {
   "codemirror_mode": {
    "name": "ipython",
    "version": 3
   },
   "file_extension": ".py",
   "mimetype": "text/x-python",
   "name": "python",
   "nbconvert_exporter": "python",
   "pygments_lexer": "ipython3",
   "version": "3.5.2"
  }
 },
 "nbformat": 4,
 "nbformat_minor": 0
}
