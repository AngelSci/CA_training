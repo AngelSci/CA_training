{
 "cells": [
  {
   "cell_type": "markdown",
   "metadata": {},
   "source": [
    "<img src='img/logo.png' />"
   ]
  },
  {
   "cell_type": "markdown",
   "metadata": {},
   "source": [
    "<img src='img/title.png'>"
   ]
  },
  {
   "cell_type": "markdown",
   "metadata": {},
   "source": [
    "<img src='img/py3k.png'>"
   ]
  },
  {
   "cell_type": "markdown",
   "metadata": {},
   "source": [
    "# Decorator Functions"
   ]
  },
  {
   "cell_type": "markdown",
   "metadata": {},
   "source": [
    "Decorators are a very powerful functionality of Python.\n",
    "A very simple decorator (the identity decorator)"
   ]
  },
  {
   "cell_type": "code",
   "execution_count": null,
   "metadata": {
    "collapsed": true
   },
   "outputs": [],
   "source": [
    "def decorate(func):\n",
    "    def new_func(arg):\n",
    "        return func(arg)\n",
    "    return new_func"
   ]
  },
  {
   "cell_type": "code",
   "execution_count": null,
   "metadata": {
    "collapsed": true
   },
   "outputs": [],
   "source": [
    "@decorate\n",
    "def a(b):\n",
    "    return b+1"
   ]
  },
  {
   "cell_type": "markdown",
   "metadata": {},
   "source": [
    "<img src=\"img/decorator.png\" width=\"300px\" height=\"300px\" />"
   ]
  },
  {
   "cell_type": "markdown",
   "metadata": {},
   "source": [
    "Understanding decorators is straight forward.  A decorator is a function that accepts a function as input and returns another function.  This function that is returned from the decorator replaces the original, decorated function.  In the example above, ```new_func``` becomes the new implementation of ```a```.  The decorator doesn't do anything special right now.  However, decorators are extremely handy for wrapping a function."
   ]
  },
  {
   "cell_type": "markdown",
   "metadata": {},
   "source": [
    "Let's imagine that we want to allow ```a``` to operate on sequences of numbers."
   ]
  },
  {
   "cell_type": "code",
   "execution_count": null,
   "metadata": {
    "collapsed": true
   },
   "outputs": [],
   "source": [
    "def map_scalar(func):\n",
    "    def map_to_seq(*args):\n",
    "        return map(func, args)\n",
    "    return map_to_seq"
   ]
  },
  {
   "cell_type": "code",
   "execution_count": null,
   "metadata": {
    "collapsed": false
   },
   "outputs": [],
   "source": [
    "@map_scalar\n",
    "def add_one(x):\n",
    "    return x + 1\n",
    "\n",
    "print(list(add_one(3)))\n",
    "print(list(add_one(10, 20, 30, 40)))"
   ]
  },
  {
   "cell_type": "markdown",
   "metadata": {},
   "source": [
    "We can also pass arguments to decorators.  In order to accept these parameters, we have to wrap our decorator in another function that will accept these.  Let's write a decorator that will write the output of a function to a file."
   ]
  },
  {
   "cell_type": "code",
   "execution_count": null,
   "metadata": {
    "collapsed": true
   },
   "outputs": [],
   "source": [
    "def function_log(fn):\n",
    "    def wrapped(func):\n",
    "        def new_func(*args, **kwargs):\n",
    "            out = func(*args, **kwargs)\n",
    "            with open(fn, 'a') as fo:\n",
    "                fo.write(out)\n",
    "            return out\n",
    "        return new_func\n",
    "    return wrapped"
   ]
  },
  {
   "cell_type": "code",
   "execution_count": null,
   "metadata": {
    "collapsed": true
   },
   "outputs": [],
   "source": [
    "logfile=\"tmp/myfunc.log\"\n",
    "@function_log(logfile)\n",
    "def myfunc(a, b, c=None):\n",
    "    outstr = \"{} is the value of a\\n{} is the value of b\\n\\n{}\".format(a, b, c)\n",
    "    return outstr"
   ]
  },
  {
   "cell_type": "markdown",
   "metadata": {},
   "source": [
    "<img src=\"img/decorator_args.png\" width=800px height=800px/>"
   ]
  },
  {
   "cell_type": "code",
   "execution_count": null,
   "metadata": {
    "collapsed": false
   },
   "outputs": [],
   "source": [
    "print(myfunc(3, 6, \"None\"))"
   ]
  },
  {
   "cell_type": "code",
   "execution_count": null,
   "metadata": {
    "collapsed": false
   },
   "outputs": [],
   "source": [
    "# Lets read the log\n",
    "with open(logfile, 'r') as fi:\n",
    "    print(''.join(fi.readlines()))"
   ]
  },
  {
   "cell_type": "code",
   "execution_count": null,
   "metadata": {
    "collapsed": true
   },
   "outputs": [],
   "source": [
    "def add_two(func):\n",
    "    def _(arg):\n",
    "        return func(arg) + 2\n",
    "    return _"
   ]
  },
  {
   "cell_type": "code",
   "execution_count": null,
   "metadata": {
    "collapsed": false
   },
   "outputs": [],
   "source": [
    "# We can apply more than one decorator by stacking them\n",
    "# add_one is replaced by add_two and then replaced by map_scalar\n",
    "@map_scalar\n",
    "@add_two\n",
    "def add_one(x):\n",
    "    return x + 1\n",
    "\n",
    "print(list(add_one(*([1]*3))))"
   ]
  },
  {
   "cell_type": "markdown",
   "metadata": {},
   "source": [
    "<img src='img/copyright.png'>"
   ]
  }
 ],
 "metadata": {
  "anaconda-cloud": {},
  "kernelspec": {
   "display_name": "Python [conda env:anaconda_training]",
   "language": "python",
   "name": "conda-env-anaconda_training-py"
  },
  "language_info": {
   "codemirror_mode": {
    "name": "ipython",
    "version": 3
   },
   "file_extension": ".py",
   "mimetype": "text/x-python",
   "name": "python",
   "nbconvert_exporter": "python",
   "pygments_lexer": "ipython3",
   "version": "3.5.2"
  }
 },
 "nbformat": 4,
 "nbformat_minor": 0
}
