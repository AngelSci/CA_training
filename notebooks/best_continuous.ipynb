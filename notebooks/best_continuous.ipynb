{
 "cells": [
  {
   "cell_type": "markdown",
   "metadata": {},
   "source": [
    "<img src='img/logo.png'>\n",
    "<img src='img/title.png'>\n",
    "<img src='img/py3k.png'>"
   ]
  },
  {
   "cell_type": "markdown",
   "metadata": {},
   "source": [
    "# Table of Contents\n",
    "* [Learning Objectives:](#Learning-Objectives:)\n",
    "* [Continuous Integration](#Continuous-Integration)\n",
    "\t* [An example Continuous Integration process](#An-example-Continuous-Integration-process)\n",
    "* [CI Process Additions](#CI-Process-Additions)\n",
    "\t* [Testing prior to Pull Request submission](#Testing-prior-to-Pull-Request-submission)\n",
    "\t* [Automatic testing of syntax/style](#Automatic-testing-of-syntax/style)\n",
    "\t* [Nightly testing](#Nightly-testing)\n",
    "\t* [Post-merge testing](#Post-merge-testing)\n",
    "\t* [Automated coverage checking](#Automated-coverage-checking)\n",
    "\t* [Rebasing workflow](#Rebasing-workflow)\n",
    "\t* [Code review](#Code-review)\n",
    "\t\t* [What to look for](#What-to-look-for)\n",
    "* [Guidance on successfully implementing a CI process](#Guidance-on-successfully-implementing-a-CI-process)\n"
   ]
  },
  {
   "cell_type": "markdown",
   "metadata": {},
   "source": [
    "# Learning Objectives:"
   ]
  },
  {
   "cell_type": "markdown",
   "metadata": {},
   "source": [
    "After completion of this module, learners should be able to:\n",
    "\n",
    "* Describe a continuous integration process and understand the motivation behind each step in the process"
   ]
  },
  {
   "cell_type": "markdown",
   "metadata": {},
   "source": [
    "# Continuous Integration"
   ]
  },
  {
   "cell_type": "markdown",
   "metadata": {},
   "source": [
    "* Original meaning: *Merging development branches into \"mainline\" frequently*\n",
    "* Today: *Process that is followed prior to merging*\n",
    "* Usually achieved with software / tool support (e.g. Github, Travis, Gitlab, ...)\n",
    "* Purpose: **Speed up the software development process by catching problems closer to their source**\n",
    "* Initial overheads outweighed by long-term improvements"
   ]
  },
  {
   "cell_type": "markdown",
   "metadata": {
    "collapsed": false
   },
   "source": [
    "<img src='img/ci-impl-productivity.png'>"
   ]
  },
  {
   "cell_type": "markdown",
   "metadata": {},
   "source": [
    "## An example Continuous Integration process"
   ]
  },
  {
   "cell_type": "markdown",
   "metadata": {},
   "source": [
    "* Work on each feature or bug fix takes place on a separate branch\n",
    "* When a developer is \"happy\" with a branch, they make a proposal to merge (pull request)\n",
    "* The pull request triggers some automated execution of the tests\n",
    "* The pull request is annotated with the result of the automated test run (pass / fail)\n",
    "* If passed: reviewer(s) begin a code review process\n",
    "* Reviewers may comment on the changes\n",
    "* If changes are required by the reviewers, the original author may have to make changes and push again\n",
    "* The process is repeated until the reviewer is satisfied\n",
    "* When satisfied, the reviewer (not the proposer of the pull request) merges the PR\n",
    "\n",
    "\n",
    "Successfully-merged PR example: https://github.com/numba/numba/pull/1454"
   ]
  },
  {
   "cell_type": "markdown",
   "metadata": {},
   "source": [
    "# CI Process Additions"
   ]
  },
  {
   "cell_type": "markdown",
   "metadata": {},
   "source": [
    "## Testing prior to Pull Request submission"
   ]
  },
  {
   "cell_type": "markdown",
   "metadata": {},
   "source": [
    "* Developers have the ability to test a branch on the CI system without making a pull request\n",
    "* For example, with a command:\n",
    "\n",
    "`git pushntest`\n",
    "\n",
    "* Useful for long-running branches, after rebases/merges\n",
    "* Saves time/confusion when first beginning the review"
   ]
  },
  {
   "cell_type": "markdown",
   "metadata": {},
   "source": [
    "## Automatic testing of syntax/style"
   ]
  },
  {
   "cell_type": "markdown",
   "metadata": {},
   "source": [
    "* Examples: Linters, pep8, pyflakes, custom checkers...\n",
    "* Benefit: saves manual labour checking for style - things easily missed, differences of opinion"
   ]
  },
  {
   "cell_type": "markdown",
   "metadata": {},
   "source": [
    "## Nightly testing"
   ]
  },
  {
   "cell_type": "markdown",
   "metadata": {},
   "source": [
    "* Run tests that are too expensive for every pull request:\n",
    "  * Run in a larger set of test environments\n",
    "  * Run with larger data sets\n",
    "  * Other long-running tests\n",
    "* Potential Issue: dealing with failures in the morning\n",
    "  * Several committers/reviewers/mergers potentially responsible\n",
    "  * Requires discipline in assignment and solution of issues\n",
    "  * Potential solution: Assign \"buildmaster\" to inspect failures and assign responsibility for fix"
   ]
  },
  {
   "cell_type": "markdown",
   "metadata": {},
   "source": [
    "## Post-merge testing"
   ]
  },
  {
   "cell_type": "markdown",
   "metadata": {},
   "source": [
    "* Extended suite of tests that run on the newly-merged master branch\n",
    "* May test additional configurations, for example\n",
    "* Even if tests are exactly the same as the pre-merge test, this catches \"bad merges\"\n",
    "* Notifications into chat:"
   ]
  },
  {
   "cell_type": "markdown",
   "metadata": {
    "collapsed": false
   },
   "source": [
    "<img src='img/ci-flowdock-notification.png'>"
   ]
  },
  {
   "cell_type": "markdown",
   "metadata": {},
   "source": [
    "## Automated coverage checking"
   ]
  },
  {
   "cell_type": "markdown",
   "metadata": {},
   "source": [
    "* Produces report showing exactly which lines of code were run during testing\n",
    "* Two outputs - metrics, e.g. coverage percantage, and annotated source\n",
    "* Saves human-checking/reasoning about coverage\n",
    "* Sudden drop in coverage introduced by PR: needs fixing, or a good excuse!\n",
    "* When introducing coverage checking:\n",
    "  * Initially, work through annotated source to determine coverage\n",
    "  * Later on, metrics become the guidance\n",
    "* Potential danger: checks for execution, not for assertion of suitable results!\n",
    "* Advantage: projects not using coverage checking almost always missing tests\n",
    "\n",
    "\n",
    "Example coverage report (Django-compressor): https://coveralls.io/github/django-compressor/django-compressor"
   ]
  },
  {
   "cell_type": "markdown",
   "metadata": {},
   "source": [
    "## Rebasing workflow"
   ]
  },
  {
   "cell_type": "markdown",
   "metadata": {},
   "source": [
    "* **Advanced usage of git**\n",
    "* Potential issues:\n",
    "  * force-pushes to the wrong branch, overwriting master\n",
    "  * user confusion / creating \"odd\" history\n",
    "* Advantages:\n",
    "  * Clean history\n",
    "  * `git-bisect` works better\n"
   ]
  },
  {
   "cell_type": "markdown",
   "metadata": {},
   "source": [
    "## Code review"
   ]
  },
  {
   "cell_type": "markdown",
   "metadata": {},
   "source": [
    "* Process for improving the quality of the code being committed\n",
    "* Reviewer assigned to examine a PR prior to merge\n",
    "* Comments and feedback given, updates/changes may be made by original author\n",
    "\n",
    "\n",
    "* Whom to assign?\n",
    "  * Someone who knows that part of the code?\n",
    "  * Someone who doesn't?\n",
    "* Dual opportunity:\n",
    "  * Improve code quality at the time at which it's easiest to improve\n",
    "  * Share experience/understanding, reduce the bus factor of the code"
   ]
  },
  {
   "cell_type": "markdown",
   "metadata": {},
   "source": [
    "### What to look for"
   ]
  },
  {
   "cell_type": "markdown",
   "metadata": {},
   "source": [
    "A huge number of possibilities. One person's opinion of the bare minimum considerations:\n",
    "\n",
    "  * Tests:\n",
    "    * Do the tests cover added or changed functionality?\n",
    "    * Are the tests sensible and adequate?\n",
    "  * Code:\n",
    "    * Can I understand the code by looking at it?\n",
    "    * Are these changes likely to cause problems in the future?\n",
    "    * Are there over-engineered (high complexity for small gains) sections of the code?\n",
    "    * Are there under-engineered (e.g. unnecessarily hackish) sections of the code?\n",
    "    \n",
    "A more in-depth list of considerations: http://blog.jetbrains.com/upsource/2015/07/23/what-to-look-for-in-a-code-review/"
   ]
  },
  {
   "cell_type": "markdown",
   "metadata": {},
   "source": [
    "# Guidance on successfully implementing a CI process"
   ]
  },
  {
   "cell_type": "markdown",
   "metadata": {},
   "source": [
    "* Introduce process slowly, one component at a time. For example:\n",
    "  * Begin with pull requests that have automated test running first, no new code review processes\n",
    "  * Once people are used to this process, add another item:\n",
    "    * Code review\n",
    "    * Coverage checking\n",
    "    * Nightly tests\n",
    "    * Automatic style checks\n",
    "  * Order less important than allowing time to adjust to new processes\n",
    "  \n",
    "  \n",
    "* Problems can occur when different people have different understandings of the process\n",
    "  * Many [open-source] projects have contribution guidelines\n",
    "  * Guidelines describe the process and requirements/expectations for successful merges\n",
    "  * When changing guidelines (e.g. introducing more checks) give notice\n",
    "  \n",
    "  \n",
    "* Don't expect everything to be mergeable:\n",
    "  * Example: https://github.com/numba/numba/pull/851\n",
    "  * Thought: if everything can be merged, new processes are a no-op\n",
    "  * Merge smaller chunks of work often, to avoid losing a lot of work this way"
   ]
  },
  {
   "cell_type": "markdown",
   "metadata": {},
   "source": [
    "<img src='img/copyright.png'>"
   ]
  }
 ],
 "metadata": {
  "anaconda-cloud": {},
  "continuum": {
   "depends": [],
   "requires": [
    "img/ci-flowdock-notification.png",
    "img/ci-impl-productivity.png"
   ],
   "tag": "tools_ci"
  },
  "kernelspec": {
   "display_name": "Python [conda env:anaconda_training]",
   "language": "python",
   "name": "conda-env-anaconda_training-py"
  },
  "language_info": {
   "codemirror_mode": {
    "name": "ipython",
    "version": 3
   },
   "file_extension": ".py",
   "mimetype": "text/x-python",
   "name": "python",
   "nbconvert_exporter": "python",
   "pygments_lexer": "ipython3",
   "version": "3.5.2"
  }
 },
 "nbformat": 4,
 "nbformat_minor": 0
}
