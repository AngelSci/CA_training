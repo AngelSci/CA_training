{
 "cells": [
  {
   "cell_type": "markdown",
   "metadata": {},
   "source": [
    "<img src='img/logo.png'>"
   ]
  },
  {
   "cell_type": "markdown",
   "metadata": {},
   "source": [
    "<img src='img/title.png'>"
   ]
  },
  {
   "cell_type": "markdown",
   "metadata": {},
   "source": [
    "<img src='img/py3k.png'>"
   ]
  },
  {
   "cell_type": "markdown",
   "metadata": {},
   "source": [
    "# Plotting with Pandas"
   ]
  },
  {
   "cell_type": "markdown",
   "metadata": {},
   "source": [
    "Pandas operations followed by `.plot()` is a powerful way to interact with your data."
   ]
  },
  {
   "cell_type": "markdown",
   "metadata": {},
   "source": [
    "# Table of Contents\n",
    "* [Plotting with Pandas](#Plotting-with-Pandas)\n",
    "* [Learning Objectives:](#Learning-Objectives:)\n",
    "* [Using Pandas .plot()](#Using-Pandas-.plot%28%29)\n",
    "\t* [Line plots](#Line-plots)\n",
    "\t\t* [Timeseries](#Timeseries)\n",
    "\t* [Scatter](#Scatter)\n",
    "\t* [Box Plots](#Box-Plots)\n",
    "\t* [Histograms](#Histograms)\n",
    "\t* [2D Histograms](#2D-Histograms)\n",
    "\t* [Bar Charts](#Bar-Charts)\n",
    "* [Exercise](#Exercise)\n"
   ]
  },
  {
   "cell_type": "markdown",
   "metadata": {},
   "source": [
    "# Learning Objectives:"
   ]
  },
  {
   "cell_type": "markdown",
   "metadata": {},
   "source": [
    "After completion of this module, learners should be able to:\n",
    "\n",
    "* generate statistical plots from Pandas DataFrames with `.plot()`\n",
    "  * Bar charts, box plots, line plots, scatter plots and historgrams"
   ]
  },
  {
   "cell_type": "code",
   "execution_count": null,
   "metadata": {
    "collapsed": true
   },
   "outputs": [],
   "source": [
    "import numpy as np\n",
    "import pandas as pd\n",
    "from pandas_datareader import data"
   ]
  },
  {
   "cell_type": "code",
   "execution_count": null,
   "metadata": {
    "collapsed": true
   },
   "outputs": [],
   "source": [
    "# seaborn provides a modern look to the plots\n",
    "import seaborn as sns\n",
    "%matplotlib inline"
   ]
  },
  {
   "cell_type": "markdown",
   "metadata": {
    "collapsed": true
   },
   "source": [
    "# Using Pandas .plot()"
   ]
  },
  {
   "cell_type": "markdown",
   "metadata": {},
   "source": [
    "Pandas plotting with `.plot()` is driven by Matplotlib. Many plot options are set by default. Some plot styles perform statistical operations.\n",
    "\n",
    "There are several plot types available using the `kind=` keyword argument.\n",
    "* `line` : line plot (default)\n",
    "* `bar` : vertical bar plot\n",
    "* `barh` : horizontal bar plot\n",
    "* `hist` : histogram\n",
    "* `box` : boxplot\n",
    "* `kde` : Kernel Density Estimation plot\n",
    "* `density` : same as 'kde'\n",
    "* `area` : area plot\n",
    "* `pie` : pie plot\n",
    "* `scatter` : scatter plot\n",
    "* `hexbin` : hexbin plot\n",
    "\n",
    "See the [Pandas documentation](http://pandas.pydata.org/pandas-docs/stable/visualization.html)."
   ]
  },
  {
   "cell_type": "markdown",
   "metadata": {},
   "source": [
    "## Line plots"
   ]
  },
  {
   "cell_type": "markdown",
   "metadata": {},
   "source": [
    "The default is to plot all columns at once. It can crowd the plot."
   ]
  },
  {
   "cell_type": "code",
   "execution_count": null,
   "metadata": {
    "collapsed": false
   },
   "outputs": [],
   "source": [
    "degrees = pd.read_csv('data/percent-bachelors-degrees-women-usa.csv', index_col='Year')\n",
    "degrees.plot()"
   ]
  },
  {
   "cell_type": "markdown",
   "metadata": {},
   "source": [
    "We can make a subset of the columns."
   ]
  },
  {
   "cell_type": "code",
   "execution_count": null,
   "metadata": {
    "collapsed": false
   },
   "outputs": [],
   "source": [
    "stem=['Computer Science', 'Math and Statistics', 'Engineering', 'Physical Sciences', 'Biology']\n",
    "degrees[stem].plot(figsize=(15,7))"
   ]
  },
  {
   "cell_type": "markdown",
   "metadata": {},
   "source": [
    "<div class='alert alert-info'>\n",
    "<img src='img/topics/Essential-Concept.png' align='left' style='padding:10x'>\n",
    "<br>\n",
    "<big><tt>figsize</tt> is a tuple of width and height of the plot in inches</big>\n",
    "<br><br>\n",
    "</div>"
   ]
  },
  {
   "cell_type": "markdown",
   "metadata": {},
   "source": [
    "### Timeseries"
   ]
  },
  {
   "cell_type": "markdown",
   "metadata": {},
   "source": [
    "Timeseries formatting is handled gracefully with Pandas."
   ]
  },
  {
   "cell_type": "code",
   "execution_count": null,
   "metadata": {
    "collapsed": false
   },
   "outputs": [],
   "source": [
    "aapl = data.DataReader('AAPL','yahoo', '2007-1-1', '2007-12-31')\n",
    "aapl[['Close','Volume']].plot(figsize=(15,8), subplots=True)"
   ]
  },
  {
   "cell_type": "markdown",
   "metadata": {},
   "source": [
    "<div class='alert alert-info'>\n",
    "<img src='img/topics/Essential-Concept.png' align='left' style='padding:10x'>\n",
    "<br>\n",
    "<big><tt>subplots=True</tt> works for any plot over more than one column of data</big>\n",
    "<br><br>\n",
    "</div>"
   ]
  },
  {
   "cell_type": "markdown",
   "metadata": {},
   "source": [
    "## Scatter"
   ]
  },
  {
   "cell_type": "markdown",
   "metadata": {},
   "source": [
    "Plot bivariate `x` and `y` data stored in columns."
   ]
  },
  {
   "cell_type": "code",
   "execution_count": null,
   "metadata": {
    "collapsed": true
   },
   "outputs": [],
   "source": [
    "auto = pd.read_csv('data/auto-mpg.csv')"
   ]
  },
  {
   "cell_type": "code",
   "execution_count": null,
   "metadata": {
    "collapsed": false
   },
   "outputs": [],
   "source": [
    "auto.plot(kind='scatter', x='hp', y='mpg')"
   ]
  },
  {
   "cell_type": "code",
   "execution_count": null,
   "metadata": {
    "collapsed": false
   },
   "outputs": [],
   "source": [
    "auto.plot(kind='scatter', x='hp', y='mpg', color='green')"
   ]
  },
  {
   "cell_type": "markdown",
   "metadata": {},
   "source": [
    "<div class='alert alert-info'>\n",
    "<img src='img/topics/Essential-Concept.png' align='left' style='padding:10x'>\n",
    "<br>\n",
    "<big>All plot styles accept <tt>subplots=</tt>, which can be a single colorname or a list</big>\n",
    "<br><br>\n",
    "</div>"
   ]
  },
  {
   "cell_type": "markdown",
   "metadata": {},
   "source": [
    "<div class='alert alert-success'>\n",
    "<img src='img/topics/Advanced-Concept.png' align='left' style='padding:10x'>\n",
    "<br>\n",
    "<big>The <tt>statsmodels</tt> package can be used to fit regressions and curves.</big>\n",
    "<br><br>\n",
    "</div>"
   ]
  },
  {
   "cell_type": "markdown",
   "metadata": {},
   "source": [
    "## Box Plots"
   ]
  },
  {
   "cell_type": "markdown",
   "metadata": {},
   "source": [
    "Box Plots provide a quick statistical overview of column data."
   ]
  },
  {
   "cell_type": "code",
   "execution_count": null,
   "metadata": {
    "collapsed": false
   },
   "outputs": [],
   "source": [
    "auto[['mpg','hp','weight']].plot(kind='box', subplots=True, figsize=(20,8), sym='k.');"
   ]
  },
  {
   "cell_type": "markdown",
   "metadata": {},
   "source": [
    "We can also use the `.boxplot()` method to perform the statistical analysis after a groupby operation."
   ]
  },
  {
   "cell_type": "code",
   "execution_count": null,
   "metadata": {
    "collapsed": false
   },
   "outputs": [],
   "source": [
    "auto.boxplot(column='mpg', by='origin', figsize=(12,8), sym='k.')"
   ]
  },
  {
   "cell_type": "markdown",
   "metadata": {},
   "source": [
    "<div class='alert alert-info'>\n",
    "<img src='img/topics/Essential-Concept.png' align='left' style='padding:10x'>\n",
    "<br>\n",
    "<big>Only <tt>.boxplot()</tt> supports grouping</big>\n",
    "<br><br>\n",
    "</div>"
   ]
  },
  {
   "cell_type": "markdown",
   "metadata": {},
   "source": [
    "Here I'm using a timeseries and grouping/resampling by month.\n",
    "\n",
    "Putting the grouper in a list is required suppress an error message."
   ]
  },
  {
   "cell_type": "code",
   "execution_count": null,
   "metadata": {
    "collapsed": false
   },
   "outputs": [],
   "source": [
    "pit= pd.read_csv('data/pittsburgh2013.csv', parse_dates=['Date'], index_col='Date')\n",
    "pit.boxplot(column='Mean TemperatureF', by=[pd.TimeGrouper(freq='M')], figsize=(12,8), rot=45, sym='k.')"
   ]
  },
  {
   "cell_type": "markdown",
   "metadata": {},
   "source": [
    "## Histograms"
   ]
  },
  {
   "cell_type": "code",
   "execution_count": null,
   "metadata": {
    "collapsed": false
   },
   "outputs": [],
   "source": [
    "pit['Max TemperatureF'].plot(kind='hist', figsize=(15,8))"
   ]
  },
  {
   "cell_type": "markdown",
   "metadata": {},
   "source": [
    "The Kernel Density Plot is closely related to a histogram."
   ]
  },
  {
   "cell_type": "code",
   "execution_count": null,
   "metadata": {
    "collapsed": false
   },
   "outputs": [],
   "source": [
    "pit['Max TemperatureF'].plot(kind='kde', figsize=(15,8))"
   ]
  },
  {
   "cell_type": "markdown",
   "metadata": {},
   "source": [
    "## 2D Histograms"
   ]
  },
  {
   "cell_type": "markdown",
   "metadata": {},
   "source": [
    "2D histograms (also known as hexbins) have a reasonable default bin size and can be changed with `bins=`."
   ]
  },
  {
   "cell_type": "code",
   "execution_count": null,
   "metadata": {
    "collapsed": false
   },
   "outputs": [],
   "source": [
    "auto.plot(kind='hexbin', x='weight', y='hp', bins=10, figsize=(12,8))"
   ]
  },
  {
   "cell_type": "markdown",
   "metadata": {},
   "source": [
    "## Bar Charts"
   ]
  },
  {
   "cell_type": "markdown",
   "metadata": {},
   "source": [
    "Bar charts can be constructed from one or more columns of numeric data. The important part is that the X-axis data must be in the Index."
   ]
  },
  {
   "cell_type": "code",
   "execution_count": null,
   "metadata": {
    "collapsed": false
   },
   "outputs": [],
   "source": [
    "auto.head()"
   ]
  },
  {
   "cell_type": "markdown",
   "metadata": {},
   "source": [
    "Pandas groupby is a convenient way to assign an index along with performing aggregation. What was the average MPG per year?"
   ]
  },
  {
   "cell_type": "code",
   "execution_count": null,
   "metadata": {
    "collapsed": false
   },
   "outputs": [],
   "source": [
    "auto.groupby('yr')['mpg'].mean().plot(kind='bar', figsize=(16,8))"
   ]
  },
  {
   "cell_type": "markdown",
   "metadata": {},
   "source": [
    "<div class='alert alert-info'>\n",
    "<img src='img/topics/Best-Practice.png' align='left' style='padding:10x'>\n",
    "<br>\n",
    "<big>Separating Pandas operations from plotting is highly recommended. Greater customization of the plot can be achieved.</big>\n",
    "<br><br>\n",
    "</div>"
   ]
  },
  {
   "cell_type": "markdown",
   "metadata": {},
   "source": [
    "The standard deviation can be added as an error bar."
   ]
  },
  {
   "cell_type": "code",
   "execution_count": null,
   "metadata": {
    "collapsed": false
   },
   "outputs": [],
   "source": [
    "auto.groupby('yr')['mpg'].agg(['mean','std']).plot(kind='bar', yerr='std', figsize=(16,8))"
   ]
  },
  {
   "cell_type": "markdown",
   "metadata": {},
   "source": [
    "Multiple columns can be plotted along size each other."
   ]
  },
  {
   "cell_type": "code",
   "execution_count": null,
   "metadata": {
    "collapsed": false
   },
   "outputs": [],
   "source": [
    "monthly = pit.resample('M')['Min TemperatureF', 'Mean TemperatureF', 'Max TemperatureF'].mean()\n",
    "monthly.plot(kind='bar', figsize=(16,8), rot=45)"
   ]
  },
  {
   "cell_type": "markdown",
   "metadata": {},
   "source": [
    "<div class='alert alert-info'>\n",
    "<img src='img/topics/Best-Practice.png' align='left' style='padding:10x'>\n",
    "<br>\n",
    "<big>In the Matplotlib section we'll learn how to manipulate and combine plots made with <tt>.plot()</tt></big>\n",
    "<br><br>\n",
    "</div>"
   ]
  },
  {
   "cell_type": "markdown",
   "metadata": {},
   "source": [
    "# Exercise"
   ]
  },
  {
   "cell_type": "markdown",
   "metadata": {},
   "source": [
    "<img src='img/topics/Exercise.png' align='left' style='padding:10px'>\n",
    "<br><big>\n",
    "Make bar charts using the Olympic Medals data set.</big>\n",
    "<br>\n",
    "<a href=\"./Pandas_bar_ex.ipynb\" class='btn btn-primary'>Bar Charts</a>\n"
   ]
  },
  {
   "cell_type": "markdown",
   "metadata": {},
   "source": [
    "<img src='img/copyright.png'>"
   ]
  }
 ],
 "metadata": {
  "anaconda-cloud": {},
  "continuum": {
   "depends": [
    "mp_object"
   ],
   "requires": [
    "data/percent-bachelors-degrees-women-usa.csv",
    "data/auto-mpg.csv",
    "data/pittsburgh2013.csv",
    "data/medals.csv"
   ],
   "tag": "mp_2d"
  },
  "kernelspec": {
   "display_name": "Python [conda env:anaconda_training]",
   "language": "python",
   "name": "conda-env-anaconda_training-py"
  },
  "language_info": {
   "codemirror_mode": {
    "name": "ipython",
    "version": 3
   },
   "file_extension": ".py",
   "mimetype": "text/x-python",
   "name": "python",
   "nbconvert_exporter": "python",
   "pygments_lexer": "ipython3",
   "version": "3.5.2"
  }
 },
 "nbformat": 4,
 "nbformat_minor": 0
}
