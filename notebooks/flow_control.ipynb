{
 "cells": [
  {
   "cell_type": "markdown",
   "metadata": {},
   "source": [
    "<img src='img/logo.png' />"
   ]
  },
  {
   "cell_type": "markdown",
   "metadata": {},
   "source": [
    "<img src='img/title.png'>"
   ]
  },
  {
   "cell_type": "markdown",
   "metadata": {},
   "source": [
    "<img src='img/py3k.png'>"
   ]
  },
  {
   "cell_type": "markdown",
   "metadata": {},
   "source": [
    "# Table of Contents\n",
    "* [Learning Objectives:](#Learning-Objectives:)\n",
    "* [Language essentials: flow control](#Language-essentials:-flow-control)\n",
    "\t* [Indentation](#Indentation)\n",
    "\t* [Branching: `if-elif-else` constructs](#Branching:-if-elif-else-constructs)\n",
    "\t\t* [Conditionals](#Conditionals)\n",
    "\t\t* [The ternary `if-else` operator](#The-ternary-if-else-operator)\n",
    "\t* [Iteration](#Iteration)\n",
    "\t\t* [Iteration using `while`](#Iteration-using-while)\n",
    "\t\t* [Iteration using `for`](#Iteration-using-for)\n",
    "\t\t* [Branching](#Branching)\n",
    "\t\t\t* [`continue` and `pass`](#continue-and-pass)\n",
    "\t\t\t* [`break`](#break)"
   ]
  },
  {
   "cell_type": "markdown",
   "metadata": {},
   "source": [
    "# Learning Objectives:"
   ]
  },
  {
   "cell_type": "markdown",
   "metadata": {},
   "source": [
    "After completion of this module, learners should be able to:\n",
    "\n",
    "* Describe rules regarding indentation in control blocks\n",
    "* automate repetitive tasks in Python using standard construts for flow control (e.g., `for`, `while`, `if-else-elif`, etc.)"
   ]
  },
  {
   "cell_type": "markdown",
   "metadata": {},
   "source": [
    "# Language essentials: flow control"
   ]
  },
  {
   "cell_type": "markdown",
   "metadata": {},
   "source": [
    "Straight-line programs (i.e., ones with no branching or iteration) are of limited use. The main Python constructs for looping/iteration are `for` and `while`. For branching in Python, we use `if`, `else`, and `elif`."
   ]
  },
  {
   "cell_type": "markdown",
   "metadata": {},
   "source": [
    "## Indentation"
   ]
  },
  {
   "cell_type": "markdown",
   "metadata": {},
   "source": [
    "Code blocks are predicated by a colon `:`. Indented code after a `:` is executed in that block. Indenting code by 4 spaces is considered best practice."
   ]
  },
  {
   "cell_type": "markdown",
   "metadata": {},
   "source": [
    "```python\n",
    "if some_true_false_condition:\n",
    "    # do this when true\n",
    "``` "
   ]
  },
  {
   "cell_type": "markdown",
   "metadata": {},
   "source": [
    "```python\n",
    "for thing in the_things:\n",
    "  # do something with this thing\n",
    "```  "
   ]
  },
  {
   "cell_type": "markdown",
   "metadata": {},
   "source": [
    "```python\n",
    "def my_function():\n",
    "  # do something\n",
    "```  "
   ]
  },
  {
   "cell_type": "markdown",
   "metadata": {},
   "source": [
    "## Branching: `if-elif-else` constructs"
   ]
  },
  {
   "cell_type": "markdown",
   "metadata": {},
   "source": [
    "### Conditionals"
   ]
  },
  {
   "cell_type": "markdown",
   "metadata": {},
   "source": [
    "Conditionals are\n",
    "* objects that return `True` or `False` when passed to `bool()`\n",
    "* an asignment of `True` or `False` values\n",
    "* an expression that returns `True` or `False`\n",
    "\n",
    "In the *core Python* language nearly everything can be evaluated as `True` or `False`"
   ]
  },
  {
   "cell_type": "code",
   "execution_count": null,
   "metadata": {
    "collapsed": true
   },
   "outputs": [],
   "source": []
  },
  {
   "cell_type": "code",
   "execution_count": null,
   "metadata": {
    "collapsed": true
   },
   "outputs": [],
   "source": []
  },
  {
   "cell_type": "code",
   "execution_count": null,
   "metadata": {
    "collapsed": true
   },
   "outputs": [],
   "source": []
  },
  {
   "cell_type": "code",
   "execution_count": null,
   "metadata": {
    "collapsed": true
   },
   "outputs": [],
   "source": []
  },
  {
   "cell_type": "markdown",
   "metadata": {},
   "source": [
    "Without idioms for branching, computers would be unable to make decisions in an automated fashion. The `if` construct permits a block of code to be executed conditionally based on the value of a boolean expression (i.e., a logical test). Once again, the extent of the `if` block is determined by consistently indented lines below the initial `if` clause."
   ]
  },
  {
   "cell_type": "code",
   "execution_count": null,
   "metadata": {
    "collapsed": true
   },
   "outputs": [],
   "source": [
    "profit = -5 \n"
   ]
  },
  {
   "cell_type": "markdown",
   "metadata": {},
   "source": [
    "Notice, changing the value of `profit` to a negative value means the statement in the indented block does not execute. When that happens, the program continues directly to the next statement (`print(\"Accounts reviewed, let's go home...\")`) completely ignoring the body of the `if` block.\n",
    "\n",
    "If we want a different block of code to execute, we can include an `else` block as well."
   ]
  },
  {
   "cell_type": "code",
   "execution_count": null,
   "metadata": {
    "collapsed": true
   },
   "outputs": [],
   "source": [
    "profit = -5\n"
   ]
  },
  {
   "cell_type": "markdown",
   "metadata": {},
   "source": [
    "The code block that actually executes is dependent on the logical condition at the top of the `if` block. Again, after choosing which if the two clocks to execute, program flow continues below the last indented line of the `else` block and executes the `print` statement there.\n",
    "\n",
    "If there are numerous conditions to verify, an `elif` clause can optionally be added."
   ]
  },
  {
   "cell_type": "code",
   "execution_count": null,
   "metadata": {
    "collapsed": true
   },
   "outputs": [],
   "source": [
    "profit = 0 # Re-execute a few times with different positive & negative values \n",
    "in_the_black = profit > 0\n",
    "revenue_neutral = profit==0\n",
    "\n"
   ]
  },
  {
   "cell_type": "markdown",
   "metadata": {},
   "source": [
    "* More `elif` blocks can be added and `if` blocks can be nested. Be careful doing so; the logic of deeply nested `if-elif-else` blocks can be very difficult to untangle.\n",
    "* Notice here, the boolean *explainer variables* `in_the_black` and `revenue_neutral` are used rather than embedding logical tests directly in the `if` and `elif` statements. This is not required, the code can execute without creating those boolean variables. However, explainer variables can serve as a replacement for comments as documentation. With well chosen variable names, it can be easier for someone reading the code (e.g., you in six months) to decipher the code's intention."
   ]
  },
  {
   "cell_type": "markdown",
   "metadata": {},
   "source": [
    "### The ternary `if-else` operator"
   ]
  },
  {
   "cell_type": "markdown",
   "metadata": {},
   "source": [
    "A *ternary operator* permits conditional values assignment in a single line rather than using an `if` block.\n",
    "\n",
    "In Python a *ternary operator* must always return a value so the `else` clause must always be present."
   ]
  },
  {
   "cell_type": "code",
   "execution_count": null,
   "metadata": {
    "collapsed": true
   },
   "outputs": [],
   "source": [
    "profit = 3567 # Try changing to positive or negative values\n",
    "\n",
    "my_bonus = 1000.00 if profit>0 else 0.00\n",
    "print(my_bonus)"
   ]
  },
  {
   "cell_type": "markdown",
   "metadata": {},
   "source": [
    "Equivalent to this"
   ]
  },
  {
   "cell_type": "code",
   "execution_count": null,
   "metadata": {
    "collapsed": true
   },
   "outputs": [],
   "source": [
    "# Compare also to this:\n",
    "if profit > 0: \n",
    "    my_bonus = 1000.00\n",
    "else: \n",
    "    my_bonus = 0.00\n",
    "    \n",
    "print(my_bonus)"
   ]
  },
  {
   "cell_type": "markdown",
   "metadata": {},
   "source": [
    "## Iteration"
   ]
  },
  {
   "cell_type": "markdown",
   "metadata": {},
   "source": [
    "Python has two loop constructs, `for` and `while`.  Although you can, in principle, express *any* loop using either one, `for` is almost always more idiomatic, or \"Pythonic,\" than `while`.  The difference here is between looping \"while\" some condition (called a \"predicate\") holds vs. looping \"for\" the items in a collection or iterable sequence.  In Python, we prefer to think about the collection since the *data* are what interest us, and less often the internal details of how we get to the data.  Much more on this later."
   ]
  },
  {
   "cell_type": "markdown",
   "metadata": {},
   "source": [
    "### Iteration using `while`"
   ]
  },
  {
   "cell_type": "markdown",
   "metadata": {},
   "source": [
    "Iteration is one of the most important ideas in computing. Without the ability to express an iterative process, a programming language would have to write long sequences of explicit instructions. For instance, to add up the integers from one to ten as a straight-line program, we would have to write all the assignments explicitly:\n",
    "```python\n",
    ">>> total = 0\n",
    ">>> total += 1\n",
    ">>> total += 2\n",
    ">>> total += 3\n",
    ">>> total += 4\n",
    ">>> total += 5\n",
    ">>> total += 6\n",
    ">>> total += 7\n",
    ">>> total += 8\n",
    ">>> total += 9\n",
    ">>> total += 10\n",
    ">>> print('The total is', total)\n",
    "The total is 55\n",
    "```"
   ]
  },
  {
   "cell_type": "markdown",
   "metadata": {},
   "source": [
    "Alternatively, we could compute this sum using a `while` loop:"
   ]
  },
  {
   "cell_type": "code",
   "execution_count": null,
   "metadata": {
    "collapsed": true
   },
   "outputs": [],
   "source": []
  },
  {
   "cell_type": "markdown",
   "metadata": {},
   "source": [
    "When using the `while` construct, the generic format is\n",
    "\n",
    "```python\n",
    "while condition:\n",
    "    # do something\n",
    "```    \n",
    "\n",
    "where *`condition`* is a boolean-valued expression (e.g., `term<10` above). The body of the loop repeats until the value *`condition`* is `False` or until a `break` statement executes inside the loop body. As usual, the body of a Python loop is made explicit using consistent indentation. It can be a subtle and tricky problem to ensure that the termination test in a `while` loop is correct."
   ]
  },
  {
   "cell_type": "markdown",
   "metadata": {},
   "source": [
    "### Iteration using `for`"
   ]
  },
  {
   "cell_type": "markdown",
   "metadata": {},
   "source": [
    "`for` loops can be thought of as `foreach` loops over items in a container\n",
    "\n",
    "```python\n",
    "for item in items:\n",
    "   # do something with item\n",
    "```   "
   ]
  },
  {
   "cell_type": "markdown",
   "metadata": {},
   "source": [
    "To compute the sum of the integers from 1 to 10, the Python builtin function `range` generates a list (more on lists later) of the required values."
   ]
  },
  {
   "cell_type": "code",
   "execution_count": null,
   "metadata": {
    "collapsed": true
   },
   "outputs": [],
   "source": []
  },
  {
   "cell_type": "markdown",
   "metadata": {},
   "source": [
    "* Notice that the invocation `range(`*`start`*`,`*`stop`*`)` returns an iterable object that generates integer values in sequence starting from the value *`start`* ending at *`stop`*`-1`. This convention may be confusing to programmers familiar with R or Matlab, but is used in many languages, and is also applied when indexing or slicing Python lists or arrays (as we will see in the next module).  This convention is called **half-open intervals** and will be referenced quite heavily in later sections."
   ]
  },
  {
   "cell_type": "markdown",
   "metadata": {},
   "source": [
    "### Branching"
   ]
  },
  {
   "cell_type": "markdown",
   "metadata": {},
   "source": [
    "It is common to nest branching (`if-elif-else`) within a loop (`for` or `while`) to selectively carry out different operations depending on some condition. Often, the desired outcome is to skip to the next iteration or to stop the loop entirely.\n",
    "\n",
    "As an example we will write two versions of a program to *roll* a dice and compute the probably of rolling a 2. This code will make use of the `random` module and specifically the `random.randint(1,6)` to randomly choose a number between 1 and 6."
   ]
  },
  {
   "cell_type": "code",
   "execution_count": null,
   "metadata": {
    "collapsed": true
   },
   "outputs": [],
   "source": [
    "import random"
   ]
  },
  {
   "cell_type": "code",
   "execution_count": null,
   "metadata": {
    "collapsed": true
   },
   "outputs": [],
   "source": [
    "# count rolls of two 100,000 times in a while loop"
   ]
  },
  {
   "cell_type": "markdown",
   "metadata": {},
   "source": [
    "This result is reasonably close to `1/6`. Running more iterations in the `while` loop will improve the result."
   ]
  },
  {
   "cell_type": "markdown",
   "metadata": {},
   "source": [
    "Here is the same algorightm using a `for` loop. Note that the `iteration` assignment is preserved at end of the loop and is this case is equal to 100000."
   ]
  },
  {
   "cell_type": "code",
   "execution_count": null,
   "metadata": {
    "collapsed": true
   },
   "outputs": [],
   "source": [
    "# count rolls of two 100,000 in a for loop"
   ]
  },
  {
   "cell_type": "markdown",
   "metadata": {},
   "source": [
    "<big><b><font color='blue'>Python 2 vs 3</font></b></big>"
   ]
  },
  {
   "cell_type": "markdown",
   "metadata": {},
   "source": [
    "* Before Python 3, the `range` function would generate a list. The disadvantage of explicitly generating a list is that large ranges of integers require large amounts of memory up front, e.g., when invoking `range(1,1000000001)`. As of Python 3, the `range` function returns an *iterable* object of type `range`. Without going into implementation details, the `range` iterable generates successive integers in the prescribed range as needed; for instance, the `for` loop\n",
    "  ```python\n",
    "  for term in range(1,1000000001):\n",
    "      total += term\n",
    "  ```\n",
    "does not need to explicitly set aside a billion integer elements from memory at once. We will examine lists, iterables, iterators, and other Python language peculiarities in more detail in later modules. For now, accept that the `range` function is the idiom to iterate over a range of uniformly spaced integers."
   ]
  },
  {
   "cell_type": "markdown",
   "metadata": {},
   "source": [
    "#### `continue` and `pass`"
   ]
  },
  {
   "cell_type": "markdown",
   "metadata": {},
   "source": [
    "We can use these conditional statements to alter the way iterations are processed. To skip to the next iteration, we use the `continue` keyword."
   ]
  },
  {
   "cell_type": "markdown",
   "metadata": {},
   "source": [
    "Sometimes when looping over, say, a list of items, you may want to skip some items and go to the next; in that case, the `continue` keyword jumps out of the loop and onto the next element."
   ]
  },
  {
   "cell_type": "code",
   "execution_count": null,
   "metadata": {
    "collapsed": true
   },
   "outputs": [],
   "source": [
    "# Create a list of values\n",
    "weekly_profits = [15441.78, -4995.9, 17612.35, -1699.89, \n",
    "                  13508.56, 8197.6, 2129.29, -7164.04]"
   ]
  },
  {
   "cell_type": "code",
   "execution_count": null,
   "metadata": {
    "collapsed": true
   },
   "outputs": [],
   "source": [
    "for profit in weekly_profits:\n",
    "    if profit < 0:\n",
    "        continue\n",
    "    print('Profit:', profit) # This only executes when there is a profit (not a loss)"
   ]
  },
  {
   "cell_type": "markdown",
   "metadata": {},
   "source": [
    "<big><b><font color='green'>Additional Information</font></b></big>"
   ]
  },
  {
   "cell_type": "markdown",
   "metadata": {},
   "source": [
    "The `pass` keyword in Python is used in blocks where no action is to be taken. Whereas in other languages, empty braces or a `BEGIN` followed immediately by an `END` can denote an empty block, Python requires the `pass` keyword to do so (because Python uses indentation to delimit blocks).\n",
    "```python\n",
    "profit = 100\n",
    "if profit < 0:\n",
    "    print('There is a loss.')\n",
    "elif profit == 0:\n",
    "    pass # Take no action if revenue neutral\n",
    "else:\n",
    "    pass # TODO: figure out what to do when profitable\n",
    "```"
   ]
  },
  {
   "cell_type": "markdown",
   "metadata": {},
   "source": [
    "A `pass` statement simply passes control flow onto the next statement below the block (contrast with `continue` and `break`). It is often used as a placeholder while developing a program, as new code blocks are filled in.  Sometimes the placeholder serves as documentation for future readers of your code (including yourself when you come back to it); by explicitly spelling out a do-nothing block of code, readers can recognize that the case was contemplated by the code author rather than overlooked, and a decision to do nothing was actually made explicitly."
   ]
  },
  {
   "cell_type": "markdown",
   "metadata": {},
   "source": [
    "#### `break`"
   ]
  },
  {
   "cell_type": "markdown",
   "metadata": {},
   "source": [
    "We can use `break` to completely stop a loop. For example we can roll two dice indefinitely until they both equal 1. Notice that `break` will only exit from the current loop. Recipes for dealing with breaks from nested loops will be discussed later.\n",
    "\n",
    "<font color='red'>Warning:</font> this kind of programming can lead to [*infinite loops*](https://en.wikipedia.org/wiki/Infinite_loop)"
   ]
  },
  {
   "cell_type": "code",
   "execution_count": null,
   "metadata": {
    "collapsed": true
   },
   "outputs": [],
   "source": [
    "# roll two dice and break on double-two (snake eyes)"
   ]
  },
  {
   "cell_type": "markdown",
   "metadata": {},
   "source": [
    "<img src='img/copyright.png'>"
   ]
  }
 ],
 "metadata": {
  "anaconda-cloud": {},
  "kernelspec": {
   "display_name": "Python [conda env:anaconda_training]",
   "language": "python",
   "name": "conda-env-anaconda_training-py"
  },
  "language_info": {
   "codemirror_mode": {
    "name": "ipython",
    "version": 3
   },
   "file_extension": ".py",
   "mimetype": "text/x-python",
   "name": "python",
   "nbconvert_exporter": "python",
   "pygments_lexer": "ipython3",
   "version": "3.5.2"
  }
 },
 "nbformat": 4,
 "nbformat_minor": 0
}
