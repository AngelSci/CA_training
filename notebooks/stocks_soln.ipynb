{
 "cells": [
  {
   "cell_type": "markdown",
   "metadata": {},
   "source": [
    "<img src='img/logo.png' />"
   ]
  },
  {
   "cell_type": "markdown",
   "metadata": {},
   "source": [
    "<img src='img/title.png'>"
   ]
  },
  {
   "cell_type": "markdown",
   "metadata": {},
   "source": [
    "<img src='img/py3k.png'>"
   ]
  },
  {
   "cell_type": "markdown",
   "metadata": {},
   "source": [
    "# Table of Contents\n",
    "* [Exercise: Stock Data](#Exercise:-Stock-Data)\n",
    "* [Learning Objectives:](#Learning-Objectives:)\n",
    "* [The Data](#The-Data)\n",
    "* [Compute Maximum Closing Price](#Compute-Maximum-Closing-Price)\n",
    "* [Write a summary file](#Write-a-summary-file)"
   ]
  },
  {
   "cell_type": "markdown",
   "metadata": {},
   "source": [
    "# Exercise: Stock Data"
   ]
  },
  {
   "cell_type": "markdown",
   "metadata": {},
   "source": [
    "# Learning Objectives:"
   ]
  },
  {
   "cell_type": "markdown",
   "metadata": {},
   "source": [
    "After completion of this module, learners should be able to:\n",
    "\n",
    "* Read data from a file and prepare a data structure\n",
    "* Perform computations over the data structure"
   ]
  },
  {
   "cell_type": "markdown",
   "metadata": {},
   "source": [
    "# The Data"
   ]
  },
  {
   "cell_type": "markdown",
   "metadata": {},
   "source": [
    "Stock data for four companies is provided in `data/stocks.tsv`. Each line contains 13 entries: the name of company and the average closing price for each month in 2015.\n",
    "\n",
    "Write a function to read `data/stocks.tsv` into a dictionary of lists of floats. The dictionary should have the following structure\n",
    "\n",
    "```\n",
    "KEY  : VALUE\n",
    "---    -----\n",
    "Name : List of prices (floats)\n",
    "```"
   ]
  },
  {
   "cell_type": "markdown",
   "metadata": {},
   "source": [
    "Each company will be a separate key. For example,\n",
    "\n",
    "```\n",
    "{'APPLE': [110.64, 125.43, 125.97, 127.29, 128.76, 127.81, 125.34, 113.39, 112.8, 113.36, 118.16, 111.73]}\n",
    "```"
   ]
  },
  {
   "cell_type": "markdown",
   "metadata": {},
   "source": [
    "Warning: the first line is a header line and does not contain data."
   ]
  },
  {
   "cell_type": "code",
   "execution_count": null,
   "metadata": {
    "collapsed": true
   },
   "outputs": [],
   "source": [
    "def read_stocks(file):\n",
    "    d={}\n",
    "    with open(file,'r') as f:\n",
    "        data=f.readlines()\n",
    "    \n",
    "    for line in data[1:]:\n",
    "        name=line.split()[0]\n",
    "        close=[float(i) for i in line.split()[1:]]\n",
    "        d[name]=close\n",
    "    \n",
    "    return d"
   ]
  },
  {
   "cell_type": "code",
   "execution_count": null,
   "metadata": {
    "collapsed": true
   },
   "outputs": [],
   "source": [
    "stocks = read_stocks('data/stocks.tsv')"
   ]
  },
  {
   "cell_type": "markdown",
   "metadata": {},
   "source": [
    "# Compute Maximum Closing Price"
   ]
  },
  {
   "cell_type": "markdown",
   "metadata": {},
   "source": [
    "Write a function to find the month where the closing price was highest for each company and print the company name, the maximum closing price and month in which it occurred.\n",
    "\n",
    "Integer representation of the month is acceptable (1 := January).  Extra credit if you want to print the string version of the month.\n",
    "\n",
    "**Hint**: look at the help output for the `index` member function of a `list` object."
   ]
  },
  {
   "cell_type": "code",
   "execution_count": null,
   "metadata": {
    "collapsed": true
   },
   "outputs": [],
   "source": [
    "import datetime\n",
    "def print_max(stocks):\n",
    "    for name, prices in stocks.items():\n",
    "        max_price=max(prices)\n",
    "        month = prices.index(max_price) + 1\n",
    "        print(\"%-8s %6.2f %2s\" % (name,max_price,datetime.datetime(2015,month,1).strftime('%B')))"
   ]
  },
  {
   "cell_type": "code",
   "execution_count": null,
   "metadata": {
    "collapsed": true
   },
   "outputs": [],
   "source": [
    "print_max(stocks)"
   ]
  },
  {
   "cell_type": "markdown",
   "metadata": {},
   "source": [
    "# Write a summary file"
   ]
  },
  {
   "cell_type": "markdown",
   "metadata": {},
   "source": [
    "Create a function to write a comma separate value file with the following columns.\n",
    "\n",
    "```\n",
    "Name,Min,Max,Average\n",
    "```"
   ]
  },
  {
   "cell_type": "code",
   "execution_count": null,
   "metadata": {
    "collapsed": true
   },
   "outputs": [],
   "source": [
    "def write_summary(stocks,file):\n",
    "    with open(file,'w') as f:\n",
    "        f.write(\"Name,Min,Max,Average\\n\")\n",
    "        for name,prices in stocks.items():\n",
    "            p_min = min(prices)\n",
    "            p_max = max(prices)\n",
    "            p_avg = sum(prices)/len(prices)\n",
    "            f.write(\"%s,%.2f,%.2f,%.2f\\n\" % (name,p_min,p_max,p_avg))"
   ]
  },
  {
   "cell_type": "code",
   "execution_count": null,
   "metadata": {
    "collapsed": true
   },
   "outputs": [],
   "source": [
    "write_summary(stocks,'./tmp/stocks_summary.csv')"
   ]
  },
  {
   "cell_type": "code",
   "execution_count": null,
   "metadata": {
    "collapsed": true
   },
   "outputs": [],
   "source": [
    "%cat tmp/stocks_summary.csv"
   ]
  },
  {
   "cell_type": "code",
   "execution_count": null,
   "metadata": {
    "collapsed": true
   },
   "outputs": [],
   "source": [
    "# pandas dataframe for reference\n",
    "import pandas as pd\n",
    "import pandas_datareader.data as web\n",
    "\n",
    "def monthly2015(names):\n",
    "    stocks={}\n",
    "    for name in names:\n",
    "        stocks[name]=web.DataReader(name,'yahoo','2015-1-1', '2015-12-31')['Close'].resample('M')\n",
    "    return pd.DataFrame(stocks)\n",
    "\n",
    "df = monthly2015(['AAPL','GOOG','IBM','MSFT'])"
   ]
  },
  {
   "cell_type": "markdown",
   "metadata": {},
   "source": [
    "<img src='img/copyright.png'>"
   ]
  }
 ],
 "metadata": {
  "anaconda-cloud": {},
  "kernelspec": {
   "display_name": "Python [conda env:anaconda_training]",
   "language": "python",
   "name": "conda-env-anaconda_training-py"
  },
  "language_info": {
   "codemirror_mode": {
    "name": "ipython",
    "version": 3
   },
   "file_extension": ".py",
   "mimetype": "text/x-python",
   "name": "python",
   "nbconvert_exporter": "python",
   "pygments_lexer": "ipython3",
   "version": "3.5.2"
  }
 },
 "nbformat": 4,
 "nbformat_minor": 0
}
