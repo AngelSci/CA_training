{
 "cells": [
  {
   "cell_type": "markdown",
   "metadata": {},
   "source": [
    "<img src='img/logo.png' />"
   ]
  },
  {
   "cell_type": "markdown",
   "metadata": {},
   "source": [
    "<img src='img/title.png'>"
   ]
  },
  {
   "cell_type": "markdown",
   "metadata": {},
   "source": [
    "<img src='img/py3k.png'>"
   ]
  },
  {
   "cell_type": "markdown",
   "metadata": {},
   "source": [
    "# Table of Contents\n",
    "* [Exercise (classes and data structures)](#Exercise-%28classes-and-data-structures%29)\n",
    "\t* [Classes](#Classes)\n",
    "\t* [Reading files](#Reading-files)\n",
    "\t* [Teams](#Teams)\n",
    "\t* [Team Revenue](#Team-Revenue)"
   ]
  },
  {
   "cell_type": "markdown",
   "metadata": {},
   "source": [
    "# Exercise (classes and data structures)"
   ]
  },
  {
   "cell_type": "markdown",
   "metadata": {},
   "source": [
    "In our fictional company we have information about employees (name, date hired, etc.) and transaction data for the widgets and frobniz we sell. In this exercise create classes and functions to help the company understand the current organizational structure and generate revenue reports."
   ]
  },
  {
   "cell_type": "markdown",
   "metadata": {},
   "source": [
    "1. Design an `Employee` class based on the data provided in `data/employees.csv`\n",
    "1. Include the transactions in `data/transactions.csv` in `Employee` objects.\n",
    "1. Create functions to perform the following tasks\n",
    "    * Create a collection of teams based on Subordinates of Manager Employees\n",
    "    * Generate a report of total revenue and items (widgets and frobniz) sold by each team."
   ]
  },
  {
   "cell_type": "markdown",
   "metadata": {},
   "source": [
    "## Classes"
   ]
  },
  {
   "cell_type": "code",
   "execution_count": null,
   "metadata": {
    "collapsed": true
   },
   "outputs": [],
   "source": [
    "from collections import namedtuple\n",
    "Transaction=namedtuple('Transaction', 'id item amount price')\n",
    "\n",
    "class Employee(object):\n",
    "    def __init__(self,name=None, idnumber=None, position=None, manager=None, date=None, transactions=None):\n",
    "        self.Name = name\n",
    "        self.Id = idnumber\n",
    "        self.Position = position\n",
    "        self.DateHired = date\n",
    "        self.Manager = manager\n",
    "\n",
    "        self.Transactions=[]\n",
    "        if transactions is not None:\n",
    "            self.Transactions.extend(transactions)\n",
    "    \n",
    "    def __hash__(self):\n",
    "        return hash(self.Name)\n",
    "    \n",
    "    def setManager(self,manager):\n",
    "        self.Manager=manager\n",
    "    \n",
    "    def addTransaction(self,transaction):\n",
    "        self.Transactions.append(transaction)\n",
    "    \n",
    "    def countItems(self):\n",
    "        return sum([trans.amount for trans in self.Transactions])\n",
    "    \n",
    "    def totalRevenue(self):\n",
    "        return sum([trans.price * trans.amount for trans in self.Transactions])"
   ]
  },
  {
   "cell_type": "markdown",
   "metadata": {},
   "source": [
    "## Reading files"
   ]
  },
  {
   "cell_type": "code",
   "execution_count": null,
   "metadata": {
    "collapsed": true
   },
   "outputs": [],
   "source": [
    "import csv\n",
    "import datetime\n",
    "\n",
    "def csvToList(csvfile):\n",
    "    lines=[]\n",
    "    # read csv\n",
    "    with open(csvfile) as f:\n",
    "        reader=csv.reader(f)\n",
    "        for row in reader:\n",
    "            lines.append(row)\n",
    "    return lines\n",
    "\n",
    "def readEmployees(csvfile):\n",
    "    employees=[]\n",
    "    lines=csvToList(csvfile)\n",
    "    # make employee objects\n",
    "    for line in lines[1:]:\n",
    "        date=datetime.date(*[int(i) for i in line[4].split('-')])\n",
    "        employees.append(Employee(name=line[0],idnumber=int(line[1]),position=line[2],manager=int(line[3]),date=date))\n",
    "    # replace Manager integers with employee objects\n",
    "    [emp.setManager(emp2) for emp in employees for emp2 in employees if emp.Manager == emp2.Id]\n",
    "    # The owner is her own manager\n",
    "    employees[0].setManager(employees[0])\n",
    "    return employees\n",
    "\n",
    "def readTransactions(csvfile,employees):\n",
    "    lines=csvToList(csvfile)\n",
    "    for line in lines[1:]:\n",
    "        tId=int(line[0])\n",
    "        eId=int(line[1])\n",
    "        iType=line[2]\n",
    "        amount=int(line[3])\n",
    "        uPrice=float(line[4])\n",
    "        transaction = Transaction(tId,iType,amount,uPrice)\n",
    "        [emp.addTransaction(transaction) for emp in employees if emp.Id == eId]\n",
    "    \n",
    "\n",
    "employees=readEmployees('data/employees.csv')\n",
    "readTransactions('data/transactions.csv',employees)"
   ]
  },
  {
   "cell_type": "markdown",
   "metadata": {},
   "source": [
    "## Teams"
   ]
  },
  {
   "cell_type": "code",
   "execution_count": null,
   "metadata": {
    "collapsed": true
   },
   "outputs": [],
   "source": [
    "from collections import defaultdict\n",
    "def createTeams(employees):\n",
    "    teams = defaultdict(list)\n",
    "    \n",
    "    for employee in employees:\n",
    "        teams[employee.Manager].append(employee)\n",
    "    \n",
    "    return teams"
   ]
  },
  {
   "cell_type": "code",
   "execution_count": null,
   "metadata": {
    "collapsed": true
   },
   "outputs": [],
   "source": [
    "teams=createTeams(employees)\n",
    "for manager,emp in teams.items():\n",
    "    print('Manager: %s'% manager.Name)\n",
    "    for i in emp:\n",
    "        print('  %s' % i.Name)"
   ]
  },
  {
   "cell_type": "markdown",
   "metadata": {},
   "source": [
    "## Team Revenue"
   ]
  },
  {
   "cell_type": "code",
   "execution_count": null,
   "metadata": {
    "collapsed": true
   },
   "outputs": [],
   "source": [
    "def teamRevenue(teams):\n",
    "    report=namedtuple('report', 'manager revenue items')\n",
    "    teamrevenue=[]\n",
    "    for manager,employees in teams.items():\n",
    "        revenue=sum([emp.totalRevenue() for emp in employees]) + manager.totalRevenue()\n",
    "        items = sum([emp.countItems() for emp in employees]) + manager.countItems()\n",
    "        teamrevenue.append(report(manager,revenue,items))\n",
    "    return teamrevenue"
   ]
  },
  {
   "cell_type": "code",
   "execution_count": null,
   "metadata": {
    "collapsed": true
   },
   "outputs": [],
   "source": [
    "reports=teamRevenue(teams)\n",
    "for i in reports:\n",
    "    print(\"%s's team:\" % i.manager.Name)\n",
    "    print(\"  %d items\" % i.items)\n",
    "    print(\"  $%.2f\" % i.revenue)"
   ]
  },
  {
   "cell_type": "markdown",
   "metadata": {},
   "source": [
    "<img src='img/copyright.png'>"
   ]
  }
 ],
 "metadata": {
  "anaconda-cloud": {},
  "kernelspec": {
   "display_name": "Python [conda env:anaconda_training]",
   "language": "python",
   "name": "conda-env-anaconda_training-py"
  },
  "language_info": {
   "codemirror_mode": {
    "name": "ipython",
    "version": 3
   },
   "file_extension": ".py",
   "mimetype": "text/x-python",
   "name": "python",
   "nbconvert_exporter": "python",
   "pygments_lexer": "ipython3",
   "version": "3.5.2"
  }
 },
 "nbformat": 4,
 "nbformat_minor": 0
}
