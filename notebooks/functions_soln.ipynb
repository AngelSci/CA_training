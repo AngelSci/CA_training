{
 "cells": [
  {
   "cell_type": "markdown",
   "metadata": {},
   "source": [
    "<img src='img/logo.png' />"
   ]
  },
  {
   "cell_type": "markdown",
   "metadata": {},
   "source": [
    "<img src='img/title.png'>"
   ]
  },
  {
   "cell_type": "markdown",
   "metadata": {},
   "source": [
    "<img src='img/py3k.png'>"
   ]
  },
  {
   "cell_type": "markdown",
   "metadata": {},
   "source": [
    "# Table of Contents\n",
    "* [Functions exercises](#Functions-exercises)\n",
    "\t* [Temperature](#Temperature)\n",
    "\t* [Strings](#Strings)\n",
    "\t* [Iterate](#Iterate)"
   ]
  },
  {
   "cell_type": "markdown",
   "metadata": {},
   "source": [
    "# Functions exercises"
   ]
  },
  {
   "cell_type": "markdown",
   "metadata": {},
   "source": [
    "## Temperature"
   ]
  },
  {
   "cell_type": "markdown",
   "metadata": {},
   "source": [
    "Write a function that takes as input the temperature in degrees Celsius and returns the value in degrees Fahrenheit.\n",
    "\n",
    "Include a check in your code that returns `float('nan')` if the input value is less than -273.15 degrees Celsius.\n",
    "\n",
    "$$\n",
    "T_{\\mathrm{F}} = T_{\\mathrm{C}} * \\frac{9}{5} + 32\n",
    "$$"
   ]
  },
  {
   "cell_type": "code",
   "execution_count": null,
   "metadata": {
    "collapsed": true
   },
   "outputs": [],
   "source": [
    "def to_fahrenheit(temp):\n",
    "    '''convert celsius to fahrenheit\n",
    "    \n",
    "    return nan for tempeartures less than\n",
    "    absolute zero'''\n",
    "    if temp < -273.15:\n",
    "        return float('nan')\n",
    "    else:\n",
    "        return temp*(9/5) + 32"
   ]
  },
  {
   "cell_type": "code",
   "execution_count": null,
   "metadata": {
    "collapsed": true
   },
   "outputs": [],
   "source": [
    "to_fahrenheit(32)"
   ]
  },
  {
   "cell_type": "code",
   "execution_count": null,
   "metadata": {
    "collapsed": true
   },
   "outputs": [],
   "source": [
    "to_fahrenheit(-400.5)"
   ]
  },
  {
   "cell_type": "markdown",
   "metadata": {},
   "source": [
    "## Strings"
   ]
  },
  {
   "cell_type": "markdown",
   "metadata": {},
   "source": [
    "Write a function that compares whether two strings are equal by returning `True` or `False`. This function should be case-insensitive by default. Provide an optional argument called `ignore_case` that can be used to change this behavior."
   ]
  },
  {
   "cell_type": "code",
   "execution_count": null,
   "metadata": {
    "collapsed": true
   },
   "outputs": [],
   "source": [
    "def compare(s1, s2, ignore_case=True):\n",
    "    '''compare two strings\n",
    "    \n",
    "    case insensitive comparison by defult \n",
    "    change with ignore_case=False\n",
    "    '''\n",
    "    if ignore_case:\n",
    "        return s1.lower() == s2.lower()\n",
    "    else:\n",
    "        return s1 == s2"
   ]
  },
  {
   "cell_type": "code",
   "execution_count": null,
   "metadata": {
    "collapsed": true
   },
   "outputs": [],
   "source": [
    "compare('Albert', 'alberT')"
   ]
  },
  {
   "cell_type": "code",
   "execution_count": null,
   "metadata": {
    "collapsed": true
   },
   "outputs": [],
   "source": [
    "compare('Albert', 'aLBERT', ignore_case=False)"
   ]
  },
  {
   "cell_type": "markdown",
   "metadata": {},
   "source": [
    "## Iterate"
   ]
  },
  {
   "cell_type": "markdown",
   "metadata": {},
   "source": [
    "Write a function that sings `10 Green Bottles`. The song starts as follows\n",
    "\n",
    "```\n",
    "10 green bottles hanging on the wall\n",
    "10 green bottles hanging on the wall\n",
    "And if one green bottle should accidentally fall,\n",
    "There'll be 9 green bottles hanging on the wall.\n",
    "```"
   ]
  },
  {
   "cell_type": "markdown",
   "metadata": {},
   "source": [
    "The song continues until one green bottle remains on the wall. This is the final verse.\n",
    "\n",
    "```\n",
    "1 green bottle hanging on the wall,\n",
    "1 green bottle hanging on the wall,\n",
    "And if that green bottle should accidentally fall,\n",
    "There'll be no more bottles hanging on the wall.\n",
    "```"
   ]
  },
  {
   "cell_type": "markdown",
   "metadata": {},
   "source": [
    "The function should take an option argument to change the number of green bottles."
   ]
  },
  {
   "cell_type": "markdown",
   "metadata": {},
   "source": [
    "**Hint**: The `range` function takes three integer input arguments `start`, `stop` and `increment`. Remember that the `stop` value is not included.\n",
    "\n",
    "The `str()` function can convert any Python object to a string."
   ]
  },
  {
   "cell_type": "code",
   "execution_count": null,
   "metadata": {
    "collapsed": true
   },
   "outputs": [],
   "source": [
    "def green_bottles(n=10):\n",
    "    verse = '''xx green bottles hanging on the wall,\n",
    "xx green bottles hanging on the wall,\n",
    "And if one green bottle should accidentally fall,\n",
    "There'll be yy green bottles hanging on the wall.'''\n",
    "    \n",
    "    final = '''1 green bottle hanging on the wall,\n",
    "1 green bottle hanging on the wall,\n",
    "And if that green bottle should accidentally fall,\n",
    "There'll be no more bottles hanging on the wall.'''\n",
    "    \n",
    "    #skip 1 becuase we have a special case\n",
    "    for i in range(n,1,-1):\n",
    "        print(verse.replace('xx',str(i)).replace('yy',str(i-1)))\n",
    "        print()\n",
    "    else:\n",
    "        print(final)   "
   ]
  },
  {
   "cell_type": "code",
   "execution_count": null,
   "metadata": {
    "collapsed": true
   },
   "outputs": [],
   "source": [
    "green_bottles()"
   ]
  },
  {
   "cell_type": "markdown",
   "metadata": {},
   "source": [
    "<img src='img/copyright.png'>"
   ]
  }
 ],
 "metadata": {
  "anaconda-cloud": {},
  "kernelspec": {
   "display_name": "Python [conda env:anaconda_training]",
   "language": "python",
   "name": "conda-env-anaconda_training-py"
  },
  "language_info": {
   "codemirror_mode": {
    "name": "ipython",
    "version": 3
   },
   "file_extension": ".py",
   "mimetype": "text/x-python",
   "name": "python",
   "nbconvert_exporter": "python",
   "pygments_lexer": "ipython3",
   "version": "3.5.2"
  }
 },
 "nbformat": 4,
 "nbformat_minor": 0
}
