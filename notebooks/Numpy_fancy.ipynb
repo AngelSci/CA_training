{
 "cells": [
  {
   "cell_type": "markdown",
   "metadata": {},
   "source": [
    "<img src='img/logo.png' />"
   ]
  },
  {
   "cell_type": "markdown",
   "metadata": {},
   "source": [
    "<img src='img/title.png'>"
   ]
  },
  {
   "cell_type": "markdown",
   "metadata": {},
   "source": [
    "<img src='img/py3k.png'>"
   ]
  },
  {
   "cell_type": "markdown",
   "metadata": {},
   "source": [
    "# Table of Contents\n",
    "* [Learning Objectives:](#Learning-Objectives:)\n",
    "\t* [Some Simple Setup](#Some-Simple-Setup)\n",
    "* [Additional Selection from Arrays](#Additional-Selection-from-Arrays)\n",
    "* [Boolean Reduction](#Boolean-Reduction)\n",
    "* [Grid/Window/Neighbor Operations](#Grid/Window/Neighbor-Operations)\n",
    "* [Window Ops with Pandas](#Window-Ops-with-Pandas)\n",
    "* [Fancy Indexing](#Fancy-Indexing)\n",
    "* [Fancy Indexing with Pandas](#Fancy-Indexing-with-Pandas)\n",
    "* [Gotchas](#Gotchas)"
   ]
  },
  {
   "cell_type": "markdown",
   "metadata": {},
   "source": [
    "# Learning Objectives:"
   ]
  },
  {
   "cell_type": "markdown",
   "metadata": {},
   "source": [
    "After completion of this module, learners should be able to:\n",
    "\n",
    "* use and explain, *boolean indexing*, & *fancy indexing* in numpy"
   ]
  },
  {
   "cell_type": "markdown",
   "metadata": {},
   "source": [
    "## Some Simple Setup"
   ]
  },
  {
   "cell_type": "code",
   "execution_count": null,
   "metadata": {
    "collapsed": true
   },
   "outputs": [],
   "source": [
    "%matplotlib inline\n",
    "\n",
    "import numpy as np\n",
    "import matplotlib.pyplot as plt\n",
    "import os.path as osp\n",
    "import numpy.random as npr\n",
    "vsep = \"\\n-------------------\\n\"\n",
    "\n",
    "def dump_array(arr):\n",
    "    print(\"%s array of %s:\" % (arr.shape, arr.dtype))\n",
    "    print(arr)"
   ]
  },
  {
   "cell_type": "markdown",
   "metadata": {},
   "source": [
    "# Additional Selection from Arrays"
   ]
  },
  {
   "cell_type": "markdown",
   "metadata": {},
   "source": [
    "Boolean operations on an array proceed elementwise and result in bool values."
   ]
  },
  {
   "cell_type": "code",
   "execution_count": null,
   "metadata": {
    "collapsed": true
   },
   "outputs": [],
   "source": [
    "# this also holds for comparisons, but results in a boolean array\n",
    "arr = 2 ** np.arange(5)\n",
    "print(\"arr:\")\n",
    "dump_array(arr)\n",
    "\n",
    "print(\"\\nafter a boolean test:\")\n",
    "tested = arr > 4\n",
    "dump_array(tested)"
   ]
  },
  {
   "cell_type": "markdown",
   "metadata": {},
   "source": [
    "We can also use the boolean array as an indexer back into the original array."
   ]
  },
  {
   "cell_type": "code",
   "execution_count": null,
   "metadata": {
    "collapsed": true
   },
   "outputs": [],
   "source": [
    "arr[tested]"
   ]
  },
  {
   "cell_type": "code",
   "execution_count": null,
   "metadata": {
    "collapsed": true
   },
   "outputs": [],
   "source": [
    "arr[arr < 4]"
   ]
  },
  {
   "cell_type": "markdown",
   "metadata": {},
   "source": [
    "Sometimes we want to remove elements from an array that don't meet a certain criteria.  We can do that with `np.where` which is defined in the NumPy module.  It is not a method on NumPy arrays.  We will encounter more of these functions shortly.  One note:  `np.where` is designed to work on N-dimensional arrays.  Because of that, `np.where` insists on returning a tuple of arrays; one array of indices per dimension of the original array.  This makes perfect sense when the number of dimension is greater than one.  However, it can be a *gotcha* when there is only one dimension.  In either case, the indices can be used directly as an `array` index."
   ]
  },
  {
   "cell_type": "markdown",
   "metadata": {},
   "source": [
    "This is our first look at fancy indexing.  We'll go into more detail later.  "
   ]
  },
  {
   "cell_type": "code",
   "execution_count": null,
   "metadata": {
    "collapsed": true
   },
   "outputs": [],
   "source": [
    "# pick the indices of the even elements of arr \n",
    "arr = np.arange(10, 20)\n",
    "indices = np.where(arr % 2 == 0)\n",
    "print(\"the indices:  \", indices)\n",
    "print(\"the elements: \", arr[indices])"
   ]
  },
  {
   "cell_type": "markdown",
   "metadata": {},
   "source": [
    "In the multi-dimensional case from `np.where`, the indices are lined up pairwise and used to select elements at that position."
   ]
  },
  {
   "cell_type": "code",
   "execution_count": null,
   "metadata": {
    "collapsed": true
   },
   "outputs": [],
   "source": [
    "arr = np.arange(20).reshape(5,4)\n",
    "print(\"a 2D array:\")\n",
    "print(arr, end=vsep)\n",
    "\n",
    "indices = np.where(arr % 2 == 0)\n",
    "print(\"the indices:  \", indices)\n",
    "print(\"the elements: \", arr[indices])"
   ]
  },
  {
   "cell_type": "code",
   "execution_count": null,
   "metadata": {
    "collapsed": true
   },
   "outputs": [],
   "source": [
    "np.where(np.logical_not(np.isnan(arr)))"
   ]
  },
  {
   "cell_type": "markdown",
   "metadata": {},
   "source": [
    "`np.where` also has an alternate usage pattern:  `np.where(CONDITION, VALUE_WHEN_TRUE, VALUE_WHEN_FALSE)`.  Here, two arrays provide the values when the condition is met or fails.  If `VALUE_WHEN_TRUE/FALSE` is not of the right shape, it will be *broadcast* (expanded) into a compatible shape, if possible."
   ]
  },
  {
   "cell_type": "code",
   "execution_count": null,
   "metadata": {
    "collapsed": true
   },
   "outputs": [],
   "source": [
    "# np.where can also be used to select elements out of arrays (directly)\n",
    "arr = np.arange(10, 20)\n",
    "print(\"                        original:\", arr, end=vsep)\n",
    "print(\"evens -> 1.0, odds -> -99.0:\", \n",
    "      np.where(np.logical_not(arr % 2 == 1), 1.0, -99.0), end=vsep)\n",
    "\n",
    "# either or both VALUEs can be arrays\n",
    "print(\"odds -> 0.0, evens stay same:\", \n",
    "      np.where(arr % 2 == 0, arr, 0.0))"
   ]
  },
  {
   "cell_type": "code",
   "execution_count": null,
   "metadata": {
    "collapsed": true
   },
   "outputs": [],
   "source": [
    "arr = np.arange(20, dtype=float).reshape(5,4)\n",
    "masked = np.where(arr % 3, arr, float('nan'))\n",
    "masked"
   ]
  },
  {
   "cell_type": "code",
   "execution_count": null,
   "metadata": {
    "collapsed": true
   },
   "outputs": [],
   "source": [
    "np.where(np.logical_not(np.isnan(masked)))"
   ]
  },
  {
   "cell_type": "code",
   "execution_count": null,
   "metadata": {
    "collapsed": true
   },
   "outputs": [],
   "source": [
    "plt.plot(arr.flatten(), masked.flatten(), \"r-\");"
   ]
  },
  {
   "cell_type": "markdown",
   "metadata": {},
   "source": [
    "# Boolean Reduction"
   ]
  },
  {
   "cell_type": "markdown",
   "metadata": {},
   "source": [
    "Numpy arrays cannot be easily converted to boolean values so reduction member methods `any()` and `all()` are provided."
   ]
  },
  {
   "cell_type": "code",
   "execution_count": null,
   "metadata": {
    "collapsed": true
   },
   "outputs": [],
   "source": [
    "bool(arr)"
   ]
  },
  {
   "cell_type": "code",
   "execution_count": null,
   "metadata": {
    "collapsed": true
   },
   "outputs": [],
   "source": [
    "arr"
   ]
  },
  {
   "cell_type": "code",
   "execution_count": null,
   "metadata": {
    "collapsed": true
   },
   "outputs": [],
   "source": [
    "arr.any() #True if any value casts to a True"
   ]
  },
  {
   "cell_type": "code",
   "execution_count": null,
   "metadata": {
    "collapsed": true
   },
   "outputs": [],
   "source": [
    "arr.all() #True if ALL values cast to a True"
   ]
  },
  {
   "cell_type": "markdown",
   "metadata": {},
   "source": [
    "Reductions can be applied to any expression that returns a Numpy array"
   ]
  },
  {
   "cell_type": "code",
   "execution_count": null,
   "metadata": {
    "collapsed": true
   },
   "outputs": [],
   "source": [
    "arr2 = 2 ** np.arange(5)\n",
    "print(arr2>4)\n",
    "print((arr2>4).any())\n",
    "print((arr2>4).all())"
   ]
  },
  {
   "cell_type": "markdown",
   "metadata": {},
   "source": [
    "Remember that even arrays created with `np.empty` are not empty but filled with unitialized data."
   ]
  },
  {
   "cell_type": "code",
   "execution_count": null,
   "metadata": {
    "collapsed": true
   },
   "outputs": [],
   "source": [
    "arr3=np.empty(100)\n",
    "print(arr3)\n",
    "print(arr3.any())"
   ]
  },
  {
   "cell_type": "markdown",
   "metadata": {},
   "source": [
    "# Grid/Window/Neighbor Operations"
   ]
  },
  {
   "cell_type": "markdown",
   "metadata": {},
   "source": [
    "Sometimes, clever slicing and mathematics can implement \"window\" style operations.  Note here, the selection we've done reduces the total length by two.\n",
    "\n",
    "<center>\n",
    "![](img/numpygrid.scaled-noalpha.png)\n",
    "</center>"
   ]
  },
  {
   "cell_type": "code",
   "execution_count": null,
   "metadata": {
    "collapsed": true
   },
   "outputs": [],
   "source": [
    "test = np.random.randint(10, size=(10,))\n",
    "print(\"some sample data:\")\n",
    "dump_array(test)\n",
    "\n",
    "firstVals  = test[ :-2]  # how many values are in each of these?\n",
    "secondVals = test[1:-1]\n",
    "thirdVals  = test[2:  ]\n",
    "\n",
    "movingWindowAverage = (firstVals + secondVals + thirdVals) / 3.0 \n",
    "print(\"\\na 3-element moving average\")\n",
    "dump_array(movingWindowAverage)\n",
    "\n",
    "# we can write that more compactly as:\n",
    "# (test[:-2] + test[1:-1] + test[-2:]) / 3.0"
   ]
  },
  {
   "cell_type": "markdown",
   "metadata": {},
   "source": [
    "# Window Ops with Pandas"
   ]
  },
  {
   "cell_type": "markdown",
   "metadata": {},
   "source": [
    "We will visit pandas later, but here's a comparison of the same operation above expressed as a pandas operation."
   ]
  },
  {
   "cell_type": "code",
   "execution_count": null,
   "metadata": {
    "collapsed": true
   },
   "outputs": [],
   "source": [
    "s = pd.Series(test)\n",
    "s"
   ]
  },
  {
   "cell_type": "markdown",
   "metadata": {},
   "source": [
    "Notice that we are fully preserving the shape of the input, which is mapped back to the original index."
   ]
  },
  {
   "cell_type": "code",
   "execution_count": null,
   "metadata": {
    "collapsed": true
   },
   "outputs": [],
   "source": [
    "s.rolling(window=3).mean()"
   ]
  },
  {
   "cell_type": "markdown",
   "metadata": {},
   "source": [
    "# Fancy Indexing"
   ]
  },
  {
   "cell_type": "markdown",
   "metadata": {},
   "source": [
    "There are a few forms of *fancy indexing* in NumPy.  The first is indexing an array by other arrays (we've seen one example of this).  The result has the same shape as the indexing arrays."
   ]
  },
  {
   "cell_type": "code",
   "execution_count": null,
   "metadata": {
    "collapsed": true
   },
   "outputs": [],
   "source": [
    "arr = np.arange(15).reshape((3,5))\n",
    "print(arr)\n",
    "\n",
    "# select 0,0  0,2  1,3   2,4  as a 2x2 array\n",
    "rows = np.array([[0, 0], \n",
    "                 [1, 2]])\n",
    "cols = np.array([[0, 2], \n",
    "                 [3, 4]])\n",
    "\n",
    "# values are lined up pairwise (from inputs) to positions of output\n",
    "print(\"\\nSelect the position pairs:\")\n",
    "print(\"I.e. (0,0) (0,2) (1,3) (2,4) as a 2x2 array\")\n",
    "print(arr[rows, cols]) # ---> in shape of row,col index matrices"
   ]
  },
  {
   "cell_type": "code",
   "execution_count": null,
   "metadata": {
    "collapsed": true
   },
   "outputs": [],
   "source": [
    "arr[np.array([0,0,1,2]), np.array([0,2,3,4])]"
   ]
  },
  {
   "cell_type": "code",
   "execution_count": null,
   "metadata": {
    "collapsed": true
   },
   "outputs": [],
   "source": [
    "arr[rows.reshape(1,4), np.array([0,2,3,4])]"
   ]
  },
  {
   "cell_type": "code",
   "execution_count": null,
   "metadata": {
    "collapsed": true
   },
   "outputs": [],
   "source": [
    "arr[2, np.array([0,2,3,4])]"
   ]
  },
  {
   "cell_type": "markdown",
   "metadata": {},
   "source": [
    "Another form of fancy indexing comes when we use an array of *np.bool_*.  Here, the indexing array must have an element (True/False) for *every* position in the base array."
   ]
  },
  {
   "cell_type": "code",
   "execution_count": null,
   "metadata": {
    "collapsed": true
   },
   "outputs": [],
   "source": [
    "evens = (arr % 2 == 0) # note, arr % 2 is not boolean. \n",
    "                       # quick question:  how can we check that?\n",
    "print(arr, end=vsep)\n",
    "print(evens, end=vsep)\n",
    "print(arr[evens]) # boolean array: yes or no for each element\n",
    "                  # compare with indices: pick elements"
   ]
  },
  {
   "cell_type": "markdown",
   "metadata": {},
   "source": [
    "# Fancy Indexing with Pandas"
   ]
  },
  {
   "cell_type": "code",
   "execution_count": null,
   "metadata": {
    "collapsed": true
   },
   "outputs": [],
   "source": [
    "df = pd.DataFrame(arr)\n",
    "df"
   ]
  },
  {
   "cell_type": "markdown",
   "metadata": {},
   "source": [
    "pandas will preserve the input shape, replacing the value with ``NaN`` where the condition is not ``True``. Notice the dtype change as well."
   ]
  },
  {
   "cell_type": "code",
   "execution_count": null,
   "metadata": {
    "collapsed": true
   },
   "outputs": [],
   "source": [
    "df.where(arr % 2 == 0)"
   ]
  },
  {
   "cell_type": "markdown",
   "metadata": {},
   "source": [
    "# Gotchas"
   ]
  },
  {
   "cell_type": "markdown",
   "metadata": {},
   "source": [
    "One other gotcha:  Python's `bool` type is *not* the same as `np.bool_`.  In fact, Python's `bool`s are Python `int`s (you can check it below).  Thus, NumPy will use them as the values `0` and `1` — which means numerical indexes."
   ]
  },
  {
   "cell_type": "code",
   "execution_count": null,
   "metadata": {
    "collapsed": true
   },
   "outputs": [],
   "source": [
    "arr = np.arange(35).reshape(5,7)\n",
    "print(\"arr:\")\n",
    "print(arr, end=vsep)\n",
    "\n",
    "b = arr > 20\n",
    "print(\"a boolean selection:\\n\", arr[b], end=vsep)\n",
    "print(\"some of the boolean indices:\\n\", b[:,5], end=vsep)\n",
    "\n",
    "# compare, Python's True/False (python bool) are -ints-.  \n",
    "# prove it: print isinstance(True, int)\n",
    "# NumPy uses them as 0/1 integers\n",
    "#      ... unless they are in a np.array of type np.bool\n",
    "print(\"raw Python bools as indices\")\n",
    "# select row[0], row[0], row[0], row[1], row[1]\n",
    "pyBools = [False, False, False, True, True]\n",
    "print(arr[pyBools], end=vsep)\n",
    "\n",
    "print(\"np.bools\")\n",
    "npBools = np.array(pyBools, dtype=np.bool)\n",
    "# broadcast out across columns, so apply selection to each column\n",
    "print(arr[npBools])"
   ]
  },
  {
   "cell_type": "markdown",
   "metadata": {},
   "source": [
    "<img src='img/copyright.png'>"
   ]
  }
 ],
 "metadata": {
  "anaconda-cloud": {},
  "kernelspec": {
   "display_name": "Python [conda env:anaconda_training]",
   "language": "python",
   "name": "conda-env-anaconda_training-py"
  },
  "language_info": {
   "codemirror_mode": {
    "name": "ipython",
    "version": 3
   },
   "file_extension": ".py",
   "mimetype": "text/x-python",
   "name": "python",
   "nbconvert_exporter": "python",
   "pygments_lexer": "ipython3",
   "version": "3.5.2"
  }
 },
 "nbformat": 4,
 "nbformat_minor": 0
}
