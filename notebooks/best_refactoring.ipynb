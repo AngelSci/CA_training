{
 "cells": [
  {
   "cell_type": "markdown",
   "metadata": {},
   "source": [
    "<img src='img/logo.png'>\n",
    "<img src='img/title.png'>\n",
    "<img src='img/py3k.png'>"
   ]
  },
  {
   "cell_type": "markdown",
   "metadata": {},
   "source": [
    "# Table of Contents\n",
    "* [Motivation](#Motivation)\n",
    "* [How long should a function be?](#How-long-should-a-function-be?)\n",
    "* [How many functions should be in a module?](#How-many-functions-should-be-in-a-module?)\n",
    "* [When should I refactor?](#When-should-I-refactor?)\n",
    "\t* [Exercise (refactor into smaller functions)](#Exercise-%28refactor-into-smaller-functions%29)\n"
   ]
  },
  {
   "cell_type": "code",
   "execution_count": null,
   "metadata": {
    "collapsed": false
   },
   "outputs": [],
   "source": [
    "# Some heuristic rules for writing good code\n",
    "import this"
   ]
  },
  {
   "cell_type": "markdown",
   "metadata": {},
   "source": [
    "# Motivation"
   ]
  },
  {
   "cell_type": "markdown",
   "metadata": {},
   "source": [
    "Often, when we sit down to write code, our first pass may work, but not be easy to reuse or generalize. The temptation to just get something that just does the job has a number of downsides:\n",
    "  * it becomes hard to later to understand what the code was meant to do\n",
    "  * when sharing the code, other people will not understand how it works\n",
    "  * other similar problems may require some of the same algorithm, but you don't want to repeatedly re-write the same techniques\n",
    "  * smaller logical pieces lend themselves to testing - if a function only does one thing, we can test that it does that one thing correctly for all valid inputs (see chapter Testing); smaller also functions lend themselves to version control (e.g., git), so that when you change a function, we know immediately what it affects.\n",
    "  \n",
    "How to program is a question of personal style, but only to some extent. Keep in mind that the objective is to minimize the time it takes for someone to come to the code and understand what each piece of it does. That someone may well be you some time in the future."
   ]
  },
  {
   "cell_type": "markdown",
   "metadata": {},
   "source": [
    "# How long should a function be?"
   ]
  },
  {
   "cell_type": "markdown",
   "metadata": {},
   "source": [
    "Humans have a limited capacity to remember things in working memory. Try to keep the number of variables small and give them meaningful names. Keep the amount of processing a function does to a minimum. This will result in functions that are typically 20 lines of code or shorter, although there are always exceptions."
   ]
  },
  {
   "cell_type": "markdown",
   "metadata": {},
   "source": [
    "# How many functions should be in a module?"
   ]
  },
  {
   "cell_type": "markdown",
   "metadata": {},
   "source": [
    "Similar to above, the things in a module should be logically related, and limited in scope and number such that someone looking at the module understands what it's for and what the different components do."
   ]
  },
  {
   "cell_type": "markdown",
   "metadata": {},
   "source": [
    "# When should I refactor?"
   ]
  },
  {
   "cell_type": "markdown",
   "metadata": {},
   "source": [
    "Refactoring is the process of turning code that works as advertised into a better structure that follows the suggestions above. With practice, a programmer will tend to design and write code that better follows style guides and conventions, but in real life, refactoring will always become necessary time to time. The *when* can be roughly described as either if a function has become too complex to easily understand OR some part (not all) of the functionality is required again is a differet context. Remember, repeating yourself means you have multiple oportunities to make mistakes."
   ]
  },
  {
   "cell_type": "code",
   "execution_count": null,
   "metadata": {
    "collapsed": true
   },
   "outputs": [],
   "source": [
    "# Example\n",
    "import numpy as np\n",
    "from math import pi\n",
    "\n",
    "def sphere_dist(P1, P2):\n",
    "    \"\"\"Computes surface distance between locations on Earth\n",
    "    \n",
    "    Assume spherical surface of Earth from (latitude,longitude) coordinates\n",
    "    \"\"\"\n",
    "    R = 6365 # Radius of earth (km)\n",
    "    lat1, long1 = P1 # extract lat/long coordinates\n",
    "    x1 = np.cos(long1 * pi/180) * np.cos(lat1 * pi/180)\n",
    "    y1 = np.sin(long1 * pi/180) * np.cos(lat1 * pi/180)\n",
    "    z1 = np.cos(lat1 * pi/180) # trig functions are in radians\n",
    "    R1 = np.array([x1,y1,z1]) # cartesian location of P1\n",
    "\n",
    "    lat2, long2 = P2\n",
    "    x2 = np.cos(long2 * pi/180) * np.cos(lat2 * pi/180)\n",
    "    y2 = np.sin(long2 * pi/180) * np.cos(lat2 * pi/180)\n",
    "    z2 = np.cos(lat2 * pi/180)\n",
    "    R2 = np.array([x2,y2,z2]) # cartesian location of P2\n",
    "    alpha = np.arccos(np.dot(R1,R2)) # angle in radians\n",
    "    return R * alpha"
   ]
  },
  {
   "cell_type": "code",
   "execution_count": null,
   "metadata": {
    "collapsed": false
   },
   "outputs": [],
   "source": [
    "# London to New York\n",
    "sphere_dist((51.5, -0.1), (40.7, -74.0))"
   ]
  },
  {
   "cell_type": "markdown",
   "metadata": {},
   "source": [
    "In the function, we had the following variables defined: `P1, P2, lat1, long1, lat2, long2, x1, y1, z1, x2, y2, z2, R, R1, R2, alpha`. That's quite a few! Also, the expression `* pi/180` (to convert from degrees to radians) shows up many times, and the first half of the function is identical to the second half, except for which variables are being processed. All this repetition leads to mistakes, as we see."
   ]
  },
  {
   "cell_type": "markdown",
   "metadata": {},
   "source": [
    "## Exercise (refactor into smaller functions)"
   ]
  },
  {
   "cell_type": "markdown",
   "metadata": {},
   "source": [
    "Rewrite the function into smaller functions to remove the repetitions and decrease the number of variables in use at one time. The signature of `sphere_dist` should not change, and the result should be the same (this is a simple test)."
   ]
  },
  {
   "cell_type": "code",
   "execution_count": null,
   "metadata": {
    "collapsed": true
   },
   "outputs": [],
   "source": [
    "def spherical_to_cartesian(P):\n",
    "    pass\n",
    " \n",
    "def deg_to_rad(a):\n",
    "    pass\n",
    "\n",
    "def sphere_dist(P1, P2):\n",
    "    \"\"\"Computes surface distance between locations on Earth\n",
    "    \n",
    "    Assume spherical surface of Earth from (latitude,longitude) coordinates\n",
    "    \"\"\"\n",
    "    pass\n",
    "\n",
    "sphere_dist((51.5, -0.1), (40.7, -74.0))"
   ]
  },
  {
   "cell_type": "markdown",
   "metadata": {},
   "source": [
    "Next, consider generalising the code: what if we wanted to calculate the cartesian coordinates of any spherical coordinate `(lat, long, R)`? Would our earth-specific distance implementation need to change?"
   ]
  },
  {
   "cell_type": "markdown",
   "metadata": {},
   "source": [
    "---\n",
    "<a href='best_refactoring_soln.ipynb' class='btn btn-primary'>Solution</a>"
   ]
  },
  {
   "cell_type": "markdown",
   "metadata": {},
   "source": [
    "<img src='img/copyright.png'>"
   ]
  }
 ],
 "metadata": {
  "anaconda-cloud": {},
  "continuum": {
   "depends": [
    "tools_scripts"
   ],
   "requires": [
    "img/ContinuumLogoStacked.png"
   ],
   "tag": "tools_refactoring"
  },
  "kernelspec": {
   "display_name": "Python [conda env:anaconda_training]",
   "language": "python",
   "name": "conda-env-anaconda_training-py"
  },
  "language_info": {
   "codemirror_mode": {
    "name": "ipython",
    "version": 3
   },
   "file_extension": ".py",
   "mimetype": "text/x-python",
   "name": "python",
   "nbconvert_exporter": "python",
   "pygments_lexer": "ipython3",
   "version": "3.5.2"
  }
 },
 "nbformat": 4,
 "nbformat_minor": 0
}
