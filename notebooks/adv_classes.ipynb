{
 "cells": [
  {
   "cell_type": "markdown",
   "metadata": {},
   "source": [
    "<img src='img/logo.png' />"
   ]
  },
  {
   "cell_type": "markdown",
   "metadata": {},
   "source": [
    "<img src='img/title.png'>"
   ]
  },
  {
   "cell_type": "markdown",
   "metadata": {},
   "source": [
    "<img src='img/py3k.png'>"
   ]
  },
  {
   "cell_type": "markdown",
   "metadata": {},
   "source": [
    "# Table of Contents\n",
    "* [Learning Objectives:](#Learning-Objectives:)\n",
    "* [Classes](#Classes)\n",
    "\t* [A `BankAccount` class](#A-BankAccount-class)\n",
    "\t* [More class  examples](#More-class--examples)"
   ]
  },
  {
   "cell_type": "markdown",
   "metadata": {},
   "source": [
    "# Learning Objectives:"
   ]
  },
  {
   "cell_type": "markdown",
   "metadata": {},
   "source": [
    "After completion of this module, learners should be able to:\n",
    "\n",
    "* use & design Python classes\n",
    "* explain central distinguishing features in Pythonic object-oriented design"
   ]
  },
  {
   "cell_type": "markdown",
   "metadata": {},
   "source": [
    "# Classes"
   ]
  },
  {
   "cell_type": "markdown",
   "metadata": {},
   "source": [
    "It *is* possible organize a complex project in entirety using only functions. This approach is what is called a *functional programming* style. However, most large-scale Python projects use an *object-oriented programming* style (at least in part). *Classes* are the key features of object-oriented programming.\n",
    "\n",
    "A *class* is a high-level abstract structure for representing data objects along with operations that can be performed on those objects. Python classes can contain *attributes* (variables or data) and *methods* (functions). A class is defined almost like a function, but uses the keyword `class`. A class definition usually contains a number of definitions of attributes (data) and methods (functions).\n",
    "\n",
    "As an example, consider a (relatively mathematical) class to represent ordered pairs (i.e., *Cartesian coordinates*) of points in a two-dimensional plane. The `class` definition below explicitly implements three class methods (`__init__`, `__str__`, and `move`), the first of which binds two additional attributes (`x` and `y`)."
   ]
  },
  {
   "cell_type": "code",
   "execution_count": null,
   "metadata": {
    "collapsed": true
   },
   "outputs": [],
   "source": [
    "class Point2D(object):\n",
    "    \"Class to represent points in a coordinate system.\"\n",
    "    style = \"Cartesian\"  # Might represent polar coordinates in a different class\n",
    "    def __init__(self, x, y):\n",
    "        \"Create a new Point at x, y.\"\n",
    "        self.x = x\n",
    "        self.y = y\n",
    "    def move(self, delta_x, delta_y):\n",
    "        \"Moves point by delta_x and delta_y in the x and y direction.\"\n",
    "        self.x += delta_x\n",
    "        self.y += delta_y"
   ]
  },
  {
   "cell_type": "markdown",
   "metadata": {},
   "source": [
    "Calling a class creates an *instance* of the class.  The methods and attributes that belong to the class are also available to the instance, but the instance can have its own attributes also."
   ]
  },
  {
   "cell_type": "code",
   "execution_count": null,
   "metadata": {
    "collapsed": true
   },
   "outputs": [],
   "source": [
    "p1 = Point2D(-1, 0.5) # this invokes __init__ method from Point2D class\n",
    "print(p1)             # this invokes __str__ method from Point2D class\n",
    "p2 = Point2D(1, 1)\n",
    "print(p2)\n",
    "p1.style, p1.x, p1.y"
   ]
  },
  {
   "cell_type": "code",
   "execution_count": null,
   "metadata": {
    "collapsed": true
   },
   "outputs": [],
   "source": [
    "dir(p1)      # Examine all the attributes of the instance of Point2D"
   ]
  },
  {
   "cell_type": "code",
   "execution_count": null,
   "metadata": {
    "collapsed": true
   },
   "outputs": [],
   "source": [
    "# Most of these attributes belong to the class itself, which do not?\n",
    "set(dir(p1)) - set(dir(Point2D))"
   ]
  },
  {
   "cell_type": "code",
   "execution_count": null,
   "metadata": {
    "collapsed": true
   },
   "outputs": [],
   "source": [
    "class PrettyPoint2D(Point2D):\n",
    "    def __str__(self):\n",
    "        return(\"Point at [%f, %f]\" % (self.x, self.y))\n",
    "p3 = PrettyPoint2D(4, -5)\n",
    "print(p3)"
   ]
  },
  {
   "cell_type": "markdown",
   "metadata": {},
   "source": [
    "We have been working with many other classes and objects so far. Now we know how to create new classes with the `class` keyword. To apply a method to an object, invoke the class method name appended as a suffix to the object identifier (here `p1`) with a `.` as a separator and appropriate arguments. Notice that `self` is required in the class method definition, but is not used when invoked by a class instance (object)."
   ]
  },
  {
   "cell_type": "code",
   "execution_count": null,
   "metadata": {
    "collapsed": true
   },
   "outputs": [],
   "source": [
    "print(p3) # Examine entries of p1 before translating\n",
    "p3.move(0.25, 1.5)\n",
    "print(p3) # Examine entries of p1 after translating"
   ]
  },
  {
   "cell_type": "markdown",
   "metadata": {},
   "source": [
    "* Each method should have an argument `self` as its first argument. This object is a self-reference.\n",
    "\n",
    "* Some method names have special meaning; for example:\n",
    "\n",
    "    * `__init__`: The name of the method that is invoked when the object is first created.\n",
    "    * `__str__` : A method that is invoked when a simple string representation of the class is needed, as for example when printed.\n",
    "    * There are many more; see [Special method names](http://docs.python.org/3/reference/datamodel.html#special-method-names) from the Python documentation.  These are also often called \"magic methods\", and begin and end with double underscores (often pronounced \"dunder\")"
   ]
  },
  {
   "cell_type": "markdown",
   "metadata": {},
   "source": [
    "## A `BankAccount` class"
   ]
  },
  {
   "cell_type": "markdown",
   "metadata": {},
   "source": [
    "A more filled out example of where classes can be used is in a financial data management application like managing bank accounts. A bank account would have a few key string attributes associated with the owner of the account, a numeric attribute associated with the balance, and some methods for modifying the balance."
   ]
  },
  {
   "cell_type": "code",
   "execution_count": null,
   "metadata": {
    "collapsed": true
   },
   "outputs": [],
   "source": [
    "class BankAccount:  \n",
    "    def __init__(self, account_ID, first_name, last_name, initial_balance):\n",
    "        self._account_ID = account_ID\n",
    "        self._first_name = first_name\n",
    "        self._last_name = last_name\n",
    "        self._balance = initial_balance\n",
    "        \n",
    "    def deposit(self, amount):\n",
    "        '''BankAccount.deposit(amount) increases balance by amount'''\n",
    "        try:\n",
    "            if amount<=0:\n",
    "                raise ValueError('Expect positive amount!')\n",
    "            self._balance += amount\n",
    "        except Exception as e:\n",
    "            print(repr(e))\n",
    "            \n",
    "    def withdraw(self, amount):\n",
    "        '''BankAccount.withdraw(amount) increases balance by amount'''\n",
    "        try:\n",
    "            if amount<=0:\n",
    "                raise ValueError('Expect positive amount!')\n",
    "            self._balance -= amount\n",
    "        except Exception as e:\n",
    "            print(repr(e))\n",
    "            \n",
    "    def account_status(self):\n",
    "        out_string = \"%s %s\\tID: %s\\tBalance: $%.2f\" % (\n",
    "                      self._first_name, self._last_name, \n",
    "                      self._account_ID, self._balance)\n",
    "        print(out_string)\n",
    "        \n",
    "    def owner(self):\n",
    "        return \"%s %s\" % (self._first_name, self._last_name)"
   ]
  },
  {
   "cell_type": "markdown",
   "metadata": {},
   "source": [
    "Notice that the identifiers for the principal data attributes&mdash;`_first_name`, `_last_name`, `_account_ID`, and `_balance`&mdash; begin with a single underscore character. This is not required but it is a common convention in Python to use single underscores to identify attributes that are intended to be *private* or *protected*. Other object-oriented languages encourage data-hiding and encapsulation explicitly through private/protected methods and attributes. In Python, all attributes and methods are accessible by users, even when it would be wiser to deny users direct access. The intention here is that users would only modify a `BankAccount` object using its (publically exposed) methods."
   ]
  },
  {
   "cell_type": "code",
   "execution_count": null,
   "metadata": {
    "collapsed": true
   },
   "outputs": [],
   "source": [
    "# Call to the BankAccount *constructor* actually calls BankAccount.__init__\n",
    "isaac_account = BankAccount('123456789','Isaac','Newton',576.82)\n",
    "isaac_account.owner()"
   ]
  },
  {
   "cell_type": "code",
   "execution_count": null,
   "metadata": {
    "collapsed": true
   },
   "outputs": [],
   "source": [
    "# Calls account_status methof of instance object isaac_account\n",
    "isaac_account.account_status()"
   ]
  },
  {
   "cell_type": "code",
   "execution_count": null,
   "metadata": {
    "collapsed": true
   },
   "outputs": [],
   "source": [
    "isaac_account.deposit(675.32)\n",
    "isaac_account.account_status()"
   ]
  },
  {
   "cell_type": "code",
   "execution_count": null,
   "metadata": {
    "collapsed": true
   },
   "outputs": [],
   "source": [
    "# This is discouraged! Use *methods* to alter \"private\" object attributes instead!\n",
    "isaac_account._balance += 50.0\n",
    "isaac_account.account_status()"
   ]
  },
  {
   "cell_type": "code",
   "execution_count": null,
   "metadata": {
    "collapsed": true
   },
   "outputs": [],
   "source": [
    "isaac_account.deposit(1200)\n",
    "isaac_account.withdraw(57.13)\n",
    "isaac_account.account_status()"
   ]
  },
  {
   "cell_type": "code",
   "execution_count": null,
   "metadata": {
    "collapsed": true
   },
   "outputs": [],
   "source": [
    "isaac_account.deposit(-123)\n",
    "isaac_account.account_status()"
   ]
  },
  {
   "cell_type": "markdown",
   "metadata": {},
   "source": [
    "As the banking software project grows, more attributes and methods can be added to the `BankAccount` class. \n",
    "For instance: \n",
    "* a method to generate valid account ID strings\n",
    "* a method to validate input account ID strings\n",
    "* a class of `Transactions` that record not only the amount, but a *timestamp* as well (this would likely involve modifying the `deposit` and `withdraw` methods)\n",
    "\n",
    "As long as the interface remains the same for methods that modify the accounts, other code built that uses this `BankAccount` class should still work even as new features (i.e., methods, attributes) are implemented. *This* is the reason object-oriented design has become to prominent. It would be a drag to have to have to re-design, say, a web interface for banking transactions that uses this class when the class implementation is modified. In separating the *interface* of methods from their *implementation*, software projects can grow larger with easier mantenance, fewer errors, and greater backward compatibility."
   ]
  },
  {
   "cell_type": "markdown",
   "metadata": {},
   "source": [
    "## More class  examples"
   ]
  },
  {
   "cell_type": "code",
   "execution_count": null,
   "metadata": {
    "collapsed": true
   },
   "outputs": [],
   "source": [
    "# A set of animal-related classes and subclasses\n",
    "# The subclasses *inherit* attributes and methods from parent classes\n",
    "\n",
    "# Class Mammal is a subclass of class object\n",
    "class Mammal(object):\n",
    "    def __init__(self, name):\n",
    "        self.name = name\n",
    "        self.legs = 4\n",
    "        \n",
    "    def say(self):\n",
    "        raise NotImplemented\n",
    "\n",
    "# Class Pet is a subclass of class Mammal\n",
    "class Pet(Mammal):\n",
    "    pass\n",
    "\n",
    "# Class Dog is a subclass of class Pet\n",
    "class Dog(Pet):\n",
    "    def say(self):\n",
    "        print(\"Woof! My name is %s\" % self.name)\n",
    "\n",
    "# Class Cat is a subclass of class Pet\n",
    "class Cat(Pet):\n",
    "    def say(self):\n",
    "        print(\"Meow! My name is %s\" % self.name)\n",
    "\n",
    "# Class Bird is a subclass of class object\n",
    "class Bird(object):\n",
    "    def __init__(self, name):\n",
    "        self.name = name\n",
    "        self.legs = 2\n",
    "        \n",
    "    def say(self):\n",
    "        raise NotImplemented\n",
    "\n",
    "# Class Duck is a subclass of class Bird\n",
    "class Duck(Bird):\n",
    "    def say(self):\n",
    "        print(\"Quack! my name is %s\" % self.name)\n",
    "\n",
    "# Class Pony is a subclass of class Mammal\n",
    "class Pony(Mammal):\n",
    "    def say(self, extra=\", Bray!\"):\n",
    "        print(\"Wheee, my name is %s\" % self.name, extra)"
   ]
  },
  {
   "cell_type": "code",
   "execution_count": null,
   "metadata": {
    "collapsed": true
   },
   "outputs": [],
   "source": [
    "mypony = Pony(\"Charlie\")\n",
    "mypony.say()\n",
    "\n",
    "doug = Dog(\"Doug\")\n",
    "doug.legs = 3\n",
    "\n",
    "animals = [Cat('Sally'), Dog('Rover'), Duck('Dolly'), \n",
    "           doug, Cat('Kitty'), 3.14, mypony]\n",
    "print(animals)"
   ]
  },
  {
   "cell_type": "markdown",
   "metadata": {},
   "source": [
    "The principal motivation for object-oriented programming is to permit general interfaces to broad categories of objects. This permits very general code to be written:"
   ]
  },
  {
   "cell_type": "code",
   "execution_count": null,
   "metadata": {
    "collapsed": true
   },
   "outputs": [],
   "source": [
    "for animal in animals:\n",
    "    try:\n",
    "        animal.say()\n",
    "    except AttributeError as e:\n",
    "        print(\"That object, %s, can't say anything\" % animal)        "
   ]
  },
  {
   "cell_type": "markdown",
   "metadata": {},
   "source": [
    "The way that the above loop just looks for a `.say()` method on each object in the loop is called \"duck typing.\"  This is in contrast with typing based on inheritence that many programming languages use.  The various animals in the list do not share any common base class, but as long as they all have a `.say()` method, the loop works fine.\n",
    "\n",
    "The phrase \"duck typing\" is used in reference to the saying \"If it walks like a duck and quacks like a duck, we can treat it like a duck.\""
   ]
  },
  {
   "cell_type": "code",
   "execution_count": null,
   "metadata": {
    "collapsed": true
   },
   "outputs": [],
   "source": [
    "doug.name, doug.legs, doug.say()"
   ]
  },
  {
   "cell_type": "code",
   "execution_count": null,
   "metadata": {
    "collapsed": true
   },
   "outputs": [],
   "source": [
    "# We can assign a brand new attribute to an instance if we want\n",
    "doug.tail = \"Wagging\"\n",
    "doug.tail"
   ]
  },
  {
   "cell_type": "markdown",
   "metadata": {},
   "source": [
    "<img src='img/copyright.png'>"
   ]
  }
 ],
 "metadata": {
  "anaconda-cloud": {},
  "kernelspec": {
   "display_name": "Python [conda env:anaconda_training]",
   "language": "python",
   "name": "conda-env-anaconda_training-py"
  },
  "language_info": {
   "codemirror_mode": {
    "name": "ipython",
    "version": 3
   },
   "file_extension": ".py",
   "mimetype": "text/x-python",
   "name": "python",
   "nbconvert_exporter": "python",
   "pygments_lexer": "ipython3",
   "version": "3.4.5"
  }
 },
 "nbformat": 4,
 "nbformat_minor": 0
}
