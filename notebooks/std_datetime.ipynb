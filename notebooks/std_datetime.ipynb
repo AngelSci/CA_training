{
 "cells": [
  {
   "cell_type": "markdown",
   "metadata": {},
   "source": [
    "<img src='img/logo.png' />"
   ]
  },
  {
   "cell_type": "markdown",
   "metadata": {},
   "source": [
    "<img src='img/title.png'>"
   ]
  },
  {
   "cell_type": "markdown",
   "metadata": {},
   "source": [
    "<img src='img/py3k.png'>"
   ]
  },
  {
   "cell_type": "markdown",
   "metadata": {},
   "source": [
    "# Table of Contents\n",
    "* [Learning Objectives:](#Learning-Objectives:)\n",
    "* [Data Types from the Python Standard Library](#Data-Types-from-the-Python-Standard-Library)\n",
    "\t* [`collections` module](#collections-module)\n",
    "\t\t* [`collections.namedtuple`](#collections.namedtuple)\n",
    "\t\t* [`collections.OrderedDict`](#collections.OrderedDict)\n",
    "\t* [`collections.Counter`](#collections.Counter)\n",
    "* [Data types & data structures](#Data-types-&-data-structures)\n",
    "* [Data types from the Python Standard Library](#Data-types-from-the-Python-Standard-Library)\n",
    "\t* [`datetime` module](#datetime-module)\n",
    "* [Data Types from the Python Standard Library](#Data-Types-from-the-Python-Standard-Library)\n",
    "\t* [`decimal` module](#decimal-module)\n",
    "\t* [`fractions` module](#fractions-module)"
   ]
  },
  {
   "cell_type": "markdown",
   "metadata": {},
   "source": [
    "# Learning Objectives:"
   ]
  },
  {
   "cell_type": "markdown",
   "metadata": {},
   "source": [
    "After completion of this module, learners should be able to:\n",
    "\n",
    "* Search the documentation of the Python Standard Library for useful modules\n",
    "* import the collections module\n",
    "* undesrtand and use the `namedtuple`, `OrderedDict` and `Counter` collection types\n",
    "* import the `datetime` module and perform operations with datetime objects.\n",
    "* understand differences between the `decimcal` and `fraction` modules"
   ]
  },
  {
   "cell_type": "markdown",
   "metadata": {},
   "source": [
    "What is the python standard library?\n",
    "\n",
    "https://docs.python.org/3/py-modindex.html"
   ]
  },
  {
   "cell_type": "code",
   "execution_count": null,
   "metadata": {
    "collapsed": true
   },
   "outputs": [],
   "source": [
    "# here's many of the standard library modules\n",
    "import sys; import glob\n",
    "import os.path as path\n",
    "py_files=glob.glob(path.join(sys.prefix, \"lib\") + \"python%d.%d\" % (sys.version_info[0:2]) + path.sep + \"*.py\")\n",
    "mods=[path.basename(file).replace('.py','') for file in py_files if not path.basename(file).startswith('_')]\n",
    "\n",
    "modules={}\n",
    "for mod in mods:\n",
    "    if mod in ['this', 'antigravity']:\n",
    "        continue\n",
    "    \n",
    "    exec(\"import %s as tmp\" % mod)\n",
    "    try:\n",
    "        modules[mod]=tmp.__doc__.splitlines()[0]\n",
    "    except AttributeError:\n",
    "        modules[mod]='EMPTY'\n",
    "    \n",
    "for mod,doc in modules.items():\n",
    "    print(\"%s: %s\" % (mod,doc))"
   ]
  },
  {
   "cell_type": "markdown",
   "metadata": {},
   "source": [
    "# Data types from the Python Standard Library"
   ]
  },
  {
   "cell_type": "markdown",
   "metadata": {},
   "source": [
    "There are many other Python builtin data types and classes we could study in more detail (e.g., `byte`, `bytearray`, `iterator`, etc.). Among these are:\n",
    "* `datetime`: a module for manipulating calendar dates and times;"
   ]
  },
  {
   "cell_type": "markdown",
   "metadata": {},
   "source": [
    "## `datetime` module"
   ]
  },
  {
   "cell_type": "markdown",
   "metadata": {},
   "source": [
    "Computations involving dates are required frequently (e.g., calculating the number of days, hours, and minutes elapsed between 23:52 on Feb. 13, 2012 and 05:30 on Sept. 17, 2014). When we start to consider adjustments for leap years, time zones, and Daylight Savings Time, these calculations become quite involved. Rather than having to construct routines for date calculations from scratch, Python programmers can use routines from the `datetime` module to answer date-related questions. Of course, it is necessary to use an `import` statement to bring the relevant data structures and routines into the working namespace.\n",
    "\n",
    "* The `datetime` module provides routines for formatting dates for output as well as routines for computation with dates.\n",
    "* Complications in working with precise dates/times include time zones, leap seconds, and daylight-savings time corrections. The objects of the `datetime` module are classified as *naïve* or *aware* according to how well they are able to resolve times accurately with regard to such complications. There is a lot of subtlety involved in getting these details correct; suffice it to say that getting `datetime` computations accurate to within a day is likely possible, but getting accuracy to within a second, a minute, or even an hour is not guaranteed.\n",
    "* The complications above notwithstanding, the most relevant data types from the `datetime` module are `datetime.date` for representing dates, `datetime.time` for representing times, `datetime.datetime` for representing both dates & times, and `datetime.timedelta` for representing time intervals (i.e., time elapsed between two specific `datetime` events).\n",
    "* Useful functions include `datetime.date.today()` to return the current date, and `datetime.date.isoformat()`\n",
    "* More details are in the [`datetime` module documentation](https://docs.python.org/3/library/datetime.html)\n",
    "* At heart, naïve datetime arithmetic is simply \"mixed radix\" measures of seconds.  I.e. it combines base 60, base 24, and base 365 (and base 366 sometimes), in the way it displays and recognizes numbers."
   ]
  },
  {
   "cell_type": "code",
   "execution_count": null,
   "metadata": {
    "collapsed": true
   },
   "outputs": [],
   "source": [
    "import datetime as dt"
   ]
  },
  {
   "cell_type": "code",
   "execution_count": null,
   "metadata": {
    "collapsed": true
   },
   "outputs": [],
   "source": [
    "today = dt.date.today()\n",
    "# datetime.date.isoformat() returns date formatted in ISO format\n",
    "print('Today is %s' % today.isoformat()) \n",
    "# datetime.date.strftime returns date formatted as described by a format string\n",
    "print('Today is %s' % today.strftime('%A, %B %d, %Y')) # Details in documentation"
   ]
  },
  {
   "cell_type": "code",
   "execution_count": null,
   "metadata": {
    "collapsed": true
   },
   "outputs": [],
   "source": [
    "earlier = dt.datetime(2012,2,13,23,52) # 23:52 on Feb. 13, 2012\n",
    "later = dt.datetime(2014,9,17,5,30) # 05:30 on Sept. 17, 2014\n",
    "print('Earlier date = %s' % earlier.strftime('%A, %B %d, %Y at %H:%M'))\n",
    "print('Later   date = %s' %   later.strftime('%A, %B %d, %Y at %H:%M'))"
   ]
  },
  {
   "cell_type": "code",
   "execution_count": null,
   "metadata": {
    "collapsed": true
   },
   "outputs": [],
   "source": [
    "time_elapsed = later - earlier\n",
    "print('The time elapsed is %s' % time_elapsed)"
   ]
  },
  {
   "cell_type": "markdown",
   "metadata": {},
   "source": [
    "<img src='img/copyright.png'>"
   ]
  }
 ],
 "metadata": {
  "anaconda-cloud": {},
  "kernelspec": {
   "display_name": "Python [conda env:anaconda_training]",
   "language": "python",
   "name": "conda-env-anaconda_training-py"
  },
  "language_info": {
   "codemirror_mode": {
    "name": "ipython",
    "version": 3
   },
   "file_extension": ".py",
   "mimetype": "text/x-python",
   "name": "python",
   "nbconvert_exporter": "python",
   "pygments_lexer": "ipython3",
   "version": "3.5.2"
  }
 },
 "nbformat": 4,
 "nbformat_minor": 0
}
