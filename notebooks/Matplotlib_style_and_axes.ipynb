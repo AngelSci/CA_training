{
 "cells": [
  {
   "cell_type": "markdown",
   "metadata": {},
   "source": [
    "<img src='img/Anaconda_HLogo_0702-01.png' />"
   ]
  },
  {
   "cell_type": "markdown",
   "metadata": {},
   "source": [
    "<img src='img/title.png'>"
   ]
  },
  {
   "cell_type": "markdown",
   "metadata": {},
   "source": [
    "<img src='img/py3k.png'>"
   ]
  },
  {
   "cell_type": "markdown",
   "metadata": {
    "slideshow": {
     "slide_type": "slide"
    }
   },
   "source": [
    "# Plotting style parameters"
   ]
  },
  {
   "cell_type": "markdown",
   "metadata": {},
   "source": [
    "Using Matplotlib functionality we can control all aspects of plots make with either Pandas or Seaborn."
   ]
  },
  {
   "cell_type": "markdown",
   "metadata": {
    "slideshow": {
     "slide_type": "fragment"
    }
   },
   "source": [
    "# Table of Contents\n",
    "* [Plotting style parameters](#Plotting-style-parameters)\n",
    "\t* [Figures and axes](#Figures-and-axes)\n",
    "\t* [Axes types and limits](#Axes-types-and-limits)\n",
    "* [Adding insets](#Adding-insets)\n",
    "* [Styling the plot](#Styling-the-plot)\n",
    "* [Saving figures](#Saving-figures)\n"
   ]
  },
  {
   "cell_type": "code",
   "execution_count": null,
   "metadata": {
    "collapsed": false,
    "slideshow": {
     "slide_type": "fragment"
    }
   },
   "outputs": [],
   "source": [
    "import pandas as pd\n",
    "import matplotlib.pyplot as plt\n",
    "import seaborn as sns\n",
    "%matplotlib inline"
   ]
  },
  {
   "cell_type": "code",
   "execution_count": null,
   "metadata": {
    "collapsed": false,
    "slideshow": {
     "slide_type": "-"
    }
   },
   "outputs": [],
   "source": [
    "df = pd.read_csv('data/population_estimates.csv',index_col='year')\n",
    "df.info()"
   ]
  },
  {
   "cell_type": "markdown",
   "metadata": {
    "slideshow": {
     "slide_type": "notes"
    }
   },
   "source": [
    "[World Population growth](http://ourworldindata.org/data/population-growth-vital-statistics/world-population-growth/) estimates from 1 million BCE to the year 2100 provided by the UN."
   ]
  },
  {
   "cell_type": "markdown",
   "metadata": {
    "slideshow": {
     "slide_type": "notes"
    }
   },
   "source": [
    "Using the describe member function our Data Frame we can see that the world population spans more than 5 orders of magnitude."
   ]
  },
  {
   "cell_type": "code",
   "execution_count": null,
   "metadata": {
    "collapsed": false,
    "slideshow": {
     "slide_type": "subslide"
    }
   },
   "outputs": [],
   "source": [
    "# min and max population in each era\n",
    "df.describe().loc[['min','max'],:]"
   ]
  },
  {
   "cell_type": "markdown",
   "metadata": {},
   "source": [
    "## Figures and axes"
   ]
  },
  {
   "cell_type": "markdown",
   "metadata": {},
   "source": [
    "<div class='alert alert-info'>\n",
    "<img src='img/topics/Essential-Concept.png' align='left' style='padding:10px'>\n",
    "<br><big>\n",
    "The most essential Matplotlib objects are the <tt>figure</tt> and <tt>axes</tt>\n",
    "<br><br></big>\n",
    "</div>"
   ]
  },
  {
   "cell_type": "markdown",
   "metadata": {
    "slideshow": {
     "slide_type": "notes"
    }
   },
   "source": [
    "`plt.subplots` is a handy function to create both the figure and axes objects for a given size.\n",
    "\n",
    "With the deafault plot it is nearly impossible to see any data.\n",
    "\n",
    "Here the `axes` object is passed to Pandas `.plot()`."
   ]
  },
  {
   "cell_type": "code",
   "execution_count": null,
   "metadata": {
    "collapsed": false
   },
   "outputs": [],
   "source": [
    "fig, axes = plt.subplots(figsize=(15,8))\n",
    "\n",
    "df.plot(figsize=(20,8), ax=axes)"
   ]
  },
  {
   "cell_type": "markdown",
   "metadata": {
    "slideshow": {
     "slide_type": "slide"
    }
   },
   "source": [
    "## Axes types and limits"
   ]
  },
  {
   "cell_type": "markdown",
   "metadata": {},
   "source": [
    "<div class='alert alert-info'>\n",
    "<img src='img/topics/Essential-Concept.png' align='left' style='padding:10px'>\n",
    "<br><big>\n",
    "Setting axes type and and limits are controlled with <tt>log[x/y]</tt> and <tt>[x/y]lim</tt>\n",
    "<br><br></big>\n",
    "</div>"
   ]
  },
  {
   "cell_type": "markdown",
   "metadata": {
    "slideshow": {
     "slide_type": "notes"
    }
   },
   "source": [
    "* The stone age started around 15,000 BCE\n",
    "* Agriculture started after 10,000 BCE"
   ]
  },
  {
   "cell_type": "code",
   "execution_count": null,
   "metadata": {
    "collapsed": false,
    "slideshow": {
     "slide_type": "subslide"
    }
   },
   "outputs": [],
   "source": [
    "fig, axes = plt.subplots(figsize=(15,8))\n",
    "\n",
    "df.plot(figsize=(20,8), logy=True, xlim=(-1.5e4, 2100), ylim=(1e6, 1.5e10), ax=axes)"
   ]
  },
  {
   "cell_type": "markdown",
   "metadata": {},
   "source": [
    "<div class='alert alert-success'>\n",
    "<img src='img/topics/Best-Practice.png' align='left' style='padding:10px'>\n",
    "<br><big>\n",
    "Alternatively, you can use member functions of `axes`. This can be better when re-using the <tt>axes</tt> object.\n",
    "<br><br></big>\n",
    "</div>\n",
    "\n"
   ]
  },
  {
   "cell_type": "code",
   "execution_count": null,
   "metadata": {
    "collapsed": false
   },
   "outputs": [],
   "source": [
    "fig, axes = plt.subplots(figsize=(15,8))\n",
    "\n",
    "df.plot(figsize=(20,8), ax=axes)\n",
    "\n",
    "axes.set_yscale('log')\n",
    "axes.set_xlim(-1.5e4, 2100)\n",
    "axes.set_ylim(1e6, 1.5e10)"
   ]
  },
  {
   "cell_type": "markdown",
   "metadata": {
    "slideshow": {
     "slide_type": "slide"
    }
   },
   "source": [
    "# Adding insets"
   ]
  },
  {
   "cell_type": "markdown",
   "metadata": {},
   "source": [
    "<div class='alert alert-info'>\n",
    "<img src='img/topics/Essential-Concept.png' align='left' style='padding:10px'>\n",
    "<br><big>\n",
    "Insets are created with <tt>fig.add_axes([x,y,w,h])</tt>. <br>It takes x and y positions of the bottom left corner of the inset and the dimensions of the inset.\n",
    "<br><br></big>\n",
    "</div>"
   ]
  },
  {
   "cell_type": "markdown",
   "metadata": {
    "slideshow": {
     "slide_type": "notes"
    }
   },
   "source": [
    "The start of the ahtropocene is somewhat agreed to be 1945.\n",
    "\n",
    "Reusing the `fig` object from before."
   ]
  },
  {
   "cell_type": "code",
   "execution_count": null,
   "metadata": {
    "collapsed": false,
    "slideshow": {
     "slide_type": "fragment"
    }
   },
   "outputs": [],
   "source": [
    "ax_anthro = fig.add_axes([0.45,0.55,0.3,0.3])\n",
    "df.plot(ax=ax_anthro, legend=False, linewidth=2)\n",
    "\n",
    "ax_anthro.set_xlabel('')\n",
    "ax_anthro.set_yscale('log')\n",
    "ax_anthro.set_xlim(1945,2100)\n",
    "ax_anthro.set_ylim(1e9,1.5e10)\n",
    "\n",
    "fig"
   ]
  },
  {
   "cell_type": "markdown",
   "metadata": {
    "slideshow": {
     "slide_type": "slide"
    }
   },
   "source": [
    "# Styling the plot"
   ]
  },
  {
   "cell_type": "markdown",
   "metadata": {},
   "source": [
    "<div class='alert alert-info'>\n",
    "<img src='img/topics/Essential-Concept.png' align='left' style='padding:10px'>\n",
    "<br><big>\n",
    "Axes objects are independent. Style changes must be applied to each axes individually.\n",
    "<br><br></big>\n",
    "</div>"
   ]
  },
  {
   "cell_type": "markdown",
   "metadata": {},
   "source": [
    "Axes objects have the following functions (and more)\n",
    "* `set_title()`\n",
    "* `set_ylabel()`\n",
    "* `set_xlabel()`"
   ]
  },
  {
   "cell_type": "markdown",
   "metadata": {},
   "source": [
    "<div class='alert alert-info'>\n",
    "<img src='img/topics/Advanced-Concept.png' align='left' style='padding:10px'>\n",
    "<br><big>\n",
    "`.get_xticklabels()` returns a collection of Matplotlib text objects.<br> See the [text properties](http://matplotlib.org/users/text_props.html) documentation\n",
    "<br><br></big>\n",
    "</div>"
   ]
  },
  {
   "cell_type": "markdown",
   "metadata": {
    "slideshow": {
     "slide_type": "notes"
    }
   },
   "source": [
    "To change the font size of the tick labels I'm using \n",
    "\n",
    "Finally, the `tick_params` member method can be used to change the properties of all major or minor ticks for the particular axes object."
   ]
  },
  {
   "cell_type": "code",
   "execution_count": null,
   "metadata": {
    "collapsed": true,
    "slideshow": {
     "slide_type": "fragment"
    }
   },
   "outputs": [],
   "source": [
    "def set_plot_style(the_figure, main_axes, inset_axes):\n",
    "    title_font = {'size':'40'}\n",
    "    main_axes.set_title('World Population Estimates', **title_font)\n",
    "\n",
    "    label_font = {'size':'20'}\n",
    "    main_axes.set_ylabel('Population', **label_font)\n",
    "    main_axes.set_xlabel('Year (since common era)', **label_font)\n",
    "    \n",
    "    for item in main_axes.get_xticklabels() + main_axes.get_yticklabels():\n",
    "        item.set_fontsize(15)\n",
    "\n",
    "    for item in inset_axes.get_xticklabels() + inset_axes.get_yticklabels():\n",
    "        item.set_fontsize(12)\n",
    "    \n",
    "    main_axes.legend(loc=0, prop={'size':12})\n",
    "    \n",
    "    main_axes.tick_params(width=2,length=6)\n",
    "    main_axes.tick_params(which='minor', width=1, length=3)"
   ]
  },
  {
   "cell_type": "markdown",
   "metadata": {
    "slideshow": {
     "slide_type": "notes"
    }
   },
   "source": [
    "All of these style adjustments have been placed in a new function that takes the three objects as input. Since it modifies the objects in place it does not have anything to return."
   ]
  },
  {
   "cell_type": "code",
   "execution_count": null,
   "metadata": {
    "collapsed": false,
    "slideshow": {
     "slide_type": "subslide"
    }
   },
   "outputs": [],
   "source": [
    "set_plot_style(fig, axes, ax_anthro)\n",
    "fig"
   ]
  },
  {
   "cell_type": "markdown",
   "metadata": {},
   "source": [
    "# Saving figures"
   ]
  },
  {
   "cell_type": "markdown",
   "metadata": {},
   "source": [
    "To save a figure to disk as an image the `.savefig()` member object will make raster and vector images with a specified DPI."
   ]
  },
  {
   "cell_type": "code",
   "execution_count": null,
   "metadata": {
    "collapsed": true
   },
   "outputs": [],
   "source": [
    "fig.savefig('tmp/figure.png', dpi=600)"
   ]
  },
  {
   "cell_type": "code",
   "execution_count": null,
   "metadata": {
    "collapsed": true
   },
   "outputs": [],
   "source": [
    "fig.savefig('tmp/figure.pdf')"
   ]
  },
  {
   "cell_type": "markdown",
   "metadata": {},
   "source": [
    "<img src='img/copyright.png'>"
   ]
  }
 ],
 "metadata": {
  "kernelspec": {
   "display_name": "Python [conda env:anaconda_training]",
   "language": "python",
   "name": "conda-env-anaconda_training-py"
  },
  "language_info": {
   "codemirror_mode": {
    "name": "ipython",
    "version": 3
   },
   "file_extension": ".py",
   "mimetype": "text/x-python",
   "name": "python",
   "nbconvert_exporter": "python",
   "pygments_lexer": "ipython3",
   "version": "3.5.2"
  }
 },
 "nbformat": 4,
 "nbformat_minor": 0
}
