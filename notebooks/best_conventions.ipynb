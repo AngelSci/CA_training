{
 "cells": [
  {
   "cell_type": "markdown",
   "metadata": {},
   "source": [
    "<img src='img/logo.png'>\n",
    "<img src='img/title.png'>\n",
    "<img src='img/py3k.png'>"
   ]
  },
  {
   "cell_type": "markdown",
   "metadata": {},
   "source": [
    "# Table of Contents\n",
    "* [Learning Objectives:](#Learning-Objectives:)\n",
    "\t* [Pythonics](#Pythonics)\n",
    "\t* [Simple idioms](#Simple-idioms)\n",
    "\t* [Avoid global variables](#Avoid-global-variables)\n",
    "\t* [Rationalize imports (nothing circular)](#Rationalize-imports-%28nothing-circular%29)\n",
    "\t* [Avoid type or class checking](#Avoid-type-or-class-checking)\n",
    "\t\t* [Consider using Abstract Base Classes](#Consider-using-Abstract-Base-Classes)\n",
    "\t\t* [Even better, use *duck typing*](#Even-better,-use-*duck-typing*)\n",
    "\t* [Equality isn't identity](#Equality-isn't-identity)\n",
    "\t* [Use docstrings](#Use-docstrings)\n",
    "\t\t* [Usage](#Usage)\n",
    "\t\t* [Functions](#Functions)\n",
    "\t\t* [Modules](#Modules)\n",
    "\t* [Iteration tricks](#Iteration-tricks)\n",
    "\t\t* [Exercise (rewrite higher-order funcs as comprehension)](#Exercise-%28rewrite-higher-order-funcs-as-comprehension%29)\n",
    "\t\t* [(Potentially) infinite sequences](#%28Potentially%29-infinite-sequences)\n",
    "\t* [Pick good collection types](#Pick-good-collection-types)\n",
    "\t* [Context managers](#Context-managers)\n",
    "\t* [Conventions](#Conventions)\n",
    "\t\t* [Style](#Style)\n"
   ]
  },
  {
   "cell_type": "markdown",
   "metadata": {},
   "source": [
    "# Learning Objectives:"
   ]
  },
  {
   "cell_type": "markdown",
   "metadata": {},
   "source": [
    "After completion of this module, learners should be able to:\n",
    "\n",
    "* Designing better code:\n",
    "  * 'pythonic' idioms\n",
    "  * conventions\n",
    "  * PEP8"
   ]
  },
  {
   "cell_type": "markdown",
   "metadata": {},
   "source": [
    "Don't reinvent the wheel - check if the process you want to do has already been solved, in the standard library or elsewhere."
   ]
  },
  {
   "cell_type": "markdown",
   "metadata": {},
   "source": [
    "## Pythonics"
   ]
  },
  {
   "cell_type": "markdown",
   "metadata": {},
   "source": [
    "List of examples to expand upon\n",
    "  * List comprehensions\n",
    "  * Generator expressions\n",
    "  * Generators\n",
    "  * Loop and Iterator techniques (zip, enumerate->itertools->toolz)\n",
    "  * Avoid index counters\n",
    "  * Contexts\n",
    "  * Use of _\n",
    "  * Documentation?\n",
    "  * Avoid type() -> assert and fail early\n",
    "  * Custom exceptions and defensive programming\n",
    "  * `__main__` and scripts/CLI\n",
    "  * Partial functions? Closures?\n",
    "\n",
    "Many things are described in more detailed in Advanced Python; they are listed here for completeness, as special python idioms worth remembering."
   ]
  },
  {
   "cell_type": "markdown",
   "metadata": {},
   "source": [
    "## Simple idioms"
   ]
  },
  {
   "cell_type": "code",
   "execution_count": null,
   "metadata": {
    "collapsed": false
   },
   "outputs": [],
   "source": [
    "# un/packing tuples\n",
    "a, b = (1, 2)\n",
    "a, b = b, a\n",
    "out = a, b   # commas define tuples, not parens\n",
    "print(*out)"
   ]
  },
  {
   "cell_type": "code",
   "execution_count": null,
   "metadata": {
    "collapsed": false
   },
   "outputs": [],
   "source": [
    "# avoiding index variables, e.g.,\n",
    "(4 in range(9), \n",
    " 'requirements:\\n' in open('data/graphviz-meta.yaml'),\n",
    " 'D' in \"Martin Durant\"\n",
    ")\n",
    "# rather than looping or using find functions"
   ]
  },
  {
   "cell_type": "code",
   "execution_count": null,
   "metadata": {
    "collapsed": false
   },
   "outputs": [],
   "source": [
    "# similarly for dictionaries\n",
    "mydict = {'a': 0, 'b': 1}\n",
    "if 'a' in mydict:\n",
    "    print(\"no need for has_key()\")\n",
    "    \n",
    "print(mydict.get('c', 'Default Value'))"
   ]
  },
  {
   "cell_type": "code",
   "execution_count": null,
   "metadata": {
    "collapsed": false
   },
   "outputs": [],
   "source": [
    "# \"empty\" containers, None, and zero-like values are Falsy, everything else Truthy:\n",
    "if None:\n",
    "    print(\"Never happens\")\n",
    "\n",
    "mylist = ['anything', 5]\n",
    "if mylist:\n",
    "    print(\"non-empty thing\")\n",
    "# so you never do\n",
    "if len(mylist) > 0:\n",
    "    print('also non-empty thing')"
   ]
  },
  {
   "cell_type": "markdown",
   "metadata": {
    "collapsed": true
   },
   "source": [
    "## Avoid global variables"
   ]
  },
  {
   "cell_type": "markdown",
   "metadata": {
    "collapsed": true
   },
   "source": [
    "## Rationalize imports (nothing circular)"
   ]
  },
  {
   "cell_type": "markdown",
   "metadata": {},
   "source": [
    "**Bad**\n",
    "\n",
    "`modA.py`:\n",
    "```python\n",
    "import modB\n",
    "\n",
    "def function1(x):\n",
    "    y = modB.function1(x)\n",
    "    # return something else\n",
    "\n",
    "def function2(x):\n",
    "    # return something\n",
    "```"
   ]
  },
  {
   "cell_type": "markdown",
   "metadata": {},
   "source": [
    "`modB.py`:\n",
    "```python\n",
    "import modA\n",
    "\n",
    "def function1(x):\n",
    "    # return something\n",
    "    \n",
    "def function2(x):\n",
    "    y = modA.function2(x)\n",
    "    # return something else\n",
    "```"
   ]
  },
  {
   "cell_type": "markdown",
   "metadata": {},
   "source": [
    "**Better**\n",
    "\n",
    "`modC.py`:\n",
    "```python\n",
    "def function1(x):\n",
    "    # return something\n",
    "    \n",
    "def function2(x):\n",
    "    # return something else\n",
    "```"
   ]
  },
  {
   "cell_type": "markdown",
   "metadata": {},
   "source": [
    "`modA.py`:\n",
    "```python\n",
    "import modC\n",
    "\n",
    "def function1(x):\n",
    "    y = modC.function1(x)\n",
    "    # return something\n",
    "```"
   ]
  },
  {
   "cell_type": "markdown",
   "metadata": {},
   "source": [
    "`modB.py`:\n",
    "```python\n",
    "import modC\n",
    "\n",
    "def function2(x):\n",
    "    y = modC.function2(x)\n",
    "    # return something\n",
    "```"
   ]
  },
  {
   "cell_type": "markdown",
   "metadata": {},
   "source": [
    "## Avoid type or class checking"
   ]
  },
  {
   "cell_type": "code",
   "execution_count": null,
   "metadata": {
    "collapsed": false,
    "raises": "AssertionError"
   },
   "outputs": [],
   "source": [
    "# Either assume and allow exception or use isinstance\n",
    "import collections\n",
    "odict = collections.OrderedDict([('a', 1), ('b', 2)])\n",
    "\n",
    "def process_dict(d):\n",
    "    \"ONLY works on dictionaries\"\n",
    "    assert type(d) == type(dict), 'Wrong type' # Fails for subclasses\n",
    "    # Process d...\n",
    "process_dict(odict)"
   ]
  },
  {
   "cell_type": "code",
   "execution_count": null,
   "metadata": {
    "collapsed": false
   },
   "outputs": [],
   "source": [
    "isinstance(odict, dict)"
   ]
  },
  {
   "cell_type": "markdown",
   "metadata": {
    "py3_only": true
   },
   "source": [
    "### Consider using Abstract Base Classes"
   ]
  },
  {
   "cell_type": "code",
   "execution_count": null,
   "metadata": {
    "collapsed": false,
    "py3_only": true
   },
   "outputs": [],
   "source": [
    "from collections.abc import Mapping\n",
    "isinstance(odict, Mapping)"
   ]
  },
  {
   "cell_type": "code",
   "execution_count": null,
   "metadata": {
    "collapsed": false,
    "py3_only": true
   },
   "outputs": [],
   "source": [
    "import src.mapping as mapping\n",
    "shout = mapping.ShoutMap()\n",
    "\n",
    "# An admittedly odd user mapping class\n",
    "print(shout['Martin Durant'], len(shout), [x for x in shout])\n",
    "\n",
    "isinstance(shout, dict), isinstance(shout, Mapping)"
   ]
  },
  {
   "cell_type": "code",
   "execution_count": null,
   "metadata": {
    "collapsed": false,
    "py3_only": true
   },
   "outputs": [],
   "source": [
    "mapping??"
   ]
  },
  {
   "cell_type": "markdown",
   "metadata": {},
   "source": [
    "### Even better, use *duck typing*"
   ]
  },
  {
   "cell_type": "markdown",
   "metadata": {},
   "source": [
    "Most of the time in Python you aren't interested in \"what something is\" but \"what it can do.\"  This is known as \"duck typing\" after the expression \"if it walks like a duck, and quacks like a duck, let's call it a duck.\""
   ]
  },
  {
   "cell_type": "code",
   "execution_count": null,
   "metadata": {
    "collapsed": true
   },
   "outputs": [],
   "source": [
    "def process_dict(d):\n",
    "    # Just try to do some operations; catch problem if they aren't supported\n",
    "    try:\n",
    "        keys = d.keys()\n",
    "        for key in keys:\n",
    "            do_something(d[key])\n",
    "    except:\n",
    "        print(\"Object does not have both .keys() and .getitem()\")\n",
    "        raise"
   ]
  },
  {
   "cell_type": "markdown",
   "metadata": {},
   "source": [
    "## Equality isn't identity"
   ]
  },
  {
   "cell_type": "code",
   "execution_count": null,
   "metadata": {
    "collapsed": false
   },
   "outputs": [],
   "source": [
    "# is and == are not necessarily the same\n",
    "x = [1, 2, 3]\n",
    "y = [1, 2, 3]\n",
    "print(x == y)\n",
    "print(x is y) # are they the very same object?\n",
    "# why is this important"
   ]
  },
  {
   "cell_type": "markdown",
   "metadata": {},
   "source": [
    "...but DO use in the case of: \n",
    "\n",
    "```python\n",
    "if x is None: ...\n",
    "if y is not None: ...\n",
    "```"
   ]
  },
  {
   "cell_type": "markdown",
   "metadata": {},
   "source": [
    "## Use docstrings"
   ]
  },
  {
   "cell_type": "markdown",
   "metadata": {},
   "source": [
    "Docstrings for classes, modules, functions and methods are much better than comments within the code. You want the information to pop up in help and auto-generated docs, rather than forcing people to read through the source files to see how things are suposed to work.\n",
    "\n",
    "See [PEP0257](https://www.python.org/dev/peps/pep-0257/)\n",
    "\n",
    "See [Numpy Docstrings Standard](https://github.com/numpy/numpy/blob/master/doc/HOWTO_DOCUMENT.rst.txt)"
   ]
  },
  {
   "cell_type": "markdown",
   "metadata": {},
   "source": [
    "### Usage"
   ]
  },
  {
   "cell_type": "markdown",
   "metadata": {},
   "source": [
    "For Python code blocks (packages, modules, classes, methods and functions) a string just after the declaration is a `docstring`. The string becomes the `__doc__` attribute of the object and can be used with the `help()` function or read by a utility like [Docutils](docutils.sourceforge.net) to generate documentation directly from the code.\n",
    "\n",
    "By convention use triple quotes for `docstrings`."
   ]
  },
  {
   "cell_type": "code",
   "execution_count": null,
   "metadata": {
    "collapsed": true
   },
   "outputs": [],
   "source": [
    "# single line\n",
    "def nudge():\n",
    "    \"\"\"As good as wink to a blind bat, eh?\"\"\""
   ]
  },
  {
   "cell_type": "code",
   "execution_count": null,
   "metadata": {
    "collapsed": false
   },
   "outputs": [],
   "source": [
    "help(nudge)"
   ]
  },
  {
   "cell_type": "code",
   "execution_count": null,
   "metadata": {
    "collapsed": true
   },
   "outputs": [],
   "source": [
    "# multiple lines\n",
    "class DeadParrot(object):\n",
    "    '''It's not pining. It's passed on.\n",
    "   \n",
    "    It's rung down the curtain and\n",
    "    joined the choir invisible.\n",
    "    This is an ex-parrot!\n",
    "    '''"
   ]
  },
  {
   "cell_type": "code",
   "execution_count": null,
   "metadata": {
    "collapsed": false
   },
   "outputs": [],
   "source": [
    "help(DeadParrot)"
   ]
  },
  {
   "cell_type": "markdown",
   "metadata": {},
   "source": [
    "### Functions"
   ]
  },
  {
   "cell_type": "markdown",
   "metadata": {},
   "source": [
    "* Don't repeat the function signature. Return types are not guaranteed.\n",
    "* for class methods don't document the `self` argument."
   ]
  },
  {
   "cell_type": "code",
   "execution_count": null,
   "metadata": {
    "collapsed": true
   },
   "outputs": [],
   "source": [
    "# Pointless docstring\n",
    "def compound_interest_v1(n, r, A0):\n",
    "    '''compound_interest(n,r,A0) -> number'''\n",
    "    print('n =', n)\n",
    "    print('r =', r)\n",
    "    print('A0 =', A0)\n",
    "    return A0*(1+0.01*r)**n"
   ]
  },
  {
   "cell_type": "code",
   "execution_count": null,
   "metadata": {
    "collapsed": false
   },
   "outputs": [],
   "source": [
    "help(compound_interest_v1)"
   ]
  },
  {
   "cell_type": "code",
   "execution_count": null,
   "metadata": {
    "collapsed": true
   },
   "outputs": [],
   "source": [
    "# the better way\n",
    "def compound_interest_v2(period, rate, principal):\n",
    "    '''Compute the compound interest on a principal investment\n",
    "    \n",
    "    Arguments:\n",
    "        period: length of the investment\n",
    "        rate: interest rate\n",
    "        principal: amount of initial investment\n",
    "        \n",
    "    Returns:\n",
    "        The compound interest\n",
    "        \n",
    "    Raises:\n",
    "        ValueError: if principal is zero or negative\n",
    "    '''\n",
    "    print('period =', period)\n",
    "    print('rate =', rate)\n",
    "    print('principal =', principal)\n",
    "    \n",
    "    if principal < 0 or principal == 0:\n",
    "        raise ValueError('The principal investment must be positive definite')\n",
    "    return principal*(1+0.01*rate)**period"
   ]
  },
  {
   "cell_type": "code",
   "execution_count": null,
   "metadata": {
    "collapsed": false
   },
   "outputs": [],
   "source": [
    "help(compound_interest_v2)"
   ]
  },
  {
   "cell_type": "code",
   "execution_count": null,
   "metadata": {
    "collapsed": false,
    "raises": "ValueError"
   },
   "outputs": [],
   "source": [
    "compound_interest_v2(2,0.2,-1)"
   ]
  },
  {
   "cell_type": "markdown",
   "metadata": {},
   "source": [
    "### Modules"
   ]
  },
  {
   "cell_type": "code",
   "execution_count": null,
   "metadata": {
    "collapsed": false
   },
   "outputs": [],
   "source": [
    "%%file tmp/shrubbery.py\n",
    "\"\"\"A module for making beautiful shrubbery\"\"\"\n",
    "\n",
    "class Shrubbery(list):\n",
    "    '''A collection of shrubs'''\n",
    "    \n",
    "    def contains_family(self,family):\n",
    "        '''Return True if any shrub in the shrubbery matches the family'''\n",
    "        return any([family.lower() in shrub.family.lower() for shrub in self])\n",
    "    \n",
    "    def is_good(self):\n",
    "        '''Return the goodness of the shrubbery\n",
    "        \n",
    "        Returns:\n",
    "            True if any of the shurbs are of the laurel family\n",
    "            False otherwise\n",
    "        '''\n",
    "        if(self.contains_family('laurel')):\n",
    "            # Yes, it is a good shrubbery. I like the laurels particularly.\n",
    "            return True\n",
    "            \n",
    "        else:\n",
    "            # You must find another shrubbery!\n",
    "            return False\n",
    "        \n",
    "\n",
    "class Shrub(object):\n",
    "    '''A small woody plant with many stems.\n",
    "    \n",
    "    Attributes\n",
    "        family -- The common name of the genus of the shrub.\n",
    "    '''\n",
    "    \n",
    "    def __init__(self,family):\n",
    "        '''Create a Shrub of the genus `family`'''\n",
    "        self.family = family\n",
    "    "
   ]
  },
  {
   "cell_type": "code",
   "execution_count": null,
   "metadata": {
    "collapsed": false
   },
   "outputs": [],
   "source": [
    "import tmp.shrubbery as shrubbery\n",
    "a_shrubbery = shrubbery.Shrubbery()\n",
    "a_shrubbery.append(shrubbery.Shrub('Laurel'))\n",
    "a_shrubbery.extend([shrubbery.Shrub('Magnolia'),shrubbery.Shrub('Laurel')])\n",
    "a_shrubbery.is_good()"
   ]
  },
  {
   "cell_type": "code",
   "execution_count": null,
   "metadata": {
    "collapsed": false,
    "scrolled": true
   },
   "outputs": [],
   "source": [
    "help(shrubbery)"
   ]
  },
  {
   "cell_type": "markdown",
   "metadata": {},
   "source": [
    "## Iteration tricks"
   ]
  },
  {
   "cell_type": "markdown",
   "metadata": {},
   "source": [
    "*c.f., NumPy index tricks*"
   ]
  },
  {
   "cell_type": "code",
   "execution_count": null,
   "metadata": {
    "collapsed": false
   },
   "outputs": [],
   "source": [
    "# Consider the following pattern\n",
    "inputs = list(range(6))\n",
    "print(\"Inputs:\", inputs)\n",
    "outputs = []\n",
    "for x in inputs:\n",
    "    if x % 2 == 0:\n",
    "        outputs.append(x**2 + 2)\n",
    "print(\"Outputs:\", outputs)"
   ]
  },
  {
   "cell_type": "code",
   "execution_count": null,
   "metadata": {
    "collapsed": false
   },
   "outputs": [],
   "source": [
    "# Transforming/filtering a list is so common, that it has its own syntax\n",
    "[x**2 + 2 for x in inputs if not x % 2]"
   ]
  },
  {
   "cell_type": "markdown",
   "metadata": {},
   "source": [
    "This *list comprehension* allows you to make the procedure much more compact, and it now reads like you might describe this operation in words.\n",
    "\n",
    "We understand lists, and conceptually, taking successive values and accumulating results isn't hard. However, we are assuming that that full list exists beforehand in memory, and we will process all the elements in one go to produce all the output. Some inputs are very large (e.g., lines in a file) or infinite (e.g., a stream from the web or sensor; a mathematical sequence), so we want to consider *lazy evaluation*, where the processing only happens each time a new value is required. You can get there with similar syntax."
   ]
  },
  {
   "cell_type": "code",
   "execution_count": null,
   "metadata": {
    "collapsed": false
   },
   "outputs": [],
   "source": [
    "outputs = (x**2 + 2 for x in inputs if x % 2 ==0)\n",
    "print(outputs)        # Nothing has been evaluated yet\n",
    "print(next(outputs))  # We pull the first value\n",
    "print(next(outputs))  # We pull the second value"
   ]
  },
  {
   "cell_type": "markdown",
   "metadata": {},
   "source": [
    "This new syntax is a *generator expression*; when it is assigned to `output`, nothing is done except define how values should be fetched. Those values are generated one at a time (hence the name), and the full sequence is not held in memory. The generator remembers where it is up to and holds that state until a new value is needed. In fact, the built-in `range` (`xrange` in python2) works this way, so that you can count to an arbitrarily large number without filling up memory. \n",
    "\n",
    "It is rare to use the `next()` function directly; instead, the generator can be used in a `for` loop, or passed to other functions that expect iterable things. There are many of these functions available, so that you can chain and manipulate data streams without ever evaluating them into lists.\n",
    "\n",
    "The generator expression above is a specialized shorthand for *generators*, in which you define how subsequent values are fetched. Ever wondered what \"`for line in openfile:`\" did? Open files also act as generators, which is how you can avoid loading all lines at once into memory."
   ]
  },
  {
   "cell_type": "code",
   "execution_count": null,
   "metadata": {
    "collapsed": false,
    "skip_test": true
   },
   "outputs": [],
   "source": [
    "# What does this do?\n",
    "list(map(lambda x: x[0], filter(lambda x: \"py\" in x[1],\n",
    "         enumerate(open('best_conventions.ipynb')))))\n",
    "# Is this a good way to do things?\n",
    "\n",
    "# cf. `lambda x: x[0]`; Vs `operator.itemgetter(0)`"
   ]
  },
  {
   "cell_type": "markdown",
   "metadata": {},
   "source": [
    "### Exercise (rewrite higher-order funcs as comprehension)"
   ]
  },
  {
   "cell_type": "markdown",
   "metadata": {},
   "source": [
    "The prior cell can be expressed as a list-comprehension that most people will find easier to read.  Do so!"
   ]
  },
  {
   "cell_type": "markdown",
   "metadata": {},
   "source": [
    "### (Potentially) infinite sequences"
   ]
  },
  {
   "cell_type": "code",
   "execution_count": null,
   "metadata": {
    "collapsed": false
   },
   "outputs": [],
   "source": [
    "# A new generator\n",
    "from math import sqrt\n",
    "def primes(k=float('inf')):\n",
    "    \"Simplistic prime maker, up to maximum k\"\n",
    "    yield 2\n",
    "    n = 3\n",
    "    while True:\n",
    "        for x in range(3, int(sqrt(n))+1):\n",
    "            # Check all integers\n",
    "            if n % x == 0:\n",
    "                break\n",
    "        else:\n",
    "            yield n  # <- magic\n",
    "        n += 2\n",
    "        if n > k:\n",
    "            break\n",
    "\n",
    "for p in primes(12):\n",
    "    print(p, end=' ')\n",
    "print()\n",
    "for p in primes(20):\n",
    "    print(p, end=' ')"
   ]
  },
  {
   "cell_type": "code",
   "execution_count": null,
   "metadata": {
    "collapsed": false
   },
   "outputs": [],
   "source": [
    "# (almost) All these tools can deal with infinite sequences efficiently\n",
    "import itertools\n",
    "dir(itertools)"
   ]
  },
  {
   "cell_type": "markdown",
   "metadata": {},
   "source": [
    "## Pick good collection types"
   ]
  },
  {
   "cell_type": "code",
   "execution_count": null,
   "metadata": {
    "collapsed": false
   },
   "outputs": [],
   "source": [
    "from collections import Counter\n",
    "try:\n",
    "    from urllib.request import urlopen\n",
    "except ImportError:\n",
    "    from urllib import urlopen # Python 2.7\n",
    "url = urlopen('http://www.gutenberg.org/cache/epub/98/pg98.txt')\n",
    "book = str(url.read(), 'utf8')\n",
    "# For teaching locations w/o internet access:\n",
    "# book = open('data/pg98.txt').read()\n",
    "letters = Counter(book)\n",
    "letters"
   ]
  },
  {
   "cell_type": "markdown",
   "metadata": {},
   "source": [
    "See also: the toolz/cytoolz project (http://toolz.readthedocs.org/)."
   ]
  },
  {
   "cell_type": "markdown",
   "metadata": {},
   "source": [
    "## Context managers"
   ]
  },
  {
   "cell_type": "code",
   "execution_count": null,
   "metadata": {
    "collapsed": false
   },
   "outputs": [],
   "source": [
    "# Consider the following\n",
    "output = open('tmp/tempfile', 'w')\n",
    "output.write('Hello')\n",
    "print(open('tmp/tempfile').read())"
   ]
  },
  {
   "cell_type": "markdown",
   "metadata": {},
   "source": [
    "Why didn't we see anything?"
   ]
  },
  {
   "cell_type": "code",
   "execution_count": null,
   "metadata": {
    "collapsed": false
   },
   "outputs": [],
   "source": [
    "# How is this different?\n",
    "import os\n",
    "with open('tmp/tempfile', 'w') as output:\n",
    "    output.write('Hello')\n",
    "print(open('tmp/tempfile').read())\n",
    "os.remove('tmp/tempfile')"
   ]
  },
  {
   "cell_type": "markdown",
   "metadata": {},
   "source": [
    "You will see this used particularly with global resources (e.g., locks, network connections) where you must ensure you release after use."
   ]
  },
  {
   "cell_type": "markdown",
   "metadata": {},
   "source": [
    "## Conventions"
   ]
  },
  {
   "cell_type": "markdown",
   "metadata": {},
   "source": [
    "There are a number of ways to write code, but here are some typical things will, and a few things you sholdn't see in good code. The list is non-exhaustive!"
   ]
  },
  {
   "cell_type": "code",
   "execution_count": null,
   "metadata": {
    "collapsed": true
   },
   "outputs": [],
   "source": [
    "class A:\n",
    "    \"Hidden class attribute\"\n",
    "    _private = 1\n",
    "    public = 2\n",
    "    visible = 3\n",
    "a = A()"
   ]
  },
  {
   "cell_type": "code",
   "execution_count": null,
   "metadata": {
    "collapsed": false,
    "raises": "SyntaxError"
   },
   "outputs": [],
   "source": [
    "# press <TAB>\n",
    "a."
   ]
  },
  {
   "cell_type": "markdown",
   "metadata": {},
   "source": [
    "This is also used for ignored/dummy variables, e.g., if we want to execute something five times, but don't care which iteration we are currently on:\n",
    "```python\n",
    "for _ in range(5):\n",
    "    do_something()\n",
    "```"
   ]
  },
  {
   "cell_type": "code",
   "execution_count": null,
   "metadata": {
    "collapsed": false
   },
   "outputs": [],
   "source": [
    "class B:\n",
    "    \"Special methods\"\n",
    "    def __init__(self):\n",
    "        print(\"Initialised\")\n",
    "        self.ready = True\n",
    "\n",
    "    def __repr__(self):\n",
    "        return \"A useful class\"\n",
    "\n",
    "b = B()\n",
    "b"
   ]
  },
  {
   "cell_type": "markdown",
   "metadata": {},
   "source": [
    "Lists of special method:\n",
    "  * http://www.diveintopython3.net/special-method-names.html\n",
    "  * http://rafekettler.com/magicmethods.html\n",
    "\n",
    "Allows you to customise how your instances behave in under standard operations/syntax, so that you can plug in classes to work in interesting new ways, e.g., adding uncertainties or units onto numerical types."
   ]
  },
  {
   "cell_type": "markdown",
   "metadata": {},
   "source": [
    "### Style"
   ]
  },
  {
   "cell_type": "markdown",
   "metadata": {},
   "source": [
    "There are general guidelines, structre rules and specialized conventions for how your code should look. See the comprehensive list https://www.python.org/dev/peps/pep-0008/ , which can be checked using the built-in `pep8` module and command-line utility. It can be run a follows\n",
    "\n",
    "```bash\n",
    "% pep8 myfile.py\n",
    "```"
   ]
  },
  {
   "cell_type": "markdown",
   "metadata": {},
   "source": [
    "You might need to install the tool first:\n",
    "\n",
    "```bash\n",
    "% conda install -y pep8\n",
    "```"
   ]
  },
  {
   "cell_type": "markdown",
   "metadata": {},
   "source": [
    "or via the IDE environment (e.g., in `spyder`, Preferences -> Editor -> Code Introspection -> Style Analysis; produces style warnings in the editor, left margin).\n",
    "\n",
    "None of these are enforced... but your IDE may warn you if you break them, and you can use automated tools (e.g., `autopep8`) to fix issues such as spacing.\n",
    "\n",
    "  * Classes have names beginning with an upper case character\n",
    "  * Instances begin with lower case\n",
    "  * methods begin with lower case; commonly `use_underscores()` or `camelCase()`\n",
    "  * functions usually `use_underscores()`\n",
    "  * global static values are `ALL_UPPER`\n",
    "  * one statement per line\n",
    "  * many spacing concerns, like 80 character line limit\n",
    "\n",
    "Google has a good general style guide:\n",
    "https://google-styleguide.googlecode.com/svn/trunk/pyguide.html\n",
    "(but note that specific projects or institutions may have their own details, especially around documentation)."
   ]
  },
  {
   "cell_type": "markdown",
   "metadata": {},
   "source": [
    "<img src='img/copyright.png'>"
   ]
  }
 ],
 "metadata": {
  "anaconda-cloud": {},
  "continuum": {
   "depends": [
    "tools_scripts"
   ],
   "requires": [
    "data/graphviz-meta.yaml",
    "src/mapping.py",
    "data/pg98.txt"
   ],
   "tag": "tools_conv"
  },
  "kernelspec": {
   "display_name": "Python [conda env:anaconda_training]",
   "language": "python",
   "name": "conda-env-anaconda_training-py"
  },
  "language_info": {
   "codemirror_mode": {
    "name": "ipython",
    "version": 3
   },
   "file_extension": ".py",
   "mimetype": "text/x-python",
   "name": "python",
   "nbconvert_exporter": "python",
   "pygments_lexer": "ipython3",
   "version": "3.5.2"
  }
 },
 "nbformat": 4,
 "nbformat_minor": 0
}
