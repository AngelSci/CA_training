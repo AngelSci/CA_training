{
 "cells": [
  {
   "cell_type": "markdown",
   "metadata": {},
   "source": [
    "<img src='img/logo.png'>\n",
    "<img src='img/title.png'>\n",
    "<img src='img/py3k.png'>"
   ]
  },
  {
   "cell_type": "markdown",
   "metadata": {},
   "source": [
    "# Table of Contents\n",
    "* [Learning Objectives:](#Learning-Objectives:)\n",
    "* [Command line interface](#Command-line-interface)\n",
    "\t* [Basic argument and flag parsing](#Basic-argument-and-flag-parsing)\n",
    "\t\t* [Import argparse and add arguments](#Import-argparse-and-add-arguments)\n",
    "\t* [Flags and Options](#Flags-and-Options)\n",
    "\t* [Adding Descriptions](#Adding-Descriptions)\n",
    "\t* [Files and stdin](#Files-and-stdin)\n"
   ]
  },
  {
   "cell_type": "markdown",
   "metadata": {},
   "source": [
    "# Learning Objectives:"
   ]
  },
  {
   "cell_type": "markdown",
   "metadata": {},
   "source": [
    "After completion of this module, learners should be able to:\n",
    "\n",
    "* Understand the types of arguments passed to command line interfaces\n",
    "* Use `argparse` to define simple positional arguments\n",
    "* Use `argparse` to define optional arguments\n",
    "* Use `argparse` to read `FileType` arguments include `sys.stdin`"
   ]
  },
  {
   "cell_type": "markdown",
   "metadata": {},
   "source": [
    "# Command line interface"
   ]
  },
  {
   "cell_type": "markdown",
   "metadata": {},
   "source": [
    "Several methods exist within Python to read and parse command line arguments. The following packages are among most most common.\n",
    "\n",
    "* `input`: read data directly from `stdin`. Not recommended\n",
    "* `sys.argv`: grab individual space-separated items from the command line\n",
    "* `argparse`: reads `sys.argv` and makes user friendly command line interfaces\n",
    "* `optparse`: deprecated in favor of `argparse`\n",
    "* `docopt`: use docstrings to program command line arguments"
   ]
  },
  {
   "cell_type": "markdown",
   "metadata": {},
   "source": [
    "For this section we will use [`argparse`](https://docs.python.org/3/library/argparse.html), which is part of the Python Standard Library. It has a good set of out-of-the box features to illustrate many aspects of argument handling within an application."
   ]
  },
  {
   "cell_type": "markdown",
   "metadata": {},
   "source": [
    "There are two types of items that are parsed on the command line\n",
    "\n",
    "* **arguments** are positional specifiers that have no preceding dashes and are generally required by the Command Line Interface (CLI). Filenames are good examples of **arguments**; think of programs like `grep` and `less`. When more than one **argument** is required the order in which they are parsed is important.\n",
    "* **flags** (or **options**) are specifiers that can appear in any order (and between **arguments**) and are preceded by one or two dashes. By convention a single dash is used with a one or two letter flag (`-h`) and two dashes are used with whole words (`--help`). Flags can be as switches to enable or disable features of your program. They can also be followed immediately by a **value** string to provide keyword or arbitrary input (`-f input-filename` or `--file input-filename`)."
   ]
  },
  {
   "cell_type": "markdown",
   "metadata": {},
   "source": [
    "## Basic argument and flag parsing"
   ]
  },
  {
   "cell_type": "markdown",
   "metadata": {},
   "source": [
    "For the remainder of this section we will be using the Jupyter notebook to write scripts and run them as if they were running on the command line."
   ]
  },
  {
   "cell_type": "code",
   "execution_count": null,
   "metadata": {
    "collapsed": false
   },
   "outputs": [],
   "source": [
    "%%file tmp/wc.py\n",
    "#!/usr/bin/env python\n",
    "\"\"\"\n",
    "word count\n",
    "\n",
    "Similiar to wc on Unix systems. For a given input file returns returns \n",
    "\n",
    "number-of-lines number-of-word number-of-characters filename\n",
    "\"\"\"\n",
    "\n",
    "import sys\n",
    "\n",
    "def wc(myFile):\n",
    "    with open(myFile) as f:\n",
    "        lines=f.readlines()\n",
    "    \n",
    "    words = [word for words in lines for word in words.split()]\n",
    "    chars = ''.join(lines)\n",
    "    \n",
    "    ret = '%8d %7d %7d %s' % (len(lines),len(words),len(chars),myFile)\n",
    "    \n",
    "    return ret\n",
    "\n",
    "\n",
    "if __name__ == '__main__':\n",
    "    print(wc(sys.argv[1]))"
   ]
  },
  {
   "cell_type": "markdown",
   "metadata": {},
   "source": [
    "Run the script on itself."
   ]
  },
  {
   "cell_type": "code",
   "execution_count": null,
   "metadata": {
    "collapsed": false
   },
   "outputs": [],
   "source": [
    "!python tmp/wc.py tmp/wc.py"
   ]
  },
  {
   "cell_type": "markdown",
   "metadata": {},
   "source": [
    "What happens if we forget to pass the filename?"
   ]
  },
  {
   "cell_type": "code",
   "execution_count": null,
   "metadata": {
    "collapsed": false
   },
   "outputs": [],
   "source": [
    "!python tmp/wc.py"
   ]
  },
  {
   "cell_type": "markdown",
   "metadata": {},
   "source": [
    "### Import argparse and add arguments"
   ]
  },
  {
   "cell_type": "code",
   "execution_count": null,
   "metadata": {
    "collapsed": false
   },
   "outputs": [],
   "source": [
    "%%file tmp/wc.py\n",
    "#!/usr/bin/env python\n",
    "\"\"\"\n",
    "word count\n",
    "\n",
    "Similiar to wc on Unix systems. For a given input file returns returns \n",
    "\n",
    "number-of-lines number-of-word number-of-characters filename\n",
    "\"\"\"\n",
    "\n",
    "import sys\n",
    "import argparse\n",
    "\n",
    "def wc(myFile):\n",
    "    \"\"\"Read the file and return number of lines, words and characters\"\"\"\n",
    "    with open(myFile) as f:\n",
    "        lines=f.readlines()\n",
    "    \n",
    "    words = [word for words in lines for word in words.split()]\n",
    "    chars = ''.join(lines)\n",
    "    \n",
    "    counts = '%8d %7d %7d %s' % (len(lines),len(words),len(chars),myFile)\n",
    "    \n",
    "    return counts\n",
    "\n",
    "\n",
    "def cli():\n",
    "    \"\"\"Define the command line interface\"\"\"\n",
    "    parser = argparse.ArgumentParser()\n",
    "    parser.add_argument('filename')\n",
    "    \n",
    "    # parse_args automatically reads from sys.argv\n",
    "    return parser.parse_args()\n",
    "    \n",
    "\n",
    "if __name__ == '__main__':\n",
    "    args=cli()\n",
    "    print(wc(args.filename))"
   ]
  },
  {
   "cell_type": "code",
   "execution_count": null,
   "metadata": {
    "collapsed": false
   },
   "outputs": [],
   "source": [
    "!python tmp/wc.py tmp/wc.py"
   ]
  },
  {
   "cell_type": "markdown",
   "metadata": {},
   "source": [
    "The `filename` argument is now required and `argparse` automatically setup the `-h/--help` arguments to display usage information."
   ]
  },
  {
   "cell_type": "code",
   "execution_count": null,
   "metadata": {
    "collapsed": false
   },
   "outputs": [],
   "source": [
    "!python tmp/wc.py"
   ]
  },
  {
   "cell_type": "code",
   "execution_count": null,
   "metadata": {
    "collapsed": false
   },
   "outputs": [],
   "source": [
    "!python tmp/wc.py --help"
   ]
  },
  {
   "cell_type": "markdown",
   "metadata": {},
   "source": [
    "## Flags and Options"
   ]
  },
  {
   "cell_type": "markdown",
   "metadata": {},
   "source": [
    "We can use flags/options to change the behavior of `wc.py` to only show certain information. \n",
    "\n",
    "The `argparse.add_argument` function has a keyword argument called `action` whose default value is `store`. This means that the argument provided to the cli is stored, which allowed `args.filename` to be used in the above example. Other provided actions are\n",
    "\n",
    "* `store_true`: `True` if the flag is provide `False` otherwise\n",
    "* `store_false`: The opposite of above\n",
    "* `store_const`: Allows default option value to be set\n",
    "* `append`: Append the option value to a list. Useful for repeated usage of a flag.\n",
    "* `append_const`: Default a default value to append\n",
    "* `count`: Count the number of occurances of the flag"
   ]
  },
  {
   "cell_type": "code",
   "execution_count": null,
   "metadata": {
    "collapsed": false
   },
   "outputs": [],
   "source": [
    "%%file tmp/wc.py\n",
    "#!/usr/bin/env python\n",
    "\"\"\"\n",
    "word count\n",
    "\n",
    "Similiar to wc on Unix systems. For a given input file returns returns \n",
    "\n",
    "number-of-lines number-of-word number-of-characters filename\n",
    "\"\"\"\n",
    "\n",
    "import sys\n",
    "import argparse\n",
    "\n",
    "# wc now take all of the arguments as input\n",
    "def wc(args):\n",
    "    \"\"\"Read the file and return number of lines, words and characters\"\"\"\n",
    "    with open(args.filename) as f:\n",
    "        lines=f.readlines()\n",
    "    \n",
    "    counts = ''\n",
    "    words = [word for words in lines for word in words.split()]\n",
    "    chars = ''.join(lines)\n",
    "    \n",
    "    lineCount = '%8d' % len(lines)\n",
    "    wordCount = '%8d' % len(words)\n",
    "    charCount = '%8d' % len(chars)\n",
    "    byteCount = '%8d' % len(chars.encode('utf-8'))\n",
    "    \n",
    "    if(args.l):\n",
    "        counts += lineCount\n",
    "    if(args.w):\n",
    "        counts += wordCount\n",
    "    if(args.m):\n",
    "        counts += charCount\n",
    "    if(args.c):\n",
    "        counts += byteCount\n",
    "    \n",
    "    if( not (args.l or args.w or args.c or args.m)):\n",
    "        counts += lineCount+wordCount+charCount\n",
    "    \n",
    "    counts += ' %s' % args.filename\n",
    "    \n",
    "    return counts\n",
    "\n",
    "\n",
    "def cli():\n",
    "    \"\"\"Define the command line interface\"\"\"\n",
    "    parser = argparse.ArgumentParser()\n",
    "   \n",
    "    # filename is a required argument\n",
    "    parser.add_argument('filename')\n",
    "    \n",
    "    # flags are used to perform actions\n",
    "    parser.add_argument('-c',action='store_true') #print number of bytes\n",
    "    parser.add_argument('-l',action='store_true') #print number of lines\n",
    "    parser.add_argument('-m',action='store_true') #print number of characters\n",
    "    parser.add_argument('-w',action='store_true') #print number of words\n",
    "    \n",
    "    # parse_args automatically reads from sys.argv\n",
    "    return parser.parse_args()\n",
    "    \n",
    "\n",
    "if __name__ == '__main__':\n",
    "    args=cli()\n",
    "    print(wc(args))  "
   ]
  },
  {
   "cell_type": "code",
   "execution_count": null,
   "metadata": {
    "collapsed": false
   },
   "outputs": [],
   "source": [
    "!python tmp/wc.py -l tmp/wc.py"
   ]
  },
  {
   "cell_type": "markdown",
   "metadata": {},
   "source": [
    "Only the specified flags can be provided to the cli"
   ]
  },
  {
   "cell_type": "code",
   "execution_count": null,
   "metadata": {
    "collapsed": false
   },
   "outputs": [],
   "source": [
    "!python tmp/wc.py -z tmp/wc.py"
   ]
  },
  {
   "cell_type": "markdown",
   "metadata": {},
   "source": [
    "## Adding Descriptions"
   ]
  },
  {
   "cell_type": "markdown",
   "metadata": {},
   "source": [
    "Use the `help` keyword argument in `add_argument` to provide a description of the argument when using `--help`. Here we also show that the long and short form of the option/flag can provided. Notice that the `args` object now only has attributes for the long version of the option names."
   ]
  },
  {
   "cell_type": "code",
   "execution_count": null,
   "metadata": {
    "collapsed": false
   },
   "outputs": [],
   "source": [
    "%%file tmp/wc.py\n",
    "#!/usr/bin/env python\n",
    "\"\"\"\n",
    "word count\n",
    "\n",
    "Similiar to wc on Unix systems. For a given input file returns returns \n",
    "\n",
    "number-of-lines number-of-word number-of-characters filename\n",
    "\"\"\"\n",
    "\n",
    "import sys\n",
    "import argparse\n",
    "\n",
    "# wc now take all of the arguments as input\n",
    "def wc(args):\n",
    "    \"\"\"Read the file and return number of lines, words and characters\"\"\"\n",
    "    with open(args.filename) as f:\n",
    "        lines=f.readlines()\n",
    "    \n",
    "    counts = ''\n",
    "    words = [word for words in lines for word in words.split()]\n",
    "    chars = ''.join(lines)\n",
    "    \n",
    "    lineCount = '%8d' % len(lines)\n",
    "    wordCount = '%8d' % len(words)\n",
    "    charCount = '%8d' % len(chars)\n",
    "    byteCount = '%8d' % len(chars.encode('utf-8'))\n",
    "    \n",
    "    if(args.lines):\n",
    "        counts += lineCount\n",
    "    if(args.words):\n",
    "        counts += wordCount\n",
    "    if(args.chars):\n",
    "        counts += charCount\n",
    "    if(args.bytes):\n",
    "        counts += byteCount\n",
    "    \n",
    "    if( not (args.lines or args.words or args.chars or args.bytes)):\n",
    "        counts += lineCount+wordCount+charCount\n",
    "    \n",
    "    counts += ' %s' % args.filename\n",
    "    \n",
    "    return counts\n",
    "\n",
    "\n",
    "def cli():\n",
    "    \"\"\"Define the command line interface\"\"\"\n",
    "    parser = argparse.ArgumentParser(description='A basic line/word/character counting script.')\n",
    "   \n",
    "    # filename is a required argument\n",
    "    parser.add_argument('filename',help='File to be parsed')\n",
    "    \n",
    "    # flags are used to perform actions\n",
    "    parser.add_argument('-c','--bytes',action='store_true',\n",
    "                        help='Print the number of bytes in the file')\n",
    "    parser.add_argument('-l','--lines',action='store_true',\n",
    "                        help='Print the number of lines in the file')\n",
    "    parser.add_argument('-m','--chars',action='store_true',\n",
    "                        help='Print the number of characters in the file')\n",
    "    parser.add_argument('-w','--words',action='store_true',\n",
    "                        help='Print the number of words in the file')\n",
    "    \n",
    "    # parse_args automatically reads from sys.argv\n",
    "    return parser.parse_args()\n",
    "    \n",
    "\n",
    "if __name__ == '__main__':\n",
    "    args=cli()\n",
    "    print(wc(args))  "
   ]
  },
  {
   "cell_type": "code",
   "execution_count": null,
   "metadata": {
    "collapsed": false
   },
   "outputs": [],
   "source": [
    "!python tmp/wc.py --help"
   ]
  },
  {
   "cell_type": "code",
   "execution_count": null,
   "metadata": {
    "collapsed": false
   },
   "outputs": [],
   "source": [
    "!python tmp/wc.py -l tmp/wc.py --words"
   ]
  },
  {
   "cell_type": "markdown",
   "metadata": {},
   "source": [
    "## Files and stdin"
   ]
  },
  {
   "cell_type": "markdown",
   "metadata": {},
   "source": [
    "A good practice when developing CLI utilities is to be able to take the output of one command and *pipe* it's output to another over the standard input. This is similar to the `input` method we saw earlier in this course. `argparse` has a convenient way of specifying `FileType` arguments that allow for this usage by specifying the `type`. The `FileType` argument provides the `-` argument to the cli which instructs `argparse` to read from `sys.stdin` instead of a file. \n",
    "\n",
    "The `type` keyword argument to `add_argument` allows the developer to specify the expected type of the argument and automatically perform the type casting and error checking. "
   ]
  },
  {
   "cell_type": "code",
   "execution_count": null,
   "metadata": {
    "collapsed": false
   },
   "outputs": [],
   "source": [
    "%%file tmp/wc.py\n",
    "#!/usr/bin/env python\n",
    "\"\"\"\n",
    "word count\n",
    "\n",
    "Similiar to wc on Unix systems. For a given input file returns returns \n",
    "\n",
    "number-of-lines number-of-word number-of-characters filename\n",
    "\"\"\"\n",
    "\n",
    "import sys\n",
    "import argparse\n",
    "\n",
    "# wc now take all of the arguments as input\n",
    "def wc(args):\n",
    "    \"\"\"Read the file and return number of lines, words and characters\"\"\"\n",
    "    lines=args.filename.readlines()\n",
    "    \n",
    "    counts = ''\n",
    "    words = [word for words in lines for word in words.split()]\n",
    "    chars = ''.join(lines)\n",
    "    \n",
    "    lineCount = '%8d' % len(lines)\n",
    "    wordCount = '%8d' % len(words)\n",
    "    charCount = '%8d' % len(chars)\n",
    "    byteCount = '%8d' % len(chars.encode('utf-8'))\n",
    "    \n",
    "    if(args.lines):\n",
    "        counts += lineCount\n",
    "    if(args.words):\n",
    "        counts += wordCount\n",
    "    if(args.chars):\n",
    "        counts += charCount\n",
    "    if(args.bytes):\n",
    "        counts += byteCount\n",
    "    \n",
    "    if( not (args.lines or args.words or args.chars or args.bytes)):\n",
    "        counts += lineCount+wordCount+charCount\n",
    "    \n",
    "    counts += ' %s' % args.filename\n",
    "    \n",
    "    return counts\n",
    "\n",
    "\n",
    "def cli():\n",
    "    \"\"\"Define the command line interface\"\"\"\n",
    "    parser = argparse.ArgumentParser(description='A basic line/word/character counting script.')\n",
    "   \n",
    "    # filename is a required argument\n",
    "    parser.add_argument('filename',help='File to be parsed', type=argparse.FileType('r'))\n",
    "    \n",
    "    # flags are used to perform actions\n",
    "    parser.add_argument('-c','--bytes',action='store_true',\n",
    "                        help='Print the number of bytes in the file')\n",
    "    parser.add_argument('-l','--lines',action='store_true',\n",
    "                        help='Print the number of lines in the file')\n",
    "    parser.add_argument('-m','--chars',action='store_true',\n",
    "                        help='Print the number of characters in the file')\n",
    "    parser.add_argument('-w','--words',action='store_true',\n",
    "                        help='Print the number of words in the file')\n",
    "    \n",
    "    # parse_args automatically reads from sys.argv\n",
    "    return parser.parse_args()\n",
    "    \n",
    "\n",
    "if __name__ == '__main__':\n",
    "    args=cli()\n",
    "    print(wc(args))  "
   ]
  },
  {
   "cell_type": "code",
   "execution_count": null,
   "metadata": {
    "collapsed": false
   },
   "outputs": [],
   "source": [
    "!head tmp/wc.py | python tmp/wc.py -"
   ]
  },
  {
   "cell_type": "markdown",
   "metadata": {},
   "source": [
    "<img src='img/copyright.png'>"
   ]
  }
 ],
 "metadata": {
  "anaconda-cloud": {},
  "continuum": {
   "depends": [
    "tools_scripts",
    "ip_files",
    "ip_containers"
   ],
   "tag": "tools_cli"
  },
  "kernelspec": {
   "display_name": "Python [conda env:anaconda_training]",
   "language": "python",
   "name": "conda-env-anaconda_training-py"
  },
  "language_info": {
   "codemirror_mode": {
    "name": "ipython",
    "version": 3
   },
   "file_extension": ".py",
   "mimetype": "text/x-python",
   "name": "python",
   "nbconvert_exporter": "python",
   "pygments_lexer": "ipython3",
   "version": "3.5.2"
  }
 },
 "nbformat": 4,
 "nbformat_minor": 0
}
