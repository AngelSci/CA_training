{
 "cells": [
  {
   "cell_type": "markdown",
   "metadata": {},
   "source": [
    "# Table of Contents\n",
    "* [Learning Objectives](#Learning-Objectives)\n",
    "* [Problem: Put your code in a well-designed package](#Problem:-Put-your-code-in-a-well-designed-package)\n"
   ]
  },
  {
   "cell_type": "markdown",
   "metadata": {},
   "source": [
    "# Learning Objectives"
   ]
  },
  {
   "cell_type": "markdown",
   "metadata": {},
   "source": [
    "* Create reusable package"
   ]
  },
  {
   "cell_type": "markdown",
   "metadata": {},
   "source": [
    "**The series of exercises in the Geospatial series are intended to present a realistically difficult set of development problems.  These exercises might take a half day or more for a class to work on extensively.**"
   ]
  },
  {
   "cell_type": "markdown",
   "metadata": {},
   "source": [
    "# Problem: Put your code in a well-designed package"
   ]
  },
  {
   "cell_type": "markdown",
   "metadata": {},
   "source": [
    "In the previous exercises we have designed APIs, written code, written documentation, created unit tests.  If you have not written this code in a manner to allow a reusable and distributable package, refactor it as necessary to work that way.  \n",
    "\n",
    "For this problem, choose either:\n",
    "\n",
    "* A [conda](http://conda.pydata.org/docs/build_tutorials/pkgs.html) package\n",
    "* A [setuptools](https://python-packaging.readthedocs.org/en/latest/minimal.html) package"
   ]
  }
 ],
 "metadata": {
  "continuum": {
   "depends": [
    "tools_ex_geo1",
    "tools_ex_geo2",
    "tools_ex_geo3",
    "tools_ex_geo4"
   ],
   "requires": [],
   "tag": "tools_ex_geo5"
  },
  "kernelspec": {
   "display_name": "Python 3",
   "language": "python",
   "name": "python3"
  },
  "language_info": {
   "codemirror_mode": {
    "name": "ipython",
    "version": 3
   },
   "file_extension": ".py",
   "mimetype": "text/x-python",
   "name": "python",
   "nbconvert_exporter": "python",
   "pygments_lexer": "ipython3",
   "version": "3.4.4"
  }
 },
 "nbformat": 4,
 "nbformat_minor": 0
}
