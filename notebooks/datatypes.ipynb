{
 "cells": [
  {
   "cell_type": "markdown",
   "metadata": {},
   "source": [
    "<img src='img/logo.png' />"
   ]
  },
  {
   "cell_type": "markdown",
   "metadata": {},
   "source": [
    "<img src='img/title.png'>"
   ]
  },
  {
   "cell_type": "markdown",
   "metadata": {},
   "source": [
    "<img src='img/py3k.png'>"
   ]
  },
  {
   "cell_type": "markdown",
   "metadata": {},
   "source": [
    "# Table of Contents\n",
    "* [Python languge basics](#Python-languge-basics)\n",
    "* [Learning Objectives:](#Learning-Objectives:)\n",
    "* [Language essentials: types, operators](#Language-essentials:-types,-operators)\n",
    "\t* [Core scalar data types](#Core-scalar-data-types)\n",
    "\t\t* [Types and assignment](#Types-and-assignment)\n",
    "\t* [Strings](#Strings)\n",
    "\t\t* [String arithmetic](#String-arithmetic)\n",
    "\t* [Arithmetic operators](#Arithmetic-operators)\n",
    "\t* [Arithmetic assignment](#Arithmetic-assignment)\n",
    "\t* [Logical and comparison operators](#Logical-and-comparison-operators)\n",
    "\t\t* [is and in](#is-and-in)\n",
    "\t* [Formatting](#Formatting)\n",
    "\t* [Tuple Expansion](#Tuple-Expansion)\n",
    "* [Exercise](#Exercise)\n"
   ]
  },
  {
   "cell_type": "markdown",
   "metadata": {},
   "source": [
    "# Python languge basics"
   ]
  },
  {
   "cell_type": "markdown",
   "metadata": {},
   "source": [
    "# Learning Objectives:"
   ]
  },
  {
   "cell_type": "markdown",
   "metadata": {},
   "source": [
    "After completion of this module, learners should be able to:\n",
    "\n",
    "* use & describe Python idioms for variable assignment & arithmetic/logical operations with simple scalar data"
   ]
  },
  {
   "cell_type": "markdown",
   "metadata": {},
   "source": [
    "# Language essentials: types, operators"
   ]
  },
  {
   "cell_type": "markdown",
   "metadata": {},
   "source": [
    "Python has a small number of atomic types that are used to build up more sophisticated data structures and classes. To get started with Python, it is necessary to have a reasonable familiarity with the base types and operations you can do with them."
   ]
  },
  {
   "cell_type": "markdown",
   "metadata": {},
   "source": [
    "## Core scalar data types"
   ]
  },
  {
   "cell_type": "markdown",
   "metadata": {},
   "source": [
    "|Type     | Description                   |\n",
    "| :-:     | :-:                           | \n",
    "| `bool`  | `True` or `False`             |\n",
    "| `int`   | integer type                  |\n",
    "| `float` | floating-point type           |\n",
    "|`complex`| complex (floating-point) type |\n",
    "| `str`   | String or character type      |\n",
    "| `bytes` | binary data type              |\n",
    "| `None`  | Python NULL singleton         |\n",
    "\n",
    "Python has a small number of atomic types that are used to build up more sophisticated data structures and classes. At times, it is necessary to know how numbers and alphanumeric characters are encoded in software/hardware to understand how a program will run (particularly when trying to load data from a file into the memory). Numeric encodings of integers, strings, floating-point numbers, and complex numbers all involve subtleties that sometimes need to be understood when working with different kinds of hardware and software."
   ]
  },
  {
   "cell_type": "markdown",
   "metadata": {},
   "source": [
    "### Types and assignment"
   ]
  },
  {
   "cell_type": "markdown",
   "metadata": {},
   "source": [
    "One source of confusion to programmers learning Python having use traditional compiled languages is that Python interpreters typically use *dynamically typing*. That is, rather than having to declaring static data types for each identifier used in a program, legitimate Python programs can reassign different data types to identifiers as the program progresses."
   ]
  },
  {
   "cell_type": "markdown",
   "metadata": {},
   "source": [
    "The `type()` function returns the type of an `assignment` or a `value`.\n",
    "\n",
    "Let's practice making numbers and strings."
   ]
  },
  {
   "cell_type": "code",
   "execution_count": null,
   "metadata": {
    "collapsed": true
   },
   "outputs": [],
   "source": []
  },
  {
   "cell_type": "code",
   "execution_count": null,
   "metadata": {
    "collapsed": true
   },
   "outputs": [],
   "source": []
  },
  {
   "cell_type": "code",
   "execution_count": null,
   "metadata": {
    "collapsed": true
   },
   "outputs": [],
   "source": []
  },
  {
   "cell_type": "code",
   "execution_count": null,
   "metadata": {
    "collapsed": true
   },
   "outputs": [],
   "source": []
  },
  {
   "cell_type": "markdown",
   "metadata": {},
   "source": [
    "The freedom from having to statically declare data types affords some flexibility in an interactive programming session; however, this convenience can lead to hard-to-find bugs in longer programs. It is wise to avoid rebinding the same variable with different data types (with the exception of, say, casting `int` to `float` or `float` to `complex` as may occur naturally within a mathematical computation). Another occasion where it is common to rebind a variable is in loops, where the same name may contain sequential things that are \"duck typed\" (more on this later).\n",
    "\n",
    "The features of these data types will be explored in more detail in the next module."
   ]
  },
  {
   "cell_type": "markdown",
   "metadata": {},
   "source": [
    "## Strings"
   ]
  },
  {
   "cell_type": "markdown",
   "metadata": {},
   "source": [
    "Strings in Python are denoted using three different styles of quotes. The only rule is that the quote style has to close. Quotes of a different style can be embedded."
   ]
  },
  {
   "cell_type": "code",
   "execution_count": null,
   "metadata": {
    "collapsed": true
   },
   "outputs": [],
   "source": []
  },
  {
   "cell_type": "code",
   "execution_count": null,
   "metadata": {
    "collapsed": true
   },
   "outputs": [],
   "source": []
  },
  {
   "cell_type": "code",
   "execution_count": null,
   "metadata": {
    "collapsed": true
   },
   "outputs": [],
   "source": []
  },
  {
   "cell_type": "code",
   "execution_count": null,
   "metadata": {
    "collapsed": true
   },
   "outputs": [],
   "source": []
  },
  {
   "cell_type": "code",
   "execution_count": null,
   "metadata": {
    "collapsed": true
   },
   "outputs": [],
   "source": []
  },
  {
   "cell_type": "markdown",
   "metadata": {},
   "source": [
    "As objects, strings have a variety of *methods* (functions) that can be invoked and operate on data contained in the calling `str` object. The table below shows some of the most commonly used methods.\n",
    "\n",
    "|Method|Description\n",
    "|---|---|\n",
    "|`.count(a)`|Return the number of occurrences of a substring `a`\n",
    "|`.lower()`| Change case of all characters to lower\n",
    "|`.replace(a,b)`|Replace all occurrences of the substring `a` with the substring `b`\n",
    "|`.split()`|\n",
    "|`.splitlines()`|Split the string into a list of substrings at newline characters, `'\\n'`\n",
    "|`.strip()`|Remove leading and trailing whitespace\n",
    "|`.swapcase()`|Swap the case of ever character in the string\n",
    "|`.upper()`|Change the case of all characters to upper.\n",
    "\n",
    "We can use `help` or the [Python documentation](https://docs.python.org/3/library/stdtypes.html#string-methods) to determine their function. \n",
    "\n",
    "Given a `str` object with identifier, say, `a_string`, any string *`method`* is invoked using `a_string.`*`method()`* (that is, the string as an argument to the method is positioned as a prefix of the method in the call). Of course, other arguments may be required within the parentheses, depending on which method is used."
   ]
  },
  {
   "cell_type": "code",
   "execution_count": null,
   "metadata": {
    "collapsed": true
   },
   "outputs": [],
   "source": []
  },
  {
   "cell_type": "markdown",
   "metadata": {},
   "source": [
    "### String arithmetic"
   ]
  },
  {
   "cell_type": "markdown",
   "metadata": {},
   "source": [
    "A feature of Python that may surprise programmers familiar with C or Java is the behavior of arithmetic operators applied with strings data types. When applied to strings, the ``+`` operator (respectively, the ``*`` operator) concatenates (respectively replicates) the data."
   ]
  },
  {
   "cell_type": "code",
   "execution_count": null,
   "metadata": {
    "collapsed": true
   },
   "outputs": [],
   "source": []
  },
  {
   "cell_type": "code",
   "execution_count": null,
   "metadata": {
    "collapsed": true
   },
   "outputs": [],
   "source": []
  },
  {
   "cell_type": "code",
   "execution_count": null,
   "metadata": {
    "collapsed": true
   },
   "outputs": [],
   "source": []
  },
  {
   "cell_type": "markdown",
   "metadata": {},
   "source": [
    "## Arithmetic operators"
   ]
  },
  {
   "cell_type": "markdown",
   "metadata": {},
   "source": [
    "Binary mathematical operators in Python behave in a straightforward way as with most programming languages.\n",
    "\n",
    "addition | subtraction |multiplication | division  |floor<br>division  |exponentiation | remainder\n",
    ":-: | :-: | :-: | :-: | :-: | :-: | :-:\n",
    "`+` | `-` |`*`| `/` | `//` | `**` | `%`\n",
    "Exponentiation refers to raising a base to a given exponent, i.e., `a**b` means $\\mathtt{a}^{\\mathtt{b}}$.\n",
    "\n",
    "The `%` character is used for modular arithmetic (i.e., computing remainders). This works with `int` and `float` data."
   ]
  },
  {
   "cell_type": "code",
   "execution_count": null,
   "metadata": {
    "collapsed": true
   },
   "outputs": [],
   "source": []
  },
  {
   "cell_type": "markdown",
   "metadata": {},
   "source": [
    "<big><b><font color='blue'>Python 2 vs 3</font></b></big>"
   ]
  },
  {
   "cell_type": "markdown",
   "metadata": {},
   "source": [
    "Notice that division is done using a single `/` character and implicitly promotes integers to floating-point numbers when appropriate. In Python 2 and earlier, the default behavior of the division operator `/` was to carry out integer division when both operands were integers; that is $\\mathtt{a} / \\mathtt{b}=\\lfloor \\mathtt{a}\\div \\mathtt{b}\\rfloor$ when both $\\mathtt{a}$ and $\\mathtt{b}$ are integers. The more common expected behavior is now the default in Python 3, that is dividing two integers will automatically produce a real (floating-point) number if no integer answer is exact. To perform integer division in Python 3, use two forward slash characters (i.e., `//`)."
   ]
  },
  {
   "cell_type": "markdown",
   "metadata": {},
   "source": [
    "Warning: *Floor division* doesn't always produce an actual integer. Floats are always floats."
   ]
  },
  {
   "cell_type": "code",
   "execution_count": null,
   "metadata": {
    "collapsed": true
   },
   "outputs": [],
   "source": []
  },
  {
   "cell_type": "markdown",
   "metadata": {},
   "source": [
    "Python floats accept scientific notation"
   ]
  },
  {
   "cell_type": "code",
   "execution_count": null,
   "metadata": {
    "collapsed": true
   },
   "outputs": [],
   "source": []
  },
  {
   "cell_type": "markdown",
   "metadata": {},
   "source": [
    "## Arithmetic assignment"
   ]
  },
  {
   "cell_type": "markdown",
   "metadata": {},
   "source": [
    "Arithmetic operations can be combined with the assignment operator to overwrite variables in place (a similar idiom is used in C and its derivatives). For instance, in the code below, the statement `balance += interest` has the same effect as `balance = balance + interest`. The former is preferable to the latter for readability and reducing the risk of misspelled identifiers."
   ]
  },
  {
   "cell_type": "code",
   "execution_count": null,
   "metadata": {
    "collapsed": true
   },
   "outputs": [],
   "source": [
    "balance = 100\n",
    "interest_rate = 5\n",
    "interest = (interest_rate/100) * balance\n",
    "balance += interest\n",
    "print('The new balance is, $%.2f' % balance) # Use \"string interpolation\""
   ]
  },
  {
   "cell_type": "code",
   "execution_count": null,
   "metadata": {
    "collapsed": true
   },
   "outputs": [],
   "source": [
    "b = 2\n",
    "b **= 10  # Equivalent to b = b**10\n",
    "print('b = {:4d}'.format(b)) # pyformat"
   ]
  },
  {
   "cell_type": "markdown",
   "metadata": {},
   "source": [
    "## Logical and comparison operators"
   ]
  },
  {
   "cell_type": "markdown",
   "metadata": {},
   "source": [
    "Python's built-in comparison operators combine values to produce a `bool` (boolean) value, namely `True` or `False`.\n",
    "\n",
    "Standard comparisons between numbers follow fairly standard conventions.\n",
    "\n",
    "less than | greater than | less than<br>or equal to| greater than<br>or equal to| equal to| not equal to\n",
    ":-:|:-:|:-:|:-:|:-:|:-:|:-:\n",
    "`<` | `>` | `<=` | `>=` | `==` | `!=`\n",
    "\n",
    "As with several other programming languages, comparison for equality uses two equal signs (i.e., `==`) because the single equal sign (i.e., `=`) is used as an assignment operator (i.e., assigning values to identifiers). The result of one of the comparisons above between two numbers is a boolean value; if an illegal type is used, an exception is raised."
   ]
  },
  {
   "cell_type": "code",
   "execution_count": null,
   "metadata": {
    "collapsed": true
   },
   "outputs": [],
   "source": []
  },
  {
   "cell_type": "code",
   "execution_count": null,
   "metadata": {
    "collapsed": true
   },
   "outputs": [],
   "source": []
  },
  {
   "cell_type": "code",
   "execution_count": null,
   "metadata": {
    "collapsed": true
   },
   "outputs": [],
   "source": []
  },
  {
   "cell_type": "markdown",
   "metadata": {},
   "source": [
    "Comparison operators may also be *chained together* to compare more than two values.  Read these chained comparisons in the natural way, left-to-right."
   ]
  },
  {
   "cell_type": "code",
   "execution_count": null,
   "metadata": {
    "collapsed": true
   },
   "outputs": [],
   "source": [
    "print(1 < 2 < 3 <= 4 < 5)\n",
    "print(1 < 2 != 3 >= 0)\n",
    "print(1 <= 1 < 1)\n",
    "print(1+1 == 2 == 3-1)"
   ]
  },
  {
   "cell_type": "markdown",
   "metadata": {},
   "source": [
    "Values can be combined logically using ``or``, ``and``, or ``not``.\n",
    "\n",
    "disjunction | conjunction | negation \n",
    ":-:|:-:|:-:\n",
    "`or` | `and` | `not` "
   ]
  },
  {
   "cell_type": "code",
   "execution_count": null,
   "metadata": {
    "collapsed": true
   },
   "outputs": [],
   "source": []
  },
  {
   "cell_type": "code",
   "execution_count": null,
   "metadata": {
    "collapsed": true
   },
   "outputs": [],
   "source": []
  },
  {
   "cell_type": "markdown",
   "metadata": {},
   "source": [
    "Logical operators perform what is called \"shortcutting.\"  That is, they return the earliest expression whose *truthiness* is the same as the entire expression.  This has two implications to keep in mind:\n",
    "\n",
    "* The value produced by a logical expression is not necessarily a boolean value\n",
    "* A boolean expression may not fully evaluate (and side-effects might not occur)"
   ]
  },
  {
   "cell_type": "code",
   "execution_count": null,
   "metadata": {
    "collapsed": true
   },
   "outputs": [],
   "source": [
    "# The last expression (a function call) is never executed below\n",
    "False or \"Hello world\" or math.exp(1e9)"
   ]
  },
  {
   "cell_type": "code",
   "execution_count": null,
   "metadata": {
    "collapsed": true
   },
   "outputs": [],
   "source": [
    "# If we had tried to execute this, we would have gotten an exception\n",
    "math.exp(1e9)"
   ]
  },
  {
   "cell_type": "markdown",
   "metadata": {},
   "source": [
    "### is and in"
   ]
  },
  {
   "cell_type": "markdown",
   "metadata": {},
   "source": [
    "Finally, there are an additional two boolean-valued operators in Python: `is` and `in`.\n",
    "\n",
    "| membership | identity |\n",
    "|:-:|:-:\n",
    "| `in` | `is`\n",
    "\n",
    "The `in` operator can be used with strings, and data collections (e.g., sets, lists, tuples, etc.) that will learn later, to verify set membership, i.e., whether a particular value is a member of the collection. The `is` operator is used to assert whether two objects are in fact the same object. This is particularly useful in verifying whether two identifiers that refer to the same values actually refer to the same location in memory as well. "
   ]
  },
  {
   "cell_type": "code",
   "execution_count": null,
   "metadata": {
    "collapsed": true
   },
   "outputs": [],
   "source": [
    "# A collection letters\n",
    "letters = 'The rain in Spain falls mainly in the plain.'\n",
    "'a' in letters"
   ]
  },
  {
   "cell_type": "markdown",
   "metadata": {},
   "source": [
    "It is important to understand that the `is` operator is not the same as the `==` operator. One way to understand this is by using the `id()` function to display the identifier associated with each object.  The `id()` function is approximately an answer to \"what is the address in memory where this object lives?\""
   ]
  },
  {
   "cell_type": "code",
   "execution_count": null,
   "metadata": {
    "collapsed": true
   },
   "outputs": [],
   "source": []
  },
  {
   "cell_type": "code",
   "execution_count": null,
   "metadata": {
    "collapsed": true
   },
   "outputs": [],
   "source": []
  },
  {
   "cell_type": "code",
   "execution_count": null,
   "metadata": {
    "collapsed": true
   },
   "outputs": [],
   "source": []
  },
  {
   "cell_type": "code",
   "execution_count": null,
   "metadata": {
    "collapsed": true
   },
   "outputs": [],
   "source": []
  },
  {
   "cell_type": "code",
   "execution_count": null,
   "metadata": {
    "collapsed": true
   },
   "outputs": [],
   "source": []
  },
  {
   "cell_type": "code",
   "execution_count": null,
   "metadata": {
    "collapsed": true
   },
   "outputs": [],
   "source": []
  },
  {
   "cell_type": "code",
   "execution_count": null,
   "metadata": {
    "collapsed": true
   },
   "outputs": [],
   "source": []
  },
  {
   "cell_type": "code",
   "execution_count": null,
   "metadata": {
    "collapsed": true
   },
   "outputs": [],
   "source": []
  },
  {
   "cell_type": "markdown",
   "metadata": {},
   "source": [
    "These last few cells illustrate an implementation detail of Python: short strings and small integers are \"interned\" or cached in memory.  Rather than allocate a new region of memory, some values created separately might simply point to the same Python object.  At the same time, we can sometimes \"fool\" Python into not recognizing that it can re-use an interned value.\n",
    "\n",
    "Also note that values of different types might be *equal*, but they are never *identical*."
   ]
  },
  {
   "cell_type": "markdown",
   "metadata": {},
   "source": [
    "## Formatting"
   ]
  },
  {
   "cell_type": "markdown",
   "metadata": {},
   "source": [
    "`print()` accepts and aribtrary number of arguments of any type."
   ]
  },
  {
   "cell_type": "code",
   "execution_count": null,
   "metadata": {
    "collapsed": true
   },
   "outputs": [],
   "source": []
  },
  {
   "cell_type": "markdown",
   "metadata": {},
   "source": [
    "Strings can be *formatted* before printing in two ways\n",
    "* Interpolation with `%` (old way)\n",
    "* `.format()` function (new way) [also called PyFormat](https://pyformat.info/)"
   ]
  },
  {
   "cell_type": "markdown",
   "metadata": {},
   "source": [
    "The new way replaces `{}` within a string with values passed to the `.format()` function"
   ]
  },
  {
   "cell_type": "code",
   "execution_count": null,
   "metadata": {
    "collapsed": true
   },
   "outputs": [],
   "source": [
    "'{} + {} = {}'.format(1,'1',2.0)"
   ]
  },
  {
   "cell_type": "markdown",
   "metadata": {},
   "source": [
    "The format for various types can be controled with keywords\n",
    "\n",
    "| Conversion type | Meaning\n",
    "| :-:   | :-:\n",
    "|`d`     |      Signed integer decimal.\n",
    "|`f`     |      Floating point decimal format.\n",
    "|`s`     |      String (converts any Python object using `str()`).\n",
    "\n",
    "The generic syntax for variable substitution in a format string is\n",
    "\n",
    "        :[width][.precision]type\n",
    "\n",
    "where `width`, and `precision` are optional parameters."
   ]
  },
  {
   "cell_type": "code",
   "execution_count": null,
   "metadata": {
    "collapsed": true
   },
   "outputs": [],
   "source": [
    "pi = 3.1415926\n",
    "\n",
    "'pi is {:5.2f}'.format(pi)"
   ]
  },
  {
   "cell_type": "markdown",
   "metadata": {},
   "source": [
    "The same works to *pad* strings on the right, or pad on the left with `>`."
   ]
  },
  {
   "cell_type": "code",
   "execution_count": null,
   "metadata": {
    "collapsed": true
   },
   "outputs": [],
   "source": [
    "'{:10s}'.format('short')"
   ]
  },
  {
   "cell_type": "code",
   "execution_count": null,
   "metadata": {
    "collapsed": true
   },
   "outputs": [],
   "source": [
    "'{:>10s}'.format('short')"
   ]
  },
  {
   "cell_type": "markdown",
   "metadata": {},
   "source": [
    "## Tuple Expansion"
   ]
  },
  {
   "cell_type": "markdown",
   "metadata": {},
   "source": [
    "A `tuple` is the simplest form of a container in Python. It can be used to pack and unpack multiple objects. Tuples are comma separated objects inclosed in `()`."
   ]
  },
  {
   "cell_type": "code",
   "execution_count": null,
   "metadata": {
    "collapsed": true
   },
   "outputs": [],
   "source": [
    "the_tuple = (1,2,3)\n",
    "print(the_tuple)"
   ]
  },
  {
   "cell_type": "markdown",
   "metadata": {},
   "source": [
    "A tuple can be used to *pack* and *unpack* assignments. This is called *tuple expansion*."
   ]
  },
  {
   "cell_type": "code",
   "execution_count": null,
   "metadata": {
    "collapsed": true
   },
   "outputs": [],
   "source": []
  },
  {
   "cell_type": "code",
   "execution_count": null,
   "metadata": {
    "collapsed": true
   },
   "outputs": [],
   "source": []
  },
  {
   "cell_type": "code",
   "execution_count": null,
   "metadata": {
    "collapsed": true
   },
   "outputs": [],
   "source": []
  },
  {
   "cell_type": "markdown",
   "metadata": {},
   "source": [
    "One of the most convenient uses is to switch values. Parenthesis are not always required."
   ]
  },
  {
   "cell_type": "code",
   "execution_count": null,
   "metadata": {
    "collapsed": true
   },
   "outputs": [],
   "source": []
  },
  {
   "cell_type": "code",
   "execution_count": null,
   "metadata": {
    "collapsed": true
   },
   "outputs": [],
   "source": []
  },
  {
   "cell_type": "code",
   "execution_count": null,
   "metadata": {
    "collapsed": true
   },
   "outputs": [],
   "source": []
  },
  {
   "cell_type": "markdown",
   "metadata": {},
   "source": [
    "# Exercise"
   ]
  },
  {
   "cell_type": "markdown",
   "metadata": {},
   "source": [
    "<img src='img/topics/Exercise.png' align='left' style='padding:10px'>\n",
    "<br>\n",
    "<a href='datatypes_ex.ipynb' class='btn btn-primary'>Strings and Numbers</a>"
   ]
  },
  {
   "cell_type": "markdown",
   "metadata": {},
   "source": [
    "<img src='img/copyright.png'>"
   ]
  }
 ],
 "metadata": {
  "anaconda-cloud": {},
  "kernelspec": {
   "display_name": "Python [conda env:anaconda_training]",
   "language": "python",
   "name": "conda-env-anaconda_training-py"
  },
  "language_info": {
   "codemirror_mode": {
    "name": "ipython",
    "version": 3
   },
   "file_extension": ".py",
   "mimetype": "text/x-python",
   "name": "python",
   "nbconvert_exporter": "python",
   "pygments_lexer": "ipython3",
   "version": "3.5.2"
  }
 },
 "nbformat": 4,
 "nbformat_minor": 0
}
