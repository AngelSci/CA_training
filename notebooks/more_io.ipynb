{
 "cells": [
  {
   "cell_type": "markdown",
   "metadata": {},
   "source": [
    "<img src='img/logo.png' />"
   ]
  },
  {
   "cell_type": "markdown",
   "metadata": {},
   "source": [
    "<img src='img/title.png'>"
   ]
  },
  {
   "cell_type": "markdown",
   "metadata": {},
   "source": [
    "<img src='img/py3k.png'>"
   ]
  },
  {
   "cell_type": "markdown",
   "metadata": {},
   "source": [
    "# Table of Contents\n",
    "* [Set-up](#Set-up)\n",
    "* [Outline](#Outline)\n",
    "* [Reading Files](#Reading-Files)\n",
    "\t* [Reading Text](#Reading-Text)\n",
    "\t* [Reading CSV](#Reading-CSV)\n",
    "\t* [File Formats to read](#File-Formats-to-read)\n",
    "\t* [String Parsing for Reads](#String-Parsing-for-Reads)\n",
    "* [Writing Files](#Writing-Files)\n",
    "\t* [Exercise](#Exercise)\n",
    "\t* [String Formatting](#String-Formatting)\n",
    "* [Reading and Writing with Pandas](#Reading-and-Writing-with-Pandas)\n",
    "* [Section Summary](#Section-Summary)"
   ]
  },
  {
   "cell_type": "markdown",
   "metadata": {},
   "source": [
    "# Set-up"
   ]
  },
  {
   "cell_type": "code",
   "execution_count": null,
   "metadata": {
    "collapsed": true
   },
   "outputs": [],
   "source": [
    "import os\n",
    "import csv\n",
    "import random"
   ]
  },
  {
   "cell_type": "markdown",
   "metadata": {},
   "source": [
    "# Outline"
   ]
  },
  {
   "cell_type": "markdown",
   "metadata": {},
   "source": [
    "Reading Files\n",
    "* `open(file,mode='r')`\n",
    "* import csv\n",
    "* context managers, with\n",
    "* String operations, parsing\n",
    "\n",
    "Writing Files\n",
    "* `open(file,mode='w')`\n",
    "* `print(\"Hello, world!\", file=outfile)`\n",
    "* String formatting for writes\n",
    "\n",
    "Reading, Writing Tabular Data\n",
    "* Pandas\n",
    "* Colunar data, Tabular data\n",
    "* CSV, JSON, YAML, etc\n",
    "\n",
    "Data File Formats\n",
    "* CSV\n",
    "* JSON\n",
    "* YAML\n",
    "* XML"
   ]
  },
  {
   "cell_type": "markdown",
   "metadata": {},
   "source": [
    "# Reading Files"
   ]
  },
  {
   "cell_type": "markdown",
   "metadata": {},
   "source": [
    "Notebooks:\n",
    "* 16 - Python III - Read Files"
   ]
  },
  {
   "cell_type": "markdown",
   "metadata": {},
   "source": [
    "Read and Write with `open()`:\n",
    "> `file_object = open(file_name, mode)`\n",
    "\n",
    "The modes can be:\n",
    "* 'r'  read only\n",
    "* 'r+' reading and writing\n",
    "* 'w'  write only (existing file will be over-written)\n",
    "* 'a'  write as append"
   ]
  },
  {
   "cell_type": "markdown",
   "metadata": {},
   "source": [
    "## Reading Text"
   ]
  },
  {
   "cell_type": "code",
   "execution_count": null,
   "metadata": {
    "collapsed": true
   },
   "outputs": [],
   "source": [
    "# Example: Don't need to understand all this, just notice the power of python\n",
    "\n",
    "# We'll use this utiltiy function throughout to check\n",
    "# the top few lines of the files we read and write\n",
    "\n",
    "def head(file_name, n=5):\n",
    "    \"\"\"OS/Platform-independent utility function \n",
    "        used to inspect the top few lines of our files\n",
    "    \"\"\"\n",
    "    with open(file_name) as myfile:\n",
    "        for _ in range(n):\n",
    "            try:\n",
    "                print(next(myfile), end=\"\")\n",
    "            except StopIteration: # end of file\n",
    "                return None"
   ]
  },
  {
   "cell_type": "code",
   "execution_count": null,
   "metadata": {
    "collapsed": true
   },
   "outputs": [],
   "source": [
    "# Now let's look at a text file\n",
    "file_name = os.path.join(\"data\",\"lorem-ipsum\")\n",
    "head(file_name)"
   ]
  },
  {
   "cell_type": "code",
   "execution_count": null,
   "metadata": {
    "collapsed": true
   },
   "outputs": [],
   "source": [
    "# Example: simplest input\n",
    "file_obj  = open(file_name, mode='r')\n",
    "file_data = file_obj.read().replace('\\n', \" \")\n",
    "file_obj.close()\n",
    "\n",
    "print( file_data )"
   ]
  },
  {
   "cell_type": "code",
   "execution_count": null,
   "metadata": {
    "collapsed": true
   },
   "outputs": [],
   "source": [
    "# Exercise: do the same read, but remove all \n",
    "# end of lines \"\\n\" and replace them with spaces\n",
    "\n",
    "print( type( file_data ) )\n",
    "\n",
    "file_data.replace(\"\\n\",\" \")"
   ]
  },
  {
   "cell_type": "code",
   "execution_count": null,
   "metadata": {
    "collapsed": true
   },
   "outputs": [],
   "source": [
    "# Example: next simplest input\n",
    "file_obj   = open(file_name, mode='r')\n",
    "file_lines = []\n",
    "\n",
    "# Iterate and read\n",
    "for line in file_obj:\n",
    "    file_lines.append(line)\n",
    "\n",
    "# close\n",
    "file_obj.close()\n",
    "\n",
    "# echo\n",
    "file_lines"
   ]
  },
  {
   "cell_type": "code",
   "execution_count": null,
   "metadata": {
    "collapsed": true
   },
   "outputs": [],
   "source": [
    "# Better way\n",
    "file_lines = []\n",
    "\n",
    "with open(file_name) as file_obj:\n",
    "    for line in file_obj:\n",
    "        file_lines.append(line)\n",
    "\n",
    "file_lines"
   ]
  },
  {
   "cell_type": "markdown",
   "metadata": {},
   "source": [
    "## Reading CSV"
   ]
  },
  {
   "cell_type": "code",
   "execution_count": null,
   "metadata": {
    "collapsed": true
   },
   "outputs": [],
   "source": [
    "# Let's inspect another text data file\n",
    "file_name  = os.path.join(\"data\",\"exoplanets.csv\")\n",
    "\n",
    "head(file_name)"
   ]
  },
  {
   "cell_type": "code",
   "execution_count": null,
   "metadata": {
    "collapsed": true
   },
   "outputs": [],
   "source": [
    "# Let's read the data file.\n",
    "\n",
    "# Method 1: Not the best way...\n",
    "import csv\n",
    "file_obj = open(file_name, mode='rt')  # \"t\" = \"text mode\"\n",
    "csv_obj  = csv.reader(file_obj)\n",
    "\n",
    "file_lines = []\n",
    "for row in csv_obj:\n",
    "    file_lines.append(row)\n",
    "file_obj.close() # this never executes if reader fails!\n",
    "\n",
    "file_lines[1]"
   ]
  },
  {
   "cell_type": "code",
   "execution_count": null,
   "metadata": {
    "collapsed": true
   },
   "outputs": [],
   "source": [
    "# Method 2: Smarter way: use a \"context manager\"\n",
    "import csv\n",
    "with open(file_name, 'rt') as file_obj:\n",
    "    csv_obj = csv.reader(file_obj)\n",
    "    for row in csv_obj:\n",
    "        print(row)"
   ]
  },
  {
   "cell_type": "code",
   "execution_count": null,
   "metadata": {
    "collapsed": true
   },
   "outputs": [],
   "source": [
    "# Exercise: \n",
    "# Read all rows from \"data/AAPL.csv\" and store them in a list\n",
    "\n",
    "# Set-up:\n",
    "import csv\n",
    "file_name = os.path.join(\"data\",\"AAPL.csv\")\n",
    "data_list = []"
   ]
  },
  {
   "cell_type": "code",
   "execution_count": null,
   "metadata": {
    "collapsed": true
   },
   "outputs": [],
   "source": [
    "# Solution:\n",
    "# notice when you print your output here, that\n",
    "# a list of rows is not an ideal data structure... see next exercise.\n",
    "\n",
    "with open(file_name, 'rt') as file_obj:\n",
    "    csv_obj = csv.reader(file_obj)\n",
    "    for row in csv_obj:\n",
    "        data_list.append(row)"
   ]
  },
  {
   "cell_type": "code",
   "execution_count": null,
   "metadata": {
    "collapsed": true
   },
   "outputs": [],
   "source": [
    "data_list[0]"
   ]
  },
  {
   "cell_type": "code",
   "execution_count": null,
   "metadata": {
    "collapsed": true
   },
   "outputs": [],
   "source": [
    "data_list[1]"
   ]
  },
  {
   "cell_type": "code",
   "execution_count": null,
   "metadata": {
    "collapsed": true
   },
   "outputs": [],
   "source": [
    "data_list"
   ]
  },
  {
   "cell_type": "code",
   "execution_count": null,
   "metadata": {
    "collapsed": true
   },
   "outputs": [],
   "source": [
    "# Exercise: Read \"data/goog.csv\"\n",
    "\n",
    "# (1) use dict(zip()) as shown above to create a dictionary for each row\n",
    "# such that the column header names are the keys for the row values\n",
    "# and append each dict to a data list\n",
    "\n",
    "# (2) print the 1st and 2nd rows from your final list"
   ]
  },
  {
   "cell_type": "code",
   "execution_count": null,
   "metadata": {
    "collapsed": true
   },
   "outputs": [],
   "source": [
    "# Exercise Reminder: using zip() to create dicts\n",
    "columns = ['Date','Open','High','Low','Close','Volume']\n",
    "data    = [20160203,2.0,3.0,1.0,2.0,6]\n",
    "dictionary = dict(zip(columns, data))\n",
    "print(dictionary)"
   ]
  },
  {
   "cell_type": "code",
   "execution_count": null,
   "metadata": {
    "collapsed": true
   },
   "outputs": [],
   "source": [
    "# Exercise set-up:\n",
    "import csv\n",
    "data_file = os.path.join(\"data\",\"goog.csv\")\n",
    "data_list = []\n",
    "dictionary = []\n",
    "columns = ['Date','Open','High','Low','Close','Volume']"
   ]
  },
  {
   "cell_type": "code",
   "execution_count": null,
   "metadata": {
    "collapsed": true
   },
   "outputs": [],
   "source": [
    "# Solution:\n",
    "with open(data_file, 'rt') as file_obj:\n",
    "    csv_obj = csv.reader(file_obj)\n",
    "    for row in csv_obj:\n",
    "        dictionary = dict(zip(columns, row))\n",
    "        data_list.append(dictionary)"
   ]
  },
  {
   "cell_type": "code",
   "execution_count": null,
   "metadata": {
    "collapsed": true
   },
   "outputs": [],
   "source": [
    "record = data_list[1]\n",
    "print(record)\n",
    "\n",
    "x = float( record['Close'] )\n",
    "type(x)"
   ]
  },
  {
   "cell_type": "markdown",
   "metadata": {},
   "source": [
    "## File Formats to read"
   ]
  },
  {
   "cell_type": "markdown",
   "metadata": {},
   "source": [
    "Notebooks:\n",
    "* 61 - Data Formats - CSV, XLS, SQL.ipynb\n",
    "* 62 - Data Formats - JSON, YAML, XML.ipynb"
   ]
  },
  {
   "cell_type": "markdown",
   "metadata": {},
   "source": [
    "## String Parsing for Reads"
   ]
  },
  {
   "cell_type": "markdown",
   "metadata": {},
   "source": [
    "Now that you can read data from files, you need to be able to parse strings!"
   ]
  },
  {
   "cell_type": "markdown",
   "metadata": {},
   "source": [
    "Notebooks:\n",
    "* 07 - Python II - Data Types (string methods)"
   ]
  },
  {
   "cell_type": "code",
   "execution_count": null,
   "metadata": {
    "collapsed": true
   },
   "outputs": [],
   "source": [
    "\"Jason Vestuto\".count(\"s\") # how many times does \"s\" substring appear?"
   ]
  },
  {
   "cell_type": "code",
   "execution_count": null,
   "metadata": {
    "collapsed": true
   },
   "outputs": [],
   "source": [
    "\"Jason Vestuto\".split()    # default delimiter is space"
   ]
  },
  {
   "cell_type": "code",
   "execution_count": null,
   "metadata": {
    "collapsed": true
   },
   "outputs": [],
   "source": [
    "\" Jason \".strip()          # remove lead/trail white-space"
   ]
  },
  {
   "cell_type": "code",
   "execution_count": null,
   "metadata": {
    "collapsed": true
   },
   "outputs": [],
   "source": [
    "\"Jason \".rstrip()          # remove only trailing white-space"
   ]
  },
  {
   "cell_type": "code",
   "execution_count": null,
   "metadata": {
    "collapsed": true
   },
   "outputs": [],
   "source": [
    "\"Jason\".replace(\"J\",\"M\")   # substitution"
   ]
  },
  {
   "cell_type": "code",
   "execution_count": null,
   "metadata": {
    "collapsed": true
   },
   "outputs": [],
   "source": [
    "\"Jason\".endswith(\"n\")"
   ]
  },
  {
   "cell_type": "code",
   "execution_count": null,
   "metadata": {
    "collapsed": true
   },
   "outputs": [],
   "source": [
    "\" \".join(\"Jason\")             # separate all elements with \" \""
   ]
  },
  {
   "cell_type": "code",
   "execution_count": null,
   "metadata": {
    "collapsed": true
   },
   "outputs": [],
   "source": [
    "\" \".join([\"Jason\",\"Vestuto\"]) # separate all elements with \" \""
   ]
  },
  {
   "cell_type": "code",
   "execution_count": null,
   "metadata": {
    "collapsed": true
   },
   "outputs": [],
   "source": [
    "\"Vest\" in \"Jason Vestuto\"     # returns bool"
   ]
  },
  {
   "cell_type": "markdown",
   "metadata": {},
   "source": [
    "# Writing Files"
   ]
  },
  {
   "cell_type": "markdown",
   "metadata": {},
   "source": [
    "## Exercise"
   ]
  },
  {
   "cell_type": "code",
   "execution_count": null,
   "metadata": {
    "collapsed": true
   },
   "outputs": [],
   "source": [
    "# Example: simplest output\n",
    "file_name  = os.path.join(\"tmp\",\"hello.txt\")\n",
    "\n",
    "out_string = \"Hello World \\n\"\n",
    "outfile = open(file_name, mode='wt')\n",
    "outfile.write(out_string)\n",
    "outfile.close()"
   ]
  },
  {
   "cell_type": "code",
   "execution_count": null,
   "metadata": {
    "collapsed": true
   },
   "outputs": [],
   "source": [
    "head(file_name)"
   ]
  },
  {
   "cell_type": "code",
   "execution_count": null,
   "metadata": {
    "collapsed": true
   },
   "outputs": [],
   "source": [
    "# Exercise: Write a 4x6 data table to a file using print()\n",
    "\n",
    "# hint: out_string = \"%0.2f\" % random()\n",
    "# hint: print() takes an input arg called \"file\"\n",
    "# hint: print() takes an input arg called \"end\"\n",
    "\n",
    "# set-up\n",
    "import random\n",
    "nrows, ncols = 4, 6\n",
    "file_name = os.path.join('tmp', 'random_numbers.csv')\n",
    "\n",
    "# Use the same seed so we all get the same random numbers\n",
    "random.seed(1234)\n",
    "random.random()"
   ]
  },
  {
   "cell_type": "code",
   "execution_count": null,
   "metadata": {
    "collapsed": true
   },
   "outputs": [],
   "source": [
    "# Solution1: Write with write()\n",
    "import random\n",
    "random.seed(1234)\n",
    "\n",
    "nrows, ncols = 4, 6\n",
    "file_name = os.path.join('tmp', 'random_numbers.csv')\n",
    "\n",
    "with open(file_name, mode='w') as out_file:\n",
    "    for _ in range(nrows):\n",
    "        for _ in range(ncols):\n",
    "            value = \"%0.2f\" % random.random()\n",
    "            out_file.write( value )\n",
    "            if _ != ncols-1:\n",
    "                out_file.write( \", \" )\n",
    "        out_file.write(\"\\n\")"
   ]
  },
  {
   "cell_type": "code",
   "execution_count": null,
   "metadata": {
    "collapsed": true
   },
   "outputs": [],
   "source": [
    "# Check the results\n",
    "head(file_name)"
   ]
  },
  {
   "cell_type": "code",
   "execution_count": null,
   "metadata": {
    "collapsed": true
   },
   "outputs": [],
   "source": [
    "# Solution2: Write with print()\n",
    "import random\n",
    "random.seed(1234)\n",
    "nrows, ncols = 4, 6\n",
    "out_string = []\n",
    "file_name = os.path.join('tmp','random_numbers.csv')\n",
    "\n",
    "with open(file_name,'w') as out_file:\n",
    "    for _ in range(nrows):\n",
    "        for _ in range(ncols-1):\n",
    "            out_string = \"%0.2f\" % random.random()\n",
    "            print(out_string, end=',', file=out_file)\n",
    "            if _ == ncols:\n",
    "               out_string = \"%0.2f\" % random.random()\n",
    "        print(out_string, end='\\n',file=out_file)"
   ]
  },
  {
   "cell_type": "code",
   "execution_count": null,
   "metadata": {
    "collapsed": true
   },
   "outputs": [],
   "source": [
    "# Check the results\n",
    "head( file_name )"
   ]
  },
  {
   "cell_type": "markdown",
   "metadata": {},
   "source": [
    "## String Formatting"
   ]
  },
  {
   "cell_type": "markdown",
   "metadata": {},
   "source": [
    "Now that you are writing files, you need to know how to format strings!\n",
    "* Notes based loosely on https://pyformat.info/\n",
    "* See also https://github.com/ulope/pyformat.info"
   ]
  },
  {
   "cell_type": "code",
   "execution_count": null,
   "metadata": {
    "collapsed": true
   },
   "outputs": [],
   "source": [
    "# Basic Formatting\n",
    "# Old:\n",
    "'%s' % ('Hello',) # string % tuple"
   ]
  },
  {
   "cell_type": "code",
   "execution_count": null,
   "metadata": {
    "collapsed": true
   },
   "outputs": [],
   "source": [
    "'%s %s' % ('one', 'two') # more than one value"
   ]
  },
  {
   "cell_type": "code",
   "execution_count": null,
   "metadata": {
    "collapsed": true
   },
   "outputs": [],
   "source": [
    "# New:\n",
    "'{} {}'.format('one', 'two')"
   ]
  },
  {
   "cell_type": "code",
   "execution_count": null,
   "metadata": {
    "collapsed": true
   },
   "outputs": [],
   "source": [
    "# New: out of order\n",
    "'{1} {0}'.format('one', 'two')"
   ]
  },
  {
   "cell_type": "code",
   "execution_count": null,
   "metadata": {
    "collapsed": true
   },
   "outputs": [],
   "source": [
    "# New: out of order\n",
    "print( \"The capital of {1:s} is {2:s}, a {0:s} city\".format(\n",
    "            \"Music\", \"Texas\", \"Austin\", \"USA\")\n",
    "      )"
   ]
  },
  {
   "cell_type": "code",
   "execution_count": null,
   "metadata": {
    "collapsed": true
   },
   "outputs": [],
   "source": [
    "# New: Using keyword arguments to specify values to format\n",
    "print(\"The capital of {state} is {city}\".format(\n",
    "      city=\"Austin\", state=\"Texas\", country=\"USA\"))"
   ]
  },
  {
   "cell_type": "code",
   "execution_count": null,
   "metadata": {
    "collapsed": true
   },
   "outputs": [],
   "source": [
    "# Padding, align right\n",
    "# Old\n",
    "'%10s' % ('test',) # notice tuple comma"
   ]
  },
  {
   "cell_type": "code",
   "execution_count": null,
   "metadata": {
    "collapsed": true
   },
   "outputs": [],
   "source": [
    "# New\n",
    "'{:>10}'.format('test')"
   ]
  },
  {
   "cell_type": "code",
   "execution_count": null,
   "metadata": {
    "collapsed": true
   },
   "outputs": [],
   "source": [
    "# New\n",
    "'{0:>10}'.format('test') # only one entry, so 0 index, or no index"
   ]
  },
  {
   "cell_type": "code",
   "execution_count": null,
   "metadata": {
    "collapsed": true
   },
   "outputs": [],
   "source": [
    "# Padding, Align left\n",
    "# Old\n",
    "'%-10s' % ('test',)"
   ]
  },
  {
   "cell_type": "code",
   "execution_count": null,
   "metadata": {
    "collapsed": true
   },
   "outputs": [],
   "source": [
    "# New\n",
    "'{0:<10}'.format('test')"
   ]
  },
  {
   "cell_type": "code",
   "execution_count": null,
   "metadata": {
    "collapsed": true
   },
   "outputs": [],
   "source": [
    "# Truncation: format coded\n",
    "# Old\n",
    "'%.5s' % ('blizzard',)"
   ]
  },
  {
   "cell_type": "code",
   "execution_count": null,
   "metadata": {
    "collapsed": true
   },
   "outputs": [],
   "source": [
    "# New, with tuple unpacking\n",
    "tup_of_strs = ('blizzard', 'minneapolis','austin')\n",
    "'{2:.4}'.format(*tup_of_strs)"
   ]
  },
  {
   "cell_type": "code",
   "execution_count": null,
   "metadata": {
    "collapsed": true
   },
   "outputs": [],
   "source": [
    "# Numerical types: integers\n",
    "# Old:\n",
    "'%d' % (42,)\n",
    "# New:\n",
    "'{0:d}'.format(42)"
   ]
  },
  {
   "cell_type": "code",
   "execution_count": null,
   "metadata": {
    "collapsed": true
   },
   "outputs": [],
   "source": [
    "# Numerical types: Floats\n",
    "# Old:\n",
    "import math\n",
    "'%f' % (math.pi,)\n",
    "# New:\n",
    "'{0:f}'.format(math.pi)"
   ]
  },
  {
   "cell_type": "code",
   "execution_count": null,
   "metadata": {
    "collapsed": true
   },
   "outputs": [],
   "source": [
    "('{:f} '*3).format(1,2,3)"
   ]
  },
  {
   "cell_type": "code",
   "execution_count": null,
   "metadata": {
    "collapsed": true
   },
   "outputs": [],
   "source": [
    "my_nums = [1,2,3]\n",
    "my_tup = tuple(my_nums)\n",
    "print( ('{:<10e} '*len(my_nums)).format(*my_tup) )\n",
    "print( ('{:<10f} '*len(my_nums)).format(*my_tup) )"
   ]
  },
  {
   "cell_type": "code",
   "execution_count": null,
   "metadata": {
    "collapsed": true
   },
   "outputs": [],
   "source": [
    "'{0:f} {1:s}'.format(math.pi, \"Jason\")"
   ]
  },
  {
   "cell_type": "code",
   "execution_count": null,
   "metadata": {
    "collapsed": true
   },
   "outputs": [],
   "source": [
    "# Padding Integers:\n",
    "# Old:\n",
    "'%4d' % (42,)\n",
    "# New:\n",
    "'{:4d}'.format(42)"
   ]
  },
  {
   "cell_type": "code",
   "execution_count": null,
   "metadata": {
    "collapsed": true
   },
   "outputs": [],
   "source": [
    "# Padding Floats:\n",
    "# Old:\n",
    "'%06.2f' % (math.pi,)\n",
    "# New:\n",
    "'{:06.2f}'.format(math.pi)"
   ]
  },
  {
   "cell_type": "code",
   "execution_count": null,
   "metadata": {
    "collapsed": true
   },
   "outputs": [],
   "source": [
    "# Key-value expansion\n",
    "data = {'first': 'Jason', 'last': 'Vestuto'}\n",
    "'{first:>.1s}{last:>.7s}'.format(**data).lower()"
   ]
  },
  {
   "cell_type": "code",
   "execution_count": null,
   "metadata": {
    "collapsed": true
   },
   "outputs": [],
   "source": [
    "# New: for details on datatime, see notebook \"09 - Python II - More Types\"\n",
    "\n",
    "from datetime import datetime\n",
    "my_date = datetime(2016, 2, 3, 10, 30, 0)\n",
    "'{:%Y-%m-%d %H:%M}'.format(my_date)"
   ]
  },
  {
   "cell_type": "code",
   "execution_count": null,
   "metadata": {
    "collapsed": true
   },
   "outputs": [],
   "source": [
    "# Linux users, notice that this syntax is the same as the GNU date command\n",
    "if os.name is \"posix\":\n",
    "    ! date +\"%Y-%m-%d %H:%M\""
   ]
  },
  {
   "cell_type": "markdown",
   "metadata": {},
   "source": [
    "# Reading and Writing with Pandas"
   ]
  },
  {
   "cell_type": "markdown",
   "metadata": {},
   "source": [
    "Reading, writing, manipulating data with Pandas\n",
    "\n",
    "Columnar data, Tabular data\n",
    "\n",
    "CSV, JSON, YAML, etc\n",
    "\n",
    "Notebooks:\n",
    "* 44 - Pandas - Introduction.ipynb\n",
    "* 46 - Pandas - Data IO.ipynb\n",
    "* 51 - Pandas - Exercise 1 Messy Data.ipynb\n",
    "* 53 - Pandas - Exercise 3 Excel Files.ipynb"
   ]
  },
  {
   "cell_type": "markdown",
   "metadata": {},
   "source": [
    "# Section Summary"
   ]
  },
  {
   "cell_type": "markdown",
   "metadata": {},
   "source": [
    "Reading and Writing with core Python\n",
    "\n",
    "Reading Files\n",
    "* Reading Text\n",
    "* Reading CSV\n",
    "* File Formats to read\n",
    "* String Parsing for Reads\n",
    "\n",
    "Writing Files\n",
    "* Writing to various formats\n",
    "* String Formatting\n",
    "\n",
    "Reading and Writing with Pandas"
   ]
  },
  {
   "cell_type": "markdown",
   "metadata": {},
   "source": [
    "<img src='img/copyright.png'>"
   ]
  }
 ],
 "metadata": {
  "anaconda-cloud": {},
  "kernelspec": {
   "display_name": "Python [conda env:anaconda_training]",
   "language": "python",
   "name": "conda-env-anaconda_training-py"
  },
  "language_info": {
   "codemirror_mode": {
    "name": "ipython",
    "version": 3
   },
   "file_extension": ".py",
   "mimetype": "text/x-python",
   "name": "python",
   "nbconvert_exporter": "python",
   "pygments_lexer": "ipython3",
   "version": "3.5.2"
  }
 },
 "nbformat": 4,
 "nbformat_minor": 0
}
