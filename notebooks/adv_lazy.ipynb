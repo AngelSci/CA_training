{
 "cells": [
  {
   "cell_type": "markdown",
   "metadata": {},
   "source": [
    "<img src='img/logo.png' />"
   ]
  },
  {
   "cell_type": "markdown",
   "metadata": {},
   "source": [
    "<img src='img/title.png'>"
   ]
  },
  {
   "cell_type": "markdown",
   "metadata": {},
   "source": [
    "<img src='img/py3k.png'>"
   ]
  },
  {
   "cell_type": "markdown",
   "metadata": {},
   "source": [
    "# Table of Contents\n",
    "* [Python's nomenclature for virtual sequences](#Python's-nomenclature-for-virtual-sequences)\n",
    "* [Generator functions](#Generator-functions)\n",
    "* [The iterator protocol](#The-iterator-protocol)\n",
    "* [Generators defining iterables](#Generators-defining-iterables)\n",
    "\t* [Generator comprehensions](#Generator-comprehensions)\n",
    "* [Exercise (factorization)](#Exercise-%28factorization%29)"
   ]
  },
  {
   "cell_type": "markdown",
   "metadata": {},
   "source": [
    "# Python's nomenclature for virtual sequences"
   ]
  },
  {
   "cell_type": "markdown",
   "metadata": {},
   "source": [
    "There are several subtly different terms related to \"lazy sequences\" in Python.  A *generator\n",
    "function* is a named function that, when called, returns a *generator*.  In turn, a generator is one particular type of *iterator*.  Other iterators include concrete lists, open file handles, file-like objects like `http.client.HTTPResponse`, views into collections, objects returned by calls to `itertools` functions, etc."
   ]
  },
  {
   "cell_type": "markdown",
   "metadata": {},
   "source": [
    "# Generator functions"
   ]
  },
  {
   "cell_type": "markdown",
   "metadata": {},
   "source": [
    "The simplest generator function possible is:"
   ]
  },
  {
   "cell_type": "code",
   "execution_count": null,
   "metadata": {
    "collapsed": true
   },
   "outputs": [],
   "source": [
    "def simple():\n",
    "    yield"
   ]
  },
  {
   "cell_type": "markdown",
   "metadata": {},
   "source": [
    "What does it do?  Not very much.  The main idea of a generator is that we yield values on demand instead of all at once.  We can yield these values from a value using the `yield` keyword instead of the `return` keyword.  You can think of the `yield` keyword as a \"pause\" button for the function.  It temporarily suspends execution of the function and yields control to the caller.  The calling function can demand another value from the generator using the `next()` function.\n",
    "\n",
    "Note that only one `return` statements can ever be executed within a particular function call (but a function might have multiple potential branches that return).  In contrast, we can have multiple `yield` statements inside the function where each one will be executed on subsequent resumptions of the suspended function."
   ]
  },
  {
   "cell_type": "code",
   "execution_count": null,
   "metadata": {
    "collapsed": true
   },
   "outputs": [],
   "source": [
    "# A generator function that will yields  values  \n",
    "def f():\n",
    "    print(\"I'm going to yield 0\")\n",
    "    yield 0\n",
    "    print(\"I'm going to yield 1\")\n",
    "    yield 1"
   ]
  },
  {
   "cell_type": "code",
   "execution_count": null,
   "metadata": {
    "collapsed": true
   },
   "outputs": [],
   "source": [
    "# This *only* constructs the generator. Nothing in function is executed.\n",
    "x = f()  \n",
    "print(\"Calling next(x)\")\n",
    "# First next() statement executes up to and including first yield\n",
    "print(next(x))  \n",
    "print(next(x))  # Execute up to and including the next yield"
   ]
  },
  {
   "cell_type": "markdown",
   "metadata": {},
   "source": [
    "What happens when a generator runs out of values? It raises an exception, of course.\n",
    "\n",
    "Remember a slogan of Python: \"Exceptions are not that exceptional.\" (this might take some getting used to for programmers coming from, e.g. C)."
   ]
  },
  {
   "cell_type": "code",
   "execution_count": null,
   "metadata": {
    "collapsed": true
   },
   "outputs": [],
   "source": [
    "from traceback import print_exc\n",
    "try:\n",
    "    print(next(x))\n",
    "except Exception:\n",
    "    print_exc()"
   ]
  },
  {
   "cell_type": "markdown",
   "metadata": {},
   "source": [
    "# The iterator protocol"
   ]
  },
  {
   "cell_type": "markdown",
   "metadata": {},
   "source": [
    "There is a protocol for what makes something an *iterator*; and also for what makes it an *iterable* (which are not quite the same thing).  And iterable is simply an object with a `.__iter__()` method, where that method returns an iterator when called.  And iterator is itself an iterable, but one whose `.__iter__()` method generally returns itself.  The extra feature an iterator has over an iterable is that it also requires a `.__next__()` method.\n",
    "\n",
    "These dunder methods might seem obscure and strange.  But most of their work happens \"behind the scenes\" and you do not have to think about them (except when you want to).  Basically, these magic methods are a lot like other Python magic methods, and they control how objects respond to basic syntactic constructs.  \n",
    "\n",
    "Let's illustrate the differences among the types of things:"
   ]
  },
  {
   "cell_type": "code",
   "execution_count": null,
   "metadata": {
    "collapsed": true
   },
   "outputs": [],
   "source": [
    "from collections.abc import *\n",
    "def simple():\n",
    "    yield True\n",
    "inst = simple()\n",
    "\n",
    "isinstance(simple, Callable), isinstance(inst, Iterator)"
   ]
  },
  {
   "cell_type": "code",
   "execution_count": null,
   "metadata": {
    "collapsed": true
   },
   "outputs": [],
   "source": [
    "type(simple), type(inst)"
   ]
  },
  {
   "cell_type": "code",
   "execution_count": null,
   "metadata": {
    "collapsed": true
   },
   "outputs": [],
   "source": [
    "inst.__next__, inst.__iter__"
   ]
  },
  {
   "cell_type": "code",
   "execution_count": null,
   "metadata": {
    "collapsed": true
   },
   "outputs": [],
   "source": [
    "l = [1,2,3]\n",
    "isinstance(l, Iterable), isinstance(l, Iterator)"
   ]
  },
  {
   "cell_type": "code",
   "execution_count": null,
   "metadata": {
    "collapsed": true
   },
   "outputs": [],
   "source": [
    "type(l), l.__iter__"
   ]
  },
  {
   "cell_type": "code",
   "execution_count": null,
   "metadata": {
    "collapsed": true
   },
   "outputs": [],
   "source": [
    "try:\n",
    "    l.__next__\n",
    "except AttributeError as e:\n",
    "    print(\"Lists do not have a .__next__() method\")"
   ]
  },
  {
   "cell_type": "markdown",
   "metadata": {},
   "source": [
    "One powerful use for generators is for representing infinite sequences.  Generators allow us to work with long sequences efficiently.  We can avoid having to calculate and store the sequence all at once in memory.  Below, we represent a common alternating series whose sum converges to $ln(2)$."
   ]
  },
  {
   "cell_type": "code",
   "execution_count": null,
   "metadata": {
    "collapsed": true
   },
   "outputs": [],
   "source": [
    "def ln2():\n",
    "    denom = 1\n",
    "    sign = 1\n",
    "    while True:\n",
    "        yield (1.0/denom)*sign\n",
    "        denom, sign = denom + 1, sign * -1"
   ]
  },
  {
   "cell_type": "code",
   "execution_count": null,
   "metadata": {
    "collapsed": true
   },
   "outputs": [],
   "source": [
    "from itertools import islice # very useful for slicing an iterator an iterator\n",
    "from math import log"
   ]
  },
  {
   "cell_type": "code",
   "execution_count": null,
   "metadata": {
    "collapsed": true
   },
   "outputs": [],
   "source": [
    "# we slice off the first n terms of the sequence.\n",
    "sum(islice(ln2(), 100000)) "
   ]
  },
  {
   "cell_type": "code",
   "execution_count": null,
   "metadata": {
    "collapsed": true
   },
   "outputs": [],
   "source": [
    "log(2)"
   ]
  },
  {
   "cell_type": "markdown",
   "metadata": {},
   "source": [
    "We can call other generators.  Lets create a generator that takes care of the just the sign.  It will yield an unending stream of alternating 1, -1, 1, -1, ..."
   ]
  },
  {
   "cell_type": "code",
   "execution_count": null,
   "metadata": {
    "collapsed": true
   },
   "outputs": [],
   "source": [
    "def altsign(pos=True):\n",
    "    sign = 1 if pos else -1\n",
    "    while True:\n",
    "        yield sign\n",
    "        sign *= -1\n",
    "        \n",
    "def ln2():\n",
    "    sign = altsign()\n",
    "    for denom, sign in enumerate(sign, 1):\n",
    "        yield float(sign)/denom\n",
    "\n",
    "list(islice(ln2(), 1, 10))"
   ]
  },
  {
   "cell_type": "code",
   "execution_count": null,
   "metadata": {
    "collapsed": true
   },
   "outputs": [],
   "source": [
    "from itertools import count\n",
    "altsign2 = ((n%2 * -2)+1 for n in count())\n",
    "list(islice(altsign(), 1, 10)), list(islice(altsign2, 1, 10))"
   ]
  },
  {
   "cell_type": "markdown",
   "metadata": {},
   "source": [
    "Generators can also recieve values from the calling method via the ```send()``` method.  This method will send a single object back into a generator.  This object becomes the return value of the ```yield``` statement inside the generator"
   ]
  },
  {
   "cell_type": "code",
   "execution_count": null,
   "metadata": {
    "collapsed": true
   },
   "outputs": [],
   "source": [
    "def mr_postman():\n",
    "    letter = None\n",
    "    while True:\n",
    "        # Yield, waiting for input\n",
    "        letter = yield letter\n",
    "        if not str(letter).isalpha():\n",
    "            if len(letter) > 1:\n",
    "                print(\"Those are not letters\")\n",
    "            else:\n",
    "                print(\"That is not a letter\")"
   ]
  },
  {
   "cell_type": "code",
   "execution_count": null,
   "metadata": {
    "collapsed": true
   },
   "outputs": [],
   "source": [
    "f = mr_postman()  # Construct the generator object\n",
    "next(f)           # Must call next to execute generator to first yield.  \n",
    "                  # Equivalent to f.send(None)\n",
    "f.send('g')       # Send a value into the generator.  \n",
    "                  #   If our postman doesn't receive a string of only \n",
    "                  #   letter(s), he will complain\n",
    "                  # Otherwise he will return the letter(s) he got."
   ]
  },
  {
   "cell_type": "markdown",
   "metadata": {},
   "source": [
    "# Generators defining iterables"
   ]
  },
  {
   "cell_type": "markdown",
   "metadata": {},
   "source": [
    "While you *can* explicitly call `next(it)` or `it.send(val)` repeatedly on the iterators returned by generator functions, the more common pattern by a large margin is to use iterators as sequences (perhaps large or infinite) that you loop through.\n",
    "\n",
    "In Python, the `StopIteration` exception that we saw is a special signal to loops that a sequence of items is exhausted.  This allows concrete collections like lists to behave the same way as lazy generators for most purposes."
   ]
  },
  {
   "cell_type": "code",
   "execution_count": null,
   "metadata": {
    "collapsed": true
   },
   "outputs": [],
   "source": [
    "# A generator function to return letters of a string multiple times\n",
    "def iterate_letters(s, times=2):\n",
    "    for letter in s:\n",
    "        for _ in range(times):\n",
    "            yield letter\n",
    "            \n",
    "for c in iterate_letters(\"StopIteration\", 3):\n",
    "    print(c, end='_')"
   ]
  },
  {
   "cell_type": "markdown",
   "metadata": {},
   "source": [
    "Or for another example, remember our `ln2()` generator function defined above.  It successively approximates `math.log(2)` in an iterative way.  We might wonder how long it takes these approximations to get \"pretty close\" to the true answer (that is, the nearest IEEE-854 floating point number to the true, irrational, answer)."
   ]
  },
  {
   "cell_type": "code",
   "execution_count": null,
   "metadata": {
    "collapsed": true
   },
   "outputs": [],
   "source": [
    "import math\n",
    "from itertools import accumulate\n",
    "delta = .01\n",
    "log2 = math.log(2)\n",
    "for i, approx in enumerate(accumulate(ln2())):\n",
    "    print(i+1, \"-\", approx)\n",
    "    if abs(log2-approx) < delta:\n",
    "        break"
   ]
  },
  {
   "cell_type": "markdown",
   "metadata": {},
   "source": [
    "## Generator comprehensions"
   ]
  },
  {
   "cell_type": "markdown",
   "metadata": {},
   "source": [
    "In the Introduction notebooks, we discussed generator comprehensions.  Whether to express a generator as a comprehension or a function is often just a choice of style and readability.  In some sense they are formally equivalent."
   ]
  },
  {
   "cell_type": "code",
   "execution_count": null,
   "metadata": {
    "collapsed": true
   },
   "outputs": [],
   "source": [
    "# A simple generator function\n",
    "def to_upper(s):\n",
    "    for c in s:\n",
    "        yield c.upper()"
   ]
  },
  {
   "cell_type": "code",
   "execution_count": null,
   "metadata": {
    "collapsed": true
   },
   "outputs": [],
   "source": [
    "for c in to_upper(\"Hello world!\"):\n",
    "    print(c, end='')"
   ]
  },
  {
   "cell_type": "code",
   "execution_count": null,
   "metadata": {
    "collapsed": true
   },
   "outputs": [],
   "source": [
    "# The same thing as a generator comprehension (but requires name in scope)\n",
    "s = \"Hello world!\"\n",
    "as_upper = (c.upper() for c in s)\n",
    "for c in as_upper:\n",
    "    print(c, end='')"
   ]
  },
  {
   "cell_type": "code",
   "execution_count": null,
   "metadata": {
    "collapsed": true
   },
   "outputs": [],
   "source": [
    "# But we are free to wrap this in a function if we want...\n",
    "def to_upper2(s):\n",
    "    return (c.upper() for c in s)"
   ]
  },
  {
   "cell_type": "code",
   "execution_count": null,
   "metadata": {
    "collapsed": true
   },
   "outputs": [],
   "source": [
    "for c in to_upper2(\"Hello world!\"):\n",
    "    print(c, end='')"
   ]
  },
  {
   "cell_type": "code",
   "execution_count": null,
   "metadata": {
    "collapsed": true
   },
   "outputs": [],
   "source": [
    "type(to_upper), type(to_upper2)"
   ]
  },
  {
   "cell_type": "code",
   "execution_count": null,
   "metadata": {
    "collapsed": true
   },
   "outputs": [],
   "source": [
    "type(to_upper(s)), type(to_upper2(s))"
   ]
  },
  {
   "cell_type": "markdown",
   "metadata": {},
   "source": [
    "# Exercise (factorization)"
   ]
  },
  {
   "cell_type": "markdown",
   "metadata": {},
   "source": [
    "Write a generator, that given the number $n$, returns the prime factorization of that number.\n",
    "\n",
    "Optional: If you have time, write another generator that returns every factorization of the number."
   ]
  },
  {
   "cell_type": "code",
   "execution_count": null,
   "metadata": {
    "collapsed": true
   },
   "outputs": [],
   "source": [
    "# For a hint, run this cell\n",
    "import codecs\n",
    "print(codecs.encode('''# Hfr fbzr fcrpvny shapgvbaf qrsvarq va nabgure abgrobbx\n",
    "vzcbeg flf\n",
    "flf.cngu.nccraq('./fep')\n",
    "vzcbeg cevzrf''', 'rot13'))"
   ]
  },
  {
   "cell_type": "markdown",
   "metadata": {},
   "source": [
    "<img src='img/copyright.png'>"
   ]
  }
 ],
 "metadata": {
  "anaconda-cloud": {},
  "kernelspec": {
   "display_name": "Python [conda env:anaconda_training]",
   "language": "python",
   "name": "conda-env-anaconda_training-py"
  },
  "language_info": {
   "codemirror_mode": {
    "name": "ipython",
    "version": 3
   },
   "file_extension": ".py",
   "mimetype": "text/x-python",
   "name": "python",
   "nbconvert_exporter": "python",
   "pygments_lexer": "ipython3",
   "version": "3.5.2"
  }
 },
 "nbformat": 4,
 "nbformat_minor": 0
}
