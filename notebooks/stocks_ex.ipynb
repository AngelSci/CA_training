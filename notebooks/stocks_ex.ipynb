{
 "cells": [
  {
   "cell_type": "markdown",
   "metadata": {},
   "source": [
    "<img src='img/logo.png' />"
   ]
  },
  {
   "cell_type": "markdown",
   "metadata": {},
   "source": [
    "<img src='img/title.png'>"
   ]
  },
  {
   "cell_type": "markdown",
   "metadata": {},
   "source": [
    "<img src='img/py3k.png'>"
   ]
  },
  {
   "cell_type": "markdown",
   "metadata": {},
   "source": [
    "# Table of Contents\n",
    "* [Exercise: Stock Data](#Exercise:-Stock-Data)\n",
    "* [Learning Objectives:](#Learning-Objectives:)\n",
    "* [The Data](#The-Data)\n",
    "* [Compute Maximum Closing Price](#Compute-Maximum-Closing-Price)\n",
    "* [Write a summary file](#Write-a-summary-file)"
   ]
  },
  {
   "cell_type": "markdown",
   "metadata": {},
   "source": [
    "# Exercise: Stock Data"
   ]
  },
  {
   "cell_type": "markdown",
   "metadata": {},
   "source": [
    "# Learning Objectives:"
   ]
  },
  {
   "cell_type": "markdown",
   "metadata": {},
   "source": [
    "After completion of this module, learners should be able to:\n",
    "\n",
    "* Read data from a file and prepare a data structure\n",
    "* Write functions to perform computations over the data structure"
   ]
  },
  {
   "cell_type": "markdown",
   "metadata": {},
   "source": [
    "# The Data"
   ]
  },
  {
   "cell_type": "markdown",
   "metadata": {},
   "source": [
    "Stock data for four companies is provided in `data/stocks.tsv`. Each line contains 13 entries: the name of company and the average closing price for each month in 2015. All entries are separated by a single space.\n",
    "\n",
    "Write a function to read `data/stocks.tsv` into a dictionary of lists of floats. The dictionary should have the following structure\n",
    "\n",
    "```\n",
    "KEY  : VALUE\n",
    "---    -----\n",
    "Name : List of prices (floats)\n",
    "```"
   ]
  },
  {
   "cell_type": "markdown",
   "metadata": {},
   "source": [
    "Each company will be a separate key. For example,\n",
    "\n",
    "```\n",
    "{'APPLE': [110.64, 125.43, 125.97, 127.29, 128.76, 127.81, 125.34, 113.39, 112.8, 113.36, 118.16, 111.73]}\n",
    "```"
   ]
  },
  {
   "cell_type": "markdown",
   "metadata": {},
   "source": [
    "Warning: the first line is a header line and does not contain data."
   ]
  },
  {
   "cell_type": "code",
   "execution_count": null,
   "metadata": {
    "collapsed": true
   },
   "outputs": [],
   "source": [
    "def read_stocks(file):\n",
    "    # Your implementation here"
   ]
  },
  {
   "cell_type": "code",
   "execution_count": null,
   "metadata": {
    "collapsed": true
   },
   "outputs": [],
   "source": [
    "# call the function\n",
    "my_stocks = read_stocks('data/stocks.tsv')"
   ]
  },
  {
   "cell_type": "markdown",
   "metadata": {},
   "source": [
    "# Compute Maximum Closing Price"
   ]
  },
  {
   "cell_type": "markdown",
   "metadata": {},
   "source": [
    "Write a function to find the month where the closing price was highest for each company and print the company name, the maximum closing price and month in which it occurred.\n",
    "\n",
    "Integer representation of the month is acceptable (1 := January). Extra credit if you want to print the string version of the month.\n",
    "\n",
    "**Hint**: look at the help output for the `index` member function of a `list` object."
   ]
  },
  {
   "cell_type": "code",
   "execution_count": null,
   "metadata": {
    "collapsed": true
   },
   "outputs": [],
   "source": [
    "def print_max(stocks):\n",
    "    # Your implementation here"
   ]
  },
  {
   "cell_type": "code",
   "execution_count": null,
   "metadata": {
    "collapsed": true
   },
   "outputs": [],
   "source": [
    "# call the function\n",
    "print_max(my_stocks)"
   ]
  },
  {
   "cell_type": "markdown",
   "metadata": {},
   "source": [
    "# Write a summary file"
   ]
  },
  {
   "cell_type": "markdown",
   "metadata": {},
   "source": [
    "Create a function to write a comma separate value file with the following columns.\n",
    "\n",
    "```\n",
    "Name,Min,Max,Average\n",
    "```"
   ]
  },
  {
   "cell_type": "code",
   "execution_count": null,
   "metadata": {
    "collapsed": true
   },
   "outputs": [],
   "source": [
    "def write_summary(stocks,file):\n",
    "    # Your implementation here"
   ]
  },
  {
   "cell_type": "code",
   "execution_count": null,
   "metadata": {
    "collapsed": true
   },
   "outputs": [],
   "source": [
    "# call the function\n",
    "write_summary(stocks,'./tmp/stocks_summary.csv')"
   ]
  },
  {
   "cell_type": "markdown",
   "metadata": {},
   "source": [
    "----\n",
    "<a href='stocks_soln.ipynb' class='btn btn-primary'>Solution</a>"
   ]
  },
  {
   "cell_type": "markdown",
   "metadata": {},
   "source": [
    "<img src='img/copyright.png'>"
   ]
  }
 ],
 "metadata": {
  "anaconda-cloud": {},
  "kernelspec": {
   "display_name": "Python [conda env:anaconda_training]",
   "language": "python",
   "name": "conda-env-anaconda_training-py"
  },
  "language_info": {
   "codemirror_mode": {
    "name": "ipython",
    "version": 3
   },
   "file_extension": ".py",
   "mimetype": "text/x-python",
   "name": "python",
   "nbconvert_exporter": "python",
   "pygments_lexer": "ipython3",
   "version": "3.5.2"
  }
 },
 "nbformat": 4,
 "nbformat_minor": 0
}
