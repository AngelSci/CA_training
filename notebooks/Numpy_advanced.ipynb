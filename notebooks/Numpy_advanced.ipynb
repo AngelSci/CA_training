{
 "cells": [
  {
   "cell_type": "markdown",
   "metadata": {},
   "source": [
    "<img src='img/logo.png' />"
   ]
  },
  {
   "cell_type": "markdown",
   "metadata": {},
   "source": [
    "<img src='img/title.png'>"
   ]
  },
  {
   "cell_type": "markdown",
   "metadata": {},
   "source": [
    "<img src='img/py3k.png'>"
   ]
  },
  {
   "cell_type": "markdown",
   "metadata": {},
   "source": [
    "# Table of Contents\n",
    "* [Learning Objectives:](#Learning-Objectives:)\n",
    "* [Set-up](#Set-up)\n",
    "* [Axis](#Axis)\n",
    "* [Tile](#Tile)\n",
    "* [Rows and Columns](#Rows-and-Columns)\n",
    "\t* [Some Simple Setup](#Some-Simple-Setup)\n",
    "* [Broadcasting](#Broadcasting)\n",
    "\t* [What are the rules for broadcasting? ](#What-are-the-rules-for-broadcasting?)\n",
    "\t* [Some Simple Setup](#Some-Simple-Setup)\n",
    "* [Array Joining and Splitting](#Array-Joining-and-Splitting)\n",
    "\t* [Some Simple Setup](#Some-Simple-Setup)\n",
    "* [Array Meta-data and *dtype*](#Array-Meta-data-and-*dtype*)"
   ]
  },
  {
   "cell_type": "markdown",
   "metadata": {},
   "source": [
    "# Learning Objectives:"
   ]
  },
  {
   "cell_type": "markdown",
   "metadata": {},
   "source": [
    "After completion of this module, learners should be able to:\n",
    "\n",
    "* create, manipulate, and examine numerical arrays with specified attributes (axes)\n",
    "* use and explain *broadcasting* in numpy\n",
    "* create, manipulate, and examine numerical arrays with specified attributes (shape, join, split)\n",
    "* understanding of metadata and dtype in Numpy arrays"
   ]
  },
  {
   "cell_type": "markdown",
   "metadata": {},
   "source": [
    "# Set-up"
   ]
  },
  {
   "cell_type": "code",
   "execution_count": 1,
   "metadata": {
    "collapsed": true
   },
   "outputs": [],
   "source": [
    "%matplotlib inline\n",
    "\n",
    "import numpy as np\n",
    "import matplotlib.pyplot as plt\n",
    "import os.path as osp\n",
    "import numpy.random as npr\n",
    "vsep = \"\\n-------------------\\n\"\n",
    "\n",
    "def dump_array(arr):\n",
    "    print(\"%s array of %s:\" % (arr.shape, arr.dtype))\n",
    "    print(arr)"
   ]
  },
  {
   "cell_type": "markdown",
   "metadata": {},
   "source": [
    "# Axis"
   ]
  },
  {
   "cell_type": "code",
   "execution_count": 14,
   "metadata": {
    "collapsed": false
   },
   "outputs": [
    {
     "data": {
      "text/plain": [
       "array([[2, 9, 7, 2],\n",
       "       [5, 6, 0, 0],\n",
       "       [5, 8, 9, 2],\n",
       "       [5, 5, 3, 1],\n",
       "       [7, 8, 3, 7]])"
      ]
     },
     "execution_count": 14,
     "metadata": {},
     "output_type": "execute_result"
    }
   ],
   "source": [
    "np.random.seed(1981)\n",
    "arr = np.random.randint(0,10,20).reshape((5,4))\n",
    "arr"
   ]
  },
  {
   "cell_type": "code",
   "execution_count": 4,
   "metadata": {
    "collapsed": false
   },
   "outputs": [
    {
     "data": {
      "text/plain": [
       "94"
      ]
     },
     "execution_count": 4,
     "metadata": {},
     "output_type": "execute_result"
    }
   ],
   "source": [
    "arr.sum(axis=None)"
   ]
  },
  {
   "cell_type": "code",
   "execution_count": 6,
   "metadata": {
    "collapsed": false
   },
   "outputs": [
    {
     "data": {
      "text/plain": [
       "array([24, 36, 22, 12])"
      ]
     },
     "execution_count": 6,
     "metadata": {},
     "output_type": "execute_result"
    }
   ],
   "source": [
    "arr.sum(axis=0)"
   ]
  },
  {
   "cell_type": "code",
   "execution_count": 7,
   "metadata": {
    "collapsed": false
   },
   "outputs": [
    {
     "data": {
      "text/plain": [
       "array([20, 11, 24, 14, 25])"
      ]
     },
     "execution_count": 7,
     "metadata": {},
     "output_type": "execute_result"
    }
   ],
   "source": [
    "arr.sum(axis=1)"
   ]
  },
  {
   "cell_type": "code",
   "execution_count": 23,
   "metadata": {
    "collapsed": false
   },
   "outputs": [
    {
     "data": {
      "text/plain": [
       "array([[2, 9],\n",
       "       [7, 2],\n",
       "       [5, 6],\n",
       "       [0, 0],\n",
       "       [5, 8],\n",
       "       [9, 2],\n",
       "       [5, 5],\n",
       "       [3, 1],\n",
       "       [7, 8],\n",
       "       [3, 7]])"
      ]
     },
     "execution_count": 23,
     "metadata": {},
     "output_type": "execute_result"
    }
   ],
   "source": [
    "arr.reshape(-1,2)"
   ]
  },
  {
   "cell_type": "code",
   "execution_count": 39,
   "metadata": {
    "collapsed": false
   },
   "outputs": [
    {
     "data": {
      "text/plain": [
       "array([[11,  9, 11,  0, 13],\n",
       "       [11, 10,  4, 15, 10]])"
      ]
     },
     "execution_count": 39,
     "metadata": {},
     "output_type": "execute_result"
    }
   ],
   "source": [
    "arr.reshape(-1,2).sum(axis=1).reshape(2,-1)"
   ]
  },
  {
   "cell_type": "markdown",
   "metadata": {},
   "source": [
    "Methods that reduce the information in (or summarize) an array (such as *sum*) take an optional parameter called *axis* which specifies the dimension over which to perform a reduction.\n",
    "\n",
    "* *axis=None*, the default, reduces overall dimensions\n",
    "* *axis=0* reduces over the outermost/zeroth dimension\n",
    "  * if we think about this dimension as the rows, we can imagine that it produces a new row\n",
    "* *axis=1* reduces over the first dimension\n",
    "  * if we think about this dimension as the columns, we can imagine that it produces a new column\n",
    "    \n",
    "![](img/axis.none.lightbg.scaled-noalpha.png)\n",
    "\n",
    "![](img/axis.0.lightbg.scaled-noalpha.png)\n",
    "\n",
    "![](files/img/axis.1.lightbg.scaled-noalpha.png)"
   ]
  },
  {
   "cell_type": "code",
   "execution_count": 96,
   "metadata": {
    "collapsed": false
   },
   "outputs": [
    {
     "data": {
      "text/plain": [
       "array([[3, 2, 5, 9, 5, 2, 3, 4, 3, 7],\n",
       "       [8, 4, 2, 9, 4, 8, 7, 6, 3, 2],\n",
       "       [6, 2, 7, 3, 4, 8, 8, 1, 6, 2],\n",
       "       [1, 2, 3, 8, 5, 6, 6, 8, 5, 5],\n",
       "       [6, 6, 9, 2, 6, 5, 5, 3, 4, 4],\n",
       "       [6, 4, 8, 8, 9, 2, 2, 3, 6, 9],\n",
       "       [5, 2, 5, 4, 7, 5, 6, 1, 8, 9],\n",
       "       [2, 9, 6, 1, 8, 9, 9, 7, 7, 5],\n",
       "       [8, 7, 9, 5, 9, 2, 1, 7, 6, 9],\n",
       "       [6, 1, 2, 6, 6, 6, 3, 2, 2, 3]])"
      ]
     },
     "execution_count": 96,
     "metadata": {},
     "output_type": "execute_result"
    }
   ],
   "source": [
    "a = np.random.randint(1,10,100).reshape(10,10)\n",
    "a"
   ]
  },
  {
   "cell_type": "code",
   "execution_count": 97,
   "metadata": {
    "collapsed": false
   },
   "outputs": [
    {
     "data": {
      "text/plain": [
       "array([[3, 8, 6, 1, 6, 6, 5, 2, 8, 6],\n",
       "       [2, 4, 2, 2, 6, 4, 2, 9, 7, 1],\n",
       "       [5, 2, 7, 3, 9, 8, 5, 6, 9, 2],\n",
       "       [9, 9, 3, 8, 2, 8, 4, 1, 5, 6],\n",
       "       [5, 4, 4, 5, 6, 9, 7, 8, 9, 6],\n",
       "       [2, 8, 8, 6, 5, 2, 5, 9, 2, 6],\n",
       "       [3, 7, 8, 6, 5, 2, 6, 9, 1, 3],\n",
       "       [4, 6, 1, 8, 3, 3, 1, 7, 7, 2],\n",
       "       [3, 3, 6, 5, 4, 6, 8, 7, 6, 2],\n",
       "       [7, 2, 2, 5, 4, 9, 9, 5, 9, 3]])"
      ]
     },
     "execution_count": 97,
     "metadata": {},
     "output_type": "execute_result"
    }
   ],
   "source": [
    "a.reshape(10,10).T"
   ]
  },
  {
   "cell_type": "code",
   "execution_count": 152,
   "metadata": {
    "collapsed": true
   },
   "outputs": [],
   "source": [
    "def my_pyramid(my_number):\n",
    "   a = np.random.randint(1,10,(my_number**2)).reshape(my_number,my_number)\n",
    "   print(a)\n",
    "   a.reshape(-1,2).mean(axis=1).reshape(my_number,-1).T.reshape(-1,2).mean(axis=1).reshape(my_number/2,my_number/2).T\n",
    "   return a"
   ]
  },
  {
   "cell_type": "code",
   "execution_count": 176,
   "metadata": {
    "collapsed": false
   },
   "outputs": [
    {
     "name": "stdout",
     "output_type": "stream",
     "text": [
      "10 loops, best of 3: 37.6 ms per loop\n"
     ]
    }
   ],
   "source": [
    "my_number =int(1e3)\n",
    "a = np.random.randint(1,10,(my_number**2)).reshape(my_number,my_number)\n",
    "%timeit a.reshape(-1,2).mean(axis=1).reshape(my_number,-1).T.reshape(-1,2).mean(axis=1).reshape(my_number//2,my_number//2).T\n",
    "\n"
   ]
  },
  {
   "cell_type": "code",
   "execution_count": 166,
   "metadata": {
    "collapsed": false
   },
   "outputs": [
    {
     "data": {
      "text/plain": [
       "array([[5, 3, 5, 2, 9, 8, 5, 2, 6, 9, 9, 1, 8, 5, 9, 6],\n",
       "       [7, 4, 9, 6, 5, 1, 9, 6, 1, 6, 7, 6, 3, 3, 8, 8],\n",
       "       [4, 4, 2, 3, 7, 7, 2, 2, 4, 3, 5, 7, 1, 2, 7, 2],\n",
       "       [6, 5, 4, 5, 9, 4, 9, 8, 7, 2, 2, 1, 5, 9, 5, 8],\n",
       "       [9, 7, 6, 8, 9, 4, 7, 7, 3, 3, 2, 6, 4, 7, 2, 3],\n",
       "       [9, 6, 3, 3, 1, 2, 2, 8, 4, 2, 5, 9, 6, 2, 6, 1],\n",
       "       [4, 7, 9, 8, 4, 9, 7, 3, 6, 3, 2, 2, 4, 3, 4, 6],\n",
       "       [4, 8, 9, 1, 4, 9, 8, 9, 6, 7, 7, 8, 1, 7, 9, 8],\n",
       "       [2, 9, 1, 4, 9, 7, 4, 6, 1, 7, 3, 5, 9, 1, 5, 5],\n",
       "       [1, 3, 7, 3, 8, 6, 9, 3, 9, 8, 8, 9, 6, 6, 4, 7],\n",
       "       [6, 8, 4, 1, 3, 9, 8, 8, 3, 2, 1, 3, 1, 9, 3, 7],\n",
       "       [4, 2, 4, 4, 1, 9, 8, 2, 6, 3, 3, 9, 7, 1, 4, 5],\n",
       "       [4, 5, 9, 2, 4, 6, 3, 8, 4, 1, 5, 4, 8, 4, 6, 7],\n",
       "       [4, 4, 3, 8, 4, 5, 3, 9, 9, 4, 2, 6, 3, 5, 6, 3],\n",
       "       [7, 3, 8, 7, 4, 5, 7, 7, 6, 7, 4, 5, 4, 5, 4, 5],\n",
       "       [9, 4, 7, 7, 8, 2, 4, 3, 6, 9, 4, 2, 3, 3, 2, 4]])"
      ]
     },
     "execution_count": 166,
     "metadata": {},
     "output_type": "execute_result"
    }
   ],
   "source": [
    "ba = np.arange(6).reshape((3,2))\n",
    "a"
   ]
  },
  {
   "cell_type": "code",
   "execution_count": 136,
   "metadata": {
    "collapsed": false
   },
   "outputs": [
    {
     "data": {
      "text/plain": [
       "array([[6, 2, 4, 1, 2, 8, 4, 5, 6, 3],\n",
       "       [4, 3, 8, 8, 2, 4, 8, 2, 7, 6],\n",
       "       [3, 7, 8, 4, 2, 1, 8, 9, 9, 4],\n",
       "       [8, 9, 1, 6, 2, 2, 9, 4, 1, 5],\n",
       "       [6, 6, 8, 7, 9, 8, 8, 2, 5, 9],\n",
       "       [6, 1, 8, 6, 9, 8, 6, 5, 4, 5],\n",
       "       [3, 2, 3, 4, 2, 6, 4, 8, 6, 4],\n",
       "       [8, 8, 3, 6, 1, 8, 3, 1, 4, 4],\n",
       "       [8, 8, 3, 3, 6, 8, 6, 5, 8, 8],\n",
       "       [9, 4, 5, 8, 6, 6, 4, 8, 1, 2]])"
      ]
     },
     "execution_count": 136,
     "metadata": {},
     "output_type": "execute_result"
    }
   ],
   "source": [
    "d"
   ]
  },
  {
   "cell_type": "code",
   "execution_count": 64,
   "metadata": {
    "collapsed": true
   },
   "outputs": [],
   "source": [
    "b = np.array([10,20,30])"
   ]
  },
  {
   "cell_type": "code",
   "execution_count": 73,
   "metadata": {
    "collapsed": false
   },
   "outputs": [
    {
     "name": "stdout",
     "output_type": "stream",
     "text": [
      "[ 0 10]\n",
      "[40 60]\n",
      "[120 150]\n"
     ]
    }
   ],
   "source": [
    "for i,v in enumerate(b): #harder, slower\n",
    "    print(a[i]*v)"
   ]
  },
  {
   "cell_type": "code",
   "execution_count": 71,
   "metadata": {
    "collapsed": false
   },
   "outputs": [
    {
     "data": {
      "text/plain": [
       "array([[  0,  10],\n",
       "       [ 40,  60],\n",
       "       [120, 150]])"
      ]
     },
     "execution_count": 71,
     "metadata": {},
     "output_type": "execute_result"
    }
   ],
   "source": [
    "a*b.reshape([3,1]) #easier"
   ]
  },
  {
   "cell_type": "code",
   "execution_count": 74,
   "metadata": {
    "collapsed": true
   },
   "outputs": [],
   "source": [
    "def my_broadcast(a,b):\n",
    "    c = np.empty(a.shape)\n",
    "    for i,v in enumerate(b):\n",
    "        c[i] = a[i]*v\n",
    "    return c"
   ]
  },
  {
   "cell_type": "code",
   "execution_count": 75,
   "metadata": {
    "collapsed": false
   },
   "outputs": [
    {
     "data": {
      "text/plain": [
       "array([[ True,  True],\n",
       "       [ True,  True],\n",
       "       [ True,  True]], dtype=bool)"
      ]
     },
     "execution_count": 75,
     "metadata": {},
     "output_type": "execute_result"
    }
   ],
   "source": [
    "a * b.reshape((3,1)) == my_broadcast(a,b)"
   ]
  },
  {
   "cell_type": "code",
   "execution_count": 76,
   "metadata": {
    "collapsed": true
   },
   "outputs": [],
   "source": [
    "big_a = np.random.random(size=(int(1e3),3))\n",
    "big_b = np.random.randint(0,100,int(1e3))"
   ]
  },
  {
   "cell_type": "code",
   "execution_count": 77,
   "metadata": {
    "collapsed": false
   },
   "outputs": [
    {
     "data": {
      "text/plain": [
       "(1000, 3)"
      ]
     },
     "execution_count": 77,
     "metadata": {},
     "output_type": "execute_result"
    }
   ],
   "source": [
    "big_a.shape"
   ]
  },
  {
   "cell_type": "code",
   "execution_count": 78,
   "metadata": {
    "collapsed": false
   },
   "outputs": [
    {
     "data": {
      "text/plain": [
       "(1000,)"
      ]
     },
     "execution_count": 78,
     "metadata": {},
     "output_type": "execute_result"
    }
   ],
   "source": [
    "big_b.shape"
   ]
  },
  {
   "cell_type": "code",
   "execution_count": 88,
   "metadata": {
    "collapsed": false
   },
   "outputs": [
    {
     "name": "stdout",
     "output_type": "stream",
     "text": [
      "100 loops, best of 3: 3.14 ms per loop\n"
     ]
    }
   ],
   "source": [
    "%timeit my_broadcast(big_a,big_b)"
   ]
  },
  {
   "cell_type": "code",
   "execution_count": 87,
   "metadata": {
    "collapsed": false
   },
   "outputs": [
    {
     "name": "stdout",
     "output_type": "stream",
     "text": [
      "The slowest run took 11.58 times longer than the fastest. This could mean that an intermediate result is being cached.\n",
      "10000 loops, best of 3: 12.8 µs per loop\n"
     ]
    }
   ],
   "source": [
    "%timeit big_a*big_b[:,np.newaxis]"
   ]
  },
  {
   "cell_type": "code",
   "execution_count": 82,
   "metadata": {
    "collapsed": false
   },
   "outputs": [
    {
     "name": "stdout",
     "output_type": "stream",
     "text": [
      "The slowest run took 6.88 times longer than the fastest. This could mean that an intermediate result is being cached.\n",
      "10000 loops, best of 3: 12.9 µs per loop\n"
     ]
    }
   ],
   "source": [
    "%timeit big_a*big_b.reshape((-1,1))"
   ]
  },
  {
   "cell_type": "code",
   "execution_count": 85,
   "metadata": {
    "collapsed": true
   },
   "outputs": [],
   "source": [
    "c_slow = my_broadcast(big_a,big_b)"
   ]
  },
  {
   "cell_type": "code",
   "execution_count": 86,
   "metadata": {
    "collapsed": true
   },
   "outputs": [],
   "source": [
    "c_new = big_a * big_b[:,np.newaxis]"
   ]
  },
  {
   "cell_type": "code",
   "execution_count": 90,
   "metadata": {
    "collapsed": false
   },
   "outputs": [
    {
     "data": {
      "text/plain": [
       "True"
      ]
     },
     "execution_count": 90,
     "metadata": {},
     "output_type": "execute_result"
    }
   ],
   "source": [
    "np.allclose(c_slow,c_new,1e-5) #comapre two identical arrays within the speciifed tolerance"
   ]
  },
  {
   "cell_type": "code",
   "execution_count": 95,
   "metadata": {
    "collapsed": false
   },
   "outputs": [
    {
     "data": {
      "text/plain": [
       "array([[0, 1],\n",
       "       [2, 3],\n",
       "       [4, 5]])"
      ]
     },
     "execution_count": 95,
     "metadata": {},
     "output_type": "execute_result"
    }
   ],
   "source": [
    "a\n"
   ]
  },
  {
   "cell_type": "code",
   "execution_count": null,
   "metadata": {
    "collapsed": true
   },
   "outputs": [],
   "source": []
  },
  {
   "cell_type": "code",
   "execution_count": null,
   "metadata": {
    "collapsed": true
   },
   "outputs": [],
   "source": []
  },
  {
   "cell_type": "code",
   "execution_count": null,
   "metadata": {
    "collapsed": true
   },
   "outputs": [],
   "source": []
  },
  {
   "cell_type": "code",
   "execution_count": null,
   "metadata": {
    "collapsed": true
   },
   "outputs": [],
   "source": []
  },
  {
   "cell_type": "code",
   "execution_count": null,
   "metadata": {
    "collapsed": true
   },
   "outputs": [],
   "source": []
  },
  {
   "cell_type": "code",
   "execution_count": null,
   "metadata": {
    "collapsed": true
   },
   "outputs": [],
   "source": []
  },
  {
   "cell_type": "code",
   "execution_count": 8,
   "metadata": {
    "collapsed": false
   },
   "outputs": [
    {
     "name": "stdout",
     "output_type": "stream",
     "text": [
      "(3, 5) array of int32:\n",
      "[[ 0  1  2  3  4]\n",
      " [ 5  6  7  8  9]\n",
      " [10 11 12 13 14]]\n",
      "\n",
      "-------------------\n",
      "\n",
      "grandSum: 105\n",
      "colSums (a new pseudo-row): [15 18 21 24 27] (5,)\n",
      "rowSums (a new pseudo-col): [10 35 60] (3,)\n"
     ]
    }
   ],
   "source": [
    "arr = np.arange(15).reshape(3,5)\n",
    "dump_array(arr)\n",
    "\n",
    "print(vsep)\n",
    "grandSum = arr.sum()\n",
    "colSums  = arr.sum(axis=0)\n",
    "rowSums  = arr.sum(axis=1)\n",
    "\n",
    "print(\"grandSum:\", grandSum)\n",
    "print(\"colSums (a new pseudo-row):\", colSums, colSums.shape)\n",
    "print(\"rowSums (a new pseudo-col):\", rowSums, rowSums.shape)"
   ]
  },
  {
   "cell_type": "markdown",
   "metadata": {},
   "source": [
    "# Tile"
   ]
  },
  {
   "cell_type": "markdown",
   "metadata": {},
   "source": [
    "One other array creator, `np.tile`, rewards careful examination of some examples.  We'll use the following `arr` as our base array."
   ]
  },
  {
   "cell_type": "code",
   "execution_count": 9,
   "metadata": {
    "collapsed": false
   },
   "outputs": [
    {
     "name": "stdout",
     "output_type": "stream",
     "text": [
      "(2, 2) array of int32:\n",
      "[[1 2]\n",
      " [3 4]]\n"
     ]
    }
   ],
   "source": [
    "arr = np.arange(1,5).reshape(2,2)\n",
    "dump_array(arr)"
   ]
  },
  {
   "cell_type": "markdown",
   "metadata": {},
   "source": [
    "Tiling over one axis appends \"tiles\" of data on the ends of the rows."
   ]
  },
  {
   "cell_type": "code",
   "execution_count": 10,
   "metadata": {
    "collapsed": false
   },
   "outputs": [
    {
     "name": "stdout",
     "output_type": "stream",
     "text": [
      "[[1 2]\n",
      " [3 4]]\n",
      "-------------------\n",
      "[[1 2 1 2]\n",
      " [3 4 3 4]]\n",
      "-------------------\n",
      "[[1 2 1 2 1 2 1 2]\n",
      " [3 4 3 4 3 4 3 4]]\n"
     ]
    }
   ],
   "source": [
    "print(np.tile(arr,1), end=vsep)\n",
    "print(np.tile(arr,2), end=vsep)\n",
    "print(np.tile(arr,4))"
   ]
  },
  {
   "cell_type": "code",
   "execution_count": 12,
   "metadata": {
    "collapsed": false
   },
   "outputs": [
    {
     "data": {
      "text/plain": [
       "  C_CONTIGUOUS : True\n",
       "  F_CONTIGUOUS : False\n",
       "  OWNDATA : False\n",
       "  WRITEABLE : True\n",
       "  ALIGNED : True\n",
       "  UPDATEIFCOPY : False"
      ]
     },
     "execution_count": 12,
     "metadata": {},
     "output_type": "execute_result"
    }
   ],
   "source": [
    "mytile = np.tile(arr, 4)\n",
    "mytile.flags"
   ]
  },
  {
   "cell_type": "markdown",
   "metadata": {},
   "source": [
    "Tiling over multipled dimensions creates tiles (of the original) in the specified shape."
   ]
  },
  {
   "cell_type": "code",
   "execution_count": null,
   "metadata": {
    "collapsed": true
   },
   "outputs": [],
   "source": [
    "print(\"with a (2,2) inner\")\n",
    "print(\"... and a (2,1) outer\")\n",
    "print(np.tile(arr, (2,1))) # 2x1 tileing of a 2x2 array\n",
    "print(\"... and a (1,2) outer\")\n",
    "print(np.tile(arr, (1,2))) # 1x2 tileing of a 2x2 array\n",
    "print(\"... and a (2,2) outer\")\n",
    "print(np.tile(arr, (2,2))) # 2x2 tileing of a 2x2 array"
   ]
  },
  {
   "cell_type": "markdown",
   "metadata": {},
   "source": [
    "Things get slightly different in more dimensions, especially when the dimensions of the tile and the tiling differ.  The tile is first expanded to the same number of dimensions as the tiling."
   ]
  },
  {
   "cell_type": "code",
   "execution_count": null,
   "metadata": {
    "collapsed": true
   },
   "outputs": [],
   "source": [
    "# original 2x2 promoted to 1x2x2 ... then used for 3x1x1 tiling\n",
    "print(np.tile(arr, (3,1,1)))"
   ]
  },
  {
   "cell_type": "code",
   "execution_count": null,
   "metadata": {
    "collapsed": true
   },
   "outputs": [],
   "source": [
    "print(np.tile(arr, (1,1,3)))"
   ]
  },
  {
   "cell_type": "markdown",
   "metadata": {},
   "source": [
    "# Rows and Columns"
   ]
  },
  {
   "cell_type": "markdown",
   "metadata": {},
   "source": [
    "As mentioned earlier, in greater than two dimensions, you need to be very careful thinking in terms of \"rows and columns\".  Specifically, in the string representation of a 3-D array, the outermost dimension is no longer the visual rows; it's the different panels. Thus, for sums over different axes, we might talk about:\n",
    "\n",
    "|sum(axis=?)|over which dim?|visual element|added elements|\n",
    "|-----------|---------------|--------------|--------------|\n",
    "|axis=0|outer-most|across panels|[1+1+1, 2+2+2, ...]|\n",
    "|axis=1|middle    |across colums|[1+4+7, 2+5+8, ...]|\n",
    "|axis=2|inner-most|across rows|[1+2+3, 4+5+6, ...]|"
   ]
  },
  {
   "cell_type": "code",
   "execution_count": null,
   "metadata": {
    "collapsed": true
   },
   "outputs": [],
   "source": [
    "arr = np.tile(np.arange(1,10).reshape(3,3), (3,1,1))\n",
    "print(arr)"
   ]
  },
  {
   "cell_type": "code",
   "execution_count": null,
   "metadata": {
    "collapsed": true
   },
   "outputs": [],
   "source": [
    "print(\"axis=0\")\n",
    "print(arr.sum(axis=0), end=vsep)\n",
    "\n",
    "print(\"axis=1\")\n",
    "print(arr.sum(axis=1), end=vsep)\n",
    "\n",
    "print(\"axis=2\")\n",
    "print(arr.sum(axis=2), end=vsep)\n",
    "\n",
    "print(\"shapes: \", arr.sum(axis=0).shape, \n",
    "                  arr.sum(axis=1).shape, \n",
    "                  arr.sum(axis=2).shape)"
   ]
  },
  {
   "cell_type": "markdown",
   "metadata": {},
   "source": [
    "## Some Simple Setup"
   ]
  },
  {
   "cell_type": "code",
   "execution_count": null,
   "metadata": {
    "collapsed": true
   },
   "outputs": [],
   "source": [
    "%matplotlib inline\n",
    "\n",
    "import numpy as np\n",
    "import matplotlib.pyplot as plt\n",
    "import os.path as osp\n",
    "import numpy.random as npr\n",
    "vsep = \"\\n-------------------\\n\"\n",
    "\n",
    "def dump_array(arr):\n",
    "    print(\"%s array of %s:\" % (arr.shape, arr.dtype))\n",
    "    print(arr)"
   ]
  },
  {
   "cell_type": "markdown",
   "metadata": {},
   "source": [
    "# Broadcasting"
   ]
  },
  {
   "cell_type": "markdown",
   "metadata": {},
   "source": [
    "Broadcasting lets arrays with *different but compatible* shapes be arguments to *ufuncs*."
   ]
  },
  {
   "cell_type": "code",
   "execution_count": null,
   "metadata": {
    "collapsed": true
   },
   "outputs": [],
   "source": [
    "arr1 = np.arange(5)\n",
    "print(\"arr1:\\n\", arr1, end=vsep)\n",
    "\n",
    "print(\"arr1 + scalar:\\n\", arr1+10, end=vsep)\n",
    "\n",
    "print(\"arr1 + arr1 (same shape):\\n\", arr1+arr1, end=vsep)\n",
    "\n",
    "arr2 = np.arange(5).reshape(5,1) * 10\n",
    "arr3 = np.arange(5).reshape(1,5) * 100\n",
    "print(\"arr2:\\n\", arr2)\n",
    "print(\"arr3:\\n\", arr3, end=vsep)\n",
    "\n",
    "print(\"arr1 + arr2 [ %s + %s --> %s ]:\" % \n",
    "      (arr1.shape, arr2.shape, (arr1 + arr2).shape))\n",
    "print(arr1+arr2, end=vsep)\n",
    "print(\"arr1 + arr3 [ %s + %s --> %s ]:\" % \n",
    "      (arr1.shape, arr3.shape, (arr1 + arr3).shape))\n",
    "print(arr1+arr3)"
   ]
  },
  {
   "cell_type": "code",
   "execution_count": null,
   "metadata": {
    "collapsed": true
   },
   "outputs": [],
   "source": [
    "arr1 = np.arange(6).reshape(3,2)\n",
    "arr2 = np.arange(10, 40, 10).reshape(3,1)\n",
    "\n",
    "print(\"arr1:\")\n",
    "dump_array(arr1)\n",
    "print(\"\\narr2:\")\n",
    "dump_array(arr2)\n",
    "print(\"\\narr1 + arr2:\")\n",
    "print(arr1+arr2)"
   ]
  },
  {
   "cell_type": "markdown",
   "metadata": {},
   "source": [
    "Here, an array of shape `(3, 1)` is broadcast to an array with shape `(3, 2)`\n",
    "\n",
    "![](files/img/broadcasting2D.lightbg.scaled-noalpha.png)"
   ]
  },
  {
   "cell_type": "markdown",
   "metadata": {},
   "source": [
    "## What are the rules for broadcasting? "
   ]
  },
  {
   "cell_type": "markdown",
   "metadata": {},
   "source": [
    "In order for an operation to broadcast, the size of all the trailing dimensions for both arrays must either be *equal* or be *one*.  Dimensions that are one and dimensions that are missing from the \"head\" are duplicated to match the larger number.  So, we have:\n",
    "\n",
    "|Array             |Shape          |\n",
    "|:------------------|---------------:|\n",
    "|A      (1d array)|              3|\n",
    "|B      (2d array)|          2 x 3|\n",
    "|Result (2d array)|          2 x 3|\n",
    "\n",
    "|Array             |Shape          |\n",
    "|:------------------|-------------:|\n",
    "|A      (2d array)|          6 x 1|\n",
    "|B      (3d array)|      1 x 6 x 4|\n",
    "|Result (3d array)|      1 x 6 x 4|\n",
    "\n",
    "|Array             |Shape          |\n",
    "|:-----------------|---------------:|\n",
    "|A      (4d array)|  3 x 1 x 6 x 1|\n",
    "|B      (3d array)|      2 x 1 x 4|\n",
    "|Result (4d array)|  3 x 2 x 6 x 4|"
   ]
  },
  {
   "cell_type": "markdown",
   "metadata": {},
   "source": [
    "Some other interpretations of compatibility:\n",
    "    \n",
    "  *  Tails must be the same, ones are wild.\n",
    "  \n",
    "\n",
    "  *  If one shape is shorter than the other, pad the shorter shape on the LHS with `1`s.\n",
    "    * Now, from the right, the shapes must be identical with ones acting as wild cards."
   ]
  },
  {
   "cell_type": "code",
   "execution_count": null,
   "metadata": {
    "collapsed": true
   },
   "outputs": [],
   "source": [
    "a1 = np.array([1,2,3])       # 3 -> 1x3\n",
    "b1 = np.array([[10, 20, 30], # 2x3\n",
    "               [40, 50, 60]]) \n",
    "print(a1+b1)"
   ]
  },
  {
   "cell_type": "code",
   "execution_count": null,
   "metadata": {
    "collapsed": true
   },
   "outputs": [],
   "source": [
    "result = (np.ones((  6,1)) +  # 3rd dimension replicated\n",
    "          np.ones((1,6,4)))\n",
    "print(result.shape)\n",
    "\n",
    "result = (np.ones((3,6,1)) + \n",
    "          np.ones((1,6,4)))   # 1st and 3rd dimension replicated\n",
    "print(result.shape)"
   ]
  },
  {
   "cell_type": "markdown",
   "metadata": {},
   "source": [
    "Sometimes, it is useful to explicitly insert a new dimension in the shape.  We can do this with a fancy slice that takes the value `np.newaxis`."
   ]
  },
  {
   "cell_type": "code",
   "execution_count": null,
   "metadata": {
    "collapsed": true
   },
   "outputs": [],
   "source": [
    "arr1 = np.arange(6).reshape((2,3))  # 2x3\n",
    "arr2 = np.array([10, 100])          #   2\n",
    "arr1 + arr2"
   ]
  },
  {
   "cell_type": "code",
   "execution_count": null,
   "metadata": {
    "collapsed": true
   },
   "outputs": [],
   "source": [
    "# let's massage the shape\n",
    "arr3 = arr2[:, np.newaxis] # arr2 -> 2x1\n",
    "print(\"arr3 shape:\", arr3.shape)\n",
    "print(\"arr1 + arr3\")\n",
    "print(arr1+arr3)"
   ]
  },
  {
   "cell_type": "code",
   "execution_count": null,
   "metadata": {
    "collapsed": true
   },
   "outputs": [],
   "source": [
    "arr = np.array([10, 100])\n",
    "print(\"original shape:\", arr.shape)\n",
    "\n",
    "arrNew = arr2[np.newaxis, :]\n",
    "print(\"arrNew shape:\", arrNew.shape)"
   ]
  },
  {
   "cell_type": "code",
   "execution_count": null,
   "metadata": {
    "collapsed": true
   },
   "outputs": [],
   "source": [
    "arr1 = np.arange(0,6).reshape(2,3)\n",
    "arr2 = np.arange(10,22).reshape(4,3)\n",
    "np.tile(arr1, (2,1)) * arr2"
   ]
  },
  {
   "cell_type": "code",
   "execution_count": null,
   "metadata": {
    "collapsed": true
   },
   "outputs": [],
   "source": []
  },
  {
   "cell_type": "markdown",
   "metadata": {},
   "source": [
    "## Some Simple Setup"
   ]
  },
  {
   "cell_type": "code",
   "execution_count": null,
   "metadata": {
    "collapsed": true
   },
   "outputs": [],
   "source": [
    "%matplotlib inline\n",
    "\n",
    "import numpy as np\n",
    "import matplotlib.pyplot as plt\n",
    "import os.path as osp\n",
    "import numpy.random as npr\n",
    "vsep = \"\\n-------------------\\n\"\n",
    "\n",
    "def dump_array(arr):\n",
    "    print(\"%s array of %s:\" % (arr.shape, arr.dtype))\n",
    "    print(arr)"
   ]
  },
  {
   "cell_type": "markdown",
   "metadata": {},
   "source": [
    "# Array Joining and Splitting"
   ]
  },
  {
   "cell_type": "markdown",
   "metadata": {},
   "source": [
    "Several functions for combining (concatenating) and splitting up arrays are free functions in the NumPy module.  The main functions (warning, these take a single tuple as their argument) are:\n",
    "\n",
    "  * `np.concatenate`\n",
    "  * `np.vstack`\n",
    "  * `np.column_stack`\n",
    "  * `np.hstack`\n",
    "  \n",
    "Combining arrays together is not ideal (because we have to reallocate memory — a slow operation). An alternative is to use Python lists (which append quickly on the right) until all (or sufficient) data is gathered and then convert to  NumPy array.\n",
    "  \n",
    "Note: If you find yourself constantly needing to restack vectors into 2-D arrays (when doing linear algebra), you may want to look at NumPy's `matrix` class. Essentially, matrices keep their 2-D shape throughout operations applied to them. They also define $*$ as matrix multiplication. (Note: In Python 3.5+, the operator $@$ is dedicated to matrix multiplication)."
   ]
  },
  {
   "cell_type": "code",
   "execution_count": null,
   "metadata": {
    "collapsed": true
   },
   "outputs": [],
   "source": [
    "joined = np.concatenate((np.array([1,2,3]),\n",
    "                         np.array([4,5,6]),\n",
    "                         np.array([7,8,9])))\n",
    "print(joined)"
   ]
  },
  {
   "cell_type": "code",
   "execution_count": null,
   "metadata": {
    "collapsed": true
   },
   "outputs": [],
   "source": [
    "arr1 = np.arange(4).reshape(2,2)\n",
    "arr2 = (np.arange(4).reshape(2,2) + 1) * 10\n",
    "print(\"arr1:\\n\", arr1, end=vsep)\n",
    "print(\"arr2:\\n\", arr2, end=vsep)\n",
    "print(\"elementwise addition:\\n\", arr1 + arr2, end=vsep)\n",
    "print(\"concatenate axis 0:\\n\", \n",
    "      np.concatenate((arr1, arr2), axis=0), end=vsep)\n",
    "print(\"concatenate axis 1:\\n\",\n",
    "      np.concatenate((arr1, arr2), axis=1))"
   ]
  },
  {
   "cell_type": "markdown",
   "metadata": {},
   "source": [
    "Note, for concatenation, all dimensions (except the dimension being concatenated) must have the same size."
   ]
  },
  {
   "cell_type": "code",
   "execution_count": null,
   "metadata": {
    "collapsed": true
   },
   "outputs": [],
   "source": [
    "arr1 = np.array([1,   2,  3])\n",
    "arr2 = np.array([11, 22, 33])\n",
    "\n",
    "# create a vertical stack\n",
    "print(\"vstack:\\n\", np.vstack((arr1, arr2)), end=vsep)\n",
    "\n",
    "# creates a column stack (horizontally)\n",
    "print(\"column_stack:\\n\", np.column_stack((arr1, arr2)), end=vsep)\n",
    "\n",
    "# compare np.column_stack with np.hstack()\n",
    "print(\"hstack (1D):\")\n",
    "# the 1-D arrays are not treated as columns\n",
    "print(np.hstack((arr1, arr2))) "
   ]
  },
  {
   "cell_type": "code",
   "execution_count": null,
   "metadata": {
    "collapsed": true
   },
   "outputs": [],
   "source": [
    "arr = np.vstack((arr1, arr2))\n",
    "print(\"original array:\\n\", arr, end=vsep)\n",
    "\n",
    "# concatenate with 1D, but ok if we have 2D things\n",
    "print(\"hstacking:\\n\", np.hstack((arr, arr)), end=vsep)\n",
    "print(\"vstacking:\\n\", np.vstack((arr, arr)))"
   ]
  },
  {
   "cell_type": "markdown",
   "metadata": {},
   "source": [
    "## Some Simple Setup"
   ]
  },
  {
   "cell_type": "code",
   "execution_count": null,
   "metadata": {
    "collapsed": true
   },
   "outputs": [],
   "source": [
    "%matplotlib inline\n",
    "\n",
    "import numpy as np\n",
    "import matplotlib.pyplot as plt\n",
    "import os.path as osp\n",
    "import numpy.random as npr\n",
    "vsep = \"\\n-------------------\\n\"\n",
    "\n",
    "def dump_array(arr):\n",
    "    print(\"%s array of %s:\" % (arr.shape, arr.dtype))\n",
    "    print(arr)"
   ]
  },
  {
   "cell_type": "markdown",
   "metadata": {},
   "source": [
    "# Array Meta-data and *dtype*"
   ]
  },
  {
   "cell_type": "markdown",
   "metadata": {},
   "source": [
    "Internally, NumPy arrays look like this:\n",
    "\n",
    "<center>\n",
    "![](img/memory.lightbg.scaled-noalpha.png)\n",
    "</center>\n",
    "\n",
    "Individual elements (scalars) have lightweight wrappers around them that treat them as single-element arrays."
   ]
  },
  {
   "cell_type": "code",
   "execution_count": null,
   "metadata": {
    "collapsed": true
   },
   "outputs": [],
   "source": [
    "# arrays have several pieces of meta-data, driven in part by the dtype of the array\n",
    "def dump_arrayInfo(arr):\n",
    "    print(\"%15s: %s\" % (\"shape\", arr.shape))\n",
    "    print(\"%15s: %s\" % (\"dtype\", arr.dtype))\n",
    "    print(\"%15s: %s\" % (\"size\", arr.size))\n",
    "    print(\"%15s: %s\" % (\"itemsize\", arr.itemsize))\n",
    "    print(\"%15s: %s\" % (\"size * itemsize\", arr.size * arr.itemsize))\n",
    "    \n",
    "arr = np.arange(10)\n",
    "dump_array(arr)\n",
    "print(vsep)\n",
    "dump_arrayInfo(arr)"
   ]
  },
  {
   "cell_type": "code",
   "execution_count": null,
   "metadata": {
    "collapsed": true
   },
   "outputs": [],
   "source": [
    "arr = np.arange(10.0).reshape(5,2)\n",
    "dump_arrayInfo(arr)"
   ]
  },
  {
   "cell_type": "markdown",
   "metadata": {},
   "source": [
    "And the *dtype* itself can be queried for information:"
   ]
  },
  {
   "cell_type": "code",
   "execution_count": null,
   "metadata": {
    "collapsed": true
   },
   "outputs": [],
   "source": [
    "def dumpDtypeInfo(dt):\n",
    "    print(\"%15s: %s\" % (\"name\", dt.name))\n",
    "    print(\"%15s: %s\" % (\"byteorder\", dt.byteorder))\n",
    "    print(\"%15s: %s\" % (\"itemsize\",  dt.itemsize))\n",
    "    print(\"%15s: %s\" % (\"type\", dt.type))\n",
    "\n",
    "dumpDtypeInfo(arr.dtype)"
   ]
  },
  {
   "cell_type": "markdown",
   "metadata": {},
   "source": [
    "Usually, we can get the right *dtype* through inference:"
   ]
  },
  {
   "cell_type": "code",
   "execution_count": null,
   "metadata": {
    "collapsed": true
   },
   "outputs": [],
   "source": [
    "arr1 = np.array([1,2,3])\n",
    "arr2 = np.array([1, 2, 3.14150])\n",
    "\n",
    "print(\"arr1 type: \", arr1.dtype)\n",
    "print(\"arr2 type: \", arr2.dtype)"
   ]
  },
  {
   "cell_type": "code",
   "execution_count": null,
   "metadata": {
    "collapsed": true
   },
   "outputs": [],
   "source": [
    "x = np.zeros(10, dtype=np.longdouble)\n",
    "x"
   ]
  },
  {
   "cell_type": "markdown",
   "metadata": {},
   "source": [
    "We can also manually specify a *dtype* in many array creation routines"
   ]
  },
  {
   "cell_type": "code",
   "execution_count": null,
   "metadata": {
    "collapsed": true
   },
   "outputs": [],
   "source": [
    "arr1 = np.array([1,2,3], dtype=np.float32)\n",
    "dump_array(arr1)"
   ]
  },
  {
   "cell_type": "markdown",
   "metadata": {},
   "source": [
    "And we can convert *dtype*s with `array.astype`"
   ]
  },
  {
   "cell_type": "code",
   "execution_count": null,
   "metadata": {
    "collapsed": true
   },
   "outputs": [],
   "source": [
    "arr = np.arange(10)\n",
    "dump_array(arr)\n",
    "\n",
    "converted = arr.astype(np.float_)\n",
    "print(\"\\nafter converting types:\")\n",
    "dump_array(converted)"
   ]
  },
  {
   "cell_type": "markdown",
   "metadata": {},
   "source": [
    "<img src=\"img/mef_numpy_dtype_hierarchy.png\" width=\"400px\"/>"
   ]
  },
  {
   "cell_type": "markdown",
   "metadata": {},
   "source": [
    "One other set of information about `array`s comes from the `flags` attribute."
   ]
  },
  {
   "cell_type": "code",
   "execution_count": null,
   "metadata": {
    "collapsed": true
   },
   "outputs": [],
   "source": [
    "arr = np.arange(10)\n",
    "print(arr.flags)"
   ]
  },
  {
   "cell_type": "code",
   "execution_count": null,
   "metadata": {
    "collapsed": true
   },
   "outputs": [],
   "source": [
    "x = np.zeros(10, dtype=int)\n",
    "x[0] = 3.1\n",
    "x"
   ]
  },
  {
   "cell_type": "markdown",
   "metadata": {},
   "source": [
    "When a NumPy array is sliced, the slice is created with *new* dtype, shape, and stride information.  However, the underlying data is referenced (not copied).  We can determine if an array *owns* its own data via its *array.flags.owndata* attribute."
   ]
  },
  {
   "cell_type": "code",
   "execution_count": null,
   "metadata": {
    "collapsed": true
   },
   "outputs": [],
   "source": [
    "arr1 = np.arange(10)\n",
    "arr2 = arr1[3:7]\n",
    "\n",
    "print(\"arr1 owndata: \", arr1.flags.owndata)\n",
    "print(\"arr2 owndata: \", arr2.flags.owndata)\n",
    "\n",
    "# and what will happen if we write into arr2?\n",
    "arr2[:] = 0\n",
    "print(\"arr1 (after assigning into arr2):\", arr1)\n",
    "\n",
    "arr3 = arr1.copy()\n",
    "print(\"arr3 owndata: \", arr3.flags.owndata)"
   ]
  },
  {
   "cell_type": "markdown",
   "metadata": {},
   "source": [
    "<img src='img/copyright.png'>"
   ]
  }
 ],
 "metadata": {
  "anaconda-cloud": {},
  "kernelspec": {
   "display_name": "Python [conda env:anaconda_training]",
   "language": "python",
   "name": "conda-env-anaconda_training-py"
  },
  "language_info": {
   "codemirror_mode": {
    "name": "ipython",
    "version": 3
   },
   "file_extension": ".py",
   "mimetype": "text/x-python",
   "name": "python",
   "nbconvert_exporter": "python",
   "pygments_lexer": "ipython3",
   "version": "3.5.2"
  }
 },
 "nbformat": 4,
 "nbformat_minor": 0
}
