{
 "cells": [
  {
   "cell_type": "markdown",
   "metadata": {},
   "source": [
    "<img src='img/logo.png' />"
   ]
  },
  {
   "cell_type": "markdown",
   "metadata": {},
   "source": [
    "<img src='img/title.png'>"
   ]
  },
  {
   "cell_type": "markdown",
   "metadata": {},
   "source": [
    "<img src='img/py3k.png'>"
   ]
  },
  {
   "cell_type": "markdown",
   "metadata": {},
   "source": [
    "# Candlestick Plots"
   ]
  },
  {
   "cell_type": "markdown",
   "metadata": {},
   "source": [
    "Matplotlib has a set of functions to return historical data of Open, High, Low, Close stock data and make candlestick plots."
   ]
  },
  {
   "cell_type": "markdown",
   "metadata": {},
   "source": [
    "# Table of Contents\n",
    "* [Candlestick Plots](#Candlestick-Plots)\n"
   ]
  },
  {
   "cell_type": "code",
   "execution_count": null,
   "metadata": {
    "collapsed": true
   },
   "outputs": [],
   "source": [
    "%matplotlib inline\n",
    "import matplotlib.pyplot as plt"
   ]
  },
  {
   "cell_type": "code",
   "execution_count": null,
   "metadata": {
    "collapsed": false,
    "solutions": {
     "candlestick": [
      "import datetime",
      "from dateutil.relativedelta import relativedelta",
      "from matplotlib.dates import DateFormatter, WeekdayLocator, MonthLocator, MONDAY",
      "",
      "def quarterly(ticker,year):",
      "    start=datetime.date(year,1,1)",
      "    q1 = (start, start + relativedelta(months=+3, days=-1))",
      "    q2 = (q1[1]+relativedelta(days=+1), start + relativedelta(months=+6, days=-1))",
      "    q3 = (q2[1]+relativedelta(days=+1), start + relativedelta(months=+9, days=-1))",
      "    q4 = (q3[1]+relativedelta(days=+1), start + relativedelta(months=+12, days=-1))",
      "    quarters= [q1,q2,q3,q4]",
      "",
      "    fig=plt.figure(figsize=(20,20))",
      "    for idx,q in enumerate(quarters):",
      "        quotes=quotes_historical_yahoo_ohlc(ticker,*q)",
      "",
      "        ax = fig.add_subplot( 220 + idx+1 )",
      "",
      "        candlestick_ohlc(ax, quotes, width=0.6)",
      "",
      "        mondays = WeekdayLocator(MONDAY)",
      "        months = MonthLocator()",
      "        monthFormatter = DateFormatter('%b')",
      "",
      "        ax.xaxis.set_major_locator(months)",
      "        ax.xaxis.set_minor_locator(mondays)",
      "        ax.xaxis.set_major_formatter(monthFormatter)",
      "        ax.xaxis_date()",
      "",
      "        ax.set_ylabel('Price')",
      "        ax.set_title(ticker + ' Q%1d ' % (idx+1) + ' %d ' % year)",
      "",
      "",
      "quarterly('AAPL',2012)",
      "quarterly('IBM',2012)"
     ]
    }
   },
   "outputs": [],
   "source": [
    "import datetime\n",
    "from dateutil.relativedelta import relativedelta\n",
    "from matplotlib.dates import DateFormatter, WeekdayLocator, MonthLocator, MONDAY\n",
    "from matplotlib.finance import quotes_historical_yahoo_ohlc, candlestick_ohlc\n",
    "\n",
    "def quarterly(ticker,year):\n",
    "    start=datetime.date(year,1,1)\n",
    "\n",
    "    start=datetime.date(year,1,1)\n",
    "    q1 = (start, start + relativedelta(months=+3, days=-1))\n",
    "    q2 = (q1[1]+relativedelta(days=+1), start + relativedelta(months=+6, days=-1))\n",
    "    q3 = (q2[1]+relativedelta(days=+1), start + relativedelta(months=+9, days=-1))\n",
    "    q4 = (q3[1]+relativedelta(days=+1), start + relativedelta(months=+12, days=-1))\n",
    "    quarters= [q1,q2,q3,q4]\n",
    "      \n",
    "    fig, axes = plt.subplots(2, 2, figsize=(20,20))\n",
    "    for (idx,q),ax in zip(enumerate(quarters), axes.flatten()):\n",
    "        quotes=quotes_historical_yahoo_ohlc(ticker,*q)\n",
    "        \n",
    "        candlestick_ohlc(ax, quotes, width=0.6)\n",
    "      \n",
    "        mondays = WeekdayLocator(MONDAY)\n",
    "        months = MonthLocator()\n",
    "        monthFormatter = DateFormatter('%b')\n",
    "\n",
    "        ax.xaxis.set_major_locator(months)\n",
    "        ax.xaxis.set_minor_locator(mondays)\n",
    "        ax.xaxis.set_major_formatter(monthFormatter)\n",
    "        ax.xaxis.grid(which='minor')\n",
    "        ax.xaxis_date()\n",
    "\n",
    "        ax.set_ylabel('Price')\n",
    "        ax.set_title(ticker + ' Q%1d ' % (idx+1) + ' %d ' % year)"
   ]
  },
  {
   "cell_type": "code",
   "execution_count": null,
   "metadata": {
    "collapsed": false
   },
   "outputs": [],
   "source": [
    "quarterly('AAPL', 2007)"
   ]
  },
  {
   "cell_type": "markdown",
   "metadata": {},
   "source": [
    "<img src='img/copyright.png'>"
   ]
  }
 ],
 "metadata": {
  "anaconda-cloud": {},
  "continuum": {
   "depends": [
    "mp_intro",
    "mp_object",
    "mp_subplot"
   ],
   "tag": "mp_ex_candlestick_soln"
  },
  "kernelspec": {
   "display_name": "Python [conda env:anaconda_training]",
   "language": "python",
   "name": "conda-env-anaconda_training-py"
  },
  "language_info": {
   "codemirror_mode": {
    "name": "ipython",
    "version": 3
   },
   "file_extension": ".py",
   "mimetype": "text/x-python",
   "name": "python",
   "nbconvert_exporter": "python",
   "pygments_lexer": "ipython3",
   "version": "3.5.2"
  }
 },
 "nbformat": 4,
 "nbformat_minor": 0
}
