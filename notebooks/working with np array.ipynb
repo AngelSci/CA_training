{
 "cells": [
  {
   "cell_type": "code",
   "execution_count": 1,
   "metadata": {
    "collapsed": true
   },
   "outputs": [],
   "source": [
    "import numpy as np"
   ]
  },
  {
   "cell_type": "code",
   "execution_count": 2,
   "metadata": {
    "collapsed": true
   },
   "outputs": [],
   "source": [
    "np.random.seed(1981)"
   ]
  },
  {
   "cell_type": "code",
   "execution_count": 4,
   "metadata": {
    "collapsed": false
   },
   "outputs": [],
   "source": [
    "arr = np.random.randint(0,100,20)"
   ]
  },
  {
   "cell_type": "code",
   "execution_count": 5,
   "metadata": {
    "collapsed": false
   },
   "outputs": [
    {
     "data": {
      "text/plain": [
       "array([29, 89, 98, 27, 37, 79, 95, 62,  0, 46, 96, 21, 89, 79, 50, 69, 95,\n",
       "       12, 85, 62])"
      ]
     },
     "execution_count": 5,
     "metadata": {},
     "output_type": "execute_result"
    }
   ],
   "source": [
    "arr"
   ]
  },
  {
   "cell_type": "code",
   "execution_count": 6,
   "metadata": {
    "collapsed": false
   },
   "outputs": [
    {
     "data": {
      "text/plain": [
       "29"
      ]
     },
     "execution_count": 6,
     "metadata": {},
     "output_type": "execute_result"
    }
   ],
   "source": [
    "arr[0]"
   ]
  },
  {
   "cell_type": "code",
   "execution_count": 8,
   "metadata": {
    "collapsed": false
   },
   "outputs": [
    {
     "data": {
      "text/plain": [
       "62"
      ]
     },
     "execution_count": 8,
     "metadata": {},
     "output_type": "execute_result"
    }
   ],
   "source": [
    "arr[-1]"
   ]
  },
  {
   "cell_type": "code",
   "execution_count": 9,
   "metadata": {
    "collapsed": false
   },
   "outputs": [
    {
     "data": {
      "text/plain": [
       "array([29, 89, 98, 27, 37])"
      ]
     },
     "execution_count": 9,
     "metadata": {},
     "output_type": "execute_result"
    }
   ],
   "source": [
    "arr[0:5]"
   ]
  },
  {
   "cell_type": "code",
   "execution_count": 10,
   "metadata": {
    "collapsed": false
   },
   "outputs": [
    {
     "data": {
      "text/plain": [
       "array([96, 21, 89, 79, 50])"
      ]
     },
     "execution_count": 10,
     "metadata": {},
     "output_type": "execute_result"
    }
   ],
   "source": [
    "arr[10:15]"
   ]
  },
  {
   "cell_type": "code",
   "execution_count": 11,
   "metadata": {
    "collapsed": false
   },
   "outputs": [
    {
     "data": {
      "text/plain": [
       "array([96, 89, 50])"
      ]
     },
     "execution_count": 11,
     "metadata": {},
     "output_type": "execute_result"
    }
   ],
   "source": [
    "arr[10:15:2]"
   ]
  },
  {
   "cell_type": "code",
   "execution_count": 12,
   "metadata": {
    "collapsed": false
   },
   "outputs": [
    {
     "ename": "IndexError",
     "evalue": "too many indices for array",
     "output_type": "error",
     "traceback": [
      "\u001b[0;31m---------------------------------------------------------------------------\u001b[0m",
      "\u001b[0;31mIndexError\u001b[0m                                Traceback (most recent call last)",
      "\u001b[0;32m<ipython-input-12-0b30da75f2ca>\u001b[0m in \u001b[0;36m<module>\u001b[0;34m()\u001b[0m\n\u001b[0;32m----> 1\u001b[0;31m \u001b[0marr\u001b[0m\u001b[1;33m[\u001b[0m\u001b[1;33m:\u001b[0m\u001b[1;33m,\u001b[0m\u001b[1;33m:\u001b[0m\u001b[1;33m,\u001b[0m\u001b[1;36m2\u001b[0m\u001b[1;33m]\u001b[0m\u001b[1;33m\u001b[0m\u001b[0m\n\u001b[0m",
      "\u001b[0;31mIndexError\u001b[0m: too many indices for array"
     ]
    }
   ],
   "source": [
    "arr[:,:,2]"
   ]
  },
  {
   "cell_type": "code",
   "execution_count": 13,
   "metadata": {
    "collapsed": false
   },
   "outputs": [
    {
     "data": {
      "text/plain": [
       "array([29, 98, 37, 95,  0, 96, 89, 50, 95, 85])"
      ]
     },
     "execution_count": 13,
     "metadata": {},
     "output_type": "execute_result"
    }
   ],
   "source": [
    "arr[::2]\n",
    "        "
   ]
  },
  {
   "cell_type": "code",
   "execution_count": 15,
   "metadata": {
    "collapsed": false
   },
   "outputs": [
    {
     "data": {
      "text/plain": [
       "array([69, 89, 46, 95])"
      ]
     },
     "execution_count": 15,
     "metadata": {},
     "output_type": "execute_result"
    }
   ],
   "source": [
    "arr[15:5:-3]"
   ]
  },
  {
   "cell_type": "code",
   "execution_count": 16,
   "metadata": {
    "collapsed": false
   },
   "outputs": [
    {
     "data": {
      "text/plain": [
       "array([62, 85, 12, 95, 69, 50, 79, 89, 21, 96, 46,  0, 62, 95, 79, 37, 27,\n",
       "       98, 89, 29])"
      ]
     },
     "execution_count": 16,
     "metadata": {},
     "output_type": "execute_result"
    }
   ],
   "source": [
    "arr[::-1]"
   ]
  },
  {
   "cell_type": "code",
   "execution_count": 17,
   "metadata": {
    "collapsed": true
   },
   "outputs": [],
   "source": [
    "arr2 = arr.reshape((5,4))"
   ]
  },
  {
   "cell_type": "code",
   "execution_count": 18,
   "metadata": {
    "collapsed": false
   },
   "outputs": [
    {
     "data": {
      "text/plain": [
       "array([[29, 89, 98, 27],\n",
       "       [37, 79, 95, 62],\n",
       "       [ 0, 46, 96, 21],\n",
       "       [89, 79, 50, 69],\n",
       "       [95, 12, 85, 62]])"
      ]
     },
     "execution_count": 18,
     "metadata": {},
     "output_type": "execute_result"
    }
   ],
   "source": [
    "arr2"
   ]
  },
  {
   "cell_type": "code",
   "execution_count": 19,
   "metadata": {
    "collapsed": false
   },
   "outputs": [
    {
     "name": "stderr",
     "output_type": "stream",
     "text": [
      "'ls' is not recognized as an internal or external command,\n",
      "operable program or batch file.\n"
     ]
    }
   ],
   "source": [
    "!ls ./img"
   ]
  },
  {
   "cell_type": "code",
   "execution_count": 20,
   "metadata": {
    "collapsed": false
   },
   "outputs": [
    {
     "name": "stderr",
     "output_type": "stream",
     "text": [
      "Invalid switch - \"img\".\n"
     ]
    }
   ],
   "source": [
    "!dir ./img"
   ]
  },
  {
   "cell_type": "code",
   "execution_count": 21,
   "metadata": {
    "collapsed": false
   },
   "outputs": [
    {
     "name": "stdout",
     "output_type": "stream",
     "text": [
      " Volume in drive C has no label.\n",
      " Volume Serial Number is 5212-86FA\n",
      "\n",
      " Directory of C:\\Users\\student01\\Desktop\\training-course-introduction-adefusco-CapOne\\notebooks\n",
      "\n",
      "08/23/2016  10:56 AM    <DIR>          .\n",
      "08/23/2016  10:56 AM    <DIR>          ..\n",
      "08/23/2016  10:50 AM    <DIR>          .ipynb_checkpoints\n",
      "08/23/2016  08:54 AM             6,759 boolean.ipynb\n",
      "08/23/2016  08:54 AM            10,306 comprehensions.ipynb\n",
      "08/23/2016  08:54 AM             3,214 comprehensions_ex.ipynb\n",
      "08/23/2016  08:54 AM             3,810 comprehensions_soln.ipynb\n",
      "08/23/2016  08:54 AM            21,030 conda.ipynb\n",
      "08/23/2016  08:54 AM            28,618 containers.ipynb\n",
      "08/23/2016  08:54 AM             3,655 containers_ex.ipynb\n",
      "08/23/2016  08:54 AM             4,133 containers_soln.ipynb\n",
      "08/23/2016  08:54 AM    <DIR>          data\n",
      "08/23/2016  08:54 AM            24,100 datatypes.ipynb\n",
      "08/23/2016  08:54 AM             5,878 datatypes_ex.ipynb\n",
      "08/23/2016  08:54 AM             5,890 datatypes_soln.ipynb\n",
      "08/23/2016  08:54 AM            85,688 data_formats.ipynb\n",
      "08/23/2016  08:54 AM               341 environment.yml\n",
      "08/23/2016  08:54 AM            18,351 essentials.ipynb\n",
      "08/23/2016  08:54 AM            17,759 files.ipynb\n",
      "08/23/2016  08:54 AM            18,690 flow_control.ipynb\n",
      "08/23/2016  08:54 AM            14,099 functions.ipynb\n",
      "08/23/2016  08:54 AM             5,068 functions_ex.ipynb\n",
      "08/23/2016  08:54 AM             6,351 functions_soln.ipynb\n",
      "08/23/2016  08:54 AM    <DIR>          img\n",
      "08/23/2016  08:54 AM             4,097 imports_ex.ipynb\n",
      "08/23/2016  08:54 AM             3,954 imports_soln.ipynb\n",
      "08/23/2016  08:54 AM            25,153 index.ipynb\n",
      "08/23/2016  08:54 AM            11,333 Matplotlib_style_and_axes.ipynb\n",
      "08/23/2016  08:54 AM             7,614 Matplotlib_subplots.ipynb\n",
      "08/23/2016  08:54 AM             2,885 Matplotlib_subplots_ex.ipynb\n",
      "08/23/2016  08:54 AM             3,856 Matplotlib_subplots_soln.ipynb\n",
      "08/23/2016  08:54 AM             5,258 Matplotlib_timeseries.ipynb\n",
      "08/23/2016  08:54 AM            40,288 more_containers.ipynb\n",
      "08/23/2016  08:54 AM            23,487 more_io.ipynb\n",
      "08/23/2016  08:54 AM            33,189 more_iteration.ipynb\n",
      "08/23/2016  08:54 AM            46,102 more_shells.ipynb\n",
      "08/23/2016  08:54 AM            24,229 Numpy_advanced.ipynb\n",
      "08/23/2016  08:54 AM            15,673 Numpy_fancy.ipynb\n",
      "08/23/2016  10:52 AM            54,407 Numpy_intro.ipynb\n",
      "08/23/2016  08:54 AM             9,014 Numpy_packages.ipynb\n",
      "08/23/2016  08:54 AM             9,369 Numpy_reading.ipynb\n",
      "08/23/2016  08:54 AM            15,489 Numpy_slicing.ipynb\n",
      "08/23/2016  08:54 AM            10,474 Numpy_vectorization.ipynb\n",
      "08/23/2016  09:48 AM            29,984 Numpy_vect_ex.ipynb\n",
      "08/23/2016  08:54 AM             9,201 Numpy_vect_soln.ipynb\n",
      "08/23/2016  08:54 AM             2,689 Pandas_bar_ex.ipynb\n",
      "08/23/2016  08:54 AM             4,189 Pandas_bar_soln.ipynb\n",
      "08/23/2016  08:54 AM             9,371 Pandas_compute.ipynb\n",
      "08/23/2016  08:54 AM             3,643 Pandas_fancy_ex.ipynb\n",
      "08/23/2016  08:54 AM             4,298 Pandas_fancy_soln.ipynb\n",
      "08/23/2016  08:54 AM            26,084 Pandas_groupby.ipynb\n",
      "08/23/2016  08:54 AM             4,352 Pandas_groupby_ex.ipynb\n",
      "08/23/2016  08:54 AM             5,473 Pandas_groupby_soln.ipynb\n",
      "08/23/2016  08:54 AM            21,024 Pandas_index.ipynb\n",
      "08/23/2016  08:54 AM             3,291 Pandas_index_ex.ipynb\n",
      "08/23/2016  08:54 AM             4,205 Pandas_index_soln.ipynb\n",
      "08/23/2016  08:54 AM            25,551 Pandas_introduction.ipynb\n",
      "08/23/2016  08:54 AM            26,432 Pandas_io.ipynb\n",
      "08/23/2016  08:54 AM             8,686 Pandas_missing.ipynb\n",
      "08/23/2016  08:54 AM            12,529 Pandas_pivot_tables.ipynb\n",
      "08/23/2016  08:54 AM            13,370 Pandas_plotting.ipynb\n",
      "08/23/2016  08:54 AM            20,556 Pandas_selection.ipynb\n",
      "08/23/2016  08:54 AM            26,711 Pandas_structures.ipynb\n",
      "08/23/2016  08:54 AM            26,650 Pandas_tidy.ipynb\n",
      "08/23/2016  08:54 AM            26,450 Pandas_timeseries.ipynb\n",
      "08/23/2016  08:54 AM             3,435 Pandas_timeseries_ex.ipynb\n",
      "08/23/2016  08:54 AM             3,654 Pandas_timeseries_soln.ipynb\n",
      "08/23/2016  08:54 AM             6,138 population_growth.ipynb\n",
      "08/23/2016  08:54 AM            65,209 scalar_types.ipynb\n",
      "08/23/2016  08:54 AM            16,588 special_funcs.ipynb\n",
      "08/23/2016  08:54 AM    <DIR>          src\n",
      "08/23/2016  08:54 AM            13,159 std_containers.ipynb\n",
      "08/23/2016  08:54 AM             7,775 std_datetime.ipynb\n",
      "08/23/2016  08:54 AM             2,896 std_globs.ipynb\n",
      "08/23/2016  08:54 AM             3,129 std_globs_soln.ipynb\n",
      "08/23/2016  08:54 AM             7,088 std_regex.ipynb\n",
      "08/23/2016  08:54 AM             5,349 stocks_ex.ipynb\n",
      "08/23/2016  08:54 AM             6,604 stocks_soln.ipynb\n",
      "08/23/2016  08:54 AM    <DIR>          tmp\n",
      "08/23/2016  10:56 AM             6,075 Untitled.ipynb\n",
      "              73 File(s)      1,091,449 bytes\n",
      "               7 Dir(s)  12,516,208,640 bytes free\n"
     ]
    }
   ],
   "source": [
    "!dir"
   ]
  },
  {
   "cell_type": "code",
   "execution_count": 22,
   "metadata": {
    "collapsed": false
   },
   "outputs": [
    {
     "data": {
      "text/plain": [
       "array([[29, 89, 98, 27],\n",
       "       [37, 79, 95, 62],\n",
       "       [ 0, 46, 96, 21],\n",
       "       [89, 79, 50, 69],\n",
       "       [95, 12, 85, 62]])"
      ]
     },
     "execution_count": 22,
     "metadata": {},
     "output_type": "execute_result"
    }
   ],
   "source": [
    "arr2"
   ]
  },
  {
   "cell_type": "code",
   "execution_count": 23,
   "metadata": {
    "collapsed": false
   },
   "outputs": [
    {
     "data": {
      "text/plain": [
       "array([37, 79, 95, 62])"
      ]
     },
     "execution_count": 23,
     "metadata": {},
     "output_type": "execute_result"
    }
   ],
   "source": [
    "arr2[1]"
   ]
  },
  {
   "cell_type": "code",
   "execution_count": 24,
   "metadata": {
    "collapsed": false
   },
   "outputs": [
    {
     "data": {
      "text/plain": [
       "array([[29, 89, 98, 27]])"
      ]
     },
     "execution_count": 24,
     "metadata": {},
     "output_type": "execute_result"
    }
   ],
   "source": [
    "arr2[:1]"
   ]
  },
  {
   "cell_type": "code",
   "execution_count": 25,
   "metadata": {
    "collapsed": false
   },
   "outputs": [
    {
     "data": {
      "text/plain": [
       "array([[29, 89, 98, 27],\n",
       "       [37, 79, 95, 62],\n",
       "       [ 0, 46, 96, 21],\n",
       "       [89, 79, 50, 69],\n",
       "       [95, 12, 85, 62]])"
      ]
     },
     "execution_count": 25,
     "metadata": {},
     "output_type": "execute_result"
    }
   ],
   "source": [
    "arr2"
   ]
  },
  {
   "cell_type": "code",
   "execution_count": 42,
   "metadata": {
    "collapsed": false
   },
   "outputs": [
    {
     "data": {
      "text/plain": [
       "array([89, 79, 46, 79, 12])"
      ]
     },
     "execution_count": 42,
     "metadata": {},
     "output_type": "execute_result"
    }
   ],
   "source": [
    "arr2[:,1]"
   ]
  },
  {
   "cell_type": "code",
   "execution_count": 27,
   "metadata": {
    "collapsed": false
   },
   "outputs": [
    {
     "ename": "SyntaxError",
     "evalue": "invalid syntax (<ipython-input-27-24fd790d94fe>, line 1)",
     "output_type": "error",
     "traceback": [
      "\u001b[0;36m  File \u001b[0;32m\"<ipython-input-27-24fd790d94fe>\"\u001b[0;36m, line \u001b[0;32m1\u001b[0m\n\u001b[0;31m    arr2[,:]\u001b[0m\n\u001b[0m         ^\u001b[0m\n\u001b[0;31mSyntaxError\u001b[0m\u001b[0;31m:\u001b[0m invalid syntax\n"
     ]
    }
   ],
   "source": [
    "arr2[,:]"
   ]
  },
  {
   "cell_type": "code",
   "execution_count": 28,
   "metadata": {
    "collapsed": false
   },
   "outputs": [
    {
     "data": {
      "text/plain": [
       "array([[29, 89, 98, 27],\n",
       "       [ 0, 46, 96, 21],\n",
       "       [95, 12, 85, 62]])"
      ]
     },
     "execution_count": 28,
     "metadata": {},
     "output_type": "execute_result"
    }
   ],
   "source": [
    "arr2[::2]"
   ]
  },
  {
   "cell_type": "code",
   "execution_count": 30,
   "metadata": {
    "collapsed": false
   },
   "outputs": [
    {
     "data": {
      "text/plain": [
       "array([[29, 89, 98, 27],\n",
       "       [ 0, 46, 96, 21],\n",
       "       [95, 12, 85, 62]])"
      ]
     },
     "execution_count": 30,
     "metadata": {},
     "output_type": "execute_result"
    }
   ],
   "source": [
    "arr2[::2]"
   ]
  },
  {
   "cell_type": "code",
   "execution_count": 31,
   "metadata": {
    "collapsed": false
   },
   "outputs": [
    {
     "data": {
      "text/plain": [
       "array([[29, 89, 98, 27],\n",
       "       [ 0, 46, 96, 21],\n",
       "       [95, 12, 85, 62]])"
      ]
     },
     "execution_count": 31,
     "metadata": {},
     "output_type": "execute_result"
    }
   ],
   "source": [
    "arr2[::2,:]"
   ]
  },
  {
   "cell_type": "code",
   "execution_count": 32,
   "metadata": {
    "collapsed": false
   },
   "outputs": [
    {
     "data": {
      "text/plain": [
       "array([[29, 89, 98, 27],\n",
       "       [37, 79, 95, 62],\n",
       "       [ 0, 46, 96, 21],\n",
       "       [89, 79, 50, 69],\n",
       "       [95, 12, 85, 62]])"
      ]
     },
     "execution_count": 32,
     "metadata": {},
     "output_type": "execute_result"
    }
   ],
   "source": [
    "arr2"
   ]
  },
  {
   "cell_type": "code",
   "execution_count": 33,
   "metadata": {
    "collapsed": false
   },
   "outputs": [
    {
     "ename": "SyntaxError",
     "evalue": "invalid syntax (<ipython-input-33-c175a71ed305>, line 1)",
     "output_type": "error",
     "traceback": [
      "\u001b[0;36m  File \u001b[0;32m\"<ipython-input-33-c175a71ed305>\"\u001b[0;36m, line \u001b[0;32m1\u001b[0m\n\u001b[0;31m    arr2[][2]\u001b[0m\n\u001b[0m         ^\u001b[0m\n\u001b[0;31mSyntaxError\u001b[0m\u001b[0;31m:\u001b[0m invalid syntax\n"
     ]
    }
   ],
   "source": [
    "arr2[][2]"
   ]
  },
  {
   "cell_type": "code",
   "execution_count": 34,
   "metadata": {
    "collapsed": false
   },
   "outputs": [
    {
     "data": {
      "text/plain": [
       "array([ 0, 46, 96, 21])"
      ]
     },
     "execution_count": 34,
     "metadata": {},
     "output_type": "execute_result"
    }
   ],
   "source": [
    "arr2[:][2]"
   ]
  },
  {
   "cell_type": "code",
   "execution_count": 35,
   "metadata": {
    "collapsed": false
   },
   "outputs": [
    {
     "data": {
      "text/plain": [
       "array([ 0, 46, 96, 21])"
      ]
     },
     "execution_count": 35,
     "metadata": {},
     "output_type": "execute_result"
    }
   ],
   "source": [
    "arr2[2]"
   ]
  },
  {
   "cell_type": "code",
   "execution_count": 37,
   "metadata": {
    "collapsed": false
   },
   "outputs": [
    {
     "data": {
      "text/plain": [
       "array([], shape=(0, 4), dtype=int32)"
      ]
     },
     "execution_count": 37,
     "metadata": {},
     "output_type": "execute_result"
    }
   ],
   "source": [
    "arr2[-2:-2:]"
   ]
  },
  {
   "cell_type": "code",
   "execution_count": 40,
   "metadata": {
    "collapsed": false
   },
   "outputs": [
    {
     "data": {
      "text/plain": [
       "array([[50, 69],\n",
       "       [85, 62]])"
      ]
     },
     "execution_count": 40,
     "metadata": {},
     "output_type": "execute_result"
    }
   ],
   "source": [
    "arr2[-2:,-2:]"
   ]
  },
  {
   "cell_type": "code",
   "execution_count": 41,
   "metadata": {
    "collapsed": false
   },
   "outputs": [
    {
     "data": {
      "text/plain": [
       "array([98, 95, 96, 50, 85])"
      ]
     },
     "execution_count": 41,
     "metadata": {},
     "output_type": "execute_result"
    }
   ],
   "source": [
    "arr2[:,2]"
   ]
  },
  {
   "cell_type": "code",
   "execution_count": 43,
   "metadata": {
    "collapsed": false
   },
   "outputs": [
    {
     "data": {
      "text/plain": [
       "array([[95, 12, 85, 62],\n",
       "       [89, 79, 50, 69],\n",
       "       [ 0, 46, 96, 21],\n",
       "       [37, 79, 95, 62],\n",
       "       [29, 89, 98, 27]])"
      ]
     },
     "execution_count": 43,
     "metadata": {},
     "output_type": "execute_result"
    }
   ],
   "source": [
    "arr2[::-1]"
   ]
  },
  {
   "cell_type": "code",
   "execution_count": 47,
   "metadata": {
    "collapsed": false,
    "scrolled": true
   },
   "outputs": [
    {
     "data": {
      "text/plain": [
       "array([[ 841, 9604],\n",
       "       [   0, 9216],\n",
       "       [9025, 7225]])"
      ]
     },
     "execution_count": 47,
     "metadata": {},
     "output_type": "execute_result"
    }
   ],
   "source": [
    "arr2[::2,::2] **2"
   ]
  },
  {
   "cell_type": "markdown",
   "metadata": {},
   "source": [
    "# Views and Copies"
   ]
  },
  {
   "cell_type": "code",
   "execution_count": 50,
   "metadata": {
    "collapsed": false
   },
   "outputs": [
    {
     "data": {
      "text/plain": [
       "False"
      ]
     },
     "execution_count": 50,
     "metadata": {},
     "output_type": "execute_result"
    }
   ],
   "source": [
    "arr2.flags.owndata"
   ]
  },
  {
   "cell_type": "code",
   "execution_count": 51,
   "metadata": {
    "collapsed": false
   },
   "outputs": [
    {
     "data": {
      "text/plain": [
       "True"
      ]
     },
     "execution_count": 51,
     "metadata": {},
     "output_type": "execute_result"
    }
   ],
   "source": [
    "arr.flags.owndata"
   ]
  },
  {
   "cell_type": "code",
   "execution_count": 52,
   "metadata": {
    "collapsed": false
   },
   "outputs": [
    {
     "data": {
      "text/plain": [
       "array([29, 89, 98, 27, 37, 79, 95, 62,  0, 46, 96, 21, 89, 79, 50, 69, 95,\n",
       "       12, 85, 62])"
      ]
     },
     "execution_count": 52,
     "metadata": {},
     "output_type": "execute_result"
    }
   ],
   "source": [
    "arr"
   ]
  },
  {
   "cell_type": "code",
   "execution_count": 54,
   "metadata": {
    "collapsed": false
   },
   "outputs": [],
   "source": [
    "arr[0]=1000"
   ]
  },
  {
   "cell_type": "code",
   "execution_count": 55,
   "metadata": {
    "collapsed": false
   },
   "outputs": [
    {
     "data": {
      "text/plain": [
       "array([1000,   89,   98,   27,   37,   79,   95,   62,    0,   46,   96,\n",
       "         21,   89,   79,   50,   69,   95,   12,   85,   62])"
      ]
     },
     "execution_count": 55,
     "metadata": {},
     "output_type": "execute_result"
    }
   ],
   "source": [
    "arr"
   ]
  },
  {
   "cell_type": "code",
   "execution_count": 56,
   "metadata": {
    "collapsed": false
   },
   "outputs": [
    {
     "data": {
      "text/plain": [
       "array([[1000,   89,   98,   27],\n",
       "       [  37,   79,   95,   62],\n",
       "       [   0,   46,   96,   21],\n",
       "       [  89,   79,   50,   69],\n",
       "       [  95,   12,   85,   62]])"
      ]
     },
     "execution_count": 56,
     "metadata": {},
     "output_type": "execute_result"
    }
   ],
   "source": [
    "arr2"
   ]
  },
  {
   "cell_type": "code",
   "execution_count": 60,
   "metadata": {
    "collapsed": false
   },
   "outputs": [],
   "source": [
    "arr2[::2,::2] = np.arange(6).reshape(3,2)**4"
   ]
  },
  {
   "cell_type": "code",
   "execution_count": 61,
   "metadata": {
    "collapsed": false
   },
   "outputs": [
    {
     "data": {
      "text/plain": [
       "array([[  0,  89,   1,  27],\n",
       "       [ 37,  79,  95,  62],\n",
       "       [ 16,  46,  81,  21],\n",
       "       [ 89,  79,  50,  69],\n",
       "       [256,  12, 625,  62]])"
      ]
     },
     "execution_count": 61,
     "metadata": {},
     "output_type": "execute_result"
    }
   ],
   "source": [
    "arr2"
   ]
  },
  {
   "cell_type": "code",
   "execution_count": 62,
   "metadata": {
    "collapsed": false
   },
   "outputs": [
    {
     "data": {
      "text/plain": [
       "array([  0,  89,   1,  27,  37,  79,  95,  62,  16,  46,  81,  21,  89,\n",
       "        79,  50,  69, 256,  12, 625,  62])"
      ]
     },
     "execution_count": 62,
     "metadata": {},
     "output_type": "execute_result"
    }
   ],
   "source": [
    "arr"
   ]
  },
  {
   "cell_type": "code",
   "execution_count": 63,
   "metadata": {
    "collapsed": false
   },
   "outputs": [
    {
     "data": {
      "text/plain": [
       "array([[  0,  89,   1,  27],\n",
       "       [ 37,  79,  95,  62],\n",
       "       [ 16,  46,  81,  21],\n",
       "       [ 89,  79,  50,  69],\n",
       "       [256,  12, 625,  62]])"
      ]
     },
     "execution_count": 63,
     "metadata": {},
     "output_type": "execute_result"
    }
   ],
   "source": [
    "arr2"
   ]
  },
  {
   "cell_type": "code",
   "execution_count": 64,
   "metadata": {
    "collapsed": false
   },
   "outputs": [
    {
     "data": {
      "text/plain": [
       "numpy.ndarray"
      ]
     },
     "execution_count": 64,
     "metadata": {},
     "output_type": "execute_result"
    }
   ],
   "source": [
    "type(arr2[2:4,1:2])"
   ]
  },
  {
   "cell_type": "code",
   "execution_count": 65,
   "metadata": {
    "collapsed": true
   },
   "outputs": [],
   "source": [
    "### how to combine with conditional??\n",
    "##how to use other values in an elements neighboring cell to change each cell"
   ]
  },
  {
   "cell_type": "code",
   "execution_count": 66,
   "metadata": {
    "collapsed": true
   },
   "outputs": [],
   "source": [
    "arr_small = np.arange(10000,10001)"
   ]
  },
  {
   "cell_type": "code",
   "execution_count": 70,
   "metadata": {
    "collapsed": false
   },
   "outputs": [],
   "source": [
    "arr_small = arr2[2:4,1:2]"
   ]
  },
  {
   "cell_type": "code",
   "execution_count": 71,
   "metadata": {
    "collapsed": true
   },
   "outputs": [],
   "source": [
    "arr_small[:] = np.arange(10000,10001)"
   ]
  },
  {
   "cell_type": "code",
   "execution_count": 72,
   "metadata": {
    "collapsed": false
   },
   "outputs": [
    {
     "data": {
      "text/plain": [
       "array([[    0,    89,     1,    27],\n",
       "       [   37,    79,    95,    62],\n",
       "       [   16, 10000,    81,    21],\n",
       "       [   89, 10000,    50,    69],\n",
       "       [  256,    12,   625,    62]])"
      ]
     },
     "execution_count": 72,
     "metadata": {},
     "output_type": "execute_result"
    }
   ],
   "source": [
    "arr2"
   ]
  },
  {
   "cell_type": "code",
   "execution_count": 73,
   "metadata": {
    "collapsed": true
   },
   "outputs": [],
   "source": [
    "arr3 = arr.reshape(4,5).copy()"
   ]
  },
  {
   "cell_type": "code",
   "execution_count": 74,
   "metadata": {
    "collapsed": false
   },
   "outputs": [
    {
     "data": {
      "text/plain": [
       "array([[    0,    89,     1,    27,    37],\n",
       "       [   79,    95,    62,    16, 10000],\n",
       "       [   81,    21,    89, 10000,    50],\n",
       "       [   69,   256,    12,   625,    62]])"
      ]
     },
     "execution_count": 74,
     "metadata": {},
     "output_type": "execute_result"
    }
   ],
   "source": [
    "arr3"
   ]
  },
  {
   "cell_type": "code",
   "execution_count": 75,
   "metadata": {
    "collapsed": false
   },
   "outputs": [
    {
     "data": {
      "text/plain": [
       "True"
      ]
     },
     "execution_count": 75,
     "metadata": {},
     "output_type": "execute_result"
    }
   ],
   "source": [
    "arr3.flags.owndata"
   ]
  },
  {
   "cell_type": "code",
   "execution_count": null,
   "metadata": {
    "collapsed": true
   },
   "outputs": [],
   "source": []
  }
 ],
 "metadata": {
  "anaconda-cloud": {},
  "kernelspec": {
   "display_name": "Python [conda env:anaconda_training]",
   "language": "python",
   "name": "conda-env-anaconda_training-py"
  },
  "language_info": {
   "codemirror_mode": {
    "name": "ipython",
    "version": 3
   },
   "file_extension": ".py",
   "mimetype": "text/x-python",
   "name": "python",
   "nbconvert_exporter": "python",
   "pygments_lexer": "ipython3",
   "version": "3.5.2"
  }
 },
 "nbformat": 4,
 "nbformat_minor": 0
}
