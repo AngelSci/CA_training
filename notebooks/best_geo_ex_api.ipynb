{
 "cells": [
  {
   "cell_type": "markdown",
   "metadata": {},
   "source": [
    "<img src='img/logo.png'>\n",
    "<img src='img/title.png'>\n",
    "<img src='img/py3k.png'>"
   ]
  },
  {
   "cell_type": "markdown",
   "metadata": {},
   "source": [
    "# Table of Contents\n",
    "* [Learning Objectives](#Learning-Objectives)\n",
    "* [Working with polygons](#Working-with-polygons)\n",
    "\t* [Example: Census tracts](#Example:-Census-tracts)\n",
    "\t* [Visualize the data](#Visualize-the-data)\n",
    "* [Problem: Create function for polygon area](#Problem:-Create-function-for-polygon-area)\n"
   ]
  },
  {
   "cell_type": "markdown",
   "metadata": {},
   "source": [
    "# Learning Objectives"
   ]
  },
  {
   "cell_type": "markdown",
   "metadata": {},
   "source": [
    "* Develop library functions\n",
    "* Find area of polygons\n",
    "* Leverage previously developed code\n",
    "* Work with APIs of external libraries"
   ]
  },
  {
   "cell_type": "markdown",
   "metadata": {},
   "source": [
    "**The series of exercises in the Geospatial series are intended to present a realistically difficult set of development problems.  These exercises might take a half day or more for a class to work on extensively.**"
   ]
  },
  {
   "cell_type": "markdown",
   "metadata": {},
   "source": [
    "# Working with polygons"
   ]
  },
  {
   "cell_type": "markdown",
   "metadata": {},
   "source": [
    "A common way of defining geographic regions is by using polygons to define their bounding edges.  Obviously, this description cannot describe smooth curves at borders, but for most practical purposes, regions are usually defined using this simplification.  Given a region, there are various tasks we might do with it, which will be developed in the next few exercises."
   ]
  },
  {
   "cell_type": "markdown",
   "metadata": {},
   "source": [
    "## Example: Census tracts"
   ]
  },
  {
   "cell_type": "markdown",
   "metadata": {},
   "source": [
    "To illustrate working with shapes, we will use census tracts defined in the [Shapefile](https://en.wikipedia.org/wiki/Shapefile) format.  We will also use the existing library `shapefile.py` to read in the data.  Read the documentation on the [`shapefile`](https://github.com/GeospatialPython/pyshp) module.  \n",
    "\n",
    "We'll play with the datastructures provided by the module in a few cells.  Explore the full API yourself."
   ]
  },
  {
   "cell_type": "code",
   "execution_count": null,
   "metadata": {
    "collapsed": true
   },
   "outputs": [],
   "source": [
    "import src.shapefile as shapefile"
   ]
  },
  {
   "cell_type": "code",
   "execution_count": null,
   "metadata": {
    "collapsed": true
   },
   "outputs": [],
   "source": [
    "# An alternative is\n",
    "# import sys\n",
    "# sys.path.append('src')\n",
    "# import shapefile"
   ]
  },
  {
   "cell_type": "code",
   "execution_count": null,
   "metadata": {
    "collapsed": false
   },
   "outputs": [],
   "source": [
    "# Read in some census tracts for the New Orleans area\n",
    "r = shapefile.Reader(\"data/GIS_CensusTract/GIS_CensusTract_poly\")"
   ]
  },
  {
   "cell_type": "code",
   "execution_count": null,
   "metadata": {
    "collapsed": false
   },
   "outputs": [],
   "source": [
    "r.fields"
   ]
  },
  {
   "cell_type": "code",
   "execution_count": null,
   "metadata": {
    "collapsed": false
   },
   "outputs": [],
   "source": [
    "# Map the field name to their position\n",
    "## A little trial and error shows that'DeletionFlag' in r.fields \n",
    "## is missing in the corresponding r.records() list\n",
    "fields = {}\n",
    "for n, (name, _, _, _) in enumerate(r.fields):\n",
    "    fields[name] = n-1 if n>0 else None\n",
    "fields"
   ]
  },
  {
   "cell_type": "code",
   "execution_count": null,
   "metadata": {
    "collapsed": false
   },
   "outputs": [],
   "source": [
    "# Find the population of one census tract\n",
    "tract = r.records()[17]\n",
    "population = tract[fields['POPULAT10']]\n",
    "tract_id = tract[fields['CENSUST9']]\n",
    "print(\"Tract %s has population %d\" % (tract_id, population))"
   ]
  },
  {
   "cell_type": "markdown",
   "metadata": {},
   "source": [
    "## Visualize the data"
   ]
  },
  {
   "cell_type": "code",
   "execution_count": null,
   "metadata": {
    "collapsed": true
   },
   "outputs": [],
   "source": [
    "%matplotlib inline\n",
    "import numpy as np\n",
    "import matplotlib.pyplot as plt"
   ]
  },
  {
   "cell_type": "code",
   "execution_count": null,
   "metadata": {
    "collapsed": false,
    "scrolled": false
   },
   "outputs": [],
   "source": [
    "with plt.style.context('ggplot'):\n",
    "    shapes = r.shapes()\n",
    "    records = r.records()\n",
    "    rows, cols = 15, 3\n",
    "    fig, ax = plt.subplots(rows, cols, figsize=(15,60), dpi=100)\n",
    "    for colnum, col in enumerate(ax):\n",
    "        for rownum, axis in enumerate(col):\n",
    "            index = rownum + cols*colnum\n",
    "            if index >= len(shapes):\n",
    "                break\n",
    "            x, y = zip(*shapes[index].points)\n",
    "            axis.plot(x, y)\n",
    "            tract_id = records[index][fields['CENSUST9']]\n",
    "            axis.ticklabel_format(useOffset=False)\n",
    "            population = records[index][fields['AREASQKM']]\n",
    "            axis.text(0.6, 0.9, \"$Area: %d km^2$\" % population,  \n",
    "                      transform=axis.transAxes, fontsize=14)\n",
    "            axis.set_title(\"Census tract %s\" % tract_id)\n",
    "    fig.tight_layout();\n",
    "π"
   ]
  },
  {
   "cell_type": "markdown",
   "metadata": {
    "collapsed": true
   },
   "source": [
    "# Problem: Create function for polygon area"
   ]
  },
  {
   "cell_type": "markdown",
   "metadata": {},
   "source": [
    "This problem has a long preface leading up to the library function you will need to create.  We can combine the techniques in the `point_in_poly()` that we implemented in the last exercise with the Monte Carlo simulation technique we looked at in the exercise on Monte Carlo simulation of $\\pi$ to find the area of an arbitrary polygon.\n",
    "\n",
    "For this exercise, you can use the known values published by the US Census Bureau to create unit test for your own code. The Census Bureau defines regions in latitude/longitude, but gives area in square kilometers. Use the best coding practices we have studied in developing your implentation.  Be sure to add additional test cases that are not in the sample set provided.\n",
    "\n",
    "When you design a library function, perhaps called `polygon_area()`, think about the API you would like it to have and would be most versative for later use."
   ]
  },
  {
   "cell_type": "markdown",
   "metadata": {},
   "source": [
    "<img src='img/copyright.png'>"
   ]
  }
 ],
 "metadata": {
  "anaconda-cloud": {},
  "continuum": {
   "depends": [
    "tools_ex_geo1",
    "ip_ex_montecarlo"
   ],
   "requires": [
    "data/GIS_CensusTract/GIS_CensusTract_poly",
    "data/GIS_CensusTract/GIS_CensusTract_poly.*"
   ],
   "tag": "tools_ex_geo2"
  },
  "kernelspec": {
   "display_name": "Python [conda env:anaconda_training]",
   "language": "python",
   "name": "conda-env-anaconda_training-py"
  },
  "language_info": {
   "codemirror_mode": {
    "name": "ipython",
    "version": 3
   },
   "file_extension": ".py",
   "mimetype": "text/x-python",
   "name": "python",
   "nbconvert_exporter": "python",
   "pygments_lexer": "ipython3",
   "version": "3.4.5"
  }
 },
 "nbformat": 4,
 "nbformat_minor": 0
}
