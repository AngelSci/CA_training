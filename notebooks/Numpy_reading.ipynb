{
 "cells": [
  {
   "cell_type": "markdown",
   "metadata": {},
   "source": [
    "<img src='img/logo.png' />"
   ]
  },
  {
   "cell_type": "markdown",
   "metadata": {},
   "source": [
    "<img src='img/title.png'>"
   ]
  },
  {
   "cell_type": "markdown",
   "metadata": {},
   "source": [
    "<img src='img/py3k.png'>"
   ]
  },
  {
   "cell_type": "markdown",
   "metadata": {},
   "source": [
    "# Table of Contents\n",
    "* [Learning Objectives](#Learning-Objectives)\n",
    "\t* [Some Simple Setup](#Some-Simple-Setup)\n",
    "\t* [Compound Data:  Structured Arrays / Record Arrays:  `np.record`](#Compound-Data:--Structured-Arrays-/-Record-Arrays:--np.record)\n",
    "* [DataFrames](#DataFrames)\n",
    "* [IO on arrays](#IO-on-arrays)\n",
    "* [Learning Objectives:](#Learning-Objectives:)\n",
    "* [Exercise:  Data I/O](#Exercise:--Data-I/O)\n",
    "\t* [Some Simple Setup](#Some-Simple-Setup)\n",
    "\t* [CSV Data](#CSV-Data)"
   ]
  },
  {
   "cell_type": "markdown",
   "metadata": {},
   "source": [
    "# Learning Objectives"
   ]
  },
  {
   "cell_type": "markdown",
   "metadata": {},
   "source": [
    "After completion of this module, learners should be able to:\n",
    "\n",
    "* Usage of `np.record` data type."
   ]
  },
  {
   "cell_type": "markdown",
   "metadata": {},
   "source": [
    "## Some Simple Setup"
   ]
  },
  {
   "cell_type": "code",
   "execution_count": null,
   "metadata": {
    "collapsed": true
   },
   "outputs": [],
   "source": [
    "%matplotlib inline\n",
    "\n",
    "import numpy as np\n",
    "import matplotlib.pyplot as plt\n",
    "import os.path as osp\n",
    "import numpy.random as npr\n",
    "vsep = \"\\n-------------------\\n\"\n",
    "\n",
    "def dump_array(arr):\n",
    "    print(\"%s array of %s:\" % (arr.shape, arr.dtype))\n",
    "    print(arr)"
   ]
  },
  {
   "cell_type": "markdown",
   "metadata": {},
   "source": [
    "## Compound Data:  Structured Arrays / Record Arrays:  `np.record`"
   ]
  },
  {
   "cell_type": "markdown",
   "metadata": {},
   "source": [
    "NumPy arrays have elements with a single type.  But, that type can be a compound type (i.e., a record or a struct).\n",
    "\n",
    "Two main recommended ways of specifying type codes:\n",
    "  \n",
    "  * b1, i1, i2, i4, i8, u1, u2, u4, u8, f2, f4, f8, c8, c16, a&lt;n&gt;\n",
    "   (bytes, ints, unsigned ints, floats, complex and fixed length strings of a given *byte* lengths)\n",
    "  * int8,...,uint8,...,float16, float32, float64, complex64, complex128\n",
    "   (similar but with *bit* sizes)"
   ]
  },
  {
   "cell_type": "code",
   "execution_count": null,
   "metadata": {
    "collapsed": true
   },
   "outputs": [],
   "source": [
    "# a record with a 4 byte int, a 4 byte float, \n",
    "# and 10 bytes of characters (ascii values)\n",
    "x = np.zeros((2,), dtype=('i4,f4,a10'))\n",
    "print(x)\n",
    "print(repr(x), end=vsep)\n",
    "\n",
    "x[:] = [(1, 5., 'Hello'), (2, 6., 'World')]\n",
    "print(x)\n",
    "print(repr(x), end=vsep)\n",
    "\n",
    "print(\"a field:\")\n",
    "print(x['f1'])\n",
    "print(repr(x['f1']))"
   ]
  },
  {
   "cell_type": "code",
   "execution_count": null,
   "metadata": {
    "collapsed": true
   },
   "outputs": [],
   "source": [
    "%%file tmp/patient-records.csv\n",
    "name,date,weight(kg),height(cm)\n",
    "Mark,2011-01-01,86.1,180\n",
    "Barb,2012-02-03,65.7,167\n",
    "Ethan,2013-04-06,29.45,127"
   ]
  },
  {
   "cell_type": "code",
   "execution_count": null,
   "metadata": {
    "collapsed": true
   },
   "outputs": [],
   "source": [
    "patient_dtype = [(\"name\", \"a10\"),\n",
    "                 (\"visit_date\", 'datetime64[D]'),\n",
    "                 (\"weight\", np.float),\n",
    "                 (\"height\", np.int)]\n",
    "data = np.loadtxt(\"tmp/patient-records.csv\", \n",
    "                  skiprows=1, \n",
    "                  delimiter=\",\", \n",
    "                  dtype=patient_dtype,\n",
    "                  converters = {1: np.datetime64})\n",
    "\n",
    "print(\"first row: \", data[0])\n",
    "print(\"all weights: \", data['weight'])\n",
    "\n",
    "# BMI = kg / m**2\n",
    "print(\"BMIs:\", data['weight'] / (data['height']/100.0)**2)"
   ]
  },
  {
   "cell_type": "markdown",
   "metadata": {},
   "source": [
    "# DataFrames"
   ]
  },
  {
   "cell_type": "markdown",
   "metadata": {},
   "source": [
    "``recarrays`` are row-oriented, with multiple dtypes per row\n",
    "\n",
    "``DataFrames`` are column-oriented with multiple dtypes per row\n",
    "\n",
    "This leads to much more efficient storage patterns as acccess is typicall by the *column*"
   ]
  },
  {
   "cell_type": "code",
   "execution_count": null,
   "metadata": {
    "collapsed": true
   },
   "outputs": [],
   "source": [
    "df = pd.DataFrame.from_records(data)\n",
    "df"
   ]
  },
  {
   "cell_type": "code",
   "execution_count": null,
   "metadata": {
    "collapsed": true
   },
   "outputs": [],
   "source": [
    "df.dtypes"
   ]
  },
  {
   "cell_type": "code",
   "execution_count": null,
   "metadata": {
    "collapsed": true
   },
   "outputs": [],
   "source": [
    "print(\"first row:\\n\", df.loc[0], \"\\n\")\n",
    "print(\"all weights:\\n\", df['weight'], \"\\n\")\n",
    "\n",
    "# BMI = kg / m**2\n",
    "print(\"BMIs:\\n\", df['weight'] / (df['height']/100.0)**2)"
   ]
  },
  {
   "cell_type": "markdown",
   "metadata": {},
   "source": [
    "# IO on arrays"
   ]
  },
  {
   "cell_type": "markdown",
   "metadata": {},
   "source": [
    "We can also save and load arrays"
   ]
  },
  {
   "cell_type": "code",
   "execution_count": null,
   "metadata": {
    "collapsed": true
   },
   "outputs": [],
   "source": [
    "#saving / load data\n",
    "np.savez('tmp/data.npz',data=data) # list of arrays to store\n",
    "dataz = np.load('tmp/data.npz')\n",
    "\n",
    "print(dataz.files)     # list of arrays stored in this archive\n",
    "print(dataz['data'])"
   ]
  },
  {
   "cell_type": "code",
   "execution_count": null,
   "metadata": {
    "collapsed": true
   },
   "outputs": [],
   "source": [
    "# cleanup\n",
    "!rm tmp/data.npz"
   ]
  },
  {
   "cell_type": "markdown",
   "metadata": {},
   "source": [
    "# Learning Objectives:"
   ]
  },
  {
   "cell_type": "markdown",
   "metadata": {},
   "source": [
    "After completion of this module, learners should be able to:\n",
    "\n",
    "* import data from a comma-separated values (CSV) file directly into a `numpy` ndarray"
   ]
  },
  {
   "cell_type": "markdown",
   "metadata": {},
   "source": [
    "# Exercise:  Data I/O"
   ]
  },
  {
   "cell_type": "markdown",
   "metadata": {},
   "source": [
    "## Some Simple Setup"
   ]
  },
  {
   "cell_type": "code",
   "execution_count": null,
   "metadata": {
    "collapsed": true
   },
   "outputs": [],
   "source": [
    "%matplotlib inline\n",
    "\n",
    "import numpy as np\n",
    "import matplotlib.pyplot as plt\n",
    "import os.path as osp\n",
    "import numpy.random as npr\n",
    "vsep = \"\\n-------------------\\n\"\n",
    "\n",
    "def dump_array(arr):\n",
    "    print(\"%s array of %s:\" % (arr.shape, arr.dtype))\n",
    "    print(arr)"
   ]
  },
  {
   "cell_type": "markdown",
   "metadata": {},
   "source": [
    "## CSV Data"
   ]
  },
  {
   "cell_type": "markdown",
   "metadata": {},
   "source": [
    "Using the code snippet below to grab some stock market data from Yahoo, read the data into an array of appropriately structured records.  The data grabbed is for all of 2013.  Find the highest high and the lowest low for your ticker symbol.  For extra credit, graph the daily closes.\n",
    "\n",
    "Use `help(np.genfromtxt)` or `help(np.recfromcsv)` to get the correct arguments to read the data correctly."
   ]
  },
  {
   "cell_type": "code",
   "execution_count": null,
   "metadata": {
    "collapsed": true
   },
   "outputs": [],
   "source": [
    "try:\n",
    "    from urllib.request import urlretrieve\n",
    "except ImportError:\n",
    "    from urllib import urlretrieve # Python 2.7\n",
    "sym = \"GE\"\n",
    "\n",
    "base_url = \"http://ichart.finance.yahoo.com/table.csv?\"\n",
    "url_args = \"s=%s&d=11&e=31&f=2013&g=d&a=0&b=2&c=2013&ignore=.csv\"\n",
    "quote_url = base_url + url_args\n",
    "\n",
    "urlretrieve(quote_url % sym, \"tmp/\"+sym+\".csv\")"
   ]
  },
  {
   "cell_type": "code",
   "execution_count": null,
   "metadata": {
    "collapsed": true
   },
   "outputs": [],
   "source": [
    "# note, on unix-heritage boxes, you can use head and tail \n",
    "# to glance at the data\n",
    "!head -5 tmp/GE.csv\n",
    "print(\"...\")\n",
    "!tail -5 tmp/GE.csv"
   ]
  },
  {
   "cell_type": "markdown",
   "metadata": {},
   "source": [
    "<img src='img/copyright.png'>"
   ]
  }
 ],
 "metadata": {
  "kernelspec": {
   "display_name": "Python [conda env:anaconda_training]",
   "language": "python",
   "name": "conda-env-anaconda_training-py"
  },
  "language_info": {
   "codemirror_mode": {
    "name": "ipython",
    "version": 3
   },
   "file_extension": ".py",
   "mimetype": "text/x-python",
   "name": "python",
   "nbconvert_exporter": "python",
   "pygments_lexer": "ipython3",
   "version": "3.5.2"
  }
 },
 "nbformat": 4,
 "nbformat_minor": 0
}
