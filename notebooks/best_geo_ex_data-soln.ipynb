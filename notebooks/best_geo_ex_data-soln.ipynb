{
 "cells": [
  {
   "cell_type": "markdown",
   "metadata": {},
   "source": [
    "<img src='img/logo.png'>\n",
    "<img src='img/title.png'>\n",
    "<img src='img/py3k.png'>"
   ]
  },
  {
   "cell_type": "markdown",
   "metadata": {},
   "source": [
    "# Table of Contents\n",
    "* [Learning Objectives](#Learning-Objectives)\n",
    "* [Working with US County polygons](#Working-with-US-County-polygons)\n",
    "* [Problem: Parsing a custom data format](#Problem:-Parsing-a-custom-data-format)\n",
    "\t* [Pedantic style policy](#Pedantic-style-policy)\n",
    "\t* [Read the large dataset](#Read-the-large-dataset)\n",
    "\t* [Dealing with flawed data](#Dealing-with-flawed-data)\n",
    "\t\t* [Flaws in sample data](#Flaws-in-sample-data)\n"
   ]
  },
  {
   "cell_type": "markdown",
   "metadata": {},
   "source": [
    "# Learning Objectives"
   ]
  },
  {
   "cell_type": "markdown",
   "metadata": {},
   "source": [
    "* Read novel data formats\n",
    "* Develop library code\n",
    "* Write well-structured code"
   ]
  },
  {
   "cell_type": "markdown",
   "metadata": {},
   "source": [
    "**The series of exercises in the Geospatial series are intended to present a realistically difficult set of development problems.  These exercises might take a half day or more for a class to work on extensively.**"
   ]
  },
  {
   "cell_type": "markdown",
   "metadata": {},
   "source": [
    "# Working with US County polygons"
   ]
  },
  {
   "cell_type": "markdown",
   "metadata": {},
   "source": [
    "We have a data file with polygons defining US county borders. This format is different from that used for census tracts that we looked at in the previous exercise.  We'd like to be able to read this format into our preferred represenation of polygons that is used by other library functions.\n",
    "\n",
    "First, let us eyeball the format in question."
   ]
  },
  {
   "cell_type": "code",
   "execution_count": 120,
   "metadata": {
    "collapsed": false,
    "scrolled": false
   },
   "outputs": [
    {
     "name": "stdout",
     "output_type": "stream",
     "text": [
      "3250\n"
     ]
    },
    {
     "data": {
      "text/plain": [
       "['County Name,State-County,state abbr,State Abbr.,geometry,value,GEO_ID,GEO_ID2,Geographic Name,STATE num,COUNTY num,FIPS formula,Has error\\n',\n",
       " 'Autauga,AL-Autauga,al,AL,\"<Polygon><outerBoundaryIs><LinearRing><coordinates>-86.41182,32.4757 -86.41177,32.46599 -86.41167,32.45054 -86.41157,32.44245 -86.41154,32.43993 -86.41138,32.42573 -86.41135,32.42417 -86.41128,32.42185 -86.41117,32.41017 -86.41117,32.40994 -86.41615,32.4072 -86.43178,32.40132 -86.43926,32.40025 -86.44653,32.40036 -86.45876,32.40573 -86.4612,32.40285 -86.46247,32.38769 -86.46356,32.37729 -86.46836,32.37368 -86.47092,32.37136 -86.47306,32.36874 -86.47476,32.36588 -86.47777,32.36418 -86.48023,32.36497 -86.48342,32.36667 -86.4871,32.36674 -86.49047,32.36532 -86.49265,32.36286 -86.49263,32.36032 -86.49181,32.35787 -86.4908,32.35513 -86.48994,32.35264 -86.4899,32.34985 -86.49071,32.34705 -86.49308,32.34509 -86.49637,32.34451 -86.49677,32.34444 -86.49697,32.34441 -86.51978,32.34039 -86.54242,32.36286 -86.56658,32.37296 -86.58826,32.36775 -86.61646,32.38072 -86.61548,32.40307 -86.62671,32.40372 -86.64956,32.40055 -86.65426,32.37904 -86.66333,32.36937 -86.67726,32.35659 -86.68276,32.35356 -86.69448,32.35677 -86.71309,32.36186 -86.71624,32.36921 -86.71982,32.3884 -86.71721,32.40129 -86.73083,32.40061 -86.75543,32.38914 -86.78214,32.39047 -86.78238,32.37337 -86.7843,32.32449 -86.80352,32.30819 -86.82039,32.3184 -86.81563,32.3402 -86.81491,32.3408 -86.81229,32.34299 -86.81294,32.36582 -86.8318,32.38605 -86.8411,32.41849 -86.83652,32.4304 -86.85357,32.43893 -86.86242,32.43869 -86.86415,32.44592 -86.86997,32.4606 -86.87364,32.47188 -86.88497,32.48191 -86.88087,32.48886 -86.88465,32.49656 -86.89084,32.5124 -86.89979,32.52588 -86.90667,32.53685 -86.90521,32.54915 -86.90023,32.55933 -86.89905,32.57819 -86.90385,32.59242 -86.90759,32.60835 -86.91163,32.62085 -86.9119,32.63178 -86.9185,32.64452 -86.91827,32.65322 -86.91767,32.66411 -86.91759,32.66417 -86.91757,32.66417 -86.91241,32.66425 -86.8929,32.66343 -86.87358,32.66258 -86.84557,32.66137 -86.83382,32.66082 -86.81764,32.66016 -86.81319,32.66017 -86.78767,32.66052 -86.74998,32.66098 -86.72508,32.66159 -86.71349,32.66738 -86.71257,32.70574 -86.66704,32.70609 -86.63189,32.70633 -86.61778,32.70629 -86.60783,32.70632 -86.59515,32.70653 -86.57015,32.70678 -86.52944,32.70704 -86.4963,32.7073 -86.48468,32.7076 -86.47197,32.70778 -86.46803,32.70786 -86.45035,32.70809 -86.41583,32.70747 -86.41312,32.70739 -86.413,32.67818 -86.41298,32.67406 -86.41261,32.61636 -86.4125,32.58942 -86.41244,32.57816 -86.41234,32.55023 -86.41226,32.53344 -86.41223,32.52876 -86.4122,32.52668 -86.4123,32.52082 -86.41231,32.51273 -86.41234,32.50446 -86.4122,32.50006 -86.41212,32.49626 -86.41197,32.49065 -86.41197,32.48577 -86.41187,32.48112</coordinates></LinearRing></outerBoundaryIs></Polygon>\",126.4044923,05000US01001,1001,\"Autauga County, Alabama\",1,1,1001.0,\\n']"
      ]
     },
     "execution_count": 120,
     "metadata": {},
     "output_type": "execute_result"
    }
   ],
   "source": [
    "counties = open('data/US_Counties.csv').readlines()\n",
    "print(len(counties))\n",
    "counties[:2]"
   ]
  },
  {
   "cell_type": "markdown",
   "metadata": {},
   "source": [
    "# Problem: Parsing a custom data format"
   ]
  },
  {
   "cell_type": "markdown",
   "metadata": {},
   "source": [
    "Write a custom function `read_county_data()` that reads this format and stores all the information in well-chosen data structures. You can see that the format of county borders is a kind of CSV data, with fragments of XML embedded inside of it.  Outside the XML fragment is various other data about the county being described by the boundary.  \n",
    "\n",
    "As test cases to your code, draw some visualizations of the county boundaries in the file to assure yourself they look sensible.  As a further unit test, lookup the area of some counties using internet searches, and verify that the `polygon_area()` function you wrote in a previous exercise gives consistent results with the generally published reports of the size of counties."
   ]
  },
  {
   "cell_type": "code",
   "execution_count": null,
   "metadata": {
    "collapsed": false
   },
   "outputs": [],
   "source": [
    "%load src/read_counties.py"
   ]
  },
  {
   "cell_type": "markdown",
   "metadata": {},
   "source": [
    "## Pedantic style policy"
   ]
  },
  {
   "cell_type": "markdown",
   "metadata": {},
   "source": [
    "It is not necessarily a bad idea to use `pep8` or similar tools to assure compliance with Python style guides.  The above sample code passes this test with no complaints."
   ]
  },
  {
   "cell_type": "code",
   "execution_count": 145,
   "metadata": {
    "collapsed": true
   },
   "outputs": [],
   "source": [
    "!pep8 src/read_counties.py"
   ]
  },
  {
   "cell_type": "markdown",
   "metadata": {},
   "source": [
    "## Read the large dataset"
   ]
  },
  {
   "cell_type": "markdown",
   "metadata": {},
   "source": [
    "Notice that there are a few consistency issues in this sample data.  What do we want to do to remediate these issues?"
   ]
  },
  {
   "cell_type": "code",
   "execution_count": 139,
   "metadata": {
    "collapsed": false
   },
   "outputs": [
    {
     "name": "stderr",
     "output_type": "stream",
     "text": [
      "/Users/dmertz/anaconda/envs/anaconda_training/lib/python3.4/site-packages/ipykernel/__main__.py:49: UserWarning: Duplicate county information found on line 1215(1194): ('MD', 'Baltimore')\n",
      "/Users/dmertz/anaconda/envs/anaconda_training/lib/python3.4/site-packages/ipykernel/__main__.py:49: UserWarning: Duplicate county information found on line 1596(1582): ('MO', 'St. Louis')\n",
      "/Users/dmertz/anaconda/envs/anaconda_training/lib/python3.4/site-packages/ipykernel/__main__.py:49: UserWarning: Duplicate county information found on line 2937(2829): ('VA', 'Bedford')\n",
      "/Users/dmertz/anaconda/envs/anaconda_training/lib/python3.4/site-packages/ipykernel/__main__.py:49: UserWarning: Duplicate county information found on line 2941(2853): ('VA', 'Fairfax')\n",
      "/Users/dmertz/anaconda/envs/anaconda_training/lib/python3.4/site-packages/ipykernel/__main__.py:49: UserWarning: Duplicate county information found on line 2943(2857): ('VA', 'Franklin')\n",
      "/Users/dmertz/anaconda/envs/anaconda_training/lib/python3.4/site-packages/ipykernel/__main__.py:49: UserWarning: Duplicate county information found on line 2950(2911): ('VA', 'Richmond')\n",
      "/Users/dmertz/anaconda/envs/anaconda_training/lib/python3.4/site-packages/ipykernel/__main__.py:49: UserWarning: Duplicate county information found on line 2951(2912): ('VA', 'Roanoke')\n"
     ]
    }
   ],
   "source": [
    "counties = read_county_data('data/US_Counties.csv')"
   ]
  },
  {
   "cell_type": "code",
   "execution_count": 153,
   "metadata": {
    "collapsed": false
   },
   "outputs": [
    {
     "data": {
      "text/plain": [
       "{(Coord(lon=-118.3289, lat=32.87504),\n",
       "  Coord(lon=-118.32571, lat=32.87173),\n",
       "  Coord(lon=-118.31739, lat=32.86376),\n",
       "  Coord(lon=-118.30489, lat=32.85346),\n",
       "  Coord(lon=-118.2924, lat=32.83639),\n",
       "  Coord(lon=-118.28878, lat=32.82083),\n",
       "  Coord(lon=-118.2899, lat=32.81053),\n",
       "  Coord(lon=-118.29584, lat=32.79826),\n",
       "  Coord(lon=-118.30285, lat=32.78885),\n",
       "  Coord(lon=-118.31853, lat=32.7768),\n",
       "  Coord(lon=-118.33197, lat=32.77057),\n",
       "  Coord(lon=-118.35349, lat=32.76581),\n",
       "  Coord(lon=-118.36427, lat=32.76708),\n",
       "  Coord(lon=-118.37386, lat=32.76885),\n",
       "  Coord(lon=-118.37838, lat=32.77023),\n",
       "  Coord(lon=-118.3812, lat=32.76808),\n",
       "  Coord(lon=-118.38535, lat=32.76356),\n",
       "  Coord(lon=-118.39256, lat=32.7585),\n",
       "  Coord(lon=-118.39952, lat=32.75523),\n",
       "  Coord(lon=-118.40832, lat=32.75191),\n",
       "  Coord(lon=-118.4162, lat=32.75059),\n",
       "  Coord(lon=-118.43654, lat=32.75004),\n",
       "  Coord(lon=-118.44091, lat=32.75103),\n",
       "  Coord(lon=-118.45381, lat=32.75511),\n",
       "  Coord(lon=-118.46471, lat=32.76018),\n",
       "  Coord(lon=-118.47391, lat=32.76682),\n",
       "  Coord(lon=-118.48167, lat=32.77472),\n",
       "  Coord(lon=-118.48497, lat=32.77916),\n",
       "  Coord(lon=-118.49421, lat=32.7855),\n",
       "  Coord(lon=-118.50091, lat=32.79203),\n",
       "  Coord(lon=-118.50765, lat=32.79688),\n",
       "  Coord(lon=-118.51581, lat=32.79957),\n",
       "  Coord(lon=-118.52481, lat=32.80472),\n",
       "  Coord(lon=-118.53178, lat=32.80876),\n",
       "  Coord(lon=-118.5382, lat=32.81277),\n",
       "  Coord(lon=-118.54673, lat=32.82068),\n",
       "  Coord(lon=-118.55319, lat=32.8288),\n",
       "  Coord(lon=-118.55714, lat=32.83735),\n",
       "  Coord(lon=-118.56253, lat=32.84944),\n",
       "  Coord(lon=-118.56735, lat=32.85456),\n",
       "  Coord(lon=-118.57505, lat=32.86573),\n",
       "  Coord(lon=-118.58132, lat=32.87152),\n",
       "  Coord(lon=-118.58794, lat=32.87884),\n",
       "  Coord(lon=-118.59114, lat=32.88383),\n",
       "  Coord(lon=-118.59693, lat=32.89047),\n",
       "  Coord(lon=-118.60352, lat=32.90356),\n",
       "  Coord(lon=-118.60433, lat=32.9066),\n",
       "  Coord(lon=-118.60552, lat=32.91243),\n",
       "  Coord(lon=-118.60547, lat=32.9182),\n",
       "  Coord(lon=-118.60817, lat=32.92612),\n",
       "  Coord(lon=-118.61079, lat=32.92931),\n",
       "  Coord(lon=-118.6186, lat=32.93685),\n",
       "  Coord(lon=-118.62592, lat=32.94723),\n",
       "  Coord(lon=-118.62957, lat=32.95363),\n",
       "  Coord(lon=-118.63387, lat=32.96221),\n",
       "  Coord(lon=-118.63649, lat=32.96909),\n",
       "  Coord(lon=-118.63771, lat=32.97536),\n",
       "  Coord(lon=-118.64049, lat=32.98261),\n",
       "  Coord(lon=-118.64343, lat=32.99284),\n",
       "  Coord(lon=-118.64433, lat=32.99777),\n",
       "  Coord(lon=-118.67017, lat=33.00003),\n",
       "  Coord(lon=-118.67484, lat=33.01214),\n",
       "  Coord(lon=-118.67855, lat=33.02636),\n",
       "  Coord(lon=-118.6756, lat=33.04935),\n",
       "  Coord(lon=-118.66385, lat=33.06685),\n",
       "  Coord(lon=-118.6413, lat=33.08188),\n",
       "  Coord(lon=-118.62592, lat=33.08566),\n",
       "  Coord(lon=-118.60834, lat=33.08632),\n",
       "  Coord(lon=-118.58953, lat=33.08711),\n",
       "  Coord(lon=-118.56492, lat=33.08222),\n",
       "  Coord(lon=-118.55263, lat=33.07863),\n",
       "  Coord(lon=-118.53419, lat=33.06786),\n",
       "  Coord(lon=-118.51497, lat=33.04989),\n",
       "  Coord(lon=-118.50766, lat=33.03788),\n",
       "  Coord(lon=-118.50091, lat=33.03059),\n",
       "  Coord(lon=-118.49113, lat=33.01792),\n",
       "  Coord(lon=-118.48714, lat=33.00818),\n",
       "  Coord(lon=-118.48475, lat=33.00462),\n",
       "  Coord(lon=-118.48141, lat=33.00003),\n",
       "  Coord(lon=-118.47779, lat=32.99577),\n",
       "  Coord(lon=-118.47119, lat=32.98912),\n",
       "  Coord(lon=-118.46018, lat=32.97525),\n",
       "  Coord(lon=-118.45454, lat=32.96796),\n",
       "  Coord(lon=-118.44886, lat=32.96175),\n",
       "  Coord(lon=-118.44215, lat=32.95795),\n",
       "  Coord(lon=-118.42769, lat=32.94958),\n",
       "  Coord(lon=-118.41874, lat=32.94211),\n",
       "  Coord(lon=-118.41127, lat=32.93646),\n",
       "  Coord(lon=-118.40604, lat=32.93179),\n",
       "  Coord(lon=-118.39079, lat=32.91784),\n",
       "  Coord(lon=-118.38644, lat=32.91508),\n",
       "  Coord(lon=-118.38157, lat=32.91185),\n",
       "  Coord(lon=-118.37762, lat=32.9096),\n",
       "  Coord(lon=-118.37591, lat=32.90869),\n",
       "  Coord(lon=-118.36992, lat=32.90507),\n",
       "  Coord(lon=-118.36252, lat=32.90012),\n",
       "  Coord(lon=-118.35639, lat=32.89449),\n",
       "  Coord(lon=-118.35031, lat=32.88968),\n",
       "  Coord(lon=-118.34358, lat=32.88443),\n",
       "  Coord(lon=-118.33746, lat=32.87975),\n",
       "  Coord(lon=-118.33197, lat=32.87678)),\n",
       " (Coord(lon=-118.30868, lat=33.41669),\n",
       "  Coord(lon=-118.30713, lat=33.40972),\n",
       "  Coord(lon=-118.3041, lat=33.40363),\n",
       "  Coord(lon=-118.28581, lat=33.38984),\n",
       "  Coord(lon=-118.27721, lat=33.38074),\n",
       "  Coord(lon=-118.26818, lat=33.37502),\n",
       "  Coord(lon=-118.25771, lat=33.36413),\n",
       "  Coord(lon=-118.25138, lat=33.3534),\n",
       "  Coord(lon=-118.2451, lat=33.33834),\n",
       "  Coord(lon=-118.24105, lat=33.31303),\n",
       "  Coord(lon=-118.24594, lat=33.29106),\n",
       "  Coord(lon=-118.2509, lat=33.28046),\n",
       "  Coord(lon=-118.25918, lat=33.2725),\n",
       "  Coord(lon=-118.2807, lat=33.25909),\n",
       "  Coord(lon=-118.30284, lat=33.251),\n",
       "  Coord(lon=-118.30872, lat=33.25003),\n",
       "  Coord(lon=-118.31862, lat=33.24847),\n",
       "  Coord(lon=-118.33475, lat=33.24861),\n",
       "  Coord(lon=-118.34377, lat=33.25003),\n",
       "  Coord(lon=-118.36331, lat=33.25507),\n",
       "  Coord(lon=-118.38149, lat=33.2623),\n",
       "  Coord(lon=-118.38913, lat=33.2652),\n",
       "  Coord(lon=-118.40256, lat=33.26794),\n",
       "  Coord(lon=-118.42752, lat=33.26596),\n",
       "  Coord(lon=-118.44046, lat=33.26746),\n",
       "  Coord(lon=-118.47146, lat=33.27289),\n",
       "  Coord(lon=-118.50091, lat=33.28407),\n",
       "  Coord(lon=-118.51039, lat=33.28966),\n",
       "  Coord(lon=-118.53488, lat=33.31518),\n",
       "  Coord(lon=-118.54252, lat=33.33105),\n",
       "  Coord(lon=-118.54961, lat=33.35065),\n",
       "  Coord(lon=-118.55119, lat=33.36935),\n",
       "  Coord(lon=-118.54858, lat=33.37503),\n",
       "  Coord(lon=-118.55338, lat=33.38023),\n",
       "  Coord(lon=-118.56363, lat=33.38103),\n",
       "  Coord(lon=-118.59108, lat=33.39087),\n",
       "  Coord(lon=-118.61857, lat=33.40619),\n",
       "  Coord(lon=-118.62592, lat=33.41507),\n",
       "  Coord(lon=-118.63694, lat=33.42868),\n",
       "  Coord(lon=-118.65506, lat=33.44531),\n",
       "  Coord(lon=-118.66592, lat=33.46733),\n",
       "  Coord(lon=-118.6682, lat=33.48594),\n",
       "  Coord(lon=-118.66371, lat=33.50002),\n",
       "  Coord(lon=-118.65992, lat=33.50576),\n",
       "  Coord(lon=-118.65573, lat=33.51082),\n",
       "  Coord(lon=-118.64786, lat=33.51821),\n",
       "  Coord(lon=-118.6384, lat=33.52403),\n",
       "  Coord(lon=-118.62592, lat=33.52898),\n",
       "  Coord(lon=-118.61216, lat=33.53185),\n",
       "  Coord(lon=-118.59976, lat=33.53232),\n",
       "  Coord(lon=-118.58972, lat=33.53198),\n",
       "  Coord(lon=-118.58582, lat=33.53088),\n",
       "  Coord(lon=-118.57914, lat=33.52841),\n",
       "  Coord(lon=-118.57529, lat=33.52926),\n",
       "  Coord(lon=-118.57152, lat=33.52947),\n",
       "  Coord(lon=-118.56719, lat=33.52948),\n",
       "  Coord(lon=-118.56317, lat=33.52929),\n",
       "  Coord(lon=-118.55775, lat=33.52833),\n",
       "  Coord(lon=-118.55502, lat=33.52921),\n",
       "  Coord(lon=-118.55093, lat=33.53019),\n",
       "  Coord(lon=-118.5466, lat=33.53084),\n",
       "  Coord(lon=-118.53894, lat=33.53126),\n",
       "  Coord(lon=-118.53364, lat=33.53144),\n",
       "  Coord(lon=-118.52938, lat=33.53118),\n",
       "  Coord(lon=-118.52324, lat=33.53015),\n",
       "  Coord(lon=-118.51765, lat=33.52869),\n",
       "  Coord(lon=-118.51238, lat=33.52692),\n",
       "  Coord(lon=-118.50676, lat=33.52491),\n",
       "  Coord(lon=-118.50261, lat=33.52267),\n",
       "  Coord(lon=-118.50091, lat=33.52163),\n",
       "  Coord(lon=-118.49671, lat=33.51837),\n",
       "  Coord(lon=-118.49333, lat=33.51573),\n",
       "  Coord(lon=-118.48788, lat=33.51614),\n",
       "  Coord(lon=-118.48262, lat=33.51606),\n",
       "  Coord(lon=-118.47728, lat=33.51543),\n",
       "  Coord(lon=-118.46896, lat=33.513),\n",
       "  Coord(lon=-118.46285, lat=33.51043),\n",
       "  Coord(lon=-118.45682, lat=33.50687),\n",
       "  Coord(lon=-118.4522, lat=33.50339),\n",
       "  Coord(lon=-118.44755, lat=33.50002),\n",
       "  Coord(lon=-118.43683, lat=33.48944),\n",
       "  Coord(lon=-118.43243, lat=33.48894),\n",
       "  Coord(lon=-118.42709, lat=33.48716),\n",
       "  Coord(lon=-118.42287, lat=33.48387),\n",
       "  Coord(lon=-118.42084, lat=33.48178),\n",
       "  Coord(lon=-118.41187, lat=33.48078),\n",
       "  Coord(lon=-118.40323, lat=33.47927),\n",
       "  Coord(lon=-118.39513, lat=33.47671),\n",
       "  Coord(lon=-118.38939, lat=33.47449),\n",
       "  Coord(lon=-118.38605, lat=33.47345),\n",
       "  Coord(lon=-118.37798, lat=33.47157),\n",
       "  Coord(lon=-118.37591, lat=33.4711),\n",
       "  Coord(lon=-118.36922, lat=33.469),\n",
       "  Coord(lon=-118.35939, lat=33.46492),\n",
       "  Coord(lon=-118.35255, lat=33.45938),\n",
       "  Coord(lon=-118.35092, lat=33.45782),\n",
       "  Coord(lon=-118.34206, lat=33.45388),\n",
       "  Coord(lon=-118.33277, lat=33.44804),\n",
       "  Coord(lon=-118.32465, lat=33.44198),\n",
       "  Coord(lon=-118.31635, lat=33.43414),\n",
       "  Coord(lon=-118.31095, lat=33.42514)),\n",
       " (Coord(lon=-117.6846, lat=34.14876),\n",
       "  Coord(lon=-117.70429, lat=34.09505),\n",
       "  Coord(lon=-117.71181, lat=34.07783),\n",
       "  Coord(lon=-117.72072, lat=34.05619),\n",
       "  Coord(lon=-117.72865, lat=34.0299),\n",
       "  Coord(lon=-117.74506, lat=34.01997),\n",
       "  Coord(lon=-117.76769, lat=34.02367),\n",
       "  Coord(lon=-117.7912, lat=33.99496),\n",
       "  Coord(lon=-117.7844, lat=33.94721),\n",
       "  Coord(lon=-117.78341, lat=33.9465),\n",
       "  Coord(lon=-117.7942, lat=33.94654),\n",
       "  Coord(lon=-117.84442, lat=33.94652),\n",
       "  Coord(lon=-117.90365, lat=33.94584),\n",
       "  Coord(lon=-117.92758, lat=33.94602),\n",
       "  Coord(lon=-117.9533, lat=33.94591),\n",
       "  Coord(lon=-117.97648, lat=33.94576),\n",
       "  Coord(lon=-117.97651, lat=33.93966),\n",
       "  Coord(lon=-117.97652, lat=33.93348),\n",
       "  Coord(lon=-117.9765, lat=33.91917),\n",
       "  Coord(lon=-117.9853, lat=33.89925),\n",
       "  Coord(lon=-117.9941, lat=33.89133),\n",
       "  Coord(lon=-118.00281, lat=33.88566),\n",
       "  Coord(lon=-118.01139, lat=33.87821),\n",
       "  Coord(lon=-118.01824, lat=33.87341),\n",
       "  Coord(lon=-118.03254, lat=33.8662),\n",
       "  Coord(lon=-118.04199, lat=33.86153),\n",
       "  Coord(lon=-118.04982, lat=33.85361),\n",
       "  Coord(lon=-118.05647, lat=33.84623),\n",
       "  Coord(lon=-118.06123, lat=33.83427),\n",
       "  Coord(lon=-118.06327, lat=33.82607),\n",
       "  Coord(lon=-118.06389, lat=33.81931),\n",
       "  Coord(lon=-118.0767, lat=33.81109),\n",
       "  Coord(lon=-118.0923, lat=33.78732),\n",
       "  Coord(lon=-118.09183, lat=33.75955),\n",
       "  Coord(lon=-118.11361, lat=33.74681),\n",
       "  Coord(lon=-118.1259, lat=33.69715),\n",
       "  Coord(lon=-118.15579, lat=33.69296),\n",
       "  Coord(lon=-118.16865, lat=33.69146),\n",
       "  Coord(lon=-118.17597, lat=33.69119),\n",
       "  Coord(lon=-118.22528, lat=33.69059),\n",
       "  Coord(lon=-118.23701, lat=33.69059),\n",
       "  Coord(lon=-118.24723, lat=33.68154),\n",
       "  Coord(lon=-118.25109, lat=33.67812),\n",
       "  Coord(lon=-118.25453, lat=33.67507),\n",
       "  Coord(lon=-118.27429, lat=33.66342),\n",
       "  Coord(lon=-118.31913, lat=33.65955),\n",
       "  Coord(lon=-118.34541, lat=33.66343),\n",
       "  Coord(lon=-118.37717, lat=33.67895),\n",
       "  Coord(lon=-118.42864, lat=33.70127),\n",
       "  Coord(lon=-118.4737, lat=33.73571),\n",
       "  Coord(lon=-118.48558, lat=33.75366),\n",
       "  Coord(lon=-118.48528, lat=33.79753),\n",
       "  Coord(lon=-118.48321, lat=33.80444),\n",
       "  Coord(lon=-118.46915, lat=33.81868),\n",
       "  Coord(lon=-118.45054, lat=33.83226),\n",
       "  Coord(lon=-118.44397, lat=33.83906),\n",
       "  Coord(lon=-118.44725, lat=33.84876),\n",
       "  Coord(lon=-118.45563, lat=33.86138),\n",
       "  Coord(lon=-118.45963, lat=33.86712),\n",
       "  Coord(lon=-118.47682, lat=33.88951),\n",
       "  Coord(lon=-118.49899, lat=33.9163),\n",
       "  Coord(lon=-118.50648, lat=33.92805),\n",
       "  Coord(lon=-118.5136, lat=33.93896),\n",
       "  Coord(lon=-118.51814, lat=33.94526),\n",
       "  Coord(lon=-118.52085, lat=33.94916),\n",
       "  Coord(lon=-118.52357, lat=33.95317),\n",
       "  Coord(lon=-118.52642, lat=33.95594),\n",
       "  Coord(lon=-118.53749, lat=33.96667),\n",
       "  Coord(lon=-118.54544, lat=33.97635),\n",
       "  Coord(lon=-118.54842, lat=33.97997),\n",
       "  Coord(lon=-118.55686, lat=33.98725),\n",
       "  Coord(lon=-118.55915, lat=33.98771),\n",
       "  Coord(lon=-118.56272, lat=33.98779),\n",
       "  Coord(lon=-118.56924, lat=33.98871),\n",
       "  Coord(lon=-118.5701, lat=33.98873),\n",
       "  Coord(lon=-118.58098, lat=33.9873),\n",
       "  Coord(lon=-118.59097, lat=33.98723),\n",
       "  Coord(lon=-118.59971, lat=33.98667),\n",
       "  Coord(lon=-118.61132, lat=33.98619),\n",
       "  Coord(lon=-118.62007, lat=33.98697),\n",
       "  Coord(lon=-118.62592, lat=33.98723),\n",
       "  Coord(lon=-118.62886, lat=33.98615),\n",
       "  Coord(lon=-118.63974, lat=33.98574),\n",
       "  Coord(lon=-118.64835, lat=33.98673),\n",
       "  Coord(lon=-118.65287, lat=33.98441),\n",
       "  Coord(lon=-118.66139, lat=33.98215),\n",
       "  Coord(lon=-118.67241, lat=33.97991),\n",
       "  Coord(lon=-118.68081, lat=33.97916),\n",
       "  Coord(lon=-118.68914, lat=33.97995),\n",
       "  Coord(lon=-118.6967, lat=33.97857),\n",
       "  Coord(lon=-118.70457, lat=33.97784),\n",
       "  Coord(lon=-118.71026, lat=33.97812),\n",
       "  Coord(lon=-118.7226, lat=33.97941),\n",
       "  Coord(lon=-118.73073, lat=33.97886),\n",
       "  Coord(lon=-118.73776, lat=33.97677),\n",
       "  Coord(lon=-118.74344, lat=33.97588),\n",
       "  Coord(lon=-118.74639, lat=33.9755),\n",
       "  Coord(lon=-118.75092, lat=33.97107),\n",
       "  Coord(lon=-118.75687, lat=33.9664),\n",
       "  Coord(lon=-118.76259, lat=33.96436),\n",
       "  Coord(lon=-118.76814, lat=33.9608),\n",
       "  Coord(lon=-118.77904, lat=33.95453),\n",
       "  Coord(lon=-118.79213, lat=33.94952),\n",
       "  Coord(lon=-118.80361, lat=33.94724),\n",
       "  Coord(lon=-118.80983, lat=33.9469),\n",
       "  Coord(lon=-118.81475, lat=33.94721),\n",
       "  Coord(lon=-118.82093, lat=33.94819),\n",
       "  Coord(lon=-118.82489, lat=33.94904),\n",
       "  Coord(lon=-118.82938, lat=33.95039),\n",
       "  Coord(lon=-118.83476, lat=33.95238),\n",
       "  Coord(lon=-118.84112, lat=33.95537),\n",
       "  Coord(lon=-118.84776, lat=33.95933),\n",
       "  Coord(lon=-118.85279, lat=33.96256),\n",
       "  Coord(lon=-118.85685, lat=33.96597),\n",
       "  Coord(lon=-118.85928, lat=33.96824),\n",
       "  Coord(lon=-118.864, lat=33.97302),\n",
       "  Coord(lon=-118.87046, lat=33.98006),\n",
       "  Coord(lon=-118.87099, lat=33.98064),\n",
       "  Coord(lon=-118.8737, lat=33.98305),\n",
       "  Coord(lon=-118.874, lat=33.98331),\n",
       "  Coord(lon=-118.87592, lat=33.98382),\n",
       "  Coord(lon=-118.8814, lat=33.98497),\n",
       "  Coord(lon=-118.88483, lat=33.98606),\n",
       "  Coord(lon=-118.8873, lat=33.98722),\n",
       "  Coord(lon=-118.88771, lat=33.98724),\n",
       "  Coord(lon=-118.89226, lat=33.98743),\n",
       "  Coord(lon=-118.89726, lat=33.9878),\n",
       "  Coord(lon=-118.90223, lat=33.98848),\n",
       "  Coord(lon=-118.91046, lat=33.98941),\n",
       "  Coord(lon=-118.91543, lat=33.99042),\n",
       "  Coord(lon=-118.91926, lat=33.9905),\n",
       "  Coord(lon=-118.9262, lat=33.991),\n",
       "  Coord(lon=-118.93165, lat=33.99211),\n",
       "  Coord(lon=-118.93254, lat=33.99203),\n",
       "  Coord(lon=-118.93524, lat=33.99179),\n",
       "  Coord(lon=-118.94044, lat=33.99145),\n",
       "  Coord(lon=-118.94564, lat=33.99199),\n",
       "  Coord(lon=-118.95172, lat=33.99286),\n",
       "  Coord(lon=-118.93844, lat=34.07643),\n",
       "  Coord(lon=-118.88382, lat=34.11048),\n",
       "  Coord(lon=-118.86014, lat=34.125),\n",
       "  Coord(lon=-118.84251, lat=34.13579),\n",
       "  Coord(lon=-118.83402, lat=34.14084),\n",
       "  Coord(lon=-118.82418, lat=34.14688),\n",
       "  Coord(lon=-118.81515, lat=34.15249),\n",
       "  Coord(lon=-118.78966, lat=34.16794),\n",
       "  Coord(lon=-118.74697, lat=34.16807),\n",
       "  Coord(lon=-118.7041, lat=34.16856),\n",
       "  Coord(lon=-118.66795, lat=34.16988),\n",
       "  Coord(lon=-118.6678, lat=34.20769),\n",
       "  Coord(lon=-118.65062, lat=34.2404),\n",
       "  Coord(lon=-118.64146, lat=34.24034),\n",
       "  Coord(lon=-118.63368, lat=34.24047),\n",
       "  Coord(lon=-118.63344, lat=34.26936),\n",
       "  Coord(lon=-118.64851, lat=34.31627),\n",
       "  Coord(lon=-118.68825, lat=34.39751),\n",
       "  Coord(lon=-118.70388, lat=34.42998),\n",
       "  Coord(lon=-118.71438, lat=34.45106),\n",
       "  Coord(lon=-118.72121, lat=34.46462),\n",
       "  Coord(lon=-118.74, lat=34.50211),\n",
       "  Coord(lon=-118.77594, lat=34.57465),\n",
       "  Coord(lon=-118.8458, lat=34.71686),\n",
       "  Coord(lon=-118.88133, lat=34.78945),\n",
       "  Coord(lon=-118.88189, lat=34.79062),\n",
       "  Coord(lon=-118.88294, lat=34.81792),\n",
       "  Coord(lon=-118.87699, lat=34.80321),\n",
       "  Coord(lon=-118.87656, lat=34.8032),\n",
       "  Coord(lon=-118.77621, lat=34.81775),\n",
       "  Coord(lon=-118.71461, lat=34.81796),\n",
       "  Coord(lon=-118.69424, lat=34.81807),\n",
       "  Coord(lon=-118.64342, lat=34.81819),\n",
       "  Coord(lon=-118.59912, lat=34.81815),\n",
       "  Coord(lon=-118.56233, lat=34.81807),\n",
       "  Coord(lon=-118.5593, lat=34.8183),\n",
       "  Coord(lon=-118.54692, lat=34.8184),\n",
       "  Coord(lon=-118.4776, lat=34.81816),\n",
       "  Coord(lon=-118.45706, lat=34.81836),\n",
       "  Coord(lon=-118.42686, lat=34.81877),\n",
       "  Coord(lon=-118.36665, lat=34.8193),\n",
       "  Coord(lon=-118.30708, lat=34.82006),\n",
       "  Coord(lon=-118.26432, lat=34.8201),\n",
       "  Coord(lon=-118.22002, lat=34.82014),\n",
       "  Coord(lon=-118.16885, lat=34.82054),\n",
       "  Coord(lon=-118.1283, lat=34.82129),\n",
       "  Coord(lon=-118.01905, lat=34.82187),\n",
       "  Coord(lon=-117.97313, lat=34.82231),\n",
       "  Coord(lon=-117.9173, lat=34.82222),\n",
       "  Coord(lon=-117.82304, lat=34.82274),\n",
       "  Coord(lon=-117.74215, lat=34.82294),\n",
       "  Coord(lon=-117.68156, lat=34.82266),\n",
       "  Coord(lon=-117.66729, lat=34.82253),\n",
       "  Coord(lon=-117.66733, lat=34.82056),\n",
       "  Coord(lon=-117.66718, lat=34.75639),\n",
       "  Coord(lon=-117.66723, lat=34.72205),\n",
       "  Coord(lon=-117.66703, lat=34.6682),\n",
       "  Coord(lon=-117.66691, lat=34.63009),\n",
       "  Coord(lon=-117.66694, lat=34.61352),\n",
       "  Coord(lon=-117.66698, lat=34.58703),\n",
       "  Coord(lon=-117.66646, lat=34.55801),\n",
       "  Coord(lon=-117.66014, lat=34.51938),\n",
       "  Coord(lon=-117.66011, lat=34.50422),\n",
       "  Coord(lon=-117.65998, lat=34.48805),\n",
       "  Coord(lon=-117.65987, lat=34.47481),\n",
       "  Coord(lon=-117.65974, lat=34.45465),\n",
       "  Coord(lon=-117.65737, lat=34.42589),\n",
       "  Coord(lon=-117.6521, lat=34.36594),\n",
       "  Coord(lon=-117.64937, lat=34.27677),\n",
       "  Coord(lon=-117.67619, lat=34.1725))}"
      ]
     },
     "execution_count": 153,
     "metadata": {},
     "output_type": "execute_result"
    }
   ],
   "source": [
    "counties[('CA', 'Los Angeles')]"
   ]
  },
  {
   "cell_type": "code",
   "execution_count": 154,
   "metadata": {
    "collapsed": true
   },
   "outputs": [],
   "source": [
    "# Perhaps these utility function would be helpful\n",
    "def counties_in_state(state, counties):\n",
    "    return {k[1] for k in counties if k[0] == state}\n",
    "\n",
    "def states_with_county(county, counties):\n",
    "    return {k[0] for k in counties if k[1] == county}"
   ]
  },
  {
   "cell_type": "code",
   "execution_count": 160,
   "metadata": {
    "collapsed": false
   },
   "outputs": [
    {
     "data": {
      "text/plain": [
       "{'Fairfield',\n",
       " 'Hartford',\n",
       " 'Litchfield',\n",
       " 'Middlesex',\n",
       " 'New Haven',\n",
       " 'New London',\n",
       " 'Tolland',\n",
       " 'Windham'}"
      ]
     },
     "execution_count": 160,
     "metadata": {},
     "output_type": "execute_result"
    }
   ],
   "source": [
    "counties_in_state('CT', counties)"
   ]
  },
  {
   "cell_type": "code",
   "execution_count": 159,
   "metadata": {
    "collapsed": false
   },
   "outputs": [
    {
     "data": {
      "text/plain": [
       "{'OH', 'TX', 'WI', 'WV'}"
      ]
     },
     "execution_count": 159,
     "metadata": {},
     "output_type": "execute_result"
    }
   ],
   "source": [
    "states_with_county('Wood', counties)"
   ]
  },
  {
   "cell_type": "markdown",
   "metadata": {},
   "source": [
    "## Dealing with flawed data"
   ]
  },
  {
   "cell_type": "markdown",
   "metadata": {},
   "source": [
    "Sometimes the data you receive contains errors.  Your function should be able to deal with errors in data files in an elegant way. Errors may be either in the format of a file or in the data values contained in them.  Some examples of problematic data are provided:\n",
    "\n",
    "* data/Colorado_Counties.csv\n",
    "* data/Colorado_Counties-err1.csv\n",
    "* data/Colorado_Counties-err2.csv\n",
    "* data/Colorado_Counties-err3.csv\n",
    "\n",
    "Consider both failing a parse in a descriptive way and attempting to recover as much data as is possible."
   ]
  },
  {
   "cell_type": "markdown",
   "metadata": {},
   "source": [
    "### Flaws in sample data"
   ]
  },
  {
   "cell_type": "markdown",
   "metadata": {},
   "source": [
    "The data you may find in the wild are diverse, and certainly these three artificial errors are not exhaustive.  However, catching each of these errors and providing *reasonable* error messages or remediation shows a degree of desirable defensive programming.  The below describe what might be reasonable parsing results.\n",
    "\n",
    "---\n",
    "`Colorado_Counties-err1.csv` contains an extra comma or field on line 21, with a blank 4th field rather than the embedded XML polygon.  A good result of calling it might look something like:\n",
    "\n",
    "```python\n",
    ">>> counties = read_county_data('Colorado_Counties-err1.csv')\n",
    "```"
   ]
  },
  {
   "cell_type": "markdown",
   "metadata": {},
   "source": [
    "<pre><font color=\"red\">county_data.py:92: SyntaxWarning: Colorado_Counties-err1.csv : \n",
    "    Line 21 has 13 fields (12 expected) [SKIPPING]</font></pre>\n",
    "\n",
    "You have to decide the failure mode of your API, which might be subject to a switch.  Disregarding the bad line of data is a reasonable option, perhaps controlled by a keyword argument to treat this condition as fatal or to continue with other lines.\n",
    "\n",
    "---\n",
    "`Colorado_Counties-err2.csv` contains \"bad\" data.  Line 8 contains **very** bad data that has two points of the polygon at approximately -39 degrees latitude rather than +39 degrees.  Visualizing this polygon will show its strange shape.  However, line 15 contains **slightly** bad data.  One of the longitude points is incorrectly about -106 degrees rather than 104 degrees.  How might we determine \"how bad\" is unexpected data to rule it corrupted versus merely unusual? (i.e. this misplaced vertex still falls within Colorado as a whole).  A possible result:\n",
    "\n",
    "```python\n",
    ">>> counties = read_county_data('Colorado_Counties-err2.csv', irregularity=2*sigma)\n",
    "```"
   ]
  },
  {
   "cell_type": "markdown",
   "metadata": {},
   "source": [
    "<pre><font color=\"red\">county_data.py:117: RuntimeWarning: Colorado_Counties-err2.csv : \n",
    "    Line 8 contains out-of-bounds latitude -39.96458 [SKIPPING]</font></pre>\n",
    "\n",
    "---\n",
    "`Colorado_Counties-err3.csv` contains two stray null characters on line 8.  Somewhat artificially, the final 'r' in \"Boulder\" is replaced with a NULL in the first two fields. Guarding for this is context dependent—if this specific corruption is commonplace, simply stripping it out is probably reasonable; if the corruption is a one-time issue, a more generic failure seems appropriate.  This illustrates a file that most readers simply crash trying to read (or perhaps corrupt the data in other ways), so some more guarded behavior is good practice.  For example:\n",
    "\n",
    "```python\n",
    ">>> counties = read_county_data('Colorado_Counties-err3.csv', strip_nulls=True)\n",
    "```"
   ]
  },
  {
   "cell_type": "markdown",
   "metadata": {},
   "source": [
    "<pre><font color=\"red\">county_data.py:134: RuntimeWarning: Colorado_Counties-err3.csv : \n",
    "    NULL bytes detected and removed [REPROCESSING]</font></pre>\n",
    "\n",
    "```python\n",
    ">>> counties = read_county_data('Colorado_Counties-err3.csv', strip_nulls=False)\n",
    "```"
   ]
  },
  {
   "cell_type": "markdown",
   "metadata": {},
   "source": [
    "<pre><font color=\"red\">county_data.py:138: RuntimeError: Colorado_Counties-err3.csv : \n",
    "    Unable to read data file at line 8 [TERMINATING]</font></pre>"
   ]
  },
  {
   "cell_type": "markdown",
   "metadata": {},
   "source": [
    "<img src='img/copyright.png'>"
   ]
  }
 ],
 "metadata": {
  "anaconda-cloud": {},
  "continuum": {
   "depends": [
    "tools_ex_geo1",
    "tools_ex_geo2"
   ],
   "requires": [
    "data/US_Counties.csv",
    "data/Colorado_Counties.csv",
    "data/Colorado_Counties-err1.csv",
    "data/Colorado_Counties-err2.csv",
    "data/Colorado_Counties-err3.csv"
   ],
   "tag": "tools_ex_geo3"
  },
  "kernelspec": {
   "display_name": "Python [conda env:anaconda_training]",
   "language": "python",
   "name": "conda-env-anaconda_training-py"
  },
  "language_info": {
   "codemirror_mode": {
    "name": "ipython",
    "version": 3
   },
   "file_extension": ".py",
   "mimetype": "text/x-python",
   "name": "python",
   "nbconvert_exporter": "python",
   "pygments_lexer": "ipython3",
   "version": "3.4.5"
  }
 },
 "nbformat": 4,
 "nbformat_minor": 0
}
