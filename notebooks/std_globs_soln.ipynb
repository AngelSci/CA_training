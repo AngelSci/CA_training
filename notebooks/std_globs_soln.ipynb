{
 "cells": [
  {
   "cell_type": "markdown",
   "metadata": {},
   "source": [
    "<img src='img/logo.png' />"
   ]
  },
  {
   "cell_type": "markdown",
   "metadata": {},
   "source": [
    "<img src='img/title.png'>"
   ]
  },
  {
   "cell_type": "markdown",
   "metadata": {},
   "source": [
    "<img src='img/py3k.png'>"
   ]
  },
  {
   "cell_type": "markdown",
   "metadata": {},
   "source": [
    "# Table of Contents\n",
    "* [File globs](#File-globs)\n",
    "\t* [Exercise](#Exercise)\n"
   ]
  },
  {
   "cell_type": "markdown",
   "metadata": {},
   "source": [
    "# File globs"
   ]
  },
  {
   "cell_type": "markdown",
   "metadata": {},
   "source": [
    "## Exercise"
   ]
  },
  {
   "cell_type": "markdown",
   "metadata": {},
   "source": [
    "<img src='img/topics/Exercise.png' align='left' style='padding:10px'>\n",
    "Read all of the files in `data/babynames/`.\n",
    "\n",
    "What are most common boy and girl names?\n",
    "<br><br>\n",
    "\n",
    "The format is \n",
    "\n",
    "```\n",
    "Name, Sex, Count\n",
    "```"
   ]
  },
  {
   "cell_type": "markdown",
   "metadata": {},
   "source": [
    "Where count is the number of occurrences for the year in the filename.\n",
    "\n",
    "\n",
    "1. Use the `csv` module to help read the files\n",
    "1. Use `defaultdict` and `Counter` to create a dictionary with\n",
    "  * keys `boy` and `girl`\n",
    "  * values are `Counter` with counts of occurrences of names."
   ]
  },
  {
   "cell_type": "code",
   "execution_count": null,
   "metadata": {
    "collapsed": false
   },
   "outputs": [],
   "source": [
    "from collections import defaultdict, Counter\n",
    "import glob\n",
    "import csv\n",
    "\n",
    "names = defaultdict(Counter)\n",
    "\n",
    "for year in glob.glob('data/babynames/*'):\n",
    "    with open(year) as f:\n",
    "        this_year = csv.reader(f)\n",
    "        for row in this_year:\n",
    "            if row[1] == 'F':\n",
    "                names['girl'][row[0]] += int(row[2])\n",
    "            elif row[1] == 'M':\n",
    "                names['boy'][row[0]] += int(row[2])"
   ]
  },
  {
   "cell_type": "code",
   "execution_count": null,
   "metadata": {
    "collapsed": false
   },
   "outputs": [],
   "source": [
    "names['boy'].most_common(5)"
   ]
  },
  {
   "cell_type": "code",
   "execution_count": null,
   "metadata": {
    "collapsed": false
   },
   "outputs": [],
   "source": [
    "names['girl'].most_common(5)"
   ]
  },
  {
   "cell_type": "markdown",
   "metadata": {},
   "source": [
    "<img src='img/copyright.png'>"
   ]
  }
 ],
 "metadata": {
  "anaconda-cloud": {},
  "kernelspec": {
   "display_name": "Python [conda env:anaconda_training]",
   "language": "python",
   "name": "conda-env-anaconda_training-py"
  },
  "language_info": {
   "codemirror_mode": {
    "name": "ipython",
    "version": 3
   },
   "file_extension": ".py",
   "mimetype": "text/x-python",
   "name": "python",
   "nbconvert_exporter": "python",
   "pygments_lexer": "ipython3",
   "version": "3.5.2"
  }
 },
 "nbformat": 4,
 "nbformat_minor": 0
}
