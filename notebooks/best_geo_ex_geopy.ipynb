{
 "cells": [
  {
   "cell_type": "markdown",
   "metadata": {},
   "source": [
    "<img src='img/logo.png'>\n",
    "<img src='img/title.png'>\n",
    "<img src='img/py3k.png'>"
   ]
  },
  {
   "cell_type": "markdown",
   "metadata": {},
   "source": [
    "# Table of Contents\n",
    "* [Learning Objectives](#Learning-Objectives)\n",
    "* [The GeoPy library](#The-GeoPy-library)\n",
    "* [Downloading additional shapfiles](#Downloading-additional-shapfiles)\n",
    "* [Problem: Determine what geographic area a named location is in](#Problem:-Determine-what-geographic-area-a-named-location-is-in)\n"
   ]
  },
  {
   "cell_type": "markdown",
   "metadata": {},
   "source": [
    "# Learning Objectives"
   ]
  },
  {
   "cell_type": "markdown",
   "metadata": {},
   "source": [
    "* Integrate an external library\n",
    "* Utilize library to enhance capabilities"
   ]
  },
  {
   "cell_type": "markdown",
   "metadata": {},
   "source": [
    "**The series of exercises in the Geospatial series are intended to present a realistically difficult set of development problems.  These exercises might take a half day or more for a class to work on extensively.**"
   ]
  },
  {
   "cell_type": "markdown",
   "metadata": {},
   "source": [
    "# The GeoPy library"
   ]
  },
  {
   "cell_type": "markdown",
   "metadata": {},
   "source": [
    "The library [GeoPy](http://geopy.readthedocs.org/en/latest/) allows you to \"locate the coordinates of addresses, cities, countries, and landmarks across the globe using third-party geocoders and other data sources.\"\n",
    "\n",
    "First thing, let's install it locally."
   ]
  },
  {
   "cell_type": "code",
   "execution_count": null,
   "metadata": {
    "collapsed": false
   },
   "outputs": [],
   "source": [
    "#!pip install geopy"
   ]
  },
  {
   "cell_type": "code",
   "execution_count": null,
   "metadata": {
    "collapsed": true
   },
   "outputs": [],
   "source": [
    "from geopy.geocoders import Nominatim\n",
    "geolocator = Nominatim()\n",
    "address = \"2580 55th St., Boulder, Colorado 80301\"\n",
    "location = geolocator.geocode(address)"
   ]
  },
  {
   "cell_type": "code",
   "execution_count": null,
   "metadata": {
    "collapsed": false
   },
   "outputs": [],
   "source": [
    "location.address"
   ]
  },
  {
   "cell_type": "code",
   "execution_count": null,
   "metadata": {
    "collapsed": false
   },
   "outputs": [],
   "source": [
    "location.latitude, location.longitude"
   ]
  },
  {
   "cell_type": "code",
   "execution_count": null,
   "metadata": {
    "collapsed": false
   },
   "outputs": [],
   "source": [
    "location.raw"
   ]
  },
  {
   "cell_type": "code",
   "execution_count": null,
   "metadata": {
    "collapsed": false
   },
   "outputs": [],
   "source": [
    "location = geolocator.reverse(\"40.025746, -105.223424848719\")\n",
    "location.address"
   ]
  },
  {
   "cell_type": "code",
   "execution_count": null,
   "metadata": {
    "collapsed": false
   },
   "outputs": [],
   "source": [
    "# Google's Maps API returns somewhat different information from Open Street Map\n",
    "from geopy.geocoders import GoogleV3\n",
    "geolocator = GoogleV3()\n",
    "location = geolocator.geocode(\"University of Colorado at Boulder\")\n",
    "location.raw"
   ]
  },
  {
   "cell_type": "code",
   "execution_count": null,
   "metadata": {
    "collapsed": false
   },
   "outputs": [],
   "source": [
    "location = geolocator.geocode(\"Boulder CO\")\n",
    "tendril = geolocator.geocode(\"Tendril Inc, Boulder CO\")\n",
    "location.raw['place_id'], tendril.raw['place_id']"
   ]
  },
  {
   "cell_type": "markdown",
   "metadata": {},
   "source": [
    "# Downloading additional shapfiles"
   ]
  },
  {
   "cell_type": "markdown",
   "metadata": {},
   "source": [
    "The US Census Bureau provides shape files and other data.  For example, you could download data for [Colorado counties](https://www.census.gov/geo/partnerships/pvs/partnership15v2/st08_co.html). \n",
    "\n",
    "We have previously implemented support for reading the shapefile format and the county shape format provided in the data directory for this course.  We can use these shapes in this exercise.  Notice that the 'display_name' key of the raw location data generally includes county information in the string value.  But other geographic boundaries are not given in GeoPy answers (and county may not always be present and correct)."
   ]
  },
  {
   "cell_type": "markdown",
   "metadata": {},
   "source": [
    "# Problem: Determine what geographic region a location is in"
   ]
  },
  {
   "cell_type": "markdown",
   "metadata": {},
   "source": [
    "We would like a general API function `find_region(specifier, regions)` that determines what collection of regions a specified location is in.  Consider also what API you would create that allowed you to search different types of queries.  For example, you may want to search by latitude and longitude rather than name, leveraging GeoPy in different ways for the different types of queries.\n",
    "\n",
    "You probably need to refactor your data structures from your previous work and/or provide wrapper functions or classes to make this API cleaner.  You may use your own design intuitions, but it would probably be useful to define `Region` objects of some sort that contain both a polygon boundary and also descriptive information about that region.  If designed this way, a match to a polygon can be closely associated with metadata about it.\n",
    "\n",
    "If you do adjust the data structures you use in your library to implement this function, adjust all your previously developed code to match this design.  If you change any APIs, change any corresponding documentation and unit tests.\n",
    "\n",
    "Do not feel bound by the following example code, but the below illustrates what an API might do:\n",
    "\n",
    "```python\n",
    ">>> find_region(\"Tendril, Inc, Boulder CO\", my_regions)\n",
    "[Region(\"State of Colorado\"), \n",
    " Region(\"Boulder County\"), \n",
    " Region(\"Census Tract 123456789\")]\n",
    "```"
   ]
  },
  {
   "cell_type": "markdown",
   "metadata": {},
   "source": [
    "<img src='img/copyright.png'>"
   ]
  }
 ],
 "metadata": {
  "anaconda-cloud": {},
  "continuum": {
   "depends": [
    "tools_ex_geo1",
    "tools_ex_geo2",
    "tools_ex_geo3"
   ],
   "requires": [],
   "tag": "tools_ex_geo4"
  },
  "kernelspec": {
   "display_name": "Python [conda env:anaconda_training]",
   "language": "python",
   "name": "conda-env-anaconda_training-py"
  },
  "language_info": {
   "codemirror_mode": {
    "name": "ipython",
    "version": 3
   },
   "file_extension": ".py",
   "mimetype": "text/x-python",
   "name": "python",
   "nbconvert_exporter": "python",
   "pygments_lexer": "ipython3",
   "version": "3.5.2"
  }
 },
 "nbformat": 4,
 "nbformat_minor": 0
}
