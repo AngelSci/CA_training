{
 "cells": [
  {
   "cell_type": "markdown",
   "metadata": {},
   "source": [
    "<img src='img/logo.png' />"
   ]
  },
  {
   "cell_type": "markdown",
   "metadata": {},
   "source": [
    "<img src='img/title.png'>"
   ]
  },
  {
   "cell_type": "markdown",
   "metadata": {},
   "source": [
    "<img src='img/py3k.png'>"
   ]
  },
  {
   "cell_type": "markdown",
   "metadata": {},
   "source": [
    "# Table of Contents\n",
    "* [Learning Objectives:](#Learning-Objectives:)\n",
    "\t* [Some Simple Setup](#Some-Simple-Setup)\n",
    "* [What is NumPy?](#What-is-NumPy?)\n",
    "\t* [NumPy arrays have:](#NumPy-arrays-have:)\n",
    "\t* [NumPy's Uses and Capabilities](#NumPy's-Uses-and-Capabilities)\n",
    "\t* [NumPy Ecosystem](#NumPy-Ecosystem)\n",
    "* [NumPy Arrays](#NumPy-Arrays)\n",
    "\t* [Array Shape](#Array-Shape)\n",
    "\t* [Array Type](#Array-Type)\n",
    "* [Array Creation](#Array-Creation)\n",
    "\t* [`np.zeros` and `np.ones`](#np.zeros-and-np.ones)\n",
    "\t* [`np.empty`](#np.empty)\n",
    "\t* [`np.arange`](#np.arange)\n",
    "\t* [`np.linspace` and `np.logspace`](#np.linspace-and-np.logspace)\n",
    "\t* [Diagonal arrays:  `np.eye` and `np.diag`](#Diagonal-arrays:--np.eye-and-np.diag)\n",
    "\t* [Arrays from Random Distributions](#Arrays-from-Random-Distributions)\n",
    "\t\t* [Uniform on [0,1)](#Uniform-on-[0,1%29)\n",
    "\t\t* [Standard Normal](#Standard-Normal)\n",
    "\t\t* [Uniform Integers](#Uniform-Integers)\n",
    "\t* [Arrays From a Python List](#Arrays-From-a-Python-List)\n",
    "\t* [From row and column stacks:  `np.r_` and `np.c_`](#From-row-and-column-stacks:--np.r_-and-np.c_)\n",
    "* [Array Shape and Reshaping](#Array-Shape-and-Reshaping)"
   ]
  },
  {
   "cell_type": "markdown",
   "metadata": {},
   "source": [
    "# Learning Objectives:"
   ]
  },
  {
   "cell_type": "markdown",
   "metadata": {},
   "source": [
    "After completion of this module, learners should be able to:\n",
    "\n",
    "* explain relevant distinctions between (`numpy`) ndarrays & lists in Python\n",
    "* create numerical arrays with specified attributes (e.g., shape, data type, etc.)\n",
    "* use & describe dtype attributes associated with `numpy` ndarrays"
   ]
  },
  {
   "cell_type": "markdown",
   "metadata": {},
   "source": [
    "## Some Simple Setup"
   ]
  },
  {
   "cell_type": "markdown",
   "metadata": {},
   "source": [
    "We're going to run a few quick commands in IPython to shorten a few names and to make some nice graphics interaction (in this Jupyter notebook)."
   ]
  },
  {
   "cell_type": "markdown",
   "metadata": {},
   "source": [
    "If you do not have matplotlib installed in your conda environment run\n",
    "```\n",
    "% conda install -y matplotlib\n",
    "```"
   ]
  },
  {
   "cell_type": "code",
   "execution_count": 1,
   "metadata": {
    "collapsed": true
   },
   "outputs": [],
   "source": [
    "%matplotlib inline\n",
    "\n",
    "import numpy as np\n",
    "import matplotlib.pyplot as plt\n",
    "import os.path as osp\n",
    "import numpy.random as npr\n",
    "vsep = \"\\n-------------------\\n\""
   ]
  },
  {
   "cell_type": "markdown",
   "metadata": {},
   "source": [
    "# What is NumPy?"
   ]
  },
  {
   "cell_type": "code",
   "execution_count": null,
   "metadata": {
    "collapsed": true
   },
   "outputs": [],
   "source": []
  },
  {
   "cell_type": "markdown",
   "metadata": {},
   "source": [
    "Numpy is a Python library that provides multi-dimensional arrays, matrices, and fast operations on these data structures."
   ]
  },
  {
   "cell_type": "markdown",
   "metadata": {},
   "source": [
    "## NumPy arrays have:"
   ]
  },
  {
   "cell_type": "markdown",
   "metadata": {},
   "source": [
    "* fixed size \n",
    "  * all elements have the same type\n",
    "      * that type may be compound and/or user-defined\n",
    "  * fast operations from:\n",
    "      * vectorization — implicit looping\n",
    "      * pre-compiled C code using high-quality libraries \n",
    "          * NumPy default\n",
    "          * BLAS/ATLAS\n",
    "          * Intel's MKL"
   ]
  },
  {
   "cell_type": "markdown",
   "metadata": {},
   "source": [
    "## NumPy's Uses and Capabilities"
   ]
  },
  {
   "cell_type": "markdown",
   "metadata": {},
   "source": [
    "- Image and signal processing\n",
    "- Linear algebra\n",
    "- Data transformation and query\n",
    "- Time series analysis\n",
    "- Statistical analysis"
   ]
  },
  {
   "cell_type": "markdown",
   "metadata": {},
   "source": [
    "## NumPy Ecosystem"
   ]
  },
  {
   "cell_type": "markdown",
   "metadata": {},
   "source": [
    "<center>\n",
    "![](img/ecosystem.lightbg.scaled-noalpha.png)\n",
    "</center>"
   ]
  },
  {
   "cell_type": "markdown",
   "metadata": {},
   "source": [
    "# NumPy Arrays"
   ]
  },
  {
   "cell_type": "markdown",
   "metadata": {},
   "source": [
    "NumPy arrays (`numpy.ndarray`) are the fundamental data type in NumPy.  They have:\n",
    "    \n",
    "  * shape\n",
    "  * an element type called *dtype*\n",
    "  \n",
    "For example:"
   ]
  },
  {
   "cell_type": "code",
   "execution_count": 2,
   "metadata": {
    "collapsed": false
   },
   "outputs": [
    {
     "data": {
      "text/plain": [
       "array([[ 0.,  0.,  0.,  0.,  0.],\n",
       "       [ 0.,  0.,  0.,  0.,  0.],\n",
       "       [ 0.,  0.,  0.,  0.,  0.],\n",
       "       [ 0.,  0.,  0.,  0.,  0.],\n",
       "       [ 0.,  0.,  0.,  0.,  0.],\n",
       "       [ 0.,  0.,  0.,  0.,  0.]])"
      ]
     },
     "execution_count": 2,
     "metadata": {},
     "output_type": "execute_result"
    }
   ],
   "source": [
    "import numpy as np\n",
    "M, N = 6, 5\n",
    "arr = np.zeros(shape=(M,N), dtype=float)\n",
    "arr"
   ]
  },
  {
   "cell_type": "code",
   "execution_count": 3,
   "metadata": {
    "collapsed": false
   },
   "outputs": [
    {
     "name": "stdout",
     "output_type": "stream",
     "text": [
      "float64 (30,)\n"
     ]
    },
    {
     "data": {
      "text/plain": [
       "array([ 0.,  0.,  0.,  0.,  0.,  0.,  0.,  0.,  0.,  0.,  0.,  0.,  0.,\n",
       "        0.,  0.,  0.,  0.,  0.,  0.,  0.,  0.,  0.,  0.,  0.,  0.,  0.,\n",
       "        0.,  0.,  0.,  0.])"
      ]
     },
     "execution_count": 3,
     "metadata": {},
     "output_type": "execute_result"
    }
   ],
   "source": [
    "arrzeros = np.zeros(30)\n",
    "print(arrzeros.dtype, arrzeros.shape)\n",
    "arrzeros"
   ]
  },
  {
   "cell_type": "code",
   "execution_count": 4,
   "metadata": {
    "collapsed": false
   },
   "outputs": [
    {
     "name": "stdout",
     "output_type": "stream",
     "text": [
      "float64 (30, 1)\n"
     ]
    },
    {
     "data": {
      "text/plain": [
       "array([[ 0.],\n",
       "       [ 0.],\n",
       "       [ 0.],\n",
       "       [ 0.],\n",
       "       [ 0.],\n",
       "       [ 0.],\n",
       "       [ 0.],\n",
       "       [ 0.],\n",
       "       [ 0.],\n",
       "       [ 0.],\n",
       "       [ 0.],\n",
       "       [ 0.],\n",
       "       [ 0.],\n",
       "       [ 0.],\n",
       "       [ 0.],\n",
       "       [ 0.],\n",
       "       [ 0.],\n",
       "       [ 0.],\n",
       "       [ 0.],\n",
       "       [ 0.],\n",
       "       [ 0.],\n",
       "       [ 0.],\n",
       "       [ 0.],\n",
       "       [ 0.],\n",
       "       [ 0.],\n",
       "       [ 0.],\n",
       "       [ 0.],\n",
       "       [ 0.],\n",
       "       [ 0.],\n",
       "       [ 0.]])"
      ]
     },
     "execution_count": 4,
     "metadata": {},
     "output_type": "execute_result"
    }
   ],
   "source": [
    "arrzeros2 = np.zeros((30,1))\n",
    "print(arrzeros2.dtype, arrzeros2.shape)\n",
    "arrzeros2"
   ]
  },
  {
   "cell_type": "markdown",
   "metadata": {},
   "source": [
    "is the NumPy array corresponding to the two-dimensional matrix:\n",
    "\n",
    "![default](img/numpyzerosdims-noalpha.png)\n",
    "\n",
    "NumPy has both a general N-dimensional array *and* a specific 2-dimensional matrix data type.  NumPy arrays may have an arbitrary number of dimensions."
   ]
  },
  {
   "cell_type": "markdown",
   "metadata": {},
   "source": [
    "NumPy arrays support vectorized mathematical operation."
   ]
  },
  {
   "cell_type": "code",
   "execution_count": 7,
   "metadata": {
    "collapsed": false
   },
   "outputs": [
    {
     "name": "stdout",
     "output_type": "stream",
     "text": [
      "original:\n",
      "[[ 0  1  2  3  4]\n",
      " [ 5  6  7  8  9]\n",
      " [10 11 12 13 14]]\n",
      "\n",
      "elementwise computed:\n",
      "[[ 8 10 12 14 16]\n",
      " [18 20 22 24 26]\n",
      " [28  0  2  4  6]]\n",
      "int32\n"
     ]
    }
   ],
   "source": [
    "arr = np.arange(15).reshape(3,5)\n",
    "print(\"original:\")\n",
    "print(arr)\n",
    "\n",
    "print()\n",
    "\n",
    "print(\"elementwise computed:\")\n",
    "print(((arr+4)*2) % 30)\n",
    "print(arr.dtype)"
   ]
  },
  {
   "cell_type": "code",
   "execution_count": 8,
   "metadata": {
    "collapsed": false
   },
   "outputs": [
    {
     "data": {
      "text/plain": [
       "array([ 8, 10, 12, 14, 16, 18, 20, 22, 24, 26, 28,  0,  2,  4,  6], dtype=int32)"
      ]
     },
     "execution_count": 8,
     "metadata": {},
     "output_type": "execute_result"
    }
   ],
   "source": [
    "((arr.reshape(15,)+4)*2) % 30"
   ]
  },
  {
   "cell_type": "code",
   "execution_count": 12,
   "metadata": {
    "collapsed": false
   },
   "outputs": [
    {
     "data": {
      "text/plain": [
       "array([[ 8, 10, 12],\n",
       "       [14, 16, 18],\n",
       "       [20, 22, 24],\n",
       "       [26, 28,  0],\n",
       "       [ 2,  4,  6]], dtype=int32)"
      ]
     },
     "execution_count": 12,
     "metadata": {},
     "output_type": "execute_result"
    }
   ],
   "source": [
    "((arr.reshape(5,3)+4)*2) % 30"
   ]
  },
  {
   "cell_type": "code",
   "execution_count": 11,
   "metadata": {
    "collapsed": false
   },
   "outputs": [
    {
     "ename": "ValueError",
     "evalue": "total size of new array must be unchanged",
     "output_type": "error",
     "traceback": [
      "\u001b[0;31m---------------------------------------------------------------------------\u001b[0m",
      "\u001b[0;31mValueError\u001b[0m                                Traceback (most recent call last)",
      "\u001b[0;32m<ipython-input-11-81e4611d7311>\u001b[0m in \u001b[0;36m<module>\u001b[0;34m()\u001b[0m\n\u001b[0;32m----> 1\u001b[0;31m \u001b[0marr\u001b[0m\u001b[1;33m.\u001b[0m\u001b[0mreshape\u001b[0m\u001b[1;33m(\u001b[0m\u001b[1;36m4\u001b[0m\u001b[1;33m,\u001b[0m \u001b[1;36m7\u001b[0m\u001b[1;33m)\u001b[0m\u001b[1;33m\u001b[0m\u001b[0m\n\u001b[0m",
      "\u001b[0;31mValueError\u001b[0m: total size of new array must be unchanged"
     ]
    }
   ],
   "source": [
    "arr.reshape(4, 7)"
   ]
  },
  {
   "cell_type": "markdown",
   "metadata": {},
   "source": [
    "We are generally going to visually inspect the `str` representation of array.  Here's how the `str` and `repr` differ:"
   ]
  },
  {
   "cell_type": "code",
   "execution_count": null,
   "metadata": {
    "collapsed": true
   },
   "outputs": [],
   "source": [
    "arr = np.arange(10).reshape(2,5)\n",
    "print(arr)\n",
    "print(repr(arr))"
   ]
  },
  {
   "cell_type": "markdown",
   "metadata": {},
   "source": [
    "## Array Shape"
   ]
  },
  {
   "cell_type": "markdown",
   "metadata": {},
   "source": [
    "Many array creation functions take a shape parameter.  For a 1D array, the shape can be an integer."
   ]
  },
  {
   "cell_type": "code",
   "execution_count": 15,
   "metadata": {
    "collapsed": false
   },
   "outputs": [
    {
     "name": "stdout",
     "output_type": "stream",
     "text": [
      "[ 0.  0.  0.  0.  0.]\n"
     ]
    }
   ],
   "source": [
    "print(np.zeros(shape=5, dtype=np.float16))"
   ]
  },
  {
   "cell_type": "markdown",
   "metadata": {},
   "source": [
    "For nD arrays, the shape needs to be given as a tuple."
   ]
  },
  {
   "cell_type": "code",
   "execution_count": 16,
   "metadata": {
    "collapsed": false
   },
   "outputs": [
    {
     "data": {
      "text/plain": [
       "array([[ 0,  1,  2,  3,  4],\n",
       "       [ 5,  6,  7,  8,  9],\n",
       "       [10, 11, 12, 13, 14]])"
      ]
     },
     "execution_count": 16,
     "metadata": {},
     "output_type": "execute_result"
    }
   ],
   "source": [
    "arr"
   ]
  },
  {
   "cell_type": "code",
   "execution_count": 21,
   "metadata": {
    "collapsed": false
   },
   "outputs": [
    {
     "name": "stdout",
     "output_type": "stream",
     "text": [
      "[[[ 0.  0.]\n",
      "  [ 0.  0.]\n",
      "  [ 0.  0.]]\n",
      "\n",
      " [[ 0.  0.]\n",
      "  [ 0.  0.]\n",
      "  [ 0.  0.]]\n",
      "\n",
      " [[ 0.  0.]\n",
      "  [ 0.  0.]\n",
      "  [ 0.  0.]]\n",
      "\n",
      " [[ 0.  0.]\n",
      "  [ 0.  0.]\n",
      "  [ 0.  0.]]]\n",
      "-------------------\n",
      "array([[[ 0.,  0.],\n",
      "        [ 0.,  0.],\n",
      "        [ 0.,  0.]],\n",
      "\n",
      "       [[ 0.,  0.],\n",
      "        [ 0.,  0.],\n",
      "        [ 0.,  0.]],\n",
      "\n",
      "       [[ 0.,  0.],\n",
      "        [ 0.,  0.],\n",
      "        [ 0.,  0.]],\n",
      "\n",
      "       [[ 0.,  0.],\n",
      "        [ 0.,  0.],\n",
      "        [ 0.,  0.]]])\n"
     ]
    }
   ],
   "source": [
    "print(np.zeros(shape=(4,3,2), dtype=float), end=vsep)\n",
    "print(repr(np.zeros(shape=(4,3,2), dtype=float)))"
   ]
  },
  {
   "cell_type": "code",
   "execution_count": null,
   "metadata": {
    "collapsed": true
   },
   "outputs": [],
   "source": [
    "print(np.zeros(shape=(2,2,2,2)))"
   ]
  },
  {
   "cell_type": "markdown",
   "metadata": {},
   "source": [
    "In the above example, the outermost dimension (the first item in the tuple passed to `shape`, 4) is the dimension that varies the most slowly. The innermost dimension (the last item in the tuple, 2) is the dimension that varies the most quickly. Visually, this means that for 3D arrays, we might describe the shape as: (panels, rows, columns). Contrast this with the 2D case, where we usually discuss shape as: (rows, columns)."
   ]
  },
  {
   "cell_type": "markdown",
   "metadata": {},
   "source": [
    "We can always ask an array its shape by accessing the `shape` attribute (e.g., `arr.shape`)."
   ]
  },
  {
   "cell_type": "code",
   "execution_count": null,
   "metadata": {
    "collapsed": true
   },
   "outputs": [],
   "source": [
    "arr = np.ones(shape=(4,3,2), dtype=float)\n",
    "print(\"shape is:\", arr.shape)"
   ]
  },
  {
   "cell_type": "code",
   "execution_count": null,
   "metadata": {
    "collapsed": true
   },
   "outputs": [],
   "source": [
    "arr.resize((4,6))\n",
    "arr"
   ]
  },
  {
   "cell_type": "code",
   "execution_count": 22,
   "metadata": {
    "collapsed": false
   },
   "outputs": [
    {
     "name": "stdout",
     "output_type": "stream",
     "text": [
      "[[ 1.0  1.0  1.0  1.0  1.0]\n",
      " [ 1.0  1.0  1.0  1.0  1.0]\n",
      " [ 1.0  1.0  1.0  1.0  1.0]\n",
      " [ 1.0  1.0  1.0  1.0  1.0]]\n",
      "-------------------\n",
      "[[0 0 0]\n",
      " [0 0 0]\n",
      " [0 0 0]\n",
      " [0 0 0]]\n",
      "-------------------\n",
      "[[ 1.0  1.0  1.0  1.0  1.0  0.0  0.0  0.0]\n",
      " [ 1.0  1.0  1.0  1.0  1.0  0.0  0.0  0.0]\n",
      " [ 1.0  1.0  1.0  1.0  1.0  0.0  0.0  0.0]\n",
      " [ 1.0  1.0  1.0  1.0  1.0  0.0  0.0  0.0]]\n"
     ]
    },
    {
     "data": {
      "text/plain": [
       "dtype('float64')"
      ]
     },
     "execution_count": 22,
     "metadata": {},
     "output_type": "execute_result"
    }
   ],
   "source": [
    "# Take a look at the varying type promotion rules in np.concatenate\n",
    "# (the order of the concatenated arrays matters!)\n",
    "arr1 = np.ones(shape=(4,5), dtype=np.longdouble)\n",
    "arr2 = np.zeros(shape=(4,3), dtype=np.int8)\n",
    "print(arr1,end=vsep)\n",
    "print(arr2,end=vsep)\n",
    "newarr = np.concatenate((arr1,arr2), axis=1)\n",
    "print(newarr)\n",
    "newarr.dtype"
   ]
  },
  {
   "cell_type": "code",
   "execution_count": null,
   "metadata": {
    "collapsed": true
   },
   "outputs": [],
   "source": [
    "help(newarr.resize)"
   ]
  },
  {
   "cell_type": "markdown",
   "metadata": {},
   "source": [
    "## "
   ]
  },
  {
   "cell_type": "code",
   "execution_count": 38,
   "metadata": {
    "collapsed": false
   },
   "outputs": [
    {
     "data": {
      "text/plain": [
       "0.999999999"
      ]
     },
     "execution_count": 38,
     "metadata": {},
     "output_type": "execute_result"
    }
   ],
   "source": [
    "arr3 = np.arange(1,int(1e9),dtype=np.int8)\n",
    "arr3.nbytes / 1e9"
   ]
  },
  {
   "cell_type": "markdown",
   "metadata": {},
   "source": [
    "Arrays can be transposed on-the-fly by using `.T`"
   ]
  },
  {
   "cell_type": "code",
   "execution_count": 23,
   "metadata": {
    "collapsed": false
   },
   "outputs": [
    {
     "name": "stdout",
     "output_type": "stream",
     "text": [
      "[[ 0  1  2  3  4]\n",
      " [ 5  6  7  8  9]\n",
      " [10 11 12 13 14]]\n",
      "(3, 5)\n",
      "-------------------\n",
      "[[ 0  5 10]\n",
      " [ 1  6 11]\n",
      " [ 2  7 12]\n",
      " [ 3  8 13]\n",
      " [ 4  9 14]]\n",
      "(5, 3)\n"
     ]
    }
   ],
   "source": [
    "print(arr)\n",
    "print(arr.shape,end=vsep)\n",
    "print(arr.T)\n",
    "print(arr.T.shape)"
   ]
  },
  {
   "cell_type": "markdown",
   "metadata": {},
   "source": [
    "## Array Type"
   ]
  },
  {
   "cell_type": "markdown",
   "metadata": {},
   "source": [
    "All arrays have a specific type for their associated elements.  Every element in the array shares that type.  The NumPy terminology for this type is *dtype*.  The basic types are *bool*, *int*, *uint*, *float*, and *complex*.  The types may be modified by a number indicating their size in bits.  Python's built-in types can be used as a corresponding dtype.  Note, the generic NumPy types end with an underscore (\"\\_\") to differentiate the name from the Python built-in.\n",
    "\n",
    "|Python Type |NumPy dtype|\n",
    "|------------|-----------|\n",
    "|bool\t     |np.bool_   |\n",
    "|int         |np.int_    |\n",
    "|float       |np.float_  |\n",
    "|complex     |np.complex_|"
   ]
  },
  {
   "cell_type": "code",
   "execution_count": 39,
   "metadata": {
    "collapsed": false
   },
   "outputs": [
    {
     "data": {
      "text/plain": [
       "nan"
      ]
     },
     "execution_count": 39,
     "metadata": {},
     "output_type": "execute_result"
    }
   ],
   "source": [
    "np.float16('nan')"
   ]
  },
  {
   "cell_type": "markdown",
   "metadata": {},
   "source": [
    "Here is one example of specifying a *dtype*:"
   ]
  },
  {
   "cell_type": "code",
   "execution_count": 43,
   "metadata": {
    "collapsed": false
   },
   "outputs": [
    {
     "name": "stdout",
     "output_type": "stream",
     "text": [
      "[ 0.  0.  0.  0.  0.] -> float64\n"
     ]
    }
   ],
   "source": [
    "arr = np.zeros(shape=(5,), dtype=np.float_) # NumPy default sized float\n",
    "print(arr, \"->\", arr.dtype)"
   ]
  },
  {
   "cell_type": "code",
   "execution_count": 49,
   "metadata": {
    "collapsed": false
   },
   "outputs": [
    {
     "data": {
      "text/plain": [
       "array([4192984799048971232,                   3,                   4], dtype=int64)"
      ]
     },
     "execution_count": 49,
     "metadata": {},
     "output_type": "execute_result"
    }
   ],
   "source": [
    "# Can get truncation of data types if large numbers forced into smaller types\n",
    "array = np.array([4192984799048971232, 3, 4], dtype=np.int64)\n",
    "array"
   ]
  },
  {
   "cell_type": "code",
   "execution_count": 44,
   "metadata": {
    "collapsed": false
   },
   "outputs": [
    {
     "ename": "OverflowError",
     "evalue": "Python int too large to convert to C long",
     "output_type": "error",
     "traceback": [
      "\u001b[0;31m---------------------------------------------------------------------------\u001b[0m",
      "\u001b[0;31mOverflowError\u001b[0m                             Traceback (most recent call last)",
      "\u001b[0;32m<ipython-input-44-5abc2d80bc8e>\u001b[0m in \u001b[0;36m<module>\u001b[0;34m()\u001b[0m\n\u001b[0;32m----> 1\u001b[0;31m \u001b[0mnp\u001b[0m\u001b[1;33m.\u001b[0m\u001b[0marray\u001b[0m\u001b[1;33m(\u001b[0m\u001b[1;33m[\u001b[0m\u001b[1;36m4192984799048971232000\u001b[0m\u001b[1;33m,\u001b[0m \u001b[1;36m3\u001b[0m\u001b[1;33m,\u001b[0m \u001b[1;36m4\u001b[0m\u001b[1;33m]\u001b[0m\u001b[1;33m,\u001b[0m \u001b[0mdtype\u001b[0m\u001b[1;33m=\u001b[0m\u001b[0mnp\u001b[0m\u001b[1;33m.\u001b[0m\u001b[0mint16\u001b[0m\u001b[1;33m)\u001b[0m\u001b[1;33m\u001b[0m\u001b[0m\n\u001b[0m",
      "\u001b[0;31mOverflowError\u001b[0m: Python int too large to convert to C long"
     ]
    }
   ],
   "source": [
    "np.array([4192984799048971232000, 3, 4], dtype=np.int16)"
   ]
  },
  {
   "cell_type": "code",
   "execution_count": 51,
   "metadata": {
    "collapsed": false
   },
   "outputs": [
    {
     "ename": "OverflowError",
     "evalue": "cannot fit 'int' into an index-sized integer",
     "output_type": "error",
     "traceback": [
      "\u001b[0;31m---------------------------------------------------------------------------\u001b[0m",
      "\u001b[0;31mOverflowError\u001b[0m                             Traceback (most recent call last)",
      "\u001b[0;32m<ipython-input-51-753d5d5fe0f0>\u001b[0m in \u001b[0;36m<module>\u001b[0;34m()\u001b[0m\n\u001b[0;32m----> 1\u001b[0;31m \u001b[0mfloat\u001b[0m\u001b[1;33m(\u001b[0m\u001b[0mbytes\u001b[0m\u001b[1;33m(\u001b[0m\u001b[1;36m4192984799048971232000\u001b[0m\u001b[1;33m)\u001b[0m\u001b[1;33m)\u001b[0m\u001b[1;33m\u001b[0m\u001b[0m\n\u001b[0m",
      "\u001b[0;31mOverflowError\u001b[0m: cannot fit 'int' into an index-sized integer"
     ]
    }
   ],
   "source": []
  },
  {
   "cell_type": "code",
   "execution_count": null,
   "metadata": {
    "collapsed": true
   },
   "outputs": [],
   "source": [
    "np.array([1], dtype=int).dtype.itemsize * 8"
   ]
  },
  {
   "cell_type": "code",
   "execution_count": null,
   "metadata": {
    "collapsed": true
   },
   "outputs": [],
   "source": [
    "# Can check the bit length of numbers\n",
    "nums = [4192984799048971232000, 3, 4]\n",
    "max(i.bit_length() for i in nums), min(i.bit_length() for i in nums)"
   ]
  },
  {
   "cell_type": "code",
   "execution_count": 52,
   "metadata": {
    "collapsed": false
   },
   "outputs": [
    {
     "data": {
      "text/plain": [
       "([1989321472, 2548904928, 3, 4],\n",
       " [1989321472, 2548904928, 3, 4],\n",
       " [9609984, 15545312, 3, 4],\n",
       " [41728, 13280, 3, 4])"
      ]
     },
     "execution_count": 52,
     "metadata": {},
     "output_type": "execute_result"
    }
   ],
   "source": [
    "def chop_bits(nums, bitlen=np.dtype(int).itemsize * 8):\n",
    "    mask = (1<<bitlen) - 1\n",
    "    return (num & mask for num in nums)\n",
    "\n",
    "list(chop_bits([4192984799048971232000, 4192984799048971232, 3, 4])), \\\n",
    "list(chop_bits([4192984799048971232000, 4192984799048971232, 3, 4], 32)), \\\n",
    "list(chop_bits([4192984799048971232000, 4192984799048971232, 3, 4], 24)), \\\n",
    "list(chop_bits([4192984799048971232000, 4192984799048971232, 3, 4], 16))"
   ]
  },
  {
   "cell_type": "markdown",
   "metadata": {},
   "source": [
    "And we can make a clever loop over some possible *dtypes* and pass them through eval:"
   ]
  },
  {
   "cell_type": "code",
   "execution_count": null,
   "metadata": {
    "collapsed": true
   },
   "outputs": [],
   "source": [
    "for dt in [\"float\", \"np.float_\", \"np.float64\", \n",
    "           \"np.uint8\", \"np.int\", \"int\"]:\n",
    "    arr = np.zeros(shape=(5,), dtype=eval(dt)) \n",
    "    print(\"%10s: %s -> %s\" % (dt, arr, arr.dtype))"
   ]
  },
  {
   "cell_type": "markdown",
   "metadata": {},
   "source": [
    "Now we'll take just a moment to define one quick helper function to show us these details in a pretty format."
   ]
  },
  {
   "cell_type": "code",
   "execution_count": 54,
   "metadata": {
    "collapsed": false
   },
   "outputs": [
    {
     "data": {
      "text/plain": [
       "49999995000000"
      ]
     },
     "execution_count": 54,
     "metadata": {},
     "output_type": "execute_result"
    }
   ],
   "source": [
    "arr2 = np.arange(1,int(1e7),dtype=np.int64).sum()\n",
    "arr2"
   ]
  },
  {
   "cell_type": "code",
   "execution_count": 56,
   "metadata": {
    "collapsed": true
   },
   "outputs": [],
   "source": [
    "def dump_array(arr):\n",
    "    print(\"%s array of %s:\" % (arr.shape, arr.dtype))\n",
    "    print(arr)\n",
    "    \n",
    "vsep = \"\\n---------------------\\n\""
   ]
  },
  {
   "cell_type": "markdown",
   "metadata": {},
   "source": [
    "See also: http://docs.scipy.org/doc/numpy/user/basics.types.html"
   ]
  },
  {
   "cell_type": "markdown",
   "metadata": {},
   "source": [
    "# Array Creation"
   ]
  },
  {
   "cell_type": "markdown",
   "metadata": {},
   "source": [
    "NumPy provides a number of ways to create an array."
   ]
  },
  {
   "cell_type": "markdown",
   "metadata": {},
   "source": [
    "## `np.zeros` and `np.ones`"
   ]
  },
  {
   "cell_type": "code",
   "execution_count": 57,
   "metadata": {
    "collapsed": false
   },
   "outputs": [
    {
     "name": "stdout",
     "output_type": "stream",
     "text": [
      "(2, 3) array of float64:\n",
      "[[ 0.  0.  0.]\n",
      " [ 0.  0.  0.]]\n"
     ]
    }
   ],
   "source": [
    "zrr = np.zeros(shape=(2,3))\n",
    "dump_array(zrr)"
   ]
  },
  {
   "cell_type": "code",
   "execution_count": 58,
   "metadata": {
    "collapsed": false
   },
   "outputs": [
    {
     "name": "stdout",
     "output_type": "stream",
     "text": [
      "[[ 1.  1.  1.  1.  1.]\n",
      " [ 1.  1.  1.  1.  1.]]\n"
     ]
    }
   ],
   "source": [
    "print(np.ones(shape=(2,5)))"
   ]
  },
  {
   "cell_type": "code",
   "execution_count": 59,
   "metadata": {
    "collapsed": false
   },
   "outputs": [
    {
     "name": "stdout",
     "output_type": "stream",
     "text": [
      "(2, 2) array of int32:\n",
      "[[1 1]\n",
      " [1 1]]\n"
     ]
    }
   ],
   "source": [
    "one_arr = np.ones(shape = (2,2), dtype=int)\n",
    "dump_array(one_arr)"
   ]
  },
  {
   "cell_type": "markdown",
   "metadata": {},
   "source": [
    "## `np.empty`"
   ]
  },
  {
   "cell_type": "markdown",
   "metadata": {},
   "source": [
    "`np.empty` is lightning quick because it simply requests some amount of memory from the operating system and then *does nothing with it*.  Thus, the array returned by `np.empty` is *uninitialized*.  Consider yourself warned.  `np.empty` is very useful if you know you are going to fill up all the (used) elements of your array later."
   ]
  },
  {
   "cell_type": "code",
   "execution_count": 67,
   "metadata": {
    "collapsed": false
   },
   "outputs": [
    {
     "name": "stdout",
     "output_type": "stream",
     "text": [
      "(20, 30) array of int32:\n",
      "[[ 108893520          0  108344992          0   50331648          0\n",
      "    63513317          0   63513309          0   63513301          0\n",
      "    59965442          0          0          0          0          0\n",
      "           0          0   60031405          0          0          0\n",
      "           0          0          0          0   50397823          0]\n",
      " [1868408976          0          6          0   96067720          0\n",
      "    63513198          0   63513190          0   63513182          0\n",
      "    63513174          0   63513166          0   63513158          0\n",
      "    63513151          0   63513143          0   63513135          0\n",
      "    63513127          0   63513119          0   63513111          0]\n",
      " [  63513103          0   63513095          0   63513087          0\n",
      "    63513079          0   63513071          0   63513063          0\n",
      "    63513055          0   63513047          0   63513039          0\n",
      "    63513031          0   63513023          0   63513015          0\n",
      "    63513007          0   63512999          0   63512991          0]\n",
      " [  63512983          0   63512975          0   63512967          0\n",
      "    63512959          0   63512951          0   63512943          0\n",
      "    63512935          0   63512927          0   63512919          0\n",
      "    63512911          0   63512903          0   63512896          0\n",
      "    63512888          0   63512880          0   63512872          0]\n",
      " [  63512864          0   63512856          0   63512848          0\n",
      "    63512840          0   63512832          0   63512824          0\n",
      "    63512816          0   63512808          0   63512800          0\n",
      "    63512792          0   63512784          0   63512776          0\n",
      "    63512768          0   63512760          0   63512752          0]\n",
      " [  63512744          0   63512736          0   63512728          0\n",
      "    63512720          0   63512712          0   63512704          0\n",
      "    63512696          0   63512688          0   63512680          0\n",
      "    63512672          0   63512664          0   63512656          0\n",
      "    63512648          0   63512640          0   63512632          0]\n",
      " [  63512624          0   63512616          0   63512608          0\n",
      "    63512600          0   63512592          0   63512584          0\n",
      "    63512576          0  104458780          0   63521112          0\n",
      "    63521104          0   63521096          0   63521089          0\n",
      "    63521081          0   63521073          0   63521065          0]\n",
      " [  63521057          0   63521049          0   63521041          0\n",
      "    63521033          0   63521025          0   63521017          0\n",
      "    63521009          0   63521001          0   63520993          0\n",
      "    63520985          0   63520977          0   63520969          0\n",
      "    63520961          0   63520953          0   63520945          0]\n",
      " [  63520937          0   63520929          0   63520921          0\n",
      "    63520913          0   63520905          0   63520897          0\n",
      "    63520889          0   63520880          0   63520872          0\n",
      "    63520863          0   63520854          0   63520845          0\n",
      "    63520836          0   63520827          0   63520818          0]\n",
      " [  63520809          0   63520800          0   63520791          0\n",
      "    63520782          0   63520773          0   63520764          0\n",
      "    63520755          0   63520746          0   63520737          0\n",
      "    63520728          0   63520719          0   63520710          0\n",
      "    63520701          0   63520692          0   63520683          0]\n",
      " [  63520674          0   63520665          0   63520656          0\n",
      "    63520647          0   63520638          0   63520629          0\n",
      "    63520620          0   63520611          0   63520602          0\n",
      "    63520593          0   63520584          0   63520575          0\n",
      "    63520566          0   63520557          0   63520548          0]\n",
      " [  63520539          0   63520530          0   63520521          0\n",
      "    63520512          0   63520503          0   63520494          0\n",
      "    63520485          0   63520476          0   63520467          0\n",
      "    63520458          0   63520449          0   63520440          0\n",
      "    63520431          0   63520422          0   63520413          0]\n",
      " [  63520404          0   63520395          0   63520386          0\n",
      "    63520377          0   63520368          0   63520359          0\n",
      "    63520350          0   63520341          0   63520332          0\n",
      "    63520323          0   63520314          0   63520305          0\n",
      "    63520296          0   61797492          0  926496819  943206966]\n",
      " [ 875896864  875704368          0          0          0          0\n",
      "           0          0          0          0          0          0\n",
      "           0          0          0          0          0          0\n",
      "           0          0          0          0          0          0\n",
      "           0          0          0          0          0          0]\n",
      " [         0          0          0          0          0          0\n",
      "           0          0          0          0          0          0\n",
      "           0          0          0          0          0          0\n",
      "           0          0     524288     524296     458760          8\n",
      "           0          0          0          0          0          0]\n",
      " [         0          0          0          0          0          0\n",
      "           0          0          0          0          0          0\n",
      "           0          0          0          0          0          0\n",
      "           0          0          0          0          0          0\n",
      "           0          0          0          0          0          0]\n",
      " [         0          0          0          0          0          0\n",
      "           0          0     589824  538976266  285212672   16843783\n",
      "  1646921217  926233906  842019120  959979552  926168370  540620595\n",
      "   942880032  842413881  538982456  959984437  942814775  892411960\n",
      "   892745268  875706423  538976266  959984437  909325879  941629494]\n",
      " [ 875901497  808728120  876093472  892874802  540620337  942880032\n",
      "   859191097  538980657  959984437  942814775  941629496  825505584\n",
      "   875837233 1528826461  942684448  808793904  538980404  943207736\n",
      "   959984182  891297849  825634868  926232633  859119648  909588792\n",
      "   540555314  942880032  842413881  538982456  959984437  942878776]\n",
      " [ 538970676  842610720  909653045  538980404  859124280  892942128\n",
      "   891297843  926496819  892351286  859119648  909588792  540555314\n",
      "   925906976  925970740  538981428  825504821  825570096  538970679\n",
      "   942684448  808793904  538982713  943207736  959984182  891297849\n",
      "   842149940  892876085  859119648  909588792  540555314  942880032]\n",
      " [ 842413881  538982456  959984437  942878776  538970676  842610720\n",
      "   909653045  538980404  876164409  875638838  891297845  926496819\n",
      "   959460150  859119648  909588792  540555314  925906976  925970740\n",
      "   538981428  808988729  875574583  538970672  943011872  942814776\n",
      "   538982713  875574325  926366008  891297846  926496819  943206966]]\n"
     ]
    }
   ],
   "source": [
    "# DANGER!  uninitialized array \n",
    "# (re-run this cell and you will very likely see different values)\n",
    "err = np.empty(shape=(20,30), dtype=int)\n",
    "dump_array(err)"
   ]
  },
  {
   "cell_type": "markdown",
   "metadata": {},
   "source": [
    "## `np.arange`"
   ]
  },
  {
   "cell_type": "markdown",
   "metadata": {},
   "source": [
    "`np.arange` generates sequences of numbers like Python's `range` built-in.  Non-integer step values may lead to unexpected results; for these cases, you may prefer `np.linspace` and see below. (For a quick — and mostly practical — discussion of the perils of floating-point approximations, see https://docs.python.org/2/tutorial/floatingpoint.html).\n",
    "\n",
    "  * a single value is a stopping point\n",
    "  * two values are a starting point and a stopping point\n",
    "  * three values are a start, a stop, and a step size\n",
    "\n",
    "As with `range`, the ending point is *not* included."
   ]
  },
  {
   "cell_type": "code",
   "execution_count": 68,
   "metadata": {
    "collapsed": false
   },
   "outputs": [
    {
     "name": "stdout",
     "output_type": "stream",
     "text": [
      "int arg: [0 1 2 3 4 5 6 7 8 9]\n",
      "---------------------\n",
      "float arg: [ 0.  1.  2.  3.  4.  5.  6.  7.  8.  9.]\n",
      "---------------------\n",
      "step: [ 0  2  4  6  8 10]\n",
      "---------------------\n",
      "neg. step: [ 10.   9.   8.   7.   6.   5.   4.   3.   2.   1.]\n"
     ]
    }
   ],
   "source": [
    "print(\"int arg: %s\" % np.arange(10), end=vsep)     # cf. range(stop)\n",
    "print(\"float arg: %s\" % np.arange(10.0), end=vsep) # cf. range(stop)\n",
    "print(\"step: %s\" % np.arange(0, 12, 2), end=vsep)  # end point excluded\n",
    "print(\"neg. step: %s\" % np.arange(10, 0, -1.0))"
   ]
  },
  {
   "cell_type": "markdown",
   "metadata": {},
   "source": [
    "## `np.linspace` and `np.logspace`"
   ]
  },
  {
   "cell_type": "markdown",
   "metadata": {},
   "source": [
    "`np.linspace(BEGIN, END, NUMPT)` generates exactly *NUMPT* number of points, evenly spaced, on $[BEGIN, END]$.  Unlike Python's `range` and `np.arange`, these functions are inclusive at BEGIN and END (they produce a closed interval)."
   ]
  },
  {
   "cell_type": "code",
   "execution_count": 71,
   "metadata": {
    "collapsed": false
   },
   "outputs": [
    {
     "name": "stdout",
     "output_type": "stream",
     "text": [
      "End-points are included:\n",
      "---------------------\n",
      "[  0.  10.]\n",
      "---------------------\n",
      "[  0.   5.  10.]\n",
      "---------------------\n",
      "[  0.           3.33333333   6.66666667  10.        ]\n",
      "---------------------\n",
      "[  0.           0.52631579   1.05263158   1.57894737   2.10526316\n",
      "   2.63157895   3.15789474   3.68421053   4.21052632   4.73684211\n",
      "   5.26315789   5.78947368   6.31578947   6.84210526   7.36842105\n",
      "   7.89473684   8.42105263   8.94736842   9.47368421  10.        ]\n",
      "---------------------\n",
      "\n",
      "---------------------\n",
      "\n"
     ]
    }
   ],
   "source": [
    "print(\"End-points are included:\", end=vsep)\n",
    "print(np.linspace(0, 10, 2), end=vsep)\n",
    "print(np.linspace(0, 10, 3), end=vsep)\n",
    "print(np.linspace(0, 10, 4), end=vsep)\n",
    "print(np.linspace(0, 10, 20), end=vsep)\n",
    "print(vsep)"
   ]
  },
  {
   "cell_type": "markdown",
   "metadata": {},
   "source": [
    "For `np.logspace(BEGIN, END, NUMPTS)`, the array is closed on $[10^{BEGIN}, 10^{END}]$ with NUMPT points spread evenly on a logarithmic scale."
   ]
  },
  {
   "cell_type": "code",
   "execution_count": 72,
   "metadata": {
    "collapsed": false
   },
   "outputs": [
    {
     "name": "stdout",
     "output_type": "stream",
     "text": [
      "[    1.    10.   100.  1000.]\n",
      "---------------------\n",
      "[  1.           2.71828183   7.3890561   20.08553692]\n"
     ]
    }
   ],
   "source": [
    "# (10^BEGIN, 10^END, NUMPT)\n",
    "import math\n",
    "print(np.logspace(0, 3, 4), end=vsep)\n",
    "print(np.logspace(0, 3, 4, base=math.e))"
   ]
  },
  {
   "cell_type": "markdown",
   "metadata": {},
   "source": [
    "## Diagonal arrays:  `np.eye` and `np.diag`"
   ]
  },
  {
   "cell_type": "code",
   "execution_count": 99,
   "metadata": {
    "collapsed": false
   },
   "outputs": [
    {
     "ename": "TypeError",
     "evalue": "ufunc 'power' not supported for the input types, and the inputs could not be safely coerced to any supported types according to the casting rule ''safe''",
     "output_type": "error",
     "traceback": [
      "\u001b[0;31m---------------------------------------------------------------------------\u001b[0m",
      "\u001b[0;31mTypeError\u001b[0m                                 Traceback (most recent call last)",
      "\u001b[0;32m<ipython-input-99-a675c03165a4>\u001b[0m in \u001b[0;36m<module>\u001b[0;34m()\u001b[0m\n\u001b[0;32m----> 1\u001b[0;31m \u001b[0mnp\u001b[0m\u001b[1;33m.\u001b[0m\u001b[0mlogspace\u001b[0m\u001b[1;33m(\u001b[0m\u001b[1;36m0\u001b[0m\u001b[1;33m,\u001b[0m\u001b[1;36m11\u001b[0m\u001b[1;33m,\u001b[0m\u001b[1;36m10\u001b[0m\u001b[1;33m,\u001b[0m\u001b[1;36m2\u001b[0m\u001b[1;33m,\u001b[0m\u001b[1;34m'int'\u001b[0m\u001b[1;33m)\u001b[0m\u001b[1;33m\u001b[0m\u001b[0m\n\u001b[0m",
      "\u001b[0;32mC:\\Users\\student01\\AppData\\Local\\Continuum\\Anaconda3\\envs\\anaconda_training\\lib\\site-packages\\numpy\\core\\function_base.py\u001b[0m in \u001b[0;36mlogspace\u001b[0;34m(start, stop, num, endpoint, base, dtype)\u001b[0m\n\u001b[1;32m    200\u001b[0m     \u001b[0my\u001b[0m \u001b[1;33m=\u001b[0m \u001b[0mlinspace\u001b[0m\u001b[1;33m(\u001b[0m\u001b[0mstart\u001b[0m\u001b[1;33m,\u001b[0m \u001b[0mstop\u001b[0m\u001b[1;33m,\u001b[0m \u001b[0mnum\u001b[0m\u001b[1;33m=\u001b[0m\u001b[0mnum\u001b[0m\u001b[1;33m,\u001b[0m \u001b[0mendpoint\u001b[0m\u001b[1;33m=\u001b[0m\u001b[0mendpoint\u001b[0m\u001b[1;33m)\u001b[0m\u001b[1;33m\u001b[0m\u001b[0m\n\u001b[1;32m    201\u001b[0m     \u001b[1;32mif\u001b[0m \u001b[0mdtype\u001b[0m \u001b[1;32mis\u001b[0m \u001b[1;32mNone\u001b[0m\u001b[1;33m:\u001b[0m\u001b[1;33m\u001b[0m\u001b[0m\n\u001b[0;32m--> 202\u001b[0;31m         \u001b[1;32mreturn\u001b[0m \u001b[0m_nx\u001b[0m\u001b[1;33m.\u001b[0m\u001b[0mpower\u001b[0m\u001b[1;33m(\u001b[0m\u001b[0mbase\u001b[0m\u001b[1;33m,\u001b[0m \u001b[0my\u001b[0m\u001b[1;33m)\u001b[0m\u001b[1;33m\u001b[0m\u001b[0m\n\u001b[0m\u001b[1;32m    203\u001b[0m     \u001b[1;32mreturn\u001b[0m \u001b[0m_nx\u001b[0m\u001b[1;33m.\u001b[0m\u001b[0mpower\u001b[0m\u001b[1;33m(\u001b[0m\u001b[0mbase\u001b[0m\u001b[1;33m,\u001b[0m \u001b[0my\u001b[0m\u001b[1;33m)\u001b[0m\u001b[1;33m.\u001b[0m\u001b[0mastype\u001b[0m\u001b[1;33m(\u001b[0m\u001b[0mdtype\u001b[0m\u001b[1;33m)\u001b[0m\u001b[1;33m\u001b[0m\u001b[0m\n",
      "\u001b[0;31mTypeError\u001b[0m: ufunc 'power' not supported for the input types, and the inputs could not be safely coerced to any supported types according to the casting rule ''safe''"
     ]
    }
   ],
   "source": [
    "np.logspace(0,11,10,2,'int')"
   ]
  },
  {
   "cell_type": "markdown",
   "metadata": {},
   "source": [
    "`np.eye(N)` produces an array with shape (N,N) and ones on the diagonal (an NxN identity matrix)."
   ]
  },
  {
   "cell_type": "code",
   "execution_count": null,
   "metadata": {
    "collapsed": true
   },
   "outputs": [],
   "source": [
    "print(np.eye(3))"
   ]
  },
  {
   "cell_type": "markdown",
   "metadata": {},
   "source": [
    "`np.diag` produces a diagonal 2D array from an array argument."
   ]
  },
  {
   "cell_type": "code",
   "execution_count": null,
   "metadata": {
    "collapsed": true
   },
   "outputs": [],
   "source": [
    "print(np.diag(np.arange(1,4)), end=vsep)\n",
    "print(np.diag([3,2,1]))"
   ]
  },
  {
   "cell_type": "markdown",
   "metadata": {},
   "source": [
    "It can also be used to extract a diagonal from a given array."
   ]
  },
  {
   "cell_type": "code",
   "execution_count": null,
   "metadata": {
    "collapsed": true
   },
   "outputs": [],
   "source": [
    "# the diagonal of an identity matrix ...\n",
    "np.diag(np.eye(3))"
   ]
  },
  {
   "cell_type": "markdown",
   "metadata": {},
   "source": [
    "## Arrays from Random Distributions"
   ]
  },
  {
   "cell_type": "markdown",
   "metadata": {},
   "source": [
    "It is common to create arrays whose elements are samples from a random distribution.  For the many options, see:\n",
    "\n",
    "  * help(np.random) \n",
    "  * http://docs.scipy.org/doc/numpy/reference/routines.random.html"
   ]
  },
  {
   "cell_type": "code",
   "execution_count": 104,
   "metadata": {
    "collapsed": false
   },
   "outputs": [
    {
     "ename": "AttributeError",
     "evalue": "module 'numpy' has no attribute 'randint'",
     "output_type": "error",
     "traceback": [
      "\u001b[0;31m---------------------------------------------------------------------------\u001b[0m",
      "\u001b[0;31mAttributeError\u001b[0m                            Traceback (most recent call last)",
      "\u001b[0;32m<ipython-input-104-bcf73e2d99f9>\u001b[0m in \u001b[0;36m<module>\u001b[0;34m()\u001b[0m\n\u001b[0;32m----> 1\u001b[0;31m \u001b[0mnpr\u001b[0m \u001b[1;33m=\u001b[0m \u001b[0mnp\u001b[0m\u001b[1;33m.\u001b[0m\u001b[0mrandint\u001b[0m\u001b[1;33m\u001b[0m\u001b[0m\n\u001b[0m",
      "\u001b[0;31mAttributeError\u001b[0m: module 'numpy' has no attribute 'randint'"
     ]
    }
   ],
   "source": [
    "npr = np.randint"
   ]
  },
  {
   "cell_type": "markdown",
   "metadata": {},
   "source": [
    "### Uniform on [0,1)"
   ]
  },
  {
   "cell_type": "code",
   "execution_count": 106,
   "metadata": {
    "collapsed": false
   },
   "outputs": [
    {
     "name": "stdout",
     "output_type": "stream",
     "text": [
      "Uniform on [0,1):\n",
      "(2, 5) array of float64:\n",
      "[[ 0.21284435  0.70265133  0.99987525  0.45312778  0.40897225]\n",
      " [ 0.38686708  0.86633104  0.86861255  0.55173294  0.0449129 ]]\n"
     ]
    }
   ],
   "source": [
    "print(\"Uniform on [0,1):\")\n",
    "dump_array(npr.random((2,5)))"
   ]
  },
  {
   "cell_type": "markdown",
   "metadata": {},
   "source": [
    "### Standard Normal"
   ]
  },
  {
   "cell_type": "markdown",
   "metadata": {},
   "source": [
    "`np.random` has some redundancy.  It also has some variation in calling conventions.\n",
    "\n",
    "  * `standard_normal` takes *one* tuple argument\n",
    "  * `randn` (which is very common to see in code) takes n arguments where n is the number of dimensions in the result"
   ]
  },
  {
   "cell_type": "code",
   "execution_count": 107,
   "metadata": {
    "collapsed": false
   },
   "outputs": [
    {
     "name": "stdout",
     "output_type": "stream",
     "text": [
      "std. normal - N(0,1):\n",
      "(2, 5) array of float64:\n",
      "[[-0.89962375  0.4869672  -0.80702097  0.58116866 -0.46055054]\n",
      " [-1.03528457  1.39516846 -0.62893603 -0.22774471  1.35913641]]\n",
      "\n",
      "---------------------\n",
      "\n",
      "(2, 5) array of float64:\n",
      "[[ 1.80583223 -0.18128489  1.11706915 -0.73600113  0.20148372]\n",
      " [ 0.32189231  0.07744157  1.36002637 -0.17535764 -1.15483561]]\n"
     ]
    }
   ],
   "source": [
    "print(\"std. normal - N(0,1):\")\n",
    "dump_array(npr.standard_normal((2,5)))\n",
    "print(vsep)\n",
    "dump_array(npr.randn(2,5)) # one tuple parameter"
   ]
  },
  {
   "cell_type": "markdown",
   "metadata": {},
   "source": [
    "### Uniform Integers"
   ]
  },
  {
   "cell_type": "markdown",
   "metadata": {},
   "source": [
    "There are also some differences on discrete distributions:\n",
    "    \n",
    "  * `randint` excludes its upper bound\n",
    "  * `random_integers` includes its upper bound"
   ]
  },
  {
   "cell_type": "code",
   "execution_count": 108,
   "metadata": {
    "collapsed": false
   },
   "outputs": [
    {
     "name": "stdout",
     "output_type": "stream",
     "text": [
      "Uniform ints on [0,5) - upper open:\n",
      "(2, 5) array of int32:\n",
      "[[1 2 1 4 2]\n",
      " [2 1 2 3 1]]\n"
     ]
    }
   ],
   "source": [
    "print(\"Uniform ints on [0,5) - upper open:\")\n",
    "dump_array(npr.randint(0, 5, (2,5)))"
   ]
  },
  {
   "cell_type": "code",
   "execution_count": 109,
   "metadata": {
    "collapsed": false
   },
   "outputs": [
    {
     "name": "stdout",
     "output_type": "stream",
     "text": [
      "\n",
      "Uniform ints on [0,5] - upper closed:\n",
      "(2, 5) array of int32:\n",
      "[[4 3 4 3 3]\n",
      " [2 1 1 2 5]]\n"
     ]
    }
   ],
   "source": [
    "print(\"\\nUniform ints on [0,5] - upper closed:\")\n",
    "dump_array(npr.random_integers(0, 5, (2,5)))"
   ]
  },
  {
   "cell_type": "markdown",
   "metadata": {},
   "source": [
    "## Arrays From a Python List"
   ]
  },
  {
   "cell_type": "markdown",
   "metadata": {},
   "source": [
    "Note, it is also possible to create NumPy arrays from Python lists and tuples.  While this is a nice capability, remember that instantiating a Python list can take relatively long compared to directly using NumPy building blocks.  Other containers and iterables will not, generally, give useful results."
   ]
  },
  {
   "cell_type": "code",
   "execution_count": 112,
   "metadata": {
    "collapsed": false
   },
   "outputs": [
    {
     "name": "stdout",
     "output_type": "stream",
     "text": [
      "(3,) array of int32:\n",
      "[1 2 3]\n",
      "\n",
      "(3,) array of complex128:\n",
      "[ 10.+0.j  20.+0.j   3.+0.j]\n"
     ]
    }
   ],
   "source": [
    "dump_array(np.array([1, 2, 3]))\n",
    "\n",
    "print()\n",
    "dump_array(np.array([10.0, 20.0, 3+0j]))"
   ]
  },
  {
   "cell_type": "markdown",
   "metadata": {},
   "source": [
    "Dimensionality is maintained within nested lists:"
   ]
  },
  {
   "cell_type": "code",
   "execution_count": 111,
   "metadata": {
    "collapsed": false
   },
   "outputs": [
    {
     "name": "stdout",
     "output_type": "stream",
     "text": [
      "(2, 3) array of int32:\n",
      "[[1 2 3]\n",
      " [4 5 6]]\n",
      "\n",
      "(3, 2) array of float64:\n",
      "[[ 1.  2.]\n",
      " [ 3.  4.]\n",
      " [ 5.  6.]]\n"
     ]
    }
   ],
   "source": [
    "dump_array(np.array([[1, 2, 3], \n",
    "                    [4, 5, 6]]))\n",
    "\n",
    "print()\n",
    "dump_array(np.array([[1.0, 2],\n",
    "                    [3, 4],\n",
    "                    [5, 6]]))"
   ]
  },
  {
   "cell_type": "markdown",
   "metadata": {},
   "source": [
    "## From row and column stacks:  `np.r_` and `np.c_`"
   ]
  },
  {
   "cell_type": "markdown",
   "metadata": {},
   "source": [
    "`np.r_` and `np.c_` are special objects, that when sliced (think `obj[some, :, indexers]`), return NumPy `array`s constructed from the contents of the slices. These tools can be used to abbreviate some array constructions."
   ]
  },
  {
   "cell_type": "code",
   "execution_count": null,
   "metadata": {
    "collapsed": true
   },
   "outputs": [],
   "source": [
    "np.c_[np.arange(8), np.arange(8)*2, np.arange(8)*3]"
   ]
  },
  {
   "cell_type": "code",
   "execution_count": null,
   "metadata": {
    "collapsed": true
   },
   "outputs": [],
   "source": [
    "np.r_[np.arange(8), np.arange(8)*2, np.arange(8)*3]"
   ]
  },
  {
   "cell_type": "markdown",
   "metadata": {},
   "source": [
    "# Array Shape and Reshaping"
   ]
  },
  {
   "cell_type": "markdown",
   "metadata": {},
   "source": [
    "We've used the following to get arrays of different shapes:"
   ]
  },
  {
   "cell_type": "code",
   "execution_count": null,
   "metadata": {
    "collapsed": true
   },
   "outputs": [],
   "source": [
    "arr = np.arange(24).reshape((3,4,2))\n",
    "print(arr.shape)"
   ]
  },
  {
   "cell_type": "markdown",
   "metadata": {},
   "source": [
    "Let's investigate shapes in a bit more detail.  When modifying shapes, `-1` can be used as a wildcard that will fill in the shape for one dimension, based on the others."
   ]
  },
  {
   "cell_type": "code",
   "execution_count": null,
   "metadata": {
    "collapsed": true
   },
   "outputs": [],
   "source": [
    "arr = np.arange(1,11)\n",
    "dump_array(arr)\n",
    "\n",
    "print(vsep)\n",
    "# shape of 5 x ? -> 5 x 2\n",
    "reshaped = arr.reshape(5, -1)\n",
    "dump_array(reshaped)"
   ]
  },
  {
   "cell_type": "code",
   "execution_count": null,
   "metadata": {
    "collapsed": true
   },
   "outputs": [],
   "source": [
    "print(arr.reshape(-1, 5))"
   ]
  },
  {
   "cell_type": "code",
   "execution_count": null,
   "metadata": {
    "collapsed": true
   },
   "outputs": [],
   "source": [
    "print(arr.reshape(2,5))"
   ]
  },
  {
   "cell_type": "markdown",
   "metadata": {},
   "source": [
    "Some other shaping utilities include:  \n",
    "\n",
    "  * `np.ravel`\n",
    "  * `np.flatten`\n",
    "  * `np.squeeze`"
   ]
  },
  {
   "cell_type": "markdown",
   "metadata": {},
   "source": [
    "`np.flatten`, like its name implies, makes a 1-D version of the array.  `np.ravel` behaves similarly, but it will try to avoid making a copy."
   ]
  },
  {
   "cell_type": "code",
   "execution_count": null,
   "metadata": {
    "collapsed": true
   },
   "outputs": [],
   "source": [
    "arr = np.arange(10).reshape(5,2)\n",
    "print(\"arr:\")\n",
    "dump_array(arr)\n",
    "\n",
    "flat = arr.flatten()\n",
    "print(\"\\nflattened (my own data? %s):\" % flat.flags.owndata)\n",
    "dump_array(flat)\n",
    "\n",
    "rav = arr.ravel()\n",
    "print(\"\\nraveled (my own data? %s)\" % rav.flags.owndata)\n",
    "dump_array(rav)"
   ]
  },
  {
   "cell_type": "markdown",
   "metadata": {},
   "source": [
    "`np.squeeze` will remove any dimensions that have length 1.  Occasionally, you might get a length 1 dimension by selection."
   ]
  },
  {
   "cell_type": "code",
   "execution_count": null,
   "metadata": {
    "collapsed": true
   },
   "outputs": [],
   "source": [
    "arr = np.arange(10).reshape(5,1,2,1)\n",
    "print(\"arr:\")\n",
    "print(arr)\n",
    "\n",
    "print(\"\\nwhittled down:\")\n",
    "print(arr.squeeze())"
   ]
  },
  {
   "cell_type": "markdown",
   "metadata": {},
   "source": [
    "<img src='img/copyright.png'>"
   ]
  }
 ],
 "metadata": {
  "anaconda-cloud": {},
  "kernelspec": {
   "display_name": "Python [conda env:anaconda_training]",
   "language": "python",
   "name": "conda-env-anaconda_training-py"
  },
  "language_info": {
   "codemirror_mode": {
    "name": "ipython",
    "version": 3
   },
   "file_extension": ".py",
   "mimetype": "text/x-python",
   "name": "python",
   "nbconvert_exporter": "python",
   "pygments_lexer": "ipython3",
   "version": "3.5.2"
  }
 },
 "nbformat": 4,
 "nbformat_minor": 0
}
