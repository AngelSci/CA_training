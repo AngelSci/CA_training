{
 "cells": [
  {
   "cell_type": "markdown",
   "metadata": {},
   "source": [
    "<img src='img/logo.png' />"
   ]
  },
  {
   "cell_type": "markdown",
   "metadata": {},
   "source": [
    "<img src='img/title.png'>"
   ]
  },
  {
   "cell_type": "markdown",
   "metadata": {},
   "source": [
    "<img src='img/py3k.png'>"
   ]
  },
  {
   "cell_type": "markdown",
   "metadata": {},
   "source": [
    "# Table of Contents\n",
    "* [Learning Objectives:](#Learning-Objectives:)\n",
    "* [Additional NumPy Subpackages](#Additional-NumPy-Subpackages)\n",
    "\t* [FFT](#FFT)\n",
    "\t* [NumPy FFT vs. SciPy FFT vs. FFTW vs. MKLFFT](#NumPy-FFT-vs.-SciPy-FFT-vs.-FFTW-vs.-MKLFFT)\n",
    "\t\t* [Installing the MKL so that you can use MKL FFTs](#Installing-the-MKL-so-that-you-can-use-MKL-FFTs)\n",
    "\t\t* [Installing PyFFTW](#Installing-PyFFTW)\n",
    "\t* [Random distributions and sampling:  `np.random`](#Random-distributions-and-sampling:--np.random)\n",
    "\t* [Linear Algebra:  np.linalg and np.matrix](#Linear-Algebra:--np.linalg-and-np.matrix)"
   ]
  },
  {
   "cell_type": "markdown",
   "metadata": {},
   "source": [
    "# Learning Objectives:"
   ]
  },
  {
   "cell_type": "markdown",
   "metadata": {},
   "source": [
    "After completion of this module, learners should be able to:\n",
    "\n",
    "* Use the FFT package\n",
    "* Use the Linear Algebra package"
   ]
  },
  {
   "cell_type": "markdown",
   "metadata": {},
   "source": [
    "# Additional NumPy Subpackages"
   ]
  },
  {
   "cell_type": "markdown",
   "metadata": {},
   "source": [
    "- `np.fft` &mdash; Fast Fourier transforms\n",
    "\n",
    "- `np.polynomial` &mdash; Orthogonal polynomials, spline fitting\n",
    "\n",
    "- `np.linalg` &mdash; Linear algebra\n",
    " - `cholesky, det, eig, eigvals, inv, lstsq, norm, qr, svd`\n",
    "\n",
    "- `np.math` &mdash; C standard library math functions\n",
    "\n",
    "- `np.random` &mdash; Random number generation\n",
    " - `beta, gamma, geometric, hypergeometric, lognormal, normal, poisson, uniform, weibull`\n",
    " - many others, if you need it, NumPy probably has it."
   ]
  },
  {
   "cell_type": "markdown",
   "metadata": {},
   "source": [
    "## FFT"
   ]
  },
  {
   "cell_type": "markdown",
   "metadata": {},
   "source": [
    "Optimizing Python in the Real World: NumPy, Numba, and the NUFFT\n",
    "Post by Jake Vanderplas.\n",
    "\n",
    "Very nice look at the optimizations how FFT is actually implemented. This will \n",
    "show progressively performant implementations with numpy and numba.\n",
    "\n",
    "https://jakevdp.github.io/blog/2015/02/24/optimizing-python-with-numpy-and-numba/"
   ]
  },
  {
   "cell_type": "code",
   "execution_count": null,
   "metadata": {
    "collapsed": true
   },
   "outputs": [],
   "source": [
    "%matplotlib inline\n",
    "import numpy as np\n",
    "import matplotlib.pyplot as plt\n",
    "PI = np.pi\n",
    "t = np.linspace(0, 120, 4000)\n",
    "nrr = np.random.random\n",
    "\n",
    "signal  =  12 * np.sin(3 * 2*PI*t)   # 3 Hz\n",
    "signal +=   6 * np.sin(8 * 2*PI*t)   # 8 Hz\n",
    "signal += 1.5 * nrr(len(t))          # noise"
   ]
  },
  {
   "cell_type": "code",
   "execution_count": null,
   "metadata": {
    "collapsed": true
   },
   "outputs": [],
   "source": [
    "# General FFT calculation\n",
    "FFT   = abs(np.fft.fft(signal))\n",
    "freqs = np.fft.fftfreq(signal.size, t[1] - t[0])\n",
    "plt.plot(t, signal); plt.xlim(0, 4); plt.show()\n",
    "plt.plot(freqs, FFT);"
   ]
  },
  {
   "cell_type": "code",
   "execution_count": null,
   "metadata": {
    "collapsed": true
   },
   "outputs": [],
   "source": [
    "# For one-dimensional real inputs we can discard the negative frequencies\n",
    "FFT   = abs(np.fft.rfft(signal))\n",
    "freqs = np.fft.rfftfreq(signal.size, t[1] - t[0])\n",
    "plt.plot(freqs, FFT); plt.xlim(-0.2, 10);"
   ]
  },
  {
   "cell_type": "markdown",
   "metadata": {},
   "source": [
    "**Testing speedup of discarding negative frequencies**"
   ]
  },
  {
   "cell_type": "code",
   "execution_count": null,
   "metadata": {
    "collapsed": true
   },
   "outputs": [],
   "source": [
    "%%timeit\n",
    "FFT   = abs(np.fft.fft(signal))\n",
    "freqs = np.fft.fftfreq(signal.size, t[1] - t[0])"
   ]
  },
  {
   "cell_type": "code",
   "execution_count": null,
   "metadata": {
    "collapsed": true
   },
   "outputs": [],
   "source": [
    "%%timeit\n",
    "FFT   = abs(np.fft.rfft(signal))\n",
    "freqs = np.fft.rfftfreq(signal.size, t[1] - t[0])"
   ]
  },
  {
   "cell_type": "markdown",
   "metadata": {},
   "source": [
    "## NumPy FFT vs. SciPy FFT vs. FFTW vs. MKLFFT"
   ]
  },
  {
   "cell_type": "markdown",
   "metadata": {},
   "source": [
    "Which FFT library should you use?\n",
    "* If you want to use the MKL, you must use NumPy.\n",
    "* The default installations of NumPy and SciPy use FFTPACK\n",
    "* FFTW is faster than FFTPACK, and often faster than MKL"
   ]
  },
  {
   "cell_type": "markdown",
   "metadata": {},
   "source": [
    "### Installing the MKL so that you can use MKL FFTs"
   ]
  },
  {
   "cell_type": "markdown",
   "metadata": {},
   "source": [
    "```bash\n",
    "#Print the licenses you can use. If you can install MKL, it will be listed\n",
    "conda info -l \n",
    "conda install mkl mklfft\n",
    "\n",
    "#This will print \"True\" if you are using the MKL FFT routines\n",
    "python -c \"import numpy; print numpy.fft.using_mklfft\" \n",
    "```"
   ]
  },
  {
   "cell_type": "markdown",
   "metadata": {},
   "source": [
    "### Installing PyFFTW"
   ]
  },
  {
   "cell_type": "markdown",
   "metadata": {},
   "source": [
    "1. Install FFTW\n",
    "  * apt-get install libfftw3-3 libfftw3-dev\n",
    "  * yum install fftw-devel \n",
    "2. pip install pyfftw"
   ]
  },
  {
   "cell_type": "markdown",
   "metadata": {},
   "source": [
    "## Random distributions and sampling:  `np.random`"
   ]
  },
  {
   "cell_type": "code",
   "execution_count": null,
   "metadata": {
    "collapsed": true
   },
   "outputs": [],
   "source": [
    "# loc = mean, scale = standard deviation\n",
    "normal = np.random.normal(loc=0, scale=1, size=(5,10,15))\n",
    "print(normal[1,:,3])\n",
    "\n",
    "import matplotlib.mlab as mlab\n",
    "n, bins, patches = plt.hist(normal.flatten(), bins=10, normed=True)\n",
    "mu = np.mean(normal)\n",
    "variance = np.var(normal)\n",
    "sigma = np.sqrt(variance)\n",
    "\n",
    "# Draw the ideal curve\n",
    "gaussian = np.linspace(-4,4,1000)\n",
    "ideal = mlab.normpdf(gaussian, mu, sigma)\n",
    "plt.plot(gaussian, ideal, 'g-', linewidth=4)\n",
    "\n",
    "# Extapolate the smoothed curve\n",
    "smooth = mlab.normpdf(bins, mu, sigma)\n",
    "plt.plot(bins, smooth, 'r-', linewidth=1.5)\n",
    "\n",
    "plt.title(\"Gaussian Histogram\")\n",
    "plt.xlabel(\"Value\")\n",
    "# This is not a probability mass, but a probability density\n",
    "plt.ylabel(\"Probability density\")\n",
    "plt.show()"
   ]
  },
  {
   "cell_type": "code",
   "execution_count": null,
   "metadata": {
    "collapsed": true
   },
   "outputs": [],
   "source": [
    "np.random.permutation(np.arange(10))"
   ]
  },
  {
   "cell_type": "markdown",
   "metadata": {},
   "source": [
    "## Linear Algebra:  np.linalg and np.matrix"
   ]
  },
  {
   "cell_type": "code",
   "execution_count": null,
   "metadata": {
    "collapsed": true
   },
   "outputs": [],
   "source": [
    "import numpy.linalg as la\n",
    "\n",
    "# Ax = b\n",
    "\n",
    "A = np.array([[2,1],\n",
    "              [1,2]])\n",
    "b = np.array([.5, .75])\n",
    "\n",
    "soln1 = la.solve(A,b)\n",
    "\n",
    "Ainv = la.inv(A)\n",
    "soln2 = np.dot(Ainv, b)  # generally don't want to take explicit inverse\n",
    "\n",
    "np.allclose(soln1, soln2)"
   ]
  },
  {
   "cell_type": "code",
   "execution_count": null,
   "metadata": {
    "collapsed": true
   },
   "outputs": [],
   "source": [
    "# note also, matrices --> (a 2d numpy array)\n",
    "b = np.array([.5, .75])\n",
    "\n",
    "A = np.matrix('2 1; 1 2') # matlab style\n",
    "b = np.matrix(b).T        # convert a np.array\n",
    "\n",
    "# matrix has .I --> this is the matrix inverse (pseudo-inverse)\n",
    "#  -and- \n",
    "# * is matrix multiplication\n",
    "A.I * b"
   ]
  },
  {
   "cell_type": "markdown",
   "metadata": {},
   "source": [
    "<img src='img/copyright.png'>"
   ]
  }
 ],
 "metadata": {
  "kernelspec": {
   "display_name": "Python [conda env:anaconda_training]",
   "language": "python",
   "name": "conda-env-anaconda_training-py"
  },
  "language_info": {
   "codemirror_mode": {
    "name": "ipython",
    "version": 3
   },
   "file_extension": ".py",
   "mimetype": "text/x-python",
   "name": "python",
   "nbconvert_exporter": "python",
   "pygments_lexer": "ipython3",
   "version": "3.5.2"
  }
 },
 "nbformat": 4,
 "nbformat_minor": 0
}
