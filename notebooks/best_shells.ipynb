{
 "cells": [
  {
   "cell_type": "markdown",
   "metadata": {},
   "source": [
    "<img src='img/logo.png'>\n",
    "<img src='img/title.png'>\n",
    "<img src='img/py3k.png'>"
   ]
  },
  {
   "cell_type": "markdown",
   "metadata": {},
   "source": [
    "# Table of Contents\n",
    "* [Set-up](#Set-up)\n",
    "* [Scripts and Shells](#Scripts-and-Shells)\n",
    "\t* [Working with a shell](#Working-with-a-shell)\n",
    "\t* [Working with a script](#Working-with-a-script)\n",
    "* [What is a Shell?](#What-is-a-Shell?)\n",
    "\t* [Kernel](#Kernel)\n",
    "\t* [Shell](#Shell)\n",
    "\t* [Shells: CLI vs GUI](#Shells:-CLI-vs-GUI)\n",
    "* [System Shells](#System-Shells)\n",
    "\t* [Windows](#Windows)\n",
    "\t* [Mac](#Mac)\n",
    "\t* [Linux](#Linux)\n",
    "* [Python Shells](#Python-Shells)\n",
    "\t* [python shell (>>>)](#python-shell-%28>>>%29)\n",
    "\t* [IPython shell (In [1]:)](#IPython-shell-%28In-[1]:%29)\n",
    "\t* [IPython Notebook](#IPython-Notebook)\n",
    "\t* [Jupyter Notebook](#Jupyter-Notebook)\n",
    "* [Files and Paths](#Files-and-Paths)\n",
    "\t* [Portable Python Code](#Portable-Python-Code)\n",
    "* [Scripts vs. Modules](#Scripts-vs.-Modules)\n",
    "\t* [Example Script 1](#Example-Script-1)\n",
    "\t\t* [the `__init__.py` file](#the-__init__.py-file)\n",
    "\t* [Example Script 2](#Example-Script-2)\n",
    "\t* [Example Script 3](#Example-Script-3)\n",
    "\t* [Executable scripts](#Executable-scripts)\n",
    "* [Module Basics](#Module-Basics)\n",
    "\t* [import](#import)\n",
    "\t* [sys.path](#sys.path)\n",
    "* [Section Summary](#Section-Summary)\n"
   ]
  },
  {
   "cell_type": "markdown",
   "metadata": {},
   "source": [
    "# Set-up"
   ]
  },
  {
   "cell_type": "code",
   "execution_count": null,
   "metadata": {
    "collapsed": true
   },
   "outputs": [],
   "source": [
    "# imports used in this notebook\n",
    "\n",
    "import os\n",
    "import sys\n",
    "import argparse\n",
    "import logging"
   ]
  },
  {
   "cell_type": "markdown",
   "metadata": {},
   "source": [
    "# Scripts and Shells"
   ]
  },
  {
   "cell_type": "markdown",
   "metadata": {},
   "source": [
    "* One of the best ways to make your work **automated** and **reproducible** is to write scripts.\n",
    "* Those scripts are typically run from or interact with the system shell, usually a Command Line Interface (CLI). \n",
    "* Herein, we see how to do this with python."
   ]
  },
  {
   "cell_type": "markdown",
   "metadata": {},
   "source": [
    "## Working with a shell"
   ]
  },
  {
   "cell_type": "markdown",
   "metadata": {},
   "source": [
    "* Working in the shell can be like using a calculator\n",
    "* The work is not preserved after you turn off\n",
    "* Reproducibility is unlikely"
   ]
  },
  {
   "cell_type": "markdown",
   "metadata": {},
   "source": [
    "## Working with a script"
   ]
  },
  {
   "cell_type": "markdown",
   "metadata": {},
   "source": [
    "* Write code in a file\n",
    "* Execute the file from a shell\n",
    "* Code is saved for reuse, automation, reproducibility\n",
    "* Scripts can interact with the system shell in powerful ways"
   ]
  },
  {
   "cell_type": "markdown",
   "metadata": {},
   "source": [
    "# What is a Shell?"
   ]
  },
  {
   "cell_type": "markdown",
   "metadata": {},
   "source": [
    "The terms \"shell\" and \"kernel\" come from nuts or seeds and provide a nice metaphor: \n",
    "* e.g. pistachio nuts have an outer husk (shell) and edible center (kernel).\n",
    "\n",
    "The phrases \"kernel\" and \"shell\" are used loosely in many contexts:\n",
    "* operating systems: e.g. \"the NT kernel inside the Windows shell\"\n",
    "* python: e.g. \"the python3 kernel inside the python shell\"\n",
    "* Jupyter: e.g. \"the IPython kernel inside the Jupyter shell\"\n",
    "* nuts: e.g. \"pistachio kernel inside the pistachio shell\"\n",
    "\n",
    "Example: What are the kernel and shell in an operating system?\n",
    "* Every operating system has some form of \"shell\" and \"kernel\"\n",
    "* The kernel mediates interactions between the hardware (cpu, ram, hdd, keyboard, monitor) and the programs running\n",
    "* The shell is how you interact with the kernel and running programs\n",
    "\n",
    "\n",
    "> human > (keyboard,screen) > shell > kernel > (cpu,ram,hdd)"
   ]
  },
  {
   "cell_type": "markdown",
   "metadata": {},
   "source": [
    "## Kernel"
   ]
  },
  {
   "cell_type": "markdown",
   "metadata": {},
   "source": [
    "> \"kernel is the lowest-level, or \"inner-most\" component of most operating systems.\"\n",
    "\n",
    "> \"kernel is a program that manages input/output requests from software, and translates them into instructions for the CPU\"\n",
    "\n",
    "> <https://en.wikipedia.org/wiki/Kernel_(operating_system)>\n",
    "\n",
    "Example OS Kernels:\n",
    "* Linux: FreeBSD\n",
    "* OSX: XNU (2000-present), Darwin, Mach\n",
    "* Windows: [MS-DOS (1981-2000)](https://en.wikipedia.org/wiki/MS-DOS), [9x kernel (1990-1999)](https://en.wikipedia.org/wiki/Architecture_of_Windows_9x), [NT kernel (2000-present)](https://en.wikipedia.org/wiki/Architecture_of_Windows_NT)\n",
    "\n",
    "Example Language Kernels \"inside\" the Jupyter Notebook shell:\n",
    "* Python\n",
    "* R\n",
    "* Julia\n",
    "* MATLAB\n",
    "* Javascript\n",
    "* Ruby\n",
    "* Perl\n",
    "* Bash"
   ]
  },
  {
   "cell_type": "markdown",
   "metadata": {},
   "source": [
    "## Shell"
   ]
  },
  {
   "cell_type": "markdown",
   "metadata": {},
   "source": [
    "In context of operating systems:\n",
    "> \"A shell is a user interface for access to an operating system's services.\"\n",
    "> <https://en.wikipedia.org/wiki/Shell_(computing)>\n",
    "\n",
    "*Note: Common usage of the word, \"shell\" usually implies \"CLI Shell\", but...*\n",
    "\n",
    "\n",
    "There are both \"CLI\" and \"GUI\" shells.\n",
    "* CLI = Command Line Interface\n",
    "* GUI = Graphical User Interface\n",
    "\n",
    "Example CLI Shells:\n",
    "* Linux/OSX/Posix: sh, bash, csh, tcsh, zsh\n",
    "* Windows: DOS, Command Prompt\n",
    "\n",
    "Example GUI Shells:\n",
    "* Linux: Gnome, KDE, Xwindows\n",
    "* OSX: Quartz, Aqua\n",
    "* Windows: \"Windows shell\" (desktop environment, start menu, and task bar)\n",
    "\n",
    "*Note: Herein, the system CLI shell \"prompt\" is assumed to be the character `$`, but yours may be different*"
   ]
  },
  {
   "cell_type": "markdown",
   "metadata": {},
   "source": [
    "##  Shells: CLI vs GUI"
   ]
  },
  {
   "cell_type": "markdown",
   "metadata": {},
   "source": [
    "Advantages of CLI shells:\n",
    "* Often more efficient if you like to type\n",
    "* Easy to script (reproducibility and automation)\n",
    "* Easy to automate repetitive tasks\n",
    "* Very efficient use of system resources\n",
    "* Very efficient for remote connections, slow networks\n",
    "* Often easier for the seeing impaired\n",
    "\n",
    "Advantages of GUI shells:\n",
    "* Often more efficient if you hate to type\n",
    "* Humans are really good at processing visual information\n",
    "* Often easier for the mobility impaired"
   ]
  },
  {
   "cell_type": "markdown",
   "metadata": {},
   "source": [
    "# System Shells"
   ]
  },
  {
   "cell_type": "markdown",
   "metadata": {},
   "source": [
    "Throughout the course, we'll be using your system shell, so let's take a moment to make sure you can launch it."
   ]
  },
  {
   "cell_type": "markdown",
   "metadata": {},
   "source": [
    "## Windows"
   ]
  },
  {
   "cell_type": "markdown",
   "metadata": {},
   "source": [
    "The most commonly available (CLI) shell is `cmd.exe`, commonly called `Command Prompt`:\n",
    "* Start Menu > Command Prompt\n",
    "* Common path location to this program is `C:\\Windows\\System32\\cmd.exe`"
   ]
  },
  {
   "cell_type": "markdown",
   "metadata": {},
   "source": [
    "**Practice:** use your Windows system CLI shell to determine the location of python\n",
    "\n",
    "```\n",
    "where python3\n",
    "```"
   ]
  },
  {
   "cell_type": "markdown",
   "metadata": {},
   "source": [
    "**Practice:** Create a script to launch python:\n",
    "* Create a new text file on desktop called `launch_ipython.txt`\n",
    "* Enter the following text in the file:\n",
    "\n",
    "```\n",
    "ipython\n",
    "```"
   ]
  },
  {
   "cell_type": "markdown",
   "metadata": {},
   "source": [
    "* Rename the file to `launch_ipython.bat`\n",
    "* double-click on the file to launch python"
   ]
  },
  {
   "cell_type": "markdown",
   "metadata": {},
   "source": [
    "**Practice:** Create a script to launch the ipython notebook:\n",
    "* Create a new text file on desktop called `launch_notebook.txt`\n",
    "* Enter the following text in the file:\n",
    "\n",
    "```\n",
    "cd course_folder\n",
    "ipython notebook\n",
    "```"
   ]
  },
  {
   "cell_type": "markdown",
   "metadata": {},
   "source": [
    "* Rename the file to `launch_notebook.bat`\n",
    "* double-click on the file to launch python"
   ]
  },
  {
   "cell_type": "markdown",
   "metadata": {},
   "source": [
    "## Mac"
   ]
  },
  {
   "cell_type": "markdown",
   "metadata": {},
   "source": [
    "OSX comes with the Terminal.app\n",
    "* Use the Finder to launch `/Applications/Terminal.app`\n",
    "* The terminal application is a shell for running various shells\n",
    "* The default shell is `bash`"
   ]
  },
  {
   "cell_type": "markdown",
   "metadata": {},
   "source": [
    "**Practice:** Add the Terminal app to your Dock"
   ]
  },
  {
   "cell_type": "markdown",
   "metadata": {},
   "source": [
    "**Practice:** use your OSX system CLI shell (Terminal.app or iTerm.app) to determine the location of python\n",
    "\n",
    "```\n",
    "which python3\n",
    "```"
   ]
  },
  {
   "cell_type": "markdown",
   "metadata": {},
   "source": [
    "**Practice:** use your OSX system CLI shell (Terminal.app or iTerm.app) to determine the location of ipython\n",
    "\n",
    "```\n",
    "which ipython\n",
    "```"
   ]
  },
  {
   "cell_type": "markdown",
   "metadata": {},
   "source": [
    "**Practice:** Create a script to launch ipython:\n",
    "* Create a new text file on your Desktop called `launch_ipython.txt`\n",
    "* Enter the following text in the file:\n",
    "\n",
    "```\n",
    "ipython\n",
    "```"
   ]
  },
  {
   "cell_type": "markdown",
   "metadata": {},
   "source": [
    "* Rename the file to `launch_ipython.sh`\n",
    "* use the terminal to change the file permissions\n",
    "\n",
    "```bash\n",
    "chmod a+x launch_ipython.sh\n",
    "```"
   ]
  },
  {
   "cell_type": "markdown",
   "metadata": {},
   "source": [
    "* in Finder, right-click your file and select \"Open with\" and then \"Other...\".\n",
    "* switch from \"Recommended Applications\" to \"All Applications\".\n",
    "* Select \"Terminal\" as the application to associate all \".sh\" files.\n",
    "* check \"Always Open With\"\n",
    "* double-click on script to run it"
   ]
  },
  {
   "cell_type": "markdown",
   "metadata": {},
   "source": [
    "## Linux"
   ]
  },
  {
   "cell_type": "markdown",
   "metadata": {},
   "source": [
    "There are too many variants of Linux to provide specific directions:\n",
    "* Most linux users use a terminal application or a shell daily\n",
    "* Linux can boot straight into a CLI shell, usually bash\n",
    "* When in the GUI shell, like Gnome, right-click on the desktop often provides a context menu with an item called \"Terminal\""
   ]
  },
  {
   "cell_type": "markdown",
   "metadata": {},
   "source": [
    "**Practice:**\n",
    "Use any CLI shell to determine the location of the system install of python3\n",
    "\n",
    "```\n",
    "which python3\n",
    "```"
   ]
  },
  {
   "cell_type": "markdown",
   "metadata": {},
   "source": [
    "```\n",
    "which ipython\n",
    "```"
   ]
  },
  {
   "cell_type": "markdown",
   "metadata": {},
   "source": [
    "# Python Shells"
   ]
  },
  {
   "cell_type": "markdown",
   "metadata": {},
   "source": [
    "Python shells allow you to interact with a \"python intepreter\" which is often spoken of as a \"python kernel\".\n",
    "\n",
    "There are both CLI and GUI shells for python:\n",
    "* python (CLI)\n",
    "* IPython (CLI)\n",
    "* Jupyter notebook (GUI and CLI)"
   ]
  },
  {
   "cell_type": "markdown",
   "metadata": {},
   "source": [
    "## python shell (>>>)\n"
   ]
  },
  {
   "cell_type": "markdown",
   "metadata": {},
   "source": [
    "The CLI program called `python` is installed by default on almost all operating systems."
   ]
  },
  {
   "cell_type": "code",
   "execution_count": null,
   "metadata": {
    "collapsed": false
   },
   "outputs": [],
   "source": [
    "# Where is the program \"python\" installed and what version is it?\n",
    "\n",
    "import sys\n",
    "print( sys.executable )\n",
    "print( sys.exec_prefix )\n",
    "!python --version"
   ]
  },
  {
   "cell_type": "markdown",
   "metadata": {},
   "source": [
    "To launch the python shell from your system terminal/command-prompt:\n",
    "```bash\n",
    "$ python3\n",
    "```"
   ]
  },
  {
   "cell_type": "markdown",
   "metadata": {},
   "source": [
    "In the python shell:\n",
    "```python\n",
    "Python 3.4.3 |Anaconda 2.3.0 (x86_64)| (default, Mar  6 2015, 12:07:41)\n",
    "[GCC 4.2.1 (Apple Inc. build 5577)] on darwin\n",
    "Type \"help\", \"copyright\", \"credits\" or \"license\" for more information.\n",
    "\n",
    ">>> print(\"Hello\")\n",
    "Hello\n",
    "\n",
    ">>> 1 + 2\n",
    "3\n",
    "```"
   ]
  },
  {
   "cell_type": "markdown",
   "metadata": {},
   "source": [
    "## IPython shell (In [1]:)"
   ]
  },
  {
   "cell_type": "markdown",
   "metadata": {},
   "source": [
    "The CLI program called `ipython` is not installed by default, but comes with Anaconda. It has manay advantages over the regular `python` shell."
   ]
  },
  {
   "cell_type": "markdown",
   "metadata": {},
   "source": [
    "To launch the IPython shell from your system shell:\n",
    "```bash\n",
    "$ ipython\n",
    "```"
   ]
  },
  {
   "cell_type": "markdown",
   "metadata": {},
   "source": [
    "In the IPython shell:"
   ]
  },
  {
   "cell_type": "markdown",
   "metadata": {},
   "source": [
    "```python\n",
    "Python 3.4.3 |Anaconda 2.3.0 (x86_64)| (default, Mar  6 2015, 12:07:41)\n",
    "Type \"copyright\", \"credits\" or \"license\" for more information.\n",
    "\n",
    "IPython 3.2.1 -- An enhanced Interactive Python.\n",
    "Anaconda is brought to you by Continuum Analytics.\n",
    "Please check out: http://continuum.io/thanks and https://anaconda.org\n",
    "?         -> Introduction and overview of IPython's features.\n",
    "%quickref -> Quick reference.\n",
    "help      -> Python's own help system.\n",
    "object?   -> Details about 'object', use 'object??' for extra details.\n",
    "\n",
    "In [1]: print(\"Hello\")\n",
    "Hello\n",
    "\n",
    "In [2]: 1 + 2\n",
    "Out[2]: 3\n",
    "\n",
    "In [3]:\n",
    "```"
   ]
  },
  {
   "cell_type": "markdown",
   "metadata": {},
   "source": [
    "## IPython Notebook"
   ]
  },
  {
   "cell_type": "markdown",
   "metadata": {},
   "source": [
    "The IPython Notebook is an interactive GUI shell, that supports CLI shell commands, all providing a way to interact with the python kernel."
   ]
  },
  {
   "cell_type": "markdown",
   "metadata": {},
   "source": [
    "To launch the ipython notebook from your system shell:\n",
    "\n",
    "```bash\n",
    "ipython notebook\n",
    "```"
   ]
  },
  {
   "cell_type": "markdown",
   "metadata": {},
   "source": [
    "Then wait for the notebook interface to open as a webpage in your default web-browser. This web session is entirely contained on your local system. "
   ]
  },
  {
   "cell_type": "markdown",
   "metadata": {},
   "source": [
    "## Jupyter Notebook"
   ]
  },
  {
   "cell_type": "markdown",
   "metadata": {},
   "source": [
    "Eventually, developers of the **\"IPython Notebook\"** added support for interactive with **other kernels**, not just the python kernel. Some of the first language kernels added were Julia and R. From those names, (Ju)lia, (Pyt)hon, (R). Thus, the project and the technology was **renamed \"Jupyter\"**, in part to emphasize that this interactive environment is no longer limited to just python.\n",
    "\n",
    "Also, the developers were mostly scientists, many of whom have spoken to the **inspiration of Galileo**, the first modern physicist, and his notebooks which he used to document both calculations and visual observations of **the moons of Jupiter**."
   ]
  },
  {
   "cell_type": "markdown",
   "metadata": {},
   "source": [
    "# Files and Paths"
   ]
  },
  {
   "cell_type": "markdown",
   "metadata": {},
   "source": [
    "One of the most common uses for a system shell, is to interact with files.\n",
    "\n",
    "Python can interact with the system shell and files in a platform-independent way!"
   ]
  },
  {
   "cell_type": "code",
   "execution_count": null,
   "metadata": {
    "collapsed": true
   },
   "outputs": [],
   "source": [
    "# Useful for dealing with files and paths\n",
    "import os"
   ]
  },
  {
   "cell_type": "code",
   "execution_count": null,
   "metadata": {
    "collapsed": false
   },
   "outputs": [],
   "source": [
    "# Check you platform name:\n",
    "# What did you get?\n",
    "#     'posix', 'nt', 'os2', 'ce', 'java', 'riscos'\n",
    "\n",
    "os.name"
   ]
  },
  {
   "cell_type": "code",
   "execution_count": null,
   "metadata": {
    "collapsed": false
   },
   "outputs": [],
   "source": [
    "# The sys module gives finer granularity:\n",
    "# What did you get?\n",
    "#     'linux2','win32','cygwin','darwin','os2','riscos','atheos'\n",
    "\n",
    "import sys\n",
    "sys.platform"
   ]
  },
  {
   "cell_type": "code",
   "execution_count": null,
   "metadata": {
    "collapsed": false
   },
   "outputs": [],
   "source": [
    "# Here's the problem: system shell commands vary from system to system\n",
    "if os.name is \"posix\" or sys.platform is \"cygwin\":\n",
    "    !pwd\n",
    "elif os.name is \"nt\":\n",
    "    !chdir\n",
    "else:\n",
    "    print(\"Beep. Boop.\")"
   ]
  },
  {
   "cell_type": "markdown",
   "metadata": {},
   "source": [
    "The Python module `os` provides **platform-independent** tools for handling files and paths"
   ]
  },
  {
   "cell_type": "code",
   "execution_count": null,
   "metadata": {
    "collapsed": false
   },
   "outputs": [],
   "source": [
    "# Get current working directory\n",
    "cwd = os.getcwd()\n",
    "print(cwd)"
   ]
  },
  {
   "cell_type": "code",
   "execution_count": null,
   "metadata": {
    "collapsed": false
   },
   "outputs": [],
   "source": [
    "dir_list = os.listdir(cwd)\n",
    "dir_list[0:6]"
   ]
  },
  {
   "cell_type": "code",
   "execution_count": null,
   "metadata": {
    "collapsed": false
   },
   "outputs": [],
   "source": [
    "# Get absolute path\n",
    "os.path.abspath('README')"
   ]
  },
  {
   "cell_type": "code",
   "execution_count": null,
   "metadata": {
    "collapsed": false
   },
   "outputs": [],
   "source": [
    "# Exists?\n",
    "os.path.exists('README')"
   ]
  },
  {
   "cell_type": "code",
   "execution_count": null,
   "metadata": {
    "collapsed": false
   },
   "outputs": [],
   "source": [
    "os.path.isfile(cwd)"
   ]
  },
  {
   "cell_type": "code",
   "execution_count": null,
   "metadata": {
    "collapsed": false
   },
   "outputs": [],
   "source": [
    "os.path.isdir(cwd)"
   ]
  },
  {
   "cell_type": "code",
   "execution_count": null,
   "metadata": {
    "collapsed": false
   },
   "outputs": [],
   "source": [
    "# DEMO: Not important to understand all the syntax for now.\n",
    "# Purpose: Show how to test for file, dir, not found.\n",
    "data_file = os.path.join(cwd, 'data', 'exoplanets.csv')\n",
    "\n",
    "if os.path.isfile(data_file):\n",
    "    print(\"IS FILE:\", data_file)\n",
    "    file_found = True\n",
    "elif os.path.isdir(data_file):\n",
    "    print(\"IS DIR:\", data_file)\n",
    "    file_found = True\n",
    "else:\n",
    "    print(\"NOT FOUND:\", data_file)\n",
    "    file_found = False"
   ]
  },
  {
   "cell_type": "code",
   "execution_count": null,
   "metadata": {
    "collapsed": false
   },
   "outputs": [],
   "source": [
    "# Demo: Explore your file tree with os.path.join and os.listdir\n",
    "data_dir  = os.path.join(cwd,'data')\n",
    "data_list = os.listdir(data_dir)\n",
    "data_list[0:8]"
   ]
  },
  {
   "cell_type": "code",
   "execution_count": null,
   "metadata": {
    "collapsed": true
   },
   "outputs": [],
   "source": [
    "# Method 1: Create directory\n",
    "if not os.path.exists('tmp'):\n",
    "    os.mkdir('tmp')"
   ]
  },
  {
   "cell_type": "code",
   "execution_count": null,
   "metadata": {
    "collapsed": true
   },
   "outputs": [],
   "source": [
    "# Method 2: Better\n",
    "if not os.path.exists('tmp'):\n",
    "    os.makedirs('tmp')"
   ]
  },
  {
   "cell_type": "code",
   "execution_count": null,
   "metadata": {
    "collapsed": true
   },
   "outputs": [],
   "source": [
    "# Exercise: write a platform-independent directory tree list function\n",
    "#\n",
    "# Takes 2 inputs:\n",
    "#     1. the top-level dir \"root\" to be inspected, default root=\".\"\n",
    "#     2. the number \"levels\" of levels to look down into, default: L=2\n",
    "# Returns 0 outputs:\n",
    "# Prints:\n",
    "#    list of files and dirs with indention indicating dir tree level or \"depth\"\n",
    "#        if L=1, the list returned will only include files and dirs in top-level\n",
    "#        if L=2, return the contents of top level dir, \n",
    "#                plus the contents of any dirs in the top-level, \n",
    "#                and the contents of any dir below that.\n",
    "# Example: if you have this on disk: /dir0/dir1/dir2/file3, \n",
    "#          then you would have to set L=3 to get file3 in the returned list\n",
    "#\n",
    "# Bonus: write this function using recursion, i.e. the function calls itself"
   ]
  },
  {
   "cell_type": "code",
   "execution_count": null,
   "metadata": {
    "collapsed": false
   },
   "outputs": [],
   "source": [
    "# Solution 1: Functional Programming with Recursion \n",
    "import os\n",
    "\n",
    "def tree(thing=os.getcwd(), indent=\"\", level=2):\n",
    "    print(indent + thing)\n",
    "    if os.path.isdir(thing) and level > 0:\n",
    "        level = level - 1\n",
    "        indent = indent + \"    \"\n",
    "        for item in os.listdir(thing):\n",
    "            if not item.startswith(\".\"):\n",
    "                tree(item, indent, level)\n",
    "tree()"
   ]
  },
  {
   "cell_type": "code",
   "execution_count": null,
   "metadata": {
    "collapsed": false
   },
   "outputs": [],
   "source": [
    "# Solution 2: Cheating on Linux!\n",
    "!tree -L 2"
   ]
  },
  {
   "cell_type": "markdown",
   "metadata": {},
   "source": [
    "## Portable Python Code"
   ]
  },
  {
   "cell_type": "markdown",
   "metadata": {},
   "source": [
    "When writing python that must interact with your operating system shell, use the python modules `os` and `sys` so that your python code is **portable**, i.e. will run on other operating systems without change to your code."
   ]
  },
  {
   "cell_type": "markdown",
   "metadata": {},
   "source": [
    "# Scripts vs. Modules"
   ]
  },
  {
   "cell_type": "markdown",
   "metadata": {},
   "source": [
    "## Example Script 1"
   ]
  },
  {
   "cell_type": "markdown",
   "metadata": {},
   "source": [
    "Any file with python in it can be run as a script"
   ]
  },
  {
   "cell_type": "markdown",
   "metadata": {},
   "source": [
    "Create a file with the following content:\n",
    "```python\n",
    "print(\"Hello World\")\n",
    "```"
   ]
  },
  {
   "cell_type": "markdown",
   "metadata": {},
   "source": [
    "Use a text editor, or run the following command to create script_01.py:"
   ]
  },
  {
   "cell_type": "code",
   "execution_count": null,
   "metadata": {
    "collapsed": false
   },
   "outputs": [],
   "source": [
    "%%file tmp/script_01.py\n",
    "print(\"Hello World\")"
   ]
  },
  {
   "cell_type": "code",
   "execution_count": null,
   "metadata": {
    "collapsed": false
   },
   "outputs": [],
   "source": [
    "# run script\n",
    "!python3 tmp/script_01.py"
   ]
  },
  {
   "cell_type": "code",
   "execution_count": null,
   "metadata": {
    "collapsed": false
   },
   "outputs": [],
   "source": [
    "# import script\n",
    "import tmp.script_01"
   ]
  },
  {
   "cell_type": "markdown",
   "metadata": {},
   "source": [
    "### the `__init__.py` file"
   ]
  },
  {
   "cell_type": "markdown",
   "metadata": {},
   "source": [
    "Python 2 required that a `__init__.py` file be placed in every directory from which you want to import Python scripts. Python 3 does not have this requirement."
   ]
  },
  {
   "cell_type": "markdown",
   "metadata": {},
   "source": [
    "## Example Script 2"
   ]
  },
  {
   "cell_type": "markdown",
   "metadata": {},
   "source": [
    "Chunking code into reusable functions if one of the first steps towards turning a script into a reusable library or module."
   ]
  },
  {
   "cell_type": "markdown",
   "metadata": {},
   "source": [
    "```python\n",
    "## Type in the following contents into your new `script_02.py`\n",
    "\n",
    "print(\"Inside of script: before def func()\")\n",
    "\n",
    "def func(thing):\n",
    "    print(\"Inside of script: inside def func()\")\n",
    "    print(\"The input to func: \", thing)\n",
    "\n",
    "print(\"Inside of script: after def func()\")\n",
    "\n",
    "func(\"Hello World\")\n",
    "\n",
    "print(\"Inside of script: after call to func()\")\n",
    "\n",
    "```"
   ]
  },
  {
   "cell_type": "markdown",
   "metadata": {},
   "source": [
    "Use a text editor, or run the following command to create script_02.py:"
   ]
  },
  {
   "cell_type": "code",
   "execution_count": null,
   "metadata": {
    "collapsed": false
   },
   "outputs": [],
   "source": [
    "%%file tmp/script_02.py\n",
    "print(\"Inside of script: before def func()\")\n",
    "def func(thing):\n",
    "    print(\"Inside of script: inside def func()\")\n",
    "    print(\"The input to func: \", thing)\n",
    "print(\"Inside of script: after def func()\")\n",
    "func(\"Hello World\")\n",
    "print(\"Inside of script: after call to func()\")\n"
   ]
  },
  {
   "cell_type": "code",
   "execution_count": null,
   "metadata": {
    "collapsed": false
   },
   "outputs": [],
   "source": [
    "# run script\n",
    "!python3 tmp/script_02.py\n",
    "\n",
    "# Notice the order of the print() statements!!!"
   ]
  },
  {
   "cell_type": "code",
   "execution_count": null,
   "metadata": {
    "collapsed": false
   },
   "outputs": [],
   "source": [
    "# import script\n",
    "import tmp.script_02\n",
    "\n",
    "# Notice that all code in the file gets executed upon import!!!"
   ]
  },
  {
   "cell_type": "markdown",
   "metadata": {},
   "source": [
    "Problem! We don't want all the code to execute on import. Let's see how to adapt this script into a reusable module."
   ]
  },
  {
   "cell_type": "markdown",
   "metadata": {},
   "source": [
    "## Example Script 3"
   ]
  },
  {
   "cell_type": "markdown",
   "metadata": {},
   "source": [
    "To make your file usable as both a script and a module, you need to add a conditional test of `__name__`"
   ]
  },
  {
   "cell_type": "markdown",
   "metadata": {},
   "source": [
    "```python\n",
    "## Type in the following contents into your new `script_03.py`\n",
    "\n",
    "def func(thing):\n",
    "    print(\"Inside of func()\")\n",
    "    print(\"The input to func: \", thing)\n",
    "\n",
    "def main():\n",
    "    print(\"Inside of main()\")\n",
    "    func(\"Hello World\")\n",
    "\n",
    "if __name__ == '__main__':\n",
    "    print(\"Inside of __name__ test\")\n",
    "    main()\n",
    "```"
   ]
  },
  {
   "cell_type": "markdown",
   "metadata": {},
   "source": [
    "Use a text editor, or run the following command to create script_03.py:"
   ]
  },
  {
   "cell_type": "code",
   "execution_count": null,
   "metadata": {
    "collapsed": false
   },
   "outputs": [],
   "source": [
    "%%file tmp/script_03.py\n",
    "def func(thing):\n",
    "    print(\"Inside of func()\")\n",
    "    print(\"The input to func: \", thing)\n",
    "\n",
    "def main():\n",
    "    print(\"Inside of main()\")\n",
    "    func(\"Hello World\")\n",
    "\n",
    "if __name__ == '__main__':\n",
    "    print(\"Inside of __name__ test\")\n",
    "    main()"
   ]
  },
  {
   "cell_type": "code",
   "execution_count": null,
   "metadata": {
    "collapsed": false
   },
   "outputs": [],
   "source": [
    "# run script\n",
    "!python3 tmp/script_03.py"
   ]
  },
  {
   "cell_type": "code",
   "execution_count": null,
   "metadata": {
    "collapsed": true
   },
   "outputs": [],
   "source": [
    "# import script\n",
    "import tmp.script_03\n",
    "\n",
    "# Notice that NOTHING is printed upon import! Yay!! We did it!"
   ]
  },
  {
   "cell_type": "markdown",
   "metadata": {},
   "source": [
    "## Executable scripts"
   ]
  },
  {
   "cell_type": "markdown",
   "metadata": {},
   "source": [
    "This section is more appropriate for Linux and Mac systems."
   ]
  },
  {
   "cell_type": "markdown",
   "metadata": {},
   "source": [
    "In the previous section we executed the script with the `python` command. Python scripts can declare that they are to be executed with a particular `python` executable using `#!`, called the sha-bang."
   ]
  },
  {
   "cell_type": "markdown",
   "metadata": {},
   "source": [
    "**Note**: It is advised not to use `#!/usr/bin/python`, `#!/bin/python` or `#!/usr/local/bin/python`"
   ]
  },
  {
   "cell_type": "markdown",
   "metadata": {},
   "source": [
    "Anaconda was very likely not installed in those paths. By using `/usr/bin/env python` you will always be using the correct version of Python and conda environment."
   ]
  },
  {
   "cell_type": "code",
   "execution_count": null,
   "metadata": {
    "collapsed": false
   },
   "outputs": [],
   "source": [
    "%%file tmp/script_04.py\n",
    "#!/usr/bin/env python\n",
    "\n",
    "def func(thing):\n",
    "    print(\"Inside of func()\")\n",
    "    print(\"The input to func: \", thing)\n",
    "\n",
    "def main():\n",
    "    print(\"Inside of main()\")\n",
    "    func(\"Hello World\")\n",
    "\n",
    "if __name__ == '__main__':\n",
    "    print(\"Inside of __name__ test\")\n",
    "    main()"
   ]
  },
  {
   "cell_type": "markdown",
   "metadata": {},
   "source": [
    "The file must be executable."
   ]
  },
  {
   "cell_type": "code",
   "execution_count": null,
   "metadata": {
    "collapsed": false
   },
   "outputs": [],
   "source": [
    "import os\n",
    "if os.name == 'posix':\n",
    "    !chmod +x tmp/script_04.py"
   ]
  },
  {
   "cell_type": "code",
   "execution_count": null,
   "metadata": {
    "collapsed": false
   },
   "outputs": [],
   "source": [
    "!tmp/script_04.py"
   ]
  },
  {
   "cell_type": "markdown",
   "metadata": {},
   "source": [
    "# Module Basics"
   ]
  },
  {
   "cell_type": "markdown",
   "metadata": {},
   "source": [
    "## import"
   ]
  },
  {
   "cell_type": "markdown",
   "metadata": {},
   "source": [
    "All code in a module is executed on import\n",
    "* def statements only create functions, not call them\n",
    "* if you a module to act like both a library and a script, write a main, and wrap it in a test for `__name__`"
   ]
  },
  {
   "cell_type": "code",
   "execution_count": null,
   "metadata": {
    "collapsed": false
   },
   "outputs": [],
   "source": [
    "if __name__ == \"__main__\":\n",
    "    print(\"What's in a name?\")"
   ]
  },
  {
   "cell_type": "markdown",
   "metadata": {},
   "source": [
    "## sys.path"
   ]
  },
  {
   "cell_type": "markdown",
   "metadata": {},
   "source": [
    "Python searches the paths contained in `sys.path` to find anything you try to import"
   ]
  },
  {
   "cell_type": "code",
   "execution_count": null,
   "metadata": {
    "collapsed": false
   },
   "outputs": [],
   "source": [
    "import sys\n",
    "sys.path"
   ]
  },
  {
   "cell_type": "markdown",
   "metadata": {},
   "source": [
    "Installing a python module can be as simple as copying the file into a path like\n",
    "\n",
    ">  '/Users/jvestuto/anaconda/lib/python3.5/site-packages' \n",
    "\n",
    "or using an install tool that does this for you.\n",
    "\n",
    "*Note: Most installs are NOT that simple! Dear Team Conda, we love you!*"
   ]
  },
  {
   "cell_type": "markdown",
   "metadata": {},
   "source": [
    "# Section Summary"
   ]
  },
  {
   "cell_type": "markdown",
   "metadata": {},
   "source": [
    "* Shells and Kernels\n",
    "* CLI vs GUI\n",
    "* System shells vs Python shells\n",
    "* Files and Paths, os and sys\n",
    "* Scripts vs. Modules\n",
    "* import and sys.path"
   ]
  },
  {
   "cell_type": "markdown",
   "metadata": {},
   "source": [
    "<img src='img/copyright.png'>"
   ]
  }
 ],
 "metadata": {
  "anaconda-cloud": {},
  "kernelspec": {
   "display_name": "Python [conda env:anaconda_training]",
   "language": "python",
   "name": "conda-env-anaconda_training-py"
  },
  "language_info": {
   "codemirror_mode": {
    "name": "ipython",
    "version": 3
   },
   "file_extension": ".py",
   "mimetype": "text/x-python",
   "name": "python",
   "nbconvert_exporter": "python",
   "pygments_lexer": "ipython3",
   "version": "3.5.2"
  }
 },
 "nbformat": 4,
 "nbformat_minor": 0
}
