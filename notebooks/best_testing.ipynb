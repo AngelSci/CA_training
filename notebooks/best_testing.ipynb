{
 "cells": [
  {
   "cell_type": "markdown",
   "metadata": {},
   "source": [
    "<img src='img/logo.png'>\n",
    "<img src='img/title.png'>\n",
    "<img src='img/py3k.png'>"
   ]
  },
  {
   "cell_type": "markdown",
   "metadata": {},
   "source": [
    "# Table of Contents\n",
    "* [Learning Objectives](#Learning-Objectives)\n",
    "* [Testing Guidelines](#Testing-Guidelines)\n",
    "\t* [Frameworks](#Frameworks)\n",
    "\t\t* [py.test](#py.test)\n",
    "\t\t* [Unittest](#Unittest)\n",
    "\t\t* [doctest](#doctest)\n",
    "\t* [Example of a word counting project with tests for](#Example-of-a-word-counting-project-with-tests-for)\n",
    "\t\t* [Review the following source files:](#Review-the-following-source-files:)\n",
    "\t\t* [And see the tests for the code above:](#And-see-the-tests-for-the-code-above:)\n",
    "\t\t* [Testing Exercise 1](#Testing-Exercise-1)\n",
    "\t\t* [Testing Exercise 2](#Testing-Exercise-2)\n"
   ]
  },
  {
   "cell_type": "markdown",
   "metadata": {},
   "source": [
    "# Learning Objectives"
   ]
  },
  {
   "cell_type": "markdown",
   "metadata": {},
   "source": [
    "After completion of this module, learners should be able to:\n",
    "\n",
    "* Testing\n",
    "  * Test-driven development\n",
    "  * Code review"
   ]
  },
  {
   "cell_type": "markdown",
   "metadata": {},
   "source": [
    "# Testing Guidelines"
   ]
  },
  {
   "cell_type": "markdown",
   "metadata": {},
   "source": [
    "1. Refactor the code first\n",
    "  * smaller functions are easier to test\n",
    "1. Define reference cases to test against\n",
    "  * known/expected output from each function\n",
    "  * analytic solutions\n",
    "1. Use `assert` in testing functions \n",
    "1. Be careful with floating point numbers\n",
    "  * use `np.allclose`"
   ]
  },
  {
   "cell_type": "markdown",
   "metadata": {},
   "source": [
    "## Frameworks"
   ]
  },
  {
   "cell_type": "markdown",
   "metadata": {},
   "source": [
    "### py.test"
   ]
  },
  {
   "cell_type": "markdown",
   "metadata": {},
   "source": [
    "http://docs.pytest.org/en/latest/"
   ]
  },
  {
   "cell_type": "markdown",
   "metadata": {},
   "source": [
    "py.test searches for function definitions beginning with `test_` and executes them."
   ]
  },
  {
   "cell_type": "code",
   "execution_count": null,
   "metadata": {
    "collapsed": false
   },
   "outputs": [],
   "source": [
    "%%file tmp/temp_pytest.py\n",
    "import numpy as np\n",
    "import pytest\n",
    "\n",
    "def c_to_f(c):\n",
    "    \"\"\"Converts degrees celsius to degrees fahrenheit\n",
    "    \n",
    "    raises ValueError if input is below absolute zero\"\"\"\n",
    "    if c < -273.15:\n",
    "        raise ValueError('Temperature must be above absolute zero')\n",
    "    return 9/5*c + 32\n",
    "\n",
    "def test_c_to_f():\n",
    "    out = c_to_f(-40)\n",
    "    assert np.allclose(out, -40., 1e-4)\n",
    "    \n",
    "def test_zero():\n",
    "    with pytest.raises(ValueError):\n",
    "        c_to_f(-400)\n",
    "    "
   ]
  },
  {
   "cell_type": "code",
   "execution_count": null,
   "metadata": {
    "collapsed": false
   },
   "outputs": [],
   "source": [
    "!py.test tmp/temp_pytest.py"
   ]
  },
  {
   "cell_type": "markdown",
   "metadata": {},
   "source": [
    "### Unittest"
   ]
  },
  {
   "cell_type": "markdown",
   "metadata": {},
   "source": [
    "https://docs.python.org/3.4/library/unittest.html"
   ]
  },
  {
   "cell_type": "markdown",
   "metadata": {},
   "source": [
    "Make a subclass of `TestCase` for your testing functions."
   ]
  },
  {
   "cell_type": "code",
   "execution_count": null,
   "metadata": {
    "collapsed": false
   },
   "outputs": [],
   "source": [
    "%%file tmp/temp_unittest.py\n",
    "import numpy as np\n",
    "import unittest\n",
    "\n",
    "def c_to_f(c):\n",
    "    \"\"\"Converts degrees celsius to degrees fahrenheit\n",
    "    \n",
    "    raises ValueError if input is below absolute zero\"\"\"\n",
    "    if c < -273.15:\n",
    "        raise ValueError('Temperature must be above absolute zero')\n",
    "    return 9/5*c + 32\n",
    "\n",
    "class MyTest(unittest.TestCase):\n",
    "    \n",
    "    def test_c_to_f(self):\n",
    "        out = c_to_f(-40)\n",
    "        assert np.allclose(out, -40., 1e-4)\n",
    "        \n",
    "    def test_zero(self):\n",
    "        with self.assertRaises(ValueError):\n",
    "            c_to_f(-400)\n",
    "    \n",
    "        \n",
    "if __name__ == '__main__':\n",
    "    unittest.main()"
   ]
  },
  {
   "cell_type": "markdown",
   "metadata": {},
   "source": [
    "Run all tests"
   ]
  },
  {
   "cell_type": "code",
   "execution_count": null,
   "metadata": {
    "collapsed": false
   },
   "outputs": [],
   "source": [
    "!python3 tmp/temp_unittest.py"
   ]
  },
  {
   "cell_type": "markdown",
   "metadata": {},
   "source": [
    "Choose certain tests to run"
   ]
  },
  {
   "cell_type": "code",
   "execution_count": null,
   "metadata": {
    "collapsed": false
   },
   "outputs": [],
   "source": [
    "!python3 -m unittest tmp.temp_unittest.MyTest.test_zero"
   ]
  },
  {
   "cell_type": "markdown",
   "metadata": {},
   "source": [
    "### doctest"
   ]
  },
  {
   "cell_type": "markdown",
   "metadata": {},
   "source": [
    "Doctests are specially formatted docstrings that can be placed in the function definition."
   ]
  },
  {
   "cell_type": "code",
   "execution_count": null,
   "metadata": {
    "collapsed": false
   },
   "outputs": [],
   "source": [
    "%%file tmp/temp_doctest.py\n",
    "import numpy as np\n",
    "\n",
    "def c_to_f(c):\n",
    "    \"\"\"Converts degrees celsius to degrees fahrenheit\n",
    "    \n",
    "    raises ValueError if input is below absolute zero\n",
    "    \n",
    "    \n",
    "    >>> c_to_f(-40)\n",
    "    -40.0\n",
    "    \n",
    "    >>> c_to_f(-400)\n",
    "    Traceback (most recent call last):\n",
    "      File \"<stdin>\", line 1, in <module>\n",
    "    ValueError: Temperature must be above absolute zero\n",
    "    \n",
    "    \"\"\"\n",
    "    if c < -273.15:\n",
    "        raise ValueError('Temperature must be above absolute zero')\n",
    "    return 9/5*c + 32\n",
    "\n",
    "if __name__ == '__main__':\n",
    "    import doctest\n",
    "    doctest.testmod()"
   ]
  },
  {
   "cell_type": "markdown",
   "metadata": {},
   "source": [
    "No output is printed if all tests pass\n",
    "\n",
    "<b>Warning:</b>\n",
    "* Floating point numbers are hard to compare\n",
    "* The traceback must match exactly, not just the exception type"
   ]
  },
  {
   "cell_type": "code",
   "execution_count": null,
   "metadata": {
    "collapsed": false
   },
   "outputs": [],
   "source": [
    "!python3 tmp/temp_doctest.py"
   ]
  },
  {
   "cell_type": "markdown",
   "metadata": {},
   "source": [
    "## Example of a word counting project with tests for"
   ]
  },
  {
   "cell_type": "markdown",
   "metadata": {},
   "source": [
    "1. Unittest framework\n",
    "2. Py.test framework\n",
    "3. Doctest framework"
   ]
  },
  {
   "cell_type": "markdown",
   "metadata": {},
   "source": [
    "### Review the following source files:"
   ]
  },
  {
   "cell_type": "markdown",
   "metadata": {},
   "source": [
    "* `./src/WordCountsExample.py`\n",
    "* `./src/parsing/parsing_hashing.py`\n",
    "\n",
    "The source files read text files from ./data/looping_files_example/* by default.  This is the Brown corpus from NLTK that has been sliced into separate text files."
   ]
  },
  {
   "cell_type": "markdown",
   "metadata": {},
   "source": [
    "### And see the tests for the code above:"
   ]
  },
  {
   "cell_type": "markdown",
   "metadata": {},
   "source": [
    "* `./src/parsing/test_parsing_hashing.py` (py.test framework)\n",
    "* `./src/parsing/test_parsing_hashing2.py` (unittest framework)\n",
    "* `./src/parsing/test_word_counts.py` (py.test framework)\n",
    "* `./src/parsing/test_parshing_hashing3.py` (doctest framework)"
   ]
  },
  {
   "cell_type": "markdown",
   "metadata": {},
   "source": [
    "### Testing Exercise 1"
   ]
  },
  {
   "cell_type": "markdown",
   "metadata": {},
   "source": [
    "Run the following tests and make appropriate corrections to the testing code."
   ]
  },
  {
   "cell_type": "markdown",
   "metadata": {},
   "source": [
    "```bash\n",
    "cd notebooks/src/parsing\n",
    "\n",
    "py.test test_parsing_hashing.py\n",
    "py.test test_word_counts.py\n",
    "python -m unittest discover\n",
    "python test_parsing_hashing3.py\n",
    "```"
   ]
  },
  {
   "cell_type": "markdown",
   "metadata": {
    "collapsed": true
   },
   "source": [
    "### Testing Exercise 2"
   ]
  },
  {
   "cell_type": "markdown",
   "metadata": {},
   "source": [
    "Using `notebooks/src/distance/module/great_circle.py` write the following tests using any of the three frameworks:\n",
    "* `deg_to_rad(180.)` returns $\\pi$\n",
    "* `sphere_dist((51.5, -0.1), (40.7, -74.0))` returns 5879.70\n",
    "\n",
    "Write these two tests in separate files."
   ]
  },
  {
   "cell_type": "markdown",
   "metadata": {},
   "source": [
    "----\n",
    "<a href='best_testing_soln.ipynb' class='btn btn-primary'>Solution</a>"
   ]
  },
  {
   "cell_type": "markdown",
   "metadata": {},
   "source": [
    "<img src='img/copyright.png'>"
   ]
  }
 ],
 "metadata": {
  "anaconda-cloud": {},
  "continuum": {
   "depends": [],
   "requires": [
    "img/ContinuumLogoStacked.png",
    "src/*",
    "src/parsing/*",
    "src/sphericaltesting/*",
    "src/sphericaltestingsolutions/*",
    "data/looping_files_example/*"
   ],
   "tag": "tools_testing"
  },
  "kernelspec": {
   "display_name": "Python [conda env:anaconda_training]",
   "language": "python",
   "name": "conda-env-anaconda_training-py"
  },
  "language_info": {
   "codemirror_mode": {
    "name": "ipython",
    "version": 3
   },
   "file_extension": ".py",
   "mimetype": "text/x-python",
   "name": "python",
   "nbconvert_exporter": "python",
   "pygments_lexer": "ipython3",
   "version": "3.5.2"
  }
 },
 "nbformat": 4,
 "nbformat_minor": 0
}
