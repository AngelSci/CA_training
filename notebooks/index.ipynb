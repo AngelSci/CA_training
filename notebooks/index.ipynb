{
 "cells": [
  {
   "cell_type": "markdown",
   "metadata": {},
   "source": [
    "# Table of Contents\n",
    "* [Python Language Basics](#Python-Language-Basics)\n",
    "\t* [00 - Conda and IPython](#00---Conda-and-IPython)\n",
    "\t* [01 - Compute Population Growth](#01---Compute-Population-Growth)\n",
    "\t* [02 - Python Data types](#02---Python-Data-types)\n",
    "\t* [03 - data types ex](#03---data-types-ex)\n",
    "\t* [04 - Data Types Solution](#04---Data-Types-Solution)\n",
    "\t* [05 - Python Essentials](#05---Python-Essentials)\n",
    "\t* [06 - Module Import Exercise](#06---Module-Import-Exercise)\n",
    "\t* [07 - Module Import solution](#07---Module-Import-solution)\n",
    "\t* [08 - Flow and Functions](#08---Flow-and-Functions)\n",
    "\t* [09 - functs](#09---functs)\n",
    "\t* [10 - Function Exercises](#10---Function-Exercises)\n",
    "\t* [11 - Function Solutions](#11---Function-Solutions)\n",
    "\t* [12 - Data Containers](#12---Data-Containers)\n",
    "\t* [13 - Flow Control Exercises](#13---Flow-Control-Exercises)\n",
    "\t* [14 - Flow Control Exercises (solution)](#14---Flow-Control-Exercises-%28solution%29)\n",
    "* [Python Language Basics: Deeper Knowledge](#Python-Language-Basics:-Deeper-Knowledge)\n",
    "\t* [15 - Comprehensions](#15---Comprehensions)\n",
    "\t* [16 - Comprehensions ex](#16---Comprehensions-ex)\n",
    "\t* [17 - Comprehensions (solution)](#17---Comprehensions-%28solution%29)\n",
    "\t* [18 - Files and IO](#18---Files-and-IO)\n",
    "\t* [19 - Stock Prices Exercise](#19---Stock-Prices-Exercise)\n",
    "\t* [20 - Stock Prices (solution)](#20---Stock-Prices-%28solution%29)\n",
    "\t* [22 - Int - Scalar Data Types](#22---Int---Scalar-Data-Types)\n",
    "\t* [23 - Int - Container Methods](#23---Int---Container-Methods)\n",
    "\t* [24 - Int - Booleans](#24---Int---Booleans)\n",
    "\t* [25 - Int - Regex](#25---Int---Regex)\n",
    "\t* [26 - Int - Lambda and Special Functions](#26---Int---Lambda-and-Special-Functions)\n",
    "* [The Python Standard Library](#The-Python-Standard-Library)\n",
    "\t* [21 - Python Standard Library](#21---Python-Standard-Library)\n",
    "* [Python Themes](#Python-Themes)\n",
    "\t* [27 - Theme - More iteration](#27---Theme---More-iteration)\n",
    "\t* [28 - Theme - IO and Strings](#28---Theme---IO-and-Strings)\n",
    "\t* [29 - Theme - Shells and scripts](#29---Theme---Shells-and-scripts)\n",
    "* [Exception Handling](#Exception-Handling)\n",
    "\t* [30 - Adv - Exception Handling](#30---Adv---Exception-Handling)\n",
    "* [Iterators and Generators](#Iterators-and-Generators)\n",
    "\t* [31 - Adv - Iterators and Generators](#31---Adv---Iterators-and-Generators)\n",
    "\t* [32 - Adv - Itertools](#32---Adv---Itertools)\n",
    "\t* [33 - Adv - Lazy Iteration](#33---Adv---Lazy-Iteration)\n",
    "* [Object Oriented Design](#Object-Oriented-Design)\n",
    "\t* [34 - Adv - Basic Classes](#34---Adv---Basic-Classes)\n",
    "\t* [35 - Adv - Revenue Report Exercise](#35---Adv---Revenue-Report-Exercise)\n",
    "\t* [36 - Adv - Revenue Report solution](#36---Adv---Revenue-Report-solution)\n",
    "\t* [37 - Adv - Magic Methods](#37---Adv---Magic-Methods)\n",
    "\t* [38 - Adv - Iterable Classes](#38---Adv---Iterable-Classes)\n",
    "\t* [39 - Adv - Magic Objects Exercise](#39---Adv---Magic-Objects-Exercise)\n",
    "* [Decorators](#Decorators)\n",
    "\t* [40 - Adv - Decorator Functions](#40---Adv---Decorator-Functions)\n",
    "\t* [41 - Adv - Decorator Classes](#41---Adv---Decorator-Classes)\n",
    "* [Context Managers](#Context-Managers)\n",
    "\t* [42 - Adv - Contect Managers](#42---Adv---Contect-Managers)\n",
    "* [Functional Programming](#Functional-Programming)\n",
    "\t* [43 - Adv - Functional Programming](#43---Adv---Functional-Programming)\n",
    "* [Data formats & storage](#Data-formats-&-storage)\n",
    "\t* [44 - Data Formats](#44---Data-Formats)"
   ]
  },
  {
   "cell_type": "markdown",
   "metadata": {},
   "source": [
    "# Python Language Basics"
   ]
  },
  {
   "cell_type": "markdown",
   "metadata": {},
   "source": [
    "## 00 - Conda and IPython"
   ]
  },
  {
   "cell_type": "markdown",
   "metadata": {},
   "source": [
    "[**Start 00 - Conda and IPython.ipynb**](/notebooks/00 - Conda and IPython.ipynb)\n",
    "\n",
    "After completion of this module, learners should be able to:\n",
    "\n",
    "* use `conda` to manage Python environments & packages on their computer\n",
    "* distinguish & use distinct ways of executing Python code (e.g., command-line scripts, interactive shell, IDE, notebook)"
   ]
  },
  {
   "cell_type": "markdown",
   "metadata": {},
   "source": [
    "## 01 - Compute Population Growth"
   ]
  },
  {
   "cell_type": "markdown",
   "metadata": {},
   "source": [
    "[**Start 01 - Compute Population Growth.ipynb**](/notebooks/01 - Compute Population Growth.ipynb)\n",
    "\n"
   ]
  },
  {
   "cell_type": "markdown",
   "metadata": {},
   "source": [
    "## 02 - Python Data types"
   ]
  },
  {
   "cell_type": "markdown",
   "metadata": {},
   "source": [
    "[**Start 02 - Python Data types.ipynb**](/notebooks/02 - Python Data types.ipynb)\n",
    "\n",
    "After completion of this module, learners should be able to:\n",
    "\n",
    "* use & describe Python idioms for variable assignment & arithmetic/logical operations with simple scalar data"
   ]
  },
  {
   "cell_type": "markdown",
   "metadata": {},
   "source": [
    "## 03 - data types ex"
   ]
  },
  {
   "cell_type": "markdown",
   "metadata": {},
   "source": [
    "[**Start 03 - data types ex.ipynb**](/notebooks/03 - data types ex.ipynb)\n",
    "\n"
   ]
  },
  {
   "cell_type": "markdown",
   "metadata": {},
   "source": [
    "## 04 - Data Types Solution"
   ]
  },
  {
   "cell_type": "markdown",
   "metadata": {},
   "source": [
    "[**Start 04 - Data Types Solution.ipynb**](/notebooks/04 - Data Types Solution.ipynb)\n",
    "\n"
   ]
  },
  {
   "cell_type": "markdown",
   "metadata": {},
   "source": [
    "## 05 - Python Essentials"
   ]
  },
  {
   "cell_type": "markdown",
   "metadata": {},
   "source": [
    "[**Start 05 - Python Essentials.ipynb**](/notebooks/05 - Python Essentials.ipynb)\n",
    "\n",
    "After completion of this module, learners should be able to:\n",
    "\n",
    "* explain standard Python keywords, rules for identifiers, & naming conventions\n",
    "* apply Python idioms for importing modules, data, and functions into a Python program\n",
    "* use & describe standard Python idiom for function invocation with functions and methods\n",
    "* use `help` (and other documentation) to learn about builtin functions"
   ]
  },
  {
   "cell_type": "markdown",
   "metadata": {},
   "source": [
    "## 06 - Module Import Exercise"
   ]
  },
  {
   "cell_type": "markdown",
   "metadata": {},
   "source": [
    "[**Start 06 - Module Import Exercise.ipynb**](/notebooks/06 - Module Import Exercise.ipynb)\n",
    "\n"
   ]
  },
  {
   "cell_type": "markdown",
   "metadata": {},
   "source": [
    "## 07 - Module Import solution"
   ]
  },
  {
   "cell_type": "markdown",
   "metadata": {},
   "source": [
    "[**Start 07 - Module Import solution.ipynb**](/notebooks/07 - Module Import solution.ipynb)\n",
    "\n"
   ]
  },
  {
   "cell_type": "markdown",
   "metadata": {},
   "source": [
    "## 08 - Flow and Functions"
   ]
  },
  {
   "cell_type": "markdown",
   "metadata": {},
   "source": [
    "[**Start 08 - Flow and Functions.ipynb**](/notebooks/08 - Flow and Functions.ipynb)\n",
    "\n",
    "After completion of this module, learners should be able to:\n",
    "\n",
    "* Describe rules regarding indentation in control blocks\n",
    "* automate repetitive tasks in Python using standard construts for flow control (e.g., `for`, `while`, `if-else-elif`, etc.)"
   ]
  },
  {
   "cell_type": "markdown",
   "metadata": {},
   "source": [
    "## 09 - functs"
   ]
  },
  {
   "cell_type": "markdown",
   "metadata": {},
   "source": [
    "[**Start 09 - functs.ipynb**](/notebooks/09 - functs.ipynb)\n",
    "\n",
    "After completion of this module, learners should be able to:\n",
    "\n",
    "* design & build functions to reproduce complicated sequences of computations\n",
    "* define functions weith keyword and default arguments\n",
    "* use & explain rules regarding indentation"
   ]
  },
  {
   "cell_type": "markdown",
   "metadata": {},
   "source": [
    "## 10 - Function Exercises"
   ]
  },
  {
   "cell_type": "markdown",
   "metadata": {},
   "source": [
    "[**Start 10 - Function Exercises.ipynb**](/notebooks/10 - Function Exercises.ipynb)\n",
    "\n"
   ]
  },
  {
   "cell_type": "markdown",
   "metadata": {},
   "source": [
    "## 11 - Function Solutions"
   ]
  },
  {
   "cell_type": "markdown",
   "metadata": {},
   "source": [
    "[**Start 11 - Function Solutions.ipynb**](/notebooks/11 - Function Solutions.ipynb)\n",
    "\n"
   ]
  },
  {
   "cell_type": "markdown",
   "metadata": {},
   "source": [
    "## 12 - Data Containers"
   ]
  },
  {
   "cell_type": "markdown",
   "metadata": {},
   "source": [
    "[**Start 12 - Data Containers.ipynb**](/notebooks/12 - Data Containers.ipynb)\n",
    "\n",
    "After completion of this module, learners should be able to:\n",
    "\n",
    "* understand and apply Python idioms for iteration data structures\n",
    "* understand how to avoid writing *C in Python* loops"
   ]
  },
  {
   "cell_type": "markdown",
   "metadata": {},
   "source": [
    "## 13 - Flow Control Exercises"
   ]
  },
  {
   "cell_type": "markdown",
   "metadata": {},
   "source": [
    "[**Start 13 - Flow Control Exercises.ipynb**](/notebooks/13 - Flow Control Exercises.ipynb)\n",
    "\n"
   ]
  },
  {
   "cell_type": "markdown",
   "metadata": {},
   "source": [
    "## 14 - Flow Control Exercises (solution)"
   ]
  },
  {
   "cell_type": "markdown",
   "metadata": {},
   "source": [
    "[**Start 14 - Flow Control Exercises (solution).ipynb**](/notebooks/14 - Flow Control Exercises (solution).ipynb)\n",
    "\n"
   ]
  },
  {
   "cell_type": "markdown",
   "metadata": {},
   "source": [
    "# Python Language Basics: Deeper Knowledge"
   ]
  },
  {
   "cell_type": "markdown",
   "metadata": {},
   "source": [
    "## 15 - Comprehensions"
   ]
  },
  {
   "cell_type": "markdown",
   "metadata": {},
   "source": [
    "[**Start 15 - Comprehensions.ipynb**](/notebooks/15 - Comprehensions.ipynb)\n",
    "\n",
    "After completion of this module, learners should be able to:\n",
    "\n",
    "* use comprehensions to replace complex nests of loops & conditionals"
   ]
  },
  {
   "cell_type": "markdown",
   "metadata": {},
   "source": [
    "## 16 - Comprehensions ex"
   ]
  },
  {
   "cell_type": "markdown",
   "metadata": {},
   "source": [
    "[**Start 16 - Comprehensions ex.ipynb**](/notebooks/16 - Comprehensions ex.ipynb)\n",
    "\n"
   ]
  },
  {
   "cell_type": "markdown",
   "metadata": {},
   "source": [
    "## 17 - Comprehensions (solution)"
   ]
  },
  {
   "cell_type": "markdown",
   "metadata": {},
   "source": [
    "[**Start 17 - Comprehensions (solution).ipynb**](/notebooks/17 - Comprehensions (solution).ipynb)\n",
    "\n"
   ]
  },
  {
   "cell_type": "markdown",
   "metadata": {},
   "source": [
    "## 18 - Files and IO"
   ]
  },
  {
   "cell_type": "markdown",
   "metadata": {},
   "source": [
    "[**Start 18 - Files and IO.ipynb**](/notebooks/18 - Files and IO.ipynb)\n",
    "\n",
    "After completion of this module, learners should be able to:\n",
    "\n",
    "* use & explain common Python idioms for working with text files\n",
    "* retrieve information from websites\n",
    "* pickle and load Python objects"
   ]
  },
  {
   "cell_type": "markdown",
   "metadata": {},
   "source": [
    "## 19 - Stock Prices Exercise"
   ]
  },
  {
   "cell_type": "markdown",
   "metadata": {},
   "source": [
    "[**Start 19 - Stock Prices Exercise.ipynb**](/notebooks/19 - Stock Prices Exercise.ipynb)\n",
    "\n",
    "After completion of this module, learners should be able to:\n",
    "\n",
    "* Read data from a file and prepare a data structure\n",
    "* Write functions to perform computations over the data structure"
   ]
  },
  {
   "cell_type": "markdown",
   "metadata": {},
   "source": [
    "## 20 - Stock Prices (solution)"
   ]
  },
  {
   "cell_type": "markdown",
   "metadata": {},
   "source": [
    "[**Start 20 - Stock Prices (solution).ipynb**](/notebooks/20 - Stock Prices (solution).ipynb)\n",
    "\n",
    "After completion of this module, learners should be able to:\n",
    "\n",
    "* Read data from a file and prepare a data structure\n",
    "* Perform computations over the data structure"
   ]
  },
  {
   "cell_type": "markdown",
   "metadata": {},
   "source": [
    "## 22 - Int - Scalar Data Types"
   ]
  },
  {
   "cell_type": "markdown",
   "metadata": {},
   "source": [
    "[**Start 22 - Int - Scalar Data Types.ipynb**](/notebooks/22 - Int - Scalar Data Types.ipynb)\n",
    "\n",
    "After completion of this module, learners should be able to:\n",
    "\n",
    "* use & distinguish builtin Python numeric types: `bool`, `int`, `float`, `complex`\n",
    "* use & explain Python rules for type conversion & casting (e.g., combining operators & types)\n",
    "* apply common methods associated with builtin Python data types\n",
    "* use `help` (and other documentation) to learn about methods associated with builtin types\n",
    "* apply string indexing rules\n",
    "* apply the `str.format` mini-language to generate formatted output"
   ]
  },
  {
   "cell_type": "markdown",
   "metadata": {},
   "source": [
    "## 23 - Int - Container Methods"
   ]
  },
  {
   "cell_type": "markdown",
   "metadata": {},
   "source": [
    "[**Start 23 - Int - Container Methods.ipynb**](/notebooks/23 - Int - Container Methods.ipynb)\n",
    "\n",
    "After completion of this module, learners should be able to:\n",
    "\n",
    "* apply Python rules for indexing & slicing strings, lists, & tuples\n",
    "* apply Python idioms for looping over builtin data collections\n",
    "* explain the distinction between *mutable* and *immutable* objects"
   ]
  },
  {
   "cell_type": "markdown",
   "metadata": {},
   "source": [
    "## 24 - Int - Booleans"
   ]
  },
  {
   "cell_type": "markdown",
   "metadata": {},
   "source": [
    "[**Start 24 - Int - Booleans.ipynb**](/notebooks/24 - Int - Booleans.ipynb)\n",
    "\n"
   ]
  },
  {
   "cell_type": "markdown",
   "metadata": {},
   "source": [
    "## 25 - Int - Regex"
   ]
  },
  {
   "cell_type": "markdown",
   "metadata": {},
   "source": [
    "[**Start 25 - Int - Regex.ipynb**](/notebooks/25 - Int - Regex.ipynb)\n",
    "\n"
   ]
  },
  {
   "cell_type": "markdown",
   "metadata": {},
   "source": [
    "## 26 - Int - Lambda and Special Functions"
   ]
  },
  {
   "cell_type": "markdown",
   "metadata": {},
   "source": [
    "[**Start 26 - Int - Lambda and Special Functions.ipynb**](/notebooks/26 - Int - Lambda and Special Functions.ipynb)\n",
    "\n",
    "After completion of this module, learners should be able to:\n",
    "\n",
    "* create & use `lambda` functions\n",
    "* use & explain rules regarding indentation, namespaces, local/global variables, & docstrings with Python functions\n",
    "* use & explain Python rules regarding positional, keyword, & variadic arguments"
   ]
  },
  {
   "cell_type": "markdown",
   "metadata": {},
   "source": [
    "# The Python Standard Library"
   ]
  },
  {
   "cell_type": "markdown",
   "metadata": {},
   "source": [
    "## 21 - Python Standard Library"
   ]
  },
  {
   "cell_type": "markdown",
   "metadata": {},
   "source": [
    "[**Start 21 - Python Standard Library.ipynb**](/notebooks/21 - Python Standard Library.ipynb)\n",
    "\n",
    "After completion of this module, learners should be able to:\n",
    "\n",
    "* Search the documentation of the Python Standard Library for useful modules\n",
    "* import the collections module\n",
    "* undesrtand and use the `namedtuple`, `OrderedDict` and `Counter` collection types\n",
    "* import the `datetime` module and perform operations with datetime objects.\n",
    "* understand differences between the `decimcal` and `fraction` modules"
   ]
  },
  {
   "cell_type": "markdown",
   "metadata": {},
   "source": [
    "# Python Themes"
   ]
  },
  {
   "cell_type": "markdown",
   "metadata": {},
   "source": [
    "## 27 - Theme - More iteration"
   ]
  },
  {
   "cell_type": "markdown",
   "metadata": {},
   "source": [
    "[**Start 27 - Theme - More iteration.ipynb**](/notebooks/27 - Theme - More iteration.ipynb)\n",
    "\n"
   ]
  },
  {
   "cell_type": "markdown",
   "metadata": {},
   "source": [
    "## 28 - Theme - IO and Strings"
   ]
  },
  {
   "cell_type": "markdown",
   "metadata": {},
   "source": [
    "[**Start 28 - Theme - IO and Strings.ipynb**](/notebooks/28 - Theme - IO and Strings.ipynb)\n",
    "\n"
   ]
  },
  {
   "cell_type": "markdown",
   "metadata": {},
   "source": [
    "## 29 - Theme - Shells and scripts"
   ]
  },
  {
   "cell_type": "markdown",
   "metadata": {},
   "source": [
    "[**Start 29 - Theme - Shells and scripts.ipynb**](/notebooks/29 - Theme - Shells and scripts.ipynb)\n",
    "\n"
   ]
  },
  {
   "cell_type": "markdown",
   "metadata": {},
   "source": [
    "# Exception Handling"
   ]
  },
  {
   "cell_type": "markdown",
   "metadata": {},
   "source": [
    "## 30 - Adv - Exception Handling"
   ]
  },
  {
   "cell_type": "markdown",
   "metadata": {},
   "source": [
    "[**Start 30 - Adv - Exception Handling.ipynb**](/notebooks/30 - Adv - Exception Handling.ipynb)\n",
    "\n",
    "After completion of this module, learners should be able to:\n",
    "\n",
    "* use & explain exception handling in Python with `try-except-finally` for defensive programming"
   ]
  },
  {
   "cell_type": "markdown",
   "metadata": {},
   "source": [
    "# Iterators and Generators"
   ]
  },
  {
   "cell_type": "markdown",
   "metadata": {},
   "source": [
    "## 31 - Adv - Iterators and Generators"
   ]
  },
  {
   "cell_type": "markdown",
   "metadata": {},
   "source": [
    "[**Start 31 - Adv - Iterators and Generators.ipynb**](/notebooks/31 - Adv - Iterators and Generators.ipynb)\n",
    "\n",
    "After completion of this module, learners should be able to:\n",
    "\n",
    "* construct & use iterators for sequential tasks"
   ]
  },
  {
   "cell_type": "markdown",
   "metadata": {},
   "source": [
    "## 32 - Adv - Itertools"
   ]
  },
  {
   "cell_type": "markdown",
   "metadata": {},
   "source": [
    "[**Start 32 - Adv - Itertools.ipynb**](/notebooks/32 - Adv - Itertools.ipynb)\n",
    "\n",
    "After completion of this module, learners should be able to:\n",
    "\n",
    "* understand the `itertools` module"
   ]
  },
  {
   "cell_type": "markdown",
   "metadata": {},
   "source": [
    "## 33 - Adv - Lazy Iteration"
   ]
  },
  {
   "cell_type": "markdown",
   "metadata": {},
   "source": [
    "[**Start 33 - Adv - Lazy Iteration.ipynb**](/notebooks/33 - Adv - Lazy Iteration.ipynb)\n",
    "\n"
   ]
  },
  {
   "cell_type": "markdown",
   "metadata": {},
   "source": [
    "# Object Oriented Design"
   ]
  },
  {
   "cell_type": "markdown",
   "metadata": {},
   "source": [
    "## 34 - Adv - Basic Classes"
   ]
  },
  {
   "cell_type": "markdown",
   "metadata": {},
   "source": [
    "[**Start 34 - Adv - Basic Classes.ipynb**](/notebooks/34 - Adv - Basic Classes.ipynb)\n",
    "\n",
    "After completion of this module, learners should be able to:\n",
    "\n",
    "* use & design Python classes\n",
    "* explain central distinguishing features in Pythonic object-oriented design"
   ]
  },
  {
   "cell_type": "markdown",
   "metadata": {},
   "source": [
    "## 35 - Adv - Revenue Report Exercise"
   ]
  },
  {
   "cell_type": "markdown",
   "metadata": {},
   "source": [
    "[**Start 35 - Adv - Revenue Report Exercise.ipynb**](/notebooks/35 - Adv - Revenue Report Exercise.ipynb)\n",
    "\n"
   ]
  },
  {
   "cell_type": "markdown",
   "metadata": {},
   "source": [
    "## 36 - Adv - Revenue Report solution"
   ]
  },
  {
   "cell_type": "markdown",
   "metadata": {},
   "source": [
    "[**Start 36 - Adv - Revenue Report solution.ipynb**](/notebooks/36 - Adv - Revenue Report solution.ipynb)\n",
    "\n"
   ]
  },
  {
   "cell_type": "markdown",
   "metadata": {},
   "source": [
    "## 37 - Adv - Magic Methods"
   ]
  },
  {
   "cell_type": "markdown",
   "metadata": {},
   "source": [
    "[**Start 37 - Adv - Magic Methods.ipynb**](/notebooks/37 - Adv - Magic Methods.ipynb)\n",
    "\n",
    "* Magic methods and overloading operators\n",
    "* The `__new__()` method, and its difference from `__init__()`\n",
    "* Defining various operators or other syntax sugar, e.g. `__mul__()`, `__call__()`, `__lt__()`\n",
    "* Unicode subtleties\n",
    "* Generators and coroutines\n",
    "* Metaclasses\n",
    "* Decorators\n",
    "* Context managers\n",
    "* C3 MRO linearization\n",
    "* Longer discussion of complexity classes of standard containers\n",
    "* Functional programming techniques\n",
    "* Properties and accessors\n",
    "* Closures and function factories\n",
    "* import hooks\n",
    "\n",
    "Highlighting some standard library modules such as:\n",
    "* asyncore\n",
    "* multiprocessing\n",
    "* subprocess\n",
    "* threading\n",
    "* ast and dis"
   ]
  },
  {
   "cell_type": "markdown",
   "metadata": {},
   "source": [
    "## 38 - Adv - Iterable Classes"
   ]
  },
  {
   "cell_type": "markdown",
   "metadata": {},
   "source": [
    "[**Start 38 - Adv - Iterable Classes.ipynb**](/notebooks/38 - Adv - Iterable Classes.ipynb)\n",
    "\n"
   ]
  },
  {
   "cell_type": "markdown",
   "metadata": {},
   "source": [
    "## 39 - Adv - Magic Objects Exercise"
   ]
  },
  {
   "cell_type": "markdown",
   "metadata": {},
   "source": [
    "[**Start 39 - Adv - Magic Objects Exercise.ipynb**](/notebooks/39 - Adv - Magic Objects Exercise.ipynb)\n",
    "\n"
   ]
  },
  {
   "cell_type": "markdown",
   "metadata": {},
   "source": [
    "# Decorators"
   ]
  },
  {
   "cell_type": "markdown",
   "metadata": {},
   "source": [
    "## 40 - Adv - Decorator Functions"
   ]
  },
  {
   "cell_type": "markdown",
   "metadata": {},
   "source": [
    "[**Start 40 - Adv - Decorator Functions.ipynb**](/notebooks/40 - Adv - Decorator Functions.ipynb)\n",
    "\n"
   ]
  },
  {
   "cell_type": "markdown",
   "metadata": {},
   "source": [
    "## 41 - Adv - Decorator Classes"
   ]
  },
  {
   "cell_type": "markdown",
   "metadata": {},
   "source": [
    "[**Start 41 - Adv - Decorator Classes.ipynb**](/notebooks/41 - Adv - Decorator Classes.ipynb)\n",
    "\n"
   ]
  },
  {
   "cell_type": "markdown",
   "metadata": {},
   "source": [
    "# Context Managers"
   ]
  },
  {
   "cell_type": "markdown",
   "metadata": {},
   "source": [
    "## 42 - Adv - Contect Managers"
   ]
  },
  {
   "cell_type": "markdown",
   "metadata": {},
   "source": [
    "[**Start 42 - Adv - Contect Managers.ipynb**](/notebooks/42 - Adv - Contect Managers.ipynb)\n",
    "\n"
   ]
  },
  {
   "cell_type": "markdown",
   "metadata": {},
   "source": [
    "# Functional Programming"
   ]
  },
  {
   "cell_type": "markdown",
   "metadata": {},
   "source": [
    "## 43 - Adv - Functional Programming"
   ]
  },
  {
   "cell_type": "markdown",
   "metadata": {},
   "source": [
    "[**Start 43 - Adv - Functional Programming.ipynb**](/notebooks/43 - Adv - Functional Programming.ipynb)\n",
    "\n"
   ]
  },
  {
   "cell_type": "markdown",
   "metadata": {},
   "source": [
    "# Data formats & storage"
   ]
  },
  {
   "cell_type": "markdown",
   "metadata": {},
   "source": [
    "## 44 - Data Formats"
   ]
  },
  {
   "cell_type": "markdown",
   "metadata": {},
   "source": [
    "[**Start 44 - Data Formats.ipynb**](/notebooks/44 - Data Formats.ipynb)\n",
    "\n",
    "After completion of this module, learners should be able to:\n",
    "\n",
    "* Read from and write to delimited data files, such as CSV\n",
    "* Learn how to do so robustly\n",
    "* Learn why to not do so if possible\n",
    "* Understand the structure of Excel .xlsx files\n",
    "* Read data from Excel files\n",
    "* Write data to Excel files\n",
    "* Learn what JSON, YAML, and XML are\n",
    "* Learn when and why to use them\n",
    "* Learn how to manipulate and construct each type\n",
    "* Learn the limitations and risks associated with each\n",
    "* Work with formats that mirror the native data structures of Python:\n",
    "* JSON\n",
    "* YAML\n",
    "* Work with XML data using several APIs:\n",
    "* expat\n",
    "* ElementTree\n",
    "* SAX (Simple API for XML)\n",
    "* DOM (Document Object Model\n",
    "* Work with data stored in fast, hierarchical scientific data formats:\n",
    "* HDF5\n",
    "* NetCDF\n",
    "* IDL .sav files\n",
    "* Fortran 77 Unformatted"
   ]
  }
 ],
 "metadata": {},
 "nbformat": 4,
 "nbformat_minor": 0
}
