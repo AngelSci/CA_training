{
 "cells": [
  {
   "cell_type": "markdown",
   "metadata": {},
   "source": [
    "# Table of Contents\n",
    "* [`iopro.pyodbc` First Steps](#iopro.pyodbc-First-Steps)\n",
    "\t* [Concepts](#Concepts)\n",
    "\t* [Connection to a datasource](#Connection-to-a-datasource)\n",
    "\t* [Working with cursors](#Working-with-cursors)\n",
    "\t* [Creating a sample table](#Creating-a-sample-table)\n",
    "\t* [Filling the sample table with sample data](#Filling-the-sample-table-with-sample-data)\n",
    "\t* [Querying the sample data from the sample table](#Querying-the-sample-data-from-the-sample-table)\n",
    "* [`iopro.pyodbc` extensions](#iopro.pyodbc-extensions)\n",
    "\t* [fetchdictarray](#fetchdictarray)\n",
    "\t* [fetchsarray](#fetchsarray)\n",
    "\t* [fetchdictarray vs fetchsarray](#fetchdictarray-vs-fetchsarray)\n"
   ]
  },
  {
   "cell_type": "markdown",
   "metadata": {},
   "source": [
    "# `iopro.pyodbc` First Steps"
   ]
  },
  {
   "cell_type": "markdown",
   "metadata": {},
   "source": [
    "iopro.pyodbc extends pyodbc with methods that allow data to be fetched\n",
    "directly into numpy containers. These functions are faster than regular\n",
    "fetch calls in pyodbc, providing also the convenience of being returned\n",
    "in a container appropriate to fast analysis.\n",
    "\n",
    "This notebook is intended to be a tutorial on iopro.pyodbc. Most of the\n",
    "material is applicable to pyodbc (and based on pyodbc tutorials). There\n",
    "will be some examples specific to iopro.pyodbc. When that's the case, it\n",
    "will be noted."
   ]
  },
  {
   "cell_type": "markdown",
   "metadata": {},
   "source": [
    "## Concepts"
   ]
  },
  {
   "cell_type": "markdown",
   "metadata": {},
   "source": [
    "In pyodbc there are two main classes to understand:\n",
    " -   connection\n",
    " -   cursor\n",
    "\n",
    "A connection is, as its name says, a connection to a datasource. A\n",
    "datasource is your database. It may be a database handled by a DBMS or\n",
    "just a plain file. A cursor allows you to interface with statements.\n",
    "Interaction with queries and other commands is performed through a\n",
    "cursor. A cursor is associated to a connection and commands over a\n",
    "cursor are performed over that connection to the datasource. In order to\n",
    "use iopro.pyodbc you must import it:\n",
    "\n",
    "    >>> import iopro.pyodbc as pyodbc"
   ]
  },
  {
   "cell_type": "markdown",
   "metadata": {},
   "source": [
    "## Connection to a datasource"
   ]
  },
  {
   "cell_type": "markdown",
   "metadata": {},
   "source": [
    "In order to operate with pyodbc you need to connect to a datasource.\n",
    "Typically this will be a database. This is done by creating a connection\n",
    "object. To create a connection object you need a connection string. This\n",
    "string describes the datasource to use as well as some extra parameters.\n",
    "You can learn more about connection strings here.:\n",
    "\n",
    "    >>> connection_string = '''DSN=SQLServerTest;DATABASE=Test'''\n",
    "    >>> connection = pyodbc.connect(connection_string)\n",
    "\n",
    "pyodbc.connect supports a keyword parameter autocommit. This controls\n",
    "the way the connection is handle. The default value (False) means that\n",
    "the commands that modify the database statements need to be committed\n",
    "explicitly. All commands between commits will form a single transaction.\n",
    "If autocommit is enabled every command will be issued and committed. It\n",
    "is also possible to change autocommit status after the connection is\n",
    "established.:\n",
    "\n",
    "    >>> connection.autocommit = True #enable autocommit\n",
    "    >>> connection.autocommit = False # disable autocommit\n",
    "\n",
    "When not in autocommit mode, you can end a transaction by either\n",
    "commiting it or rolling it back.:\n",
    "\n",
    "    In[6]: connection.commit() # commit the transaction\n",
    "    In[7]: connection.rollback() # rollback the transaction\n",
    "\n",
    "Note that commit/rollback is always performed at the connection level.\n",
    "pyodbc provides a commit/rollback method in the cursor objects, but they\n",
    "will act on the associated connection."
   ]
  },
  {
   "cell_type": "markdown",
   "metadata": {},
   "source": [
    "## Working with cursors"
   ]
  },
  {
   "cell_type": "markdown",
   "metadata": {},
   "source": [
    "Command execution in pyodbc is handled through cursors. You can create a\n",
    "cursor from a connection using the cursor() method. The first step is\n",
    "creating a cursor:\n",
    "\n",
    "    In[8]: cursor = connection.cursor()\n",
    "\n",
    "With a cursor created, we can start issuing SQL commands using the\n",
    "execute method."
   ]
  },
  {
   "cell_type": "markdown",
   "metadata": {},
   "source": [
    "## Creating a sample table"
   ]
  },
  {
   "cell_type": "markdown",
   "metadata": {},
   "source": [
    "First, create a sample table in the database. The following code will\n",
    "create a sample table with three columns of different types.:\n",
    "\n",
    "    >>> def create_test_table(cursor):\n",
    "    ...    try:\n",
    "    ...        cursor.execute('drop table test_table')\n",
    "    ...    except:\n",
    "    ...        pass\n",
    "    ...    cursor.execute('''create table test_table (\n",
    "    ...                                    name varchar(10),\n",
    "    ...                                    fval float(24),\n",
    "    ...                                    ival int)''')\n",
    "    ...    cursor.commit()\n",
    "\n",
    "    >>> create_test_table(cursor)"
   ]
  },
  {
   "cell_type": "markdown",
   "metadata": {},
   "source": [
    "## Filling the sample table with sample data"
   ]
  },
  {
   "cell_type": "markdown",
   "metadata": {},
   "source": [
    "After creating the table, rows can be inserted by executing insert into\n",
    "the table. Note you can pass parameters by placing a ? into the SQL\n",
    "statement. The parameters will be taken in order for the sequence\n",
    "appears in the next parameter.:\n",
    "\n",
    "    >>> cursor.execute('''insert into test_table values (?,?,?)''', ('foo', 3.0, 2))\n",
    "    >>> cursor.rowcount\n",
    "    1\n",
    "\n",
    "Using executemany a sequence of parameters to the SQL statement can be\n",
    "passed and the statement will be executed many times, each time with a\n",
    "different parameter set. This allows us to easily insert several rows\n",
    "into the database so that we have a small test set::\n",
    "\n",
    "    >>> cursor.executemany('''insert into test_table values (?,?,?)''', [\n",
    "    ...                        ('several', 2.1, 3),\n",
    "    ...                        ('tuples', -1.0, 2),\n",
    "    ...                        ('can', 3.0, 1),\n",
    "    ...                        ('be', 12.0, -3),\n",
    "    ...                        ('inserted', 0.0, -2),\n",
    "    ...                        ('at', 33.0, 0),\n",
    "    ...                        ('once', 0.0, 0)\n",
    "    ...                        ])\n",
    "\n",
    "Remember that if autocommit is turned off the changes won't be visible\n",
    "to any other connection unless we commit.:\n",
    "\n",
    "    >>> cursor.commit() # remember this is a shortcut to connection.commit() method"
   ]
  },
  {
   "cell_type": "markdown",
   "metadata": {},
   "source": [
    "## Querying the sample data from the sample table"
   ]
  },
  {
   "cell_type": "markdown",
   "metadata": {},
   "source": [
    "Having populated our sample database, we can retrieve the inserted data\n",
    "by executing select statements::\n",
    "\n",
    "    >>> cursor.execute('''select * from test_table''')\n",
    "    <pyodbc.Cursor at 0x6803510>\n",
    "\n",
    "After calling execute with the select statement we need to retrieve the\n",
    "data. This can be achieved by calling fetch methods in the cursor\n",
    "fetchone fetches the next row in the cursor, returning it in a tuple:\n",
    "\n",
    "    >>> cursor.fetchone()\n",
    "    ('foo', 3.0, 2)\n",
    "\n",
    "fetchmany retrieves several rows at a time in a list of tuples:\n",
    "\n",
    "    >>> cursor.fetchmany(3)\n",
    "    [('several', 2.0999999046325684, 3), ('tuples', -1.0, 2), ('can', 3.0, 1)]\n",
    "\n",
    "fetchall retrieves all the remaining rows in a list of tuples:\n",
    "\n",
    "    >>> cursor.fetchall()\n",
    "    [('be', 12.0, -3), ('inserted', 0.0, -2), ('at', 33.0, 0), ('once', 0.0, 0)]\n",
    "\n",
    "All the calls to any kind of fetch advances the cursor, so the next\n",
    "fetch starts in the row after the last row fetched. execute returns the\n",
    "cursor object. This is handy to retrieve the full query by chaining\n",
    "fetchall. This results in a one-liner::\n",
    "\n",
    "    >>> cursor.execute('''select * from test_table''').fetchall()\n",
    "    [('foo', 3.0, 2),\n",
    "     ('several', 2.0999999046325684, 3),\n",
    "     ('tuples', -1.0, 2),\n",
    "     ('can', 3.0, 1),\n",
    "     ('be', 12.0, -3),\n",
    "     ('inserted', 0.0, -2),\n",
    "     ('at', 33.0, 0),\n",
    "     ('once', 0.0, 0)]"
   ]
  },
  {
   "cell_type": "markdown",
   "metadata": {},
   "source": [
    "# `iopro.pyodbc` extensions"
   ]
  },
  {
   "cell_type": "markdown",
   "metadata": {},
   "source": [
    "When using iopro.pyodbc it is possible to retrieve the results from\n",
    "queries directly into numpy containers. This is accomplished by using\n",
    "the new cursor methods fetchdictarray and fetchsarray."
   ]
  },
  {
   "cell_type": "markdown",
   "metadata": {},
   "source": [
    "## fetchdictarray"
   ]
  },
  {
   "cell_type": "markdown",
   "metadata": {},
   "source": [
    "fetchdictarray fetches the results of a query in a dictionary. By\n",
    "default fetchdictarray fetches all remaining rows in the cursor.:\n",
    "\n",
    "    >>> cursor.execute('''select * from test_table''')\n",
    "    >>> dictarray = cursor.fetchdictarray()\n",
    "    >>> type(dictarray)\n",
    "    dict\n",
    "\n",
    "The keys in the dictionary are the column names::\n",
    "\n",
    "    >>> dictarray.keys()\n",
    "    ['ival', 'name', 'fval']\n",
    "\n",
    "Each column name is mapped to a numpy array (ndarray) as its value::\n",
    "\n",
    "    >>> ', '.join([type(dictarray[i]).__name__ for i in dictarray.keys()])\n",
    "    'ndarray, ndarray, ndarray'\n",
    "\n",
    "The types of the numpy arrays are infered from the database column\n",
    "information. So for our columns we get an appropriate numpy type. Note\n",
    "that in the case of name the type is a string of 11 characters even if\n",
    "in test\\_table is defined as varchar(10). The extra parameter is there\n",
    "to null-terminate the string::\n",
    "\n",
    "    >>> ', '.join([repr(dictarray[i].dtype) for i in dictarray.keys()])\n",
    "    \"dtype('int32'), dtype('|S11'), dtype('float32')\"\n",
    "\n",
    "The numpy arrays will have a shape containing a single dimension with\n",
    "the number of rows fetched::\n",
    "\n",
    "    >>> ', '.join([repr(dictarray[i].shape) for i in dictarray.keys()])\n",
    "    '(8L,), (8L,), (8L,)'\n",
    "\n",
    "The values in the different column arrays are index coherent. So in\n",
    "order to get the values associated to a given row it suffices to access\n",
    "each column using the appropriate index. The following snippet shows\n",
    "this correspondence::\n",
    "\n",
    "    >>> print '\\n'.join(\n",
    "    ... [', '.join(\n",
    "    ...     [repr(dictarray[i][j]) for i in dictarray.keys()]) \n",
    "    ...         for j in range(dictarray['name'].shape[0])])\n",
    "    2, 'foo', 3.0\n",
    "    3, 'several', 2.0999999\n",
    "    2, 'tuples', -1.0\n",
    "    1, 'can', 3.0\n",
    "    -3, 'be', 12.0\n",
    "    -2, 'inserted', 0.0\n",
    "    0, 'at', 33.0\n",
    "    0, 'once', 0.0\n",
    "\n",
    "Having the results in numpy containers makes it easy to use numpy to\n",
    "analyze the data::\n",
    "\n",
    "    >>> import numpy as np\n",
    "    >>> np.mean(dictarray['fval'])\n",
    "    6.5124998092651367\n",
    "\n",
    "fetchdictarray accepts an optional parameter that places an upper bound\n",
    "to the number of rows to fetch. If there are not enough elements left to\n",
    "be fetched in the cursor the arrays resulting will be sized accordingly.\n",
    "This way it is possible to work with big tables in chunks of rows.:\n",
    "\n",
    "    >>> cursor.execute('''select * from test_table''')\n",
    "    >>> dictarray = cursor.fetchdictarray(6)\n",
    "    >>> print dictarray['name'].shape\n",
    "    (6L,)\n",
    "    >>> dictarray = cursor.fetchdictarray(6)\n",
    "    >>> print dictarray['name'].shape\n",
    "    (2L,)"
   ]
  },
  {
   "cell_type": "markdown",
   "metadata": {},
   "source": [
    "## fetchsarray"
   ]
  },
  {
   "cell_type": "markdown",
   "metadata": {},
   "source": [
    "fetchsarray fetches the result of a query in a numpy structured array.:\n",
    "\n",
    "    >>> cursor.execute('''select * from test_table''')\n",
    "    >>> sarray = cursor.fetchsarray()\n",
    "    >>> print sarray\n",
    "    [('foo', 3.0, 2) ('several', 2.0999999046325684, 3) ('tuples', -1.0, 2)\n",
    "     ('can', 3.0, 1) ('be', 12.0, -3) ('inserted', 0.0, -2) ('at', 33.0, 0)\n",
    "     ('once', 0.0, 0)]\n",
    "\n",
    "The type of the result is a numpy array (ndarray)::\n",
    "\n",
    "    >>> type(sarray)\n",
    "    numpy.ndarray\n",
    "\n",
    "The dtype of the numpy array contains the description of the columns and\n",
    "their types::\n",
    "\n",
    "    >>> sarray.dtype\n",
    "    dtype([('name', '|S11'), ('fval', '&lt;f4'), ('ival', '&lt;i4')])\n",
    "\n",
    "The shape of the array will be one-dimensional, with cardinality equal\n",
    "to the number of rows fetched::\n",
    "\n",
    "    >>> sarray.shape\n",
    "    (8L,)\n",
    "\n",
    "It is also possible to get the shape of a column. In this way it will\n",
    "look similar to the code needed when using dictarrays:\n",
    "\n",
    "    >>> sarray['name'].shape\n",
    "    (8L,)\n",
    "\n",
    "In a structured array it is as easy to access data by row or by column::\n",
    "\n",
    "    >>> sarray['name']\n",
    "    array(['foo', 'several', 'tuples', 'can', 'be', 'inserted', 'at', 'once'], \n",
    "          dtype='|S11')\n",
    "    >>> sarray[0]\n",
    "    ('foo', 3.0, 2)\n",
    "\n",
    "It is also very easy and efficient to feed data into numpy functions::\n",
    "\n",
    "    >>> np.mean(sarray['fval'])\n",
    "    6.5124998092651367"
   ]
  },
  {
   "cell_type": "markdown",
   "metadata": {},
   "source": [
    "## fetchdictarray vs fetchsarray"
   ]
  },
  {
   "cell_type": "markdown",
   "metadata": {},
   "source": [
    "Both methods provide ways to input data from a database into a\n",
    "numpy-friendly container. The structured array version provides more\n",
    "flexibility extracting rows in an easier way. The main difference is in\n",
    "the memory layout of the resulting object. An in-depth analysis of this\n",
    "is beyond the scope of this notebook. Suffice it to say that you can\n",
    "view the dictarray laid out in memory as an structure of arrays (in\n",
    "fact, a dictionary or arrays), while the structured array would be laid\n",
    "out in memory like an array of structures. This can make a lot of\n",
    "difference performance-wise when working with large chunks of data."
   ]
  }
 ],
 "metadata": {
  "anaconda-cloud": {},
  "kernelspec": {
   "display_name": "Python [conda env:iqt]",
   "language": "python",
   "name": "conda-env-iqt-py"
  },
  "language_info": {
   "codemirror_mode": {
    "name": "ipython",
    "version": 3
   },
   "file_extension": ".py",
   "mimetype": "text/x-python",
   "name": "python",
   "nbconvert_exporter": "python",
   "pygments_lexer": "ipython3",
   "version": "3.5.2"
  }
 },
 "nbformat": 4,
 "nbformat_minor": 0
}
