{
 "cells": [
  {
   "cell_type": "markdown",
   "metadata": {},
   "source": [
    "The following is a tutorial on using the new IOPro Accumulo adapter. In order to run this notebook, you'll need a running Accumulo server with the proxy server running. Otherwise you can simply follow along with the saved example results. All the examples here were tested with Python 2.7 (due to the pyaccumulo module used to create the test data), but they should also work with Python 3.4+.\n",
    "\n",
    "First we need to generate some test data. Since IOPro only supports pulling data from data sources, we'll use the Python module pyaccumulo to create and populate a new table. The connection parameters will need to be changed to run this for your own Accumulo server (preferably a non production server!). The following example will create two new tables called 'iopro_tutorial_data' and 'iopro_tutorial_missing_data'. If tables already exists with those names, they will be destroyed."
   ]
  },
  {
   "cell_type": "code",
   "execution_count": 14,
   "metadata": {
    "collapsed": false
   },
   "outputs": [],
   "source": [
    "import pyaccumulo\n",
    "conn = pyaccumulo.Accumulo('172.17.0.1', port=42424, user='root', password='secret')\n",
    "\n",
    "name = 'iopro_tutorial_data'\n",
    "if conn.table_exists(name):\n",
    "    conn.delete_table(name)\n",
    "conn.create_table(name)\n",
    "\n",
    "writer = conn.create_batch_writer(name)\n",
    "for i in range(0, 5):\n",
    "    value = '{0:07f}'.format(i + 0.5)\n",
    "    m = pyaccumulo.Mutation('row{0:02d}'.format(i + 1))\n",
    "    m.put(cf='f{0:02d}'.format(i + 1), cq='q{0:02d}'.format(i + 1), val=value)\n",
    "    writer.add_mutation(m)\n",
    "writer.close()\n",
    "\n",
    "name = 'iopro_tutorial_missing_data'\n",
    "if conn.table_exists(name):\n",
    "    conn.delete_table(name)\n",
    "conn.create_table(name)\n",
    "\n",
    "writer = conn.create_batch_writer(name)\n",
    "m = pyaccumulo.Mutation('row01')\n",
    "m.put(cf='f01', cq='q01', val='NA')\n",
    "writer.add_mutation(m)\n",
    "m = pyaccumulo.Mutation('row02')\n",
    "m.put(cf='f02', cq='q02', val='nan')\n",
    "writer.add_mutation(m)\n",
    "writer.close()"
   ]
  },
  {
   "cell_type": "markdown",
   "metadata": {},
   "source": [
    "First we'll create an Accumulo adapter for the first table we created above:"
   ]
  },
  {
   "cell_type": "code",
   "execution_count": 24,
   "metadata": {
    "collapsed": false
   },
   "outputs": [],
   "source": [
    "import iopro\n",
    "adapter = iopro.AccumuloAdapter(server='172.17.0.1',\n",
    "                                port=42424,\n",
    "                                username='root',\n",
    "                                password='secret',\n",
    "                                table='iopro_tutorial_data')"
   ]
  },
  {
   "cell_type": "markdown",
   "metadata": {},
   "source": [
    "Since Accumulo returns values as variable length strings, we first need to tell the adapter the data type for our results. Once that is set, the easiest way to retrieve the data into a NumPy array is with the to_array method:"
   ]
  },
  {
   "cell_type": "code",
   "execution_count": 25,
   "metadata": {
    "collapsed": false
   },
   "outputs": [
    {
     "data": {
      "text/plain": [
       "array([ 0.5,  1.5,  2.5,  3.5,  4.5], dtype=float32)"
      ]
     },
     "execution_count": 25,
     "metadata": {},
     "output_type": "execute_result"
    }
   ],
   "source": [
    "adapter.field_type = 'f4'\n",
    "adapter.to_array()"
   ]
  },
  {
   "cell_type": "markdown",
   "metadata": {},
   "source": [
    "An alternative and more powerful way to retrieve data is to use slicing syntax, similar to NumPy array slicing. For example, to retrieve all records:"
   ]
  },
  {
   "cell_type": "code",
   "execution_count": 26,
   "metadata": {
    "collapsed": false
   },
   "outputs": [
    {
     "data": {
      "text/plain": [
       "array([ 0.5,  1.5,  2.5,  3.5,  4.5], dtype=float32)"
      ]
     },
     "execution_count": 26,
     "metadata": {},
     "output_type": "execute_result"
    }
   ],
   "source": [
    "adapter[:]"
   ]
  },
  {
   "cell_type": "markdown",
   "metadata": {},
   "source": [
    "retrieve the first three records:"
   ]
  },
  {
   "cell_type": "code",
   "execution_count": 27,
   "metadata": {
    "collapsed": false
   },
   "outputs": [
    {
     "name": "stderr",
     "output_type": "stream",
     "text": [
      "/home/jayvius/miniconda3/envs/dev27/lib/python2.7/site-packages/ipykernel/__main__.py:1: DeprecationWarning: using a non-integer number instead of an integer will result in an error in the future\n",
      "  if __name__ == '__main__':\n"
     ]
    },
    {
     "data": {
      "text/plain": [
       "array([ 0.5,  1.5,  2.5], dtype=float32)"
      ]
     },
     "execution_count": 27,
     "metadata": {},
     "output_type": "execute_result"
    }
   ],
   "source": [
    "adapter[0:3]"
   ]
  },
  {
   "cell_type": "markdown",
   "metadata": {},
   "source": [
    "retrieve every other record from the first four records:"
   ]
  },
  {
   "cell_type": "code",
   "execution_count": 28,
   "metadata": {
    "collapsed": false
   },
   "outputs": [
    {
     "name": "stderr",
     "output_type": "stream",
     "text": [
      "/home/jayvius/miniconda3/envs/dev27/lib/python2.7/site-packages/ipykernel/__main__.py:1: DeprecationWarning: using a non-integer number instead of an integer will result in an error in the future\n",
      "  if __name__ == '__main__':\n"
     ]
    },
    {
     "data": {
      "text/plain": [
       "array([ 0.5,  2.5], dtype=float32)"
      ]
     },
     "execution_count": 28,
     "metadata": {},
     "output_type": "execute_result"
    }
   ],
   "source": [
    "adapter[0:4:2]"
   ]
  },
  {
   "cell_type": "markdown",
   "metadata": {},
   "source": [
    "Since the underlying Accumulo interface provided by the Accumulo server doesn't allow seeking from the last record, negative slicing is not supported at this time."
   ]
  },
  {
   "cell_type": "markdown",
   "metadata": {},
   "source": [
    "Since Accumulo is essentially a key/value store, we can also filter results based on key. For example, we can set a start key value using the start_key property. This will retrieve all values with a key equal to or greater than the start key value."
   ]
  },
  {
   "cell_type": "code",
   "execution_count": 29,
   "metadata": {
    "collapsed": false
   },
   "outputs": [
    {
     "data": {
      "text/plain": [
       "array([ 1.5,  2.5,  3.5,  4.5], dtype=float32)"
      ]
     },
     "execution_count": 29,
     "metadata": {},
     "output_type": "execute_result"
    }
   ],
   "source": [
    "adapter.start_key = 'row02'\n",
    "adapter[:]"
   ]
  },
  {
   "cell_type": "markdown",
   "metadata": {},
   "source": [
    "Likewise, we can set a stop key value. This will retrieve all values with a key less than the stop key value but equal to or greater than the start key value which we've already set."
   ]
  },
  {
   "cell_type": "code",
   "execution_count": 30,
   "metadata": {
    "collapsed": false
   },
   "outputs": [
    {
     "data": {
      "text/plain": [
       "array([ 1.5,  2.5], dtype=float32)"
      ]
     },
     "execution_count": 30,
     "metadata": {},
     "output_type": "execute_result"
    }
   ],
   "source": [
    "adapter.stop_key = 'row04'\n",
    "adapter[:]"
   ]
  },
  {
   "cell_type": "markdown",
   "metadata": {},
   "source": [
    "By default, the start key is inclusive. We can change this by setting the start_key_inclusive property to False."
   ]
  },
  {
   "cell_type": "code",
   "execution_count": 31,
   "metadata": {
    "collapsed": false
   },
   "outputs": [
    {
     "data": {
      "text/plain": [
       "array([ 2.5], dtype=float32)"
      ]
     },
     "execution_count": 31,
     "metadata": {},
     "output_type": "execute_result"
    }
   ],
   "source": [
    "adapter.start_key_inclusive = False\n",
    "adapter[:]"
   ]
  },
  {
   "cell_type": "markdown",
   "metadata": {},
   "source": [
    "By default, the stop key is exclusive. We can change this by setting the stop_key_inclusive property to True."
   ]
  },
  {
   "cell_type": "code",
   "execution_count": 32,
   "metadata": {
    "collapsed": false
   },
   "outputs": [
    {
     "data": {
      "text/plain": [
       "array([ 2.5,  3.5], dtype=float32)"
      ]
     },
     "execution_count": 32,
     "metadata": {},
     "output_type": "execute_result"
    }
   ],
   "source": [
    "adapter.stop_key_inclusive = True\n",
    "adapter[:]"
   ]
  },
  {
   "cell_type": "markdown",
   "metadata": {},
   "source": [
    "To show how the Accumulo adapter deals with missing data, we'll create a new adapter for the missing data table created above and set the field type to a string of length 10 to see what the raw data looks like."
   ]
  },
  {
   "cell_type": "code",
   "execution_count": 33,
   "metadata": {
    "collapsed": false
   },
   "outputs": [
    {
     "data": {
      "text/plain": [
       "array(['NA', 'nan'], \n",
       "      dtype='|S10')"
      ]
     },
     "execution_count": 33,
     "metadata": {},
     "output_type": "execute_result"
    }
   ],
   "source": [
    "import numpy as np\n",
    "adapter = iopro.AccumuloAdapter('172.17.0.1', 42424, 'root', 'secret', 'iopro_tutorial_missing_data')\n",
    "adapter.field_type = 'S10'\n",
    "adapter.to_array()"
   ]
  },
  {
   "cell_type": "markdown",
   "metadata": {},
   "source": [
    "If we know that the strings 'NA' and 'nan' signify missing float values, we can use the missing_values property to tell the adapter to treat these strings as missing values. We can then use the fill_values property to specify a value to replace the missing values with."
   ]
  },
  {
   "cell_type": "code",
   "execution_count": 34,
   "metadata": {
    "collapsed": false
   },
   "outputs": [
    {
     "data": {
      "text/plain": [
       "array([ nan,  nan])"
      ]
     },
     "execution_count": 34,
     "metadata": {},
     "output_type": "execute_result"
    }
   ],
   "source": [
    "adapter.field_type = 'f8'\n",
    "adapter.missing_values = ['NA', 'nan']\n",
    "adapter.fill_value = np.nan\n",
    "adapter.to_array()"
   ]
  },
  {
   "cell_type": "code",
   "execution_count": null,
   "metadata": {
    "collapsed": true
   },
   "outputs": [],
   "source": []
  }
 ],
 "metadata": {
  "kernelspec": {
   "display_name": "Python 3",
   "language": "python",
   "name": "python3"
  },
  "language_info": {
   "codemirror_mode": {
    "name": "ipython",
    "version": 3
   },
   "file_extension": ".py",
   "mimetype": "text/x-python",
   "name": "python",
   "nbconvert_exporter": "python",
   "pygments_lexer": "ipython3",
   "version": "3.5.1"
  }
 },
 "nbformat": 4,
 "nbformat_minor": 0
}
