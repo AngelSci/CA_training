{
 "cells": [
  {
   "cell_type": "markdown",
   "metadata": {},
   "source": [
    "# Table of Contents\n",
    "* [Setup](#Setup)\n",
    "* [The Index Object](#The-Index-Object)\n",
    "\t* [Changing the Index](#Changing-the-Index)\n",
    "\t* [Hierarchical Indexing](#Hierarchical-Indexing)\n",
    "\t* [Iterating over the MultiIndex](#Iterating-over-the-MultiIndex)\n",
    "\t* [MultiIndex .loc accessor](#MultiIndex-.loc-accessor)\n",
    "\t* [Multi-axis indexers](#Multi-axis-indexers)\n",
    "* [Categorical data types](#Categorical-data-types)\n",
    "\t* [Overview of categoricals](#Overview-of-categoricals)\n",
    "\t* [Categorical Example: Decrease Memory Use](#Categorical-Example:-Decrease-Memory-Use)\n",
    "\t\t* [A slightly harder way to select IPA styles](#A-slightly-harder-way-to-select-IPA-styles)\n",
    "\t* [Categoricals: How it Works](#Categoricals:-How-it-Works)\n",
    "* [Section Review](#Section-Review)\n"
   ]
  },
  {
   "cell_type": "markdown",
   "metadata": {},
   "source": [
    "# Setup"
   ]
  },
  {
   "cell_type": "code",
   "execution_count": null,
   "metadata": {
    "collapsed": false
   },
   "outputs": [],
   "source": [
    "# Import modules needed for this lesson\n",
    "import pandas as pd\n",
    "\n",
    "# Set Jupyter notebook display options\n",
    "pd.options.display.max_rows = 6\n",
    "pd.options.display.max_columns = 8\n",
    "pd.options.display.width = 100\n",
    "\n",
    "# Test the version of pandas: it should be 0.16 or greater\n",
    "pd.__version__"
   ]
  },
  {
   "cell_type": "markdown",
   "metadata": {},
   "source": [
    "# The Index Object"
   ]
  },
  {
   "cell_type": "markdown",
   "metadata": {},
   "source": [
    "The pandas containers Series and DataFrame both have an associated Index\n",
    "* the Index can be a simple column of integers, such as 0, 1, 2, ..., but that is the least useful\n",
    "* the Index can be a column of lables, like string labels, such as \"A\", \"B\", \"C\".\n",
    "* the Index can be **hierarchical** (aka \"MultiIndex\")"
   ]
  },
  {
   "cell_type": "markdown",
   "metadata": {},
   "source": [
    "The `Index` is the farthest left column shown in the DataFrame output. The values are printed in bold. In this DataFrame each row is indexed by a unique integer from 0 to 49999."
   ]
  },
  {
   "cell_type": "code",
   "execution_count": null,
   "metadata": {
    "collapsed": false
   },
   "outputs": [],
   "source": [
    "# Reread the data file, to start fresh\n",
    "df = pd.read_csv('data/beer2.csv.gz',\n",
    "                  index_col=0,\n",
    "                  parse_dates=['time'])\n",
    "df.head()"
   ]
  },
  {
   "cell_type": "code",
   "execution_count": null,
   "metadata": {
    "collapsed": false
   },
   "outputs": [],
   "source": [
    "df.index"
   ]
  },
  {
   "cell_type": "markdown",
   "metadata": {},
   "source": [
    "The values in the `Index` in this case are unique.\n",
    "* In general, an Index need not be unique (examples to come...)\n",
    "* There are many advantages to having a unique `Index`."
   ]
  },
  {
   "cell_type": "code",
   "execution_count": null,
   "metadata": {
    "collapsed": false
   },
   "outputs": [],
   "source": [
    "# The current index is unique\n",
    "df.index.is_unique"
   ]
  },
  {
   "cell_type": "markdown",
   "metadata": {
    "collapsed": true
   },
   "source": [
    "## Changing the Index"
   ]
  },
  {
   "cell_type": "markdown",
   "metadata": {},
   "source": [
    "The `Index` of a DataFrame can be reset to any currently existing column or a custom Pandas `Index` object."
   ]
  },
  {
   "cell_type": "code",
   "execution_count": null,
   "metadata": {
    "collapsed": false
   },
   "outputs": [],
   "source": [
    "# What column names do we have to use as an Index?\n",
    "\n",
    "list(df.columns)"
   ]
  },
  {
   "cell_type": "markdown",
   "metadata": {},
   "source": [
    "While each review is unique, we may want to reference this data set by other clasifications like `beer_id`."
   ]
  },
  {
   "cell_type": "code",
   "execution_count": null,
   "metadata": {
    "collapsed": false
   },
   "outputs": [],
   "source": [
    "# Use the 'beer_id' column as the Index\n",
    "\n",
    "dfb = df.set_index('beer_id', inplace=False)  # default inplace=False, more on this later\n",
    "dfb.head(3)"
   ]
  },
  {
   "cell_type": "code",
   "execution_count": null,
   "metadata": {
    "collapsed": false
   },
   "outputs": [],
   "source": [
    "# Notice that even these beer IDs are not unique. That's okay.\n",
    "\n",
    "dfb.index.is_unique"
   ]
  },
  {
   "cell_type": "code",
   "execution_count": null,
   "metadata": {
    "collapsed": false
   },
   "outputs": [],
   "source": [
    "# Use .describe() to show beed_id is NOT unique\n",
    "# Compare \"count\" vs \"unique\"\n",
    "\n",
    "dfb.select_dtypes(include=['object']).describe()"
   ]
  },
  {
   "cell_type": "code",
   "execution_count": null,
   "metadata": {
    "collapsed": false
   },
   "outputs": [],
   "source": [
    "# Example: This index is NOT unique: \n",
    "# There are 240 entries for beer_id 1904\n",
    "\n",
    "dfb.loc[1904]"
   ]
  },
  {
   "cell_type": "markdown",
   "metadata": {},
   "source": [
    "## Hierarchical Indexing"
   ]
  },
  {
   "cell_type": "markdown",
   "metadata": {},
   "source": [
    "The default Index has only 1 \"level\" and it is not named"
   ]
  },
  {
   "cell_type": "code",
   "execution_count": null,
   "metadata": {
    "collapsed": false
   },
   "outputs": [],
   "source": [
    "# Inspect the Index attributes\n",
    "print( type(df.index) )\n",
    "print( df.index.nlevels )  # number/count of levels in the Index\n",
    "print( df.index.names )    # names of levels in the Index"
   ]
  },
  {
   "cell_type": "markdown",
   "metadata": {},
   "source": [
    "The Index set to `beer_id` is named, but still has only 1 \"level\""
   ]
  },
  {
   "cell_type": "code",
   "execution_count": null,
   "metadata": {
    "collapsed": false
   },
   "outputs": [],
   "source": [
    "# Inspect the Index attributes\n",
    "print( type(dfb.index) )\n",
    "print( dfb.index.nlevels )  # number/count of levels in the Index\n",
    "print( dfb.index.names )    # names of levels in the Index"
   ]
  },
  {
   "cell_type": "markdown",
   "metadata": {},
   "source": [
    "For high dimensional data, heirarchical indexing is ideal\n",
    "* Pandas supports multi-level indexing with `MultiIndex`\n",
    "* a `MultiIndex` can be built from multiple columns, e.g. `profile_name`, `beer_id`, and `time`. \n",
    "* This will aggregate the data by those columns\n",
    "* Each of these three categories is called a `level`."
   ]
  },
  {
   "cell_type": "code",
   "execution_count": null,
   "metadata": {
    "collapsed": false
   },
   "outputs": [],
   "source": [
    "# sort_index is required to fully associate profile_name with beer_id\n",
    "reviews = df.set_index(['profile_name', 'beer_id', 'time']).sort_index()\n",
    "reviews.head(5)\n",
    "\n",
    "# Notice first 3 \"column\" labels: these are the Index levels"
   ]
  },
  {
   "cell_type": "markdown",
   "metadata": {},
   "source": [
    "Now the Index has 3 levels and each is named"
   ]
  },
  {
   "cell_type": "code",
   "execution_count": null,
   "metadata": {
    "collapsed": false
   },
   "outputs": [],
   "source": [
    "# Inspect the Index attributes\n",
    "print( type(reviews.index) )\n",
    "print( reviews.index.nlevels )  # number/count of levels in the Index\n",
    "print( reviews.index.names )    # names of levels in the Index"
   ]
  },
  {
   "cell_type": "markdown",
   "metadata": {},
   "source": [
    "Now we can easily subset the data using the levels of the hierarchical index"
   ]
  },
  {
   "cell_type": "code",
   "execution_count": null,
   "metadata": {
    "collapsed": false
   },
   "outputs": [],
   "source": [
    "ind_column = 'beer_name'\n",
    "reviews[ind_column]"
   ]
  },
  {
   "cell_type": "markdown",
   "metadata": {},
   "source": [
    "When working with hierarchical Indexes the `pd.IndexSlice` provides a convenient way to extend the `.loc` selection method to accommodate selecting some or all of multilevel Indexes. Here, we want to select reviews by '05Harley' and only the 'beer_name' column.\n",
    "\n",
    "For completeness I've selected all entries in the `beer_id` and `time` index levels as well. "
   ]
  },
  {
   "cell_type": "code",
   "execution_count": null,
   "metadata": {
    "collapsed": false
   },
   "outputs": [],
   "source": [
    "ind_column  = 'beer_name'\n",
    "ind_profile = '05Harley'\n",
    "\n",
    "idx = pd.IndexSlice\n",
    "\n",
    "reviews.loc[idx[ind_profile, :, :], ind_column]"
   ]
  },
  {
   "cell_type": "markdown",
   "metadata": {},
   "source": [
    "Alternatively, I can just provide `ind_profile` to `idx`."
   ]
  },
  {
   "cell_type": "code",
   "execution_count": null,
   "metadata": {
    "collapsed": false
   },
   "outputs": [],
   "source": [
    "reviews.loc[idx[ind_profile], ind_column]"
   ]
  },
  {
   "cell_type": "markdown",
   "metadata": {},
   "source": [
    "Let's find all of 05Harley's reviews for beer id 1307."
   ]
  },
  {
   "cell_type": "code",
   "execution_count": null,
   "metadata": {
    "collapsed": false
   },
   "outputs": [],
   "source": [
    "ind_column  = 'beer_name'\n",
    "ind_profile = '05Harley'\n",
    "ind_beer_id = 1307\n",
    "\n",
    "reviews.loc[idx[ind_profile,ind_beer_id], ind_column]\n",
    "\n",
    "#reviews[ind_column][ind_profile][ind_beer_id]"
   ]
  },
  {
   "cell_type": "code",
   "execution_count": null,
   "metadata": {
    "collapsed": false
   },
   "outputs": [],
   "source": [
    "# The whole multiindex is unique\n",
    "reviews.index.is_unique"
   ]
  },
  {
   "cell_type": "markdown",
   "metadata": {},
   "source": [
    "Using hierarchical index in not only more convenient, but faster than using fancy and boolean selection."
   ]
  },
  {
   "cell_type": "code",
   "execution_count": null,
   "metadata": {
    "collapsed": false
   },
   "outputs": [],
   "source": [
    "# Create a Series, indexed by profile_name (people who reviewed beers)\n",
    "# Take the top 5 most prolific reviewers.\n",
    "top_reviewers = (reviews\n",
    "                        .index\n",
    "                        .get_level_values('profile_name')\n",
    "                        .value_counts()\n",
    "                        .head(5)\n",
    "                )\n",
    "top_reviewers"
   ]
  },
  {
   "cell_type": "code",
   "execution_count": null,
   "metadata": {
    "collapsed": false
   },
   "outputs": [],
   "source": [
    "# The .index attribute is itself a Numpy-like array\n",
    "top_reviewers.index"
   ]
  },
  {
   "cell_type": "markdown",
   "metadata": {},
   "source": [
    "## Iterating over the MultiIndex"
   ]
  },
  {
   "cell_type": "code",
   "execution_count": null,
   "metadata": {
    "collapsed": false
   },
   "outputs": [],
   "source": [
    "reviews.head(3)"
   ]
  },
  {
   "cell_type": "code",
   "execution_count": null,
   "metadata": {
    "collapsed": false
   },
   "outputs": [],
   "source": [
    "# Example: iterating with a hierarchical index\n",
    "\n",
    "for index, row in reviews.head().iterrows():\n",
    "    print('Index:', index, ', Row:', '%s' % row['abv'])"
   ]
  },
  {
   "cell_type": "code",
   "execution_count": null,
   "metadata": {
    "collapsed": false
   },
   "outputs": [],
   "source": [
    "# Example: iterating with a hierarchical index, printing only one level\n",
    "\n",
    "for index, row in reviews.head().iterrows():\n",
    "    print('Index:beer_id', index[1], ', Row:', '%s' % row['abv'])"
   ]
  },
  {
   "cell_type": "markdown",
   "metadata": {},
   "source": [
    "## MultiIndex .loc accessor"
   ]
  },
  {
   "cell_type": "markdown",
   "metadata": {},
   "source": [
    "When using MultiIndex and Hierarchical indexers\n",
    "* the `.loc` accessor now requires entries for each `level`. \n",
    "* a slice or index value can be provided for each level.\n",
    "\n",
    "Usage:\n",
    "```\n",
    "df.loc[level0, level1, level2, etc.]\n",
    "```"
   ]
  },
  {
   "cell_type": "markdown",
   "metadata": {},
   "source": [
    "**Remember**: using `.loc` means that the right endpoint in a slice is returned. **INCLUSIVE**"
   ]
  },
  {
   "cell_type": "code",
   "execution_count": null,
   "metadata": {
    "collapsed": false
   },
   "outputs": [],
   "source": [
    "pd.options.display.max_rows=4\n",
    "reviews.loc[top_reviewers.index, :, :]"
   ]
  },
  {
   "cell_type": "markdown",
   "metadata": {},
   "source": [
    "The more complete usage of MulitIindex and `.loc` is to provide the index selection in a tuple whose length is the number of `level`s."
   ]
  },
  {
   "cell_type": "code",
   "execution_count": null,
   "metadata": {
    "collapsed": false
   },
   "outputs": [],
   "source": [
    "reviews.loc[[('BeerFMAndy',100,pd.Timestamp('2009-10-22 03:39:21'))]]"
   ]
  },
  {
   "cell_type": "markdown",
   "metadata": {},
   "source": [
    "## Multi-axis indexers"
   ]
  },
  {
   "cell_type": "code",
   "execution_count": null,
   "metadata": {
    "collapsed": false
   },
   "outputs": [],
   "source": [
    "# Here are the scores for all 91 of BeerFMAndy's reviews\n",
    "# for November only\n",
    "idx=pd.IndexSlice\n",
    "reviews.loc[idx['BeerFMAndy',:,'2009-11':'2009-11'],['beer_name','review_overall']]"
   ]
  },
  {
   "cell_type": "code",
   "execution_count": null,
   "metadata": {
    "collapsed": false
   },
   "outputs": [],
   "source": [
    "# Alternative syntax using slice objects\n",
    "# slice(None) == :\n",
    "reviews.loc[('BeerFMAndy',slice(None),slice('2009-11','2009-11')),['beer_name','review_overall']]"
   ]
  },
  {
   "cell_type": "code",
   "execution_count": null,
   "metadata": {
    "collapsed": false
   },
   "outputs": [],
   "source": [
    "reviews.loc[idx[top_reviewers.index, [92,54919], :], ['beer_name','beer_style']]"
   ]
  },
  {
   "cell_type": "code",
   "execution_count": null,
   "metadata": {
    "collapsed": false
   },
   "outputs": [],
   "source": [
    "#! conda install -y numexpr\n",
    "# SQL like query\n",
    "(reviews\n",
    "        .query('profile_name in @top_reviewers.index and \\\n",
    "                beer_id in [92,54919]')\n",
    "        [['beer_name','beer_style']]\n",
    " )"
   ]
  },
  {
   "cell_type": "code",
   "execution_count": null,
   "metadata": {
    "collapsed": false
   },
   "outputs": [],
   "source": [
    "# All review for 92 and 54919\n",
    "reviews.loc[idx[:, [92, 54919], :], ['beer_name' ,'beer_style']]"
   ]
  },
  {
   "cell_type": "markdown",
   "metadata": {},
   "source": [
    "# Categorical data types"
   ]
  },
  {
   "cell_type": "markdown",
   "metadata": {},
   "source": [
    "In addition to the Numpy `dtypes` Pandas introduces a `categorical` dtype."
   ]
  },
  {
   "cell_type": "markdown",
   "metadata": {},
   "source": [
    "## Overview of categoricals"
   ]
  },
  {
   "cell_type": "markdown",
   "metadata": {},
   "source": [
    "The categorical data type is useful in the following cases:\n",
    "\n",
    "* A string variable consisting of only a few different values. \n",
    "    * Converting such a string variable to a categorical variable will save some memory.\n",
    "* The lexical order of a variable is not the same as the logical order (“one”, “two”, “three”). \n",
    "    * By converting to a categorical and specifying an order on the categories, sorting and min/max will use the logical order instead of the lexical order, see here.\n",
    "* As a signal to other python libraries that this column should be treated as a categorical variable\n",
    "    * e.g. to use suitable statistical methods or plot types."
   ]
  },
  {
   "cell_type": "code",
   "execution_count": null,
   "metadata": {
    "collapsed": false
   },
   "outputs": [],
   "source": [
    "df.info()"
   ]
  },
  {
   "cell_type": "markdown",
   "metadata": {},
   "source": [
    "## Categorical Example: Decrease Memory Use"
   ]
  },
  {
   "cell_type": "markdown",
   "metadata": {},
   "source": [
    "Candidates for `categorical` dtypes are columns that have only a small fraction of unique strings. In the next cell we'll see that there are only 104 unique `beer_style`s out of the 50000 independent reviews."
   ]
  },
  {
   "cell_type": "code",
   "execution_count": null,
   "metadata": {
    "collapsed": false
   },
   "outputs": [],
   "source": [
    "# Select all columns of dtype object \n",
    "# Find out which ones have fewest unique values\n",
    "\n",
    "df.select_dtypes(include=['object']).describe()"
   ]
  },
  {
   "cell_type": "code",
   "execution_count": null,
   "metadata": {
    "collapsed": false
   },
   "outputs": [],
   "source": [
    "df[['beer_style']]"
   ]
  },
  {
   "cell_type": "code",
   "execution_count": null,
   "metadata": {
    "collapsed": false
   },
   "outputs": [],
   "source": [
    "# fancy selection returns a DataFrame (not a Series) with a single column:\n",
    "\n",
    "df[['beer_style']].info()"
   ]
  },
  {
   "cell_type": "markdown",
   "metadata": {},
   "source": [
    "Convert to categorical:\n",
    "* `beer_style` column converted to a `categorical`\n",
    "* reassign column back into the DataFrame\n",
    "* memory usage for this column has decreased!"
   ]
  },
  {
   "cell_type": "code",
   "execution_count": null,
   "metadata": {
    "collapsed": false
   },
   "outputs": [],
   "source": [
    "df['beer_style'] = df['beer_style'].astype('category')\n",
    "df[['beer_style']].info()"
   ]
  },
  {
   "cell_type": "markdown",
   "metadata": {},
   "source": [
    "### A slightly harder way to select IPA styles"
   ]
  },
  {
   "cell_type": "code",
   "execution_count": null,
   "metadata": {
    "collapsed": false
   },
   "outputs": [],
   "source": [
    "cats = (df\n",
    "          .beer_style\n",
    "          .cat\n",
    "          .categories[df.beer_style.cat.categories.str.contains('IPA')]\n",
    "        )\n",
    "cats"
   ]
  },
  {
   "cell_type": "code",
   "execution_count": null,
   "metadata": {
    "collapsed": false
   },
   "outputs": [],
   "source": [
    "# generate the boolean indexer\n",
    "df.beer_style.isin(cats)"
   ]
  },
  {
   "cell_type": "code",
   "execution_count": null,
   "metadata": {
    "collapsed": false
   },
   "outputs": [],
   "source": [
    "df.loc[df.beer_style.isin(cats)]"
   ]
  },
  {
   "cell_type": "markdown",
   "metadata": {},
   "source": [
    "## Categoricals: How it Works"
   ]
  },
  {
   "cell_type": "markdown",
   "metadata": {},
   "source": [
    "`categorical` series or columns store only the unique strings and provide an integer `code` lookup. \n",
    "\n",
    "Notice the dtype of the code series object. Pandas will select the smallest allowable dtype for the number of unique categories."
   ]
  },
  {
   "cell_type": "code",
   "execution_count": null,
   "metadata": {
    "collapsed": false
   },
   "outputs": [],
   "source": [
    "df.beer_style.cat.codes"
   ]
  },
  {
   "cell_type": "code",
   "execution_count": null,
   "metadata": {
    "collapsed": false
   },
   "outputs": [],
   "source": [
    "df.beer_style.cat.categories"
   ]
  },
  {
   "cell_type": "code",
   "execution_count": null,
   "metadata": {
    "collapsed": false
   },
   "outputs": [],
   "source": [
    "df.beer_style.cat.ordered"
   ]
  },
  {
   "cell_type": "markdown",
   "metadata": {},
   "source": [
    "***"
   ]
  },
  {
   "cell_type": "markdown",
   "metadata": {},
   "source": [
    "# Section Review"
   ]
  },
  {
   "cell_type": "markdown",
   "metadata": {},
   "source": [
    "* Indexing\n",
    "   * Attribute and Bracket style indexing\n",
    "   * Column then row indexing\n",
    "   * Setting/Changing the Index\n",
    "   * Boolean indexing\n",
    "   * Hierarchical indexing with MultiIndex\n",
    "   * .loc() and .iloc()\n",
    "* Categorical dtype\n"
   ]
  }
 ],
 "metadata": {
  "continuum": {
   "depends": [
    "pd_intro",
    "pd_data_structs",
    "pd_examine_fancy"
   ],
   "requires": [
    "data/beer2.csv.gz",
    "data/web-BeerAdvocate.html"
   ],
   "tag": "pd_index"
  },
  "kernelspec": {
   "display_name": "Python 3",
   "language": "python",
   "name": "python3"
  },
  "language_info": {
   "codemirror_mode": {
    "name": "ipython",
    "version": 3
   },
   "file_extension": ".py",
   "mimetype": "text/x-python",
   "name": "python",
   "nbconvert_exporter": "python",
   "pygments_lexer": "ipython3",
   "version": "3.5.1"
  }
 },
 "nbformat": 4,
 "nbformat_minor": 0
}
