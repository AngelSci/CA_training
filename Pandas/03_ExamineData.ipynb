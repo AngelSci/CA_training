{
 "cells": [
  {
   "cell_type": "markdown",
   "metadata": {},
   "source": [
    "# Table of Contents\n",
    "* [Pandas: Examing Data](#Pandas:-Examing-Data)\n",
    "\t* [Learning Objectives:](#Learning-Objectives:)\n",
    "\t* [Set-Up](#Set-Up)\n",
    "* [Examining Columns](#Examining-Columns)\n",
    "\t* [Read Data into a DataFrame](#Read-Data-into-a-DataFrame)\n",
    "\t* [Column selection](#Column-selection)\n",
    "\t* [Dropping and Adding Columns](#Dropping-and-Adding-Columns)\n",
    "\t* [String Operations](#String-Operations)\n",
    "\t* [Datetime Operations](#Datetime-Operations)\n",
    "* [Indexing](#Indexing)\n",
    "\t* [Column Indexing](#Column-Indexing)\n",
    "\t* [Boolean arrays](#Boolean-arrays)\n",
    "\t* [The `.loc` accessor](#The-.loc-accessor)\n",
    "\t* [isin with strings](#isin-with-strings)\n",
    "\t* [Statistical Operations through Indexing](#Statistical-Operations-through-Indexing)\n",
    "\t* [Positional Indexing](#Positional-Indexing)\n",
    "\t* [The `.iloc` accessor](#The-.iloc-accessor)\n",
    "* [Section Review](#Section-Review)\n"
   ]
  },
  {
   "cell_type": "markdown",
   "metadata": {},
   "source": [
    "# Pandas: Examing Data"
   ]
  },
  {
   "cell_type": "markdown",
   "metadata": {},
   "source": [
    "## Learning Objectives:"
   ]
  },
  {
   "cell_type": "markdown",
   "metadata": {},
   "source": [
    "After completion of this module, learners should be able to:\n",
    "\n",
    "* load data into a DataFrame\n",
    "* use column selection methods\n",
    "* perform string and datetime operations\n",
    "* make categeorical data types\n",
    "* use boolean and fancy indexing"
   ]
  },
  {
   "cell_type": "markdown",
   "metadata": {},
   "source": [
    "## Set-Up"
   ]
  },
  {
   "cell_type": "code",
   "execution_count": 1,
   "metadata": {
    "collapsed": false
   },
   "outputs": [
    {
     "data": {
      "text/plain": [
       "'0.18.1'"
      ]
     },
     "execution_count": 1,
     "metadata": {},
     "output_type": "execute_result"
    }
   ],
   "source": [
    "# Import modules needed for this lesson\n",
    "import pandas as pd\n",
    "\n",
    "# Set Jupyter notebook display options\n",
    "pd.options.display.max_rows = 6\n",
    "pd.options.display.max_columns = 8\n",
    "pd.options.display.width = 100\n",
    "\n",
    "# Test the version of pandas: it should be 0.16 or greater\n",
    "pd.__version__"
   ]
  },
  {
   "cell_type": "markdown",
   "metadata": {},
   "source": [
    "***"
   ]
  },
  {
   "cell_type": "markdown",
   "metadata": {},
   "source": [
    "# Examining Columns"
   ]
  },
  {
   "cell_type": "markdown",
   "metadata": {},
   "source": [
    "## Read Data into a DataFrame"
   ]
  },
  {
   "cell_type": "markdown",
   "metadata": {},
   "source": [
    "CSV files, being tabular data, have a natural mapping into Pandas DataFrames. \n",
    "* Here we read in beer reviews from beeradvocate.com, via [Stanford SNAP](https://snap.stanford.edu/data/web-BeerAdvocate.html). \n",
    "* Pandas can tell if a file is zipped, and will unzip in memory."
   ]
  },
  {
   "cell_type": "code",
   "execution_count": 3,
   "metadata": {
    "collapsed": false
   },
   "outputs": [],
   "source": [
    "df = pd.read_csv('data/beer2.csv.gz',\n",
    "                  index_col=0,\n",
    "                  parse_dates=['time'])"
   ]
  },
  {
   "cell_type": "code",
   "execution_count": 4,
   "metadata": {
    "collapsed": false,
    "scrolled": false
   },
   "outputs": [
    {
     "data": {
      "text/html": [
       "<div>\n",
       "<table border=\"1\" class=\"dataframe\">\n",
       "  <thead>\n",
       "    <tr style=\"text-align: right;\">\n",
       "      <th></th>\n",
       "      <th>abv</th>\n",
       "      <th>beer_id</th>\n",
       "      <th>brewer_id</th>\n",
       "      <th>beer_name</th>\n",
       "      <th>...</th>\n",
       "      <th>profile_name</th>\n",
       "      <th>review_taste</th>\n",
       "      <th>text</th>\n",
       "      <th>time</th>\n",
       "    </tr>\n",
       "  </thead>\n",
       "  <tbody>\n",
       "    <tr>\n",
       "      <th>0</th>\n",
       "      <td>7.0</td>\n",
       "      <td>2511</td>\n",
       "      <td>287</td>\n",
       "      <td>Bell's Cherry Stout</td>\n",
       "      <td>...</td>\n",
       "      <td>blaheath</td>\n",
       "      <td>4.5</td>\n",
       "      <td>Batch 8144\\tPitch black in color with a 1/2 f...</td>\n",
       "      <td>2009-10-05 21:31:48</td>\n",
       "    </tr>\n",
       "    <tr>\n",
       "      <th>1</th>\n",
       "      <td>5.7</td>\n",
       "      <td>19736</td>\n",
       "      <td>9790</td>\n",
       "      <td>Duck-Rabbit Porter</td>\n",
       "      <td>...</td>\n",
       "      <td>GJ40</td>\n",
       "      <td>4.0</td>\n",
       "      <td>Sampled from a 12oz bottle in a standard pint...</td>\n",
       "      <td>2009-10-05 21:32:09</td>\n",
       "    </tr>\n",
       "    <tr>\n",
       "      <th>2</th>\n",
       "      <td>4.8</td>\n",
       "      <td>11098</td>\n",
       "      <td>3182</td>\n",
       "      <td>Fürstenberg Premium Pilsener</td>\n",
       "      <td>...</td>\n",
       "      <td>biegaman</td>\n",
       "      <td>3.5</td>\n",
       "      <td>Haystack yellow with an energetic group of bu...</td>\n",
       "      <td>2009-10-05 21:32:13</td>\n",
       "    </tr>\n",
       "    <tr>\n",
       "      <th>3</th>\n",
       "      <td>9.5</td>\n",
       "      <td>28577</td>\n",
       "      <td>3818</td>\n",
       "      <td>Unearthly (Imperial India Pale Ale)</td>\n",
       "      <td>...</td>\n",
       "      <td>nick76</td>\n",
       "      <td>4.0</td>\n",
       "      <td>The aroma has pine, wood, citrus, caramel, an...</td>\n",
       "      <td>2009-10-05 21:32:37</td>\n",
       "    </tr>\n",
       "    <tr>\n",
       "      <th>4</th>\n",
       "      <td>5.8</td>\n",
       "      <td>398</td>\n",
       "      <td>119</td>\n",
       "      <td>Wolaver's Pale Ale</td>\n",
       "      <td>...</td>\n",
       "      <td>champ103</td>\n",
       "      <td>3.0</td>\n",
       "      <td>A: Pours a slightly hazy golden/orange color....</td>\n",
       "      <td>2009-10-05 21:33:14</td>\n",
       "    </tr>\n",
       "  </tbody>\n",
       "</table>\n",
       "<p>5 rows × 13 columns</p>\n",
       "</div>"
      ],
      "text/plain": [
       "   abv  beer_id  brewer_id                            beer_name         ...         profile_name  \\\n",
       "0  7.0     2511        287                  Bell's Cherry Stout         ...             blaheath   \n",
       "1  5.7    19736       9790                   Duck-Rabbit Porter         ...                 GJ40   \n",
       "2  4.8    11098       3182         Fürstenberg Premium Pilsener         ...             biegaman   \n",
       "3  9.5    28577       3818  Unearthly (Imperial India Pale Ale)         ...               nick76   \n",
       "4  5.8      398        119                   Wolaver's Pale Ale         ...             champ103   \n",
       "\n",
       "   review_taste                                               text                time  \n",
       "0           4.5   Batch 8144\\tPitch black in color with a 1/2 f... 2009-10-05 21:31:48  \n",
       "1           4.0   Sampled from a 12oz bottle in a standard pint... 2009-10-05 21:32:09  \n",
       "2           3.5   Haystack yellow with an energetic group of bu... 2009-10-05 21:32:13  \n",
       "3           4.0   The aroma has pine, wood, citrus, caramel, an... 2009-10-05 21:32:37  \n",
       "4           3.0   A: Pours a slightly hazy golden/orange color.... 2009-10-05 21:33:14  \n",
       "\n",
       "[5 rows x 13 columns]"
      ]
     },
     "execution_count": 4,
     "metadata": {},
     "output_type": "execute_result"
    }
   ],
   "source": [
    "df.head()"
   ]
  },
  {
   "cell_type": "markdown",
   "metadata": {},
   "source": [
    "Pandas provides useful inpsection tools to help understand the dtypes that were generated for each column. \n",
    "\n",
    "Notice that some columns do not have 50,000 *non-null* values."
   ]
  },
  {
   "cell_type": "code",
   "execution_count": 5,
   "metadata": {
    "collapsed": false
   },
   "outputs": [
    {
     "name": "stdout",
     "output_type": "stream",
     "text": [
      "<class 'pandas.core.frame.DataFrame'>\n",
      "Int64Index: 50000 entries, 0 to 49999\n",
      "Data columns (total 13 columns):\n",
      "abv                  48389 non-null float64\n",
      "beer_id              50000 non-null int64\n",
      "brewer_id            50000 non-null int64\n",
      "beer_name            50000 non-null object\n",
      "beer_style           50000 non-null object\n",
      "review_appearance    50000 non-null float64\n",
      "review_aroma         50000 non-null float64\n",
      "review_overall       50000 non-null float64\n",
      "review_palate        50000 non-null float64\n",
      "profile_name         50000 non-null object\n",
      "review_taste         50000 non-null float64\n",
      "text                 49991 non-null object\n",
      "time                 50000 non-null datetime64[ns]\n",
      "dtypes: datetime64[ns](1), float64(6), int64(2), object(4)\n",
      "memory usage: 5.3+ MB\n"
     ]
    }
   ],
   "source": [
    "# Notice the column (1) names, (2) number of non-null, (3) dtype, (4) memory usage\n",
    "df.info()"
   ]
  },
  {
   "cell_type": "code",
   "execution_count": 6,
   "metadata": {
    "collapsed": false
   },
   "outputs": [
    {
     "name": "stderr",
     "output_type": "stream",
     "text": [
      "C:\\Anaconda3\\envs\\coursework_py35\\lib\\site-packages\\numpy\\lib\\function_base.py:3834: RuntimeWarning: Invalid value encountered in percentile\n",
      "  RuntimeWarning)\n"
     ]
    },
    {
     "data": {
      "text/html": [
       "<div>\n",
       "<table border=\"1\" class=\"dataframe\">\n",
       "  <thead>\n",
       "    <tr style=\"text-align: right;\">\n",
       "      <th></th>\n",
       "      <th>abv</th>\n",
       "      <th>beer_id</th>\n",
       "      <th>brewer_id</th>\n",
       "      <th>review_appearance</th>\n",
       "      <th>review_aroma</th>\n",
       "      <th>review_overall</th>\n",
       "      <th>review_palate</th>\n",
       "      <th>review_taste</th>\n",
       "    </tr>\n",
       "  </thead>\n",
       "  <tbody>\n",
       "    <tr>\n",
       "      <th>count</th>\n",
       "      <td>48389.000000</td>\n",
       "      <td>50000.000000</td>\n",
       "      <td>50000.000000</td>\n",
       "      <td>50000.000000</td>\n",
       "      <td>50000.000000</td>\n",
       "      <td>50000.00000</td>\n",
       "      <td>50000.000000</td>\n",
       "      <td>50000.000000</td>\n",
       "    </tr>\n",
       "    <tr>\n",
       "      <th>mean</th>\n",
       "      <td>7.232406</td>\n",
       "      <td>25379.008540</td>\n",
       "      <td>3505.655420</td>\n",
       "      <td>3.874010</td>\n",
       "      <td>3.778880</td>\n",
       "      <td>3.84982</td>\n",
       "      <td>3.778840</td>\n",
       "      <td>3.832480</td>\n",
       "    </tr>\n",
       "    <tr>\n",
       "      <th>std</th>\n",
       "      <td>2.387132</td>\n",
       "      <td>20600.374872</td>\n",
       "      <td>5696.746136</td>\n",
       "      <td>0.596153</td>\n",
       "      <td>0.677396</td>\n",
       "      <td>0.70716</td>\n",
       "      <td>0.660929</td>\n",
       "      <td>0.711728</td>\n",
       "    </tr>\n",
       "    <tr>\n",
       "      <th>...</th>\n",
       "      <td>...</td>\n",
       "      <td>...</td>\n",
       "      <td>...</td>\n",
       "      <td>...</td>\n",
       "      <td>...</td>\n",
       "      <td>...</td>\n",
       "      <td>...</td>\n",
       "      <td>...</td>\n",
       "    </tr>\n",
       "    <tr>\n",
       "      <th>50%</th>\n",
       "      <td>NaN</td>\n",
       "      <td>25880.000000</td>\n",
       "      <td>583.000000</td>\n",
       "      <td>4.000000</td>\n",
       "      <td>4.000000</td>\n",
       "      <td>4.00000</td>\n",
       "      <td>4.000000</td>\n",
       "      <td>4.000000</td>\n",
       "    </tr>\n",
       "    <tr>\n",
       "      <th>75%</th>\n",
       "      <td>NaN</td>\n",
       "      <td>46302.000000</td>\n",
       "      <td>3694.000000</td>\n",
       "      <td>4.000000</td>\n",
       "      <td>4.000000</td>\n",
       "      <td>4.50000</td>\n",
       "      <td>4.000000</td>\n",
       "      <td>4.500000</td>\n",
       "    </tr>\n",
       "    <tr>\n",
       "      <th>max</th>\n",
       "      <td>27.000000</td>\n",
       "      <td>68386.000000</td>\n",
       "      <td>27039.000000</td>\n",
       "      <td>5.000000</td>\n",
       "      <td>5.000000</td>\n",
       "      <td>5.00000</td>\n",
       "      <td>5.000000</td>\n",
       "      <td>5.000000</td>\n",
       "    </tr>\n",
       "  </tbody>\n",
       "</table>\n",
       "<p>8 rows × 8 columns</p>\n",
       "</div>"
      ],
      "text/plain": [
       "                abv       beer_id     brewer_id  review_appearance  review_aroma  review_overall  \\\n",
       "count  48389.000000  50000.000000  50000.000000       50000.000000  50000.000000     50000.00000   \n",
       "mean       7.232406  25379.008540   3505.655420           3.874010      3.778880         3.84982   \n",
       "std        2.387132  20600.374872   5696.746136           0.596153      0.677396         0.70716   \n",
       "...             ...           ...           ...                ...           ...             ...   \n",
       "50%             NaN  25880.000000    583.000000           4.000000      4.000000         4.00000   \n",
       "75%             NaN  46302.000000   3694.000000           4.000000      4.000000         4.50000   \n",
       "max       27.000000  68386.000000  27039.000000           5.000000      5.000000         5.00000   \n",
       "\n",
       "       review_palate  review_taste  \n",
       "count   50000.000000  50000.000000  \n",
       "mean        3.778840      3.832480  \n",
       "std         0.660929      0.711728  \n",
       "...              ...           ...  \n",
       "50%         4.000000      4.000000  \n",
       "75%         4.000000      4.500000  \n",
       "max         5.000000      5.000000  \n",
       "\n",
       "[8 rows x 8 columns]"
      ]
     },
     "execution_count": 6,
     "metadata": {},
     "output_type": "execute_result"
    }
   ],
   "source": [
    "# Summary statistics, using the built-in .describe() method\n",
    "\n",
    "df.describe()"
   ]
  },
  {
   "cell_type": "markdown",
   "metadata": {},
   "source": [
    "## Column selection"
   ]
  },
  {
   "cell_type": "markdown",
   "metadata": {},
   "source": [
    "A variety of column operations are available"
   ]
  },
  {
   "cell_type": "code",
   "execution_count": null,
   "metadata": {
    "collapsed": false
   },
   "outputs": [],
   "source": [
    "# The column names, as an Index object\n",
    "print( df.columns )"
   ]
  },
  {
   "cell_type": "code",
   "execution_count": null,
   "metadata": {
    "collapsed": false
   },
   "outputs": [],
   "source": [
    "# The column labels can be converted to list of strings\n",
    "\n",
    "list(df.columns)"
   ]
  },
  {
   "cell_type": "markdown",
   "metadata": {},
   "source": [
    "Columns in a pandas DataFrame can be accessed using the .attribute method"
   ]
  },
  {
   "cell_type": "code",
   "execution_count": null,
   "metadata": {
    "collapsed": false
   },
   "outputs": [],
   "source": [
    "# View column data using .attribute, column label\n",
    "\n",
    "df.beer_style"
   ]
  },
  {
   "cell_type": "markdown",
   "metadata": {},
   "source": [
    "Or with dictionary-like key selection"
   ]
  },
  {
   "cell_type": "code",
   "execution_count": null,
   "metadata": {
    "collapsed": false
   },
   "outputs": [],
   "source": [
    "# View column data using [bracket], column label string\n",
    "\n",
    "df['beer_style']"
   ]
  },
  {
   "cell_type": "markdown",
   "metadata": {},
   "source": [
    "A single column (**Series**) can be selected using the column name as an attribute (or accessor) of the **DataFrame** object."
   ]
  },
  {
   "cell_type": "code",
   "execution_count": null,
   "metadata": {
    "collapsed": false
   },
   "outputs": [],
   "source": [
    "beer_series = df.beer_name\n",
    "print( type(beer_series) )"
   ]
  },
  {
   "cell_type": "code",
   "execution_count": null,
   "metadata": {
    "collapsed": false
   },
   "outputs": [],
   "source": [
    "beer_series.head()"
   ]
  },
  {
   "cell_type": "markdown",
   "metadata": {},
   "source": [
    "## Dropping and Adding Columns"
   ]
  },
  {
   "cell_type": "code",
   "execution_count": null,
   "metadata": {
    "collapsed": false
   },
   "outputs": [],
   "source": [
    "df.head(3)"
   ]
  },
  {
   "cell_type": "code",
   "execution_count": null,
   "metadata": {
    "collapsed": false
   },
   "outputs": [],
   "source": [
    "# Adding a new column\n",
    "\n",
    "df['alcohol'] = 0.0\n",
    "df.head(3)"
   ]
  },
  {
   "cell_type": "code",
   "execution_count": null,
   "metadata": {
    "collapsed": false
   },
   "outputs": [],
   "source": [
    "df.info()"
   ]
  },
  {
   "cell_type": "markdown",
   "metadata": {},
   "source": [
    "Over-writing one column with another"
   ]
  },
  {
   "cell_type": "code",
   "execution_count": null,
   "metadata": {
    "collapsed": false
   },
   "outputs": [],
   "source": [
    "df['alcohol'] = df['abv']\n",
    "df"
   ]
  },
  {
   "cell_type": "code",
   "execution_count": null,
   "metadata": {
    "collapsed": false
   },
   "outputs": [],
   "source": [
    "# Dropping a column\n",
    "\n",
    "del df['abv']"
   ]
  },
  {
   "cell_type": "code",
   "execution_count": null,
   "metadata": {
    "collapsed": false
   },
   "outputs": [],
   "source": [
    "df.info()"
   ]
  },
  {
   "cell_type": "markdown",
   "metadata": {},
   "source": [
    "## String Operations"
   ]
  },
  {
   "cell_type": "markdown",
   "metadata": {},
   "source": [
    "Varios srtring operations can be applied to the columna data values"
   ]
  },
  {
   "cell_type": "code",
   "execution_count": null,
   "metadata": {
    "collapsed": false
   },
   "outputs": [],
   "source": [
    "# Print first 4 letter of each string in the column\n",
    "\n",
    "df.beer_style.str[0:4]"
   ]
  },
  {
   "cell_type": "code",
   "execution_count": null,
   "metadata": {
    "collapsed": false
   },
   "outputs": [],
   "source": [
    "# Print the length of each string in the column\n",
    "\n",
    "df.beer_style.str.len()"
   ]
  },
  {
   "cell_type": "code",
   "execution_count": null,
   "metadata": {
    "collapsed": false
   },
   "outputs": [],
   "source": [
    "# Get boolean (True/False) mask for strings matching a pattern\n",
    "\n",
    "df.beer_style.str.contains('[A|a]merican')"
   ]
  },
  {
   "cell_type": "code",
   "execution_count": null,
   "metadata": {
    "collapsed": false
   },
   "outputs": [],
   "source": [
    "# Extract the rows that match the True\n",
    "\n",
    "boolean_mask = df.beer_style.str.contains('[A|a]merican')\n",
    "df.loc[boolean_mask, 'beer_style']"
   ]
  },
  {
   "cell_type": "code",
   "execution_count": null,
   "metadata": {
    "collapsed": false,
    "scrolled": true
   },
   "outputs": [],
   "source": [
    "# To see full documentation for str() method, uncomment the following:\n",
    "\n",
    "# help(df.beer_style.str)"
   ]
  },
  {
   "cell_type": "markdown",
   "metadata": {},
   "source": [
    "## Datetime Operations"
   ]
  },
  {
   "cell_type": "markdown",
   "metadata": {},
   "source": [
    "Using the `.dt` accessor, datetime manipulations can be applied to a datetime series or column elementwise."
   ]
  },
  {
   "cell_type": "code",
   "execution_count": null,
   "metadata": {
    "collapsed": false
   },
   "outputs": [],
   "source": [
    "# select the `time` column, noteice the dtype=datetime\n",
    "\n",
    "df.time"
   ]
  },
  {
   "cell_type": "markdown",
   "metadata": {},
   "source": [
    "Because the `dtype=datatime`, we can perform DataTime operations on the column"
   ]
  },
  {
   "cell_type": "code",
   "execution_count": null,
   "metadata": {
    "collapsed": false
   },
   "outputs": [],
   "source": [
    "# Example: Just show the data, not the full date-time\n",
    "\n",
    "df.time.dt.date"
   ]
  },
  {
   "cell_type": "code",
   "execution_count": null,
   "metadata": {
    "collapsed": false
   },
   "outputs": [],
   "source": [
    "# Just show the time, not the full date-time\n",
    "\n",
    "df.time.dt.time"
   ]
  },
  {
   "cell_type": "code",
   "execution_count": null,
   "metadata": {
    "collapsed": false
   },
   "outputs": [],
   "source": [
    "# Just show the hour\n",
    "\n",
    "df.time.dt.hour"
   ]
  },
  {
   "cell_type": "code",
   "execution_count": null,
   "metadata": {
    "collapsed": false,
    "scrolled": true
   },
   "outputs": [],
   "source": [
    "# To see full help documentation for the DataTime properties, uncomment the following:\n",
    "\n",
    "# help(df.time.dt)"
   ]
  },
  {
   "cell_type": "markdown",
   "metadata": {},
   "source": [
    "# Indexing"
   ]
  },
  {
   "cell_type": "markdown",
   "metadata": {},
   "source": [
    "Much of the same indexing methods avialable in Numpy can be applied to Pandas DataFrames and Series."
   ]
  },
  {
   "cell_type": "markdown",
   "metadata": {},
   "source": [
    "## Column Indexing"
   ]
  },
  {
   "cell_type": "markdown",
   "metadata": {},
   "source": [
    "...can be indexed by brackets or by .attribute accessor"
   ]
  },
  {
   "cell_type": "code",
   "execution_count": null,
   "metadata": {
    "collapsed": false
   },
   "outputs": [],
   "source": [
    "# Recall the column names: they are you \"indices\"\n",
    "df.columns"
   ]
  },
  {
   "cell_type": "code",
   "execution_count": null,
   "metadata": {
    "collapsed": false
   },
   "outputs": [],
   "source": [
    "# \"Indexing\" by brackets and any one of the column names/labels\n",
    "\n",
    "df['beer_name']"
   ]
  },
  {
   "cell_type": "code",
   "execution_count": null,
   "metadata": {
    "collapsed": false
   },
   "outputs": [],
   "source": [
    "# Indexing into rows of the column\n",
    "\n",
    "df.loc[0:3,'beer_name']"
   ]
  },
  {
   "cell_type": "code",
   "execution_count": null,
   "metadata": {
    "collapsed": false
   },
   "outputs": [],
   "source": [
    " # Index by .attribute accessor\n",
    "    \n",
    "df.beer_name"
   ]
  },
  {
   "cell_type": "code",
   "execution_count": null,
   "metadata": {
    "collapsed": false
   },
   "outputs": [],
   "source": [
    "# Indexing into rows of the column\n",
    "\n",
    "df.beer_name.loc[0:3]"
   ]
  },
  {
   "cell_type": "markdown",
   "metadata": {},
   "source": [
    "Loc indexes by row then column"
   ]
  },
  {
   "cell_type": "code",
   "execution_count": null,
   "metadata": {
    "collapsed": false
   },
   "outputs": [],
   "source": [
    "df.loc[0,'beer_name']"
   ]
  },
  {
   "cell_type": "code",
   "execution_count": null,
   "metadata": {
    "collapsed": false
   },
   "outputs": [],
   "source": [
    "df.loc[0:3,'beer_name']"
   ]
  },
  {
   "cell_type": "markdown",
   "metadata": {},
   "source": [
    "## Boolean arrays"
   ]
  },
  {
   "cell_type": "code",
   "execution_count": null,
   "metadata": {
    "collapsed": false
   },
   "outputs": [],
   "source": [
    "# boolean series\n",
    "df.alcohol < 5"
   ]
  },
  {
   "cell_type": "code",
   "execution_count": null,
   "metadata": {
    "collapsed": false
   },
   "outputs": [],
   "source": [
    "# boolean indexing along rows\n",
    "# The index value from the full dataframe is preserved\n",
    "df.loc[df.alcohol < 5]\n",
    "\n",
    "# Note the number of rows left after the operation"
   ]
  },
  {
   "cell_type": "markdown",
   "metadata": {},
   "source": [
    "## The `.loc` accessor"
   ]
  },
  {
   "cell_type": "markdown",
   "metadata": {},
   "source": [
    "The `.loc` accessor method allows for chained selection of rows and columns. \n",
    "\n",
    "The selection pattern is row first\n",
    "\n",
    "```\n",
    "df.loc[ row , column ]\n",
    "```"
   ]
  },
  {
   "cell_type": "markdown",
   "metadata": {},
   "source": [
    "**Remember**: using `.loc` means that the right endpoint in a slice is returned."
   ]
  },
  {
   "cell_type": "code",
   "execution_count": null,
   "metadata": {
    "collapsed": false
   },
   "outputs": [],
   "source": [
    "df.head(3)"
   ]
  },
  {
   "cell_type": "code",
   "execution_count": null,
   "metadata": {
    "collapsed": false
   },
   "outputs": [],
   "source": [
    "df.loc[0,'alcohol']"
   ]
  },
  {
   "cell_type": "code",
   "execution_count": null,
   "metadata": {
    "collapsed": false
   },
   "outputs": [],
   "source": [
    "df.loc[2,'time']"
   ]
  },
  {
   "cell_type": "markdown",
   "metadata": {},
   "source": [
    "The values passed to `.loc` for either rows or columns can be values in the indices or **boolean indexing arrays**."
   ]
  },
  {
   "cell_type": "code",
   "execution_count": null,
   "metadata": {
    "collapsed": false
   },
   "outputs": [],
   "source": [
    "df.loc[df.alcohol < 5, ['beer_style', 'review_overall']]"
   ]
  },
  {
   "cell_type": "markdown",
   "metadata": {},
   "source": [
    "Using bitwise comparison operations between boolean arrays can provide complex selection logic."
   ]
  },
  {
   "cell_type": "code",
   "execution_count": null,
   "metadata": {
    "collapsed": false
   },
   "outputs": [],
   "source": [
    "# reviews written after June 2009 for beer with alcohol<5\n",
    "(df.alcohol < 5) & (df.time > '2009-06')\n",
    "\n",
    "# equivalent to\n",
    "#(df.alcohol < 5) & (df.time > pd.Timestamp('2009-06'))"
   ]
  },
  {
   "cell_type": "code",
   "execution_count": null,
   "metadata": {
    "collapsed": false
   },
   "outputs": [],
   "source": [
    "# reviews written after June 2009 for beer with alcohol<5 OR reviews with a rating >= 4.5\n",
    "boolean_chain = ( \n",
    "                   ( (df.alcohol < 5)  & (df.time > '2009-06')  )\n",
    "                 | (df.review_overall >= 4.5)\n",
    "                 )\n",
    "df.loc[boolean_chain]"
   ]
  },
  {
   "cell_type": "markdown",
   "metadata": {},
   "source": [
    "## isin with strings"
   ]
  },
  {
   "cell_type": "code",
   "execution_count": null,
   "metadata": {
    "collapsed": false
   },
   "outputs": [],
   "source": [
    "# .contains() method returns booleans...\n",
    "\n",
    "df.beer_style.str.contains('IPA')"
   ]
  },
  {
   "cell_type": "code",
   "execution_count": null,
   "metadata": {
    "collapsed": false
   },
   "outputs": [],
   "source": [
    "#... so .contain() can be used with .loc() as well:\n",
    "\n",
    "df.loc[df.beer_style.str.contains('IPA')]"
   ]
  },
  {
   "cell_type": "code",
   "execution_count": null,
   "metadata": {
    "collapsed": false
   },
   "outputs": [],
   "source": [
    "# Summary statistics for hoppy (IPA) beers\n",
    "\n",
    "df.loc[ df.beer_style.str.contains('IPA') ].describe()"
   ]
  },
  {
   "cell_type": "code",
   "execution_count": null,
   "metadata": {
    "collapsed": false
   },
   "outputs": [],
   "source": [
    "# Summary statistics for NOT hoppy (IPA) beers\n",
    "\n",
    "df.loc[ df.beer_style.str.contains('IPA')==False ].describe()"
   ]
  },
  {
   "cell_type": "markdown",
   "metadata": {},
   "source": [
    "## Statistical Operations through Indexing"
   ]
  },
  {
   "cell_type": "code",
   "execution_count": null,
   "metadata": {
    "collapsed": false
   },
   "outputs": [],
   "source": [
    "# count unique entries of beer_id\n",
    "\n",
    "beer_ids = df.beer_id.value_counts(sort=True)  # default is sorted, but wanted to be explicit\n",
    "beer_ids\n",
    "# left is ID, right is number of times it appears"
   ]
  },
  {
   "cell_type": "code",
   "execution_count": null,
   "metadata": {
    "collapsed": false
   },
   "outputs": [],
   "source": [
    "# All reviews for the top three most reviewed beers\n",
    "print( \"Top 3 \\nBeer ID, Reviews \\n\", beer_ids[0:3], \"\\n\" )\n",
    "\n",
    "df.loc[df.beer_id.isin(beer_ids[0:3].index)]"
   ]
  },
  {
   "cell_type": "markdown",
   "metadata": {},
   "source": [
    "***"
   ]
  },
  {
   "cell_type": "markdown",
   "metadata": {},
   "source": [
    "## Positional Indexing"
   ]
  },
  {
   "cell_type": "code",
   "execution_count": null,
   "metadata": {
    "collapsed": false
   },
   "outputs": [],
   "source": [
    "df.head(5)"
   ]
  },
  {
   "cell_type": "markdown",
   "metadata": {},
   "source": [
    "## The `.iloc` accessor"
   ]
  },
  {
   "cell_type": "markdown",
   "metadata": {},
   "source": [
    "If you prefer NumPy-like indexing, use the `.iloc` accessor:\n",
    "\n",
    "Similar to `.loc`, the `.iloc` accessor allows row and column by integer position or slice only."
   ]
  },
  {
   "cell_type": "code",
   "execution_count": null,
   "metadata": {
    "collapsed": false
   },
   "outputs": [],
   "source": [
    "## implied row\n",
    "df.iloc[[2,5,10]]"
   ]
  },
  {
   "cell_type": "code",
   "execution_count": null,
   "metadata": {
    "collapsed": false
   },
   "outputs": [],
   "source": [
    "# row, column\n",
    "df.iloc[[2,5,10],0:3]"
   ]
  },
  {
   "cell_type": "markdown",
   "metadata": {},
   "source": [
    "***"
   ]
  },
  {
   "cell_type": "markdown",
   "metadata": {},
   "source": [
    "# Section Review"
   ]
  },
  {
   "cell_type": "markdown",
   "metadata": {},
   "source": [
    "Examining Data\n",
    "* Reading data files\n",
    "* Inspecting the DataFrame\n",
    "* Examining Columns\n",
    "   * Selecting Columns\n",
    "   * Adding and Removing Columns\n",
    "   * String operations\n",
    "   * DateTime operations"
   ]
  }
 ],
 "metadata": {
  "anaconda-cloud": {},
  "continuum": {
   "depends": [
    "pd_intro",
    "pd_data_structs"
   ],
   "requires": [
    "data/beer2.csv.gz",
    "data/web-BeerAdvocate.html"
   ],
   "tag": "pd_examine_fancy"
  },
  "kernelspec": {
   "display_name": "Python [default]",
   "language": "python",
   "name": "python3"
  },
  "language_info": {
   "codemirror_mode": {
    "name": "ipython",
    "version": 3
   },
   "file_extension": ".py",
   "mimetype": "text/x-python",
   "name": "python",
   "nbconvert_exporter": "python",
   "pygments_lexer": "ipython3",
   "version": "3.5.2"
  }
 },
 "nbformat": 4,
 "nbformat_minor": 0
}
