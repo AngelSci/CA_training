{
 "cells": [
  {
   "cell_type": "markdown",
   "metadata": {},
   "source": [
    "# Table of Contents\n",
    "* [Learning Objectives:](#Learning-Objectives:)\n",
    "* [Pandas Exercise 1: Handling Messy Data](#Pandas-Exercise-1:-Handling-Messy-Data)\n",
    "\t* [Background](#Background)\n",
    "\t* [Set-up](#Set-up)\n",
    "\t* [Part 1: Read Format](#Part-1:-Read-Format)\n",
    "\t* [Part 2: Time Format](#Part-2:-Time-Format)\n",
    "\t* [Part 3: Visualization](#Part-3:-Visualization)\n",
    "\t* [Part 4: Optional: Simple Statistics to help visualization](#Part-4:-Optional:-Simple-Statistics-to-help-visualization)\n"
   ]
  },
  {
   "cell_type": "markdown",
   "metadata": {},
   "source": [
    "# Learning Objectives:"
   ]
  },
  {
   "cell_type": "markdown",
   "metadata": {},
   "source": [
    "After completion of this module, learners should be able to:\n",
    "\n",
    "* read a CSV file containing uncommon text formatting\n",
    "* format TimeStamp indexes upon reading a CSV file\n",
    "* plot DataFrame data with matplotlib\n",
    "* use simple statistics to help interpret visualization"
   ]
  },
  {
   "cell_type": "markdown",
   "metadata": {},
   "source": [
    "# Pandas Exercise 1: Handling Messy Data"
   ]
  },
  {
   "cell_type": "markdown",
   "metadata": {},
   "source": [
    "## Background"
   ]
  },
  {
   "cell_type": "markdown",
   "metadata": {},
   "source": [
    "This exercise is a modification from an example by [Julia Evans](http://jvns.ca). The original task is laid out in [Chapter 1](http://nbviewer.ipython.org/github/jvns/pandas-cookbook/blob/master/cookbook/Chapter%201%20-%20Reading%20from%20a%20CSV.ipynb) of the [`pandas` cookbook](https://github.com/jvns/pandas-cookbook). Ms. Evans has shared is licensed under a [Creative Commons Attribution-ShareAlike 4.0 International License](http://creativecommons.org/licenses/by-sa/4.0/).\n",
    "\n",
    "To begin, we want to use the ``pandas.read_csv`` function to load a ``csv`` file into memory. The file in question, ``data/bikes.csv``, is a record of usage of bicycle paths in Montreal from 2012 (here's the [original page](http://donnees.ville.montreal.qc.ca/dataset/velos-comptage) in French).\n",
    "\n",
    "> *Note: The data file contains the total count of bicycles that were observed on a path in a day, organized by date and by the name of the bicycle path.*\n",
    "\n",
    "We can use the Unix ``head`` command (or a similar command in Windows) to examine the top six lines of the file `data/bikes.csv`.\n",
    "\n",
    "        !head -6 data/bikes.csv # prints the first 6 lines of the file to standard output\n",
    "\n",
    "        Date;Berri 1;Br�beuf (donn�es non disponibles);C�te-Sainte-Catherine;Maisonneuve 1;Maisonneuve 2;du\n",
    "        Parc;Pierre-Dupuy;Rachel1;St-Urbain (donn�es non disponibles)\n",
    "        01/01/2012;35;;0;38;51;26;10;16;\n",
    "        02/01/2012;83;;1;68;153;53;6;43;\n",
    "        03/01/2012;135;;2;104;248;89;3;58;\n",
    "        04/01/2012;144;;1;116;318;111;8;61;\n",
    "        05/01/2012;197;;2;124;330;97;13;95;\n",
    "\n",
    "Notice that the first row appears corrupted because the character encoding used differs from that in the output (this permits French characters and accents). Also notice that the column separator is a semicolon (``;``). \n",
    "\n",
    "If we try to load this file using the standard ``pandas.read_csv`` function, we'll likely get an error because both the column separator&mdash;a semicolon (``;``) as opposed to a comma (``,``)&mdash;and the character encoding&mdash;``latin1`` as opposed to ``utf8``&mdash;differ from the defaults for this function (presumably, the ``latin1`` encoding is used to permit use of French characters & accents)."
   ]
  },
  {
   "cell_type": "markdown",
   "metadata": {},
   "source": [
    "## Set-up"
   ]
  },
  {
   "cell_type": "code",
   "execution_count": null,
   "metadata": {
    "collapsed": true
   },
   "outputs": [],
   "source": [
    "import pandas as pd\n",
    "%matplotlib inline"
   ]
  },
  {
   "cell_type": "markdown",
   "metadata": {},
   "source": [
    "## Part 1: Read Format"
   ]
  },
  {
   "cell_type": "markdown",
   "metadata": {},
   "source": [
    "Use the documentation for the ``pandas.read_csv`` function to successfully load the file\n",
    "    ``data/bikes.csv`` into a ``pandas.DataFrame``\n",
    "    called ``bike_data`` using the ``Date`` column as the index."
   ]
  },
  {
   "cell_type": "code",
   "execution_count": null,
   "metadata": {
    "collapsed": false
   },
   "outputs": [],
   "source": [
    "# Solution: \n",
    "# Note: Read the Background section above to learn about possible utf-8/latin1 errors.\n",
    "\n",
    "file_name = 'data/bikes.csv'\n",
    "\n",
    "bike_data = pd.read_csv(file_name, \n",
    "                        sep=';', \n",
    "                        encoding='latin1',\n",
    "                        index_col='Date')\n",
    "\n",
    "print( \"Index dtype = \", bike_data.index.dtype )\n",
    "print( bike_data.index )\n",
    "bike_data.head(5)"
   ]
  },
  {
   "cell_type": "markdown",
   "metadata": {},
   "source": [
    "## Part 2: Time Format"
   ]
  },
  {
   "cell_type": "markdown",
   "metadata": {},
   "source": [
    "Observe that the ``Date`` column of ``bike_data`` contains string representations of dates in the (unwisely ambiguous) format ``DD/MM/YYYY``. \n",
    "    \n",
    "* Use the documentation to help you modify your call to ``pandas.read_csv`` to parse the dates correctly as a ``TimeStamp``.\n",
    "    \n",
    "* Once the ``pandas.DataFrame`` ``bike_data`` has been loaded into memory successfully, we should be able to extract columns with appropriate dates as indices, e.g.,\n",
    "\n",
    "```bash\n",
    "# Use tab-completion to enter column names easily\n",
    "bike_data['Maisonneuve 1'].iloc[:5]\n",
    "\n",
    "Date\n",
    "2012-01-01     38\n",
    "2012-01-02     68\n",
    "2012-01-03    104\n",
    "2012-01-04    116\n",
    "2012-01-05    124\n",
    "Name: Maisonneuve 1, dtype: int64\n",
    "```"
   ]
  },
  {
   "cell_type": "markdown",
   "metadata": {},
   "source": [
    "You can use the `.ix[]` selection method to mix label and position selections\n",
    "\n",
    "```python\n",
    "bike_data.ix[0:5,'Maisonneuve 1']\n",
    "```"
   ]
  },
  {
   "cell_type": "markdown",
   "metadata": {},
   "source": [
    "Notice that the usage is positive during the winter months which is pretty impressive in Montreal!"
   ]
  },
  {
   "cell_type": "code",
   "execution_count": null,
   "metadata": {
    "collapsed": false
   },
   "outputs": [],
   "source": [
    "# Solution\n",
    "\n",
    "file_name = 'data/bikes.csv'\n",
    "\n",
    "bike_data = pd.read_csv(file_name, \n",
    "                        sep=';', \n",
    "                        encoding='latin1',\n",
    "                        parse_dates=['Date'], \n",
    "                        dayfirst=True, \n",
    "                        index_col='Date' )\n",
    "\n",
    "# Notice the Index now has a dtype=datetime64\n",
    "print( \"Index dtype = \", bike_data.index.dtype )\n",
    "print( bike_data.index )\n",
    "bike_data.head(5)"
   ]
  },
  {
   "cell_type": "markdown",
   "metadata": {},
   "source": [
    "## Part 3: Visualization"
   ]
  },
  {
   "cell_type": "markdown",
   "metadata": {},
   "source": [
    "Finally, use the ``pandas.Series`` method `.plot()` to generate a plot of the usage of the `Maisonneuve 1` bike trail during 2012. \n",
    "\n",
    "As an aside, the ``pandas.DataFrame`` class has a similar ``.plot()`` method that plots all the time series (corresponding to bike usage on each of the trails) on the same axes."
   ]
  },
  {
   "cell_type": "code",
   "execution_count": null,
   "metadata": {
    "collapsed": false
   },
   "outputs": [],
   "source": [
    "# Solution\n",
    "\n",
    "bike_data.plot(figsize=(12, 10))\n",
    "\n",
    "# Notice the text labels on the x-axis"
   ]
  },
  {
   "cell_type": "code",
   "execution_count": null,
   "metadata": {
    "collapsed": false
   },
   "outputs": [],
   "source": [
    "# Solution Alternate 1: plot only one column\n",
    "\n",
    "bike_data['Berri 1'].plot(figsize=(12, 10))"
   ]
  },
  {
   "cell_type": "code",
   "execution_count": null,
   "metadata": {
    "collapsed": false
   },
   "outputs": [],
   "source": [
    "# Solution Alternate 2: \n",
    "bike_data.plot(marker='o',linestyle='None', figsize=(12, 10))"
   ]
  },
  {
   "cell_type": "markdown",
   "metadata": {},
   "source": [
    "## Part 4: Optional: Simple Statistics to help visualization"
   ]
  },
  {
   "cell_type": "markdown",
   "metadata": {},
   "source": [
    "Plot the usage (bicycle counter-per-day) in a way that is visually easy to parse, Compute the monthly mean of path usage, and plot that, rather than the daily usage"
   ]
  },
  {
   "cell_type": "code",
   "execution_count": null,
   "metadata": {
    "collapsed": false
   },
   "outputs": [],
   "source": [
    "# Reminder: Pandas includes methods for computing mean(), std(), etc...\n",
    "\n",
    "bike_data.mean()"
   ]
  },
  {
   "cell_type": "code",
   "execution_count": null,
   "metadata": {
    "collapsed": false
   },
   "outputs": [],
   "source": [
    "# Reminder: Pandas also includes a nice summary statistics tool called describe()\n",
    "\n",
    "bike_data.describe()"
   ]
  },
  {
   "cell_type": "code",
   "execution_count": null,
   "metadata": {
    "collapsed": false
   },
   "outputs": [],
   "source": [
    "# Solution: compute the monthly mean bicycle count-per-day\n",
    "\n",
    "bike_data.groupby(bike_data.index.month).mean()"
   ]
  },
  {
   "cell_type": "code",
   "execution_count": null,
   "metadata": {
    "collapsed": false
   },
   "outputs": [],
   "source": [
    "# Solution: computing monthy mean and plotting all in one block\n",
    "\n",
    "(\n",
    "bike_data.groupby(bike_data.index.month)\n",
    "         .mean()\n",
    "         .plot(marker='o',linestyle='None', figsize=(12, 10))\n",
    ")"
   ]
  }
 ],
 "metadata": {
  "continuum": {
   "depends": [
    "pd_intro",
    "pd_data_io",
    "pd_ex_messy"
   ],
   "requires": [
    "data/bikes.csv"
   ],
   "tag": "pd_ex_messy_soln"
  },
  "kernelspec": {
   "display_name": "Python 3",
   "language": "python",
   "name": "python3"
  },
  "language_info": {
   "codemirror_mode": {
    "name": "ipython",
    "version": 3
   },
   "file_extension": ".py",
   "mimetype": "text/x-python",
   "name": "python",
   "nbconvert_exporter": "python",
   "pygments_lexer": "ipython3",
   "version": "3.4.4"
  }
 },
 "nbformat": 4,
 "nbformat_minor": 0
}
