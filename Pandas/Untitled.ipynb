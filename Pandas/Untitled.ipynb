{
 "cells": [
  {
   "cell_type": "code",
   "execution_count": 1,
   "metadata": {
    "collapsed": true
   },
   "outputs": [],
   "source": [
    "import os, sys, math"
   ]
  },
  {
   "cell_type": "code",
   "execution_count": null,
   "metadata": {
    "collapsed": true
   },
   "outputs": [],
   "source": [
    "math.p"
   ]
  },
  {
   "cell_type": "code",
   "execution_count": 5,
   "metadata": {
    "collapsed": false
   },
   "outputs": [],
   "source": [
    "def getDistanceFromLatLonInKm(lat1,lon1,lat2,lon2):\n",
    "   R = 6371 #Radius of the earth in km\n",
    "   dLat = deg2rad(lat2-lat1) #deg2rad below\n",
    "   dLon = deg2rad(lon2-lon1) \n",
    "   a = math.sin(dLat/2) * math.sin(dLat/2) + math.cos(deg2rad(lat1)) * math.cos(deg2rad(lat2)) * \\\n",
    "       math.sin(dLon/2) * math.sin(dLon/2)\n",
    "   c = 2 * math.atan2(math.sqrt(a), math.sqrt(1-a)) \n",
    "   d = R * c # Distance in km\n",
    "   return d\n",
    "\n",
    "def deg2rad(deg):\n",
    "  return deg * (math.pi/180)"
   ]
  },
  {
   "cell_type": "code",
   "execution_count": 11,
   "metadata": {
    "collapsed": false
   },
   "outputs": [
    {
     "data": {
      "text/plain": [
       "0.8263393430832499"
      ]
     },
     "execution_count": 11,
     "metadata": {},
     "output_type": "execute_result"
    }
   ],
   "source": [
    "getDistanceFromLatLonInKm(42,42.01,42,42.02)"
   ]
  },
  {
   "cell_type": "code",
   "execution_count": 12,
   "metadata": {
    "collapsed": true
   },
   "outputs": [],
   "source": [
    "import numpy as np"
   ]
  },
  {
   "cell_type": "code",
   "execution_count": 14,
   "metadata": {
    "collapsed": false
   },
   "outputs": [
    {
     "name": "stdout",
     "output_type": "stream",
     "text": [
      "Help on function asarray in module numpy.core.numeric:\n",
      "\n",
      "asarray(a, dtype=None, order=None)\n",
      "    Convert the input to an array.\n",
      "    \n",
      "    Parameters\n",
      "    ----------\n",
      "    a : array_like\n",
      "        Input data, in any form that can be converted to an array.  This\n",
      "        includes lists, lists of tuples, tuples, tuples of tuples, tuples\n",
      "        of lists and ndarrays.\n",
      "    dtype : data-type, optional\n",
      "        By default, the data-type is inferred from the input data.\n",
      "    order : {'C', 'F'}, optional\n",
      "        Whether to use row-major (C-style) or\n",
      "        column-major (Fortran-style) memory representation.\n",
      "        Defaults to 'C'.\n",
      "    \n",
      "    Returns\n",
      "    -------\n",
      "    out : ndarray\n",
      "        Array interpretation of `a`.  No copy is performed if the input\n",
      "        is already an ndarray.  If `a` is a subclass of ndarray, a base\n",
      "        class ndarray is returned.\n",
      "    \n",
      "    See Also\n",
      "    --------\n",
      "    asanyarray : Similar function which passes through subclasses.\n",
      "    ascontiguousarray : Convert input to a contiguous array.\n",
      "    asfarray : Convert input to a floating point ndarray.\n",
      "    asfortranarray : Convert input to an ndarray with column-major\n",
      "                     memory order.\n",
      "    asarray_chkfinite : Similar function which checks input for NaNs and Infs.\n",
      "    fromiter : Create an array from an iterator.\n",
      "    fromfunction : Construct an array by executing a function on grid\n",
      "                   positions.\n",
      "    \n",
      "    Examples\n",
      "    --------\n",
      "    Convert a list into an array:\n",
      "    \n",
      "    >>> a = [1, 2]\n",
      "    >>> np.asarray(a)\n",
      "    array([1, 2])\n",
      "    \n",
      "    Existing arrays are not copied:\n",
      "    \n",
      "    >>> a = np.array([1, 2])\n",
      "    >>> np.asarray(a) is a\n",
      "    True\n",
      "    \n",
      "    If `dtype` is set, array is copied only if dtype does not match:\n",
      "    \n",
      "    >>> a = np.array([1, 2], dtype=np.float32)\n",
      "    >>> np.asarray(a, dtype=np.float32) is a\n",
      "    True\n",
      "    >>> np.asarray(a, dtype=np.float64) is a\n",
      "    False\n",
      "    \n",
      "    Contrary to `asanyarray`, ndarray subclasses are not passed through:\n",
      "    \n",
      "    >>> issubclass(np.matrix, np.ndarray)\n",
      "    True\n",
      "    >>> a = np.matrix([[1, 2]])\n",
      "    >>> np.asarray(a) is a\n",
      "    False\n",
      "    >>> np.asanyarray(a) is a\n",
      "    True\n",
      "\n"
     ]
    }
   ],
   "source": [
    "help(np.asarray)"
   ]
  },
  {
   "cell_type": "code",
   "execution_count": 19,
   "metadata": {
    "collapsed": false
   },
   "outputs": [
    {
     "ename": "TypeError",
     "evalue": "unsupported operand type(s) for -: 'list' and 'list'",
     "output_type": "error",
     "traceback": [
      "\u001b[0;31m---------------------------------------------------------------------------\u001b[0m",
      "\u001b[0;31mTypeError\u001b[0m                                 Traceback (most recent call last)",
      "\u001b[0;32m<ipython-input-19-d51af1e159f7>\u001b[0m in \u001b[0;36m<module>\u001b[0;34m()\u001b[0m\n\u001b[0;32m----> 1\u001b[0;31m \u001b[0mD\u001b[0m \u001b[1;33m=\u001b[0m \u001b[0mnp\u001b[0m\u001b[1;33m.\u001b[0m\u001b[0marange\u001b[0m\u001b[1;33m(\u001b[0m\u001b[1;33m[\u001b[0m\u001b[1;36m0\u001b[0m\u001b[1;33m,\u001b[0m\u001b[1;36m0\u001b[0m\u001b[1;33m]\u001b[0m\u001b[1;33m,\u001b[0m\u001b[1;33m[\u001b[0m\u001b[1;36m180\u001b[0m\u001b[1;33m,\u001b[0m\u001b[1;36m90\u001b[0m\u001b[1;33m]\u001b[0m\u001b[1;33m,\u001b[0m\u001b[1;33m[\u001b[0m\u001b[1;36m0.01\u001b[0m\u001b[1;33m,\u001b[0m\u001b[1;36m0.01\u001b[0m\u001b[1;33m]\u001b[0m\u001b[1;33m,\u001b[0m\u001b[0mdtype\u001b[0m\u001b[1;33m=\u001b[0m\u001b[1;34m'float32'\u001b[0m\u001b[1;33m)\u001b[0m\u001b[1;33m\u001b[0m\u001b[0m\n\u001b[0m",
      "\u001b[0;31mTypeError\u001b[0m: unsupported operand type(s) for -: 'list' and 'list'"
     ]
    }
   ],
   "source": [
    "D = np.arange([0,0],[180,90],[0.01,0.01],dtype='float32')"
   ]
  },
  {
   "cell_type": "code",
   "execution_count": null,
   "metadata": {
    "collapsed": true
   },
   "outputs": [],
   "source": []
  }
 ],
 "metadata": {
  "kernelspec": {
   "display_name": "Python [conda env:py35-env]",
   "language": "python",
   "name": "conda-env-py35-env-py"
  },
  "language_info": {
   "codemirror_mode": {
    "name": "ipython",
    "version": 3
   },
   "file_extension": ".py",
   "mimetype": "text/x-python",
   "name": "python",
   "nbconvert_exporter": "python",
   "pygments_lexer": "ipython3",
   "version": "3.5.2"
  }
 },
 "nbformat": 4,
 "nbformat_minor": 1
}
