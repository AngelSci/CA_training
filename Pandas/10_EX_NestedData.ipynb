{
 "cells": [
  {
   "cell_type": "markdown",
   "metadata": {},
   "source": [
    "# Table of Contents\n",
    "* [Learning Objectives:](#Learning-Objectives:)\n",
    "* [Pandas Exercise 2: Nested Data](#Pandas-Exercise-2:-Nested-Data)\n",
    "\t* [Background](#Background)\n",
    "\t* [Set-up](#Set-up)\n",
    "\t* [Part 1](#Part-1)\n",
    "\t* [Part 2](#Part-2)\n",
    "\t* [Part 3](#Part-3)\n"
   ]
  },
  {
   "cell_type": "markdown",
   "metadata": {},
   "source": [
    "# Learning Objectives:"
   ]
  },
  {
   "cell_type": "markdown",
   "metadata": {},
   "source": [
    "After completion of this module, learners should be able to:\n",
    "\n",
    "* load multiple data files into a single DataFrame\n",
    "* add columns from a DataFrame\n",
    "* extract data from a DataFrame based on a filter value\n",
    "* concatenate multiple DataFrames into one\n",
    "* construct a pivot table"
   ]
  },
  {
   "cell_type": "markdown",
   "metadata": {},
   "source": [
    "# Pandas Exercise 2: Nested Data"
   ]
  },
  {
   "cell_type": "markdown",
   "metadata": {},
   "source": [
    "## Background"
   ]
  },
  {
   "cell_type": "markdown",
   "metadata": {},
   "source": [
    "This exercise is based on an example from Wes McKinney's Python for Data Analysis. \n",
    "\n",
    "We're going to use a data set consisting of ``csv`` files summarizing popularity of baby names in the US. The data is available in [./data/babynames/*](./data/babynames/*). \n",
    "\n",
    "Each file in that directory has a name of the form ``yobYYYY.txt`` where ``YYYY`` is the four-digit representation of the year. \n",
    "\n",
    "The directory contains a summary of baby names from births registered each year from 1880 through 2011 (the [raw archive](http://www.ssa.gov/oact/babynames/limits.html) is maintained by [the US Social Security Administration](http://www.ssa.gov)"
   ]
  },
  {
   "cell_type": "markdown",
   "metadata": {},
   "source": [
    "## Set-up"
   ]
  },
  {
   "cell_type": "code",
   "execution_count": null,
   "metadata": {
    "collapsed": true
   },
   "outputs": [],
   "source": [
    "%matplotlib inline\n",
    "import os\n",
    "import glob\n",
    "import numpy as np\n",
    "import pandas as pd"
   ]
  },
  {
   "cell_type": "markdown",
   "metadata": {},
   "source": [
    "## Part 1"
   ]
  },
  {
   "cell_type": "markdown",
   "metadata": {},
   "source": [
    "Write some code to load the data from the file ``data/babynames/yob1880.txt`` into a ``DataFrame``.\n",
    "\n",
    "Notice that all the ``csv`` files in the directory have three columns (``name``, ``sex``, and ``count``) and no header. \n",
    "\n",
    "Once you have loaded the data from 1880 into a ``DataFrame``, write statements to:\n",
    "    * add a column named ``year`` to the ``DataFrame`` with the value ``1880`` for every row;\n",
    "    * extract the baby name data from 1880 for boys (``M``); and\n",
    "    * extract the baby name data from 1880 for girls (``F``)."
   ]
  },
  {
   "cell_type": "code",
   "execution_count": null,
   "metadata": {
    "collapsed": true
   },
   "outputs": [],
   "source": [
    "# Solution:\n",
    "\n",
    "# Hint file_name\n",
    "file_name = 'data/babynames/yob1880.txt'\n",
    "\n",
    "# Hint: reading a CSV with no header, use \"header=None\""
   ]
  },
  {
   "cell_type": "markdown",
   "metadata": {},
   "source": [
    "## Part 2"
   ]
  },
  {
   "cell_type": "markdown",
   "metadata": {},
   "source": [
    "Write some code to load *all* the ``csv`` files in the directory into a single ``pandas`` ``DataFrame`` object with the columns ``name``, ``sex``, ``count``, and ``year``. \n",
    "\n",
    "The function ``pandas.concat`` can be used to concatenate a list of ``DataFrame`` objects into a single ``DataFrame``. Alternatively, the ``DataFrame`` class has an ``append`` method that can be used to stack new rows onto the bottom of a ``DataFrame``. Whichever you use, note that you will have to ignore the index in the original ``DataFrame`` objects as accumulated in a loop (we are not really concerned with these index values)."
   ]
  },
  {
   "cell_type": "code",
   "execution_count": null,
   "metadata": {
    "collapsed": true
   },
   "outputs": [],
   "source": [
    "# Solution:\n",
    "# Load all the babynames csv's, join them\n",
    "\n",
    "# Some help to get you started...\n",
    "top_dir = os.path.join('data','babynames')\n",
    "namesfiles = glob.glob(os.path.join(top_dir,'yob*.txt'))\n"
   ]
  },
  {
   "cell_type": "markdown",
   "metadata": {},
   "source": [
    "## Part 3"
   ]
  },
  {
   "cell_type": "markdown",
   "metadata": {
    "collapsed": true
   },
   "source": [
    "Construct a [pivot table](https://en.wikipedia.org/wiki/Pivot_table) to summarize the total births by sex in each year. \n",
    "\n",
    "The pivot table will have ``year`` as the rows/index and ``M``/``F`` as column headings. The entries of the pivot table will be the number of births in that year of the appropriate sex. The ``pandas`` ``DataFrame`` class has a method that does exactly this."
   ]
  },
  {
   "cell_type": "code",
   "execution_count": null,
   "metadata": {
    "collapsed": false
   },
   "outputs": [],
   "source": [
    "# Solution:\n"
   ]
  }
 ],
 "metadata": {
  "continuum": {
   "depends": [
    "pd_intro"
   ],
   "requires": [
    "data/__init__.py",
    "data/babynames/*",
    "data/babynames/yob1880.txt"
   ],
   "tag": "pd_ex_nested"
  },
  "kernelspec": {
   "display_name": "Python 3",
   "language": "python",
   "name": "python3"
  },
  "language_info": {
   "codemirror_mode": {
    "name": "ipython",
    "version": 3
   },
   "file_extension": ".py",
   "mimetype": "text/x-python",
   "name": "python",
   "nbconvert_exporter": "python",
   "pygments_lexer": "ipython3",
   "version": "3.4.4"
  }
 },
 "nbformat": 4,
 "nbformat_minor": 0
}
