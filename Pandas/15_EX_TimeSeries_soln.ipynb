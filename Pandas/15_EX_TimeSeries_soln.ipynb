{
 "cells": [
  {
   "cell_type": "markdown",
   "metadata": {},
   "source": [
    "# Table of Contents\n",
    "* [Learning Objectives:](#Learning-Objectives:)\n",
    "* [Pandas Exercise 5: TimeSeries](#Pandas-Exercise-5:-TimeSeries)\n",
    "\t* [Background](#Background)\n",
    "\t* [Set-up](#Set-up)\n",
    "\t* [Part 1: Read the data](#Part-1:-Read-the-data)\n",
    "\t* [Part 2: Resample](#Part-2:-Resample)\n",
    "\t* [Part 3: Plot](#Part-3:-Plot)\n",
    "\t* [Part 4: Rolling mean](#Part-4:-Rolling-mean)\n"
   ]
  },
  {
   "cell_type": "markdown",
   "metadata": {},
   "source": [
    "# Learning Objectives:"
   ]
  },
  {
   "cell_type": "markdown",
   "metadata": {},
   "source": [
    "After completion of this module, learners should be able to:\n",
    "\n",
    "* use pandas to perform exploratory analysis on time-series data\n",
    "* use pandas to load time series data froma CSV/Excel file\n",
    "* use pandas to visualize the time series data\n",
    "* use pandas to compute a rolling mean"
   ]
  },
  {
   "cell_type": "markdown",
   "metadata": {},
   "source": [
    "# Pandas Exercise 5: TimeSeries"
   ]
  },
  {
   "cell_type": "markdown",
   "metadata": {},
   "source": [
    "## Background"
   ]
  },
  {
   "cell_type": "markdown",
   "metadata": {},
   "source": [
    "Weather data is a common example of time series data that is of interest both to scientisits and investors (impact on crop yields, prices). Weather data often has periodic patterns in it, so it should be interesting to examine."
   ]
  },
  {
   "cell_type": "markdown",
   "metadata": {},
   "source": [
    "## Set-up"
   ]
  },
  {
   "cell_type": "code",
   "execution_count": null,
   "metadata": {
    "collapsed": true
   },
   "outputs": [],
   "source": [
    "import numpy as np\n",
    "import matplotlib.pyplot as plt\n",
    "%matplotlib inline\n",
    "\n",
    "import pandas as pd"
   ]
  },
  {
   "cell_type": "markdown",
   "metadata": {},
   "source": [
    "## Part 1: Read the data"
   ]
  },
  {
   "cell_type": "markdown",
   "metadata": {},
   "source": [
    "Read a data from the file `data/pittsburgh2013.csv` into a pandas DataFrame"
   ]
  },
  {
   "cell_type": "code",
   "execution_count": null,
   "metadata": {
    "collapsed": false
   },
   "outputs": [],
   "source": [
    "# Solution:\n",
    "\n",
    "weather = pd.read_csv('data/pittsburgh2013.csv', parse_dates=True, index_col='Date')\n",
    "weather.head()"
   ]
  },
  {
   "cell_type": "markdown",
   "metadata": {},
   "source": [
    "## Part 2: Resample"
   ]
  },
  {
   "cell_type": "markdown",
   "metadata": {},
   "source": [
    "Resample the weather data to an hourly frequency"
   ]
  },
  {
   "cell_type": "code",
   "execution_count": null,
   "metadata": {
    "collapsed": false
   },
   "outputs": [],
   "source": [
    "# Solution:\n",
    "# Resampling with \"forward-fill\"\n",
    "\n",
    "weather['Max TemperatureF'].resample('1h').ffill().head(13)\n",
    "weather['Min TemperatureF'].resample('1h').ffill().head(13)"
   ]
  },
  {
   "cell_type": "markdown",
   "metadata": {},
   "source": [
    "## Part 3: Plot"
   ]
  },
  {
   "cell_type": "markdown",
   "metadata": {
    "solutions": {
     "nested": [
      "# Load all the babynames csv's, join them, then do a pivot table on gender",
      "import glob",
      "import pandas as pd",
      "import os",
      "import numpy as np",
      "top_dir = os.path.join('data','babynames')",
      "namesfiles = glob.glob(os.path.join(top_dir,'yob*.txt'))",
      "dfs = []",
      "for fname in namesfiles:",
      "    df = pd.read_csv(fname, names=('name','gender','count'), index_col='name')",
      "    basename = os.path.basename(fname)",
      "    # basename --> yob1880.txt",
      "    yr_as_str = basename.replace('.txt','').replace('yob','')",
      "    yr = int(yr_as_str)",
      "    df['year'] = yr",
      "    dfs.append(df)",
      "joined = pd.concat(dfs)",
      "pivot_on_year_gender = joined.pivot_table(index=('year','gender'), ",
      "                                        values='count', aggfunc=sum)",
      "print('pivot on year/gender', repr(pivot_on_year_gender))",
      "all_males = joined[joined.gender=='M']",
      "print('all_males', repr(all_males))"
     ]
    }
   },
   "source": [
    "* Plot the max and min temperatures, versus the `date` data, on the same figure. \n",
    "* Optional: Plot the difference (max-min) temperatures\n",
    "* Use of matplotlib is fine, but Bokeh is even better."
   ]
  },
  {
   "cell_type": "code",
   "execution_count": null,
   "metadata": {
    "collapsed": false
   },
   "outputs": [],
   "source": [
    "# Solution:\n",
    "# Plotting with Matplotlib\n",
    "\n",
    "weather['Max TemperatureF'].plot(figsize=(12,3))\n",
    "weather['Min TemperatureF'].plot(figsize=(12,3))"
   ]
  },
  {
   "cell_type": "code",
   "execution_count": null,
   "metadata": {
    "collapsed": false
   },
   "outputs": [],
   "source": [
    "# Solution:\n",
    "# Plot the difference\n",
    "\n",
    "(weather['Max TemperatureF'] - weather['Min TemperatureF']).plot(figsize=(12,3))"
   ]
  },
  {
   "cell_type": "markdown",
   "metadata": {},
   "source": [
    "## Part 4: Rolling mean"
   ]
  },
  {
   "cell_type": "markdown",
   "metadata": {},
   "source": [
    "Compute and visually compare the 1 month rolling mean to the original mean."
   ]
  },
  {
   "cell_type": "code",
   "execution_count": null,
   "metadata": {
    "collapsed": false
   },
   "outputs": [],
   "source": [
    "# Solution:\n",
    "\n",
    "# compute 1 month rolling mean\n",
    "monthly_mean_temp = pd.rolling_mean(weather['Mean TemperatureF'], freq='M', window=1)\n",
    "\n",
    "# plot both\n",
    "monthly_mean_temp.plot(figsize=(12,3))\n",
    "weather['Mean TemperatureF'].plot(figsize=(12,3), color='red')"
   ]
  }
 ],
 "metadata": {
  "continuum": {
   "depends": [
    "pd_ex_timeseries",
    "pd_series"
   ],
   "requires": [
    "data/__init__.py",
    "data/babynames/*",
    "data/pittsburgh2013.csv"
   ],
   "tag": "pd_ex_timeseries_soln"
  },
  "kernelspec": {
   "display_name": "Python 3",
   "language": "python",
   "name": "python3"
  },
  "language_info": {
   "codemirror_mode": {
    "name": "ipython",
    "version": 3
   },
   "file_extension": ".py",
   "mimetype": "text/x-python",
   "name": "python",
   "nbconvert_exporter": "python",
   "pygments_lexer": "ipython3",
   "version": "3.4.4"
  }
 },
 "nbformat": 4,
 "nbformat_minor": 0
}
