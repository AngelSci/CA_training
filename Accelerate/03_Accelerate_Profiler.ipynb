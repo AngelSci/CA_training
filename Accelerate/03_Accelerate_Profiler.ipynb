{
 "cells": [
  {
   "cell_type": "markdown",
   "metadata": {},
   "source": [
    "<img src='img/anaconda-logo.png' align='left' style=\"padding:10px\">\n",
    "<br>\n",
    "*Copyright Continuum 2012-2016 All Rights Reserved.*"
   ]
  },
  {
   "cell_type": "markdown",
   "metadata": {},
   "source": [
    "# Accelerate Profiler"
   ]
  },
  {
   "cell_type": "markdown",
   "metadata": {},
   "source": [
    "The Python standard library includes tools to profile code. The `accelerate.profiler` module extends that functionality."
   ]
  },
  {
   "cell_type": "markdown",
   "metadata": {},
   "source": [
    "## Table of Contents\n",
    "* [Accelerate Profiler](#Accelerate-Profiler)\n",
    "\t* [Set-up](#Set-up)\n",
    "* [Using the ``accelerate.profiler``](#Using-the-accelerate.profiler)\n",
    "* [Printing Profiler Results](#Printing-Profiler-Results)\n",
    "\t* [Function Signatures, Typing](#Function-Signatures,-Typing)\n",
    "\t* [Profiling Numpy, shape and dtype](#Profiling-Numpy,-shape-and-dtype)\n",
    "* [Visualizing Profiler Results](#Visualizing-Profiler-Results)\n",
    "* [Profiling Compiled Code](#Profiling-Compiled-Code)\n"
   ]
  },
  {
   "cell_type": "markdown",
   "metadata": {},
   "source": [
    "## Set-up"
   ]
  },
  {
   "cell_type": "code",
   "execution_count": null,
   "metadata": {
    "collapsed": false
   },
   "outputs": [],
   "source": [
    "from accelerate import profiler"
   ]
  },
  {
   "cell_type": "markdown",
   "metadata": {},
   "source": [
    "# Using the ``accelerate.profiler``"
   ]
  },
  {
   "cell_type": "markdown",
   "metadata": {},
   "source": [
    "Let's start with a demonstration of how to use the `accelerate.profiler`"
   ]
  },
  {
   "cell_type": "markdown",
   "metadata": {},
   "source": [
    "Define a code block you wish to profile: for this example, we use an implementation of the [Wallis product](https://en.wikipedia.org/wiki/Wallis_product) for estimating the value of $\\pi$."
   ]
  },
  {
   "cell_type": "code",
   "execution_count": null,
   "metadata": {
    "collapsed": true
   },
   "outputs": [],
   "source": [
    "def compute_pi(n=1000000):\n",
    "    pi = 2.0\n",
    "    for i in range(1,n):\n",
    "        tmp = 4*i**2\n",
    "        pi*=tmp/(tmp-1)\n",
    "    return pi"
   ]
  },
  {
   "cell_type": "code",
   "execution_count": null,
   "metadata": {
    "collapsed": false
   },
   "outputs": [],
   "source": [
    "%timeit compute_pi()"
   ]
  },
  {
   "cell_type": "markdown",
   "metadata": {},
   "source": [
    "The steps in using the Accelerate profiler are:\n",
    "* Import the accelerate profiler\n",
    "* Construct a `Profile()` object\n",
    "* enable the profile object\n",
    "* execute the code you wish to be profiled\n",
    "* disable the profile object"
   ]
  },
  {
   "cell_type": "code",
   "execution_count": null,
   "metadata": {
    "collapsed": false
   },
   "outputs": [],
   "source": [
    "p = profiler.Profile()\n",
    "p.enable()\n",
    "compute_pi()  # call the code you want to profile\n",
    "p.disable()"
   ]
  },
  {
   "cell_type": "markdown",
   "metadata": {},
   "source": [
    "# Printing Profiler Results"
   ]
  },
  {
   "cell_type": "markdown",
   "metadata": {},
   "source": [
    "To see the results, use the `print_stats()` method on the `profile` object:\n",
    "\n",
    "Notice the ***`tottime`*** column, just as seen in `cProfile`. "
   ]
  },
  {
   "cell_type": "code",
   "execution_count": null,
   "metadata": {
    "collapsed": false
   },
   "outputs": [],
   "source": [
    "p.print_stats()"
   ]
  },
  {
   "cell_type": "markdown",
   "metadata": {},
   "source": [
    "Notice the first row, last column, reference to `compute_pi(n:int)`... "
   ]
  },
  {
   "cell_type": "markdown",
   "metadata": {},
   "source": [
    "## Function Signatures, Typing"
   ]
  },
  {
   "cell_type": "markdown",
   "metadata": {},
   "source": [
    "Notice the first row in the output:\n",
    "* the **`tottime`** column is largest for the first row\n",
    "* the **`filename:lineno(function)`** column shows **`compute_pi(n:int)`**\n",
    "* notice that the function input parameter name and type are reported as **`n:int`**\n",
    "\n",
    "Recall that the `cProfile` module reports how much time is spent in each function. \n",
    "* Often the precise control flow (and thus function performance) depends on the ***argument types***.\n",
    "* So `accelerate.profiler` extends profiling functionality by ***also recording the function signature.***"
   ]
  },
  {
   "cell_type": "markdown",
   "metadata": {},
   "source": [
    "However, this change has important implications to the way profiling works. Multiple invocations to a given function was accounted for in a single profile stats entry, while with Accelerate profiler, they ***generate different entries, depending on their argument types***."
   ]
  },
  {
   "cell_type": "markdown",
   "metadata": {},
   "source": [
    "## Profiling Numpy, shape and dtype"
   ]
  },
  {
   "cell_type": "markdown",
   "metadata": {},
   "source": [
    "For numpy array types, this includes not only the **dtype** attribute, but also the array's **shape**. \n",
    "\n",
    "To demonstrate this, let's profile the numpy implementation of the Wallis product for estimating $\\pi$."
   ]
  },
  {
   "cell_type": "code",
   "execution_count": null,
   "metadata": {
    "collapsed": true
   },
   "outputs": [],
   "source": [
    "import numpy as np\n",
    "\n",
    "def compute_pi_np(n=1000000):\n",
    "    series=np.arange(1,n)**2*4.\n",
    "    series/=(series-1)\n",
    "    return 2.*series.prod()"
   ]
  },
  {
   "cell_type": "code",
   "execution_count": null,
   "metadata": {
    "collapsed": true
   },
   "outputs": [],
   "source": [
    "from accelerate import profiler\n",
    "p = profiler.Profile()\n",
    "p.enable()\n",
    "compute_pi_np()\n",
    "p.disable()"
   ]
  },
  {
   "cell_type": "markdown",
   "metadata": {},
   "source": [
    "When we now `print_stats()`, notice the profiler reveals both the function signature `compute_pi_np(n:int)` and the array details `ndarray(dtype=float64, shape=(999999,)`."
   ]
  },
  {
   "cell_type": "code",
   "execution_count": null,
   "metadata": {
    "collapsed": false
   },
   "outputs": [],
   "source": [
    "p.print_stats()"
   ]
  },
  {
   "cell_type": "markdown",
   "metadata": {},
   "source": [
    "For another example, let us define a simple `dot()` function, and inspect the resulting print output for the `accelerate.profiler`"
   ]
  },
  {
   "cell_type": "code",
   "execution_count": null,
   "metadata": {
    "collapsed": true
   },
   "outputs": [],
   "source": [
    "import numpy as np\n",
    "\n",
    "def dot(a, b):\n",
    "    sum=0\n",
    "    for i in range(len(a)):\n",
    "        sum += a[i]*b[i]\n",
    "    return sum"
   ]
  },
  {
   "cell_type": "code",
   "execution_count": null,
   "metadata": {
    "collapsed": false
   },
   "outputs": [],
   "source": [
    "# prepare data\n",
    "a = np.arange(16, dtype=np.float32)\n",
    "b = np.arange(16, dtype=np.float32)"
   ]
  },
  {
   "cell_type": "code",
   "execution_count": null,
   "metadata": {
    "collapsed": true
   },
   "outputs": [],
   "source": [
    "from accelerate import profiler"
   ]
  },
  {
   "cell_type": "code",
   "execution_count": null,
   "metadata": {
    "collapsed": true
   },
   "outputs": [],
   "source": [
    "# run profiler\n",
    "p = profiler.Profile() # add `signatures=False` to get the original behaviour\n",
    "p.enable()\n",
    "dot(a, b)\n",
    "p.disable()"
   ]
  },
  {
   "cell_type": "markdown",
   "metadata": {},
   "source": [
    "Notice that `print_stats()` reveals details about the numpy array in the function signature as `dot(a:ndarray(dtype=float32, shape=(16,)))`"
   ]
  },
  {
   "cell_type": "code",
   "execution_count": null,
   "metadata": {
    "collapsed": false
   },
   "outputs": [],
   "source": [
    "p.print_stats()"
   ]
  },
  {
   "cell_type": "markdown",
   "metadata": {},
   "source": [
    "# Visualizing Profiler Results"
   ]
  },
  {
   "cell_type": "markdown",
   "metadata": {},
   "source": [
    "Accelerate Profiler can also generate an ***interactive plot*** for visualizing code performance."
   ]
  },
  {
   "cell_type": "markdown",
   "metadata": {},
   "source": [
    "When looking at the visual output, mouse-over the visual segments, and notice that code run in the notebook is identified under the **`File:`** section:\n",
    "\n",
    "* `ipython-input-9` refers to `In [9]:`, the cell in which `dot()` was defined\n",
    "* `ipython-input-12` refers to `In [12]:`, the cell in which `dot()` was called and the profiler object was enabled."
   ]
  },
  {
   "cell_type": "code",
   "execution_count": null,
   "metadata": {
    "collapsed": false,
    "scrolled": false
   },
   "outputs": [],
   "source": [
    "profiler.plot(p)"
   ]
  },
  {
   "cell_type": "markdown",
   "metadata": {},
   "source": [
    "Calling the same function with different signatures will allow us to inspect how the results of the profiling depend on input type."
   ]
  },
  {
   "cell_type": "code",
   "execution_count": null,
   "metadata": {
    "collapsed": true
   },
   "outputs": [],
   "source": [
    "# prepare data\n",
    "a = np.arange(16, dtype=np.float32)\n",
    "b = np.arange(16, dtype=np.float64)\n",
    "c = a.reshape(2, 8)\n",
    "d = b.reshape(2, 8)"
   ]
  },
  {
   "cell_type": "code",
   "execution_count": null,
   "metadata": {
    "collapsed": false
   },
   "outputs": [],
   "source": [
    "# run profiler\n",
    "p = profiler.Profile()\n",
    "p.enable()\n",
    "dot(a, b)\n",
    "dot(c, d)\n",
    "p.disable()\n",
    "p.print_stats()"
   ]
  },
  {
   "cell_type": "markdown",
   "metadata": {},
   "source": [
    "Note: 2D dot spend most of the time."
   ]
  },
  {
   "cell_type": "code",
   "execution_count": null,
   "metadata": {
    "collapsed": false,
    "scrolled": false
   },
   "outputs": [],
   "source": [
    "profiler.plot(p)"
   ]
  },
  {
   "cell_type": "markdown",
   "metadata": {},
   "source": [
    "# Profiling Compiled Code"
   ]
  },
  {
   "cell_type": "markdown",
   "metadata": {},
   "source": [
    "The profiled performance may change from run to run. In particular, let's look at the profiling results of a block of code that uses the numba jit."
   ]
  },
  {
   "cell_type": "markdown",
   "metadata": {},
   "source": [
    "Define a simple `count()` function:"
   ]
  },
  {
   "cell_type": "code",
   "execution_count": null,
   "metadata": {
    "collapsed": false
   },
   "outputs": [],
   "source": [
    "def count(n):\n",
    "    c = 0\n",
    "    for i in range(n):\n",
    "        c += i\n",
    "    return c"
   ]
  },
  {
   "cell_type": "markdown",
   "metadata": {},
   "source": [
    "Now wrap this `count()` with the number jit:"
   ]
  },
  {
   "cell_type": "code",
   "execution_count": null,
   "metadata": {
    "collapsed": true
   },
   "outputs": [],
   "source": [
    "# create is the jit-compiled version of count\n",
    "from numba import jit\n",
    "jit_count = jit(count)"
   ]
  },
  {
   "cell_type": "markdown",
   "metadata": {},
   "source": [
    "Define a function that will run both `count()` and `jit_count()`:"
   ]
  },
  {
   "cell_type": "code",
   "execution_count": null,
   "metadata": {
    "collapsed": false
   },
   "outputs": [],
   "source": [
    "def run_both(n=100000):\n",
    "    count(n)        # run interpreted version\n",
    "    jit_count(n)    # run jitted version"
   ]
  },
  {
   "cell_type": "markdown",
   "metadata": {},
   "source": [
    "**Run the profile cell once**\n",
    "\n",
    "During the first execution of the cell above, the `jit_count()` function is being compiled.  \n",
    "\n",
    "The compilation dominates the execution time. Look for `CPUDsipatcher.compile()` in the mouse-overs of the visualize profiler results."
   ]
  },
  {
   "cell_type": "code",
   "execution_count": null,
   "metadata": {
    "collapsed": false
   },
   "outputs": [],
   "source": [
    "p = profiler.Profile()\n",
    "p.enable()\n",
    "run_both()\n",
    "p.disable()\n",
    "profiler.plot(p)"
   ]
  },
  {
   "cell_type": "markdown",
   "metadata": {},
   "source": [
    "**Run the profie cell again, below,** and you will see that _numba_ is using the **previously compiled** function and the pure python `count()` function now dominates the execution time."
   ]
  },
  {
   "cell_type": "code",
   "execution_count": null,
   "metadata": {
    "collapsed": false
   },
   "outputs": [],
   "source": [
    "p = profiler.Profile()\n",
    "p.enable()\n",
    "run_both()\n",
    "p.disable()\n",
    "profiler.plot(p)"
   ]
  },
  {
   "cell_type": "markdown",
   "metadata": {},
   "source": [
    "---\n",
    "*Copyright Continuum 2012-2016 All Rights Reserved.*"
   ]
  }
 ],
 "metadata": {
  "anaconda-cloud": {},
  "kernelspec": {
   "display_name": "Python [conda env:iqt]",
   "language": "python",
   "name": "conda-env-iqt-py"
  },
  "language_info": {
   "codemirror_mode": {
    "name": "ipython",
    "version": 3
   },
   "file_extension": ".py",
   "mimetype": "text/x-python",
   "name": "python",
   "nbconvert_exporter": "python",
   "pygments_lexer": "ipython3",
   "version": "3.5.2"
  }
 },
 "nbformat": 4,
 "nbformat_minor": 0
}
