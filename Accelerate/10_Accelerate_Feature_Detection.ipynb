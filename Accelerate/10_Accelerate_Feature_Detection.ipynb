{
 "cells": [
  {
   "cell_type": "markdown",
   "metadata": {},
   "source": [
    "<img src='img/anaconda-logo.png' align='left' style=\"padding:10px\">\n",
    "<br>\n",
    "*Copyright Continuum 2012-2016 All Rights Reserved.*"
   ]
  },
  {
   "cell_type": "markdown",
   "metadata": {},
   "source": [
    "# Accelerate Feature Detection in Image Processing"
   ]
  },
  {
   "cell_type": "markdown",
   "metadata": {},
   "source": [
    "## Table of Contents\n",
    "* [CENSURE Keypoints Detector](#CENSURE-Keypoints-Detector)\n",
    "\t* [Detect keypoints](#Detect-keypoints)\n",
    "\t* [Extract & match descriptors at keypoints](#Extract-&-match-descriptors-at-keypoints)\n",
    "\t* [Estimate Transformation](#Estimate-Transformation)\n"
   ]
  },
  {
   "cell_type": "markdown",
   "metadata": {},
   "source": [
    "## Set-up"
   ]
  },
  {
   "cell_type": "code",
   "execution_count": null,
   "metadata": {
    "collapsed": false
   },
   "outputs": [],
   "source": [
    "from __future__ import print_function, division\n",
    "import skimage\n",
    "import skimage.io\n",
    "\n",
    "from skimage import data \n",
    "from skimage.transform import AffineTransform, warp\n",
    "\n",
    "from skimage.color import rgb2gray\n",
    "\n",
    "import numpy as np\n",
    "import matplotlib.pyplot as plt\n",
    "\n",
    "%matplotlib inline"
   ]
  },
  {
   "cell_type": "markdown",
   "metadata": {},
   "source": [
    "# CENSURE Keypoints Detector"
   ]
  },
  {
   "cell_type": "code",
   "execution_count": null,
   "metadata": {
    "collapsed": false
   },
   "outputs": [],
   "source": [
    "# Replaces `from skimage.feature import CENSURE`\n",
    "from accelerate_skimage.censure import CENSURE"
   ]
  },
  {
   "cell_type": "markdown",
   "metadata": {},
   "source": [
    "## Detect keypoints"
   ]
  },
  {
   "cell_type": "markdown",
   "metadata": {},
   "source": [
    "Original image"
   ]
  },
  {
   "cell_type": "code",
   "execution_count": null,
   "metadata": {
    "collapsed": false
   },
   "outputs": [],
   "source": [
    "img_orig = rgb2gray(data.astronaut())"
   ]
  },
  {
   "cell_type": "markdown",
   "metadata": {},
   "source": [
    "Detect keypoints"
   ]
  },
  {
   "cell_type": "code",
   "execution_count": null,
   "metadata": {
    "collapsed": true
   },
   "outputs": [],
   "source": [
    "# detect\n",
    "detector = CENSURE(mode=\"STAR\")\n",
    "detector.detect(img_orig)"
   ]
  },
  {
   "cell_type": "code",
   "execution_count": null,
   "metadata": {
    "collapsed": true
   },
   "outputs": [],
   "source": [
    "# copy the data\n",
    "keypts_orig = detector.keypoints.copy()\n",
    "scales_orig = detector.scales.copy()"
   ]
  },
  {
   "cell_type": "code",
   "execution_count": null,
   "metadata": {
    "collapsed": false
   },
   "outputs": [],
   "source": [
    "# plot the data\n",
    "plt.imshow(img_orig, cmap=plt.cm.gray)\n",
    "plt.axis('off')\n",
    "plt.scatter(detector.keypoints[:, 1], detector.keypoints[:, 0],\n",
    "            2 ** detector.scales, facecolors='none', edgecolors='r');"
   ]
  },
  {
   "cell_type": "markdown",
   "metadata": {},
   "source": [
    "Warped image"
   ]
  },
  {
   "cell_type": "code",
   "execution_count": null,
   "metadata": {
    "collapsed": false
   },
   "outputs": [],
   "source": [
    "tform = AffineTransform(scale=(1.05, 1.05), rotation=0.15, translation=(20, -70))\n",
    "img_warp = warp(img_orig, tform)"
   ]
  },
  {
   "cell_type": "code",
   "execution_count": null,
   "metadata": {
    "collapsed": false
   },
   "outputs": [],
   "source": [
    "# detect\n",
    "detector.detect(img_warp)\n",
    "\n",
    "# copy the data\n",
    "keypts_warp = detector.keypoints.copy()\n",
    "scales_warp = detector.scales.copy()\n",
    "\n",
    "# plot\n",
    "plt.imshow(img_warp, cmap=plt.cm.gray)\n",
    "plt.axis('off')\n",
    "plt.scatter(detector.keypoints[:, 1], detector.keypoints[:, 0],\n",
    "            2 ** detector.scales, facecolors='none', edgecolors='r');"
   ]
  },
  {
   "cell_type": "markdown",
   "metadata": {},
   "source": [
    "## Extract & match descriptors at keypoints "
   ]
  },
  {
   "cell_type": "code",
   "execution_count": null,
   "metadata": {
    "collapsed": true
   },
   "outputs": [],
   "source": [
    "from skimage.feature import BRIEF, match_descriptors, plot_matches"
   ]
  },
  {
   "cell_type": "markdown",
   "metadata": {},
   "source": [
    "Extract descriptors at the keypoints from the original image"
   ]
  },
  {
   "cell_type": "code",
   "execution_count": null,
   "metadata": {
    "collapsed": false
   },
   "outputs": [],
   "source": [
    "extractor = BRIEF(patch_size=10)\n",
    "extractor.extract(img_orig, keypts_orig)\n",
    "desc_orig = extractor.descriptors\n",
    "len(desc_orig)"
   ]
  },
  {
   "cell_type": "markdown",
   "metadata": {},
   "source": [
    "Extract descriptors at the keypoints from the wrapped image"
   ]
  },
  {
   "cell_type": "code",
   "execution_count": null,
   "metadata": {
    "collapsed": false
   },
   "outputs": [],
   "source": [
    "extractor.extract(img_warp, keypts_warp)\n",
    "desc_warp = extractor.descriptors\n",
    "len(desc_warp)"
   ]
  },
  {
   "cell_type": "markdown",
   "metadata": {},
   "source": [
    "Find matching descriptors from the two images"
   ]
  },
  {
   "cell_type": "code",
   "execution_count": null,
   "metadata": {
    "collapsed": false
   },
   "outputs": [],
   "source": [
    "matches = match_descriptors(desc_orig, desc_warp)\n",
    "len(matches)"
   ]
  },
  {
   "cell_type": "code",
   "execution_count": null,
   "metadata": {
    "collapsed": false
   },
   "outputs": [],
   "source": [
    "plot_matches(plt, img_orig, img_warp, keypts_orig, keypts_warp, matches)"
   ]
  },
  {
   "cell_type": "markdown",
   "metadata": {},
   "source": [
    "## Estimate Transformation "
   ]
  },
  {
   "cell_type": "markdown",
   "metadata": {},
   "source": [
    "We will use RANSAC to estimate the affine transformation used to produce the wrapped image."
   ]
  },
  {
   "cell_type": "code",
   "execution_count": null,
   "metadata": {
    "collapsed": true
   },
   "outputs": [],
   "source": [
    "from skimage.measure import ransac"
   ]
  },
  {
   "cell_type": "markdown",
   "metadata": {},
   "source": [
    "Prepare the keypoints as a numpy array"
   ]
  },
  {
   "cell_type": "code",
   "execution_count": null,
   "metadata": {
    "collapsed": false
   },
   "outputs": [],
   "source": [
    "src = []\n",
    "dst = []\n",
    "\n",
    "for s, d in matches:\n",
    "    src.append(keypts_orig[s])\n",
    "    dst.append(keypts_warp[d])\n",
    "    \n",
    "src = np.asarray(src)\n",
    "dst = np.asarray(dst)"
   ]
  },
  {
   "cell_type": "markdown",
   "metadata": {},
   "source": [
    "Run RANSAC to estimate the transformation"
   ]
  },
  {
   "cell_type": "code",
   "execution_count": null,
   "metadata": {
    "collapsed": false
   },
   "outputs": [],
   "source": [
    "%%time\n",
    "model, inliers = ransac((src, dst), AffineTransform, min_samples=5,\n",
    "                        residual_threshold=1, max_trials=30000)"
   ]
  },
  {
   "cell_type": "code",
   "execution_count": null,
   "metadata": {
    "collapsed": false
   },
   "outputs": [],
   "source": [
    "print('inliers', np.nonzero(inliers == True)[0].size)\n",
    "print(model.scale, model.translation, model.rotation)"
   ]
  },
  {
   "cell_type": "markdown",
   "metadata": {},
   "source": [
    "Create a new warp image using the esitmated transformation"
   ]
  },
  {
   "cell_type": "code",
   "execution_count": null,
   "metadata": {
    "collapsed": false
   },
   "outputs": [],
   "source": [
    "img_result = warp(img_orig, model)"
   ]
  },
  {
   "cell_type": "code",
   "execution_count": null,
   "metadata": {
    "collapsed": false
   },
   "outputs": [],
   "source": [
    "plt.imshow(img_result, cmap=plt.cm.gray)\n",
    "plt.axis('off')"
   ]
  },
  {
   "cell_type": "markdown",
   "metadata": {},
   "source": [
    "Plot the difference"
   ]
  },
  {
   "cell_type": "code",
   "execution_count": null,
   "metadata": {
    "collapsed": false
   },
   "outputs": [],
   "source": [
    "plt.imshow(img_result - img_warp, cmap=plt.cm.gray)\n",
    "plt.axis('off')"
   ]
  },
  {
   "cell_type": "markdown",
   "metadata": {},
   "source": [
    "Show descriptors that matches between the original and wrapped image"
   ]
  },
  {
   "cell_type": "code",
   "execution_count": null,
   "metadata": {
    "collapsed": false
   },
   "outputs": [],
   "source": [
    "inlier_idxs = np.nonzero(inliers)[0]\n",
    "plot_matches(plt, img_orig, img_warp, src, dst,\n",
    "             np.column_stack((inlier_idxs, inlier_idxs)), matches_color='b')"
   ]
  },
  {
   "cell_type": "markdown",
   "metadata": {},
   "source": [
    "Show descriptors that didn't match between the original and wrapped image"
   ]
  },
  {
   "cell_type": "code",
   "execution_count": null,
   "metadata": {
    "collapsed": false
   },
   "outputs": [],
   "source": [
    "outlier_idxs = np.nonzero(inliers == False)[0]\n",
    "plot_matches(plt, img_orig, img_warp, src, dst,\n",
    "             np.column_stack((outlier_idxs, outlier_idxs)), matches_color='r')"
   ]
  },
  {
   "cell_type": "markdown",
   "metadata": {},
   "source": [
    "---\n",
    "*Copyright Continuum 2012-2016 All Rights Reserved.*"
   ]
  }
 ],
 "metadata": {
  "anaconda-cloud": {},
  "kernelspec": {
   "display_name": "Python [conda env:iqt]",
   "language": "python",
   "name": "conda-env-iqt-py"
  },
  "language_info": {
   "codemirror_mode": {
    "name": "ipython",
    "version": 3
   },
   "file_extension": ".py",
   "mimetype": "text/x-python",
   "name": "python",
   "nbconvert_exporter": "python",
   "pygments_lexer": "ipython3",
   "version": "3.5.2"
  }
 },
 "nbformat": 4,
 "nbformat_minor": 0
}
