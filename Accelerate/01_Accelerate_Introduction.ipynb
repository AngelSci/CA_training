{
 "cells": [
  {
   "cell_type": "markdown",
   "metadata": {},
   "source": [
    "<img src='img/anaconda-logo.png' align='left' style=\"padding:10px\">\n",
    "<br>\n",
    "*Copyright Continuum 2012-2016 All Rights Reserved.*"
   ]
  },
  {
   "cell_type": "markdown",
   "metadata": {},
   "source": [
    "# Anaconda Accelerate: Introduction"
   ]
  },
  {
   "cell_type": "markdown",
   "metadata": {},
   "source": [
    "Anaconda Accelerate opens up the **full capabilities of your GPU or multi-core processor** to the Python programming language. \n",
    "\n",
    "* Accelerate provides **access to numerical libraries optimized for performance** on Intel CPUs and NVidia GPUs.\n",
    "\n",
    "* **Common operations** like linear algebra, random-number generation, and Fourier transforms **run faster**, and take advantage of multiple cores. \n",
    "\n",
    "* Continuum’s Python-to-GPU compiler, NumbaPro, **compiles easy-to-read Python code** to many-core and GPU architectures.\n",
    "\n",
    "* Anaconda Accelerate is an **add-on for Anaconda**, the completely free enterprise-ready Python distribution from Continuum Analytics, designed for large-scale data processing, predictive analytics, and scientific computing."
   ]
  },
  {
   "cell_type": "markdown",
   "metadata": {},
   "source": [
    "## Table of Contents\n",
    "* [Anaconda Accelerate: Introduction](#Anaconda-Accelerate:-Introduction)\n",
    "\t* [General Features](#General-Features)\n",
    "\t* [GPU Features](#GPU-Features)\n",
    "* [Set Up](#Set-Up)\n",
    "\t* [Requirements](#Requirements)\n",
    "\t* [Installation](#Installation)\n",
    "\t* [Updates](#Updates)\n"
   ]
  },
  {
   "cell_type": "markdown",
   "metadata": {},
   "source": [
    "## General Features"
   ]
  },
  {
   "cell_type": "markdown",
   "metadata": {},
   "source": [
    "* Faster linear algebra operations in NumPy, SciPy, scikit-learn and NumExpr libraries using Intel’s Math Kernel Library (MKL).\n",
    "* Faster Fast Fourier Transformations (FFT) in NumPy.\n",
    "* Faster vectorized operations with Numpy from faster variants of Numpy’s built-in UFuncs.\n",
    "* NumbaPro compiler targets multi-core CPU and GPUs directly from simple Python syntax\n",
    "* Use multiple threads without worrying about the GIL"
   ]
  },
  {
   "cell_type": "markdown",
   "metadata": {},
   "source": [
    "## GPU Features"
   ]
  },
  {
   "cell_type": "markdown",
   "metadata": {},
   "source": [
    "* Easily move vectorized NumPy functions to the GPU\n",
    "* Bindings to CUDA libraries: cuBLAS, cuFFT, cuSPARSE, cuRAND, and sorting algorithms from the CUB and Modern GPU libraries\n",
    "* CUDA-Python library for writing arbitrary CUDA code with Python (including thread synchronization and shared memory allocation) including multiple CUDA device support\n",
    "* Multiple CUDA device support"
   ]
  },
  {
   "cell_type": "markdown",
   "metadata": {},
   "source": [
    "# Set Up"
   ]
  },
  {
   "cell_type": "markdown",
   "metadata": {},
   "source": [
    "## Requirements"
   ]
  },
  {
   "cell_type": "markdown",
   "metadata": {},
   "source": [
    "For all features:\n",
    "\n",
    "* 64-bit operating system: Linux, OS X or Windows\n",
    "* Supported Python and Numpy combinations:\n",
    "    * Python 2.7 with Numpy 1.9 or 1.10\n",
    "    * Python 3.4 with Numpy 1.9 or 1.10\n",
    "    * Python 3.5 with Numpy 1.9 or 1.10\n",
    "    * Numba 0.24\n",
    "\n",
    "For the CUDA features:\n",
    "\n",
    "* NVidia driver version 349.00 or later\n",
    "* CUDA toolkit 7.0\n",
    "* At least one CUDA GPU with compute capability 2.0 or above"
   ]
  },
  {
   "cell_type": "markdown",
   "metadata": {},
   "source": [
    "## Installation"
   ]
  },
  {
   "cell_type": "markdown",
   "metadata": {},
   "source": [
    "* Accelerate is included with Anaconda Workgroup and Anaconda Enterprise subscriptions.\n",
    "\n",
    "* To start a 30-day free trial just download and install the Anaconda Accelerate package.\n",
    "\n",
    "* If you already have Anaconda (free Python distribution) installed:"
   ]
  },
  {
   "cell_type": "markdown",
   "metadata": {},
   "source": [
    "```bash\n",
    "conda update conda\n",
    "conda install accelerate\n",
    "```"
   ]
  },
  {
   "cell_type": "markdown",
   "metadata": {},
   "source": [
    "## Updates"
   ]
  },
  {
   "cell_type": "markdown",
   "metadata": {},
   "source": [
    "If you have Anaconda (free Python distribution) installed:"
   ]
  },
  {
   "cell_type": "markdown",
   "metadata": {},
   "source": [
    "```bash\n",
    "conda update conda\n",
    "conda update accelerate\n",
    "```"
   ]
  },
  {
   "cell_type": "markdown",
   "metadata": {},
   "source": [
    "---\n",
    "*Copyright Continuum 2012-2016 All Rights Reserved.*"
   ]
  }
 ],
 "metadata": {
  "anaconda-cloud": {},
  "kernelspec": {
   "display_name": "Python [conda env:iqt]",
   "language": "python",
   "name": "conda-env-iqt-py"
  },
  "language_info": {
   "codemirror_mode": {
    "name": "ipython",
    "version": 3
   },
   "file_extension": ".py",
   "mimetype": "text/x-python",
   "name": "python",
   "nbconvert_exporter": "python",
   "pygments_lexer": "ipython3",
   "version": "3.5.2"
  }
 },
 "nbformat": 4,
 "nbformat_minor": 0
}
