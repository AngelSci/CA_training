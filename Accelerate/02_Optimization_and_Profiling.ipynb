{
 "cells": [
  {
   "cell_type": "markdown",
   "metadata": {},
   "source": [
    "<img src='img/anaconda-logo.png' align='left' style=\"padding:10px\">\n",
    "<br>\n",
    "*Copyright Continuum 2012-2016 All Rights Reserved.*"
   ]
  },
  {
   "cell_type": "markdown",
   "metadata": {},
   "source": [
    "# Optimization and Profiling"
   ]
  },
  {
   "cell_type": "markdown",
   "metadata": {},
   "source": [
    "To appreciate what Anaconda Accelerate provides, it is useful to start by considering some general aspects of optimization and profiling, and to quickly review the profiling modules available in core Python."
   ]
  },
  {
   "cell_type": "markdown",
   "metadata": {},
   "source": [
    "## Table of Contents\n",
    "* [Optimization and Profiling](#Optimization-and-Profiling)\n",
    "* [Only after the code has been identified...](#Only-after-the-code-has-been-identified...)\n",
    "* [Profiling Tools in Python](#Profiling-Tools-in-Python)\n",
    "\t* [The Sample Code](#The-Sample-Code)\n",
    "\t* [timeit](#timeit)\n",
    "\t* [cProfile](#cProfile)\n",
    "\t* [`line_profiler`](#line_profiler)\n",
    "\t* [`memory_profiler`](#memory_profiler)\n",
    "* [Example: Profiling Computation of $\\pi$](#Example:-Profiling-Computation-of-$\\pi$)\n",
    "\t* [Pure Python Implementation](#Pure-Python-Implementation)\n",
    "\t* [Numpy Implementation](#Numpy-Implementation)\n",
    "* [Profiling with Accelerate](#Profiling-with-Accelerate)\n"
   ]
  },
  {
   "cell_type": "markdown",
   "metadata": {},
   "source": [
    "# Only after the code has been identified..."
   ]
  },
  {
   "cell_type": "markdown",
   "metadata": {},
   "source": [
    "Profiling answers the questions:\n",
    "\n",
    "* When do I need to optimize?\n",
    "* Where do I need to optimize?\n",
    "\n",
    "A strong arguement can be made that the answer to the first is \"only when you have an answer to the second\"... and this answer comes from profiling."
   ]
  },
  {
   "cell_type": "markdown",
   "metadata": {},
   "source": [
    "> *\"We should forget about small efficiencies, say about 97% of the time: Premature optimization is the root of all evil. Yet we should not pass up our opportunities in that critical 3%. A good programmer will not be lulled into complacency by such reasoning, he will be wise to look carefully at the critical code; but only after that code has been identified\"\"\n",
    "    -- Donald Knuth (who attributed the observation to Tony Hoare)*"
   ]
  },
  {
   "cell_type": "markdown",
   "metadata": {},
   "source": [
    "# Profiling Tools in Python"
   ]
  },
  {
   "cell_type": "markdown",
   "metadata": {},
   "source": [
    "Profiling reveals resources that were used to perform the computation: \n",
    "\n",
    "* Where was time spent, how much time was spent?\n",
    "* How much time is spent in each function?\n",
    "* How many times each function was called?\n",
    "* How much memory was used?"
   ]
  },
  {
   "cell_type": "markdown",
   "metadata": {},
   "source": [
    "Different profiling tools help us address different kinds of optimization:"
   ]
  },
  {
   "cell_type": "markdown",
   "metadata": {},
   "source": [
    "* Time Profiling\n",
    "  * Functions\n",
    "  * Lines\n",
    "* Memory Profiling\n",
    "* Disk Profiling"
   ]
  },
  {
   "cell_type": "markdown",
   "metadata": {},
   "source": [
    "Some of the most commonly used profiling tools available in core Python:\n",
    " * `%%timeit`\n",
    " * `cProfile`\n",
    " * `line_profiler`\n",
    " * `memory_profiler`"
   ]
  },
  {
   "cell_type": "markdown",
   "metadata": {},
   "source": [
    "## The Sample Code"
   ]
  },
  {
   "cell_type": "markdown",
   "metadata": {},
   "source": [
    "We need some sample code to demonstrate various profiler tools.\n",
    "\n",
    "Outline of sample code:\n",
    "\n",
    "* create a list based on an input `size`\n",
    "* iterate from start to end of the list, computing the sum to the end\n",
    "* sum the sums"
   ]
  },
  {
   "cell_type": "code",
   "execution_count": null,
   "metadata": {
    "collapsed": false
   },
   "outputs": [],
   "source": [
    "size = 10\n",
    "ints = list(range(size))\n",
    "print( ints )"
   ]
  },
  {
   "cell_type": "code",
   "execution_count": null,
   "metadata": {
    "collapsed": false
   },
   "outputs": [],
   "source": [
    "sums = []\n",
    "\n",
    "for index in range(size):\n",
    "    sum_to_end = sum(ints[index:])\n",
    "    print( sum_to_end )\n",
    "    sums.append( sum_to_end )"
   ]
  },
  {
   "cell_type": "code",
   "execution_count": null,
   "metadata": {
    "collapsed": false
   },
   "outputs": [],
   "source": [
    "print(sum(sums))"
   ]
  },
  {
   "cell_type": "markdown",
   "metadata": {},
   "source": [
    "The sample python file `src/profiling.py` contains such code: load it to inspect the source before applying different profiling tools."
   ]
  },
  {
   "cell_type": "markdown",
   "metadata": {
    "collapsed": true
   },
   "source": [
    "Open <a href='../../edit/Accelerate/src/profiling.py'>./src/profiling.py</a>"
   ]
  },
  {
   "cell_type": "markdown",
   "metadata": {},
   "source": [
    "Notice the use of `builtins` and the `@profile` decorator"
   ]
  },
  {
   "cell_type": "markdown",
   "metadata": {
    "collapsed": false
   },
   "source": [
    "```python\n",
    "import builtins\n",
    "profile = getattr(builtins, \"profile\", lambda x: x)\n",
    "help(getattr)\n",
    "```"
   ]
  },
  {
   "cell_type": "markdown",
   "metadata": {},
   "source": [
    "Notice the use of `__name__`"
   ]
  },
  {
   "cell_type": "markdown",
   "metadata": {
    "collapsed": true
   },
   "source": [
    "```python\n",
    "if __name__ == \"__main__\":\n",
    "    sum_of_sums()\n",
    "```"
   ]
  },
  {
   "cell_type": "markdown",
   "metadata": {},
   "source": [
    "## timeit"
   ]
  },
  {
   "cell_type": "markdown",
   "metadata": {},
   "source": [
    "A feature of the Jupyter notebook, `timeit` reports the execution time:\n",
    "\n",
    "* **`%timeit`** for a single line. (single `%`)\n",
    "* **`%%timeit`** for an entire code cell. (double `%%`)"
   ]
  },
  {
   "cell_type": "code",
   "execution_count": null,
   "metadata": {
    "collapsed": false
   },
   "outputs": [],
   "source": [
    "%%timeit\n",
    "\n",
    "import builtins\n",
    "profile = getattr(builtins, \"profile\", lambda x: x)\n",
    "\n",
    "@profile\n",
    "def sum_of_sums(size=20000):\n",
    "    ints = list(range(size))\n",
    "    sums = []\n",
    "    for index in range(size):\n",
    "        sum_to_end=sum(ints[index:])\n",
    "        sums.append(sum_to_end)\n",
    "\n",
    "if __name__ == \"__main__\":\n",
    "    sum_of_sums()"
   ]
  },
  {
   "cell_type": "markdown",
   "metadata": {},
   "source": [
    "## cProfile"
   ]
  },
  {
   "cell_type": "markdown",
   "metadata": {},
   "source": [
    "**`cProfile`** tracks every time a function is called or returns. This means that if you have many calls to short-running functions, `cProfile` will drastically slow down the application."
   ]
  },
  {
   "cell_type": "markdown",
   "metadata": {},
   "source": [
    "**`cProfile`** is included in Python and can be used in a number of ways\n",
    "1. From the command-line to profile and entire application\n",
    "2. From IPython to profile an application or cell\n",
    "3. To profile specific snippets of code"
   ]
  },
  {
   "cell_type": "markdown",
   "metadata": {},
   "source": [
    "Now let's run it again, but this time, we will profile it using `cProfile`:"
   ]
  },
  {
   "cell_type": "code",
   "execution_count": null,
   "metadata": {
    "collapsed": false
   },
   "outputs": [],
   "source": [
    "!python -m cProfile src/profiling.py"
   ]
  },
  {
   "cell_type": "code",
   "execution_count": null,
   "metadata": {
    "collapsed": false
   },
   "outputs": [],
   "source": [
    "# An alternate method of running the code from the notebook:\n",
    "%run -p src/profiling.py"
   ]
  },
  {
   "cell_type": "markdown",
   "metadata": {},
   "source": [
    "Based on the `tottime` column, it appears to spend the most time in `sum()`, and the second most in the function which wraps to the call to `sum()`."
   ]
  },
  {
   "cell_type": "markdown",
   "metadata": {},
   "source": [
    "Instead of relying on he command line, we can profile by adding the import of `cProfile` to the script and construct a `Profile` object."
   ]
  },
  {
   "cell_type": "code",
   "execution_count": null,
   "metadata": {
    "collapsed": false
   },
   "outputs": [],
   "source": [
    "import cProfile\n",
    "\n",
    "def sum_of_sums(size=20000):\n",
    "    ints = list(range(size))\n",
    "    sums = []\n",
    "    for index in range(size):\n",
    "        sum_to_end=sum(ints[index:])\n",
    "        sums.append(sum_to_end)\n",
    "\n",
    "if __name__ == \"__main__\":\n",
    "    profiler = cProfile.Profile()\n",
    "    profiler.enable()\n",
    "\n",
    "    sum_of_sums()\n",
    "\n",
    "    profiler.disable()\n",
    "    profiler.print_stats(sort=\"tottime\")"
   ]
  },
  {
   "cell_type": "markdown",
   "metadata": {},
   "source": [
    "## `line_profiler`"
   ]
  },
  {
   "cell_type": "markdown",
   "metadata": {},
   "source": [
    "**`line_profiler`** tracks and reports on each line of code executed, not just function calls."
   ]
  },
  {
   "cell_type": "markdown",
   "metadata": {},
   "source": [
    "To install `line_profiler`, uncomment and run the following command:"
   ]
  },
  {
   "cell_type": "code",
   "execution_count": null,
   "metadata": {
    "collapsed": true
   },
   "outputs": [],
   "source": [
    "# !conda env list"
   ]
  },
  {
   "cell_type": "code",
   "execution_count": null,
   "metadata": {
    "collapsed": false
   },
   "outputs": [],
   "source": [
    "# !conda install line_profiler -y"
   ]
  },
  {
   "cell_type": "markdown",
   "metadata": {},
   "source": [
    "The install of `line_profiler` comes with a wrapper script called `kernprof.py`; you may run it as follows:"
   ]
  },
  {
   "cell_type": "code",
   "execution_count": null,
   "metadata": {
    "collapsed": false
   },
   "outputs": [],
   "source": [
    "!kernprof --help"
   ]
  },
  {
   "cell_type": "markdown",
   "metadata": {},
   "source": [
    "The simplest way to run `line_profiler` is to use the `kernprof` wrapper as follows:\n",
    "* create a `file.py` you wish to profile\n",
    "    * no need for any `@profile` decorator\n",
    "* run the command **`kernprof -l -v file.py`** in your system shell\n",
    "    * **`-l`** option will inject the `@profile` decorator into your script builtins\n",
    "    * **`-v`** option will display timing information"
   ]
  },
  {
   "cell_type": "code",
   "execution_count": null,
   "metadata": {
    "collapsed": false
   },
   "outputs": [],
   "source": [
    "!kernprof -l -v src/profiling.py"
   ]
  },
  {
   "cell_type": "markdown",
   "metadata": {},
   "source": [
    "This method will write an intermediate file `profile.py.lprof` to disk. Remove it when you're finsihed profiling:"
   ]
  },
  {
   "cell_type": "code",
   "execution_count": null,
   "metadata": {
    "collapsed": false
   },
   "outputs": [],
   "source": [
    "import os\n",
    "import glob\n",
    "for file in glob.glob(\"*.lprof\"):\n",
    "    os.remove(file)"
   ]
  },
  {
   "cell_type": "markdown",
   "metadata": {},
   "source": [
    "An alternate method is to run `line_profiler` as a 2-step process:\n",
    "\n",
    "1. run **`kernprof`** to generate an `lprof` file\n",
    "2. run **`line_profiler`** using an `lprof` file as input"
   ]
  },
  {
   "cell_type": "code",
   "execution_count": null,
   "metadata": {
    "collapsed": false
   },
   "outputs": [],
   "source": [
    "if os.path.exists(\"./tmp\"):\n",
    "    for file in glob.glob(\"*.lprof\"):\n",
    "        os.remove(file)\n",
    "else:\n",
    "    os.mkdir(\"./tmp\")"
   ]
  },
  {
   "cell_type": "code",
   "execution_count": null,
   "metadata": {
    "collapsed": false
   },
   "outputs": [],
   "source": [
    "# Step 1:\n",
    "!kernprof -l -o tmp/profiling.py.lprof src/profiling.py"
   ]
  },
  {
   "cell_type": "code",
   "execution_count": null,
   "metadata": {
    "collapsed": false
   },
   "outputs": [],
   "source": [
    "# Step 2:\n",
    "!python -m line_profiler tmp/profiling.py.lprof"
   ]
  },
  {
   "cell_type": "markdown",
   "metadata": {},
   "source": [
    "Alternatively, the `line_profiler` can be called from the Jupyter Notebook using the `%lprun` magic."
   ]
  },
  {
   "cell_type": "code",
   "execution_count": null,
   "metadata": {
    "collapsed": true
   },
   "outputs": [],
   "source": [
    "%load_ext line_profiler"
   ]
  },
  {
   "cell_type": "code",
   "execution_count": null,
   "metadata": {
    "collapsed": true
   },
   "outputs": [],
   "source": [
    "%lprun -f sum_of_sums sum_of_sums()"
   ]
  },
  {
   "cell_type": "markdown",
   "metadata": {},
   "source": [
    "## `memory_profiler`"
   ]
  },
  {
   "cell_type": "markdown",
   "metadata": {},
   "source": [
    "This pure python module provides:\n",
    "\n",
    "* reporting on **process** memory consumption\n",
    "* reporting on **line-by-line** memory consumption"
   ]
  },
  {
   "cell_type": "markdown",
   "metadata": {},
   "source": [
    "To install `memory_profiler`, uncomment and run the following cells:"
   ]
  },
  {
   "cell_type": "code",
   "execution_count": null,
   "metadata": {
    "collapsed": false
   },
   "outputs": [],
   "source": [
    "# !conda env list"
   ]
  },
  {
   "cell_type": "code",
   "execution_count": null,
   "metadata": {
    "collapsed": false
   },
   "outputs": [],
   "source": [
    "# !conda install memory_profiler -y"
   ]
  },
  {
   "cell_type": "markdown",
   "metadata": {},
   "source": [
    "The line-by-line memory usage mode is used like `line_profiler`:\n",
    "* first decorate the function you would like to profile with @profile\n",
    "* then run the script with th python interpreter.\n",
    "\n",
    "In this case, we use the `-m` flag to tell python to `import` the `memory_profiler` module."
   ]
  },
  {
   "cell_type": "code",
   "execution_count": null,
   "metadata": {
    "collapsed": false
   },
   "outputs": [],
   "source": [
    "!python -m memory_profiler src/profiling.py"
   ]
  },
  {
   "cell_type": "markdown",
   "metadata": {},
   "source": [
    "Loading the `memory_profiler` module enables the `%memit` Jupyter magic"
   ]
  },
  {
   "cell_type": "code",
   "execution_count": null,
   "metadata": {
    "collapsed": true
   },
   "outputs": [],
   "source": [
    "%load_ext memory_profiler"
   ]
  },
  {
   "cell_type": "code",
   "execution_count": null,
   "metadata": {
    "collapsed": false
   },
   "outputs": [],
   "source": [
    "%memit sum_of_sums()"
   ]
  },
  {
   "cell_type": "markdown",
   "metadata": {},
   "source": [
    "How to read the columns in the output:\n",
    "* **Line #** is the line number of the code that has been profiled\n",
    "* **Mem usage** is the memory usage of the Python interpreter after that line has been executed. \n",
    "* **Increment** is the difference in memory of the current line with respect to the last one. \n",
    "* **Line Contents** is the code that has been profiled."
   ]
  },
  {
   "cell_type": "markdown",
   "metadata": {},
   "source": [
    "# Example: Profiling Computation of $\\pi$"
   ]
  },
  {
   "cell_type": "markdown",
   "metadata": {},
   "source": [
    "John Wallis in 1655 determined that $\\pi$ could be computed as a product of ratios\n",
    "\n",
    "$$\\pi = 2\\prod_{i=1}^{\\infty}\\frac{4i^2}{4i^2-1}$$"
   ]
  },
  {
   "cell_type": "markdown",
   "metadata": {},
   "source": [
    "Let's profile two different implementations: pure python and numpy, both computing 1 million terms in the product."
   ]
  },
  {
   "cell_type": "markdown",
   "metadata": {},
   "source": [
    "## Pure Python Implementation"
   ]
  },
  {
   "cell_type": "markdown",
   "metadata": {},
   "source": [
    "Inspect the source file before execution:"
   ]
  },
  {
   "cell_type": "markdown",
   "metadata": {},
   "source": [
    "Open <a href='../../edit/Accelerate/src/piLoop.py'>./src/piLoop.py</a>"
   ]
  },
  {
   "cell_type": "code",
   "execution_count": null,
   "metadata": {
    "collapsed": false
   },
   "outputs": [],
   "source": [
    "def piLoop(n):\n",
    "    pi = 2.0\n",
    "    for i in range(1,n):\n",
    "        tmp = 4*i**2\n",
    "        pi*=tmp/(tmp-1)\n",
    "    return pi\n",
    "\n",
    "N=int(1e6)\n",
    "piLoop(N)"
   ]
  },
  {
   "cell_type": "markdown",
   "metadata": {},
   "source": [
    "Profiling the total execution time with `timeit`:"
   ]
  },
  {
   "cell_type": "code",
   "execution_count": null,
   "metadata": {
    "collapsed": false
   },
   "outputs": [],
   "source": [
    "%timeit piLoop(int(1e6))"
   ]
  },
  {
   "cell_type": "markdown",
   "metadata": {},
   "source": [
    "Profiling function calls with `cProfile`:"
   ]
  },
  {
   "cell_type": "code",
   "execution_count": null,
   "metadata": {
    "collapsed": false
   },
   "outputs": [],
   "source": [
    "!python -m cProfile src/piLoop.py 1000000"
   ]
  },
  {
   "cell_type": "markdown",
   "metadata": {},
   "source": [
    "Profiling every line with `line_profiler`:"
   ]
  },
  {
   "cell_type": "code",
   "execution_count": null,
   "metadata": {
    "collapsed": false
   },
   "outputs": [],
   "source": [
    "!kernprof -l -o tmp/piLoop.py.lprof src/piLoop.py 1000000"
   ]
  },
  {
   "cell_type": "code",
   "execution_count": null,
   "metadata": {
    "collapsed": false
   },
   "outputs": [],
   "source": [
    "!python -m line_profiler tmp/piLoop.py.lprof"
   ]
  },
  {
   "cell_type": "code",
   "execution_count": null,
   "metadata": {
    "collapsed": true
   },
   "outputs": [],
   "source": [
    "%lprun -f piLoop piLoop(int(1e6))"
   ]
  },
  {
   "cell_type": "markdown",
   "metadata": {},
   "source": [
    "Profiling memory usage with `memory_profiler`:"
   ]
  },
  {
   "cell_type": "code",
   "execution_count": null,
   "metadata": {
    "collapsed": false
   },
   "outputs": [],
   "source": [
    "!python -m memory_profiler src/piLoop.py 1000000"
   ]
  },
  {
   "cell_type": "markdown",
   "metadata": {},
   "source": [
    "## Numpy Implementation"
   ]
  },
  {
   "cell_type": "markdown",
   "metadata": {},
   "source": [
    "The point of vectorizing with NumPy is to be able to...\n",
    "1. apply the same operation to a bunch of input...\n",
    "2. efficiently (i.e. without having to manually and inefficiently loop over the input) ...\n",
    "3. and quickly (many NumPy operations are implemented in C)\n",
    "\n",
    "Other reasons to use NumPy and vectorization\n",
    "1. More efficient use of memory\n",
    "  * Python lists are pointers \"all the way down\"\n",
    "2. Direct access to the data\n",
    "  * Python lists are actually lists of pointers to thing\n",
    "  * NumPy arrays actually contain the data\n",
    "3. Simplified code"
   ]
  },
  {
   "cell_type": "code",
   "execution_count": null,
   "metadata": {
    "collapsed": false
   },
   "outputs": [],
   "source": [
    "import numpy as np\n",
    "\n",
    "def piArray(n):\n",
    "    series=np.arange(1,n)**2*4.\n",
    "    series/=(series-1)\n",
    "    return 2.*series.prod()\n",
    "\n",
    "piArray(int(1e6))"
   ]
  },
  {
   "cell_type": "markdown",
   "metadata": {},
   "source": [
    "Profiling the total execution time with `timeit`:"
   ]
  },
  {
   "cell_type": "code",
   "execution_count": null,
   "metadata": {
    "collapsed": false
   },
   "outputs": [],
   "source": [
    "%timeit piArray(int(1e6))"
   ]
  },
  {
   "cell_type": "markdown",
   "metadata": {},
   "source": [
    "In order to profile with `cProfile` and others, we need to add some code and write to disk:"
   ]
  },
  {
   "cell_type": "code",
   "execution_count": null,
   "metadata": {
    "collapsed": false
   },
   "outputs": [],
   "source": [
    "%%writefile tmp/numpy_piArray.py\n",
    "\n",
    "import sys\n",
    "import builtins\n",
    "profile = getattr(builtins, \"profile\", lambda x: x)\n",
    "\n",
    "import numpy as np\n",
    "\n",
    "@profile\n",
    "def piArray(n):\n",
    "    series=np.arange(1,n)**2*4.\n",
    "    series/=(series-1)\n",
    "    return 2.*series.prod()\n",
    "\n",
    "if __name__ == \"__main__\":\n",
    "    print(piArray(int(sys.argv[1])))\n"
   ]
  },
  {
   "cell_type": "markdown",
   "metadata": {},
   "source": [
    "Profiling the funciton call times of the numpy implementation with `cProfile`:"
   ]
  },
  {
   "cell_type": "code",
   "execution_count": null,
   "metadata": {
    "collapsed": false
   },
   "outputs": [],
   "source": [
    "!python -m cProfile tmp/numpy_piArray.py 1000000"
   ]
  },
  {
   "cell_type": "markdown",
   "metadata": {},
   "source": [
    "Profiling the time spent per line of code in the numpy implementation with `line_profiler`:"
   ]
  },
  {
   "cell_type": "code",
   "execution_count": null,
   "metadata": {
    "collapsed": false
   },
   "outputs": [],
   "source": [
    "!kernprof -l -o tmp/numpy_piArray.py.lprof tmp/numpy_piArray.py 1000000"
   ]
  },
  {
   "cell_type": "code",
   "execution_count": null,
   "metadata": {
    "collapsed": false
   },
   "outputs": [],
   "source": [
    "!python -m line_profiler tmp/numpy_piArray.py.lprof"
   ]
  },
  {
   "cell_type": "markdown",
   "metadata": {},
   "source": [
    "Profiling the memory usage of the numpy implementation with `memory_profiler`:"
   ]
  },
  {
   "cell_type": "code",
   "execution_count": null,
   "metadata": {
    "collapsed": false
   },
   "outputs": [],
   "source": [
    "!python -m memory_profiler tmp/numpy_piArray.py 100000"
   ]
  },
  {
   "cell_type": "markdown",
   "metadata": {},
   "source": [
    "For a comparison of the memory use differences, let's look at a python list versus a numpy ndarray:"
   ]
  },
  {
   "cell_type": "code",
   "execution_count": null,
   "metadata": {
    "collapsed": false
   },
   "outputs": [],
   "source": [
    "# Use of memory:\n",
    "\n",
    "import sys\n",
    "import numpy as np\n",
    "\n",
    "size = 1000000\n",
    "l = list(range(1000000))\n",
    "print(\"Bytes used by list:\", sys.getsizeof(l))\n",
    "print(\"Plus bytes used by list elements:\", sys.getsizeof(l[0])*len(l))\n",
    "ltot = sys.getsizeof(l) + (sys.getsizeof(l[0])*len(l))\n",
    "print(\"Total:\", ltot)\n",
    "\n",
    "arr = np.array(l, dtype='i4')\n",
    "print(\"\\nBytes used by array elements:\", arr.nbytes)\n",
    "print(\"Plus bytes used by of array:\", sys.getsizeof(arr))\n",
    "arrtot = arr.nbytes + sys.getsizeof(arr)\n",
    "print(\"Total:\", arrtot)\n",
    "\n",
    "print(\"\")\n",
    "print(\"The list is\", ltot-arrtot,\"bytes bigger\")\n",
    "print(\"Or, the list is\", (ltot-arrtot)/arrtot, \"times bigger than the array\")"
   ]
  },
  {
   "cell_type": "markdown",
   "metadata": {},
   "source": [
    "# Profiling with Accelerate"
   ]
  },
  {
   "cell_type": "markdown",
   "metadata": {},
   "source": [
    "The `accelerate` package contains a `profiler` module which extends the profiling functionality found in core python. \n",
    "\n",
    "We will see this demonstrated in the next notebook."
   ]
  },
  {
   "cell_type": "markdown",
   "metadata": {},
   "source": [
    "---"
   ]
  },
  {
   "cell_type": "markdown",
   "metadata": {},
   "source": [
    "<br>\n",
    "*Copyright Continuum 2012-2016 All Rights Reserved.*"
   ]
  }
 ],
 "metadata": {
  "anaconda-cloud": {},
  "continuum": {
   "depends": [
    "np_join"
   ],
   "requires": [
    "src/*",
    "src/optimization/*"
   ],
   "tag": "pyopt_intro"
  },
  "kernelspec": {
   "display_name": "Python [conda env:iqt]",
   "language": "python",
   "name": "conda-env-iqt-py"
  },
  "language_info": {
   "codemirror_mode": {
    "name": "ipython",
    "version": 3
   },
   "file_extension": ".py",
   "mimetype": "text/x-python",
   "name": "python",
   "nbconvert_exporter": "python",
   "pygments_lexer": "ipython3",
   "version": "3.5.2"
  }
 },
 "nbformat": 4,
 "nbformat_minor": 0
}
