{
 "cells": [
  {
   "cell_type": "markdown",
   "metadata": {},
   "source": [
    "![\"Anaconda\"](img/anaconda-logo.png)"
   ]
  },
  {
   "cell_type": "markdown",
   "metadata": {},
   "source": [
    "*Copyright Continuum 2012-2016 All Rights Reserved.*"
   ]
  },
  {
   "cell_type": "markdown",
   "metadata": {},
   "source": [
    "# Jupyter Notebooks"
   ]
  },
  {
   "cell_type": "markdown",
   "metadata": {},
   "source": [
    "[Jupyter notebooks](https://jupyter.org/) (formerly called an IPython notebook) serve as an interactive graphical python development and presentation environment.\n",
    "\n",
    "Jupyter Notebooks...\n",
    "* contain `source code`, ***markdown***, equations with $\\LaTeX$, and data visualizations.\n",
    "\n",
    "* allow you to \"tell your data analysis narrative\".\n",
    "\n",
    "* facilitate \"Literate Programming\" as a mode of communication.\n",
    "\n",
    "* support many languages: Python, R, Julia and Scala and more."
   ]
  },
  {
   "cell_type": "markdown",
   "metadata": {},
   "source": [
    "## Table of Contents\n",
    "* [Jupyter Notebooks](#Jupyter-Notebooks)\n",
    "* [The Ecosystem](#The-Ecosystem)\n",
    "* [Getting Started](#Getting-Started)\n",
    "\t* [Starting your notebook session](#Starting-your-notebook-session)\n",
    "\t* [Notebook Interface Features](#Notebook-Interface-Features)\n",
    "\t\t* [Notebook Header](#Notebook-Header)\n",
    "\t\t* [Notebook Menus](#Notebook-Menus)\n",
    "\t\t* [Notebook Toolbar](#Notebook-Toolbar)\n",
    "\t* [Notebook Cells](#Notebook-Cells)\n",
    "\t\t* [Markdown Cells](#Markdown-Cells)\n",
    "\t\t* [Code Cells](#Code-Cells)\n",
    "\t* [Extending Capability with Imports](#Extending-Capability-with-Imports)\n",
    "* [The Notebook Kernel](#The-Notebook-Kernel)\n",
    "* [Which Python Version?](#Which-Python-Version?)\n",
    "\t* [Version Numbers](#Version-Numbers)\n",
    "\t\t* [More information from `sys`](#More-information-from-sys)\n",
    "\t* [Future-Proof Code](#Future-Proof-Code)\n"
   ]
  },
  {
   "cell_type": "markdown",
   "metadata": {},
   "source": [
    "# The Ecosystem"
   ]
  },
  {
   "cell_type": "markdown",
   "metadata": {},
   "source": [
    "The Python ecosystem of tools for data science and data analysis: those higher up in the diagram build upon those beneath them."
   ]
  },
  {
   "cell_type": "markdown",
   "metadata": {},
   "source": [
    "![PyData Stack](../img/pydata-stack.png)"
   ]
  },
  {
   "cell_type": "markdown",
   "metadata": {},
   "source": [
    "# Getting Started"
   ]
  },
  {
   "cell_type": "markdown",
   "metadata": {},
   "source": [
    "## Starting your notebook session"
   ]
  },
  {
   "cell_type": "markdown",
   "metadata": {},
   "source": [
    "1. launch your terminal\n",
    "2. activate your conda environment (your notebook will inherit the active env)\n",
    "3. `cd` to the directory where the course was extracted\n",
    "4. from the terminal, execute the following command: `jupyter notebook`\n",
    "5. from the Jupyter notebook menu, select \"*New > Notebooks > Python 3*\" or \"*Python 2*\""
   ]
  },
  {
   "cell_type": "markdown",
   "metadata": {},
   "source": [
    "## Notebook Interface Features"
   ]
  },
  {
   "cell_type": "markdown",
   "metadata": {},
   "source": [
    "\"Menubar > Help > User Interface Tour\""
   ]
  },
  {
   "cell_type": "markdown",
   "metadata": {},
   "source": [
    "### Notebook Header"
   ]
  },
  {
   "cell_type": "markdown",
   "metadata": {},
   "source": [
    "<img src=\"img/jupyter-header.png\" align=\"left\" width = \"80%\"/>"
   ]
  },
  {
   "cell_type": "markdown",
   "metadata": {},
   "source": [
    "* Jupyter Logo -> Link to Notebook Home Directory\n",
    "* File Name -> Editable\n",
    "* Last Checkpoint -> last save checkpoint\n",
    "* Hide header for more screen space (  `View > Toggle Header`  )"
   ]
  },
  {
   "cell_type": "markdown",
   "metadata": {},
   "source": [
    "### Notebook Menus"
   ]
  },
  {
   "cell_type": "markdown",
   "metadata": {},
   "source": [
    "<img src=\"img/jupyter-menu.png\" align=\"left\"/>"
   ]
  },
  {
   "cell_type": "markdown",
   "metadata": {},
   "source": [
    "* File\n",
    "* Edit\n",
    "* View\n",
    "* Insert\n",
    "* Cell\n",
    "* Kernel\n",
    "* Help"
   ]
  },
  {
   "cell_type": "markdown",
   "metadata": {},
   "source": [
    "*...for keyboard shortcuts, click outside cells, press the `h` key.*"
   ]
  },
  {
   "cell_type": "markdown",
   "metadata": {},
   "source": [
    "<img src=\"img/jupyter-shortcuts.png\" align=\"left\" width=\"80%\"/>"
   ]
  },
  {
   "cell_type": "markdown",
   "metadata": {},
   "source": [
    "### Notebook Toolbar"
   ]
  },
  {
   "cell_type": "markdown",
   "metadata": {},
   "source": [
    "<img src=\"img/jupyter-toolbar.png\" align=\"left\" width=\"80%\"/>"
   ]
  },
  {
   "cell_type": "markdown",
   "metadata": {},
   "source": [
    "* Save\n",
    "* Insert a Cell\n",
    "* Cut, Copy, Paste\n",
    "* Up, Down\n",
    "* Play, Stop, Refresh\n",
    "* Cell Type Menu\n",
    "* Cell Toolbar Menu\n",
    "* Optional Extensions"
   ]
  },
  {
   "cell_type": "markdown",
   "metadata": {},
   "source": [
    "<img src=\"img/jupyter-toolbar-extensions.png\" align=\"left\" width=\"50%\"/>"
   ]
  },
  {
   "cell_type": "markdown",
   "metadata": {},
   "source": [
    "## Notebook Cells"
   ]
  },
  {
   "cell_type": "markdown",
   "metadata": {},
   "source": [
    "Let's experiment in the next few cells.\n",
    "* Select a cell with your mouse. It is now the active cell.\n",
    "* ``<Shift><Enter>`` will execute the cell, and advance to the next cell.\n",
    "* ``<Control><Enter>`` will only execute the active cell, without advancing."
   ]
  },
  {
   "cell_type": "markdown",
   "metadata": {},
   "source": [
    "### Markdown Cells"
   ]
  },
  {
   "cell_type": "markdown",
   "metadata": {},
   "source": [
    "The notebook supports \"markdown\" cells: check the cell type menu on the Toolbar."
   ]
  },
  {
   "cell_type": "markdown",
   "metadata": {},
   "source": [
    "Double-click on and of the folloing cells to change the cell to \"Edit Mode\", type changes, and then ``<Control><Enter>`` or ``<Shift><Enter>`` to \"render\" the cell:"
   ]
  },
  {
   "cell_type": "markdown",
   "metadata": {},
   "source": [
    "**Example 1**\n",
    "\n",
    "Example of *common* **markdown** ***features***:\n",
    "\n",
    "A bullet list:\n",
    "* first item in bullet list\n",
    "    * indented list item\n",
    "        * another indent\n",
    "            * yet another\n",
    "* second item in list\n",
    "* reference to some code using back-ticks: `pi = 3.14159`\n",
    "\n",
    "A numbered list:\n",
    "1. this is first\n",
    "2. this is second\n",
    "1. this is third\n",
    "\n",
    "An inlined quote:\n",
    "\n",
    "> *In the face of ambiguity, refuse the temptation to guess.*\n"
   ]
  },
  {
   "cell_type": "markdown",
   "metadata": {},
   "source": [
    "**Example 2**\n",
    "\n",
    "```bash\n",
    "# Example bash script syntax coloring\n",
    "ls -ltrh | awk '{print $9}' | xargs echo\n",
    "```"
   ]
  },
  {
   "cell_type": "markdown",
   "metadata": {},
   "source": [
    "**Example 3**\n",
    "\n",
    "Example math type-setting using embedded $\\LaTeX$:\n",
    "\n",
    "Use double `$$` to have it stand out like this: $$\\frac{360}{2\\pi}$$\n",
    "\n",
    "Use single `$` to have equations inlined like this $e^{i \\pi} = -1$ within a sentence. "
   ]
  },
  {
   "cell_type": "markdown",
   "metadata": {},
   "source": [
    "**Example 4**\n",
    "\n",
    "Example of embedded HTML:\n",
    "\n",
    "<img src='img/anaconda-logo.png' align='left' style=\"padding:10px\" width=\"50%\">"
   ]
  },
  {
   "cell_type": "markdown",
   "metadata": {},
   "source": [
    "### Code Cells"
   ]
  },
  {
   "cell_type": "markdown",
   "metadata": {},
   "source": [
    "Create a new cell, and the default type is code cell.\n",
    "Code cells act like python interpreters, based on the python environment from which the notebook was launched."
   ]
  },
  {
   "cell_type": "code",
   "execution_count": null,
   "metadata": {
    "collapsed": true
   },
   "outputs": [],
   "source": [
    "# variable assignment, or \"name binding\"\n",
    "name = \"Anaconda\""
   ]
  },
  {
   "cell_type": "code",
   "execution_count": null,
   "metadata": {
    "collapsed": false
   },
   "outputs": [],
   "source": [
    "# function calls\n",
    "print(name)"
   ]
  },
  {
   "cell_type": "code",
   "execution_count": null,
   "metadata": {
    "collapsed": false
   },
   "outputs": [],
   "source": [
    "# String handling\n",
    "print(\"Hello, world!\")"
   ]
  },
  {
   "cell_type": "code",
   "execution_count": null,
   "metadata": {
    "collapsed": false
   },
   "outputs": [],
   "source": [
    "print( \"Hello \" + name )"
   ]
  },
  {
   "cell_type": "code",
   "execution_count": null,
   "metadata": {
    "collapsed": true
   },
   "outputs": [],
   "source": [
    "x = 42"
   ]
  },
  {
   "cell_type": "markdown",
   "metadata": {},
   "source": [
    "Notice the `In[1]:` and  `Out[1]:` above"
   ]
  },
  {
   "cell_type": "code",
   "execution_count": null,
   "metadata": {
    "collapsed": false
   },
   "outputs": [],
   "source": [
    "whos"
   ]
  },
  {
   "cell_type": "markdown",
   "metadata": {},
   "source": [
    "Basic mathematics:"
   ]
  },
  {
   "cell_type": "code",
   "execution_count": null,
   "metadata": {
    "collapsed": false
   },
   "outputs": [],
   "source": [
    "1 + 1 + 2 + 3 + 5 + 8"
   ]
  },
  {
   "cell_type": "code",
   "execution_count": null,
   "metadata": {
    "collapsed": false
   },
   "outputs": [],
   "source": [
    "# assignment and math\n",
    "year = 2016\n",
    "year + 1"
   ]
  },
  {
   "cell_type": "markdown",
   "metadata": {},
   "source": [
    "## Extending Capability with Imports"
   ]
  },
  {
   "cell_type": "markdown",
   "metadata": {},
   "source": [
    "Additional features are added by using `import` statements to bring in additional libraries:"
   ]
  },
  {
   "cell_type": "code",
   "execution_count": null,
   "metadata": {
    "collapsed": false
   },
   "outputs": [],
   "source": [
    "import math\n",
    "math.pi"
   ]
  },
  {
   "cell_type": "markdown",
   "metadata": {},
   "source": [
    "Variables may be assigned (\"bound\") to values or expressions and passed to functions:"
   ]
  },
  {
   "cell_type": "code",
   "execution_count": null,
   "metadata": {
    "collapsed": false
   },
   "outputs": [],
   "source": [
    "angle_in_deg = 90\n",
    "deg_to_rad = 2*math.pi/360\n",
    "angle_in_rad = angle_in_deg * deg_to_rad\n",
    "math.sin( angle_in_rad )"
   ]
  },
  {
   "cell_type": "markdown",
   "metadata": {},
   "source": [
    "For better math, use the Numpy module:"
   ]
  },
  {
   "cell_type": "code",
   "execution_count": null,
   "metadata": {
    "collapsed": false
   },
   "outputs": [],
   "source": [
    "import numpy\n",
    "x = numpy.linspace(0,numpy.pi*2)\n",
    "y = numpy.sin(x)\n",
    "print(y)"
   ]
  },
  {
   "cell_type": "markdown",
   "metadata": {},
   "source": [
    "The notebook supports inlined plotting"
   ]
  },
  {
   "cell_type": "code",
   "execution_count": null,
   "metadata": {
    "collapsed": true
   },
   "outputs": [],
   "source": [
    "import matplotlib\n",
    "%matplotlib inline"
   ]
  },
  {
   "cell_type": "code",
   "execution_count": null,
   "metadata": {
    "collapsed": false
   },
   "outputs": [],
   "source": [
    "matplotlib.pyplot.plot(x,y)"
   ]
  },
  {
   "cell_type": "markdown",
   "metadata": {},
   "source": [
    "Import statements can be used for more than just math and plotting libraries:"
   ]
  },
  {
   "cell_type": "code",
   "execution_count": null,
   "metadata": {
    "collapsed": false
   },
   "outputs": [],
   "source": [
    "import this  # This command loads a module that prints the Zen of Python."
   ]
  },
  {
   "cell_type": "code",
   "execution_count": null,
   "metadata": {
    "collapsed": true
   },
   "outputs": [],
   "source": [
    "import antigravity # This command opens a new browser page or tab with an xkcd comic."
   ]
  },
  {
   "cell_type": "markdown",
   "metadata": {},
   "source": [
    "# The Notebook Kernel"
   ]
  },
  {
   "cell_type": "markdown",
   "metadata": {},
   "source": [
    "The interpret and conda environment used is shown on the far left edge of the Jupyer menu:"
   ]
  },
  {
   "cell_type": "markdown",
   "metadata": {},
   "source": [
    "<img src=\"img/jupyter-kernel-display.png\" align=\"left\" width=\"30%\">"
   ]
  },
  {
   "cell_type": "markdown",
   "metadata": {},
   "source": [
    "The kernel running may be changed on the Jupyter menu, via the **Kernel > Change Kernel** menu item:"
   ]
  },
  {
   "cell_type": "markdown",
   "metadata": {},
   "source": [
    "<img src=\"img/jupyter-menu-kernel.png\" align=\"left\" width=\"30%\">"
   ]
  },
  {
   "cell_type": "markdown",
   "metadata": {},
   "source": [
    "The kernel and the notebook outputs may be reset from the same menu, using the **Kernel > Restart & Clear Output** menu item"
   ]
  },
  {
   "cell_type": "markdown",
   "metadata": {},
   "source": [
    "<img src=\"img/jupyter-kernel-reset.png\" align=\"left\" width=\"80%\"/>"
   ]
  },
  {
   "cell_type": "markdown",
   "metadata": {},
   "source": [
    "# Which Python Version?"
   ]
  },
  {
   "cell_type": "code",
   "execution_count": null,
   "metadata": {
    "collapsed": false
   },
   "outputs": [],
   "source": [
    "# What happens when you run this? Compare with others.\n",
    "print \"hello world\""
   ]
  },
  {
   "cell_type": "code",
   "execution_count": null,
   "metadata": {
    "collapsed": false
   },
   "outputs": [],
   "source": [
    "print(\"hello world\") "
   ]
  },
  {
   "cell_type": "code",
   "execution_count": null,
   "metadata": {
    "collapsed": false
   },
   "outputs": [],
   "source": [
    "# What happens when you run this? Compare with others.\n",
    "3/2"
   ]
  },
  {
   "cell_type": "code",
   "execution_count": null,
   "metadata": {
    "collapsed": false
   },
   "outputs": [],
   "source": [
    "3//2"
   ]
  },
  {
   "cell_type": "markdown",
   "metadata": {},
   "source": [
    "* There are two versions of Python that are popular: Python 2 and Python 3.\n",
    "* Code that you receive from colleagues may not specify the version.\n",
    "* Whether you use Python 2, Python 3, or both, it is very important to be able to recognize the differences."
   ]
  },
  {
   "cell_type": "markdown",
   "metadata": {},
   "source": [
    "This course material can be run in Python 2.7 and Python 3.5. \n",
    "* There will be some inevitable exceptions\n",
    "* Some specific modules in the open-source ecosystem have not provided support for both. \n",
    "* Cases where the behavior of Python 3 differs from Python 2 will be marked as: <b><font color='blue'>Python 2 vs 3</b></big>"
   ]
  },
  {
   "cell_type": "markdown",
   "metadata": {},
   "source": [
    "*Python 3 was released in December of 2008. Community support for Python 2 ends in 2020.*"
   ]
  },
  {
   "cell_type": "markdown",
   "metadata": {},
   "source": [
    "## Version Numbers"
   ]
  },
  {
   "cell_type": "code",
   "execution_count": null,
   "metadata": {
    "collapsed": true
   },
   "outputs": [],
   "source": [
    "# This command loads the \"sys\" module into the Python session\n",
    "import sys"
   ]
  },
  {
   "cell_type": "code",
   "execution_count": null,
   "metadata": {
    "collapsed": false
   },
   "outputs": [],
   "source": [
    "# This command prints the string \"version\" that from the \"sys\" module (an attribute)\n",
    "print(sys.version) "
   ]
  },
  {
   "cell_type": "markdown",
   "metadata": {},
   "source": [
    "The last cell above shows you what version number of Python you are currently running. The version number has the form\n",
    "``MAJOR.MINOR.MICRO``, e.g. ``1.5.2`` means *major* version 1, *minor* version 5, and *micro* version 2. The meanings of these revision levels are as follows:\n",
    "* Major version: Significant change to language structure (grammar and reserved words) and implementation.\n",
    "* Minor version: Attempts to be forward- and backward-compatible, but introduces new *Standard Library* modules or updates to existing modules.\n",
    "    * forward-/backward-compatibility is not guaranteed\n",
    "    * at least 2 minor versions advance notice is given of language changes\n",
    "* Micro version: only bug fixes-no language or API changes"
   ]
  },
  {
   "cell_type": "markdown",
   "metadata": {},
   "source": [
    "### More information from `sys`"
   ]
  },
  {
   "cell_type": "markdown",
   "metadata": {},
   "source": [
    "We can use a few more commands to extract more information about the ``sys`` module just loaded into the Python session."
   ]
  },
  {
   "cell_type": "code",
   "execution_count": null,
   "metadata": {
    "collapsed": false,
    "scrolled": true
   },
   "outputs": [],
   "source": [
    "help(sys)"
   ]
  },
  {
   "cell_type": "code",
   "execution_count": null,
   "metadata": {
    "collapsed": false
   },
   "outputs": [],
   "source": [
    "print(sys.flags)\n",
    "print(sys.version_info)"
   ]
  },
  {
   "cell_type": "code",
   "execution_count": null,
   "metadata": {
    "collapsed": false
   },
   "outputs": [],
   "source": [
    "sys.version_info.major"
   ]
  },
  {
   "cell_type": "markdown",
   "metadata": {},
   "source": [
    "## Future-Proof Code"
   ]
  },
  {
   "cell_type": "markdown",
   "metadata": {},
   "source": [
    "Whether using Python 2 or 3, a common way to avoid compatibility issues, and to make future migrations and code-sharing less expensive, is to use the [Python-Future](http://python-future.org/) module."
   ]
  },
  {
   "cell_type": "markdown",
   "metadata": {},
   "source": [
    "To install the `future` module, execute the following cell:"
   ]
  },
  {
   "cell_type": "code",
   "execution_count": null,
   "metadata": {
    "collapsed": true
   },
   "outputs": [],
   "source": [
    "!conda install -y future"
   ]
  },
  {
   "cell_type": "markdown",
   "metadata": {},
   "source": [
    "To use the `future` module, the most commonly used tools are shown in the import statement below:"
   ]
  },
  {
   "cell_type": "code",
   "execution_count": null,
   "metadata": {
    "collapsed": true
   },
   "outputs": [],
   "source": [
    "from future import standard_library\n",
    "standard_library.install_aliases()\n",
    "from future.builtins import (\n",
    "         bytes, dict, int, list, object, range, str,\n",
    "         ascii, chr, hex, input, next, oct, open,\n",
    "         pow, round, super, filter, map, zip)"
   ]
  },
  {
   "cell_type": "markdown",
   "metadata": {},
   "source": [
    "Even without installing `future`, use of the built-in `__future__` module can address some of the most common compatibility issues:"
   ]
  },
  {
   "cell_type": "code",
   "execution_count": null,
   "metadata": {
    "collapsed": true
   },
   "outputs": [],
   "source": [
    "from __future__ import (absolute_import, division,\n",
    "                        print_function, unicode_literals)"
   ]
  },
  {
   "cell_type": "markdown",
   "metadata": {},
   "source": [
    "For example, using the `__future__` import above, the following code will run in either python 2 or 3:"
   ]
  },
  {
   "cell_type": "code",
   "execution_count": null,
   "metadata": {
    "collapsed": false
   },
   "outputs": [],
   "source": [
    "print( 'Hello World' )  # note the parenthesis: print as a function, not a keyword"
   ]
  },
  {
   "cell_type": "markdown",
   "metadata": {},
   "source": [
    "For more details on future-proofing your code, whether using Python 2 or 3, see [the overview at python-future.org](http://python-future.org/compatible_idioms.html)"
   ]
  },
  {
   "cell_type": "markdown",
   "metadata": {},
   "source": [
    "---"
   ]
  },
  {
   "cell_type": "markdown",
   "metadata": {},
   "source": [
    "*Copyright Continuum 2012-2016 All Rights Reserved.*"
   ]
  }
 ],
 "metadata": {
  "anaconda-cloud": {},
  "continuum": {
   "depends": [],
   "requires": [
    "img/python-version.png",
    "img/PyData_Stack.png",
    "img/topics/Best-Practice.png",
    "img/topics/Advanced-Concept.png",
    "img/topics/Essential-Concept.png"
   ],
   "tag": "adv_setup"
  },
  "kernelspec": {
   "display_name": "Python [Root]",
   "language": "python",
   "name": "Python [Root]"
  },
  "language_info": {
   "codemirror_mode": {
    "name": "ipython",
    "version": 3
   },
   "file_extension": ".py",
   "mimetype": "text/x-python",
   "name": "python",
   "nbconvert_exporter": "python",
   "pygments_lexer": "ipython3",
   "version": "3.5.2"
  }
 },
 "nbformat": 4,
 "nbformat_minor": 0
}
